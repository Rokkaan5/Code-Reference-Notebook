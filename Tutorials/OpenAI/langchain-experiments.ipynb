{
  "cells": [
    {
      "cell_type": "raw",
      "id": "74d6e347",
      "metadata": {},
      "source": [
        "---\n",
        "title: langchain-experiments\n",
        "author: Dave Ebbelaar\n",
        "format:\n",
        "  html:\n",
        "    code-fold: false\n",
        "execute:\n",
        "  output: true\n",
        "toc: true\n",
        "---"
      ]
    },
    {
      "cell_type": "markdown",
      "id": "ffbaf17f",
      "metadata": {},
      "source": [
        "---\n",
        "\n",
        "OpenAI [Function Calling](https://platform.openai.com/docs/guides/function-calling) tutorial by *Dave Ebbelaar*, made into a Quarto Rendered Jupyter Notebook (by me)\n",
        "\n",
        "- YouTube Video: <https://youtu.be/aqdWSYWC_LI?feature=shared>\n",
        "- GitHub Repo: <https://github.com/daveebbelaar/langchain-experiments/tree/main?tab=readme-ov-file>\n",
        "\n",
        "---"
      ]
    },
    {
      "cell_type": "code",
      "execution_count": 1,
      "id": "ecd97c25",
      "metadata": {},
      "outputs": [],
      "source": [
        "# --------------------------------------------------------------\n",
        "# Import Modules\n",
        "# --------------------------------------------------------------\n",
        "\n",
        "import os\n",
        "import json\n",
        "import openai\n",
        "from datetime import datetime, timedelta\n",
        "from dotenv import load_dotenv\n",
        "from langchain.chat_models import ChatOpenAI\n",
        "from langchain.schema import HumanMessage, AIMessage, ChatMessage\n",
        "\n",
        "\n",
        "# --------------------------------------------------------------\n",
        "# Load OpenAI API Token From the .env File\n",
        "# --------------------------------------------------------------\n",
        "\n",
        "load_dotenv()\n",
        "openai.api_key = os.getenv(\"OPENAI_API_KEY\")"
      ]
    },
    {
      "cell_type": "markdown",
      "id": "7ec4bc6c",
      "metadata": {},
      "source": [
        "# Ask ChatGPT a Question\n"
      ]
    },
    {
      "cell_type": "code",
      "execution_count": 2,
      "id": "c982d803",
      "metadata": {},
      "outputs": [
        {
          "name": "stdout",
          "output_type": "stream",
          "text": [
            "I apologize, but I am an AI language model and I don't have real-time information on flight schedules. It is recommended to check with airlines or travel websites for the most up-to-date information regarding the next flight from Amsterdam to New York.\n"
          ]
        }
      ],
      "source": [
        "completion = openai.chat.completions.create(\n",
        "    model=\"gpt-3.5-turbo-0613\",\n",
        "    messages=[\n",
        "        {\n",
        "            \"role\": \"user\",\n",
        "            \"content\": \"When's the next flight from Amsterdam to New York?\",\n",
        "        },\n",
        "    ],\n",
        ")\n",
        "\n",
        "output = completion.choices[0].message.content\n",
        "print(output)"
      ]
    },
    {
      "cell_type": "markdown",
      "id": "d660ad51",
      "metadata": {},
      "source": [
        "# Use OpenAI’s Function Calling Feature\n"
      ]
    },
    {
      "cell_type": "code",
      "execution_count": 3,
      "id": "e9e7a63f",
      "metadata": {},
      "outputs": [],
      "source": [
        "function_descriptions = [\n",
        "    {\n",
        "        \"name\": \"get_flight_info\",\n",
        "        \"description\": \"Get flight information between two locations\",\n",
        "        \"parameters\": {\n",
        "            \"type\": \"object\",\n",
        "            \"properties\": {\n",
        "                \"loc_origin\": {\n",
        "                    \"type\": \"string\",\n",
        "                    \"description\": \"The departure airport, e.g. DUS\",\n",
        "                },\n",
        "                \"loc_destination\": {\n",
        "                    \"type\": \"string\",\n",
        "                    \"description\": \"The destination airport, e.g. HAM\",\n",
        "                },\n",
        "            },\n",
        "            \"required\": [\"loc_origin\", \"loc_destination\"],\n",
        "        },\n",
        "    }\n",
        "]\n",
        "\n",
        "user_prompt = \"When's the next flight from Amsterdam to New York?\"\n",
        "\n",
        "completion = openai.chat.completions.create(\n",
        "    model=\"gpt-3.5-turbo-0613\",\n",
        "    messages=[{\"role\": \"user\", \"content\": user_prompt}],\n",
        "    # Add function calling\n",
        "    functions=function_descriptions,\n",
        "    function_call=\"auto\",  # specify the function call\n",
        ")"
      ]
    },
    {
      "cell_type": "markdown",
      "id": "c66e7828",
      "metadata": {},
      "source": [
        "It automatically fills the arguments with correct info based on the prompt\n",
        "\n",
        "Note: the function does not exist yet"
      ]
    },
    {
      "cell_type": "code",
      "execution_count": 4,
      "id": "123c9d94",
      "metadata": {},
      "outputs": [
        {
          "name": "stdout",
          "output_type": "stream",
          "text": [
            "ChatCompletionMessage(content=None, role='assistant', function_call=FunctionCall(arguments='{\\n  \"loc_origin\": \"AMS\",\\n  \"loc_destination\": \"JFK\"\\n}', name='get_flight_info'), tool_calls=None)\n"
          ]
        }
      ],
      "source": [
        "output = completion.choices[0].message\n",
        "print(output)"
      ]
    },
    {
      "cell_type": "markdown",
      "id": "31f0bb02",
      "metadata": {},
      "source": [
        "# Add a Function\n"
      ]
    },
    {
      "cell_type": "code",
      "execution_count": 5,
      "id": "f3e42da0",
      "metadata": {},
      "outputs": [],
      "source": [
        "def get_flight_info(loc_origin, loc_destination):\n",
        "    \"\"\"Get flight information between two locations.\"\"\"\n",
        "\n",
        "    # Example output returned from an API or database\n",
        "    flight_info = {\n",
        "        \"loc_origin\": loc_origin,\n",
        "        \"loc_destination\": loc_destination,\n",
        "        \"datetime\": str(datetime.now() + timedelta(hours=2)),\n",
        "        \"airline\": \"KLM\",\n",
        "        \"flight\": \"KL643\",\n",
        "    }\n",
        "\n",
        "    return json.dumps(flight_info)"
      ]
    },
    {
      "cell_type": "markdown",
      "id": "b0bda1f8",
      "metadata": {},
      "source": [
        "Use the LLM output to manually call the function\n",
        "\n",
        "The `json.loads` function converts the string to a Python object\n"
      ]
    },
    {
      "cell_type": "code",
      "execution_count": 6,
      "id": "6424c057",
      "metadata": {},
      "outputs": [
        {
          "data": {
            "text/plain": [
              "dict"
            ]
          },
          "execution_count": 6,
          "metadata": {},
          "output_type": "execute_result"
        }
      ],
      "source": [
        "origin = json.loads(output.function_call.arguments).get(\"loc_origin\")\n",
        "destination = json.loads(output.function_call.arguments).get(\"loc_destination\")\n",
        "params = json.loads(output.function_call.arguments)\n",
        "type(params)"
      ]
    },
    {
      "cell_type": "code",
      "execution_count": 7,
      "id": "3c18bb77",
      "metadata": {},
      "outputs": [
        {
          "name": "stdout",
          "output_type": "stream",
          "text": [
            "AMS\n",
            "JFK\n",
            "{'loc_origin': 'AMS', 'loc_destination': 'JFK'}\n"
          ]
        }
      ],
      "source": [
        "print(origin)\n",
        "print(destination)\n",
        "print(params)"
      ]
    },
    {
      "cell_type": "markdown",
      "id": "73e3f48e",
      "metadata": {},
      "source": [
        "## Call the function with arguments"
      ]
    },
    {
      "cell_type": "code",
      "execution_count": 8,
      "id": "3bff54cb",
      "metadata": {},
      "outputs": [
        {
          "name": "stdout",
          "output_type": "stream",
          "text": [
            "{\"loc_origin\": \"AMS\", \"loc_destination\": \"JFK\", \"datetime\": \"2024-03-25 19:45:23.050928\", \"airline\": \"KLM\", \"flight\": \"KL643\"}\n"
          ]
        }
      ],
      "source": [
        "chosen_function = eval(output.function_call.name)\n",
        "flight = chosen_function(**params)\n",
        "\n",
        "print(flight)"
      ]
    },
    {
      "cell_type": "markdown",
      "id": "8e1d37c5",
      "metadata": {},
      "source": [
        "# Add function result to the prompt for a final answer\n"
      ]
    },
    {
      "cell_type": "code",
      "execution_count": 9,
      "id": "4c762369",
      "metadata": {},
      "outputs": [
        {
          "name": "stdout",
          "output_type": "stream",
          "text": [
            "The next flight from Amsterdam (AMS) to New York (JFK) is on March 25, 2024 at 19:45. The flight is operated by KLM and the flight number is KL643.\n"
          ]
        }
      ],
      "source": [
        "# The key is to add the function output back to the messages with role: function\n",
        "second_completion = openai.chat.completions.create(\n",
        "    model=\"gpt-3.5-turbo-0613\",\n",
        "    messages=[\n",
        "        {\"role\": \"user\", \"content\": user_prompt},\n",
        "        {\"role\": \"function\", \"name\": output.function_call.name, \"content\": flight},\n",
        "    ],\n",
        "    functions=function_descriptions,\n",
        ")\n",
        "response = second_completion.choices[0].message.content\n",
        "print(response)"
      ]
    },
    {
      "cell_type": "markdown",
      "id": "53105435",
      "metadata": {},
      "source": [
        "## Include Multiple Functions\n"
      ]
    },
    {
      "cell_type": "code",
      "execution_count": 10,
      "id": "e0ac276d",
      "metadata": {},
      "outputs": [
        {
          "name": "stdout",
          "output_type": "stream",
          "text": [
            "[{'name': 'get_flight_info', 'description': 'Get flight information between two locations', 'parameters': {'type': 'object', 'properties': {'loc_origin': {'type': 'string', 'description': 'The departure airport, e.g. DUS'}, 'loc_destination': {'type': 'string', 'description': 'The destination airport, e.g. HAM'}}, 'required': ['loc_origin', 'loc_destination']}}, {'name': 'book_flight', 'description': 'Book a flight based on flight information', 'parameters': {'type': 'object', 'properties': {'loc_origin': {'type': 'string', 'description': 'The departure airport, e.g. DUS'}, 'loc_destination': {'type': 'string', 'description': 'The destination airport, e.g. HAM'}, 'datetime': {'type': 'string', 'description': 'The date and time of the flight, e.g. 2023-01-01 01:01'}, 'airline': {'type': 'string', 'description': 'The service airline, e.g. Lufthansa'}}, 'required': ['loc_origin', 'loc_destination', 'datetime', 'airline']}}, {'name': 'file_complaint', 'description': 'File a complaint as a customer', 'parameters': {'type': 'object', 'properties': {'name': {'type': 'string', 'description': 'The name of the user, e.g. John Doe'}, 'email': {'type': 'string', 'description': 'The email address of the user, e.g. john@doe.com'}, 'text': {'type': 'string', 'description': 'Description of issue'}}, 'required': ['name', 'email', 'text']}}]\n"
          ]
        }
      ],
      "source": [
        "# Expand on function descriptions (3 functions)\n",
        "\n",
        "function_descriptions_multiple = [\n",
        "    {\n",
        "        \"name\": \"get_flight_info\",\n",
        "        \"description\": \"Get flight information between two locations\",\n",
        "        \"parameters\": {\n",
        "            \"type\": \"object\",\n",
        "            \"properties\": {\n",
        "                \"loc_origin\": {\n",
        "                    \"type\": \"string\",\n",
        "                    \"description\": \"The departure airport, e.g. DUS\",\n",
        "                },\n",
        "                \"loc_destination\": {\n",
        "                    \"type\": \"string\",\n",
        "                    \"description\": \"The destination airport, e.g. HAM\",\n",
        "                },\n",
        "            },\n",
        "            \"required\": [\"loc_origin\", \"loc_destination\"],\n",
        "        },\n",
        "    },\n",
        "    {\n",
        "        \"name\": \"book_flight\",\n",
        "        \"description\": \"Book a flight based on flight information\",\n",
        "        \"parameters\": {\n",
        "            \"type\": \"object\",\n",
        "            \"properties\": {\n",
        "                \"loc_origin\": {\n",
        "                    \"type\": \"string\",\n",
        "                    \"description\": \"The departure airport, e.g. DUS\",\n",
        "                },\n",
        "                \"loc_destination\": {\n",
        "                    \"type\": \"string\",\n",
        "                    \"description\": \"The destination airport, e.g. HAM\",\n",
        "                },\n",
        "                \"datetime\": {\n",
        "                    \"type\": \"string\",\n",
        "                    \"description\": \"The date and time of the flight, e.g. 2023-01-01 01:01\",\n",
        "                },\n",
        "                \"airline\": {\n",
        "                    \"type\": \"string\",\n",
        "                    \"description\": \"The service airline, e.g. Lufthansa\",\n",
        "                },\n",
        "            },\n",
        "            \"required\": [\"loc_origin\", \"loc_destination\", \"datetime\", \"airline\"],\n",
        "        },\n",
        "    },\n",
        "    {\n",
        "        \"name\": \"file_complaint\",\n",
        "        \"description\": \"File a complaint as a customer\",\n",
        "        \"parameters\": {\n",
        "            \"type\": \"object\",\n",
        "            \"properties\": {\n",
        "                \"name\": {\n",
        "                    \"type\": \"string\",\n",
        "                    \"description\": \"The name of the user, e.g. John Doe\",\n",
        "                },\n",
        "                \"email\": {\n",
        "                    \"type\": \"string\",\n",
        "                    \"description\": \"The email address of the user, e.g. john@doe.com\",\n",
        "                },\n",
        "                \"text\": {\n",
        "                    \"type\": \"string\",\n",
        "                    \"description\": \"Description of issue\",\n",
        "                },\n",
        "            },\n",
        "            \"required\": [\"name\", \"email\", \"text\"],\n",
        "        },\n",
        "    },\n",
        "]\n",
        "\n",
        "print(function_descriptions_multiple)"
      ]
    },
    {
      "cell_type": "code",
      "execution_count": 11,
      "id": "6bb7a4ff",
      "metadata": {},
      "outputs": [],
      "source": [
        "def ask_and_reply(prompt):\n",
        "    \"\"\"Give LLM a given prompt and get an answer.\"\"\"\n",
        "\n",
        "    completion = openai.chat.completions.create(\n",
        "        model=\"gpt-3.5-turbo-0613\",\n",
        "        messages=[{\"role\": \"user\", \"content\": prompt}],\n",
        "        # add function calling\n",
        "        functions=function_descriptions_multiple,\n",
        "        function_call=\"auto\",  # specify the function call\n",
        "    )\n",
        "\n",
        "    output = completion.choices[0].message\n",
        "    return output"
      ]
    },
    {
      "cell_type": "markdown",
      "id": "f0c4e952",
      "metadata": {},
      "source": [
        "## Scenario 1: Check flight details"
      ]
    },
    {
      "cell_type": "code",
      "execution_count": 12,
      "id": "6e8026c0",
      "metadata": {},
      "outputs": [
        {
          "name": "stdout",
          "output_type": "stream",
          "text": [
            "ChatCompletionMessage(content=None, role='assistant', function_call=FunctionCall(arguments='{\\n  \"loc_origin\": \"AMS\",\\n  \"loc_destination\": \"NYC\"\\n}', name='get_flight_info'), tool_calls=None)\n"
          ]
        }
      ],
      "source": [
        "user_prompt = \"When's the next flight from Amsterdam to New York?\"\n",
        "print(ask_and_reply(user_prompt))"
      ]
    },
    {
      "cell_type": "markdown",
      "id": "f5e0536e",
      "metadata": {},
      "source": [
        "### Get info for the next prompt"
      ]
    },
    {
      "cell_type": "code",
      "execution_count": 13,
      "id": "7a8cdfa2",
      "metadata": {},
      "outputs": [
        {
          "name": "stdout",
          "output_type": "stream",
          "text": [
            "AMS\n",
            "JFK\n",
            "{\"loc_origin\": \"AMS\", \"loc_destination\": \"JFK\", \"datetime\": \"2024-03-25 19:45:25.382829\", \"airline\": \"KLM\", \"flight\": \"KL643\"}\n"
          ]
        }
      ],
      "source": [
        "origin = json.loads(output.function_call.arguments).get(\"loc_origin\")\n",
        "destination = json.loads(output.function_call.arguments).get(\"loc_destination\")\n",
        "chosen_function = eval(output.function_call.name)\n",
        "flight = chosen_function(origin, destination)\n",
        "\n",
        "print(origin)\n",
        "print(destination)\n",
        "print(flight)"
      ]
    },
    {
      "cell_type": "code",
      "execution_count": 14,
      "id": "c57866e8",
      "metadata": {},
      "outputs": [
        {
          "name": "stdout",
          "output_type": "stream",
          "text": [
            "2024-03-25 19:45:25.382829\n",
            "KLM\n"
          ]
        }
      ],
      "source": [
        "flight_datetime = json.loads(flight).get(\"datetime\")\n",
        "flight_airline = json.loads(flight).get(\"airline\")\n",
        "\n",
        "print(flight_datetime)\n",
        "print(flight_airline)"
      ]
    },
    {
      "cell_type": "markdown",
      "id": "abaf5707",
      "metadata": {},
      "source": [
        "## Scenario 2: Book a new flight"
      ]
    },
    {
      "cell_type": "code",
      "execution_count": 15,
      "id": "5afb33ee",
      "metadata": {},
      "outputs": [
        {
          "name": "stdout",
          "output_type": "stream",
          "text": [
            "ChatCompletionMessage(content=None, role='assistant', function_call=FunctionCall(arguments='{\\n  \"loc_origin\": \"AMS\",\\n  \"loc_destination\": \"JFK\",\\n  \"datetime\": \"2024-03-25 19:45:25.382829\",\\n  \"airline\": \"KLM\"\\n}', name='book_flight'), tool_calls=None)\n"
          ]
        }
      ],
      "source": [
        "user_prompt = f\"I want to book a flight from {origin} to {destination} on {flight_datetime} with {flight_airline}\"\n",
        "print(ask_and_reply(user_prompt))"
      ]
    },
    {
      "cell_type": "markdown",
      "id": "c08f00ef",
      "metadata": {},
      "source": [
        "## Scenario 3: File a complaint"
      ]
    },
    {
      "cell_type": "code",
      "execution_count": 16,
      "id": "4aedb1cf",
      "metadata": {},
      "outputs": [
        {
          "name": "stdout",
          "output_type": "stream",
          "text": [
            "ChatCompletionMessage(content=None, role='assistant', function_call=FunctionCall(arguments='{\\n\"name\": \"John Doe\",\\n\"email\": \"john@doe.com\",\\n\"text\": \"I would like to file a complaint about my missed flight. It was an unpleasant surprise. Please look into the matter and provide a suitable resolution.\"\\n}', name='file_complaint'), tool_calls=None)\n"
          ]
        }
      ],
      "source": [
        "user_prompt = \"This is John Doe. I want to file a complaint about my missed flight. It was an unpleasant surprise. Email me a copy of the complaint to john@doe.com.\"\n",
        "print(ask_and_reply(user_prompt))"
      ]
    },
    {
      "cell_type": "markdown",
      "id": "b39e3880",
      "metadata": {},
      "source": [
        "# Make It Conversational With Langchain\n"
      ]
    },
    {
      "cell_type": "code",
      "execution_count": 17,
      "id": "b014e26a",
      "metadata": {},
      "outputs": [
        {
          "name": "stderr",
          "output_type": "stream",
          "text": [
            "c:\\Users\\rokka\\anaconda3\\envs\\langchain-env\\lib\\site-packages\\langchain_core\\_api\\deprecation.py:117: LangChainDeprecationWarning: The class `langchain_community.chat_models.openai.ChatOpenAI` was deprecated in langchain-community 0.0.10 and will be removed in 0.2.0. An updated version of the class exists in the langchain-openai package and should be used instead. To use it run `pip install -U langchain-openai` and import as `from langchain_openai import ChatOpenAI`.\n",
            "  warn_deprecated(\n"
          ]
        }
      ],
      "source": [
        "llm = ChatOpenAI(model=\"gpt-3.5-turbo-0613\", temperature=0)"
      ]
    },
    {
      "cell_type": "markdown",
      "id": "df97302d",
      "metadata": {},
      "source": [
        "## Start a conversation with multiple requests"
      ]
    },
    {
      "cell_type": "code",
      "execution_count": 18,
      "id": "c1d5d450",
      "metadata": {},
      "outputs": [],
      "source": [
        "user_prompt = \"\"\"\n",
        "This is Jane Harris. I am an unhappy customer that wants you to do several things.\n",
        "First, I neeed to know when's the next flight from Amsterdam to New York.\n",
        "Please proceed to book that flight for me.\n",
        "Also, I want to file a complaint about my missed flight. It was an unpleasant surprise. \n",
        "Email me a copy of the complaint to jane@harris.com.\n",
        "Please give me a confirmation after all of these are done.\n",
        "\"\"\""
      ]
    },
    {
      "cell_type": "markdown",
      "id": "1a5da38c",
      "metadata": {},
      "source": [
        "### First Response\n",
        "Returns the function of the first request (`get_flight_info`)"
      ]
    },
    {
      "cell_type": "code",
      "execution_count": 19,
      "id": "9f18938b",
      "metadata": {},
      "outputs": [
        {
          "name": "stderr",
          "output_type": "stream",
          "text": [
            "c:\\Users\\rokka\\anaconda3\\envs\\langchain-env\\lib\\site-packages\\langchain_core\\_api\\deprecation.py:117: LangChainDeprecationWarning: The function `predict_messages` was deprecated in LangChain 0.1.7 and will be removed in 0.2.0. Use invoke instead.\n",
            "  warn_deprecated(\n"
          ]
        },
        {
          "name": "stdout",
          "output_type": "stream",
          "text": [
            "content='' additional_kwargs={'function_call': {'arguments': '{\\n  \"loc_origin\": \"AMS\",\\n  \"loc_destination\": \"JFK\"\\n}', 'name': 'get_flight_info'}} response_metadata={'token_usage': {'completion_tokens': 26, 'prompt_tokens': 332, 'total_tokens': 358}, 'model_name': 'gpt-3.5-turbo-0613', 'system_fingerprint': None, 'finish_reason': 'function_call', 'logprobs': None}\n"
          ]
        }
      ],
      "source": [
        "first_response = llm.predict_messages(\n",
        "    [HumanMessage(content=user_prompt)], functions=function_descriptions_multiple\n",
        ")\n",
        "\n",
        "print(first_response)"
      ]
    },
    {
      "cell_type": "markdown",
      "id": "e634edd0",
      "metadata": {},
      "source": [
        "### Second Response\n",
        "Returns the function of the second request (`book_flight`)\n",
        "\n",
        "It takes all the arguments from the prompt but not the returned information\n"
      ]
    },
    {
      "cell_type": "code",
      "execution_count": 20,
      "id": "f4ad1231",
      "metadata": {},
      "outputs": [
        {
          "name": "stdout",
          "output_type": "stream",
          "text": [
            "content='' additional_kwargs={'function_call': {'arguments': '{\\n  \"loc_origin\": \"AMS\",\\n  \"loc_destination\": \"JFK\"\\n}', 'name': 'get_flight_info'}} response_metadata={'token_usage': {'completion_tokens': 26, 'prompt_tokens': 387, 'total_tokens': 413}, 'model_name': 'gpt-3.5-turbo-0613', 'system_fingerprint': None, 'finish_reason': 'function_call', 'logprobs': None}\n"
          ]
        }
      ],
      "source": [
        "second_response = llm.predict_messages(\n",
        "    [\n",
        "        HumanMessage(content=user_prompt),\n",
        "        AIMessage(content=str(first_response.additional_kwargs)),\n",
        "        AIMessage(\n",
        "            role=\"function\",\n",
        "            additional_kwargs={\n",
        "                \"name\": first_response.additional_kwargs[\"function_call\"][\"name\"]\n",
        "            },\n",
        "            content=f\"Completed function {first_response.additional_kwargs['function_call']['name']}\",\n",
        "        ),\n",
        "    ],\n",
        "    functions=function_descriptions_multiple,\n",
        ")\n",
        "\n",
        "print(second_response)"
      ]
    },
    {
      "cell_type": "markdown",
      "id": "d6ec8ba1",
      "metadata": {},
      "source": [
        "### Third Response\n",
        "Returns the function of the third request (`file_complaint`)"
      ]
    },
    {
      "cell_type": "code",
      "execution_count": 21,
      "id": "6728bfc9",
      "metadata": {},
      "outputs": [
        {
          "name": "stdout",
          "output_type": "stream",
          "text": [
            "content='' additional_kwargs={'function_call': {'arguments': '{\\n  \"loc_origin\": \"AMS\",\\n  \"loc_destination\": \"JFK\"\\n}', 'name': 'get_flight_info'}} response_metadata={'token_usage': {'completion_tokens': 26, 'prompt_tokens': 430, 'total_tokens': 456}, 'model_name': 'gpt-3.5-turbo-0613', 'system_fingerprint': None, 'finish_reason': 'function_call', 'logprobs': None}\n"
          ]
        }
      ],
      "source": [
        "third_response = llm.predict_messages(\n",
        "    [\n",
        "        HumanMessage(content=user_prompt),\n",
        "        AIMessage(content=str(first_response.additional_kwargs)),\n",
        "        AIMessage(content=str(second_response.additional_kwargs)),\n",
        "        AIMessage(\n",
        "            role=\"function\",\n",
        "            additional_kwargs={\n",
        "                \"name\": second_response.additional_kwargs[\"function_call\"][\"name\"]\n",
        "            },\n",
        "            content=f\"Completed function {second_response.additional_kwargs['function_call']['name']}\",\n",
        "        ),\n",
        "    ],\n",
        "    functions=function_descriptions_multiple,\n",
        ")\n",
        "\n",
        "print(third_response)"
      ]
    },
    {
      "cell_type": "markdown",
      "id": "c3bcc47b",
      "metadata": {},
      "source": [
        "## Conversational reply at the end of requests"
      ]
    },
    {
      "cell_type": "code",
      "execution_count": 22,
      "id": "6edac534",
      "metadata": {},
      "outputs": [
        {
          "name": "stdout",
          "output_type": "stream",
          "text": [
            "content='' additional_kwargs={'function_call': {'arguments': '{\\n  \"loc_origin\": \"AMS\",\\n  \"loc_destination\": \"JFK\"\\n}', 'name': 'get_flight_info'}} response_metadata={'token_usage': {'completion_tokens': 26, 'prompt_tokens': 473, 'total_tokens': 499}, 'model_name': 'gpt-3.5-turbo-0613', 'system_fingerprint': None, 'finish_reason': 'function_call', 'logprobs': None}\n"
          ]
        }
      ],
      "source": [
        "fourth_response = llm.predict_messages(\n",
        "    [\n",
        "        HumanMessage(content=user_prompt),\n",
        "        AIMessage(content=str(first_response.additional_kwargs)),\n",
        "        AIMessage(content=str(second_response.additional_kwargs)),\n",
        "        AIMessage(content=str(third_response.additional_kwargs)),\n",
        "        AIMessage(\n",
        "            role=\"function\",\n",
        "            additional_kwargs={\n",
        "                \"name\": third_response.additional_kwargs[\"function_call\"][\"name\"]\n",
        "            },\n",
        "            content=f\"Completed function {third_response.additional_kwargs['function_call']['name']}\",\n",
        "        ),\n",
        "    ],\n",
        "    functions=function_descriptions_multiple,\n",
        ")\n",
        "\n",
        "print(fourth_response)"
      ]
    }
  ],
  "metadata": {
    "kernelspec": {
      "display_name": "Python 3 (ipykernel)",
      "language": "python",
      "name": "python3"
    },
    "language_info": {
      "codemirror_mode": {
        "name": "ipython",
        "version": 3
      },
      "file_extension": ".py",
      "mimetype": "text/x-python",
      "name": "python",
      "nbconvert_exporter": "python",
      "pygments_lexer": "ipython3",
      "version": "3.8.19"
    }
  },
  "nbformat": 4,
  "nbformat_minor": 5
}
