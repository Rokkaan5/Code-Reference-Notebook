{
 "cells": [
  {
   "cell_type": "raw",
   "metadata": {},
   "source": [
    "---\n",
    "title: \"HW7: Numerical Integration\"\n",
    "author: \"Jasmine Kobayashi\"\n",
    "format:\n",
    "    html:\n",
    "        code-fold: false\n",
    "execute:\n",
    "    output: true\n",
    "    warning: false\n",
    "toc: true\n",
    "jupyter: python3\n",
    "---"
   ]
  },
  {
   "cell_type": "markdown",
   "metadata": {},
   "source": [
    "- Consider the one-dimensional integral of the form\n",
    "\n",
    "\\begin{equation*}\n",
    "F = \\int_a^b f(x) dx\n",
    "\\end{equation*}\n",
    "\n",
    "- The classical methods of numerical integration are based on the\n",
    "  geometrical interpretation of the integral as the area under the\n",
    "  curve.\n",
    "- The x-axis is divided into $n$ equal intervals of width $\\Delta\n",
    "  x$, where $\\Delta x$ is given by \n",
    "\n",
    "\\begin{equation*}\n",
    "\\Delta x = \\frac{b- a }{n}\n",
    "\\end{equation*}\n",
    "\n",
    "and\n",
    "\n",
    "\\begin{equation*}\n",
    "x_n = x_0 + n \\Delta  x\n",
    "\\end{equation*}\n",
    "\n",
    "where $x_0 = a$ and $x_n = b$.\n",
    "\n",
    "- The *trapezoidal* rule  is\n",
    "\n",
    "\\begin{equation*}\n",
    "F_n = \\left [\\frac{1}{2} f(x_0) + \\sum_{i = 1}^{n-1} f(x_i) +\n",
    "  \\frac{1}{2} f(x_n) \\right] \\Delta x\n",
    "\\end{equation*}\n",
    "\n",
    "- *Simpson's rule* is\n",
    "\n",
    "\\begin{equation*}\n",
    "F_n = \\frac{1}{3} \\left[ f(x_0) + 4 f(x_1) + 2 f(x_2) + 4 f(x_3) +\n",
    "  \\cdot \\cdot \\cdot 2 f(x_{n-2}) + 4 f(x_{n-1}) + f(x_n)\\right] \\Delta x\n",
    "\\end{equation*}\n",
    "\n",
    "- The *Monte Carlo* estimate for $F_n$ is given\n",
    "  by\n",
    "\n",
    "\\begin{equation*}\n",
    "F_n = A \\frac{n_h}{n}\n",
    "\\end{equation*}\n",
    "\n",
    "where $n_h$ is the number of ``hits'' or points below the curve,\n",
    "$n$ is the total points, and $A = H(b-a)$ is the area of the rectangle.\n",
    "\n",
    "- Alternatively, the *Monte Carlo* procedure, based on a theorem of\n",
    "  calculus, is \n",
    "\n",
    "\\begin{equation*}\n",
    "F_n = (b-a) \\langle f \\rangle = (b-a) \\frac{1}{n} \\sum_{i = 1}^n f(x_i)\n",
    "\\end{equation*}\n",
    "\n",
    "where $x_i$ are random numbers distributed uniformly in the interval\n",
    "$a \\le x_i \\le b$, and $n$ is the number of trials.\n",
    "\n",
    "1. Find the estimate of $F_n$ for the integral of\n",
    "\n",
    "\\begin{equation*}\n",
    "f(x) = 4 \\sqrt{1 - x^2}\n",
    "\\end{equation*}\n",
    "\n",
    "as a function of the number of intervals for trapezoidal and Simpson's rules and the number of trials for Monte Carlo.  Choose $a = 0$, $b = 1$, $H= 1$ to sample the function $\\sqrt{1 - x^2}$. Compare with the exact result ($\\pi$). \n",
    "\n",
    "2. Compare your results with the following scipy **integrate** function.  What is the **lambda** function?\n",
    "\n",
    "```python\n",
    "import numpy as np\n",
    "import scipy.integrate as integrate\n",
    "\n",
    "print(integrate.quad(lambda x: 4*np.sqrt(1 - x**2), 0, 1))\n",
    "```\n"
   ]
  },
  {
   "cell_type": "code",
   "execution_count": 31,
   "metadata": {},
   "outputs": [
    {
     "name": "stdout",
     "output_type": "stream",
     "text": [
      "Trapezoidal rule: 3.141487477002141\n",
      "Simpson's rule: 3.1415515735003403\n",
      "Monte Carlo (\"hit or misses\"): 3.13736\n",
      "Monte Carlo (avg. from calc. thm.): 3.144600604477186\n",
      "Actual (pi): 3.141592653589793\n"
     ]
    }
   ],
   "source": [
    "import numpy as np\n",
    "import random\n",
    "#------------------------------------------------------------------------------------------------------------------------------\n",
    "#part 1\n",
    "a = 0                             #starting x value\n",
    "b = 1                             #ending x value\n",
    "n = 500                          #number of intervals  #for Trapezoidal and Simposon's  \n",
    "dx = (b-a)/n                      #delta x\n",
    "x = np.arange(a,b+dx,dx)          #x values\n",
    "x_i = np.array(x[1:-1])           #x values w/o first and last value   #Useful for Trapezoidal and Simpson's\n",
    "#------------------------------------------------------------------------------------------------------------------------------\n",
    "def f(xi):                        #Function f(x) to \"integrate\"\n",
    "    return 4*np.sqrt(1 - (xi**2)) #4*(1-x^2)^1/2\n",
    "#------------------------------------------------------------------------------------------------------------------------------\n",
    "\n",
    "#Trapezoidal rule--------------------------------------------------------------------------------------------------------------\n",
    "\n",
    "def trapezoid(f,x,x_i,dx):\n",
    "    return dx*(0.5*f(x[0]) + np.sum(f(x_i)) + 0.5*f(x[-1]))   #delta_x*((1/2)(f(x0)) + sum(f(xi)) + (1/2)(f(xn)))\n",
    "\n",
    "\n",
    "#Simpson's rule--------------------------------------------------------------------------------------------------------------\n",
    "\n",
    "def simpsons(f,x,x_i,dx):\n",
    "    中f = []                      #list of middle f(x) terms (or f(x_i) terms) that alternate being multiplied by 4 and 2\n",
    "    for i in range(len(x_i)):\n",
    "        if i%2 == 0:                    #if index of x_i is even: 4*f(x_i[i])\n",
    "            中f.append(4*f(x_i[i]))\n",
    "        else:                           #if index of x_i is odd: 2*f(x_i[i]) \n",
    "            中f.append(2*f(x_i[i]))\n",
    "    mf = np.array(中f)                  #turn list to array for summation\n",
    "    return (1/3)*(f(x[0]) + np.sum(mf) + f(x[-1]))*dx       #(1/3)(f(x0) + sum(4f(x1),2f(x2),etc) + f(xn))delta_x\n",
    "\n",
    "#Monte Carlo------------------------------------------------------------------------------------------------------------------\n",
    "n_mc = 50000                     #number of trials (random points) for Monte Carlo\n",
    "H = 4                            #height of rectangle for Monte Carlo\n",
    "\n",
    "def mc(f,a,b,H,n_mc):                 #Random \"hit or miss\" Monte Carlo\n",
    "    A = H*(b-a)                       #Area of rectangle for Monte Carlo random points        \n",
    "    hit = 0\n",
    "    for j in range(n_mc):\n",
    "        xm = random.uniform(a,b)      #random point x value\n",
    "        ym = random.uniform(0,H)      #random point y value\n",
    "        if ym <= f(xm):               #if random y <= f(random x) = \"hit\"\n",
    "            hit += 1\n",
    "    return A*(hit/n_mc)               #A(n_h/n); n_h= number of \"hits\", n = number of total random points\n",
    "\n",
    "def mc_calc_thm(f,a,b,n_mc):          #Monte Carlo equation based on calculus theorem\n",
    "    x_imc = []                        #(random) Monte Carlo xi values\n",
    "    for j in range(n_mc):\n",
    "        x_imc.append(random.random())\n",
    "    ximc = np.array(x_imc) \n",
    "    return (b-a)*np.sum(f(ximc))/n_mc #(b-a)(1/n)(sum(f(xi))); n = number of random xi values\n",
    "    \n",
    "\n",
    "#Results-----------------------------------------------------------------------------------------------------------------------\n",
    "print(\"Trapezoidal rule:\",trapezoid(f,x,x_i,dx))\n",
    "print(\"Simpson's rule:\", simpsons(f,x,x_i,dx))\n",
    "print('Monte Carlo (\"hit or misses\"):', mc(f,a,b,H,n_mc))\n",
    "print(\"Monte Carlo (avg. from calc. thm.):\", mc_calc_thm(f,a,b,n_mc))\n",
    "print(\"Actual (pi):\", np.pi)"
   ]
  },
  {
   "cell_type": "code",
   "execution_count": 32,
   "metadata": {
    "scrolled": true
   },
   "outputs": [
    {
     "name": "stdout",
     "output_type": "stream",
     "text": [
      "(3.141592653589792, 3.533555670287569e-10)\n"
     ]
    }
   ],
   "source": [
    "#part 2: Scipy integrate function\n",
    "import scipy.integrate as integrate\n",
    "\n",
    "print(integrate.quad(lambda x: 4*np.sqrt(1 - x**2), 0, 1))"
   ]
  },
  {
   "cell_type": "markdown",
   "metadata": {},
   "source": [
    "According to internet resources, **lambda** functions are *anonymous* functions, or functions that do not need a name.\n",
    "\n",
    "\"In Python, a lambda function is a single-line function declared with no name, which can have any number of arguments, but it can only have one expression. \"\n",
    "\n",
    "So, in short for this case, it's just defining the function to integrate."
   ]
  }
 ],
 "metadata": {
  "kernelspec": {
   "display_name": "Python 3",
   "language": "python",
   "name": "python3"
  },
  "language_info": {
   "codemirror_mode": {
    "name": "ipython",
    "version": 3
   },
   "file_extension": ".py",
   "mimetype": "text/x-python",
   "name": "python",
   "nbconvert_exporter": "python",
   "pygments_lexer": "ipython3",
   "version": "3.7.6"
  }
 },
 "nbformat": 4,
 "nbformat_minor": 2
}
