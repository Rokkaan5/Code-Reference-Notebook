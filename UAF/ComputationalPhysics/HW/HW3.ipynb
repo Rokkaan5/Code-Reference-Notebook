{
 "cells": [
  {
   "cell_type": "raw",
   "metadata": {},
   "source": [
    "---\n",
    "title: \"HW3: Mass on a Spring\"\n",
    "author: \"Jasmine Kobayashi\"\n",
    "format:\n",
    "    html:\n",
    "        code-fold: false\n",
    "execute:\n",
    "    output: true\n",
    "    warning: false\n",
    "toc: true\n",
    "jupyter: python3\n",
    "---"
   ]
  },
  {
   "cell_type": "markdown",
   "metadata": {},
   "source": [
    "\n",
    "1. Add (detailed) comments the python code below which computes the time dependence of position and velocity for the simple harmonic oscillator (e.g., mass on a spring) using the Euler method.  Feel free to modify the code to your liking!   \n",
    "\n",
    "2. Compute the total energy $E^n$ per unit mass at each time step, $t^n$.  Compute the time dependence of the difference \n",
    "\n",
    "$$ \\Delta^n = \\frac{E^n - E^0}{E^0}$$\n",
    "\n",
    "for *at least* one complete cycle and plot $\\Delta^n$ as a function of time.  Is the difference $\\Delta^n$ uniformly small throughout the cycle?  What are the units of $k$?\n"
   ]
  },
  {
   "cell_type": "code",
   "execution_count": 1,
   "metadata": {},
   "outputs": [
    {
     "data": {
      "text/plain": [
       "Text(0, 0.5, 'velocity')"
      ]
     },
     "execution_count": 1,
     "metadata": {},
     "output_type": "execute_result"
    }
   ],
   "source": [
    "# Simple harmonic oscillator.\n",
    "import numpy as np\n",
    "from matplotlib import pyplot as plt\n",
    "#---------------------------------------------------------------------------------------------------------------------------\n",
    "omega2 = 9                    #omega^2 = (k/m) (k= spring constant,m = mass)\n",
    "T = 3*np.pi/np.sqrt(omega2)   #Period(?) (But why 3pi?)(units = seconds (I assume))\n",
    "dt = 0.01*T                   #time step, in relation to period\n",
    "x0 = 1.0                      #Initial position (displacement from equilibrium position?) (units=meters?)\n",
    "v0 = 0.0                      #Initial velocity\n",
    "\n",
    "\n",
    "def SHO(x0,v0,omega2,T,dt):      #Simple Harmonic Oscillator (outputs, array of position, vel., and time of 2 periods)\n",
    "    x = []                       #position (disp. from equi. position?)\n",
    "    v = []                       #velocity\n",
    "    time = []\n",
    "    t = 0.0                      #initial time\n",
    "    tfinal = 2*T                 #ends after two periods\n",
    "    while t < tfinal:\n",
    "        time.append(t)\n",
    "        x.append(x0)\n",
    "        v.append(v0)\n",
    "        vp = v0 - omega2*x0*dt   #derived from Newton's equation of motion\n",
    "        x0 = x0 + v0*dt\n",
    "        v0 = vp\n",
    "        t = t+dt\n",
    "    return x, v, time\n",
    "\n",
    "\n",
    "\n",
    "[x,v,time] = SHO(x0,v0,omega2,T,dt)\n",
    "\n",
    "#Graphing\n",
    "plt.figure(1)\n",
    "plt.plot(time,x)\n",
    "plt.title(\"Position vs. Time\")\n",
    "plt.xlabel('time')\n",
    "plt.ylabel('position')\n",
    "plt.figure(2)\n",
    "plt.title(\"Velocity vs. Time\")\n",
    "plt.plot(time,v)\n",
    "plt.xlabel('time')\n",
    "plt.ylabel('velocity')"
   ]
  },
  {
   "cell_type": "code",
   "execution_count": 2,
   "metadata": {
    "scrolled": true
   },
   "outputs": [
    {
     "data": {
      "text/plain": [
       "Text(0, 0.5, 'Energy Difference')"
      ]
     },
     "execution_count": 2,
     "metadata": {},
     "output_type": "execute_result"
    },
    {
     "data": {
      "image/png": "[encoded data removed]",
      "text/plain": [
       "<Figure size 432x288 with 1 Axes>"
      ]
     },
     "metadata": {
      "needs_background": "light"
     },
     "output_type": "display_data"
    }
   ],
   "source": [
    "#Computing total energy\n",
    "om = np.sqrt(omega2)                       #setting omega (so I don't have to keep typing np.sqrt(omega2))\n",
    "k=-(v[1]-v[0])/(om*x[0]*(time[1]-time[0])) #spring constant (k) (units = sec^-2(?))\n",
    "\n",
    "\n",
    "def energy(v,x,omega2,k):                  #Total energy\n",
    "    return ((k/om)*(v**2) + k*(x**2))/2\n",
    "\n",
    "E = []                                     #Total energy array\n",
    "dif = []                                   #Difference in energy array\n",
    "for i in range(0,len(time)):\n",
    "    xi = x[i]\n",
    "    vi = v[i]\n",
    "    Ep = energy(v[i],x[i],omega2,k)\n",
    "    E.append(Ep)\n",
    "    d = (E[i]-E[0])/E[0]                   #The difference of energy between initial and at a certain time step\n",
    "    dif.append(d)\n",
    "\n",
    "#Graphing difference  \n",
    "plt.plot(time,dif)\n",
    "plt.title(\"Difference vs. time\")\n",
    "plt.xlabel(\"Time\")\n",
    "plt.ylabel(\"Energy Difference\")"
   ]
  },
  {
   "cell_type": "markdown",
   "metadata": {},
   "source": [
    "No, the difference $\\Delta^n$ is not uniformly small throughout the cycle(s). (At least for the difference between the initial energy and the energy at a certain time step. The difference of energy between timestep $n$ and $n-1$ was a bit more uniform, and small, but in terms of conservation of energy that still not a good thing.)"
   ]
  },
  {
   "cell_type": "code",
   "execution_count": 3,
   "metadata": {},
   "outputs": [
    {
     "data": {
      "text/plain": [
       "[<matplotlib.lines.Line2D at 0x260cc346888>]"
      ]
     },
     "execution_count": 3,
     "metadata": {},
     "output_type": "execute_result"
    },
    {
     "data": {
      "image/png": "[encoded data removed]",
      "text/plain": [
       "<Figure size 432x288 with 1 Axes>"
      ]
     },
     "metadata": {
      "needs_background": "light"
     },
     "output_type": "display_data"
    }
   ],
   "source": [
    "E0_下m =(0.5)*omega2*(x0**2)\n",
    "\n",
    "E = []                                     #Total energy array\n",
    "dif = []                                   #Difference in energy array\n",
    "for i in range(0,len(x)):\n",
    "    Eom = (0.5)*v[i]**2 + (0.5)*omega2*(x[i]**2)\n",
    "    E.append(Eom)\n",
    "    d = (E[i]-E0_下m)/E0_下m                   #The difference of energy between initial and at a certain time step\n",
    "    dif.append(d)\n",
    "\n",
    "\n",
    "[x,v,time] = SHO(x0,v0,omega2,T,dt)\n",
    "\n",
    "plt.plot(time,dif)\n"
   ]
  }
 ],
 "metadata": {
  "kernelspec": {
   "display_name": "Python 3",
   "language": "python",
   "name": "python3"
  },
  "language_info": {
   "codemirror_mode": {
    "name": "ipython",
    "version": 3
   },
   "file_extension": ".py",
   "mimetype": "text/x-python",
   "name": "python",
   "nbconvert_exporter": "python",
   "pygments_lexer": "ipython3",
   "version": "3.7.6"
  }
 },
 "nbformat": 4,
 "nbformat_minor": 2
}
