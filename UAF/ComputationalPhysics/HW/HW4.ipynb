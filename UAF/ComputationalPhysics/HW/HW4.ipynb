{
 "cells": [
  {
   "cell_type": "raw",
   "metadata": {},
   "source": [
    "---\n",
    "title: \"HW4: Method of Least Squares\"\n",
    "author: \"Jasmine Kobayashi\"\n",
    "format:\n",
    "    html:\n",
    "        code-fold: false\n",
    "execute:\n",
    "    output: true\n",
    "    warning: false\n",
    "toc: true\n",
    "jupyter: python3\n",
    "---"
   ]
  },
  {
   "cell_type": "markdown",
   "metadata": {},
   "source": [
    "\n",
    "- One of the most common and interesting types of experiment\n",
    "  involves the measurement of several values of two different physical\n",
    "  quantities, in order to investigate the mathematical relationship.\n",
    "- Many experiments involve *linear* relations. \n",
    "- Consider any two physical variables, $x$ and $y$ that we suspect\n",
    "  are connected by a linear relation, i.e., \n",
    "\n",
    "\\begin{equation*}\n",
    "y = A + Bx\n",
    "\\end{equation*}\n",
    "\n",
    "- For simplicity, assume that the $x$ errors are negligible, while\n",
    "  $y$ can suffer some uncertainty.  \n",
    "- Assume that the $y$ errors are governed by a Guassian\n",
    "  distribution, with the same width parameter, $\\sigma_y$, for all\n",
    "  measurements.\n",
    "- If we knew $x_i$, $A$, and $B$,  then \n",
    "\n",
    "\\begin{equation*}\n",
    "y_i = A+Bx_i\n",
    "\\end{equation*}\n",
    "\n",
    "- The measurement of $y_i$ is governed by a normal distribution\n",
    "  centered on its ``true'' value.  \n",
    "- The probability of obtaining the observed value $y_i$ is\n",
    "\n",
    "\\begin{equation*}\n",
    "P_{A,B}(y_i) \\propto \\frac{1}{\\sigma_y} e^{-(y_i - A - Bx_i)^2/(2 \\sigma_y^2)}\n",
    "\\end{equation*}\n",
    "\n",
    "where the subscripts $A$ and $B$ indicate that this probability\n",
    "depends on the (unknown) values of $A$ and $B$.  \n",
    "- The probability of obtaining our complete set of measurements\n",
    "  $y_1, \\cdot \\cdot \\cdot, y_N$, is the product\n",
    "\n",
    "\\begin{equation*}\n",
    "P_{A,B}(y_1, \\cdot \\cdot \\cdot, y_N)=P_{A,B}(y_1) \\cdot \\cdot \\cdot\n",
    "P_{A,B}(y_N) \\propto \\frac{1}{\\sigma_y^N} e^{-\\chi^2/2}\n",
    "\\end{equation*}\n",
    "\n",
    "where \n",
    "\n",
    "\\begin{equation*}\n",
    "\\chi^2 = \\sum_{i-1}^N \\frac{(y_i - A - Bx_i)^2}{\\sigma_y^2}\n",
    "\\end{equation*}\n",
    "\n",
    "- The best estimates for the unknown constants $A$ and $B$, based\n",
    "  on the given measurements, are those values of $A$ and $B$ for which\n",
    "  the probability $P_{A,B}(y_1, \\cdot \\cdot \\cdot, y_N)$ is maximum,\n",
    "  or for which the sum of squares, $\\chi^2$, is a *minimum* (i.e.,\n",
    "  least-squares fitting).\n",
    "- To find the minimum, take derivatives...\n",
    "\n",
    "\\begin{equation*}\n",
    "\\frac{\\partial \\chi^2}{\\partial A} = (-2/\\sigma_y^2) \\sum_{i=1}^N(y_i\n",
    "- A - Bx_i) = 0\n",
    "\\end{equation*}\n",
    "\n",
    "and \n",
    "\n",
    "\\begin{equation*}\n",
    "\\frac{\\partial \\chi^2}{\\partial B} = (-2/\\sigma_y^2) \\sum_{i=1}^N x_i(y_i\n",
    "- A - Bx_i) = 0\n",
    "\\end{equation*}\n",
    "\n",
    "- These two equations can be rewritten as simultaneous equations\n",
    "  for $A$ and $B$:\n",
    "\n",
    "\\begin{equation*}\n",
    "AN + B \\sum x_i = \\sum y_i\n",
    "\\end{equation*}\n",
    "\n",
    "and\n",
    "\n",
    "\\begin{equation*}\n",
    "A \\sum x_i + b \\sum x_i^2 = \\sum x_i y_i\n",
    "\\end{equation*}\n",
    "\n",
    "- Solving the *normal equations* yields the least-squares\n",
    "  estimates for $A$ and $B$, i.e.,\n",
    "\n",
    "\\begin{equation*}\n",
    "A = \\frac{(\\sum x_i^2)(\\sum y_i) - (\\sum x_i)(\\sum x_i y_i)}{\\Delta}\n",
    "\\end{equation*}\n",
    "\n",
    "and\n",
    "\n",
    "\\begin{equation*}\n",
    "B = \\frac{N(\\sum x_i y_i) - (\\sum x_i)(\\sum y_i)}{\\Delta}\n",
    "\\end{equation*}\n",
    "\n",
    "where \n",
    "\n",
    "\\begin{equation*}\n",
    "\\Delta = N \\left (\\sum x_i^2 \\right ) - \\left (\\sum x_i \\right)^2\n",
    "\\end{equation*}\n",
    "\n",
    "- Uncertainty in $y$ should be determined when analyzing the\n",
    "  data.  However, we can estimate the uncertainty, $\\sigma_y$, by\n",
    "  assuming the $y_i$ are normally distributed about the true value $A + Bx_i$, with\n",
    "  width parameter $\\sigma_y$.  This suggests (based on the probability\n",
    "  of obtaining values $y_1 \\cdot \\cdot \\cdot y_N$ is maximum, i.e.,\n",
    "  take derivative w.r.t. $\\sigma_y$ and set it equal to zero).\n",
    "\n",
    "\\begin{equation*}\n",
    "\\sigma_y^2 = \\frac{1}{N} \\sum (y_i - A - B x_i)^2\n",
    "\\end{equation*}\n",
    "\n",
    "- Having found $\\sigma_y$, the uncertainties in A and B are found\n",
    "  by simple error propagation.\n",
    "\n",
    "\\begin{align*}\n",
    "\\sigma_A^2 &= \\frac{1}{\\Delta}\\sigma_y^2 \\sum x_i^2\\\\\n",
    "\\sigma_B^2 &= \\frac{1}{\\Delta}N \\sigma_y^2\\\\\n",
    "\\end{align*}"
   ]
  },
  {
   "cell_type": "markdown",
   "metadata": {},
   "source": [
    "# Problem 1\n",
    "\n",
    "Determine the best fit cooling rate, $R$, from the coffee cup data in Lab 2. Recall, the cooling law is\n",
    "\n",
    "$$ \\frac{dT(t)}{dt} = -R (T - T_s)$$\n",
    "\n",
    "We are looking for a function of the form $T(t) = Ae^{-Rt}$ such that the linear equation is $\\ln T = \\ln A -Rt$.  We can use a trick to write the cooling law in this form by noting that $dT_s/dt = 0$, or\n",
    "\n",
    "$$ \\frac{d[T(t)-T_s]}{dt} = -R (T - T_s)$$\n",
    "\n",
    "Let $y = T- T_s$, so \n",
    "\n",
    "$$ \\frac{d y }{dt} = -R y$$\n",
    "\n",
    "The solution is $y(t) = y^0 e^{-Rt}$, and $\\ln y = \\ln y^0 -R t$ where $y^0 = y(t^0)$. Note this is a semi-log fit.\n",
    "\n",
    "Compare your result with the python linear regression method used in Lab 3. "
   ]
  },
  {
   "cell_type": "code",
   "execution_count": 3,
   "metadata": {},
   "outputs": [
    {
     "name": "stdout",
     "output_type": "stream",
     "text": [
      "slope =  [-0.03321461]  intercept = 4.031445880660588\n",
      "least sqaures slope= [-0.03375957] intercept = 4.0356332093460825\n"
     ]
    },
    {
     "data": {
      "text/plain": [
       "<matplotlib.legend.Legend at 0x29e83d3ddc8>"
      ]
     },
     "execution_count": 3,
     "metadata": {},
     "output_type": "execute_result"
    },
    {
     "data": {
      "image/png": "[encoded data removed]",
      "text/plain": [
       "<Figure size 432x288 with 1 Axes>"
      ]
     },
     "metadata": {
      "needs_background": "light"
     },
     "output_type": "display_data"
    }
   ],
   "source": [
    "import numpy as np\n",
    "import matplotlib.pyplot as plt\n",
    "from sklearn.linear_model import LinearRegression\n",
    "\n",
    "#Add experimental data\n",
    "Ts = 22.0  #room temperature\n",
    "\n",
    "time = np.arange(0,16,1)  #independent variable, i.e., x_i\n",
    "Temp = np.array([83.0, 77.7, 75.1, 73.0, 71.1, 69.4, 67.8, 66.4, 64.7, 63.4, 62.1, 61.0, 59.9, 58.7, 57.8, 56.6]) \n",
    "\n",
    "y = Temp[1:] - Ts  #remove the first data point\n",
    "tm = time[1:]\n",
    "\n",
    "#Data Graph\n",
    "plt.plot(tm,np.log(y),'k+',label='data')\n",
    "plt.xlabel('time (min)')\n",
    "plt.ylabel('log($T - T_s$)')\n",
    "\n",
    "#Add your least squares fit code here.....\n",
    "#A lot of the sums repeat, so I set them aside as variables \n",
    "#the code could be written in two (or three) lines if I skipped this and wrote one line of code for each A & B \n",
    "#(but this seems easier to read)\n",
    "x2sum = np.sum(time**2)                    #sum of x^2 terms\n",
    "xsum = np.sum(time)                        #sum of x terms\n",
    "ysum = np.sum(y)                           #sum of y terms\n",
    "xysum = np.sum(y*tm)                       #sum of x*y terms\n",
    "N = 15                                     #15 terms (should've used len(x))\n",
    "delta = (N*x2sum) - (xsum)**2              #delta\n",
    "\n",
    "def A(x2sum,ysum,xsum,xysum,delta):         #Function for A\n",
    "    return(x2sum*ysum - xsum*xysum)/delta\n",
    "\n",
    "def B(N,xysum,xsum,ysum,delta):             #Function for B\n",
    "    return (N*xysum - xsum*ysum)/delta\n",
    "\n",
    "yi = A(x2sum,ysum,xsum,xysum,delta) + B(N,xysum,xsum,ysum,delta)*tm\n",
    "\n",
    "#sklearn LinearRegression result.\n",
    "model=LinearRegression()\n",
    "t = tm.reshape((-1,1))\n",
    "model.fit(t,np.log(y))\n",
    "print('slope = ', model.coef_,' intercept =', model.intercept_)\n",
    "\n",
    "\n",
    "#Least squares Lin. Reg\n",
    "least=LinearRegression()\n",
    "least.fit(t,np.log(yi))\n",
    "print(\"least sqaures slope=\", least.coef_,\"intercept =\",least.intercept_)\n",
    "\n",
    "#Linear regression graphs\n",
    "plt.plot(tm,least.intercept_ + least.coef_*tm,\"r-.\",label= \"Least Squares fit\")\n",
    "plt.plot(tm,model.intercept_ + model.coef_*tm,\"b--\",label='Linear Regression fit')\n",
    "plt.legend()"
   ]
  },
  {
   "cell_type": "markdown",
   "metadata": {},
   "source": [
    "# Problem 2\n",
    "\n",
    "Calculate the uncertainty in $R$."
   ]
  },
  {
   "cell_type": "code",
   "execution_count": 4,
   "metadata": {},
   "outputs": [
    {
     "name": "stdout",
     "output_type": "stream",
     "text": [
      "Uncertainty in R = 5.38827298067625\n"
     ]
    }
   ],
   "source": [
    "#uncertainty in R (uncertainty in B)\n",
    "sig_y2 = (1/N)*np.sum(y - A(x2sum,ysum,xsum,xysum,delta) + B(N,xysum,xsum,ysum,delta)*tm)**2     #sigma_y sqaured\n",
    "sig_B2 = (1/delta)*N*sig_y2                                 #sigma_B squared (b/c B = R in this case)\n",
    "print (\"Uncertainty in R =\",np.sqrt(sig_B2))"
   ]
  },
  {
   "cell_type": "code",
   "execution_count": null,
   "metadata": {},
   "outputs": [],
   "source": []
  }
 ],
 "metadata": {
  "kernelspec": {
   "display_name": "Python 3",
   "language": "python",
   "name": "python3"
  },
  "language_info": {
   "codemirror_mode": {
    "name": "ipython",
    "version": 3
   },
   "file_extension": ".py",
   "mimetype": "text/x-python",
   "name": "python",
   "nbconvert_exporter": "python",
   "pygments_lexer": "ipython3",
   "version": "3.7.6"
  }
 },
 "nbformat": 4,
 "nbformat_minor": 2
}
