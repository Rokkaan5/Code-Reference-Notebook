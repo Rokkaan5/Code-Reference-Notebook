{
 "cells": [
  {
   "cell_type": "raw",
   "metadata": {},
   "source": [
    "---\n",
    "title: \"Lab 2: Newton's law of cooling\"\n",
    "author: \"Jasmine Kobayashi\"\n",
    "format:\n",
    "    html:\n",
    "        code-fold: false\n",
    "execute:\n",
    "    output: true\n",
    "    warning: false\n",
    "toc: true\n",
    "jupyter: python3\n",
    "---"
   ]
  },
  {
   "cell_type": "markdown",
   "metadata": {},
   "source": [
    "# Lab 2: Newton's law of cooling\n",
    "\n",
    "- Name: Jasmine Kobayashi\n",
    "- Lab Partner:\n",
    "\n",
    " \n",
    "## The Euler Algorithm\n",
    "\n",
    "The standard technique for the numerical solution of differential equations involves the conversion of a differential equation to a *finite difference* equation.\n",
    "\n",
    "**Example:** The rate of heat loss of a body is proportional to the difference in temperatures between the body $(T)$ and its surroundings $(T_s)$.\n",
    "\n",
    "$$\\frac{dT}{dt} = -R(T-T_s)$$\n",
    "\n",
    "where $R$ is the cooling constant and $T_s$ is the \"surrounding\" temperature.\n",
    " \n",
    "If we take a uniform time step $\\Delta t$, then this iterative solution can be written, more compactly, as the **Euler Algorithm**, or\n",
    "\n",
    "$$t^n = t^{n-1} + \\Delta t$$\n",
    "\n",
    "$$T^n  = T^{n-1} - R (T^{n-1} - T_s) \\Delta t$$\n",
    "\n",
    "where $n$ is an integer for the time step.  (Note that we use *superscript* $n$ to indicate the time step.  Later we will use *subscript* to denote the spatial index on a grid.)\n",
    "\n",
    "\n"
   ]
  },
  {
   "cell_type": "markdown",
   "metadata": {},
   "source": [
    "## Coffee cooling problem\n",
    "\n",
    "- Write a program to solve the coffee cup cooling problem using the Euler method, i.e., \n",
    "\\begin{equation}\n",
    "\\frac{dT(t)}{dt} = -R [T(t) - T_A] \\nonumber\n",
    "\\end{equation}\n",
    "where $T(t)$ is the temperature of water at time $t$, $T_A$ is the temperature of air, and $R$ is the cooling constant. \n",
    "\n",
    "- Use your program to determine $R$ for the experimental data in Table\n",
    "below for cooling of a cup of coffee in a ceramic mug (the air temperature was 22.0 $^\\circ$C).  Since time is measured in minutes, the units of the cooling constant $R$ are min$^{-1}$.  Do several runs with smaller and smaller time intervals\n",
    "until the results look like they are converging.  Include a graph of\n",
    "your final simulation results along with the data.  Describe any difficulties in fitting the data and mitigation strategies.\n",
    "\n",
    "\n",
    "|$t$ (min) | $T$ ($^\\circ$C) |\n",
    "|----------:|-----------:|\n",
    "|0 | 83.0 |\n",
    "|1.0 | 77.7 |\n",
    "|2.0 | 75.1 |\n",
    "|3.0 | 73.0 |\n",
    "|4.0 | 71.1 |\n",
    "|5.0 | 69.4 |\n",
    "|6.0 | 67.8 |\n",
    "|7.0 | 66.4 |\n",
    "|8.0 | 64.7 |\n",
    "|9.0 | 63.4 |\n",
    "|10.0 | 62.1 |\n",
    "|11.0 | 61.0 |\n",
    "|12.0 | 59.9 |\n",
    "|13.0 | 58.7 |\n",
    "|14.0 | 57.8 |\n",
    "|15.0 | 56.6 |\n",
    "\n",
    "- The boundary layer model for a water/air interface predicts\n",
    "\\begin{equation}\n",
    "R = \\frac{\\kappa A}{MC \\Delta x} \\nonumber\n",
    "\\end{equation}\n",
    "where $\\kappa$ is the thermal conductivity of air (0.0237\n",
    "W/m$~^\\circ$C), $A$ is the surface area of the water, $M$ is the mass\n",
    "of the water, $C$ is the specific heat of water ($4.19 \\times 10^3$\n",
    "J/kg $^\\circ$C), and $\\Delta x$ is the thickness of the boundary\n",
    "layer.  Estimate $M$ and $A$ for a typical cup of coffee and find\n",
    "$\\Delta x$. \n",
    "\n",
    "\n"
   ]
  },
  {
   "cell_type": "code",
   "execution_count": 26,
   "metadata": {},
   "outputs": [
    {
     "name": "stdout",
     "output_type": "stream",
     "text": [
      "R constant from data: 0.030567685589519465 min^-1\n",
      "Calculated delta x= 0.0038118273798025334 meters\n"
     ]
    },
    {
     "data": {
      "image/png": "[encoded data removed]",
      "text/plain": [
       "<Figure size 432x288 with 1 Axes>"
      ]
     },
     "metadata": {
      "needs_background": "light"
     },
     "output_type": "display_data"
    }
   ],
   "source": [
    "#---------------------------------------------------------------------------------\n",
    "#Coffee cup cooling problem\n",
    "#Name: Jasmine Kobayashi\n",
    "#Lab partner:\n",
    "#Date: 1/23/20\n",
    "#---------------------------------------------------------------------------------\n",
    "\n",
    "#import necessary modules\n",
    "import numpy as np\n",
    "import matplotlib.pyplot as plt\n",
    "\n",
    "#Define constants and initialize variables---------------------------------------------------------------------------------\n",
    "def radi(m,h):                                 #Radius;calculated using estimated mass and height (in case want to change est. mass and height)\n",
    "    return (m/(np.pi*h))**(1/2)\n",
    "\n",
    "m = 0.354                                      #m = est. mass, in liters or kilograms (1 liter= 1 kilogram)\n",
    "h = 0.10                                       #h = est. height, in meters\n",
    "\n",
    "\n",
    "def Sur_A(h):                                 #Surface Area function; calculated using est. mass and calculated radius\n",
    "    return 2*radi(m,h)*h+2*np.pi*radi(m,h)**2\n",
    "\n",
    "\n",
    "def delta_x(m):                               #Delta x function; using est. mass & height (includes above radi & SA functions)\n",
    "    return (0.0237*Sur_A(h))/(R_cnst(T1,T2,t1,t2,Ts)*m*4.19e3)   #Uses thermal cond. k=0.0237 (W/m deg.C) and specific heat of water C=4.19e3 (J/kg deg.C)\n",
    "\n",
    "\n",
    "def R_cnst(T1,T2,t1,t2,Ts):                   #function for constant R calculated from experimental data\n",
    "    return -(T2-T1)/((t2-t1)*(T2-Ts))                                    \n",
    "\n",
    "T1 = 66.4                                     #T1 = T^n\n",
    "T2 = 67.8                                     #T2 = T^n-1                (or the temp before T1; the warmer temperature)\n",
    "t1 = 7                                        #t1 = time for T^n\n",
    "t2 = 6                                        #t2 = time for T^n-1       (or the time before t1)\n",
    "\n",
    "\n",
    "def Analy_soln(time,T0,R,Ts):                    #Analytical solution, function copied from cooling notes\n",
    "    return (T0-Ts)*np.exp(-R*time)+Ts\n",
    "\n",
    "Ts = 22.0                                     #outside temperature (degrees C)\n",
    "T0 = 77.7                                     #initial coffee temperature (degrees C)\n",
    "R = R_cnst(T1,T2,t1,t2,Ts)                    #cooling rate in min^-1 (using calculated R constant from data)\n",
    "time = np.arange(1,16,1)\n",
    "\n",
    "#Add experimental data-----------------------------------------------------------------------------------------------------\n",
    "T= [83.0,77.7, 75.1, 73.0, 71.1, 69.4, 67.8, 66.4, 64.7, 63.4, 62.1, 61.0, 59.9, 58.7, 57.8, 56.6]   #Temperature Data\n",
    "\n",
    "t = np.arange(0,16,1)                                                            #Time, 0 to 15 (min) with 1 step intervals\n",
    "\n",
    "#Construct a time stepping loop to solve the ODE using the Euler algorithm-------------------------------------------------\n",
    "\n",
    "def numerical_soln(T0,Ts,R,dt):               #Numerical solution. Pretty much copied from the cooling notes.\n",
    "    return T0-R*(T0-Ts)*dt\n",
    "\n",
    "\n",
    "dt = time[1]-time[0]\n",
    "Temp = []\n",
    "Temp.append(T0)\n",
    "Tinit=T0\n",
    "\n",
    "for i in range(1,len(time)):\n",
    "    tmp = numerical_soln(Tinit,Ts,R,dt)\n",
    "    Temp.append(tmp)\n",
    "    Tinit = tmp\n",
    "    \n",
    "#Print statements---------------------------------------------------------------------------------------------------------\n",
    "print ('R constant from data:',R_cnst(T1,T2,t1,t2,Ts), \"min^-1\")\n",
    "print ('Calculated delta x=', delta_x(m),'meters')\n",
    "\n",
    "#Plot results-------------------------------------------------------------------------------------------------------------\n",
    "plt.plot(time,Analy_soln(time,T0,R,Ts),'r-.',label = 'analytical')        #red = analytical\n",
    "plt.plot(t,T,'kx', label = 'data')                                  #yellow = data\n",
    "plt.plot(time,Temp,'b:', label='numerical')                        #blue + = numerical\n",
    "plt.title('Coffee Cooling Graph (Temp. vs. time)',fontsize = 15)\n",
    "plt.xlabel('time (mins)',fontsize=13)\n",
    "plt.ylabel('Temperature ($^{\\circ}$C)',fontsize=13)\n",
    "plt.legend(fontsize=13)\n",
    "plt.show()"
   ]
  },
  {
   "cell_type": "markdown",
   "metadata": {},
   "source": [
    "## ODE in dimensionless form\n",
    "\n",
    "Write a new version of the cooling law ODE code in dimensionless form.\n",
    "That is, solve the following ODE of the form  \n",
    "\\begin{equation}\n",
    " \\frac{dy}{d \\tau} = -y \\nonumber\n",
    "\\end{equation}\n",
    "choosing normalizing factors so that $y(0) = 1$ and $y(\\tau) = e^{-\\tau}$.\n",
    "\n",
    "- What value of $\\Delta \\tau$ is necessary for an accuracy of 0.02\\% at $\\tau =\n",
    "1$?\n",
    "\n",
    "- Apply the physical constrains to verify that the dimensionless version can reproduce the results from above, i.e., you will have to \"reconstitute\" the dimensions using the normalization parameters. \n",
    "\n",
    "**Derivation (Coffee cooling problem, ODE)**\n",
    "\n",
    "\n",
    "- Dimensionless time\n",
    "\n",
    "\\begin{equation*}\n",
    "\\tau = \\frac{t}{t_o}\n",
    "\\end{equation*}\n",
    " \n",
    "- Dimensionless temperature\n",
    "\n",
    "\\begin{equation*}\n",
    "y = \\frac{T(t) - T_A}{T_o}\n",
    "\\end{equation*}\n",
    "\n",
    "\n",
    "\\begin{equation*}\n",
    "dt  = t_o d\\tau, ~~dT = T_o dy\n",
    "\\end{equation*}\n",
    "\n",
    "\\begin{equation*}\n",
    "\\frac{dT}{dt} = \\frac{T_o dy}{t_o d\\tau} = -R(T - T_A) = -R T_o y\n",
    "\\end{equation*}\n",
    "\n",
    "\\begin{equation*}\n",
    "\\frac{dy(\\tau)}{d\\tau} = -(t_o R) y(\\tau)\n",
    "\\end{equation*}\n",
    "\n",
    "Let $t_o = 1/R$, $T(0) = T_i$ so that $y(0) = (T_i- T_A)/T_o$.  If $y(0) = 1$ then $T_o = T_i - T_A$.\n",
    "\n",
    "\\begin{equation*}\n",
    "\\frac{dy(\\tau)}{d\\tau} = -y(\\tau)\n",
    "\\end{equation*}\n",
    "\n",
    "\n",
    "\n"
   ]
  },
  {
   "cell_type": "code",
   "execution_count": 27,
   "metadata": {},
   "outputs": [
    {
     "data": {
      "text/plain": [
       "Text(0.5, 1.0, 'Dimensionless representation')"
      ]
     },
     "execution_count": 27,
     "metadata": {},
     "output_type": "execute_result"
    },
    {
     "data": {
      "image/png": "[encoded data removed]",
      "text/plain": [
       "<Figure size 432x288 with 1 Axes>"
      ]
     },
     "metadata": {
      "needs_background": "light"
     },
     "output_type": "display_data"
    }
   ],
   "source": [
    "#Dimensionless ODE\n",
    "\n",
    "def y_exact(tau):                                 #y(tau)=e^(-tau)\n",
    "    return np.exp(-tau)\n",
    "\n",
    "tau = t*R                                         #b/c of normalization described above & tau=t/t0 \n",
    "                                                  #(t=0-15mins from above, R=calculated R constant from above)\n",
    "    \n",
    "def numerical_y(dtau,y0):\n",
    "    return y0-y0*dtau\n",
    "y0=1\n",
    "\n",
    "dtau = tau[1]-tau[0]                              #essentially followed same format as numerical with dimension above\n",
    "y = []\n",
    "yin = y0\n",
    "y.append(y0)\n",
    "\n",
    "for i in range(1,len(tau)):\n",
    "    yp = numerical_y(dtau,yin)\n",
    "    y.append(yp)\n",
    "    yin = yp\n",
    "    \n",
    "plt.plot(tau,y_exact(tau),\"r-.\",label=\"exact\")\n",
    "plt.plot(tau,y,\"b:\",label=\"numerical\")\n",
    "plt.xlabel(\"tau\",fontsize= 13)\n",
    "plt.ylabel(\"y(tau)\",fontsize= 13)\n",
    "plt.legend(fontsize= 13)\n",
    "plt.title(\"Dimensionless representation\",fontsize= 15)"
   ]
  },
  {
   "cell_type": "markdown",
   "metadata": {},
   "source": [
    "## Note about trying to find $\\Delta\\tau$ (-Jasmine)\n",
    "\n",
    "So clearly, with my equations the percent error calculations are quite off and do not work well to try to find $\\Delta\\tau$. It seems to me that it comes from my numerical equation for the dimensionless form. From what I remember from your and other examples they were supposed to consist of some $\\tau$ and $\\tau_{final}$, *as well as* $\\Delta\\tau$? But I was not really sure how those $\\tau$ and $\\tau_{final}$ got incorporated along with the $\\Delta\\tau$. (I'm not sure if that means the above version for reproducing results is also wrong, even though it fits nicely on the graph. Maybe it fits *too* nicely?) \n",
    "\n",
    "Anyway, it's getting too late to try to work through it anymore than this, and I still want to turn in what I do have on time, so I'm afraid I'll have to leave this part of this lab like this for now. "
   ]
  },
  {
   "cell_type": "code",
   "execution_count": 28,
   "metadata": {},
   "outputs": [
    {
     "data": {
      "text/plain": [
       "Text(0, 0.5, '% Error')"
      ]
     },
     "execution_count": 28,
     "metadata": {},
     "output_type": "execute_result"
    },
    {
     "data": {
      "image/png": "[encoded data removed]",
      "text/plain": [
       "<Figure size 432x288 with 1 Axes>"
      ]
     },
     "metadata": {
      "needs_background": "light"
     },
     "output_type": "display_data"
    }
   ],
   "source": [
    "#Graphing % error to estimate delta tau\n",
    "\n",
    "ex = y_exact(Tau)\n",
    "\n",
    "#def Numerical_y(dtau,tau,y0)\n",
    "\n",
    "Dtau=[0.2,0.1,0.05,0.025,0.125,0.00625]               \n",
    "y_err = []\n",
    "\n",
    "for j in range(0,len(Dtau)):\n",
    "    Tau= np.arange(0,2,0.1)\n",
    "    yd = numerical_y(Dtau[j],y0)\n",
    "    err= (abs(yd - np.exp(-1))/np.exp(-1))*100\n",
    "    y_err.append(err)\n",
    "\n",
    "\n",
    "plt.plot(Dtau,y_err,\"b\",label=\"error\")\n",
    "plt.axhline(y=0.02,color='red',label=\"0.002% error\")              #y=0.002% line to see/estimate what delta tau is easier\n",
    "plt.legend()\n",
    "plt.title(\"Dim.less Error\")\n",
    "plt.xlabel(\"$\\Delta$ Tau\")\n",
    "plt.ylabel(\"% Error\")"
   ]
  },
  {
   "cell_type": "code",
   "execution_count": 29,
   "metadata": {},
   "outputs": [
    {
     "name": "stdout",
     "output_type": "stream",
     "text": [
      "[117.46254627672363, 144.64536456131407, 158.23677370360926, 165.0324782747569, 137.84965999016646, 170.12925670311762]\n"
     ]
    }
   ],
   "source": [
    "print (y_err)"
   ]
  },
  {
   "cell_type": "markdown",
   "metadata": {},
   "source": [
    "## Truncation Error\n",
    "\n",
    "Since we have replaced a differential equation by a difference equation, we know that our numerical solution cannot be identically equal to the \"true\" solution of the original differential equation.  In general, the discrepancy between the two solutions is due to two causes.  First, computers do not store real numbers with infinite precision.  Arithmetic operations such as addition and division can introduce additional error, called *roundoff error*.  The significance of roundoff errors is that they accumulate with an increasing number of calculations.  The second source of discrepancy  is due to the choice of algorithm.  This error is called the *truncation error*.  \n",
    "\n",
    "- To illustrate *truncation error*, show (in this markdown cell) that the Euler method is first order using a Taylor series expansion.  That is, compare the **Euler Algorithm** the the Taylor series. We represent the truncation error with the order of the leading term in the error.  For example, if the leading term contains $\\Delta t^2$, then we represent the error as $\\mathcal{O(\\Delta t^2)}$...and the algorithm is first order accurate. \n",
    "\n",
    "------------------------------------------------------- **Jasmine's work**----------------------------------------------------\n",
    "\n",
    "So we know that a function defined from the Taylor series is built like this:\n",
    "\n",
    "$$f(x) = f(a) + \\frac{f'(a)(x-a)}{1!} + \\frac{f''(a)(x-a)^2}{2!} + \\frac{f'''(a)(x-a)^3}{3!} + ...$$\n",
    "\n",
    "And the Euler equation starts off looking off something like this:\n",
    "$$\\frac{dT}{dt} = -R(T-T_s)$$\n",
    "\n",
    "- Where $T$ = temperature (of the coffee in this case), $t$ = time, $R$ = the cooling constant, and $T_s$ = the \"*surrounding* temperature\" or the outside temperature.\n",
    "\n",
    "To start it would be helpful to first rearrange the equation to be a function, not a derivative of a function. \n",
    "So we can start by changing the $\\frac{dT}{dt}$ to its more literal meaning.\n",
    "\n",
    "$$\\frac{dT}{dt} = \\frac{\\Delta T}{\\Delta t} = \\frac{T^n - T^{n-1}}{\\Delta t}$$\n",
    "\n",
    "- Where $T^n$ and $T^{n-1}$ are temperatures at different times. ($T^{n-1}$ would be temp. before $T^n$) \n",
    "\n",
    "Then the equation can be rearranged to look like this:\n",
    "\n",
    "$$T^n = T^{n-1} - R(T^{n-1} - T_s)\\Delta t$$\n",
    "\n",
    "And if we view the function to represent the temperature at a given time it could be written like this.\n",
    "\n",
    "$$T(t^n) = T^{n-1} - R(T^{n-1} - T_s)\\Delta t$$ \n",
    "\n",
    "And as mentioned before, $\\frac{dT}{dt} = -R(T-T_s)$ so we can rewrite again to,\n",
    "\n",
    "$$T(t^n) = T^{n-1} + \\frac{dT}{dt}\\Delta t$$ \n",
    "\n",
    "$$= T^{n-1} + T'(t^{n-1})\\Delta t$$\n",
    "\n",
    "$$= T(t^{n-1}) + T'(t^{n-1})\\Delta t$$\n",
    "\n",
    "Around here it is easier to start seeing the resemblence to the Taylor series. But there's still a few thing we can do to the Taylor series so that it would have a similar form to the above Euler equation. Like showing steps in the $x$ values.\n",
    "\n",
    "$$x^n = x^{n-1} + \\Delta x $$\n",
    "\n",
    "$$x \\to x^n$$\n",
    "$$a \\to x^{n-1}$$\n",
    "\n",
    "So, \n",
    "$$f(x) = f(a) + \\frac{f'(a)(x-a)}{1!} + \\frac{f''(a)(x-a)^2}{2!}+...$$ \n",
    "\n",
    "$$\\Rightarrow  f(x^n) = f(x^{n-1} + \\Delta x) = f(x^{n-1}) + f'(x^{n-1})(\\Delta x) + \\frac{f''(x^{n-1})(\\Delta x)^2}{2!} + ...$$ \n",
    "\n",
    "And it is not difficult to see that $t^n = t^{n-1} + \\Delta t$ for the Euler equation also (plus it was mentioned further above).\n",
    "\n",
    "$$T(t^{n-1}+ \\Delta x) = T(t^{n-1}) + T'(t^{n-1})\\Delta t$$\n",
    "\n",
    "So now it is easy to see that the Euler algorithm is a rewrite of the first two terms of the Taylor series. Meaning that the leading term of the truncated remaining terms contains a $\\Delta t^2$ so the error is $\\mathcal{O(\\Delta t^2)}$ \n",
    "\n",
    "$$T(t^{n-1}+ \\Delta x) = T(t^{n-1}) + T'(t^{n-1})\\Delta t + \\mathcal{O(\\Delta t^2)}$$\n",
    "\n",
    "and the algorithm is indeed first order accurate. \n",
    "\n",
    "----------------------------------------------- **End of Jasmine's work**------------------------------------------------------\n",
    "\n",
    "- Plot the difference between the exact solution and the numerical\n",
    "solution as a function of $\\Delta t$.  A numerical method is called\n",
    "$n$th order if the difference between the analytical and numerical\n",
    "solutions at a fixed value of $t$ is proportional to $(\\Delta t)^n$.\n",
    "Verify that the Euler method is first order accurate. "
   ]
  },
  {
   "cell_type": "code",
   "execution_count": 30,
   "metadata": {},
   "outputs": [
    {
     "data": {
      "text/plain": [
       "Text(0, 0.5, 'Temp')"
      ]
     },
     "execution_count": 30,
     "metadata": {},
     "output_type": "execute_result"
    },
    {
     "data": {
      "image/png": "[encoded data removed]",
      "text/plain": [
       "<Figure size 432x288 with 1 Axes>"
      ]
     },
     "metadata": {
      "needs_background": "light"
     },
     "output_type": "display_data"
    }
   ],
   "source": [
    "#Difference between exact and numerical\n",
    "plt.plot(time,abs(Analy_soln(time,T0,R,Ts)-numerical_soln(T0,Ts,R,dt)))\n",
    "plt.title(\"Diff. between Analytical-Numerical\",fontsize=15)\n",
    "plt.xlabel(\"time(min)\",fontsize=13)\n",
    "plt.ylabel(\"Temp\",fontsize=13)"
   ]
  },
  {
   "cell_type": "code",
   "execution_count": null,
   "metadata": {},
   "outputs": [],
   "source": []
  }
 ],
 "metadata": {
  "kernelspec": {
   "display_name": "Python 3",
   "language": "python",
   "name": "python3"
  },
  "language_info": {
   "codemirror_mode": {
    "name": "ipython",
    "version": 3
   },
   "file_extension": ".py",
   "mimetype": "text/x-python",
   "name": "python",
   "nbconvert_exporter": "python",
   "pygments_lexer": "ipython3",
   "version": "3.7.4"
  }
 },
 "nbformat": 4,
 "nbformat_minor": 2
}
