{
 "cells": [
  {
   "cell_type": "raw",
   "metadata": {},
   "source": [
    "---\n",
    "title: \"Gaussian Quadrature\"\n",
    "author: \"Dr. Peter Delemere\"\n",
    "format:\n",
    "    html:\n",
    "        code-fold: false\n",
    "execute:\n",
    "    output: true\n",
    "    warning: false\n",
    "toc: true\n",
    "jupyter: python3\n",
    "---"
   ]
  },
  {
   "cell_type": "markdown",
   "metadata": {},
   "source": [
    "# Higher-order integration methods\n",
    "\n",
    "- Quadrature is a historical term which means the process of determining area, or integrals. \n",
    "- Trapezoidal rule is based on approximating the integrand $f(x)$ with straight-line segments.\n",
    "- Simpson's rules uses quadratics.\n",
    "- Recall: The *trapezoidal* rule is $$F_n = \\left[\\frac{1}{2}f(x_0) \\displaystyle \\sum_{i=1}^{n-1}f(x_i) + \\frac{1}{2}f(x_n) \\right]\\Delta x$$ and *Simpson's rule* is $$F_n = \\frac{1}{3} [f(x_0) + 4f(x_1) + 2f(x_2) + 4f(x_3) + \\cdots + 2f(x_{n-2}) + 4f(x_{n-1}) + f(x_n)] \\Delta x$$\n",
    "- We create higher-order polynomial fits to $f(x)$. In general, $$\\int_a^b f(x)dx \\approx \\displaystyle \\sum_{k=1}^{n} w_k f(x_k) = F_n$$ where the $x_k$ are the positions of the sample points at which we calculate the integrand and the $w_k$ are a set of weights.\n",
    "- In the trapezoidal rule the first and last weights are $\\frac{1}{2}$ and the others are $1$, while Simpson's rule uses $\\frac{1}{3}$ for the first and last and alternate between $\\frac{4}{3}$ and $\\frac{2}{3}$ for the other slices.\n",
    "- Let's broaden the rules to allow us to vary not only the weights $w_k$ but also the positions $x_k$. It is possible to create an integration method that is exact for polynomials up to degree $n-1$ with $n$ equally spaced points.\n",
    "- Varying the positions introduces an extra $n$ degrees of freedom, which suggests that it might be possible to create an integration rule that is exact for polynomials up to degree $2n-1$.\n",
    "- This scheme is known as *Gaussian Quadrature* and produces very accurate integration results!"
   ]
  },
  {
   "cell_type": "markdown",
   "metadata": {},
   "source": [
    "# Gaussian Quadrature\n",
    "1. First step is to derive the integration rules for nonuniform smaple points $x_k$.\n",
    "    - Use Lagrange polynomials for the interpolation, i.e., *method of interpolating polynomials* $$p_k(x) = f(x_k) \\displaystyle \\prod_{m=1,m\\ne k}^n \\frac{x-x_m}{x_k - x_m} = f(x_k)\\phi_k(x)$$ such that $$p(x) = \\displaystyle \\sum_{k=1}{n} f(x_k)\\phi_k(x)$$\n",
    "    - Recall, this polynomial fit is unique.\n",
    "    - Calculate an approximation to the integral, $$\\int_a^b f(x)dx \\approx \\int_a^b p(x)dx = \\displaystyle \\sum_{k=1}^n f(x_k) \\int_a^b \\phi_k (x)dx$$\n",
    "    - From above, note that the weights are $$w_k = \\int_a^b \\phi_k(x)dx$$\n",
    "2. Second, we will choose a particular set of nonuniform points to optimize the results.\n",
    "    - Without proof, claim it is possible to choose our $n$ points so that our integration rule is exact for all polynomial integrands up to and including polynomials of degree $2n-1$ (proof is beyond our scope).\n",
    "    - To get an integration rule accurate up to the highest possible degree of $2n-1$, the sample points should be chosen to coincide with the zeros of teh $n$th degree Legendre polynomial $p_n(x)$.\n",
    "    - For historical reasons it is necessary to map the interval to $-1 \\le x \\le 1$, so that $$w_k = \\int_{-1}^1 \\phi_k(x)dx$$ The mapping rule is $$x'_k = \\frac{1}{2}(b-a)x_k + \\frac{1}{2}(b+a)$$ and $$w'_k = \\frac{1}{2}(b-a)w_k$$\n",
    "    - The rescaled weights are given by $$w_k = \\left[\\frac{2}{(1-x^2)} \\left(\\frac{dp_n(x)}{dx} \\right)^{-2}\\right]$$"
   ]
  },
  {
   "cell_type": "markdown",
   "metadata": {},
   "source": [
    "## Example\n",
    "- Integrate $$\\int_0^2(x^4-2x+1)dx$$ using only 3 points! The answer is 4.4"
   ]
  },
  {
   "cell_type": "code",
   "execution_count": 1,
   "metadata": {},
   "outputs": [
    {
     "name": "stdout",
     "output_type": "stream",
     "text": [
      "4.4000000000000075\n"
     ]
    }
   ],
   "source": [
    "import numpy as np\n",
    "\n",
    "######################################################################\n",
    "#\n",
    "# Functions to calculate integration points and weights for Gaussian\n",
    "# quadrature\n",
    "#\n",
    "# x,w = gaussxw(N) returns integration points x and integration\n",
    "#           weights w such that sum_i w[i]*f(x[i]) is the Nth-order\n",
    "#           Gaussian approximation to the integral int_{-1}^1 f(x) dx\n",
    "# x,w = gaussxwab(N,a,b) returns integration points and weights\n",
    "#           mapped to the interval [a,b], so that sum_i w[i]*f(x[i])\n",
    "#           is the Nth-order Gaussian approximation to the integral\n",
    "#           int_a^b f(x) dx\n",
    "#\n",
    "# This code finds the zeros of the nth Legendre polynomial using\n",
    "# Newton's method, starting from the approximation given in Abramowitz\n",
    "# and Stegun 22.16.6. The Legendre polynomial itself is evaluated\n",
    "# using the recurrence relation given in Abramowitz and Stegun\n",
    "# 22.7.10. The function has been checked against other sources for\n",
    "# values of N up to 1000. It is compatible with version 2 and version\n",
    "# 3 of Python.\n",
    "#\n",
    "# Written by Mark Newman <mejn@umich.edu>, June 4, 2011\n",
    "# You may use, share, or modify this file freely\n",
    "#\n",
    "######################################################################\n",
    "\n",
    "from numpy import ones,copy,cos,tan,pi,linspace\n",
    "\n",
    "def gaussxw(N):\n",
    "\n",
    "    # Initial approximation to roots of the Legendre polynomial\n",
    "    a = linspace(3,4*N-1,N)/(4*N+2)\n",
    "    x = cos(pi*a+1/(8*N*N*tan(a)))\n",
    "\n",
    "    # Find roots using Newton's method\n",
    "    epsilon = 1e-15\n",
    "    delta = 1.0\n",
    "    while delta>epsilon:\n",
    "        p0 = ones(N,float)\n",
    "        p1 = copy(x)\n",
    "        for k in range(1,N):\n",
    "            p0,p1 = p1,((2*k+1)*x*p1-k*p0)/(k+1)\n",
    "        dp = (N+1)*(p0-x*p1)/(1-x*x)\n",
    "        dx = p1/dp\n",
    "        x -= dx\n",
    "        delta = max(abs(dx))\n",
    "\n",
    "    # Calculate the weights\n",
    "    w = 2*(N+1)*(N+1)/(N*N*(1-x*x)*dp*dp)\n",
    "\n",
    "    return x,w\n",
    "\n",
    "def gaussxwab(N,a,b):\n",
    "    x,w = gaussxw(N)\n",
    "    return 0.5*(b-a)*x+0.5*(b+a),0.5*(b-a)*w\n",
    "\n",
    "def f(x):\n",
    "    return x**4 - 2*x + 1\n",
    "\n",
    "n = 3\n",
    "a = 0.0\n",
    "b = 2.0\n",
    "\n",
    "x,w = gaussxwab(n,a,b)\n",
    "\n",
    "#Perform the integration\n",
    "s = np.sum(w*f(x))\n",
    "print(s)"
   ]
  },
  {
   "cell_type": "markdown",
   "metadata": {},
   "source": [
    "- The program produces the answer \"exactly\", with just three sample points! The result is exact for integrals of polynomial functions up to and including degree $2n-1$ (5th degree for $n=3$). Here we have a 4th degree polynomial, so we expect the method to return the exact answer."
   ]
  }
 ],
 "metadata": {
  "kernelspec": {
   "display_name": "base",
   "language": "python",
   "name": "python3"
  },
  "language_info": {
   "codemirror_mode": {
    "name": "ipython",
    "version": 3
   },
   "file_extension": ".py",
   "mimetype": "text/x-python",
   "name": "python",
   "nbconvert_exporter": "python",
   "pygments_lexer": "ipython3",
   "version": "3.8.18"
  }
 },
 "nbformat": 4,
 "nbformat_minor": 2
}
