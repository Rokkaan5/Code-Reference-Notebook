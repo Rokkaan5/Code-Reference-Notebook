{
 "cells": [
  {
   "cell_type": "raw",
   "metadata": {},
   "source": [
    "---\n",
    "title: \"Array Syntax\"\n",
    "author: \"Dr. Peter Delemere\"\n",
    "format:\n",
    "    html:\n",
    "        code-fold: false\n",
    "execute:\n",
    "    output: true\n",
    "    warning: false\n",
    "toc: true\n",
    "jupyter: python3\n",
    "---"
   ]
  },
  {
   "cell_type": "markdown",
   "metadata": {},
   "source": [
    "# Array Syntax\n",
    "\n",
    "Goal:  Understand the difference between lists and arrays.\n"
   ]
  },
  {
   "cell_type": "code",
   "execution_count": 1,
   "metadata": {},
   "outputs": [
    {
     "name": "stdout",
     "output_type": "stream",
     "text": [
      "[1. 2. 5. 4.]\n"
     ]
    }
   ],
   "source": [
    "import numpy as np\n",
    "\n",
    "a = np.array([4,8,20,16])\n",
    "a = a/4\n",
    "print(a)"
   ]
  },
  {
   "cell_type": "code",
   "execution_count": 12,
   "metadata": {},
   "outputs": [
    {
     "ename": "TypeError",
     "evalue": "unsupported operand type(s) for /: 'list' and 'int'",
     "output_type": "error",
     "traceback": [
      "\u001b[0;31m---------------------------------------------------------------------------\u001b[0m",
      "\u001b[0;31mTypeError\u001b[0m                                 Traceback (most recent call last)",
      "\u001b[0;32m<ipython-input-12-77b27f9a57cc>\u001b[0m in \u001b[0;36m<module>\u001b[0;34m\u001b[0m\n\u001b[1;32m      1\u001b[0m \u001b[0mb\u001b[0m \u001b[0;34m=\u001b[0m \u001b[0;34m[\u001b[0m\u001b[0;36m4\u001b[0m\u001b[0;34m,\u001b[0m\u001b[0;36m8\u001b[0m\u001b[0;34m,\u001b[0m\u001b[0;36m20\u001b[0m\u001b[0;34m,\u001b[0m\u001b[0;36m16\u001b[0m\u001b[0;34m]\u001b[0m\u001b[0;34m\u001b[0m\u001b[0;34m\u001b[0m\u001b[0m\n\u001b[0;32m----> 2\u001b[0;31m \u001b[0mb\u001b[0m \u001b[0;34m=\u001b[0m \u001b[0mb\u001b[0m\u001b[0;34m/\u001b[0m\u001b[0;36m4\u001b[0m\u001b[0;34m\u001b[0m\u001b[0;34m\u001b[0m\u001b[0m\n\u001b[0m\u001b[1;32m      3\u001b[0m \u001b[0mprint\u001b[0m\u001b[0;34m(\u001b[0m\u001b[0mb\u001b[0m\u001b[0;34m)\u001b[0m\u001b[0;34m\u001b[0m\u001b[0;34m\u001b[0m\u001b[0m\n",
      "\u001b[0;31mTypeError\u001b[0m: unsupported operand type(s) for /: 'list' and 'int'"
     ]
    }
   ],
   "source": [
    "b = [4,8,20,16]\n",
    "b = b/4\n",
    "print(b)"
   ]
  },
  {
   "cell_type": "code",
   "execution_count": 13,
   "metadata": {},
   "outputs": [
    {
     "name": "stdout",
     "output_type": "stream",
     "text": [
      "1.0\n",
      "2.0\n",
      "5.0\n",
      "4.0\n"
     ]
    }
   ],
   "source": [
    "for i in range(len(b)):\n",
    "    print(b[i]/4)"
   ]
  },
  {
   "cell_type": "code",
   "execution_count": 14,
   "metadata": {},
   "outputs": [
    {
     "name": "stdout",
     "output_type": "stream",
     "text": [
      "[0 1 2 3 4 5 6 7 8 9] [ 0  1  4  9 16 25 36 49 64 81]\n"
     ]
    },
    {
     "ename": "TypeError",
     "evalue": "unsupported operand type(s) for ** or pow(): 'list' and 'int'",
     "output_type": "error",
     "traceback": [
      "\u001b[0;31m---------------------------------------------------------------------------\u001b[0m",
      "\u001b[0;31mTypeError\u001b[0m                                 Traceback (most recent call last)",
      "\u001b[0;32m<ipython-input-14-aaef67b8f67b>\u001b[0m in \u001b[0;36m<module>\u001b[0;34m\u001b[0m\n\u001b[1;32m      7\u001b[0m     \u001b[0my\u001b[0m\u001b[0;34m.\u001b[0m\u001b[0mappend\u001b[0m\u001b[0;34m(\u001b[0m\u001b[0mx\u001b[0m\u001b[0;34m[\u001b[0m\u001b[0mi\u001b[0m\u001b[0;34m]\u001b[0m\u001b[0;34m**\u001b[0m\u001b[0;36m2\u001b[0m\u001b[0;34m)\u001b[0m\u001b[0;34m\u001b[0m\u001b[0;34m\u001b[0m\u001b[0m\n\u001b[1;32m      8\u001b[0m \u001b[0;34m\u001b[0m\u001b[0m\n\u001b[0;32m----> 9\u001b[0;31m \u001b[0mz\u001b[0m \u001b[0;34m=\u001b[0m \u001b[0my\u001b[0m\u001b[0;34m**\u001b[0m\u001b[0;36m2\u001b[0m\u001b[0;34m\u001b[0m\u001b[0;34m\u001b[0m\u001b[0m\n\u001b[0m\u001b[1;32m     10\u001b[0m \u001b[0;34m\u001b[0m\u001b[0m\n\u001b[1;32m     11\u001b[0m \u001b[0mprint\u001b[0m\u001b[0;34m(\u001b[0m\u001b[0mx\u001b[0m\u001b[0;34m,\u001b[0m\u001b[0my\u001b[0m\u001b[0;34m)\u001b[0m\u001b[0;34m\u001b[0m\u001b[0;34m\u001b[0m\u001b[0m\n",
      "\u001b[0;31mTypeError\u001b[0m: unsupported operand type(s) for ** or pow(): 'list' and 'int'"
     ]
    }
   ],
   "source": [
    "x = np.arange(0,10,1)\n",
    "y = x**2\n",
    "print(x,y)\n"
   ]
  },
  {
   "cell_type": "code",
   "execution_count": 15,
   "metadata": {},
   "outputs": [
    {
     "ename": "TypeError",
     "evalue": "unsupported operand type(s) for ** or pow(): 'list' and 'int'",
     "output_type": "error",
     "traceback": [
      "\u001b[0;31m---------------------------------------------------------------------------\u001b[0m",
      "\u001b[0;31mTypeError\u001b[0m                                 Traceback (most recent call last)",
      "\u001b[0;32m<ipython-input-15-a2eb1b5a2c09>\u001b[0m in \u001b[0;36m<module>\u001b[0;34m\u001b[0m\n\u001b[1;32m      3\u001b[0m     \u001b[0my\u001b[0m\u001b[0;34m.\u001b[0m\u001b[0mappend\u001b[0m\u001b[0;34m(\u001b[0m\u001b[0mx\u001b[0m\u001b[0;34m[\u001b[0m\u001b[0mi\u001b[0m\u001b[0;34m]\u001b[0m\u001b[0;34m**\u001b[0m\u001b[0;36m2\u001b[0m\u001b[0;34m)\u001b[0m\u001b[0;34m\u001b[0m\u001b[0;34m\u001b[0m\u001b[0m\n\u001b[1;32m      4\u001b[0m \u001b[0;34m\u001b[0m\u001b[0m\n\u001b[0;32m----> 5\u001b[0;31m \u001b[0mz\u001b[0m \u001b[0;34m=\u001b[0m \u001b[0my\u001b[0m\u001b[0;34m**\u001b[0m\u001b[0;36m2\u001b[0m\u001b[0;34m\u001b[0m\u001b[0;34m\u001b[0m\u001b[0m\n\u001b[0m\u001b[1;32m      6\u001b[0m \u001b[0;34m\u001b[0m\u001b[0m\n",
      "\u001b[0;31mTypeError\u001b[0m: unsupported operand type(s) for ** or pow(): 'list' and 'int'"
     ]
    }
   ],
   "source": [
    "y = [] #generate an empty list\n",
    "for i in range(len(x)):\n",
    "    y.append(x[i]**2)\n",
    "    \n",
    "z = y**2\n",
    "\n",
    "\n"
   ]
  },
  {
   "cell_type": "code",
   "execution_count": 17,
   "metadata": {},
   "outputs": [
    {
     "name": "stdout",
     "output_type": "stream",
     "text": [
      "[   0    1   16   81  256  625 1296 2401 4096 6561]\n"
     ]
    }
   ],
   "source": [
    "y = [] #generate an empty list\n",
    "for i in range(len(x)):\n",
    "    y.append(x[i]**2)\n",
    "y = np.asarray(y)\n",
    "    \n",
    "z = y**2\n",
    "print(z)"
   ]
  },
  {
   "cell_type": "code",
   "execution_count": 2,
   "metadata": {},
   "outputs": [],
   "source": [
    "x = np.random.rand(100)"
   ]
  },
  {
   "cell_type": "code",
   "execution_count": 3,
   "metadata": {},
   "outputs": [
    {
     "data": {
      "text/plain": [
       "array([0.67912993, 0.33551912, 0.63409397, 0.81930199, 0.71608012,\n",
       "       0.03578236, 0.39884796, 0.8015937 , 0.56281314, 0.14672038,\n",
       "       0.59440815, 0.8091945 , 0.78950881, 0.27405162, 0.23925149,\n",
       "       0.54027864, 0.84345572, 0.36909285, 0.61852591, 0.66298359,\n",
       "       0.48092419, 0.60010833, 0.14889321, 0.81488259, 0.24338643,\n",
       "       0.32861608, 0.76609771, 0.78208555, 0.23787327, 0.12137264,\n",
       "       0.17261338, 0.429929  , 0.59199366, 0.30182264, 0.17727431,\n",
       "       0.24742793, 0.15907239, 0.2477713 , 0.80200945, 0.65015134,\n",
       "       0.03729711, 0.57966209, 0.59182997, 0.50804206, 0.42477284,\n",
       "       0.38512997, 0.34600306, 0.4683844 , 0.80707247, 0.88373957,\n",
       "       0.83891361, 0.25516931, 0.6915424 , 0.07653129, 0.79005896,\n",
       "       0.17170961, 0.06229982, 0.05517913, 0.03278219, 0.22539444,\n",
       "       0.39483494, 0.38586287, 0.06100564, 0.77856545, 0.89029741,\n",
       "       0.94669558, 0.83338218, 0.05286947, 0.13058311, 0.11984206,\n",
       "       0.55258379, 0.37626407, 0.24287864, 0.99570337, 0.72794433,\n",
       "       0.6366616 , 0.73514148, 0.33561213, 0.42963143, 0.28131515,\n",
       "       0.22823253, 0.53359315, 0.35290723, 0.23881348, 0.08681065,\n",
       "       0.36551629, 0.32316596, 0.70250108, 0.90807747, 0.07404921,\n",
       "       0.46439338, 0.5205516 , 0.75541706, 0.58362034, 0.85070697,\n",
       "       0.22688394, 0.21511643, 0.79872253, 0.48628854, 0.26625065])"
      ]
     },
     "execution_count": 3,
     "metadata": {},
     "output_type": "execute_result"
    }
   ],
   "source": [
    "x"
   ]
  },
  {
   "cell_type": "code",
   "execution_count": 4,
   "metadata": {},
   "outputs": [
    {
     "data": {
      "text/plain": [
       "array([0.5       , 0.33551912, 0.5       , 0.5       , 0.5       ,\n",
       "       0.03578236, 0.39884796, 0.5       , 0.5       , 0.14672038,\n",
       "       0.5       , 0.5       , 0.5       , 0.27405162, 0.23925149,\n",
       "       0.5       , 0.5       , 0.36909285, 0.5       , 0.5       ,\n",
       "       0.48092419, 0.5       , 0.14889321, 0.5       , 0.24338643,\n",
       "       0.32861608, 0.5       , 0.5       , 0.23787327, 0.12137264,\n",
       "       0.17261338, 0.429929  , 0.5       , 0.30182264, 0.17727431,\n",
       "       0.24742793, 0.15907239, 0.2477713 , 0.5       , 0.5       ,\n",
       "       0.03729711, 0.5       , 0.5       , 0.5       , 0.42477284,\n",
       "       0.38512997, 0.34600306, 0.4683844 , 0.5       , 0.5       ,\n",
       "       0.5       , 0.25516931, 0.5       , 0.07653129, 0.5       ,\n",
       "       0.17170961, 0.06229982, 0.05517913, 0.03278219, 0.22539444,\n",
       "       0.39483494, 0.38586287, 0.06100564, 0.5       , 0.5       ,\n",
       "       0.5       , 0.5       , 0.05286947, 0.13058311, 0.11984206,\n",
       "       0.5       , 0.37626407, 0.24287864, 0.5       , 0.5       ,\n",
       "       0.5       , 0.5       , 0.33561213, 0.42963143, 0.28131515,\n",
       "       0.22823253, 0.5       , 0.35290723, 0.23881348, 0.08681065,\n",
       "       0.36551629, 0.32316596, 0.5       , 0.5       , 0.07404921,\n",
       "       0.46439338, 0.5       , 0.5       , 0.5       , 0.5       ,\n",
       "       0.22688394, 0.21511643, 0.5       , 0.48628854, 0.26625065])"
      ]
     },
     "execution_count": 4,
     "metadata": {},
     "output_type": "execute_result"
    }
   ],
   "source": [
    "np.where(x>0.5, 0.5, x)"
   ]
  },
  {
   "cell_type": "code",
   "execution_count": 5,
   "metadata": {},
   "outputs": [
    {
     "data": {
      "text/plain": [
       "array([0.67912993, 0.63409397, 0.81930199, 0.71608012, 0.8015937 ,\n",
       "       0.56281314, 0.59440815, 0.8091945 , 0.78950881, 0.54027864,\n",
       "       0.84345572, 0.61852591, 0.66298359, 0.60010833, 0.81488259,\n",
       "       0.76609771, 0.78208555, 0.59199366, 0.80200945, 0.65015134,\n",
       "       0.57966209, 0.59182997, 0.50804206, 0.80707247, 0.88373957,\n",
       "       0.83891361, 0.6915424 , 0.79005896, 0.77856545, 0.89029741,\n",
       "       0.94669558, 0.83338218, 0.55258379, 0.99570337, 0.72794433,\n",
       "       0.6366616 , 0.73514148, 0.53359315, 0.70250108, 0.90807747,\n",
       "       0.5205516 , 0.75541706, 0.58362034, 0.85070697, 0.79872253])"
      ]
     },
     "execution_count": 5,
     "metadata": {},
     "output_type": "execute_result"
    }
   ],
   "source": [
    "x[x>0.5]"
   ]
  },
  {
   "cell_type": "code",
   "execution_count": 9,
   "metadata": {},
   "outputs": [
    {
     "data": {
      "text/plain": [
       "array([ True, False,  True, False,  True, False, False, False,  True,\n",
       "       False,  True, False, False, False, False,  True, False, False,\n",
       "        True,  True, False,  True, False, False, False, False, False,\n",
       "       False, False, False, False, False,  True, False, False, False,\n",
       "       False, False, False,  True, False,  True,  True,  True, False,\n",
       "       False, False, False, False, False, False, False,  True, False,\n",
       "       False, False, False, False, False, False, False, False, False,\n",
       "       False, False, False, False, False, False, False,  True, False,\n",
       "       False, False,  True,  True,  True, False, False, False, False,\n",
       "        True, False, False, False, False, False,  True, False, False,\n",
       "       False,  True, False,  True, False, False, False, False, False,\n",
       "       False])"
      ]
     },
     "execution_count": 9,
     "metadata": {},
     "output_type": "execute_result"
    }
   ],
   "source": [
    "np.logical_and(x>0.5, x<0.75)"
   ]
  },
  {
   "cell_type": "code",
   "execution_count": 10,
   "metadata": {},
   "outputs": [],
   "source": [
    "def find_closest(arr, val):\n",
    "    return np.argmin(np.abs(arr-val))\n"
   ]
  },
  {
   "cell_type": "code",
   "execution_count": 12,
   "metadata": {},
   "outputs": [
    {
     "data": {
      "text/plain": [
       "87"
      ]
     },
     "execution_count": 12,
     "metadata": {},
     "output_type": "execute_result"
    }
   ],
   "source": [
    "find_closest(x, 0.7)"
   ]
  },
  {
   "cell_type": "code",
   "execution_count": 13,
   "metadata": {},
   "outputs": [
    {
     "data": {
      "text/plain": [
       "0.7025010767356044"
      ]
     },
     "execution_count": 13,
     "metadata": {},
     "output_type": "execute_result"
    }
   ],
   "source": [
    "x[87]"
   ]
  },
  {
   "cell_type": "code",
   "execution_count": 17,
   "metadata": {},
   "outputs": [],
   "source": [
    "x[:] = np.where(x>0.6, 0.7, 0.1)"
   ]
  },
  {
   "cell_type": "code",
   "execution_count": 19,
   "metadata": {},
   "outputs": [
    {
     "ename": "ValueError",
     "evalue": "could not broadcast input array from shape (3) into shape (100)",
     "output_type": "error",
     "traceback": [
      "\u001b[0;31m---------------------------------------------------------------------------\u001b[0m",
      "\u001b[0;31mValueError\u001b[0m                                Traceback (most recent call last)",
      "\u001b[0;32m<ipython-input-19-1ed2d8cf1ebc>\u001b[0m in \u001b[0;36m<module>\u001b[0;34m\u001b[0m\n\u001b[0;32m----> 1\u001b[0;31m \u001b[0mx\u001b[0m\u001b[0;34m[\u001b[0m\u001b[0;34m:\u001b[0m\u001b[0;34m]\u001b[0m \u001b[0;34m=\u001b[0m \u001b[0mnp\u001b[0m\u001b[0;34m.\u001b[0m\u001b[0marray\u001b[0m\u001b[0;34m(\u001b[0m\u001b[0;34m[\u001b[0m\u001b[0;36m1\u001b[0m\u001b[0;34m,\u001b[0m\u001b[0;36m2\u001b[0m\u001b[0;34m,\u001b[0m\u001b[0;36m3\u001b[0m\u001b[0;34m]\u001b[0m\u001b[0;34m)\u001b[0m\u001b[0;34m\u001b[0m\u001b[0;34m\u001b[0m\u001b[0m\n\u001b[0m",
      "\u001b[0;31mValueError\u001b[0m: could not broadcast input array from shape (3) into shape (100)"
     ]
    }
   ],
   "source": [
    "x[:] = np.array([1,2,3])"
   ]
  },
  {
   "cell_type": "code",
   "execution_count": 20,
   "metadata": {},
   "outputs": [],
   "source": [
    "x = np.random.rand(100)\n",
    "y = np.random.rand(100)"
   ]
  },
  {
   "cell_type": "code",
   "execution_count": 22,
   "metadata": {},
   "outputs": [
    {
     "data": {
      "text/plain": [
       "array([0.2632094 , 0.02764988, 0.24814066, 0.27378395, 0.12955193,\n",
       "       0.16293452, 0.05459373, 0.18009227, 0.00549799, 0.11084851,\n",
       "       0.01471291, 0.01992766, 0.24389658, 0.00380751, 0.36571637,\n",
       "       0.20355394, 0.05787167, 0.11414523, 0.33212405, 0.00910292,\n",
       "       0.09639325, 0.12603422, 0.21974415, 0.4594747 , 0.00537612,\n",
       "       0.16486814, 0.33079716, 0.53420096, 0.06429088, 0.03522411,\n",
       "       0.70683212, 0.63699618, 0.37834931, 0.42978669, 0.54490106,\n",
       "       0.50839152, 0.60342602, 0.72171406, 0.15346108, 0.58228121,\n",
       "       0.05131558, 0.05816925, 0.18069909, 0.31255437, 0.14528334,\n",
       "       0.26217749, 0.00108671, 0.41829045, 0.34013071, 0.08504418,\n",
       "       0.19218239, 0.72752223, 0.35442016, 0.14637891, 0.31209762,\n",
       "       0.35649306, 0.09634286, 0.64554953, 0.09100667, 0.09785422,\n",
       "       0.40534523, 0.00436848, 0.13166023, 0.40737427, 0.15028015,\n",
       "       0.12271959, 0.0196978 , 0.0280872 , 0.03295666, 0.20269886,\n",
       "       0.1483076 , 0.0343848 , 0.05546871, 0.08763434, 0.27658861,\n",
       "       0.64560946, 0.20781408, 0.11824152, 0.25843033, 0.17654917,\n",
       "       0.15946981, 0.4581889 , 0.32715537, 0.1349093 , 0.20889613,\n",
       "       0.24488613, 0.76630036, 0.0590145 , 0.70866446, 0.06115266,\n",
       "       0.09156309, 0.38788011, 0.14111178, 0.43710454, 0.10521785,\n",
       "       0.0791643 , 0.05036774, 0.29474479, 0.44360986, 0.43259914])"
      ]
     },
     "execution_count": 22,
     "metadata": {},
     "output_type": "execute_result"
    }
   ],
   "source": [
    "np.multiply(x,y, out=x)"
   ]
  },
  {
   "cell_type": "code",
   "execution_count": null,
   "metadata": {},
   "outputs": [],
   "source": []
  }
 ],
 "metadata": {
  "kernelspec": {
   "display_name": "Python 3",
   "language": "python",
   "name": "python3"
  },
  "language_info": {
   "codemirror_mode": {
    "name": "ipython",
    "version": 3
   },
   "file_extension": ".py",
   "mimetype": "text/x-python",
   "name": "python",
   "nbconvert_exporter": "python",
   "pygments_lexer": "ipython3",
   "version": "3.7.4"
  }
 },
 "nbformat": 4,
 "nbformat_minor": 2
}
