{
 "cells": [
  {
   "cell_type": "raw",
   "metadata": {},
   "source": [
    "---\n",
    "title: \"2D Monte Carlo\"\n",
    "author: \"Dr. Peter Delemere\"\n",
    "format:\n",
    "    html:\n",
    "        code-fold: false\n",
    "execute:\n",
    "    output: true\n",
    "    warning: false\n",
    "toc: true\n",
    "jupyter: python3\n",
    "---"
   ]
  },
  {
   "cell_type": "markdown",
   "metadata": {
    "colab_type": "text",
    "id": "teVWlA9e6GsG"
   },
   "source": [
    "## Multidimensional Monte Carlo integration\n",
    "\n",
    "- Monte Carlo integration is most suitable for the evaluation of multiple integrals for which conventional numerical methods are not generally useful.\n",
    "\n",
    "- As an example, consider the center of mass of rigid bodies.\n",
    "\n",
    "- Assume the mass is distributed continuously with a known mass density $\\rho(x,y)$.  For simplicity, consider 2-D objeccts.\n",
    "\n",
    "- The mass of a small area element is\n",
    "\n",
    "\\begin{equation*}\n",
    "dm = \\rho(x,y) dx dy\n",
    "\\end{equation*}\n",
    " \n",
    " -The total mass of the object is\n",
    " \n",
    " \\begin{equation*}\n",
    "M = \\int \\int \\rho(x,y) dx dy\n",
    " \\end{equation*}\n",
    "\n",
    "- The classical methods (e.g., trapezoidal and Simpson's) require two 1-D integrals, i.e.,\n",
    "\n",
    "\\begin{align*}\n",
    "g(x) &=& \\int_{y_1(x)}^{y_2(x)} \\rho(x,y) dy\\\\\n",
    "M  & =& \\int_{x_1}^{x_2} g(x) dx\n",
    "\\end{align*}\n",
    "\n",
    "- Using Monte Carlo, compute the mass of a disk of radius $r  = 4$ and mass density $\\rho(x,y) = 1 + \\frac{1}{2}(x^2 + y^2)$ where $x$ and $y$ are measured frome the center of the disk (WolframAlpha answer in cylidrical coordinates = 251.327).  Note that the region is defined by $x^2 + y^2 \\le 4$.\n",
    "\n",
    "- Next, add a cavity to the disk of radius 1 and centered at $x,y = [0,1]$\n",
    "\n"
   ]
  },
  {
   "cell_type": "code",
   "execution_count": 70,
   "metadata": {
    "colab": {
     "base_uri": "https://localhost:8080/",
     "height": 34
    },
    "colab_type": "code",
    "executionInfo": {
     "elapsed": 454,
     "status": "ok",
     "timestamp": 1585172927210,
     "user": {
      "displayName": "Peter Delamere",
      "photoUrl": "https://lh3.googleusercontent.com/a-/AOh14GgoMiIU3IJPJLRMUAbmjNqA5eOzKWvKwyyc9Lx9=s64",
      "userId": "11305378101304655762"
     },
     "user_tz": 480
    },
    "id": "AjZncflz4uaM",
    "outputId": "781de94e-f59b-49f2-a4c9-cecc4e640d09"
   },
   "outputs": [
    {
     "name": "stdout",
     "output_type": "stream",
     "text": [
      "0.49729\n"
     ]
    }
   ],
   "source": [
    "import numpy as np\n",
    "import matplotlib.pyplot as plt\n",
    "import random as rnd\n",
    "\n",
    "def MC_int_1D(f,x1,x2,H,N):\n",
    "  A = H*(x2-x1)\n",
    "  hit = 0.0\n",
    "  for _ in range(N):\n",
    "    r = x1 + rnd.random()*(x2-x1)\n",
    "    fr = rnd.random()*H\n",
    "    if (fr < f(r)):\n",
    "      hit = hit + 1\n",
    "  return A*hit/N\n",
    "\n",
    "# Calculate f(x) = x from 0 to 1\n",
    "N = 100000\n",
    "x1 = 0\n",
    "x2 = 1\n",
    "\n",
    "def f(x):\n",
    "  return x\n",
    "\n",
    "func = f\n",
    "H = 1.0\n",
    "Area = MC_int_1D(func,x1,x2,H,N)\n",
    "print(Area)\n",
    "\n",
    "\n"
   ]
  },
  {
   "cell_type": "code",
   "execution_count": 80,
   "metadata": {
    "colab": {
     "base_uri": "https://localhost:8080/",
     "height": 51
    },
    "colab_type": "code",
    "executionInfo": {
     "elapsed": 3212,
     "status": "ok",
     "timestamp": 1585173204335,
     "user": {
      "displayName": "Peter Delamere",
      "photoUrl": "https://lh3.googleusercontent.com/a-/AOh14GgoMiIU3IJPJLRMUAbmjNqA5eOzKWvKwyyc9Lx9=s64",
      "userId": "11305378101304655762"
     },
     "user_tz": 480
    },
    "id": "fL95MudIVmXF",
    "outputId": "a73b178d-497d-4b70-89b0-09c9c49589a7"
   },
   "outputs": [
    {
     "name": "stdout",
     "output_type": "stream",
     "text": [
      "Full disk:  251.059968\n",
      "Disk with cavity:  241.312896\n"
     ]
    }
   ],
   "source": [
    "# Calculate Mass of disk\n",
    "\n",
    "def MC_int_2D(f,x1,x2,y1,y2,H,N):\n",
    "  V = H*(x2-x1)*(y2-y1)\n",
    "  hit = 0.0\n",
    "  for _ in range(N):\n",
    "    rx = x1 + rnd.random()*(x2-x1)\n",
    "    ry = y1 + rnd.random()*(y2-y1)  \n",
    "    fxy = rnd.random()*H\n",
    "    if (fxy < f(rx,ry)):\n",
    "      hit = hit + 1\n",
    "  return V*hit/N\n",
    "\n",
    "def rho(x,y):\n",
    "  r = np.sqrt(x**2 + y**2)\n",
    "  if (r <= 4):\n",
    "    rho = 1 + 0.5*(x**2 + y**2)\n",
    "  else:\n",
    "    rho = 0.0\n",
    "  return rho\n",
    "\n",
    "def rho_cavity(x,y):\n",
    "  r = np.sqrt(x**2 + y**2)\n",
    "  if (r <= 4):\n",
    "    rho = 1 + 0.5*(x**2 + y**2)\n",
    "  else:\n",
    "    rho = 0.0\n",
    "  if (np.sqrt((x-2)**2 + y**2) < 1):  \n",
    "    rho = 0.0  \n",
    "  return rho\n",
    "\n",
    "N = 500000\n",
    "x1 = -4\n",
    "x2 = 4\n",
    "y1 = -4\n",
    "y2 = 4\n",
    "H = 1 + 0.5*(4**2) #maximum value of function\n",
    "func = rho\n",
    "intgl = MC_int_2D(func,x1,x2,y1,y2,H,N)\n",
    "print('Full disk: ',intgl)\n",
    "\n",
    "func = rho_cavity\n",
    "intgl = MC_int_2D(func,x1,x2,y1,y2,H,N)\n",
    "print('Disk with cavity: ',intgl)"
   ]
  }
 ],
 "metadata": {
  "colab": {
   "authorship_tag": "ABX9TyPM3yPlbg0h12LYuHYpYbkg",
   "collapsed_sections": [],
   "name": "2D_Monte_Carlo.ipynb",
   "provenance": []
  },
  "kernelspec": {
   "display_name": "Python 3",
   "language": "python",
   "name": "python3"
  },
  "language_info": {
   "codemirror_mode": {
    "name": "ipython",
    "version": 3
   },
   "file_extension": ".py",
   "mimetype": "text/x-python",
   "name": "python",
   "nbconvert_exporter": "python",
   "pygments_lexer": "ipython3",
   "version": "3.7.6"
  }
 },
 "nbformat": 4,
 "nbformat_minor": 1
}
