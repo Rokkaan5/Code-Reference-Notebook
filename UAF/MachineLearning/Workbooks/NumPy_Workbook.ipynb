{
 "cells": [
  {
   "cell_type": "raw",
   "metadata": {},
   "source": [
    "---\n",
    "title: \"Numpy Workbook\"\n",
    "format:\n",
    "  html:\n",
    "    code-fold: false\n",
    "execute:\n",
    "  output: true\n",
    "toc: true\n",
    "---"
   ]
  },
  {
   "cell_type": "markdown",
   "metadata": {},
   "source": [
    "\n",
    "Welcome to the NumPy Workbook. Let's start with importing the NumPy library."
   ]
  },
  {
   "cell_type": "code",
   "execution_count": 1,
   "metadata": {},
   "outputs": [],
   "source": [
    "import numpy as np"
   ]
  },
  {
   "cell_type": "markdown",
   "metadata": {},
   "source": [
    "## 1.NumPy Arrays"
   ]
  },
  {
   "cell_type": "markdown",
   "metadata": {},
   "source": [
    "Let's start with defining a NumPy array."
   ]
  },
  {
   "cell_type": "code",
   "execution_count": 2,
   "metadata": {},
   "outputs": [],
   "source": [
    "array_a = np.array([1,2,3,4])"
   ]
  },
  {
   "cell_type": "markdown",
   "metadata": {},
   "source": [
    "It is important to note that we have used square brackets inside the paranthesis to define the elements of the array."
   ]
  },
  {
   "cell_type": "code",
   "execution_count": 3,
   "metadata": {},
   "outputs": [],
   "source": [
    "array_b = np.array([[1,2,3,4], [5,6,7,8]])"
   ]
  },
  {
   "cell_type": "markdown",
   "metadata": {},
   "source": [
    "Let's explore a few of the functionality with these arrays."
   ]
  },
  {
   "cell_type": "markdown",
   "metadata": {},
   "source": [
    "#### Using print and type functionalities."
   ]
  },
  {
   "cell_type": "code",
   "execution_count": 4,
   "metadata": {},
   "outputs": [
    {
     "name": "stdout",
     "output_type": "stream",
     "text": [
      "Type of array_a is:  <class 'numpy.ndarray'>\n"
     ]
    }
   ],
   "source": [
    "print('Type of array_a is: ', type(array_a))"
   ]
  },
  {
   "cell_type": "code",
   "execution_count": 5,
   "metadata": {},
   "outputs": [
    {
     "name": "stdout",
     "output_type": "stream",
     "text": [
      "Type of array_b is:  <class 'numpy.ndarray'>\n"
     ]
    }
   ],
   "source": [
    "print('Type of array_b is: ', type(array_b))"
   ]
  },
  {
   "cell_type": "markdown",
   "metadata": {},
   "source": [
    "#### Using the size, shape, ndim, len functionalities."
   ]
  },
  {
   "cell_type": "code",
   "execution_count": 6,
   "metadata": {},
   "outputs": [
    {
     "name": "stdout",
     "output_type": "stream",
     "text": [
      "Size of array_a is:  4\n"
     ]
    }
   ],
   "source": [
    "print('Size of array_a is: ',array_a.size)"
   ]
  },
  {
   "cell_type": "code",
   "execution_count": 7,
   "metadata": {},
   "outputs": [
    {
     "name": "stdout",
     "output_type": "stream",
     "text": [
      "Size of array_b is:  8\n"
     ]
    }
   ],
   "source": [
    "print('Size of array_b is: ', array_b.size)"
   ]
  },
  {
   "cell_type": "code",
   "execution_count": 8,
   "metadata": {},
   "outputs": [
    {
     "name": "stdout",
     "output_type": "stream",
     "text": [
      "Shape of array_a is:  (4,)\n"
     ]
    }
   ],
   "source": [
    "print('Shape of array_a is: ', array_a.shape)"
   ]
  },
  {
   "cell_type": "code",
   "execution_count": 9,
   "metadata": {},
   "outputs": [
    {
     "name": "stdout",
     "output_type": "stream",
     "text": [
      "Size of array_b is:  (2, 4)\n"
     ]
    }
   ],
   "source": [
    "print('Size of array_b is: ', array_b.shape)"
   ]
  },
  {
   "cell_type": "code",
   "execution_count": 10,
   "metadata": {},
   "outputs": [
    {
     "name": "stdout",
     "output_type": "stream",
     "text": [
      "Dimensions of array_a are:  1\n"
     ]
    }
   ],
   "source": [
    "print('Dimensions of array_a are: ', array_a.ndim)"
   ]
  },
  {
   "cell_type": "code",
   "execution_count": 11,
   "metadata": {},
   "outputs": [
    {
     "name": "stdout",
     "output_type": "stream",
     "text": [
      "Dimensions of array_b are:  2\n"
     ]
    }
   ],
   "source": [
    "print('Dimensions of array_b are: ', array_b.ndim)"
   ]
  },
  {
   "cell_type": "code",
   "execution_count": 12,
   "metadata": {},
   "outputs": [
    {
     "name": "stdout",
     "output_type": "stream",
     "text": [
      "Length of array_a is:  4\n"
     ]
    }
   ],
   "source": [
    "print('Length of array_a is: ', len(array_a))"
   ]
  },
  {
   "cell_type": "code",
   "execution_count": 13,
   "metadata": {},
   "outputs": [
    {
     "name": "stdout",
     "output_type": "stream",
     "text": [
      "Length of array_b is:  2\n"
     ]
    }
   ],
   "source": [
    "print('Length of array_b is: ', len(array_b))"
   ]
  },
  {
   "cell_type": "markdown",
   "metadata": {},
   "source": [
    "'len' function returned only the first dimension!"
   ]
  },
  {
   "cell_type": "markdown",
   "metadata": {},
   "source": [
    "#### Understanding the index."
   ]
  },
  {
   "cell_type": "markdown",
   "metadata": {},
   "source": [
    "Python uses 0 based indexing. Let's go through the exercises below to understand items and indices."
   ]
  },
  {
   "cell_type": "code",
   "execution_count": 14,
   "metadata": {},
   "outputs": [
    {
     "name": "stdout",
     "output_type": "stream",
     "text": [
      "Array_a is: \n",
      " [1 2 3 4]\n"
     ]
    }
   ],
   "source": [
    "print('Array_a is: \\n', array_a)"
   ]
  },
  {
   "cell_type": "code",
   "execution_count": 15,
   "metadata": {},
   "outputs": [
    {
     "name": "stdout",
     "output_type": "stream",
     "text": [
      "Array_b is: \n",
      " [[1 2 3 4]\n",
      " [5 6 7 8]]\n"
     ]
    }
   ],
   "source": [
    "print('Array_b is: \\n', array_b)"
   ]
  },
  {
   "cell_type": "code",
   "execution_count": 16,
   "metadata": {},
   "outputs": [
    {
     "name": "stdout",
     "output_type": "stream",
     "text": [
      "Index 1 of array_a is:  2\n"
     ]
    }
   ],
   "source": [
    "print('Index 1 of array_a is: ', array_a[1])"
   ]
  },
  {
   "cell_type": "code",
   "execution_count": 17,
   "metadata": {},
   "outputs": [
    {
     "name": "stdout",
     "output_type": "stream",
     "text": [
      "Index 0 of array_a is:  1\n"
     ]
    }
   ],
   "source": [
    "print('Index 0 of array_a is: ', array_a[0])"
   ]
  },
  {
   "cell_type": "code",
   "execution_count": 18,
   "metadata": {
    "scrolled": true
   },
   "outputs": [
    {
     "ename": "IndexError",
     "evalue": "index 4 is out of bounds for axis 0 with size 4",
     "output_type": "error",
     "traceback": [
      "\u001b[0;31m---------------------------------------------------------------------------\u001b[0m",
      "\u001b[0;31mIndexError\u001b[0m                                Traceback (most recent call last)",
      "\u001b[0;32m<ipython-input-18-232aed942ef8>\u001b[0m in \u001b[0;36m<module>\u001b[0;34m\u001b[0m\n\u001b[0;32m----> 1\u001b[0;31m \u001b[0mprint\u001b[0m\u001b[0;34m(\u001b[0m\u001b[0;34m'Index 4 of array_a is: '\u001b[0m\u001b[0;34m,\u001b[0m \u001b[0marray_a\u001b[0m\u001b[0;34m[\u001b[0m\u001b[0;36m4\u001b[0m\u001b[0;34m]\u001b[0m\u001b[0;34m)\u001b[0m\u001b[0;34m\u001b[0m\u001b[0;34m\u001b[0m\u001b[0m\n\u001b[0m",
      "\u001b[0;31mIndexError\u001b[0m: index 4 is out of bounds for axis 0 with size 4"
     ]
    }
   ],
   "source": [
    "print('Index 4 of array_a is: ', array_a[4])"
   ]
  },
  {
   "cell_type": "code",
   "execution_count": 19,
   "metadata": {},
   "outputs": [
    {
     "name": "stdout",
     "output_type": "stream",
     "text": [
      "Index 3 of array_a is:  4\n"
     ]
    }
   ],
   "source": [
    "print('Index 3 of array_a is: ', array_a[3])"
   ]
  },
  {
   "cell_type": "code",
   "execution_count": 20,
   "metadata": {},
   "outputs": [
    {
     "name": "stdout",
     "output_type": "stream",
     "text": [
      "Last item of array_a is:  4\n"
     ]
    }
   ],
   "source": [
    "print('Last item of array_a is: ', array_a[-1])"
   ]
  },
  {
   "cell_type": "code",
   "execution_count": 21,
   "metadata": {},
   "outputs": [
    {
     "ename": "IndexError",
     "evalue": "index 4 is out of bounds for axis 0 with size 2",
     "output_type": "error",
     "traceback": [
      "\u001b[0;31m---------------------------------------------------------------------------\u001b[0m",
      "\u001b[0;31mIndexError\u001b[0m                                Traceback (most recent call last)",
      "\u001b[0;32m<ipython-input-21-c82990bd82ea>\u001b[0m in \u001b[0;36m<module>\u001b[0;34m\u001b[0m\n\u001b[0;32m----> 1\u001b[0;31m \u001b[0mprint\u001b[0m\u001b[0;34m(\u001b[0m\u001b[0;34m'Index 4 of array_b is: '\u001b[0m\u001b[0;34m,\u001b[0m \u001b[0marray_b\u001b[0m\u001b[0;34m[\u001b[0m\u001b[0;36m4\u001b[0m\u001b[0;34m]\u001b[0m\u001b[0;34m)\u001b[0m\u001b[0;34m\u001b[0m\u001b[0;34m\u001b[0m\u001b[0m\n\u001b[0m",
      "\u001b[0;31mIndexError\u001b[0m: index 4 is out of bounds for axis 0 with size 2"
     ]
    }
   ],
   "source": [
    "print('Index 4 of array_b is: ', array_b[4])"
   ]
  },
  {
   "cell_type": "code",
   "execution_count": 22,
   "metadata": {},
   "outputs": [
    {
     "name": "stdout",
     "output_type": "stream",
     "text": [
      "4th item of array_b is:  4\n"
     ]
    }
   ],
   "source": [
    "print('4th item of array_b is: ', array_b[0,3])"
   ]
  },
  {
   "cell_type": "code",
   "execution_count": 23,
   "metadata": {},
   "outputs": [
    {
     "name": "stdout",
     "output_type": "stream",
     "text": [
      "4th item of array_b is:  4\n"
     ]
    }
   ],
   "source": [
    "print('4th item of array_b is: ', array_b[0,-1])"
   ]
  },
  {
   "cell_type": "code",
   "execution_count": 24,
   "metadata": {},
   "outputs": [
    {
     "name": "stdout",
     "output_type": "stream",
     "text": [
      "6th item of array_b is:  6\n"
     ]
    }
   ],
   "source": [
    "print('6th item of array_b is: ', array_b[1,1])"
   ]
  },
  {
   "cell_type": "markdown",
   "metadata": {},
   "source": [
    "### Creating NumPy arrays."
   ]
  },
  {
   "cell_type": "code",
   "execution_count": 27,
   "metadata": {},
   "outputs": [
    {
     "name": "stdout",
     "output_type": "stream",
     "text": [
      "array_zeros is: \n",
      " [0. 0. 0. 0. 0.]\n",
      "Shape of array zeros is:  (5,)\n",
      "Size of array zeros is:  5\n",
      "Dimensions of array zeros is:  1\n"
     ]
    }
   ],
   "source": [
    "# Create an array of shape 5,1 with zeros.\n",
    "array_zeros = np.zeros(5)\n",
    "print('array_zeros is: \\n', array_zeros)\n",
    "print('Shape of array_zeros is: ', array_zeros.shape)\n",
    "print('Size of array_zeros is: ', array_zeros.size)\n",
    "print('Dimensions of array_zeros is: ', array_zeros.ndim)"
   ]
  },
  {
   "cell_type": "code",
   "execution_count": 29,
   "metadata": {},
   "outputs": [
    {
     "name": "stdout",
     "output_type": "stream",
     "text": [
      "array_ones is: \n",
      " [[1. 1.]\n",
      " [1. 1.]\n",
      " [1. 1.]\n",
      " [1. 1.]\n",
      " [1. 1.]]\n",
      "Shape of array ones is:  (5, 2)\n",
      "Size of array ones is:  10\n",
      "Dimensions of array ones is:  2\n"
     ]
    }
   ],
   "source": [
    "# Create an array of shape 5,2 with ones.\n",
    "array_ones = np.ones([5,2])\n",
    "print('array_ones is: \\n', array_ones)\n",
    "print('Shape of array_ones is: ', array_ones.shape)\n",
    "print('Size of array_ones is: ', array_ones.size)\n",
    "print('Dimensions of array_ones is: ', array_ones.ndim)"
   ]
  },
  {
   "cell_type": "code",
   "execution_count": 31,
   "metadata": {},
   "outputs": [
    {
     "name": "stdout",
     "output_type": "stream",
     "text": [
      "array_empty is: \n",
      " [[[-0.00000000e+000  1.29073885e-231  8.39911598e-323]\n",
      "  [ 0.00000000e+000  2.12199579e-314  5.02034658e+175]]\n",
      "\n",
      " [[ 2.59942228e-056  3.53727900e-057  2.74199273e-057]\n",
      "  [ 7.48970997e-067  2.31704289e-052  3.59751658e+252]]\n",
      "\n",
      " [[ 8.93185432e+271  7.33723594e+223  1.47763641e+248]\n",
      "  [ 1.16096346e-028  2.28899527e+243  1.35617292e+248]]\n",
      "\n",
      " [[ 5.17295507e+170  1.26931701e-076  9.97095091e-047]\n",
      "  [ 2.21542434e-052  5.43303329e-143  1.16097020e-028]]\n",
      "\n",
      " [[ 3.93229708e-062  9.71520605e-067  8.60954369e-043]\n",
      "  [ 1.11763122e+261  1.16318408e-028  6.79764374e-310]]]\n",
      "Shape of array_empty is:  (5, 2, 3)\n",
      "Size of array_empty is:  30\n",
      "Dimensions of array_empty is:  3\n"
     ]
    }
   ],
   "source": [
    "# Create an empty array of shape 5,2,3.\n",
    "array_empty = np.empty([5,2,3])\n",
    "print('array_empty is: \\n', array_empty)\n",
    "print('Shape of array_empty is: ', array_empty.shape)\n",
    "print('Size of array_empty is: ', array_empty.size)\n",
    "print('Dimensions of array_empty is: ', array_empty.ndim)"
   ]
  },
  {
   "cell_type": "markdown",
   "metadata": {},
   "source": [
    "We can also create an array in a range of evenly spaced intervals with the arange function. aranged_array = np.arange(first number, last number, step size). Let's go:"
   ]
  },
  {
   "cell_type": "code",
   "execution_count": 33,
   "metadata": {},
   "outputs": [
    {
     "name": "stdout",
     "output_type": "stream",
     "text": [
      "The aranged_array is:  [ 0  3  6  9 12 15 18 21]\n",
      "The shape of the aranged_array is:  (8,)\n"
     ]
    }
   ],
   "source": [
    "# Create an array from 0 to 22, with increments of 3.\n",
    "aranged_array = np.arange(0, 22, 3)\n",
    "print('The aranged_array is: ', aranged_array)\n",
    "print('The shape of the aranged_array is: ', aranged_array.shape)"
   ]
  },
  {
   "cell_type": "markdown",
   "metadata": {},
   "source": [
    "Similarly, we can create linearly spaced arrays using linspace function. spaced_array = np.linspace(first number, last number, number of intervals)."
   ]
  },
  {
   "cell_type": "code",
   "execution_count": 50,
   "metadata": {},
   "outputs": [
    {
     "name": "stdout",
     "output_type": "stream",
     "text": [
      "The spaced_array is: \n",
      " [ 0.  3.  6.  9. 12. 15. 18. 21.]\n",
      "The shape of the spaced_array is:  (8,)\n"
     ]
    }
   ],
   "source": [
    "# Create an array from 0 to 22, with 7 intervals.\n",
    "spaced_array = np.linspace(0, 21, 8)\n",
    "print('The spaced_array is: \\n', spaced_array)\n",
    "print('The shape of the spaced_array is: ',spaced_array.shape)"
   ]
  },
  {
   "cell_type": "markdown",
   "metadata": {},
   "source": [
    "We can also reshape the arrays using .transpose() and .reshape() function."
   ]
  },
  {
   "cell_type": "code",
   "execution_count": 52,
   "metadata": {},
   "outputs": [
    {
     "name": "stdout",
     "output_type": "stream",
     "text": [
      "The spaced_array is: \n",
      " [ 0.  3.  6.  9. 12. 15. 18. 21.]\n",
      "The shape of the spaced_array is:  (8,)\n",
      "The spaced_array_transpose is: \n",
      " [ 0.  3.  6.  9. 12. 15. 18. 21.]\n",
      "The shape of the spaced_array_transpose is:  (8,)\n"
     ]
    }
   ],
   "source": [
    "spaced_array_transpose = spaced_array.transpose()\n",
    "print('The spaced_array is: \\n', spaced_array)\n",
    "print('The shape of the spaced_array is: ',spaced_array.shape)\n",
    "print('The spaced_array_transpose is: \\n', spaced_array_transpose)\n",
    "print('The shape of the spaced_array_transpose is: ',spaced_array_transpose.shape)"
   ]
  },
  {
   "cell_type": "code",
   "execution_count": 45,
   "metadata": {},
   "outputs": [
    {
     "name": "stdout",
     "output_type": "stream",
     "text": [
      "The spaced_array_reversed is:  [[ 0.  3.  6.  9. 12. 15. 18. 21.]]\n",
      "The shape of the spaced_array_reversed is:  (1, 8)\n"
     ]
    }
   ],
   "source": [
    "spaced_array_reversed = np.reshape(spaced_array, newshape=(1, len(spaced_array)))\n",
    "print('The spaced_array_reversed is: \\n', spaced_array_reversed)\n",
    "print('The shape of the spaced_array_reversed is: ',spaced_array_reversed.shape)"
   ]
  },
  {
   "cell_type": "code",
   "execution_count": 47,
   "metadata": {},
   "outputs": [
    {
     "name": "stdout",
     "output_type": "stream",
     "text": [
      "The spaced_array_reshaped is: \n",
      " [[ 0.  3.  6.  9.]\n",
      " [12. 15. 18. 21.]]\n",
      "The shape of the spaced_array_reshaped is:  (2, 4)\n"
     ]
    }
   ],
   "source": [
    "spaced_array_reshaped = np.reshape(spaced_array, newshape=(2, 4))\n",
    "print('The spaced_array_reshaped is: \\n', spaced_array_reshaped)\n",
    "print('The shape of the spaced_array_reshaped is: ',spaced_array_reshaped.shape)"
   ]
  },
  {
   "cell_type": "code",
   "execution_count": 53,
   "metadata": {},
   "outputs": [
    {
     "name": "stdout",
     "output_type": "stream",
     "text": [
      "The spaced_array_reshaped_transpose is: \n",
      " [[ 0. 12.]\n",
      " [ 3. 15.]\n",
      " [ 6. 18.]\n",
      " [ 9. 21.]]\n",
      "The shape of the spaced_array_reshaped_transpose is:  (4, 2)\n"
     ]
    }
   ],
   "source": [
    "spaced_array_reshaped_transpose = np.reshape(spaced_array, newshape=(2, 4)).transpose()\n",
    "print('The spaced_array_reshaped_transpose is: \\n', spaced_array_reshaped_transpose)\n",
    "print('The shape of the spaced_array_reshaped_transpose is: ',spaced_array_reshaped_transpose.shape)"
   ]
  },
  {
   "cell_type": "markdown",
   "metadata": {},
   "source": [
    "## 2.Basic NumPy Functions"
   ]
  },
  {
   "cell_type": "code",
   "execution_count": 63,
   "metadata": {},
   "outputs": [
    {
     "name": "stdout",
     "output_type": "stream",
     "text": [
      "Sample array is: \n",
      " [[  0.   5.  10.  15.  20.  25.  30.]\n",
      " [ 35.  40.  45.  50.  55.  60.  65.]\n",
      " [ 70.  75.  80.  85.  90.  95. 100.]]\n",
      "Min value of sample array is:  0.0\n",
      "Max value of sample array is:  100.0\n",
      "Mean value of sample array is:  50.0\n",
      "Sum of sample array values is:  1050.0\n"
     ]
    }
   ],
   "source": [
    "# Min, Max, Mean, Sum can be calculated easily.\n",
    "sample_array = np.linspace(0,100,21).reshape(3,7)\n",
    "print('Sample array is: \\n', sample_array)\n",
    "print('Min value of sample array is: ', sample_array.min())\n",
    "print('Max value of sample array is: ', sample_array.max())\n",
    "print('Mean value of sample array is: ', sample_array.mean())\n",
    "print('Sum of sample array values is: ', sample_array.sum())"
   ]
  },
  {
   "cell_type": "code",
   "execution_count": 65,
   "metadata": {},
   "outputs": [
    {
     "name": "stdout",
     "output_type": "stream",
     "text": [
      "Second row of sample array is: \n",
      " [35. 40. 45. 50. 55. 60. 65.]\n"
     ]
    }
   ],
   "source": [
    "# Certain elements of an array can be accessd with \"slicing\".\n",
    "print('Second row of sample array is: \\n', sample_array[1,:])"
   ]
  },
  {
   "cell_type": "markdown",
   "metadata": {},
   "source": [
    "## 3.Custom Functions with NumPy"
   ]
  },
  {
   "cell_type": "code",
   "execution_count": 70,
   "metadata": {},
   "outputs": [],
   "source": [
    "### Custom Functions can be built with the following structure:\n",
    "\n",
    "def my_function(input):\n",
    "    output = input*2 + 1\n",
    "    return output"
   ]
  },
  {
   "cell_type": "code",
   "execution_count": 69,
   "metadata": {},
   "outputs": [
    {
     "name": "stdout",
     "output_type": "stream",
     "text": [
      "11\n"
     ]
    }
   ],
   "source": [
    "a = 5\n",
    "b = my_function(a)\n",
    "\n",
    "print(b)"
   ]
  },
  {
   "cell_type": "markdown",
   "metadata": {},
   "source": [
    "#### For Loops"
   ]
  },
  {
   "cell_type": "markdown",
   "metadata": {},
   "source": [
    "The elements of an array can be called separately through an iterative loop."
   ]
  },
  {
   "cell_type": "code",
   "execution_count": 73,
   "metadata": {},
   "outputs": [
    {
     "name": "stdout",
     "output_type": "stream",
     "text": [
      "Sample array is : \n",
      " [ 0  5 10 15]\n"
     ]
    }
   ],
   "source": [
    "sample_array = np.arange(0,20,5)\n",
    "print('Sample array is : \\n', sample_array)"
   ]
  },
  {
   "cell_type": "markdown",
   "metadata": {},
   "source": [
    "How will we access each element on this array? There are two ways, we can directly call elements in an array or call the index of elements. Check out these two codes and see what is different.\n"
   ]
  },
  {
   "cell_type": "code",
   "execution_count": 75,
   "metadata": {},
   "outputs": [
    {
     "name": "stdout",
     "output_type": "stream",
     "text": [
      "0\n",
      "5\n",
      "10\n",
      "15\n"
     ]
    }
   ],
   "source": [
    "for item in (sample_array):\n",
    "    print(item)"
   ]
  },
  {
   "cell_type": "code",
   "execution_count": 74,
   "metadata": {},
   "outputs": [
    {
     "name": "stdout",
     "output_type": "stream",
     "text": [
      "0 th element of the sample array is:  0\n",
      "1 th element of the sample array is:  5\n",
      "2 th element of the sample array is:  10\n",
      "3 th element of the sample array is:  15\n"
     ]
    }
   ],
   "source": [
    "for i in range(len(sample_array)):\n",
    "    print(i,'th element of the sample array is: ', sample_array[i])"
   ]
  },
  {
   "cell_type": "markdown",
   "metadata": {},
   "source": [
    "We can also perform computations on the sample array and store the new values to a new NumPy array."
   ]
  },
  {
   "cell_type": "code",
   "execution_count": 78,
   "metadata": {},
   "outputs": [],
   "source": [
    "# First, let's create a new array of zeros, with the same length of sample_array.\n",
    "new_array = np.zeros(len(sample_array))"
   ]
  },
  {
   "cell_type": "code",
   "execution_count": 79,
   "metadata": {},
   "outputs": [],
   "source": [
    "for i in range(len(sample_array)):\n",
    "    new_array[i] = my_function(sample_array[i])"
   ]
  },
  {
   "cell_type": "code",
   "execution_count": 81,
   "metadata": {},
   "outputs": [
    {
     "name": "stdout",
     "output_type": "stream",
     "text": [
      "The values of new array are: \n",
      " [ 1. 11. 21. 31.]\n"
     ]
    }
   ],
   "source": [
    "print('The values of new array are: \\n', new_array)"
   ]
  },
  {
   "cell_type": "markdown",
   "metadata": {},
   "source": [
    "👏👏👏👏 Congratulations! You have completed the NumPy Workbook. Copy this workbook with a new name and try changing the exercises to explore the functions further."
   ]
  }
 ],
 "metadata": {
  "kernelspec": {
   "display_name": "Python 3 (ipykernel)",
   "language": "python",
   "name": "python3"
  },
  "language_info": {
   "codemirror_mode": {
    "name": "ipython",
    "version": 3
   },
   "file_extension": ".py",
   "mimetype": "text/x-python",
   "name": "python",
   "nbconvert_exporter": "python",
   "pygments_lexer": "ipython3",
   "version": "3.8.16"
  }
 },
 "nbformat": 4,
 "nbformat_minor": 4
}
