{
 "cells": [
  {
   "cell_type": "code",
   "execution_count": 1,
   "metadata": {},
   "outputs": [],
   "source": [
    "import numpy as np\n",
    "\n",
    "cl = 1.6e-4     #(m^2/kg)    #for rho < 550 (kg/m^3)\n",
    "cg = 0.43e-4    #(m^2/kg)    #for rho >= 550 (kg/m^3)\n",
    "\n",
    "rhoi = 900      #(kg/m^3)    #ice density\n",
    "rhos = 360      #(kg/m^3)    #snow density\n",
    "K = 0.652       #K = ln(eps_0) - eps_0\n",
    "\n",
    "def z(c,rho_i,rho,K):\n",
    "    eps = (rho_i-rho)/rho     #epsilon = void ratio\n",
    "    return (1/(c*rho_i))*(K - (np.log(eps) - eps))\n"
   ]
  },
  {
   "cell_type": "code",
   "execution_count": null,
   "metadata": {},
   "outputs": [],
   "source": [
    "#1.1\n",
    "rho = 550 #(kg/m^3)  #rho\n",
    "rbc = 800 #(kg/m^3)  #density of bubble closure\n",
    "\n",
    "z1 = z(cg,)"
   ]
  }
 ],
 "metadata": {
  "kernelspec": {
   "display_name": "Python 3",
   "language": "python",
   "name": "python3"
  },
  "language_info": {
   "codemirror_mode": {
    "name": "ipython",
    "version": 3
   },
   "file_extension": ".py",
   "mimetype": "text/x-python",
   "name": "python",
   "nbconvert_exporter": "python",
   "pygments_lexer": "ipython3",
   "version": "3.7.4"
  }
 },
 "nbformat": 4,
 "nbformat_minor": 2
}
