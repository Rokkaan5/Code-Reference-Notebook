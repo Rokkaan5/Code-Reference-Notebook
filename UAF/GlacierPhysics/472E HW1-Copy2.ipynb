{
 "cells": [
  {
   "cell_type": "markdown",
   "metadata": {},
   "source": [
    "# Phys 472E: Glacier Physics (HW1)\n",
    "**Due Date:** 10/14/2020 (11:59pm)\n",
    "\n",
    "**Name:** Jasmine Kobayashi\n"
   ]
  },
  {
   "cell_type": "code",
   "execution_count": 1,
   "metadata": {},
   "outputs": [],
   "source": [
    "import numpy as np\n",
    "import matplotlib.pyplot as plt\n",
    "#Homework1\n",
    "cl = 1.6e-4     #(m^2/kg)    #for rho < 550 (kg/m^3)\n",
    "cg = 0.43e-4    #(m^2/kg)    #for rho >= 550 (kg/m^3)\n",
    "\n",
    "rhoi = 900      #(kg/m^3)    #ice density\n",
    "rhos = 360      #(kg/m^3)    #snow density\n",
    "K = 0.652       #K = ln(eps_0) - eps_0\n",
    "\n",
    "def z(rho_i,rho):\n",
    "    if rho<550:\n",
    "        c = cl\n",
    "    elif rho>=550:\n",
    "        c = cg\n",
    "    eps = (rho_i-rho)/rho     #epsilon = void ratio\n",
    "    return (1/(c*rho_i))*(K - (np.log(np.abs(eps)) - eps))\n"
   ]
  },
  {
   "cell_type": "code",
   "execution_count": 2,
   "metadata": {},
   "outputs": [
    {
     "name": "stdout",
     "output_type": "stream",
     "text": [
      "Problem 1.1:\n",
      "Depth =  44.97025  meters\n",
      "Bubble-Closure Depth = 73.80986  meters\n"
     ]
    }
   ],
   "source": [
    "#Problem 1.1 (Firn Densification)\n",
    "rho = 550 #(kg/m^3)  #rho\n",
    "rbc = 800 #(kg/m^3)  #density of bubble closure\n",
    "\n",
    "z1 = z(rhoi,rho)\n",
    "zb = z(rhoi,rbc)\n",
    "print(\"Problem 1.1:\")\n",
    "print(\"Depth = \",round(z1,5),\" meters\")\n",
    "print(\"Bubble-Closure Depth =\",round(zb,5),\" meters\")"
   ]
  },
  {
   "cell_type": "code",
   "execution_count": 3,
   "metadata": {},
   "outputs": [
    {
     "data": {
      "text/plain": [
       "Text(0.5, 1.0, 'Problem 1 (Firn Density)')"
      ]
     },
     "execution_count": 3,
     "metadata": {},
     "output_type": "execute_result"
    },
    {
     "data": {
      "image/png": "[encoded data removed]",
      "text/plain": [
       "<Figure size 720x360 with 1 Axes>"
      ]
     },
     "metadata": {
      "needs_background": "light"
     },
     "output_type": "display_data"
    }
   ],
   "source": [
    "#Graphing\n",
    "r = np.arange(rhos,rhoi,1e-2)\n",
    "zg = []\n",
    "for i in range(len(r)):\n",
    "    zg.append(z(rhoi,r[i]))\n",
    "plt.figure(1,figsize=(10,5))\n",
    "plt.plot(zg,r)\n",
    "plt.plot(z1,rho,'o',label=\"(1.1) rho =550\")\n",
    "plt.plot(zb,rbc,'s',label=\"Bubble closure (rho =800)\")\n",
    "plt.legend()\n",
    "plt.xlabel(\"depth ($z$) (meters)\",fontsize=10)\n",
    "plt.ylabel(\"density ($rho$) ($kg/m^3$)\",fontsize=10)\n",
    "plt.title(\"Problem 1 (Firn Density)\",fontsize=12)"
   ]
  },
  {
   "cell_type": "code",
   "execution_count": 4,
   "metadata": {},
   "outputs": [
    {
     "name": "stdout",
     "output_type": "stream",
     "text": [
      "Problem 1.3:\n",
      "Age ~ 2.455 years old\n"
     ]
    }
   ],
   "source": [
    "#Problem 1.3\n",
    "import scipy.integrate as integrate\n",
    "\n",
    "rho0 = rho                #starting rho: rho=550\n",
    "rho1 = rbc                #ending rho: rho=800\n",
    "z_0 = z1                  #starting z: z(rho=550) ~ 45(m)\n",
    "z_1 = zb                  #ending z: z(rho=800) ~ 74(m)\n",
    "ar = 10    #(kg/m^2/yr)   #accumulation rate (given)\n",
    "\n",
    "def age(rho0,rho1,z_0,z_1,ar):\n",
    "    zpint = integrate.quad(lambda rh: z(rhoi,rh), rho0, rho1)\n",
    "    mass = (z_1*rho1)-(z_0*rho0)-zpint[0]\n",
    "    x = mass/((z_1-z_0)**2)\n",
    "    return x/ar\n",
    "\n",
    "age1 = age(rho0,rho1,z_0,z_1,ar)\n",
    "print(\"Problem 1.3:\")\n",
    "print(\"Age ~\",round(age1,3),\"years old\")"
   ]
  },
  {
   "cell_type": "code",
   "execution_count": 5,
   "metadata": {},
   "outputs": [
    {
     "name": "stdout",
     "output_type": "stream",
     "text": [
      "Problem 2.1:\n",
      "Radius of silica core = 2599926.2381 (meters)\n"
     ]
    }
   ],
   "source": [
    "#Problem 2: Ice on Ganymede\n",
    "rho_core = 3800  #(kg/m^3)      #density of silca core\n",
    "rho_mant = 1000  #(kg/m^3)      #density of icy mantle and crust\n",
    "radius = 2.6e6   #(m)           #radius of Ganymede\n",
    "m = 1.5e23       #(kg)          #mass of Ganymede\n",
    "\n",
    "#Problem 2.1:\n",
    "z_mant = z(rhoi,rho_mant)\n",
    "r_core = radius - z_mant\n",
    "print(\"Problem 2.1:\")\n",
    "print(\"Radius of silica core =\",round(r_core,4),\"(meters)\")"
   ]
  },
  {
   "cell_type": "code",
   "execution_count": 1,
   "metadata": {},
   "outputs": [
    {
     "ename": "NameError",
     "evalue": "name 'np' is not defined",
     "output_type": "error",
     "traceback": [
      "\u001b[1;31m---------------------------------------------------------------------------\u001b[0m",
      "\u001b[1;31mNameError\u001b[0m                                 Traceback (most recent call last)",
      "\u001b[1;32m<ipython-input-1-32afc59972d1>\u001b[0m in \u001b[0;36m<module>\u001b[1;34m\u001b[0m\n\u001b[0;32m      1\u001b[0m \u001b[1;31m#Problem 2.2:\u001b[0m\u001b[1;33m\u001b[0m\u001b[1;33m\u001b[0m\u001b[1;33m\u001b[0m\u001b[0m\n\u001b[1;32m----> 2\u001b[1;33m \u001b[0mra\u001b[0m \u001b[1;33m=\u001b[0m \u001b[0mnp\u001b[0m\u001b[1;33m.\u001b[0m\u001b[0marange\u001b[0m\u001b[1;33m(\u001b[0m\u001b[1;36m0.1\u001b[0m\u001b[1;33m,\u001b[0m\u001b[0mradius\u001b[0m\u001b[1;33m,\u001b[0m\u001b[1;36m1\u001b[0m\u001b[1;33m)\u001b[0m\u001b[1;33m\u001b[0m\u001b[1;33m\u001b[0m\u001b[0m\n\u001b[0m\u001b[0;32m      3\u001b[0m \u001b[1;33m\u001b[0m\u001b[0m\n\u001b[0;32m      4\u001b[0m \u001b[1;32mdef\u001b[0m \u001b[0mg\u001b[0m\u001b[1;33m(\u001b[0m\u001b[0mr\u001b[0m\u001b[1;33m)\u001b[0m\u001b[1;33m:\u001b[0m\u001b[1;33m\u001b[0m\u001b[1;33m\u001b[0m\u001b[0m\n\u001b[0;32m      5\u001b[0m     \u001b[1;32mif\u001b[0m \u001b[0mr\u001b[0m\u001b[1;33m>=\u001b[0m\u001b[1;36m0\u001b[0m \u001b[1;32mand\u001b[0m \u001b[0mr\u001b[0m\u001b[1;33m<=\u001b[0m\u001b[0mr_core\u001b[0m\u001b[1;33m:\u001b[0m\u001b[1;33m\u001b[0m\u001b[1;33m\u001b[0m\u001b[0m\n",
      "\u001b[1;31mNameError\u001b[0m: name 'np' is not defined"
     ]
    }
   ],
   "source": [
    "#Problem 2.2:\n",
    "ra = np.arange(0.1,radius,1)\n",
    "\n",
    "def g(r):\n",
    "    if r>=0 and r<=r_core:\n",
    "        rho = rho_core\n",
    "    elif r>r_core and r<=radius:\n",
    "        rho = rho_mant\n",
    "    V = (4/3)*np.pi*(r**3)               #volume of a sphere\n",
    "    G = 6.67e-11        #(N*m^2/kg^2)    #universal gravitational constant\n",
    "    M = rho*V\n",
    "    return (G*M)/(r**2)\n",
    "\n",
    "print(g(radius))\n",
    "\n",
    "def p(r):\n",
    "    p = []\n",
    "    for j in range(len(r)):\n",
    "        if r[j]>=0 and r[j]<=r_core:\n",
    "            rho = rho_core\n",
    "        elif r[j]>r_core and r[j]<=radius:\n",
    "            rho = rho_mant\n",
    "        I = integrate.quad(lambda rad: rho*g(r[j]),0,radius-r[j])\n",
    "        p.append(I[0])\n",
    "    return np.array(p)\n",
    "\n",
    "pR = p([radius,0.1])\n",
    "print(pR)\n",
    "\n",
    "plt.figure(1,figsize=(11,6))\n",
    "plt.plot(ra,p(ra))\n",
    "plt.xlabel(\"Radius $r$ (m)\",fontsize=10)\n",
    "plt.ylabel(\"Pressure $p(r)$ (MPa)\",fontsize=10)\n",
    "plt.title(\"Problem 2.2: Pressure vs. Radius Graph\", fontsize=15)"
   ]
  },
  {
   "cell_type": "code",
   "execution_count": null,
   "metadata": {},
   "outputs": [],
   "source": [
    "print(g(0.1))"
   ]
  }
 ],
 "metadata": {
  "kernelspec": {
   "display_name": "Python 3",
   "language": "python",
   "name": "python3"
  },
  "language_info": {
   "codemirror_mode": {
    "name": "ipython",
    "version": 3
   },
   "file_extension": ".py",
   "mimetype": "text/x-python",
   "name": "python",
   "nbconvert_exporter": "python",
   "pygments_lexer": "ipython3",
   "version": "3.7.4"
  }
 },
 "nbformat": 4,
 "nbformat_minor": 2
}
