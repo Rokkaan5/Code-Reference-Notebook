{
 "cells": [
  {
   "cell_type": "markdown",
   "metadata": {},
   "source": [
    "**7.44)** Refers back to Problem (7.29)\n",
    "\n",
    "One might expect that the rotation of the wheel would have little effect on the pendulum, provided the wheel is small and rotates slowly.\n"
   ]
  },
  {
   "cell_type": "markdown",
   "metadata": {},
   "source": [
    "**(a)** Verify this expectation by solving the equation of motion numerically, with the following numbers: Take $g$ and $l$ to be 1. (This means that the natural frequency $ \\sqrt{\\frac{g}{l}}$ of the pendulum is also 1.) Take $\\omega = 0.2$, so that the wheel's rotational frequency is small compared to the natural frequency of the pendulum; and take the radius $R=0.2$, significantly less than the length of the pendulum. As initial conditions take $\\phi=0.2$ and $\\dot{\\phi} = 0$ at $t=0$, and make a plot of your solution $\\phi (t)$ for $0<t<20$.\n",
    "Your graph should look very like the sinusoidal oscillations of an ordinary simple pendulum. Does the period look correct?"
   ]
  },
  {
   "cell_type": "code",
   "execution_count": null,
   "metadata": {},
   "outputs": [],
   "source": [
    "import numpy as np\n",
    "import matplotlib.pyplot as plt\n",
    "\n",
    "g = l = 1\n",
    "omega = 0.2\n",
    "R = 0.2\n",
    "phi_0 = 0.2\n",
    "dphi_0 = 0\n",
    "t = np.arange(0,20,1e-2)\n",
    "\n",
    "def omg_dot(phi,dphi,t):\n",
    "    wheel = R*(omega**2)*dphi*np.cos(dphi - omega*t)\n",
    "    simple = g*np.sin(phi)\n",
    "    return np.array([dphi,(wheel-simple)/l])\n",
    "\n",
    "def pend_rk4(F,phi1,dphi1,taufinal,dtau):  #dimensionless solve\n",
    "    phi = []\n",
    "    dphi = []\n",
    "    time = []\n",
    "    tau = 0.0\n",
    "    while tau < taufinal:\n",
    "        time.append(tau)\n",
    "        phi.append(phi1)\n",
    "        dphi.append(dphi1)\n",
    "        k1 = dtau*F(phi1,dphi1,tau)\n",
    "        k2 = dtau*F(phi1 + 0.5*k1[0], dphi1 + 0.5*k1[1], tau+dtau/2.)\n",
    "        k3 = dtau*F(phi1 + 0.5*k2[0], dphi1 + 0.5*k2[1], tau+dtau/2.)\n",
    "        k4 = dtau*F(phi1 + k3[0], dphi1 + k3[1], tau+dtau)\n",
    "        phi1 = phi1 + (k1[0] + 2*k2[0] + 2*k3[0] + k4[0])/6.                      \n",
    "        dphi1 = dphi1 + (k1[1] + 2*k2[1] + 2*k3[1] + k4[1])/6.                     \n",
    "        tau = tau+dtau\n",
    "    return np.asarray(theta),np.asarray(omega),np.asarray(time)                 #[0] = theta, [1] = omega, [2] = time\n",
    "\n",
    "pendulum = pend_rk4(omg_dot,phi_0,"
   ]
  },
  {
   "cell_type": "markdown",
   "metadata": {},
   "source": [
    "**(b)** Now plot $\\phi(t)$ for $0<t<100$ and notice that the rotating that the rotating support does make a small difference, causing the amplitude of the oscillations to grow and shrink periodcally. Comment on the period of these small fluctuations."
   ]
  }
 ],
 "metadata": {
  "kernelspec": {
   "display_name": "Python 3",
   "language": "python",
   "name": "python3"
  },
  "language_info": {
   "codemirror_mode": {
    "name": "ipython",
    "version": 3
   },
   "file_extension": ".py",
   "mimetype": "text/x-python",
   "name": "python",
   "nbconvert_exporter": "python",
   "pygments_lexer": "ipython3",
   "version": "3.7.4"
  }
 },
 "nbformat": 4,
 "nbformat_minor": 2
}
