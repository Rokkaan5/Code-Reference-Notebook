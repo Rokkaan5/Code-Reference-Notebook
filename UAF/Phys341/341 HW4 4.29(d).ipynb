{
 "cells": [
  {
   "cell_type": "markdown",
   "metadata": {},
   "source": [
    "**(4.29)** A mass $m$ confined to the x axis has potential energy $U=kx^4$ with $k>0$. \n",
    "\n",
    "\n",
    "**(d)** The integral of part *(b)* cannot be evaluated in terms of elementary functions, but it can be done numerically.\n",
    "Find the period for the case that $m=k=A=1$\n"
   ]
  },
  {
   "cell_type": "code",
   "execution_count": 5,
   "metadata": {},
   "outputs": [
    {
     "name": "stdout",
     "output_type": "stream",
     "text": [
      "Period (tau)(for m=k=A=1) =  3.708149354603409\n"
     ]
    }
   ],
   "source": [
    "from scipy.integrate import quad\n",
    "import numpy as np\n",
    "\n",
    "m = k = A = 1\n",
    "\n",
    "f = lambda x: np.sqrt(8*m/k)/np.sqrt((A**4)-x**4)\n",
    "\n",
    "tau = quad(f,0,1)\n",
    "print(\"Period (tau)(for m=k=A=1) = \",tau[0])"
   ]
  }
 ],
 "metadata": {
  "kernelspec": {
   "display_name": "Python 3",
   "language": "python",
   "name": "python3"
  },
  "language_info": {
   "codemirror_mode": {
    "name": "ipython",
    "version": 3
   },
   "file_extension": ".py",
   "mimetype": "text/x-python",
   "name": "python",
   "nbconvert_exporter": "python",
   "pygments_lexer": "ipython3",
   "version": "3.7.4"
  }
 },
 "nbformat": 4,
 "nbformat_minor": 2
}
