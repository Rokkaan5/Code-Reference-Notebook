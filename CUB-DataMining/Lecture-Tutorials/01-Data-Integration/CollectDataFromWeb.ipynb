{
 "cells": [
  {
   "cell_type": "raw",
   "metadata": {},
   "source": [
    "---\n",
    "title: Introduction to Request and Beautiful Soup\n",
    "format:\n",
    "    html:\n",
    "        code-fold: false\n",
    "execute:\n",
    "    output: true\n",
    "toc: true\n",
    "---"
   ]
  },
  {
   "cell_type": "markdown",
   "metadata": {
    "cell_id": "1932e9bdbe0349618cc02dc8e8c460ee",
    "deepnote_cell_height": 268,
    "deepnote_cell_type": "markdown",
    "id": "kMwlp7yEaq4s"
   },
   "source": [
    "Now that we understand the structure of a web page, it’s time to get into the fun part: scraping the content we want!\n",
    "The first thing we’ll need to do to scrape a web page is to download the page. We can download pages using the Python requests library.\n",
    "\n",
    "The requests library will make a GET request to a web server, which will download the HTML contents of a given web page for us. There are several different types of requests we can make using requests, of which GET is just one. If you want to learn more, check out our API tutorial.\n",
    "\n",
    "Let’s try downloading a simple sample website, https://dataquestio.github.io/web-scraping-pages/simple.html."
   ]
  },
  {
   "cell_type": "markdown",
   "metadata": {
    "cell_id": "501f9beffa22402d898bde11c49337da",
    "deepnote_cell_height": 100,
    "deepnote_cell_type": "markdown",
    "id": "wo4tghajbENe"
   },
   "source": [
    "### Download\n",
    "We’ll need to first import the requests library, and then download the page using the requests.get method:"
   ]
  },
  {
   "cell_type": "code",
   "execution_count": null,
   "metadata": {
    "cell_id": "908c7f2e33ef4be293d152c63632875b",
    "colab": {
     "base_uri": "https://localhost:8080/"
    },
    "deepnote_cell_type": "code",
    "deepnote_to_be_reexecuted": false,
    "execution_millis": 43,
    "execution_start": 1661620567239,
    "id": "OyM9DDc9Zmtr",
    "outputId": "e90a1cd5-5c77-4442-cf21-613b762bbab0",
    "source_hash": "10884a5d"
   },
   "outputs": [
    {
     "data": {
      "text/plain": [
       "<Response [200]>"
      ]
     },
     "execution_count": 1,
     "metadata": {},
     "output_type": "execute_result"
    }
   ],
   "source": [
    "import requests\n",
    "\n",
    "page = requests.get(\"https://dataquestio.github.io/web-scraping-pages/simple.html\")\n",
    "page"
   ]
  },
  {
   "cell_type": "markdown",
   "metadata": {
    "cell_id": "5ca327d879dc473da8e500810022d566",
    "deepnote_cell_height": 74,
    "deepnote_cell_type": "markdown",
    "id": "s_PT6AVcayrq"
   },
   "source": [
    "After running our request, we get a Response object. This object has a status_code property, which indicates if the page was downloaded successfully:"
   ]
  },
  {
   "cell_type": "code",
   "execution_count": null,
   "metadata": {
    "cell_id": "018bfd36be7e49a6b8e6d2d93bd816b8",
    "colab": {
     "base_uri": "https://localhost:8080/"
    },
    "deepnote_cell_height": 112,
    "deepnote_cell_type": "code",
    "deepnote_output_heights": [
     20
    ],
    "id": "17CLAa_Qazxc",
    "outputId": "8cf5d561-d4e9-4eaf-efb8-56064ca1ce1f"
   },
   "outputs": [
    {
     "data": {
      "text/plain": [
       "200"
      ]
     },
     "execution_count": 5,
     "metadata": {},
     "output_type": "execute_result"
    }
   ],
   "source": [
    "page.status_code"
   ]
  },
  {
   "cell_type": "markdown",
   "metadata": {
    "cell_id": "1d05619bb4714fbdb985394aec752ee1",
    "deepnote_cell_height": 74,
    "deepnote_cell_type": "markdown",
    "id": "QyZHvlBHa4Jd"
   },
   "source": [
    "A status_code of 200 means that the page downloaded successfully. We won’t fully dive into status codes here, but a status code starting with a 2 generally indicates success, and a code starting with a 4 or a 5 indicates an error."
   ]
  },
  {
   "cell_type": "markdown",
   "metadata": {
    "cell_id": "ef224286b755491e98d2ea1c2cc725e5",
    "deepnote_cell_height": 52,
    "deepnote_cell_type": "markdown",
    "id": "oFtQYwDFa7TX"
   },
   "source": [
    "We can print out the HTML content of the page using the content property:"
   ]
  },
  {
   "cell_type": "code",
   "execution_count": null,
   "metadata": {
    "cell_id": "b5f5453d3b6b44f3bb5d5ccb684312bf",
    "colab": {
     "base_uri": "https://localhost:8080/"
    },
    "deepnote_cell_height": 112,
    "deepnote_cell_type": "code",
    "deepnote_output_heights": [
     20
    ],
    "id": "y5N3EoAEb7oF",
    "outputId": "068783d5-29e9-4e41-d1d4-8261b99c3de4"
   },
   "outputs": [
    {
     "data": {
      "text/plain": [
       "b'<!DOCTYPE html>\\n<html>\\n    <head>\\n        <title>A simple example page</title>\\n    </head>\\n    <body>\\n        <p>Here is some simple content for this page.</p>\\n    </body>\\n</html>'"
      ]
     },
     "execution_count": 6,
     "metadata": {},
     "output_type": "execute_result"
    }
   ],
   "source": [
    "page.content"
   ]
  },
  {
   "cell_type": "markdown",
   "metadata": {
    "cell_id": "795aea303e324e99bcf548e2cdd1ae89",
    "deepnote_cell_height": 136,
    "deepnote_cell_type": "markdown",
    "id": "mVVisVXhb6n6"
   },
   "source": [
    "### Parsing a page\n",
    "As you can see above, we now have downloaded an HTML document.\n",
    "\n",
    "We can use the BeautifulSoup library to parse this document, and extract the text from the p tag."
   ]
  },
  {
   "cell_type": "markdown",
   "metadata": {
    "cell_id": "82c743acdbc4442698f7a76ff9c1ce7f",
    "deepnote_cell_height": 52,
    "deepnote_cell_type": "markdown",
    "id": "beI9gsmtcKcy"
   },
   "source": [
    "We first have to import the library, and create an instance of the BeautifulSoup class to parse our document:"
   ]
  },
  {
   "cell_type": "code",
   "execution_count": null,
   "metadata": {
    "cell_id": "293aef02863a469ca901819c0c5f6ead",
    "deepnote_cell_height": 79,
    "deepnote_cell_type": "code",
    "id": "8voZsugQcNFt"
   },
   "outputs": [],
   "source": [
    "from bs4 import BeautifulSoup\n",
    "soup = BeautifulSoup(page.content, 'html.parser')"
   ]
  },
  {
   "cell_type": "markdown",
   "metadata": {
    "cell_id": "c08958c4e21a44b09ade787f9d4ce001",
    "deepnote_cell_height": 52,
    "deepnote_cell_type": "markdown",
    "id": "meFDRoMJcReg"
   },
   "source": [
    "We can now print out the HTML content of the page, formatted nicely, using the prettify method on the BeautifulSoup object."
   ]
  },
  {
   "cell_type": "code",
   "execution_count": null,
   "metadata": {
    "cell_id": "09db52dfbf0f44869b23b81517f00f1e",
    "colab": {
     "base_uri": "https://localhost:8080/"
    },
    "deepnote_cell_height": 347,
    "deepnote_cell_type": "code",
    "id": "b-ENVb6QcVQa",
    "outputId": "58a67522-104b-429d-d029-9799c7c78046"
   },
   "outputs": [
    {
     "name": "stdout",
     "output_type": "stream",
     "text": [
      "<!DOCTYPE html>\n",
      "<html>\n",
      " <head>\n",
      "  <title>\n",
      "   A simple example page\n",
      "  </title>\n",
      " </head>\n",
      " <body>\n",
      "  <p>\n",
      "   Here is some simple content for this page.\n",
      "  </p>\n",
      " </body>\n",
      "</html>\n"
     ]
    }
   ],
   "source": [
    "print(soup.prettify())"
   ]
  },
  {
   "cell_type": "markdown",
   "metadata": {
    "cell_id": "c029d4a3420843b5ad53d7da9acd20e8",
    "deepnote_cell_height": 74,
    "deepnote_cell_type": "markdown",
    "id": "Y2Onq3XccgHR"
   },
   "source": [
    "This step isn’t strictly necessary, and we won’t always bother with it, but it can be helpful to look at prettified HTML to make the structure of the and where tags are nested easier to see."
   ]
  },
  {
   "cell_type": "markdown",
   "metadata": {
    "cell_id": "c8b7060a10194ea48269b503c5f67ecc",
    "deepnote_cell_height": 110,
    "deepnote_cell_type": "markdown",
    "id": "7XDpTtRrcg88"
   },
   "source": [
    "As all the tags are nested, we can move through the structure one level at a time. We can first select all the elements at the top level of the page using the children property of soup.\n",
    "\n",
    "Note that children returns a list generator, so we need to call the list function on it:"
   ]
  },
  {
   "cell_type": "code",
   "execution_count": null,
   "metadata": {
    "cell_id": "b3cd9b09de7f4633a68dd4a888caf59c",
    "colab": {
     "base_uri": "https://localhost:8080/"
    },
    "deepnote_cell_height": 245,
    "deepnote_cell_type": "code",
    "deepnote_output_heights": [
     153
    ],
    "id": "189xy81YckHr",
    "outputId": "67a89cd8-f426-48ed-a599-0488b47a56b0"
   },
   "outputs": [
    {
     "data": {
      "text/plain": [
       "['html', '\\n', <html>\n",
       " <head>\n",
       " <title>A simple example page</title>\n",
       " </head>\n",
       " <body>\n",
       " <p>Here is some simple content for this page.</p>\n",
       " </body>\n",
       " </html>]"
      ]
     },
     "execution_count": 9,
     "metadata": {},
     "output_type": "execute_result"
    }
   ],
   "source": [
    "list(soup.children)"
   ]
  },
  {
   "cell_type": "markdown",
   "metadata": {
    "cell_id": "64d13804d6274c488dc1cd381987ee08",
    "deepnote_cell_height": 74,
    "deepnote_cell_type": "markdown",
    "id": "hFMnKmdDc938"
   },
   "source": [
    "The above tells us that there are two tags at the top level of the page — the initial <!DOCTYPE html> tag, and the <html> tag. There is a newline character (n) in the list as well. Let’s see what the type of each element in the list is:"
   ]
  },
  {
   "cell_type": "code",
   "execution_count": null,
   "metadata": {
    "cell_id": "9630edb227a1466d97751b7ec26fa94a",
    "colab": {
     "base_uri": "https://localhost:8080/"
    },
    "deepnote_cell_height": 112,
    "deepnote_cell_type": "code",
    "deepnote_output_heights": [
     20
    ],
    "id": "QRJ_sqD1dAkm",
    "outputId": "65c86ce4-c607-4543-b66a-594df7de3ebc"
   },
   "outputs": [
    {
     "data": {
      "text/plain": [
       "[bs4.element.Doctype, bs4.element.NavigableString, bs4.element.Tag]"
      ]
     },
     "execution_count": 7,
     "metadata": {},
     "output_type": "execute_result"
    }
   ],
   "source": [
    "[type(item) for item in list(soup.children)]"
   ]
  },
  {
   "cell_type": "markdown",
   "metadata": {
    "cell_id": "82ed93cd7ba745eaaa9a817ab59dd80a",
    "deepnote_cell_height": 279,
    "deepnote_cell_type": "markdown",
    "id": "7GntNf8PdHY8"
   },
   "source": [
    "As we can see, all of the items are BeautifulSoup objects:\n",
    "\n",
    "*  The first is a Doctype object, which contains information about \n",
    "the type of the document.\n",
    "*  The second is a NavigableString, which represents text found in the HTML document.\n",
    "*  The final item is a Tag object, which contains other nested tags.\n",
    "\n",
    "The most important object type, and the one we’ll deal with most often, is the Tag object.\n",
    "\n",
    "The Tag object allows us to navigate through an HTML document, and extract other tags and text. You can learn more about the various BeautifulSoup objects here."
   ]
  },
  {
   "cell_type": "markdown",
   "metadata": {
    "cell_id": "f903c6056c5f4efcb172180aaf02e8f6",
    "deepnote_cell_height": 52,
    "deepnote_cell_type": "markdown",
    "id": "kNjhRZ7JdXPe"
   },
   "source": [
    "We can now select the html tag and its children by taking the third item in the list:"
   ]
  },
  {
   "cell_type": "code",
   "execution_count": null,
   "metadata": {
    "cell_id": "b23b8444a78d42798f5b6cb28a66df9b",
    "deepnote_cell_height": 61,
    "deepnote_cell_type": "code",
    "id": "W0rOT_OAdZHE"
   },
   "outputs": [],
   "source": [
    "html = list(soup.children)[2]"
   ]
  },
  {
   "cell_type": "markdown",
   "metadata": {
    "cell_id": "25c6a06cfd6f4497b5178c5d6c3ee874",
    "deepnote_cell_height": 110,
    "deepnote_cell_type": "markdown",
    "id": "oVBSwoNNdcr_"
   },
   "source": [
    "Each item in the list returned by the children property is also a BeautifulSoup object, so we can also call the children method on html.\n",
    "\n",
    "Now, we can find the children inside the html tag:"
   ]
  },
  {
   "cell_type": "code",
   "execution_count": null,
   "metadata": {
    "cell_id": "5ca01b8503274f99b823b0bd7310997b",
    "colab": {
     "base_uri": "https://localhost:8080/"
    },
    "deepnote_cell_height": 188,
    "deepnote_cell_type": "code",
    "deepnote_output_heights": [
     96
    ],
    "id": "lukGFKyHdf9n",
    "outputId": "99f360a8-45f1-4f0f-b771-8451ae635fcd"
   },
   "outputs": [
    {
     "data": {
      "text/plain": [
       "['\\n', <head>\n",
       " <title>A simple example page</title>\n",
       " </head>, '\\n', <body>\n",
       " <p>Here is some simple content for this page.</p>\n",
       " </body>, '\\n']"
      ]
     },
     "execution_count": 11,
     "metadata": {},
     "output_type": "execute_result"
    }
   ],
   "source": [
    "list(html.children)"
   ]
  },
  {
   "cell_type": "markdown",
   "metadata": {
    "cell_id": "f7876c4a2ec3401aab514347a439f6bf",
    "deepnote_cell_height": 74,
    "deepnote_cell_type": "markdown",
    "id": "FxQbLZGJduHX"
   },
   "source": [
    "As we can see above, there are two tags here, head, and body. We want to extract the text inside the p tag, so we’ll dive into the body:"
   ]
  },
  {
   "cell_type": "code",
   "execution_count": null,
   "metadata": {
    "cell_id": "f982f99262d24379a5220a4e42ffd12d",
    "deepnote_cell_height": 61,
    "deepnote_cell_type": "code",
    "id": "DrH7hCY5dtE-"
   },
   "outputs": [],
   "source": [
    "body = list(html.children)[3]"
   ]
  },
  {
   "cell_type": "markdown",
   "metadata": {
    "cell_id": "7f360aa905e447bea7304a5edf81fbb1",
    "deepnote_cell_height": 52,
    "deepnote_cell_type": "markdown",
    "id": "uAbePF_DdycA"
   },
   "source": [
    "Now, we can get the p tag by finding the children of the body tag:"
   ]
  },
  {
   "cell_type": "code",
   "execution_count": null,
   "metadata": {
    "cell_id": "8c61d95b274a412b84da668e75f0d1b2",
    "colab": {
     "base_uri": "https://localhost:8080/"
    },
    "deepnote_cell_height": 112,
    "deepnote_cell_type": "code",
    "deepnote_output_heights": [
     20
    ],
    "id": "89UpMmvmd0OM",
    "outputId": "6adb0cab-2c9c-4f8e-b020-952df04425e2"
   },
   "outputs": [
    {
     "data": {
      "text/plain": [
       "['\\n', <p>Here is some simple content for this page.</p>, '\\n']"
      ]
     },
     "execution_count": 15,
     "metadata": {},
     "output_type": "execute_result"
    }
   ],
   "source": [
    "list(body.children)"
   ]
  },
  {
   "cell_type": "markdown",
   "metadata": {
    "cell_id": "381f8ed8d0bc414dbf3451203cf8b302",
    "deepnote_cell_height": 52,
    "deepnote_cell_type": "markdown",
    "id": "fYg7irxkd509"
   },
   "source": [
    "We can now isolate the p tag:"
   ]
  },
  {
   "cell_type": "code",
   "execution_count": null,
   "metadata": {
    "cell_id": "82fb6ea074b8420a9c4629d10ba379db",
    "deepnote_cell_height": 61,
    "deepnote_cell_type": "code",
    "id": "NC-NOXL2d7uu"
   },
   "outputs": [],
   "source": [
    "p = list(body.children)[1]"
   ]
  },
  {
   "cell_type": "code",
   "execution_count": null,
   "metadata": {
    "cell_id": "800fc24f773f49f0a64f3058fbc53a57",
    "colab": {
     "base_uri": "https://localhost:8080/"
    },
    "deepnote_cell_height": 112,
    "deepnote_cell_type": "code",
    "deepnote_output_heights": [
     20
    ],
    "id": "qRpg5s_MeStS",
    "outputId": "5c4227aa-6031-4c5c-a326-2feb9cdcaebe"
   },
   "outputs": [
    {
     "data": {
      "text/plain": [
       "['Here is some simple content for this page.']"
      ]
     },
     "execution_count": 17,
     "metadata": {},
     "output_type": "execute_result"
    }
   ],
   "source": [
    "list(p.children)"
   ]
  },
  {
   "cell_type": "markdown",
   "metadata": {
    "cell_id": "3e96c60ce62b46278113a8b5c84cda0f",
    "deepnote_cell_height": 52,
    "deepnote_cell_type": "markdown",
    "id": "0B7EUhdWeYr3"
   },
   "source": [
    "Once we’ve isolated the tag, we can use the get_text method to extract all of the text inside the tag:"
   ]
  },
  {
   "cell_type": "code",
   "execution_count": null,
   "metadata": {
    "cell_id": "8c28ed9fc2ca4882b2d4bcd3ca1947cc",
    "colab": {
     "base_uri": "https://localhost:8080/",
     "height": 57
    },
    "deepnote_cell_height": 112,
    "deepnote_cell_type": "code",
    "deepnote_output_heights": [
     20
    ],
    "id": "bBtP8SejebbE",
    "outputId": "af254447-9fcf-4aa2-8bcb-c0d52416c9f7"
   },
   "outputs": [
    {
     "data": {
      "application/vnd.google.colaboratory.intrinsic+json": {
       "type": "string"
      },
      "text/plain": [
       "'Here is some simple content for this page.'"
      ]
     },
     "execution_count": 20,
     "metadata": {},
     "output_type": "execute_result"
    }
   ],
   "source": [
    "p.get_text()"
   ]
  },
  {
   "cell_type": "markdown",
   "metadata": {
    "cell_id": "6920bc1984b341f4a839f108c9723dba",
    "deepnote_cell_height": 122,
    "deepnote_cell_type": "markdown",
    "id": "1-ATm2QOejjS"
   },
   "source": [
    "### Finding Tags\n",
    "\n",
    "Finding all instances of a tag at once\n",
    "What we did above was useful for figuring out how to navigate a page, but it took a lot of commands to do something fairly simple."
   ]
  },
  {
   "cell_type": "markdown",
   "metadata": {
    "cell_id": "cfb82e82ed2d44e4bc14035af9aa630e",
    "deepnote_cell_height": 52,
    "deepnote_cell_type": "markdown",
    "id": "BqwXrRUaepEi"
   },
   "source": [
    "If we want to extract a single tag, we can instead use the find_all method, which will find all the instances of a tag on a page."
   ]
  },
  {
   "cell_type": "code",
   "execution_count": null,
   "metadata": {
    "cell_id": "49b7b1d4c27e4ad39ce460dcc39e9d0f",
    "colab": {
     "base_uri": "https://localhost:8080/"
    },
    "deepnote_cell_height": 130,
    "deepnote_cell_type": "code",
    "deepnote_output_heights": [
     20
    ],
    "id": "vyyqGWhXeraD",
    "outputId": "e39a9ec9-6658-473b-87df-e5870f1cc91a"
   },
   "outputs": [
    {
     "data": {
      "text/plain": [
       "[<p>Here is some simple content for this page.</p>]"
      ]
     },
     "execution_count": 18,
     "metadata": {},
     "output_type": "execute_result"
    }
   ],
   "source": [
    "soup = BeautifulSoup(page.content, 'html.parser')\n",
    "soup.find_all('p')"
   ]
  },
  {
   "cell_type": "markdown",
   "metadata": {
    "cell_id": "5fd8ca515f024fc4b7178ad15cdb4593",
    "deepnote_cell_height": 52,
    "deepnote_cell_type": "markdown",
    "id": "cTQTr43JexX1"
   },
   "source": [
    "Note that find_all returns a list, so we’ll have to loop through, or use list indexing, it to extract text:"
   ]
  },
  {
   "cell_type": "code",
   "execution_count": null,
   "metadata": {
    "cell_id": "5f017e54128b4c4e9dfba90b2928425a",
    "colab": {
     "base_uri": "https://localhost:8080/",
     "height": 57
    },
    "deepnote_cell_height": 112,
    "deepnote_cell_type": "code",
    "deepnote_output_heights": [
     20
    ],
    "id": "Jg72G-xuezqZ",
    "outputId": "82974a57-6350-4795-8341-26f395beacc2"
   },
   "outputs": [
    {
     "data": {
      "application/vnd.google.colaboratory.intrinsic+json": {
       "type": "string"
      },
      "text/plain": [
       "'Here is some simple content for this page.'"
      ]
     },
     "execution_count": 19,
     "metadata": {},
     "output_type": "execute_result"
    }
   ],
   "source": [
    "soup.find_all('p')[0].get_text()"
   ]
  },
  {
   "cell_type": "markdown",
   "metadata": {
    "cell_id": "b06880e40980410c80d06868806b13be",
    "deepnote_cell_height": 74,
    "deepnote_cell_type": "markdown",
    "id": "jScWzkaXe5MA"
   },
   "source": [
    "If you instead only want to find the first instance of a tag, you can use the find method, which will return a single BeautifulSoup object:"
   ]
  },
  {
   "cell_type": "code",
   "execution_count": null,
   "metadata": {
    "cell_id": "7c1fd677f3734fc8b905b06b866716e9",
    "colab": {
     "base_uri": "https://localhost:8080/"
    },
    "deepnote_cell_height": 112,
    "deepnote_cell_type": "code",
    "deepnote_output_heights": [
     20
    ],
    "id": "T6CH0Udge67U",
    "outputId": "227387a2-d2ed-4c65-917f-5862e0b82647"
   },
   "outputs": [
    {
     "data": {
      "text/plain": [
       "<p>Here is some simple content for this page.</p>"
      ]
     },
     "execution_count": 20,
     "metadata": {},
     "output_type": "execute_result"
    }
   ],
   "source": [
    "soup.find('p')"
   ]
  },
  {
   "cell_type": "markdown",
   "metadata": {
    "cell_id": "a8284805f76e4691a696bff7cad0a3b8",
    "deepnote_cell_height": 146,
    "deepnote_cell_type": "markdown",
    "id": "tMuuZZv8fE6U"
   },
   "source": [
    "Searching for tags by class and id:\n",
    "\n",
    "Classes and ids are used by CSS to determine which HTML elements to apply certain styles to. But when we’re scraping, we can also use them to specify the elements we want to scrape.\n",
    "\n",
    "Let's try another page."
   ]
  },
  {
   "cell_type": "code",
   "execution_count": null,
   "metadata": {
    "cell_id": "134eb0ef6fb542edb126ad3fad67c01e",
    "colab": {
     "base_uri": "https://localhost:8080/"
    },
    "deepnote_cell_height": 604,
    "deepnote_cell_type": "code",
    "deepnote_output_heights": [
     476
    ],
    "id": "bhNx5h5RfEPu",
    "outputId": "94b1c7c9-efc2-4a3b-c3b3-0d64fb38e2da"
   },
   "outputs": [
    {
     "data": {
      "text/plain": [
       "<html>\n",
       "<head>\n",
       "<title>A simple example page</title>\n",
       "</head>\n",
       "<body>\n",
       "<div>\n",
       "<p class=\"inner-text first-item\" id=\"first\">\n",
       "                First paragraph.\n",
       "            </p>\n",
       "<p class=\"inner-text\">\n",
       "                Second paragraph.\n",
       "            </p>\n",
       "</div>\n",
       "<p class=\"outer-text first-item\" id=\"second\">\n",
       "<b>\n",
       "                First outer paragraph.\n",
       "            </b>\n",
       "</p>\n",
       "<p class=\"outer-text\">\n",
       "<b>\n",
       "                Second outer paragraph.\n",
       "            </b>\n",
       "</p>\n",
       "</body>\n",
       "</html>"
      ]
     },
     "execution_count": 21,
     "metadata": {},
     "output_type": "execute_result"
    }
   ],
   "source": [
    "page = requests.get(\"https://dataquestio.github.io/web-scraping-pages/ids_and_classes.html\")\n",
    "soup = BeautifulSoup(page.content, 'html.parser')\n",
    "soup"
   ]
  },
  {
   "cell_type": "markdown",
   "metadata": {
    "cell_id": "92991b727f98468e818d75bb6b5dcadd",
    "deepnote_cell_height": 74,
    "deepnote_cell_type": "markdown",
    "id": "801extDyfxeZ"
   },
   "source": [
    "Now, we can use the find_all method to search for items by class or by id. In the below example, we’ll search for any p tag that has the class outer-text:"
   ]
  },
  {
   "cell_type": "code",
   "execution_count": null,
   "metadata": {
    "cell_id": "c27a03a589a744a791015740df827fdd",
    "colab": {
     "base_uri": "https://localhost:8080/"
    },
    "deepnote_cell_height": 264,
    "deepnote_cell_type": "code",
    "deepnote_output_heights": [
     172
    ],
    "id": "a4DJQkGZfygj",
    "outputId": "28f602aa-6346-4f83-e2e1-7089cd078322"
   },
   "outputs": [
    {
     "data": {
      "text/plain": [
       "[<p class=\"outer-text first-item\" id=\"second\">\n",
       " <b>\n",
       "                 First outer paragraph.\n",
       "             </b>\n",
       " </p>, <p class=\"outer-text\">\n",
       " <b>\n",
       "                 Second outer paragraph.\n",
       "             </b>\n",
       " </p>]"
      ]
     },
     "execution_count": 22,
     "metadata": {},
     "output_type": "execute_result"
    }
   ],
   "source": [
    "soup.find_all('p', class_='outer-text')"
   ]
  },
  {
   "cell_type": "markdown",
   "metadata": {
    "cell_id": "d00d8a9e7ab94168a939605a0c7eeb3d",
    "deepnote_cell_height": 52,
    "deepnote_cell_type": "markdown",
    "id": "W82j4Z4Tf3zH"
   },
   "source": [
    "In the below example, we’ll look for any tag that has the class outer-text:"
   ]
  },
  {
   "cell_type": "code",
   "execution_count": null,
   "metadata": {
    "cell_id": "65827c5580e6412dbc4c04809bf53631",
    "colab": {
     "base_uri": "https://localhost:8080/"
    },
    "deepnote_cell_height": 264,
    "deepnote_cell_type": "code",
    "deepnote_output_heights": [
     172
    ],
    "id": "3XFxaP0Af4Za",
    "outputId": "6b84ebf7-c96f-4ea2-f840-d158daafe91c"
   },
   "outputs": [
    {
     "data": {
      "text/plain": [
       "[<p class=\"outer-text first-item\" id=\"second\">\n",
       " <b>\n",
       "                 First outer paragraph.\n",
       "             </b>\n",
       " </p>, <p class=\"outer-text\">\n",
       " <b>\n",
       "                 Second outer paragraph.\n",
       "             </b>\n",
       " </p>]"
      ]
     },
     "execution_count": 23,
     "metadata": {},
     "output_type": "execute_result"
    }
   ],
   "source": [
    "soup.find_all(class_=\"outer-text\")"
   ]
  },
  {
   "cell_type": "markdown",
   "metadata": {
    "cell_id": "b08cfad5fd2642deb3279431cb74664a",
    "deepnote_cell_height": 52,
    "deepnote_cell_type": "markdown",
    "id": "hVC42DTcf_fC"
   },
   "source": [
    "We can also search for elements by id:"
   ]
  },
  {
   "cell_type": "code",
   "execution_count": null,
   "metadata": {
    "cell_id": "862b8476679842189b2235bf1e34545c",
    "colab": {
     "base_uri": "https://localhost:8080/"
    },
    "deepnote_cell_height": 150,
    "deepnote_cell_type": "code",
    "deepnote_output_heights": [
     58
    ],
    "id": "4fuFiYgxf_7c",
    "outputId": "0d7d74a2-858a-4588-f216-608f668dc84d"
   },
   "outputs": [
    {
     "data": {
      "text/plain": [
       "[<p class=\"inner-text first-item\" id=\"first\">\n",
       "                 First paragraph.\n",
       "             </p>]"
      ]
     },
     "execution_count": 24,
     "metadata": {},
     "output_type": "execute_result"
    }
   ],
   "source": [
    "soup.find_all(id=\"first\")"
   ]
  },
  {
   "cell_type": "markdown",
   "metadata": {
    "cell_id": "c3433d988a034bc58e05e934be0de755",
    "deepnote_cell_height": 285,
    "deepnote_cell_type": "markdown",
    "id": "ZFbNO_ZmgGTg"
   },
   "source": [
    "Using CSS Selectors\n",
    "\n",
    "We can also search for items using CSS selectors. These selectors are how the CSS language allows developers to specify HTML tags to style. Here are some examples:\n",
    "\n",
    "*  p a — finds all a tags inside of a p tag.\n",
    "*  body p a — finds all a tags inside of a p tag inside of a body tag.\n",
    "*  html body — finds all body tags inside of an html tag.\n",
    "*  p.outer-text — finds all p tags with a class of outer-text.\n",
    "*  p#first — finds all p tags with an id of first.\n",
    "*  body p.outer-text — finds any p tags with a class of outer-text inside of a body tag."
   ]
  },
  {
   "cell_type": "markdown",
   "metadata": {
    "cell_id": "afb54e82c354422cad6179e16b3c19b6",
    "deepnote_cell_height": 74,
    "deepnote_cell_type": "markdown",
    "id": "RJeoxfHigSOP"
   },
   "source": [
    "BeautifulSoup objects support searching a page via CSS selectors using the select method. We can use CSS selectors to find all the p tags in our page that are inside of a div like this:"
   ]
  },
  {
   "cell_type": "code",
   "execution_count": null,
   "metadata": {
    "cell_id": "f56bd87173074aa7b2ec152fcc7d6bd4",
    "colab": {
     "base_uri": "https://localhost:8080/"
    },
    "deepnote_cell_height": 188,
    "deepnote_cell_type": "code",
    "deepnote_output_heights": [
     96
    ],
    "id": "1TpcrZg1gS-K",
    "outputId": "17b04bf2-2225-42c6-c80d-4e5a18f40050"
   },
   "outputs": [
    {
     "data": {
      "text/plain": [
       "[<p class=\"inner-text first-item\" id=\"first\">\n",
       "                 First paragraph.\n",
       "             </p>, <p class=\"inner-text\">\n",
       "                 Second paragraph.\n",
       "             </p>]"
      ]
     },
     "execution_count": 25,
     "metadata": {},
     "output_type": "execute_result"
    }
   ],
   "source": [
    "soup.select(\"div p\")"
   ]
  },
  {
   "cell_type": "markdown",
   "metadata": {
    "cell_id": "ebdc1e4dc6354f3eafa410e18cd4102b",
    "deepnote_cell_height": 52,
    "deepnote_cell_type": "markdown",
    "id": "yLcZLd7ygXu5"
   },
   "source": [
    "Note that the select method above returns a list of BeautifulSoup objects, just like find and find_all."
   ]
  },
  {
   "cell_type": "markdown",
   "metadata": {
    "cell_id": "fc59f5da011b4370b7daebe849423001",
    "deepnote_cell_height": 70,
    "deepnote_cell_type": "markdown",
    "id": "nSkNNdjljrRk"
   },
   "source": [
    "## Case study: Weather!"
   ]
  },
  {
   "cell_type": "markdown",
   "metadata": {
    "cell_id": "5a2c43f6893641d3b27b5aa6cdb8ffea",
    "deepnote_cell_height": 172,
    "deepnote_cell_type": "markdown",
    "id": "fPMMZ6bYgaK9"
   },
   "source": [
    "### Downloading weather data\n",
    "\n",
    "We now know enough to proceed with extracting information about the local weather from the National Weather Service website!\n",
    "\n",
    "The local weather of Boulder, CO is: https://forecast.weather.gov/MapClick.php?lat=40.0466&lon=-105.2523#.YwpRBy2B1f0\n",
    "\n",
    "Time to Start Scraping!"
   ]
  },
  {
   "cell_type": "markdown",
   "metadata": {
    "cell_id": "739500f03a2841f798c25f0f1677bd11",
    "deepnote_cell_height": 199,
    "deepnote_cell_type": "markdown",
    "id": "El_nne8hiOji"
   },
   "source": [
    "We now know enough to download the page and start parsing it. In the below code, we will:\n",
    "\n",
    "*  Download the web page containing the forecast.\n",
    "*  Create a BeautifulSoup class to parse the page.\n",
    "*  Find the div with id seven-day-forecast, and assign to seven_day\n",
    "*  Inside seven_day, find each individual forecast item.\n",
    "Extract and print the first forecast item.\n"
   ]
  },
  {
   "cell_type": "code",
   "execution_count": null,
   "metadata": {
    "cell_id": "2e97df2a30c64b0189250285176b0284",
    "colab": {
     "base_uri": "https://localhost:8080/"
    },
    "deepnote_cell_type": "code",
    "deepnote_to_be_reexecuted": false,
    "execution_millis": 1121,
    "execution_start": 1661620601128,
    "id": "Ki5gXH1Ri9fV",
    "outputId": "be1f5cae-945b-4d8c-a3f9-dbf66e84e444",
    "source_hash": "4eba753d"
   },
   "outputs": [
    {
     "name": "stdout",
     "output_type": "stream",
     "text": [
      "[<div class=\"tombstone-container\">\n",
      "<p class=\"period-name\">Today<br/><br/></p>\n",
      "<p><img alt=\"Today: Sunny, with a high near 88. Northwest wind 9 to 13 mph, with gusts as high as 21 mph. \" class=\"forecast-icon\" src=\"newimages/medium/few.png\" title=\"Today: Sunny, with a high near 88. Northwest wind 9 to 13 mph, with gusts as high as 21 mph. \"/></p><p class=\"short-desc\">Sunny</p><p class=\"temp temp-high\">High: 88 °F</p></div>, <div class=\"tombstone-container\">\n",
      "<p class=\"period-name\">Tonight<br/><br/></p>\n",
      "<p><img alt=\"Tonight: Mostly clear, with a low around 59. Northeast wind 8 to 10 mph becoming southwest in the evening. Winds could gust as high as 16 mph. \" class=\"forecast-icon\" src=\"newimages/medium/nfew.png\" title=\"Tonight: Mostly clear, with a low around 59. Northeast wind 8 to 10 mph becoming southwest in the evening. Winds could gust as high as 16 mph. \"/></p><p class=\"short-desc\">Mostly Clear</p><p class=\"temp temp-low\">Low: 59 °F</p></div>, <div class=\"tombstone-container\">\n",
      "<p class=\"period-name\">Sunday<br/><br/></p>\n",
      "<p><img alt=\"Sunday: A 20 percent chance of showers and thunderstorms after 1pm.  Mostly sunny, with a high near 88. West southwest wind 6 to 13 mph, with gusts as high as 20 mph. \" class=\"forecast-icon\" src=\"DualImage.php?i=few&amp;j=hi_tsra&amp;jp=20\" title=\"Sunday: A 20 percent chance of showers and thunderstorms after 1pm.  Mostly sunny, with a high near 88. West southwest wind 6 to 13 mph, with gusts as high as 20 mph. \"/></p><p class=\"short-desc\">Sunny then<br/>Slight Chance<br/>T-storms</p><p class=\"temp temp-high\">High: 88 °F</p></div>, <div class=\"tombstone-container\">\n",
      "<p class=\"period-name\">Sunday<br/>Night</p>\n",
      "<p><img alt=\"Sunday Night: A 20 percent chance of showers and thunderstorms before 7pm.  Partly cloudy, with a low around 57. West wind 5 to 11 mph, with gusts as high as 17 mph. \" class=\"forecast-icon\" src=\"DualImage.php?i=nscttsra&amp;j=nfew&amp;ip=20\" title=\"Sunday Night: A 20 percent chance of showers and thunderstorms before 7pm.  Partly cloudy, with a low around 57. West wind 5 to 11 mph, with gusts as high as 17 mph. \"/></p><p class=\"short-desc\">Slight Chance<br/>T-storms then<br/>Mostly Clear</p><p class=\"temp temp-low\">Low: 57 °F</p></div>, <div class=\"tombstone-container\">\n",
      "<p class=\"period-name\">Monday<br/><br/></p>\n",
      "<p><img alt=\"Monday: Sunny, with a high near 87. Light and variable wind becoming east 5 to 7 mph in the afternoon. \" class=\"forecast-icon\" src=\"newimages/medium/few.png\" title=\"Monday: Sunny, with a high near 87. Light and variable wind becoming east 5 to 7 mph in the afternoon. \"/></p><p class=\"short-desc\">Sunny</p><p class=\"temp temp-high\">High: 87 °F</p></div>, <div class=\"tombstone-container\">\n",
      "<p class=\"period-name\">Monday<br/>Night</p>\n",
      "<p><img alt=\"Monday Night: Mostly clear, with a low around 58.\" class=\"forecast-icon\" src=\"newimages/medium/nfew.png\" title=\"Monday Night: Mostly clear, with a low around 58.\"/></p><p class=\"short-desc\">Mostly Clear</p><p class=\"temp temp-low\">Low: 58 °F</p></div>, <div class=\"tombstone-container\">\n",
      "<p class=\"period-name\">Tuesday<br/><br/></p>\n",
      "<p><img alt=\"Tuesday: A 10 percent chance of showers and thunderstorms after 1pm.  Sunny, with a high near 89.\" class=\"forecast-icon\" src=\"DualImage.php?i=few&amp;j=hi_tsra&amp;jp=10\" title=\"Tuesday: A 10 percent chance of showers and thunderstorms after 1pm.  Sunny, with a high near 89.\"/></p><p class=\"short-desc\">Sunny then<br/>Slight Chance<br/>T-storms</p><p class=\"temp temp-high\">High: 89 °F</p></div>, <div class=\"tombstone-container\">\n",
      "<p class=\"period-name\">Tuesday<br/>Night</p>\n",
      "<p><img alt=\"Tuesday Night: A slight chance of showers and thunderstorms before 1am.  Partly cloudy, with a low around 60.\" class=\"forecast-icon\" src=\"newimages/medium/hi_ntsra.png\" title=\"Tuesday Night: A slight chance of showers and thunderstorms before 1am.  Partly cloudy, with a low around 60.\"/></p><p class=\"short-desc\">Slight Chance<br/>T-storms</p><p class=\"temp temp-low\">Low: 60 °F</p></div>, <div class=\"tombstone-container\">\n",
      "<p class=\"period-name\">Wednesday<br/><br/></p>\n",
      "<p><img alt=\"Wednesday: A slight chance of showers and thunderstorms after 1pm.  Mostly sunny, with a high near 86.\" class=\"forecast-icon\" src=\"DualImage.php?i=few&amp;j=hi_tsra&amp;jp=0\" title=\"Wednesday: A slight chance of showers and thunderstorms after 1pm.  Mostly sunny, with a high near 86.\"/></p><p class=\"short-desc\">Sunny then<br/>Slight Chance<br/>T-storms</p><p class=\"temp temp-high\">High: 86 °F</p></div>]\n"
     ]
    }
   ],
   "source": [
    "import requests\n",
    "from bs4 import BeautifulSoup\n",
    "\n",
    "page = requests.get(\"https://forecast.weather.gov/MapClick.php?lat=40.0466&lon=-105.2523#.YwpRBy2B1f0\")\n",
    "soup = BeautifulSoup(page.content, 'html.parser')\n",
    "seven_day = soup.find(id=\"seven-day-forecast\")\n",
    "forecast_items = seven_day.find_all(class_=\"tombstone-container\")\n",
    "print(forecast_items)"
   ]
  },
  {
   "cell_type": "code",
   "execution_count": null,
   "metadata": {
    "cell_id": "463ce5b3c0d045f5b4198f1d3420650a",
    "colab": {
     "base_uri": "https://localhost:8080/"
    },
    "deepnote_cell_type": "code",
    "deepnote_to_be_reexecuted": false,
    "execution_millis": 11,
    "execution_start": 1661620629617,
    "id": "Qo7-VB5BjWX6",
    "outputId": "1dcd8848-eb1a-4188-f9de-f0c92e0949c3",
    "source_hash": "dab7524f"
   },
   "outputs": [
    {
     "name": "stdout",
     "output_type": "stream",
     "text": [
      "<div class=\"tombstone-container\">\n",
      " <p class=\"period-name\">\n",
      "  Today\n",
      "  <br/>\n",
      "  <br/>\n",
      " </p>\n",
      " <p>\n",
      "  <img alt=\"Today: Sunny, with a high near 88. Northwest wind 9 to 13 mph, with gusts as high as 21 mph. \" class=\"forecast-icon\" src=\"newimages/medium/few.png\" title=\"Today: Sunny, with a high near 88. Northwest wind 9 to 13 mph, with gusts as high as 21 mph. \"/>\n",
      " </p>\n",
      " <p class=\"short-desc\">\n",
      "  Sunny\n",
      " </p>\n",
      " <p class=\"temp temp-high\">\n",
      "  High: 88 °F\n",
      " </p>\n",
      "</div>\n"
     ]
    }
   ],
   "source": [
    "tonight = forecast_items[0]\n",
    "print(tonight.prettify())"
   ]
  },
  {
   "cell_type": "markdown",
   "metadata": {
    "cell_id": "6f5788df01414ea39eb6b1564c994550",
    "deepnote_cell_height": 225,
    "deepnote_cell_type": "markdown",
    "id": "hLFpL7IMjwl7"
   },
   "source": [
    "### Extracting information of tonight\n",
    "\n",
    "As we can see, inside the forecast item tonight is all the information we want. There are four pieces of information we can extract:\n",
    "\n",
    "*  The name of the forecast item — in this case, Tonight.\n",
    "*  The description of the conditions — this is stored in the title property of img.\n",
    "*  A short description of the conditions — in this case, Sunny and hot.\n",
    "*  The temperature hight — in this case, 98 degrees.\n"
   ]
  },
  {
   "cell_type": "markdown",
   "metadata": {
    "cell_id": "63b895eff9c14195b9f9a9c48ab84bce",
    "deepnote_cell_height": 52,
    "deepnote_cell_type": "markdown",
    "id": "fLR0a_e3kHjf"
   },
   "source": [
    "We’ll extract the name of the forecast item, the short description, and the temperature first, since they’re all similar:"
   ]
  },
  {
   "cell_type": "code",
   "execution_count": null,
   "metadata": {
    "cell_id": "27b633c25a7d4889ad0268466a0d5689",
    "colab": {
     "base_uri": "https://localhost:8080/"
    },
    "deepnote_cell_type": "code",
    "deepnote_to_be_reexecuted": false,
    "execution_millis": 11,
    "execution_start": 1661620637623,
    "id": "6fEh4HWkjmMG",
    "outputId": "4d372884-f07c-4c80-838c-3e64377a41c6",
    "source_hash": "c867f180"
   },
   "outputs": [
    {
     "name": "stdout",
     "output_type": "stream",
     "text": [
      "Today\n",
      "Sunny\n",
      "High: 88 °F\n"
     ]
    }
   ],
   "source": [
    "period = tonight.find(class_=\"period-name\").get_text()\n",
    "short_desc = tonight.find(class_=\"short-desc\").get_text()\n",
    "temp = tonight.find(class_=\"temp\").get_text()\n",
    "print(period)\n",
    "print(short_desc)\n",
    "print(temp)"
   ]
  },
  {
   "cell_type": "markdown",
   "metadata": {
    "cell_id": "ab7c9b8852a244f7a4ccf829291e13d2",
    "deepnote_cell_height": 74,
    "deepnote_cell_type": "markdown",
    "id": "eDSVw88YkMqK"
   },
   "source": [
    "Now, we can extract the title attribute from the img tag. To do this, we just treat the BeautifulSoup object like a dictionary, and pass in the attribute we want as a key:"
   ]
  },
  {
   "cell_type": "code",
   "execution_count": null,
   "metadata": {
    "cell_id": "9668437a42be4e15afe24087fa82eabd",
    "colab": {
     "base_uri": "https://localhost:8080/"
    },
    "deepnote_cell_type": "code",
    "deepnote_to_be_reexecuted": false,
    "execution_millis": 6,
    "execution_start": 1661620643946,
    "id": "sgyrJ_GfkOeM",
    "outputId": "2f32c414-a882-4666-a11a-66c1809f2d39",
    "source_hash": "8f44e713"
   },
   "outputs": [
    {
     "name": "stdout",
     "output_type": "stream",
     "text": [
      "Today: Sunny, with a high near 88. Northwest wind 9 to 13 mph, with gusts as high as 21 mph. \n"
     ]
    }
   ],
   "source": [
    "img = tonight.find(\"img\")\n",
    "desc = img['title']\n",
    "print(desc)"
   ]
  },
  {
   "cell_type": "markdown",
   "metadata": {
    "cell_id": "4c8bbe98566847e5b0726078ef09aafa",
    "deepnote_cell_height": 216,
    "deepnote_cell_type": "markdown",
    "id": "bxCv09NukUSm"
   },
   "source": [
    "### Extract all nights!\n",
    "\n",
    "Now that we know how to extract each individual piece of information, we can combine our knowledge with CSS selectors and list comprehensions to extract everything at once.\n",
    "\n",
    "In the below code, we will:\n",
    "\n",
    "Select all items with the class period-name inside an item with the class tombstone-container in seven_day.\n",
    "Use a list comprehension to call the get_text method on each BeautifulSoup object."
   ]
  },
  {
   "cell_type": "code",
   "execution_count": null,
   "metadata": {
    "cell_id": "e27ab517c31b4758bcdedf01fb068fca",
    "colab": {
     "base_uri": "https://localhost:8080/"
    },
    "deepnote_cell_type": "code",
    "deepnote_to_be_reexecuted": false,
    "execution_millis": 3,
    "execution_start": 1661620650090,
    "id": "k1lPTK_3kbMB",
    "outputId": "d359281c-3859-43a6-f813-247d73b8cb04",
    "source_hash": "59401f6e"
   },
   "outputs": [
    {
     "data": {
      "text/plain": [
       "['Today',\n",
       " 'Tonight',\n",
       " 'Sunday',\n",
       " 'SundayNight',\n",
       " 'Monday',\n",
       " 'MondayNight',\n",
       " 'Tuesday',\n",
       " 'TuesdayNight',\n",
       " 'Wednesday']"
      ]
     },
     "execution_count": 6,
     "metadata": {},
     "output_type": "execute_result"
    }
   ],
   "source": [
    "period_tags = seven_day.select(\".tombstone-container .period-name\")\n",
    "periods = [pt.get_text() for pt in period_tags]\n",
    "periods"
   ]
  },
  {
   "cell_type": "markdown",
   "metadata": {
    "cell_id": "c585cd9d78eb4f5c987cef021df4f048",
    "deepnote_cell_height": 88,
    "deepnote_cell_type": "markdown",
    "id": "KEOoYqutkhmo"
   },
   "source": [
    "As we can see above, our technique gets us each of the period names, in order.\n",
    "\n",
    "We can apply the same technique to get the other three fields:"
   ]
  },
  {
   "cell_type": "code",
   "execution_count": null,
   "metadata": {
    "cell_id": "e19e5dd2f95f4d5eb006852e08e6fec2",
    "colab": {
     "base_uri": "https://localhost:8080/"
    },
    "deepnote_cell_type": "code",
    "deepnote_to_be_reexecuted": false,
    "execution_millis": 4,
    "execution_start": 1661620655333,
    "id": "sufPJ-lWkiRq",
    "outputId": "e25b92e8-bb7b-4e0f-9254-8be9626ddbda",
    "source_hash": "68c33df"
   },
   "outputs": [
    {
     "name": "stdout",
     "output_type": "stream",
     "text": [
      "['Sunny', 'Mostly Clear', 'Sunny thenSlight ChanceT-storms', 'Slight ChanceT-storms thenMostly Clear', 'Sunny', 'Mostly Clear', 'Sunny thenSlight ChanceT-storms', 'Slight ChanceT-storms', 'Sunny thenSlight ChanceT-storms']\n",
      "['High: 88 °F', 'Low: 59 °F', 'High: 88 °F', 'Low: 57 °F', 'High: 87 °F', 'Low: 58 °F', 'High: 89 °F', 'Low: 60 °F', 'High: 86 °F']\n",
      "['Today: Sunny, with a high near 88. Northwest wind 9 to 13 mph, with gusts as high as 21 mph. ', 'Tonight: Mostly clear, with a low around 59. Northeast wind 8 to 10 mph becoming southwest in the evening. Winds could gust as high as 16 mph. ', 'Sunday: A 20 percent chance of showers and thunderstorms after 1pm.  Mostly sunny, with a high near 88. West southwest wind 6 to 13 mph, with gusts as high as 20 mph. ', 'Sunday Night: A 20 percent chance of showers and thunderstorms before 7pm.  Partly cloudy, with a low around 57. West wind 5 to 11 mph, with gusts as high as 17 mph. ', 'Monday: Sunny, with a high near 87. Light and variable wind becoming east 5 to 7 mph in the afternoon. ', 'Monday Night: Mostly clear, with a low around 58.', 'Tuesday: A 10 percent chance of showers and thunderstorms after 1pm.  Sunny, with a high near 89.', 'Tuesday Night: A slight chance of showers and thunderstorms before 1am.  Partly cloudy, with a low around 60.', 'Wednesday: A slight chance of showers and thunderstorms after 1pm.  Mostly sunny, with a high near 86.']\n"
     ]
    }
   ],
   "source": [
    "short_descs = [sd.get_text() for sd in seven_day.select(\".tombstone-container .short-desc\")]\n",
    "temps = [t.get_text() for t in seven_day.select(\".tombstone-container .temp\")]\n",
    "descs = [d[\"title\"] for d in seven_day.select(\".tombstone-container img\")]\n",
    "\n",
    "print(short_descs)\n",
    "print(temps)\n",
    "print(descs)"
   ]
  },
  {
   "cell_type": "markdown",
   "metadata": {
    "cell_id": "f5797355b9474af0a79ec868cd4801d8",
    "deepnote_cell_height": 216,
    "deepnote_cell_type": "markdown",
    "id": "OC3St8YOk1kg"
   },
   "source": [
    "### Deal with data\n",
    "\n",
    "We can now combine the data into a Pandas DataFrame and analyze it. A DataFrame is an object that can store tabular data, making data analysis easy. If you want to learn more about Pandas, check out our free to start course here.\n",
    "\n",
    "In order to do this, we’ll call the DataFrame class, and pass in each list of items that we have. We pass them in as part of a dictionary.\n",
    "\n",
    "Each dictionary key will become a column in the DataFrame, and each list will become the values in the column:"
   ]
  },
  {
   "cell_type": "code",
   "execution_count": null,
   "metadata": {
    "cell_id": "d69c4b86ffa94c16bd828b3c61754457",
    "colab": {
     "base_uri": "https://localhost:8080/",
     "height": 354
    },
    "deepnote_cell_type": "code",
    "deepnote_to_be_reexecuted": false,
    "execution_millis": 16,
    "execution_start": 1661620662982,
    "id": "vlwoYt3zlEm7",
    "outputId": "66dea857-5577-4f95-bf00-eb929471b85e",
    "source_hash": "222dcc28"
   },
   "outputs": [
    {
     "data": {
      "application/vnd.deepnote.dataframe.v3+json": {
       "column_count": 4,
       "columns": [
        {
         "dtype": "object",
         "name": "period",
         "stats": {
          "categories": [
           {
            "count": 1,
            "name": "Today"
           },
           {
            "count": 1,
            "name": "Tonight"
           },
           {
            "count": 7,
            "name": "7 others"
           }
          ],
          "nan_count": 0,
          "unique_count": 9
         }
        },
        {
         "dtype": "object",
         "name": "short_desc",
         "stats": {
          "categories": [
           {
            "count": 3,
            "name": "Sunny thenSlight ChanceT-storms"
           },
           {
            "count": 2,
            "name": "Sunny"
           },
           {
            "count": 4,
            "name": "3 others"
           }
          ],
          "nan_count": 0,
          "unique_count": 5
         }
        },
        {
         "dtype": "object",
         "name": "temp",
         "stats": {
          "categories": [
           {
            "count": 2,
            "name": "High: 88 °F"
           },
           {
            "count": 1,
            "name": "Low: 59 °F"
           },
           {
            "count": 6,
            "name": "6 others"
           }
          ],
          "nan_count": 0,
          "unique_count": 8
         }
        },
        {
         "dtype": "object",
         "name": "desc",
         "stats": {
          "categories": [
           {
            "count": 1,
            "name": "Today: Sunny, with a high near 88. Northwest wind 9 to 13 mph, with gusts as high as 21 mph. "
           },
           {
            "count": 1,
            "name": "Tonight: Mostly clear, with a low around 59. Northeast wind 8 to 10 mph becoming southwest in the evening. Winds could gust as high as 16 mph. "
           },
           {
            "count": 7,
            "name": "7 others"
           }
          ],
          "nan_count": 0,
          "unique_count": 9
         }
        },
        {
         "dtype": "int64",
         "name": "_deepnote_index_column"
        }
       ],
       "row_count": 9,
       "rows": [
        {
         "_deepnote_index_column": 0,
         "desc": "Today: Sunny, with a high near 88. Northwest wind 9 to 13 mph, with gusts as high as 21 mph. ",
         "period": "Today",
         "short_desc": "Sunny",
         "temp": "High: 88 °F"
        },
        {
         "_deepnote_index_column": 1,
         "desc": "Tonight: Mostly clear, with a low around 59. Northeast wind 8 to 10 mph becoming southwest in the evening. Winds could gust as high as 16 mph. ",
         "period": "Tonight",
         "short_desc": "Mostly Clear",
         "temp": "Low: 59 °F"
        },
        {
         "_deepnote_index_column": 2,
         "desc": "Sunday: A 20 percent chance of showers and thunderstorms after 1pm.  Mostly sunny, with a high near 88. West southwest wind 6 to 13 mph, with gusts as high as 20 mph. ",
         "period": "Sunday",
         "short_desc": "Sunny thenSlight ChanceT-storms",
         "temp": "High: 88 °F"
        },
        {
         "_deepnote_index_column": 3,
         "desc": "Sunday Night: A 20 percent chance of showers and thunderstorms before 7pm.  Partly cloudy, with a low around 57. West wind 5 to 11 mph, with gusts as high as 17 mph. ",
         "period": "SundayNight",
         "short_desc": "Slight ChanceT-storms thenMostly Clear",
         "temp": "Low: 57 °F"
        },
        {
         "_deepnote_index_column": 4,
         "desc": "Monday: Sunny, with a high near 87. Light and variable wind becoming east 5 to 7 mph in the afternoon. ",
         "period": "Monday",
         "short_desc": "Sunny",
         "temp": "High: 87 °F"
        },
        {
         "_deepnote_index_column": 5,
         "desc": "Monday Night: Mostly clear, with a low around 58.",
         "period": "MondayNight",
         "short_desc": "Mostly Clear",
         "temp": "Low: 58 °F"
        },
        {
         "_deepnote_index_column": 6,
         "desc": "Tuesday: A 10 percent chance of showers and thunderstorms after 1pm.  Sunny, with a high near 89.",
         "period": "Tuesday",
         "short_desc": "Sunny thenSlight ChanceT-storms",
         "temp": "High: 89 °F"
        },
        {
         "_deepnote_index_column": 7,
         "desc": "Tuesday Night: A slight chance of showers and thunderstorms before 1am.  Partly cloudy, with a low around 60.",
         "period": "TuesdayNight",
         "short_desc": "Slight ChanceT-storms",
         "temp": "Low: 60 °F"
        },
        {
         "_deepnote_index_column": 8,
         "desc": "Wednesday: A slight chance of showers and thunderstorms after 1pm.  Mostly sunny, with a high near 86.",
         "period": "Wednesday",
         "short_desc": "Sunny thenSlight ChanceT-storms",
         "temp": "High: 86 °F"
        }
       ]
      },
      "text/html": [
       "<div>\n",
       "<style scoped>\n",
       "    .dataframe tbody tr th:only-of-type {\n",
       "        vertical-align: middle;\n",
       "    }\n",
       "\n",
       "    .dataframe tbody tr th {\n",
       "        vertical-align: top;\n",
       "    }\n",
       "\n",
       "    .dataframe thead th {\n",
       "        text-align: right;\n",
       "    }\n",
       "</style>\n",
       "<table border=\"1\" class=\"dataframe\">\n",
       "  <thead>\n",
       "    <tr style=\"text-align: right;\">\n",
       "      <th></th>\n",
       "      <th>period</th>\n",
       "      <th>short_desc</th>\n",
       "      <th>temp</th>\n",
       "      <th>desc</th>\n",
       "    </tr>\n",
       "  </thead>\n",
       "  <tbody>\n",
       "    <tr>\n",
       "      <th>0</th>\n",
       "      <td>Today</td>\n",
       "      <td>Sunny</td>\n",
       "      <td>High: 88 °F</td>\n",
       "      <td>Today: Sunny, with a high near 88. Northwest w...</td>\n",
       "    </tr>\n",
       "    <tr>\n",
       "      <th>1</th>\n",
       "      <td>Tonight</td>\n",
       "      <td>Mostly Clear</td>\n",
       "      <td>Low: 59 °F</td>\n",
       "      <td>Tonight: Mostly clear, with a low around 59. N...</td>\n",
       "    </tr>\n",
       "    <tr>\n",
       "      <th>2</th>\n",
       "      <td>Sunday</td>\n",
       "      <td>Sunny thenSlight ChanceT-storms</td>\n",
       "      <td>High: 88 °F</td>\n",
       "      <td>Sunday: A 20 percent chance of showers and thu...</td>\n",
       "    </tr>\n",
       "    <tr>\n",
       "      <th>3</th>\n",
       "      <td>SundayNight</td>\n",
       "      <td>Slight ChanceT-storms thenMostly Clear</td>\n",
       "      <td>Low: 57 °F</td>\n",
       "      <td>Sunday Night: A 20 percent chance of showers a...</td>\n",
       "    </tr>\n",
       "    <tr>\n",
       "      <th>4</th>\n",
       "      <td>Monday</td>\n",
       "      <td>Sunny</td>\n",
       "      <td>High: 87 °F</td>\n",
       "      <td>Monday: Sunny, with a high near 87. Light and ...</td>\n",
       "    </tr>\n",
       "    <tr>\n",
       "      <th>5</th>\n",
       "      <td>MondayNight</td>\n",
       "      <td>Mostly Clear</td>\n",
       "      <td>Low: 58 °F</td>\n",
       "      <td>Monday Night: Mostly clear, with a low around 58.</td>\n",
       "    </tr>\n",
       "    <tr>\n",
       "      <th>6</th>\n",
       "      <td>Tuesday</td>\n",
       "      <td>Sunny thenSlight ChanceT-storms</td>\n",
       "      <td>High: 89 °F</td>\n",
       "      <td>Tuesday: A 10 percent chance of showers and th...</td>\n",
       "    </tr>\n",
       "    <tr>\n",
       "      <th>7</th>\n",
       "      <td>TuesdayNight</td>\n",
       "      <td>Slight ChanceT-storms</td>\n",
       "      <td>Low: 60 °F</td>\n",
       "      <td>Tuesday Night: A slight chance of showers and ...</td>\n",
       "    </tr>\n",
       "    <tr>\n",
       "      <th>8</th>\n",
       "      <td>Wednesday</td>\n",
       "      <td>Sunny thenSlight ChanceT-storms</td>\n",
       "      <td>High: 86 °F</td>\n",
       "      <td>Wednesday: A slight chance of showers and thun...</td>\n",
       "    </tr>\n",
       "  </tbody>\n",
       "</table>\n",
       "</div>"
      ],
      "text/plain": [
       "         period                              short_desc         temp  \\\n",
       "0         Today                                   Sunny  High: 88 °F   \n",
       "1       Tonight                            Mostly Clear   Low: 59 °F   \n",
       "2        Sunday         Sunny thenSlight ChanceT-storms  High: 88 °F   \n",
       "3   SundayNight  Slight ChanceT-storms thenMostly Clear   Low: 57 °F   \n",
       "4        Monday                                   Sunny  High: 87 °F   \n",
       "5   MondayNight                            Mostly Clear   Low: 58 °F   \n",
       "6       Tuesday         Sunny thenSlight ChanceT-storms  High: 89 °F   \n",
       "7  TuesdayNight                   Slight ChanceT-storms   Low: 60 °F   \n",
       "8     Wednesday         Sunny thenSlight ChanceT-storms  High: 86 °F   \n",
       "\n",
       "                                                desc  \n",
       "0  Today: Sunny, with a high near 88. Northwest w...  \n",
       "1  Tonight: Mostly clear, with a low around 59. N...  \n",
       "2  Sunday: A 20 percent chance of showers and thu...  \n",
       "3  Sunday Night: A 20 percent chance of showers a...  \n",
       "4  Monday: Sunny, with a high near 87. Light and ...  \n",
       "5  Monday Night: Mostly clear, with a low around 58.  \n",
       "6  Tuesday: A 10 percent chance of showers and th...  \n",
       "7  Tuesday Night: A slight chance of showers and ...  \n",
       "8  Wednesday: A slight chance of showers and thun...  "
      ]
     },
     "execution_count": 8,
     "metadata": {},
     "output_type": "execute_result"
    }
   ],
   "source": [
    "import pandas as pd\n",
    "weather = pd.DataFrame({\n",
    "    \"period\": periods,\n",
    "    \"short_desc\": short_descs,\n",
    "    \"temp\": temps,\n",
    "    \"desc\":descs\n",
    "})\n",
    "weather"
   ]
  },
  {
   "cell_type": "markdown",
   "metadata": {
    "cell_id": "59f20d57345041af8af0038c501ad13a",
    "deepnote_cell_type": "text-cell-p",
    "formattedRanges": [],
    "id": "ED6QmmQlVDmi",
    "is_collapsed": false,
    "tags": []
   },
   "source": [
    "Now let's save it to CSV."
   ]
  },
  {
   "cell_type": "code",
   "execution_count": null,
   "metadata": {
    "cell_id": "586d9f5d1e0445da9d393aebfc2ac4e2",
    "deepnote_cell_type": "code",
    "deepnote_to_be_reexecuted": false,
    "execution_millis": 5,
    "execution_start": 1661620795386,
    "id": "GpmeffnuVDmi",
    "source_hash": "482a4e81",
    "tags": []
   },
   "outputs": [],
   "source": [
    "weather.to_csv('data/Boulder_Weather_7_Days.csv')"
   ]
  },
  {
   "cell_type": "markdown",
   "metadata": {
    "cell_id": "aabb0822e0e845b79957b8be69eb09e2",
    "deepnote_cell_type": "markdown",
    "id": "r_5ElbUXUomJ"
   },
   "source": [
    "# Case study: MSDS Faculty\n",
    "\n",
    "Note: This web-scraping program is out of date due to the change of the website. It is important we keep track of the websites we pull information from, and update accordingly. \n",
    "\n",
    "For the updated program, please refer to the case study - MSDS faculty."
   ]
  },
  {
   "cell_type": "markdown",
   "metadata": {
    "cell_id": "90fc97e551744bd28422661ea10398f6",
    "deepnote_cell_height": 70,
    "deepnote_cell_type": "markdown",
    "id": "08YnfLcCUomM"
   },
   "source": [
    "## Downloading the faculty data"
   ]
  },
  {
   "cell_type": "code",
   "execution_count": null,
   "metadata": {
    "cell_id": "fab7b89e0a63471ab550240230ba60cb",
    "deepnote_cell_type": "code",
    "deepnote_to_be_reexecuted": false,
    "execution_millis": 396,
    "execution_start": 1661570369682,
    "id": "BLNvRWMNUomN",
    "outputId": "2a066cbb-7e25-45e8-ecfb-b9745e081572",
    "source_hash": "d443700b"
   },
   "outputs": [
    {
     "name": "stdout",
     "output_type": "stream",
     "text": [
      "<!DOCTYPE html>\n",
      "<!--[if IEMobile 7]><html class=\"iem7\"  lang=\"en\" dir=\"ltr\"><![endif]-->\n",
      "<!--[if lte IE 6]><html class=\"lt-ie9 lt-ie8 lt-ie7\"  lang=\"en\" dir=\"ltr\"><![endif]-->\n",
      "<!--[if (IE 7)&(!IEMobile)]><html class=\"lt-ie9 lt-ie8\"  lang=\"en\" dir=\"ltr\"><![endif]-->\n",
      "<!--[if IE 8]><html class=\"lt-ie9\"  lang=\"en\" dir=\"ltr\"><![endif]-->\n",
      "<!--[if (gte IE 9)|(gt IEMobile 7)]><!--><html  lang=\"en\" dir=\"ltr\"\n",
      "  xmlns:og=\"http://ogp.me/ns#\"><!--<![endif]-->\n",
      "\n",
      "<head>\n",
      "  <meta http-equiv=\"Content-Type\" content=\"text/html; charset=utf-8\" />\n",
      "<link rel=\"shortcut icon\" href=\"https://www.colorado.edu/program/data-science/profiles/express/themes/cumodern/favicon.ico\" type=\"image/vnd.microsoft.icon\" />\n",
      "<link href=\"https://www.colorado.edu/program/data-science/feed/rss.xml\" rel=\"alternate\" />\n",
      "<meta http-equiv=\"X-UA-Compatible\" content=\"IE=edge\" />\n",
      "<link rel=\"apple-touch-icon\" sizes=\"57x57\" href=\"https://www.colorado.edu/program/data-science/profiles/express/themes/ucb/apple-icon-57x57.png\" />\n",
      "<link rel=\"apple-touch-icon\" sizes=\"72x72\" href=\"https://www.colorado.edu/program/data-science/profiles/express/themes/ucb/apple-icon-72x72.png\" />\n",
      "<link rel=\"apple-touch-icon\" sizes=\"114x114\" href=\"https://www.colorado.edu/program/data-science/profiles/express/themes/ucb/apple-icon-114x114.png\" />\n",
      "<link rel=\"apple-touch-icon\" sizes=\"144x144\" href=\"https://www.colorado.edu/program/data-science/profiles/express/themes/ucb/apple-icon-144x144.png\" />\n",
      "<link href=\"//fonts.googleapis.com\" rel=\"preconnect\" />\n",
      "<meta name=\"description\" content=\"The MS-DS is a truly interdisciplinary program, with faculty in Computer Science, Applied Mathematics, Information Science, and more. Data science faculty members are housed in Applied Mathematics, Computer Science, Information Science, and other departments across campus.    \" />\n",
      "<link href=\"//fonts.gstatic.com\" rel=\"preconnect\" crossorigin=\"\" />\n",
      "<link href=\"//fonts.googleapis.com/css2?family=Roboto+Condensed:wght@700&amp;family=Roboto:wght@400;700&amp;display=swap\" rel=\"stylesheet\" type=\"text/css\" />\n",
      "<meta name=\"generator\" content=\"Drupal 7 (https://www.drupal.org)\" />\n",
      "<link rel=\"canonical\" href=\"https://www.colorado.edu/program/data-science/faculty\" />\n",
      "<link rel=\"shortlink\" href=\"https://www.colorado.edu/program/data-science/node/169\" />\n",
      "<meta property=\"og:site_name\" content=\"Master of Science in Data Science\" />\n",
      "<meta property=\"og:type\" content=\"article\" />\n",
      "<meta property=\"og:url\" content=\"https://www.colorado.edu/program/data-science/faculty\" />\n",
      "<meta property=\"og:title\" content=\"Our People\" />\n",
      "<meta property=\"og:description\" content=\"The MS-DS is a truly interdisciplinary program, with faculty in Computer Science, Applied Mathematics, Information Science, and more. Data science faculty members are housed in Applied Mathematics, Computer Science, Information Science, and other departments across campus.    \" />\n",
      "<meta property=\"og:updated_time\" content=\"2022-07-15T11:16:44-06:00\" />\n",
      "<meta name=\"twitter:card\" content=\"summary\" />\n",
      "<meta name=\"twitter:url\" content=\"https://www.colorado.edu/program/data-science/faculty\" />\n",
      "<meta name=\"twitter:title\" content=\"Our People\" />\n",
      "<meta name=\"twitter:description\" content=\"The MS-DS is a truly interdisciplinary program, with faculty in Computer Science, Applied Mathematics, Information Science, and more. Data science faculty members are housed in Applied Mathematics,\" />\n",
      "<meta property=\"article:published_time\" content=\"2021-03-11T10:22:39-07:00\" />\n",
      "<meta property=\"article:modified_time\" content=\"2022-07-15T11:16:44-06:00\" />\n",
      "  <title>Our People | Master of Science in Data Science | University of Colorado Boulder</title>\n",
      "\n",
      "      <meta name=\"MobileOptimized\" content=\"width\">\n",
      "    <meta name=\"HandheldFriendly\" content=\"true\">\n",
      "    <meta name=\"viewport\" content=\"width=device-width\">\n",
      "  <meta http-equiv=\"cleartype\" content=\"on\">\n",
      "\n",
      "  <style type=\"text/css\" media=\"screen\">\n",
      "@import url(\"https://www.colorado.edu/program/data-science/modules/system/system.base.css?rfpala\");\n",
      "@import url(\"https://www.colorado.edu/program/data-science/modules/system/system.menus.css?rfpala\");\n",
      "@import url(\"https://www.colorado.edu/program/data-science/modules/system/system.messages.css?rfpala\");\n",
      "@import url(\"https://www.colorado.edu/program/data-science/modules/system/system.theme.css?rfpala\");\n",
      "</style>\n",
      "<style type=\"text/css\" media=\"screen\">\n",
      "@import url(\"https://www.colorado.edu/program/data-science/profiles/express/modules/contrib/jquery_update/replace/ui/themes/base/minified/jquery.ui.core.min.css?rfpala\");\n",
      "@import url(\"https://www.colorado.edu/program/data-science/profiles/express/modules/contrib/jquery_update/replace/ui/themes/base/minified/jquery.ui.accordion.min.css?rfpala\");\n",
      "</style>\n",
      "<style type=\"text/css\" media=\"screen\">\n",
      "@import url(\"https://www.colorado.edu/program/data-science/profiles/express/modules/features/cu_article/modules/cu_article_slider/css/cu-article-slider.css?rfpala\");\n",
      "@import url(\"https://www.colorado.edu/program/data-science/profiles/express/modules/custom/cu_campus_news_bundle/cu_campus_news/css/cu-campus-news.css?rfpala\");\n",
      "@import url(\"https://www.colorado.edu/program/data-science/profiles/express/modules/custom/cu_dashboard_seo/css/cu-dashboard-seo.css?rfpala\");\n",
      "@import url(\"https://www.colorado.edu/program/data-science/profiles/express/modules/custom/cu_expandable/css/cu-expandable.css?rfpala\");\n",
      "@import url(\"https://www.colorado.edu/program/data-science/profiles/express/modules/custom/cu_inactive_users/css/cu-inactive-users.css?rfpala\");\n",
      "@import url(\"https://www.colorado.edu/program/data-science/profiles/express/modules/custom/cu_js_includes/css/cu-js-includes.css?rfpala\");\n",
      "@import url(\"https://www.colorado.edu/program/data-science/profiles/express/modules/custom/cu_profile_module_manager/css/cu-profile-module-manager.css?rfpala\");\n",
      "@import url(\"https://www.colorado.edu/program/data-science/profiles/express/modules/features/cu_article/cu_related_articles/css/cu-related-articles.css?rfpala\");\n",
      "@import url(\"https://www.colorado.edu/program/data-science/profiles/express/modules/custom/cu_rss/css/cu-rss.css?rfpala\");\n",
      "@import url(\"https://www.colorado.edu/program/data-science/profiles/express/modules/custom/cu_share/css/cu-share.css?rfpala\");\n",
      "@import url(\"https://www.colorado.edu/program/data-science/profiles/express/modules/features/cu_wysiwyg/cu-wysiwyg.css?rfpala\");\n",
      "@import url(\"https://www.colorado.edu/program/data-science/profiles/express/modules/contrib/date/date_api/date.css?rfpala\");\n",
      "@import url(\"https://www.colorado.edu/program/data-science/profiles/express/modules/contrib/date/date_popup/themes/datepicker.1.7.css?rfpala\");\n",
      "@import url(\"https://www.colorado.edu/program/data-science/profiles/express/modules/custom/express_add_content/css/express-add-content.css?rfpala\");\n",
      "@import url(\"https://www.colorado.edu/program/data-science/profiles/express/modules/custom/express_block_designer/css/express-block-designer.css?rfpala\");\n",
      "@import url(\"https://www.colorado.edu/program/data-science/profiles/express/modules/custom/express_block_designer/modules/express_block_designer_menu/css/exbd-menu.css?rfpala\");\n",
      "@import url(\"https://www.colorado.edu/program/data-science/profiles/express/modules/custom/express_collections_bundle/css/express-collections-bundle.css?rfpala\");\n",
      "@import url(\"https://www.colorado.edu/program/data-science/profiles/express/modules/custom/express_layout/css/express-layout-admin.css?rfpala\");\n",
      "@import url(\"https://www.colorado.edu/program/data-science/profiles/express/modules/custom/express_localist_bundle/css/express-localist-bundle.css?rfpala\");\n",
      "@import url(\"https://www.colorado.edu/program/data-science/profiles/express/modules/custom/express_localist_bundle/css/express-localist-bundle-theme.css?rfpala\");\n",
      "@import url(\"https://www.colorado.edu/program/data-science/profiles/express/modules/contrib/fences/field.css?rfpala\");\n",
      "@import url(\"https://www.colorado.edu/program/data-science/profiles/express/modules/contrib/fitvids/fitvids.css?rfpala\");\n",
      "@import url(\"https://www.colorado.edu/program/data-science/profiles/express/modules/contrib/google_cse/google_cse.css?rfpala\");\n",
      "@import url(\"https://www.colorado.edu/program/data-science/modules/node/node.css?rfpala\");\n",
      "@import url(\"https://www.colorado.edu/program/data-science/profiles/express/modules/contrib/rave_alerts/css/rave_alerts.css?rfpala\");\n",
      "@import url(\"https://www.colorado.edu/program/data-science/profiles/express/modules/custom/site_navigation_menus/css/site-navigation-menus.css?rfpala\");\n",
      "@import url(\"https://www.colorado.edu/program/data-science/modules/user/user.css?rfpala\");\n",
      "@import url(\"https://www.colorado.edu/program/data-science/profiles/express/modules/contrib/video_filter/video_filter.css?rfpala\");\n",
      "@import url(\"https://www.colorado.edu/program/data-science/profiles/express/modules/contrib/views/css/views.css?rfpala\");\n",
      "@import url(\"https://www.colorado.edu/program/data-science/profiles/express/modules/custom/cu_users/css/cu-users.css?rfpala\");\n",
      "</style>\n",
      "<style type=\"text/css\" media=\"screen\">\n",
      "@import url(\"https://www.colorado.edu/program/data-science/profiles/express/modules/contrib/colorbox/styles/stockholmsyndrome/colorbox_style.css?rfpala\");\n",
      "@import url(\"https://www.colorado.edu/program/data-science/profiles/express/modules/contrib/context_accordion/context_accordion.css?rfpala\");\n",
      "@import url(\"https://www.colorado.edu/program/data-science/profiles/express/modules/contrib/ctools/css/ctools.css?rfpala\");\n",
      "@import url(\"https://www.colorado.edu/program/data-science/profiles/express/libraries/flickity/css/flickity.css?rfpala\");\n",
      "@import url(\"https://www.colorado.edu/program/data-science/profiles/express/libraries/fontawesome/css/font-awesome.min.css?rfpala\");\n",
      "@import url(\"https://www.colorado.edu/program/data-science/profiles/express/modules/contrib/files_undo_remove/files_undo_remove.css?rfpala\");\n",
      "@import url(\"https://www.colorado.edu/program/data-science/profiles/express/modules/custom/backstretch/backstretch.css?rfpala\");\n",
      "@import url(\"https://www.colorado.edu/program/data-science/profiles/express/modules/custom/cu_block_row/css/cu-block-row.css?rfpala\");\n",
      "@import url(\"https://www.colorado.edu/program/data-science/profiles/express/modules/features/cu_block_section/css/cu-block-section.css?rfpala\");\n",
      "@import url(\"https://www.colorado.edu/program/data-science/profiles/express/modules/features/cu_facebook_activity/cu_facebook_activity.css?rfpala\");\n",
      "@import url(\"https://www.colorado.edu/program/data-science/profiles/express/modules/features/cu_feature_callout/css/cu_feature_callout.css?rfpala\");\n",
      "@import url(\"https://www.colorado.edu/program/data-science/profiles/express/modules/features/cu_feature_callout/css/feature-callout-block-designer.css?rfpala\");\n",
      "@import url(\"https://www.colorado.edu/program/data-science/profiles/express/modules/custom/cu_give_buttons/styles/give-button.css?rfpala\");\n",
      "@import url(\"https://www.colorado.edu/program/data-science/profiles/express/modules/features/cu_hero_unit/css/cu_hero_unit.css?rfpala\");\n",
      "@import url(\"https://www.colorado.edu/program/data-science/profiles/express/modules/custom/cu_menu_icon/cu_menu_icon.css?rfpala\");\n",
      "@import url(\"https://www.colorado.edu/program/data-science/profiles/express/modules/custom/cu_rss_block/css/cu-rss-block.css?rfpala\");\n",
      "@import url(\"https://www.colorado.edu/program/data-science/profiles/express/modules/features/cu_search/css/cu-search.css?rfpala\");\n",
      "@import url(\"https://www.colorado.edu/program/data-science/profiles/express/modules/custom/cu_shortcodes/css/cu_shortcodes.css?rfpala\");\n",
      "@import url(\"https://www.colorado.edu/program/data-science/profiles/express/modules/custom/cu_shortcodes/css/cu-shortcodes-columns.css?rfpala\");\n",
      "@import url(\"https://www.colorado.edu/program/data-science/profiles/express/modules/custom/cu_site_info/site_info.css?rfpala\");\n",
      "@import url(\"https://www.colorado.edu/program/data-science/profiles/express/modules/features/cu_social_links/css/social_links.css?rfpala\");\n",
      "@import url(\"https://www.colorado.edu/program/data-science/profiles/express/modules/features/cu_twitter_feed/cu_twitter_feed.css?rfpala\");\n",
      "@import url(\"https://www.colorado.edu/program/data-science/profiles/express/modules/custom/cu_video_hero_unit_bundle/css/cu_video_hero_unit.css?rfpala\");\n",
      "@import url(\"https://www.colorado.edu/program/data-science/profiles/express/modules/custom/cu_video_reveal/css/cu-video-reveal.css?rfpala\");\n",
      "@import url(\"https://www.colorado.edu/program/data-science/profiles/express/modules/custom/express_layout/css/express-layout.css?rfpala\");\n",
      "@import url(\"https://www.colorado.edu/program/data-science/profiles/express/modules/custom/express_settings/css/express-settings.css?rfpala\");\n",
      "@import url(\"https://www.colorado.edu/program/data-science/profiles/express/modules/features/files/css/files.css?rfpala\");\n",
      "@import url(\"https://www.colorado.edu/program/data-science/profiles/express/modules/custom/profile_module_manager/css/profile-module-manager.css?rfpala\");\n",
      "@import url(\"https://www.colorado.edu/program/data-science/profiles/express/modules/features/cu_article/css/cu-article.css?rfpala\");\n",
      "@import url(\"https://www.colorado.edu/program/data-science/profiles/express/modules/features/cu_article/css/cu-article-grid.css?rfpala\");\n",
      "@import url(\"https://www.colorado.edu/program/data-science/profiles/express/modules/features/cu_article/css/owl.carousel.css?rfpala\");\n",
      "</style>\n",
      "<style type=\"text/css\" media=\"screen\">\n",
      "@import url(\"https://www.colorado.edu/program/data-science/profiles/express/modules/features/cu_faq/css/cu_faq.css?rfpala\");\n",
      "@import url(\"https://www.colorado.edu/program/data-science/profiles/express/modules/features/cu_page/cu-page.css?rfpala\");\n",
      "@import url(\"https://www.colorado.edu/program/data-science/profiles/express/modules/custom/express_theme_picker/express_theme_picker.css?rfpala\");\n",
      "@import url(\"https://www.colorado.edu/program/data-science/profiles/express/modules/features/people_content_type/css/people_content_type.css?rfpala\");\n",
      "@import url(\"https://www.colorado.edu/program/data-science/profiles/express/modules/features/photo_gallery/css/photo-gallery.css?rfpala\");\n",
      "@import url(\"https://www.colorado.edu/program/data-science/profiles/express/modules/custom/cu_back_to_top/cu_back_to_top.css?rfpala\");\n",
      "@import url(\"https://www.colorado.edu/program/data-science/sites/default/files/honeypot/honeypot.css?rfpala\");\n",
      "</style>\n",
      "<style type=\"text/css\" media=\"screen\">\n",
      "@import url(\"https://www.colorado.edu/program/data-science/profiles/express/themes/ucb/css/ucb.css?rfpala\");\n",
      "@import url(\"https://www.colorado.edu/program/data-science/profiles/express/themes/cumodern/css/modern-styles.css?rfpala\");\n",
      "</style>\n",
      "<style type=\"text/css\" media=\"print\">\n",
      "@import url(\"https://www.colorado.edu/program/data-science/profiles/express/themes/ucb/css/ucb-print.css?rfpala\");\n",
      "</style>\n",
      "  <script type=\"text/javascript\" defer=\"defer\" src=\"https://www.colorado.edu/program/data-science/sites/default/files/google_tag/google_tag.script.js?rfpala\"></script>\n",
      "<script type=\"text/javascript\" src=\"https://www.colorado.edu/program/data-science/profiles/express/libraries/modernizr/modernizr.min.js?rfpala\"></script>\n",
      "<script type=\"text/javascript\" src=\"https://www.colorado.edu/program/data-science/profiles/express/modules/contrib/jquery_update/replace/jquery/1.9/jquery.min.js?v=1.9.1\"></script>\n",
      "<script type=\"text/javascript\">\n",
      "<!--//--><![CDATA[//><!--\n",
      "jQuery.migrateMute=true;jQuery.migrateTrace=false;\n",
      "//--><!]]>\n",
      "</script>\n",
      "<script type=\"text/javascript\" src=\"https://www.colorado.edu/program/data-science/profiles/express/modules/contrib/jquery_update/replace/jquery-migrate/1/jquery-migrate.min.js?v=1\"></script>\n",
      "<script type=\"text/javascript\" src=\"https://www.colorado.edu/program/data-science/misc/jquery-extend-3.4.0.js?v=1.9.1\"></script>\n",
      "<script type=\"text/javascript\" src=\"https://www.colorado.edu/program/data-science/misc/jquery-html-prefilter-3.5.0-backport.js?v=1.9.1\"></script>\n",
      "<script type=\"text/javascript\" src=\"https://www.colorado.edu/program/data-science/misc/jquery.once.js?v=1.2\"></script>\n",
      "<script type=\"text/javascript\" src=\"https://www.colorado.edu/program/data-science/misc/drupal.js?rfpala\"></script>\n",
      "<script type=\"text/javascript\" src=\"https://www.colorado.edu/program/data-science/profiles/express/libraries/fitvids/jquery.fitvids.js?rfpala\"></script>\n",
      "<script type=\"text/javascript\" src=\"https://www.colorado.edu/program/data-science/profiles/express/libraries/match-height/jquery.matchHeight-min.js?rfpala\"></script>\n",
      "<script type=\"text/javascript\" src=\"https://www.colorado.edu/program/data-science/profiles/express/libraries/waypoints/waypoint.js?rfpala\"></script>\n",
      "<script type=\"text/javascript\" src=\"https://www.colorado.edu/program/data-science/profiles/express/modules/contrib/jquery_update/replace/ui/ui/minified/jquery.ui.core.min.js?v=1.10.2\"></script>\n",
      "<script type=\"text/javascript\" src=\"https://www.colorado.edu/program/data-science/profiles/express/modules/contrib/jquery_update/replace/ui/ui/minified/jquery.ui.widget.min.js?v=1.10.2\"></script>\n",
      "<script type=\"text/javascript\" src=\"https://www.colorado.edu/program/data-science/profiles/express/modules/contrib/jquery_update/replace/ui/ui/minified/jquery.ui.accordion.min.js?v=1.10.2\"></script>\n",
      "<script type=\"text/javascript\" src=\"https://www.colorado.edu/program/data-science/profiles/express/modules/features/cu_colorbox/js/cu-colorbox.js?rfpala\"></script>\n",
      "<script type=\"text/javascript\" src=\"https://www.colorado.edu/program/data-science/profiles/express/modules/custom/cu_expandable/js/expandable.plugin.js?rfpala\"></script>\n",
      "<script type=\"text/javascript\" src=\"https://www.colorado.edu/program/data-science/profiles/express/modules/custom/cu_expandable/js/cu-expandable.js?rfpala\"></script>\n",
      "<script type=\"text/javascript\" src=\"https://www.colorado.edu/program/data-science/profiles/express/modules/custom/cu_share/js/cu_share.js?rfpala\"></script>\n",
      "<script type=\"text/javascript\" src=\"https://www.colorado.edu/program/data-science/profiles/express/modules/custom/cu_video_hero_unit_bundle/js/cu-video-hero.js?rfpala\"></script>\n",
      "<script type=\"text/javascript\" src=\"https://www.colorado.edu/program/data-science/profiles/express/modules/custom/express_collections_bundle/js/express-collections-bundle.js?rfpala\"></script>\n",
      "<script type=\"text/javascript\" src=\"https://www.colorado.edu/program/data-science/profiles/express/modules/custom/express_layout/js/express-layout.js?rfpala\"></script>\n",
      "<script type=\"text/javascript\" src=\"https://www.colorado.edu/program/data-science/profiles/express/modules/contrib/fitvids/fitvids.js?rfpala\"></script>\n",
      "<script type=\"text/javascript\" src=\"https://www.colorado.edu/program/data-science/profiles/express/modules/contrib/google_cse/google_cse.js?rfpala\"></script>\n",
      "<script type=\"text/javascript\" src=\"https://www.colorado.edu/program/data-science/profiles/express/modules/custom/site_navigation_menus/js/site-navigation-menus.js?rfpala\"></script>\n",
      "<script type=\"text/javascript\" src=\"https://www.colorado.edu/program/data-science/profiles/express/libraries/colorbox/jquery.colorbox-min.js?rfpala\"></script>\n",
      "<script type=\"text/javascript\" src=\"https://www.colorado.edu/program/data-science/profiles/express/modules/contrib/colorbox/js/colorbox.js?rfpala\"></script>\n",
      "<script type=\"text/javascript\" src=\"https://www.colorado.edu/program/data-science/profiles/express/modules/contrib/colorbox/styles/stockholmsyndrome/colorbox_style.js?rfpala\"></script>\n",
      "<script type=\"text/javascript\" src=\"https://www.colorado.edu/program/data-science/profiles/express/modules/contrib/context_accordion/context_accordion.js?rfpala\"></script>\n",
      "<script type=\"text/javascript\" src=\"https://www.colorado.edu/program/data-science/profiles/express/libraries/flickity/js/flickity.pkgd.min.js?rfpala\"></script>\n",
      "<script type=\"text/javascript\" src=\"https://www.colorado.edu/program/data-science/profiles/express/modules/features/cu_article/modules/cu_article_slider/js/cu-article-slider.js?rfpala\"></script>\n",
      "<script type=\"text/javascript\" src=\"https://www.colorado.edu/program/data-science/profiles/express/modules/contrib/files_undo_remove/files_undo_remove.js?rfpala\"></script>\n",
      "<script type=\"text/javascript\" src=\"https://www.colorado.edu/program/data-science/profiles/express/libraries/backstretch/jquery.backstretch.js?rfpala\"></script>\n",
      "<script type=\"text/javascript\" src=\"https://www.colorado.edu/program/data-science/profiles/express/modules/contrib/rave_alerts/js/rave_alerts.js?rfpala\"></script>\n",
      "<script type=\"text/javascript\" src=\"https://www.colorado.edu/program/data-science/profiles/express/modules/features/cu_block_section/js/cu-block-section.js?rfpala\"></script>\n",
      "<script type=\"text/javascript\" src=\"https://www.colorado.edu/program/data-science/profiles/express/modules/features/cu_block_section/js/parallaxie.js?rfpala\"></script>\n",
      "<script type=\"text/javascript\" src=\"https://www.colorado.edu/program/data-science/profiles/express/modules/custom/cu_shortcodes/js/cu_shortcodes.js?rfpala\"></script>\n",
      "<script type=\"text/javascript\" src=\"https://www.colorado.edu/program/data-science/profiles/express/modules/custom/cu_shortcodes/js/counter.js?rfpala\"></script>\n",
      "<script type=\"text/javascript\" src=\"//www.youtube.com/iframe_api\"></script>\n",
      "<script type=\"text/javascript\" src=\"https://www.colorado.edu/program/data-science/profiles/express/modules/contrib/google_analytics/googleanalytics.js?rfpala\"></script>\n",
      "<script type=\"text/javascript\">\n",
      "<!--//--><![CDATA[//><!--\n",
      "(function(i,s,o,g,r,a,m){i[\"GoogleAnalyticsObject\"]=r;i[r]=i[r]||function(){(i[r].q=i[r].q||[]).push(arguments)},i[r].l=1*new Date();a=s.createElement(o),m=s.getElementsByTagName(o)[0];a.async=1;a.src=g;m.parentNode.insertBefore(a,m)})(window,document,\"script\",\"https://www.google-analytics.com/analytics.js\",\"ga\");ga(\"create\", \"UA-105731679-1\", {\"cookieDomain\":\"auto\"});ga(\"create\", \"UA-142322394-2\", \"auto\", {\"name\":\"customTracker0\"});ga(\"set\", \"anonymizeIp\", true);ga(\"set\", \"dimension1\", \"169\");ga(\"set\", \"dimension2\", \"Our People\");ga(\"set\", \"dimension3\", \"People List Page\");ga(\"set\", \"dimension4\", \"Thu, 03\\/11\\/2021 - 10:22\");ga(\"customTracker0.set\", \"anonymizeIp\", true);ga(\"customTracker0.set\", \"dimension1\", \"169\");ga(\"customTracker0.set\", \"dimension2\", \"Our People\");ga(\"customTracker0.set\", \"dimension3\", \"People List Page\");ga(\"customTracker0.set\", \"dimension4\", \"Thu, 03\\/11\\/2021 - 10:22\");ga(\"send\", \"pageview\");ga(\"customTracker0.send\", \"pageview\");\n",
      "//--><!]]>\n",
      "</script>\n",
      "<script type=\"text/javascript\" src=\"https://www.colorado.edu/program/data-science/profiles/express/themes/ucb/js/ucb.js?rfpala\"></script>\n",
      "<script type=\"text/javascript\">\n",
      "<!--//--><![CDATA[//><!--\n",
      "jQuery.extend(Drupal.settings, {\"basePath\":\"\\/program\\/data-science\\/\",\"pathPrefix\":\"\",\"setHasJsCookie\":0,\"ajaxPageState\":{\"theme\":\"cumodern\",\"theme_token\":\"HLAMtQtzE_pgjpqISKZ68kucFyVv2F6_D6j9I4TyOTU\",\"js\":{\"profiles\\/express\\/modules\\/custom\\/backstretch\\/bs.js\":1,\"profiles\\/express\\/modules\\/features\\/cu_search\\/js\\/cu-search.js\":1,\"profiles\\/express\\/themes\\/ucb\\/js\\/track-focus.js\":1,\"0\":1,\"profiles\\/express\\/modules\\/custom\\/cu_back_to_top\\/cu_back_to_top.js\":1,\"public:\\/\\/google_tag\\/google_tag.script.js\":1,\"profiles\\/express\\/libraries\\/modernizr\\/modernizr.min.js\":1,\"profiles\\/express\\/modules\\/contrib\\/jquery_update\\/replace\\/jquery\\/1.9\\/jquery.min.js\":1,\"1\":1,\"profiles\\/express\\/modules\\/contrib\\/jquery_update\\/replace\\/jquery-migrate\\/1\\/jquery-migrate.min.js\":1,\"misc\\/jquery-extend-3.4.0.js\":1,\"misc\\/jquery-html-prefilter-3.5.0-backport.js\":1,\"misc\\/jquery.once.js\":1,\"misc\\/drupal.js\":1,\"profiles\\/express\\/libraries\\/fitvids\\/jquery.fitvids.js\":1,\"profiles\\/express\\/libraries\\/match-height\\/jquery.matchHeight-min.js\":1,\"profiles\\/express\\/libraries\\/waypoints\\/waypoint.js\":1,\"profiles\\/express\\/modules\\/contrib\\/jquery_update\\/replace\\/ui\\/ui\\/minified\\/jquery.ui.core.min.js\":1,\"profiles\\/express\\/modules\\/contrib\\/jquery_update\\/replace\\/ui\\/ui\\/minified\\/jquery.ui.widget.min.js\":1,\"profiles\\/express\\/modules\\/contrib\\/jquery_update\\/replace\\/ui\\/ui\\/minified\\/jquery.ui.accordion.min.js\":1,\"profiles\\/express\\/modules\\/features\\/cu_colorbox\\/js\\/cu-colorbox.js\":1,\"profiles\\/express\\/modules\\/custom\\/cu_expandable\\/js\\/expandable.plugin.js\":1,\"profiles\\/express\\/modules\\/custom\\/cu_expandable\\/js\\/cu-expandable.js\":1,\"profiles\\/express\\/modules\\/custom\\/cu_share\\/js\\/cu_share.js\":1,\"profiles\\/express\\/modules\\/custom\\/cu_video_hero_unit_bundle\\/js\\/cu-video-hero.js\":1,\"profiles\\/express\\/modules\\/custom\\/express_collections_bundle\\/js\\/express-collections-bundle.js\":1,\"profiles\\/express\\/modules\\/custom\\/express_layout\\/js\\/express-layout.js\":1,\"profiles\\/express\\/modules\\/contrib\\/fitvids\\/fitvids.js\":1,\"profiles\\/express\\/modules\\/contrib\\/google_cse\\/google_cse.js\":1,\"profiles\\/express\\/modules\\/custom\\/site_navigation_menus\\/js\\/site-navigation-menus.js\":1,\"profiles\\/express\\/libraries\\/colorbox\\/jquery.colorbox-min.js\":1,\"profiles\\/express\\/modules\\/contrib\\/colorbox\\/js\\/colorbox.js\":1,\"profiles\\/express\\/modules\\/contrib\\/colorbox\\/styles\\/stockholmsyndrome\\/colorbox_style.js\":1,\"profiles\\/express\\/modules\\/contrib\\/context_accordion\\/context_accordion.js\":1,\"profiles\\/express\\/libraries\\/flickity\\/js\\/flickity.pkgd.min.js\":1,\"profiles\\/express\\/modules\\/features\\/cu_article\\/modules\\/cu_article_slider\\/js\\/cu-article-slider.js\":1,\"profiles\\/express\\/modules\\/contrib\\/files_undo_remove\\/files_undo_remove.js\":1,\"profiles\\/express\\/libraries\\/backstretch\\/jquery.backstretch.js\":1,\"profiles\\/express\\/modules\\/contrib\\/rave_alerts\\/js\\/rave_alerts.js\":1,\"profiles\\/express\\/modules\\/features\\/cu_block_section\\/js\\/cu-block-section.js\":1,\"profiles\\/express\\/modules\\/features\\/cu_block_section\\/js\\/parallaxie.js\":1,\"profiles\\/express\\/modules\\/custom\\/cu_shortcodes\\/js\\/cu_shortcodes.js\":1,\"profiles\\/express\\/modules\\/custom\\/cu_shortcodes\\/js\\/counter.js\":1,\"\\/\\/www.youtube.com\\/iframe_api\":1,\"profiles\\/express\\/modules\\/contrib\\/google_analytics\\/googleanalytics.js\":1,\"2\":1,\"profiles\\/express\\/themes\\/ucb\\/js\\/ucb.js\":1},\"css\":{\"modules\\/system\\/system.base.css\":1,\"modules\\/system\\/system.menus.css\":1,\"modules\\/system\\/system.messages.css\":1,\"modules\\/system\\/system.theme.css\":1,\"misc\\/ui\\/jquery.ui.core.css\":1,\"misc\\/ui\\/jquery.ui.accordion.css\":1,\"profiles\\/express\\/modules\\/features\\/cu_article\\/modules\\/cu_article_slider\\/css\\/cu-article-slider.css\":1,\"profiles\\/express\\/modules\\/custom\\/cu_campus_news_bundle\\/cu_campus_news\\/css\\/cu-campus-news.css\":1,\"profiles\\/express\\/modules\\/custom\\/cu_dashboard_seo\\/css\\/cu-dashboard-seo.css\":1,\"profiles\\/express\\/modules\\/custom\\/cu_expandable\\/css\\/cu-expandable.css\":1,\"profiles\\/express\\/modules\\/custom\\/cu_inactive_users\\/css\\/cu-inactive-users.css\":1,\"profiles\\/express\\/modules\\/custom\\/cu_js_includes\\/css\\/cu-js-includes.css\":1,\"profiles\\/express\\/modules\\/custom\\/cu_profile_module_manager\\/css\\/cu-profile-module-manager.css\":1,\"profiles\\/express\\/modules\\/features\\/cu_article\\/cu_related_articles\\/css\\/cu-related-articles.css\":1,\"profiles\\/express\\/modules\\/custom\\/cu_rss\\/css\\/cu-rss.css\":1,\"profiles\\/express\\/modules\\/custom\\/cu_share\\/css\\/cu-share.css\":1,\"profiles\\/express\\/modules\\/features\\/cu_wysiwyg\\/cu-wysiwyg.css\":1,\"profiles\\/express\\/modules\\/contrib\\/date\\/date_api\\/date.css\":1,\"profiles\\/express\\/modules\\/contrib\\/date\\/date_popup\\/themes\\/datepicker.1.7.css\":1,\"profiles\\/express\\/modules\\/custom\\/express_add_content\\/css\\/express-add-content.css\":1,\"profiles\\/express\\/modules\\/custom\\/express_block_designer\\/css\\/express-block-designer.css\":1,\"profiles\\/express\\/modules\\/custom\\/express_block_designer\\/modules\\/express_block_designer_menu\\/css\\/exbd-menu.css\":1,\"profiles\\/express\\/modules\\/custom\\/express_collections_bundle\\/css\\/express-collections-bundle.css\":1,\"profiles\\/express\\/modules\\/custom\\/express_layout\\/css\\/express-layout-admin.css\":1,\"profiles\\/express\\/modules\\/custom\\/express_localist_bundle\\/css\\/express-localist-bundle.css\":1,\"profiles\\/express\\/modules\\/custom\\/express_localist_bundle\\/css\\/express-localist-bundle-theme.css\":1,\"modules\\/field\\/theme\\/field.css\":1,\"profiles\\/express\\/modules\\/contrib\\/fitvids\\/fitvids.css\":1,\"profiles\\/express\\/modules\\/contrib\\/google_cse\\/google_cse.css\":1,\"modules\\/node\\/node.css\":1,\"profiles\\/express\\/modules\\/contrib\\/rave_alerts\\/css\\/rave_alerts.css\":1,\"profiles\\/express\\/modules\\/custom\\/site_navigation_menus\\/css\\/site-navigation-menus.css\":1,\"modules\\/user\\/user.css\":1,\"profiles\\/express\\/modules\\/contrib\\/video_filter\\/video_filter.css\":1,\"profiles\\/express\\/modules\\/contrib\\/views\\/css\\/views.css\":1,\"profiles\\/express\\/modules\\/custom\\/cu_users\\/css\\/cu-users.css\":1,\"profiles\\/express\\/modules\\/contrib\\/colorbox\\/styles\\/stockholmsyndrome\\/colorbox_style.css\":1,\"profiles\\/express\\/modules\\/contrib\\/context_accordion\\/context_accordion.css\":1,\"profiles\\/express\\/modules\\/contrib\\/ctools\\/css\\/ctools.css\":1,\"profiles\\/express\\/libraries\\/flickity\\/css\\/flickity.css\":1,\"profiles\\/express\\/libraries\\/fontawesome\\/css\\/font-awesome.min.css\":1,\"profiles\\/express\\/modules\\/contrib\\/files_undo_remove\\/files_undo_remove.css\":1,\"profiles\\/express\\/modules\\/custom\\/backstretch\\/backstretch.css\":1,\"profiles\\/express\\/modules\\/custom\\/cu_block_row\\/css\\/cu-block-row.css\":1,\"profiles\\/express\\/modules\\/features\\/cu_block_section\\/css\\/cu-block-section.css\":1,\"profiles\\/express\\/modules\\/features\\/cu_facebook_activity\\/cu_facebook_activity.css\":1,\"profiles\\/express\\/modules\\/features\\/cu_feature_callout\\/css\\/cu_feature_callout.css\":1,\"profiles\\/express\\/modules\\/features\\/cu_feature_callout\\/css\\/feature-callout-block-designer.css\":1,\"profiles\\/express\\/modules\\/custom\\/cu_give_buttons\\/styles\\/give-button.css\":1,\"profiles\\/express\\/modules\\/features\\/cu_hero_unit\\/css\\/cu_hero_unit.css\":1,\"profiles\\/express\\/modules\\/custom\\/cu_menu_icon\\/cu_menu_icon.css\":1,\"profiles\\/express\\/modules\\/custom\\/cu_rss_block\\/css\\/cu-rss-block.css\":1,\"profiles\\/express\\/modules\\/features\\/cu_search\\/css\\/cu-search.css\":1,\"profiles\\/express\\/modules\\/custom\\/cu_shortcodes\\/css\\/cu_shortcodes.css\":1,\"profiles\\/express\\/modules\\/custom\\/cu_shortcodes\\/css\\/cu-shortcodes-columns.css\":1,\"profiles\\/express\\/modules\\/custom\\/cu_site_info\\/site_info.css\":1,\"profiles\\/express\\/modules\\/features\\/cu_social_links\\/css\\/social_links.css\":1,\"profiles\\/express\\/modules\\/features\\/cu_twitter_feed\\/cu_twitter_feed.css\":1,\"profiles\\/express\\/modules\\/custom\\/cu_video_hero_unit_bundle\\/css\\/cu_video_hero_unit.css\":1,\"profiles\\/express\\/modules\\/custom\\/cu_video_reveal\\/css\\/cu-video-reveal.css\":1,\"profiles\\/express\\/modules\\/custom\\/express_layout\\/css\\/express-layout.css\":1,\"profiles\\/express\\/modules\\/custom\\/express_settings\\/css\\/express-settings.css\":1,\"profiles\\/express\\/modules\\/features\\/files\\/css\\/files.css\":1,\"profiles\\/express\\/modules\\/custom\\/profile_module_manager\\/css\\/profile-module-manager.css\":1,\"profiles\\/express\\/modules\\/features\\/cu_article\\/css\\/cu-article.css\":1,\"profiles\\/express\\/modules\\/features\\/cu_article\\/css\\/cu-article-grid.css\":1,\"profiles\\/express\\/modules\\/features\\/cu_article\\/css\\/owl.carousel.css\":1,\"profiles\\/express\\/modules\\/features\\/cu_faq\\/css\\/cu_faq.css\":1,\"profiles\\/express\\/modules\\/features\\/cu_page\\/cu-page.css\":1,\"profiles\\/express\\/modules\\/custom\\/express_theme_picker\\/express_theme_picker.css\":1,\"profiles\\/express\\/modules\\/features\\/people_content_type\\/css\\/people_content_type.css\":1,\"profiles\\/express\\/modules\\/features\\/photo_gallery\\/css\\/photo-gallery.css\":1,\"profiles\\/express\\/modules\\/custom\\/cu_back_to_top\\/cu_back_to_top.css\":1,\"public:\\/\\/honeypot\\/honeypot.css\":1,\"profiles\\/express\\/themes\\/ucb\\/css\\/ucb.css\":1,\"profiles\\/express\\/themes\\/cumodern\\/css\\/modern-styles.css\":1,\"profiles\\/express\\/themes\\/ucb\\/css\\/ucb-print.css\":1}},\"colorbox\":{\"opacity\":\"0.85\",\"current\":\"{current} of {total}\",\"previous\":\"\\u00ab Prev\",\"next\":\"Next \\u00bb\",\"close\":\"Close\",\"maxWidth\":\"98%\",\"maxHeight\":\"98%\",\"fixed\":true,\"mobiledetect\":true,\"mobiledevicewidth\":\"320px\",\"specificPagesDefaultValue\":\"admin*\\nimagebrowser*\\nimg_assist*\\nimce*\\nnode\\/add\\/*\\nnode\\/*\\/edit\\nprint\\/*\\nprintpdf\\/*\\nsystem\\/ajax\\nsystem\\/ajax\\/*\"},\"localist_bypass_urls\":[\"cupresents.org\"],\"googleCSE\":{\"cx\":\"\",\"resultsWidth\":600,\"domain\":\"www.google.com\",\"showWaterMark\":true},\"fitvids\":{\"custom_domains\":[],\"selectors\":[\"body\"],\"simplifymarkup\":true,\"ignore\":\"\"},\"backstretchURL\":\"\",\"backstretchMinWidth\":0,\"googleanalytics\":{\"trackOutbound\":1,\"trackMailto\":1,\"trackDownload\":1,\"trackDownloadExtensions\":\"7z|aac|arc|arj|asf|asx|avi|bin|csv|doc|exe|flv|gif|gz|gzip|hqx|jar|jpe?g|js|mp(2|3|4|e?g)|mov(ie)?|msi|msp|pdf|phps|png|ppt|qtm?|ra(m|r)?|sea|sit|tar|tgz|torrent|txt|wav|wma|wmv|wpd|xls|xml|z|zip\",\"trackColorbox\":1},\"currentPath\":\"node\\/169\",\"currentPathIsAdmin\":false,\"urlIsAjaxTrusted\":{\"\\/program\\/data-science\\/faculty\":true}});\n",
      "//--><!]]>\n",
      "</script>\n",
      "      <!--[if lt IE 9]>\n",
      "    <script src=\"/program/data-science/profiles/express/themes/ucb/js/html5-respond.js\"></script>\n",
      "    <![endif]-->\n",
      "  </head>\n",
      "<body class=\"html not-front not-logged-in no-sidebars page-node page-node- page-node-169 node-type-people-list-page layout-default headings-bold page-title-image-background-transparent layout-responsive max-width-1200 primary-sidebar-second express-site-type- banner-black layout-wide\" >\n",
      "      <p id=\"skip-link\">\n",
      "      <a href=\"#main\" class=\"element-invisible element-focusable\">Skip to Content</a>\n",
      "    </p>\n",
      "    <noscript aria-hidden=\"true\"><iframe src=\"https://www.googletagmanager.com/ns.html?id=GTM-M3DX2QP\" height=\"0\" width=\"0\" style=\"display:none;visibility:hidden\"></iframe></noscript>  <div class=\"page-wrapper\">\n",
      "  <div class=\"page page node-published\">\n",
      "    <!-- ALERTS -->\n",
      "          <div id=\"alerts-wide-wrapper\" class=\"section\">\n",
      "        <div id=\"alerts\" class=\"clearfix\">\n",
      "            <div class=\"region region-alerts\">\n",
      "    <div id=\"block-rave-alerts-rave-alerts\" class=\"block block-rave-alerts  block-rave-alerts-rave-alerts\">\n",
      "  <div class=\"block-inner-wrapper block-inner clearfix\">\n",
      "                <div class=\"content\">\n",
      "      <div id=\"rave-alerts\" data-remote-url=\"\">\n",
      "  </div>\n",
      "    </div>\n",
      "  </div>\n",
      "</div>\n",
      "  </div>\n",
      "        </div>\n",
      "      </div>\n",
      "    \n",
      "    <!-- CAMPUS BRANDING -->\n",
      "    <div class=\"brand-bar brand-bar-color-black no-underline\">\n",
      "  <div class=\"container\">\n",
      "    <div class=\"brand-bar-container\">\n",
      "      <div class=\"brand-logo\">\n",
      "        <a href=\"http://www.colorado.edu\"><img src=\"https://www.colorado.edu/program/data-science/profiles/express/themes/ucb/images/cu-boulder-logo-text-black.svg\" alt=\"University of Colorado Boulder\" /></a>\n",
      "      </div>\n",
      "      <div class=\"brand-links\">\n",
      "      </div>\n",
      "      <div class=\"search-toggle-wrapper\">\n",
      "        <a href=\"https://www.colorado.edu/search\" id=\"search-toggle\" class=\"search-toggle\" aria-haspopup=\"true\" aria-expanded=\"false\" aria-controls=\"search\" aria-label=\"Search\"><i class=\"fa fa-search fa-fw\"></i><span class=\"element-invisible\">Search </span></a>\n",
      "      </div>\n",
      "    </div>\n",
      "  </div>\n",
      "</div>\n",
      "    <!-- /CAMPUS BRANDING -->\n",
      "\n",
      "    <!-- DESKTOP SEARCH -->\n",
      "    <div id=\"search\" tabindex=\"-1\" class=\"background-black\">\n",
      "      <div id=\"search-inner\">\n",
      "        <div class=\"container container-small\">\n",
      "          <div class=\"search-form\">\n",
      "\n",
      "              <div class=\"cu-search-box cu-search-box-small animated\" role=\"search\">\n",
      "    <h2>Search</h2>\n",
      "    <form class=\"cu-search-form\" action=\"https://www.colorado.edu/search\" method=\"get\">\n",
      "      <div class=\"search-form-wrapper\">\n",
      "        <div class=\"search-fields\">\n",
      "          <div class=\"cu-search\">\n",
      "            <div class=\"form-item form-type-textfield form-item-search-keys\">\n",
      "              <label class=\"element-invisible\" for=\"edit-search-keys\">Enter the terms you wish to search for. </label>\n",
      "              <input placeholder=\"Search Colorado.edu\" type=\"search\" id=\"edit-search-keys\" name=\"cse\" value=\"\" size=\"15\" maxlength=\"128\" class=\"form-text\">\n",
      "            </div>\n",
      "            <div class=\"form-actions form-wrapper\" id=\"edit-actions\"><input type=\"submit\" id=\"edit-submit\" name=\"op\" value=\"Search\" class=\"form-submit\"></div>\n",
      "          </div>\n",
      "        </div>\n",
      "\n",
      "                        <div class=\"campus-links\">\n",
      "          <h3 class=\"display-inline\">Other ways to search: </h3>\n",
      "          <ul class=\"inline inline-menu\">\n",
      "            <li><a href=\"https://calendar.colorado.edu\">Events Calendar</a></li>\n",
      "            <li><a href=\"https://www.colorado.edu/map\">Campus Map</a></li>\n",
      "          </ul>\n",
      "\n",
      "        </div>\n",
      "            </div>\n",
      "    </form>\n",
      "  </div>\n",
      "            <button id=\"close-search\"><i class=\"fa fa-times\" aria-hidden=\"true\"></i><span class=\"element-invisible\">Close</span></button>\n",
      "          </div>\n",
      "        </div>\n",
      "      </div>\n",
      "    </div>\n",
      "    <!-- /DESKTOP SEARCH -->\n",
      "\n",
      "    <!-- SITE HEADER -->\n",
      "    <div id=\"header-wrapper\" class=\"section header-wrapper no-underline cu-header\">\n",
      "      <div class=\"container\">\n",
      "      <header class=\"ucb header clearfix\" id=\"header\" role=\"banner\" tabindex=\"-1\">\n",
      "        <div class=\"site-name-wrapper\">\n",
      "\n",
      "            \n",
      "      <div class=\"site-name\">\n",
      "      <a href=\"/program/data-science/\" title=\"Home\" class=\"header__site-link\" rel=\"home\"><span>Master of Science in Data Science</span></a>\n",
      "    </div>\n",
      "  \n",
      "<div id=\"print-site-name\">Master of Science in Data Science</div>\n",
      "\n",
      "        </div>\n",
      "        <div class=\"mobile-menu-toggle menu-toggle\">\n",
      "          <button id=\"toggle\" aria-haspopup=\"true\" aria-expanded=\"false\" aria-controls=\"mobile-menu\" aria-label=\"Navigation\"><i class=\"fa fa-reorder fa-fw\" aria-hidden=\"true\"></i><span class=\"mobile-menu-text\">Menu </span></button>\n",
      "        </div>\n",
      "      </header>\n",
      "    </div>\n",
      "    </div>\n",
      "    <!-- /SITE HEADER -->\n",
      "\n",
      "    <!-- NAVIGATION -->\n",
      "    <div id=\"navigation-wrapper\" class=\"navigation-wrapper section no-underline\">\n",
      "\n",
      "      <!-- Main menu -->\n",
      "      <div id=\"main-menu-wrapper\" class=\"section\">\n",
      "        <div id=\"navigation\" class=\"container\">\n",
      "          <div class=\"nav-inner clearfix\">\n",
      "              <nav role=\"navigation\" tabindex=\"-1\" class=\"region region-menu\">\n",
      "\n",
      "    <div>\n",
      "      <h2 class=\"element-invisible\">Main menu</h2>  <ul class=\"links inline clearfix\" id=\"main-menu\"><li class=\"home-link first\"><a href=\"/program/data-science/\" id=\"home-link\" class=\"home-link first\"><i class=\"fa fa-home\"></i><span class=\"element-invisible\">Home</span></a></li><li class=\"\"><a href=\"/program/data-science/big-opportunities-in-big-data-Landing-Page\">Academics</a></li><li class=\"\"><a href=\"/program/data-science/campus-overview\">On Campus</a></li><li class=\"\"><a href=\"/program/data-science/coursera-overview\">Online</a></li><li class=\"active-trail\"><a href=\"/program/data-science/faculty\" class=\"active-trail active\">Our People</a></li><li class=\"\"><a href=\"/program/data-science/about\">About</a></li><li class=\"\"><a href=\"/program/data-science/student-jobs\">Student Jobs</a></li><li class=\"\"><a href=\"/program/data-science/employers\">For Employers</a></li><li class=\"last\"><a href=\"https://www.colorado.edu/covid-19\" title=\"\" class=\"last\">Covid-19 Updates</a></li>  </ul>    </div>\n",
      "\n",
      "    \n",
      "  </nav>\n",
      "          </div>\n",
      "        </div>\n",
      "      </div>\n",
      "      <!-- /Main menu -->\n",
      "\n",
      "      <!-- Secondary menu under main menu -->\n",
      "                </div>\n",
      "    <!-- /NAVIGATION -->\n",
      "\n",
      "    <!-- MOBILE NAVIGATION -->\n",
      "    <div id=\"mobile-navigation-wrapper\" class=\"section no-underline\">\n",
      "      <div id=\"mobile-navigation\">\n",
      "        <!-- Mobile search -->\n",
      "        <div id=\"mobile-search\">\n",
      "                  </div>\n",
      "        <!-- Mobile menu -->\n",
      "        <nav id=\"mobile-menu\" role=\"navigation\">\n",
      "                  <h2 class=\"element-invisible\">Mobile menu</h2><ul id=\"main-menu-mobile\" class=\"links clearfix\"><li class=\"menu-701 first\"><a href=\"/program/data-science/\">Home</a></li>\n",
      "<li class=\"menu-2607\"><a href=\"/program/data-science/big-opportunities-in-big-data-Landing-Page\">Academics</a></li>\n",
      "<li class=\"menu-1561\"><a href=\"/program/data-science/campus-overview\">On Campus</a></li>\n",
      "<li class=\"menu-1449\"><a href=\"/program/data-science/coursera-overview\">Online</a></li>\n",
      "<li class=\"menu-2365 active-trail active\"><a href=\"/program/data-science/faculty\" class=\"active-trail active\">Our People</a></li>\n",
      "<li class=\"menu-2301\"><a href=\"/program/data-science/about\">About</a></li>\n",
      "<li class=\"menu-2743\"><a href=\"/program/data-science/student-jobs\">Student Jobs</a></li>\n",
      "<li class=\"menu-2581\"><a href=\"/program/data-science/employers\">For Employers</a></li>\n",
      "<li class=\"menu-2571 last\"><a href=\"https://www.colorado.edu/covid-19\" title=\"\">Covid-19 Updates</a></li>\n",
      "</ul>                                                          </nav>\n",
      "      </div>\n",
      "    </div>\n",
      "    <!-- MOBILE NAVIGATION -->\n",
      "\n",
      "\n",
      "    <!-- MESSAGES/TABS/HELP/ACTION LINKS -->\n",
      "    <div class=\"express-messages section\">\n",
      "      <div class=\"container\">\n",
      "        \n",
      "        \n",
      "        \n",
      "              </div>\n",
      "    </div>\n",
      "    <!-- /MESSAGES/TABS/HELP/ACTION LINKS -->\n",
      "\n",
      "    <!-- PAGE CONTENT -->\n",
      "    <div class=\"page-content\">\n",
      "      <!-- INTRO -->\n",
      "            <!-- //INTRO -->\n",
      "\n",
      "      <!-- SLIDER -->\n",
      "            <!-- //SLIDER -->\n",
      "\n",
      "      <!-- PAGE TITLE IMAGE -->\n",
      "            <!-- //PAGE TITLE IMAGE -->\n",
      "\n",
      "      <!-- MAIN CONTENT -->\n",
      "      <div id=\"main-content-wrapper\" class=\"section main-content-wrapper\">\n",
      "        <div id=\"main\" class=\"clearfix\">\n",
      "                    <div class=\"container\">\n",
      "            <!-- TITLE -->\n",
      "            <div class=\"main-title-wrapper \">\n",
      "\n",
      "              <a id=\"main-content\"></a>\n",
      "                                            <h1 class=\"page-title title \" id=\"page-title\">\n",
      "                  Our People                </h1>\n",
      "                                        </div>\n",
      "          </div>\n",
      "\n",
      "          <!-- POST TITLE WIDE -->\n",
      "          \n",
      "          <!-- POST TITLE -->\n",
      "          \n",
      "          <!-- NODE CONTENT -->\n",
      "          <div class=\"content-wrapper section\">\n",
      "            <div class=\"container\">\n",
      "              <div class=\"row\">\n",
      "                <div id=\"content\" class=\"col-lg-12 col-md-12 col-sm-12 col-xs-12\" role=\"main\">\n",
      "                    <div class=\"region region-content\">\n",
      "    <div>\n",
      "      <div>\n",
      "    \n",
      "  <div class=\"field field-name-body field-type-text-with-summary field-label-hidden\">\n",
      "    <h2>The MS-DS is a truly interdisciplinary program, with faculty in Computer Science, Applied Mathematics, Information Science, and more.</h2>\n",
      "<p>Data science faculty members are housed in Applied Mathematics, Computer Science, Information Science, and other departments across campus.</p>\n",
      "<p> </p>\n",
      "<p> </p>\n",
      "  </div>\n",
      "<form action=\"/program/data-science/faculty\" method=\"post\" id=\"people-content-type-list-filter-form\" accept-charset=\"UTF-8\"><div><input type=\"hidden\" name=\"form_build_id\" value=\"form-ltOoEJHOyRGgIdHCadDEs2n-0z0DilEghuoY4tkvRL8\" />\n",
      "<input type=\"hidden\" name=\"form_id\" value=\"people_content_type_list_filter_form\" />\n",
      "<div class=\"url-textfield\"><div class=\"form-item form-type-textfield form-item-url\">\n",
      "  <label for=\"edit-url\">Leave this field blank </label>\n",
      " <input autocomplete=\"off\" type=\"text\" id=\"edit-url\" name=\"url\" value=\"\" size=\"20\" maxlength=\"128\" class=\"form-text\" />\n",
      "</div>\n",
      "</div></div></form><div class=\"people-list-wrapper-teaser\"><a name=\"jane+wall\" id=\"jane+wall\"></a>\n",
      "<div class=\"person-view-mode-teaser clearfix\">\n",
      "      \n",
      "  <a href=\"/program/data-science/jane-wall\"><img class=\"image-small_thumbnail\" src=\"https://www.colorado.edu/program/data-science/sites/default/files/styles/small_thumbnail/public/people/jane_wall.jpg?itok=rXn8aeh1\" width=\"100\" height=\"100\" alt=\"Jane Wall\" /></a>    <div class=\"person-view-mode-teaser-content node-view-mode-teaser-content\">\n",
      "    <h2 class=\"node-title\"><a href=\"/program/data-science/jane-wall\">Jane Wall</a></h2>\n",
      "    <div class=\"person-job-titles\">Faculty Director</div>\n",
      "    <div class=\"person-departments\">Data Science</div>\n",
      "          <div class=\"people-bio\">\n",
      "        \n",
      "  <div class=\"field field-name-body field-type-text-with-summary field-label-hidden\">\n",
      "    Dr. Wall worked for IBM and other software development companies as a software engineer, development manager, subcontract manager and account executive before getting her PhD. She developed 3 core data science courses at AU and co-founded the graduate certificate, BS and MS in Data Science.  </div>\n",
      "      </div>\n",
      "            \n",
      "  </div>\n",
      "</div>\n",
      "<a name=\"bobby+schnabel\" id=\"bobby+schnabel\"></a>\n",
      "<div class=\"person-view-mode-teaser clearfix\">\n",
      "      \n",
      "  <a href=\"/program/data-science/bobby-schnabel\"><img class=\"image-small_thumbnail\" src=\"https://www.colorado.edu/program/data-science/sites/default/files/styles/small_thumbnail/public/people/bobby_schnabel.png?itok=1a2pgM1i\" width=\"100\" height=\"100\" alt=\"Bobby Schnabel\" /></a>    <div class=\"person-view-mode-teaser-content node-view-mode-teaser-content\">\n",
      "    <h2 class=\"node-title\"><a href=\"/program/data-science/bobby-schnabel\">Bobby Schnabel</a></h2>\n",
      "    <div class=\"person-job-titles\">Department External Chair &bull; Professor</div>\n",
      "    <div class=\"person-departments\">Computer Science</div>\n",
      "          <div class=\"people-bio\">\n",
      "        \n",
      "  <div class=\"field field-name-body field-type-text-with-summary field-label-hidden\">\n",
      "    Dr. Schnabel is Professor and External Chair of Computer Science and CEAS Faculty Director for Entrepreneurship. He is a co-founder of the National Center for Women &amp; Information Technology, founding director of the ATLAS Institute at CU Boulder, and a former academic CIO and dean.  </div>\n",
      "      </div>\n",
      "            \n",
      "  </div>\n",
      "</div>\n",
      "<a name=\"brian+zaharatos\" id=\"brian+zaharatos\"></a>\n",
      "<div class=\"person-view-mode-teaser clearfix\">\n",
      "      \n",
      "  <a href=\"/program/data-science/brian-zaharatos\"><img class=\"image-small_thumbnail\" src=\"https://www.colorado.edu/program/data-science/sites/default/files/styles/small_thumbnail/public/people/brian_zaharatos_0_copy.jpg?itok=swrhf59F\" width=\"100\" height=\"100\" alt=\"Brian Zaharatos\" /></a>    <div class=\"person-view-mode-teaser-content node-view-mode-teaser-content\">\n",
      "    <h2 class=\"node-title\"><a href=\"/program/data-science/brian-zaharatos\">Brian Zaharatos</a></h2>\n",
      "    <div class=\"person-job-titles\">Director of the Professional Master’s Degree &bull; Senior Instructor</div>\n",
      "    <div class=\"person-departments\">Applied Mathematics</div>\n",
      "          <div class=\"people-bio\">\n",
      "        \n",
      "  <div class=\"field field-name-body field-type-text-with-summary field-label-hidden\">\n",
      "    Dr. Zaharatos’s primary interests are in applied statistics and the philosophy of statistics. Most of his work has been in statistical methods for photovoltaic performance modeling. He also works on applications in geography, residential building energy analysis, and consulting for statistical litigation support.  </div>\n",
      "      </div>\n",
      "            \n",
      "  </div>\n",
      "</div>\n",
      "<a name=\"jem+corcoran\" id=\"jem+corcoran\"></a>\n",
      "<div class=\"person-view-mode-teaser clearfix\">\n",
      "      \n",
      "  <a href=\"/program/data-science/jem-corcoran\"><img class=\"image-small_thumbnail\" src=\"https://www.colorado.edu/program/data-science/sites/default/files/styles/small_thumbnail/public/people/jem_corcoran.jpg?itok=fUO0MSBJ\" width=\"100\" height=\"96\" alt=\"Jem Corcoran\" /></a>    <div class=\"person-view-mode-teaser-content node-view-mode-teaser-content\">\n",
      "    <h2 class=\"node-title\"><a href=\"/program/data-science/jem-corcoran\">Jem Corcoran</a></h2>\n",
      "    <div class=\"person-job-titles\">Associate Professor</div>\n",
      "    <div class=\"person-departments\">Applied Mathematics</div>\n",
      "          <div class=\"people-bio\">\n",
      "        \n",
      "  <div class=\"field field-name-body field-type-text-with-summary field-label-hidden\">\n",
      "    Dr. Corcoran is an applied probabilist specializing in MCMC methods in the Probability and Statistics Group in the Department of Applied Mathematics at the University of Colorado Boulder.  </div>\n",
      "      </div>\n",
      "            \n",
      "  </div>\n",
      "</div>\n",
      "<a name=\"anne+dougherty\" id=\"anne+dougherty\"></a>\n",
      "<div class=\"person-view-mode-teaser clearfix\">\n",
      "      \n",
      "  <a href=\"/program/data-science/anne-dougherty\"><img class=\"image-small_thumbnail\" src=\"https://www.colorado.edu/program/data-science/sites/default/files/styles/small_thumbnail/public/people/anne_d_copy_copy.jpg?itok=mcI_Th4v\" width=\"100\" height=\"100\" alt=\"Anne Dougherty\" /></a>    <div class=\"person-view-mode-teaser-content node-view-mode-teaser-content\">\n",
      "    <h2 class=\"node-title\"><a href=\"/program/data-science/anne-dougherty\">Anne Dougherty</a></h2>\n",
      "    <div class=\"person-job-titles\">Senior Instructor & University of Colorado Teaching Professor &bull; Associate Department Chair   &bull; Undergraduate Studies Chair </div>\n",
      "    <div class=\"person-departments\">Applied Mathematics</div>\n",
      "          <div class=\"people-bio\">\n",
      "        \n",
      "  <div class=\"field field-name-body field-type-text-with-summary field-label-hidden\">\n",
      "    Dr. Dougherty has been the J.R. Woodhull/Logicon Teaching Professor of Applied Mathematics since July 2012. In addition to teaching, Dr. Dougherty serves as a faculty advisor for applied math majors/ minors and statistics minors, the CU campus representative for the Goldwater Scholarship, and a faculty advisor for the International Mathematics Contest in Modeling.  </div>\n",
      "      </div>\n",
      "                  <div class=\"person-view-mode-teaser-contact\"><span class=\"person-contact-info-item person-contact-info-email\"><i class=\"fa fa-envelope\"></i> \n",
      "  <a href=\"mailto:anne.dougherty@colorado.edu\">anne.dougherty@colorado.edu</a></span></div>\n",
      "    \n",
      "  </div>\n",
      "</div>\n",
      "<a name=\"ioana+fleming\" id=\"ioana+fleming\"></a>\n",
      "<div class=\"person-view-mode-teaser clearfix\">\n",
      "      \n",
      "  <a href=\"/program/data-science/ioana-fleming\"><img class=\"image-small_thumbnail\" src=\"https://www.colorado.edu/program/data-science/sites/default/files/styles/small_thumbnail/public/people/ioana_fleming_copy.jpg?itok=noKX_5UL\" width=\"100\" height=\"100\" alt=\"Ioana Fleming\" /></a>    <div class=\"person-view-mode-teaser-content node-view-mode-teaser-content\">\n",
      "    <h2 class=\"node-title\"><a href=\"/program/data-science/ioana-fleming\">Ioana Fleming</a></h2>\n",
      "    <div class=\"person-job-titles\">Senior Instructor &bull; Chair of Undergraduate Education</div>\n",
      "    <div class=\"person-departments\">Computer Science</div>\n",
      "          <div class=\"people-bio\">\n",
      "        \n",
      "  <div class=\"field field-name-body field-type-text-with-summary field-label-hidden\">\n",
      "    Dr. Fleming holds an MD from Romania, and MS and Ph.D. degrees from Johns Hopkins University. Her research combines computer vision &amp; medical imaging, with applications in ultrasound elastography &amp; image-guided surgery. At CU Boulder, she is a Senior Instructor in the Computer Science Department.  </div>\n",
      "      </div>\n",
      "                  <div class=\"person-view-mode-teaser-contact\"><span class=\"person-contact-info-item person-contact-info-email\"><i class=\"fa fa-envelope\"></i> \n",
      "  <a href=\"mailto:Ioana.Fleming@Colorado.EDU\">Ioana.Fleming@Colorado.EDU</a></span></div>\n",
      "    \n",
      "  </div>\n",
      "</div>\n",
      "<a name=\"ami+gates\" id=\"ami+gates\"></a>\n",
      "<div class=\"person-view-mode-teaser clearfix\">\n",
      "      \n",
      "  <a href=\"/program/data-science/ami-gates\"><img class=\"image-small_thumbnail\" src=\"https://www.colorado.edu/program/data-science/sites/default/files/styles/small_thumbnail/public/people/gates_ami_small.jpeg?itok=1KTSfAfC\" width=\"100\" height=\"100\" alt=\"Ami Gates Photo\" /></a>    <div class=\"person-view-mode-teaser-content node-view-mode-teaser-content\">\n",
      "    <h2 class=\"node-title\"><a href=\"/program/data-science/ami-gates\">Ami Gates</a></h2>\n",
      "    <div class=\"person-job-titles\">Teaching Professor</div>\n",
      "    <div class=\"person-departments\">Applied Mathematics</div>\n",
      "          <div class=\"people-bio\">\n",
      "        \n",
      "  <div class=\"field field-name-body field-type-text-with-summary field-label-hidden\">\n",
      "    Professor Ami Gates has a BA in Math, an MS in Education, an MS in Computer Science, and a Ph.D. in Computer Engineering (focus: Machine Learning, Data Analytics). Dr. Gates has been teaching for 25 years in computer science, data analytics and visualization, information technology, and statistics. Areas of interest include technologies in education, robust and personalized learning environments, machine learning applications in data analytics, and data visualization.  </div>\n",
      "      </div>\n",
      "                  <div class=\"person-view-mode-teaser-contact\"><span class=\"person-contact-info-item person-contact-info-email\"><i class=\"fa fa-envelope\"></i> \n",
      "  <a href=\"mailto:Ami.Gates@colorado.edu\">Ami.Gates@colorado.edu</a></span></div>\n",
      "    \n",
      "  </div>\n",
      "</div>\n",
      "<a name=\"abel+iyasele\" id=\"abel+iyasele\"></a>\n",
      "<div class=\"person-view-mode-teaser clearfix\">\n",
      "      \n",
      "  <a href=\"/program/data-science/abel-iyasele-0\"><img class=\"image-small_thumbnail\" src=\"https://www.colorado.edu/program/data-science/sites/default/files/styles/small_thumbnail/public/people/abel_pix_2_-_abel_iyasele_small.jpeg?itok=e8A37mUr\" width=\"100\" height=\"100\" alt=\"Abel Iyasele Photo\" /></a>    <div class=\"person-view-mode-teaser-content node-view-mode-teaser-content\">\n",
      "    <h2 class=\"node-title\"><a href=\"/program/data-science/abel-iyasele-0\">Abel Iyasele</a></h2>\n",
      "    <div class=\"person-job-titles\">Teaching Assistant Professor</div>\n",
      "    <div class=\"person-departments\">Information Science</div>\n",
      "          <div class=\"people-bio\">\n",
      "        \n",
      "  <div class=\"field field-name-body field-type-text-with-summary field-label-hidden\">\n",
      "    Scholarly Area: Nexus between binding macro issues and corporate performance in the US.  </div>\n",
      "      </div>\n",
      "                  <div class=\"person-view-mode-teaser-contact\"><span class=\"person-contact-info-item person-contact-info-email\"><i class=\"fa fa-envelope\"></i> \n",
      "  <a href=\"mailto:Abel.Iyasele@colorado.edu\">Abel.Iyasele@colorado.edu</a></span></div>\n",
      "    \n",
      "  </div>\n",
      "</div>\n",
      "<a name=\"geena+kim\" id=\"geena+kim\"></a>\n",
      "<div class=\"person-view-mode-teaser clearfix\">\n",
      "      \n",
      "  <a href=\"/program/data-science/geena-kim\"><img class=\"image-small_thumbnail\" src=\"https://www.colorado.edu/program/data-science/sites/default/files/styles/small_thumbnail/public/people/geena_kim.png?itok=jdm9De9f\" width=\"100\" height=\"100\" alt=\"Geena Kim\" /></a>    <div class=\"person-view-mode-teaser-content node-view-mode-teaser-content\">\n",
      "    <h2 class=\"node-title\"><a href=\"/program/data-science/geena-kim\">Geena Kim</a></h2>\n",
      "    <div class=\"person-job-titles\">Post-Baccalaureate Instructor</div>\n",
      "    <div class=\"person-departments\">Computer Science</div>\n",
      "          <div class=\"people-bio\">\n",
      "        \n",
      "  <div class=\"field field-name-body field-type-text-with-summary field-label-hidden\">\n",
      "    Dr. Kim received a PhD from UC Berkeley, worked as an entrepreneur and technical advisor at IoT startups in the Bay Area. She taught in the MS data science program at Regis before joining CU. Research includes deep learning, computer vision, and medical image analysis.  </div>\n",
      "      </div>\n",
      "            \n",
      "  </div>\n",
      "</div>\n",
      "<a name=\"william+kuskin\" id=\"william+kuskin\"></a>\n",
      "<div class=\"person-view-mode-teaser clearfix\">\n",
      "      \n",
      "  <a href=\"/program/data-science/william-kuskin\"><img class=\"image-small_thumbnail\" src=\"https://www.colorado.edu/program/data-science/sites/default/files/styles/small_thumbnail/public/people/william_kuskin_copy.jpg?itok=jEGI7Oq1\" width=\"100\" height=\"100\" alt=\"William Kuskin\" /></a>    <div class=\"person-view-mode-teaser-content node-view-mode-teaser-content\">\n",
      "    <h2 class=\"node-title\"><a href=\"/program/data-science/william-kuskin\">William Kuskin</a></h2>\n",
      "    <div class=\"person-job-titles\">Professor &bull; CEAS Associate Dean for Digital Education</div>\n",
      "    <div class=\"person-departments\">English & Engineering</div>\n",
      "          <div class=\"people-bio\">\n",
      "        \n",
      "  <div class=\"field field-name-body field-type-text-with-summary field-label-hidden\">\n",
      "    Dr. Kuskin is Professor of English and CEAS Associate Dean for Digital Education. He taught one of the first humanities MOOCs on the Coursera platform, “Comic Books and Graphic Novels,” co-created the MS-EE, and is former Vice Provost.  </div>\n",
      "      </div>\n",
      "            \n",
      "  </div>\n",
      "</div>\n",
      "<a name=\"qin+%28christine%29+lv\" id=\"qin+%28christine%29+lv\"></a>\n",
      "<div class=\"person-view-mode-teaser clearfix\">\n",
      "      \n",
      "  <a href=\"/program/data-science/qin-christine-lv\"><img class=\"image-small_thumbnail\" src=\"https://www.colorado.edu/program/data-science/sites/default/files/styles/small_thumbnail/public/people/qin_lv_copy.jpg?itok=3vwVm9Ys\" width=\"100\" height=\"100\" alt=\"Qin (Christine) Lv\" /></a>    <div class=\"person-view-mode-teaser-content node-view-mode-teaser-content\">\n",
      "    <h2 class=\"node-title\"><a href=\"/program/data-science/qin-christine-lv\">Qin (Christine) Lv</a></h2>\n",
      "    <div class=\"person-job-titles\">Professor</div>\n",
      "    <div class=\"person-departments\">Computer Science</div>\n",
      "          <div class=\"people-bio\">\n",
      "        \n",
      "  <div class=\"field field-name-body field-type-text-with-summary field-label-hidden\">\n",
      "    Dr. Lv is a professor in the Department of Computer Science. Lv's research integrates systems, algorithms, and applications for effective and efficient data analytics in ubiquitous computing and scientific discovery. She received an MA and a Ph.D. from Princeton University.  </div>\n",
      "      </div>\n",
      "            \n",
      "  </div>\n",
      "</div>\n",
      "<a name=\"quentin+mcandrew\" id=\"quentin+mcandrew\"></a>\n",
      "<div class=\"person-view-mode-teaser clearfix\">\n",
      "      \n",
      "  <a href=\"/program/data-science/quentin-mcandrew\"><img class=\"image-small_thumbnail\" src=\"https://www.colorado.edu/program/data-science/sites/default/files/styles/small_thumbnail/public/people/quentin_mcandrew_copy.jpg?itok=6y7p50kU\" width=\"100\" height=\"100\" alt=\"Quentin McAndrew\" /></a>    <div class=\"person-view-mode-teaser-content node-view-mode-teaser-content\">\n",
      "    <h2 class=\"node-title\"><a href=\"/program/data-science/quentin-mcandrew\">Quentin McAndrew</a></h2>\n",
      "    <div class=\"person-job-titles\">Instructor</div>\n",
      "    <div class=\"person-departments\">Academic & Learning Innovation</div>\n",
      "          <div class=\"people-bio\">\n",
      "        \n",
      "  <div class=\"field field-name-body field-type-text-with-summary field-label-hidden\">\n",
      "    Dr. Quentin McAndrew, PhD, is currently Coursera's Academic Strategist and was previously Assistant Vice Provost of Academic and Learning Innovation at the University of Colorado. She taught literature and business writing and holds a BA and MA from Stanford, and a PhD from the University of Colorado.  </div>\n",
      "      </div>\n",
      "            \n",
      "  </div>\n",
      "</div>\n",
      "<a name=\"osita+onyejekwe\" id=\"osita+onyejekwe\"></a>\n",
      "<div class=\"person-view-mode-teaser clearfix\">\n",
      "      \n",
      "  <a href=\"/program/data-science/osita-onyejekwe\"><img class=\"image-small_thumbnail\" src=\"https://www.colorado.edu/program/data-science/sites/default/files/styles/small_thumbnail/public/people/osita_small_0.jpeg?itok=uxiRJTyu\" width=\"100\" height=\"100\" alt=\"Osita Onyejekwe Photo\" /></a>    <div class=\"person-view-mode-teaser-content node-view-mode-teaser-content\">\n",
      "    <h2 class=\"node-title\"><a href=\"/program/data-science/osita-onyejekwe\">Osita Onyejekwe</a></h2>\n",
      "    <div class=\"person-job-titles\">Teaching Assistant Professor</div>\n",
      "    <div class=\"person-departments\">Computer Science</div>\n",
      "          <div class=\"people-bio\">\n",
      "        \n",
      "  <div class=\"field field-name-body field-type-text-with-summary field-label-hidden\">\n",
      "    My primary interests are in multivariate regression models in conjunction with machine learning models to estimate weather patterns, glacier recession behavior, as well as looking into financial models pertaining to profit gains, losses, and revenue. I am also interested in planetary systems, abiogenesis, philosophy, and theology.  </div>\n",
      "      </div>\n",
      "                  <div class=\"person-view-mode-teaser-contact\"><span class=\"person-contact-info-item person-contact-info-email\"><i class=\"fa fa-envelope\"></i> \n",
      "  <a href=\"mailto:Osita.Onyejekwe@Colorado.EDU\">Osita.Onyejekwe@Colorado.EDU</a></span></div>\n",
      "    \n",
      "  </div>\n",
      "</div>\n",
      "<a name=\"alan+paradise\" id=\"alan+paradise\"></a>\n",
      "<div class=\"person-view-mode-teaser clearfix\">\n",
      "      \n",
      "  <a href=\"/program/data-science/alan-paradise\"><img class=\"image-small_thumbnail\" src=\"https://www.colorado.edu/program/data-science/sites/default/files/styles/small_thumbnail/public/people/alan_paradise_copy.jpg?itok=hNclIKin\" width=\"100\" height=\"100\" alt=\"Alan Paradise\" /></a>    <div class=\"person-view-mode-teaser-content node-view-mode-teaser-content\">\n",
      "    <h2 class=\"node-title\"><a href=\"/program/data-science/alan-paradise\">Alan Paradise</a></h2>\n",
      "    <div class=\"person-job-titles\">Assistant Teaching Professor</div>\n",
      "    <div class=\"person-departments\">Computer Science</div>\n",
      "          <div class=\"people-bio\">\n",
      "        \n",
      "  <div class=\"field field-name-body field-type-text-with-summary field-label-hidden\">\n",
      "    Professor Paradise worked for almost 40 years as an IT Professional in industry with a focus on database technologies. Professor Paradise has been teaching full time at CU Boulder since 2017, including a popular undergraduate database course as well at the Senior Capstone Project course for graduating CS seniors.  </div>\n",
      "      </div>\n",
      "            \n",
      "  </div>\n",
      "</div>\n",
      "<a name=\"al+pisano\" id=\"al+pisano\"></a>\n",
      "<div class=\"person-view-mode-teaser clearfix\">\n",
      "      \n",
      "  <a href=\"/program/data-science/al-pisano\"><img class=\"image-small_thumbnail\" src=\"https://www.colorado.edu/program/data-science/sites/default/files/styles/small_thumbnail/public/people/al_pisano.jpg?itok=DtzZosLP\" width=\"100\" height=\"100\" alt=\"Al Pisano\" /></a>    <div class=\"person-view-mode-teaser-content node-view-mode-teaser-content\">\n",
      "    <h2 class=\"node-title\"><a href=\"/program/data-science/al-pisano\">Al Pisano</a></h2>\n",
      "    <div class=\"person-job-titles\">Instructor</div>\n",
      "    <div class=\"person-departments\">Computer Science</div>\n",
      "          <div class=\"people-bio\">\n",
      "        \n",
      "  <div class=\"field field-name-body field-type-text-with-summary field-label-hidden\">\n",
      "    Dr. Pisano has a wide breadth of dynamic experience and knowledge within the educational and corporate space with proven success as a presenter, thought leader, author, innovator, entrepreneur, K-12 administrator, higher education administrator, curriculum and program developer, educational consultant and instructor.  </div>\n",
      "      </div>\n",
      "            \n",
      "  </div>\n",
      "</div>\n",
      "<a name=\"sriram+sankaranarayanan\" id=\"sriram+sankaranarayanan\"></a>\n",
      "<div class=\"person-view-mode-teaser clearfix\">\n",
      "      \n",
      "  <a href=\"/program/data-science/sriram-sankaranarayanan\"><img class=\"image-small_thumbnail\" src=\"https://www.colorado.edu/program/data-science/sites/default/files/styles/small_thumbnail/public/people/sriram_sankaranarayanan_copy.jpg?itok=DyJI-dph\" width=\"100\" height=\"100\" alt=\"Sriram Sankaranarayanan\" /></a>    <div class=\"person-view-mode-teaser-content node-view-mode-teaser-content\">\n",
      "    <h2 class=\"node-title\"><a href=\"/program/data-science/sriram-sankaranarayanan\">Sriram Sankaranarayanan</a></h2>\n",
      "    <div class=\"person-job-titles\">Associate Professor</div>\n",
      "    <div class=\"person-departments\">Computer Science</div>\n",
      "          <div class=\"people-bio\">\n",
      "        \n",
      "  <div class=\"field field-name-body field-type-text-with-summary field-label-hidden\">\n",
      "    Dr. Sankaranarayanan is a professor in the CS department, and a member of the Programming Languages &amp; Verification and Computer &amp; Cyber-Physical Systems research groups. He was a member of research staff at NEC Laboratories America from 2005-2009, and graduated with a PhD in (theoretical) CS from Stanford University in 2005.  </div>\n",
      "      </div>\n",
      "            \n",
      "  </div>\n",
      "</div>\n",
      "<a name=\"chris+vargo\" id=\"chris+vargo\"></a>\n",
      "<div class=\"person-view-mode-teaser clearfix\">\n",
      "      \n",
      "  <a href=\"/program/data-science/chris-vargo\"><img class=\"image-small_thumbnail\" src=\"https://www.colorado.edu/program/data-science/sites/default/files/styles/small_thumbnail/public/people/chris_vargo.jpeg?itok=NOw2Xei7\" width=\"100\" height=\"100\" alt=\"Chris Vargo\" /></a>    <div class=\"person-view-mode-teaser-content node-view-mode-teaser-content\">\n",
      "    <h2 class=\"node-title\"><a href=\"/program/data-science/chris-vargo\">Chris Vargo</a></h2>\n",
      "    <div class=\"person-job-titles\">Associate Professor of Advertising and Analytics</div>\n",
      "    <div class=\"person-departments\">College of Media, Communication and Information</div>\n",
      "          <div class=\"people-bio\">\n",
      "        \n",
      "  <div class=\"field field-name-body field-type-text-with-summary field-label-hidden\">\n",
      "    Dr. Chris J. Vargo is an associate professor specializing in data analytics and digital advertising. Dr. Vargo employs the use of computer science methods to investigate social media data using theories from communication, psychology and political science.  </div>\n",
      "      </div>\n",
      "            \n",
      "  </div>\n",
      "</div>\n",
      "<a name=\"di+wu\" id=\"di+wu\"></a>\n",
      "<div class=\"person-view-mode-teaser clearfix\">\n",
      "      \n",
      "  <a href=\"/program/data-science/di-wu\"><img class=\"image-small_thumbnail\" src=\"https://www.colorado.edu/program/data-science/sites/default/files/styles/small_thumbnail/public/people/di_wu_0_0.jpeg?itok=t7cDyoVH\" width=\"100\" height=\"100\" alt=\"Di Wu\" /></a>    <div class=\"person-view-mode-teaser-content node-view-mode-teaser-content\">\n",
      "    <h2 class=\"node-title\"><a href=\"/program/data-science/di-wu\">Di Wu</a></h2>\n",
      "    <div class=\"person-job-titles\">Teaching Assistant Professor</div>\n",
      "    <div class=\"person-departments\">Computer Science</div>\n",
      "          <div class=\"people-bio\">\n",
      "        \n",
      "  <div class=\"field field-name-body field-type-text-with-summary field-label-hidden\">\n",
      "    Dr. Wu’s primary interests are in temporal databases, the semantic web, knowledge representation, and data science. Most of his research has been in extending the Resource Description Framework (RDF) for temporal dimensions. Before joining CU, he taught algorithms and data structures, programming languages, and database management courses. Dr. Wu’s career plan for the next five years is to develop and apply an inclusive, engaging, experiential, and inspiring pedagogy in data...  </div>\n",
      "      </div>\n",
      "                  <div class=\"person-view-mode-teaser-contact\"><span class=\"person-contact-info-item person-contact-info-email\"><i class=\"fa fa-envelope\"></i> \n",
      "  <a href=\"mailto:Di.Wu@colorado.edu\">Di.Wu@colorado.edu</a></span></div>\n",
      "    \n",
      "  </div>\n",
      "</div>\n",
      "<a name=\"dave+underwood\" id=\"dave+underwood\"></a>\n",
      "<div class=\"person-view-mode-teaser clearfix\">\n",
      "      \n",
      "  <a href=\"/program/data-science/dave-underwood\"><img class=\"image-small_thumbnail\" src=\"https://www.colorado.edu/program/data-science/sites/default/files/styles/small_thumbnail/public/people/dave_underwood_0.jpg?itok=0avf4JwZ\" width=\"100\" height=\"99\" alt=\"David Underwood\" /></a>    <div class=\"person-view-mode-teaser-content node-view-mode-teaser-content\">\n",
      "    <h2 class=\"node-title\"><a href=\"/program/data-science/dave-underwood\">Dave Underwood</a></h2>\n",
      "    <div class=\"person-job-titles\">Lecturer (Retired)</div>\n",
      "    <div class=\"person-departments\">Information Technology</div>\n",
      "          <div class=\"people-bio\">\n",
      "        \n",
      "  <div class=\"field field-name-body field-type-text-with-summary field-label-hidden\">\n",
      "    Professor Underwood has worked as a designer, lecturer, and consultant at the University of Colorado Boulder. He has helped design multimedia assignments and has coached students in the effective use of media tools. Most recently, he has assisted in departmental branding at the University.  </div>\n",
      "      </div>\n",
      "            \n",
      "  </div>\n",
      "</div>\n",
      "</div>  </div>\n",
      "</div>\n",
      "  </div>\n",
      "                </div>\n",
      "\n",
      "                                <!-- SIDEBARS -->\n",
      "                                <!-- /SIDEBARS -->\n",
      "\n",
      "              </div>\n",
      "            </div>\n",
      "          </div>\n",
      "\n",
      "        </div>\n",
      "\n",
      "      </div>\n",
      "      <!-- /MAIN CONTENT -->\n",
      "\n",
      "      <!-- FEATURE LAYOUT CONTENT -->\n",
      "            <!-- /FEATURE LAYOUT CONTENT -->\n",
      "    </div>\n",
      "    <!-- /PAGE CONTENT -->\n",
      "\n",
      "    <!-- POST WIDE -->\n",
      "        <!-- /POST WIDE -->\n",
      "\n",
      "    <!-- AFTER CONTENT -->\n",
      "        <!-- /AFTER CONTENT -->\n",
      "\n",
      "    <!-- AFTER CONTENT2 -->\n",
      "        <!-- /AFTER CONTENT2 -->\n",
      "\n",
      "    <!-- FOOTER SECTION -->\n",
      "    <div id=\"footer-section\" class=\"footer-section background-gray-dark\">\n",
      "      <!-- FOOTER -->\n",
      "            <!-- /FOOTER -->\n",
      "\n",
      "      <!-- FOOTER MENU -->\n",
      "            <!-- /FOOTER MENU -->\n",
      "\n",
      "      <!-- SITE INFO -->\n",
      "      <div id=\"site-info-wrapper\" class=\"section site-info-wrapper background-black\">\n",
      "        <div id=\"site-info\" class=\"site-info\">\n",
      "          <div class=\"container\">\n",
      "            \n",
      "  <footer id=\"site-footer\" class=\"row region region-site-info footer-2col\">\n",
      "          <div id=\"site-footer-content\" class=\"col-lg-8 col-md-8\">\n",
      "        <div id=\"block-cu-site-info-site-info\" class=\"block block-cu-site-info has-block-title block-cu-site-info-site-info\">\n",
      "  <div class=\"block-inner-wrapper block-inner clearfix\">\n",
      "              <h2 class=\"block-title\"><a href=\"/program/data-science/\">Master of Science in Data Science</a></h2>\n",
      "            <div class=\"content\">\n",
      "      <p>Offered through an interdisciplinary partnership, data science at CU Boulder is<br />\n",
      "\tdelivered by the Departments of Applied Mathematics, Computer Science,<br />\n",
      "\tand Information Science and awarded by the <a href=\"https://www.colorado.edu/graduateschool/\">Graduate School</a>.</p>\n",
      "<p><a href=\"mailto:datascience@colorado.edu\">datascience@colorado.edu</a></p>\n",
      "    </div>\n",
      "  </div>\n",
      "</div>\n",
      "      </div>\n",
      "            <div id=\"cu-footer\" class=\"col-lg-4 col-md-4\">\n",
      "        <p><a href=\"//www.colorado.edu\"><img src=\"https://www.colorado.edu/program/data-science/profiles/express/themes/ucb/images/beboulder/be-boulder-white.svg\" alt=\"University of Colorado Boulder\" class=\"beboulder\"/></a></p>\n",
      "                <p><strong><a href=\"http://www.colorado.edu\" class=\"cu-boulder-homepage-link\">University of Colorado Boulder</a></strong><br />&copy; Regents of the University of Colorado<br />\n",
      "        <span class=\"required-links\"><a href=\"http://www.colorado.edu/about/privacy-statement\">Privacy</a> &bull; <a href=\"http://www.colorado.edu/about/legal-trademarks\">Legal &amp; Trademarks</a> &bull; <a href=\"http://www.colorado.edu/map\">Campus Map</a></span></p>\n",
      "    </div>\n",
      "  </footer>\n",
      "          </div>\n",
      "        </div>\n",
      "      </div>\n",
      "      <!-- /SITE INFO -->\n",
      "    </div>\n",
      "\n",
      "  </div>\n",
      "</div>\n",
      "  <div id=\"cu_back_to_top\"><a href=\"#page\" title=\"Back to Top\">Return to the top of the page</a></div><script type=\"text/javascript\" src=\"https://www.colorado.edu/program/data-science/profiles/express/modules/custom/backstretch/bs.js?rfpala\"></script>\n",
      "<script type=\"text/javascript\" src=\"https://www.colorado.edu/program/data-science/profiles/express/modules/features/cu_search/js/cu-search.js?rfpala\"></script>\n",
      "<script type=\"text/javascript\" src=\"https://www.colorado.edu/program/data-science/profiles/express/themes/ucb/js/track-focus.js?rfpala\"></script>\n",
      "<script type=\"text/javascript\">\n",
      "<!--//--><![CDATA[//><!--\n",
      "jQuery(document).ready(function () { if (!Modernizr.svgasimg) {\n",
      "  jQuery(\"img#logo\").attr(\"src\", \"https://www.colorado.edu/program/data-science/profiles/express/themes/cumodern/logo.png\");} });\n",
      "//--><!]]>\n",
      "</script>\n",
      "<script type=\"text/javascript\" src=\"https://www.colorado.edu/program/data-science/profiles/express/modules/custom/cu_back_to_top/cu_back_to_top.js?rfpala\"></script>\n",
      "</body>\n",
      "</html>\n",
      "\n"
     ]
    }
   ],
   "source": [
    "import requests\n",
    "\n",
    "url = 'https://www.colorado.edu/program/data-science/faculty'\n",
    "headers = {'user-agent': 'my-app/0.0.1'}\n",
    "r = requests.get(url, headers=headers)\n",
    "content = r.text\n",
    "print(content)"
   ]
  },
  {
   "cell_type": "markdown",
   "metadata": {
    "cell_id": "179dea164b3d447db6573f5964c573ee",
    "deepnote_cell_height": 70,
    "deepnote_cell_type": "markdown",
    "id": "uN7fA6SXUomP"
   },
   "source": [
    "## Extract Data from the Page"
   ]
  },
  {
   "cell_type": "code",
   "execution_count": null,
   "metadata": {
    "cell_id": "41bab5b28bec47aab53a711cc72520a4",
    "collapsed": true,
    "deepnote_cell_type": "code",
    "deepnote_to_be_reexecuted": false,
    "execution_millis": 153,
    "execution_start": 1661570370076,
    "id": "ZZz_OjEXUomP",
    "jupyter": {
     "outputs_hidden": true
    },
    "outputId": "e1e90dfe-b540-4d3c-da0c-fc2d69dbbc4d",
    "source_hash": "dab9b653"
   },
   "outputs": [
    {
     "data": {
      "text/plain": [
       "<!DOCTYPE html>\n",
       "\n",
       "<!--[if IEMobile 7]><html class=\"iem7\"  lang=\"en\" dir=\"ltr\"><![endif]-->\n",
       "<!--[if lte IE 6]><html class=\"lt-ie9 lt-ie8 lt-ie7\"  lang=\"en\" dir=\"ltr\"><![endif]-->\n",
       "<!--[if (IE 7)&(!IEMobile)]><html class=\"lt-ie9 lt-ie8\"  lang=\"en\" dir=\"ltr\"><![endif]-->\n",
       "<!--[if IE 8]><html class=\"lt-ie9\"  lang=\"en\" dir=\"ltr\"><![endif]-->\n",
       "<!--[if (gte IE 9)|(gt IEMobile 7)]><!--><html dir=\"ltr\" lang=\"en\" xmlns:og=\"http://ogp.me/ns#\"><!--<![endif]-->\n",
       "<head>\n",
       "<meta content=\"text/html; charset=utf-8\" http-equiv=\"Content-Type\"/>\n",
       "<link href=\"https://www.colorado.edu/program/data-science/profiles/express/themes/cumodern/favicon.ico\" rel=\"shortcut icon\" type=\"image/vnd.microsoft.icon\"/>\n",
       "<link href=\"https://www.colorado.edu/program/data-science/feed/rss.xml\" rel=\"alternate\"/>\n",
       "<meta content=\"IE=edge\" http-equiv=\"X-UA-Compatible\"/>\n",
       "<link href=\"https://www.colorado.edu/program/data-science/profiles/express/themes/ucb/apple-icon-57x57.png\" rel=\"apple-touch-icon\" sizes=\"57x57\"/>\n",
       "<link href=\"https://www.colorado.edu/program/data-science/profiles/express/themes/ucb/apple-icon-72x72.png\" rel=\"apple-touch-icon\" sizes=\"72x72\"/>\n",
       "<link href=\"https://www.colorado.edu/program/data-science/profiles/express/themes/ucb/apple-icon-114x114.png\" rel=\"apple-touch-icon\" sizes=\"114x114\"/>\n",
       "<link href=\"https://www.colorado.edu/program/data-science/profiles/express/themes/ucb/apple-icon-144x144.png\" rel=\"apple-touch-icon\" sizes=\"144x144\"/>\n",
       "<link href=\"//fonts.googleapis.com\" rel=\"preconnect\"/>\n",
       "<meta content=\"The MS-DS is a truly interdisciplinary program, with faculty in Computer Science, Applied Mathematics, Information Science, and more. Data science faculty members are housed in Applied Mathematics, Computer Science, Information Science, and other departments across campus.    \" name=\"description\"/>\n",
       "<link crossorigin=\"\" href=\"//fonts.gstatic.com\" rel=\"preconnect\"/>\n",
       "<link href=\"//fonts.googleapis.com/css2?family=Roboto+Condensed:wght@700&amp;family=Roboto:wght@400;700&amp;display=swap\" rel=\"stylesheet\" type=\"text/css\"/>\n",
       "<meta content=\"Drupal 7 (https://www.drupal.org)\" name=\"generator\"/>\n",
       "<link href=\"https://www.colorado.edu/program/data-science/faculty\" rel=\"canonical\"/>\n",
       "<link href=\"https://www.colorado.edu/program/data-science/node/169\" rel=\"shortlink\"/>\n",
       "<meta content=\"Master of Science in Data Science\" property=\"og:site_name\"/>\n",
       "<meta content=\"article\" property=\"og:type\"/>\n",
       "<meta content=\"https://www.colorado.edu/program/data-science/faculty\" property=\"og:url\"/>\n",
       "<meta content=\"Our People\" property=\"og:title\"/>\n",
       "<meta content=\"The MS-DS is a truly interdisciplinary program, with faculty in Computer Science, Applied Mathematics, Information Science, and more. Data science faculty members are housed in Applied Mathematics, Computer Science, Information Science, and other departments across campus.    \" property=\"og:description\"/>\n",
       "<meta content=\"2022-07-15T11:16:44-06:00\" property=\"og:updated_time\"/>\n",
       "<meta content=\"summary\" name=\"twitter:card\"/>\n",
       "<meta content=\"https://www.colorado.edu/program/data-science/faculty\" name=\"twitter:url\"/>\n",
       "<meta content=\"Our People\" name=\"twitter:title\"/>\n",
       "<meta content=\"The MS-DS is a truly interdisciplinary program, with faculty in Computer Science, Applied Mathematics, Information Science, and more. Data science faculty members are housed in Applied Mathematics,\" name=\"twitter:description\"/>\n",
       "<meta content=\"2021-03-11T10:22:39-07:00\" property=\"article:published_time\"/>\n",
       "<meta content=\"2022-07-15T11:16:44-06:00\" property=\"article:modified_time\"/>\n",
       "<title>Our People | Master of Science in Data Science | University of Colorado Boulder</title>\n",
       "<meta content=\"width\" name=\"MobileOptimized\"/>\n",
       "<meta content=\"true\" name=\"HandheldFriendly\"/>\n",
       "<meta content=\"width=device-width\" name=\"viewport\"/>\n",
       "<meta content=\"on\" http-equiv=\"cleartype\"/>\n",
       "<style media=\"screen\" type=\"text/css\">\n",
       "@import url(\"https://www.colorado.edu/program/data-science/modules/system/system.base.css?rfpala\");\n",
       "@import url(\"https://www.colorado.edu/program/data-science/modules/system/system.menus.css?rfpala\");\n",
       "@import url(\"https://www.colorado.edu/program/data-science/modules/system/system.messages.css?rfpala\");\n",
       "@import url(\"https://www.colorado.edu/program/data-science/modules/system/system.theme.css?rfpala\");\n",
       "</style>\n",
       "<style media=\"screen\" type=\"text/css\">\n",
       "@import url(\"https://www.colorado.edu/program/data-science/profiles/express/modules/contrib/jquery_update/replace/ui/themes/base/minified/jquery.ui.core.min.css?rfpala\");\n",
       "@import url(\"https://www.colorado.edu/program/data-science/profiles/express/modules/contrib/jquery_update/replace/ui/themes/base/minified/jquery.ui.accordion.min.css?rfpala\");\n",
       "</style>\n",
       "<style media=\"screen\" type=\"text/css\">\n",
       "@import url(\"https://www.colorado.edu/program/data-science/profiles/express/modules/features/cu_article/modules/cu_article_slider/css/cu-article-slider.css?rfpala\");\n",
       "@import url(\"https://www.colorado.edu/program/data-science/profiles/express/modules/custom/cu_campus_news_bundle/cu_campus_news/css/cu-campus-news.css?rfpala\");\n",
       "@import url(\"https://www.colorado.edu/program/data-science/profiles/express/modules/custom/cu_dashboard_seo/css/cu-dashboard-seo.css?rfpala\");\n",
       "@import url(\"https://www.colorado.edu/program/data-science/profiles/express/modules/custom/cu_expandable/css/cu-expandable.css?rfpala\");\n",
       "@import url(\"https://www.colorado.edu/program/data-science/profiles/express/modules/custom/cu_inactive_users/css/cu-inactive-users.css?rfpala\");\n",
       "@import url(\"https://www.colorado.edu/program/data-science/profiles/express/modules/custom/cu_js_includes/css/cu-js-includes.css?rfpala\");\n",
       "@import url(\"https://www.colorado.edu/program/data-science/profiles/express/modules/custom/cu_profile_module_manager/css/cu-profile-module-manager.css?rfpala\");\n",
       "@import url(\"https://www.colorado.edu/program/data-science/profiles/express/modules/features/cu_article/cu_related_articles/css/cu-related-articles.css?rfpala\");\n",
       "@import url(\"https://www.colorado.edu/program/data-science/profiles/express/modules/custom/cu_rss/css/cu-rss.css?rfpala\");\n",
       "@import url(\"https://www.colorado.edu/program/data-science/profiles/express/modules/custom/cu_share/css/cu-share.css?rfpala\");\n",
       "@import url(\"https://www.colorado.edu/program/data-science/profiles/express/modules/features/cu_wysiwyg/cu-wysiwyg.css?rfpala\");\n",
       "@import url(\"https://www.colorado.edu/program/data-science/profiles/express/modules/contrib/date/date_api/date.css?rfpala\");\n",
       "@import url(\"https://www.colorado.edu/program/data-science/profiles/express/modules/contrib/date/date_popup/themes/datepicker.1.7.css?rfpala\");\n",
       "@import url(\"https://www.colorado.edu/program/data-science/profiles/express/modules/custom/express_add_content/css/express-add-content.css?rfpala\");\n",
       "@import url(\"https://www.colorado.edu/program/data-science/profiles/express/modules/custom/express_block_designer/css/express-block-designer.css?rfpala\");\n",
       "@import url(\"https://www.colorado.edu/program/data-science/profiles/express/modules/custom/express_block_designer/modules/express_block_designer_menu/css/exbd-menu.css?rfpala\");\n",
       "@import url(\"https://www.colorado.edu/program/data-science/profiles/express/modules/custom/express_collections_bundle/css/express-collections-bundle.css?rfpala\");\n",
       "@import url(\"https://www.colorado.edu/program/data-science/profiles/express/modules/custom/express_layout/css/express-layout-admin.css?rfpala\");\n",
       "@import url(\"https://www.colorado.edu/program/data-science/profiles/express/modules/custom/express_localist_bundle/css/express-localist-bundle.css?rfpala\");\n",
       "@import url(\"https://www.colorado.edu/program/data-science/profiles/express/modules/custom/express_localist_bundle/css/express-localist-bundle-theme.css?rfpala\");\n",
       "@import url(\"https://www.colorado.edu/program/data-science/profiles/express/modules/contrib/fences/field.css?rfpala\");\n",
       "@import url(\"https://www.colorado.edu/program/data-science/profiles/express/modules/contrib/fitvids/fitvids.css?rfpala\");\n",
       "@import url(\"https://www.colorado.edu/program/data-science/profiles/express/modules/contrib/google_cse/google_cse.css?rfpala\");\n",
       "@import url(\"https://www.colorado.edu/program/data-science/modules/node/node.css?rfpala\");\n",
       "@import url(\"https://www.colorado.edu/program/data-science/profiles/express/modules/contrib/rave_alerts/css/rave_alerts.css?rfpala\");\n",
       "@import url(\"https://www.colorado.edu/program/data-science/profiles/express/modules/custom/site_navigation_menus/css/site-navigation-menus.css?rfpala\");\n",
       "@import url(\"https://www.colorado.edu/program/data-science/modules/user/user.css?rfpala\");\n",
       "@import url(\"https://www.colorado.edu/program/data-science/profiles/express/modules/contrib/video_filter/video_filter.css?rfpala\");\n",
       "@import url(\"https://www.colorado.edu/program/data-science/profiles/express/modules/contrib/views/css/views.css?rfpala\");\n",
       "@import url(\"https://www.colorado.edu/program/data-science/profiles/express/modules/custom/cu_users/css/cu-users.css?rfpala\");\n",
       "</style>\n",
       "<style media=\"screen\" type=\"text/css\">\n",
       "@import url(\"https://www.colorado.edu/program/data-science/profiles/express/modules/contrib/colorbox/styles/stockholmsyndrome/colorbox_style.css?rfpala\");\n",
       "@import url(\"https://www.colorado.edu/program/data-science/profiles/express/modules/contrib/context_accordion/context_accordion.css?rfpala\");\n",
       "@import url(\"https://www.colorado.edu/program/data-science/profiles/express/modules/contrib/ctools/css/ctools.css?rfpala\");\n",
       "@import url(\"https://www.colorado.edu/program/data-science/profiles/express/libraries/flickity/css/flickity.css?rfpala\");\n",
       "@import url(\"https://www.colorado.edu/program/data-science/profiles/express/libraries/fontawesome/css/font-awesome.min.css?rfpala\");\n",
       "@import url(\"https://www.colorado.edu/program/data-science/profiles/express/modules/contrib/files_undo_remove/files_undo_remove.css?rfpala\");\n",
       "@import url(\"https://www.colorado.edu/program/data-science/profiles/express/modules/custom/backstretch/backstretch.css?rfpala\");\n",
       "@import url(\"https://www.colorado.edu/program/data-science/profiles/express/modules/custom/cu_block_row/css/cu-block-row.css?rfpala\");\n",
       "@import url(\"https://www.colorado.edu/program/data-science/profiles/express/modules/features/cu_block_section/css/cu-block-section.css?rfpala\");\n",
       "@import url(\"https://www.colorado.edu/program/data-science/profiles/express/modules/features/cu_facebook_activity/cu_facebook_activity.css?rfpala\");\n",
       "@import url(\"https://www.colorado.edu/program/data-science/profiles/express/modules/features/cu_feature_callout/css/cu_feature_callout.css?rfpala\");\n",
       "@import url(\"https://www.colorado.edu/program/data-science/profiles/express/modules/features/cu_feature_callout/css/feature-callout-block-designer.css?rfpala\");\n",
       "@import url(\"https://www.colorado.edu/program/data-science/profiles/express/modules/custom/cu_give_buttons/styles/give-button.css?rfpala\");\n",
       "@import url(\"https://www.colorado.edu/program/data-science/profiles/express/modules/features/cu_hero_unit/css/cu_hero_unit.css?rfpala\");\n",
       "@import url(\"https://www.colorado.edu/program/data-science/profiles/express/modules/custom/cu_menu_icon/cu_menu_icon.css?rfpala\");\n",
       "@import url(\"https://www.colorado.edu/program/data-science/profiles/express/modules/custom/cu_rss_block/css/cu-rss-block.css?rfpala\");\n",
       "@import url(\"https://www.colorado.edu/program/data-science/profiles/express/modules/features/cu_search/css/cu-search.css?rfpala\");\n",
       "@import url(\"https://www.colorado.edu/program/data-science/profiles/express/modules/custom/cu_shortcodes/css/cu_shortcodes.css?rfpala\");\n",
       "@import url(\"https://www.colorado.edu/program/data-science/profiles/express/modules/custom/cu_shortcodes/css/cu-shortcodes-columns.css?rfpala\");\n",
       "@import url(\"https://www.colorado.edu/program/data-science/profiles/express/modules/custom/cu_site_info/site_info.css?rfpala\");\n",
       "@import url(\"https://www.colorado.edu/program/data-science/profiles/express/modules/features/cu_social_links/css/social_links.css?rfpala\");\n",
       "@import url(\"https://www.colorado.edu/program/data-science/profiles/express/modules/features/cu_twitter_feed/cu_twitter_feed.css?rfpala\");\n",
       "@import url(\"https://www.colorado.edu/program/data-science/profiles/express/modules/custom/cu_video_hero_unit_bundle/css/cu_video_hero_unit.css?rfpala\");\n",
       "@import url(\"https://www.colorado.edu/program/data-science/profiles/express/modules/custom/cu_video_reveal/css/cu-video-reveal.css?rfpala\");\n",
       "@import url(\"https://www.colorado.edu/program/data-science/profiles/express/modules/custom/express_layout/css/express-layout.css?rfpala\");\n",
       "@import url(\"https://www.colorado.edu/program/data-science/profiles/express/modules/custom/express_settings/css/express-settings.css?rfpala\");\n",
       "@import url(\"https://www.colorado.edu/program/data-science/profiles/express/modules/features/files/css/files.css?rfpala\");\n",
       "@import url(\"https://www.colorado.edu/program/data-science/profiles/express/modules/custom/profile_module_manager/css/profile-module-manager.css?rfpala\");\n",
       "@import url(\"https://www.colorado.edu/program/data-science/profiles/express/modules/features/cu_article/css/cu-article.css?rfpala\");\n",
       "@import url(\"https://www.colorado.edu/program/data-science/profiles/express/modules/features/cu_article/css/cu-article-grid.css?rfpala\");\n",
       "@import url(\"https://www.colorado.edu/program/data-science/profiles/express/modules/features/cu_article/css/owl.carousel.css?rfpala\");\n",
       "</style>\n",
       "<style media=\"screen\" type=\"text/css\">\n",
       "@import url(\"https://www.colorado.edu/program/data-science/profiles/express/modules/features/cu_faq/css/cu_faq.css?rfpala\");\n",
       "@import url(\"https://www.colorado.edu/program/data-science/profiles/express/modules/features/cu_page/cu-page.css?rfpala\");\n",
       "@import url(\"https://www.colorado.edu/program/data-science/profiles/express/modules/custom/express_theme_picker/express_theme_picker.css?rfpala\");\n",
       "@import url(\"https://www.colorado.edu/program/data-science/profiles/express/modules/features/people_content_type/css/people_content_type.css?rfpala\");\n",
       "@import url(\"https://www.colorado.edu/program/data-science/profiles/express/modules/features/photo_gallery/css/photo-gallery.css?rfpala\");\n",
       "@import url(\"https://www.colorado.edu/program/data-science/profiles/express/modules/custom/cu_back_to_top/cu_back_to_top.css?rfpala\");\n",
       "@import url(\"https://www.colorado.edu/program/data-science/sites/default/files/honeypot/honeypot.css?rfpala\");\n",
       "</style>\n",
       "<style media=\"screen\" type=\"text/css\">\n",
       "@import url(\"https://www.colorado.edu/program/data-science/profiles/express/themes/ucb/css/ucb.css?rfpala\");\n",
       "@import url(\"https://www.colorado.edu/program/data-science/profiles/express/themes/cumodern/css/modern-styles.css?rfpala\");\n",
       "</style>\n",
       "<style media=\"print\" type=\"text/css\">\n",
       "@import url(\"https://www.colorado.edu/program/data-science/profiles/express/themes/ucb/css/ucb-print.css?rfpala\");\n",
       "</style>\n",
       "<script defer=\"defer\" src=\"https://www.colorado.edu/program/data-science/sites/default/files/google_tag/google_tag.script.js?rfpala\" type=\"text/javascript\"></script>\n",
       "<script src=\"https://www.colorado.edu/program/data-science/profiles/express/libraries/modernizr/modernizr.min.js?rfpala\" type=\"text/javascript\"></script>\n",
       "<script src=\"https://www.colorado.edu/program/data-science/profiles/express/modules/contrib/jquery_update/replace/jquery/1.9/jquery.min.js?v=1.9.1\" type=\"text/javascript\"></script>\n",
       "<script type=\"text/javascript\">\n",
       "<!--//--><![CDATA[//><!--\n",
       "jQuery.migrateMute=true;jQuery.migrateTrace=false;\n",
       "//--><!]]>\n",
       "</script>\n",
       "<script src=\"https://www.colorado.edu/program/data-science/profiles/express/modules/contrib/jquery_update/replace/jquery-migrate/1/jquery-migrate.min.js?v=1\" type=\"text/javascript\"></script>\n",
       "<script src=\"https://www.colorado.edu/program/data-science/misc/jquery-extend-3.4.0.js?v=1.9.1\" type=\"text/javascript\"></script>\n",
       "<script src=\"https://www.colorado.edu/program/data-science/misc/jquery-html-prefilter-3.5.0-backport.js?v=1.9.1\" type=\"text/javascript\"></script>\n",
       "<script src=\"https://www.colorado.edu/program/data-science/misc/jquery.once.js?v=1.2\" type=\"text/javascript\"></script>\n",
       "<script src=\"https://www.colorado.edu/program/data-science/misc/drupal.js?rfpala\" type=\"text/javascript\"></script>\n",
       "<script src=\"https://www.colorado.edu/program/data-science/profiles/express/libraries/fitvids/jquery.fitvids.js?rfpala\" type=\"text/javascript\"></script>\n",
       "<script src=\"https://www.colorado.edu/program/data-science/profiles/express/libraries/match-height/jquery.matchHeight-min.js?rfpala\" type=\"text/javascript\"></script>\n",
       "<script src=\"https://www.colorado.edu/program/data-science/profiles/express/libraries/waypoints/waypoint.js?rfpala\" type=\"text/javascript\"></script>\n",
       "<script src=\"https://www.colorado.edu/program/data-science/profiles/express/modules/contrib/jquery_update/replace/ui/ui/minified/jquery.ui.core.min.js?v=1.10.2\" type=\"text/javascript\"></script>\n",
       "<script src=\"https://www.colorado.edu/program/data-science/profiles/express/modules/contrib/jquery_update/replace/ui/ui/minified/jquery.ui.widget.min.js?v=1.10.2\" type=\"text/javascript\"></script>\n",
       "<script src=\"https://www.colorado.edu/program/data-science/profiles/express/modules/contrib/jquery_update/replace/ui/ui/minified/jquery.ui.accordion.min.js?v=1.10.2\" type=\"text/javascript\"></script>\n",
       "<script src=\"https://www.colorado.edu/program/data-science/profiles/express/modules/features/cu_colorbox/js/cu-colorbox.js?rfpala\" type=\"text/javascript\"></script>\n",
       "<script src=\"https://www.colorado.edu/program/data-science/profiles/express/modules/custom/cu_expandable/js/expandable.plugin.js?rfpala\" type=\"text/javascript\"></script>\n",
       "<script src=\"https://www.colorado.edu/program/data-science/profiles/express/modules/custom/cu_expandable/js/cu-expandable.js?rfpala\" type=\"text/javascript\"></script>\n",
       "<script src=\"https://www.colorado.edu/program/data-science/profiles/express/modules/custom/cu_share/js/cu_share.js?rfpala\" type=\"text/javascript\"></script>\n",
       "<script src=\"https://www.colorado.edu/program/data-science/profiles/express/modules/custom/cu_video_hero_unit_bundle/js/cu-video-hero.js?rfpala\" type=\"text/javascript\"></script>\n",
       "<script src=\"https://www.colorado.edu/program/data-science/profiles/express/modules/custom/express_collections_bundle/js/express-collections-bundle.js?rfpala\" type=\"text/javascript\"></script>\n",
       "<script src=\"https://www.colorado.edu/program/data-science/profiles/express/modules/custom/express_layout/js/express-layout.js?rfpala\" type=\"text/javascript\"></script>\n",
       "<script src=\"https://www.colorado.edu/program/data-science/profiles/express/modules/contrib/fitvids/fitvids.js?rfpala\" type=\"text/javascript\"></script>\n",
       "<script src=\"https://www.colorado.edu/program/data-science/profiles/express/modules/contrib/google_cse/google_cse.js?rfpala\" type=\"text/javascript\"></script>\n",
       "<script src=\"https://www.colorado.edu/program/data-science/profiles/express/modules/custom/site_navigation_menus/js/site-navigation-menus.js?rfpala\" type=\"text/javascript\"></script>\n",
       "<script src=\"https://www.colorado.edu/program/data-science/profiles/express/libraries/colorbox/jquery.colorbox-min.js?rfpala\" type=\"text/javascript\"></script>\n",
       "<script src=\"https://www.colorado.edu/program/data-science/profiles/express/modules/contrib/colorbox/js/colorbox.js?rfpala\" type=\"text/javascript\"></script>\n",
       "<script src=\"https://www.colorado.edu/program/data-science/profiles/express/modules/contrib/colorbox/styles/stockholmsyndrome/colorbox_style.js?rfpala\" type=\"text/javascript\"></script>\n",
       "<script src=\"https://www.colorado.edu/program/data-science/profiles/express/modules/contrib/context_accordion/context_accordion.js?rfpala\" type=\"text/javascript\"></script>\n",
       "<script src=\"https://www.colorado.edu/program/data-science/profiles/express/libraries/flickity/js/flickity.pkgd.min.js?rfpala\" type=\"text/javascript\"></script>\n",
       "<script src=\"https://www.colorado.edu/program/data-science/profiles/express/modules/features/cu_article/modules/cu_article_slider/js/cu-article-slider.js?rfpala\" type=\"text/javascript\"></script>\n",
       "<script src=\"https://www.colorado.edu/program/data-science/profiles/express/modules/contrib/files_undo_remove/files_undo_remove.js?rfpala\" type=\"text/javascript\"></script>\n",
       "<script src=\"https://www.colorado.edu/program/data-science/profiles/express/libraries/backstretch/jquery.backstretch.js?rfpala\" type=\"text/javascript\"></script>\n",
       "<script src=\"https://www.colorado.edu/program/data-science/profiles/express/modules/contrib/rave_alerts/js/rave_alerts.js?rfpala\" type=\"text/javascript\"></script>\n",
       "<script src=\"https://www.colorado.edu/program/data-science/profiles/express/modules/features/cu_block_section/js/cu-block-section.js?rfpala\" type=\"text/javascript\"></script>\n",
       "<script src=\"https://www.colorado.edu/program/data-science/profiles/express/modules/features/cu_block_section/js/parallaxie.js?rfpala\" type=\"text/javascript\"></script>\n",
       "<script src=\"https://www.colorado.edu/program/data-science/profiles/express/modules/custom/cu_shortcodes/js/cu_shortcodes.js?rfpala\" type=\"text/javascript\"></script>\n",
       "<script src=\"https://www.colorado.edu/program/data-science/profiles/express/modules/custom/cu_shortcodes/js/counter.js?rfpala\" type=\"text/javascript\"></script>\n",
       "<script src=\"//www.youtube.com/iframe_api\" type=\"text/javascript\"></script>\n",
       "<script src=\"https://www.colorado.edu/program/data-science/profiles/express/modules/contrib/google_analytics/googleanalytics.js?rfpala\" type=\"text/javascript\"></script>\n",
       "<script type=\"text/javascript\">\n",
       "<!--//--><![CDATA[//><!--\n",
       "(function(i,s,o,g,r,a,m){i[\"GoogleAnalyticsObject\"]=r;i[r]=i[r]||function(){(i[r].q=i[r].q||[]).push(arguments)},i[r].l=1*new Date();a=s.createElement(o),m=s.getElementsByTagName(o)[0];a.async=1;a.src=g;m.parentNode.insertBefore(a,m)})(window,document,\"script\",\"https://www.google-analytics.com/analytics.js\",\"ga\");ga(\"create\", \"UA-105731679-1\", {\"cookieDomain\":\"auto\"});ga(\"create\", \"UA-142322394-2\", \"auto\", {\"name\":\"customTracker0\"});ga(\"set\", \"anonymizeIp\", true);ga(\"set\", \"dimension1\", \"169\");ga(\"set\", \"dimension2\", \"Our People\");ga(\"set\", \"dimension3\", \"People List Page\");ga(\"set\", \"dimension4\", \"Thu, 03\\/11\\/2021 - 10:22\");ga(\"customTracker0.set\", \"anonymizeIp\", true);ga(\"customTracker0.set\", \"dimension1\", \"169\");ga(\"customTracker0.set\", \"dimension2\", \"Our People\");ga(\"customTracker0.set\", \"dimension3\", \"People List Page\");ga(\"customTracker0.set\", \"dimension4\", \"Thu, 03\\/11\\/2021 - 10:22\");ga(\"send\", \"pageview\");ga(\"customTracker0.send\", \"pageview\");\n",
       "//--><!]]>\n",
       "</script>\n",
       "<script src=\"https://www.colorado.edu/program/data-science/profiles/express/themes/ucb/js/ucb.js?rfpala\" type=\"text/javascript\"></script>\n",
       "<script type=\"text/javascript\">\n",
       "<!--//--><![CDATA[//><!--\n",
       "jQuery.extend(Drupal.settings, {\"basePath\":\"\\/program\\/data-science\\/\",\"pathPrefix\":\"\",\"setHasJsCookie\":0,\"ajaxPageState\":{\"theme\":\"cumodern\",\"theme_token\":\"HLAMtQtzE_pgjpqISKZ68kucFyVv2F6_D6j9I4TyOTU\",\"js\":{\"profiles\\/express\\/modules\\/custom\\/backstretch\\/bs.js\":1,\"profiles\\/express\\/modules\\/features\\/cu_search\\/js\\/cu-search.js\":1,\"profiles\\/express\\/themes\\/ucb\\/js\\/track-focus.js\":1,\"0\":1,\"profiles\\/express\\/modules\\/custom\\/cu_back_to_top\\/cu_back_to_top.js\":1,\"public:\\/\\/google_tag\\/google_tag.script.js\":1,\"profiles\\/express\\/libraries\\/modernizr\\/modernizr.min.js\":1,\"profiles\\/express\\/modules\\/contrib\\/jquery_update\\/replace\\/jquery\\/1.9\\/jquery.min.js\":1,\"1\":1,\"profiles\\/express\\/modules\\/contrib\\/jquery_update\\/replace\\/jquery-migrate\\/1\\/jquery-migrate.min.js\":1,\"misc\\/jquery-extend-3.4.0.js\":1,\"misc\\/jquery-html-prefilter-3.5.0-backport.js\":1,\"misc\\/jquery.once.js\":1,\"misc\\/drupal.js\":1,\"profiles\\/express\\/libraries\\/fitvids\\/jquery.fitvids.js\":1,\"profiles\\/express\\/libraries\\/match-height\\/jquery.matchHeight-min.js\":1,\"profiles\\/express\\/libraries\\/waypoints\\/waypoint.js\":1,\"profiles\\/express\\/modules\\/contrib\\/jquery_update\\/replace\\/ui\\/ui\\/minified\\/jquery.ui.core.min.js\":1,\"profiles\\/express\\/modules\\/contrib\\/jquery_update\\/replace\\/ui\\/ui\\/minified\\/jquery.ui.widget.min.js\":1,\"profiles\\/express\\/modules\\/contrib\\/jquery_update\\/replace\\/ui\\/ui\\/minified\\/jquery.ui.accordion.min.js\":1,\"profiles\\/express\\/modules\\/features\\/cu_colorbox\\/js\\/cu-colorbox.js\":1,\"profiles\\/express\\/modules\\/custom\\/cu_expandable\\/js\\/expandable.plugin.js\":1,\"profiles\\/express\\/modules\\/custom\\/cu_expandable\\/js\\/cu-expandable.js\":1,\"profiles\\/express\\/modules\\/custom\\/cu_share\\/js\\/cu_share.js\":1,\"profiles\\/express\\/modules\\/custom\\/cu_video_hero_unit_bundle\\/js\\/cu-video-hero.js\":1,\"profiles\\/express\\/modules\\/custom\\/express_collections_bundle\\/js\\/express-collections-bundle.js\":1,\"profiles\\/express\\/modules\\/custom\\/express_layout\\/js\\/express-layout.js\":1,\"profiles\\/express\\/modules\\/contrib\\/fitvids\\/fitvids.js\":1,\"profiles\\/express\\/modules\\/contrib\\/google_cse\\/google_cse.js\":1,\"profiles\\/express\\/modules\\/custom\\/site_navigation_menus\\/js\\/site-navigation-menus.js\":1,\"profiles\\/express\\/libraries\\/colorbox\\/jquery.colorbox-min.js\":1,\"profiles\\/express\\/modules\\/contrib\\/colorbox\\/js\\/colorbox.js\":1,\"profiles\\/express\\/modules\\/contrib\\/colorbox\\/styles\\/stockholmsyndrome\\/colorbox_style.js\":1,\"profiles\\/express\\/modules\\/contrib\\/context_accordion\\/context_accordion.js\":1,\"profiles\\/express\\/libraries\\/flickity\\/js\\/flickity.pkgd.min.js\":1,\"profiles\\/express\\/modules\\/features\\/cu_article\\/modules\\/cu_article_slider\\/js\\/cu-article-slider.js\":1,\"profiles\\/express\\/modules\\/contrib\\/files_undo_remove\\/files_undo_remove.js\":1,\"profiles\\/express\\/libraries\\/backstretch\\/jquery.backstretch.js\":1,\"profiles\\/express\\/modules\\/contrib\\/rave_alerts\\/js\\/rave_alerts.js\":1,\"profiles\\/express\\/modules\\/features\\/cu_block_section\\/js\\/cu-block-section.js\":1,\"profiles\\/express\\/modules\\/features\\/cu_block_section\\/js\\/parallaxie.js\":1,\"profiles\\/express\\/modules\\/custom\\/cu_shortcodes\\/js\\/cu_shortcodes.js\":1,\"profiles\\/express\\/modules\\/custom\\/cu_shortcodes\\/js\\/counter.js\":1,\"\\/\\/www.youtube.com\\/iframe_api\":1,\"profiles\\/express\\/modules\\/contrib\\/google_analytics\\/googleanalytics.js\":1,\"2\":1,\"profiles\\/express\\/themes\\/ucb\\/js\\/ucb.js\":1},\"css\":{\"modules\\/system\\/system.base.css\":1,\"modules\\/system\\/system.menus.css\":1,\"modules\\/system\\/system.messages.css\":1,\"modules\\/system\\/system.theme.css\":1,\"misc\\/ui\\/jquery.ui.core.css\":1,\"misc\\/ui\\/jquery.ui.accordion.css\":1,\"profiles\\/express\\/modules\\/features\\/cu_article\\/modules\\/cu_article_slider\\/css\\/cu-article-slider.css\":1,\"profiles\\/express\\/modules\\/custom\\/cu_campus_news_bundle\\/cu_campus_news\\/css\\/cu-campus-news.css\":1,\"profiles\\/express\\/modules\\/custom\\/cu_dashboard_seo\\/css\\/cu-dashboard-seo.css\":1,\"profiles\\/express\\/modules\\/custom\\/cu_expandable\\/css\\/cu-expandable.css\":1,\"profiles\\/express\\/modules\\/custom\\/cu_inactive_users\\/css\\/cu-inactive-users.css\":1,\"profiles\\/express\\/modules\\/custom\\/cu_js_includes\\/css\\/cu-js-includes.css\":1,\"profiles\\/express\\/modules\\/custom\\/cu_profile_module_manager\\/css\\/cu-profile-module-manager.css\":1,\"profiles\\/express\\/modules\\/features\\/cu_article\\/cu_related_articles\\/css\\/cu-related-articles.css\":1,\"profiles\\/express\\/modules\\/custom\\/cu_rss\\/css\\/cu-rss.css\":1,\"profiles\\/express\\/modules\\/custom\\/cu_share\\/css\\/cu-share.css\":1,\"profiles\\/express\\/modules\\/features\\/cu_wysiwyg\\/cu-wysiwyg.css\":1,\"profiles\\/express\\/modules\\/contrib\\/date\\/date_api\\/date.css\":1,\"profiles\\/express\\/modules\\/contrib\\/date\\/date_popup\\/themes\\/datepicker.1.7.css\":1,\"profiles\\/express\\/modules\\/custom\\/express_add_content\\/css\\/express-add-content.css\":1,\"profiles\\/express\\/modules\\/custom\\/express_block_designer\\/css\\/express-block-designer.css\":1,\"profiles\\/express\\/modules\\/custom\\/express_block_designer\\/modules\\/express_block_designer_menu\\/css\\/exbd-menu.css\":1,\"profiles\\/express\\/modules\\/custom\\/express_collections_bundle\\/css\\/express-collections-bundle.css\":1,\"profiles\\/express\\/modules\\/custom\\/express_layout\\/css\\/express-layout-admin.css\":1,\"profiles\\/express\\/modules\\/custom\\/express_localist_bundle\\/css\\/express-localist-bundle.css\":1,\"profiles\\/express\\/modules\\/custom\\/express_localist_bundle\\/css\\/express-localist-bundle-theme.css\":1,\"modules\\/field\\/theme\\/field.css\":1,\"profiles\\/express\\/modules\\/contrib\\/fitvids\\/fitvids.css\":1,\"profiles\\/express\\/modules\\/contrib\\/google_cse\\/google_cse.css\":1,\"modules\\/node\\/node.css\":1,\"profiles\\/express\\/modules\\/contrib\\/rave_alerts\\/css\\/rave_alerts.css\":1,\"profiles\\/express\\/modules\\/custom\\/site_navigation_menus\\/css\\/site-navigation-menus.css\":1,\"modules\\/user\\/user.css\":1,\"profiles\\/express\\/modules\\/contrib\\/video_filter\\/video_filter.css\":1,\"profiles\\/express\\/modules\\/contrib\\/views\\/css\\/views.css\":1,\"profiles\\/express\\/modules\\/custom\\/cu_users\\/css\\/cu-users.css\":1,\"profiles\\/express\\/modules\\/contrib\\/colorbox\\/styles\\/stockholmsyndrome\\/colorbox_style.css\":1,\"profiles\\/express\\/modules\\/contrib\\/context_accordion\\/context_accordion.css\":1,\"profiles\\/express\\/modules\\/contrib\\/ctools\\/css\\/ctools.css\":1,\"profiles\\/express\\/libraries\\/flickity\\/css\\/flickity.css\":1,\"profiles\\/express\\/libraries\\/fontawesome\\/css\\/font-awesome.min.css\":1,\"profiles\\/express\\/modules\\/contrib\\/files_undo_remove\\/files_undo_remove.css\":1,\"profiles\\/express\\/modules\\/custom\\/backstretch\\/backstretch.css\":1,\"profiles\\/express\\/modules\\/custom\\/cu_block_row\\/css\\/cu-block-row.css\":1,\"profiles\\/express\\/modules\\/features\\/cu_block_section\\/css\\/cu-block-section.css\":1,\"profiles\\/express\\/modules\\/features\\/cu_facebook_activity\\/cu_facebook_activity.css\":1,\"profiles\\/express\\/modules\\/features\\/cu_feature_callout\\/css\\/cu_feature_callout.css\":1,\"profiles\\/express\\/modules\\/features\\/cu_feature_callout\\/css\\/feature-callout-block-designer.css\":1,\"profiles\\/express\\/modules\\/custom\\/cu_give_buttons\\/styles\\/give-button.css\":1,\"profiles\\/express\\/modules\\/features\\/cu_hero_unit\\/css\\/cu_hero_unit.css\":1,\"profiles\\/express\\/modules\\/custom\\/cu_menu_icon\\/cu_menu_icon.css\":1,\"profiles\\/express\\/modules\\/custom\\/cu_rss_block\\/css\\/cu-rss-block.css\":1,\"profiles\\/express\\/modules\\/features\\/cu_search\\/css\\/cu-search.css\":1,\"profiles\\/express\\/modules\\/custom\\/cu_shortcodes\\/css\\/cu_shortcodes.css\":1,\"profiles\\/express\\/modules\\/custom\\/cu_shortcodes\\/css\\/cu-shortcodes-columns.css\":1,\"profiles\\/express\\/modules\\/custom\\/cu_site_info\\/site_info.css\":1,\"profiles\\/express\\/modules\\/features\\/cu_social_links\\/css\\/social_links.css\":1,\"profiles\\/express\\/modules\\/features\\/cu_twitter_feed\\/cu_twitter_feed.css\":1,\"profiles\\/express\\/modules\\/custom\\/cu_video_hero_unit_bundle\\/css\\/cu_video_hero_unit.css\":1,\"profiles\\/express\\/modules\\/custom\\/cu_video_reveal\\/css\\/cu-video-reveal.css\":1,\"profiles\\/express\\/modules\\/custom\\/express_layout\\/css\\/express-layout.css\":1,\"profiles\\/express\\/modules\\/custom\\/express_settings\\/css\\/express-settings.css\":1,\"profiles\\/express\\/modules\\/features\\/files\\/css\\/files.css\":1,\"profiles\\/express\\/modules\\/custom\\/profile_module_manager\\/css\\/profile-module-manager.css\":1,\"profiles\\/express\\/modules\\/features\\/cu_article\\/css\\/cu-article.css\":1,\"profiles\\/express\\/modules\\/features\\/cu_article\\/css\\/cu-article-grid.css\":1,\"profiles\\/express\\/modules\\/features\\/cu_article\\/css\\/owl.carousel.css\":1,\"profiles\\/express\\/modules\\/features\\/cu_faq\\/css\\/cu_faq.css\":1,\"profiles\\/express\\/modules\\/features\\/cu_page\\/cu-page.css\":1,\"profiles\\/express\\/modules\\/custom\\/express_theme_picker\\/express_theme_picker.css\":1,\"profiles\\/express\\/modules\\/features\\/people_content_type\\/css\\/people_content_type.css\":1,\"profiles\\/express\\/modules\\/features\\/photo_gallery\\/css\\/photo-gallery.css\":1,\"profiles\\/express\\/modules\\/custom\\/cu_back_to_top\\/cu_back_to_top.css\":1,\"public:\\/\\/honeypot\\/honeypot.css\":1,\"profiles\\/express\\/themes\\/ucb\\/css\\/ucb.css\":1,\"profiles\\/express\\/themes\\/cumodern\\/css\\/modern-styles.css\":1,\"profiles\\/express\\/themes\\/ucb\\/css\\/ucb-print.css\":1}},\"colorbox\":{\"opacity\":\"0.85\",\"current\":\"{current} of {total}\",\"previous\":\"\\u00ab Prev\",\"next\":\"Next \\u00bb\",\"close\":\"Close\",\"maxWidth\":\"98%\",\"maxHeight\":\"98%\",\"fixed\":true,\"mobiledetect\":true,\"mobiledevicewidth\":\"320px\",\"specificPagesDefaultValue\":\"admin*\\nimagebrowser*\\nimg_assist*\\nimce*\\nnode\\/add\\/*\\nnode\\/*\\/edit\\nprint\\/*\\nprintpdf\\/*\\nsystem\\/ajax\\nsystem\\/ajax\\/*\"},\"localist_bypass_urls\":[\"cupresents.org\"],\"googleCSE\":{\"cx\":\"\",\"resultsWidth\":600,\"domain\":\"www.google.com\",\"showWaterMark\":true},\"fitvids\":{\"custom_domains\":[],\"selectors\":[\"body\"],\"simplifymarkup\":true,\"ignore\":\"\"},\"backstretchURL\":\"\",\"backstretchMinWidth\":0,\"googleanalytics\":{\"trackOutbound\":1,\"trackMailto\":1,\"trackDownload\":1,\"trackDownloadExtensions\":\"7z|aac|arc|arj|asf|asx|avi|bin|csv|doc|exe|flv|gif|gz|gzip|hqx|jar|jpe?g|js|mp(2|3|4|e?g)|mov(ie)?|msi|msp|pdf|phps|png|ppt|qtm?|ra(m|r)?|sea|sit|tar|tgz|torrent|txt|wav|wma|wmv|wpd|xls|xml|z|zip\",\"trackColorbox\":1},\"currentPath\":\"node\\/169\",\"currentPathIsAdmin\":false,\"urlIsAjaxTrusted\":{\"\\/program\\/data-science\\/faculty\":true}});\n",
       "//--><!]]>\n",
       "</script>\n",
       "<!--[if lt IE 9]>\n",
       "    <script src=\"/program/data-science/profiles/express/themes/ucb/js/html5-respond.js\"></script>\n",
       "    <![endif]-->\n",
       "</head>\n",
       "<body class=\"html not-front not-logged-in no-sidebars page-node page-node- page-node-169 node-type-people-list-page layout-default headings-bold page-title-image-background-transparent layout-responsive max-width-1200 primary-sidebar-second express-site-type- banner-black layout-wide\">\n",
       "<p id=\"skip-link\">\n",
       "<a class=\"element-invisible element-focusable\" href=\"#main\">Skip to Content</a>\n",
       "</p>\n",
       "<noscript aria-hidden=\"true\"><iframe height=\"0\" src=\"https://www.googletagmanager.com/ns.html?id=GTM-M3DX2QP\" style=\"display:none;visibility:hidden\" width=\"0\"></iframe></noscript> <div class=\"page-wrapper\">\n",
       "<div class=\"page page node-published\">\n",
       "<!-- ALERTS -->\n",
       "<div class=\"section\" id=\"alerts-wide-wrapper\">\n",
       "<div class=\"clearfix\" id=\"alerts\">\n",
       "<div class=\"region region-alerts\">\n",
       "<div class=\"block block-rave-alerts block-rave-alerts-rave-alerts\" id=\"block-rave-alerts-rave-alerts\">\n",
       "<div class=\"block-inner-wrapper block-inner clearfix\">\n",
       "<div class=\"content\">\n",
       "<div data-remote-url=\"\" id=\"rave-alerts\">\n",
       "</div>\n",
       "</div>\n",
       "</div>\n",
       "</div>\n",
       "</div>\n",
       "</div>\n",
       "</div>\n",
       "<!-- CAMPUS BRANDING -->\n",
       "<div class=\"brand-bar brand-bar-color-black no-underline\">\n",
       "<div class=\"container\">\n",
       "<div class=\"brand-bar-container\">\n",
       "<div class=\"brand-logo\">\n",
       "<a href=\"http://www.colorado.edu\"><img alt=\"University of Colorado Boulder\" src=\"https://www.colorado.edu/program/data-science/profiles/express/themes/ucb/images/cu-boulder-logo-text-black.svg\"/></a>\n",
       "</div>\n",
       "<div class=\"brand-links\">\n",
       "</div>\n",
       "<div class=\"search-toggle-wrapper\">\n",
       "<a aria-controls=\"search\" aria-expanded=\"false\" aria-haspopup=\"true\" aria-label=\"Search\" class=\"search-toggle\" href=\"https://www.colorado.edu/search\" id=\"search-toggle\"><i class=\"fa fa-search fa-fw\"></i><span class=\"element-invisible\">Search </span></a>\n",
       "</div>\n",
       "</div>\n",
       "</div>\n",
       "</div>\n",
       "<!-- /CAMPUS BRANDING -->\n",
       "<!-- DESKTOP SEARCH -->\n",
       "<div class=\"background-black\" id=\"search\" tabindex=\"-1\">\n",
       "<div id=\"search-inner\">\n",
       "<div class=\"container container-small\">\n",
       "<div class=\"search-form\">\n",
       "<div class=\"cu-search-box cu-search-box-small animated\" role=\"search\">\n",
       "<h2>Search</h2>\n",
       "<form action=\"https://www.colorado.edu/search\" class=\"cu-search-form\" method=\"get\">\n",
       "<div class=\"search-form-wrapper\">\n",
       "<div class=\"search-fields\">\n",
       "<div class=\"cu-search\">\n",
       "<div class=\"form-item form-type-textfield form-item-search-keys\">\n",
       "<label class=\"element-invisible\" for=\"edit-search-keys\">Enter the terms you wish to search for. </label>\n",
       "<input class=\"form-text\" id=\"edit-search-keys\" maxlength=\"128\" name=\"cse\" placeholder=\"Search Colorado.edu\" size=\"15\" type=\"search\" value=\"\"/>\n",
       "</div>\n",
       "<div class=\"form-actions form-wrapper\" id=\"edit-actions\"><input class=\"form-submit\" id=\"edit-submit\" name=\"op\" type=\"submit\" value=\"Search\"/></div>\n",
       "</div>\n",
       "</div>\n",
       "<div class=\"campus-links\">\n",
       "<h3 class=\"display-inline\">Other ways to search: </h3>\n",
       "<ul class=\"inline inline-menu\">\n",
       "<li><a href=\"https://calendar.colorado.edu\">Events Calendar</a></li>\n",
       "<li><a href=\"https://www.colorado.edu/map\">Campus Map</a></li>\n",
       "</ul>\n",
       "</div>\n",
       "</div>\n",
       "</form>\n",
       "</div>\n",
       "<button id=\"close-search\"><i aria-hidden=\"true\" class=\"fa fa-times\"></i><span class=\"element-invisible\">Close</span></button>\n",
       "</div>\n",
       "</div>\n",
       "</div>\n",
       "</div>\n",
       "<!-- /DESKTOP SEARCH -->\n",
       "<!-- SITE HEADER -->\n",
       "<div class=\"section header-wrapper no-underline cu-header\" id=\"header-wrapper\">\n",
       "<div class=\"container\">\n",
       "<header class=\"ucb header clearfix\" id=\"header\" role=\"banner\" tabindex=\"-1\">\n",
       "<div class=\"site-name-wrapper\">\n",
       "<div class=\"site-name\">\n",
       "<a class=\"header__site-link\" href=\"/program/data-science/\" rel=\"home\" title=\"Home\"><span>Master of Science in Data Science</span></a>\n",
       "</div>\n",
       "<div id=\"print-site-name\">Master of Science in Data Science</div>\n",
       "</div>\n",
       "<div class=\"mobile-menu-toggle menu-toggle\">\n",
       "<button aria-controls=\"mobile-menu\" aria-expanded=\"false\" aria-haspopup=\"true\" aria-label=\"Navigation\" id=\"toggle\"><i aria-hidden=\"true\" class=\"fa fa-reorder fa-fw\"></i><span class=\"mobile-menu-text\">Menu </span></button>\n",
       "</div>\n",
       "</header>\n",
       "</div>\n",
       "</div>\n",
       "<!-- /SITE HEADER -->\n",
       "<!-- NAVIGATION -->\n",
       "<div class=\"navigation-wrapper section no-underline\" id=\"navigation-wrapper\">\n",
       "<!-- Main menu -->\n",
       "<div class=\"section\" id=\"main-menu-wrapper\">\n",
       "<div class=\"container\" id=\"navigation\">\n",
       "<div class=\"nav-inner clearfix\">\n",
       "<nav class=\"region region-menu\" role=\"navigation\" tabindex=\"-1\">\n",
       "<div>\n",
       "<h2 class=\"element-invisible\">Main menu</h2> <ul class=\"links inline clearfix\" id=\"main-menu\"><li class=\"home-link first\"><a class=\"home-link first\" href=\"/program/data-science/\" id=\"home-link\"><i class=\"fa fa-home\"></i><span class=\"element-invisible\">Home</span></a></li><li class=\"\"><a href=\"/program/data-science/big-opportunities-in-big-data-Landing-Page\">Academics</a></li><li class=\"\"><a href=\"/program/data-science/campus-overview\">On Campus</a></li><li class=\"\"><a href=\"/program/data-science/coursera-overview\">Online</a></li><li class=\"active-trail\"><a class=\"active-trail active\" href=\"/program/data-science/faculty\">Our People</a></li><li class=\"\"><a href=\"/program/data-science/about\">About</a></li><li class=\"\"><a href=\"/program/data-science/student-jobs\">Student Jobs</a></li><li class=\"\"><a href=\"/program/data-science/employers\">For Employers</a></li><li class=\"last\"><a class=\"last\" href=\"https://www.colorado.edu/covid-19\" title=\"\">Covid-19 Updates</a></li> </ul> </div>\n",
       "</nav>\n",
       "</div>\n",
       "</div>\n",
       "</div>\n",
       "<!-- /Main menu -->\n",
       "<!-- Secondary menu under main menu -->\n",
       "</div>\n",
       "<!-- /NAVIGATION -->\n",
       "<!-- MOBILE NAVIGATION -->\n",
       "<div class=\"section no-underline\" id=\"mobile-navigation-wrapper\">\n",
       "<div id=\"mobile-navigation\">\n",
       "<!-- Mobile search -->\n",
       "<div id=\"mobile-search\">\n",
       "</div>\n",
       "<!-- Mobile menu -->\n",
       "<nav id=\"mobile-menu\" role=\"navigation\">\n",
       "<h2 class=\"element-invisible\">Mobile menu</h2><ul class=\"links clearfix\" id=\"main-menu-mobile\"><li class=\"menu-701 first\"><a href=\"/program/data-science/\">Home</a></li>\n",
       "<li class=\"menu-2607\"><a href=\"/program/data-science/big-opportunities-in-big-data-Landing-Page\">Academics</a></li>\n",
       "<li class=\"menu-1561\"><a href=\"/program/data-science/campus-overview\">On Campus</a></li>\n",
       "<li class=\"menu-1449\"><a href=\"/program/data-science/coursera-overview\">Online</a></li>\n",
       "<li class=\"menu-2365 active-trail active\"><a class=\"active-trail active\" href=\"/program/data-science/faculty\">Our People</a></li>\n",
       "<li class=\"menu-2301\"><a href=\"/program/data-science/about\">About</a></li>\n",
       "<li class=\"menu-2743\"><a href=\"/program/data-science/student-jobs\">Student Jobs</a></li>\n",
       "<li class=\"menu-2581\"><a href=\"/program/data-science/employers\">For Employers</a></li>\n",
       "<li class=\"menu-2571 last\"><a href=\"https://www.colorado.edu/covid-19\" title=\"\">Covid-19 Updates</a></li>\n",
       "</ul> </nav>\n",
       "</div>\n",
       "</div>\n",
       "<!-- MOBILE NAVIGATION -->\n",
       "<!-- MESSAGES/TABS/HELP/ACTION LINKS -->\n",
       "<div class=\"express-messages section\">\n",
       "<div class=\"container\">\n",
       "</div>\n",
       "</div>\n",
       "<!-- /MESSAGES/TABS/HELP/ACTION LINKS -->\n",
       "<!-- PAGE CONTENT -->\n",
       "<div class=\"page-content\">\n",
       "<!-- INTRO -->\n",
       "<!-- //INTRO -->\n",
       "<!-- SLIDER -->\n",
       "<!-- //SLIDER -->\n",
       "<!-- PAGE TITLE IMAGE -->\n",
       "<!-- //PAGE TITLE IMAGE -->\n",
       "<!-- MAIN CONTENT -->\n",
       "<div class=\"section main-content-wrapper\" id=\"main-content-wrapper\">\n",
       "<div class=\"clearfix\" id=\"main\">\n",
       "<div class=\"container\">\n",
       "<!-- TITLE -->\n",
       "<div class=\"main-title-wrapper\">\n",
       "<a id=\"main-content\"></a>\n",
       "<h1 class=\"page-title title\" id=\"page-title\">\n",
       "                  Our People                </h1>\n",
       "</div>\n",
       "</div>\n",
       "<!-- POST TITLE WIDE -->\n",
       "<!-- POST TITLE -->\n",
       "<!-- NODE CONTENT -->\n",
       "<div class=\"content-wrapper section\">\n",
       "<div class=\"container\">\n",
       "<div class=\"row\">\n",
       "<div class=\"col-lg-12 col-md-12 col-sm-12 col-xs-12\" id=\"content\" role=\"main\">\n",
       "<div class=\"region region-content\">\n",
       "<div>\n",
       "<div>\n",
       "<div class=\"field field-name-body field-type-text-with-summary field-label-hidden\">\n",
       "<h2>The MS-DS is a truly interdisciplinary program, with faculty in Computer Science, Applied Mathematics, Information Science, and more.</h2>\n",
       "<p>Data science faculty members are housed in Applied Mathematics, Computer Science, Information Science, and other departments across campus.</p>\n",
       "<p> </p>\n",
       "<p> </p>\n",
       "</div>\n",
       "<form accept-charset=\"UTF-8\" action=\"/program/data-science/faculty\" id=\"people-content-type-list-filter-form\" method=\"post\"><div><input name=\"form_build_id\" type=\"hidden\" value=\"form-ltOoEJHOyRGgIdHCadDEs2n-0z0DilEghuoY4tkvRL8\">\n",
       "<input name=\"form_id\" type=\"hidden\" value=\"people_content_type_list_filter_form\">\n",
       "<div class=\"url-textfield\"><div class=\"form-item form-type-textfield form-item-url\">\n",
       "<label for=\"edit-url\">Leave this field blank </label>\n",
       "<input autocomplete=\"off\" class=\"form-text\" id=\"edit-url\" maxlength=\"128\" name=\"url\" size=\"20\" type=\"text\" value=\"\"/>\n",
       "</div>\n",
       "</div></input></input></div></form><div class=\"people-list-wrapper-teaser\"><a id=\"jane+wall\" name=\"jane+wall\"></a>\n",
       "<div class=\"person-view-mode-teaser clearfix\">\n",
       "<a href=\"/program/data-science/jane-wall\"><img alt=\"Jane Wall\" class=\"image-small_thumbnail\" height=\"100\" src=\"https://www.colorado.edu/program/data-science/sites/default/files/styles/small_thumbnail/public/people/jane_wall.jpg?itok=rXn8aeh1\" width=\"100\"/></a> <div class=\"person-view-mode-teaser-content node-view-mode-teaser-content\">\n",
       "<h2 class=\"node-title\"><a href=\"/program/data-science/jane-wall\">Jane Wall</a></h2>\n",
       "<div class=\"person-job-titles\">Faculty Director</div>\n",
       "<div class=\"person-departments\">Data Science</div>\n",
       "<div class=\"people-bio\">\n",
       "<div class=\"field field-name-body field-type-text-with-summary field-label-hidden\">\n",
       "    Dr. Wall worked for IBM and other software development companies as a software engineer, development manager, subcontract manager and account executive before getting her PhD. She developed 3 core data science courses at AU and co-founded the graduate certificate, BS and MS in Data Science.  </div>\n",
       "</div>\n",
       "</div>\n",
       "</div>\n",
       "<a id=\"bobby+schnabel\" name=\"bobby+schnabel\"></a>\n",
       "<div class=\"person-view-mode-teaser clearfix\">\n",
       "<a href=\"/program/data-science/bobby-schnabel\"><img alt=\"Bobby Schnabel\" class=\"image-small_thumbnail\" height=\"100\" src=\"https://www.colorado.edu/program/data-science/sites/default/files/styles/small_thumbnail/public/people/bobby_schnabel.png?itok=1a2pgM1i\" width=\"100\"/></a> <div class=\"person-view-mode-teaser-content node-view-mode-teaser-content\">\n",
       "<h2 class=\"node-title\"><a href=\"/program/data-science/bobby-schnabel\">Bobby Schnabel</a></h2>\n",
       "<div class=\"person-job-titles\">Department External Chair • Professor</div>\n",
       "<div class=\"person-departments\">Computer Science</div>\n",
       "<div class=\"people-bio\">\n",
       "<div class=\"field field-name-body field-type-text-with-summary field-label-hidden\">\n",
       "    Dr. Schnabel is Professor and External Chair of Computer Science and CEAS Faculty Director for Entrepreneurship. He is a co-founder of the National Center for Women &amp; Information Technology, founding director of the ATLAS Institute at CU Boulder, and a former academic CIO and dean.  </div>\n",
       "</div>\n",
       "</div>\n",
       "</div>\n",
       "<a id=\"brian+zaharatos\" name=\"brian+zaharatos\"></a>\n",
       "<div class=\"person-view-mode-teaser clearfix\">\n",
       "<a href=\"/program/data-science/brian-zaharatos\"><img alt=\"Brian Zaharatos\" class=\"image-small_thumbnail\" height=\"100\" src=\"https://www.colorado.edu/program/data-science/sites/default/files/styles/small_thumbnail/public/people/brian_zaharatos_0_copy.jpg?itok=swrhf59F\" width=\"100\"/></a> <div class=\"person-view-mode-teaser-content node-view-mode-teaser-content\">\n",
       "<h2 class=\"node-title\"><a href=\"/program/data-science/brian-zaharatos\">Brian Zaharatos</a></h2>\n",
       "<div class=\"person-job-titles\">Director of the Professional Master’s Degree • Senior Instructor</div>\n",
       "<div class=\"person-departments\">Applied Mathematics</div>\n",
       "<div class=\"people-bio\">\n",
       "<div class=\"field field-name-body field-type-text-with-summary field-label-hidden\">\n",
       "    Dr. Zaharatos’s primary interests are in applied statistics and the philosophy of statistics. Most of his work has been in statistical methods for photovoltaic performance modeling. He also works on applications in geography, residential building energy analysis, and consulting for statistical litigation support.  </div>\n",
       "</div>\n",
       "</div>\n",
       "</div>\n",
       "<a id=\"jem+corcoran\" name=\"jem+corcoran\"></a>\n",
       "<div class=\"person-view-mode-teaser clearfix\">\n",
       "<a href=\"/program/data-science/jem-corcoran\"><img alt=\"Jem Corcoran\" class=\"image-small_thumbnail\" height=\"96\" src=\"https://www.colorado.edu/program/data-science/sites/default/files/styles/small_thumbnail/public/people/jem_corcoran.jpg?itok=fUO0MSBJ\" width=\"100\"/></a> <div class=\"person-view-mode-teaser-content node-view-mode-teaser-content\">\n",
       "<h2 class=\"node-title\"><a href=\"/program/data-science/jem-corcoran\">Jem Corcoran</a></h2>\n",
       "<div class=\"person-job-titles\">Associate Professor</div>\n",
       "<div class=\"person-departments\">Applied Mathematics</div>\n",
       "<div class=\"people-bio\">\n",
       "<div class=\"field field-name-body field-type-text-with-summary field-label-hidden\">\n",
       "    Dr. Corcoran is an applied probabilist specializing in MCMC methods in the Probability and Statistics Group in the Department of Applied Mathematics at the University of Colorado Boulder.  </div>\n",
       "</div>\n",
       "</div>\n",
       "</div>\n",
       "<a id=\"anne+dougherty\" name=\"anne+dougherty\"></a>\n",
       "<div class=\"person-view-mode-teaser clearfix\">\n",
       "<a href=\"/program/data-science/anne-dougherty\"><img alt=\"Anne Dougherty\" class=\"image-small_thumbnail\" height=\"100\" src=\"https://www.colorado.edu/program/data-science/sites/default/files/styles/small_thumbnail/public/people/anne_d_copy_copy.jpg?itok=mcI_Th4v\" width=\"100\"/></a> <div class=\"person-view-mode-teaser-content node-view-mode-teaser-content\">\n",
       "<h2 class=\"node-title\"><a href=\"/program/data-science/anne-dougherty\">Anne Dougherty</a></h2>\n",
       "<div class=\"person-job-titles\">Senior Instructor &amp; University of Colorado Teaching Professor • Associate Department Chair   • Undergraduate Studies Chair </div>\n",
       "<div class=\"person-departments\">Applied Mathematics</div>\n",
       "<div class=\"people-bio\">\n",
       "<div class=\"field field-name-body field-type-text-with-summary field-label-hidden\">\n",
       "    Dr. Dougherty has been the J.R. Woodhull/Logicon Teaching Professor of Applied Mathematics since July 2012. In addition to teaching, Dr. Dougherty serves as a faculty advisor for applied math majors/ minors and statistics minors, the CU campus representative for the Goldwater Scholarship, and a faculty advisor for the International Mathematics Contest in Modeling.  </div>\n",
       "</div>\n",
       "<div class=\"person-view-mode-teaser-contact\"><span class=\"person-contact-info-item person-contact-info-email\"><i class=\"fa fa-envelope\"></i>\n",
       "<a href=\"mailto:anne.dougherty@colorado.edu\">anne.dougherty@colorado.edu</a></span></div>\n",
       "</div>\n",
       "</div>\n",
       "<a id=\"ioana+fleming\" name=\"ioana+fleming\"></a>\n",
       "<div class=\"person-view-mode-teaser clearfix\">\n",
       "<a href=\"/program/data-science/ioana-fleming\"><img alt=\"Ioana Fleming\" class=\"image-small_thumbnail\" height=\"100\" src=\"https://www.colorado.edu/program/data-science/sites/default/files/styles/small_thumbnail/public/people/ioana_fleming_copy.jpg?itok=noKX_5UL\" width=\"100\"/></a> <div class=\"person-view-mode-teaser-content node-view-mode-teaser-content\">\n",
       "<h2 class=\"node-title\"><a href=\"/program/data-science/ioana-fleming\">Ioana Fleming</a></h2>\n",
       "<div class=\"person-job-titles\">Senior Instructor • Chair of Undergraduate Education</div>\n",
       "<div class=\"person-departments\">Computer Science</div>\n",
       "<div class=\"people-bio\">\n",
       "<div class=\"field field-name-body field-type-text-with-summary field-label-hidden\">\n",
       "    Dr. Fleming holds an MD from Romania, and MS and Ph.D. degrees from Johns Hopkins University. Her research combines computer vision &amp; medical imaging, with applications in ultrasound elastography &amp; image-guided surgery. At CU Boulder, she is a Senior Instructor in the Computer Science Department.  </div>\n",
       "</div>\n",
       "<div class=\"person-view-mode-teaser-contact\"><span class=\"person-contact-info-item person-contact-info-email\"><i class=\"fa fa-envelope\"></i>\n",
       "<a href=\"mailto:Ioana.Fleming@Colorado.EDU\">Ioana.Fleming@Colorado.EDU</a></span></div>\n",
       "</div>\n",
       "</div>\n",
       "<a id=\"ami+gates\" name=\"ami+gates\"></a>\n",
       "<div class=\"person-view-mode-teaser clearfix\">\n",
       "<a href=\"/program/data-science/ami-gates\"><img alt=\"Ami Gates Photo\" class=\"image-small_thumbnail\" height=\"100\" src=\"https://www.colorado.edu/program/data-science/sites/default/files/styles/small_thumbnail/public/people/gates_ami_small.jpeg?itok=1KTSfAfC\" width=\"100\"/></a> <div class=\"person-view-mode-teaser-content node-view-mode-teaser-content\">\n",
       "<h2 class=\"node-title\"><a href=\"/program/data-science/ami-gates\">Ami Gates</a></h2>\n",
       "<div class=\"person-job-titles\">Teaching Professor</div>\n",
       "<div class=\"person-departments\">Applied Mathematics</div>\n",
       "<div class=\"people-bio\">\n",
       "<div class=\"field field-name-body field-type-text-with-summary field-label-hidden\">\n",
       "    Professor Ami Gates has a BA in Math, an MS in Education, an MS in Computer Science, and a Ph.D. in Computer Engineering (focus: Machine Learning, Data Analytics). Dr. Gates has been teaching for 25 years in computer science, data analytics and visualization, information technology, and statistics. Areas of interest include technologies in education, robust and personalized learning environments, machine learning applications in data analytics, and data visualization.  </div>\n",
       "</div>\n",
       "<div class=\"person-view-mode-teaser-contact\"><span class=\"person-contact-info-item person-contact-info-email\"><i class=\"fa fa-envelope\"></i>\n",
       "<a href=\"mailto:Ami.Gates@colorado.edu\">Ami.Gates@colorado.edu</a></span></div>\n",
       "</div>\n",
       "</div>\n",
       "<a id=\"abel+iyasele\" name=\"abel+iyasele\"></a>\n",
       "<div class=\"person-view-mode-teaser clearfix\">\n",
       "<a href=\"/program/data-science/abel-iyasele-0\"><img alt=\"Abel Iyasele Photo\" class=\"image-small_thumbnail\" height=\"100\" src=\"https://www.colorado.edu/program/data-science/sites/default/files/styles/small_thumbnail/public/people/abel_pix_2_-_abel_iyasele_small.jpeg?itok=e8A37mUr\" width=\"100\"/></a> <div class=\"person-view-mode-teaser-content node-view-mode-teaser-content\">\n",
       "<h2 class=\"node-title\"><a href=\"/program/data-science/abel-iyasele-0\">Abel Iyasele</a></h2>\n",
       "<div class=\"person-job-titles\">Teaching Assistant Professor</div>\n",
       "<div class=\"person-departments\">Information Science</div>\n",
       "<div class=\"people-bio\">\n",
       "<div class=\"field field-name-body field-type-text-with-summary field-label-hidden\">\n",
       "    Scholarly Area: Nexus between binding macro issues and corporate performance in the US.  </div>\n",
       "</div>\n",
       "<div class=\"person-view-mode-teaser-contact\"><span class=\"person-contact-info-item person-contact-info-email\"><i class=\"fa fa-envelope\"></i>\n",
       "<a href=\"mailto:Abel.Iyasele@colorado.edu\">Abel.Iyasele@colorado.edu</a></span></div>\n",
       "</div>\n",
       "</div>\n",
       "<a id=\"geena+kim\" name=\"geena+kim\"></a>\n",
       "<div class=\"person-view-mode-teaser clearfix\">\n",
       "<a href=\"/program/data-science/geena-kim\"><img alt=\"Geena Kim\" class=\"image-small_thumbnail\" height=\"100\" src=\"https://www.colorado.edu/program/data-science/sites/default/files/styles/small_thumbnail/public/people/geena_kim.png?itok=jdm9De9f\" width=\"100\"/></a> <div class=\"person-view-mode-teaser-content node-view-mode-teaser-content\">\n",
       "<h2 class=\"node-title\"><a href=\"/program/data-science/geena-kim\">Geena Kim</a></h2>\n",
       "<div class=\"person-job-titles\">Post-Baccalaureate Instructor</div>\n",
       "<div class=\"person-departments\">Computer Science</div>\n",
       "<div class=\"people-bio\">\n",
       "<div class=\"field field-name-body field-type-text-with-summary field-label-hidden\">\n",
       "    Dr. Kim received a PhD from UC Berkeley, worked as an entrepreneur and technical advisor at IoT startups in the Bay Area. She taught in the MS data science program at Regis before joining CU. Research includes deep learning, computer vision, and medical image analysis.  </div>\n",
       "</div>\n",
       "</div>\n",
       "</div>\n",
       "<a id=\"william+kuskin\" name=\"william+kuskin\"></a>\n",
       "<div class=\"person-view-mode-teaser clearfix\">\n",
       "<a href=\"/program/data-science/william-kuskin\"><img alt=\"William Kuskin\" class=\"image-small_thumbnail\" height=\"100\" src=\"https://www.colorado.edu/program/data-science/sites/default/files/styles/small_thumbnail/public/people/william_kuskin_copy.jpg?itok=jEGI7Oq1\" width=\"100\"/></a> <div class=\"person-view-mode-teaser-content node-view-mode-teaser-content\">\n",
       "<h2 class=\"node-title\"><a href=\"/program/data-science/william-kuskin\">William Kuskin</a></h2>\n",
       "<div class=\"person-job-titles\">Professor • CEAS Associate Dean for Digital Education</div>\n",
       "<div class=\"person-departments\">English &amp; Engineering</div>\n",
       "<div class=\"people-bio\">\n",
       "<div class=\"field field-name-body field-type-text-with-summary field-label-hidden\">\n",
       "    Dr. Kuskin is Professor of English and CEAS Associate Dean for Digital Education. He taught one of the first humanities MOOCs on the Coursera platform, “Comic Books and Graphic Novels,” co-created the MS-EE, and is former Vice Provost.  </div>\n",
       "</div>\n",
       "</div>\n",
       "</div>\n",
       "<a id=\"qin+%28christine%29+lv\" name=\"qin+%28christine%29+lv\"></a>\n",
       "<div class=\"person-view-mode-teaser clearfix\">\n",
       "<a href=\"/program/data-science/qin-christine-lv\"><img alt=\"Qin (Christine) Lv\" class=\"image-small_thumbnail\" height=\"100\" src=\"https://www.colorado.edu/program/data-science/sites/default/files/styles/small_thumbnail/public/people/qin_lv_copy.jpg?itok=3vwVm9Ys\" width=\"100\"/></a> <div class=\"person-view-mode-teaser-content node-view-mode-teaser-content\">\n",
       "<h2 class=\"node-title\"><a href=\"/program/data-science/qin-christine-lv\">Qin (Christine) Lv</a></h2>\n",
       "<div class=\"person-job-titles\">Professor</div>\n",
       "<div class=\"person-departments\">Computer Science</div>\n",
       "<div class=\"people-bio\">\n",
       "<div class=\"field field-name-body field-type-text-with-summary field-label-hidden\">\n",
       "    Dr. Lv is a professor in the Department of Computer Science. Lv's research integrates systems, algorithms, and applications for effective and efficient data analytics in ubiquitous computing and scientific discovery. She received an MA and a Ph.D. from Princeton University.  </div>\n",
       "</div>\n",
       "</div>\n",
       "</div>\n",
       "<a id=\"quentin+mcandrew\" name=\"quentin+mcandrew\"></a>\n",
       "<div class=\"person-view-mode-teaser clearfix\">\n",
       "<a href=\"/program/data-science/quentin-mcandrew\"><img alt=\"Quentin McAndrew\" class=\"image-small_thumbnail\" height=\"100\" src=\"https://www.colorado.edu/program/data-science/sites/default/files/styles/small_thumbnail/public/people/quentin_mcandrew_copy.jpg?itok=6y7p50kU\" width=\"100\"/></a> <div class=\"person-view-mode-teaser-content node-view-mode-teaser-content\">\n",
       "<h2 class=\"node-title\"><a href=\"/program/data-science/quentin-mcandrew\">Quentin McAndrew</a></h2>\n",
       "<div class=\"person-job-titles\">Instructor</div>\n",
       "<div class=\"person-departments\">Academic &amp; Learning Innovation</div>\n",
       "<div class=\"people-bio\">\n",
       "<div class=\"field field-name-body field-type-text-with-summary field-label-hidden\">\n",
       "    Dr. Quentin McAndrew, PhD, is currently Coursera's Academic Strategist and was previously Assistant Vice Provost of Academic and Learning Innovation at the University of Colorado. She taught literature and business writing and holds a BA and MA from Stanford, and a PhD from the University of Colorado.  </div>\n",
       "</div>\n",
       "</div>\n",
       "</div>\n",
       "<a id=\"osita+onyejekwe\" name=\"osita+onyejekwe\"></a>\n",
       "<div class=\"person-view-mode-teaser clearfix\">\n",
       "<a href=\"/program/data-science/osita-onyejekwe\"><img alt=\"Osita Onyejekwe Photo\" class=\"image-small_thumbnail\" height=\"100\" src=\"https://www.colorado.edu/program/data-science/sites/default/files/styles/small_thumbnail/public/people/osita_small_0.jpeg?itok=uxiRJTyu\" width=\"100\"/></a> <div class=\"person-view-mode-teaser-content node-view-mode-teaser-content\">\n",
       "<h2 class=\"node-title\"><a href=\"/program/data-science/osita-onyejekwe\">Osita Onyejekwe</a></h2>\n",
       "<div class=\"person-job-titles\">Teaching Assistant Professor</div>\n",
       "<div class=\"person-departments\">Computer Science</div>\n",
       "<div class=\"people-bio\">\n",
       "<div class=\"field field-name-body field-type-text-with-summary field-label-hidden\">\n",
       "    My primary interests are in multivariate regression models in conjunction with machine learning models to estimate weather patterns, glacier recession behavior, as well as looking into financial models pertaining to profit gains, losses, and revenue. I am also interested in planetary systems, abiogenesis, philosophy, and theology.  </div>\n",
       "</div>\n",
       "<div class=\"person-view-mode-teaser-contact\"><span class=\"person-contact-info-item person-contact-info-email\"><i class=\"fa fa-envelope\"></i>\n",
       "<a href=\"mailto:Osita.Onyejekwe@Colorado.EDU\">Osita.Onyejekwe@Colorado.EDU</a></span></div>\n",
       "</div>\n",
       "</div>\n",
       "<a id=\"alan+paradise\" name=\"alan+paradise\"></a>\n",
       "<div class=\"person-view-mode-teaser clearfix\">\n",
       "<a href=\"/program/data-science/alan-paradise\"><img alt=\"Alan Paradise\" class=\"image-small_thumbnail\" height=\"100\" src=\"https://www.colorado.edu/program/data-science/sites/default/files/styles/small_thumbnail/public/people/alan_paradise_copy.jpg?itok=hNclIKin\" width=\"100\"/></a> <div class=\"person-view-mode-teaser-content node-view-mode-teaser-content\">\n",
       "<h2 class=\"node-title\"><a href=\"/program/data-science/alan-paradise\">Alan Paradise</a></h2>\n",
       "<div class=\"person-job-titles\">Assistant Teaching Professor</div>\n",
       "<div class=\"person-departments\">Computer Science</div>\n",
       "<div class=\"people-bio\">\n",
       "<div class=\"field field-name-body field-type-text-with-summary field-label-hidden\">\n",
       "    Professor Paradise worked for almost 40 years as an IT Professional in industry with a focus on database technologies. Professor Paradise has been teaching full time at CU Boulder since 2017, including a popular undergraduate database course as well at the Senior Capstone Project course for graduating CS seniors.  </div>\n",
       "</div>\n",
       "</div>\n",
       "</div>\n",
       "<a id=\"al+pisano\" name=\"al+pisano\"></a>\n",
       "<div class=\"person-view-mode-teaser clearfix\">\n",
       "<a href=\"/program/data-science/al-pisano\"><img alt=\"Al Pisano\" class=\"image-small_thumbnail\" height=\"100\" src=\"https://www.colorado.edu/program/data-science/sites/default/files/styles/small_thumbnail/public/people/al_pisano.jpg?itok=DtzZosLP\" width=\"100\"/></a> <div class=\"person-view-mode-teaser-content node-view-mode-teaser-content\">\n",
       "<h2 class=\"node-title\"><a href=\"/program/data-science/al-pisano\">Al Pisano</a></h2>\n",
       "<div class=\"person-job-titles\">Instructor</div>\n",
       "<div class=\"person-departments\">Computer Science</div>\n",
       "<div class=\"people-bio\">\n",
       "<div class=\"field field-name-body field-type-text-with-summary field-label-hidden\">\n",
       "    Dr. Pisano has a wide breadth of dynamic experience and knowledge within the educational and corporate space with proven success as a presenter, thought leader, author, innovator, entrepreneur, K-12 administrator, higher education administrator, curriculum and program developer, educational consultant and instructor.  </div>\n",
       "</div>\n",
       "</div>\n",
       "</div>\n",
       "<a id=\"sriram+sankaranarayanan\" name=\"sriram+sankaranarayanan\"></a>\n",
       "<div class=\"person-view-mode-teaser clearfix\">\n",
       "<a href=\"/program/data-science/sriram-sankaranarayanan\"><img alt=\"Sriram Sankaranarayanan\" class=\"image-small_thumbnail\" height=\"100\" src=\"https://www.colorado.edu/program/data-science/sites/default/files/styles/small_thumbnail/public/people/sriram_sankaranarayanan_copy.jpg?itok=DyJI-dph\" width=\"100\"/></a> <div class=\"person-view-mode-teaser-content node-view-mode-teaser-content\">\n",
       "<h2 class=\"node-title\"><a href=\"/program/data-science/sriram-sankaranarayanan\">Sriram Sankaranarayanan</a></h2>\n",
       "<div class=\"person-job-titles\">Associate Professor</div>\n",
       "<div class=\"person-departments\">Computer Science</div>\n",
       "<div class=\"people-bio\">\n",
       "<div class=\"field field-name-body field-type-text-with-summary field-label-hidden\">\n",
       "    Dr. Sankaranarayanan is a professor in the CS department, and a member of the Programming Languages &amp; Verification and Computer &amp; Cyber-Physical Systems research groups. He was a member of research staff at NEC Laboratories America from 2005-2009, and graduated with a PhD in (theoretical) CS from Stanford University in 2005.  </div>\n",
       "</div>\n",
       "</div>\n",
       "</div>\n",
       "<a id=\"chris+vargo\" name=\"chris+vargo\"></a>\n",
       "<div class=\"person-view-mode-teaser clearfix\">\n",
       "<a href=\"/program/data-science/chris-vargo\"><img alt=\"Chris Vargo\" class=\"image-small_thumbnail\" height=\"100\" src=\"https://www.colorado.edu/program/data-science/sites/default/files/styles/small_thumbnail/public/people/chris_vargo.jpeg?itok=NOw2Xei7\" width=\"100\"/></a> <div class=\"person-view-mode-teaser-content node-view-mode-teaser-content\">\n",
       "<h2 class=\"node-title\"><a href=\"/program/data-science/chris-vargo\">Chris Vargo</a></h2>\n",
       "<div class=\"person-job-titles\">Associate Professor of Advertising and Analytics</div>\n",
       "<div class=\"person-departments\">College of Media, Communication and Information</div>\n",
       "<div class=\"people-bio\">\n",
       "<div class=\"field field-name-body field-type-text-with-summary field-label-hidden\">\n",
       "    Dr. Chris J. Vargo is an associate professor specializing in data analytics and digital advertising. Dr. Vargo employs the use of computer science methods to investigate social media data using theories from communication, psychology and political science.  </div>\n",
       "</div>\n",
       "</div>\n",
       "</div>\n",
       "<a id=\"di+wu\" name=\"di+wu\"></a>\n",
       "<div class=\"person-view-mode-teaser clearfix\">\n",
       "<a href=\"/program/data-science/di-wu\"><img alt=\"Di Wu\" class=\"image-small_thumbnail\" height=\"100\" src=\"https://www.colorado.edu/program/data-science/sites/default/files/styles/small_thumbnail/public/people/di_wu_0_0.jpeg?itok=t7cDyoVH\" width=\"100\"/></a> <div class=\"person-view-mode-teaser-content node-view-mode-teaser-content\">\n",
       "<h2 class=\"node-title\"><a href=\"/program/data-science/di-wu\">Di Wu</a></h2>\n",
       "<div class=\"person-job-titles\">Teaching Assistant Professor</div>\n",
       "<div class=\"person-departments\">Computer Science</div>\n",
       "<div class=\"people-bio\">\n",
       "<div class=\"field field-name-body field-type-text-with-summary field-label-hidden\">\n",
       "    Dr. Wu’s primary interests are in temporal databases, the semantic web, knowledge representation, and data science. Most of his research has been in extending the Resource Description Framework (RDF) for temporal dimensions. Before joining CU, he taught algorithms and data structures, programming languages, and database management courses. Dr. Wu’s career plan for the next five years is to develop and apply an inclusive, engaging, experiential, and inspiring pedagogy in data...  </div>\n",
       "</div>\n",
       "<div class=\"person-view-mode-teaser-contact\"><span class=\"person-contact-info-item person-contact-info-email\"><i class=\"fa fa-envelope\"></i>\n",
       "<a href=\"mailto:Di.Wu@colorado.edu\">Di.Wu@colorado.edu</a></span></div>\n",
       "</div>\n",
       "</div>\n",
       "<a id=\"dave+underwood\" name=\"dave+underwood\"></a>\n",
       "<div class=\"person-view-mode-teaser clearfix\">\n",
       "<a href=\"/program/data-science/dave-underwood\"><img alt=\"David Underwood\" class=\"image-small_thumbnail\" height=\"99\" src=\"https://www.colorado.edu/program/data-science/sites/default/files/styles/small_thumbnail/public/people/dave_underwood_0.jpg?itok=0avf4JwZ\" width=\"100\"/></a> <div class=\"person-view-mode-teaser-content node-view-mode-teaser-content\">\n",
       "<h2 class=\"node-title\"><a href=\"/program/data-science/dave-underwood\">Dave Underwood</a></h2>\n",
       "<div class=\"person-job-titles\">Lecturer (Retired)</div>\n",
       "<div class=\"person-departments\">Information Technology</div>\n",
       "<div class=\"people-bio\">\n",
       "<div class=\"field field-name-body field-type-text-with-summary field-label-hidden\">\n",
       "    Professor Underwood has worked as a designer, lecturer, and consultant at the University of Colorado Boulder. He has helped design multimedia assignments and has coached students in the effective use of media tools. Most recently, he has assisted in departmental branding at the University.  </div>\n",
       "</div>\n",
       "</div>\n",
       "</div>\n",
       "</div> </div>\n",
       "</div>\n",
       "</div>\n",
       "</div>\n",
       "<!-- SIDEBARS -->\n",
       "<!-- /SIDEBARS -->\n",
       "</div>\n",
       "</div>\n",
       "</div>\n",
       "</div>\n",
       "</div>\n",
       "<!-- /MAIN CONTENT -->\n",
       "<!-- FEATURE LAYOUT CONTENT -->\n",
       "<!-- /FEATURE LAYOUT CONTENT -->\n",
       "</div>\n",
       "<!-- /PAGE CONTENT -->\n",
       "<!-- POST WIDE -->\n",
       "<!-- /POST WIDE -->\n",
       "<!-- AFTER CONTENT -->\n",
       "<!-- /AFTER CONTENT -->\n",
       "<!-- AFTER CONTENT2 -->\n",
       "<!-- /AFTER CONTENT2 -->\n",
       "<!-- FOOTER SECTION -->\n",
       "<div class=\"footer-section background-gray-dark\" id=\"footer-section\">\n",
       "<!-- FOOTER -->\n",
       "<!-- /FOOTER -->\n",
       "<!-- FOOTER MENU -->\n",
       "<!-- /FOOTER MENU -->\n",
       "<!-- SITE INFO -->\n",
       "<div class=\"section site-info-wrapper background-black\" id=\"site-info-wrapper\">\n",
       "<div class=\"site-info\" id=\"site-info\">\n",
       "<div class=\"container\">\n",
       "<footer class=\"row region region-site-info footer-2col\" id=\"site-footer\">\n",
       "<div class=\"col-lg-8 col-md-8\" id=\"site-footer-content\">\n",
       "<div class=\"block block-cu-site-info has-block-title block-cu-site-info-site-info\" id=\"block-cu-site-info-site-info\">\n",
       "<div class=\"block-inner-wrapper block-inner clearfix\">\n",
       "<h2 class=\"block-title\"><a href=\"/program/data-science/\">Master of Science in Data Science</a></h2>\n",
       "<div class=\"content\">\n",
       "<p>Offered through an interdisciplinary partnership, data science at CU Boulder is<br/>\n",
       "\tdelivered by the Departments of Applied Mathematics, Computer Science,<br/>\n",
       "\tand Information Science and awarded by the <a href=\"https://www.colorado.edu/graduateschool/\">Graduate School</a>.</p>\n",
       "<p><a href=\"mailto:datascience@colorado.edu\">datascience@colorado.edu</a></p>\n",
       "</div>\n",
       "</div>\n",
       "</div>\n",
       "</div>\n",
       "<div class=\"col-lg-4 col-md-4\" id=\"cu-footer\">\n",
       "<p><a href=\"//www.colorado.edu\"><img alt=\"University of Colorado Boulder\" class=\"beboulder\" src=\"https://www.colorado.edu/program/data-science/profiles/express/themes/ucb/images/beboulder/be-boulder-white.svg\"/></a></p>\n",
       "<p><strong><a class=\"cu-boulder-homepage-link\" href=\"http://www.colorado.edu\">University of Colorado Boulder</a></strong><br/>© Regents of the University of Colorado<br/>\n",
       "<span class=\"required-links\"><a href=\"http://www.colorado.edu/about/privacy-statement\">Privacy</a> • <a href=\"http://www.colorado.edu/about/legal-trademarks\">Legal &amp; Trademarks</a> • <a href=\"http://www.colorado.edu/map\">Campus Map</a></span></p>\n",
       "</div>\n",
       "</footer>\n",
       "</div>\n",
       "</div>\n",
       "</div>\n",
       "<!-- /SITE INFO -->\n",
       "</div>\n",
       "</div>\n",
       "</div>\n",
       "<div id=\"cu_back_to_top\"><a href=\"#page\" title=\"Back to Top\">Return to the top of the page</a></div><script src=\"https://www.colorado.edu/program/data-science/profiles/express/modules/custom/backstretch/bs.js?rfpala\" type=\"text/javascript\"></script>\n",
       "<script src=\"https://www.colorado.edu/program/data-science/profiles/express/modules/features/cu_search/js/cu-search.js?rfpala\" type=\"text/javascript\"></script>\n",
       "<script src=\"https://www.colorado.edu/program/data-science/profiles/express/themes/ucb/js/track-focus.js?rfpala\" type=\"text/javascript\"></script>\n",
       "<script type=\"text/javascript\">\n",
       "<!--//--><![CDATA[//><!--\n",
       "jQuery(document).ready(function () { if (!Modernizr.svgasimg) {\n",
       "  jQuery(\"img#logo\").attr(\"src\", \"https://www.colorado.edu/program/data-science/profiles/express/themes/cumodern/logo.png\");} });\n",
       "//--><!]]>\n",
       "</script>\n",
       "<script src=\"https://www.colorado.edu/program/data-science/profiles/express/modules/custom/cu_back_to_top/cu_back_to_top.js?rfpala\" type=\"text/javascript\"></script>\n",
       "</body>\n",
       "</html>"
      ]
     },
     "execution_count": 2,
     "metadata": {},
     "output_type": "execute_result"
    }
   ],
   "source": [
    "from bs4 import BeautifulSoup\n",
    "import re\n",
    "\n",
    "soup = BeautifulSoup(content, 'html.parser')\n",
    "soup"
   ]
  },
  {
   "cell_type": "markdown",
   "metadata": {
    "cell_id": "11a67e50509c405ea371ec20fdd28e2c",
    "deepnote_cell_height": 70,
    "deepnote_cell_type": "markdown",
    "id": "tNUnXU0JUomQ"
   },
   "source": [
    "## Find all \\<h2\\> tags"
   ]
  },
  {
   "cell_type": "code",
   "execution_count": null,
   "metadata": {
    "cell_id": "ee86d62a59964cfaae4d4f8140c47ad4",
    "collapsed": true,
    "deepnote_cell_type": "code",
    "deepnote_to_be_reexecuted": false,
    "execution_millis": 3,
    "execution_start": 1661570370230,
    "id": "tIf3P6RtUomQ",
    "jupyter": {
     "outputs_hidden": true
    },
    "outputId": "58073b48-42c3-4204-8b73-2d3e038aa77c",
    "source_hash": "8075bdf1"
   },
   "outputs": [
    {
     "data": {
      "text/plain": [
       "[<h2>Search</h2>,\n",
       " <h2 class=\"element-invisible\">Main menu</h2>,\n",
       " <h2 class=\"element-invisible\">Mobile menu</h2>,\n",
       " <h2>The MS-DS is a truly interdisciplinary program, with faculty in Computer Science, Applied Mathematics, Information Science, and more.</h2>,\n",
       " <h2 class=\"node-title\"><a href=\"/program/data-science/jane-wall\">Jane Wall</a></h2>,\n",
       " <h2 class=\"node-title\"><a href=\"/program/data-science/bobby-schnabel\">Bobby Schnabel</a></h2>,\n",
       " <h2 class=\"node-title\"><a href=\"/program/data-science/brian-zaharatos\">Brian Zaharatos</a></h2>,\n",
       " <h2 class=\"node-title\"><a href=\"/program/data-science/jem-corcoran\">Jem Corcoran</a></h2>,\n",
       " <h2 class=\"node-title\"><a href=\"/program/data-science/anne-dougherty\">Anne Dougherty</a></h2>,\n",
       " <h2 class=\"node-title\"><a href=\"/program/data-science/ioana-fleming\">Ioana Fleming</a></h2>,\n",
       " <h2 class=\"node-title\"><a href=\"/program/data-science/ami-gates\">Ami Gates</a></h2>,\n",
       " <h2 class=\"node-title\"><a href=\"/program/data-science/abel-iyasele-0\">Abel Iyasele</a></h2>,\n",
       " <h2 class=\"node-title\"><a href=\"/program/data-science/geena-kim\">Geena Kim</a></h2>,\n",
       " <h2 class=\"node-title\"><a href=\"/program/data-science/william-kuskin\">William Kuskin</a></h2>,\n",
       " <h2 class=\"node-title\"><a href=\"/program/data-science/qin-christine-lv\">Qin (Christine) Lv</a></h2>,\n",
       " <h2 class=\"node-title\"><a href=\"/program/data-science/quentin-mcandrew\">Quentin McAndrew</a></h2>,\n",
       " <h2 class=\"node-title\"><a href=\"/program/data-science/osita-onyejekwe\">Osita Onyejekwe</a></h2>,\n",
       " <h2 class=\"node-title\"><a href=\"/program/data-science/alan-paradise\">Alan Paradise</a></h2>,\n",
       " <h2 class=\"node-title\"><a href=\"/program/data-science/al-pisano\">Al Pisano</a></h2>,\n",
       " <h2 class=\"node-title\"><a href=\"/program/data-science/sriram-sankaranarayanan\">Sriram Sankaranarayanan</a></h2>,\n",
       " <h2 class=\"node-title\"><a href=\"/program/data-science/chris-vargo\">Chris Vargo</a></h2>,\n",
       " <h2 class=\"node-title\"><a href=\"/program/data-science/di-wu\">Di Wu</a></h2>,\n",
       " <h2 class=\"node-title\"><a href=\"/program/data-science/dave-underwood\">Dave Underwood</a></h2>,\n",
       " <h2 class=\"block-title\"><a href=\"/program/data-science/\">Master of Science in Data Science</a></h2>]"
      ]
     },
     "execution_count": 3,
     "metadata": {},
     "output_type": "execute_result"
    }
   ],
   "source": [
    "links = soup.find_all('h2')\n",
    "links"
   ]
  },
  {
   "cell_type": "markdown",
   "metadata": {
    "cell_id": "289be2c18350420e9835ae6cc7b41947",
    "deepnote_cell_height": 70,
    "deepnote_cell_type": "markdown",
    "id": "H0-leu3SUomR"
   },
   "source": [
    "## Find all \\<h2\\> tags and with class as 'node-title\""
   ]
  },
  {
   "cell_type": "code",
   "execution_count": null,
   "metadata": {
    "cell_id": "b14fae2b84194a6a90c859ea2ad1c49f",
    "collapsed": true,
    "deepnote_cell_type": "code",
    "deepnote_to_be_reexecuted": false,
    "execution_millis": 10,
    "execution_start": 1661570370234,
    "id": "cqt0p-iqUomS",
    "jupyter": {
     "outputs_hidden": true
    },
    "outputId": "3ad043a4-f375-4597-a8b1-45b6209917e3",
    "source_hash": "6d24aaff"
   },
   "outputs": [
    {
     "data": {
      "text/plain": [
       "[<h2 class=\"node-title\"><a href=\"/program/data-science/jane-wall\">Jane Wall</a></h2>,\n",
       " <h2 class=\"node-title\"><a href=\"/program/data-science/bobby-schnabel\">Bobby Schnabel</a></h2>,\n",
       " <h2 class=\"node-title\"><a href=\"/program/data-science/brian-zaharatos\">Brian Zaharatos</a></h2>,\n",
       " <h2 class=\"node-title\"><a href=\"/program/data-science/jem-corcoran\">Jem Corcoran</a></h2>,\n",
       " <h2 class=\"node-title\"><a href=\"/program/data-science/anne-dougherty\">Anne Dougherty</a></h2>,\n",
       " <h2 class=\"node-title\"><a href=\"/program/data-science/ioana-fleming\">Ioana Fleming</a></h2>,\n",
       " <h2 class=\"node-title\"><a href=\"/program/data-science/ami-gates\">Ami Gates</a></h2>,\n",
       " <h2 class=\"node-title\"><a href=\"/program/data-science/abel-iyasele-0\">Abel Iyasele</a></h2>,\n",
       " <h2 class=\"node-title\"><a href=\"/program/data-science/geena-kim\">Geena Kim</a></h2>,\n",
       " <h2 class=\"node-title\"><a href=\"/program/data-science/william-kuskin\">William Kuskin</a></h2>,\n",
       " <h2 class=\"node-title\"><a href=\"/program/data-science/qin-christine-lv\">Qin (Christine) Lv</a></h2>,\n",
       " <h2 class=\"node-title\"><a href=\"/program/data-science/quentin-mcandrew\">Quentin McAndrew</a></h2>,\n",
       " <h2 class=\"node-title\"><a href=\"/program/data-science/osita-onyejekwe\">Osita Onyejekwe</a></h2>,\n",
       " <h2 class=\"node-title\"><a href=\"/program/data-science/alan-paradise\">Alan Paradise</a></h2>,\n",
       " <h2 class=\"node-title\"><a href=\"/program/data-science/al-pisano\">Al Pisano</a></h2>,\n",
       " <h2 class=\"node-title\"><a href=\"/program/data-science/sriram-sankaranarayanan\">Sriram Sankaranarayanan</a></h2>,\n",
       " <h2 class=\"node-title\"><a href=\"/program/data-science/chris-vargo\">Chris Vargo</a></h2>,\n",
       " <h2 class=\"node-title\"><a href=\"/program/data-science/di-wu\">Di Wu</a></h2>,\n",
       " <h2 class=\"node-title\"><a href=\"/program/data-science/dave-underwood\">Dave Underwood</a></h2>]"
      ]
     },
     "execution_count": 4,
     "metadata": {},
     "output_type": "execute_result"
    }
   ],
   "source": [
    "faculty = soup.find_all('h2', {'class':'node-title'})\n",
    "faculty"
   ]
  },
  {
   "cell_type": "markdown",
   "metadata": {
    "cell_id": "351d9ded39f146b7b8021502e262c8de",
    "deepnote_cell_height": 70,
    "deepnote_cell_type": "markdown",
    "id": "NOhDan0gUomS"
   },
   "source": [
    "## Put together: Output List of MSDS faculty"
   ]
  },
  {
   "cell_type": "code",
   "execution_count": null,
   "metadata": {
    "cell_id": "f3987d61d4c0456d922518c4e918a64f",
    "colab": {
     "base_uri": "https://localhost:8080/"
    },
    "deepnote_cell_type": "code",
    "deepnote_to_be_reexecuted": false,
    "execution_millis": 286,
    "execution_start": 1661570370246,
    "id": "NzGSoEYbUomT",
    "outputId": "b336a748-7e24-46a1-aa27-d9c2456e328b",
    "source_hash": "537c65c2"
   },
   "outputs": [
    {
     "name": "stdout",
     "output_type": "stream",
     "text": [
      "1 Jane Wall\n",
      "2 Bobby Schnabel\n",
      "3 Brian Zaharatos\n",
      "4 Jem Corcoran\n",
      "5 Anne Dougherty\n",
      "6 Ioana Fleming\n",
      "7 Ami Gates\n",
      "8 Abel Iyasele\n",
      "9 Geena Kim\n",
      "10 William Kuskin\n",
      "11 Qin (Christine) Lv\n",
      "12 Quentin McAndrew\n",
      "13 Osita Onyejekwe\n",
      "14 Alan Paradise\n",
      "15 Al Pisano\n",
      "16 Sriram Sankaranarayanan\n",
      "17 Chris Vargo\n",
      "18 Di Wu\n",
      "19 Dave Underwood\n"
     ]
    },
    {
     "data": {
      "text/plain": [
       "['Jane Wall',\n",
       " 'Bobby Schnabel',\n",
       " 'Brian Zaharatos',\n",
       " 'Jem Corcoran',\n",
       " 'Anne Dougherty',\n",
       " 'Ioana Fleming',\n",
       " 'Ami Gates',\n",
       " 'Abel Iyasele',\n",
       " 'Geena Kim',\n",
       " 'William Kuskin',\n",
       " 'Qin (Christine) Lv',\n",
       " 'Quentin McAndrew',\n",
       " 'Osita Onyejekwe',\n",
       " 'Alan Paradise',\n",
       " 'Al Pisano',\n",
       " 'Sriram Sankaranarayanan',\n",
       " 'Chris Vargo',\n",
       " 'Di Wu',\n",
       " 'Dave Underwood']"
      ]
     },
     "execution_count": 5,
     "metadata": {},
     "output_type": "execute_result"
    }
   ],
   "source": [
    "import requests\n",
    "from bs4 import BeautifulSoup\n",
    "\n",
    "url = 'https://www.colorado.edu/program/data-science/faculty'\n",
    "r = requests.get(url)\n",
    "content = r.text\n",
    "\n",
    "soup = BeautifulSoup(content, 'html.parser')\n",
    "\n",
    "faculty = soup.find_all('h2', {'class': 'node-title'})\n",
    "\n",
    "names = [n.get_text() for n in faculty]\n",
    "\n",
    "names"
   ]
  },
  {
   "cell_type": "markdown",
   "metadata": {
    "cell_id": "6a27749a204a41349f7c71971b372a4f",
    "deepnote_cell_height": 70,
    "deepnote_cell_type": "markdown",
    "id": "Vm6s7dMcUomT",
    "tags": []
   },
   "source": [
    "## Save the data to CSV"
   ]
  },
  {
   "cell_type": "code",
   "execution_count": null,
   "metadata": {
    "cell_id": "18875dd20f5d4988879cabdaf73ab789",
    "colab": {
     "base_uri": "https://localhost:8080/",
     "height": 638
    },
    "deepnote_cell_type": "code",
    "deepnote_to_be_reexecuted": false,
    "execution_millis": 10,
    "execution_start": 1661570370540,
    "id": "ppKMOt4WUomU",
    "outputId": "14520bd8-f853-4c82-f038-a99892380a94",
    "source_hash": "e799aedd",
    "tags": []
   },
   "outputs": [
    {
     "data": {
      "application/vnd.deepnote.dataframe.v3+json": {
       "column_count": 1,
       "columns": [
        {
         "dtype": "object",
         "name": "Names",
         "stats": {
          "categories": [
           {
            "count": 1,
            "name": "Jane Wall"
           },
           {
            "count": 1,
            "name": "Bobby Schnabel"
           },
           {
            "count": 17,
            "name": "17 others"
           }
          ],
          "nan_count": 0,
          "unique_count": 19
         }
        },
        {
         "dtype": "int64",
         "name": "_deepnote_index_column"
        }
       ],
       "row_count": 19,
       "rows": [
        {
         "Names": "Jane Wall",
         "_deepnote_index_column": 0
        },
        {
         "Names": "Bobby Schnabel",
         "_deepnote_index_column": 1
        },
        {
         "Names": "Brian Zaharatos",
         "_deepnote_index_column": 2
        },
        {
         "Names": "Jem Corcoran",
         "_deepnote_index_column": 3
        },
        {
         "Names": "Anne Dougherty",
         "_deepnote_index_column": 4
        },
        {
         "Names": "Ioana Fleming",
         "_deepnote_index_column": 5
        },
        {
         "Names": "Ami Gates",
         "_deepnote_index_column": 6
        },
        {
         "Names": "Abel Iyasele",
         "_deepnote_index_column": 7
        },
        {
         "Names": "Geena Kim",
         "_deepnote_index_column": 8
        },
        {
         "Names": "William Kuskin",
         "_deepnote_index_column": 9
        }
       ]
      },
      "text/html": [
       "<div>\n",
       "<style scoped>\n",
       "    .dataframe tbody tr th:only-of-type {\n",
       "        vertical-align: middle;\n",
       "    }\n",
       "\n",
       "    .dataframe tbody tr th {\n",
       "        vertical-align: top;\n",
       "    }\n",
       "\n",
       "    .dataframe thead th {\n",
       "        text-align: right;\n",
       "    }\n",
       "</style>\n",
       "<table border=\"1\" class=\"dataframe\">\n",
       "  <thead>\n",
       "    <tr style=\"text-align: right;\">\n",
       "      <th></th>\n",
       "      <th>Names</th>\n",
       "    </tr>\n",
       "  </thead>\n",
       "  <tbody>\n",
       "    <tr>\n",
       "      <th>0</th>\n",
       "      <td>Jane Wall</td>\n",
       "    </tr>\n",
       "    <tr>\n",
       "      <th>1</th>\n",
       "      <td>Bobby Schnabel</td>\n",
       "    </tr>\n",
       "    <tr>\n",
       "      <th>2</th>\n",
       "      <td>Brian Zaharatos</td>\n",
       "    </tr>\n",
       "    <tr>\n",
       "      <th>3</th>\n",
       "      <td>Jem Corcoran</td>\n",
       "    </tr>\n",
       "    <tr>\n",
       "      <th>4</th>\n",
       "      <td>Anne Dougherty</td>\n",
       "    </tr>\n",
       "    <tr>\n",
       "      <th>5</th>\n",
       "      <td>Ioana Fleming</td>\n",
       "    </tr>\n",
       "    <tr>\n",
       "      <th>6</th>\n",
       "      <td>Ami Gates</td>\n",
       "    </tr>\n",
       "    <tr>\n",
       "      <th>7</th>\n",
       "      <td>Abel Iyasele</td>\n",
       "    </tr>\n",
       "    <tr>\n",
       "      <th>8</th>\n",
       "      <td>Geena Kim</td>\n",
       "    </tr>\n",
       "    <tr>\n",
       "      <th>9</th>\n",
       "      <td>William Kuskin</td>\n",
       "    </tr>\n",
       "    <tr>\n",
       "      <th>10</th>\n",
       "      <td>Qin (Christine) Lv</td>\n",
       "    </tr>\n",
       "    <tr>\n",
       "      <th>11</th>\n",
       "      <td>Quentin McAndrew</td>\n",
       "    </tr>\n",
       "    <tr>\n",
       "      <th>12</th>\n",
       "      <td>Osita Onyejekwe</td>\n",
       "    </tr>\n",
       "    <tr>\n",
       "      <th>13</th>\n",
       "      <td>Alan Paradise</td>\n",
       "    </tr>\n",
       "    <tr>\n",
       "      <th>14</th>\n",
       "      <td>Al Pisano</td>\n",
       "    </tr>\n",
       "    <tr>\n",
       "      <th>15</th>\n",
       "      <td>Sriram Sankaranarayanan</td>\n",
       "    </tr>\n",
       "    <tr>\n",
       "      <th>16</th>\n",
       "      <td>Chris Vargo</td>\n",
       "    </tr>\n",
       "    <tr>\n",
       "      <th>17</th>\n",
       "      <td>Di Wu</td>\n",
       "    </tr>\n",
       "    <tr>\n",
       "      <th>18</th>\n",
       "      <td>Dave Underwood</td>\n",
       "    </tr>\n",
       "  </tbody>\n",
       "</table>\n",
       "</div>"
      ],
      "text/plain": [
       "                      Names\n",
       "0                 Jane Wall\n",
       "1            Bobby Schnabel\n",
       "2           Brian Zaharatos\n",
       "3              Jem Corcoran\n",
       "4            Anne Dougherty\n",
       "5             Ioana Fleming\n",
       "6                 Ami Gates\n",
       "7              Abel Iyasele\n",
       "8                 Geena Kim\n",
       "9            William Kuskin\n",
       "10       Qin (Christine) Lv\n",
       "11         Quentin McAndrew\n",
       "12          Osita Onyejekwe\n",
       "13            Alan Paradise\n",
       "14                Al Pisano\n",
       "15  Sriram Sankaranarayanan\n",
       "16              Chris Vargo\n",
       "17                    Di Wu\n",
       "18           Dave Underwood"
      ]
     },
     "execution_count": 6,
     "metadata": {},
     "output_type": "execute_result"
    }
   ],
   "source": [
    "import pandas as pd\n",
    "df = pd.DataFrame({'Names': names})\n",
    "df"
   ]
  },
  {
   "cell_type": "code",
   "execution_count": null,
   "metadata": {
    "cell_id": "06e3505d32ab4cb69ce1b6c35802ef59",
    "deepnote_cell_type": "code",
    "deepnote_to_be_reexecuted": false,
    "execution_millis": 2,
    "execution_start": 1661570400294,
    "id": "rYMB0Bk8UomU",
    "source_hash": "1c0435fe",
    "tags": []
   },
   "outputs": [],
   "source": [
    "df.to_csv('data/MSDS_Faculty.csv')"
   ]
  },
  {
   "cell_type": "markdown",
   "metadata": {
    "cell_id": "1bebe34386264a06ab38492f9649e772",
    "deepnote_cell_height": 82,
    "deepnote_cell_type": "markdown",
    "id": "IKrammAxlCyJ"
   },
   "source": [
    "# Congratulations!"
   ]
  },
  {
   "cell_type": "markdown",
   "metadata": {
    "cell_id": "e18f8daef7724d7faa10f2c096a1080c",
    "deepnote_cell_height": 52,
    "deepnote_cell_type": "markdown",
    "id": "YvYogbtWqDLA"
   },
   "source": [
    "Credit: https://www.dataquest.io/blog/web-scraping-python-using-beautiful-soup/"
   ]
  },
  {
   "cell_type": "markdown",
   "metadata": {
    "created_in_deepnote_cell": true,
    "deepnote_cell_type": "markdown",
    "tags": []
   },
   "source": [
    "<a style='text-decoration:none;line-height:16px;display:flex;color:#5B5B62;padding:10px;justify-content:end;' href='https://deepnote.com?utm_source=created-in-deepnote-cell&projectId=cb1e4beb-a6b7-4729-a87b-ec0538f72c5d' target=\"_blank\">\n",
    "<img alt='Created in deepnote.com' style='display:inline;max-height:16px;margin:0px;margin-right:7.5px;' src='data:image/svg+xml;base64,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' > </img>\n",
    "Created in <span style='font-weight:600;margin-left:4px;'>Deepnote</span></a>"
   ]
  }
 ],
 "metadata": {
  "colab": {
   "collapsed_sections": [
    "wo4tghajbENe",
    "mVVisVXhb6n6",
    "1-ATm2QOejjS",
    "fPMMZ6bYgaK9",
    "hLFpL7IMjwl7",
    "bxCv09NukUSm",
    "OC3St8YOk1kg"
   ],
   "name": "CollectDataFromWeb-2.ipynb",
   "provenance": [],
   "toc_visible": true
  },
  "deepnote": {},
  "deepnote_execution_queue": [],
  "deepnote_notebook_id": "63a97c27d1734e19a7e89a23326f5dc1",
  "kernelspec": {
   "display_name": "Python 3 (ipykernel)",
   "language": "python",
   "name": "python3"
  },
  "language_info": {
   "codemirror_mode": {
    "name": "ipython",
    "version": 3
   },
   "file_extension": ".py",
   "mimetype": "text/x-python",
   "name": "python",
   "nbconvert_exporter": "python",
   "pygments_lexer": "ipython3",
   "version": "3.8.16"
  }
 },
 "nbformat": 4,
 "nbformat_minor": 4
}
