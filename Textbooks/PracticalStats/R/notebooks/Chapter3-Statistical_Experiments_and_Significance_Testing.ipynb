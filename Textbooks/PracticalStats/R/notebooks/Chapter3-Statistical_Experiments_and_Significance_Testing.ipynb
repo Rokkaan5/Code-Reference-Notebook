{
 "cells": [
  {
   "cell_type": "raw",
   "metadata": {},
   "source": [
    "---\n",
    "title: \"Chapter 3 - Statistial Experiments and Significance Testing\"\n",
    "format:\n",
    "    html:\n",
    "        code-fold: false\n",
    "execute:\n",
    "    output: true\n",
    "toc: true\n",
    "---"
   ]
  },
  {
   "cell_type": "markdown",
   "metadata": {},
   "source": [
    "# Practical Statistics for Data Scientists (R)\n",
    "\n",
    "> (c) 2019 Peter C. Bruce, Andrew Bruce, Peter Gedeck"
   ]
  },
  {
   "cell_type": "markdown",
   "metadata": {},
   "source": [
    "Import required R packages."
   ]
  },
  {
   "cell_type": "code",
   "execution_count": 1,
   "metadata": {
    "execution": {
     "iopub.execute_input": "2022-04-26T20:06:04.064578Z",
     "iopub.status.busy": "2022-04-26T20:06:04.062029Z",
     "iopub.status.idle": "2022-04-26T20:06:04.088759Z",
     "shell.execute_reply": "2022-04-26T20:06:04.086943Z"
    },
    "vscode": {
     "languageId": "r"
    }
   },
   "outputs": [],
   "source": [
    "# lmPerm is available from CRAN\n",
    "# conda install r-devtools\n",
    "# devtools::install_github('mtorchiano/lmPerm')"
   ]
  },
  {
   "cell_type": "code",
   "execution_count": 2,
   "metadata": {
    "execution": {
     "iopub.execute_input": "2022-04-26T20:06:04.122403Z",
     "iopub.status.busy": "2022-04-26T20:06:04.092145Z",
     "iopub.status.idle": "2022-04-26T20:06:04.444302Z",
     "shell.execute_reply": "2022-04-26T20:06:04.442833Z"
    },
    "vscode": {
     "languageId": "r"
    }
   },
   "outputs": [
    {
     "name": "stderr",
     "output_type": "stream",
     "text": [
      "Warning message:\n",
      "“package ‘dplyr’ was built under R version 4.1.2”\n"
     ]
    },
    {
     "name": "stderr",
     "output_type": "stream",
     "text": [
      "\n",
      "Attaching package: ‘dplyr’\n",
      "\n",
      "\n"
     ]
    },
    {
     "name": "stderr",
     "output_type": "stream",
     "text": [
      "The following objects are masked from ‘package:stats’:\n",
      "\n",
      "    filter, lag\n",
      "\n",
      "\n"
     ]
    },
    {
     "name": "stderr",
     "output_type": "stream",
     "text": [
      "The following objects are masked from ‘package:base’:\n",
      "\n",
      "    intersect, setdiff, setequal, union\n",
      "\n",
      "\n"
     ]
    }
   ],
   "source": [
    "library(ggplot2)\n",
    "library(dplyr)\n",
    "library(lmPerm)\n",
    "library(pwr)"
   ]
  },
  {
   "cell_type": "markdown",
   "metadata": {},
   "source": [
    "Define paths to data sets. If you don't keep your data in the same directory as the code, adapt the path names."
   ]
  },
  {
   "cell_type": "code",
   "execution_count": 3,
   "metadata": {
    "execution": {
     "iopub.execute_input": "2022-04-26T20:06:04.448609Z",
     "iopub.status.busy": "2022-04-26T20:06:04.447518Z",
     "iopub.status.idle": "2022-04-26T20:06:04.482037Z",
     "shell.execute_reply": "2022-04-26T20:06:04.479619Z"
    },
    "vscode": {
     "languageId": "r"
    }
   },
   "outputs": [],
   "source": [
    "PSDS_PATH <- file.path(dirname(dirname(getwd())))\n",
    "\n",
    "\n",
    "session_times <- read.csv(file.path(PSDS_PATH, 'data', 'web_page_data.csv'))\n",
    "session_times[,2] <- session_times[,2] * 100\n",
    "four_sessions  <- read.csv(file.path(PSDS_PATH, 'data', 'four_sessions.csv'))\n",
    "click_rate <-  read.csv(file.path(PSDS_PATH, 'data', 'click_rates.csv'))\n",
    "imanishi <-  read.csv(file.path(PSDS_PATH, 'data', 'imanishi_data.csv'))"
   ]
  },
  {
   "cell_type": "markdown",
   "metadata": {},
   "source": [
    "# Resampling\n",
    "## Example: Web Stickiness"
   ]
  },
  {
   "cell_type": "code",
   "execution_count": 4,
   "metadata": {
    "execution": {
     "iopub.execute_input": "2022-04-26T20:06:04.486807Z",
     "iopub.status.busy": "2022-04-26T20:06:04.485110Z",
     "iopub.status.idle": "2022-04-26T20:06:04.725431Z",
     "shell.execute_reply": "2022-04-26T20:06:04.722677Z"
    },
    "scrolled": false,
    "vscode": {
     "languageId": "r"
    }
   },
   "outputs": [
    {
     "data": {
      "image/png": "[encoded data removed]",
      "text/plain": [
       "plot without title"
      ]
     },
     "metadata": {
      "image/png": {
       "height": 420,
       "width": 420
      }
     },
     "output_type": "display_data"
    }
   ],
   "source": [
    "graph <- ggplot(session_times, aes(x=Page, y=Time)) + \n",
    "  geom_boxplot() +\n",
    "  labs(y='Time (in seconds)') + \n",
    "  theme_bw()\n",
    "graph"
   ]
  },
  {
   "cell_type": "code",
   "execution_count": 5,
   "metadata": {
    "execution": {
     "iopub.execute_input": "2022-04-26T20:06:04.730041Z",
     "iopub.status.busy": "2022-04-26T20:06:04.728837Z",
     "iopub.status.idle": "2022-04-26T20:06:04.748111Z",
     "shell.execute_reply": "2022-04-26T20:06:04.746789Z"
    },
    "vscode": {
     "languageId": "r"
    }
   },
   "outputs": [
    {
     "data": {
      "text/html": [
       "35.6666666666667"
      ],
      "text/latex": [
       "35.6666666666667"
      ],
      "text/markdown": [
       "35.6666666666667"
      ],
      "text/plain": [
       "[1] 35.66667"
      ]
     },
     "metadata": {},
     "output_type": "display_data"
    }
   ],
   "source": [
    "mean_a <- mean(session_times[session_times['Page'] == 'Page A', 'Time'])\n",
    "mean_b <- mean(session_times[session_times['Page'] == 'Page B', 'Time'])\n",
    "mean_b - mean_a"
   ]
  },
  {
   "cell_type": "code",
   "execution_count": 6,
   "metadata": {
    "execution": {
     "iopub.execute_input": "2022-04-26T20:06:04.752347Z",
     "iopub.status.busy": "2022-04-26T20:06:04.751256Z",
     "iopub.status.idle": "2022-04-26T20:06:04.761322Z",
     "shell.execute_reply": "2022-04-26T20:06:04.759527Z"
    },
    "vscode": {
     "languageId": "r"
    }
   },
   "outputs": [],
   "source": [
    "## Permutation test example with stickiness\n",
    "perm_fun <- function(x, nA, nB)\n",
    "{\n",
    "  n <- nA + nB\n",
    "  idx_b <- sample(1:n, nB)\n",
    "  idx_a <- setdiff(1:n, idx_b)\n",
    "  mean_diff <- mean(x[idx_b]) - mean(x[idx_a])\n",
    "  return(mean_diff)\n",
    "}"
   ]
  },
  {
   "cell_type": "code",
   "execution_count": 7,
   "metadata": {
    "execution": {
     "iopub.execute_input": "2022-04-26T20:06:04.768118Z",
     "iopub.status.busy": "2022-04-26T20:06:04.766468Z",
     "iopub.status.idle": "2022-04-26T20:06:04.882911Z",
     "shell.execute_reply": "2022-04-26T20:06:04.881629Z"
    },
    "vscode": {
     "languageId": "r"
    }
   },
   "outputs": [
    {
     "data": {
      "image/png": "[encoded data removed]",
      "text/plain": [
       "Plot with title “”"
      ]
     },
     "metadata": {
      "image/png": {
       "height": 420,
       "width": 420
      }
     },
     "output_type": "display_data"
    }
   ],
   "source": [
    "set.seed(1)\n",
    "perm_diffs <- rep(0, 1000)\n",
    "for (i in 1:1000) {\n",
    "  perm_diffs[i] = perm_fun(session_times[, 'Time'], 21, 15)\n",
    "}\n",
    "par(mar=c(4,4,1,0)+.1)\n",
    "hist(perm_diffs, xlab='Session time differences (in seconds)', main='')\n",
    "abline(v=mean_b - mean_a, lty=2, lwd=1.5)\n",
    "text('  Observed\\n  difference', x=mean_b - mean_a,  y=par()$usr[4]-20, adj=0)"
   ]
  },
  {
   "cell_type": "code",
   "execution_count": 8,
   "metadata": {
    "execution": {
     "iopub.execute_input": "2022-04-26T20:06:04.887006Z",
     "iopub.status.busy": "2022-04-26T20:06:04.885902Z",
     "iopub.status.idle": "2022-04-26T20:06:04.897203Z",
     "shell.execute_reply": "2022-04-26T20:06:04.895875Z"
    },
    "vscode": {
     "languageId": "r"
    }
   },
   "outputs": [
    {
     "data": {
      "text/html": [
       "0.141"
      ],
      "text/latex": [
       "0.141"
      ],
      "text/markdown": [
       "0.141"
      ],
      "text/plain": [
       "[1] 0.141"
      ]
     },
     "metadata": {},
     "output_type": "display_data"
    }
   ],
   "source": [
    "mean(perm_diffs > (mean_b - mean_a))"
   ]
  },
  {
   "cell_type": "markdown",
   "metadata": {},
   "source": [
    "# Statistical Significance and P-Values"
   ]
  },
  {
   "cell_type": "code",
   "execution_count": 9,
   "metadata": {
    "execution": {
     "iopub.execute_input": "2022-04-26T20:06:04.901489Z",
     "iopub.status.busy": "2022-04-26T20:06:04.900397Z",
     "iopub.status.idle": "2022-04-26T20:06:13.059009Z",
     "shell.execute_reply": "2022-04-26T20:06:13.057719Z"
    },
    "vscode": {
     "languageId": "r"
    }
   },
   "outputs": [
    {
     "data": {
      "image/png": "[encoded data removed]",
      "text/plain": [
       "Plot with title “”"
      ]
     },
     "metadata": {
      "image/png": {
       "height": 420,
       "width": 420
      }
     },
     "output_type": "display_data"
    }
   ],
   "source": [
    "obs_pct_diff <- 100 * (200 / 23739 - 182 / 22588)\n",
    "conversion <- c(rep(0, 45945), rep(1, 382))\n",
    "perm_diffs <- rep(0, 1000)\n",
    "for (i in 1:1000) {\n",
    "  perm_diffs[i] = 100 * perm_fun(conversion, 23739, 22588)\n",
    "}\n",
    "\n",
    "hist(perm_diffs, xlab='Conversion rate (percent)', main='')\n",
    "abline(v=obs_pct_diff, lty=2, lwd=1.5)\n",
    "text('   Observed\\n   difference', x=obs_pct_diff,  y=par()$usr[4]-20, adj=0)"
   ]
  },
  {
   "cell_type": "code",
   "execution_count": 10,
   "metadata": {
    "execution": {
     "iopub.execute_input": "2022-04-26T20:06:13.062771Z",
     "iopub.status.busy": "2022-04-26T20:06:13.061764Z",
     "iopub.status.idle": "2022-04-26T20:06:13.072903Z",
     "shell.execute_reply": "2022-04-26T20:06:13.071695Z"
    },
    "vscode": {
     "languageId": "r"
    }
   },
   "outputs": [
    {
     "data": {
      "text/html": [
       "0.0367579118205928"
      ],
      "text/latex": [
       "0.0367579118205928"
      ],
      "text/markdown": [
       "0.0367579118205928"
      ],
      "text/plain": [
       "[1] 0.03675791"
      ]
     },
     "metadata": {},
     "output_type": "display_data"
    }
   ],
   "source": [
    "# Obbserved difference\n",
    "obs_pct_diff"
   ]
  },
  {
   "cell_type": "markdown",
   "metadata": {},
   "source": [
    "## P-Value"
   ]
  },
  {
   "cell_type": "code",
   "execution_count": 11,
   "metadata": {
    "execution": {
     "iopub.execute_input": "2022-04-26T20:06:13.076811Z",
     "iopub.status.busy": "2022-04-26T20:06:13.075830Z",
     "iopub.status.idle": "2022-04-26T20:06:13.086258Z",
     "shell.execute_reply": "2022-04-26T20:06:13.084986Z"
    },
    "vscode": {
     "languageId": "r"
    }
   },
   "outputs": [
    {
     "data": {
      "text/html": [
       "0.34"
      ],
      "text/latex": [
       "0.34"
      ],
      "text/markdown": [
       "0.34"
      ],
      "text/plain": [
       "[1] 0.34"
      ]
     },
     "metadata": {},
     "output_type": "display_data"
    }
   ],
   "source": [
    "mean(perm_diffs > obs_pct_diff)"
   ]
  },
  {
   "cell_type": "code",
   "execution_count": 12,
   "metadata": {
    "execution": {
     "iopub.execute_input": "2022-04-26T20:06:13.090430Z",
     "iopub.status.busy": "2022-04-26T20:06:13.089361Z",
     "iopub.status.idle": "2022-04-26T20:06:13.101838Z",
     "shell.execute_reply": "2022-04-26T20:06:13.100608Z"
    },
    "vscode": {
     "languageId": "r"
    }
   },
   "outputs": [
    {
     "data": {
      "text/plain": [
       "\n",
       "\t2-sample test for equality of proportions with continuity correction\n",
       "\n",
       "data:  c(200, 182) out of c(23739, 22588)\n",
       "X-squared = 0.14893, df = 1, p-value = 0.3498\n",
       "alternative hypothesis: greater\n",
       "95 percent confidence interval:\n",
       " -0.001057439  1.000000000\n",
       "sample estimates:\n",
       "     prop 1      prop 2 \n",
       "0.008424955 0.008057376 \n"
      ]
     },
     "metadata": {},
     "output_type": "display_data"
    }
   ],
   "source": [
    "prop.test(x=c(200,182), n=c(23739,22588), alternative='greater')"
   ]
  },
  {
   "cell_type": "markdown",
   "metadata": {},
   "source": [
    "# t-Tests"
   ]
  },
  {
   "cell_type": "code",
   "execution_count": 13,
   "metadata": {
    "execution": {
     "iopub.execute_input": "2022-04-26T20:06:13.106103Z",
     "iopub.status.busy": "2022-04-26T20:06:13.104942Z",
     "iopub.status.idle": "2022-04-26T20:06:13.121956Z",
     "shell.execute_reply": "2022-04-26T20:06:13.120595Z"
    },
    "vscode": {
     "languageId": "r"
    }
   },
   "outputs": [
    {
     "data": {
      "text/plain": [
       "\n",
       "\tWelch Two Sample t-test\n",
       "\n",
       "data:  Time by Page\n",
       "t = -1.0983, df = 27.693, p-value = 0.1408\n",
       "alternative hypothesis: true difference in means between group Page A and group Page B is less than 0\n",
       "95 percent confidence interval:\n",
       "     -Inf 19.59674\n",
       "sample estimates:\n",
       "mean in group Page A mean in group Page B \n",
       "            126.3333             162.0000 \n"
      ]
     },
     "metadata": {},
     "output_type": "display_data"
    }
   ],
   "source": [
    "t.test(Time ~ Page, data=session_times, alternative='less')"
   ]
  },
  {
   "cell_type": "markdown",
   "metadata": {},
   "source": [
    "# ANOVA"
   ]
  },
  {
   "cell_type": "code",
   "execution_count": 14,
   "metadata": {
    "execution": {
     "iopub.execute_input": "2022-04-26T20:06:13.126242Z",
     "iopub.status.busy": "2022-04-26T20:06:13.125112Z",
     "iopub.status.idle": "2022-04-26T20:06:13.293064Z",
     "shell.execute_reply": "2022-04-26T20:06:13.291782Z"
    },
    "vscode": {
     "languageId": "r"
    }
   },
   "outputs": [
    {
     "data": {
      "image/png": "[encoded data removed]",
      "text/plain": [
       "plot without title"
      ]
     },
     "metadata": {
      "image/png": {
       "height": 420,
       "width": 420
      }
     },
     "output_type": "display_data"
    }
   ],
   "source": [
    "graph <- ggplot(four_sessions, aes(x=Page, y=Time)) + \n",
    "  geom_boxplot() +\n",
    "  labs(y='Time (in seconds)') +\n",
    "  theme_bw()\n",
    "graph"
   ]
  },
  {
   "cell_type": "code",
   "execution_count": 15,
   "metadata": {
    "execution": {
     "iopub.execute_input": "2022-04-26T20:06:13.297265Z",
     "iopub.status.busy": "2022-04-26T20:06:13.296194Z",
     "iopub.status.idle": "2022-04-26T20:06:13.325311Z",
     "shell.execute_reply": "2022-04-26T20:06:13.323988Z"
    },
    "vscode": {
     "languageId": "r"
    }
   },
   "outputs": [
    {
     "name": "stdout",
     "output_type": "stream",
     "text": [
      "[1] \"Settings:  unique SS \"\n"
     ]
    },
    {
     "data": {
      "text/plain": [
       "Component 1 :\n",
       "            Df R Sum Sq R Mean Sq Iter Pr(Prob)  \n",
       "Page1        3    831.4    277.13 5000   0.0772 .\n",
       "Residuals   16   1618.4    101.15                \n",
       "---\n",
       "Signif. codes:  0 ‘***’ 0.001 ‘**’ 0.01 ‘*’ 0.05 ‘.’ 0.1 ‘ ’ 1\n"
      ]
     },
     "metadata": {},
     "output_type": "display_data"
    }
   ],
   "source": [
    "library(lmPerm)\n",
    "summary(aovp(Time ~ Page, data=four_sessions))"
   ]
  },
  {
   "cell_type": "markdown",
   "metadata": {},
   "source": [
    "## F-Statistic"
   ]
  },
  {
   "cell_type": "code",
   "execution_count": 16,
   "metadata": {
    "execution": {
     "iopub.execute_input": "2022-04-26T20:06:13.329676Z",
     "iopub.status.busy": "2022-04-26T20:06:13.328584Z",
     "iopub.status.idle": "2022-04-26T20:06:13.343722Z",
     "shell.execute_reply": "2022-04-26T20:06:13.342424Z"
    },
    "vscode": {
     "languageId": "r"
    }
   },
   "outputs": [
    {
     "data": {
      "text/plain": [
       "            Df Sum Sq Mean Sq F value Pr(>F)  \n",
       "Page         3  831.4   277.1    2.74 0.0776 .\n",
       "Residuals   16 1618.4   101.2                 \n",
       "---\n",
       "Signif. codes:  0 ‘***’ 0.001 ‘**’ 0.01 ‘*’ 0.05 ‘.’ 0.1 ‘ ’ 1"
      ]
     },
     "metadata": {},
     "output_type": "display_data"
    }
   ],
   "source": [
    "summary(aov(Time ~ Page, data=four_sessions))"
   ]
  },
  {
   "cell_type": "markdown",
   "metadata": {},
   "source": [
    "# Chi-Square Test\n",
    "## Chi-Square Test: A Resampling Approach"
   ]
  },
  {
   "cell_type": "code",
   "execution_count": 17,
   "metadata": {
    "execution": {
     "iopub.execute_input": "2022-04-26T20:06:13.348049Z",
     "iopub.status.busy": "2022-04-26T20:06:13.346996Z",
     "iopub.status.idle": "2022-04-26T20:06:13.362610Z",
     "shell.execute_reply": "2022-04-26T20:06:13.361315Z"
    },
    "vscode": {
     "languageId": "r"
    }
   },
   "outputs": [
    {
     "data": {
      "text/plain": [
       "\n",
       "\tPearson's Chi-squared test with simulated p-value (based on 2000\n",
       "\treplicates)\n",
       "\n",
       "data:  clicks\n",
       "X-squared = 1.6659, df = NA, p-value = 0.4793\n"
      ]
     },
     "metadata": {},
     "output_type": "display_data"
    }
   ],
   "source": [
    "clicks <- matrix(click_rate$Rate, nrow=3, ncol=2, byrow=TRUE)\n",
    "dimnames(clicks) <- list(unique(click_rate$Headline), unique(click_rate$Click))\n",
    "\n",
    "chisq.test(clicks, simulate.p.value=TRUE)"
   ]
  },
  {
   "cell_type": "code",
   "execution_count": 18,
   "metadata": {
    "execution": {
     "iopub.execute_input": "2022-04-26T20:06:13.367027Z",
     "iopub.status.busy": "2022-04-26T20:06:13.365842Z",
     "iopub.status.idle": "2022-04-26T20:06:13.381573Z",
     "shell.execute_reply": "2022-04-26T20:06:13.380269Z"
    },
    "vscode": {
     "languageId": "r"
    }
   },
   "outputs": [
    {
     "data": {
      "text/plain": [
       "\n",
       "\tPearson's Chi-squared test\n",
       "\n",
       "data:  clicks\n",
       "X-squared = 1.6659, df = 2, p-value = 0.4348\n"
      ]
     },
     "metadata": {},
     "output_type": "display_data"
    }
   ],
   "source": [
    "chisq.test(clicks, simulate.p.value=FALSE)"
   ]
  },
  {
   "cell_type": "markdown",
   "metadata": {},
   "source": [
    "## Figure chi-sq distribution"
   ]
  },
  {
   "cell_type": "code",
   "execution_count": 19,
   "metadata": {
    "execution": {
     "iopub.execute_input": "2022-04-26T20:06:13.385996Z",
     "iopub.status.busy": "2022-04-26T20:06:13.384883Z",
     "iopub.status.idle": "2022-04-26T20:06:13.631280Z",
     "shell.execute_reply": "2022-04-26T20:06:13.629935Z"
    },
    "vscode": {
     "languageId": "r"
    }
   },
   "outputs": [
    {
     "data": {
      "image/png": "[encoded data removed]",
      "text/plain": [
       "plot without title"
      ]
     },
     "metadata": {
      "image/png": {
       "height": 420,
       "width": 420
      }
     },
     "output_type": "display_data"
    }
   ],
   "source": [
    "x <- seq(1, 30, length=100)\n",
    "chi <- data.frame(df = factor(rep(c(1, 2, 5, 20), rep(100, 4))),\n",
    "                  x = rep(x, 4),\n",
    "                  p = c(dchisq(x, 1), dchisq(x, 2), dchisq(x, 5), dchisq(x, 20)))\n",
    "\n",
    "graph <- ggplot(chi, aes(x=x, y=p)) +\n",
    "  geom_line(aes(linetype=df)) +\n",
    "  geom_text(aes(x=25, y=0.06, label='df=20'), size=2.5) +\n",
    "  geom_text(aes(x=8, y=0.1, label='df=5'), size=2.5) +\n",
    "  geom_text(aes(x=4, y=0.2, label='df=2'), size=2.5) +\n",
    "  geom_text(aes(x=1.5, y=0.05, label='df=1'), size=2.5) +\n",
    "  theme_bw() + theme(legend.position = \"none\") +\n",
    "  labs(x='Value of chi-square statistic', y='Probability')\n",
    "graph"
   ]
  },
  {
   "cell_type": "markdown",
   "metadata": {},
   "source": [
    "## Fisher's Exact Test"
   ]
  },
  {
   "cell_type": "code",
   "execution_count": 20,
   "metadata": {
    "execution": {
     "iopub.execute_input": "2022-04-26T20:06:13.635440Z",
     "iopub.status.busy": "2022-04-26T20:06:13.634373Z",
     "iopub.status.idle": "2022-04-26T20:06:13.646220Z",
     "shell.execute_reply": "2022-04-26T20:06:13.644941Z"
    },
    "vscode": {
     "languageId": "r"
    }
   },
   "outputs": [
    {
     "data": {
      "text/plain": [
       "\n",
       "\tFisher's Exact Test for Count Data\n",
       "\n",
       "data:  clicks\n",
       "p-value = 0.4824\n",
       "alternative hypothesis: two.sided\n"
      ]
     },
     "metadata": {},
     "output_type": "display_data"
    }
   ],
   "source": [
    "fisher.test(clicks)"
   ]
  },
  {
   "cell_type": "markdown",
   "metadata": {},
   "source": [
    "### Scientific Fraud"
   ]
  },
  {
   "cell_type": "code",
   "execution_count": 21,
   "metadata": {
    "execution": {
     "iopub.execute_input": "2022-04-26T20:06:13.650347Z",
     "iopub.status.busy": "2022-04-26T20:06:13.649250Z",
     "iopub.status.idle": "2022-04-26T20:06:13.809090Z",
     "shell.execute_reply": "2022-04-26T20:06:13.807828Z"
    },
    "vscode": {
     "languageId": "r"
    }
   },
   "outputs": [
    {
     "data": {
      "image/png": "[encoded data removed]",
      "text/plain": [
       "plot without title"
      ]
     },
     "metadata": {
      "image/png": {
       "height": 420,
       "width": 420
      }
     },
     "output_type": "display_data"
    }
   ],
   "source": [
    "## Code for Figure 8\n",
    "imanishi$Digit <- factor(imanishi$Digit)\n",
    "\n",
    "graph <- ggplot(imanishi, aes(x=Digit, y=Frequency)) +\n",
    "  geom_bar(stat='identity') +\n",
    "  theme_bw()\n",
    "graph"
   ]
  },
  {
   "cell_type": "markdown",
   "metadata": {},
   "source": [
    "# Power and Sample Size\n",
    "## Sample Size"
   ]
  },
  {
   "cell_type": "code",
   "execution_count": 22,
   "metadata": {
    "execution": {
     "iopub.execute_input": "2022-04-26T20:06:13.813232Z",
     "iopub.status.busy": "2022-04-26T20:06:13.812119Z",
     "iopub.status.idle": "2022-04-26T20:06:13.829650Z",
     "shell.execute_reply": "2022-04-26T20:06:13.827923Z"
    },
    "vscode": {
     "languageId": "r"
    }
   },
   "outputs": [
    {
     "data": {
      "text/plain": [
       "\n",
       "     Difference of proportion power calculation for binomial distribution (arcsine transformation) \n",
       "\n",
       "              h = 0.01029785\n",
       "              n = 116601.7\n",
       "      sig.level = 0.05\n",
       "          power = 0.8\n",
       "    alternative = greater\n",
       "\n",
       "NOTE: same sample sizes\n"
      ]
     },
     "metadata": {},
     "output_type": "display_data"
    }
   ],
   "source": [
    "effect_size = ES.h(p1=0.0121, p2=0.011)\n",
    "pwr.2p.test(h=effect_size, sig.level=0.05, power=0.8, alternative='greater')"
   ]
  },
  {
   "cell_type": "code",
   "execution_count": 23,
   "metadata": {
    "execution": {
     "iopub.execute_input": "2022-04-26T20:06:13.854493Z",
     "iopub.status.busy": "2022-04-26T20:06:13.852910Z",
     "iopub.status.idle": "2022-04-26T20:06:13.868417Z",
     "shell.execute_reply": "2022-04-26T20:06:13.867141Z"
    },
    "vscode": {
     "languageId": "r"
    }
   },
   "outputs": [
    {
     "data": {
      "text/plain": [
       "\n",
       "     Difference of proportion power calculation for binomial distribution (arcsine transformation) \n",
       "\n",
       "              h = 0.04746819\n",
       "              n = 5487.731\n",
       "      sig.level = 0.05\n",
       "          power = 0.8\n",
       "    alternative = greater\n",
       "\n",
       "NOTE: same sample sizes\n"
      ]
     },
     "metadata": {},
     "output_type": "display_data"
    }
   ],
   "source": [
    "effect_size = ES.h(p1=0.0165, p2=0.011)\n",
    "pwr.2p.test(h=effect_size, sig.level=0.05, power=0.8, alternative='greater')"
   ]
  }
 ],
 "metadata": {
  "kernelspec": {
   "display_name": "R",
   "language": "R",
   "name": "ir"
  },
  "language_info": {
   "codemirror_mode": "r",
   "file_extension": ".r",
   "mimetype": "text/x-r-source",
   "name": "R",
   "pygments_lexer": "r",
   "version": "4.1.1"
  }
 },
 "nbformat": 4,
 "nbformat_minor": 2
}
