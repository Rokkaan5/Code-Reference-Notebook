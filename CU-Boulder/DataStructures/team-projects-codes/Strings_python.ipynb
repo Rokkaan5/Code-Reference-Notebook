{
  "cells": [
    {
      "cell_type": "markdown",
      "metadata": {
        "id": "x16oM6BhVljm"
      },
      "source": [
        "## Strings in Python by Team 4"
      ]
    },
    {
      "cell_type": "code",
      "execution_count": null,
      "metadata": {
        "id": "KTimFTSGVk7R"
      },
      "outputs": [],
      "source": [
        "str1 = 'Hello'\n",
        "str2 = 'World'\n",
        "str3 = 'Mary Poppins flew to sky.'"
      ]
    },
    {
      "cell_type": "code",
      "execution_count": null,
      "metadata": {
        "colab": {
          "base_uri": "https://localhost:8080/"
        },
        "id": "ordU6fAQV0GR",
        "outputId": "b348be1e-4b5f-4844-9a32-c8d48f079547"
      },
      "outputs": [
        {
          "name": "stdout",
          "output_type": "stream",
          "text": [
            "Type of string s1: <class 'str'>\n"
          ]
        }
      ],
      "source": [
        "# Type of variable 's1'\n",
        "print('Type of string s1:', type(str1))"
      ]
    },
    {
      "cell_type": "code",
      "execution_count": null,
      "metadata": {
        "colab": {
          "base_uri": "https://localhost:8080/"
        },
        "id": "4sKChspRV9X7",
        "outputId": "3e1e9535-5e7a-4ff2-bd10-ef0d8895013f"
      },
      "outputs": [
        {
          "name": "stdout",
          "output_type": "stream",
          "text": [
            "Length of the string str1 is: 5\n",
            "Length of the string str3 is: 25\n"
          ]
        }
      ],
      "source": [
        "# Find the length of the string s1 and s3\n",
        "print('Length of the string str1 is:', len(str1))\n",
        "print('Length of the string str3 is:', len(str3))"
      ]
    },
    {
      "cell_type": "code",
      "execution_count": null,
      "metadata": {
        "colab": {
          "base_uri": "https://localhost:8080/"
        },
        "id": "rKmdvbpiWad2",
        "outputId": "10ada84c-18c4-4300-bbe3-eb09e12822c0"
      },
      "outputs": [
        {
          "name": "stdout",
          "output_type": "stream",
          "text": [
            "My new string after concatenation: HelloWorld\n"
          ]
        }
      ],
      "source": [
        "# String Concatenation - s1+s2\n",
        "new_str = str1+str2\n",
        "print('My new string after concatenation:', new_str)"
      ]
    },
    {
      "cell_type": "code",
      "execution_count": null,
      "metadata": {
        "colab": {
          "base_uri": "https://localhost:8080/"
        },
        "id": "lFK9Z13GWyTe",
        "outputId": "06e6a8e5-271d-46cb-c241-287e95bfb76f"
      },
      "outputs": [
        {
          "name": "stdout",
          "output_type": "stream",
          "text": [
            "My new string: HelloHelloHello\n"
          ]
        }
      ],
      "source": [
        "# String Repetition - n*str1\n",
        "new_str = 3*str1\n",
        "print('My new string:', new_str)"
      ]
    },
    {
      "cell_type": "code",
      "execution_count": null,
      "metadata": {
        "colab": {
          "base_uri": "https://localhost:8080/"
        },
        "id": "ES9suX-UXCnQ",
        "outputId": "54aba90c-2e8e-42e4-8c69-9b454ebe13dc"
      },
      "outputs": [
        {
          "name": "stdout",
          "output_type": "stream",
          "text": [
            "5th character from str1: o\n",
            "charater at index = -1 in str2: d\n"
          ]
        }
      ],
      "source": [
        "# Indexing\n",
        "print('5th character from str1:', str1[4])\n",
        "print('charater at index = -1 in str2:', str2[-1])"
      ]
    },
    {
      "cell_type": "code",
      "execution_count": null,
      "metadata": {
        "colab": {
          "base_uri": "https://localhost:8080/"
        },
        "id": "1Kq-lEDAXN19",
        "outputId": "ac08eb93-5447-4e17-fc24-fd305bfb8c1e"
      },
      "outputs": [
        {
          "name": "stdout",
          "output_type": "stream",
          "text": [
            "Hel\n",
            "Hl\n",
            "olleH\n"
          ]
        }
      ],
      "source": [
        "# Slicing\n",
        "\n",
        "print(str1[0:3])         # Returns the string characters from the indices 0, 1 & 2\n",
        "print(str1[0:4:2])       # Returns the string characters from start index 0 and then the characters that are 2 indices away\n",
        "print(str1[ : : -1])     # Reverses the string."
      ]
    },
    {
      "cell_type": "code",
      "execution_count": null,
      "metadata": {
        "colab": {
          "base_uri": "https://localhost:8080/"
        },
        "id": "QE4AUmCgX_Zb",
        "outputId": "687d86ec-79dd-4785-ec4b-4148bce98b3b"
      },
      "outputs": [
        {
          "name": "stdout",
          "output_type": "stream",
          "text": [
            "False\n",
            "True\n"
          ]
        }
      ],
      "source": [
        "# String Comparison\n",
        "\n",
        "print(str1 == str2)         # Returns True if s1=s2 else False. This should return 'False'\n",
        "print(str1 != str2)         # Returns True if s1!=s2 else False. This should return 'True'"
      ]
    },
    {
      "cell_type": "code",
      "execution_count": null,
      "metadata": {
        "colab": {
          "base_uri": "https://localhost:8080/"
        },
        "id": "iML8aeb1YZi6",
        "outputId": "35e0d03b-42d7-4410-c6ca-bafc62dc9d73"
      },
      "outputs": [
        {
          "name": "stdout",
          "output_type": "stream",
          "text": [
            "Check if 'e' in str1: True\n",
            "Check if 'me' in str1: False\n",
            "Check if 'Mary' in str3: True\n"
          ]
        }
      ],
      "source": [
        "# String Membership\n",
        "\n",
        "x = 'Mary'\n",
        "\n",
        "res1 = 'e' in str1               # Checks if 'e' in 'Hello'. This should return 'True'\n",
        "res2 = 'me' in str1              # Checks if 'me' in 'Hello'. This should return 'False'\n",
        "res3 = x in str3                 # Checks if 'Mary' in s3. This should return 'True'\n",
        "\n",
        "print('Check if \\'e\\' in str1:', res1)\n",
        "print('Check if \\'me\\' in str1:', res2)\n",
        "print('Check if \\'{}\\' in str3:'.format(x), res3)\n"
      ]
    },
    {
      "cell_type": "code",
      "execution_count": null,
      "metadata": {
        "colab": {
          "base_uri": "https://localhost:8080/"
        },
        "id": "IZVn04V5Zs8M",
        "outputId": "73f31a2f-dc65-4d8e-c5a2-c6e5ce8d3b2f"
      },
      "outputs": [
        {
          "name": "stdout",
          "output_type": "stream",
          "text": [
            "Length of string with white spaces 'str1': 5\n"
          ]
        }
      ],
      "source": [
        "str1 = '     '\n",
        "print('Length of string with white spaces \\'str1\\':', len(str1))"
      ]
    },
    {
      "cell_type": "code",
      "execution_count": null,
      "metadata": {
        "colab": {
          "base_uri": "https://localhost:8080/",
          "height": 222
        },
        "id": "sKZR_5XwpDeb",
        "outputId": "53fc0ebd-015e-4497-cfdd-f8d428606a84"
      },
      "outputs": [
        {
          "name": "stdout",
          "output_type": "stream",
          "text": [
            "String my_str: abcde\n"
          ]
        },
        {
          "ename": "NameError",
          "evalue": "ignored",
          "output_type": "error",
          "traceback": [
            "\u001b[0;31m---------------------------------------------------------------------------\u001b[0m",
            "\u001b[0;31mNameError\u001b[0m                                 Traceback (most recent call last)",
            "\u001b[0;32m<ipython-input-3-781b8b33ba0d>\u001b[0m in \u001b[0;36m<module>\u001b[0;34m\u001b[0m\n\u001b[1;32m      3\u001b[0m \u001b[0;34m\u001b[0m\u001b[0m\n\u001b[1;32m      4\u001b[0m \u001b[0;32mdel\u001b[0m\u001b[0;34m(\u001b[0m\u001b[0mmy_str\u001b[0m\u001b[0;34m)\u001b[0m\u001b[0;34m\u001b[0m\u001b[0;34m\u001b[0m\u001b[0m\n\u001b[0;32m----> 5\u001b[0;31m \u001b[0mprint\u001b[0m\u001b[0;34m(\u001b[0m\u001b[0;34m'String my_str after deletion'\u001b[0m\u001b[0;34m,\u001b[0m \u001b[0mmy_str\u001b[0m\u001b[0;34m)\u001b[0m\u001b[0;34m\u001b[0m\u001b[0;34m\u001b[0m\u001b[0m\n\u001b[0m",
            "\u001b[0;31mNameError\u001b[0m: name 'my_str' is not defined"
          ]
        }
      ],
      "source": [
        "# Deleting the string\n",
        "\n",
        "# Defining a string 'my_str' and printing it.\n",
        "my_str = 'abcde'\n",
        "print('String my_str:', my_str)\n",
        "\n",
        "# The string variable does not exist after deletion. Hence it throws error.\n",
        "del(my_str)\n",
        "#print('String my_str after deletion', my_str)"
      ]
    },
    {
      "cell_type": "code",
      "execution_count": null,
      "metadata": {
        "id": "3qOorBnqGiHc"
      },
      "outputs": [],
      "source": [
        "# Common String Methods\n",
        "\n",
        "s1 = 'Hello'\n",
        "s2 = 'Beautiful World it is!'\n",
        "s3 = '   mirror   '\n",
        "s4 = ',,,,,rrrrrggggtttxxxxx,,,,'"
      ]
    },
    {
      "cell_type": "code",
      "execution_count": null,
      "metadata": {
        "colab": {
          "base_uri": "https://localhost:8080/"
        },
        "id": "VbGOHB4aiX4f",
        "outputId": "fda55a91-3ed6-41b0-9e0e-e9de5fd39ac4"
      },
      "outputs": [
        {
          "name": "stdout",
          "output_type": "stream",
          "text": [
            "Counting no. of 'h' in s1: 0\n",
            "Counting no. of 'hel' in s1: 1\n",
            "\n",
            "Converting s1 to lowercase: hello\n",
            "Converting s2 to lowercase: beautiful world it is!\n",
            "\n",
            "Converting s1 to uppercase: HELLO\n",
            "Converting s2 to uppercase: BEAUTIFUL WORLD IT IS!\n"
          ]
        }
      ],
      "source": [
        "# count() - count for no. of occurances of specific sequence of characters in a string\n",
        "# count() is case-sensitive\n",
        "print('Counting no. of \\'h\\' in s1:', s1.count('h'))\n",
        "print('Counting no. of \\'hel\\' in s1:', s1.count('Hel'))\n",
        "\n",
        "# lower() - converts all characters of a string to lowercase\n",
        "# lower() is not case-sensistive \n",
        "print('\\nConverting s1 to lowercase:', s1.lower())     # converts s1 to lowercase\n",
        "print('Converting s2 to lowercase:', s2.lower())     # converts s2 to lowercase\n",
        "\n",
        "\n",
        "# upper() converts all characters of a string to uppercase\n",
        "# upper() is not case-sensistive\n",
        "print('\\nConverting s1 to uppercase:', s1.upper())     # converts s1 to uppercase\n",
        "print('Converting s2 to uppercase:', s2.upper())     # converts s2 to uppercase"
      ]
    },
    {
      "cell_type": "code",
      "execution_count": null,
      "metadata": {
        "colab": {
          "base_uri": "https://localhost:8080/"
        },
        "id": "abs46tGbkKwi",
        "outputId": "b9ffd0c1-1994-480e-abbb-e099cd8cd56d"
      },
      "outputs": [
        {
          "name": "stdout",
          "output_type": "stream",
          "text": [
            "Replacing two l's together with one m: Hemo\n",
            "Replacing 1st one occurance of l with m: Hemlo\n",
            "Replacing 1st two occurance of l with m: Hemmo\n"
          ]
        }
      ],
      "source": [
        "# replace() - replaces the specified set of characters in the string with new set of characters\n",
        "# replace() is case-sensitive\n",
        "\n",
        "print('Replacing two l\\'s together with one m:', s1.replace('ll', 'm'))        # replaces l with m in s1\n",
        "print('Replacing 1st one occurance of l with m:', s1.replace('l','m',1))       # replaces the first l with m in s1\n",
        "print('Replacing 1st two occurance of l with m:', s1.replace('l','m',2))       # replaces the first 2 l's with m in s1"
      ]
    },
    {
      "cell_type": "code",
      "execution_count": null,
      "metadata": {
        "colab": {
          "base_uri": "https://localhost:8080/"
        },
        "id": "BHh1h4bvlOHe",
        "outputId": "137e95d5-5675-479c-eefe-af187e065013"
      },
      "outputs": [
        {
          "name": "stdout",
          "output_type": "stream",
          "text": [
            "Splitting the string s2 at white spaces: ['Beautiful', 'World', 'it', 'is!']\n"
          ]
        }
      ],
      "source": [
        "# split() - splits the string at specified character within the quotes\n",
        "# split() - returns a list after splitting\n",
        "print('Splitting the string s2 at white spaces:', s2.split(' ')) # splits s2 at each space and returns an array with the split elements"
      ]
    },
    {
      "cell_type": "code",
      "execution_count": null,
      "metadata": {
        "colab": {
          "base_uri": "https://localhost:8080/"
        },
        "id": "et6aqBXelrBT",
        "outputId": "592a6f2b-3532-46d0-a8a3-026bbef65774"
      },
      "outputs": [
        {
          "name": "stdout",
          "output_type": "stream",
          "text": [
            "Stripping leading and training spaces from s3: mirror\n",
            "Stripping occurances of ',', 'r', 'g' or 't' from s4: xxxxx\n"
          ]
        }
      ],
      "source": [
        "# strip() - removes specified characters from the string in leading and trailing locations.\n",
        "\n",
        "print('Stripping leading and training spaces from s3:', s3.strip())          # removes whitespace by default\n",
        "print('Stripping occurances of \\',\\', \\'r\\', \\'g\\' or \\'t\\' from s4:', s4.strip(',rgt'))    # removes any instances of ',' 'r' 'g' or 't'"
      ]
    },
    {
      "cell_type": "code",
      "execution_count": null,
      "metadata": {
        "colab": {
          "base_uri": "https://localhost:8080/"
        },
        "id": "rKUIlAQZK918",
        "outputId": "3601d58a-7985-4465-93b0-7aec1dc65596"
      },
      "outputs": [
        {
          "name": "stdout",
          "output_type": "stream",
          "text": [
            "New word after joining a set of characters: world\n",
            "New sentence after joining the words with 'space' as separator: Boulder is a beautiful city\n",
            "New sentence after joining the words with 'dash' as separator: Boulder-is-a-beautiful-city\n"
          ]
        }
      ],
      "source": [
        "# join() -  join all the iterables into a string with given separator\n",
        "# join() syntax - seperator.join(iterables)\n",
        "\n",
        "my_chars = ('w', 'o', 'r', 'l', 'd')\n",
        "word = ''.join(my_chars)\n",
        "print('New word after joining a set of characters:', word)\n",
        "\n",
        "my_words = ('Boulder', 'is', 'a', 'beautiful', 'city')\n",
        "sentence1 = ' '.join(my_words)\n",
        "print('New sentence after joining the words with \\'space\\' as separator:', sentence1)\n",
        "\n",
        "sentence2 = '-'.join(my_words)\n",
        "print('New sentence after joining the words with \\'dash\\' as separator:', sentence2)"
      ]
    },
    {
      "cell_type": "code",
      "execution_count": null,
      "metadata": {
        "colab": {
          "base_uri": "https://localhost:8080/"
        },
        "id": "sRHLtr1YIcDi",
        "outputId": "71caa7cd-32f9-407f-959c-8bb0196d7f33"
      },
      "outputs": [
        {
          "name": "stdout",
          "output_type": "stream",
          "text": [
            "Check if s3 is entirely numeric: True\n",
            "Check if s1 is entirely numeric: False\n",
            "\n",
            "Check if s4 is alpha numeric: False\n",
            "Check if s1 is alpha numeric: True\n",
            "Check if s3 is alpha numeric: False\n",
            "\n",
            "Check if s1 is entirely in lowercase: True\n",
            "Check if s5 is entirely in lowercase: False\n",
            "\n",
            "Check if s1 is entirely in uppercase: True\n",
            "Check if s5 is entirely in uppercase: False\n",
            "\n",
            "Check if s6 contains only white spaces True\n",
            "Check if s1 contains only white spaces False\n"
          ]
        }
      ],
      "source": [
        "# String Boolean Methods\n",
        "\n",
        "s1 = 'abc'\n",
        "s2 = 'ABC'\n",
        "s3 = '123'\n",
        "s4 = '123abc'\n",
        "s5 = 'AbCd'\n",
        "s6 = '      '\n",
        "\n",
        "# isnumeric() - checks if all the characters of the string are numeric\n",
        "print('Check if s3 is entirely numeric:', s3.isnumeric()) \n",
        "print('Check if s1 is entirely numeric:', s1.isnumeric()) \n",
        "\n",
        "# isalpha() - checks if the string is alphanumeric\n",
        "print('\\nCheck if s4 is alpha numeric:', s4.isalpha())  \n",
        "print('Check if s1 is alpha numeric:', s1.isalpha()) \n",
        "print('Check if s3 is alpha numeric:', s3.isalpha()) \n",
        "\n",
        "# islower() - checks if all characters in a string are in lowercase\n",
        "print('\\nCheck if s1 is entirely in lowercase:', s1.islower()) \n",
        "print('Check if s5 is entirely in lowercase:', s5.islower()) \n",
        "\n",
        "# isupper() - checks if all characters in a string are in uppercase\n",
        "print('\\nCheck if s1 is entirely in uppercase:', s2.isupper()) \n",
        "print('Check if s5 is entirely in uppercase:', s5.isupper()) \n",
        "\n",
        "# isspace() - checks if all characters in a string are white spaces\n",
        "print('\\nCheck if s6 contains only white spaces', s6.isspace()) \n",
        "print('Check if s1 contains only white spaces', s1.isspace()) \n"
      ]
    },
    {
      "cell_type": "code",
      "execution_count": null,
      "metadata": {
        "colab": {
          "base_uri": "https://localhost:8080/"
        },
        "id": "8iuPItcKrrwR",
        "outputId": "52c52a28-c544-4b55-ddbc-666d7693ef62"
      },
      "outputs": [
        {
          "name": "stdout",
          "output_type": "stream",
          "text": [
            "I bought 5 apples by paying $2 for each\n",
            "\n",
            "I bought 5 apples by paying $2 for each\n",
            "\n",
            "I bought 5 apples by paying $2 for each\n"
          ]
        }
      ],
      "source": [
        "# String Formatting\n",
        "\n",
        "n_apples = 5 \n",
        "unit_price = 2 \n",
        "\n",
        "print('I bought ' + str(n_apples) + ' apples by paying $' + str(unit_price) + ' for each')\n",
        "print()\n",
        "print('I bought {} apples by paying ${} for each'.format(n_apples, unit_price))\n",
        "print()\n",
        "print(f'I bought {n_apples} apples by paying ${unit_price} for each')\n"
      ]
    }
  ],
  "metadata": {
    "colab": {
      "collapsed_sections": [],
      "provenance": []
    },
    "kernelspec": {
      "display_name": "Python 3",
      "name": "python3"
    },
    "language_info": {
      "name": "python"
    }
  },
  "nbformat": 4,
  "nbformat_minor": 0
}
