{
  "cells": [
    {
      "cell_type": "raw",
      "metadata": {},
      "source": [
        "---\n",
        "title: \"Binary Search Tree\"\n",
        "author: \"Fall 2022 DSA Team 9\"\n",
        "format:\n",
        "    html:\n",
        "        code-fold: false\n",
        "execute:\n",
        "    output: true\n",
        "    warning: false\n",
        "toc: true\n",
        "---"
      ]
    },
    {
      "cell_type": "markdown",
      "metadata": {},
      "source": [
        "(section headings added by me)"
      ]
    },
    {
      "cell_type": "markdown",
      "metadata": {},
      "source": [
        "# Binary Search Tree Nodes\n",
        "\n",
        "Class for inserting, deleting, and checking existence of nodes"
      ]
    },
    {
      "cell_type": "code",
      "execution_count": null,
      "metadata": {
        "id": "yYwL2uTcrEpU"
      },
      "outputs": [],
      "source": [
        "class BSTNode:\n",
        "    def __init__(self, val=None): #self is a current node that we are looking for\n",
        "        self.left = None\n",
        "        self.right = None\n",
        "        self.val = val\n",
        "\n",
        "    def insert(self, val): #We need a way to insert new data into the tree. Inserting a new node should append it as a leaf node in the proper spot.\n",
        "        if not self.val:\n",
        "            self.val = val\n",
        "            return\n",
        "\n",
        "        if self.val == val:\n",
        "            return\n",
        "\n",
        "        if val < self.val:\n",
        "            if self.left:\n",
        "                self.left.insert(val)\n",
        "                return\n",
        "            self.left = BSTNode(val) #add node\n",
        "            return\n",
        "\n",
        "        if self.right:\n",
        "            self.right.insert(val)\n",
        "            return\n",
        "        self.right = BSTNode(val)\n",
        "\n",
        "    def delete(self, val):\n",
        "        if self == None:\n",
        "            return self\n",
        "        if val < self.val:\n",
        "            if self.left:\n",
        "                self.left = self.left.delete(val)\n",
        "            return self\n",
        "        if val > self.val:\n",
        "            if self.right:\n",
        "                self.right = self.right.delete(val)\n",
        "            return self\n",
        "        if self.right == None:\n",
        "            return self.left\n",
        "        if self.left == None:\n",
        "            return self.right\n",
        "        min_larger_node = self.right\n",
        "        while min_larger_node.left:\n",
        "            min_larger_node = min_larger_node.left\n",
        "        self.val = min_larger_node.val\n",
        "        self.right = self.right.delete(min_larger_node.val)\n",
        "        return self\n",
        "\n",
        "    def exists(self, val): #Just to check if the value is present in the tree or not\n",
        "        if val == self.val:\n",
        "            return True\n",
        "\n",
        "        if val < self.val:\n",
        "            if self.left == None:\n",
        "                return False\n",
        "            return self.left.exists(val)\n",
        "\n",
        "        if self.right == None:\n",
        "            return False\n",
        "        return self.right.exists(val)"
      ]
    },
    {
      "cell_type": "markdown",
      "metadata": {},
      "source": [
        "## Test `BSTNode` class object"
      ]
    },
    {
      "cell_type": "code",
      "execution_count": null,
      "metadata": {
        "colab": {
          "base_uri": "https://localhost:8080/"
        },
        "id": "rpCUeWSzs9_U",
        "outputId": "5d985e90-6c40-4a2d-e961-0dff153013aa"
      },
      "outputs": [
        {
          "name": "stdout",
          "output_type": "stream",
          "text": [
            "deleting [2, 6, 20]\n",
            "4 exists:\n",
            "True\n",
            "2 exists:\n",
            "False\n",
            "12 exists:\n",
            "True\n",
            "18 exists:\n",
            "True\n"
          ]
        }
      ],
      "source": [
        "nums = [12, 6, 18, 19, 21, 11, 3, 5, 4, 24, 18]\n",
        "bst = BSTNode()\n",
        "for num in nums:\n",
        "    bst.insert(num)\n",
        "\n",
        "nums = [2, 6, 20]\n",
        "print(\"deleting \" + str(nums))\n",
        "for num in nums:\n",
        "    bst.delete(num)\n",
        "\n",
        "print(\"4 exists:\")\n",
        "print(bst.exists(4))\n",
        "print(\"2 exists:\")\n",
        "print(bst.exists(2))\n",
        "print(\"12 exists:\")\n",
        "print(bst.exists(12))\n",
        "print(\"18 exists:\")\n",
        "print(bst.exists(18))"
      ]
    },
    {
      "cell_type": "markdown",
      "metadata": {
        "id": "yKKzhHEM5cSq"
      },
      "source": [
        "# Breadth First Search"
      ]
    },
    {
      "cell_type": "code",
      "execution_count": null,
      "metadata": {
        "id": "q1L_K6rX1IJM"
      },
      "outputs": [],
      "source": [
        "# Create a Node\n",
        "class Node:\n",
        "  def __init__(self, key):\n",
        "    self.data = key\n",
        "    self.left = None\n",
        "    self.right = None"
      ]
    },
    {
      "cell_type": "code",
      "execution_count": null,
      "metadata": {
        "id": "CNL7iuRi1P8o"
      },
      "outputs": [],
      "source": [
        "def LevelOrderTraversal(root):\n",
        "\n",
        "  # Base condition\n",
        "  if root is None:\n",
        "    return\n",
        "\n",
        "  # Create an empty queue for LOT\n",
        "  q = []\n",
        "\n",
        "  # Append the root node\n",
        "  q.append(root)\n",
        "\n",
        "  while (len(q) > 0):\n",
        "    # Print the element and remove from the queue\n",
        "        print(f'{q[0].data}', end = ' ')\n",
        "        node = q.pop(0)\n",
        "\n",
        "        # Enqueue left child\n",
        "        if node.left is not None:\n",
        "            q.append(node.left)\n",
        "\n",
        "        # Enqueue right child\n",
        "        if node.right is not None:\n",
        "            q.append(node.right)"
      ]
    },
    {
      "cell_type": "code",
      "execution_count": null,
      "metadata": {
        "id": "X1pnVzcm3m_c"
      },
      "outputs": [],
      "source": [
        "root = Node(1)\n",
        "root.left = Node(3)\n",
        "root.right = Node(4)\n",
        "root.left.left = Node(6)\n",
        "root.right.right = Node(10)\n",
        "root.left.right = Node(14)\n",
        "root.left.left.left = Node(60)"
      ]
    },
    {
      "cell_type": "code",
      "execution_count": null,
      "metadata": {
        "colab": {
          "base_uri": "https://localhost:8080/"
        },
        "id": "Kay9m5zb4oUB",
        "outputId": "b228da27-cfab-421d-8e4d-4b4977ff35bb"
      },
      "outputs": [
        {
          "name": "stdout",
          "output_type": "stream",
          "text": [
            "Level Order Traversal :\n",
            "1 3 4 6 14 10 60 "
          ]
        }
      ],
      "source": [
        "print('Level Order Traversal :')\n",
        "LevelOrderTraversal(root)"
      ]
    },
    {
      "cell_type": "markdown",
      "metadata": {
        "id": "ot1MtpWaIZwA"
      },
      "source": [
        "# Depth First Search"
      ]
    },
    {
      "cell_type": "code",
      "execution_count": null,
      "metadata": {
        "id": "o6lBSsVCIiNp"
      },
      "outputs": [],
      "source": [
        "class Node:\n",
        "  def __init__(self, key):\n",
        "    self.data = key\n",
        "    self.left = None\n",
        "    self.right = None"
      ]
    },
    {
      "cell_type": "code",
      "execution_count": null,
      "metadata": {
        "id": "aAIcGB3CRCSH"
      },
      "outputs": [],
      "source": [
        "def DFS(root):\n",
        "\n",
        "  # Base condition\n",
        "  if root is None:\n",
        "    return\n",
        "\n",
        "  # Create an empty stack for DFS\n",
        "  s = []\n",
        "\n",
        "  # Append the root node\n",
        "  s.append(root)\n",
        "\n",
        "  while (len(s) > 0):\n",
        "    # Print the element and remove from the stack\n",
        "        print(f'{s[len(s)-1].data}', end = ' ')\n",
        "        node = s.pop()\n",
        "\n",
        "        #Add the neighbours or \"to be visited\" elements into the stack\n",
        "        if node.right is not None:\n",
        "            s.append(node.right)\n",
        "\n",
        "        if node.left is not None:\n",
        "            s.append(node.left)"
      ]
    },
    {
      "cell_type": "markdown",
      "metadata": {
        "id": "qOqZNNl4YRAe"
      },
      "source": [
        "Another approach of implementation:\n",
        "\n",
        "```\n",
        "# Using a Python dictionary to act as an adjacency list\n",
        "graph = {\n",
        "  '5' : ['3','7'],\n",
        "  '3' : ['2', '4'],\n",
        "  '7' : ['8'],\n",
        "  '2' : [],\n",
        "  '4' : ['8'],\n",
        "  '8' : []\n",
        "}\n",
        "\n",
        "visited = set() # Set to keep track of visited nodes of graph.\n",
        "\n",
        "def dfs(visited, graph, node):  #function for dfs\n",
        "    if node not in visited:\n",
        "        print (node)\n",
        "        visited.add(node)\n",
        "        for neighbour in graph[node]:\n",
        "            dfs(visited, graph, neighbour)\n",
        "\n",
        "print(\"Following is the Depth-First Search\")\n",
        "dfs(visited, graph, '5')\n",
        "```"
      ]
    },
    {
      "cell_type": "code",
      "execution_count": null,
      "metadata": {
        "id": "6_yH9OYoSMpv"
      },
      "outputs": [],
      "source": [
        "root = Node(1)\n",
        "root.left = Node(2)\n",
        "root.right = Node(3)\n",
        "root.left.left = Node(5) # left node - child\n",
        "root.left.right = Node(6)"
      ]
    },
    {
      "cell_type": "code",
      "execution_count": null,
      "metadata": {
        "colab": {
          "base_uri": "https://localhost:8080/"
        },
        "id": "YhyxNtduSSo4",
        "outputId": "23f7eaaf-298a-4598-8cd3-09a234d0c085"
      },
      "outputs": [
        {
          "name": "stdout",
          "output_type": "stream",
          "text": [
            "DFS Traversal :\n",
            "1 2 5 6 3 "
          ]
        }
      ],
      "source": [
        "print('DFS Traversal :')\n",
        "DFS(root)"
      ]
    },
    {
      "cell_type": "markdown",
      "metadata": {},
      "source": [
        "# In-Order Traversal"
      ]
    },
    {
      "cell_type": "code",
      "execution_count": null,
      "metadata": {
        "id": "ehPfhnsBZZKh"
      },
      "outputs": [],
      "source": [
        "def inorderTraversal(root): #In order traversal\n",
        "  res = []\n",
        "  if root:\n",
        "    res = inorderTraversal(root.left)\n",
        "    res.append(root.data)\n",
        "    res = res + inorderTraversal(root.right)\n",
        "  return res"
      ]
    },
    {
      "cell_type": "code",
      "execution_count": null,
      "metadata": {
        "colab": {
          "base_uri": "https://localhost:8080/"
        },
        "id": "2RRv9LiPZ2Kb",
        "outputId": "5f61d485-9a0f-4bb3-e97c-b7bca6886826"
      },
      "outputs": [
        {
          "name": "stdout",
          "output_type": "stream",
          "text": [
            "In-order Traversal: \n"
          ]
        },
        {
          "data": {
            "text/plain": [
              "[5, 2, 6, 1, 3]"
            ]
          },
          "execution_count": 11,
          "metadata": {},
          "output_type": "execute_result"
        }
      ],
      "source": [
        "print('In-order Traversal: ')\n",
        "inorderTraversal(root)"
      ]
    },
    {
      "cell_type": "markdown",
      "metadata": {},
      "source": [
        "# Pre-Order Traversal"
      ]
    },
    {
      "cell_type": "code",
      "execution_count": null,
      "metadata": {
        "id": "SdOwKDTncona"
      },
      "outputs": [],
      "source": [
        "def PreorderTraversal(root):\n",
        "  res = []\n",
        "  if root:\n",
        "    res.append(root.data)\n",
        "    res = res + PreorderTraversal(root.left)\n",
        "    res = res + PreorderTraversal(root.right)\n",
        "  return res"
      ]
    },
    {
      "cell_type": "code",
      "execution_count": null,
      "metadata": {
        "colab": {
          "base_uri": "https://localhost:8080/"
        },
        "id": "h2wvELqRc5WK",
        "outputId": "43744308-f262-4989-f548-81831fd531fb"
      },
      "outputs": [
        {
          "name": "stdout",
          "output_type": "stream",
          "text": [
            "Pre-order Traversal: \n"
          ]
        },
        {
          "data": {
            "text/plain": [
              "[1, 2, 5, 6, 3]"
            ]
          },
          "execution_count": 13,
          "metadata": {},
          "output_type": "execute_result"
        }
      ],
      "source": [
        "print('Pre-order Traversal: ')\n",
        "PreorderTraversal(root)"
      ]
    },
    {
      "cell_type": "markdown",
      "metadata": {},
      "source": [
        "# Post-Order Traversal"
      ]
    },
    {
      "cell_type": "code",
      "execution_count": null,
      "metadata": {
        "id": "Gjg1j0XhdLWw"
      },
      "outputs": [],
      "source": [
        "def PostorderTraversal(root):\n",
        "  res = []\n",
        "  if root:\n",
        "    res = PostorderTraversal(root.left)\n",
        "    res = res + PostorderTraversal(root.right)\n",
        "    res.append(root.data)\n",
        "  return res"
      ]
    },
    {
      "cell_type": "code",
      "execution_count": null,
      "metadata": {
        "colab": {
          "base_uri": "https://localhost:8080/"
        },
        "id": "hHch6of0dmsy",
        "outputId": "d8cf99d0-e0a3-45d7-d194-cd2396cabbda"
      },
      "outputs": [
        {
          "name": "stdout",
          "output_type": "stream",
          "text": [
            "Post-order Traversal: \n"
          ]
        },
        {
          "data": {
            "text/plain": [
              "[5, 6, 2, 3, 1]"
            ]
          },
          "execution_count": 15,
          "metadata": {},
          "output_type": "execute_result"
        }
      ],
      "source": [
        "print('Post-order Traversal: ')\n",
        "PostorderTraversal(root)"
      ]
    }
  ],
  "metadata": {
    "colab": {
      "provenance": []
    },
    "kernelspec": {
      "display_name": "Python 3",
      "name": "python3"
    },
    "language_info": {
      "name": "python"
    }
  },
  "nbformat": 4,
  "nbformat_minor": 0
}
