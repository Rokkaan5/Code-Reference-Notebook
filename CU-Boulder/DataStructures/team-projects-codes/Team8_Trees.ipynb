{
 "cells": [
  {
   "cell_type": "raw",
   "metadata": {},
   "source": [
    "---\n",
    "title: \"Tree Data Structure\"\n",
    "author: \"Fall 2022 DSA Team 8: Vamsi Gontu, Sanyukta Nair, Jasmine Kobayashi\"\n",
    "format:\n",
    "    html:\n",
    "        code-fold: false\n",
    "execute:\n",
    "    output: true\n",
    "    warning: false\n",
    "toc: true\n",
    "---"
   ]
  },
  {
   "cell_type": "markdown",
   "metadata": {
    "id": "2XdEx8P63qnF"
   },
   "source": [
    "\n",
    "# Introduction to Tree Data Structure\n",
    "\n",
    "A tree is a collection of nodes connected by directed (or undirected) edges.\n",
    "It is a nonlinear data structure, compared to arrays, linked lists, stacks and queues which are linear data structures.\n",
    "\n",
    "### Important Keywords\n",
    "\n",
    "\n",
    "1.   **Path** − Path refers to the sequence of nodes along the edges of a tree.\n",
    "2.   **Root** − The node at the top of the tree is called root.\n",
    "    *   One root per tree\n",
    "    *   One path from the root node to any node.\n",
    "3. **Edge** - connects two nodes to show the relationship between nodes.\n",
    "4. **Key** - Represents the value in the node\n",
    "5. **Parent** − Any node except the root node has one edge upward\n",
    "6. **Child** − Node below a given node connected by its edge downward\n",
    "7. **Leaf** − The node which does not have any child node\n",
    "8. **Subtree** − Subtree represents the descendants of a node.\n",
    "\n",
    "![Key_terms](/CU-Boulder/DataStructures/Trees/key_points.png)\n"
   ]
  },
  {
   "cell_type": "markdown",
   "metadata": {
    "id": "A2GSpWvG53gQ"
   },
   "source": [
    "# Types of Tree Data Structures\n",
    "\n",
    "## General Tree\n",
    "\n",
    "General tree is a tree where each node may have zero or more children(a binary tree is a specialized case of a general tree). A data structure where there are no constraints on the hierarchical structure. General trees are used to model applications such as file systems.\n",
    "\n",
    "![general_tree](/CU-Boulder/DataStructures/Trees/general_children_ex.png)\n"
   ]
  },
  {
   "cell_type": "code",
   "execution_count": null,
   "metadata": {
    "id": "K4HuoPMGIeGK"
   },
   "outputs": [],
   "source": [
    "class Node:\n",
    "# Nodes for a binary tree\n",
    "    def __init__(self, data):\n",
    "        self.left = None\n",
    "        self.right = None\n",
    "        self.data = data\n",
    "# Insert Nodes\n",
    "    def insertLeft(self, data):\n",
    "        if self.left is None:\n",
    "          self.left = Node(data)\n",
    "        else:\n",
    "          raise Exception(\"Value already filled\")\n",
    "\n",
    "    def insertRight(self, data):\n",
    "        if self.right is None:\n",
    "          self.right = Node(data)\n",
    "        else:\n",
    "          raise Exception(\"Value already filled\")"
   ]
  },
  {
   "cell_type": "markdown",
   "metadata": {
    "id": "LW_lwTks8lXM"
   },
   "source": [
    "# Tree Traverse(Pre-In-Post)\n",
    "\n",
    "## Traversal - Process of visiting all nodes of a tree\n",
    "\n",
    "Unlike linear data structures (arrays, lists, queues, stacks, etc.), trees have multiple ways to be traversed.\n",
    "\n",
    "## Three main ways:\n",
    "\n",
    "**Pre-order:**\n",
    "\n",
    "root → left subtree → right subtree\n",
    "  (result: A, B, D, E, G, C, F)\n",
    "\n",
    "**In-order:**\n",
    "\n",
    "left subtree → root → right subtree\n",
    "  (result: D, B, G, E, A, C, F)\n",
    "  \n",
    "**Post-order:**\n",
    "left subtree → right subtree → root\n",
    "  (result: D, G, E, B, F, C, A)\n",
    "\n",
    "  ![traversal](/CU-Boulder/DataStructures/Trees/traverse_ex.png)\n",
    "\n"
   ]
  },
  {
   "cell_type": "code",
   "execution_count": null,
   "metadata": {
    "id": "6R0I5Jo9IikT"
   },
   "outputs": [],
   "source": [
    "class Tree(Node):\n",
    "  def __init__(self,data):\n",
    "    super().__init__(data)\n",
    "\n",
    "# Traversal ==============================================================================================================\n",
    "# Preorder traversal-------------------------------------------------------------------------------------------------------\n",
    "# Root -> Left -> Right\n",
    "  def PreorderTraversal(self, root):\n",
    "      res = []\n",
    "      if root:\n",
    "          res.append(root.data)                              # start with root node valude\n",
    "          res = res + self.PreorderTraversal(root.left)      # then recursively iterate through left subtrees\n",
    "          res = res + self.PreorderTraversal(root.right)     # then finally, recursively iterate through right subtrees\n",
    "      return res\n",
    "\n",
    "# Inorder traversal-------------------------------------------------------------------------------------------------------\n",
    "# Left -> Root -> Right\n",
    "  def InorderTraversal(self, root):\n",
    "      res = []\n",
    "      if root:\n",
    "          res = self.InorderTraversal(root.left)             # start by recursively iterating through left subtrees\n",
    "          res.append(root.data)                              # then include root node value\n",
    "          res = res + self.InorderTraversal(root.right)      # then finally, recursively iterate through right subtrees\n",
    "      return res\n",
    "\n",
    "# Postorder traversal------------------------------------------------------------------------------------------------------\n",
    "# Left -> Right -> Root\n",
    "  def PostorderTraversal(self, root):\n",
    "      res = []\n",
    "      if root:\n",
    "          res = self.PostorderTraversal(root.left)           # start by recursively iterating through left subtrees\n",
    "          res = res + self.PostorderTraversal(root.right)    # then recursively iterate through right subtrees\n",
    "          res.append(root.data)                              # then include root node value last\n",
    "      return res"
   ]
  },
  {
   "cell_type": "code",
   "execution_count": null,
   "metadata": {
    "id": "eRy1i0nLIodD"
   },
   "outputs": [],
   "source": [
    "# recreate example tree\n",
    "root = Tree(\"A\")\n",
    "root.insertLeft(\"B\")\n",
    "root.left.insertLeft(\"D\")\n",
    "root.left.insertRight(\"E\")\n",
    "root.left.right.insertLeft(\"G\")\n",
    "root.insertRight(\"C\")\n",
    "root.right.insertRight(\"F\")"
   ]
  },
  {
   "cell_type": "code",
   "execution_count": null,
   "metadata": {
    "colab": {
     "base_uri": "https://localhost:8080/"
    },
    "id": "yeZoHPkhJtY-",
    "outputId": "cb8ed4af-19c2-45f0-8531-30eee6c38591"
   },
   "outputs": [
    {
     "name": "stdout",
     "output_type": "stream",
     "text": [
      "D\n",
      "C\n"
     ]
    }
   ],
   "source": [
    "# test for yourself\n",
    "print(root.left.left.data)   # should be \"D\"\n",
    "print(root.right.data)       # should be \"C\""
   ]
  },
  {
   "cell_type": "markdown",
   "metadata": {
    "id": "rVKIJ1uo-9Fq"
   },
   "source": [
    "### Pre-order\n",
    "\n",
    "Visit root node\n",
    "Recursively traverse left subtree\n",
    "Recursively traverse right subtree\n",
    "\n",
    "it’s generally going from\n",
    "top to bottom then left to right\n",
    "\n",
    "![preorder](/CU-Boulder/DataStructures/Trees/preorder.png)"
   ]
  },
  {
   "cell_type": "code",
   "execution_count": null,
   "metadata": {
    "colab": {
     "base_uri": "https://localhost:8080/"
    },
    "id": "_ZbqpVH8I8O4",
    "outputId": "fa03868d-98ee-4f8e-aa84-61a43eda8568"
   },
   "outputs": [
    {
     "name": "stdout",
     "output_type": "stream",
     "text": [
      "['A', 'B', 'D', 'E', 'G', 'C', 'F']\n"
     ]
    }
   ],
   "source": [
    "# Preorder traversal: Root -> Left -> Right\n",
    "print(root.PreorderTraversal(root))   # should be [A, B, D, E, G, C, F]"
   ]
  },
  {
   "cell_type": "markdown",
   "metadata": {
    "id": "R3S3j4-j-_lC"
   },
   "source": [
    "### In-order:\n",
    "\n",
    "\n",
    "*   Recursively traverse left subtree\n",
    "*   Visit root node\n",
    "*   Recursively traverse right subtree\n",
    "\n",
    "It’s generally sweeping through the tree from left to right\n",
    "\n",
    "\n",
    "\n",
    "\n",
    "![inorder](inorder.png)"
   ]
  },
  {
   "cell_type": "code",
   "execution_count": null,
   "metadata": {
    "colab": {
     "base_uri": "https://localhost:8080/"
    },
    "id": "cHsIleTuKEhw",
    "outputId": "22ac0724-c00e-49a5-c8ab-a7888ee95af5"
   },
   "outputs": [
    {
     "name": "stdout",
     "output_type": "stream",
     "text": [
      "['D', 'B', 'G', 'E', 'A', 'C', 'F']\n"
     ]
    }
   ],
   "source": [
    "# Inorder traversal: Left -> Root -> Right\n",
    "print(root.InorderTraversal(root))    # should be [D, B, G, E, A, C, F]"
   ]
  },
  {
   "cell_type": "markdown",
   "metadata": {
    "id": "abf66dqd_DTt"
   },
   "source": [
    "### Post-order:\n",
    "\n",
    "*   Recursively traverse left subtree\n",
    "*   Recursively traverse right subtree\n",
    "*   Visit root node\n",
    "\n",
    "It’s generally going from left to right then bottom to top\n",
    "\n",
    "![postorder](/CU-Boulder/DataStructures/Trees/postorder.png)"
   ]
  },
  {
   "cell_type": "code",
   "execution_count": null,
   "metadata": {
    "colab": {
     "base_uri": "https://localhost:8080/"
    },
    "id": "-kVcZyoTKTX7",
    "outputId": "a16891db-a48f-4b30-8286-efc583e66258"
   },
   "outputs": [
    {
     "name": "stdout",
     "output_type": "stream",
     "text": [
      "['D', 'G', 'E', 'B', 'F', 'C', 'A']\n"
     ]
    }
   ],
   "source": [
    "# Postorder traversal: Left -> Right -> Root\n",
    "print(root.PostorderTraversal(root))  # should be [D, G, E, B, F, C, A]"
   ]
  },
  {
   "cell_type": "markdown",
   "metadata": {
    "id": "qs4MFcMTNwUj"
   },
   "source": [
    "# Heap Trees\n",
    "## Max Heap Tree:\n",
    "\n",
    "If any given node is always greater than its child node/s and the key of the root node is the largest among all other nodes. This property is also called max heap property.\n",
    "\n",
    "![maxheap](/CU-Boulder/DataStructures/Trees/maxheap.png)"
   ]
  },
  {
   "cell_type": "code",
   "execution_count": null,
   "metadata": {
    "colab": {
     "base_uri": "https://localhost:8080/"
    },
    "id": "SF5XpVAoMj55",
    "outputId": "eefea38d-5a46-419f-9a33-10a98ebca48c"
   },
   "outputs": [
    {
     "name": "stdout",
     "output_type": "stream",
     "text": [
      "The maxHeap is \n",
      "PARENT : 85 LEFT CHILD : 75 RIGHT CHILD : 14\n",
      "PARENT : 75 LEFT CHILD : 17 RIGHT CHILD : 22\n",
      "PARENT : 14 LEFT CHILD : 5 RIGHT CHILD : 1\n",
      "PARENT : 17 LEFT CHILD : 3 RIGHT CHILD : 9\n",
      "PARENT : 22 LEFT CHILD : 10 RIGHT CHILD : 0\n",
      "The Max val is 85\n"
     ]
    }
   ],
   "source": [
    "#Max heap\n",
    "\n",
    "import sys\n",
    "\n",
    "class Tree:\n",
    "\n",
    "\tdef __init__(self, maxsize):\n",
    "\n",
    "\t\tself.maxsize = maxsize\n",
    "\t\tself.size = 0\n",
    "\t\tself.Heap = [0] * (self.maxsize + 1)\n",
    "\t\tself.Heap[0] = sys.maxsize\n",
    "\t\tself.FRONT = 1\n",
    "\n",
    "\t# Function to return the position of parent for the node currently at position\n",
    "\tdef parent(self, pos):\n",
    "\n",
    "\t\treturn pos // 2\n",
    "\n",
    "\t# Function to return the position of the left child for the node currently at position\n",
    "\tdef leftChild(self, pos):\n",
    "\n",
    "\t\treturn 2 * pos\n",
    "\n",
    "\t# Function to return the position of the right child for the node currently at position\n",
    "\tdef rightChild(self, pos):\n",
    "\n",
    "\t\treturn (2 * pos) + 1\n",
    "\n",
    "\t# Function that returns true if the passed node is a leaf node\n",
    "\tdef isLeaf(self, pos):\n",
    "\n",
    "\t\tif pos >= (self.size//2) and pos <= self.size:\n",
    "\t\t\treturn True\n",
    "\t\treturn False\n",
    "\n",
    "\t# Function to swap two nodes of the heap\n",
    "\tdef swap(self, fpos, spos):\n",
    "\n",
    "\t\tself.Heap[fpos], self.Heap[spos] = (self.Heap[spos],\n",
    "\t\t\t\t\t\t\t\t\t\t\tself.Heap[fpos])\n",
    "\n",
    "\t# Function to heapify the node at pos\n",
    "\tdef maxHeapify(self, pos):\n",
    "\n",
    "\t\t# If the node is a non-leaf node and smaller than any of its child\n",
    "\t\tif not self.isLeaf(pos):\n",
    "\t\t\tif (self.Heap[pos] < self.Heap[self.leftChild(pos)] or\n",
    "\t\t\t\tself.Heap[pos] < self.Heap[self.rightChild(pos)]):\n",
    "\n",
    "\t\t\t\t# Swap with the left child and heapify the left child\n",
    "\t\t\t\tif (self.Heap[self.leftChild(pos)] > self.Heap[self.rightChild(pos)]):\n",
    "\t\t\t\t\tself.swap(pos, self.leftChild(pos))\n",
    "\t\t\t\t\tself.maxHeapify(self.leftChild(pos))\n",
    "\n",
    "\t\t\t\t# Swap with the right child and heapify the right child\n",
    "\t\t\t\telse:\n",
    "\t\t\t\t\tself.swap(pos, self.rightChild(pos))\n",
    "\t\t\t\t\tself.maxHeapify(self.rightChild(pos))\n",
    "\n",
    "\t# Function to insert a node into the heap\n",
    "\tdef insert(self, element):\n",
    "\n",
    "\t\tif self.size >= self.maxsize:\n",
    "\t\t\treturn\n",
    "\t\tself.size += 1\n",
    "\t\tself.Heap[self.size] = element\n",
    "\n",
    "\t\tcurrent = self.size\n",
    "\n",
    "\t\twhile (self.Heap[current] >\n",
    "\t\t\tself.Heap[self.parent(current)]):\n",
    "\t\t\tself.swap(current, self.parent(current))\n",
    "\t\t\tcurrent = self.parent(current)\n",
    "\n",
    "\t# Function to print the contents of the heap\n",
    "\tdef Print(self):\n",
    "\n",
    "\t\tfor i in range(1, (self.size // 2) + 1):\n",
    "\t\t\tprint(\"PARENT : \" + str(self.Heap[i]) +\n",
    "\t\t\t\t\" LEFT CHILD : \" + str(self.Heap[2 * i]) +\n",
    "\t\t\t\t\" RIGHT CHILD : \" + str(self.Heap[2 * i + 1]))\n",
    "\n",
    "\t# Function to remove and return the maximum element from the heap\n",
    "\tdef Extract_Max(self):\n",
    "\n",
    "\t\tpopped = self.Heap[self.FRONT]\n",
    "\t\tself.Heap[self.FRONT] = self.Heap[self.size]\n",
    "\t\tself.size -= 1\n",
    "\t\tself.maxHeapify(self.FRONT)\n",
    "\n",
    "\t\treturn popped\n",
    "\n",
    "# Driver Code\n",
    "if __name__ == \"__main__\":\n",
    "\n",
    "\tprint('The maxHeap is ')\n",
    "\n",
    "\tmaxHeap = Tree(15)\n",
    "\tmaxHeap.insert(5)\n",
    "\tmaxHeap.insert(3)\n",
    "\tmaxHeap.insert(17)\n",
    "\tmaxHeap.insert(10)\n",
    "\tmaxHeap.insert(75)\n",
    "\tmaxHeap.insert(14)\n",
    "\tmaxHeap.insert(1)\n",
    "\tmaxHeap.insert(22)\n",
    "\tmaxHeap.insert(9)\n",
    "\tmaxHeap.insert(85)\n",
    "\n",
    "\tmaxHeap.Print()\n",
    "\n",
    "\tprint(\"The Max val is \" + str(maxHeap.Extract_Max()))"
   ]
  },
  {
   "cell_type": "markdown",
   "metadata": {
    "id": "68v_SAcDOGRR"
   },
   "source": [
    "## Min Heap Tree:\n",
    "If any given node is always smaller than the child node/s and the key of the root node is the smallest among all other nodes. This property is also called min heap property.\n",
    "\n",
    "![minheap](/CU-Boulder/DataStructures/Trees/minheap.png)"
   ]
  },
  {
   "cell_type": "code",
   "execution_count": null,
   "metadata": {
    "colab": {
     "base_uri": "https://localhost:8080/"
    },
    "id": "_JZZi3fjMqzO",
    "outputId": "2142a1ea-01f8-470c-983f-2df8b290fc63"
   },
   "outputs": [
    {
     "name": "stdout",
     "output_type": "stream",
     "text": [
      "The minHeap is \n",
      " PARENT : 1 LEFT CHILD : 5 RIGHT CHILD : 3\n",
      " PARENT : 5 LEFT CHILD : 9 RIGHT CHILD : 75\n",
      " PARENT : 3 LEFT CHILD : 17 RIGHT CHILD : 14\n",
      " PARENT : 9 LEFT CHILD : 22 RIGHT CHILD : 10\n",
      "The Min val is 1\n"
     ]
    }
   ],
   "source": [
    "#Min Heap\n",
    "\n",
    "import sys\n",
    "\n",
    "class MinHeap:\n",
    "\n",
    "\tdef __init__(self, maxsize):\n",
    "\t\tself.maxsize = maxsize\n",
    "\t\tself.size = 0\n",
    "\t\tself.Heap = [0]*(self.maxsize + 1)\n",
    "\t\tself.Heap[0] = -1 * sys.maxsize\n",
    "\t\tself.FRONT = 1\n",
    "\n",
    "\t# Function to return the position of parent for the node currently at position\n",
    "\tdef parent(self, pos):\n",
    "\t\treturn pos//2\n",
    "\n",
    "\t# Function to return the position of the left child for the node currently at position\n",
    "\tdef leftChild(self, pos):\n",
    "\t\treturn 2 * pos\n",
    "\n",
    "\t# Function to return the position of the right child for the node currently at position\n",
    "\tdef rightChild(self, pos):\n",
    "\t\treturn (2 * pos) + 1\n",
    "\n",
    "\t# Function that returns true if the passed node is a leaf node\n",
    "\tdef isLeaf(self, pos):\n",
    "\t\treturn pos*2 > self.size\n",
    "\n",
    "\t# Function to swap two nodes of the heap\n",
    "\tdef swap(self, fpos, spos):\n",
    "\t\tself.Heap[fpos], self.Heap[spos] = self.Heap[spos], self.Heap[fpos]\n",
    "\n",
    "\t# Function to heapify the node at pos\n",
    "\tdef minHeapify(self, pos):\n",
    "\n",
    "\t\t# If the node is a non-leaf node and greater than any of its child\n",
    "\t\tif not self.isLeaf(pos):\n",
    "\t\t\tif (self.Heap[pos] > self.Heap[self.leftChild(pos)] or\n",
    "\t\t\tself.Heap[pos] > self.Heap[self.rightChild(pos)]):\n",
    "\n",
    "\t\t\t\t# Swap with the left child and heapify the left child\n",
    "\t\t\t\tif self.Heap[self.leftChild(pos)] < self.Heap[self.rightChild(pos)]:\n",
    "\t\t\t\t\tself.swap(pos, self.leftChild(pos))\n",
    "\t\t\t\t\tself.minHeapify(self.leftChild(pos))\n",
    "\n",
    "\t\t\t\t# Swap with the right child and heapify the right child\n",
    "\t\t\t\telse:\n",
    "\t\t\t\t\tself.swap(pos, self.rightChild(pos))\n",
    "\t\t\t\t\tself.minHeapify(self.rightChild(pos))\n",
    "\n",
    "\t# Function to insert a node into the heap\n",
    "\tdef insert(self, element):\n",
    "\t\tif self.size >= self.maxsize :\n",
    "\t\t\treturn\n",
    "\t\tself.size+= 1\n",
    "\t\tself.Heap[self.size] = element\n",
    "\n",
    "\t\tcurrent = self.size\n",
    "\n",
    "\t\twhile self.Heap[current] < self.Heap[self.parent(current)]:\n",
    "\t\t\tself.swap(current, self.parent(current))\n",
    "\t\t\tcurrent = self.parent(current)\n",
    "\n",
    "\t# Function to print the contents of the heap\n",
    "\tdef Print(self):\n",
    "\t\tfor i in range(1, (self.size//2)+1):\n",
    "\t\t\tprint(\" PARENT : \"+ str(self.Heap[i])+\" LEFT CHILD : \"+\n",
    "\t\t\t\t\t\t\t\tstr(self.Heap[2 * i])+\" RIGHT CHILD : \"+\n",
    "\t\t\t\t\t\t\t\tstr(self.Heap[2 * i + 1]))\n",
    "\n",
    "\t# Function to build the min heap using the minHeapify function\n",
    "\tdef minHeap(self):\n",
    "\n",
    "\t\tfor pos in range(self.size//2, 0, -1):\n",
    "\t\t\tself.minHeapify(pos)\n",
    "\n",
    "\t# Function to remove and return the minimum element from the heap\n",
    "\tdef Extract_Min(self):\n",
    "\n",
    "\t\tpopped = self.Heap[self.FRONT]\n",
    "\t\tself.Heap[self.FRONT] = self.Heap[self.size]\n",
    "\t\tself.size-= 1\n",
    "\t\tself.minHeapify(self.FRONT)\n",
    "\t\treturn popped\n",
    "\n",
    "# Driver Code\n",
    "if __name__ == \"__main__\":\n",
    "\n",
    "\tprint('The minHeap is ')\n",
    "\tminHeap = MinHeap(15)\n",
    "\tminHeap.insert(5)\n",
    "\tminHeap.insert(3)\n",
    "\tminHeap.insert(17)\n",
    "\tminHeap.insert(10)\n",
    "\tminHeap.insert(75)\n",
    "\tminHeap.insert(14)\n",
    "\tminHeap.insert(1)\n",
    "\tminHeap.insert(22)\n",
    "\tminHeap.insert(9)\n",
    "\tminHeap.minHeap()\n",
    "\n",
    "minHeap.Print()\n",
    "print(\"The Min val is \" + str(minHeap.Extract_Min()))\n"
   ]
  },
  {
   "cell_type": "markdown",
   "metadata": {
    "id": "5TWPCIh8UJk_"
   },
   "source": [
    "# Time Complexities:\n",
    "Heap Data Structure:\n",
    "\n",
    "\n",
    "*   *Remove*, *Insert* - $O(logn)$\n",
    "*   *Search* - $O(n)$\n",
    "*   *Peek* - $O(1)$"
   ]
  },
  {
   "cell_type": "markdown",
   "metadata": {
    "id": "ZGzF1BL1Qe5m"
   },
   "source": [
    "# Applications:\n",
    "\n",
    "\n",
    "\n",
    "1. File systems for:\n",
    "    * Directory structure used to organize subdirectories and files\n",
    "    * The mechanism used to allocate and link blocks of data on the storage device\n",
    "2. Class hierarchy or \"inheritance tree\" showing the relationships among classes in object-oriented programming; multiple inheritance produces non-tree graphs\n",
    "3.Natural language processing:\n",
    "    * Parse trees\n",
    "    * Modeling utterances in a generative grammar\n",
    "    * Dialogue tree for generating conversations\n",
    "4. Search trees store data in a way that makes an efficient search algorithm possible via tree traversal\n",
    "    * A binary search tree is a type of binary tree\n",
    "\n"
   ]
  },
  {
   "cell_type": "markdown",
   "metadata": {
    "id": "rBzs9cLDQ8S1"
   },
   "source": [
    "# Learning Experience\n",
    "\n",
    "Vamsi- This project made me deep dive into the concept of tree data structure for the first time in my academics. Made me understand what all the different applications use trees and its implementation in the real time situations. It made me to do handsom practice of the code and play with it. It also helped me to understand how different is this data structure different from all others.\n",
    "\n",
    "Sanyukta - I learned how to create a heap tree and navigate it with min/max and its applications.\n",
    "\n",
    "Jasmine - In general I realized what a powerful and interesting data structure trees (or any of the non-linear data structures) are. After this implementation work in particular, it became even more clear how difficult it would be to try to traverse through a general tree (as opposed to a binary tree). And I also realized it's difficult to visualize a tree through it's code alone. This exercise also helped further emphasize how useful and powerful class methods in Python are."
   ]
  },
  {
   "cell_type": "markdown",
   "metadata": {
    "id": "g7yxa20rRNXa"
   },
   "source": [
    "# References\n",
    "\n",
    "## General tree\n",
    "<https://www.cs.cmu.edu/~clo/www/CMU/DataStructures/Lessons/lesson4_1.htm>\n",
    "\n",
    "<https://towardsdatascience.com/8-useful-tree-data-structures-worth-knowing-8532c7231e8c>\n",
    "\n",
    "## Tree traversal\n",
    "<https://www.geeksforgeeks.org/tree-traversals-inorder-preorder-and-postorder/>\n",
    "\n",
    "<https://www.tutorialspoint.com/data_structures_algorithms/tree_traversal.htm>\n",
    "\n",
    "<https://youtu.be/IpyCqRmaKW4>\n",
    "\n",
    "## Heap Tree\n",
    "<https://www.youtube.com/watch?v=pLIajuc31qk>\n"
   ]
  }
 ],
 "metadata": {
  "colab": {
   "provenance": []
  },
  "kernelspec": {
   "display_name": "Python 3 (ipykernel)",
   "language": "python",
   "name": "python3"
  },
  "language_info": {
   "codemirror_mode": {
    "name": "ipython",
    "version": 3
   },
   "file_extension": ".py",
   "mimetype": "text/x-python",
   "name": "python",
   "nbconvert_exporter": "python",
   "pygments_lexer": "ipython3",
   "version": "3.8.18"
  }
 },
 "nbformat": 4,
 "nbformat_minor": 1
}
