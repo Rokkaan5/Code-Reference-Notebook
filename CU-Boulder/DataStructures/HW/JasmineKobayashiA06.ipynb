{
 "cells": [
  {
   "cell_type": "markdown",
   "metadata": {
    "id": "lkD67LWWfZi5"
   },
   "source": [
    "# Part A: Recursion\n",
    "\n",
    "You will define recursive functions such as:\n",
    "\n",
    "- merge sort,\n",
    "- quick sort, and\n",
    "- find (n+1)th number in the Fibonacci series (as below)\n",
    "\n",
    "Definition of Fibonacci Series:\n",
    "\n",
    "- `fib(0) = 0`, `fib(1) = 1`\n",
    "- `fib(n) = fib(n-1) + (fib(n-2)`\n",
    "\n",
    "Define a function fib_recursion(n) using the recursion approach to print the result of:\n",
    "\n",
    "1. fib_recursion(1)\n",
    "2. fib_recursion(10)\n",
    "3. fib_recursion(30)\n",
    "4. fib_recursion(100) #write N/A if you have to wait for more than 1 minute to get the result"
   ]
  },
  {
   "cell_type": "markdown",
   "metadata": {
    "id": "jxTiooV4gFHB"
   },
   "source": [
    "## Merge sort"
   ]
  },
  {
   "cell_type": "code",
   "execution_count": 1,
   "metadata": {
    "executionInfo": {
     "elapsed": 175,
     "status": "ok",
     "timestamp": 1665542222715,
     "user": {
      "displayName": "Jasmine Kobayashi",
      "userId": "02556112601305279346"
     },
     "user_tz": 360
    },
    "id": "-E0sS9G-hTyf"
   },
   "outputs": [],
   "source": [
    "def merge(arr,left,middle,right):\n",
    "  n1 = middle - left + 1      # length between left index and middle index (plus one because of zero index)\n",
    "  n2 = right - middle         # length between middle index and right index\n",
    "\n",
    "  # two temporary arrays \n",
    "  L = [0] * (n1)              # array of length n1, filled with zeros\n",
    "  R = [0] * (n2)              # second temp array of length n2, filled with zeros\n",
    "\n",
    "  # Copy data to arrays L and R\n",
    "  for i in range(0,n1):    # from zero to n1\n",
    "    L[i] = arr[left + i]   # fill L with elements from given array \"arr\" starting from \"left\" index to \"middle\" index\n",
    "\n",
    "  for j in range(0,n2):\n",
    "    R[j] = arr[middle + 1 + j]   # fill R with elements from given array \"arr\" starting one element to right of \"middle\" index to \"right\" index\n",
    "\n",
    "  # Merge arrays back into arr[left,...,right]\n",
    "  l = 0    # Starting index of temp array \"L\"\n",
    "  r = 0    # Starting index of temp array \"R\"\n",
    "  k = left # Starting index of given array \"arr\"\n",
    "\n",
    "  # Find the smaller value when iterating and comparing each temporary list to determine what should be the next element of \"arr\" (to create the sorted list)\n",
    "  while l < n1 and r < n2: # go through both lists at the same time\n",
    "    if L[l] <= R[r]:       # if l'th element of L is less than r'th element of R\n",
    "      arr[k] = L[l]           # then the k'th element of arr is the element from L\n",
    "      l += 1                  # and move on to next element of L\n",
    "\n",
    "    else:                  # otherwise (the r'th element of R is the smaller value)\n",
    "      arr[k] = R[r]           # use the r'th as the k'th element of arr\n",
    "      r += 1                  # move on to the next element of R\n",
    "    \n",
    "    k += 1                 # now we can move on to next element of arr\n",
    "\n",
    "  # finished going through one of the temporary arrays and need to finish carrying over the remaining elements if applicable\n",
    "  while l < n1:\n",
    "    arr[k] = L[l]\n",
    "    l += 1\n",
    "    k += 1\n",
    "\n",
    "  while r < n2: \n",
    "    arr[k] = R[r]\n",
    "    r += 1\n",
    "    k += 1"
   ]
  },
  {
   "cell_type": "code",
   "execution_count": 2,
   "metadata": {
    "executionInfo": {
     "elapsed": 148,
     "status": "ok",
     "timestamp": 1665542223731,
     "user": {
      "displayName": "Jasmine Kobayashi",
      "userId": "02556112601305279346"
     },
     "user_tz": 360
    },
    "id": "6QDgnoWoBh1w"
   },
   "outputs": [],
   "source": [
    "def mergesort(arr, left, right):\n",
    "  if left < right:\n",
    "    middle = left + (right-1)//2\n",
    "\n",
    "    mergesort(arr,left,middle)\n",
    "    mergesort(arr,middle+1,right)\n",
    "    merge(arr,left,middle,right)"
   ]
  },
  {
   "cell_type": "code",
   "execution_count": 3,
   "metadata": {
    "colab": {
     "base_uri": "https://localhost:8080/",
     "height": 381
    },
    "executionInfo": {
     "elapsed": 1878,
     "status": "error",
     "timestamp": 1665542226807,
     "user": {
      "displayName": "Jasmine Kobayashi",
      "userId": "02556112601305279346"
     },
     "user_tz": 360
    },
    "id": "mZ8AZNVvCYwq",
    "outputId": "38a5646b-5738-4f40-9241-2f05e3a63cb4"
   },
   "outputs": [
    {
     "ename": "RecursionError",
     "evalue": "ignored",
     "output_type": "error",
     "traceback": [
      "\u001b[0;31m---------------------------------------------------------------------------\u001b[0m",
      "\u001b[0;31mRecursionError\u001b[0m                            Traceback (most recent call last)",
      "\u001b[0;32m<ipython-input-3-07dd065cc49e>\u001b[0m in \u001b[0;36m<module>\u001b[0;34m\u001b[0m\n\u001b[1;32m      1\u001b[0m \u001b[0mset1\u001b[0m \u001b[0;34m=\u001b[0m \u001b[0;34m[\u001b[0m\u001b[0;34m-\u001b[0m\u001b[0;36m1\u001b[0m\u001b[0;34m,\u001b[0m \u001b[0;36m0\u001b[0m\u001b[0;34m,\u001b[0m \u001b[0;36m3\u001b[0m\u001b[0;34m,\u001b[0m \u001b[0;36m2\u001b[0m\u001b[0;34m,\u001b[0m \u001b[0;36m4\u001b[0m\u001b[0;34m,\u001b[0m \u001b[0;36m6\u001b[0m\u001b[0;34m]\u001b[0m\u001b[0;34m\u001b[0m\u001b[0;34m\u001b[0m\u001b[0m\n\u001b[0;32m----> 2\u001b[0;31m \u001b[0mmergesort\u001b[0m\u001b[0;34m(\u001b[0m\u001b[0mset1\u001b[0m\u001b[0;34m,\u001b[0m\u001b[0;36m0\u001b[0m\u001b[0;34m,\u001b[0m\u001b[0mlen\u001b[0m\u001b[0;34m(\u001b[0m\u001b[0mset1\u001b[0m\u001b[0;34m)\u001b[0m\u001b[0;34m)\u001b[0m\u001b[0;34m\u001b[0m\u001b[0;34m\u001b[0m\u001b[0m\n\u001b[0m\u001b[1;32m      3\u001b[0m \u001b[0mset1\u001b[0m\u001b[0;34m\u001b[0m\u001b[0;34m\u001b[0m\u001b[0m\n",
      "\u001b[0;32m<ipython-input-2-435689afba57>\u001b[0m in \u001b[0;36mmergesort\u001b[0;34m(arr, left, right)\u001b[0m\n\u001b[1;32m      4\u001b[0m \u001b[0;34m\u001b[0m\u001b[0m\n\u001b[1;32m      5\u001b[0m     \u001b[0mmergesort\u001b[0m\u001b[0;34m(\u001b[0m\u001b[0marr\u001b[0m\u001b[0;34m,\u001b[0m\u001b[0mleft\u001b[0m\u001b[0;34m,\u001b[0m\u001b[0mmiddle\u001b[0m\u001b[0;34m)\u001b[0m\u001b[0;34m\u001b[0m\u001b[0;34m\u001b[0m\u001b[0m\n\u001b[0;32m----> 6\u001b[0;31m     \u001b[0mmergesort\u001b[0m\u001b[0;34m(\u001b[0m\u001b[0marr\u001b[0m\u001b[0;34m,\u001b[0m\u001b[0mmiddle\u001b[0m\u001b[0;34m+\u001b[0m\u001b[0;36m1\u001b[0m\u001b[0;34m,\u001b[0m\u001b[0mright\u001b[0m\u001b[0;34m)\u001b[0m\u001b[0;34m\u001b[0m\u001b[0;34m\u001b[0m\u001b[0m\n\u001b[0m\u001b[1;32m      7\u001b[0m     \u001b[0mmerge\u001b[0m\u001b[0;34m(\u001b[0m\u001b[0marr\u001b[0m\u001b[0;34m,\u001b[0m\u001b[0mleft\u001b[0m\u001b[0;34m,\u001b[0m\u001b[0mmiddle\u001b[0m\u001b[0;34m,\u001b[0m\u001b[0mright\u001b[0m\u001b[0;34m)\u001b[0m\u001b[0;34m\u001b[0m\u001b[0;34m\u001b[0m\u001b[0m\n",
      "\u001b[0;32m<ipython-input-2-435689afba57>\u001b[0m in \u001b[0;36mmergesort\u001b[0;34m(arr, left, right)\u001b[0m\n\u001b[1;32m      3\u001b[0m     \u001b[0mmiddle\u001b[0m \u001b[0;34m=\u001b[0m \u001b[0mleft\u001b[0m \u001b[0;34m+\u001b[0m \u001b[0;34m(\u001b[0m\u001b[0mright\u001b[0m\u001b[0;34m-\u001b[0m\u001b[0;36m1\u001b[0m\u001b[0;34m)\u001b[0m\u001b[0;34m//\u001b[0m\u001b[0;36m2\u001b[0m\u001b[0;34m\u001b[0m\u001b[0;34m\u001b[0m\u001b[0m\n\u001b[1;32m      4\u001b[0m \u001b[0;34m\u001b[0m\u001b[0m\n\u001b[0;32m----> 5\u001b[0;31m     \u001b[0mmergesort\u001b[0m\u001b[0;34m(\u001b[0m\u001b[0marr\u001b[0m\u001b[0;34m,\u001b[0m\u001b[0mleft\u001b[0m\u001b[0;34m,\u001b[0m\u001b[0mmiddle\u001b[0m\u001b[0;34m)\u001b[0m\u001b[0;34m\u001b[0m\u001b[0;34m\u001b[0m\u001b[0m\n\u001b[0m\u001b[1;32m      6\u001b[0m     \u001b[0mmergesort\u001b[0m\u001b[0;34m(\u001b[0m\u001b[0marr\u001b[0m\u001b[0;34m,\u001b[0m\u001b[0mmiddle\u001b[0m\u001b[0;34m+\u001b[0m\u001b[0;36m1\u001b[0m\u001b[0;34m,\u001b[0m\u001b[0mright\u001b[0m\u001b[0;34m)\u001b[0m\u001b[0;34m\u001b[0m\u001b[0;34m\u001b[0m\u001b[0m\n\u001b[1;32m      7\u001b[0m     \u001b[0mmerge\u001b[0m\u001b[0;34m(\u001b[0m\u001b[0marr\u001b[0m\u001b[0;34m,\u001b[0m\u001b[0mleft\u001b[0m\u001b[0;34m,\u001b[0m\u001b[0mmiddle\u001b[0m\u001b[0;34m,\u001b[0m\u001b[0mright\u001b[0m\u001b[0;34m)\u001b[0m\u001b[0;34m\u001b[0m\u001b[0;34m\u001b[0m\u001b[0m\n",
      "... last 1 frames repeated, from the frame below ...\n",
      "\u001b[0;32m<ipython-input-2-435689afba57>\u001b[0m in \u001b[0;36mmergesort\u001b[0;34m(arr, left, right)\u001b[0m\n\u001b[1;32m      3\u001b[0m     \u001b[0mmiddle\u001b[0m \u001b[0;34m=\u001b[0m \u001b[0mleft\u001b[0m \u001b[0;34m+\u001b[0m \u001b[0;34m(\u001b[0m\u001b[0mright\u001b[0m\u001b[0;34m-\u001b[0m\u001b[0;36m1\u001b[0m\u001b[0;34m)\u001b[0m\u001b[0;34m//\u001b[0m\u001b[0;36m2\u001b[0m\u001b[0;34m\u001b[0m\u001b[0;34m\u001b[0m\u001b[0m\n\u001b[1;32m      4\u001b[0m \u001b[0;34m\u001b[0m\u001b[0m\n\u001b[0;32m----> 5\u001b[0;31m     \u001b[0mmergesort\u001b[0m\u001b[0;34m(\u001b[0m\u001b[0marr\u001b[0m\u001b[0;34m,\u001b[0m\u001b[0mleft\u001b[0m\u001b[0;34m,\u001b[0m\u001b[0mmiddle\u001b[0m\u001b[0;34m)\u001b[0m\u001b[0;34m\u001b[0m\u001b[0;34m\u001b[0m\u001b[0m\n\u001b[0m\u001b[1;32m      6\u001b[0m     \u001b[0mmergesort\u001b[0m\u001b[0;34m(\u001b[0m\u001b[0marr\u001b[0m\u001b[0;34m,\u001b[0m\u001b[0mmiddle\u001b[0m\u001b[0;34m+\u001b[0m\u001b[0;36m1\u001b[0m\u001b[0;34m,\u001b[0m\u001b[0mright\u001b[0m\u001b[0;34m)\u001b[0m\u001b[0;34m\u001b[0m\u001b[0;34m\u001b[0m\u001b[0m\n\u001b[1;32m      7\u001b[0m     \u001b[0mmerge\u001b[0m\u001b[0;34m(\u001b[0m\u001b[0marr\u001b[0m\u001b[0;34m,\u001b[0m\u001b[0mleft\u001b[0m\u001b[0;34m,\u001b[0m\u001b[0mmiddle\u001b[0m\u001b[0;34m,\u001b[0m\u001b[0mright\u001b[0m\u001b[0;34m)\u001b[0m\u001b[0;34m\u001b[0m\u001b[0;34m\u001b[0m\u001b[0m\n",
      "\u001b[0;31mRecursionError\u001b[0m: maximum recursion depth exceeded in comparison"
     ]
    }
   ],
   "source": [
    "set1 = [-1, 0, 3, 2, 4, 6]\n",
    "mergesort(set1,0,len(set1))\n",
    "set1"
   ]
  },
  {
   "cell_type": "markdown",
   "metadata": {
    "id": "i2YQjWMYl4uA"
   },
   "source": [
    "## Quick sort"
   ]
  },
  {
   "cell_type": "code",
   "execution_count": null,
   "metadata": {
    "id": "gJSObJMHl6kC"
   },
   "outputs": [],
   "source": [
    "def quick_sort(list1):\n",
    "  if base_case:\n",
    "    pass\n",
    "  else:\n",
    "    pivot = list1[0]\n"
   ]
  },
  {
   "cell_type": "markdown",
   "metadata": {
    "id": "EPc68EHbl7hu"
   },
   "source": [
    "## Fibonacci Series"
   ]
  },
  {
   "cell_type": "code",
   "execution_count": null,
   "metadata": {
    "id": "nHCM5Podl9nJ"
   },
   "outputs": [],
   "source": []
  },
  {
   "cell_type": "markdown",
   "metadata": {
    "id": "AdbzK5xTl-F5"
   },
   "source": [
    "## Fibonacci recursion"
   ]
  },
  {
   "cell_type": "code",
   "execution_count": null,
   "metadata": {
    "id": "n9Dxh1SpmAmB"
   },
   "outputs": [],
   "source": [
    "def fib_recursion(n):\n",
    "  if n==0 or n==1:\n",
    "    return n\n",
    "  return fib_recursion(n-1) + fib_recursion(n-2)"
   ]
  },
  {
   "cell_type": "markdown",
   "metadata": {
    "id": "zB5VHbo-aLBL"
   },
   "source": [
    "# Part B: Dynamic Programming\n",
    "\n",
    "You will define a new function to find (n+1)th number in the Fibonacci series using dynamic programming\n",
    "\n",
    "Define a function fib_dp(n) using the dynamic programming approach to print the result of:\n",
    "\n",
    "1. fib(1)\n",
    "2. fib(10)\n",
    "3. fib(30)\n",
    "4. fib(100) \n",
    "5. fib(500) \n",
    "6. fib(900) \n",
    "7. fib(20000) #write N/A if you have to wait for more than 5 minutes to get the result"
   ]
  },
  {
   "cell_type": "code",
   "execution_count": 1,
   "metadata": {
    "executionInfo": {
     "elapsed": 3,
     "status": "ok",
     "timestamp": 1665531586092,
     "user": {
      "displayName": "Jasmine Kobayashi",
      "userId": "02556112601305279346"
     },
     "user_tz": 360
    },
    "id": "AQC6ZlX0atbi"
   },
   "outputs": [],
   "source": [
    "def fib_dp(n):\n",
    "  cheat_sheet = [-1] * (n+1)\n",
    "  cheat_sheet[0] = 0\n",
    "  cheat_sheet[1] = 1\n",
    "  return fib_dp_helper(cheat_sheet,n)\n",
    "\n",
    "def fib_dp_helper(cheat_sheet,n):\n",
    "  if cheat_sheet[n] != -1:\n",
    "    return cheat_sheet[n]\n",
    "  cheat_sheet[n] = fib_dp_helper(cheat_sheet,n-1) + fib_dp_helper(cheat_sheet,n-2)\n",
    "  return cheat_sheet[n]"
   ]
  },
  {
   "cell_type": "code",
   "execution_count": 3,
   "metadata": {
    "colab": {
     "base_uri": "https://localhost:8080/",
     "height": 468
    },
    "executionInfo": {
     "elapsed": 1634,
     "status": "error",
     "timestamp": 1665531990092,
     "user": {
      "displayName": "Jasmine Kobayashi",
      "userId": "02556112601305279346"
     },
     "user_tz": 360
    },
    "id": "BW8X4Zu_axhv",
    "outputId": "ebc97e59-b0b7-4c61-abbd-db788fc6a103"
   },
   "outputs": [
    {
     "name": "stdout",
     "output_type": "stream",
     "text": [
      "1\n",
      "55\n",
      "832040\n",
      "354224848179261915075\n",
      "139423224561697880139724382870407283950070256587697307264108962948325571622863290691557658876222521294125\n"
     ]
    },
    {
     "ename": "RecursionError",
     "evalue": "ignored",
     "output_type": "error",
     "traceback": [
      "\u001b[0;31m---------------------------------------------------------------------------\u001b[0m",
      "\u001b[0;31mRecursionError\u001b[0m                            Traceback (most recent call last)",
      "\u001b[0;32m<ipython-input-3-a752c00788e8>\u001b[0m in \u001b[0;36m<module>\u001b[0;34m\u001b[0m\n\u001b[1;32m      4\u001b[0m \u001b[0mprint\u001b[0m\u001b[0;34m(\u001b[0m\u001b[0mfib_dp\u001b[0m\u001b[0;34m(\u001b[0m\u001b[0;36m100\u001b[0m\u001b[0;34m)\u001b[0m\u001b[0;34m)\u001b[0m\u001b[0;34m\u001b[0m\u001b[0;34m\u001b[0m\u001b[0m\n\u001b[1;32m      5\u001b[0m \u001b[0mprint\u001b[0m\u001b[0;34m(\u001b[0m\u001b[0mfib_dp\u001b[0m\u001b[0;34m(\u001b[0m\u001b[0;36m500\u001b[0m\u001b[0;34m)\u001b[0m\u001b[0;34m)\u001b[0m\u001b[0;34m\u001b[0m\u001b[0;34m\u001b[0m\u001b[0m\n\u001b[0;32m----> 6\u001b[0;31m \u001b[0mprint\u001b[0m\u001b[0;34m(\u001b[0m\u001b[0mfib_dp\u001b[0m\u001b[0;34m(\u001b[0m\u001b[0;36m1000\u001b[0m\u001b[0;34m)\u001b[0m\u001b[0;34m)\u001b[0m\u001b[0;34m\u001b[0m\u001b[0;34m\u001b[0m\u001b[0m\n\u001b[0m\u001b[1;32m      7\u001b[0m \u001b[0;31m#print(fib_dp(20000)) error: maximum recursion depth exceeded in comparison\u001b[0m\u001b[0;34m\u001b[0m\u001b[0;34m\u001b[0m\u001b[0;34m\u001b[0m\u001b[0m\n",
      "\u001b[0;32m<ipython-input-1-980528c48382>\u001b[0m in \u001b[0;36mfib_dp\u001b[0;34m(n)\u001b[0m\n\u001b[1;32m      3\u001b[0m   \u001b[0mcheat_sheet\u001b[0m\u001b[0;34m[\u001b[0m\u001b[0;36m0\u001b[0m\u001b[0;34m]\u001b[0m \u001b[0;34m=\u001b[0m \u001b[0;36m0\u001b[0m\u001b[0;34m\u001b[0m\u001b[0;34m\u001b[0m\u001b[0m\n\u001b[1;32m      4\u001b[0m   \u001b[0mcheat_sheet\u001b[0m\u001b[0;34m[\u001b[0m\u001b[0;36m1\u001b[0m\u001b[0;34m]\u001b[0m \u001b[0;34m=\u001b[0m \u001b[0;36m1\u001b[0m\u001b[0;34m\u001b[0m\u001b[0;34m\u001b[0m\u001b[0m\n\u001b[0;32m----> 5\u001b[0;31m   \u001b[0;32mreturn\u001b[0m \u001b[0mfib_dp_helper\u001b[0m\u001b[0;34m(\u001b[0m\u001b[0mcheat_sheet\u001b[0m\u001b[0;34m,\u001b[0m\u001b[0mn\u001b[0m\u001b[0;34m)\u001b[0m\u001b[0;34m\u001b[0m\u001b[0;34m\u001b[0m\u001b[0m\n\u001b[0m\u001b[1;32m      6\u001b[0m \u001b[0;34m\u001b[0m\u001b[0m\n\u001b[1;32m      7\u001b[0m \u001b[0;32mdef\u001b[0m \u001b[0mfib_dp_helper\u001b[0m\u001b[0;34m(\u001b[0m\u001b[0mcheat_sheet\u001b[0m\u001b[0;34m,\u001b[0m\u001b[0mn\u001b[0m\u001b[0;34m)\u001b[0m\u001b[0;34m:\u001b[0m\u001b[0;34m\u001b[0m\u001b[0;34m\u001b[0m\u001b[0m\n",
      "\u001b[0;32m<ipython-input-1-980528c48382>\u001b[0m in \u001b[0;36mfib_dp_helper\u001b[0;34m(cheat_sheet, n)\u001b[0m\n\u001b[1;32m      8\u001b[0m   \u001b[0;32mif\u001b[0m \u001b[0mcheat_sheet\u001b[0m\u001b[0;34m[\u001b[0m\u001b[0mn\u001b[0m\u001b[0;34m]\u001b[0m \u001b[0;34m!=\u001b[0m \u001b[0;34m-\u001b[0m\u001b[0;36m1\u001b[0m\u001b[0;34m:\u001b[0m\u001b[0;34m\u001b[0m\u001b[0;34m\u001b[0m\u001b[0m\n\u001b[1;32m      9\u001b[0m     \u001b[0;32mreturn\u001b[0m \u001b[0mcheat_sheet\u001b[0m\u001b[0;34m[\u001b[0m\u001b[0mn\u001b[0m\u001b[0;34m]\u001b[0m\u001b[0;34m\u001b[0m\u001b[0;34m\u001b[0m\u001b[0m\n\u001b[0;32m---> 10\u001b[0;31m   \u001b[0mcheat_sheet\u001b[0m\u001b[0;34m[\u001b[0m\u001b[0mn\u001b[0m\u001b[0;34m]\u001b[0m \u001b[0;34m=\u001b[0m \u001b[0mfib_dp_helper\u001b[0m\u001b[0;34m(\u001b[0m\u001b[0mcheat_sheet\u001b[0m\u001b[0;34m,\u001b[0m\u001b[0mn\u001b[0m\u001b[0;34m-\u001b[0m\u001b[0;36m1\u001b[0m\u001b[0;34m)\u001b[0m \u001b[0;34m+\u001b[0m \u001b[0mfib_dp_helper\u001b[0m\u001b[0;34m(\u001b[0m\u001b[0mcheat_sheet\u001b[0m\u001b[0;34m,\u001b[0m\u001b[0mn\u001b[0m\u001b[0;34m-\u001b[0m\u001b[0;36m2\u001b[0m\u001b[0;34m)\u001b[0m\u001b[0;34m\u001b[0m\u001b[0;34m\u001b[0m\u001b[0m\n\u001b[0m\u001b[1;32m     11\u001b[0m   \u001b[0;32mreturn\u001b[0m \u001b[0mcheat_sheet\u001b[0m\u001b[0;34m[\u001b[0m\u001b[0mn\u001b[0m\u001b[0;34m]\u001b[0m\u001b[0;34m\u001b[0m\u001b[0;34m\u001b[0m\u001b[0m\n",
      "... last 1 frames repeated, from the frame below ...\n",
      "\u001b[0;32m<ipython-input-1-980528c48382>\u001b[0m in \u001b[0;36mfib_dp_helper\u001b[0;34m(cheat_sheet, n)\u001b[0m\n\u001b[1;32m      8\u001b[0m   \u001b[0;32mif\u001b[0m \u001b[0mcheat_sheet\u001b[0m\u001b[0;34m[\u001b[0m\u001b[0mn\u001b[0m\u001b[0;34m]\u001b[0m \u001b[0;34m!=\u001b[0m \u001b[0;34m-\u001b[0m\u001b[0;36m1\u001b[0m\u001b[0;34m:\u001b[0m\u001b[0;34m\u001b[0m\u001b[0;34m\u001b[0m\u001b[0m\n\u001b[1;32m      9\u001b[0m     \u001b[0;32mreturn\u001b[0m \u001b[0mcheat_sheet\u001b[0m\u001b[0;34m[\u001b[0m\u001b[0mn\u001b[0m\u001b[0;34m]\u001b[0m\u001b[0;34m\u001b[0m\u001b[0;34m\u001b[0m\u001b[0m\n\u001b[0;32m---> 10\u001b[0;31m   \u001b[0mcheat_sheet\u001b[0m\u001b[0;34m[\u001b[0m\u001b[0mn\u001b[0m\u001b[0;34m]\u001b[0m \u001b[0;34m=\u001b[0m \u001b[0mfib_dp_helper\u001b[0m\u001b[0;34m(\u001b[0m\u001b[0mcheat_sheet\u001b[0m\u001b[0;34m,\u001b[0m\u001b[0mn\u001b[0m\u001b[0;34m-\u001b[0m\u001b[0;36m1\u001b[0m\u001b[0;34m)\u001b[0m \u001b[0;34m+\u001b[0m \u001b[0mfib_dp_helper\u001b[0m\u001b[0;34m(\u001b[0m\u001b[0mcheat_sheet\u001b[0m\u001b[0;34m,\u001b[0m\u001b[0mn\u001b[0m\u001b[0;34m-\u001b[0m\u001b[0;36m2\u001b[0m\u001b[0;34m)\u001b[0m\u001b[0;34m\u001b[0m\u001b[0;34m\u001b[0m\u001b[0m\n\u001b[0m\u001b[1;32m     11\u001b[0m   \u001b[0;32mreturn\u001b[0m \u001b[0mcheat_sheet\u001b[0m\u001b[0;34m[\u001b[0m\u001b[0mn\u001b[0m\u001b[0;34m]\u001b[0m\u001b[0;34m\u001b[0m\u001b[0;34m\u001b[0m\u001b[0m\n",
      "\u001b[0;31mRecursionError\u001b[0m: maximum recursion depth exceeded in comparison"
     ]
    }
   ],
   "source": [
    "print(fib_dp(1))\n",
    "print(fib_dp(10))\n",
    "print(fib_dp(30))\n",
    "print(fib_dp(100))\n",
    "print(fib_dp(500))\n",
    "print(fib_dp(1000))   # error: maximum recursion depth exceeded in comparison\n",
    "#print(fib_dp(20000)) # error: maximum recursion depth exceeded in comparison"
   ]
  },
  {
   "cell_type": "code",
   "execution_count": null,
   "metadata": {
    "id": "F0QuaB3OcTPn"
   },
   "outputs": [],
   "source": []
  }
 ],
 "metadata": {
  "colab": {
   "authorship_tag": "ABX9TyNW09kOVoZOl8uDZ1GCUgVN",
   "provenance": []
  },
  "kernelspec": {
   "display_name": "Python 3 (ipykernel)",
   "language": "python",
   "name": "python3"
  },
  "language_info": {
   "codemirror_mode": {
    "name": "ipython",
    "version": 3
   },
   "file_extension": ".py",
   "mimetype": "text/x-python",
   "name": "python",
   "nbconvert_exporter": "python",
   "pygments_lexer": "ipython3",
   "version": "3.8.16"
  }
 },
 "nbformat": 4,
 "nbformat_minor": 4
}
