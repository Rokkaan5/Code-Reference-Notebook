{
 "cells": [
  {
   "cell_type": "code",
   "execution_count": null,
   "metadata": {
    "id": "DW7-3d9Gw4GN"
   },
   "outputs": [],
   "source": [
    "def insertion_sort(given_list):\n",
    "  sorted = []                       # create empty \"sorted-list\"\n",
    "  unsorted = given_list.copy()      # create copy of given list, which is the start-phase of \"unsorted-list\"\n",
    "\n",
    "  # start of sorting process==========================================================================================================================================\n",
    "  print(\"Insertion sort for {} starts\".format(unsorted))\n",
    "  while unsorted != []:\n",
    "    a = unsorted.pop(0)    # take first element of \"unsorted-list\" (and remove it from unsorted list)\n",
    "    \n",
    "    # if \"sorted-list\" is empty, just add element \"a\"-----------------------------------------------------------------------------------------------------------------\n",
    "    if sorted == []:\n",
    "      sorted.append(a)\n",
    "    \n",
    "    # if \"sorted-list\" only has 1 element in it-----------------------------------------------------------------------------------------------------------------------\n",
    "    elif len(sorted) < 2:\n",
    "      # determine if popped-element \"a\" should go to left of (less than) or right of (greater than) only element in \"sorted-list\"\n",
    "      if a > sorted[0]:   \n",
    "        sorted.append(a)\n",
    "      else:\n",
    "        sorted.insert(0,a)\n",
    "\n",
    "    # if \"sorted-list\" has more than one element, iterate through it to determine where to put popped element \"a\"-----------------------------------------------------\n",
    "    else:\n",
    "      # if \"a\" is less than the first element (which should be smallest value in \"sorted-list\"), insert at beginning\n",
    "      if a < sorted[0]:\n",
    "        sorted.insert(0,a)\n",
    "      # if \"a\" is greater than the last element (which should be the largest value in \"sorted-list\"), add it to very end of list\n",
    "      elif a > sorted[-1]:\n",
    "        sorted.append(a)\n",
    "      # otherwise, find where to insert \"a\" between\n",
    "      else:\n",
    "        for i in range(1,len(sorted)):\n",
    "          if a > sorted[i-1] and a < sorted[i]:\n",
    "            sorted.insert(i,a)\n",
    "    print(\"partially ordered list as: {}\".format(sorted))\n",
    "    # end of one round of while-loop===================================================================================================================================\n",
    "  \n",
    "  # Exiting while-loop should mean there are no more elements in the \"unsorted-list\", and \"sorted-list\" should be finished and sorted\n",
    "  return sorted"
   ]
  },
  {
   "cell_type": "code",
   "execution_count": null,
   "metadata": {
    "id": "5sdg1L8fuA8i"
   },
   "outputs": [],
   "source": [
    "def selection_sort(given_list):\n",
    "  sorted = []                       # create empty \"sorted-list\"\n",
    "  unsorted = given_list.copy()      # create copy of given list, which is the start-phase of \"unsorted-list\"\n",
    "\n",
    "  # start of sorting process==========================================================================================================================================\n",
    "  print(\"Selection sort for {} starts\".format(unsorted))\n",
    "  while unsorted != []:\n",
    "    m1 = min(unsorted)\n",
    "    unsorted.remove(m1)\n",
    "\n",
    "    sorted.append(m1)\n",
    "    print(\"partially ordered list as: {}\".format(sorted))\n",
    "    # end of one round of while-loop===================================================================================================================================\n",
    "  return sorted"
   ]
  },
  {
   "cell_type": "code",
   "execution_count": null,
   "metadata": {
    "id": "3xwpsSleuDH6"
   },
   "outputs": [],
   "source": [
    "def bubble_sort(given_list):\n",
    "  swap = True\n",
    "  print(\"Bubble sort for {} starts\".format(given_list))\n",
    "  while swap:\n",
    "    swap = False\n",
    "    for i in range(len(given_list)-1):\n",
    "      first = given_list[i]\n",
    "      second = given_list[i+1]\n",
    "      if first > second :\n",
    "        given_list[i] = second\n",
    "        given_list[i+1] = first\n",
    "        swap = True\n",
    "    print(\"partially ordered list as: {}\".format(given_list))\n",
    "  return given_list"
   ]
  },
  {
   "cell_type": "markdown",
   "metadata": {
    "id": "JcBw7Wzm6wVK"
   },
   "source": [
    "# Testing the sorting functions"
   ]
  },
  {
   "cell_type": "code",
   "execution_count": null,
   "metadata": {
    "id": "oj8AtotVuFiP"
   },
   "outputs": [],
   "source": [
    "set1 = [31,23,15,7,6,4,2]\n",
    "set2 = [1,3,5,7,9,12,14,16]"
   ]
  },
  {
   "cell_type": "code",
   "execution_count": null,
   "metadata": {
    "colab": {
     "base_uri": "https://localhost:8080/"
    },
    "executionInfo": {
     "elapsed": 14,
     "status": "ok",
     "timestamp": 1664056570396,
     "user": {
      "displayName": "Jasmine Kobayashi",
      "userId": "02556112601305279346"
     },
     "user_tz": 360
    },
    "id": "5wmoLYqkRdC6",
    "outputId": "84f95481-41b9-4825-d0f6-24d25ea8df84"
   },
   "outputs": [
    {
     "name": "stdout",
     "output_type": "stream",
     "text": [
      "Insertion sort for [31, 23, 15, 7, 6, 4, 2] starts\n",
      "partially ordered list as: [31]\n",
      "partially ordered list as: [23, 31]\n",
      "partially ordered list as: [15, 23, 31]\n",
      "partially ordered list as: [7, 15, 23, 31]\n",
      "partially ordered list as: [6, 7, 15, 23, 31]\n",
      "partially ordered list as: [4, 6, 7, 15, 23, 31]\n",
      "partially ordered list as: [2, 4, 6, 7, 15, 23, 31]\n",
      "Selection sort for [31, 23, 15, 7, 6, 4, 2] starts\n",
      "partially ordered list as: [2]\n",
      "partially ordered list as: [2, 4]\n",
      "partially ordered list as: [2, 4, 6]\n",
      "partially ordered list as: [2, 4, 6, 7]\n",
      "partially ordered list as: [2, 4, 6, 7, 15]\n",
      "partially ordered list as: [2, 4, 6, 7, 15, 23]\n",
      "partially ordered list as: [2, 4, 6, 7, 15, 23, 31]\n",
      "Bubble sort for [31, 23, 15, 7, 6, 4, 2] starts\n",
      "partially ordered list as: [23, 15, 7, 6, 4, 2, 31]\n",
      "partially ordered list as: [15, 7, 6, 4, 2, 23, 31]\n",
      "partially ordered list as: [7, 6, 4, 2, 15, 23, 31]\n",
      "partially ordered list as: [6, 4, 2, 7, 15, 23, 31]\n",
      "partially ordered list as: [4, 2, 6, 7, 15, 23, 31]\n",
      "partially ordered list as: [2, 4, 6, 7, 15, 23, 31]\n",
      "partially ordered list as: [2, 4, 6, 7, 15, 23, 31]\n"
     ]
    },
    {
     "data": {
      "text/plain": [
       "[2, 4, 6, 7, 15, 23, 31]"
      ]
     },
     "execution_count": 5,
     "metadata": {},
     "output_type": "execute_result"
    }
   ],
   "source": [
    "set1 = [31,23, 15, 7, 6, 4, 2]\n",
    "insertion_sort(set1)\n",
    "set1 = [31,23, 15, 7, 6, 4, 2]\n",
    "selection_sort(set1)\n",
    "set1 = [31, 23, 15, 7, 6, 4, 2]\n",
    "bubble_sort(set1)"
   ]
  },
  {
   "cell_type": "code",
   "execution_count": null,
   "metadata": {
    "colab": {
     "base_uri": "https://localhost:8080/"
    },
    "executionInfo": {
     "elapsed": 11,
     "status": "ok",
     "timestamp": 1664056570397,
     "user": {
      "displayName": "Jasmine Kobayashi",
      "userId": "02556112601305279346"
     },
     "user_tz": 360
    },
    "id": "u8EP9gvMRtQr",
    "outputId": "7b51f70b-79ed-4218-dbe6-4ebc1cb8b274"
   },
   "outputs": [
    {
     "name": "stdout",
     "output_type": "stream",
     "text": [
      "Insertion sort for [1, 3, 5, 7, 9, 12, 14, 16] starts\n",
      "partially ordered list as: [1]\n",
      "partially ordered list as: [1, 3]\n",
      "partially ordered list as: [1, 3, 5]\n",
      "partially ordered list as: [1, 3, 5, 7]\n",
      "partially ordered list as: [1, 3, 5, 7, 9]\n",
      "partially ordered list as: [1, 3, 5, 7, 9, 12]\n",
      "partially ordered list as: [1, 3, 5, 7, 9, 12, 14]\n",
      "partially ordered list as: [1, 3, 5, 7, 9, 12, 14, 16]\n",
      "Selection sort for [1, 3, 5, 7, 9, 12, 14, 16] starts\n",
      "partially ordered list as: [1]\n",
      "partially ordered list as: [1, 3]\n",
      "partially ordered list as: [1, 3, 5]\n",
      "partially ordered list as: [1, 3, 5, 7]\n",
      "partially ordered list as: [1, 3, 5, 7, 9]\n",
      "partially ordered list as: [1, 3, 5, 7, 9, 12]\n",
      "partially ordered list as: [1, 3, 5, 7, 9, 12, 14]\n",
      "partially ordered list as: [1, 3, 5, 7, 9, 12, 14, 16]\n",
      "Bubble sort for [1, 3, 5, 7, 9, 12, 14, 16] starts\n",
      "partially ordered list as: [1, 3, 5, 7, 9, 12, 14, 16]\n"
     ]
    },
    {
     "data": {
      "text/plain": [
       "[1, 3, 5, 7, 9, 12, 14, 16]"
      ]
     },
     "execution_count": 6,
     "metadata": {},
     "output_type": "execute_result"
    }
   ],
   "source": [
    "set2 = [1, 3, 5, 7, 9, 12, 14, 16]\n",
    "insertion_sort(set2)\n",
    "set2 = [1, 3, 5, 7, 9, 12, 14, 16]\n",
    "selection_sort(set2)\n",
    "set2 = [1, 3, 5, 7, 9, 12, 14, 16]\n",
    "bubble_sort(set2)"
   ]
  },
  {
   "cell_type": "markdown",
   "metadata": {
    "id": "CtSyBND6SJEZ"
   },
   "source": [
    "## Write your result of running, and a short paragraph to address your findings. You can put this result/findings part in the \"text\" of ipynb."
   ]
  },
  {
   "cell_type": "markdown",
   "metadata": {
    "id": "jiHaNr5XSNzD"
   },
   "source": [
    "I believe I got the results I needed to. \n",
    "\n",
    "I'm not entirely sure if I wrote the code for the \"insertion_sort\" as efficiently as I could have. But I believe I got it to work the way I wanted to. "
   ]
  }
 ],
 "metadata": {
  "colab": {
   "authorship_tag": "ABX9TyPcRtAUfTVDVn82OWLsoihI",
   "provenance": []
  },
  "kernelspec": {
   "display_name": "Python 3 (ipykernel)",
   "language": "python",
   "name": "python3"
  },
  "language_info": {
   "codemirror_mode": {
    "name": "ipython",
    "version": 3
   },
   "file_extension": ".py",
   "mimetype": "text/x-python",
   "name": "python",
   "nbconvert_exporter": "python",
   "pygments_lexer": "ipython3",
   "version": "3.8.16"
  }
 },
 "nbformat": 4,
 "nbformat_minor": 4
}
