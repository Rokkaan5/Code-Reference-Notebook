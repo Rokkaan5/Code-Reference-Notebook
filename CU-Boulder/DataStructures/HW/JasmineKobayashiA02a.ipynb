{
 "cells": [
  {
   "cell_type": "markdown",
   "metadata": {
    "id": "wmKsFjLGLErn"
   },
   "source": [
    "# Part A: Simulation of a Coin Flip\n",
    "\n",
    "**Step1:** The given coin was an old one created in 1960s. After so many years, it is not perfect anymore. The chance of getting the head is 45% and the chance of getting the tail is 55%.\n",
    "\n",
    "**Step2:** Write a function `coin_flip()` that returns the result of one flip - either \"head\" or \"tail\"\n",
    "\n",
    "**Step3:** Write a function `flip_count(n)` that takes in an argument n (how many times you are going to flip the coin) and returns the percentage of \"head\" of these many times.\n",
    "\n",
    "**Step4:** Write a function `monte_carlo()` that runs `flip_count(n)` for n in [1, 10, 100, 1000, 10000, 100000, 1000000, 10000000] times. Print the result for each n as: \"Flip the coin [n] times, the % of head is [xxx]\"\n",
    "\n",
    "**Step5:** Call `monte_carlo()`"
   ]
  },
  {
   "cell_type": "code",
   "execution_count": null,
   "metadata": {
    "id": "T4CdzPDrzZ0E"
   },
   "outputs": [],
   "source": [
    "import random as rnd"
   ]
  },
  {
   "cell_type": "code",
   "execution_count": null,
   "metadata": {
    "id": "W5vqMzRbyFTn"
   },
   "outputs": [],
   "source": [
    "# Step2:\n",
    "def coin_flip():\n",
    "  result = rnd.randint(1,100)\n",
    "  if result <= 45:\n",
    "    return 'head'\n",
    "  else:\n",
    "    return 'tail'"
   ]
  },
  {
   "cell_type": "code",
   "execution_count": null,
   "metadata": {
    "colab": {
     "base_uri": "https://localhost:8080/",
     "height": 35
    },
    "executionInfo": {
     "elapsed": 145,
     "status": "ok",
     "timestamp": 1662591978846,
     "user": {
      "displayName": "Jasmine Kobayashi",
      "userId": "02556112601305279346"
     },
     "user_tz": 360
    },
    "id": "X32W22FaMCVR",
    "outputId": "d8957f6a-3b89-44a4-dd21-57bf462e94bb"
   },
   "outputs": [
    {
     "data": {
      "application/vnd.google.colaboratory.intrinsic+json": {
       "type": "string"
      },
      "text/plain": [
       "'head'"
      ]
     },
     "execution_count": 3,
     "metadata": {},
     "output_type": "execute_result"
    }
   ],
   "source": [
    "# testing function coin_flip()\n",
    "coin_flip()"
   ]
  },
  {
   "cell_type": "code",
   "execution_count": null,
   "metadata": {
    "id": "nyWx2iBVz-9n"
   },
   "outputs": [],
   "source": [
    "def flip_count(n):\n",
    "  result_head = 0\n",
    "  for i in range(n):\n",
    "    flip = coin_flip()\n",
    "    if flip == 'head':\n",
    "      result_head += 1\n",
    "\n",
    "  return (result_head/n)*100   # percent of results that were 'head'"
   ]
  },
  {
   "cell_type": "code",
   "execution_count": null,
   "metadata": {
    "colab": {
     "base_uri": "https://localhost:8080/"
    },
    "executionInfo": {
     "elapsed": 13,
     "status": "ok",
     "timestamp": 1662591978848,
     "user": {
      "displayName": "Jasmine Kobayashi",
      "userId": "02556112601305279346"
     },
     "user_tz": 360
    },
    "id": "T_Uscn8AMFNJ",
    "outputId": "48c50a80-f412-4b3c-87b9-159fd2b68245"
   },
   "outputs": [
    {
     "data": {
      "text/plain": [
       "20.0"
      ]
     },
     "execution_count": 5,
     "metadata": {},
     "output_type": "execute_result"
    }
   ],
   "source": [
    "# testing function flip_count()\n",
    "flip_count(10)"
   ]
  },
  {
   "cell_type": "code",
   "execution_count": null,
   "metadata": {
    "id": "TPjLkb9V1-U7"
   },
   "outputs": [],
   "source": [
    "def monte_carlo():\n",
    "  n = [1, 10, 100, 1000, 10000, 100000, 1000000, 10000000]\n",
    "  for i in n:\n",
    "    head_count = flip_count(i)\n",
    "    print('Flip the coin '+str(i)+' times, the % of head is '+str(head_count))"
   ]
  },
  {
   "cell_type": "code",
   "execution_count": null,
   "metadata": {
    "colab": {
     "base_uri": "https://localhost:8080/"
    },
    "executionInfo": {
     "elapsed": 18473,
     "status": "ok",
     "timestamp": 1662591997313,
     "user": {
      "displayName": "Jasmine Kobayashi",
      "userId": "02556112601305279346"
     },
     "user_tz": 360
    },
    "id": "NY6dHbTf3I3i",
    "outputId": "4160148e-803c-445b-ff2c-a009bf286c6d"
   },
   "outputs": [
    {
     "name": "stdout",
     "output_type": "stream",
     "text": [
      "Flip the coin 1 times, the % of head is 0.0\n",
      "Flip the coin 10 times, the % of head is 60.0\n",
      "Flip the coin 100 times, the % of head is 42.0\n",
      "Flip the coin 1000 times, the % of head is 45.0\n",
      "Flip the coin 10000 times, the % of head is 45.39\n",
      "Flip the coin 100000 times, the % of head is 45.151\n",
      "Flip the coin 1000000 times, the % of head is 44.998\n",
      "Flip the coin 10000000 times, the % of head is 45.00765\n"
     ]
    }
   ],
   "source": [
    "monte_carlo()"
   ]
  },
  {
   "cell_type": "code",
   "execution_count": null,
   "metadata": {
    "colab": {
     "base_uri": "https://localhost:8080/"
    },
    "executionInfo": {
     "elapsed": 141,
     "status": "ok",
     "timestamp": 1662596620669,
     "user": {
      "displayName": "Jasmine Kobayashi",
      "userId": "02556112601305279346"
     },
     "user_tz": 360
    },
    "id": "aYPWEL5aec8L",
    "outputId": "8f74cd00-0a11-4663-c333-b496f7c6ce46"
   },
   "outputs": [
    {
     "data": {
      "text/plain": [
       "2"
      ]
     },
     "execution_count": 11,
     "metadata": {},
     "output_type": "execute_result"
    }
   ],
   "source": [
    "i = 1\n",
    "\n",
    "(i+1) % 3"
   ]
  }
 ],
 "metadata": {
  "colab": {
   "authorship_tag": "ABX9TyPF0N4YVjXPTuT2M7Nh3NR8",
   "provenance": []
  },
  "kernelspec": {
   "display_name": "Python 3 (ipykernel)",
   "language": "python",
   "name": "python3"
  },
  "language_info": {
   "codemirror_mode": {
    "name": "ipython",
    "version": 3
   },
   "file_extension": ".py",
   "mimetype": "text/x-python",
   "name": "python",
   "nbconvert_exporter": "python",
   "pygments_lexer": "ipython3",
   "version": "3.8.16"
  }
 },
 "nbformat": 4,
 "nbformat_minor": 4
}
