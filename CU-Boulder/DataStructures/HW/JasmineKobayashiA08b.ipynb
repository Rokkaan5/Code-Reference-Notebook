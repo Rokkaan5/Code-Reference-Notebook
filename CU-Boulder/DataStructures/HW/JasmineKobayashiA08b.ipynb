{
 "cells": [
  {
   "cell_type": "raw",
   "metadata": {},
   "source": [
    "---\n",
    "title: \"HW8: Strings - Part B\"\n",
    "author: \"Jasmine Kobayashi\"\n",
    "format:\n",
    "    html:\n",
    "        code-fold: false\n",
    "execute:\n",
    "    output: true\n",
    "    warning: false\n",
    "toc: true\n",
    "jupyter: python3\n",
    "---"
   ]
  },
  {
   "cell_type": "code",
   "execution_count": null,
   "metadata": {
    "id": "sL36MW7Mu7So"
   },
   "outputs": [],
   "source": [
    "import string"
   ]
  },
  {
   "cell_type": "code",
   "execution_count": null,
   "metadata": {
    "id": "HGV9jPQGH71v"
   },
   "outputs": [],
   "source": [
    "def caesar_encode(message, shift):\n",
    "  alpha_space = string.ascii_uppercase + \" \"\n",
    "  original = [i for i in alpha_space]\n",
    "  shifted = original[shift:] + original[:shift]\n",
    "\n",
    "  translation = message.maketrans({original[j]:shifted[j] for j in range(len(original))})\n",
    "  encoded = message.translate(translation)\n",
    "  return encoded"
   ]
  },
  {
   "cell_type": "code",
   "execution_count": null,
   "metadata": {
    "id": "dJatU1v75f94"
   },
   "outputs": [],
   "source": [
    "def caesar_decode(message, shift):\n",
    "  alpha_space = string.ascii_uppercase + \" \"\n",
    "  original = [i for i in alpha_space]\n",
    "  shifted = original[shift:] + original[:shift]\n",
    "  \n",
    "  translation = message.maketrans({shifted[j]:original[j] for j in range(len(original))})\n",
    "  decoded = message.translate(translation)\n",
    "  return decoded"
   ]
  },
  {
   "cell_type": "code",
   "execution_count": null,
   "metadata": {
    "id": "yWKiz_Uo9ZVx"
   },
   "outputs": [],
   "source": [
    "def caesar_breaker(message):\n",
    "  possible = [caesar_decode(message,k) for k in range(1,27)]\n",
    "  return possible"
   ]
  },
  {
   "cell_type": "code",
   "execution_count": null,
   "metadata": {
    "colab": {
     "base_uri": "https://localhost:8080/"
    },
    "id": "0aWwnxFh-QZZ",
    "outputId": "57751c30-f55d-44db-c92d-35c2dab9f6b6"
   },
   "outputs": [
    {
     "name": "stdout",
     "output_type": "stream",
     "text": [
      "OMAHPDHMQOPAHLWVM\n",
      "GET HW EIGHT DONE\n",
      "[' HHXTCHV', 'ZGGWSBGU', 'YFFVRAFT', 'XEEUQ ES', 'WDDTPZDR', 'VCCSOYCQ', 'UBBRNXBP', 'TAAQMWAO', 'S  PLV N', 'RZZOKUZM', 'QYYNJTYL', 'PXXMISXK', 'OWWLHRWJ', 'NVVKGQVI', 'MUUJFPUH', 'LTTIEOTG', 'KSSHDNSF', 'JRRGCMRE', 'IQQFBLQD', 'HPPEAKPC', 'GOOD JOB', 'FNNCZINA', 'EMMBYHM ', 'DLLAXGLZ', 'CKK WFKY', 'BJJZVEJX']\n"
     ]
    }
   ],
   "source": [
    "secret = caesar_encode(\"GET HW EIGHT DONE\", 8)\n",
    "print(secret)\n",
    "print(caesar_decode(secret, 8))\n",
    "print(caesar_breaker(\"AIIYUDIW\"))"
   ]
  },
  {
   "cell_type": "markdown",
   "metadata": {
    "id": "dyzBv5Vw-vci"
   },
   "source": [
    "## Most likely result for caesar_breaker message\n",
    "The only message that makes sense for the secret message passed to `caesar_breaker` is \"GOOD JOB\". (Hehheh thank you :))"
   ]
  }
 ],
 "metadata": {
  "colab": {
   "provenance": []
  },
  "kernelspec": {
   "display_name": "Python 3 (ipykernel)",
   "language": "python",
   "name": "python3"
  },
  "language_info": {
   "codemirror_mode": {
    "name": "ipython",
    "version": 3
   },
   "file_extension": ".py",
   "mimetype": "text/x-python",
   "name": "python",
   "nbconvert_exporter": "python",
   "pygments_lexer": "ipython3",
   "version": "3.8.16"
  }
 },
 "nbformat": 4,
 "nbformat_minor": 4
}
