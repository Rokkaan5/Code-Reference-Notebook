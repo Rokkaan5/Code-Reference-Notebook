{
 "cells": [
  {
   "cell_type": "raw",
   "metadata": {},
   "source": [
    "---\n",
    "title: \"HW3: Student classes (OOP)\"\n",
    "author: \"Jasmine Kobayashi\"\n",
    "format:\n",
    "    html:\n",
    "        code-fold: false\n",
    "execute:\n",
    "    output: true\n",
    "    warning: false\n",
    "toc: true\n",
    "jupyter: python3\n",
    "---"
   ]
  },
  {
   "cell_type": "code",
   "execution_count": 1,
   "metadata": {
    "executionInfo": {
     "elapsed": 107,
     "status": "ok",
     "timestamp": 1663303512021,
     "user": {
      "displayName": "Jasmine Kobayashi",
      "userId": "02556112601305279346"
     },
     "user_tz": 360
    },
    "id": "B5yuG86nlLVA"
   },
   "outputs": [],
   "source": [
    "from abc import ABC, abstractclassmethod"
   ]
  },
  {
   "cell_type": "code",
   "execution_count": 2,
   "metadata": {
    "executionInfo": {
     "elapsed": 101,
     "status": "ok",
     "timestamp": 1663303512120,
     "user": {
      "displayName": "Jasmine Kobayashi",
      "userId": "02556112601305279346"
     },
     "user_tz": 360
    },
    "id": "2ipeCNr_c_pE"
   },
   "outputs": [],
   "source": [
    "\n",
    "# Parent-class: Student (Abstract)\n",
    "class Student(ABC):\n",
    "  \n",
    "  def __init__(self,f_name,l_name,st_id):\n",
    "    self.first_name = f_name\n",
    "    self.last_name = l_name\n",
    "    self.stu_ID = st_id\n",
    "\n",
    "  def intro(self):\n",
    "    return \"Hi, my name is {first} {last} and my student ID is {ID}\".format(first = self.first_name,last = self.last_name, ID = self.stu_ID)\n",
    "  \n",
    "  @abstractclassmethod\n",
    "  def pay(self):\n",
    "    pass"
   ]
  },
  {
   "cell_type": "code",
   "execution_count": 3,
   "metadata": {
    "executionInfo": {
     "elapsed": 2,
     "status": "ok",
     "timestamp": 1663303512121,
     "user": {
      "displayName": "Jasmine Kobayashi",
      "userId": "02556112601305279346"
     },
     "user_tz": 360
    },
    "id": "-EG7rumie8Xv"
   },
   "outputs": [],
   "source": [
    "# Child-class: Not working student\n",
    "class Student_Not_Working(Student):\n",
    "  def __init__(self,f_name,l_name,st_id):\n",
    "    super().__init__(f_name,l_name,st_id)\n",
    "\n",
    "  def pay(self):\n",
    "    return 0"
   ]
  },
  {
   "cell_type": "code",
   "execution_count": 4,
   "metadata": {
    "executionInfo": {
     "elapsed": 2,
     "status": "ok",
     "timestamp": 1663303512200,
     "user": {
      "displayName": "Jasmine Kobayashi",
      "userId": "02556112601305279346"
     },
     "user_tz": 360
    },
    "id": "vmKuVFZefvyI"
   },
   "outputs": [],
   "source": [
    "# Child-class: Working student\n",
    "class Student_Working(Student):\n",
    "  def __init__(self,f_name,l_name,st_id,dept,supervisor_full):\n",
    "    super().__init__(f_name,l_name,st_id)\n",
    "    self.department = dept\n",
    "    self.supervisor_full_name = supervisor_full\n",
    "  \n",
    "  @abstractclassmethod\n",
    "  def pay(self):\n",
    "    pass"
   ]
  },
  {
   "cell_type": "code",
   "execution_count": 5,
   "metadata": {
    "executionInfo": {
     "elapsed": 96,
     "status": "ok",
     "timestamp": 1663303512295,
     "user": {
      "displayName": "Jasmine Kobayashi",
      "userId": "02556112601305279346"
     },
     "user_tz": 360
    },
    "id": "eCtZgd7QgROa"
   },
   "outputs": [],
   "source": [
    "# Grandchild-class: Full-time working student\n",
    "class Student_Working_FT(Student_Working):\n",
    "  def __init__(self,f_name,l_name,st_id,dept,supervisor_full,annual_rt):\n",
    "    super().__init__(f_name,l_name,st_id,dept,supervisor_full)\n",
    "    self.annual_rate = annual_rt\n",
    "\n",
    "  def pay(self):\n",
    "    return self.annual_rate/365*14"
   ]
  },
  {
   "cell_type": "code",
   "execution_count": 6,
   "metadata": {
    "executionInfo": {
     "elapsed": 4,
     "status": "ok",
     "timestamp": 1663303512297,
     "user": {
      "displayName": "Jasmine Kobayashi",
      "userId": "02556112601305279346"
     },
     "user_tz": 360
    },
    "id": "YyxQj9Och52S"
   },
   "outputs": [],
   "source": [
    "# Grandchild-class: Part-time working student\n",
    "class Student_Working_PT(Student_Working):\n",
    "  def __init__(self,f_name,l_name,st_id,dept,supervisor_full,hr_rt):\n",
    "    super().__init__(f_name,l_name,st_id,dept,supervisor_full)\n",
    "    self.hourly_rate = hr_rt\n",
    "\n",
    "  def pay(self):\n",
    "    hours = float(input(\"Please enter the hours worked: \"))\n",
    "    return hours*self.hourly_rate"
   ]
  },
  {
   "cell_type": "markdown",
   "metadata": {
    "id": "8NLaunZzinjE"
   },
   "source": [
    "# Testing"
   ]
  },
  {
   "cell_type": "code",
   "execution_count": 8,
   "metadata": {
    "colab": {
     "base_uri": "https://localhost:8080/",
     "height": 201
    },
    "executionInfo": {
     "elapsed": 106,
     "status": "error",
     "timestamp": 1663303517054,
     "user": {
      "displayName": "Jasmine Kobayashi",
      "userId": "02556112601305279346"
     },
     "user_tz": 360
    },
    "id": "JOk1PfYeimfZ",
    "outputId": "9880dc04-d2f9-4f42-a82d-daf539ac0117"
   },
   "outputs": [
    {
     "ename": "TypeError",
     "evalue": "ignored",
     "output_type": "error",
     "traceback": [
      "\u001b[0;31m---------------------------------------------------------------------------\u001b[0m",
      "\u001b[0;31mTypeError\u001b[0m                                 Traceback (most recent call last)",
      "\u001b[0;32m<ipython-input-8-34a5c8295079>\u001b[0m in \u001b[0;36m<module>\u001b[0;34m\u001b[0m\n\u001b[1;32m      1\u001b[0m \u001b[0;31m# Establishing an instance of Student class should raise an error\u001b[0m\u001b[0;34m\u001b[0m\u001b[0;34m\u001b[0m\u001b[0;34m\u001b[0m\u001b[0m\n\u001b[1;32m      2\u001b[0m \u001b[0;34m\u001b[0m\u001b[0m\n\u001b[0;32m----> 3\u001b[0;31m \u001b[0mstu0\u001b[0m \u001b[0;34m=\u001b[0m \u001b[0mStudent\u001b[0m\u001b[0;34m(\u001b[0m\u001b[0;34m'Di'\u001b[0m\u001b[0;34m,\u001b[0m \u001b[0;34m'Wu'\u001b[0m\u001b[0;34m,\u001b[0m \u001b[0;34m'0000'\u001b[0m\u001b[0;34m)\u001b[0m\u001b[0;34m\u001b[0m\u001b[0;34m\u001b[0m\u001b[0m\n\u001b[0m",
      "\u001b[0;31mTypeError\u001b[0m: Can't instantiate abstract class Student with abstract methods pay"
     ]
    }
   ],
   "source": [
    "# Establishing an instance of Student class should raise an error\n",
    "\n",
    "stu0 = Student('Di', 'Wu', '0000')"
   ]
  },
  {
   "cell_type": "code",
   "execution_count": 9,
   "metadata": {
    "colab": {
     "base_uri": "https://localhost:8080/"
    },
    "executionInfo": {
     "elapsed": 84,
     "status": "ok",
     "timestamp": 1663303517502,
     "user": {
      "displayName": "Jasmine Kobayashi",
      "userId": "02556112601305279346"
     },
     "user_tz": 360
    },
    "id": "D8gN9uqbitl_",
    "outputId": "47334806-83f5-468f-8e9b-087af2d1d359"
   },
   "outputs": [
    {
     "name": "stdout",
     "output_type": "stream",
     "text": [
      "Hi, my name is Di Wu and my student ID is 0001\n",
      "0\n"
     ]
    }
   ],
   "source": [
    "# Establishing an instance of Student_Not_Working class, and print out the intro() and pay()\n",
    "\n",
    "stu1 = Student_Not_Working('Di', 'Wu', '0001')\n",
    "print(stu1.intro())\n",
    "print(stu1.pay())"
   ]
  },
  {
   "cell_type": "code",
   "execution_count": 10,
   "metadata": {
    "colab": {
     "base_uri": "https://localhost:8080/",
     "height": 201
    },
    "executionInfo": {
     "elapsed": 87,
     "status": "error",
     "timestamp": 1663303517849,
     "user": {
      "displayName": "Jasmine Kobayashi",
      "userId": "02556112601305279346"
     },
     "user_tz": 360
    },
    "id": "OUYmexpjiwEY",
    "outputId": "686df4dd-2f2c-44ad-bbbd-fba0591e6d5f"
   },
   "outputs": [
    {
     "ename": "TypeError",
     "evalue": "ignored",
     "output_type": "error",
     "traceback": [
      "\u001b[0;31m---------------------------------------------------------------------------\u001b[0m",
      "\u001b[0;31mTypeError\u001b[0m                                 Traceback (most recent call last)",
      "\u001b[0;32m<ipython-input-10-e77a453a5130>\u001b[0m in \u001b[0;36m<module>\u001b[0;34m\u001b[0m\n\u001b[1;32m      1\u001b[0m \u001b[0;31m# Establishing an instance of Student_Working class should raise an error\u001b[0m\u001b[0;34m\u001b[0m\u001b[0;34m\u001b[0m\u001b[0;34m\u001b[0m\u001b[0m\n\u001b[1;32m      2\u001b[0m \u001b[0;34m\u001b[0m\u001b[0m\n\u001b[0;32m----> 3\u001b[0;31m \u001b[0mstu2\u001b[0m \u001b[0;34m=\u001b[0m \u001b[0mStudent_Working\u001b[0m\u001b[0;34m(\u001b[0m\u001b[0;34m'Di'\u001b[0m\u001b[0;34m,\u001b[0m \u001b[0;34m'Wu'\u001b[0m\u001b[0;34m,\u001b[0m \u001b[0;34m'0002'\u001b[0m\u001b[0;34m,\u001b[0m \u001b[0;34m'CS'\u001b[0m\u001b[0;34m,\u001b[0m \u001b[0;34m'Alan Turing'\u001b[0m\u001b[0;34m)\u001b[0m\u001b[0;34m\u001b[0m\u001b[0;34m\u001b[0m\u001b[0m\n\u001b[0m",
      "\u001b[0;31mTypeError\u001b[0m: Can't instantiate abstract class Student_Working with abstract methods pay"
     ]
    }
   ],
   "source": [
    "# Establishing an instance of Student_Working class should raise an error\n",
    "\n",
    "stu2 = Student_Working('Di', 'Wu', '0002', 'CS', 'Alan Turing')"
   ]
  },
  {
   "cell_type": "code",
   "execution_count": 11,
   "metadata": {
    "colab": {
     "base_uri": "https://localhost:8080/"
    },
    "executionInfo": {
     "elapsed": 93,
     "status": "ok",
     "timestamp": 1663303518242,
     "user": {
      "displayName": "Jasmine Kobayashi",
      "userId": "02556112601305279346"
     },
     "user_tz": 360
    },
    "id": "lFxSQcJwjBah",
    "outputId": "870d41ae-0e9f-460b-8275-0b1de573369c"
   },
   "outputs": [
    {
     "name": "stdout",
     "output_type": "stream",
     "text": [
      "Hi, my name is Di Wu and my student ID is 0003\n",
      "1917.8082191780823\n"
     ]
    }
   ],
   "source": [
    "# Establishing an instance of Student_Working_FT class, and print out the intro() and pay()\n",
    "\n",
    "stu3 = Student_Working_FT('Di', 'Wu', '0003', 'CS', 'Alan Turing', 50000)\n",
    "print(stu3.intro())\n",
    "print(stu3.pay())"
   ]
  },
  {
   "cell_type": "code",
   "execution_count": 12,
   "metadata": {
    "colab": {
     "base_uri": "https://localhost:8080/"
    },
    "executionInfo": {
     "elapsed": 2639,
     "status": "ok",
     "timestamp": 1663303521228,
     "user": {
      "displayName": "Jasmine Kobayashi",
      "userId": "02556112601305279346"
     },
     "user_tz": 360
    },
    "id": "TqN6BYxrjdtz",
    "outputId": "2ad2463b-9058-4337-a176-de0ebcca3fa9"
   },
   "outputs": [
    {
     "name": "stdout",
     "output_type": "stream",
     "text": [
      "Hi, my name is Di Wu and my student ID is 0004\n",
      "Please enter the hours worked: 20\n",
      "400.0\n"
     ]
    }
   ],
   "source": [
    "# Establishing an instance of Student_Working_PT class, and print out the intro() and pay()\n",
    "\n",
    "stu4 = Student_Working_PT('Di', 'Wu', '0004', 'CS', 'Alan Turing', 20)\n",
    "print(stu4.intro())\n",
    "print(stu4.pay())"
   ]
  },
  {
   "cell_type": "code",
   "execution_count": 12,
   "metadata": {
    "executionInfo": {
     "elapsed": 89,
     "status": "ok",
     "timestamp": 1663303526376,
     "user": {
      "displayName": "Jasmine Kobayashi",
      "userId": "02556112601305279346"
     },
     "user_tz": 360
    },
    "id": "WkEHKWndjgUK"
   },
   "outputs": [],
   "source": []
  }
 ],
 "metadata": {
  "colab": {
   "authorship_tag": "ABX9TyPcxKEmoWaHczOE7DBv3pK8",
   "provenance": []
  },
  "kernelspec": {
   "display_name": "Python 3 (ipykernel)",
   "language": "python",
   "name": "python3"
  },
  "language_info": {
   "codemirror_mode": {
    "name": "ipython",
    "version": 3
   },
   "file_extension": ".py",
   "mimetype": "text/x-python",
   "name": "python",
   "nbconvert_exporter": "python",
   "pygments_lexer": "ipython3",
   "version": "3.8.16"
  }
 },
 "nbformat": 4,
 "nbformat_minor": 4
}
