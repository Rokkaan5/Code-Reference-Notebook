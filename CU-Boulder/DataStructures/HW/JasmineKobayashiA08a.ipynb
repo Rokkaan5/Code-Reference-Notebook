{
 "cells": [
  {
   "cell_type": "raw",
   "metadata": {},
   "source": [
    "---\n",
    "title: \"HW8: Strings - Part A\"\n",
    "author: \"Jasmine Kobayashi\"\n",
    "format:\n",
    "    html:\n",
    "        code-fold: false\n",
    "execute:\n",
    "    output: true\n",
    "    warning: false\n",
    "toc: true\n",
    "jupyter: python3\n",
    "---"
   ]
  },
  {
   "cell_type": "markdown",
   "metadata": {
    "id": "OVB5TT7rJCVM"
   },
   "source": [
    "# String\n",
    "\n",
    "String is a data type and it is the first one we met: 'Hello, world!'. A lot of data are composed by text which is represented as String in Python. Playing with String well is essential for many data science projects.\n",
    "\n",
    "Let's get started!"
   ]
  },
  {
   "cell_type": "markdown",
   "metadata": {
    "id": "0tGvQTI4Jf0I"
   },
   "source": [
    "## String Creation"
   ]
  },
  {
   "cell_type": "markdown",
   "metadata": {
    "id": "umW3zpjgK8H5"
   },
   "source": [
    "### Task: Create a String s1 with single quotation: \n",
    "\n",
    ">  Hello, world!\n",
    "\n",
    "and print s1 out."
   ]
  },
  {
   "cell_type": "code",
   "execution_count": null,
   "metadata": {
    "colab": {
     "base_uri": "https://localhost:8080/"
    },
    "executionInfo": {
     "elapsed": 147,
     "status": "ok",
     "timestamp": 1666717938522,
     "user": {
      "displayName": "Jasmine Kobayashi",
      "userId": "02556112601305279346"
     },
     "user_tz": 360
    },
    "id": "-Yfsn_5KJ3Bl",
    "outputId": "de253ce4-edf5-43d4-e126-883d89d93ee1"
   },
   "outputs": [
    {
     "name": "stdout",
     "output_type": "stream",
     "text": [
      "Hello, world!\n"
     ]
    }
   ],
   "source": [
    "# Your code is here\n",
    "s1 = 'Hello, world!'\n",
    "print(s1)"
   ]
  },
  {
   "cell_type": "markdown",
   "metadata": {
    "id": "m9KbsPLMLA37"
   },
   "source": [
    "### Task: Create a String s2 with double quotation:\n",
    "\n",
    "> How're you?\n",
    "\n",
    "print s2 out."
   ]
  },
  {
   "cell_type": "code",
   "execution_count": null,
   "metadata": {
    "colab": {
     "base_uri": "https://localhost:8080/"
    },
    "executionInfo": {
     "elapsed": 7,
     "status": "ok",
     "timestamp": 1666717938523,
     "user": {
      "displayName": "Jasmine Kobayashi",
      "userId": "02556112601305279346"
     },
     "user_tz": 360
    },
    "id": "ppiqrc2iFx7P",
    "outputId": "f26a7e4c-92e8-4ef7-d3a2-0041e4cfcb81"
   },
   "outputs": [
    {
     "name": "stdout",
     "output_type": "stream",
     "text": [
      "How're you?\n"
     ]
    }
   ],
   "source": [
    "# Your code is here\n",
    "s2 = \"How're you?\"\n",
    "print(s2)"
   ]
  },
  {
   "cell_type": "markdown",
   "metadata": {
    "id": "rul6yjVKK6No"
   },
   "source": [
    "### Task: Create a String s3 with triple quotation: \n",
    "\n",
    "> Hello, world!\n",
    "\n",
    "> \"How're you?\"\n",
    "\n",
    "print s3 out."
   ]
  },
  {
   "cell_type": "code",
   "execution_count": null,
   "metadata": {
    "colab": {
     "base_uri": "https://localhost:8080/"
    },
    "executionInfo": {
     "elapsed": 161,
     "status": "ok",
     "timestamp": 1666717938679,
     "user": {
      "displayName": "Jasmine Kobayashi",
      "userId": "02556112601305279346"
     },
     "user_tz": 360
    },
    "id": "YVM2_l0EFyhE",
    "outputId": "8a886b04-54a0-4fcf-a2e6-c4cac5a0aa72"
   },
   "outputs": [
    {
     "name": "stdout",
     "output_type": "stream",
     "text": [
      "Hello, world!\n",
      "\"How're you?\"\n",
      "\n"
     ]
    }
   ],
   "source": [
    "# Your code is here\n",
    "s3 = '''Hello, world!\n",
    "\"How're you?\"\n",
    "'''\n",
    "print(s3)"
   ]
  },
  {
   "cell_type": "markdown",
   "metadata": {
    "id": "yvwb87wpJjZ8"
   },
   "source": [
    "## String Concatenation"
   ]
  },
  {
   "cell_type": "markdown",
   "metadata": {
    "id": "rCfUv-u0MGIK"
   },
   "source": [
    "### Task: Create a String s4 that concatenates: \n",
    "> Hello,\n",
    "\n",
    ">  world!\n",
    "\n",
    "print s4 out. (note: there is a space before w)"
   ]
  },
  {
   "cell_type": "code",
   "execution_count": null,
   "metadata": {
    "colab": {
     "base_uri": "https://localhost:8080/"
    },
    "executionInfo": {
     "elapsed": 7,
     "status": "ok",
     "timestamp": 1666717938679,
     "user": {
      "displayName": "Jasmine Kobayashi",
      "userId": "02556112601305279346"
     },
     "user_tz": 360
    },
    "id": "RV37NUgVFzrS",
    "outputId": "842563dc-d87f-4c50-91ed-d36c06749edc"
   },
   "outputs": [
    {
     "name": "stdout",
     "output_type": "stream",
     "text": [
      "Hello, world!\n"
     ]
    }
   ],
   "source": [
    "# Your code is here\n",
    "s4 = 'Hello,' + ' world!'\n",
    "print(s4)"
   ]
  },
  {
   "cell_type": "markdown",
   "metadata": {
    "id": "ih7K32adMnO9"
   },
   "source": [
    "### Task: Create a String s5 that concatenates following variables/value together:\n",
    "*   String: Your name is \n",
    "*   variable(str): `name`\n",
    "*   String: your age is \n",
    "*   variable(int): `age`\n",
    "As: *Your name is* `name` *your age is* `age`.\n",
    "\n",
    "Print s5 out. (Note: pay attention to spaces)"
   ]
  },
  {
   "cell_type": "code",
   "execution_count": null,
   "metadata": {
    "colab": {
     "base_uri": "https://localhost:8080/"
    },
    "executionInfo": {
     "elapsed": 5,
     "status": "ok",
     "timestamp": 1666717938680,
     "user": {
      "displayName": "Jasmine Kobayashi",
      "userId": "02556112601305279346"
     },
     "user_tz": 360
    },
    "id": "KG2IVhy2F0rt",
    "outputId": "1d3ad6dc-cdb6-4327-a252-8a34f38c7553"
   },
   "outputs": [
    {
     "name": "stdout",
     "output_type": "stream",
     "text": [
      "Your name is Jasmine Kobayashi your age is 22.\n"
     ]
    }
   ],
   "source": [
    "# Your code is here\n",
    "name = 'Jasmine Kobayashi'\n",
    "age = 22\n",
    "s5 = 'Your name is ' + name + ' your age is ' + str(age) + '.'\n",
    "print(s5)"
   ]
  },
  {
   "cell_type": "markdown",
   "metadata": {
    "id": "DOVfRXLWF21N"
   },
   "source": [
    "### Task: Use format to avoid sophisticated concatenation"
   ]
  },
  {
   "cell_type": "code",
   "execution_count": null,
   "metadata": {
    "colab": {
     "base_uri": "https://localhost:8080/"
    },
    "executionInfo": {
     "elapsed": 147,
     "status": "ok",
     "timestamp": 1666717938824,
     "user": {
      "displayName": "Jasmine Kobayashi",
      "userId": "02556112601305279346"
     },
     "user_tz": 360
    },
    "id": "ukJpkaWGGVTV",
    "outputId": "8da28729-e777-4b89-f78b-24d48db9f0f7"
   },
   "outputs": [
    {
     "name": "stdout",
     "output_type": "stream",
     "text": [
      "Your name is Jasmine Kobayashi your age is 22.\n"
     ]
    }
   ],
   "source": [
    "# Your code is here\n",
    "print(\"Your name is {} your age is {}.\".format(name,age))"
   ]
  },
  {
   "cell_type": "markdown",
   "metadata": {
    "id": "ok4JZU4CJnd0"
   },
   "source": [
    "## String Splitting"
   ]
  },
  {
   "cell_type": "markdown",
   "metadata": {
    "id": "BBvtc5EcPMrX"
   },
   "source": [
    "### Task: split a string using separator as space\n",
    "\n",
    "Split 'Hello, world!' using space and save the result to strings1. Print strings1 out."
   ]
  },
  {
   "cell_type": "code",
   "execution_count": null,
   "metadata": {
    "colab": {
     "base_uri": "https://localhost:8080/"
    },
    "executionInfo": {
     "elapsed": 8,
     "status": "ok",
     "timestamp": 1666717938825,
     "user": {
      "displayName": "Jasmine Kobayashi",
      "userId": "02556112601305279346"
     },
     "user_tz": 360
    },
    "id": "d9utp0PaGWOU",
    "outputId": "906c0a75-6dc4-44a6-edf5-b6163d8e2ea7"
   },
   "outputs": [
    {
     "name": "stdout",
     "output_type": "stream",
     "text": [
      "['Hello,', 'world!']\n"
     ]
    }
   ],
   "source": [
    "# Your code is here\n",
    "strings1 = s1.split()\n",
    "print(strings1)"
   ]
  },
  {
   "cell_type": "markdown",
   "metadata": {
    "id": "u0Zp8LXPPtGD"
   },
   "source": [
    "### Task: split a string using separator as comma\n",
    "Split 'Hello, world!' using comma and save the result to strings1. Print strings1 out."
   ]
  },
  {
   "cell_type": "code",
   "execution_count": null,
   "metadata": {
    "colab": {
     "base_uri": "https://localhost:8080/"
    },
    "executionInfo": {
     "elapsed": 7,
     "status": "ok",
     "timestamp": 1666717938826,
     "user": {
      "displayName": "Jasmine Kobayashi",
      "userId": "02556112601305279346"
     },
     "user_tz": 360
    },
    "id": "5fLbiInXGWx7",
    "outputId": "f8b28e32-d281-43ee-bafb-42fff06b7667"
   },
   "outputs": [
    {
     "name": "stdout",
     "output_type": "stream",
     "text": [
      "['Hello', ' world!']\n"
     ]
    }
   ],
   "source": [
    "# Your code is here\n",
    "strings2 = s1.split(\",\")\n",
    "print(strings2)"
   ]
  },
  {
   "cell_type": "markdown",
   "metadata": {
    "id": "_3ZVcpftQBc5"
   },
   "source": [
    "### Task: split a string using separator as 'o'\n",
    "Split 'Hello, world!' using o and save the result to strings3. Print strings3 out."
   ]
  },
  {
   "cell_type": "code",
   "execution_count": null,
   "metadata": {
    "colab": {
     "base_uri": "https://localhost:8080/"
    },
    "executionInfo": {
     "elapsed": 24,
     "status": "ok",
     "timestamp": 1666717938992,
     "user": {
      "displayName": "Jasmine Kobayashi",
      "userId": "02556112601305279346"
     },
     "user_tz": 360
    },
    "id": "TeblFmYsGXag",
    "outputId": "eaee6bd3-58fc-4f34-ee82-b61bd7f62f33"
   },
   "outputs": [
    {
     "name": "stdout",
     "output_type": "stream",
     "text": [
      "['Hell', ', w', 'rld!']\n"
     ]
    }
   ],
   "source": [
    "# Your code is here\n",
    "strings3 = s1.split(\"o\")\n",
    "print(strings3)"
   ]
  },
  {
   "cell_type": "markdown",
   "metadata": {
    "id": "W4FklLdPJqGE"
   },
   "source": [
    "## String Slicing"
   ]
  },
  {
   "cell_type": "markdown",
   "metadata": {
    "id": "YnG3HQ-yQR3z"
   },
   "source": [
    "### Task: given string 'Hello, world!', assign the substring of first 5 chars to s6. Print s6 out."
   ]
  },
  {
   "cell_type": "code",
   "execution_count": null,
   "metadata": {
    "colab": {
     "base_uri": "https://localhost:8080/"
    },
    "executionInfo": {
     "elapsed": 24,
     "status": "ok",
     "timestamp": 1666717938992,
     "user": {
      "displayName": "Jasmine Kobayashi",
      "userId": "02556112601305279346"
     },
     "user_tz": 360
    },
    "id": "Xj2NGEbfGX7S",
    "outputId": "aaa15bd7-a327-49f9-c6f0-a1394083d106"
   },
   "outputs": [
    {
     "name": "stdout",
     "output_type": "stream",
     "text": [
      "Hello\n"
     ]
    }
   ],
   "source": [
    "# Your code is here\n",
    "s6 = s1[:5]\n",
    "print(s6)"
   ]
  },
  {
   "cell_type": "markdown",
   "metadata": {
    "id": "pZDCouZNQntW"
   },
   "source": [
    "### Task: given string 'Hello, world!', assign the substring of last 5 chars to s7. Print s7 out."
   ]
  },
  {
   "cell_type": "code",
   "execution_count": null,
   "metadata": {
    "colab": {
     "base_uri": "https://localhost:8080/"
    },
    "executionInfo": {
     "elapsed": 21,
     "status": "ok",
     "timestamp": 1666717938993,
     "user": {
      "displayName": "Jasmine Kobayashi",
      "userId": "02556112601305279346"
     },
     "user_tz": 360
    },
    "id": "GwxGMr3uGYhL",
    "outputId": "334d6c56-5ce3-4464-b3f0-b21e419eb451"
   },
   "outputs": [
    {
     "name": "stdout",
     "output_type": "stream",
     "text": [
      "orld!\n"
     ]
    }
   ],
   "source": [
    "# Your code is here\n",
    "s7 = s1[-5:]\n",
    "print(s7)"
   ]
  },
  {
   "cell_type": "markdown",
   "metadata": {
    "id": "U67Mu5DJQq5z"
   },
   "source": [
    "### Task: given string 'Hello, world!', assign the substring of between first 5 chars and last 5 chars to s8. Print s8 out."
   ]
  },
  {
   "cell_type": "code",
   "execution_count": null,
   "metadata": {
    "colab": {
     "base_uri": "https://localhost:8080/"
    },
    "executionInfo": {
     "elapsed": 20,
     "status": "ok",
     "timestamp": 1666717938993,
     "user": {
      "displayName": "Jasmine Kobayashi",
      "userId": "02556112601305279346"
     },
     "user_tz": 360
    },
    "id": "WBzothV0GZAc",
    "outputId": "ea245769-2f18-4883-95ba-287899c806cc"
   },
   "outputs": [
    {
     "name": "stdout",
     "output_type": "stream",
     "text": [
      ", w\n"
     ]
    }
   ],
   "source": [
    "# Your code is here\n",
    "s8 = s1[5:-5]\n",
    "print(s8)"
   ]
  },
  {
   "cell_type": "markdown",
   "metadata": {
    "id": "B4D2VYy-RDHc"
   },
   "source": [
    "### Task: given string 'Hello, world!', assign the substring after first 5 chars to s9a. Print s9a out."
   ]
  },
  {
   "cell_type": "code",
   "execution_count": null,
   "metadata": {
    "colab": {
     "base_uri": "https://localhost:8080/"
    },
    "executionInfo": {
     "elapsed": 18,
     "status": "ok",
     "timestamp": 1666717938993,
     "user": {
      "displayName": "Jasmine Kobayashi",
      "userId": "02556112601305279346"
     },
     "user_tz": 360
    },
    "id": "FAG8_DMvGZna",
    "outputId": "5e56af62-bbc3-451e-9051-aee2d24ebf5d"
   },
   "outputs": [
    {
     "name": "stdout",
     "output_type": "stream",
     "text": [
      ", world!\n"
     ]
    }
   ],
   "source": [
    "# Your code is here\n",
    "s9a = s1[5:]\n",
    "print(s9a)"
   ]
  },
  {
   "cell_type": "markdown",
   "metadata": {
    "id": "Wc3QaxfDRHgw"
   },
   "source": [
    "### Task: given string 'Hello, world!', assign the substring until last 5 chars to s9b. Print s9b out."
   ]
  },
  {
   "cell_type": "code",
   "execution_count": null,
   "metadata": {
    "colab": {
     "base_uri": "https://localhost:8080/"
    },
    "executionInfo": {
     "elapsed": 15,
     "status": "ok",
     "timestamp": 1666717938994,
     "user": {
      "displayName": "Jasmine Kobayashi",
      "userId": "02556112601305279346"
     },
     "user_tz": 360
    },
    "id": "QgaUO5pXGaHL",
    "outputId": "11baab8e-f748-4831-977d-cec8a0c7a920"
   },
   "outputs": [
    {
     "name": "stdout",
     "output_type": "stream",
     "text": [
      "Hello, w\n"
     ]
    }
   ],
   "source": [
    "# Your code is here\n",
    "s9b = s1[:-5]\n",
    "print(s9b)"
   ]
  },
  {
   "cell_type": "markdown",
   "metadata": {
    "id": "u40XeKI6RMbm"
   },
   "source": [
    "### Task: given string 'Hello, world!', assign the substring of chars at odd positions to s10. Pring s10 out."
   ]
  },
  {
   "cell_type": "code",
   "execution_count": null,
   "metadata": {
    "colab": {
     "base_uri": "https://localhost:8080/"
    },
    "executionInfo": {
     "elapsed": 13,
     "status": "ok",
     "timestamp": 1666717938994,
     "user": {
      "displayName": "Jasmine Kobayashi",
      "userId": "02556112601305279346"
     },
     "user_tz": 360
    },
    "id": "LXvNALcDGa7u",
    "outputId": "22fce134-1d44-4a0c-cbdb-b8d62c1ddc96"
   },
   "outputs": [
    {
     "name": "stdout",
     "output_type": "stream",
     "text": [
      "el,wrd\n"
     ]
    }
   ],
   "source": [
    "# Your code is here\n",
    "s10 = s1[1::2]   # start from odd number and step = 2 (should be only odd number indices)\n",
    "print(s10)"
   ]
  },
  {
   "cell_type": "markdown",
   "metadata": {
    "id": "knmuHKS6RTIz"
   },
   "source": [
    "### Task: given string 'Hello, world!', assign the substring of chars at 0, 5, 10, ... to s11. Print s11 out."
   ]
  },
  {
   "cell_type": "code",
   "execution_count": null,
   "metadata": {
    "colab": {
     "base_uri": "https://localhost:8080/"
    },
    "executionInfo": {
     "elapsed": 12,
     "status": "ok",
     "timestamp": 1666717938994,
     "user": {
      "displayName": "Jasmine Kobayashi",
      "userId": "02556112601305279346"
     },
     "user_tz": 360
    },
    "id": "tjjj_lVvGbZU",
    "outputId": "586528a8-889c-4829-e9ed-4466ad8a477d"
   },
   "outputs": [
    {
     "name": "stdout",
     "output_type": "stream",
     "text": [
      "H,l\n"
     ]
    }
   ],
   "source": [
    "# Your code is here\n",
    "s11 = s1[0::5]   # step = 5 ([start:end:step])\n",
    "print(s11)"
   ]
  },
  {
   "cell_type": "markdown",
   "metadata": {
    "id": "dJ_tedMLSIl4"
   },
   "source": [
    "### Task: given string 'Hello, world!', assign the reversed string to s12. Print s12 out."
   ]
  },
  {
   "cell_type": "code",
   "execution_count": null,
   "metadata": {
    "colab": {
     "base_uri": "https://localhost:8080/"
    },
    "executionInfo": {
     "elapsed": 11,
     "status": "ok",
     "timestamp": 1666717938994,
     "user": {
      "displayName": "Jasmine Kobayashi",
      "userId": "02556112601305279346"
     },
     "user_tz": 360
    },
    "id": "7HhQwRNBGb-M",
    "outputId": "d3dcca75-d9f9-44bc-ab54-ce182ee96a89"
   },
   "outputs": [
    {
     "name": "stdout",
     "output_type": "stream",
     "text": [
      "!dlrow ,olleH\n"
     ]
    }
   ],
   "source": [
    "# Your code is here\n",
    "s12 = s1[::-1]\n",
    "print(s12)"
   ]
  },
  {
   "cell_type": "markdown",
   "metadata": {
    "id": "ojTn7BoKVjlD"
   },
   "source": [
    "### Task: given string 'Hello, world!\\n', assign the stripped string to s13. Print s13 out."
   ]
  },
  {
   "cell_type": "code",
   "execution_count": null,
   "metadata": {
    "colab": {
     "base_uri": "https://localhost:8080/"
    },
    "executionInfo": {
     "elapsed": 1019,
     "status": "ok",
     "timestamp": 1666717940004,
     "user": {
      "displayName": "Jasmine Kobayashi",
      "userId": "02556112601305279346"
     },
     "user_tz": 360
    },
    "id": "MOUL3XqpGcmT",
    "outputId": "4d6ead4d-d80f-4c8e-be91-6dc0d2cceb07"
   },
   "outputs": [
    {
     "name": "stdout",
     "output_type": "stream",
     "text": [
      "Hello, world!\n"
     ]
    }
   ],
   "source": [
    "# Your code is here\n",
    "s13 = 'Hello, world!\\n'.strip()\n",
    "print(s13)"
   ]
  },
  {
   "cell_type": "markdown",
   "metadata": {
    "id": "jHxPb5GfVpzN"
   },
   "source": [
    "### Task: given string 'Hello, world!\\n', assign the stripped string with all lower case char to s14. Print s14 out."
   ]
  },
  {
   "cell_type": "code",
   "execution_count": null,
   "metadata": {
    "colab": {
     "base_uri": "https://localhost:8080/"
    },
    "executionInfo": {
     "elapsed": 13,
     "status": "ok",
     "timestamp": 1666717940004,
     "user": {
      "displayName": "Jasmine Kobayashi",
      "userId": "02556112601305279346"
     },
     "user_tz": 360
    },
    "id": "lXyFAhI4GdLx",
    "outputId": "e55a6df3-36ef-4624-b0ff-4e559162f007"
   },
   "outputs": [
    {
     "name": "stdout",
     "output_type": "stream",
     "text": [
      "hello, world!\n"
     ]
    }
   ],
   "source": [
    "# Your code is here\n",
    "s14 = 'Hello, world!\\n'.strip().casefold()\n",
    "print(s14)"
   ]
  },
  {
   "cell_type": "markdown",
   "metadata": {
    "id": "JBXXL8NjVvas"
   },
   "source": [
    "### Task: given string ''?!Hello, the?! D[*]ata[?] Sci[e]nce w??&^%orld!', import string module, use translate and string.punctuation to remove special chars from the string and assign the cleaned string to s15. Print s15 out."
   ]
  },
  {
   "cell_type": "code",
   "execution_count": null,
   "metadata": {
    "colab": {
     "base_uri": "https://localhost:8080/"
    },
    "executionInfo": {
     "elapsed": 12,
     "status": "ok",
     "timestamp": 1666717940005,
     "user": {
      "displayName": "Jasmine Kobayashi",
      "userId": "02556112601305279346"
     },
     "user_tz": 360
    },
    "id": "7eo0rh6FGgjr",
    "outputId": "e2a4a235-238f-4bee-e849-7b30645ed292"
   },
   "outputs": [
    {
     "name": "stdout",
     "output_type": "stream",
     "text": [
      "Hello the Data Science world\n"
     ]
    }
   ],
   "source": [
    "# Your code is here\n",
    "import string\n",
    "given = '?!Hello, the?! D[*]ata[?] Sci[e]nce w??&^%orld!'\n",
    "translation = given.maketrans({i : \"\" for i in string.punctuation})\n",
    "\n",
    "s15 = given.translate(translation)\n",
    "print(s15)\n"
   ]
  },
  {
   "cell_type": "markdown",
   "metadata": {
    "id": "x4m1fqnXJukM"
   },
   "source": [
    "## String Traverse"
   ]
  },
  {
   "cell_type": "markdown",
   "metadata": {
    "id": "-L9jk_iLYNE4"
   },
   "source": [
    "### Task: given string 'Hello, world! print each char out."
   ]
  },
  {
   "cell_type": "code",
   "execution_count": null,
   "metadata": {
    "colab": {
     "base_uri": "https://localhost:8080/"
    },
    "executionInfo": {
     "elapsed": 9,
     "status": "ok",
     "timestamp": 1666717940005,
     "user": {
      "displayName": "Jasmine Kobayashi",
      "userId": "02556112601305279346"
     },
     "user_tz": 360
    },
    "id": "AnHH7EmxGhSO",
    "outputId": "427b8a36-57bd-4920-a826-b0e24d1692bd"
   },
   "outputs": [
    {
     "name": "stdout",
     "output_type": "stream",
     "text": [
      "H\n",
      "e\n",
      "l\n",
      "l\n",
      "o\n",
      ",\n",
      " \n",
      "w\n",
      "o\n",
      "r\n",
      "l\n",
      "d\n",
      "!\n"
     ]
    }
   ],
   "source": [
    "# Your code is here\n",
    "\n",
    "# I'm not sure if there's a built in method to do this\n",
    "for i in s1:\n",
    "  print(i)"
   ]
  },
  {
   "cell_type": "markdown",
   "metadata": {
    "id": "1PSfRtioYhLz"
   },
   "source": [
    "### Task: given string w as 'Hello, world! print each char out reversely."
   ]
  },
  {
   "cell_type": "code",
   "execution_count": null,
   "metadata": {
    "id": "xBqcYBbGFh-N"
   },
   "outputs": [],
   "source": [
    "w = 'Hello, world!'"
   ]
  },
  {
   "cell_type": "code",
   "execution_count": null,
   "metadata": {
    "colab": {
     "base_uri": "https://localhost:8080/"
    },
    "executionInfo": {
     "elapsed": 7,
     "status": "ok",
     "timestamp": 1666717940006,
     "user": {
      "displayName": "Jasmine Kobayashi",
      "userId": "02556112601305279346"
     },
     "user_tz": 360
    },
    "id": "aA-S70OwGh2t",
    "outputId": "b29e0eae-f41c-4e54-8599-b1984ca04185"
   },
   "outputs": [
    {
     "name": "stdout",
     "output_type": "stream",
     "text": [
      "!\n",
      "d\n",
      "l\n",
      "r\n",
      "o\n",
      "w\n",
      " \n",
      ",\n",
      "o\n",
      "l\n",
      "l\n",
      "e\n",
      "H\n"
     ]
    }
   ],
   "source": [
    "# Your code is here\n",
    "for i in w[::-1]:\n",
    "  print(i)"
   ]
  },
  {
   "cell_type": "code",
   "execution_count": null,
   "metadata": {
    "id": "pndlE-OOGibd"
   },
   "outputs": [],
   "source": [
    "# Your code is here"
   ]
  }
 ],
 "metadata": {
  "colab": {
   "collapsed_sections": [],
   "provenance": []
  },
  "kernelspec": {
   "display_name": "Python 3 (ipykernel)",
   "language": "python",
   "name": "python3"
  },
  "language_info": {
   "codemirror_mode": {
    "name": "ipython",
    "version": 3
   },
   "file_extension": ".py",
   "mimetype": "text/x-python",
   "name": "python",
   "nbconvert_exporter": "python",
   "pygments_lexer": "ipython3",
   "version": "3.8.16"
  }
 },
 "nbformat": 4,
 "nbformat_minor": 4
}
