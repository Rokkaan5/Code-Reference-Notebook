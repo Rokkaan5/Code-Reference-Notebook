{
  "cells": [
    {
      "cell_type": "raw",
      "metadata": {},
      "source": [
        "---\n",
        "title: \"Python - Decision Trees, Naive Bayes, SVM (Part 2)\"\n",
        "author: Professor Ami Gates\n",
        "format:\n",
        "    html:\n",
        "        code-fold: false\n",
        "execute:\n",
        "    output: true\n",
        "    warning: false\n",
        "toc: true\n",
        "---"
      ],
      "id": "541ed02c"
    },
    {
      "cell_type": "markdown",
      "metadata": {},
      "source": [
        "# PART 2 Using the Student Dataset \n",
        "\n",
        "The student dataset is not text data and so does not need to be vectorized.\n",
        "\n",
        "Also, the student dataset is clean. This will not normally be the case.\n",
        "\n",
        "\n",
        "# Read the data into a dataframe\n",
        "DATA: Just numeric and record labeled data\n",
        "<https://drive.google.com/file/d/1uXtDBIP-dTbFNXbZC0DcCKxIXjocW3xF/view?usp=sharing>\n",
        "\n",
        "There is also another dataset for which the labels are numbers and not words...\n",
        "<https://drive.google.com/file/d/1g0go050nV02Fibk_9RGpBRGnMwIGQZu5/view?usp=sharing>\n"
      ],
      "id": "93c5c2d0"
    },
    {
      "cell_type": "code",
      "metadata": {},
      "source": [
        "import nltk\n",
        "from sklearn import preprocessing\n",
        "import pandas as pd\n",
        "import sklearn\n",
        "import re  \n",
        "from sklearn.feature_extraction.text import CountVectorizer, TfidfVectorizer\n",
        "from nltk.tokenize import word_tokenize\n",
        "from nltk.probability import FreqDist\n",
        "import matplotlib.pyplot as plt\n",
        "from nltk.corpus import stopwords\n",
        "## For Stemming\n",
        "from nltk.tokenize import sent_tokenize, word_tokenize\n",
        "import os\n",
        "from sklearn.model_selection import train_test_split\n",
        "import random as rd\n",
        "from sklearn.naive_bayes import MultinomialNB\n",
        "from sklearn.metrics import confusion_matrix\n",
        "from sklearn.naive_bayes import BernoulliNB\n",
        "from sklearn.tree import DecisionTreeClassifier\n",
        "from sklearn import tree\n",
        "## conda install python-graphviz\n",
        "## restart kernel (click the little red x next to the Console)\n",
        "import graphviz \n",
        "from sklearn.metrics import confusion_matrix\n",
        "import numpy as np\n",
        "import string\n",
        "import matplotlib.pyplot as plt\n",
        "from sklearn.tree import DecisionTreeClassifier, plot_tree\n",
        "from sklearn.svm import LinearSVC\n",
        "from sklearn.decomposition import PCA\n",
        "#from mpl_toolkits.mplot3d import Axes3D \n",
        "## conda install python-graphviz\n",
        "## restart kernel (click the little red x next to the Console)\n",
        "import graphviz \n",
        "from sklearn.metrics import confusion_matrix\n",
        "\n",
        "from sklearn.tree import export_graphviz\n",
        "#from sklearn.externals.six import StringIO  \n",
        "from IPython.display import Image  \n",
        "## conda install pydotplus\n",
        "import pydotplus\n",
        "from sklearn.ensemble import RandomForestClassifier\n",
        "from sklearn.datasets import make_classification\n",
        "\n",
        "#from nltk.stem import WordNetLemmatizer \n",
        "#LEMMER = WordNetLemmatizer() \n",
        "\n",
        "from nltk.stem.porter import PorterStemmer"
      ],
      "id": "6c7e7713",
      "execution_count": null,
      "outputs": []
    },
    {
      "cell_type": "code",
      "metadata": {},
      "source": [
        "name = \"StudentSummerProgramData_Numeric_Labeled.csv\"\n",
        "filenameNum=os.path.abspath(os.path.join('../..','data_files',name))\n",
        "#filenameNum=\"C:/Users/profa/Documents/Python Scripts/ANLY503/DATA/StudentSummerProgramData_Numeric_NumLabeled.csv\"\n",
        "StudentDF_Num=pd.read_csv(filenameNum)\n",
        "print(StudentDF_Num.head())"
      ],
      "id": "71f47311",
      "execution_count": null,
      "outputs": []
    },
    {
      "cell_type": "code",
      "metadata": {},
      "source": [
        "################# Sklearn methods such as these do not run on mixed type data...\n",
        "#filenameMixed=\"C:/Users/profa/Documents/Python Scripts/ANLY503/DATA/StudentSummerProgramData_Mixed_Labeled.csv\"\n",
        "#StudentDF_Mix=pd.read_csv(filenameMixed)\n",
        "#print(StudentDF_Mix.head())"
      ],
      "id": "ec4c8e7c",
      "execution_count": null,
      "outputs": []
    },
    {
      "cell_type": "markdown",
      "metadata": {},
      "source": [
        "# Training and Testing\n",
        "Because the data is already clean and ready - I can seperate it into TRAINING and TESTING sets"
      ],
      "id": "95ac1522"
    },
    {
      "cell_type": "code",
      "metadata": {},
      "source": [
        "#from sklearn.model_selection import train_test_split\n",
        "StudentTrainDF_Num, StudentTestDF_Num = train_test_split(StudentDF_Num, test_size=0.3)\n",
        "#StudentTrainDF_Mix, StudentTestDF_Mix = train_test_split(StudentDF_Mix, test_size=0.3)"
      ],
      "id": "79e26e85",
      "execution_count": null,
      "outputs": []
    },
    {
      "cell_type": "markdown",
      "metadata": {},
      "source": [
        "## Seperate LABELS FROM DATA\n",
        "\n",
        "Make sure you know the name of the label\n",
        "\n",
        "For both datasets above  - in this case - it is \"Decision\""
      ],
      "id": "260cb6b7"
    },
    {
      "cell_type": "code",
      "metadata": {},
      "source": [
        "## TEST - Num\n",
        "StudentTestLabels_Num=StudentTestDF_Num[\"Decision\"]  ## save labels\n",
        "print(StudentTestLabels_Num)\n",
        "StudentTestData_Num = StudentTestDF_Num.drop([\"Decision\"], axis=1)  ##drop labels\n",
        "print(StudentTestData_Num)"
      ],
      "id": "053128b3",
      "execution_count": null,
      "outputs": []
    },
    {
      "cell_type": "code",
      "metadata": {},
      "source": [
        "## TRAIN - Num\n",
        "StudentTrainLabels_Num=StudentTrainDF_Num[\"Decision\"]  ## save labels\n",
        "print(StudentTrainLabels_Num)\n",
        "StudentTrainData_Num = StudentTrainDF_Num.drop([\"Decision\"], axis=1)  ##drop labels\n",
        "print(StudentTrainData_Num)"
      ],
      "id": "f692047a",
      "execution_count": null,
      "outputs": []
    },
    {
      "cell_type": "code",
      "metadata": {},
      "source": [
        "### TEST - Mixed\n",
        "#StudentTestLabels_Mix=StudentTestDF_Mix[\"Decision\"]  ## save labels\n",
        "#print(StudentTestLabels_Mix)\n",
        "#StudentTestData_Mix = StudentTestDF_Mix.drop([\"Decision\"], axis=1)  ##drop labels\n",
        "#print(StudentTestData_Mix)"
      ],
      "id": "153bb102",
      "execution_count": null,
      "outputs": []
    },
    {
      "cell_type": "code",
      "metadata": {},
      "source": [
        "### TRAIN - Mixed\n",
        "#StudentTrainLabels_Mix=StudentTrainDF_Mix[\"Decision\"]  ## save labels\n",
        "#print(StudentTrainLabels_Mix)\n",
        "#StudentTrainData_Mix = StudentTrainDF_Mix.drop([\"Decision\"], axis=1)  ##drop labels\n",
        "#print(StudentTrainData_Mix)"
      ],
      "id": "2b296170",
      "execution_count": null,
      "outputs": []
    },
    {
      "cell_type": "code",
      "metadata": {},
      "source": [
        "#print(StudentTestLabels_Num)\n",
        "#print(StudentTestData_Num)\n",
        "### TRAIN - Num\n",
        "#print(StudentTrainLabels_Num)\n",
        "#print(StudentTrainData_Num)"
      ],
      "id": "56853f9e",
      "execution_count": null,
      "outputs": []
    },
    {
      "cell_type": "markdown",
      "metadata": {},
      "source": [
        "# SCALE ALL DATA to between 0 and 1"
      ],
      "id": "24b37697"
    },
    {
      "cell_type": "code",
      "metadata": {},
      "source": [
        "#from sklearn import preprocessing\n",
        "\n",
        "x = StudentTrainData_Num.values #returns a numpy array\n",
        "min_max_scaler = preprocessing.MinMaxScaler()\n",
        "x_scaled = min_max_scaler.fit_transform(x)\n",
        "StudentTrainData_Num_S = pd.DataFrame(x_scaled)\n",
        "\n",
        "x2 = StudentTestData_Num.values #returns a numpy array\n",
        "min_max_scaler2 = preprocessing.MinMaxScaler()\n",
        "x_scaled2 = min_max_scaler2.fit_transform(x2)\n",
        "StudentTestData_Num_S = pd.DataFrame(x_scaled2)\n",
        "print(StudentTestData_Num_S)"
      ],
      "id": "9bec2650",
      "execution_count": null,
      "outputs": []
    },
    {
      "cell_type": "markdown",
      "metadata": {},
      "source": [
        "# Naive Bayes \n",
        "\n",
        "## Create the modeler\n",
        "\n",
        "In Python - unlike R - you cannot run a standard NB on Mixed data. Therefore, we will only run it on our numeric dataset."
      ],
      "id": "78051e8b"
    },
    {
      "cell_type": "code",
      "metadata": {},
      "source": [
        "#from sklearn.naive_bayes import MultinomialNB\n",
        "MyModelNB_Num= MultinomialNB()"
      ],
      "id": "608dc23c",
      "execution_count": null,
      "outputs": []
    },
    {
      "cell_type": "markdown",
      "metadata": {},
      "source": [
        "When you look up this model, you learn that it wants the DF seperate from the labels\n",
        "\n",
        "<https://scikit-learn.org/stable/modules/generated/sklearn.naive_bayes.MultinomialNB.html#sklearn.naive_bayes.MultinomialNB.fit>\n"
      ],
      "id": "dc16cf54"
    },
    {
      "cell_type": "code",
      "metadata": {},
      "source": [
        "MyModelNB_Num.fit(StudentTrainData_Num, StudentTrainLabels_Num)\n",
        "PredictionNB = MyModelNB_Num.predict(StudentTestData_Num)\n",
        "#print(\"\\nThe prediction from NB is:\")\n",
        "#print(PredictionNB)\n",
        "#print(\"\\nThe actual labels are:\")\n",
        "#print(StudentTestLabels_Num)"
      ],
      "id": "5b0fd42a",
      "execution_count": null,
      "outputs": []
    },
    {
      "cell_type": "markdown",
      "metadata": {},
      "source": [
        "## confusion matrix\n",
        "The confusion matrix is square and is labels X labels\n",
        "\n",
        "We ahve two labels, so ours will be 2X2\n",
        "\n",
        "The matrix shows\n",
        "- rows are the true labels\n",
        "- columns are predicted\n",
        "- it is alphabetical\n",
        "- The numbers are how many "
      ],
      "id": "41f40ec8"
    },
    {
      "cell_type": "code",
      "metadata": {},
      "source": [
        "#from sklearn.metrics import confusion_matrix\n",
        "\n",
        "cnf_matrix = confusion_matrix(StudentTestLabels_Num, PredictionNB)\n",
        "print(\"\\nThe confusion matrix is:\")\n",
        "print(cnf_matrix)"
      ],
      "id": "0863c84e",
      "execution_count": null,
      "outputs": []
    },
    {
      "cell_type": "markdown",
      "metadata": {},
      "source": [
        "prediction probabilities columns are the labels in alphabetical order\n",
        "\n",
        "The decinal in the matrix are the prob of being that label"
      ],
      "id": "69f1749b"
    },
    {
      "cell_type": "code",
      "metadata": {},
      "source": [
        "print(np.round(MyModelNB_Num.predict_proba(StudentTestData_Num),2))\n",
        "MyModelNB_Num.get_params(deep=True)"
      ],
      "id": "984c3d03",
      "execution_count": null,
      "outputs": []
    },
    {
      "cell_type": "code",
      "metadata": {},
      "source": [
        "from sklearn.decomposition import PCA\n",
        "#from mpl_toolkits.mplot3d import Axes3D \n",
        "import matplotlib.pyplot as plt\n",
        "## remap labels to numbers to view\n",
        "ymap=StudentTrainLabels_Num\n",
        "ymap=ymap.replace(\"Admit\", 1)\n",
        "ymap=ymap.replace(\"Decline\", 0)\n",
        "ymap=ymap.replace(\"Wait\", 2)"
      ],
      "id": "3041e4fb",
      "execution_count": null,
      "outputs": []
    },
    {
      "cell_type": "code",
      "metadata": {},
      "source": [
        "pca = PCA(n_components=3)\n",
        "proj = pca.fit_transform(StudentTrainData_Num)\n",
        "plt.scatter(proj[:, 0], proj[:, 1], c=ymap, cmap=\"Paired\")\n",
        "plt.colorbar()"
      ],
      "id": "1b8cd8e8",
      "execution_count": null,
      "outputs": []
    },
    {
      "cell_type": "markdown",
      "metadata": {},
      "source": [
        "# Decision Trees\n",
        "\n",
        "In Python - the Decision Trees work ONLY on numeric data\n",
        "## TEST"
      ],
      "id": "22c4d9bf"
    },
    {
      "cell_type": "code",
      "metadata": {},
      "source": [
        "#print(StudentTestLabels_Num)\n",
        "#print(StudentTestData_Num)\n",
        "### TRAIN - Num\n",
        "#print(StudentTrainLabels_Num)\n",
        "#print(StudentTrainData_Num)"
      ],
      "id": "c3533ff5",
      "execution_count": null,
      "outputs": []
    },
    {
      "cell_type": "code",
      "metadata": {},
      "source": [
        "from sklearn.tree import DecisionTreeClassifier\n",
        "from sklearn import tree\n",
        "import matplotlib.pyplot as plt\n",
        "## conda install python-graphviz\n",
        "## restart kernel (click the little red x next to the Console)\n",
        "import graphviz \n",
        "from sklearn.metrics import confusion_matrix\n",
        "\n",
        "#https://scikit-learn.org/stable/modules/generated/sklearn.tree.DecisionTreeClassifier.html\n",
        "MyDT_R=DecisionTreeClassifier(criterion='entropy', ##\"entropy\" or \"gini\"\n",
        "                            splitter='best',  ## or \"random\" or \"best\"\n",
        "                            max_depth=None, \n",
        "                            min_samples_split=2, \n",
        "                            min_samples_leaf=1, \n",
        "                            min_weight_fraction_leaf=0.0, \n",
        "                            max_features=None, \n",
        "                            random_state=None, \n",
        "                            max_leaf_nodes=None, \n",
        "                            min_impurity_decrease=0.0, \n",
        "                            #min_impurity_split=None, \n",
        "                            class_weight=None)"
      ],
      "id": "7542c802",
      "execution_count": null,
      "outputs": []
    },
    {
      "cell_type": "markdown",
      "metadata": {},
      "source": [
        "## perform DT"
      ],
      "id": "6b3b9966"
    },
    {
      "cell_type": "code",
      "metadata": {},
      "source": [
        "MyDT_R.fit(StudentTrainData_Num, StudentTrainLabels_Num)\n",
        "## plot the tree\n",
        "tree.plot_tree(MyDT_R)\n",
        "\n",
        "feature_namesR=StudentTrainData_Num.columns\n",
        "print(feature_namesR)"
      ],
      "id": "6b838f77",
      "execution_count": null,
      "outputs": []
    },
    {
      "cell_type": "code",
      "metadata": {},
      "source": [
        "##--------------------------------------------------------\n",
        "## VIS 1 saved as Tree_Record.pdf\n",
        "##-----------------------------------------------------------\n",
        "\n",
        "TREE_data = tree.export_graphviz(MyDT_R, out_file=None,\n",
        "                  feature_names=StudentTrainData_Num.columns,\n",
        "                  filled=True, \n",
        "                  rounded=True,  \n",
        "                  special_characters=True) \n",
        "                                   \n",
        "graph = graphviz.Source(TREE_data) \n",
        "graph.render(\"Tree_Record\") "
      ],
      "id": "631f50c1",
      "execution_count": null,
      "outputs": []
    },
    {
      "cell_type": "markdown",
      "metadata": {},
      "source": [
        "## Show the predictions from the DT on the test set"
      ],
      "id": "27c68ffe"
    },
    {
      "cell_type": "code",
      "metadata": {},
      "source": [
        "#print(\"\\nActual\\n\")\n",
        "#print(StudentTestLabels_Num)\n",
        "#print(\"Prediction\\n\")\n",
        "DT_pred_R=MyDT_R.predict(StudentTestData_Num)\n",
        "#print(DT_pred_R)\n",
        "##_--\n",
        "## Show the confusion matrix\n",
        "bn_matrix_R = confusion_matrix(StudentTestLabels_Num, DT_pred_R)\n",
        "print(\"\\nThe confusion matrix is:\")\n",
        "print(bn_matrix_R)"
      ],
      "id": "c14cadfc",
      "execution_count": null,
      "outputs": []
    },
    {
      "cell_type": "markdown",
      "metadata": {},
      "source": [
        "## Feature Importance"
      ],
      "id": "d0c01427"
    },
    {
      "cell_type": "code",
      "metadata": {},
      "source": [
        "FeatureImpR=MyDT_R.feature_importances_   \n",
        "indicesR = np.argsort(FeatureImpR)[::-1]\n",
        "indicesR\n",
        "print (\"feature name: \", feature_namesR[indicesR])"
      ],
      "id": "c46032f0",
      "execution_count": null,
      "outputs": []
    },
    {
      "cell_type": "markdown",
      "metadata": {},
      "source": [
        "print out the important features....."
      ],
      "id": "aedb04f0"
    },
    {
      "cell_type": "code",
      "metadata": {},
      "source": [
        "for f in range(StudentTrainData_Num.shape[1]):\n",
        "    if FeatureImpR[indicesR[f]] > 0:\n",
        "        print(\"%d. feature %d (%f)\" % (f + 1, indicesR[f], FeatureImpR[indicesR[f]]))\n",
        "        print (\"feature name: \", feature_namesR[indicesR[f]])"
      ],
      "id": "df564d35",
      "execution_count": null,
      "outputs": []
    },
    {
      "cell_type": "markdown",
      "metadata": {},
      "source": [
        "FYI for small datasets you can zip features...."
      ],
      "id": "9a78ea72"
    },
    {
      "cell_type": "code",
      "metadata": {},
      "source": [
        "## print(dict(zip(iris_pd.columns, clf.feature_importances_)))"
      ],
      "id": "a50d4a62",
      "execution_count": null,
      "outputs": []
    },
    {
      "cell_type": "markdown",
      "metadata": {},
      "source": [
        "## Visualize Decision Trees plotting paired surfaces"
      ],
      "id": "6a1c3011"
    },
    {
      "cell_type": "code",
      "metadata": {},
      "source": [
        "import numpy as np\n",
        "import matplotlib.pyplot as plt\n",
        "from sklearn.tree import DecisionTreeClassifier, plot_tree\n",
        "\n",
        "f1=StudentTrainData_Num.columns.get_loc(\"WritingScore\") \n",
        "f2=StudentTrainData_Num.columns.get_loc(\"TestScore\") \n",
        "\n",
        "n_classes =2\n",
        "plot_colors = \"ryb\"\n",
        "plot_step = 0.02"
      ],
      "id": "cdf1950a",
      "execution_count": null,
      "outputs": []
    },
    {
      "cell_type": "code",
      "metadata": {},
      "source": [
        "for pairidx, pair in enumerate([[f1, f2], [0, 2], [0, 3],\n",
        "                                [1, 2], [1, 3]]):\n",
        "    #print(TrainDF1.iloc[:,pair])\n",
        "    X = StudentTrainData_Num.iloc[:, pair]\n",
        "    ## Because we are plotting, using our GOD and HIKE labels will not work\n",
        "    ## we need to change them to 0 and 1\n",
        "    y = StudentTrainLabels_Num\n",
        "    print(y)\n",
        "    oldy=y\n",
        "    #print(type(y))\n",
        "    y=y.replace(\"Admit\", 1)\n",
        "    y=y.replace(\"Decline\", 0)\n",
        "    y=y.replace(\"Wait\", 2)\n",
        "    \n",
        "    print(y)\n",
        "    # Train\n",
        "    DTC = DecisionTreeClassifier().fit(X, y)\n",
        "    # Plot the decision boundary\n",
        "    plt.subplot(2, 3, pairidx + 1)\n",
        "\n",
        "    x_min, x_max = X.iloc[:, 0].min() - 1, X.iloc[:, 0].max() + 1\n",
        "    print(x_min)\n",
        "    y_min, y_max = X.iloc[:, 1].min() - 1, X.iloc[:, 1].max() + 1\n",
        "   \n",
        "    xx, yy = np.meshgrid(np.arange(x_min, x_max,plot_step),\n",
        "                         np.arange(y_min, y_max,plot_step))\n",
        "    \n",
        "    #print(yy)\n",
        "    \n",
        "    plt.tight_layout(h_pad=0.5, w_pad=0.5, pad=2.5)\n",
        "#\n",
        "    Z = DTC.predict(np.c_[xx.ravel(), yy.ravel()])\n",
        "    Z = Z.reshape(xx.shape)\n",
        "    print(Z)\n",
        "    \n",
        "    \n",
        "    cs = plt.contourf(xx, yy, Z, cmap=plt.cm.RdYlBu)\n",
        "       \n",
        "    plt.scatter(X.iloc[:, 0], X.iloc[:, 1], s=30, label=oldy,edgecolor='black', \n",
        "                    #c=color, s=15)\n",
        "                    #label=y[i],\n",
        "                    cmap=plt.cm.RdYlBu)\n",
        "###---------------------------end for loop ----------------------------------\n",
        "#plt.suptitle(\"Decision surface of a decision tree using paired features: Student Admissions\")\n",
        "#plt.legend(loc='lower right', borderpad=0, handletextpad=0)\n",
        "#plt.axis(\"tight\")\n",
        "#\n",
        "#plt.figure()"
      ],
      "id": "a79c7c07",
      "execution_count": null,
      "outputs": []
    },
    {
      "cell_type": "markdown",
      "metadata": {},
      "source": [
        "##  MORE DT Vis"
      ],
      "id": "b6c681b0"
    },
    {
      "cell_type": "code",
      "metadata": {},
      "source": [
        "# dot_data2 = StringIO()\n",
        "\n",
        "# export_graphviz(MyDT_R, out_file=dot_data2,  \n",
        "#                 filled=True, rounded=True,\n",
        "#                 special_characters=True,\n",
        "#                 feature_names = StudentTrainData_Num.columns)\n",
        "\n",
        "#                 #class_names=['0','1'])\n",
        "# graph = pydotplus.graph_from_dot_data(dot_data2.getvalue())  \n",
        "# graph.write_png('StudentData.png')\n",
        "# Image(graph.create_png())"
      ],
      "id": "417555c3",
      "execution_count": null,
      "outputs": []
    },
    {
      "cell_type": "markdown",
      "metadata": {},
      "source": [
        "# Random Forest"
      ],
      "id": "613a65aa"
    },
    {
      "cell_type": "code",
      "metadata": {},
      "source": [
        "RF1 = RandomForestClassifier()\n",
        "RF1.fit(StudentTrainData_Num, StudentTrainLabels_Num)\n",
        "RF1_pred=RF1.predict(StudentTestData_Num)"
      ],
      "id": "cdf624bd",
      "execution_count": null,
      "outputs": []
    },
    {
      "cell_type": "code",
      "metadata": {},
      "source": [
        "bn_matrix_RF = confusion_matrix(StudentTestLabels_Num, RF1_pred)\n",
        "print(\"\\nThe confusion matrix is:\")\n",
        "print(bn_matrix_RF)"
      ],
      "id": "41765dd5",
      "execution_count": null,
      "outputs": []
    },
    {
      "cell_type": "markdown",
      "metadata": {},
      "source": [
        "## VIS RF"
      ],
      "id": "2996d8e2"
    },
    {
      "cell_type": "code",
      "metadata": {},
      "source": [
        "Features=StudentTrainData_Num.columns.tolist()\n",
        "#Targets=StudentTestLabels_Num\n",
        "\n",
        "fig, axes = plt.subplots(nrows = 1,ncols = 1,figsize = (4,4), dpi=800)\n",
        "tree.plot_tree(RF1.estimators_[0],\n",
        "               feature_names = Features, \n",
        "               #class_names=Targets,\n",
        "               filled = True)\n",
        "\n",
        "fig.savefig('RF_Tree')  ## creates png"
      ],
      "id": "f0b1a970",
      "execution_count": null,
      "outputs": []
    },
    {
      "cell_type": "markdown",
      "metadata": {},
      "source": [
        "### View estimator Trees in RF"
      ],
      "id": "444472d6"
    },
    {
      "cell_type": "code",
      "metadata": {},
      "source": [
        "fig2, axes2 = plt.subplots(nrows = 1,ncols = 3,figsize = (10,2), dpi=900)\n",
        "for index in range(0, 3):\n",
        "    tree.plot_tree(RF1.estimators_[index],\n",
        "                   feature_names = Features, \n",
        "                   filled = True,\n",
        "                   ax = axes2[index])\n",
        "\n",
        "    axes2[index].set_title('Estimator: ' + str(index), fontsize = 11)\n",
        "fig2.savefig('THREEtrees_RF.png')"
      ],
      "id": "fa93e5c3",
      "execution_count": null,
      "outputs": []
    },
    {
      "cell_type": "markdown",
      "metadata": {},
      "source": [
        "# SVM\n",
        "\n",
        "**NOTE** - We CANNOT use SVM directly on the data. \n",
        "\n",
        "SVMs do not run on qualitative data.\n",
        "    \n",
        "**MUST NORMALIZE THE DATA!!**  \n",
        "\n",
        "This is done above. Notice the `_S` for scale after each DF"
      ],
      "id": "f3331a06"
    },
    {
      "cell_type": "code",
      "metadata": {},
      "source": [
        "#from sklearn.svm import LinearSVC\n",
        "SVM_Model1=LinearSVC(C=1)\n",
        "SVM_Model1.fit(StudentTrainData_Num_S, StudentTrainLabels_Num)"
      ],
      "id": "c7307c0c",
      "execution_count": null,
      "outputs": []
    },
    {
      "cell_type": "code",
      "metadata": {},
      "source": [
        "#print(\"SVM prediction:\\n\", SVM_Model1.predict(StudentTestData_Num_S))\n",
        "#print(\"Actual:\")\n",
        "#print(StudentTestLabels_Num)"
      ],
      "id": "5dac95cc",
      "execution_count": null,
      "outputs": []
    },
    {
      "cell_type": "code",
      "metadata": {},
      "source": [
        "SVM_matrix = confusion_matrix(StudentTestLabels_Num, SVM_Model1.predict(StudentTestData_Num_S))\n",
        "print(\"\\nThe confusion matrix is:\")\n",
        "print(SVM_matrix)\n",
        "print(\"\\n\\n\")"
      ],
      "id": "e8d16362",
      "execution_count": null,
      "outputs": []
    },
    {
      "cell_type": "markdown",
      "metadata": {},
      "source": [
        "## other kernels\n",
        "### RBF"
      ],
      "id": "f2852af5"
    },
    {
      "cell_type": "code",
      "metadata": {},
      "source": [
        "SVM_Model2=sklearn.svm.SVC(C=1, kernel='rbf', degree=3, gamma=\"auto\")\n",
        "SVM_Model2.fit(StudentTrainData_Num_S, StudentTrainLabels_Num)"
      ],
      "id": "247899fb",
      "execution_count": null,
      "outputs": []
    },
    {
      "cell_type": "code",
      "metadata": {},
      "source": [
        "#print(\"SVM prediction:\\n\", SVM_Model2.predict(StudentTestData_Num_S))\n",
        "#print(\"Actual:\")\n",
        "#print(StudentTestLabels_Num)"
      ],
      "id": "5515ee5a",
      "execution_count": null,
      "outputs": []
    },
    {
      "cell_type": "code",
      "metadata": {},
      "source": [
        "SVM_matrix2 = confusion_matrix(StudentTestLabels_Num, SVM_Model2.predict(StudentTestData_Num_S))\n",
        "print(\"\\nThe confusion matrix is:\")\n",
        "print(SVM_matrix2)\n",
        "print(\"\\n\\n\")"
      ],
      "id": "30fb356c",
      "execution_count": null,
      "outputs": []
    },
    {
      "cell_type": "markdown",
      "metadata": {},
      "source": [
        "### POLY"
      ],
      "id": "92eafa91"
    },
    {
      "cell_type": "code",
      "metadata": {},
      "source": [
        "SVM_Model3=sklearn.svm.SVC(C=100, kernel='poly', degree=2, gamma=\"auto\")\n",
        "SVM_Model3.fit(StudentTrainData_Num_S, StudentTrainLabels_Num)"
      ],
      "id": "7d82a52b",
      "execution_count": null,
      "outputs": []
    },
    {
      "cell_type": "code",
      "metadata": {},
      "source": [
        "#print(\"SVM prediction:\\n\", SVM_Model3.predict(StudentTestData_Num_S))\n",
        "#print(\"Actual:\")\n",
        "#print(StudentTestLabels_Num)"
      ],
      "id": "41e177a0",
      "execution_count": null,
      "outputs": []
    },
    {
      "cell_type": "code",
      "metadata": {},
      "source": [
        "SVM_matrix3 = confusion_matrix(StudentTestLabels_Num, SVM_Model3.predict(StudentTestData_Num_S))\n",
        "print(\"\\nThe confusion matrix is:\")\n",
        "print(SVM_matrix3)\n",
        "print(\"\\n\\n\")"
      ],
      "id": "7231aae4",
      "execution_count": null,
      "outputs": []
    }
  ],
  "metadata": {
    "kernelspec": {
      "name": "python3",
      "language": "python",
      "display_name": "Python 3 (ipykernel)"
    }
  },
  "nbformat": 4,
  "nbformat_minor": 5
}