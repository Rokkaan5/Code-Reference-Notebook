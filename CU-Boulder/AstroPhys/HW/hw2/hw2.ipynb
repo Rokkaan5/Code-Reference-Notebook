{
 "cells": [
  {
   "cell_type": "raw",
   "metadata": {},
   "source": [
    "---\n",
    "title: \"ASTR 5550: HW2 (Coding)\"\n",
    "author: \"Jasmine Kobayashi\"\n",
    "format:\n",
    "    html:\n",
    "        code-fold: false\n",
    "        toc: true\n",
    "    pdf:\n",
    "        code-fold: false\n",
    "        code-overflow: wrap\n",
    "        papersize: letter\n",
    "execute:\n",
    "    output: true\n",
    "    warning: false\n",
    "jupyter: python3\n",
    "---"
   ]
  },
  {
   "cell_type": "markdown",
   "metadata": {},
   "source": [
    "# 1. Binomial and Gaussian Distributions\n",
    "\n",
    "Basically, this problem is a repeat of a previous problem (in HW1). The goal of this problem is to show how a Gaussian distribution is a good approximation of a Poisson or binomial distribution at high expected counts ($\\lambda$ or $\\mu$). Furthermore, a Gaussian distribution is continuous whereas the Poisson and binomial distributions can be difficult to evaluate via computer at high $n$. \n",
    "\n",
    "In this problem, a well-established count rate of photons from a star (from a given telescope) is 0.1/s. The photons from a star are counted for 100 seconds by a \"perfect\" CCD that is read out every 1 second (1 second accumulation)."
   ]
  },
  {
   "cell_type": "markdown",
   "metadata": {},
   "source": [
    "## Part (a) \n",
    "Start with the binomial distribution. Write a program that calculates $P(x;n,p)$ as a function of $x$ with $n=100$ and $p=0.1$. Plot your results for $0 \\le x \\le 20$."
   ]
  },
  {
   "cell_type": "code",
   "execution_count": null,
   "metadata": {},
   "outputs": [],
   "source": [
    "# libraries\n",
    "import math\n",
    "import numpy as np\n",
    "import matplotlib.pyplot as plt"
   ]
  },
  {
   "cell_type": "markdown",
   "metadata": {},
   "source": [
    "## Part (b)\n",
    "\n",
    "Overplot the Poisson distribution; use a different color or line style to distinguish the two. What is the mean and sigma?"
   ]
  },
  {
   "cell_type": "code",
   "execution_count": null,
   "metadata": {},
   "outputs": [],
   "source": []
  },
  {
   "cell_type": "markdown",
   "metadata": {},
   "source": [
    "## Part (c)\n",
    "\n",
    "Overplot the Gaussian distribution using a fine x-axis. How close are the two functions? Do they peak at the same value? Is it reasonable to assume a Gaussian parent distribution in this case?"
   ]
  },
  {
   "cell_type": "code",
   "execution_count": null,
   "metadata": {},
   "outputs": [],
   "source": []
  },
  {
   "cell_type": "markdown",
   "metadata": {},
   "source": []
  },
  {
   "cell_type": "markdown",
   "metadata": {},
   "source": [
    "# 2. How Old is This Volcano?\n",
    "\n",
    "The age of a volcanic eruption on Mars can be inferred from counting the surface density of craters of a given diameter or greater. It is established that the impact rate $r=0.01$ creaters $\\text{km}^{-2}\\text{Myr}^{-1}$. You survey an area ($A$) of 10 $\\text{km}^2$ and find 3 craters ($x$)."
   ]
  },
  {
   "cell_type": "markdown",
   "metadata": {},
   "source": [
    "## Part (a)\n",
    "Start by making a simple estimate of the volcano's age and a standard deviation."
   ]
  },
  {
   "cell_type": "markdown",
   "metadata": {},
   "source": []
  },
  {
   "cell_type": "markdown",
   "metadata": {},
   "source": [
    "## Part (b)\n",
    "\n",
    "The simple estimation of the age and uncertainty is often adequate. One can explore this problem further by calculating the *posterior* probability, $P(x;t)$ over a range of times (say, $t=0$ to 150 in Myr intervals) assuming a Poisson parent distribution and knowing $x=3$. Do this problem on your computer. \n",
    "\n",
    "Important point: the initial calculation yields a set of *relative* probabilities; under Bayes' law: \n",
    "$$P(t;x) = \\frac{P(x;t)P(t)}{P(x)}$$\n",
    "\n",
    "Since we have no prior knowledge in this case, we treat $P(t)/P(x)$ as a constant; You must normalize $P(t;x)$ so that the total probability is 1. $P(t;x)$ will have units of \"probability/Myr\". Plot your results. Mark the mean and mode (most likely age) and directly compute the standard deviation. Compare these values with your simple estimate."
   ]
  },
  {
   "cell_type": "code",
   "execution_count": null,
   "metadata": {},
   "outputs": [],
   "source": []
  },
  {
   "cell_type": "markdown",
   "metadata": {},
   "source": [
    "## Part (c)\n",
    "\n",
    "A low count rate creates two issues. One issue is, of course, that the standard deviation is large regardless of how it is calculated. The other issue is that the probability distributions are often not symmetric, which creates a bit of a conundrum. It is natural to choose the most likely value of $P(t;x)$ as the age of the volcano but one can see that there is a greater probability that the volcano is older than the likely age rather than younger (if your plot is correct at this point). So how does one determine the uncertainty?\n",
    "\n",
    "There are several methods that can assign the uncertainty, one of which (relatively easy) is to calculate the full width at half the maximum (*FWHM*) of $P(t;x)$ and apply the Gaussian formula that $\\text{FWHM} = \\sigma \\sqrt{8ln(2)}$ to calculate $\\sigma$. What does the does this method yield $[t_{min},t_{max}]$? You now have calculated sigma three times. Is there a significant difference between them? (More to come on this!)"
   ]
  },
  {
   "cell_type": "code",
   "execution_count": null,
   "metadata": {},
   "outputs": [],
   "source": []
  },
  {
   "cell_type": "markdown",
   "metadata": {},
   "source": [
    "## Part (d)\n",
    "\n",
    "Now suppose that 34 impact craters are identified over a 100 $\\text{km}^2$ area. Redo parts (a), (b), and (c). Plot your results and compare."
   ]
  },
  {
   "cell_type": "code",
   "execution_count": null,
   "metadata": {},
   "outputs": [],
   "source": []
  },
  {
   "cell_type": "code",
   "execution_count": null,
   "metadata": {},
   "outputs": [],
   "source": []
  },
  {
   "cell_type": "code",
   "execution_count": null,
   "metadata": {},
   "outputs": [],
   "source": []
  },
  {
   "cell_type": "markdown",
   "metadata": {},
   "source": [
    "# 3. Random Walk and the Central Limit Theorem"
   ]
  },
  {
   "cell_type": "markdown",
   "metadata": {},
   "source": [
    "## Part (a)\n",
    "\n",
    "The random walk is often used to eludicate the central limit theorem. Using a classical but perhaps no longer politically correct analogy, a drunk at a lamp post ($x=0$) takes a step either to the left or to the right with equal probability. His/her position ($x$) after $n$ steps, can be represented with the binomial distribution:\n",
    "\n",
    "$$P_B(x;n,p) = \\frac{n!}{(n-x)!x!} p^{x+1}q^{n-x}$$\n",
    "\n",
    "Set $p=1/2$ for a step to the right (positive) of one unit, otherwise the step is to the left. The distance traveled is the $d=2x-n$. We know from the central limit theorem that $P_B(d;n,p)$ approaches a Gaussian at large $n$. Numerically calculate and plot $P_B(d;n,p)$ for $n=100$. \n",
    "\n",
    "Overplot: $$P_G(d) = \\frac{C}{\\sigma \\sqrt{2\\pi}} e^{-\\frac{d^2}{2\\sigma ^2}}$$\n",
    "\n",
    "Careful with normalization! $P_B(d;n,p)$ is normalized so that its total is 1. When using $d=2x-n$ with $n$ as an even number, $d$ must be an even number. There are only 101 possible positions. On the other hand, $P_G(d)$ does not require $d$ to be even (or an integer for that matter) and has twice as many possible positions. \n",
    "\n",
    "I recommend that the plot is log/linear with the vertical axis (probability) range of $10^{-5}$ to $1$. Don't print it out yet. See below."
   ]
  },
  {
   "cell_type": "code",
   "execution_count": null,
   "metadata": {},
   "outputs": [],
   "source": []
  },
  {
   "cell_type": "markdown",
   "metadata": {},
   "source": [
    "## Part (b)\n",
    "\n",
    "What if, however, the lamppost ($x=0$) is at the bottom of a parabolic valley as pictured below. Let the altitude be $z=0.005 d^2$, so that the $\\text{slope} = 0.01 d$. Now suppose the drunk tends to stagger downhill. Let the probability of a right step be $0.5-\\text{slope}$. With a brute force algorithm, calculate $P(d)$. Overplot your results. What is $\\sigma$?\n",
    "\n",
    "Hint: Implement a random walk program with $n=100$ steps by calling a uniform random number then comparing to the right-step probability, which is a function of position. Record the end position. Loop ~100,000 times and make a histogram of the end positions."
   ]
  },
  {
   "cell_type": "code",
   "execution_count": null,
   "metadata": {},
   "outputs": [],
   "source": []
  },
  {
   "cell_type": "markdown",
   "metadata": {},
   "source": [
    "## Part (c)\n",
    "\n",
    "Now put the lamppost ($x=0$) at the top of a parabolic hill so that the $\\text{slope}= -0.01 d$. Ovverplot your results. What is $\\sigma$?\n",
    "\n",
    "Note: You will notice that your results look Gaussian. However, the central limit theory does **not** necessarily apply for steps (b) and (c). Save your code for the next problem when we look at power-law tails. "
   ]
  },
  {
   "cell_type": "code",
   "execution_count": null,
   "metadata": {},
   "outputs": [],
   "source": []
  },
  {
   "cell_type": "markdown",
   "metadata": {},
   "source": [
    "# 4. Not so Random Walk: Power Law\n",
    "\n",
    "In this problem, we repeat problem 3 with a new caveat. His/her step size is 0.50 (whatever units) but increases with absolute value of his/her current position: \n",
    "$$\\text{Step} = 0.5 + |x| * 0.025$$\n",
    "\n",
    "Let the number of steps be $n=400$ (half the original step size, so four times the number of steps). Implement a random walk program with $n=400$ steps by calling a uniform random number then comparing to the right-step probability, in this case 1/2. Record the end position. Loop ~100,000 times and make a histogram of the end positions.\n",
    "\n",
    "Calculate $\\sigma$. The mean should be zero. Overplot a Gaussian with the calculated $\\sigma$. Is the resulting distribution a Gaussian?"
   ]
  },
  {
   "cell_type": "code",
   "execution_count": null,
   "metadata": {},
   "outputs": [],
   "source": []
  }
 ],
 "metadata": {
  "kernelspec": {
   "display_name": "base",
   "language": "python",
   "name": "python3"
  },
  "language_info": {
   "codemirror_mode": {
    "name": "ipython",
    "version": 3
   },
   "file_extension": ".py",
   "mimetype": "text/x-python",
   "name": "python",
   "nbconvert_exporter": "python",
   "pygments_lexer": "ipython3",
   "version": "3.8.18"
  }
 },
 "nbformat": 4,
 "nbformat_minor": 2
}
