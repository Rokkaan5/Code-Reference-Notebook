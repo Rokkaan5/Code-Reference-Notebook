{
 "cells": [
  {
   "cell_type": "raw",
   "metadata": {},
   "source": [
    "---\n",
    "title: \"ASTR 5550: HW3\"\n",
    "author: \"Jasmine Kobayashi\"\n",
    "format:\n",
    "    html:\n",
    "        code-fold: false\n",
    "        toc: true\n",
    "    pdf:\n",
    "        code-fold: false\n",
    "        code-overflow: wrap\n",
    "        papersize: letter\n",
    "execute:\n",
    "    output: true\n",
    "    warning: false\n",
    "jupyter: python3\n",
    "---"
   ]
  },
  {
   "cell_type": "code",
   "execution_count": 1,
   "metadata": {},
   "outputs": [],
   "source": [
    "import numpy as np\n",
    "import matplotlib.pyplot as plt"
   ]
  },
  {
   "cell_type": "markdown",
   "metadata": {},
   "source": [
    "# 1. Joint Probability and Find the Gap\n",
    "Suppose the goal is to take a series of images of galaxies which necessitates very long exposures in a narrow field-of-view (FOV). The expected (mean) number of galaxies in this FOV is $19.3$."
   ]
  },
  {
   "cell_type": "markdown",
   "metadata": {},
   "source": [
    "## Part (a)\n",
    "How many exposures in separate FOVs are needed so that the probability of seeing at least 100 galaxies is greater than 50%? (Think simple!)"
   ]
  },
  {
   "cell_type": "markdown",
   "metadata": {},
   "source": [
    "## Part (b)\n",
    "Your proposal review insists that you need at least 100 galaxies and requires a 99% chance that you will succeed. How many exposures do you need now?"
   ]
  },
  {
   "cell_type": "markdown",
   "metadata": {},
   "source": [
    "## Part (c)\n",
    "There is a problem, however. A \"contaminating\" star is one that is bright enough to saturate the image to the point that one cannot determine the properties of galaxies. The expected (mean) number of \"contaminating\" stars one FOV is $5.1$. Your assignment is to find enough FOVs in the sky without contaminating stars to get the needed long-term exposures. Your advisor (who did not take statistics) comes up with a simple plan. Divide the sky in sectors, each with an area of the FOV with no overlap and take a short images; a contaminating star will emerge quickly. How many sectors do you expect to examine to find enough uncontaminated FOVs?"
   ]
  },
  {
   "cell_type": "markdown",
   "metadata": {},
   "source": [
    "## Part (d)\n",
    "What an effort! But another problem comes up. Due to the long exposure time and scheduling limitations of the telescope, there is a limited region of the sky that can be used. It is $1000 \\text{ as}$ by $1000 \\text{ as}$ whereas your FOV is a $100 \\text{ as}$ diameter circle. At best there are only a little over 100 such sectors. You now remember the \"Find the Gap\" lecture and you realize that there are many more possible exposures. You take a star map of the entire usable region. Demonstrate you can find enough open regions. Your choice as to how.\n",
    "\n",
    "**Hint:** One way is to create a random star map using positions as $x= \\text{uniform random}$ between $0$ and $1000 \\text{ as}$ and $y= \\text{uniform random}$ between $0$ and $1000 \\text{ as}$. Find values on a $1000 \\times 1000$ grid $[x,y]$ in which no stars are within $50 \\text{ as}$."
   ]
  },
  {
   "cell_type": "code",
   "execution_count": 2,
   "metadata": {},
   "outputs": [],
   "source": [
    "# check \"random number\" lecture material from PHYS 220"
   ]
  },
  {
   "cell_type": "markdown",
   "metadata": {},
   "source": [
    "# 2. Multi-variant Uncertainties\n",
    "Stellar parallax measurements are made by measuring the relative motion of a nearby star ($S_A$) with respect that of a distant object ($S_B$) due to Earth's orbit about the Sun. All images, however, have finite resolution; even though a star should make a single point on an image the star's intensity has a finite width, often referred to a point-spread function. The probability that a photon is recorded at position $x$ is: \n",
    "\n",
    "\\begin{equation}\n",
    "P(x) = \\frac{1}{\\Delta x \\sqrt{2 \\pi}} e^{-\\frac{(x-x_0)^2}{2\\Delta x^2}}\n",
    "\\end{equation}"
   ]
  },
  {
   "cell_type": "markdown",
   "metadata": {},
   "source": [
    "## Part (a)\n",
    "In the above equation, $\\Delta x$ is a property of, for example, the telescope diameter and the CCD resolution. Suppose $\\Delta x = 20 \\text{ pixels}$. Star $S_A$ records $10^3$ photons and $S_B$ yields $10^4$ photons. What is the $1-\\sigma$ variance in the position of each of the stars (in *pixels*)?"
   ]
  },
  {
   "cell_type": "code",
   "execution_count": null,
   "metadata": {},
   "outputs": [],
   "source": []
  },
  {
   "cell_type": "markdown",
   "metadata": {},
   "source": [
    "## Part (b)\n",
    "Given the above, what is the uncertainty in the distance between the stars?"
   ]
  },
  {
   "cell_type": "code",
   "execution_count": null,
   "metadata": {},
   "outputs": [],
   "source": []
  },
  {
   "cell_type": "markdown",
   "metadata": {},
   "source": [
    "## Part (c)\n",
    "The calibration relating *pixels* to *mas* is $c=10 \\text{ mas/pixel} \\pm 0.2 \\%$. Suppose $S_A$ and $S_B$ are separated by $250$ pixels. What is $d$ and the uncertainty in $d$ in *mas*? Which uncertainty ($a$, $b$, or $c$) makes the largest contribution to the uncertainty in $d$?\n",
    "\n",
    "<center>\n",
    "<img src=\"stellar.PNG\" width=\"300\"/>\n",
    "</center>"
   ]
  },
  {
   "cell_type": "code",
   "execution_count": 3,
   "metadata": {},
   "outputs": [
    {
     "name": "stdout",
     "output_type": "stream",
     "text": [
      "d = 2500 mas\n"
     ]
    }
   ],
   "source": [
    "delta_x = 250\n",
    "c = 10\n",
    "\n",
    "d = delta_x*c\n",
    "print(\"d = {}\".format(d), \"mas\")"
   ]
  },
  {
   "cell_type": "markdown",
   "metadata": {},
   "source": [
    "# 3. Gamma Ray Bursts\n",
    "Gamma Ray Bursts (GRBs) were first detected in the 1960s by defense satellites that were designed to verify the nuclear test ban treaty. These detectors had little ability to determine the source direction, but enough to determine that GRBs were not from Earth.\n",
    "\n",
    "To investigate GRBs, the next satellite-borne detectors had all-sky coverage combined with separate detectors with fields-of-view of roughly $0.04 \\text{ sr}$ ($0.3 \\%$ of the sky; gamma rays are difficult to focus). The GRB energy is so high that it was at thought by  many (at the time) that GRBs must be of galactic origin. GRBs are detected at a rate of about one per day."
   ]
  },
  {
   "cell_type": "markdown",
   "metadata": {},
   "source": [
    "## Part (a)\n",
    "Start by dividing the sky into two equal parts; one part contains the galactic plane and the other part is the rest of the sky (which has two sub-parts, but not a concern here). Most models predicted that a majority (at least $60 \\%$) of GRBs should be detected in a $2\\pi \\text{ sr}$ region containing the galactic plane. To test this hypothesis, assume that $60$ of GRBs are coming from the galactic plane. Estimate (no computer) how long was it expected to take the observations to show that the fraction of events in the galactic plane is $2\\sigma$ higher than $50\\%$, proving a galactic origin model."
   ]
  },
  {
   "cell_type": "code",
   "execution_count": 4,
   "metadata": {},
   "outputs": [],
   "source": [
    "galactic_plane = 60\n",
    "# FOV = 0.04 sr => rate = 1 per day\n",
    "\n",
    "# FOV = 2 pi sr <= at least 60% of GRBs per day "
   ]
  },
  {
   "cell_type": "markdown",
   "metadata": {},
   "source": [
    "## Part (b)\n",
    "After roughly one year, say that 166 GRBs are detected in the galactic plane out of 320 events. Let's examine the expected value of $r_{GP}$, the ratio of the number of events from galactic plane to the number of total events. By computer, compute and plot the Gaussian probability distribution as a function of $r_{GP}$ using the mean and $\\sigma$ from the above statistics. Why Gaussian? The number of events may be a bit too high to compute Poisson statistics directly. Mark the $\\pm 2\\sigma$ area. Compute the CDF. What is the probability that $r_{GP}$ is $60\\%$ or higher?"
   ]
  },
  {
   "cell_type": "code",
   "execution_count": 5,
   "metadata": {},
   "outputs": [],
   "source": [
    "yr1 = 166/320\n",
    "mu = 60/(2*np.pi)   # 1 GRB per day\n",
    "\n"
   ]
  },
  {
   "cell_type": "markdown",
   "metadata": {},
   "source": [
    "## Part (c)\n",
    "The idea that GRBs are extra-galactic was difficult to accept. However, after 9 years 2512 GRBs were detected of which close to $50\\%$ came from the galactic plane, which ruled out all but the most die-hard galactic-origin theories. The next test was to determine if there was any bias in GRB direction. The sky was parsed into 300 equally-sized sectors. Suppose the histogram is: $$H = [0,1,2,8,9,25,37,37,40,36,41,23,23,8,3,3,2,1,1]$$\n",
    "Does the GRB histogram match a Poisson distribution?\n",
    "\n",
    "**Hint:** Cut and paste $H$ into your code and plot. Overplot the expected distribution of the 300 sectors. What is the most likely number of GRBs per sector ($\\mu'$)? What is $\\chi_\\nu^2$? How does $\\chi_\\nu^2$ compare with the expected distribution? What do you conclude?"
   ]
  },
  {
   "cell_type": "code",
   "execution_count": 14,
   "metadata": {},
   "outputs": [],
   "source": [
    "import os,sys\n",
    "parent_dir = os.path.abspath(\"..\")  # string path to parent directory of file\n",
    "os.chdir(parent_dir)   # changes cwd to specified directory path"
   ]
  },
  {
   "cell_type": "code",
   "execution_count": 15,
   "metadata": {},
   "outputs": [],
   "source": [
    "from hw_helper_func import poisson\n",
    "ind = []\n",
    "for i in range(len(H)):\n",
    "    ind.append(i*H[i])\n",
    "\n",
    "s = sum(ind)\n",
    "mean = s/(sum(H))\n",
    "\n",
    "q3c = poisson(x_min=0,x_max=len(H),mu=mean)"
   ]
  },
  {
   "cell_type": "code",
   "execution_count": 18,
   "metadata": {},
   "outputs": [
    {
     "data": {
      "text/plain": [
       "<matplotlib.legend.Legend at 0x2451ab8a700>"
      ]
     },
     "execution_count": 18,
     "metadata": {},
     "output_type": "execute_result"
    },
    {
     "data": {
      "image/png": "[encoded data removed]",
      "text/plain": [
       "<Figure size 640x480 with 1 Axes>"
      ]
     },
     "metadata": {},
     "output_type": "display_data"
    }
   ],
   "source": [
    "H = [0,1,2,8,9,25,37,37,40,36,41,23,23,8,3,3,2,1,1]\n",
    "\n",
    "plt.bar(np.arange(0,len(H),1),np.array(H)/sum(H), label='(normalized) histogram')\n",
    "q3c.plot_poisson(label='Poisson')\n",
    "plt.legend()"
   ]
  },
  {
   "cell_type": "markdown",
   "metadata": {},
   "source": [
    "## Part (d)\n",
    "To perform another $\\chi_\\nu^2$ test, all of the 300 sectors are expected to have, within error, the same number of GRBs. That is, $f(x)=\\mu'$, which is now well determined. We also know $\\sigma ^2 = \\mu'$ well. What is $\\chi_\\nu^2$? What do you conclude?\n",
    "\n",
    "**Hint:** Explode $H$ into a 300-point array ($X$): $X = [0,1,2,3,3,3,3,3,3,3,3,(9 \\text{   } 4 \\text{s}),(25 \\text{   } 5 \\text{s}), \\text{etc.}]$"
   ]
  }
 ],
 "metadata": {
  "kernelspec": {
   "display_name": "base",
   "language": "python",
   "name": "python3"
  },
  "language_info": {
   "codemirror_mode": {
    "name": "ipython",
    "version": 3
   },
   "file_extension": ".py",
   "mimetype": "text/x-python",
   "name": "python",
   "nbconvert_exporter": "python",
   "pygments_lexer": "ipython3",
   "version": "3.8.18"
  }
 },
 "nbformat": 4,
 "nbformat_minor": 2
}
