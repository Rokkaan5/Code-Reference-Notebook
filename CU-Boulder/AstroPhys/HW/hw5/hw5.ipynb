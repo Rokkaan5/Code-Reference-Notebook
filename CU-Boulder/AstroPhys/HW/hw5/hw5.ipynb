{
 "cells": [
  {
   "cell_type": "raw",
   "metadata": {},
   "source": [
    "---\n",
    "title: \"ASTR 5550: HW5\"\n",
    "author: \"Jasmine Kobayashi\"\n",
    "format:\n",
    "    html:\n",
    "        code-fold: false\n",
    "        toc: true\n",
    "    pdf:\n",
    "        code-fold: false\n",
    "        code-overflow: wrap\n",
    "        papersize: letter\n",
    "execute:\n",
    "    output: true\n",
    "    warning: false\n",
    "jupyter: python3\n",
    "---"
   ]
  },
  {
   "cell_type": "code",
   "execution_count": 1,
   "metadata": {},
   "outputs": [],
   "source": [
    "# Libraries\n",
    "import numpy as np\n",
    "import matplotlib.pyplot as plt\n",
    "import pandas as pd\n",
    "import random\n",
    "from scipy.stats import chi2\n",
    "import os,sys\n",
    "import seaborn as sns\n",
    "sns.set_style('whitegrid')\n",
    "\n",
    "# import helper script file\n",
    "## change working directory\n",
    "os.chdir(\"C:/Users/rokka/GH-repos/GitHubPages/Code-Reference-Notebook/CU-Boulder/AstroPhys/HW\")\n",
    "\n",
    "## import my own code\n",
    "import hw_helper_func2 as hf  # this is my own code I made (for probability/distribution fucntions, etc.)"
   ]
  },
  {
   "cell_type": "markdown",
   "metadata": {},
   "source": [
    "# 3. Find the Signal\n",
    "There have been many cases in which one must identify a signal buried in noise. It is easier than one thinks! LIGO, for example, offers an example in which distinct types of signals are expected. The data plotted below contains a signal embedded in random noise (fabricated). The data are ina  file \"`HW5_Data.txt`\" (10000 values) and the signal is in the file \"`HW5_Signal.txt`\" (400 values).\n",
    "\n",
    "![](Q3_figures.PNG)"
   ]
  },
  {
   "cell_type": "markdown",
   "metadata": {},
   "source": [
    "## Part (a)\n",
    "Read in and verify signals. The cadence is 0.1 sec; generate time array for plotting. Let's start with the easiest method: cross-correlate the expected signal (400 points) with the data (1000 points). You will necessarily need to restrict your correlation to start at 20 sec and end at 980 sec to avoid edge effects. Plot the cross correlation as a function of time. Do you see a peak?"
   ]
  },
  {
   "cell_type": "code",
   "execution_count": 2,
   "metadata": {},
   "outputs": [
    {
     "name": "stdout",
     "output_type": "stream",
     "text": [
      "data shape: (2000, 5)\n"
     ]
    },
    {
     "data": {
      "text/plain": [
       "array([[-1.4489671 , -0.05639172,  0.10236344,  0.03012188, -0.31627342],\n",
       "       [-0.62731206,  1.5052398 ,  1.8104919 ,  0.41340446, -0.79464376],\n",
       "       [ 0.88138539,  2.349612  , -0.44794255, -1.0353943 ,  0.92682785],\n",
       "       [-0.07622421, -1.7109563 , -0.72154695,  1.3731886 ,  0.36365283],\n",
       "       [-1.2074399 ,  0.32280344, -0.80500466,  1.4214896 ,  0.63947892]])"
      ]
     },
     "execution_count": 2,
     "metadata": {},
     "output_type": "execute_result"
    }
   ],
   "source": [
    "# read in data\n",
    "data = np.loadtxt(\"hw5/HW5_Data.txt\")\n",
    "print(\"data shape:\", data.shape)\n",
    "data[:5]"
   ]
  },
  {
   "cell_type": "code",
   "execution_count": 3,
   "metadata": {},
   "outputs": [
    {
     "name": "stdout",
     "output_type": "stream",
     "text": [
      "10000\n"
     ]
    },
    {
     "data": {
      "text/plain": [
       "array([-1.4489671 , -0.05639172,  0.10236344,  0.03012188, -0.31627342])"
      ]
     },
     "execution_count": 3,
     "metadata": {},
     "output_type": "execute_result"
    }
   ],
   "source": [
    "# Flatten 5d data to 1d\n",
    "data_1d = data.flatten()\n",
    "print(len(data_1d))\n",
    "data_1d[:5]"
   ]
  },
  {
   "cell_type": "code",
   "execution_count": 4,
   "metadata": {},
   "outputs": [
    {
     "name": "stdout",
     "output_type": "stream",
     "text": [
      "signal data shape: (80, 5)\n"
     ]
    },
    {
     "data": {
      "text/plain": [
       "array([[-6.2465821e-06, -1.3047378e-05, -2.0128356e-05, -2.6956645e-05,\n",
       "        -3.2930560e-05],\n",
       "       [-3.7414051e-05, -3.9777609e-05, -3.9443527e-05, -3.5932957e-05,\n",
       "        -2.8911940e-05],\n",
       "       [-1.8233456e-05, -3.9726125e-06,  1.3547713e-05,  3.3743037e-05,\n",
       "         5.5767006e-05],\n",
       "       [ 7.8525801e-05,  1.0070760e-04,  1.2082675e-04,  1.3728147e-04,\n",
       "         1.4842331e-04],\n",
       "       [ 1.5263583e-04,  1.4841952e-04,  1.3447950e-04,  1.0981237e-04,\n",
       "         7.3788494e-05]])"
      ]
     },
     "execution_count": 4,
     "metadata": {},
     "output_type": "execute_result"
    }
   ],
   "source": [
    "# read in signal data\n",
    "signal = np.loadtxt(\"hw5/HW5_Signal.txt\")\n",
    "print(\"signal data shape:\", signal.shape)\n",
    "signal[:5]"
   ]
  },
  {
   "cell_type": "code",
   "execution_count": 5,
   "metadata": {},
   "outputs": [
    {
     "name": "stdout",
     "output_type": "stream",
     "text": [
      "400\n"
     ]
    },
    {
     "data": {
      "text/plain": [
       "array([-6.2465821e-06, -1.3047378e-05, -2.0128356e-05, -2.6956645e-05,\n",
       "       -3.2930560e-05])"
      ]
     },
     "execution_count": 5,
     "metadata": {},
     "output_type": "execute_result"
    }
   ],
   "source": [
    "# Flatten to 1d\n",
    "signal_1d = signal.flatten()\n",
    "print(len(signal_1d))\n",
    "signal_1d[:5]"
   ]
  },
  {
   "cell_type": "code",
   "execution_count": 6,
   "metadata": {},
   "outputs": [],
   "source": [
    "# TODO: cross correlate (i.e. the rest of Q3 part a)"
   ]
  },
  {
   "cell_type": "markdown",
   "metadata": {},
   "source": [
    "## Part (b)\n",
    "Isolate the maximum correlation value ($C_{\\text{max}}$) and then calculate the standard deviation ($\\sigma_C$) of the 9600 correlation values. Waht is $C_{\\text{max}}/\\sigma_C$? What is the probability of measuring such a correlation (or greater) given an Gaussian parent distribution?\n",
    "\n",
    "**Hint:**\n",
    "\n",
    "\\begin{equation*}\n",
    "P = \\frac{1}{2}\\left[1 - \\text{erf}\\left(\\frac{C_{\\text{max}}}{\\sqrt{2}\\sigma_C} \\right) \\right]; \\text{ use double precision}\n",
    "\\end{equation*}"
   ]
  },
  {
   "cell_type": "markdown",
   "metadata": {},
   "source": []
  },
  {
   "cell_type": "markdown",
   "metadata": {},
   "source": [
    "## Part (c)\n",
    "\n",
    "At this point one may think that this event cannot possibly be a random fluctuation. However, how many 0.1 s periods are there in a year? There also are ~$10^4$ different variations in the expected signal. Given that information, how many random events would one expect in a year?"
   ]
  },
  {
   "cell_type": "markdown",
   "metadata": {},
   "source": []
  },
  {
   "cell_type": "markdown",
   "metadata": {},
   "source": [
    "## Part (d)\n",
    "However, suppose that one made two such measurements (as did LIGO) and that the second data set had a correlation of 4.6 $\\sigma_C$ within the expected speed-of-light delay. Given the $2^{\\text{nd}}$ detection, what is the probability that these two measurements are from a random fluctuation?"
   ]
  },
  {
   "cell_type": "markdown",
   "metadata": {},
   "source": []
  },
  {
   "cell_type": "markdown",
   "metadata": {},
   "source": [
    "# 4. Convolution Theorem\n",
    "\n",
    "An older telescope has a horizontal CCD readout blur (see below). Unfortunately, the CCD readout has a memory of the previous pixel that exponentially fades causing horizontal streaks. \n",
    "\n",
    "Examine the two images below.\n",
    "\n",
    "![](Q4_stars_figures.PNG)"
   ]
  },
  {
   "cell_type": "markdown",
   "metadata": {},
   "source": [
    "## Part (a)\n",
    "The blurred image is in a text file \"`HW5_BlurredImage.txt`\", which contains $256 \\times 256$-point array ($I_{\\text{Blur}}$). Read in this image and plot to verify"
   ]
  },
  {
   "cell_type": "code",
   "execution_count": 12,
   "metadata": {},
   "outputs": [
    {
     "data": {
      "text/plain": [
       "(256, 256)"
      ]
     },
     "execution_count": 12,
     "metadata": {},
     "output_type": "execute_result"
    }
   ],
   "source": [
    "# Read BlurredImage text file (using numpy file version from Caroline (I also had issues with original txt file))\n",
    "I_blur = np.load(\"hw5/HW5_BlurredImage.npy\")\n",
    "I_blur.shape"
   ]
  },
  {
   "cell_type": "code",
   "execution_count": 10,
   "metadata": {},
   "outputs": [
    {
     "data": {
      "text/plain": [
       "<matplotlib.image.AxesImage at 0x26f4d795a00>"
      ]
     },
     "execution_count": 10,
     "metadata": {},
     "output_type": "execute_result"
    },
    {
     "data": {
      "image/png": "[encoded data removed]",
      "text/plain": [
       "<Figure size 640x480 with 1 Axes>"
      ]
     },
     "metadata": {},
     "output_type": "display_data"
    }
   ],
   "source": [
    "# plot BlurredImage data\n",
    "plt.imshow(I_blur,origin='lower')"
   ]
  },
  {
   "cell_type": "markdown",
   "metadata": {},
   "source": [
    "## Part (b)\n",
    "Fortunately, the transfer function is fairly well known. It is in the text file \"`HW5_TransferFunc.txt`\", which contains a 256-point array. The transfer function and it's DFT are shown below.\n",
    "\n",
    "![](Q4_transfer_figures.PNG)"
   ]
  },
  {
   "cell_type": "markdown",
   "metadata": {},
   "source": [
    "## Part (c)\n",
    "\n",
    "Read in and perform a DFT on the transfer function, $h(j)$. Plot your results and compare to above (and/or perform a reverse DFT to check). Pixel numbers are positive integers sot that one can calculate:\n",
    "$$\\tilde{h}(n) = \\displaystyle \\sum_{j=0}^{N-1} h(j) e^{-i2\\pi n j/N}$$\n",
    "\n",
    "```idl\n",
    "jarr = [0,1,...255], npts=256\n",
    "for n = 0, npts-1 do h_rl(n) = total(h*cos(jarr*n*2*!dpi/npts)) ; h is 256-point transfer function; total performs a sum\n",
    "for n = 0, npts-1 do h_im(n) = -total(h*sin(jarr*n*2*!dpi/npts))\n",
    "```\n",
    "\n",
    "**Note:** One can use an FFT (with no window) if you prefer, but take care to understand how it works. I recommend doing a reverse FFT to check."
   ]
  },
  {
   "cell_type": "code",
   "execution_count": 15,
   "metadata": {},
   "outputs": [
    {
     "data": {
      "text/plain": [
       "(256,)"
      ]
     },
     "execution_count": 15,
     "metadata": {},
     "output_type": "execute_result"
    }
   ],
   "source": [
    "# read in transfer function (using numpy file version from Caroline (I also had issues with original txt file))\n",
    "transfer = np.load(\"hw5/HW5_TransferFunc.npy\")\n",
    "transfer.shape"
   ]
  },
  {
   "cell_type": "code",
   "execution_count": null,
   "metadata": {},
   "outputs": [],
   "source": []
  },
  {
   "cell_type": "markdown",
   "metadata": {},
   "source": [
    "## Part (d)\n",
    "\n",
    "Perform a DFT on the blurred image line by line in $y$. Be careful here. One must perform 256 DFTs; one for each position in $y$. I recommend finding a $y$ value a star and testing your code.\n",
    "\n",
    "$$\\tilde{I}_{\\text{Blur}}(n,y)=\\displaystyle \\sum_{j=0}^{N-1}I_{\\text{Blur}}(j,y)e^{-i2\\pi n j/N}$$"
   ]
  },
  {
   "cell_type": "code",
   "execution_count": null,
   "metadata": {},
   "outputs": [],
   "source": [
    "#TODO: Perform DFT on Blurred Image"
   ]
  },
  {
   "cell_type": "markdown",
   "metadata": {},
   "source": [
    "## Part (e) \n",
    "Carefully calculate (watch out for signs!) line by line in $y$:\n",
    "\n",
    "\\begin{equation*}\n",
    "\\tilde{I}_{\\text{Source}}(n,y) = \\frac{\\tilde{I}_{\\text{Blur}}(n,y)\\tilde{h}^*(n)}{|\\tilde{h}(n)|^2}\n",
    "\\end{equation*}"
   ]
  },
  {
   "cell_type": "code",
   "execution_count": null,
   "metadata": {},
   "outputs": [],
   "source": []
  },
  {
   "cell_type": "markdown",
   "metadata": {},
   "source": [
    "## Part (f)\n",
    "\n",
    "Perform a reverse DFT on $\\tilde{I}_{Source}$. Plot your results. The image should be close but not exactly equal to the source image plotted above.\n",
    "\n",
    "**Hint:** The most common error is in reconstructing $\\tilde{I}_{\\text{Source}}$. Check your reverse DFT by deriving $h$ from $\\tilde{h}$."
   ]
  },
  {
   "cell_type": "code",
   "execution_count": null,
   "metadata": {},
   "outputs": [],
   "source": [
    "#TODO: Reverse DFT"
   ]
  },
  {
   "cell_type": "code",
   "execution_count": null,
   "metadata": {},
   "outputs": [],
   "source": [
    "#TODO: Plot results"
   ]
  }
 ],
 "metadata": {
  "kernelspec": {
   "display_name": "base",
   "language": "python",
   "name": "python3"
  },
  "language_info": {
   "codemirror_mode": {
    "name": "ipython",
    "version": 3
   },
   "file_extension": ".py",
   "mimetype": "text/x-python",
   "name": "python",
   "nbconvert_exporter": "python",
   "pygments_lexer": "ipython3",
   "version": "3.8.18"
  }
 },
 "nbformat": 4,
 "nbformat_minor": 2
}
