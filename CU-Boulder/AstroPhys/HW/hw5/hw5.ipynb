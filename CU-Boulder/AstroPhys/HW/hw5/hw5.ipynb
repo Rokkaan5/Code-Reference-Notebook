{
 "cells": [
  {
   "cell_type": "raw",
   "metadata": {},
   "source": [
    "---\n",
    "title: \"ASTR 5550: HW5\"\n",
    "author: \"Jasmine Kobayashi\"\n",
    "format:\n",
    "    html:\n",
    "        code-fold: false\n",
    "        toc: true\n",
    "    pdf:\n",
    "        code-fold: false\n",
    "        code-overflow: wrap\n",
    "        papersize: letter\n",
    "execute:\n",
    "    output: true\n",
    "    warning: false\n",
    "jupyter: python3\n",
    "---"
   ]
  },
  {
   "cell_type": "code",
   "execution_count": 2,
   "metadata": {},
   "outputs": [],
   "source": [
    "# Libraries\n",
    "import numpy as np\n",
    "import matplotlib.pyplot as plt\n",
    "import pandas as pd\n",
    "import random\n",
    "from scipy.stats import chi2\n",
    "import os,sys\n",
    "import seaborn as sns\n",
    "sns.set_style('whitegrid')\n",
    "\n",
    "# import helper script file\n",
    "## change working directory\n",
    "os.chdir(\"C:/Users/rokka/GH-repos/GitHubPages/Code-Reference-Notebook/CU-Boulder/AstroPhys/HW\")\n",
    "\n",
    "## import my own code\n",
    "import hw_helper_func2 as hf   # this is my own code I made (for probability/distribution fucntions, etc.)"
   ]
  },
  {
   "cell_type": "markdown",
   "metadata": {},
   "source": [
    "# 3. Find the Signal\n",
    "There have been many cases in which one must identify a signal buried in noise. It is easier than one thinks! LIGO, for example, offers an example in which distinct types of signals are expected. The data plotted below contains a signal embedded in random noise (fabricated). The data are ina  file \"`HW5_Data.txt`\" (10000 values) and the signal is in the file \"`HW5_Signal.txt`\" (400 values).\n",
    "\n",
    "![](Q3_figures.PNG)"
   ]
  },
  {
   "cell_type": "markdown",
   "metadata": {},
   "source": [
    "## Part (a)\n",
    "Read in and verify signals. The cadence is 0.1 sec; generate time array for plotting. Let's start with the easiest method: cross-correlate the expected signal (400 points) with the data (1000 points). You will necessarily need to restrict your correlation to start at 20 sec and end at 980 sec to avoid edge effects. Plot the cross correlation as a function of time. Do you see a peak?"
   ]
  },
  {
   "cell_type": "code",
   "execution_count": 6,
   "metadata": {},
   "outputs": [
    {
     "name": "stdout",
     "output_type": "stream",
     "text": [
      "data shape: 2000\n"
     ]
    },
    {
     "data": {
      "text/html": [
       "<div>\n",
       "<style scoped>\n",
       "    .dataframe tbody tr th:only-of-type {\n",
       "        vertical-align: middle;\n",
       "    }\n",
       "\n",
       "    .dataframe tbody tr th {\n",
       "        vertical-align: top;\n",
       "    }\n",
       "\n",
       "    .dataframe thead th {\n",
       "        text-align: right;\n",
       "    }\n",
       "</style>\n",
       "<table border=\"1\" class=\"dataframe\">\n",
       "  <thead>\n",
       "    <tr style=\"text-align: right;\">\n",
       "      <th></th>\n",
       "      <th>0</th>\n",
       "      <th>1</th>\n",
       "      <th>2</th>\n",
       "      <th>3</th>\n",
       "      <th>4</th>\n",
       "    </tr>\n",
       "  </thead>\n",
       "  <tbody>\n",
       "    <tr>\n",
       "      <th>0</th>\n",
       "      <td>-1.448967</td>\n",
       "      <td>-0.056392</td>\n",
       "      <td>0.102363</td>\n",
       "      <td>0.030122</td>\n",
       "      <td>-0.316273</td>\n",
       "    </tr>\n",
       "    <tr>\n",
       "      <th>1</th>\n",
       "      <td>-0.627312</td>\n",
       "      <td>1.505240</td>\n",
       "      <td>1.810492</td>\n",
       "      <td>0.413404</td>\n",
       "      <td>-0.794644</td>\n",
       "    </tr>\n",
       "    <tr>\n",
       "      <th>2</th>\n",
       "      <td>0.881385</td>\n",
       "      <td>2.349612</td>\n",
       "      <td>-0.447943</td>\n",
       "      <td>-1.035394</td>\n",
       "      <td>0.926828</td>\n",
       "    </tr>\n",
       "    <tr>\n",
       "      <th>3</th>\n",
       "      <td>-0.076224</td>\n",
       "      <td>-1.710956</td>\n",
       "      <td>-0.721547</td>\n",
       "      <td>1.373189</td>\n",
       "      <td>0.363653</td>\n",
       "    </tr>\n",
       "    <tr>\n",
       "      <th>4</th>\n",
       "      <td>-1.207440</td>\n",
       "      <td>0.322803</td>\n",
       "      <td>-0.805005</td>\n",
       "      <td>1.421490</td>\n",
       "      <td>0.639479</td>\n",
       "    </tr>\n",
       "  </tbody>\n",
       "</table>\n",
       "</div>"
      ],
      "text/plain": [
       "          0         1         2         3         4\n",
       "0 -1.448967 -0.056392  0.102363  0.030122 -0.316273\n",
       "1 -0.627312  1.505240  1.810492  0.413404 -0.794644\n",
       "2  0.881385  2.349612 -0.447943 -1.035394  0.926828\n",
       "3 -0.076224 -1.710956 -0.721547  1.373189  0.363653\n",
       "4 -1.207440  0.322803 -0.805005  1.421490  0.639479"
      ]
     },
     "execution_count": 6,
     "metadata": {},
     "output_type": "execute_result"
    }
   ],
   "source": [
    "# read in data\n",
    "data = pd.read_fwf(\"hw5/HW5_Data.txt\", sep=\" \",header=None,)\n",
    "print(\"data shape:\", data.shape)\n",
    "data.head()"
   ]
  },
  {
   "cell_type": "code",
   "execution_count": 8,
   "metadata": {},
   "outputs": [
    {
     "name": "stdout",
     "output_type": "stream",
     "text": [
      "10000\n"
     ]
    },
    {
     "data": {
      "text/plain": [
       "array([-1.4489671 , -0.05639172,  0.10236344,  0.03012188, -0.31627342])"
      ]
     },
     "execution_count": 8,
     "metadata": {},
     "output_type": "execute_result"
    }
   ],
   "source": [
    "# Flatten 5d data to 1d\n",
    "# TODO: could change this to use NumPy from the very beginning\n",
    "data_1d = data.values.flatten()\n",
    "print(len(data_1d))\n",
    "data_1d[:5]"
   ]
  },
  {
   "cell_type": "code",
   "execution_count": 7,
   "metadata": {},
   "outputs": [
    {
     "name": "stdout",
     "output_type": "stream",
     "text": [
      "signal data shape: (80, 5)\n"
     ]
    },
    {
     "data": {
      "text/html": [
       "<div>\n",
       "<style scoped>\n",
       "    .dataframe tbody tr th:only-of-type {\n",
       "        vertical-align: middle;\n",
       "    }\n",
       "\n",
       "    .dataframe tbody tr th {\n",
       "        vertical-align: top;\n",
       "    }\n",
       "\n",
       "    .dataframe thead th {\n",
       "        text-align: right;\n",
       "    }\n",
       "</style>\n",
       "<table border=\"1\" class=\"dataframe\">\n",
       "  <thead>\n",
       "    <tr style=\"text-align: right;\">\n",
       "      <th></th>\n",
       "      <th>0</th>\n",
       "      <th>1</th>\n",
       "      <th>2</th>\n",
       "      <th>3</th>\n",
       "      <th>4</th>\n",
       "    </tr>\n",
       "  </thead>\n",
       "  <tbody>\n",
       "    <tr>\n",
       "      <th>0</th>\n",
       "      <td>-0.000006</td>\n",
       "      <td>-0.000013</td>\n",
       "      <td>-0.000020</td>\n",
       "      <td>-0.000027</td>\n",
       "      <td>-0.000033</td>\n",
       "    </tr>\n",
       "    <tr>\n",
       "      <th>1</th>\n",
       "      <td>-0.000037</td>\n",
       "      <td>-0.000040</td>\n",
       "      <td>-0.000039</td>\n",
       "      <td>-0.000036</td>\n",
       "      <td>-0.000029</td>\n",
       "    </tr>\n",
       "    <tr>\n",
       "      <th>2</th>\n",
       "      <td>-0.000018</td>\n",
       "      <td>-0.000004</td>\n",
       "      <td>0.000014</td>\n",
       "      <td>0.000034</td>\n",
       "      <td>0.000056</td>\n",
       "    </tr>\n",
       "    <tr>\n",
       "      <th>3</th>\n",
       "      <td>0.000079</td>\n",
       "      <td>0.000101</td>\n",
       "      <td>0.000121</td>\n",
       "      <td>0.000137</td>\n",
       "      <td>0.000148</td>\n",
       "    </tr>\n",
       "    <tr>\n",
       "      <th>4</th>\n",
       "      <td>0.000153</td>\n",
       "      <td>0.000148</td>\n",
       "      <td>0.000134</td>\n",
       "      <td>0.000110</td>\n",
       "      <td>0.000074</td>\n",
       "    </tr>\n",
       "  </tbody>\n",
       "</table>\n",
       "</div>"
      ],
      "text/plain": [
       "          0         1         2         3         4\n",
       "0 -0.000006 -0.000013 -0.000020 -0.000027 -0.000033\n",
       "1 -0.000037 -0.000040 -0.000039 -0.000036 -0.000029\n",
       "2 -0.000018 -0.000004  0.000014  0.000034  0.000056\n",
       "3  0.000079  0.000101  0.000121  0.000137  0.000148\n",
       "4  0.000153  0.000148  0.000134  0.000110  0.000074"
      ]
     },
     "execution_count": 7,
     "metadata": {},
     "output_type": "execute_result"
    }
   ],
   "source": [
    "# read in signal data\n",
    "signal = pd.read_fwf(\"hw5/HW5_Signal.txt\",sep=\" \",header=None)\n",
    "print(\"signal data shape:\", signal.shape)\n",
    "signal.head()"
   ]
  },
  {
   "cell_type": "code",
   "execution_count": null,
   "metadata": {},
   "outputs": [],
   "source": [
    "# TODO: cross correlate (i.e. the rest of Q3 part a)"
   ]
  },
  {
   "cell_type": "markdown",
   "metadata": {},
   "source": [
    "## Part (b)\n"
   ]
  }
 ],
 "metadata": {
  "kernelspec": {
   "display_name": "base",
   "language": "python",
   "name": "python3"
  },
  "language_info": {
   "codemirror_mode": {
    "name": "ipython",
    "version": 3
   },
   "file_extension": ".py",
   "mimetype": "text/x-python",
   "name": "python",
   "nbconvert_exporter": "python",
   "pygments_lexer": "ipython3",
   "version": "3.8.18"
  }
 },
 "nbformat": 4,
 "nbformat_minor": 2
}
