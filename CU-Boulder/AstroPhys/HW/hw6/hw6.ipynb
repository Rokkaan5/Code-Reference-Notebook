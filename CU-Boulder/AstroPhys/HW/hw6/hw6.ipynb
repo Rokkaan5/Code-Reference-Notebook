{
 "cells": [
  {
   "cell_type": "raw",
   "metadata": {
    "vscode": {
     "languageId": "raw"
    }
   },
   "source": [
    "---\n",
    "title: \"ASTR 5550: HW6\"\n",
    "author: \"Jasmine Kobayashi\"\n",
    "format:\n",
    "    html:\n",
    "        code-fold: false\n",
    "        toc: true\n",
    "    pdf:\n",
    "        code-fold: false\n",
    "        code-overflow: wrap\n",
    "        papersize: letter\n",
    "execute:\n",
    "    output: true\n",
    "    warning: false\n",
    "jupyter: python3\n",
    "---"
   ]
  },
  {
   "cell_type": "markdown",
   "metadata": {},
   "source": [
    "# 1. Convolution of Two Gaussians\n",
    "There are two methods to show that the convolution of two Gaussians is a Gaussian.\n",
    "\n",
    "Let: $$g(t) = \\sqrt{\\frac{a}{\\pi}}e^{-at^2}; h(t) = \\sqrt{\\frac{b}{\\pi}}e^{-bt^{2}}; f(t) = \\int_{-\\infty}^\\infty g(\\tau)h(t-\\tau)d\\tau$$"
   ]
  },
  {
   "cell_type": "markdown",
   "metadata": {},
   "source": [
    "## Part (a)\n",
    "First, do the brute-force method and carry out the integral:\n",
    "$$f(t) = \\frac{\\sqrt{ab}}{\\pi}\\int_{-\\infty}^\\infty e^{-a\\tau^2}e^{-b(t-\\tau)^2}d\\tau = \\sqrt{\\frac{c}{\\pi}}e^{-ct^2}; c = \\frac{ab}{a+b}$$\n",
    "\n",
    "**Hint:** Show that the (negative of the) exponent can be rewritten as:\n",
    "\n",
    "$$a\\tau^2 + b(t-\\tau)^2 = (a+b)\\left(\\tau - \\frac{bt}{a+b} \\right)^2 + \\frac{ab}{a+b}t^2; \\text{ Also use:} \\int_{-\\infty}^\\infty e^{-z\\tau^2}d\\tau = \\sqrt{\\frac{\\pi}{z}}$$"
   ]
  },
  {
   "cell_type": "markdown",
   "metadata": {},
   "source": []
  },
  {
   "cell_type": "markdown",
   "metadata": {},
   "source": [
    "## Part (b)\n",
    "Use the convolution theorem (should be short) to arrive at the same result. \n",
    "\n",
    "**Hint:** $$\\tilde{g}(\\omega) = e^{-\\frac{\\omega ^2}{4a}}; \\tilde{h}(\\omega) = e^{-\\frac{\\omega ^2}{4b}}$$"
   ]
  },
  {
   "cell_type": "markdown",
   "metadata": {},
   "source": []
  },
  {
   "cell_type": "markdown",
   "metadata": {},
   "source": [
    "## Part (c)\n",
    "Show that if $a= 1/2\\sigma_a^2$ and $b= 1/2 \\sigma_b^2$ then it follows that: $$\\sigma_c^2 = \\sigma_a^2 + \\sigma_b^2$$"
   ]
  },
  {
   "cell_type": "markdown",
   "metadata": {},
   "source": []
  },
  {
   "cell_type": "markdown",
   "metadata": {},
   "source": [
    "# 2. Convolution of Exponentials\n",
    "A microchannel plate amplifies a photon to $n_0$ electrons on average. It's response, however, is not Gaussian. The response for a single photon can be (very roughly) described as: $$P(n|1) = \\frac{4n}{n_0^2}e^{-\\frac{2n}{n_0}}$$\n",
    "\n",
    "![](microchannel_plate_Q2.PNG){width=500}\n",
    "\n",
    "---\n",
    "\n",
    "***Special Note:***\n",
    "\n",
    "The actual response is far more messy; it depends also on the photon energy!\n",
    "\n",
    "---\n",
    "\n",
    "To calculate the expected count rate from two photons, one must convolve:\n",
    "$$P(n|2) = \\int_0^n P(\\nu|1)P(n-\\nu|1) d\\nu$$"
   ]
  },
  {
   "cell_type": "markdown",
   "metadata": {},
   "source": [
    "## Part (a)\n",
    "Show that the convolution results in: $$P(n|2) = \\frac{2^4 n^3}{6n_0^4}e^{-\\frac{2n}{n_0}}$$"
   ]
  },
  {
   "cell_type": "markdown",
   "metadata": {},
   "source": []
  },
  {
   "cell_type": "markdown",
   "metadata": {},
   "source": [
    "## Part (b)\n",
    "To calculate the expected count rate from three photons, one must convolve:\n",
    "$$P(n|3) = \\int_0^n P(\\nu|2)P(n-\\nu|1)d\\nu ; \\text{ show that } P(n|3) = \\frac{2^6n^5}{120n_0^6} e^{-\\frac{2n}{n_0}}$$"
   ]
  },
  {
   "cell_type": "markdown",
   "metadata": {},
   "source": []
  },
  {
   "cell_type": "markdown",
   "metadata": {},
   "source": [
    "## Part(c)\n",
    "Show by induction, that:\n",
    "$$P(n|N) = \\frac{2^{2N}n^{2N-1}}{(2N-1)!n_0^{2N}}e^{-\\frac{2n}{n_0}}$$"
   ]
  },
  {
   "cell_type": "markdown",
   "metadata": {},
   "source": []
  },
  {
   "cell_type": "markdown",
   "metadata": {},
   "source": [
    "# 3. Intensified CCDs\n",
    "The vast majority of astronomical images are now from CCDs, which are ever evolving and changing. Intensified CCDs have been a popular choice for imaging far-away or faint objects particularly in the UV as they can count individual photons. No longer do readout noise, dark currents, biases, and pixel gain dominate the uncertainty. But there is a price to pay: the point spread is increased and another uncertainty is added.\n",
    "\n",
    "Let's examine a simple (incorrect) version of a CCD with a Gaussian-response intensifier. Imagine that every photon striking the image intensifier creates $n_0 = 10^3$ electrons on average. However, the number of electrons striking the CCD varies. Let $n_e$ represent the number of electrons and $\\sigma = 250$ represent the standard deviation; the probability of $n_e$ electrons from a single photon is $$P(n_e|N_{ph} = 1) = \\frac{1}{\\sqrt{2\\pi}\\sigma}e^{-\\frac{(n_e - n_0)^2}{2\\sigma^2}}$$"
   ]
  },
  {
   "cell_type": "markdown",
   "metadata": {},
   "source": [
    "## Part (a)\n",
    "Let $N_{ph}$ represent the number of photons striking an individual pixel. Using the convolution of Gaussians, one can show that:\n",
    "\n",
    "$$P(n_e|N_{ph}) = \\frac{1}{\\sqrt{2\\pi N_{ph}}\\sigma}e^{-\\frac{(n_e - N_{ph}n_0)^2}{2N_{ph}\\sigma^2}}$$\n",
    "\n",
    "\n",
    "Suppose that one measures $n_e = 1.243 \\times 10^3$. What is the probability that it is one photon? 2 photons? \n",
    "\n",
    "Use a Bayesian-like approach: Calculate all $P(n_e|N_{ph})$ for $N_{ph} = 0,1,2,...$ (reasonable cutoff) then normalize to 1 (something must have happened). Then deduce $P(N_{ph}|n_e)$ for each value of $N_{ph}$. For now, assume that $P(n_e|0) = 0$"
   ]
  },
  {
   "cell_type": "code",
   "execution_count": 1,
   "metadata": {},
   "outputs": [],
   "source": [
    "# Libraries\n",
    "import numpy as np\n",
    "import matplotlib.pyplot as plt\n",
    "import pandas as pd\n",
    "import random\n",
    "import math\n",
    "import scipy\n",
    "import os,sys\n",
    "import seaborn as sns\n",
    "sns.set_style('whitegrid')\n",
    "\n",
    "# import helper script file\n",
    "## change working directory\n",
    "os.chdir(\"/home/jasminekobayashi/gh_repos/Code-Reference-Notebook/CU-Boulder/AstroPhys/HW\")\n",
    "\n",
    "## import my own code\n",
    "import hw_helper_func2 as hf  # this is my own code I made (for probability/distribution fucntions, etc.)"
   ]
  },
  {
   "cell_type": "code",
   "execution_count": 2,
   "metadata": {},
   "outputs": [],
   "source": [
    "#TODO: Finish Q3(a)\n",
    "# TODO: make the function compatible with passing a numpy array and check if element is equal to zero\n",
    "    # currently produces an error about checking condition of array (np.any, np. all, etc.)\n",
    "def P_electron_photon(ne = 1.243E3,Nph=1,sigma = 250,n0=10**3):\n",
    "    '''Probability of Nph (number of photons) given ne (number of electrons)'''\n",
    "    if Nph == 0:\n",
    "        return 0\n",
    "    else:\n",
    "        exponent = -((ne - Nph*n0)**2)/(2*Nph*sigma**2)\n",
    "        P = np.exp(exponent)/(np.sqrt(2*np.pi)*sigma)\n",
    "        return P\n",
    "P_electron_photon = np.vectorize(P_electron_photon)"
   ]
  },
  {
   "cell_type": "code",
   "execution_count": 3,
   "metadata": {},
   "outputs": [
    {
     "data": {
      "text/plain": [
       "array([9.94976488e-04, 1.61243413e-04, 4.24425173e-07, 3.98825375e-10,\n",
       "       2.48215804e-13, 1.25721217e-16, 5.66061262e-20, 2.36791232e-23,\n",
       "       9.43117952e-27, 3.62956984e-30])"
      ]
     },
     "execution_count": 3,
     "metadata": {},
     "output_type": "execute_result"
    }
   ],
   "source": [
    "cutoff=10\n",
    "ph = np.arange(1,cutoff+1,1)\n",
    "P_electron_photon(Nph=ph)\n",
    "# print(sum(P_electron_photon(Nph=ph)))"
   ]
  },
  {
   "cell_type": "code",
   "execution_count": 4,
   "metadata": {},
   "outputs": [
    {
     "data": {
      "text/plain": [
       "0.0011566447256835348"
      ]
     },
     "execution_count": 4,
     "metadata": {},
     "output_type": "execute_result"
    }
   ],
   "source": [
    "sum(P_electron_photon(Nph=ph))"
   ]
  },
  {
   "cell_type": "code",
   "execution_count": 5,
   "metadata": {},
   "outputs": [
    {
     "data": {
      "text/plain": [
       "[<matplotlib.lines.Line2D at 0x7fd10bd4b050>]"
      ]
     },
     "execution_count": 5,
     "metadata": {},
     "output_type": "execute_result"
    },
    {
     "data": {
      "image/png": "[encoded data removed]",
      "text/plain": [
       "<Figure size 640x480 with 1 Axes>"
      ]
     },
     "metadata": {},
     "output_type": "display_data"
    }
   ],
   "source": [
    "plt.plot(ph,P_electron_photon(Nph=ph))"
   ]
  },
  {
   "cell_type": "code",
   "execution_count": 6,
   "metadata": {},
   "outputs": [],
   "source": [
    "PNph_Pne = 1/sum(P_electron_photon(Nph=ph))  # P(Nph)/P(ne) {to normalize}"
   ]
  },
  {
   "cell_type": "code",
   "execution_count": 7,
   "metadata": {},
   "outputs": [],
   "source": [
    "def P_photon_electron(ne = 1.243E3,Nph=1,sigma = 250,n0=10**3):\n",
    "    P_e_ph = P_electron_photon(ne=ne,Nph=Nph,sigma=sigma,n0=n0)\n",
    "    return PNph_Pne*P_e_ph"
   ]
  },
  {
   "cell_type": "code",
   "execution_count": 8,
   "metadata": {},
   "outputs": [
    {
     "data": {
      "text/plain": [
       "array([8.60226538e-01, 1.39406172e-01, 3.66945151e-04, 3.44812341e-07,\n",
       "       2.14599866e-10, 1.08694756e-13, 4.89399424e-17, 2.04722527e-20,\n",
       "       8.15391219e-24, 3.13801616e-27])"
      ]
     },
     "execution_count": 8,
     "metadata": {},
     "output_type": "execute_result"
    }
   ],
   "source": [
    "P_photon_electron(Nph=ph)"
   ]
  },
  {
   "cell_type": "code",
   "execution_count": 9,
   "metadata": {},
   "outputs": [
    {
     "data": {
      "text/plain": [
       "1.0"
      ]
     },
     "execution_count": 9,
     "metadata": {},
     "output_type": "execute_result"
    }
   ],
   "source": [
    "sum(P_photon_electron(Nph=ph))"
   ]
  },
  {
   "cell_type": "code",
   "execution_count": 10,
   "metadata": {},
   "outputs": [
    {
     "data": {
      "text/plain": [
       "[<matplotlib.lines.Line2D at 0x7fd10b7c5090>]"
      ]
     },
     "execution_count": 10,
     "metadata": {},
     "output_type": "execute_result"
    },
    {
     "data": {
      "image/png": "[encoded data removed]",
      "text/plain": [
       "<Figure size 640x480 with 1 Axes>"
      ]
     },
     "metadata": {},
     "output_type": "display_data"
    }
   ],
   "source": [
    "# TODO: produce plot of P(Nph|ne)??? (not asked tho)\n",
    "    # TODO: maybe instead print probabilities with more descriptive statements\n",
    "    # (e.g. \"P(Nph = {}|ne) = {}\") \n",
    "plt.plot(ph,P_photon_electron(Nph=ph))"
   ]
  },
  {
   "cell_type": "markdown",
   "metadata": {},
   "source": [
    "## Part (b)\n",
    "\n",
    "Now suppose one measures $n_e = 6.845 \\times 10^3$ electrons. What is the most likely photon count? Calculate and plot the probability distribution of 1 to 12 photons. What is the most likely count? Argue that a Gaussian microchannel plate gains add only a small amount to the $\\sqrt{N_{ph}}$ uncertainty."
   ]
  },
  {
   "cell_type": "code",
   "execution_count": 26,
   "metadata": {},
   "outputs": [
    {
     "data": {
      "text/plain": [
       "7"
      ]
     },
     "execution_count": 26,
     "metadata": {},
     "output_type": "execute_result"
    }
   ],
   "source": [
    "ph_b[np.argmax(P_electron_photon(ne=6.845E3,Nph=ph_b))]"
   ]
  },
  {
   "cell_type": "code",
   "execution_count": 31,
   "metadata": {},
   "outputs": [
    {
     "data": {
      "text/plain": [
       "[<matplotlib.lines.Line2D at 0x7fd100eaa650>]"
      ]
     },
     "execution_count": 31,
     "metadata": {},
     "output_type": "execute_result"
    },
    {
     "data": {
      "image/png": "[encoded data removed]",
      "text/plain": [
       "<Figure size 640x480 with 1 Axes>"
      ]
     },
     "metadata": {},
     "output_type": "display_data"
    }
   ],
   "source": [
    "#TODO: Q3(b)\n",
    "ph_b = np.arange(1,12,0.001)\n",
    "plt.plot(ph_b,P_electron_photon(ne=6.845E3,Nph=ph_b))"
   ]
  },
  {
   "cell_type": "code",
   "execution_count": 32,
   "metadata": {},
   "outputs": [
    {
     "data": {
      "text/plain": [
       "[<matplotlib.lines.Line2D at 0x7fd1027d8f10>]"
      ]
     },
     "execution_count": 32,
     "metadata": {},
     "output_type": "execute_result"
    },
    {
     "data": {
      "image/png": "[encoded data removed]",
      "text/plain": [
       "<Figure size 640x480 with 1 Axes>"
      ]
     },
     "metadata": {},
     "output_type": "display_data"
    }
   ],
   "source": [
    "#TODO: choose this or other plot\n",
    "ph_b = np.arange(1,12,0.001)\n",
    "Q3_b = P_electron_photon(ne=6.845E3,Nph=ph_b)\n",
    "plt.plot(ph_b,Q3_b)\n",
    "plt.plot(np.arange(1,12,1),P_electron_photon(ne=6.845E3,Nph=np.arange(1,12,1)),'o')\n"
   ]
  },
  {
   "cell_type": "markdown",
   "metadata": {},
   "source": [
    "## Part (c)\n",
    "\n",
    "If only microchannel plates did have a Gaussian response! A bit closer to reality, \n",
    "\n",
    "$$P(n_e|N_{ph}) = \\frac{2^{2N_{ph}}n_e^{2N_{ph} - 1}}{(2N_{ph} - 1)!n_0^{2N_{ph}}}e^{-\\frac{2n_e}{n_0}}$$\n",
    "\n",
    "Here, on average, one suspects $n_0 = 10^3$ electrons per photon strike. Suppose $n_e=1.243\\times 10^3$. What is the probability of 1,2,3, or counts? As before, set $P(n_e|0) = 0$. Remember that all possibilities of $P$ must sum to one, so renormalize."
   ]
  },
  {
   "cell_type": "code",
   "execution_count": 12,
   "metadata": {},
   "outputs": [
    {
     "data": {
      "text/plain": [
       "array([8.60226538e-01, 1.39406172e-01, 3.66945151e-04, 3.44812341e-07,\n",
       "       2.14599866e-10, 1.08694756e-13, 4.89399424e-17, 2.04722527e-20,\n",
       "       8.15391219e-24, 3.13801616e-27])"
      ]
     },
     "execution_count": 12,
     "metadata": {},
     "output_type": "execute_result"
    }
   ],
   "source": [
    "#TODO: Q3(c)\n",
    "P_photon_electron(ne=1.243E3,Nph=ph)"
   ]
  },
  {
   "cell_type": "code",
   "execution_count": 13,
   "metadata": {},
   "outputs": [
    {
     "data": {
      "text/plain": [
       "1.0"
      ]
     },
     "execution_count": 13,
     "metadata": {},
     "output_type": "execute_result"
    }
   ],
   "source": [
    "sum(P_photon_electron(ne=1.243E3,Nph=ph))"
   ]
  },
  {
   "cell_type": "markdown",
   "metadata": {},
   "source": [
    "## Part (d) \n",
    "Now suppose one measures $n_e = 6.845 \\times 10^3$ electrons. What is the most likely photon count? Calculate and plot the probability distribution of 1 to 12 photons. What is the most likely count? Argue that the \"real\" microchannel plate gain significantly add to the $\\sqrt{N_{ph}}$ uncertainty. "
   ]
  },
  {
   "cell_type": "code",
   "execution_count": 14,
   "metadata": {},
   "outputs": [],
   "source": [
    "#TODO: Q3(d)"
   ]
  },
  {
   "cell_type": "markdown",
   "metadata": {},
   "source": [
    "# 4. Threshold and Dead Time\n",
    "A microchannel plate has the advantage of being able to detect a single photon or particle but, in reality, has a highly complex response. To get around this issue, experimentally try to read out the microchannel plate (or the imaging CCD) rapidly; so rapidly that there is little chance of a $2^{nd}$ photon (or particle) from striking from read-out to read-out. Let's examine this method."
   ]
  },
  {
   "cell_type": "markdown",
   "metadata": {},
   "source": [
    "## Part (a) \n",
    "Suppose a stacked, two-microchannel plate response is ($n_0 = 10^6$) for UV photons: \n",
    "\n",
    "$$P(n|1) = \\alpha \\frac{4n}{n_0^2} e^{\\frac{2n}{n_0}} + (1-\\alpha)\\delta(n)$$\n",
    "\n",
    "The efficiency $\\alpha = 0.75 \\pm 0.03$ (25% of photons strike between the channels). In addition, a background noise level on a detector is equivalent to $10^4$ electrons, so we require at least $n_{thresh}=5\\times 10^4$ electrons ($5\\sigma$) to declare a detection. Show that the probability that a photon strikes a channel (ignore $\\alpha$) and is **not** counted is $\\sim 5 \\times 10^{-3}$"
   ]
  },
  {
   "cell_type": "code",
   "execution_count": 15,
   "metadata": {},
   "outputs": [],
   "source": [
    "# TODO: Q4 (a)\n",
    "n_thresh = 5E4\n",
    "\n",
    "def Q4_P():\n",
    "    pass"
   ]
  },
  {
   "cell_type": "code",
   "execution_count": null,
   "metadata": {},
   "outputs": [],
   "source": []
  },
  {
   "cell_type": "markdown",
   "metadata": {},
   "source": [
    "## Part (b)\n",
    "With the exception of the efficiency loss, a microchannel plate is the best way to actually \"count\" photons or particles. But what if the count rate is high? A detection takes time. Suppose that a detection takes $2\\times 10^{-7}$ secs during which other photons cannot be counted. If once receives a count of $10^6$ in 1 s, how much 1s intervals is unavailable ($t_{dead}$)? (Hint: Very simple!)"
   ]
  },
  {
   "cell_type": "code",
   "execution_count": 16,
   "metadata": {},
   "outputs": [],
   "source": [
    "# TODO: Q4 (b)"
   ]
  },
  {
   "cell_type": "markdown",
   "metadata": {},
   "source": [
    "## Part (c)\n",
    "Given a count rate of $10^4$ in 10 ms (called the integration time), what is the most likely number of photons that struck a channel? (Ignore $\\alpha$ for now.)"
   ]
  },
  {
   "cell_type": "code",
   "execution_count": 17,
   "metadata": {},
   "outputs": [],
   "source": [
    "# TODO: Q4 (c)"
   ]
  },
  {
   "cell_type": "markdown",
   "metadata": {},
   "source": [
    "## Part (d)\n",
    "\n",
    "Argue that the uncertainty in the efficiency leads to the largest uncertainty when count rates exceed $\\sim 10^3$."
   ]
  },
  {
   "cell_type": "code",
   "execution_count": 18,
   "metadata": {},
   "outputs": [],
   "source": [
    "# TODO: Q4 (d)"
   ]
  }
 ],
 "metadata": {
  "kernelspec": {
   "display_name": "base",
   "language": "python",
   "name": "python3"
  },
  "language_info": {
   "codemirror_mode": {
    "name": "ipython",
    "version": 3
   },
   "file_extension": ".py",
   "mimetype": "text/x-python",
   "name": "python",
   "nbconvert_exporter": "python",
   "pygments_lexer": "ipython3",
   "version": "3.11.6"
  }
 },
 "nbformat": 4,
 "nbformat_minor": 2
}
