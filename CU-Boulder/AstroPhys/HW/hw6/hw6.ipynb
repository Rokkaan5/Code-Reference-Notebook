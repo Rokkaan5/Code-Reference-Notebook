{
 "cells": [
  {
   "cell_type": "raw",
   "metadata": {
    "vscode": {
     "languageId": "raw"
    }
   },
   "source": [
    "---\n",
    "title: \"ASTR 5550: HW6\"\n",
    "author: \"Jasmine Kobayashi\"\n",
    "format:\n",
    "    html:\n",
    "        code-fold: false\n",
    "        toc: true\n",
    "    pdf:\n",
    "        code-fold: false\n",
    "        code-overflow: wrap\n",
    "        papersize: letter\n",
    "execute:\n",
    "    output: true\n",
    "    warning: false\n",
    "jupyter: python3\n",
    "---"
   ]
  },
  {
   "cell_type": "markdown",
   "metadata": {},
   "source": [
    "# 1. Convolution of Two Gaussians\n",
    "There are two methods to show that the convolution of two Gaussians is a Gaussian.\n",
    "\n",
    "Let: $$g(t) = \\sqrt{\\frac{a}{\\pi}}e^{-at^2}; h(t) = \\sqrt{\\frac{b}{\\pi}}e^{-bt^{2}}; f(t) = \\int_{-\\infty}^\\infty g(\\tau)h(t-\\tau)d\\tau$$"
   ]
  },
  {
   "cell_type": "markdown",
   "metadata": {},
   "source": [
    "## Part (a)\n",
    "First, do the brute-force method and carry out the integral:\n",
    "$$f(t) = \\frac{\\sqrt{ab}}{\\pi}\\int_{-\\infty}^\\infty e^{-a\\tau^2}e^{-b(t-\\tau)^2}d\\tau = \\sqrt{\\frac{c}{\\pi}}e^{-ct^2}; c = \\frac{ab}{a+b}$$\n",
    "\n",
    "**Hint:** Show that the (negative of the) exponent can be rewritten as:\n",
    "\n",
    "$$a\\tau^2 + b(t-\\tau)^2 = (a+b)\\left(\\tau - \\frac{bt}{a+b} \\right)^2 + \\frac{ab}{a+b}t^2; \\text{ Also use:} \\int_{-\\infty}^\\infty e^{-z\\tau^2}d\\tau = \\sqrt{\\frac{\\pi}{z}}$$"
   ]
  },
  {
   "cell_type": "markdown",
   "metadata": {},
   "source": []
  },
  {
   "cell_type": "markdown",
   "metadata": {},
   "source": [
    "## Part (b)\n",
    "Use the convolution theorem (should be short) to arrive at the same result. \n",
    "\n",
    "**Hint:** $$\\tilde{g}(\\omega) = e^{-\\frac{\\omega ^2}{4a}}; \\tilde{h}(\\omega) = e^{-\\frac{\\omega ^2}{4b}}$$"
   ]
  },
  {
   "cell_type": "markdown",
   "metadata": {},
   "source": []
  },
  {
   "cell_type": "markdown",
   "metadata": {},
   "source": [
    "## Part (c)\n",
    "Show that if $a= 1/2\\sigma_a^2$ and $b= 1/2 \\sigma_b^2$ then it follows that: $$\\sigma_c^2 = \\sigma_a^2 + \\sigma_b^2$$"
   ]
  },
  {
   "cell_type": "markdown",
   "metadata": {},
   "source": []
  },
  {
   "cell_type": "markdown",
   "metadata": {},
   "source": [
    "# 2. Convolution of Exponentials\n",
    "A microchannel plate amplifies a photon to $n_0$ electrons on average. It's response, however, is not Gaussian. The response for a single photon can be (very roughly) described as: $$P(n|1) = \\frac{4n}{n_0^2}e^{-\\frac{2n}{n_0}}$$\n",
    "\n",
    "![](microchannel_plate_Q2.PNG){width=500}\n",
    "\n",
    "---\n",
    "\n",
    "***Special Note:***\n",
    "\n",
    "The actual response is far more messy; it depends also on the photon energy!\n",
    "\n",
    "---\n",
    "\n",
    "To calculate the expected count rate from two photons, one must convolve:\n",
    "$$P(n|2) = \\int_0^n P(\\nu|1)P(n-\\nu|1) d\\nu$$"
   ]
  },
  {
   "cell_type": "markdown",
   "metadata": {},
   "source": [
    "## Part (a)\n",
    "Show that the convolution results in: $$P(n|2) = \\frac{2^4 n^3}{6n_0^4}e^{-\\frac{2n}{n_0}}$$"
   ]
  },
  {
   "cell_type": "markdown",
   "metadata": {},
   "source": []
  },
  {
   "cell_type": "markdown",
   "metadata": {},
   "source": [
    "## Part (b)\n",
    "To calculate the expected count rate from three photons, one must convolve:\n",
    "$$P(n|3) = \\int_0^n P(\\nu|2)P(n-\\nu|1)d\\nu ; \\text{ show that } P(n|3) = \\frac{2^6n^5}{120n_0^6} e^{-\\frac{2n}{n_0}}$$"
   ]
  },
  {
   "cell_type": "markdown",
   "metadata": {},
   "source": []
  },
  {
   "cell_type": "markdown",
   "metadata": {},
   "source": [
    "## Part(c)\n",
    "Show by induction, that:\n",
    "$$P(n|N) = \\frac{2^{2N}n^{2N-1}}{(2N-1)!n_0^{2N}}e^{-\\frac{2n}{n_0}}$$"
   ]
  },
  {
   "cell_type": "markdown",
   "metadata": {},
   "source": []
  },
  {
   "cell_type": "markdown",
   "metadata": {},
   "source": [
    "# 3. Intensified CCDs\n",
    "The vast majority of astronomical images are now from CCDs, which are ever evolving and changing. Intensified CCDs have been a popular choice for imaging far-away or faint objects particularly in the UV as they can count individual photons. No longer do readout noise, dark currents, biases, and pixel gain dominate the uncertainty. But there is a price to pay: the point spread is increased and another uncertainty is added.\n",
    "\n",
    "Let's examine a simple (incorrect) version of a CCD with a Gaussian-response intensifier. Imagine that every photon striking the image intensifier creates $n_0 = 10^3$ electrons on average. However, the number of electrons striking the CCD varies. Let $n_e$ represent the number of electrons and $\\sigma = 250$ represent the standard deviation; the probability of $n_e$ electrons from a single photon is $$P(n_e|N_{ph} = 1) = \\frac{1}{\\sqrt{2\\pi}\\sigma}e^{-\\frac{(n_e - n_0)^2}{2\\sigma^2}}$$"
   ]
  },
  {
   "cell_type": "markdown",
   "metadata": {},
   "source": [
    "## Part (a)\n",
    "Let $N_{ph}$ represent the number of photons striking an individual pixel. Using the convolution of Gaussians, one can show that:\n",
    "\n",
    "$$P(n_e|N_{ph}) = \\frac{1}{\\sqrt{2\\pi N_{ph}}\\sigma}e^{-\\frac{(n_e - N_{ph}n_0)^2}{2N_{ph}\\sigma^2}}$$\n",
    "\n",
    "\n",
    "Suppose that one measures $n_e = 1.243 \\times 10^3$. What is the probability that it is one photon? 2 photons? \n",
    "\n",
    "Use a Bayesian-like approach: Calculate all $P(n_e|N_{ph})$ for $N_{ph} = 0,1,2,...$ (reasonable cutoff) then normalize to 1 (something must have happened). The deduce $P(N_{ph}|n_e)$ for each value of $N_{ph}$. For now, assume that $P(n_e|0) = 0$"
   ]
  },
  {
   "cell_type": "code",
   "execution_count": 1,
   "metadata": {},
   "outputs": [],
   "source": [
    "#TODO: Q3(a)"
   ]
  },
  {
   "cell_type": "markdown",
   "metadata": {},
   "source": [
    "## Part (b)\n",
    "\n",
    "Now suppose one measures $n_e = 6.845 \\times 10^3$ electrons. What is the most likely photon count? Calculate and plot the probability distribution of 1 to 12 photons. What is the most likely count? Argue that a Gaussian microchannel plate gains add only a small amount to the $\\sqrt{N_{ph}}$ uncertainty."
   ]
  },
  {
   "cell_type": "code",
   "execution_count": null,
   "metadata": {},
   "outputs": [],
   "source": [
    "#TODO: Q3(b)"
   ]
  },
  {
   "cell_type": "markdown",
   "metadata": {},
   "source": [
    "## Part (c)\n",
    "\n",
    "If only microchannel plates did have a Gaussian response! A bit closer to reality, \n",
    "\n",
    "$$P(n_e|N_{ph}) = \\frac{2^{2N_{ph}}n_e^{2N_{ph} - 1}}{(2N_{ph} - 1)!n_0^{2N_{ph}}}e^{-\\frac{2n_e}{n_0}}$$\n",
    "\n",
    "Here, on average, one suspects $n_0 = 10^3$ electrons per photon strike. Suppose $n_e=1.243\\times 10^3$. What is the probability of 1,2,3, or counts? As before, set $P(n_e|0) = 0$. Remember that all possibilities of $P$ must sum to one, so renormalize."
   ]
  },
  {
   "cell_type": "code",
   "execution_count": null,
   "metadata": {},
   "outputs": [],
   "source": [
    "#TODO: Q3(c)"
   ]
  },
  {
   "cell_type": "markdown",
   "metadata": {},
   "source": [
    "## Part (d) \n",
    "Now suppose one measures $n_e = 6.845 \\times 10^3$ electrons. What is the most likely photon count? Calculate and plot the probability distribution of 1 to 12 photons. What is the most likely count? Argue that the \"real\" microchannel plate gain significantly add to the $\\sqrt{N_{ph}}$ uncertainty. "
   ]
  },
  {
   "cell_type": "code",
   "execution_count": null,
   "metadata": {},
   "outputs": [],
   "source": [
    "#TODO: Q3(d)"
   ]
  },
  {
   "cell_type": "markdown",
   "metadata": {},
   "source": [
    "# 4. Threshold and Dead Time\n",
    "A microchannel plate has the advantage of being able to detect a single photon or particle but, in reality, has a highly complex response. To get around this issue, experimentally try to read out the microchannel plate (or the imaging CCD) rapidly; so rapidly that there is little chance of a $2^{nd}$ photon (or particle) from striking from read-out to read-out. Let's examine this method."
   ]
  },
  {
   "cell_type": "markdown",
   "metadata": {},
   "source": [
    "## Part (a) \n",
    "Suppose a stacked, two-microchannel plate response is ($n_0 = 10^6$) for UV photons: "
   ]
  }
 ],
 "metadata": {
  "kernelspec": {
   "display_name": "base",
   "language": "python",
   "name": "python3"
  },
  "language_info": {
   "codemirror_mode": {
    "name": "ipython",
    "version": 3
   },
   "file_extension": ".py",
   "mimetype": "text/x-python",
   "name": "python",
   "nbconvert_exporter": "python",
   "pygments_lexer": "ipython3",
   "version": "3.8.18"
  }
 },
 "nbformat": 4,
 "nbformat_minor": 2
}
