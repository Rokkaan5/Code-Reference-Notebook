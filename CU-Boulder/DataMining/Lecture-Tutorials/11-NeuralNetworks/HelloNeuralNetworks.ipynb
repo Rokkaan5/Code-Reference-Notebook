{
 "cells": [
  {
   "cell_type": "raw",
   "metadata": {},
   "source": [
    "---\n",
    "title: \"Hello Neural Networks\"\n",
    "format:\n",
    "    html:\n",
    "        code-fold: false\n",
    "execute:\n",
    "    output: true\n",
    "    warning: false\n",
    "toc: true\n",
    "jupyter: python3\n",
    "---"
   ]
  },
  {
   "cell_type": "markdown",
   "metadata": {
    "cell_id": "d669abe78e0a4114a8f6b8a470a2d9a4",
    "deepnote_cell_type": "markdown",
    "id": "HLYTFpjFYfk1"
   },
   "source": [
    "# Hello Neural Networks.\n",
    "\n",
    "## Important supporting libraries"
   ]
  },
  {
   "cell_type": "code",
   "execution_count": 2,
   "metadata": {
    "cell_id": "1e3fbea45c4b4b059e4af2cc8420e902",
    "deepnote_cell_type": "code",
    "deepnote_to_be_reexecuted": false,
    "execution_millis": 8326,
    "execution_start": 1681408220340,
    "id": "U61bWgWzRmNZ",
    "source_hash": "79cee3de"
   },
   "outputs": [
    {
     "name": "stderr",
     "output_type": "stream",
     "text": [
      "2023-04-13 17:50:20.340736: I tensorflow/core/platform/cpu_feature_guard.cc:193] This TensorFlow binary is optimized with oneAPI Deep Neural Network Library (oneDNN) to use the following CPU instructions in performance-critical operations:  AVX2 FMA\n",
      "To enable them in other operations, rebuild TensorFlow with the appropriate compiler flags.\n",
      "2023-04-13 17:50:20.540741: W tensorflow/stream_executor/platform/default/dso_loader.cc:64] Could not load dynamic library 'libcudart.so.11.0'; dlerror: libcudart.so.11.0: cannot open shared object file: No such file or directory\n",
      "2023-04-13 17:50:20.540793: I tensorflow/stream_executor/cuda/cudart_stub.cc:29] Ignore above cudart dlerror if you do not have a GPU set up on your machine.\n",
      "2023-04-13 17:50:20.584398: E tensorflow/stream_executor/cuda/cuda_blas.cc:2981] Unable to register cuBLAS factory: Attempting to register factory for plugin cuBLAS when one has already been registered\n",
      "2023-04-13 17:50:22.655748: W tensorflow/stream_executor/platform/default/dso_loader.cc:64] Could not load dynamic library 'libnvinfer.so.7'; dlerror: libnvinfer.so.7: cannot open shared object file: No such file or directory\n",
      "2023-04-13 17:50:22.655883: W tensorflow/stream_executor/platform/default/dso_loader.cc:64] Could not load dynamic library 'libnvinfer_plugin.so.7'; dlerror: libnvinfer_plugin.so.7: cannot open shared object file: No such file or directory\n",
      "2023-04-13 17:50:22.655904: W tensorflow/compiler/tf2tensorrt/utils/py_utils.cc:38] TF-TRT Warning: Cannot dlopen some TensorRT libraries. If you would like to use Nvidia GPU with TensorRT, please make sure the missing libraries mentioned above are installed properly.\n"
     ]
    }
   ],
   "source": [
    "import tensorflow as tf\n",
    "import numpy as np\n",
    "from tensorflow import keras\n",
    "import matplotlib.pyplot as plt\n",
    "import seaborn as sns\n",
    "from sklearn.linear_model import LinearRegression"
   ]
  },
  {
   "cell_type": "markdown",
   "metadata": {
    "cell_id": "b55ecea8ceda46589e85b0d2a922b267",
    "deepnote_cell_type": "markdown",
    "id": "eyzp2DquYtzP"
   },
   "source": [
    "## Prepare a simple Neural Network"
   ]
  },
  {
   "cell_type": "code",
   "execution_count": 3,
   "metadata": {
    "cell_id": "5af24b9fe83042488d1b600e18318293",
    "deepnote_cell_type": "code",
    "deepnote_to_be_reexecuted": false,
    "execution_millis": 120,
    "execution_start": 1681408233356,
    "id": "uTu1Lf0ARzT9",
    "source_hash": "1ba29f0a"
   },
   "outputs": [
    {
     "name": "stderr",
     "output_type": "stream",
     "text": [
      "2023-04-13 17:50:33.317126: W tensorflow/stream_executor/platform/default/dso_loader.cc:64] Could not load dynamic library 'libcuda.so.1'; dlerror: libcuda.so.1: cannot open shared object file: No such file or directory\n",
      "2023-04-13 17:50:33.317204: W tensorflow/stream_executor/cuda/cuda_driver.cc:263] failed call to cuInit: UNKNOWN ERROR (303)\n",
      "2023-04-13 17:50:33.317244: I tensorflow/stream_executor/cuda/cuda_diagnostics.cc:156] kernel driver does not appear to be running on this host (p-cd8f0e9c-9c86-4a16-b6b8-ffaeaa357a58): /proc/driver/nvidia/version does not exist\n",
      "2023-04-13 17:50:33.318257: I tensorflow/core/platform/cpu_feature_guard.cc:193] This TensorFlow binary is optimized with oneAPI Deep Neural Network Library (oneDNN) to use the following CPU instructions in performance-critical operations:  AVX2 FMA\n",
      "To enable them in other operations, rebuild TensorFlow with the appropriate compiler flags.\n"
     ]
    }
   ],
   "source": [
    "model = tf.keras.Sequential([keras.layers.Dense(units=1, input_shape=[1])])\n",
    "model.compile(optimizer='sgd', loss='mean_squared_error')"
   ]
  },
  {
   "cell_type": "markdown",
   "metadata": {
    "cell_id": "9a8bb6cc4ff44242a49766c2c17f2e51",
    "deepnote_cell_type": "markdown",
    "id": "l0_7d0MKY5O3"
   },
   "source": [
    "## Prepare a simple dataset"
   ]
  },
  {
   "cell_type": "code",
   "execution_count": 4,
   "metadata": {
    "cell_id": "74b679dad2d944c981618fe35e5b1386",
    "colab": {
     "base_uri": "https://localhost:8080/"
    },
    "deepnote_cell_type": "code",
    "deepnote_to_be_reexecuted": false,
    "execution_millis": 7,
    "execution_start": 1681408237662,
    "id": "H_2ljBTPR5Yk",
    "outputId": "2c399bdf-c23d-42a5-e70c-fa96e6f75ce3",
    "source_hash": "1a937675"
   },
   "outputs": [
    {
     "name": "stdout",
     "output_type": "stream",
     "text": [
      "[-1.  0.  1.  2.  3.  4.]\n",
      "[-2.  0.  2.  4.  6.  8.]\n"
     ]
    }
   ],
   "source": [
    "xs = np.array([-1.0, 0.0, 1.0, 2.0, 3.0, 4.0], dtype=float)\n",
    "ys = np.array([-2.0, 0.0, 2.0, 4.0, 6.0, 8.0], dtype=float)\n",
    "print(xs)\n",
    "print(ys)\n"
   ]
  },
  {
   "cell_type": "markdown",
   "metadata": {
    "cell_id": "7c7c0459fa564dd2b44e859ca46c3713",
    "deepnote_cell_type": "markdown",
    "id": "cenrsi4jjDGF"
   },
   "source": [
    "ys = 2* xs"
   ]
  },
  {
   "cell_type": "markdown",
   "metadata": {
    "cell_id": "1f5dca84747b4007879d1dcd54e7a9b2",
    "deepnote_cell_type": "markdown",
    "id": "i_zwo2JCY93Q"
   },
   "source": [
    "## Visualize the dataset"
   ]
  },
  {
   "cell_type": "code",
   "execution_count": 5,
   "metadata": {
    "cell_id": "665ac34a54e8422db130948fda92886d",
    "colab": {
     "base_uri": "https://localhost:8080/",
     "height": 442
    },
    "deepnote_cell_type": "code",
    "deepnote_to_be_reexecuted": false,
    "execution_millis": 423,
    "execution_start": 1681408244133,
    "id": "b5OjmKk1DGF_",
    "outputId": "5ba4c5a9-8f8c-49e6-fb76-30ae4696101e",
    "source_hash": "bcbc30cb"
   },
   "outputs": [
    {
     "data": {
      "text/plain": [
       "<seaborn.axisgrid.FacetGrid at 0x7feeb846ffd0>"
      ]
     },
     "execution_count": 5,
     "metadata": {},
     "output_type": "execute_result"
    },
    {
     "data": {
      "image/png": "[encoded data removed]",
      "text/plain": [
       "<Figure size 500x500 with 1 Axes>"
      ]
     },
     "metadata": {
      "image/png": {
       "height": 470,
       "width": 470
      }
     },
     "output_type": "display_data"
    }
   ],
   "source": [
    "sns.relplot(x = xs,  y = ys)"
   ]
  },
  {
   "cell_type": "markdown",
   "metadata": {
    "cell_id": "be06f240ad30447b8b27f9206176b431",
    "deepnote_cell_type": "markdown",
    "id": "oZBKanJIZJMI"
   },
   "source": [
    "## Train the Neural Network"
   ]
  },
  {
   "cell_type": "code",
   "execution_count": 5,
   "metadata": {
    "cell_id": "bc988f6c56f649649396d50ccac8ea96",
    "colab": {
     "base_uri": "https://localhost:8080/"
    },
    "deepnote_cell_type": "code",
    "deepnote_to_be_reexecuted": true,
    "execution_millis": 1407,
    "execution_start": 1668135256367,
    "id": "W-CgkzHQR6Xo",
    "outputId": "a8e29c75-6a79-4fbe-f27a-c1c7fa3a7c00",
    "source_hash": "dacbfba6"
   },
   "outputs": [
    {
     "name": "stdout",
     "output_type": "stream",
     "text": [
      "Epoch 1/50\n",
      "1/1 [==============================] - 0s 250ms/step - loss: 63.6840\n",
      "Epoch 2/50\n",
      "1/1 [==============================] - 0s 2ms/step - loss: 50.2190\n",
      "Epoch 3/50\n",
      "1/1 [==============================] - 0s 2ms/step - loss: 39.6231\n",
      "Epoch 4/50\n",
      "1/1 [==============================] - 0s 3ms/step - loss: 31.2844\n",
      "Epoch 5/50\n",
      "1/1 [==============================] - 0s 2ms/step - loss: 24.7216\n",
      "Epoch 6/50\n",
      "1/1 [==============================] - 0s 2ms/step - loss: 19.5561\n",
      "Epoch 7/50\n",
      "1/1 [==============================] - 0s 2ms/step - loss: 15.4899\n",
      "Epoch 8/50\n",
      "1/1 [==============================] - 0s 2ms/step - loss: 12.2887\n",
      "Epoch 9/50\n",
      "1/1 [==============================] - 0s 17ms/step - loss: 9.7681\n",
      "Epoch 10/50\n",
      "1/1 [==============================] - 0s 2ms/step - loss: 7.7829\n",
      "Epoch 11/50\n",
      "1/1 [==============================] - 0s 2ms/step - loss: 6.2191\n",
      "Epoch 12/50\n",
      "1/1 [==============================] - 0s 2ms/step - loss: 4.9868\n",
      "Epoch 13/50\n",
      "1/1 [==============================] - 0s 2ms/step - loss: 4.0153\n",
      "Epoch 14/50\n",
      "1/1 [==============================] - 0s 2ms/step - loss: 3.2491\n",
      "Epoch 15/50\n",
      "1/1 [==============================] - 0s 2ms/step - loss: 2.6445\n",
      "Epoch 16/50\n",
      "1/1 [==============================] - 0s 2ms/step - loss: 2.1669\n",
      "Epoch 17/50\n",
      "1/1 [==============================] - 0s 2ms/step - loss: 1.7895\n",
      "Epoch 18/50\n",
      "1/1 [==============================] - 0s 2ms/step - loss: 1.4908\n",
      "Epoch 19/50\n",
      "1/1 [==============================] - 0s 2ms/step - loss: 1.2540\n",
      "Epoch 20/50\n",
      "1/1 [==============================] - 0s 2ms/step - loss: 1.0661\n",
      "Epoch 21/50\n",
      "1/1 [==============================] - 0s 2ms/step - loss: 0.9167\n",
      "Epoch 22/50\n",
      "1/1 [==============================] - 0s 2ms/step - loss: 0.7975\n",
      "Epoch 23/50\n",
      "1/1 [==============================] - 0s 58ms/step - loss: 0.7021\n",
      "Epoch 24/50\n",
      "1/1 [==============================] - 0s 3ms/step - loss: 0.6256\n",
      "Epoch 25/50\n",
      "1/1 [==============================] - 0s 2ms/step - loss: 0.5639\n",
      "Epoch 26/50\n",
      "1/1 [==============================] - 0s 2ms/step - loss: 0.5138\n",
      "Epoch 27/50\n",
      "1/1 [==============================] - 0s 2ms/step - loss: 0.4730\n",
      "Epoch 28/50\n",
      "1/1 [==============================] - 0s 2ms/step - loss: 0.4395\n",
      "Epoch 29/50\n",
      "1/1 [==============================] - 0s 2ms/step - loss: 0.4118\n",
      "Epoch 30/50\n",
      "1/1 [==============================] - 0s 2ms/step - loss: 0.3886\n",
      "Epoch 31/50\n",
      "1/1 [==============================] - 0s 2ms/step - loss: 0.3690\n",
      "Epoch 32/50\n",
      "1/1 [==============================] - 0s 2ms/step - loss: 0.3523\n",
      "Epoch 33/50\n",
      "1/1 [==============================] - 0s 2ms/step - loss: 0.3379\n",
      "Epoch 34/50\n",
      "1/1 [==============================] - 0s 2ms/step - loss: 0.3253\n",
      "Epoch 35/50\n",
      "1/1 [==============================] - 0s 2ms/step - loss: 0.3142\n",
      "Epoch 36/50\n",
      "1/1 [==============================] - 0s 2ms/step - loss: 0.3042\n",
      "Epoch 37/50\n",
      "1/1 [==============================] - 0s 2ms/step - loss: 0.2952\n",
      "Epoch 38/50\n",
      "1/1 [==============================] - 0s 3ms/step - loss: 0.2870\n",
      "Epoch 39/50\n",
      "1/1 [==============================] - 0s 2ms/step - loss: 0.2794\n",
      "Epoch 40/50\n",
      "1/1 [==============================] - 0s 2ms/step - loss: 0.2723\n",
      "Epoch 41/50\n",
      "1/1 [==============================] - 0s 2ms/step - loss: 0.2657\n",
      "Epoch 42/50\n",
      "1/1 [==============================] - 0s 2ms/step - loss: 0.2594\n",
      "Epoch 43/50\n",
      "1/1 [==============================] - 0s 2ms/step - loss: 0.2534\n",
      "Epoch 44/50\n",
      "1/1 [==============================] - 0s 2ms/step - loss: 0.2477\n",
      "Epoch 45/50\n",
      "1/1 [==============================] - 0s 2ms/step - loss: 0.2422\n",
      "Epoch 46/50\n",
      "1/1 [==============================] - 0s 2ms/step - loss: 0.2369\n",
      "Epoch 47/50\n",
      "1/1 [==============================] - 0s 2ms/step - loss: 0.2318\n",
      "Epoch 48/50\n",
      "1/1 [==============================] - 0s 2ms/step - loss: 0.2268\n",
      "Epoch 49/50\n",
      "1/1 [==============================] - 0s 2ms/step - loss: 0.2220\n",
      "Epoch 50/50\n",
      "1/1 [==============================] - 0s 2ms/step - loss: 0.2173\n"
     ]
    },
    {
     "data": {
      "text/plain": [
       "<keras.callbacks.History at 0x7f6e600874c0>"
      ]
     },
     "execution_count": 5,
     "metadata": {},
     "output_type": "execute_result"
    }
   ],
   "source": [
    "model.fit(xs, ys, epochs=1)"
   ]
  },
  {
   "cell_type": "markdown",
   "metadata": {
    "cell_id": "e3af87bb47264f56a4e2d20a83db10ef",
    "deepnote_cell_type": "markdown",
    "id": "kfQu8fwUZa3w"
   },
   "source": [
    "## Try a test dataset"
   ]
  },
  {
   "cell_type": "code",
   "execution_count": 6,
   "metadata": {
    "cell_id": "31ea52e926564d7197665c82dc44b692",
    "colab": {
     "base_uri": "https://localhost:8080/"
    },
    "deepnote_cell_type": "code",
    "deepnote_to_be_reexecuted": true,
    "execution_millis": 777,
    "execution_start": 1668135257005,
    "id": "C3w8tIeGR96n",
    "outputId": "a7158dd6-3184-40ee-f6ee-6b12be94165e",
    "source_hash": "68aefa77"
   },
   "outputs": [
    {
     "name": "stdout",
     "output_type": "stream",
     "text": [
      "1/1 [==============================] - 0s 61ms/step\n",
      "[[ 9.58381  ]\n",
      " [11.3789835]\n",
      " [13.174158 ]]\n"
     ]
    }
   ],
   "source": [
    "t = np.array([5.0, 6.0, 7.0])\n",
    "print(model.predict(t))"
   ]
  },
  {
   "cell_type": "markdown",
   "metadata": {
    "cell_id": "13a8d9ce76a44597853a1d58fb7030f3",
    "deepnote_cell_type": "markdown",
    "id": "g3VAX7HSZeFe"
   },
   "source": [
    "## Try with the training dataset"
   ]
  },
  {
   "cell_type": "code",
   "execution_count": 7,
   "metadata": {
    "cell_id": "40b63a71184948be920aa29f2a4ff481",
    "colab": {
     "base_uri": "https://localhost:8080/"
    },
    "deepnote_cell_type": "code",
    "deepnote_to_be_reexecuted": true,
    "execution_millis": 671,
    "execution_start": 1668135257158,
    "id": "9853RyI-Mek_",
    "outputId": "ed99870a-0188-4d3a-870e-7784e848b859",
    "source_hash": "6533d690"
   },
   "outputs": [
    {
     "name": "stdout",
     "output_type": "stream",
     "text": [
      "1/1 [==============================] - 0s 15ms/step\n",
      "[-1.  0.  1.  2.  3.  4.]\n",
      "[-2.  0.  2.  4.  6.  8.]\n",
      "[-1.1872342  0.6079398  2.4031138  4.198288   5.9934616  7.7886357]\n"
     ]
    }
   ],
   "source": [
    "y_hat = model.predict(xs)[:,0]\n",
    "print(xs)\n",
    "print(ys)\n",
    "print(y_hat)"
   ]
  },
  {
   "cell_type": "markdown",
   "metadata": {
    "cell_id": "0deb145c0731440496b4526b33a95d94",
    "deepnote_cell_type": "markdown",
    "id": "6ga6OGm2ZmRE"
   },
   "source": [
    "## Visualize the result"
   ]
  },
  {
   "cell_type": "code",
   "execution_count": 8,
   "metadata": {
    "cell_id": "265b7d15a05b4411831e278e848ed4b2",
    "colab": {
     "base_uri": "https://localhost:8080/",
     "height": 283
    },
    "deepnote_cell_type": "code",
    "deepnote_to_be_reexecuted": true,
    "execution_millis": 636,
    "execution_start": 1668135257199,
    "id": "yfx76lsGFej_",
    "outputId": "273efaa7-d539-4c65-e936-0270c6eba288",
    "source_hash": "a0656dd1"
   },
   "outputs": [
    {
     "data": {
      "text/plain": [
       "<matplotlib.legend.Legend at 0x7f6e48370a00>"
      ]
     },
     "execution_count": 8,
     "metadata": {},
     "output_type": "execute_result"
    },
    {
     "data": {
      "image/png": "[encoded data removed]",
      "text/plain": [
       "<Figure size 640x480 with 1 Axes>"
      ]
     },
     "metadata": {
      "image/png": {
       "height": 413,
       "width": 546
      }
     },
     "output_type": "display_data"
    }
   ],
   "source": [
    "plt.scatter(xs, y_hat, label = 'predicted')\n",
    "plt.scatter(xs, ys, label = 'actual')\n",
    "plt.legend()"
   ]
  },
  {
   "cell_type": "markdown",
   "metadata": {
    "cell_id": "6d39468731c447b9a7d0b7df66e6ae83",
    "deepnote_cell_type": "markdown",
    "id": "2QKpozvfsQ0e"
   },
   "source": [
    "## It might not be clear how the NN is trained. Let's show it step by step."
   ]
  },
  {
   "cell_type": "code",
   "execution_count": 9,
   "metadata": {
    "cell_id": "d320430dbf944be09a8242df105be6bb",
    "deepnote_cell_type": "code",
    "deepnote_to_be_reexecuted": true,
    "execution_millis": 0,
    "execution_start": 1668135257579,
    "source_hash": "1ba29f0a",
    "tags": []
   },
   "outputs": [],
   "source": [
    "model = tf.keras.Sequential([keras.layers.Dense(units=1, input_shape=[1])])\n",
    "model.compile(optimizer='sgd', loss='mean_squared_error')"
   ]
  },
  {
   "cell_type": "code",
   "execution_count": 10,
   "metadata": {
    "cell_id": "ad4f7c756b3940849cb597df6b9a5a0b",
    "colab": {
     "base_uri": "https://localhost:8080/",
     "height": 1000
    },
    "deepnote_cell_type": "code",
    "deepnote_to_be_reexecuted": true,
    "execution_millis": 513,
    "execution_start": 1668135257579,
    "id": "sisldICVsWG_",
    "outputId": "e964d1a8-9aa7-47fb-8000-17b7130df992",
    "source_hash": "ac553e96"
   },
   "outputs": [
    {
     "name": "stdout",
     "output_type": "stream",
     "text": [
      "1/1 [==============================] - 0s 158ms/step - loss: 59.5742\n",
      "1/1 [==============================] - 0s 36ms/step\n"
     ]
    },
    {
     "data": {
      "text/plain": [
       "<matplotlib.legend.Legend at 0x7f6e30d31b20>"
      ]
     },
     "execution_count": 10,
     "metadata": {},
     "output_type": "execute_result"
    },
    {
     "data": {
      "image/png": "[encoded data removed]",
      "text/plain": [
       "<Figure size 640x480 with 1 Axes>"
      ]
     },
     "metadata": {
      "image/png": {
       "height": 413,
       "width": 546
      }
     },
     "output_type": "display_data"
    }
   ],
   "source": [
    "model.fit(xs, ys, epochs=1)\n",
    "y_hat = model.predict(xs)[:,0]\n",
    "plt.scatter(xs, y_hat, label = 'predicted')\n",
    "plt.scatter(xs, ys, label = 'actual')\n",
    "plt.legend()"
   ]
  },
  {
   "cell_type": "markdown",
   "metadata": {
    "cell_id": "3ed5a50cbe0d4ec093de8d783aff1e3f",
    "deepnote_cell_type": "markdown",
    "id": "y2Wn5NERbPoo"
   },
   "source": [
    "# Compare NN with Linear Regression"
   ]
  },
  {
   "cell_type": "markdown",
   "metadata": {
    "cell_id": "46bdc8c7b0b04fa19251ee68e18aa853",
    "deepnote_cell_type": "markdown",
    "tags": []
   },
   "source": [
    "## Round 1: Linear relationship with few data points"
   ]
  },
  {
   "cell_type": "markdown",
   "metadata": {
    "cell_id": "b75d10c8459745b0b41e3607ded680c9",
    "deepnote_cell_type": "markdown",
    "id": "m5vT8SjUcdaz"
   },
   "source": [
    "### Train a Linear Regression model"
   ]
  },
  {
   "cell_type": "code",
   "execution_count": 11,
   "metadata": {
    "cell_id": "e386f1fee9cb4cce9ad06e54582d7a58",
    "colab": {
     "base_uri": "https://localhost:8080/"
    },
    "deepnote_cell_type": "code",
    "deepnote_to_be_reexecuted": true,
    "execution_millis": 0,
    "execution_start": 1668135258147,
    "id": "1nx4b4YvGbWP",
    "outputId": "d3f9617f-49ba-4e8e-fddf-aacddf1f5ef1",
    "source_hash": "6b63667e"
   },
   "outputs": [
    {
     "name": "stdout",
     "output_type": "stream",
     "text": [
      "[10. 12. 14.]\n"
     ]
    }
   ],
   "source": [
    "xs = xs.reshape(-1,1)\n",
    "t = t.reshape(-1, 1)\n",
    "reg = LinearRegression().fit(xs, ys)\n",
    "print(reg.predict(t))"
   ]
  },
  {
   "cell_type": "markdown",
   "metadata": {
    "cell_id": "56f9a15e620c490b90bd92f3452e4470",
    "deepnote_cell_type": "markdown",
    "id": "PN9JY6d9cS1c"
   },
   "source": [
    "### Conclusion: Linear Regression Won!\n",
    "We learned Neural Network is not as good as Linear Regression simply beacause we have so few data. Let's create a larger data set then."
   ]
  },
  {
   "cell_type": "markdown",
   "metadata": {
    "cell_id": "b14ecd1d3e4842ec877eb913650a4f83",
    "deepnote_cell_type": "markdown",
    "tags": []
   },
   "source": [
    "## Round 2: Linear relationship with many data points"
   ]
  },
  {
   "cell_type": "code",
   "execution_count": 12,
   "metadata": {
    "cell_id": "1038235f142846068fd2cb7e5a85126d",
    "colab": {
     "base_uri": "https://localhost:8080/"
    },
    "deepnote_cell_type": "code",
    "deepnote_to_be_reexecuted": true,
    "execution_millis": 1,
    "execution_start": 1668135258148,
    "id": "Ihl62VE0emA3",
    "outputId": "cf79d044-dfd3-4bbd-a2b8-0b9ee0cf1267",
    "source_hash": "c74e36c0"
   },
   "outputs": [
    {
     "name": "stdout",
     "output_type": "stream",
     "text": [
      "[-9.99885156 -9.99196827 -9.98839674 ...  9.98231861  9.99611098\n",
      "  9.99823514]\n",
      "[-19.99770313 -19.98393653 -19.97679347 ...  19.96463721  19.99222197\n",
      "  19.99647028]\n"
     ]
    }
   ],
   "source": [
    "x_large = np.random.uniform(-10, 10, (10000))\n",
    "x_large.sort()\n",
    "y_large = x_large*2\n",
    "print(x_large)\n",
    "print(y_large)"
   ]
  },
  {
   "cell_type": "markdown",
   "metadata": {
    "cell_id": "b92af3cd5b6043f892723d6801058ec6",
    "deepnote_cell_type": "markdown",
    "id": "UL66reK2fgRy"
   },
   "source": [
    "### Let's visualize the new dataset"
   ]
  },
  {
   "cell_type": "code",
   "execution_count": 13,
   "metadata": {
    "cell_id": "d46b7bc61ca34231912005cc5592081a",
    "colab": {
     "base_uri": "https://localhost:8080/",
     "height": 442
    },
    "deepnote_cell_type": "code",
    "deepnote_to_be_reexecuted": true,
    "execution_millis": 302,
    "execution_start": 1668135258148,
    "id": "Zbyipb83fmwf",
    "outputId": "850aaf1b-6cea-4b05-8a95-32b8ed24a3f6",
    "source_hash": "868a64b"
   },
   "outputs": [
    {
     "data": {
      "text/plain": [
       "<seaborn.axisgrid.FacetGrid at 0x7f6e30c7d8b0>"
      ]
     },
     "execution_count": 13,
     "metadata": {},
     "output_type": "execute_result"
    },
    {
     "data": {
      "image/png": "[encoded data removed]",
      "text/plain": [
       "<Figure size 500x500 with 1 Axes>"
      ]
     },
     "metadata": {
      "image/png": {
       "height": 470,
       "width": 470
      }
     },
     "output_type": "display_data"
    }
   ],
   "source": [
    "sns.relplot(x = x_large, y = y_large)"
   ]
  },
  {
   "cell_type": "markdown",
   "metadata": {
    "cell_id": "e7e193ddd2a64e9684c0ad1e7b514ddd",
    "deepnote_cell_type": "markdown",
    "id": "oTol7zVHfr5I"
   },
   "source": [
    "### Let's train the neural network again"
   ]
  },
  {
   "cell_type": "code",
   "execution_count": 14,
   "metadata": {
    "cell_id": "dde4508f684a405ba0d790d085285142",
    "colab": {
     "base_uri": "https://localhost:8080/"
    },
    "deepnote_cell_type": "code",
    "deepnote_to_be_reexecuted": true,
    "execution_millis": 14695,
    "execution_start": 1668135258495,
    "id": "QMZt1aEcf3LP",
    "outputId": "a90e6bc6-21f8-48bc-b8a5-391fd2e95abf",
    "source_hash": "c60b761c"
   },
   "outputs": [
    {
     "name": "stdout",
     "output_type": "stream",
     "text": [
      "Epoch 1/50\n",
      "313/313 [==============================] - 0s 929us/step - loss: 0.2925\n",
      "Epoch 2/50\n",
      "313/313 [==============================] - 0s 917us/step - loss: 4.1208e-11\n",
      "Epoch 3/50\n",
      "313/313 [==============================] - 0s 900us/step - loss: 3.2328e-15\n",
      "Epoch 4/50\n",
      "313/313 [==============================] - 0s 900us/step - loss: 2.9490e-16\n",
      "Epoch 5/50\n",
      "313/313 [==============================] - 0s 808us/step - loss: 1.1694e-16\n",
      "Epoch 6/50\n",
      "313/313 [==============================] - 0s 878us/step - loss: 2.1803e-17\n",
      "Epoch 7/50\n",
      "313/313 [==============================] - 0s 936us/step - loss: 1.7773e-17\n",
      "Epoch 8/50\n",
      "313/313 [==============================] - 0s 891us/step - loss: 1.5041e-17\n",
      "Epoch 9/50\n",
      "313/313 [==============================] - 0s 931us/step - loss: 9.5303e-18\n",
      "Epoch 10/50\n",
      "313/313 [==============================] - 0s 787us/step - loss: 2.9244e-18\n",
      "Epoch 11/50\n",
      "313/313 [==============================] - 0s 909us/step - loss: 2.6396e-18\n",
      "Epoch 12/50\n",
      "313/313 [==============================] - 0s 890us/step - loss: 2.4627e-18\n",
      "Epoch 13/50\n",
      "313/313 [==============================] - 0s 904us/step - loss: 2.0767e-18\n",
      "Epoch 14/50\n",
      "313/313 [==============================] - 0s 806us/step - loss: 1.9257e-18\n",
      "Epoch 15/50\n",
      "313/313 [==============================] - 0s 902us/step - loss: 1.8228e-18\n",
      "Epoch 16/50\n",
      "313/313 [==============================] - 0s 913us/step - loss: 9.9992e-19\n",
      "Epoch 17/50\n",
      "313/313 [==============================] - 0s 882us/step - loss: 3.9834e-19\n",
      "Epoch 18/50\n",
      "313/313 [==============================] - 0s 928us/step - loss: 3.8860e-19\n",
      "Epoch 19/50\n",
      "313/313 [==============================] - 0s 830us/step - loss: 3.6854e-19\n",
      "Epoch 20/50\n",
      "313/313 [==============================] - 0s 896us/step - loss: 3.5967e-19\n",
      "Epoch 21/50\n",
      "313/313 [==============================] - 0s 894us/step - loss: 3.5462e-19\n",
      "Epoch 22/50\n",
      "313/313 [==============================] - 0s 932us/step - loss: 2.7860e-19\n",
      "Epoch 23/50\n",
      "313/313 [==============================] - 0s 885us/step - loss: 2.4379e-19\n",
      "Epoch 24/50\n",
      "313/313 [==============================] - 0s 800us/step - loss: 2.3807e-19\n",
      "Epoch 25/50\n",
      "313/313 [==============================] - 0s 924us/step - loss: 2.3670e-19\n",
      "Epoch 26/50\n",
      "313/313 [==============================] - 0s 894us/step - loss: 2.1936e-19\n",
      "Epoch 27/50\n",
      "313/313 [==============================] - 0s 910us/step - loss: 2.1812e-19\n",
      "Epoch 28/50\n",
      "313/313 [==============================] - 0s 816us/step - loss: 2.1344e-19\n",
      "Epoch 29/50\n",
      "313/313 [==============================] - 0s 900us/step - loss: 2.0123e-19\n",
      "Epoch 30/50\n",
      "313/313 [==============================] - 0s 881us/step - loss: 6.2450e-20\n",
      "Epoch 31/50\n",
      "313/313 [==============================] - 0s 897us/step - loss: 6.2450e-20\n",
      "Epoch 32/50\n",
      "313/313 [==============================] - 0s 843us/step - loss: 6.1474e-20\n",
      "Epoch 33/50\n",
      "313/313 [==============================] - 0s 801us/step - loss: 6.1474e-20\n",
      "Epoch 34/50\n",
      "313/313 [==============================] - 0s 903us/step - loss: 5.8438e-20\n",
      "Epoch 35/50\n",
      "313/313 [==============================] - 0s 910us/step - loss: 5.7831e-20\n",
      "Epoch 36/50\n",
      "313/313 [==============================] - 0s 925us/step - loss: 5.7549e-20\n",
      "Epoch 37/50\n",
      "313/313 [==============================] - 0s 793us/step - loss: 5.6986e-20\n",
      "Epoch 38/50\n",
      "313/313 [==============================] - 0s 904us/step - loss: 5.6986e-20\n",
      "Epoch 39/50\n",
      "313/313 [==============================] - 0s 903us/step - loss: 4.6577e-20\n",
      "Epoch 40/50\n",
      "313/313 [==============================] - 0s 924us/step - loss: 4.6577e-20\n",
      "Epoch 41/50\n",
      "313/313 [==============================] - 0s 892us/step - loss: 4.6577e-20\n",
      "Epoch 42/50\n",
      "313/313 [==============================] - 0s 799us/step - loss: 4.5862e-20\n",
      "Epoch 43/50\n",
      "313/313 [==============================] - 0s 938us/step - loss: 4.5862e-20\n",
      "Epoch 44/50\n",
      "313/313 [==============================] - 0s 866us/step - loss: 4.4561e-20\n",
      "Epoch 45/50\n",
      "313/313 [==============================] - 0s 937us/step - loss: 4.3260e-20\n",
      "Epoch 46/50\n",
      "313/313 [==============================] - 0s 901us/step - loss: 4.3260e-20\n",
      "Epoch 47/50\n",
      "313/313 [==============================] - 0s 961us/step - loss: 4.2869e-20\n",
      "Epoch 48/50\n",
      "313/313 [==============================] - 0s 840us/step - loss: 4.2674e-20\n",
      "Epoch 49/50\n",
      "313/313 [==============================] - 0s 884us/step - loss: 4.1286e-20\n",
      "Epoch 50/50\n",
      "313/313 [==============================] - 0s 933us/step - loss: 6.5919e-21\n"
     ]
    },
    {
     "data": {
      "text/plain": [
       "<keras.callbacks.History at 0x7f6e30bbcca0>"
      ]
     },
     "execution_count": 14,
     "metadata": {},
     "output_type": "execute_result"
    }
   ],
   "source": [
    "model = tf.keras.Sequential([keras.layers.Dense(units=1, input_shape=[1])])\n",
    "model.compile(optimizer='sgd', loss='mean_squared_error')\n",
    "model.fit(x_large, y_large, epochs=50)"
   ]
  },
  {
   "cell_type": "markdown",
   "metadata": {
    "cell_id": "0f9617d712094c07b9d410e644f5ee89",
    "deepnote_cell_type": "markdown",
    "id": "16g0T7McgN-0"
   },
   "source": [
    "### Let's observe the result"
   ]
  },
  {
   "cell_type": "code",
   "execution_count": 15,
   "metadata": {
    "cell_id": "fa84f38c04a04c199fe82d81bac04952",
    "colab": {
     "base_uri": "https://localhost:8080/"
    },
    "deepnote_cell_type": "code",
    "deepnote_to_be_reexecuted": true,
    "execution_millis": 560,
    "execution_start": 1668135272695,
    "id": "a7nnXRvBgBpJ",
    "outputId": "2ec56bc4-cf9e-4d67-d7db-9c21f07c5364",
    "source_hash": "68aefa77"
   },
   "outputs": [
    {
     "name": "stdout",
     "output_type": "stream",
     "text": [
      "1/1 [==============================] - 0s 57ms/step\n",
      "[[10.]\n",
      " [12.]\n",
      " [14.]]\n"
     ]
    }
   ],
   "source": [
    "t = np.array([5.0, 6.0, 7.0])\n",
    "print(model.predict(t))"
   ]
  },
  {
   "cell_type": "markdown",
   "metadata": {
    "cell_id": "ea2f254581c843b3a02f5b3db11d929a",
    "deepnote_cell_type": "markdown",
    "id": "Gw_o9VDEgWeZ"
   },
   "source": [
    "### Conclusion: \n",
    "With many datapoints, a Neural Network can do as well as a Linear Regression model (for a simple straightline relationship)"
   ]
  },
  {
   "cell_type": "markdown",
   "metadata": {
    "cell_id": "a285b865d11c47d096c88c7a5ae95570",
    "deepnote_cell_type": "markdown",
    "id": "R1_NQZHnglPH"
   },
   "source": [
    "## Round 3: Multi-variable Linear relationship.\n",
    "We tried one variable input, how about two variables?"
   ]
  },
  {
   "cell_type": "markdown",
   "metadata": {
    "cell_id": "b088f00992bb47d387ecd82a6bd0f579",
    "deepnote_cell_type": "markdown",
    "id": "nW2sfaprlK9v"
   },
   "source": [
    "### Prepare a NN with 2 inputs"
   ]
  },
  {
   "cell_type": "code",
   "execution_count": 16,
   "metadata": {
    "cell_id": "9204d721dc1a4bff8b7113441da0a2bc",
    "deepnote_cell_type": "code",
    "deepnote_to_be_reexecuted": true,
    "execution_millis": 0,
    "execution_start": 1668135272780,
    "id": "Y0y9ET9WkT7N",
    "source_hash": "631b1004"
   },
   "outputs": [],
   "source": [
    "model = tf.keras.Sequential([keras.layers.Dense(units=1, input_shape=[2])])\n",
    "model.compile(optimizer='sgd', loss='mean_squared_error')"
   ]
  },
  {
   "cell_type": "markdown",
   "metadata": {
    "cell_id": "162557a4292647aba47074122ff95ac3",
    "deepnote_cell_type": "markdown",
    "id": "_e4OZarklOZu"
   },
   "source": [
    "### Prepare some 2-dimensional datapoints and train the model"
   ]
  },
  {
   "cell_type": "code",
   "execution_count": 17,
   "metadata": {
    "cell_id": "f90b5a9d845b4599b6b641c37b1f502e",
    "colab": {
     "base_uri": "https://localhost:8080/"
    },
    "deepnote_cell_type": "code",
    "deepnote_to_be_reexecuted": true,
    "execution_millis": 535,
    "execution_start": 1668135272780,
    "id": "nmBHLHBLkalM",
    "outputId": "7adbc9bf-4c83-4f0d-ae4f-ab9ae7cf59de",
    "source_hash": "893fd23a"
   },
   "outputs": [
    {
     "name": "stdout",
     "output_type": "stream",
     "text": [
      "Epoch 1/50\n",
      "1/1 [==============================] - 0s 169ms/step - loss: 3.2576\n",
      "Epoch 2/50\n",
      "1/1 [==============================] - 0s 2ms/step - loss: 3.0287\n",
      "Epoch 3/50\n",
      "1/1 [==============================] - 0s 2ms/step - loss: 2.8169\n",
      "Epoch 4/50\n",
      "1/1 [==============================] - 0s 2ms/step - loss: 2.6208\n",
      "Epoch 5/50\n",
      "1/1 [==============================] - 0s 2ms/step - loss: 2.4392\n",
      "Epoch 6/50\n",
      "1/1 [==============================] - 0s 3ms/step - loss: 2.2709\n",
      "Epoch 7/50\n",
      "1/1 [==============================] - 0s 2ms/step - loss: 2.1151\n",
      "Epoch 8/50\n",
      "1/1 [==============================] - 0s 2ms/step - loss: 1.9707\n",
      "Epoch 9/50\n",
      "1/1 [==============================] - 0s 2ms/step - loss: 1.8368\n",
      "Epoch 10/50\n",
      "1/1 [==============================] - 0s 2ms/step - loss: 1.7127\n",
      "Epoch 11/50\n",
      "1/1 [==============================] - 0s 2ms/step - loss: 1.5976\n",
      "Epoch 12/50\n",
      "1/1 [==============================] - 0s 2ms/step - loss: 1.4909\n",
      "Epoch 13/50\n",
      "1/1 [==============================] - 0s 2ms/step - loss: 1.3918\n",
      "Epoch 14/50\n",
      "1/1 [==============================] - 0s 2ms/step - loss: 1.2999\n",
      "Epoch 15/50\n",
      "1/1 [==============================] - 0s 2ms/step - loss: 1.2146\n",
      "Epoch 16/50\n",
      "1/1 [==============================] - 0s 2ms/step - loss: 1.1354\n",
      "Epoch 17/50\n",
      "1/1 [==============================] - 0s 2ms/step - loss: 1.0618\n",
      "Epoch 18/50\n",
      "1/1 [==============================] - 0s 2ms/step - loss: 0.9934\n",
      "Epoch 19/50\n",
      "1/1 [==============================] - 0s 2ms/step - loss: 0.9299\n",
      "Epoch 20/50\n",
      "1/1 [==============================] - 0s 62ms/step - loss: 0.8709\n",
      "Epoch 21/50\n",
      "1/1 [==============================] - 0s 3ms/step - loss: 0.8159\n",
      "Epoch 22/50\n",
      "1/1 [==============================] - 0s 2ms/step - loss: 0.7649\n",
      "Epoch 23/50\n",
      "1/1 [==============================] - 0s 2ms/step - loss: 0.7173\n",
      "Epoch 24/50\n",
      "1/1 [==============================] - 0s 2ms/step - loss: 0.6731\n",
      "Epoch 25/50\n",
      "1/1 [==============================] - 0s 2ms/step - loss: 0.6319\n",
      "Epoch 26/50\n",
      "1/1 [==============================] - 0s 2ms/step - loss: 0.5936\n",
      "Epoch 27/50\n",
      "1/1 [==============================] - 0s 2ms/step - loss: 0.5578\n",
      "Epoch 28/50\n",
      "1/1 [==============================] - 0s 2ms/step - loss: 0.5246\n",
      "Epoch 29/50\n",
      "1/1 [==============================] - 0s 2ms/step - loss: 0.4935\n",
      "Epoch 30/50\n",
      "1/1 [==============================] - 0s 2ms/step - loss: 0.4646\n",
      "Epoch 31/50\n",
      "1/1 [==============================] - 0s 2ms/step - loss: 0.4376\n",
      "Epoch 32/50\n",
      "1/1 [==============================] - 0s 2ms/step - loss: 0.4124\n",
      "Epoch 33/50\n",
      "1/1 [==============================] - 0s 2ms/step - loss: 0.3889\n",
      "Epoch 34/50\n",
      "1/1 [==============================] - 0s 2ms/step - loss: 0.3669\n",
      "Epoch 35/50\n",
      "1/1 [==============================] - 0s 3ms/step - loss: 0.3464\n",
      "Epoch 36/50\n",
      "1/1 [==============================] - 0s 2ms/step - loss: 0.3272\n",
      "Epoch 37/50\n",
      "1/1 [==============================] - 0s 2ms/step - loss: 0.3093\n",
      "Epoch 38/50\n",
      "1/1 [==============================] - 0s 2ms/step - loss: 0.2926\n",
      "Epoch 39/50\n",
      "1/1 [==============================] - 0s 2ms/step - loss: 0.2769\n",
      "Epoch 40/50\n",
      "1/1 [==============================] - 0s 2ms/step - loss: 0.2622\n",
      "Epoch 41/50\n",
      "1/1 [==============================] - 0s 2ms/step - loss: 0.2485\n",
      "Epoch 42/50\n",
      "1/1 [==============================] - 0s 2ms/step - loss: 0.2357\n",
      "Epoch 43/50\n",
      "1/1 [==============================] - 0s 2ms/step - loss: 0.2236\n",
      "Epoch 44/50\n",
      "1/1 [==============================] - 0s 2ms/step - loss: 0.2123\n",
      "Epoch 45/50\n",
      "1/1 [==============================] - 0s 2ms/step - loss: 0.2018\n",
      "Epoch 46/50\n",
      "1/1 [==============================] - 0s 2ms/step - loss: 0.1918\n",
      "Epoch 47/50\n",
      "1/1 [==============================] - 0s 2ms/step - loss: 0.1825\n",
      "Epoch 48/50\n",
      "1/1 [==============================] - 0s 2ms/step - loss: 0.1738\n",
      "Epoch 49/50\n",
      "1/1 [==============================] - 0s 2ms/step - loss: 0.1656\n",
      "Epoch 50/50\n",
      "1/1 [==============================] - 0s 2ms/step - loss: 0.1579\n"
     ]
    },
    {
     "data": {
      "text/plain": [
       "<keras.callbacks.History at 0x7f6e307a0fa0>"
      ]
     },
     "execution_count": 17,
     "metadata": {},
     "output_type": "execute_result"
    }
   ],
   "source": [
    "xs = np.array([[-1, -1], [0, 1], [1, 2], [-1, 0]])\n",
    "ys = np.array([-2, 1, 3, -1])\n",
    "model.fit(xs, ys, epochs = 50)\n",
    "\n",
    "#ys = xs1 + xs2"
   ]
  },
  {
   "cell_type": "markdown",
   "metadata": {
    "cell_id": "902a0761f36d448893b5f74284a31aba",
    "deepnote_cell_type": "markdown",
    "id": "kLsjNFFylWuR"
   },
   "source": [
    "### Test the model"
   ]
  },
  {
   "cell_type": "code",
   "execution_count": 18,
   "metadata": {
    "cell_id": "b68ccc6dbf66428cac4f5a4a0b624519",
    "colab": {
     "base_uri": "https://localhost:8080/"
    },
    "deepnote_cell_type": "code",
    "deepnote_to_be_reexecuted": true,
    "execution_millis": 57,
    "execution_start": 1668135273313,
    "id": "8ZAh9WdEkxkd",
    "outputId": "39cc464d-fa4e-4265-a052-70ceea28916d",
    "source_hash": "62655c70"
   },
   "outputs": [
    {
     "name": "stdout",
     "output_type": "stream",
     "text": [
      "1/1 [==============================] - 0s 29ms/step\n",
      "[[ 5.6687555]\n",
      " [11.833715 ]\n",
      " [ 2.1177921]]\n"
     ]
    }
   ],
   "source": [
    "t = np.array([[3, 4], [0, 9], [-2, 2]])\n",
    "print(model.predict(t))"
   ]
  },
  {
   "cell_type": "markdown",
   "metadata": {
    "cell_id": "d7ebd21fa4064817bc79578c2088bd86",
    "deepnote_cell_type": "markdown",
    "id": "ARvFdQ2clebO"
   },
   "source": [
    "### Prepare a Linear Regression and test"
   ]
  },
  {
   "cell_type": "code",
   "execution_count": 19,
   "metadata": {
    "cell_id": "4d55ca1cbe5540d387a6718f4e3b9381",
    "colab": {
     "base_uri": "https://localhost:8080/"
    },
    "deepnote_cell_type": "code",
    "deepnote_to_be_reexecuted": true,
    "execution_millis": 260,
    "execution_start": 1668135273415,
    "id": "k26lJkj3k7zO",
    "outputId": "1eb329c7-19b3-469e-da20-74acbbfce5e9",
    "source_hash": "c4ceb60b"
   },
   "outputs": [
    {
     "name": "stdout",
     "output_type": "stream",
     "text": [
      "[ 7.00000000e+00  9.00000000e+00 -1.16573418e-15]\n"
     ]
    }
   ],
   "source": [
    "reg = LinearRegression().fit(xs, ys)\n",
    "print(reg.predict(t))"
   ]
  },
  {
   "cell_type": "markdown",
   "metadata": {
    "cell_id": "22ca572d45f24ea3a4c7f9bf66692f7e",
    "deepnote_cell_type": "markdown",
    "id": "kU6GTE4plR9O"
   },
   "source": [
    "### Conclusion: Still LR won. \n",
    "Maybe we need more data"
   ]
  },
  {
   "cell_type": "code",
   "execution_count": 20,
   "metadata": {
    "cell_id": "6a92bb8065c64bd18840880643358ef5",
    "colab": {
     "base_uri": "https://localhost:8080/"
    },
    "deepnote_cell_type": "code",
    "deepnote_to_be_reexecuted": true,
    "execution_millis": 260,
    "execution_start": 1668135273416,
    "id": "IBNEb6Juipqo",
    "outputId": "13f5a3f9-84ff-4350-9d98-5f4797edae0e",
    "source_hash": "df27d041"
   },
   "outputs": [
    {
     "name": "stdout",
     "output_type": "stream",
     "text": [
      "[[ 3.83318192e+00 -9.69160794e+00]\n",
      " [-1.60615131e-03 -6.14233634e+00]\n",
      " [-2.91511449e+00 -1.25782616e-01]\n",
      " ...\n",
      " [ 2.52837268e+00 -5.01966462e+00]\n",
      " [ 2.64744448e+00  1.82292700e+00]\n",
      " [-1.16130409e+00  8.95057456e+00]]\n",
      "[-5.85842602 -6.14394249 -3.04089711 ... -2.49129194  4.47037148\n",
      "  7.78927047]\n"
     ]
    }
   ],
   "source": [
    "x_large = np.random.uniform(-10, 10, (10000, 2))\n",
    "print(x_large)\n",
    "y_large = np.sum(x_large, axis = 1)\n",
    "print(y_large)"
   ]
  },
  {
   "cell_type": "markdown",
   "metadata": {
    "cell_id": "716effc087674fffb14e46b52871a5b7",
    "deepnote_cell_type": "markdown",
    "id": "Ra1kmO5mlmA-"
   },
   "source": [
    "### Train the NN again with more data"
   ]
  },
  {
   "cell_type": "code",
   "execution_count": 21,
   "metadata": {
    "cell_id": "bb816161d71943c6821f3c822ac89d78",
    "colab": {
     "base_uri": "https://localhost:8080/"
    },
    "deepnote_cell_type": "code",
    "deepnote_to_be_reexecuted": true,
    "execution_millis": 20703,
    "execution_start": 1668135273416,
    "id": "cCT6cTockQIO",
    "outputId": "660eef04-2b9b-4387-eb7f-e17469cfd3c5",
    "source_hash": "101dc5b9"
   },
   "outputs": [
    {
     "name": "stdout",
     "output_type": "stream",
     "text": [
      "Epoch 1/50\n",
      "313/313 [==============================] - 0s 947us/step - loss: 0.2193\n",
      "Epoch 2/50\n",
      "313/313 [==============================] - 0s 894us/step - loss: 1.9676e-11\n",
      "Epoch 3/50\n",
      "313/313 [==============================] - 0s 779us/step - loss: 1.3513e-13\n",
      "Epoch 4/50\n",
      "313/313 [==============================] - 0s 816us/step - loss: 1.3398e-13\n",
      "Epoch 5/50\n",
      "313/313 [==============================] - 0s 898us/step - loss: 1.3539e-13\n",
      "Epoch 6/50\n",
      "313/313 [==============================] - 0s 895us/step - loss: 1.3393e-13\n",
      "Epoch 7/50\n",
      "313/313 [==============================] - 0s 922us/step - loss: 1.3474e-13\n",
      "Epoch 8/50\n",
      "313/313 [==============================] - 0s 800us/step - loss: 1.3396e-13\n",
      "Epoch 9/50\n",
      "313/313 [==============================] - 0s 893us/step - loss: 1.3556e-13\n",
      "Epoch 10/50\n",
      "313/313 [==============================] - 0s 891us/step - loss: 1.3740e-13\n",
      "Epoch 11/50\n",
      "313/313 [==============================] - 0s 957us/step - loss: 1.3395e-13\n",
      "Epoch 12/50\n",
      "313/313 [==============================] - 0s 875us/step - loss: 1.3458e-13\n",
      "Epoch 13/50\n",
      "313/313 [==============================] - 0s 823us/step - loss: 1.3440e-13\n",
      "Epoch 14/50\n",
      "313/313 [==============================] - 0s 890us/step - loss: 1.3558e-13\n",
      "Epoch 15/50\n",
      "313/313 [==============================] - 0s 901us/step - loss: 1.3393e-13\n",
      "Epoch 16/50\n",
      "313/313 [==============================] - 0s 929us/step - loss: 1.3768e-13\n",
      "Epoch 17/50\n",
      "313/313 [==============================] - 0s 798us/step - loss: 1.3458e-13\n",
      "Epoch 18/50\n",
      "313/313 [==============================] - 0s 844us/step - loss: 1.3681e-13\n",
      "Epoch 19/50\n",
      "313/313 [==============================] - 0s 787us/step - loss: 1.3394e-13\n",
      "Epoch 20/50\n",
      "313/313 [==============================] - 0s 904us/step - loss: 1.3585e-13\n",
      "Epoch 21/50\n",
      "313/313 [==============================] - 0s 877us/step - loss: 1.3395e-13\n",
      "Epoch 22/50\n",
      "313/313 [==============================] - 0s 944us/step - loss: 1.3397e-13\n",
      "Epoch 23/50\n",
      "313/313 [==============================] - 0s 794us/step - loss: 1.3392e-13\n",
      "Epoch 24/50\n",
      "313/313 [==============================] - 0s 897us/step - loss: 1.3682e-13\n",
      "Epoch 25/50\n",
      "313/313 [==============================] - 0s 913us/step - loss: 1.3663e-13\n",
      "Epoch 26/50\n",
      "313/313 [==============================] - 0s 900us/step - loss: 1.3462e-13\n",
      "Epoch 27/50\n",
      "313/313 [==============================] - 0s 796us/step - loss: 1.3447e-13\n",
      "Epoch 28/50\n",
      "313/313 [==============================] - 0s 894us/step - loss: 1.3523e-13\n",
      "Epoch 29/50\n",
      "313/313 [==============================] - 0s 929us/step - loss: 1.3393e-13\n",
      "Epoch 30/50\n",
      "313/313 [==============================] - 0s 885us/step - loss: 1.3542e-13\n",
      "Epoch 31/50\n",
      "313/313 [==============================] - 0s 805us/step - loss: 1.3394e-13\n",
      "Epoch 32/50\n",
      "313/313 [==============================] - 0s 889us/step - loss: 1.3394e-13\n",
      "Epoch 33/50\n",
      "313/313 [==============================] - 0s 915us/step - loss: 1.3561e-13\n",
      "Epoch 34/50\n",
      "313/313 [==============================] - 0s 900us/step - loss: 1.3395e-13\n",
      "Epoch 35/50\n",
      "313/313 [==============================] - 0s 799us/step - loss: 1.3396e-13\n",
      "Epoch 36/50\n",
      "313/313 [==============================] - 0s 845us/step - loss: 1.3502e-13\n",
      "Epoch 37/50\n",
      "313/313 [==============================] - 0s 918us/step - loss: 1.3395e-13\n",
      "Epoch 38/50\n",
      "313/313 [==============================] - 0s 907us/step - loss: 1.3394e-13\n",
      "Epoch 39/50\n",
      "313/313 [==============================] - 0s 870us/step - loss: 1.3396e-13\n",
      "Epoch 40/50\n",
      "313/313 [==============================] - 0s 938us/step - loss: 1.3496e-13\n",
      "Epoch 41/50\n",
      "313/313 [==============================] - 0s 810us/step - loss: 1.3392e-13\n",
      "Epoch 42/50\n",
      "313/313 [==============================] - 0s 889us/step - loss: 1.3393e-13\n",
      "Epoch 43/50\n",
      "313/313 [==============================] - 0s 918us/step - loss: 1.3489e-13\n",
      "Epoch 44/50\n",
      "313/313 [==============================] - 0s 917us/step - loss: 1.3433e-13\n",
      "Epoch 45/50\n",
      "313/313 [==============================] - 0s 904us/step - loss: 1.3393e-13\n",
      "Epoch 46/50\n",
      "313/313 [==============================] - 0s 820us/step - loss: 1.3394e-13\n",
      "Epoch 47/50\n",
      "313/313 [==============================] - 0s 921us/step - loss: 1.3530e-13\n",
      "Epoch 48/50\n",
      "313/313 [==============================] - 0s 911us/step - loss: 1.3525e-13\n",
      "Epoch 49/50\n",
      "313/313 [==============================] - 0s 903us/step - loss: 1.3398e-13\n",
      "Epoch 50/50\n",
      "313/313 [==============================] - 0s 914us/step - loss: 1.3516e-13\n"
     ]
    },
    {
     "data": {
      "text/plain": [
       "<keras.callbacks.History at 0x7f6e30737f10>"
      ]
     },
     "execution_count": 21,
     "metadata": {},
     "output_type": "execute_result"
    }
   ],
   "source": [
    "model = tf.keras.Sequential([keras.layers.Dense(units=1, input_shape=[2])])\n",
    "model.compile(optimizer='sgd', loss='mean_squared_error')\n",
    "model.fit(x_large, y_large, epochs = 50)"
   ]
  },
  {
   "cell_type": "markdown",
   "metadata": {
    "cell_id": "b0a1cb44224640afa0d79324153e966e",
    "deepnote_cell_type": "markdown",
    "id": "8vGyOArOloVS"
   },
   "source": [
    "### Let's observe the result"
   ]
  },
  {
   "cell_type": "code",
   "execution_count": 22,
   "metadata": {
    "cell_id": "349b80d7692248218bbdec95f1cc8100",
    "colab": {
     "base_uri": "https://localhost:8080/"
    },
    "deepnote_cell_type": "code",
    "deepnote_to_be_reexecuted": true,
    "execution_millis": 67,
    "execution_start": 1668135294120,
    "id": "zjtswyCZkSNj",
    "outputId": "bbffba77-5d41-4f92-acc2-0f0fddd50486",
    "source_hash": "62655c70"
   },
   "outputs": [
    {
     "name": "stdout",
     "output_type": "stream",
     "text": [
      "WARNING:tensorflow:5 out of the last 6 calls to <function Model.make_predict_function.<locals>.predict_function at 0x7f6e3048a280> triggered tf.function retracing. Tracing is expensive and the excessive number of tracings could be due to (1) creating @tf.function repeatedly in a loop, (2) passing tensors with different shapes, (3) passing Python objects instead of tensors. For (1), please define your @tf.function outside of the loop. For (2), @tf.function has reduce_retracing=True option that can avoid unnecessary retracing. For (3), please refer to https://www.tensorflow.org/guide/function#controlling_retracing and https://www.tensorflow.org/api_docs/python/tf/function for  more details.\n",
      "1/1 [==============================] - 0s 37ms/step\n",
      "[[7.000000e+00]\n",
      " [9.000000e+00]\n",
      " [7.636544e-09]]\n"
     ]
    }
   ],
   "source": [
    "t = np.array([[3, 4], [0, 9], [-2, 2]])\n",
    "print(model.predict(t))"
   ]
  },
  {
   "cell_type": "markdown",
   "metadata": {
    "cell_id": "1b01676141c646e5bf0997448d517c84",
    "deepnote_cell_type": "markdown",
    "id": "KoxwbGwElCdS"
   },
   "source": [
    "### Conclusion:\n",
    "OK.. Again, Neural Network is just as good as Linear Regression"
   ]
  },
  {
   "cell_type": "markdown",
   "metadata": {
    "cell_id": "1c0706ac07684812a4f366570655ba94",
    "deepnote_cell_type": "markdown",
    "id": "xeK_TYk6mCbe"
   },
   "source": [
    "## Round4: Let's learn some non-linear relationship then"
   ]
  },
  {
   "cell_type": "markdown",
   "metadata": {
    "cell_id": "70b09100ae714de1b2fa80e10f5e2dc3",
    "deepnote_cell_type": "markdown",
    "id": "mjhNTOdznDah"
   },
   "source": [
    "### Create a square root relationship"
   ]
  },
  {
   "cell_type": "code",
   "execution_count": 23,
   "metadata": {
    "cell_id": "51f6490a8bab44b2bd4fd2d86be7c721",
    "deepnote_cell_type": "code",
    "deepnote_to_be_reexecuted": true,
    "execution_millis": 39,
    "execution_start": 1668135294186,
    "id": "rFKWNp4THIQO",
    "source_hash": "9be6a6b7"
   },
   "outputs": [],
   "source": [
    "import math\n",
    "size = 100000\n",
    "xs = np.random.uniform(0, 10, (size))\n",
    "xs.sort()\n",
    "ys = [0] * size\n",
    "for i in range(size):\n",
    "  ys[i] = math.sqrt(xs[i])\n",
    "ys = np.array(ys)"
   ]
  },
  {
   "cell_type": "markdown",
   "metadata": {
    "cell_id": "e86a7c602c68418dae708588ae284248",
    "deepnote_cell_type": "markdown",
    "id": "tgZQ8mrvnG17"
   },
   "source": [
    "### Visualize the relationship"
   ]
  },
  {
   "cell_type": "code",
   "execution_count": 24,
   "metadata": {
    "cell_id": "65a816c38c404ed69c3d6a53449b11b2",
    "colab": {
     "base_uri": "https://localhost:8080/",
     "height": 338
    },
    "deepnote_cell_type": "code",
    "deepnote_to_be_reexecuted": true,
    "execution_millis": 1393,
    "execution_start": 1668135294229,
    "id": "eFeIZtflmb8H",
    "outputId": "09097177-f9b1-4d48-b39d-ff9f718967ab",
    "source_hash": "fe5d5ca5"
   },
   "outputs": [
    {
     "data": {
      "text/plain": [
       "<AxesSubplot: >"
      ]
     },
     "execution_count": 24,
     "metadata": {},
     "output_type": "execute_result"
    },
    {
     "data": {
      "image/png": "[encoded data removed]",
      "text/plain": [
       "<Figure size 640x480 with 1 Axes>"
      ]
     },
     "metadata": {
      "image/png": {
       "height": 413,
       "width": 547
      }
     },
     "output_type": "display_data"
    }
   ],
   "source": [
    "sns.scatterplot(x = xs, y = ys)"
   ]
  },
  {
   "cell_type": "markdown",
   "metadata": {
    "cell_id": "9823a7cee6274273949790c922575519",
    "deepnote_cell_type": "markdown",
    "id": "AN9uW6W4nLed"
   },
   "source": [
    "### Train a deep neural network"
   ]
  },
  {
   "cell_type": "code",
   "execution_count": 25,
   "metadata": {
    "cell_id": "45061b9135f84b909e02902b4eb0289f",
    "colab": {
     "base_uri": "https://localhost:8080/"
    },
    "deepnote_cell_type": "code",
    "deepnote_to_be_reexecuted": true,
    "execution_millis": 206284,
    "execution_start": 1668135294693,
    "id": "0SIc6hS0IHIx",
    "outputId": "fd46cc45-9b3b-41f3-f8ec-99112d12482c",
    "source_hash": "6be3bd75"
   },
   "outputs": [
    {
     "name": "stdout",
     "output_type": "stream",
     "text": [
      "Epoch 1/50\n",
      "3125/3125 [==============================] - 4s 1ms/step - loss: 0.0234\n",
      "Epoch 2/50\n",
      "3125/3125 [==============================] - 4s 1ms/step - loss: 0.0043\n",
      "Epoch 3/50\n",
      "3125/3125 [==============================] - 4s 1ms/step - loss: 0.0041\n",
      "Epoch 4/50\n",
      "3125/3125 [==============================] - 4s 1ms/step - loss: 0.0038\n",
      "Epoch 5/50\n",
      "3125/3125 [==============================] - 4s 1ms/step - loss: 0.0034\n",
      "Epoch 6/50\n",
      "3125/3125 [==============================] - 4s 1ms/step - loss: 0.0029\n",
      "Epoch 7/50\n",
      "3125/3125 [==============================] - 4s 1ms/step - loss: 0.0025\n",
      "Epoch 8/50\n",
      "3125/3125 [==============================] - 4s 1ms/step - loss: 0.0020\n",
      "Epoch 9/50\n",
      "3125/3125 [==============================] - 4s 1ms/step - loss: 0.0016\n",
      "Epoch 10/50\n",
      "3125/3125 [==============================] - 4s 1ms/step - loss: 0.0013\n",
      "Epoch 11/50\n",
      "3125/3125 [==============================] - 4s 1ms/step - loss: 0.0011\n",
      "Epoch 12/50\n",
      "3125/3125 [==============================] - 4s 1ms/step - loss: 8.9498e-04\n",
      "Epoch 13/50\n",
      "3125/3125 [==============================] - 4s 1ms/step - loss: 7.5326e-04\n",
      "Epoch 14/50\n",
      "3125/3125 [==============================] - 4s 1ms/step - loss: 6.4453e-04\n",
      "Epoch 15/50\n",
      "3125/3125 [==============================] - 4s 1ms/step - loss: 5.6217e-04\n",
      "Epoch 16/50\n",
      "3125/3125 [==============================] - 4s 1ms/step - loss: 4.9794e-04\n",
      "Epoch 17/50\n",
      "3125/3125 [==============================] - 4s 1ms/step - loss: 4.4878e-04\n",
      "Epoch 18/50\n",
      "3125/3125 [==============================] - 4s 1ms/step - loss: 4.1082e-04\n",
      "Epoch 19/50\n",
      "3125/3125 [==============================] - 4s 1ms/step - loss: 3.8056e-04\n",
      "Epoch 20/50\n",
      "3125/3125 [==============================] - 4s 1ms/step - loss: 3.5716e-04\n",
      "Epoch 21/50\n",
      "3125/3125 [==============================] - 4s 1ms/step - loss: 3.3704e-04\n",
      "Epoch 22/50\n",
      "3125/3125 [==============================] - 4s 1ms/step - loss: 3.2141e-04\n",
      "Epoch 23/50\n",
      "3125/3125 [==============================] - 4s 1ms/step - loss: 3.0762e-04\n",
      "Epoch 24/50\n",
      "3125/3125 [==============================] - 4s 1ms/step - loss: 2.9600e-04\n",
      "Epoch 25/50\n",
      "3125/3125 [==============================] - 4s 1ms/step - loss: 2.8558e-04\n",
      "Epoch 26/50\n",
      "3125/3125 [==============================] - 4s 1ms/step - loss: 2.7660e-04\n",
      "Epoch 27/50\n",
      "3125/3125 [==============================] - 4s 1ms/step - loss: 2.6820e-04\n",
      "Epoch 28/50\n",
      "3125/3125 [==============================] - 4s 1ms/step - loss: 2.6049e-04\n",
      "Epoch 29/50\n",
      "3125/3125 [==============================] - 4s 1ms/step - loss: 2.5346e-04\n",
      "Epoch 30/50\n",
      "3125/3125 [==============================] - 4s 1ms/step - loss: 2.4675e-04\n",
      "Epoch 31/50\n",
      "3125/3125 [==============================] - 4s 1ms/step - loss: 2.4060e-04\n",
      "Epoch 32/50\n",
      "3125/3125 [==============================] - 4s 1ms/step - loss: 2.3468e-04\n",
      "Epoch 33/50\n",
      "3125/3125 [==============================] - 4s 1ms/step - loss: 2.2956e-04\n",
      "Epoch 34/50\n",
      "3125/3125 [==============================] - 4s 1ms/step - loss: 2.2430e-04\n",
      "Epoch 35/50\n",
      "3125/3125 [==============================] - 4s 1ms/step - loss: 2.1948e-04\n",
      "Epoch 36/50\n",
      "3125/3125 [==============================] - 4s 1ms/step - loss: 2.1484e-04\n",
      "Epoch 37/50\n",
      "3125/3125 [==============================] - 4s 1ms/step - loss: 2.1065e-04\n",
      "Epoch 38/50\n",
      "3125/3125 [==============================] - 4s 1ms/step - loss: 2.0669e-04\n",
      "Epoch 39/50\n",
      "3125/3125 [==============================] - 4s 1ms/step - loss: 2.0268e-04\n",
      "Epoch 40/50\n",
      "3125/3125 [==============================] - 4s 1ms/step - loss: 1.9908e-04\n",
      "Epoch 41/50\n",
      "3125/3125 [==============================] - 4s 1ms/step - loss: 1.9572e-04\n",
      "Epoch 42/50\n",
      "3125/3125 [==============================] - 4s 1ms/step - loss: 1.9252e-04\n",
      "Epoch 43/50\n",
      "3125/3125 [==============================] - 4s 1ms/step - loss: 1.8926e-04\n",
      "Epoch 44/50\n",
      "3125/3125 [==============================] - 4s 1ms/step - loss: 1.8630e-04\n",
      "Epoch 45/50\n",
      "3125/3125 [==============================] - 4s 1ms/step - loss: 1.8352e-04\n",
      "Epoch 46/50\n",
      "3125/3125 [==============================] - 4s 1ms/step - loss: 1.8086e-04\n",
      "Epoch 47/50\n",
      "3125/3125 [==============================] - 4s 1ms/step - loss: 1.7812e-04\n",
      "Epoch 48/50\n",
      "3125/3125 [==============================] - 4s 1ms/step - loss: 1.7575e-04\n",
      "Epoch 49/50\n",
      "3125/3125 [==============================] - 4s 1ms/step - loss: 1.7360e-04\n",
      "Epoch 50/50\n",
      "3125/3125 [==============================] - 4s 1ms/step - loss: 1.7137e-04\n"
     ]
    },
    {
     "data": {
      "text/plain": [
       "<keras.callbacks.History at 0x7f6e07dc4d60>"
      ]
     },
     "execution_count": 25,
     "metadata": {},
     "output_type": "execute_result"
    }
   ],
   "source": [
    "model = keras.Sequential([\n",
    "      tf.keras.layers.Dense(64, input_shape = [1]),\n",
    "      tf.keras.layers.Dense(64, activation = 'sigmoid'),\n",
    "      tf.keras.layers.Dense(64, activation = 'sigmoid'),\n",
    "      tf.keras.layers.Dense(1)\n",
    "  ])\n",
    "model.compile(optimizer='sgd', loss='mean_squared_error')\n",
    "model.fit(xs, ys, epochs=50)"
   ]
  },
  {
   "cell_type": "markdown",
   "metadata": {
    "cell_id": "90b26b9d28a84918943732b2469a86af",
    "deepnote_cell_type": "markdown",
    "id": "RRCUA__jnTN6"
   },
   "source": [
    "### Observe the result and compare it with the training data"
   ]
  },
  {
   "cell_type": "code",
   "execution_count": 26,
   "metadata": {
    "cell_id": "e11ee4bdd4b9423e91652e1f2fecac6a",
    "colab": {
     "base_uri": "https://localhost:8080/",
     "height": 476
    },
    "deepnote_cell_type": "code",
    "deepnote_to_be_reexecuted": true,
    "execution_millis": 868,
    "execution_start": 1668135500556,
    "id": "TTOlyScLKL6g",
    "outputId": "755245ad-7697-4cdc-fd13-c3f8a10ea45a",
    "source_hash": "955075b1"
   },
   "outputs": [
    {
     "name": "stdout",
     "output_type": "stream",
     "text": [
      "WARNING:tensorflow:6 out of the last 7 calls to <function Model.make_predict_function.<locals>.predict_function at 0x7f6e300a6430> triggered tf.function retracing. Tracing is expensive and the excessive number of tracings could be due to (1) creating @tf.function repeatedly in a loop, (2) passing tensors with different shapes, (3) passing Python objects instead of tensors. For (1), please define your @tf.function outside of the loop. For (2), @tf.function has reduce_retracing=True option that can avoid unnecessary retracing. For (3), please refer to https://www.tensorflow.org/guide/function#controlling_retracing and https://www.tensorflow.org/api_docs/python/tf/function for  more details.\n",
      "313/313 [==============================] - 0s 824us/step\n"
     ]
    },
    {
     "data": {
      "text/plain": [
       "<matplotlib.legend.Legend at 0x7f6e06b0f610>"
      ]
     },
     "execution_count": 26,
     "metadata": {},
     "output_type": "execute_result"
    },
    {
     "data": {
      "image/png": "[encoded data removed]",
      "text/plain": [
       "<Figure size 640x480 with 1 Axes>"
      ]
     },
     "metadata": {
      "image/png": {
       "height": 413,
       "width": 547
      }
     },
     "output_type": "display_data"
    }
   ],
   "source": [
    "t = np.arange(0, 10,0.001)\n",
    "plt.plot(t, model.predict(t), label = 'Prediction')\n",
    "plt.plot(xs, ys, label = 'Actual')\n",
    "plt.legend()"
   ]
  },
  {
   "cell_type": "code",
   "execution_count": 27,
   "metadata": {
    "cell_id": "f0e24f3dd83544259364fba2ed595fa4",
    "colab": {
     "base_uri": "https://localhost:8080/",
     "height": 283
    },
    "deepnote_cell_type": "code",
    "deepnote_to_be_reexecuted": true,
    "execution_millis": 171,
    "execution_start": 1668135501406,
    "id": "cnS8kegevZNi",
    "outputId": "92b739d1-d05b-4b78-b387-824770f64ac2",
    "source_hash": "d55dbbd0"
   },
   "outputs": [
    {
     "name": "stdout",
     "output_type": "stream",
     "text": [
      "4/4 [==============================] - 0s 1ms/step\n"
     ]
    },
    {
     "data": {
      "text/plain": [
       "[<matplotlib.lines.Line2D at 0x7f6e06a9fc70>]"
      ]
     },
     "execution_count": 27,
     "metadata": {},
     "output_type": "execute_result"
    },
    {
     "data": {
      "image/png": "[encoded data removed]",
      "text/plain": [
       "<Figure size 640x480 with 1 Axes>"
      ]
     },
     "metadata": {
      "image/png": {
       "height": 413,
       "width": 546
      }
     },
     "output_type": "display_data"
    }
   ],
   "source": [
    "t = np.random.uniform(-10, 20, (100))\n",
    "t.sort()\n",
    "plt.plot(xs, ys)\n",
    "plt.plot(t, model.predict(t))"
   ]
  },
  {
   "cell_type": "markdown",
   "metadata": {
    "cell_id": "8d6e21622e104ebcb3396cef2cee000b",
    "deepnote_cell_type": "markdown",
    "id": "2rfSF47snWy4"
   },
   "source": [
    "### Train a Linear Regression model"
   ]
  },
  {
   "cell_type": "code",
   "execution_count": 28,
   "metadata": {
    "cell_id": "4f016485ed0d47998e43cb654229c3e1",
    "colab": {
     "base_uri": "https://localhost:8080/",
     "height": 320
    },
    "deepnote_cell_type": "code",
    "deepnote_to_be_reexecuted": true,
    "execution_millis": 204,
    "execution_start": 1668135501579,
    "id": "ZHZ6TS9SOXD0",
    "outputId": "fbbec42f-0173-41c2-c3d2-5a41263a94f8",
    "source_hash": "59dac255"
   },
   "outputs": [
    {
     "name": "stdout",
     "output_type": "stream",
     "text": [
      "[-1.42569093 -1.30205542 -1.09828043 -1.04867071 -1.03044785 -0.98600164\n",
      " -0.96865632 -0.9023989  -0.71853787 -0.69083633 -0.62417619 -0.60805478\n",
      " -0.54816478 -0.05101514  0.08713875  0.13057828  0.13475977  0.13864074\n",
      "  0.16797048  0.17713     0.19727745  0.22970649  0.31431312  0.37632993\n",
      "  0.63559054  0.69113312  0.70850827  0.88635407  0.89324519  0.92056171\n",
      "  0.99958658  1.10725201  1.17041577  1.27106823  1.30859389  1.32635898\n",
      "  1.3309071   1.38584883  1.40506766  1.40536572  1.42412021  1.58427221\n",
      "  1.683908    1.70211711  1.70970825  1.717564    1.87871458  1.98351473\n",
      "  2.11698049  2.11766604  2.1471542   2.19429567  2.3539216   2.38552702\n",
      "  2.41069027  2.51431647  2.52863949  2.57170389  2.63274016  2.72523481\n",
      "  2.79188304  2.79576683  3.06269909  3.15886559  3.27573822  3.37948444\n",
      "  3.39700664  3.43381774  3.45008318  3.4932293   3.52634682  3.78797497\n",
      "  3.89568843  4.03664514  4.04758793  4.08558755  4.11044801  4.11900392\n",
      "  4.12712782  4.22970685  4.25126194  4.28865898  4.3163758   4.32361748\n",
      "  4.36675904  4.41386179  4.44791997  4.46648179  4.52180494  4.71696863\n",
      "  4.72037875  4.81396369  4.81829441  4.97508789  4.99347484  5.23088123\n",
      "  5.23426318  5.32470282  5.36773324  5.88546246]\n"
     ]
    },
    {
     "data": {
      "text/plain": [
       "[<matplotlib.lines.Line2D at 0x7f6e0698a5b0>]"
      ]
     },
     "execution_count": 28,
     "metadata": {},
     "output_type": "execute_result"
    },
    {
     "data": {
      "image/png": "[encoded data removed]",
      "text/plain": [
       "<Figure size 640x480 with 1 Axes>"
      ]
     },
     "metadata": {
      "image/png": {
       "height": 413,
       "width": 546
      }
     },
     "output_type": "display_data"
    }
   ],
   "source": [
    "xs = xs.reshape(-1, 1)\n",
    "t = t.reshape(-1,1)\n",
    "reg = LinearRegression().fit(xs, ys)\n",
    "print(reg.predict(t))\n",
    "plt.plot(xs, ys)\n",
    "plt.plot(t, reg.predict(t))"
   ]
  },
  {
   "cell_type": "code",
   "execution_count": 29,
   "metadata": {
    "cell_id": "9f4eff32d3b34ba3904e00a9070dcace",
    "colab": {
     "base_uri": "https://localhost:8080/"
    },
    "deepnote_cell_type": "code",
    "deepnote_to_be_reexecuted": true,
    "execution_millis": 196282,
    "execution_start": 1668135501831,
    "id": "HGhugq9foFLk",
    "outputId": "2d178ca3-3f1c-412c-8b92-8bb5b9d477e7",
    "source_hash": "cce41212"
   },
   "outputs": [
    {
     "name": "stdout",
     "output_type": "stream",
     "text": [
      "Epoch 1/50\n",
      "3125/3125 [==============================] - 4s 1ms/step - loss: 0.0147\n",
      "Epoch 2/50\n",
      "3125/3125 [==============================] - 4s 1ms/step - loss: 9.6181e-04\n",
      "Epoch 3/50\n",
      "3125/3125 [==============================] - 4s 1ms/step - loss: 3.7634e-04\n",
      "Epoch 4/50\n",
      "3125/3125 [==============================] - 4s 1ms/step - loss: 2.3227e-04\n",
      "Epoch 5/50\n",
      "3125/3125 [==============================] - 4s 1ms/step - loss: 1.7060e-04\n",
      "Epoch 6/50\n",
      "3125/3125 [==============================] - 4s 1ms/step - loss: 1.5108e-04\n",
      "Epoch 7/50\n",
      "3125/3125 [==============================] - 4s 1ms/step - loss: 1.6084e-04\n",
      "Epoch 8/50\n",
      "3125/3125 [==============================] - 4s 1ms/step - loss: 2.8447e-04\n",
      "Epoch 9/50\n",
      "3125/3125 [==============================] - 4s 1ms/step - loss: 1.2366e-04\n",
      "Epoch 10/50\n",
      "3125/3125 [==============================] - 4s 1ms/step - loss: 1.0303e-04\n",
      "Epoch 11/50\n",
      "3125/3125 [==============================] - 4s 1ms/step - loss: 1.5917e-04\n",
      "Epoch 12/50\n",
      "3125/3125 [==============================] - 4s 1ms/step - loss: 2.2970e-04\n",
      "Epoch 13/50\n",
      "3125/3125 [==============================] - 4s 1ms/step - loss: 6.9329e-05\n",
      "Epoch 14/50\n",
      "3125/3125 [==============================] - 4s 1ms/step - loss: 6.7857e-05\n",
      "Epoch 15/50\n",
      "3125/3125 [==============================] - 4s 1ms/step - loss: 6.9192e-05\n",
      "Epoch 16/50\n",
      "3125/3125 [==============================] - 4s 1ms/step - loss: 8.4352e-05\n",
      "Epoch 17/50\n",
      "3125/3125 [==============================] - 4s 1ms/step - loss: 9.0722e-05\n",
      "Epoch 18/50\n",
      "3125/3125 [==============================] - 4s 1ms/step - loss: 1.0956e-04\n",
      "Epoch 19/50\n",
      "3125/3125 [==============================] - 4s 1ms/step - loss: 1.0441e-04\n",
      "Epoch 20/50\n",
      "3125/3125 [==============================] - 4s 1ms/step - loss: 8.0185e-05\n",
      "Epoch 21/50\n",
      "3125/3125 [==============================] - 4s 1ms/step - loss: 1.3061e-04\n",
      "Epoch 22/50\n",
      "3125/3125 [==============================] - 4s 1ms/step - loss: 5.1739e-05\n",
      "Epoch 23/50\n",
      "3125/3125 [==============================] - 4s 1ms/step - loss: 7.8681e-05\n",
      "Epoch 24/50\n",
      "3125/3125 [==============================] - 4s 1ms/step - loss: 8.0863e-05\n",
      "Epoch 25/50\n",
      "3125/3125 [==============================] - 4s 1ms/step - loss: 1.1494e-04\n",
      "Epoch 26/50\n",
      "3125/3125 [==============================] - 4s 1ms/step - loss: 9.1416e-05\n",
      "Epoch 27/50\n",
      "3125/3125 [==============================] - 4s 1ms/step - loss: 4.6811e-05\n",
      "Epoch 28/50\n",
      "3125/3125 [==============================] - 4s 1ms/step - loss: 1.0611e-04\n",
      "Epoch 29/50\n",
      "3125/3125 [==============================] - 4s 1ms/step - loss: 7.2222e-05\n",
      "Epoch 30/50\n",
      "3125/3125 [==============================] - 4s 1ms/step - loss: 5.6831e-05\n",
      "Epoch 31/50\n",
      "3125/3125 [==============================] - 4s 1ms/step - loss: 5.6454e-05\n",
      "Epoch 32/50\n",
      "3125/3125 [==============================] - 4s 1ms/step - loss: 1.3881e-04\n",
      "Epoch 33/50\n",
      "3125/3125 [==============================] - 4s 1ms/step - loss: 5.8258e-05\n",
      "Epoch 34/50\n",
      "3125/3125 [==============================] - 4s 1ms/step - loss: 4.8645e-05\n",
      "Epoch 35/50\n",
      "3125/3125 [==============================] - 4s 1ms/step - loss: 5.5545e-05\n",
      "Epoch 36/50\n",
      "3125/3125 [==============================] - 4s 1ms/step - loss: 6.7602e-05\n",
      "Epoch 37/50\n",
      "3125/3125 [==============================] - 4s 1ms/step - loss: 1.1466e-04\n",
      "Epoch 38/50\n",
      "3125/3125 [==============================] - 4s 1ms/step - loss: 4.2625e-05\n",
      "Epoch 39/50\n",
      "3125/3125 [==============================] - 4s 1ms/step - loss: 3.9022e-05\n",
      "Epoch 40/50\n",
      "3125/3125 [==============================] - 4s 1ms/step - loss: 6.0201e-05\n",
      "Epoch 41/50\n",
      "3125/3125 [==============================] - 4s 1ms/step - loss: 4.7673e-05\n",
      "Epoch 42/50\n",
      "3125/3125 [==============================] - 4s 1ms/step - loss: 5.1120e-05\n",
      "Epoch 43/50\n",
      "3125/3125 [==============================] - 4s 1ms/step - loss: 1.1484e-04\n",
      "Epoch 44/50\n",
      "3125/3125 [==============================] - 5s 1ms/step - loss: 4.3091e-05\n",
      "Epoch 45/50\n",
      "3125/3125 [==============================] - 5s 2ms/step - loss: 3.7601e-05\n",
      "Epoch 46/50\n",
      "3125/3125 [==============================] - 5s 2ms/step - loss: 5.5629e-05\n",
      "Epoch 47/50\n",
      "3125/3125 [==============================] - 5s 2ms/step - loss: 3.8547e-05\n",
      "Epoch 48/50\n",
      "3125/3125 [==============================] - 5s 2ms/step - loss: 9.7383e-05\n",
      "Epoch 49/50\n",
      "3125/3125 [==============================] - 4s 1ms/step - loss: 3.4859e-05\n",
      "Epoch 50/50\n",
      "3125/3125 [==============================] - 4s 1ms/step - loss: 4.9066e-05\n"
     ]
    },
    {
     "data": {
      "text/plain": [
       "<keras.callbacks.History at 0x7f6e0695a2b0>"
      ]
     },
     "execution_count": 29,
     "metadata": {},
     "output_type": "execute_result"
    }
   ],
   "source": [
    "model = keras.Sequential([\n",
    "      tf.keras.layers.Dense(2, input_shape = [1]),\n",
    "      tf.keras.layers.Dense(64, activation = 'relu'),\n",
    "      tf.keras.layers.Dense(64, activation = 'relu'),\n",
    "      tf.keras.layers.Dense(1)\n",
    "  ])\n",
    "model.compile(optimizer='sgd', loss='mean_squared_error')\n",
    "model.fit(xs, ys, epochs=50)"
   ]
  },
  {
   "cell_type": "code",
   "execution_count": 30,
   "metadata": {
    "cell_id": "e2cbfa08964a41f0ae198691bcbb6ae4",
    "colab": {
     "base_uri": "https://localhost:8080/",
     "height": 582
    },
    "deepnote_cell_type": "code",
    "deepnote_to_be_reexecuted": true,
    "execution_millis": 356,
    "execution_start": 1668135698017,
    "id": "OvHQSzuwoIyk",
    "outputId": "d75da37e-cd36-4f5c-b2f1-1e19f5872841",
    "source_hash": "e8d6fda"
   },
   "outputs": [
    {
     "name": "stdout",
     "output_type": "stream",
     "text": [
      "32/32 [==============================] - 0s 697us/step\n"
     ]
    },
    {
     "data": {
      "text/plain": [
       "<matplotlib.legend.Legend at 0x7f6e0626ec10>"
      ]
     },
     "execution_count": 30,
     "metadata": {},
     "output_type": "execute_result"
    },
    {
     "data": {
      "image/png": "[encoded data removed]",
      "text/plain": [
       "<Figure size 640x480 with 1 Axes>"
      ]
     },
     "metadata": {
      "image/png": {
       "height": 413,
       "width": 547
      }
     },
     "output_type": "display_data"
    }
   ],
   "source": [
    "t = np.arange(0, 10, 0.01)\n",
    "plt.plot(t, model.predict(t), label = \"Prediction\")\n",
    "plt.plot(xs, ys, label = \"Actual\")\n",
    "plt.legend()"
   ]
  },
  {
   "cell_type": "markdown",
   "metadata": {
    "cell_id": "56797b0592da454aaacbc1d5aa4d5cc6",
    "deepnote_cell_type": "markdown",
    "id": "J815GjpZzsVn"
   },
   "source": [
    "## Round 5: Try an arbitrary relationship then"
   ]
  },
  {
   "cell_type": "code",
   "execution_count": 31,
   "metadata": {
    "cell_id": "efaa54a48d2244abb799fff703ec7719",
    "colab": {
     "base_uri": "https://localhost:8080/",
     "height": 339
    },
    "deepnote_cell_type": "code",
    "deepnote_to_be_reexecuted": true,
    "execution_millis": 527,
    "execution_start": 1668135698374,
    "id": "grXIFElXzv6n",
    "outputId": "eecd7685-aee9-477f-8cc5-ae29bf6f3255",
    "source_hash": "46e1a925"
   },
   "outputs": [
    {
     "data": {
      "text/plain": [
       "<AxesSubplot: >"
      ]
     },
     "execution_count": 31,
     "metadata": {},
     "output_type": "execute_result"
    },
    {
     "data": {
      "image/png": "[encoded data removed]",
      "text/plain": [
       "<Figure size 640x480 with 1 Axes>"
      ]
     },
     "metadata": {
      "image/png": {
       "height": 413,
       "width": 559
      }
     },
     "output_type": "display_data"
    }
   ],
   "source": [
    "size = 100000\n",
    "xs = np.random.uniform(0, 10, (size))\n",
    "xs.sort()\n",
    "ys = [0] * size\n",
    "for i in range(size):\n",
    "  ys[i] = math.sqrt(xs[i])*2 - math.atan(xs[i])*3 + np.random.random()*0.01\n",
    "ys = np.array(ys)\n",
    "sns.scatterplot(x = xs, y = ys)"
   ]
  },
  {
   "cell_type": "code",
   "execution_count": 32,
   "metadata": {
    "cell_id": "1179572e9c964946b343936763fe2b5b",
    "colab": {
     "base_uri": "https://localhost:8080/"
    },
    "deepnote_cell_type": "code",
    "deepnote_to_be_reexecuted": true,
    "execution_millis": 21245,
    "execution_start": 1668135698907,
    "id": "rkTGiOXrzzXp",
    "outputId": "4920f454-c48c-4640-fd6a-e9c05ece23c6",
    "source_hash": "1a2e40f8"
   },
   "outputs": [
    {
     "name": "stdout",
     "output_type": "stream",
     "text": [
      "Epoch 1/5\n",
      "3125/3125 [==============================] - 4s 1ms/step - loss: 0.0125\n",
      "Epoch 2/5\n",
      "3125/3125 [==============================] - 4s 1ms/step - loss: 8.0274e-04\n",
      "Epoch 3/5\n",
      "3125/3125 [==============================] - 4s 1ms/step - loss: 1.8838e-04\n",
      "Epoch 4/5\n",
      "3125/3125 [==============================] - 4s 1ms/step - loss: 1.8755e-04\n",
      "Epoch 5/5\n",
      "3125/3125 [==============================] - 4s 1ms/step - loss: 1.5765e-04\n"
     ]
    },
    {
     "data": {
      "text/plain": [
       "<keras.callbacks.History at 0x7f6de54a7910>"
      ]
     },
     "execution_count": 32,
     "metadata": {},
     "output_type": "execute_result"
    }
   ],
   "source": [
    "model = keras.Sequential([\n",
    "      tf.keras.layers.Dense(64, input_shape = [1]),\n",
    "      tf.keras.layers.Dense(64, activation='relu'),\n",
    "      tf.keras.layers.Dense(64, activation='relu'),\n",
    "      tf.keras.layers.Dense(1)\n",
    "  ])\n",
    "model.compile(optimizer='sgd', loss='mean_squared_error')\n",
    "model.fit(xs, ys, epochs=5)"
   ]
  },
  {
   "cell_type": "code",
   "execution_count": 33,
   "metadata": {
    "cell_id": "fbe540e30fda4615bf295469ad189c3f",
    "colab": {
     "base_uri": "https://localhost:8080/",
     "height": 283
    },
    "deepnote_cell_type": "code",
    "deepnote_to_be_reexecuted": true,
    "execution_millis": 625,
    "execution_start": 1668135720151,
    "id": "8A58-4JCz5Vf",
    "outputId": "e9d8e588-2a06-4653-8f1f-be55a11daaa0",
    "source_hash": "743ca42"
   },
   "outputs": [
    {
     "name": "stdout",
     "output_type": "stream",
     "text": [
      "313/313 [==============================] - 0s 764us/step\n"
     ]
    },
    {
     "data": {
      "text/plain": [
       "[<matplotlib.lines.Line2D at 0x7f6de56ed880>]"
      ]
     },
     "execution_count": 33,
     "metadata": {},
     "output_type": "execute_result"
    },
    {
     "data": {
      "image/png": "[encoded data removed]",
      "text/plain": [
       "<Figure size 640x480 with 1 Axes>"
      ]
     },
     "metadata": {
      "image/png": {
       "height": 413,
       "width": 559
      }
     },
     "output_type": "display_data"
    }
   ],
   "source": [
    "t = np.arange(0, 10, 0.001)\n",
    "plt.plot(xs, ys)\n",
    "plt.plot(t, model.predict(t))"
   ]
  },
  {
   "cell_type": "markdown",
   "metadata": {
    "cell_id": "b0c01f0301c741039114a9b1eb16b375",
    "deepnote_cell_type": "markdown",
    "id": "d24I5HsFEJ1u"
   },
   "source": [
    "## Round 6: Try another arbitrary relationship"
   ]
  },
  {
   "cell_type": "code",
   "execution_count": 34,
   "metadata": {
    "cell_id": "9553f71487c94aba89690f76889b8283",
    "colab": {
     "base_uri": "https://localhost:8080/",
     "height": 442
    },
    "deepnote_cell_type": "code",
    "deepnote_to_be_reexecuted": true,
    "execution_millis": 1727,
    "execution_start": 1668135720778,
    "id": "XKvSET6mEDM0",
    "outputId": "e529eb05-c1c9-4788-d5b1-e61da56ab5e6",
    "source_hash": "47081b15"
   },
   "outputs": [
    {
     "data": {
      "text/plain": [
       "<seaborn.axisgrid.FacetGrid at 0x7f6de56c7fa0>"
      ]
     },
     "execution_count": 34,
     "metadata": {},
     "output_type": "execute_result"
    },
    {
     "data": {
      "image/png": "[encoded data removed]",
      "text/plain": [
       "<Figure size 500x500 with 1 Axes>"
      ]
     },
     "metadata": {
      "image/png": {
       "height": 470,
       "width": 470
      }
     },
     "output_type": "display_data"
    }
   ],
   "source": [
    "#create dataset\n",
    "\n",
    "size = 100000\n",
    "np.random.seed(seed=2)\n",
    "xs = np.random.uniform(low=0.0, high=10.0, size=(size))\n",
    "xs.sort()\n",
    "slope = 0.25\n",
    "noise = 0.02\n",
    "ys = np.sin(xs/(2)*np.pi) + np.random.normal(loc=0.0, scale=noise, size=(size,))\n",
    "\n",
    "sns.relplot(x = xs, y = ys)"
   ]
  },
  {
   "cell_type": "code",
   "execution_count": 35,
   "metadata": {
    "cell_id": "5e2d1eb33ccb490bae207c63d271a45f",
    "colab": {
     "base_uri": "https://localhost:8080/"
    },
    "deepnote_cell_type": "code",
    "deepnote_to_be_reexecuted": true,
    "execution_millis": 84027,
    "execution_start": 1668135721376,
    "id": "P4MaefFnEGRK",
    "outputId": "dd5210e1-0845-41e6-898e-6b13989ddcc2",
    "source_hash": "cf882f68"
   },
   "outputs": [
    {
     "name": "stdout",
     "output_type": "stream",
     "text": [
      "Epoch 1/10\n",
      "3125/3125 [==============================] - 8s 3ms/step - loss: 0.3777\n",
      "Epoch 2/10\n",
      "3125/3125 [==============================] - 9s 3ms/step - loss: 0.2052\n",
      "Epoch 3/10\n",
      "3125/3125 [==============================] - 9s 3ms/step - loss: 0.0779\n",
      "Epoch 4/10\n",
      "3125/3125 [==============================] - 9s 3ms/step - loss: 0.0482\n",
      "Epoch 5/10\n",
      "3125/3125 [==============================] - 8s 3ms/step - loss: 0.0322\n",
      "Epoch 6/10\n",
      "3125/3125 [==============================] - 8s 3ms/step - loss: 0.0244\n",
      "Epoch 7/10\n",
      "3125/3125 [==============================] - 8s 3ms/step - loss: 0.0173\n",
      "Epoch 8/10\n",
      "3125/3125 [==============================] - 8s 3ms/step - loss: 0.0123\n",
      "Epoch 9/10\n",
      "3125/3125 [==============================] - 8s 3ms/step - loss: 0.0101\n",
      "Epoch 10/10\n",
      "3125/3125 [==============================] - 8s 3ms/step - loss: 0.0069\n"
     ]
    },
    {
     "data": {
      "text/plain": [
       "<keras.callbacks.History at 0x7f6de553cf10>"
      ]
     },
     "execution_count": 35,
     "metadata": {},
     "output_type": "execute_result"
    }
   ],
   "source": [
    "model = keras.Sequential([\n",
    "      tf.keras.layers.Dense(256, input_shape = [1]),\n",
    "      tf.keras.layers.Dense(256, activation='relu'),\n",
    "      tf.keras.layers.Dense(256, activation='relu'),\n",
    "      tf.keras.layers.Dense(256, activation='elu'),\n",
    "      tf.keras.layers.Dense(1)\n",
    "  ])\n",
    "model.compile(optimizer='sgd', loss='mean_squared_error')\n",
    "model.fit(xs, ys, epochs=10)"
   ]
  },
  {
   "cell_type": "code",
   "execution_count": 36,
   "metadata": {
    "cell_id": "ecdcaf23d37142b79d1d26047db09b9b",
    "colab": {
     "base_uri": "https://localhost:8080/",
     "height": 303
    },
    "deepnote_cell_type": "code",
    "deepnote_to_be_reexecuted": true,
    "execution_millis": 4335,
    "execution_start": 1668135805151,
    "id": "kC2quMoHHGFF",
    "outputId": "1d7e8ce1-ee0f-4594-82b8-2aed1d79089b",
    "source_hash": "7dd658ba"
   },
   "outputs": [
    {
     "name": "stdout",
     "output_type": "stream",
     "text": [
      "3125/3125 [==============================] - 3s 1ms/step\n"
     ]
    },
    {
     "data": {
      "text/plain": [
       "[<matplotlib.lines.Line2D at 0x7f6de555aca0>]"
      ]
     },
     "execution_count": 36,
     "metadata": {},
     "output_type": "execute_result"
    },
    {
     "data": {
      "image/png": "[encoded data removed]",
      "text/plain": [
       "<Figure size 640x480 with 1 Axes>"
      ]
     },
     "metadata": {
      "image/png": {
       "height": 413,
       "width": 559
      }
     },
     "output_type": "display_data"
    }
   ],
   "source": [
    "t = np.random.uniform(0, 10, (100000))\n",
    "t.sort()\n",
    "t.reshape(-1, 1)\n",
    "plt.plot(xs, ys)\n",
    "plt.plot(t, model.predict(t))"
   ]
  },
  {
   "cell_type": "markdown",
   "metadata": {
    "cell_id": "ba0d7a059d4749f08d75a31be5c60959",
    "deepnote_cell_type": "markdown",
    "id": "tRNTb_8im6Jz"
   },
   "source": [
    "## Conclusion: Finally, NN is better (for non linear relationships and with many data points)."
   ]
  }
 ],
 "metadata": {
  "colab": {
   "collapsed_sections": [],
   "provenance": [],
   "toc_visible": true
  },
  "deepnote": {},
  "deepnote_execution_queue": [],
  "deepnote_notebook_id": "625a8c0902d54a458a4b820f4fc80c6b",
  "deepnote_persisted_session": {
   "createdAt": "2023-04-13T17:50:53.158Z"
  },
  "kernelspec": {
   "display_name": "Python 3 (ipykernel)",
   "language": "python",
   "name": "python3"
  },
  "language_info": {
   "codemirror_mode": {
    "name": "ipython",
    "version": 3
   },
   "file_extension": ".py",
   "mimetype": "text/x-python",
   "name": "python",
   "nbconvert_exporter": "python",
   "pygments_lexer": "ipython3",
   "version": "3.8.16"
  }
 },
 "nbformat": 4,
 "nbformat_minor": 4
}
