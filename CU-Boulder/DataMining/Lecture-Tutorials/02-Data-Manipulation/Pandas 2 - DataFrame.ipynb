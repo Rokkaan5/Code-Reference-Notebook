{
 "cells": [
  {
   "cell_type": "markdown",
   "metadata": {
    "cell_id": "e1ae5a140ea444efb788572f51a31f2c",
    "deepnote_app_coordinates": {
     "h": 5,
     "w": 12,
     "x": 0,
     "y": 1
    },
    "deepnote_cell_type": "markdown"
   },
   "source": [
    "# pandas DataFrame"
   ]
  },
  {
   "cell_type": "markdown",
   "metadata": {
    "cell_id": "77d06229615d446e9bed4d00adbcd09e",
    "deepnote_app_coordinates": {
     "h": 5,
     "w": 12,
     "x": 0,
     "y": 7
    },
    "deepnote_cell_type": "markdown"
   },
   "source": [
    "## Setup"
   ]
  },
  {
   "cell_type": "code",
   "execution_count": 1,
   "metadata": {
    "cell_id": "72771059bd88461ea294026529a75bbe",
    "deepnote_app_coordinates": {
     "h": 5,
     "w": 12,
     "x": 0,
     "y": 13
    },
    "deepnote_cell_type": "code",
    "deepnote_to_be_reexecuted": false,
    "execution_millis": 2,
    "execution_start": 1666898371804,
    "source_hash": "b7dcc9c8"
   },
   "outputs": [],
   "source": [
    "import numpy as np\n",
    "import pandas as pd"
   ]
  },
  {
   "cell_type": "markdown",
   "metadata": {
    "cell_id": "75d62b718236449bac47d98d5d39774e",
    "deepnote_app_coordinates": {
     "h": 5,
     "w": 12,
     "x": 0,
     "y": 19
    },
    "deepnote_cell_type": "markdown",
    "tags": []
   },
   "source": [
    "## Creation"
   ]
  },
  {
   "cell_type": "markdown",
   "metadata": {
    "cell_id": "70b9af07399748d3b02cfd12030c9dc0",
    "deepnote_app_coordinates": {
     "h": 5,
     "w": 12,
     "x": 0,
     "y": 25
    },
    "deepnote_cell_type": "markdown"
   },
   "source": [
    "### Create Simple DataFrame"
   ]
  },
  {
   "cell_type": "code",
   "execution_count": 2,
   "metadata": {
    "cell_id": "b6694dc180fd4abf91e4a5277b66329b",
    "deepnote_app_coordinates": {
     "h": 5,
     "w": 12,
     "x": 0,
     "y": 31
    },
    "deepnote_cell_type": "code",
    "deepnote_to_be_reexecuted": false,
    "execution_millis": 832,
    "execution_start": 1666898371808,
    "source_hash": "47d1a65d"
   },
   "outputs": [
    {
     "data": {
      "application/vnd.deepnote.dataframe.v3+json": {
       "column_count": 3,
       "columns": [
        {
         "dtype": "int64",
         "name": 0,
         "stats": {
          "histogram": [
           {
            "bin_end": 1.6,
            "bin_start": 1,
            "count": 1
           },
           {
            "bin_end": 2.2,
            "bin_start": 1.6,
            "count": 0
           },
           {
            "bin_end": 2.8,
            "bin_start": 2.2,
            "count": 0
           },
           {
            "bin_end": 3.4,
            "bin_start": 2.8,
            "count": 0
           },
           {
            "bin_end": 4,
            "bin_start": 3.4,
            "count": 0
           },
           {
            "bin_end": 4.6,
            "bin_start": 4,
            "count": 1
           },
           {
            "bin_end": 5.2,
            "bin_start": 4.6,
            "count": 0
           },
           {
            "bin_end": 5.8,
            "bin_start": 5.2,
            "count": 0
           },
           {
            "bin_end": 6.3999999999999995,
            "bin_start": 5.8,
            "count": 0
           },
           {
            "bin_end": 7,
            "bin_start": 6.3999999999999995,
            "count": 1
           }
          ],
          "max": "7",
          "min": "1",
          "nan_count": 0,
          "unique_count": 3
         }
        },
        {
         "dtype": "int64",
         "name": 1,
         "stats": {
          "histogram": [
           {
            "bin_end": 2.6,
            "bin_start": 2,
            "count": 1
           },
           {
            "bin_end": 3.2,
            "bin_start": 2.6,
            "count": 0
           },
           {
            "bin_end": 3.8,
            "bin_start": 3.2,
            "count": 0
           },
           {
            "bin_end": 4.4,
            "bin_start": 3.8,
            "count": 0
           },
           {
            "bin_end": 5,
            "bin_start": 4.4,
            "count": 0
           },
           {
            "bin_end": 5.6,
            "bin_start": 5,
            "count": 1
           },
           {
            "bin_end": 6.2,
            "bin_start": 5.6,
            "count": 0
           },
           {
            "bin_end": 6.8,
            "bin_start": 6.2,
            "count": 0
           },
           {
            "bin_end": 7.3999999999999995,
            "bin_start": 6.8,
            "count": 0
           },
           {
            "bin_end": 8,
            "bin_start": 7.3999999999999995,
            "count": 1
           }
          ],
          "max": "8",
          "min": "2",
          "nan_count": 0,
          "unique_count": 3
         }
        },
        {
         "dtype": "int64",
         "name": 2,
         "stats": {
          "histogram": [
           {
            "bin_end": 3.6,
            "bin_start": 3,
            "count": 1
           },
           {
            "bin_end": 4.2,
            "bin_start": 3.6,
            "count": 0
           },
           {
            "bin_end": 4.8,
            "bin_start": 4.2,
            "count": 0
           },
           {
            "bin_end": 5.4,
            "bin_start": 4.8,
            "count": 0
           },
           {
            "bin_end": 6,
            "bin_start": 5.4,
            "count": 0
           },
           {
            "bin_end": 6.6,
            "bin_start": 6,
            "count": 1
           },
           {
            "bin_end": 7.2,
            "bin_start": 6.6,
            "count": 0
           },
           {
            "bin_end": 7.8,
            "bin_start": 7.2,
            "count": 0
           },
           {
            "bin_end": 8.399999999999999,
            "bin_start": 7.8,
            "count": 0
           },
           {
            "bin_end": 9,
            "bin_start": 8.399999999999999,
            "count": 1
           }
          ],
          "max": "9",
          "min": "3",
          "nan_count": 0,
          "unique_count": 3
         }
        },
        {
         "dtype": "int64",
         "name": "_deepnote_index_column"
        }
       ],
       "row_count": 3,
       "rows": [
        {
         "0": "1",
         "1": "2",
         "2": "3",
         "_deepnote_index_column": "0"
        },
        {
         "0": "4",
         "1": "5",
         "2": "6",
         "_deepnote_index_column": "1"
        },
        {
         "0": "7",
         "1": "8",
         "2": "9",
         "_deepnote_index_column": "2"
        }
       ]
      },
      "text/html": [
       "<div>\n",
       "<style scoped>\n",
       "    .dataframe tbody tr th:only-of-type {\n",
       "        vertical-align: middle;\n",
       "    }\n",
       "\n",
       "    .dataframe tbody tr th {\n",
       "        vertical-align: top;\n",
       "    }\n",
       "\n",
       "    .dataframe thead th {\n",
       "        text-align: right;\n",
       "    }\n",
       "</style>\n",
       "<table border=\"1\" class=\"dataframe\">\n",
       "  <thead>\n",
       "    <tr style=\"text-align: right;\">\n",
       "      <th></th>\n",
       "      <th>0</th>\n",
       "      <th>1</th>\n",
       "      <th>2</th>\n",
       "    </tr>\n",
       "  </thead>\n",
       "  <tbody>\n",
       "    <tr>\n",
       "      <th>0</th>\n",
       "      <td>1</td>\n",
       "      <td>2</td>\n",
       "      <td>3</td>\n",
       "    </tr>\n",
       "    <tr>\n",
       "      <th>1</th>\n",
       "      <td>4</td>\n",
       "      <td>5</td>\n",
       "      <td>6</td>\n",
       "    </tr>\n",
       "    <tr>\n",
       "      <th>2</th>\n",
       "      <td>7</td>\n",
       "      <td>8</td>\n",
       "      <td>9</td>\n",
       "    </tr>\n",
       "  </tbody>\n",
       "</table>\n",
       "</div>"
      ],
      "text/plain": [
       "   0  1  2\n",
       "0  1  2  3\n",
       "1  4  5  6\n",
       "2  7  8  9"
      ]
     },
     "execution_count": 2,
     "metadata": {},
     "output_type": "execute_result"
    }
   ],
   "source": [
    "mda = np.array([\n",
    "        [1, 2, 3],\n",
    "        [4, 5, 6],\n",
    "        [7, 8, 9]\n",
    "    ])\n",
    "df1 = pd.DataFrame(mda)\n",
    "df1"
   ]
  },
  {
   "cell_type": "code",
   "execution_count": 3,
   "metadata": {
    "cell_id": "c504ca7809874d06a83d8db5e4e320cb",
    "deepnote_app_coordinates": {
     "h": 5,
     "w": 12,
     "x": 0,
     "y": 37
    },
    "deepnote_cell_type": "code",
    "deepnote_to_be_reexecuted": false,
    "execution_millis": 775,
    "execution_start": 1666898371866,
    "scrolled": true,
    "source_hash": "54de600f"
   },
   "outputs": [
    {
     "data": {
      "application/vnd.deepnote.dataframe.v3+json": {
       "column_count": 3,
       "columns": [
        {
         "dtype": "int64",
         "name": "A",
         "stats": {
          "histogram": [
           {
            "bin_end": 1.6,
            "bin_start": 1,
            "count": 1
           },
           {
            "bin_end": 2.2,
            "bin_start": 1.6,
            "count": 0
           },
           {
            "bin_end": 2.8,
            "bin_start": 2.2,
            "count": 0
           },
           {
            "bin_end": 3.4,
            "bin_start": 2.8,
            "count": 0
           },
           {
            "bin_end": 4,
            "bin_start": 3.4,
            "count": 0
           },
           {
            "bin_end": 4.6,
            "bin_start": 4,
            "count": 1
           },
           {
            "bin_end": 5.2,
            "bin_start": 4.6,
            "count": 0
           },
           {
            "bin_end": 5.8,
            "bin_start": 5.2,
            "count": 0
           },
           {
            "bin_end": 6.3999999999999995,
            "bin_start": 5.8,
            "count": 0
           },
           {
            "bin_end": 7,
            "bin_start": 6.3999999999999995,
            "count": 1
           }
          ],
          "max": "7",
          "min": "1",
          "nan_count": 0,
          "unique_count": 3
         }
        },
        {
         "dtype": "int64",
         "name": "B",
         "stats": {
          "histogram": [
           {
            "bin_end": 2.6,
            "bin_start": 2,
            "count": 1
           },
           {
            "bin_end": 3.2,
            "bin_start": 2.6,
            "count": 0
           },
           {
            "bin_end": 3.8,
            "bin_start": 3.2,
            "count": 0
           },
           {
            "bin_end": 4.4,
            "bin_start": 3.8,
            "count": 0
           },
           {
            "bin_end": 5,
            "bin_start": 4.4,
            "count": 0
           },
           {
            "bin_end": 5.6,
            "bin_start": 5,
            "count": 1
           },
           {
            "bin_end": 6.2,
            "bin_start": 5.6,
            "count": 0
           },
           {
            "bin_end": 6.8,
            "bin_start": 6.2,
            "count": 0
           },
           {
            "bin_end": 7.3999999999999995,
            "bin_start": 6.8,
            "count": 0
           },
           {
            "bin_end": 8,
            "bin_start": 7.3999999999999995,
            "count": 1
           }
          ],
          "max": "8",
          "min": "2",
          "nan_count": 0,
          "unique_count": 3
         }
        },
        {
         "dtype": "int64",
         "name": "C",
         "stats": {
          "histogram": [
           {
            "bin_end": 3.6,
            "bin_start": 3,
            "count": 1
           },
           {
            "bin_end": 4.2,
            "bin_start": 3.6,
            "count": 0
           },
           {
            "bin_end": 4.8,
            "bin_start": 4.2,
            "count": 0
           },
           {
            "bin_end": 5.4,
            "bin_start": 4.8,
            "count": 0
           },
           {
            "bin_end": 6,
            "bin_start": 5.4,
            "count": 0
           },
           {
            "bin_end": 6.6,
            "bin_start": 6,
            "count": 1
           },
           {
            "bin_end": 7.2,
            "bin_start": 6.6,
            "count": 0
           },
           {
            "bin_end": 7.8,
            "bin_start": 7.2,
            "count": 0
           },
           {
            "bin_end": 8.399999999999999,
            "bin_start": 7.8,
            "count": 0
           },
           {
            "bin_end": 9,
            "bin_start": 8.399999999999999,
            "count": 1
           }
          ],
          "max": "9",
          "min": "3",
          "nan_count": 0,
          "unique_count": 3
         }
        },
        {
         "dtype": "int64",
         "name": "_deepnote_index_column"
        }
       ],
       "row_count": 3,
       "rows": [
        {
         "A": "1",
         "B": "2",
         "C": "3",
         "_deepnote_index_column": "0"
        },
        {
         "A": "4",
         "B": "5",
         "C": "6",
         "_deepnote_index_column": "1"
        },
        {
         "A": "7",
         "B": "8",
         "C": "9",
         "_deepnote_index_column": "2"
        }
       ]
      },
      "text/html": [
       "<div>\n",
       "<style scoped>\n",
       "    .dataframe tbody tr th:only-of-type {\n",
       "        vertical-align: middle;\n",
       "    }\n",
       "\n",
       "    .dataframe tbody tr th {\n",
       "        vertical-align: top;\n",
       "    }\n",
       "\n",
       "    .dataframe thead th {\n",
       "        text-align: right;\n",
       "    }\n",
       "</style>\n",
       "<table border=\"1\" class=\"dataframe\">\n",
       "  <thead>\n",
       "    <tr style=\"text-align: right;\">\n",
       "      <th></th>\n",
       "      <th>A</th>\n",
       "      <th>B</th>\n",
       "      <th>C</th>\n",
       "    </tr>\n",
       "  </thead>\n",
       "  <tbody>\n",
       "    <tr>\n",
       "      <th>0</th>\n",
       "      <td>1</td>\n",
       "      <td>2</td>\n",
       "      <td>3</td>\n",
       "    </tr>\n",
       "    <tr>\n",
       "      <th>1</th>\n",
       "      <td>4</td>\n",
       "      <td>5</td>\n",
       "      <td>6</td>\n",
       "    </tr>\n",
       "    <tr>\n",
       "      <th>2</th>\n",
       "      <td>7</td>\n",
       "      <td>8</td>\n",
       "      <td>9</td>\n",
       "    </tr>\n",
       "  </tbody>\n",
       "</table>\n",
       "</div>"
      ],
      "text/plain": [
       "   A  B  C\n",
       "0  1  2  3\n",
       "1  4  5  6\n",
       "2  7  8  9"
      ]
     },
     "execution_count": 3,
     "metadata": {},
     "output_type": "execute_result"
    }
   ],
   "source": [
    "df1.columns=['A','B','C']\n",
    "df1"
   ]
  },
  {
   "cell_type": "code",
   "execution_count": 4,
   "metadata": {
    "cell_id": "6c8c2a5329804ecab340abe4b68da037",
    "deepnote_app_coordinates": {
     "h": 5,
     "w": 12,
     "x": 0,
     "y": 43
    },
    "deepnote_cell_type": "code",
    "deepnote_to_be_reexecuted": false,
    "execution_millis": 774,
    "execution_start": 1666898371867,
    "source_hash": "efcd3f65",
    "tags": []
   },
   "outputs": [
    {
     "data": {
      "application/vnd.deepnote.dataframe.v3+json": {
       "column_count": 3,
       "columns": [
        {
         "dtype": "int64",
         "name": "A",
         "stats": {
          "histogram": [
           {
            "bin_end": 1.6,
            "bin_start": 1,
            "count": 1
           },
           {
            "bin_end": 2.2,
            "bin_start": 1.6,
            "count": 0
           },
           {
            "bin_end": 2.8,
            "bin_start": 2.2,
            "count": 0
           },
           {
            "bin_end": 3.4,
            "bin_start": 2.8,
            "count": 0
           },
           {
            "bin_end": 4,
            "bin_start": 3.4,
            "count": 0
           },
           {
            "bin_end": 4.6,
            "bin_start": 4,
            "count": 1
           },
           {
            "bin_end": 5.2,
            "bin_start": 4.6,
            "count": 0
           },
           {
            "bin_end": 5.8,
            "bin_start": 5.2,
            "count": 0
           },
           {
            "bin_end": 6.3999999999999995,
            "bin_start": 5.8,
            "count": 0
           },
           {
            "bin_end": 7,
            "bin_start": 6.3999999999999995,
            "count": 1
           }
          ],
          "max": "7",
          "min": "1",
          "nan_count": 0,
          "unique_count": 3
         }
        },
        {
         "dtype": "int64",
         "name": "B",
         "stats": {
          "histogram": [
           {
            "bin_end": 2.6,
            "bin_start": 2,
            "count": 1
           },
           {
            "bin_end": 3.2,
            "bin_start": 2.6,
            "count": 0
           },
           {
            "bin_end": 3.8,
            "bin_start": 3.2,
            "count": 0
           },
           {
            "bin_end": 4.4,
            "bin_start": 3.8,
            "count": 0
           },
           {
            "bin_end": 5,
            "bin_start": 4.4,
            "count": 0
           },
           {
            "bin_end": 5.6,
            "bin_start": 5,
            "count": 1
           },
           {
            "bin_end": 6.2,
            "bin_start": 5.6,
            "count": 0
           },
           {
            "bin_end": 6.8,
            "bin_start": 6.2,
            "count": 0
           },
           {
            "bin_end": 7.3999999999999995,
            "bin_start": 6.8,
            "count": 0
           },
           {
            "bin_end": 8,
            "bin_start": 7.3999999999999995,
            "count": 1
           }
          ],
          "max": "8",
          "min": "2",
          "nan_count": 0,
          "unique_count": 3
         }
        },
        {
         "dtype": "int64",
         "name": "C",
         "stats": {
          "histogram": [
           {
            "bin_end": 3.6,
            "bin_start": 3,
            "count": 1
           },
           {
            "bin_end": 4.2,
            "bin_start": 3.6,
            "count": 0
           },
           {
            "bin_end": 4.8,
            "bin_start": 4.2,
            "count": 0
           },
           {
            "bin_end": 5.4,
            "bin_start": 4.8,
            "count": 0
           },
           {
            "bin_end": 6,
            "bin_start": 5.4,
            "count": 0
           },
           {
            "bin_end": 6.6,
            "bin_start": 6,
            "count": 1
           },
           {
            "bin_end": 7.2,
            "bin_start": 6.6,
            "count": 0
           },
           {
            "bin_end": 7.8,
            "bin_start": 7.2,
            "count": 0
           },
           {
            "bin_end": 8.399999999999999,
            "bin_start": 7.8,
            "count": 0
           },
           {
            "bin_end": 9,
            "bin_start": 8.399999999999999,
            "count": 1
           }
          ],
          "max": "9",
          "min": "3",
          "nan_count": 0,
          "unique_count": 3
         }
        },
        {
         "dtype": "int64",
         "name": "_deepnote_index_column"
        }
       ],
       "row_count": 3,
       "rows": [
        {
         "A": "1",
         "B": "2",
         "C": "3",
         "_deepnote_index_column": "1"
        },
        {
         "A": "4",
         "B": "5",
         "C": "6",
         "_deepnote_index_column": "2"
        },
        {
         "A": "7",
         "B": "8",
         "C": "9",
         "_deepnote_index_column": "3"
        }
       ]
      },
      "text/html": [
       "<div>\n",
       "<style scoped>\n",
       "    .dataframe tbody tr th:only-of-type {\n",
       "        vertical-align: middle;\n",
       "    }\n",
       "\n",
       "    .dataframe tbody tr th {\n",
       "        vertical-align: top;\n",
       "    }\n",
       "\n",
       "    .dataframe thead th {\n",
       "        text-align: right;\n",
       "    }\n",
       "</style>\n",
       "<table border=\"1\" class=\"dataframe\">\n",
       "  <thead>\n",
       "    <tr style=\"text-align: right;\">\n",
       "      <th></th>\n",
       "      <th>A</th>\n",
       "      <th>B</th>\n",
       "      <th>C</th>\n",
       "    </tr>\n",
       "  </thead>\n",
       "  <tbody>\n",
       "    <tr>\n",
       "      <th>1</th>\n",
       "      <td>1</td>\n",
       "      <td>2</td>\n",
       "      <td>3</td>\n",
       "    </tr>\n",
       "    <tr>\n",
       "      <th>2</th>\n",
       "      <td>4</td>\n",
       "      <td>5</td>\n",
       "      <td>6</td>\n",
       "    </tr>\n",
       "    <tr>\n",
       "      <th>3</th>\n",
       "      <td>7</td>\n",
       "      <td>8</td>\n",
       "      <td>9</td>\n",
       "    </tr>\n",
       "  </tbody>\n",
       "</table>\n",
       "</div>"
      ],
      "text/plain": [
       "   A  B  C\n",
       "1  1  2  3\n",
       "2  4  5  6\n",
       "3  7  8  9"
      ]
     },
     "execution_count": 4,
     "metadata": {},
     "output_type": "execute_result"
    }
   ],
   "source": [
    "df1.index=np.arange(1,len(df1)+1)\n",
    "df1"
   ]
  },
  {
   "cell_type": "code",
   "execution_count": 5,
   "metadata": {
    "cell_id": "c9fad40059eb4148bc44aa4f132d2f4c",
    "deepnote_app_coordinates": {
     "h": 5,
     "w": 12,
     "x": 0,
     "y": 49
    },
    "deepnote_cell_type": "code",
    "deepnote_to_be_reexecuted": false,
    "execution_millis": 737,
    "execution_start": 1666898371905,
    "source_hash": "4280cd22"
   },
   "outputs": [
    {
     "data": {
      "application/vnd.deepnote.dataframe.v3+json": {
       "column_count": 3,
       "columns": [
        {
         "dtype": "int64",
         "name": "A",
         "stats": {
          "histogram": [
           {
            "bin_end": 1.6,
            "bin_start": 1,
            "count": 1
           },
           {
            "bin_end": 2.2,
            "bin_start": 1.6,
            "count": 0
           },
           {
            "bin_end": 2.8,
            "bin_start": 2.2,
            "count": 0
           },
           {
            "bin_end": 3.4,
            "bin_start": 2.8,
            "count": 0
           },
           {
            "bin_end": 4,
            "bin_start": 3.4,
            "count": 0
           },
           {
            "bin_end": 4.6,
            "bin_start": 4,
            "count": 1
           },
           {
            "bin_end": 5.2,
            "bin_start": 4.6,
            "count": 0
           },
           {
            "bin_end": 5.8,
            "bin_start": 5.2,
            "count": 0
           },
           {
            "bin_end": 6.3999999999999995,
            "bin_start": 5.8,
            "count": 0
           },
           {
            "bin_end": 7,
            "bin_start": 6.3999999999999995,
            "count": 1
           }
          ],
          "max": "7",
          "min": "1",
          "nan_count": 0,
          "unique_count": 3
         }
        },
        {
         "dtype": "int64",
         "name": "B",
         "stats": {
          "histogram": [
           {
            "bin_end": 2.6,
            "bin_start": 2,
            "count": 1
           },
           {
            "bin_end": 3.2,
            "bin_start": 2.6,
            "count": 0
           },
           {
            "bin_end": 3.8,
            "bin_start": 3.2,
            "count": 0
           },
           {
            "bin_end": 4.4,
            "bin_start": 3.8,
            "count": 0
           },
           {
            "bin_end": 5,
            "bin_start": 4.4,
            "count": 0
           },
           {
            "bin_end": 5.6,
            "bin_start": 5,
            "count": 1
           },
           {
            "bin_end": 6.2,
            "bin_start": 5.6,
            "count": 0
           },
           {
            "bin_end": 6.8,
            "bin_start": 6.2,
            "count": 0
           },
           {
            "bin_end": 7.3999999999999995,
            "bin_start": 6.8,
            "count": 0
           },
           {
            "bin_end": 8,
            "bin_start": 7.3999999999999995,
            "count": 1
           }
          ],
          "max": "8",
          "min": "2",
          "nan_count": 0,
          "unique_count": 3
         }
        },
        {
         "dtype": "int64",
         "name": "C",
         "stats": {
          "histogram": [
           {
            "bin_end": 3.6,
            "bin_start": 3,
            "count": 1
           },
           {
            "bin_end": 4.2,
            "bin_start": 3.6,
            "count": 0
           },
           {
            "bin_end": 4.8,
            "bin_start": 4.2,
            "count": 0
           },
           {
            "bin_end": 5.4,
            "bin_start": 4.8,
            "count": 0
           },
           {
            "bin_end": 6,
            "bin_start": 5.4,
            "count": 0
           },
           {
            "bin_end": 6.6,
            "bin_start": 6,
            "count": 1
           },
           {
            "bin_end": 7.2,
            "bin_start": 6.6,
            "count": 0
           },
           {
            "bin_end": 7.8,
            "bin_start": 7.2,
            "count": 0
           },
           {
            "bin_end": 8.399999999999999,
            "bin_start": 7.8,
            "count": 0
           },
           {
            "bin_end": 9,
            "bin_start": 8.399999999999999,
            "count": 1
           }
          ],
          "max": "9",
          "min": "3",
          "nan_count": 0,
          "unique_count": 3
         }
        },
        {
         "dtype": "int64",
         "name": "_deepnote_index_column"
        }
       ],
       "row_count": 3,
       "rows": [
        {
         "A": "1",
         "B": "2",
         "C": "3",
         "_deepnote_index_column": "1"
        },
        {
         "A": "4",
         "B": "5",
         "C": "6",
         "_deepnote_index_column": "2"
        },
        {
         "A": "7",
         "B": "8",
         "C": "9",
         "_deepnote_index_column": "3"
        }
       ]
      },
      "text/html": [
       "<div>\n",
       "<style scoped>\n",
       "    .dataframe tbody tr th:only-of-type {\n",
       "        vertical-align: middle;\n",
       "    }\n",
       "\n",
       "    .dataframe tbody tr th {\n",
       "        vertical-align: top;\n",
       "    }\n",
       "\n",
       "    .dataframe thead th {\n",
       "        text-align: right;\n",
       "    }\n",
       "</style>\n",
       "<table border=\"1\" class=\"dataframe\">\n",
       "  <thead>\n",
       "    <tr style=\"text-align: right;\">\n",
       "      <th></th>\n",
       "      <th>A</th>\n",
       "      <th>B</th>\n",
       "      <th>C</th>\n",
       "    </tr>\n",
       "  </thead>\n",
       "  <tbody>\n",
       "    <tr>\n",
       "      <th>1</th>\n",
       "      <td>1</td>\n",
       "      <td>2</td>\n",
       "      <td>3</td>\n",
       "    </tr>\n",
       "    <tr>\n",
       "      <th>2</th>\n",
       "      <td>4</td>\n",
       "      <td>5</td>\n",
       "      <td>6</td>\n",
       "    </tr>\n",
       "    <tr>\n",
       "      <th>3</th>\n",
       "      <td>7</td>\n",
       "      <td>8</td>\n",
       "      <td>9</td>\n",
       "    </tr>\n",
       "  </tbody>\n",
       "</table>\n",
       "</div>"
      ],
      "text/plain": [
       "   A  B  C\n",
       "1  1  2  3\n",
       "2  4  5  6\n",
       "3  7  8  9"
      ]
     },
     "execution_count": 5,
     "metadata": {},
     "output_type": "execute_result"
    }
   ],
   "source": [
    "df2 = pd.DataFrame(mda, columns=['A','B','C'], index=np.arange(1,len(mda)+1) )\n",
    "df2"
   ]
  },
  {
   "cell_type": "markdown",
   "metadata": {
    "cell_id": "55032bef305f4aaaa7c08360476acd4e",
    "deepnote_app_coordinates": {
     "h": 5,
     "w": 12,
     "x": 0,
     "y": 55
    },
    "deepnote_cell_type": "markdown"
   },
   "source": [
    "### Create DataFrame using Series as Rows"
   ]
  },
  {
   "cell_type": "code",
   "execution_count": 43,
   "metadata": {
    "cell_id": "88f544a026d1429a9573fdfd3582d293",
    "deepnote_app_coordinates": {
     "h": 5,
     "w": 12,
     "x": 0,
     "y": 61
    },
    "deepnote_cell_type": "code",
    "deepnote_to_be_reexecuted": false,
    "execution_millis": 1242,
    "execution_start": 1666898899977,
    "source_hash": "30264a6f"
   },
   "outputs": [
    {
     "ename": "TypeError",
     "evalue": "__init__() got an unexpected keyword argument 'axis'",
     "output_type": "error",
     "traceback": [
      "\u001b[0;31m---------------------------------------------------------------------------\u001b[0m",
      "\u001b[0;31mTypeError\u001b[0m                                 Traceback (most recent call last)",
      "Cell \u001b[0;32mIn [43], line 5\u001b[0m\n\u001b[1;32m      2\u001b[0m places \u001b[38;5;241m=\u001b[39m pd\u001b[38;5;241m.\u001b[39mSeries([\u001b[38;5;124m'\u001b[39m\u001b[38;5;124mAlington\u001b[39m\u001b[38;5;124m'\u001b[39m,\u001b[38;5;124m'\u001b[39m\u001b[38;5;124mBoston\u001b[39m\u001b[38;5;124m'\u001b[39m,\u001b[38;5;124m'\u001b[39m\u001b[38;5;124mCleveland\u001b[39m\u001b[38;5;124m'\u001b[39m], index\u001b[38;5;241m=\u001b[39m[\u001b[38;5;124m'\u001b[39m\u001b[38;5;124mA\u001b[39m\u001b[38;5;124m'\u001b[39m,\u001b[38;5;124m'\u001b[39m\u001b[38;5;124mB\u001b[39m\u001b[38;5;124m'\u001b[39m,\u001b[38;5;124m'\u001b[39m\u001b[38;5;124mC\u001b[39m\u001b[38;5;124m'\u001b[39m])\n\u001b[1;32m      3\u001b[0m things \u001b[38;5;241m=\u001b[39m pd\u001b[38;5;241m.\u001b[39mSeries([\u001b[38;5;124m'\u001b[39m\u001b[38;5;124mApple\u001b[39m\u001b[38;5;124m'\u001b[39m,\u001b[38;5;124m'\u001b[39m\u001b[38;5;124mBanana\u001b[39m\u001b[38;5;124m'\u001b[39m,\u001b[38;5;124m'\u001b[39m\u001b[38;5;124mCar\u001b[39m\u001b[38;5;124m'\u001b[39m], index\u001b[38;5;241m=\u001b[39m[\u001b[38;5;124m'\u001b[39m\u001b[38;5;124mA\u001b[39m\u001b[38;5;124m'\u001b[39m,\u001b[38;5;124m'\u001b[39m\u001b[38;5;124mB\u001b[39m\u001b[38;5;124m'\u001b[39m,\u001b[38;5;124m'\u001b[39m\u001b[38;5;124mC\u001b[39m\u001b[38;5;124m'\u001b[39m])\n\u001b[0;32m----> 5\u001b[0m df3 \u001b[38;5;241m=\u001b[39m \u001b[43mpd\u001b[49m\u001b[38;5;241;43m.\u001b[39;49m\u001b[43mDataFrame\u001b[49m\u001b[43m(\u001b[49m\u001b[43m[\u001b[49m\u001b[43mpeople\u001b[49m\u001b[43m,\u001b[49m\u001b[43m \u001b[49m\u001b[43mplaces\u001b[49m\u001b[43m,\u001b[49m\u001b[43m \u001b[49m\u001b[43mthings\u001b[49m\u001b[43m]\u001b[49m\u001b[43m,\u001b[49m\u001b[43m \u001b[49m\u001b[43maxis\u001b[49m\u001b[43m \u001b[49m\u001b[38;5;241;43m=\u001b[39;49m\u001b[43m \u001b[49m\u001b[38;5;241;43m1\u001b[39;49m\u001b[43m)\u001b[49m\n\u001b[1;32m      6\u001b[0m df3\n",
      "\u001b[0;31mTypeError\u001b[0m: __init__() got an unexpected keyword argument 'axis'"
     ]
    }
   ],
   "source": [
    "people = pd.Series(['Aaron','Brian','Christine','Di'], index=['A','B','C','D'])\n",
    "places = pd.Series(['Alington','Boston','Cleveland'], index=['A','B','C'])\n",
    "things = pd.Series(['Apple','Banana','Car'], index=['A','B','C'])\n",
    "\n",
    "df3 = pd.DataFrame([people, places, things])\n",
    "df3"
   ]
  },
  {
   "cell_type": "code",
   "execution_count": 7,
   "metadata": {
    "cell_id": "f131f09366b24f40b24173b35c45c3c9",
    "deepnote_app_coordinates": {
     "h": 5,
     "w": 12,
     "x": 0,
     "y": 67
    },
    "deepnote_cell_type": "code",
    "deepnote_to_be_reexecuted": false,
    "execution_millis": 728,
    "execution_start": 1666898371916,
    "source_hash": "fcdcd1f2"
   },
   "outputs": [
    {
     "data": {
      "application/vnd.deepnote.dataframe.v3+json": {
       "column_count": 3,
       "columns": [
        {
         "dtype": "object",
         "name": "A",
         "stats": {
          "categories": [
           {
            "count": 1,
            "name": "Aaron"
           },
           {
            "count": 1,
            "name": "Alington"
           },
           {
            "count": 1,
            "name": "Apple"
           }
          ],
          "nan_count": 0,
          "unique_count": 3
         }
        },
        {
         "dtype": "object",
         "name": "B",
         "stats": {
          "categories": [
           {
            "count": 1,
            "name": "Brian"
           },
           {
            "count": 1,
            "name": "Boston"
           },
           {
            "count": 1,
            "name": "Banana"
           }
          ],
          "nan_count": 0,
          "unique_count": 3
         }
        },
        {
         "dtype": "object",
         "name": "D",
         "stats": {
          "categories": [
           {
            "count": 1,
            "name": "Di"
           },
           {
            "count": 2,
            "name": "Missing"
           }
          ],
          "nan_count": 2,
          "unique_count": 1
         }
        },
        {
         "dtype": "object",
         "name": "_deepnote_index_column"
        }
       ],
       "row_count": 3,
       "rows": [
        {
         "A": "Aaron",
         "B": "Brian",
         "D": "Di",
         "_deepnote_index_column": "People"
        },
        {
         "A": "Alington",
         "B": "Boston",
         "D": "nan",
         "_deepnote_index_column": "Place"
        },
        {
         "A": "Apple",
         "B": "Banana",
         "D": "nan",
         "_deepnote_index_column": "Thing"
        }
       ]
      },
      "text/html": [
       "<div>\n",
       "<style scoped>\n",
       "    .dataframe tbody tr th:only-of-type {\n",
       "        vertical-align: middle;\n",
       "    }\n",
       "\n",
       "    .dataframe tbody tr th {\n",
       "        vertical-align: top;\n",
       "    }\n",
       "\n",
       "    .dataframe thead th {\n",
       "        text-align: right;\n",
       "    }\n",
       "</style>\n",
       "<table border=\"1\" class=\"dataframe\">\n",
       "  <thead>\n",
       "    <tr style=\"text-align: right;\">\n",
       "      <th></th>\n",
       "      <th>A</th>\n",
       "      <th>B</th>\n",
       "      <th>D</th>\n",
       "    </tr>\n",
       "  </thead>\n",
       "  <tbody>\n",
       "    <tr>\n",
       "      <th>People</th>\n",
       "      <td>Aaron</td>\n",
       "      <td>Brian</td>\n",
       "      <td>Di</td>\n",
       "    </tr>\n",
       "    <tr>\n",
       "      <th>Place</th>\n",
       "      <td>Alington</td>\n",
       "      <td>Boston</td>\n",
       "      <td>NaN</td>\n",
       "    </tr>\n",
       "    <tr>\n",
       "      <th>Thing</th>\n",
       "      <td>Apple</td>\n",
       "      <td>Banana</td>\n",
       "      <td>NaN</td>\n",
       "    </tr>\n",
       "  </tbody>\n",
       "</table>\n",
       "</div>"
      ],
      "text/plain": [
       "               A       B    D\n",
       "People     Aaron   Brian   Di\n",
       "Place   Alington  Boston  NaN\n",
       "Thing      Apple  Banana  NaN"
      ]
     },
     "execution_count": 7,
     "metadata": {},
     "output_type": "execute_result"
    }
   ],
   "source": [
    "df4 = pd.DataFrame([people, places, things],\n",
    "                  index = ['People','Place','Thing'],\n",
    "                  columns = ['A','B','D'])\n",
    "df4"
   ]
  },
  {
   "cell_type": "markdown",
   "metadata": {
    "cell_id": "53cf691e6d5b483489bc2194e680abed",
    "deepnote_app_coordinates": {
     "h": 5,
     "w": 12,
     "x": 0,
     "y": 73
    },
    "deepnote_cell_type": "markdown"
   },
   "source": [
    "### Create DataFrame using concat()"
   ]
  },
  {
   "cell_type": "code",
   "execution_count": 8,
   "metadata": {
    "cell_id": "8558f1ddcb0b43aa9eaf3f5badc71ea8",
    "deepnote_app_coordinates": {
     "h": 5,
     "w": 12,
     "x": 0,
     "y": 79
    },
    "deepnote_cell_type": "code",
    "deepnote_table_loading": false,
    "deepnote_table_state": {
     "filters": [],
     "pageIndex": 7,
     "pageSize": 10,
     "sortBy": []
    },
    "deepnote_to_be_reexecuted": false,
    "execution_millis": 643,
    "execution_start": 1666898372004,
    "source_hash": "88b28732"
   },
   "outputs": [
    {
     "data": {
      "application/vnd.deepnote.dataframe.v3+json": {
       "column_count": 3,
       "columns": [
        {
         "dtype": "object",
         "name": "grades1",
         "stats": {
          "categories": [
           {
            "count": 37,
            "name": "B"
           },
           {
            "count": 63,
            "name": "4 others"
           },
           {
            "count": 100,
            "name": "Missing"
           }
          ],
          "nan_count": 100,
          "unique_count": 5
         }
        },
        {
         "dtype": "object",
         "name": "grades2",
         "stats": {
          "categories": [
           {
            "count": 20,
            "name": "A"
           },
           {
            "count": 30,
            "name": "3 others"
           },
           {
            "count": 150,
            "name": "Missing"
           }
          ],
          "nan_count": 150,
          "unique_count": 4
         }
        },
        {
         "dtype": "object",
         "name": "grades3",
         "stats": {
          "categories": [
           {
            "count": 90,
            "name": "b"
           },
           {
            "count": 52,
            "name": "c"
           },
           {
            "count": 58,
            "name": "3 others"
           }
          ],
          "nan_count": 0,
          "unique_count": 5
         }
        },
        {
         "dtype": "int64",
         "name": "_deepnote_index_column"
        }
       ],
       "row_count": 200,
       "rows": [
        {
         "_deepnote_index_column": "70",
         "grades1": "D",
         "grades2": "nan",
         "grades3": "b"
        },
        {
         "_deepnote_index_column": "71",
         "grades1": "A",
         "grades2": "nan",
         "grades3": "b"
        },
        {
         "_deepnote_index_column": "72",
         "grades1": "A",
         "grades2": "nan",
         "grades3": "a"
        },
        {
         "_deepnote_index_column": "73",
         "grades1": "C",
         "grades2": "nan",
         "grades3": "c"
        },
        {
         "_deepnote_index_column": "74",
         "grades1": "B",
         "grades2": "nan",
         "grades3": "b"
        },
        {
         "_deepnote_index_column": "75",
         "grades1": "A",
         "grades2": "nan",
         "grades3": "d"
        },
        {
         "_deepnote_index_column": "76",
         "grades1": "D",
         "grades2": "nan",
         "grades3": "b"
        },
        {
         "_deepnote_index_column": "77",
         "grades1": "B",
         "grades2": "nan",
         "grades3": "d"
        },
        {
         "_deepnote_index_column": "78",
         "grades1": "C",
         "grades2": "nan",
         "grades3": "c"
        },
        {
         "_deepnote_index_column": "79",
         "grades1": "C",
         "grades2": "nan",
         "grades3": "d"
        }
       ]
      },
      "text/html": [
       "<div>\n",
       "<style scoped>\n",
       "    .dataframe tbody tr th:only-of-type {\n",
       "        vertical-align: middle;\n",
       "    }\n",
       "\n",
       "    .dataframe tbody tr th {\n",
       "        vertical-align: top;\n",
       "    }\n",
       "\n",
       "    .dataframe thead th {\n",
       "        text-align: right;\n",
       "    }\n",
       "</style>\n",
       "<table border=\"1\" class=\"dataframe\">\n",
       "  <thead>\n",
       "    <tr style=\"text-align: right;\">\n",
       "      <th></th>\n",
       "      <th>grades1</th>\n",
       "      <th>grades2</th>\n",
       "      <th>grades3</th>\n",
       "    </tr>\n",
       "  </thead>\n",
       "  <tbody>\n",
       "    <tr>\n",
       "      <th>0</th>\n",
       "      <td>B</td>\n",
       "      <td>B</td>\n",
       "      <td>a</td>\n",
       "    </tr>\n",
       "    <tr>\n",
       "      <th>1</th>\n",
       "      <td>C</td>\n",
       "      <td>B</td>\n",
       "      <td>d</td>\n",
       "    </tr>\n",
       "    <tr>\n",
       "      <th>2</th>\n",
       "      <td>A</td>\n",
       "      <td>C</td>\n",
       "      <td>b</td>\n",
       "    </tr>\n",
       "    <tr>\n",
       "      <th>3</th>\n",
       "      <td>B</td>\n",
       "      <td>B</td>\n",
       "      <td>b</td>\n",
       "    </tr>\n",
       "    <tr>\n",
       "      <th>4</th>\n",
       "      <td>A</td>\n",
       "      <td>D</td>\n",
       "      <td>b</td>\n",
       "    </tr>\n",
       "    <tr>\n",
       "      <th>...</th>\n",
       "      <td>...</td>\n",
       "      <td>...</td>\n",
       "      <td>...</td>\n",
       "    </tr>\n",
       "    <tr>\n",
       "      <th>195</th>\n",
       "      <td>NaN</td>\n",
       "      <td>NaN</td>\n",
       "      <td>c</td>\n",
       "    </tr>\n",
       "    <tr>\n",
       "      <th>196</th>\n",
       "      <td>NaN</td>\n",
       "      <td>NaN</td>\n",
       "      <td>c</td>\n",
       "    </tr>\n",
       "    <tr>\n",
       "      <th>197</th>\n",
       "      <td>NaN</td>\n",
       "      <td>NaN</td>\n",
       "      <td>c</td>\n",
       "    </tr>\n",
       "    <tr>\n",
       "      <th>198</th>\n",
       "      <td>NaN</td>\n",
       "      <td>NaN</td>\n",
       "      <td>c</td>\n",
       "    </tr>\n",
       "    <tr>\n",
       "      <th>199</th>\n",
       "      <td>NaN</td>\n",
       "      <td>NaN</td>\n",
       "      <td>a</td>\n",
       "    </tr>\n",
       "  </tbody>\n",
       "</table>\n",
       "<p>200 rows × 3 columns</p>\n",
       "</div>"
      ],
      "text/plain": [
       "    grades1 grades2 grades3\n",
       "0         B       B       a\n",
       "1         C       B       d\n",
       "2         A       C       b\n",
       "3         B       B       b\n",
       "4         A       D       b\n",
       "..      ...     ...     ...\n",
       "195     NaN     NaN       c\n",
       "196     NaN     NaN       c\n",
       "197     NaN     NaN       c\n",
       "198     NaN     NaN       c\n",
       "199     NaN     NaN       a\n",
       "\n",
       "[200 rows x 3 columns]"
      ]
     },
     "execution_count": 8,
     "metadata": {},
     "output_type": "execute_result"
    }
   ],
   "source": [
    "np.random.seed(1)\n",
    "ar1 = np.random.choice(['A','B','C','D','F'], 100, p=[.2,.4,.3,.08,.02])\n",
    "ar2 = np.random.choice(['A','B','C','D','F'], 50, p=[.3,.4,.2,.1,0])\n",
    "ar3 = np.random.choice(['a','b','c','d','f'], 200, p=[.15,.45,.25,.13,.02])\n",
    "s1 = pd.Series(ar1)\n",
    "s2 = pd.Series(ar2)\n",
    "s3 = pd.Series(ar3)\n",
    "df5 = pd.concat([s1,s2,s3], axis=1)\n",
    "df5.columns=['grades1','grades2','grades3']\n",
    "df5"
   ]
  },
  {
   "cell_type": "markdown",
   "metadata": {
    "cell_id": "ca84eb2f5c0c4038ba4b8b2319d0ea90",
    "deepnote_app_coordinates": {
     "h": 5,
     "w": 12,
     "x": 0,
     "y": 85
    },
    "deepnote_cell_type": "markdown"
   },
   "source": [
    "### Create DataFrame from CSV "
   ]
  },
  {
   "cell_type": "code",
   "execution_count": 9,
   "metadata": {
    "cell_id": "a4d94137aca34107ab25fef7e65c025f",
    "deepnote_app_coordinates": {
     "h": 5,
     "w": 12,
     "x": 0,
     "y": 91
    },
    "deepnote_cell_type": "code",
    "deepnote_to_be_reexecuted": false,
    "execution_millis": 643,
    "execution_start": 1666898372005,
    "source_hash": "c2a1bee3"
   },
   "outputs": [
    {
     "data": {
      "application/vnd.deepnote.dataframe.v3+json": {
       "column_count": 12,
       "columns": [
        {
         "dtype": "int64",
         "name": "Unnamed: 0",
         "stats": {
          "histogram": [
           {
            "bin_end": 60.6,
            "bin_start": 0,
            "count": 61
           },
           {
            "bin_end": 121.2,
            "bin_start": 60.6,
            "count": 61
           },
           {
            "bin_end": 181.8,
            "bin_start": 121.2,
            "count": 60
           },
           {
            "bin_end": 242.4,
            "bin_start": 181.8,
            "count": 61
           },
           {
            "bin_end": 303,
            "bin_start": 242.4,
            "count": 60
           },
           {
            "bin_end": 363.6,
            "bin_start": 303,
            "count": 61
           },
           {
            "bin_end": 424.2,
            "bin_start": 363.6,
            "count": 61
           },
           {
            "bin_end": 484.8,
            "bin_start": 424.2,
            "count": 60
           },
           {
            "bin_end": 545.4,
            "bin_start": 484.8,
            "count": 61
           },
           {
            "bin_end": 606,
            "bin_start": 545.4,
            "count": 61
           }
          ],
          "max": "606",
          "min": "0",
          "nan_count": 0,
          "unique_count": 607
         }
        },
        {
         "dtype": "int64",
         "name": "work_year",
         "stats": {
          "histogram": [
           {
            "bin_end": 2020.2,
            "bin_start": 2020,
            "count": 72
           },
           {
            "bin_end": 2020.4,
            "bin_start": 2020.2,
            "count": 0
           },
           {
            "bin_end": 2020.6,
            "bin_start": 2020.4,
            "count": 0
           },
           {
            "bin_end": 2020.8,
            "bin_start": 2020.6,
            "count": 0
           },
           {
            "bin_end": 2021,
            "bin_start": 2020.8,
            "count": 0
           },
           {
            "bin_end": 2021.2,
            "bin_start": 2021,
            "count": 217
           },
           {
            "bin_end": 2021.4,
            "bin_start": 2021.2,
            "count": 0
           },
           {
            "bin_end": 2021.6,
            "bin_start": 2021.4,
            "count": 0
           },
           {
            "bin_end": 2021.8,
            "bin_start": 2021.6,
            "count": 0
           },
           {
            "bin_end": 2022,
            "bin_start": 2021.8,
            "count": 318
           }
          ],
          "max": "2022",
          "min": "2020",
          "nan_count": 0,
          "unique_count": 3
         }
        },
        {
         "dtype": "object",
         "name": "experience_level",
         "stats": {
          "categories": [
           {
            "count": 280,
            "name": "SE"
           },
           {
            "count": 213,
            "name": "MI"
           },
           {
            "count": 114,
            "name": "2 others"
           }
          ],
          "nan_count": 0,
          "unique_count": 4
         }
        },
        {
         "dtype": "object",
         "name": "employment_type",
         "stats": {
          "categories": [
           {
            "count": 588,
            "name": "FT"
           },
           {
            "count": 10,
            "name": "PT"
           },
           {
            "count": 9,
            "name": "2 others"
           }
          ],
          "nan_count": 0,
          "unique_count": 4
         }
        },
        {
         "dtype": "object",
         "name": "job_title",
         "stats": {
          "categories": [
           {
            "count": 143,
            "name": "Data Scientist"
           },
           {
            "count": 132,
            "name": "Data Engineer"
           },
           {
            "count": 332,
            "name": "48 others"
           }
          ],
          "nan_count": 0,
          "unique_count": 50
         }
        },
        {
         "dtype": "int64",
         "name": "salary",
         "stats": {
          "histogram": [
           {
            "bin_end": 3043600,
            "bin_start": 4000,
            "count": 597
           },
           {
            "bin_end": 6083200,
            "bin_start": 3043600,
            "count": 4
           },
           {
            "bin_end": 9122800,
            "bin_start": 6083200,
            "count": 3
           },
           {
            "bin_end": 12162400,
            "bin_start": 9122800,
            "count": 2
           },
           {
            "bin_end": 15202000,
            "bin_start": 12162400,
            "count": 0
           },
           {
            "bin_end": 18241600,
            "bin_start": 15202000,
            "count": 0
           },
           {
            "bin_end": 21281200,
            "bin_start": 18241600,
            "count": 0
           },
           {
            "bin_end": 24320800,
            "bin_start": 21281200,
            "count": 0
           },
           {
            "bin_end": 27360400,
            "bin_start": 24320800,
            "count": 0
           },
           {
            "bin_end": 30400000,
            "bin_start": 27360400,
            "count": 1
           }
          ],
          "max": "30400000",
          "min": "4000",
          "nan_count": 0,
          "unique_count": 272
         }
        },
        {
         "dtype": "object",
         "name": "salary_currency",
         "stats": {
          "categories": [
           {
            "count": 398,
            "name": "USD"
           },
           {
            "count": 95,
            "name": "EUR"
           },
           {
            "count": 114,
            "name": "15 others"
           }
          ],
          "nan_count": 0,
          "unique_count": 17
         }
        },
        {
         "dtype": "int64",
         "name": "salary_in_usd",
         "stats": {
          "histogram": [
           {
            "bin_end": 62573.1,
            "bin_start": 2859,
            "count": 149
           },
           {
            "bin_end": 122287.2,
            "bin_start": 62573.1,
            "count": 228
           },
           {
            "bin_end": 182001.3,
            "bin_start": 122287.2,
            "count": 149
           },
           {
            "bin_end": 241715.4,
            "bin_start": 182001.3,
            "count": 61
           },
           {
            "bin_end": 301429.5,
            "bin_start": 241715.4,
            "count": 10
           },
           {
            "bin_end": 361143.6,
            "bin_start": 301429.5,
            "count": 2
           },
           {
            "bin_end": 420857.7,
            "bin_start": 361143.6,
            "count": 4
           },
           {
            "bin_end": 480571.8,
            "bin_start": 420857.7,
            "count": 3
           },
           {
            "bin_end": 540285.9,
            "bin_start": 480571.8,
            "count": 0
           },
           {
            "bin_end": 600000,
            "bin_start": 540285.9,
            "count": 1
           }
          ],
          "max": "600000",
          "min": "2859",
          "nan_count": 0,
          "unique_count": 369
         }
        },
        {
         "dtype": "object",
         "name": "employee_residence",
         "stats": {
          "categories": [
           {
            "count": 332,
            "name": "US"
           },
           {
            "count": 44,
            "name": "GB"
           },
           {
            "count": 231,
            "name": "55 others"
           }
          ],
          "nan_count": 0,
          "unique_count": 57
         }
        },
        {
         "dtype": "int64",
         "name": "remote_ratio",
         "stats": {
          "histogram": [
           {
            "bin_end": 10,
            "bin_start": 0,
            "count": 127
           },
           {
            "bin_end": 20,
            "bin_start": 10,
            "count": 0
           },
           {
            "bin_end": 30,
            "bin_start": 20,
            "count": 0
           },
           {
            "bin_end": 40,
            "bin_start": 30,
            "count": 0
           },
           {
            "bin_end": 50,
            "bin_start": 40,
            "count": 0
           },
           {
            "bin_end": 60,
            "bin_start": 50,
            "count": 99
           },
           {
            "bin_end": 70,
            "bin_start": 60,
            "count": 0
           },
           {
            "bin_end": 80,
            "bin_start": 70,
            "count": 0
           },
           {
            "bin_end": 90,
            "bin_start": 80,
            "count": 0
           },
           {
            "bin_end": 100,
            "bin_start": 90,
            "count": 381
           }
          ],
          "max": "100",
          "min": "0",
          "nan_count": 0,
          "unique_count": 3
         }
        },
        {
         "dtype": "object",
         "name": "company_location",
         "stats": {
          "categories": [
           {
            "count": 355,
            "name": "US"
           },
           {
            "count": 47,
            "name": "GB"
           },
           {
            "count": 205,
            "name": "48 others"
           }
          ],
          "nan_count": 0,
          "unique_count": 50
         }
        },
        {
         "dtype": "object",
         "name": "company_size",
         "stats": {
          "categories": [
           {
            "count": 326,
            "name": "M"
           },
           {
            "count": 198,
            "name": "L"
           },
           {
            "count": 83,
            "name": "S"
           }
          ],
          "nan_count": 0,
          "unique_count": 3
         }
        },
        {
         "dtype": "int64",
         "name": "_deepnote_index_column"
        }
       ],
       "row_count": 607,
       "rows": [
        {
         "Unnamed: 0": "0",
         "_deepnote_index_column": "0",
         "company_location": "DE",
         "company_size": "L",
         "employee_residence": "DE",
         "employment_type": "FT",
         "experience_level": "MI",
         "job_title": "Data Scientist",
         "remote_ratio": "0",
         "salary": "70000",
         "salary_currency": "EUR",
         "salary_in_usd": "79833",
         "work_year": "2020"
        },
        {
         "Unnamed: 0": "1",
         "_deepnote_index_column": "1",
         "company_location": "JP",
         "company_size": "S",
         "employee_residence": "JP",
         "employment_type": "FT",
         "experience_level": "SE",
         "job_title": "Machine Learning Scientist",
         "remote_ratio": "0",
         "salary": "260000",
         "salary_currency": "USD",
         "salary_in_usd": "260000",
         "work_year": "2020"
        },
        {
         "Unnamed: 0": "2",
         "_deepnote_index_column": "2",
         "company_location": "GB",
         "company_size": "M",
         "employee_residence": "GB",
         "employment_type": "FT",
         "experience_level": "SE",
         "job_title": "Big Data Engineer",
         "remote_ratio": "50",
         "salary": "85000",
         "salary_currency": "GBP",
         "salary_in_usd": "109024",
         "work_year": "2020"
        },
        {
         "Unnamed: 0": "3",
         "_deepnote_index_column": "3",
         "company_location": "HN",
         "company_size": "S",
         "employee_residence": "HN",
         "employment_type": "FT",
         "experience_level": "MI",
         "job_title": "Product Data Analyst",
         "remote_ratio": "0",
         "salary": "20000",
         "salary_currency": "USD",
         "salary_in_usd": "20000",
         "work_year": "2020"
        },
        {
         "Unnamed: 0": "4",
         "_deepnote_index_column": "4",
         "company_location": "US",
         "company_size": "L",
         "employee_residence": "US",
         "employment_type": "FT",
         "experience_level": "SE",
         "job_title": "Machine Learning Engineer",
         "remote_ratio": "50",
         "salary": "150000",
         "salary_currency": "USD",
         "salary_in_usd": "150000",
         "work_year": "2020"
        },
        {
         "Unnamed: 0": "5",
         "_deepnote_index_column": "5",
         "company_location": "US",
         "company_size": "L",
         "employee_residence": "US",
         "employment_type": "FT",
         "experience_level": "EN",
         "job_title": "Data Analyst",
         "remote_ratio": "100",
         "salary": "72000",
         "salary_currency": "USD",
         "salary_in_usd": "72000",
         "work_year": "2020"
        },
        {
         "Unnamed: 0": "6",
         "_deepnote_index_column": "6",
         "company_location": "US",
         "company_size": "S",
         "employee_residence": "US",
         "employment_type": "FT",
         "experience_level": "SE",
         "job_title": "Lead Data Scientist",
         "remote_ratio": "100",
         "salary": "190000",
         "salary_currency": "USD",
         "salary_in_usd": "190000",
         "work_year": "2020"
        },
        {
         "Unnamed: 0": "7",
         "_deepnote_index_column": "7",
         "company_location": "HU",
         "company_size": "L",
         "employee_residence": "HU",
         "employment_type": "FT",
         "experience_level": "MI",
         "job_title": "Data Scientist",
         "remote_ratio": "50",
         "salary": "11000000",
         "salary_currency": "HUF",
         "salary_in_usd": "35735",
         "work_year": "2020"
        },
        {
         "Unnamed: 0": "8",
         "_deepnote_index_column": "8",
         "company_location": "US",
         "company_size": "L",
         "employee_residence": "US",
         "employment_type": "FT",
         "experience_level": "MI",
         "job_title": "Business Data Analyst",
         "remote_ratio": "100",
         "salary": "135000",
         "salary_currency": "USD",
         "salary_in_usd": "135000",
         "work_year": "2020"
        },
        {
         "Unnamed: 0": "9",
         "_deepnote_index_column": "9",
         "company_location": "NZ",
         "company_size": "S",
         "employee_residence": "NZ",
         "employment_type": "FT",
         "experience_level": "SE",
         "job_title": "Lead Data Engineer",
         "remote_ratio": "50",
         "salary": "125000",
         "salary_currency": "USD",
         "salary_in_usd": "125000",
         "work_year": "2020"
        }
       ]
      },
      "text/html": [
       "<div>\n",
       "<style scoped>\n",
       "    .dataframe tbody tr th:only-of-type {\n",
       "        vertical-align: middle;\n",
       "    }\n",
       "\n",
       "    .dataframe tbody tr th {\n",
       "        vertical-align: top;\n",
       "    }\n",
       "\n",
       "    .dataframe thead th {\n",
       "        text-align: right;\n",
       "    }\n",
       "</style>\n",
       "<table border=\"1\" class=\"dataframe\">\n",
       "  <thead>\n",
       "    <tr style=\"text-align: right;\">\n",
       "      <th></th>\n",
       "      <th>Unnamed: 0</th>\n",
       "      <th>work_year</th>\n",
       "      <th>experience_level</th>\n",
       "      <th>employment_type</th>\n",
       "      <th>job_title</th>\n",
       "      <th>salary</th>\n",
       "      <th>salary_currency</th>\n",
       "      <th>salary_in_usd</th>\n",
       "      <th>employee_residence</th>\n",
       "      <th>remote_ratio</th>\n",
       "      <th>company_location</th>\n",
       "      <th>company_size</th>\n",
       "    </tr>\n",
       "  </thead>\n",
       "  <tbody>\n",
       "    <tr>\n",
       "      <th>0</th>\n",
       "      <td>0</td>\n",
       "      <td>2020</td>\n",
       "      <td>MI</td>\n",
       "      <td>FT</td>\n",
       "      <td>Data Scientist</td>\n",
       "      <td>70000</td>\n",
       "      <td>EUR</td>\n",
       "      <td>79833</td>\n",
       "      <td>DE</td>\n",
       "      <td>0</td>\n",
       "      <td>DE</td>\n",
       "      <td>L</td>\n",
       "    </tr>\n",
       "    <tr>\n",
       "      <th>1</th>\n",
       "      <td>1</td>\n",
       "      <td>2020</td>\n",
       "      <td>SE</td>\n",
       "      <td>FT</td>\n",
       "      <td>Machine Learning Scientist</td>\n",
       "      <td>260000</td>\n",
       "      <td>USD</td>\n",
       "      <td>260000</td>\n",
       "      <td>JP</td>\n",
       "      <td>0</td>\n",
       "      <td>JP</td>\n",
       "      <td>S</td>\n",
       "    </tr>\n",
       "    <tr>\n",
       "      <th>2</th>\n",
       "      <td>2</td>\n",
       "      <td>2020</td>\n",
       "      <td>SE</td>\n",
       "      <td>FT</td>\n",
       "      <td>Big Data Engineer</td>\n",
       "      <td>85000</td>\n",
       "      <td>GBP</td>\n",
       "      <td>109024</td>\n",
       "      <td>GB</td>\n",
       "      <td>50</td>\n",
       "      <td>GB</td>\n",
       "      <td>M</td>\n",
       "    </tr>\n",
       "    <tr>\n",
       "      <th>3</th>\n",
       "      <td>3</td>\n",
       "      <td>2020</td>\n",
       "      <td>MI</td>\n",
       "      <td>FT</td>\n",
       "      <td>Product Data Analyst</td>\n",
       "      <td>20000</td>\n",
       "      <td>USD</td>\n",
       "      <td>20000</td>\n",
       "      <td>HN</td>\n",
       "      <td>0</td>\n",
       "      <td>HN</td>\n",
       "      <td>S</td>\n",
       "    </tr>\n",
       "    <tr>\n",
       "      <th>4</th>\n",
       "      <td>4</td>\n",
       "      <td>2020</td>\n",
       "      <td>SE</td>\n",
       "      <td>FT</td>\n",
       "      <td>Machine Learning Engineer</td>\n",
       "      <td>150000</td>\n",
       "      <td>USD</td>\n",
       "      <td>150000</td>\n",
       "      <td>US</td>\n",
       "      <td>50</td>\n",
       "      <td>US</td>\n",
       "      <td>L</td>\n",
       "    </tr>\n",
       "    <tr>\n",
       "      <th>...</th>\n",
       "      <td>...</td>\n",
       "      <td>...</td>\n",
       "      <td>...</td>\n",
       "      <td>...</td>\n",
       "      <td>...</td>\n",
       "      <td>...</td>\n",
       "      <td>...</td>\n",
       "      <td>...</td>\n",
       "      <td>...</td>\n",
       "      <td>...</td>\n",
       "      <td>...</td>\n",
       "      <td>...</td>\n",
       "    </tr>\n",
       "    <tr>\n",
       "      <th>602</th>\n",
       "      <td>602</td>\n",
       "      <td>2022</td>\n",
       "      <td>SE</td>\n",
       "      <td>FT</td>\n",
       "      <td>Data Engineer</td>\n",
       "      <td>154000</td>\n",
       "      <td>USD</td>\n",
       "      <td>154000</td>\n",
       "      <td>US</td>\n",
       "      <td>100</td>\n",
       "      <td>US</td>\n",
       "      <td>M</td>\n",
       "    </tr>\n",
       "    <tr>\n",
       "      <th>603</th>\n",
       "      <td>603</td>\n",
       "      <td>2022</td>\n",
       "      <td>SE</td>\n",
       "      <td>FT</td>\n",
       "      <td>Data Engineer</td>\n",
       "      <td>126000</td>\n",
       "      <td>USD</td>\n",
       "      <td>126000</td>\n",
       "      <td>US</td>\n",
       "      <td>100</td>\n",
       "      <td>US</td>\n",
       "      <td>M</td>\n",
       "    </tr>\n",
       "    <tr>\n",
       "      <th>604</th>\n",
       "      <td>604</td>\n",
       "      <td>2022</td>\n",
       "      <td>SE</td>\n",
       "      <td>FT</td>\n",
       "      <td>Data Analyst</td>\n",
       "      <td>129000</td>\n",
       "      <td>USD</td>\n",
       "      <td>129000</td>\n",
       "      <td>US</td>\n",
       "      <td>0</td>\n",
       "      <td>US</td>\n",
       "      <td>M</td>\n",
       "    </tr>\n",
       "    <tr>\n",
       "      <th>605</th>\n",
       "      <td>605</td>\n",
       "      <td>2022</td>\n",
       "      <td>SE</td>\n",
       "      <td>FT</td>\n",
       "      <td>Data Analyst</td>\n",
       "      <td>150000</td>\n",
       "      <td>USD</td>\n",
       "      <td>150000</td>\n",
       "      <td>US</td>\n",
       "      <td>100</td>\n",
       "      <td>US</td>\n",
       "      <td>M</td>\n",
       "    </tr>\n",
       "    <tr>\n",
       "      <th>606</th>\n",
       "      <td>606</td>\n",
       "      <td>2022</td>\n",
       "      <td>MI</td>\n",
       "      <td>FT</td>\n",
       "      <td>AI Scientist</td>\n",
       "      <td>200000</td>\n",
       "      <td>USD</td>\n",
       "      <td>200000</td>\n",
       "      <td>IN</td>\n",
       "      <td>100</td>\n",
       "      <td>US</td>\n",
       "      <td>L</td>\n",
       "    </tr>\n",
       "  </tbody>\n",
       "</table>\n",
       "<p>607 rows × 12 columns</p>\n",
       "</div>"
      ],
      "text/plain": [
       "     Unnamed: 0  work_year experience_level employment_type  \\\n",
       "0             0       2020               MI              FT   \n",
       "1             1       2020               SE              FT   \n",
       "2             2       2020               SE              FT   \n",
       "3             3       2020               MI              FT   \n",
       "4             4       2020               SE              FT   \n",
       "..          ...        ...              ...             ...   \n",
       "602         602       2022               SE              FT   \n",
       "603         603       2022               SE              FT   \n",
       "604         604       2022               SE              FT   \n",
       "605         605       2022               SE              FT   \n",
       "606         606       2022               MI              FT   \n",
       "\n",
       "                      job_title  salary salary_currency  salary_in_usd  \\\n",
       "0                Data Scientist   70000             EUR          79833   \n",
       "1    Machine Learning Scientist  260000             USD         260000   \n",
       "2             Big Data Engineer   85000             GBP         109024   \n",
       "3          Product Data Analyst   20000             USD          20000   \n",
       "4     Machine Learning Engineer  150000             USD         150000   \n",
       "..                          ...     ...             ...            ...   \n",
       "602               Data Engineer  154000             USD         154000   \n",
       "603               Data Engineer  126000             USD         126000   \n",
       "604                Data Analyst  129000             USD         129000   \n",
       "605                Data Analyst  150000             USD         150000   \n",
       "606                AI Scientist  200000             USD         200000   \n",
       "\n",
       "    employee_residence  remote_ratio company_location company_size  \n",
       "0                   DE             0               DE            L  \n",
       "1                   JP             0               JP            S  \n",
       "2                   GB            50               GB            M  \n",
       "3                   HN             0               HN            S  \n",
       "4                   US            50               US            L  \n",
       "..                 ...           ...              ...          ...  \n",
       "602                 US           100               US            M  \n",
       "603                 US           100               US            M  \n",
       "604                 US             0               US            M  \n",
       "605                 US           100               US            M  \n",
       "606                 IN           100               US            L  \n",
       "\n",
       "[607 rows x 12 columns]"
      ]
     },
     "execution_count": 9,
     "metadata": {},
     "output_type": "execute_result"
    }
   ],
   "source": [
    "df = pd.read_csv('/work/ds_salaries.csv')\n",
    "df"
   ]
  },
  {
   "cell_type": "markdown",
   "metadata": {
    "cell_id": "ffd89be5ce8f452f932fbe826ede9495",
    "deepnote_app_coordinates": {
     "h": 5,
     "w": 12,
     "x": 0,
     "y": 97
    },
    "deepnote_cell_type": "markdown",
    "tags": []
   },
   "source": [
    "## Properties"
   ]
  },
  {
   "cell_type": "markdown",
   "metadata": {
    "cell_id": "778e03cac5e84331adeae8d27e44595d",
    "deepnote_app_coordinates": {
     "h": 5,
     "w": 12,
     "x": 0,
     "y": 103
    },
    "deepnote_cell_type": "markdown"
   },
   "source": [
    "### Column Names and Row index"
   ]
  },
  {
   "cell_type": "code",
   "execution_count": 10,
   "metadata": {
    "cell_id": "7cf2b61dd80c457f9ecebe573ccfb4d2",
    "deepnote_app_coordinates": {
     "h": 5,
     "w": 12,
     "x": 0,
     "y": 109
    },
    "deepnote_cell_type": "code",
    "deepnote_to_be_reexecuted": false,
    "execution_millis": 641,
    "execution_start": 1666898372008,
    "source_hash": "25d43fa0"
   },
   "outputs": [
    {
     "data": {
      "text/plain": [
       "Index(['Unnamed: 0', 'work_year', 'experience_level', 'employment_type',\n",
       "       'job_title', 'salary', 'salary_currency', 'salary_in_usd',\n",
       "       'employee_residence', 'remote_ratio', 'company_location',\n",
       "       'company_size'],\n",
       "      dtype='object')"
      ]
     },
     "execution_count": 10,
     "metadata": {},
     "output_type": "execute_result"
    }
   ],
   "source": [
    "df.columns"
   ]
  },
  {
   "cell_type": "code",
   "execution_count": 11,
   "metadata": {
    "cell_id": "a06f58c7e296413681d8d2c9a5f261dd",
    "deepnote_app_coordinates": {
     "h": 5,
     "w": 12,
     "x": 0,
     "y": 115
    },
    "deepnote_cell_type": "code",
    "deepnote_to_be_reexecuted": false,
    "execution_millis": 598,
    "execution_start": 1666898372052,
    "scrolled": true,
    "source_hash": "651ad380"
   },
   "outputs": [
    {
     "data": {
      "text/plain": [
       "RangeIndex(start=0, stop=607, step=1)"
      ]
     },
     "execution_count": 11,
     "metadata": {},
     "output_type": "execute_result"
    }
   ],
   "source": [
    "df.index"
   ]
  },
  {
   "cell_type": "markdown",
   "metadata": {
    "cell_id": "5eddc78928754afdb0a8bb060e9560f4",
    "deepnote_app_coordinates": {
     "h": 5,
     "w": 12,
     "x": 0,
     "y": 121
    },
    "deepnote_cell_type": "markdown"
   },
   "source": [
    "### Shape"
   ]
  },
  {
   "cell_type": "code",
   "execution_count": 12,
   "metadata": {
    "cell_id": "8e0f2fed58094c44bd03a78cab90b473",
    "deepnote_app_coordinates": {
     "h": 5,
     "w": 12,
     "x": 0,
     "y": 127
    },
    "deepnote_cell_type": "code",
    "deepnote_to_be_reexecuted": false,
    "execution_millis": 598,
    "execution_start": 1666898372053,
    "source_hash": "14f60b8f"
   },
   "outputs": [
    {
     "data": {
      "text/plain": [
       "(607, 12)"
      ]
     },
     "execution_count": 12,
     "metadata": {},
     "output_type": "execute_result"
    }
   ],
   "source": [
    "df.shape"
   ]
  },
  {
   "cell_type": "markdown",
   "metadata": {
    "cell_id": "308d2c6b6dbe4ebd88f0bcfd9f3d33ae",
    "deepnote_app_coordinates": {
     "h": 5,
     "w": 12,
     "x": 0,
     "y": 133
    },
    "deepnote_cell_type": "markdown"
   },
   "source": [
    "### Number of Columns and Rows"
   ]
  },
  {
   "cell_type": "code",
   "execution_count": 13,
   "metadata": {
    "cell_id": "b224093bb3d84f0b84f67484f86740b3",
    "deepnote_app_coordinates": {
     "h": 5,
     "w": 12,
     "x": 0,
     "y": 139
    },
    "deepnote_cell_type": "code",
    "deepnote_to_be_reexecuted": false,
    "execution_millis": 596,
    "execution_start": 1666898372055,
    "source_hash": "cbd7a580"
   },
   "outputs": [
    {
     "data": {
      "text/plain": [
       "(607, 12)"
      ]
     },
     "execution_count": 13,
     "metadata": {},
     "output_type": "execute_result"
    }
   ],
   "source": [
    "num_rows = len(df)\n",
    "num_cols = len(df.columns)\n",
    "num_rows, num_cols"
   ]
  },
  {
   "cell_type": "markdown",
   "metadata": {
    "cell_id": "7497cb5e88234c1aa4e776cb253588f3",
    "deepnote_app_coordinates": {
     "h": 5,
     "w": 12,
     "x": 0,
     "y": 145
    },
    "deepnote_cell_type": "markdown",
    "tags": []
   },
   "source": [
    "## Access"
   ]
  },
  {
   "cell_type": "markdown",
   "metadata": {
    "cell_id": "5e3ac58609fc42d0b5001a08693416f2",
    "deepnote_app_coordinates": {
     "h": 5,
     "w": 12,
     "x": 0,
     "y": 151
    },
    "deepnote_cell_type": "markdown"
   },
   "source": [
    "### head() and tail()"
   ]
  },
  {
   "cell_type": "code",
   "execution_count": 14,
   "metadata": {
    "cell_id": "72bfaba3e2aa4b21bdb83d2da9e07c02",
    "deepnote_app_coordinates": {
     "h": 5,
     "w": 12,
     "x": 0,
     "y": 157
    },
    "deepnote_cell_type": "code",
    "deepnote_to_be_reexecuted": false,
    "execution_millis": 564,
    "execution_start": 1666898372088,
    "source_hash": "c085b6ba"
   },
   "outputs": [
    {
     "data": {
      "application/vnd.deepnote.dataframe.v3+json": {
       "column_count": 12,
       "columns": [
        {
         "dtype": "int64",
         "name": "Unnamed: 0",
         "stats": {
          "histogram": [
           {
            "bin_end": 0.4,
            "bin_start": 0,
            "count": 1
           },
           {
            "bin_end": 0.8,
            "bin_start": 0.4,
            "count": 0
           },
           {
            "bin_end": 1.2000000000000002,
            "bin_start": 0.8,
            "count": 1
           },
           {
            "bin_end": 1.6,
            "bin_start": 1.2000000000000002,
            "count": 0
           },
           {
            "bin_end": 2,
            "bin_start": 1.6,
            "count": 0
           },
           {
            "bin_end": 2.4000000000000004,
            "bin_start": 2,
            "count": 1
           },
           {
            "bin_end": 2.8000000000000003,
            "bin_start": 2.4000000000000004,
            "count": 0
           },
           {
            "bin_end": 3.2,
            "bin_start": 2.8000000000000003,
            "count": 1
           },
           {
            "bin_end": 3.6,
            "bin_start": 3.2,
            "count": 0
           },
           {
            "bin_end": 4,
            "bin_start": 3.6,
            "count": 1
           }
          ],
          "max": "4",
          "min": "0",
          "nan_count": 0,
          "unique_count": 5
         }
        },
        {
         "dtype": "int64",
         "name": "work_year",
         "stats": {
          "histogram": [
           {
            "bin_end": 2019.6,
            "bin_start": 2019.5,
            "count": 0
           },
           {
            "bin_end": 2019.7,
            "bin_start": 2019.6,
            "count": 0
           },
           {
            "bin_end": 2019.8,
            "bin_start": 2019.7,
            "count": 0
           },
           {
            "bin_end": 2019.9,
            "bin_start": 2019.8,
            "count": 0
           },
           {
            "bin_end": 2020,
            "bin_start": 2019.9,
            "count": 0
           },
           {
            "bin_end": 2020.1,
            "bin_start": 2020,
            "count": 5
           },
           {
            "bin_end": 2020.2,
            "bin_start": 2020.1,
            "count": 0
           },
           {
            "bin_end": 2020.3,
            "bin_start": 2020.2,
            "count": 0
           },
           {
            "bin_end": 2020.4,
            "bin_start": 2020.3,
            "count": 0
           },
           {
            "bin_end": 2020.5,
            "bin_start": 2020.4,
            "count": 0
           }
          ],
          "max": "2020",
          "min": "2020",
          "nan_count": 0,
          "unique_count": 1
         }
        },
        {
         "dtype": "object",
         "name": "experience_level",
         "stats": {
          "categories": [
           {
            "count": 3,
            "name": "SE"
           },
           {
            "count": 2,
            "name": "MI"
           }
          ],
          "nan_count": 0,
          "unique_count": 2
         }
        },
        {
         "dtype": "object",
         "name": "employment_type",
         "stats": {
          "categories": [
           {
            "count": 5,
            "name": "FT"
           }
          ],
          "nan_count": 0,
          "unique_count": 1
         }
        },
        {
         "dtype": "object",
         "name": "job_title",
         "stats": {
          "categories": [
           {
            "count": 1,
            "name": "Data Scientist"
           },
           {
            "count": 1,
            "name": "Machine Learning Scientist"
           },
           {
            "count": 3,
            "name": "3 others"
           }
          ],
          "nan_count": 0,
          "unique_count": 5
         }
        },
        {
         "dtype": "int64",
         "name": "salary",
         "stats": {
          "histogram": [
           {
            "bin_end": 44000,
            "bin_start": 20000,
            "count": 1
           },
           {
            "bin_end": 68000,
            "bin_start": 44000,
            "count": 0
           },
           {
            "bin_end": 92000,
            "bin_start": 68000,
            "count": 2
           },
           {
            "bin_end": 116000,
            "bin_start": 92000,
            "count": 0
           },
           {
            "bin_end": 140000,
            "bin_start": 116000,
            "count": 0
           },
           {
            "bin_end": 164000,
            "bin_start": 140000,
            "count": 1
           },
           {
            "bin_end": 188000,
            "bin_start": 164000,
            "count": 0
           },
           {
            "bin_end": 212000,
            "bin_start": 188000,
            "count": 0
           },
           {
            "bin_end": 236000,
            "bin_start": 212000,
            "count": 0
           },
           {
            "bin_end": 260000,
            "bin_start": 236000,
            "count": 1
           }
          ],
          "max": "260000",
          "min": "20000",
          "nan_count": 0,
          "unique_count": 5
         }
        },
        {
         "dtype": "object",
         "name": "salary_currency",
         "stats": {
          "categories": [
           {
            "count": 3,
            "name": "USD"
           },
           {
            "count": 1,
            "name": "EUR"
           },
           {
            "count": 1,
            "name": "GBP"
           }
          ],
          "nan_count": 0,
          "unique_count": 3
         }
        },
        {
         "dtype": "int64",
         "name": "salary_in_usd",
         "stats": {
          "histogram": [
           {
            "bin_end": 44000,
            "bin_start": 20000,
            "count": 1
           },
           {
            "bin_end": 68000,
            "bin_start": 44000,
            "count": 0
           },
           {
            "bin_end": 92000,
            "bin_start": 68000,
            "count": 1
           },
           {
            "bin_end": 116000,
            "bin_start": 92000,
            "count": 1
           },
           {
            "bin_end": 140000,
            "bin_start": 116000,
            "count": 0
           },
           {
            "bin_end": 164000,
            "bin_start": 140000,
            "count": 1
           },
           {
            "bin_end": 188000,
            "bin_start": 164000,
            "count": 0
           },
           {
            "bin_end": 212000,
            "bin_start": 188000,
            "count": 0
           },
           {
            "bin_end": 236000,
            "bin_start": 212000,
            "count": 0
           },
           {
            "bin_end": 260000,
            "bin_start": 236000,
            "count": 1
           }
          ],
          "max": "260000",
          "min": "20000",
          "nan_count": 0,
          "unique_count": 5
         }
        },
        {
         "dtype": "object",
         "name": "employee_residence",
         "stats": {
          "categories": [
           {
            "count": 1,
            "name": "DE"
           },
           {
            "count": 1,
            "name": "JP"
           },
           {
            "count": 3,
            "name": "3 others"
           }
          ],
          "nan_count": 0,
          "unique_count": 5
         }
        },
        {
         "dtype": "int64",
         "name": "remote_ratio",
         "stats": {
          "histogram": [
           {
            "bin_end": 5,
            "bin_start": 0,
            "count": 3
           },
           {
            "bin_end": 10,
            "bin_start": 5,
            "count": 0
           },
           {
            "bin_end": 15,
            "bin_start": 10,
            "count": 0
           },
           {
            "bin_end": 20,
            "bin_start": 15,
            "count": 0
           },
           {
            "bin_end": 25,
            "bin_start": 20,
            "count": 0
           },
           {
            "bin_end": 30,
            "bin_start": 25,
            "count": 0
           },
           {
            "bin_end": 35,
            "bin_start": 30,
            "count": 0
           },
           {
            "bin_end": 40,
            "bin_start": 35,
            "count": 0
           },
           {
            "bin_end": 45,
            "bin_start": 40,
            "count": 0
           },
           {
            "bin_end": 50,
            "bin_start": 45,
            "count": 2
           }
          ],
          "max": "50",
          "min": "0",
          "nan_count": 0,
          "unique_count": 2
         }
        },
        {
         "dtype": "object",
         "name": "company_location",
         "stats": {
          "categories": [
           {
            "count": 1,
            "name": "DE"
           },
           {
            "count": 1,
            "name": "JP"
           },
           {
            "count": 3,
            "name": "3 others"
           }
          ],
          "nan_count": 0,
          "unique_count": 5
         }
        },
        {
         "dtype": "object",
         "name": "company_size",
         "stats": {
          "categories": [
           {
            "count": 2,
            "name": "L"
           },
           {
            "count": 2,
            "name": "S"
           },
           {
            "count": 1,
            "name": "M"
           }
          ],
          "nan_count": 0,
          "unique_count": 3
         }
        },
        {
         "dtype": "int64",
         "name": "_deepnote_index_column"
        }
       ],
       "row_count": 5,
       "rows": [
        {
         "Unnamed: 0": "0",
         "_deepnote_index_column": "0",
         "company_location": "DE",
         "company_size": "L",
         "employee_residence": "DE",
         "employment_type": "FT",
         "experience_level": "MI",
         "job_title": "Data Scientist",
         "remote_ratio": "0",
         "salary": "70000",
         "salary_currency": "EUR",
         "salary_in_usd": "79833",
         "work_year": "2020"
        },
        {
         "Unnamed: 0": "1",
         "_deepnote_index_column": "1",
         "company_location": "JP",
         "company_size": "S",
         "employee_residence": "JP",
         "employment_type": "FT",
         "experience_level": "SE",
         "job_title": "Machine Learning Scientist",
         "remote_ratio": "0",
         "salary": "260000",
         "salary_currency": "USD",
         "salary_in_usd": "260000",
         "work_year": "2020"
        },
        {
         "Unnamed: 0": "2",
         "_deepnote_index_column": "2",
         "company_location": "GB",
         "company_size": "M",
         "employee_residence": "GB",
         "employment_type": "FT",
         "experience_level": "SE",
         "job_title": "Big Data Engineer",
         "remote_ratio": "50",
         "salary": "85000",
         "salary_currency": "GBP",
         "salary_in_usd": "109024",
         "work_year": "2020"
        },
        {
         "Unnamed: 0": "3",
         "_deepnote_index_column": "3",
         "company_location": "HN",
         "company_size": "S",
         "employee_residence": "HN",
         "employment_type": "FT",
         "experience_level": "MI",
         "job_title": "Product Data Analyst",
         "remote_ratio": "0",
         "salary": "20000",
         "salary_currency": "USD",
         "salary_in_usd": "20000",
         "work_year": "2020"
        },
        {
         "Unnamed: 0": "4",
         "_deepnote_index_column": "4",
         "company_location": "US",
         "company_size": "L",
         "employee_residence": "US",
         "employment_type": "FT",
         "experience_level": "SE",
         "job_title": "Machine Learning Engineer",
         "remote_ratio": "50",
         "salary": "150000",
         "salary_currency": "USD",
         "salary_in_usd": "150000",
         "work_year": "2020"
        }
       ]
      },
      "text/html": [
       "<div>\n",
       "<style scoped>\n",
       "    .dataframe tbody tr th:only-of-type {\n",
       "        vertical-align: middle;\n",
       "    }\n",
       "\n",
       "    .dataframe tbody tr th {\n",
       "        vertical-align: top;\n",
       "    }\n",
       "\n",
       "    .dataframe thead th {\n",
       "        text-align: right;\n",
       "    }\n",
       "</style>\n",
       "<table border=\"1\" class=\"dataframe\">\n",
       "  <thead>\n",
       "    <tr style=\"text-align: right;\">\n",
       "      <th></th>\n",
       "      <th>Unnamed: 0</th>\n",
       "      <th>work_year</th>\n",
       "      <th>experience_level</th>\n",
       "      <th>employment_type</th>\n",
       "      <th>job_title</th>\n",
       "      <th>salary</th>\n",
       "      <th>salary_currency</th>\n",
       "      <th>salary_in_usd</th>\n",
       "      <th>employee_residence</th>\n",
       "      <th>remote_ratio</th>\n",
       "      <th>company_location</th>\n",
       "      <th>company_size</th>\n",
       "    </tr>\n",
       "  </thead>\n",
       "  <tbody>\n",
       "    <tr>\n",
       "      <th>0</th>\n",
       "      <td>0</td>\n",
       "      <td>2020</td>\n",
       "      <td>MI</td>\n",
       "      <td>FT</td>\n",
       "      <td>Data Scientist</td>\n",
       "      <td>70000</td>\n",
       "      <td>EUR</td>\n",
       "      <td>79833</td>\n",
       "      <td>DE</td>\n",
       "      <td>0</td>\n",
       "      <td>DE</td>\n",
       "      <td>L</td>\n",
       "    </tr>\n",
       "    <tr>\n",
       "      <th>1</th>\n",
       "      <td>1</td>\n",
       "      <td>2020</td>\n",
       "      <td>SE</td>\n",
       "      <td>FT</td>\n",
       "      <td>Machine Learning Scientist</td>\n",
       "      <td>260000</td>\n",
       "      <td>USD</td>\n",
       "      <td>260000</td>\n",
       "      <td>JP</td>\n",
       "      <td>0</td>\n",
       "      <td>JP</td>\n",
       "      <td>S</td>\n",
       "    </tr>\n",
       "    <tr>\n",
       "      <th>2</th>\n",
       "      <td>2</td>\n",
       "      <td>2020</td>\n",
       "      <td>SE</td>\n",
       "      <td>FT</td>\n",
       "      <td>Big Data Engineer</td>\n",
       "      <td>85000</td>\n",
       "      <td>GBP</td>\n",
       "      <td>109024</td>\n",
       "      <td>GB</td>\n",
       "      <td>50</td>\n",
       "      <td>GB</td>\n",
       "      <td>M</td>\n",
       "    </tr>\n",
       "    <tr>\n",
       "      <th>3</th>\n",
       "      <td>3</td>\n",
       "      <td>2020</td>\n",
       "      <td>MI</td>\n",
       "      <td>FT</td>\n",
       "      <td>Product Data Analyst</td>\n",
       "      <td>20000</td>\n",
       "      <td>USD</td>\n",
       "      <td>20000</td>\n",
       "      <td>HN</td>\n",
       "      <td>0</td>\n",
       "      <td>HN</td>\n",
       "      <td>S</td>\n",
       "    </tr>\n",
       "    <tr>\n",
       "      <th>4</th>\n",
       "      <td>4</td>\n",
       "      <td>2020</td>\n",
       "      <td>SE</td>\n",
       "      <td>FT</td>\n",
       "      <td>Machine Learning Engineer</td>\n",
       "      <td>150000</td>\n",
       "      <td>USD</td>\n",
       "      <td>150000</td>\n",
       "      <td>US</td>\n",
       "      <td>50</td>\n",
       "      <td>US</td>\n",
       "      <td>L</td>\n",
       "    </tr>\n",
       "  </tbody>\n",
       "</table>\n",
       "</div>"
      ],
      "text/plain": [
       "   Unnamed: 0  work_year experience_level employment_type  \\\n",
       "0           0       2020               MI              FT   \n",
       "1           1       2020               SE              FT   \n",
       "2           2       2020               SE              FT   \n",
       "3           3       2020               MI              FT   \n",
       "4           4       2020               SE              FT   \n",
       "\n",
       "                    job_title  salary salary_currency  salary_in_usd  \\\n",
       "0              Data Scientist   70000             EUR          79833   \n",
       "1  Machine Learning Scientist  260000             USD         260000   \n",
       "2           Big Data Engineer   85000             GBP         109024   \n",
       "3        Product Data Analyst   20000             USD          20000   \n",
       "4   Machine Learning Engineer  150000             USD         150000   \n",
       "\n",
       "  employee_residence  remote_ratio company_location company_size  \n",
       "0                 DE             0               DE            L  \n",
       "1                 JP             0               JP            S  \n",
       "2                 GB            50               GB            M  \n",
       "3                 HN             0               HN            S  \n",
       "4                 US            50               US            L  "
      ]
     },
     "execution_count": 14,
     "metadata": {},
     "output_type": "execute_result"
    }
   ],
   "source": [
    "df.head()"
   ]
  },
  {
   "cell_type": "code",
   "execution_count": 15,
   "metadata": {
    "cell_id": "c1ff03641a9b4266969cd8f6c57fadf4",
    "deepnote_app_coordinates": {
     "h": 5,
     "w": 12,
     "x": 0,
     "y": 163
    },
    "deepnote_cell_type": "code",
    "deepnote_to_be_reexecuted": false,
    "execution_millis": 561,
    "execution_start": 1666898372092,
    "scrolled": true,
    "source_hash": "838c0c28"
   },
   "outputs": [
    {
     "data": {
      "application/vnd.deepnote.dataframe.v3+json": {
       "column_count": 12,
       "columns": [
        {
         "dtype": "int64",
         "name": "Unnamed: 0",
         "stats": {
          "histogram": [
           {
            "bin_end": 602.4,
            "bin_start": 602,
            "count": 1
           },
           {
            "bin_end": 602.8,
            "bin_start": 602.4,
            "count": 0
           },
           {
            "bin_end": 603.2,
            "bin_start": 602.8,
            "count": 1
           },
           {
            "bin_end": 603.6,
            "bin_start": 603.2,
            "count": 0
           },
           {
            "bin_end": 604,
            "bin_start": 603.6,
            "count": 0
           },
           {
            "bin_end": 604.4,
            "bin_start": 604,
            "count": 1
           },
           {
            "bin_end": 604.8,
            "bin_start": 604.4,
            "count": 0
           },
           {
            "bin_end": 605.2,
            "bin_start": 604.8,
            "count": 1
           },
           {
            "bin_end": 605.6,
            "bin_start": 605.2,
            "count": 0
           },
           {
            "bin_end": 606,
            "bin_start": 605.6,
            "count": 1
           }
          ],
          "max": "606",
          "min": "602",
          "nan_count": 0,
          "unique_count": 5
         }
        },
        {
         "dtype": "int64",
         "name": "work_year",
         "stats": {
          "histogram": [
           {
            "bin_end": 2021.6,
            "bin_start": 2021.5,
            "count": 0
           },
           {
            "bin_end": 2021.7,
            "bin_start": 2021.6,
            "count": 0
           },
           {
            "bin_end": 2021.8,
            "bin_start": 2021.7,
            "count": 0
           },
           {
            "bin_end": 2021.9,
            "bin_start": 2021.8,
            "count": 0
           },
           {
            "bin_end": 2022,
            "bin_start": 2021.9,
            "count": 0
           },
           {
            "bin_end": 2022.1,
            "bin_start": 2022,
            "count": 5
           },
           {
            "bin_end": 2022.2,
            "bin_start": 2022.1,
            "count": 0
           },
           {
            "bin_end": 2022.3,
            "bin_start": 2022.2,
            "count": 0
           },
           {
            "bin_end": 2022.4,
            "bin_start": 2022.3,
            "count": 0
           },
           {
            "bin_end": 2022.5,
            "bin_start": 2022.4,
            "count": 0
           }
          ],
          "max": "2022",
          "min": "2022",
          "nan_count": 0,
          "unique_count": 1
         }
        },
        {
         "dtype": "object",
         "name": "experience_level",
         "stats": {
          "categories": [
           {
            "count": 4,
            "name": "SE"
           },
           {
            "count": 1,
            "name": "MI"
           }
          ],
          "nan_count": 0,
          "unique_count": 2
         }
        },
        {
         "dtype": "object",
         "name": "employment_type",
         "stats": {
          "categories": [
           {
            "count": 5,
            "name": "FT"
           }
          ],
          "nan_count": 0,
          "unique_count": 1
         }
        },
        {
         "dtype": "object",
         "name": "job_title",
         "stats": {
          "categories": [
           {
            "count": 2,
            "name": "Data Engineer"
           },
           {
            "count": 2,
            "name": "Data Analyst"
           },
           {
            "count": 1,
            "name": "AI Scientist"
           }
          ],
          "nan_count": 0,
          "unique_count": 3
         }
        },
        {
         "dtype": "int64",
         "name": "salary",
         "stats": {
          "histogram": [
           {
            "bin_end": 133400,
            "bin_start": 126000,
            "count": 2
           },
           {
            "bin_end": 140800,
            "bin_start": 133400,
            "count": 0
           },
           {
            "bin_end": 148200,
            "bin_start": 140800,
            "count": 0
           },
           {
            "bin_end": 155600,
            "bin_start": 148200,
            "count": 2
           },
           {
            "bin_end": 163000,
            "bin_start": 155600,
            "count": 0
           },
           {
            "bin_end": 170400,
            "bin_start": 163000,
            "count": 0
           },
           {
            "bin_end": 177800,
            "bin_start": 170400,
            "count": 0
           },
           {
            "bin_end": 185200,
            "bin_start": 177800,
            "count": 0
           },
           {
            "bin_end": 192600,
            "bin_start": 185200,
            "count": 0
           },
           {
            "bin_end": 200000,
            "bin_start": 192600,
            "count": 1
           }
          ],
          "max": "200000",
          "min": "126000",
          "nan_count": 0,
          "unique_count": 5
         }
        },
        {
         "dtype": "object",
         "name": "salary_currency",
         "stats": {
          "categories": [
           {
            "count": 5,
            "name": "USD"
           }
          ],
          "nan_count": 0,
          "unique_count": 1
         }
        },
        {
         "dtype": "int64",
         "name": "salary_in_usd",
         "stats": {
          "histogram": [
           {
            "bin_end": 133400,
            "bin_start": 126000,
            "count": 2
           },
           {
            "bin_end": 140800,
            "bin_start": 133400,
            "count": 0
           },
           {
            "bin_end": 148200,
            "bin_start": 140800,
            "count": 0
           },
           {
            "bin_end": 155600,
            "bin_start": 148200,
            "count": 2
           },
           {
            "bin_end": 163000,
            "bin_start": 155600,
            "count": 0
           },
           {
            "bin_end": 170400,
            "bin_start": 163000,
            "count": 0
           },
           {
            "bin_end": 177800,
            "bin_start": 170400,
            "count": 0
           },
           {
            "bin_end": 185200,
            "bin_start": 177800,
            "count": 0
           },
           {
            "bin_end": 192600,
            "bin_start": 185200,
            "count": 0
           },
           {
            "bin_end": 200000,
            "bin_start": 192600,
            "count": 1
           }
          ],
          "max": "200000",
          "min": "126000",
          "nan_count": 0,
          "unique_count": 5
         }
        },
        {
         "dtype": "object",
         "name": "employee_residence",
         "stats": {
          "categories": [
           {
            "count": 4,
            "name": "US"
           },
           {
            "count": 1,
            "name": "IN"
           }
          ],
          "nan_count": 0,
          "unique_count": 2
         }
        },
        {
         "dtype": "int64",
         "name": "remote_ratio",
         "stats": {
          "histogram": [
           {
            "bin_end": 10,
            "bin_start": 0,
            "count": 1
           },
           {
            "bin_end": 20,
            "bin_start": 10,
            "count": 0
           },
           {
            "bin_end": 30,
            "bin_start": 20,
            "count": 0
           },
           {
            "bin_end": 40,
            "bin_start": 30,
            "count": 0
           },
           {
            "bin_end": 50,
            "bin_start": 40,
            "count": 0
           },
           {
            "bin_end": 60,
            "bin_start": 50,
            "count": 0
           },
           {
            "bin_end": 70,
            "bin_start": 60,
            "count": 0
           },
           {
            "bin_end": 80,
            "bin_start": 70,
            "count": 0
           },
           {
            "bin_end": 90,
            "bin_start": 80,
            "count": 0
           },
           {
            "bin_end": 100,
            "bin_start": 90,
            "count": 4
           }
          ],
          "max": "100",
          "min": "0",
          "nan_count": 0,
          "unique_count": 2
         }
        },
        {
         "dtype": "object",
         "name": "company_location",
         "stats": {
          "categories": [
           {
            "count": 5,
            "name": "US"
           }
          ],
          "nan_count": 0,
          "unique_count": 1
         }
        },
        {
         "dtype": "object",
         "name": "company_size",
         "stats": {
          "categories": [
           {
            "count": 4,
            "name": "M"
           },
           {
            "count": 1,
            "name": "L"
           }
          ],
          "nan_count": 0,
          "unique_count": 2
         }
        },
        {
         "dtype": "int64",
         "name": "_deepnote_index_column"
        }
       ],
       "row_count": 5,
       "rows": [
        {
         "Unnamed: 0": "602",
         "_deepnote_index_column": "602",
         "company_location": "US",
         "company_size": "M",
         "employee_residence": "US",
         "employment_type": "FT",
         "experience_level": "SE",
         "job_title": "Data Engineer",
         "remote_ratio": "100",
         "salary": "154000",
         "salary_currency": "USD",
         "salary_in_usd": "154000",
         "work_year": "2022"
        },
        {
         "Unnamed: 0": "603",
         "_deepnote_index_column": "603",
         "company_location": "US",
         "company_size": "M",
         "employee_residence": "US",
         "employment_type": "FT",
         "experience_level": "SE",
         "job_title": "Data Engineer",
         "remote_ratio": "100",
         "salary": "126000",
         "salary_currency": "USD",
         "salary_in_usd": "126000",
         "work_year": "2022"
        },
        {
         "Unnamed: 0": "604",
         "_deepnote_index_column": "604",
         "company_location": "US",
         "company_size": "M",
         "employee_residence": "US",
         "employment_type": "FT",
         "experience_level": "SE",
         "job_title": "Data Analyst",
         "remote_ratio": "0",
         "salary": "129000",
         "salary_currency": "USD",
         "salary_in_usd": "129000",
         "work_year": "2022"
        },
        {
         "Unnamed: 0": "605",
         "_deepnote_index_column": "605",
         "company_location": "US",
         "company_size": "M",
         "employee_residence": "US",
         "employment_type": "FT",
         "experience_level": "SE",
         "job_title": "Data Analyst",
         "remote_ratio": "100",
         "salary": "150000",
         "salary_currency": "USD",
         "salary_in_usd": "150000",
         "work_year": "2022"
        },
        {
         "Unnamed: 0": "606",
         "_deepnote_index_column": "606",
         "company_location": "US",
         "company_size": "L",
         "employee_residence": "IN",
         "employment_type": "FT",
         "experience_level": "MI",
         "job_title": "AI Scientist",
         "remote_ratio": "100",
         "salary": "200000",
         "salary_currency": "USD",
         "salary_in_usd": "200000",
         "work_year": "2022"
        }
       ]
      },
      "text/html": [
       "<div>\n",
       "<style scoped>\n",
       "    .dataframe tbody tr th:only-of-type {\n",
       "        vertical-align: middle;\n",
       "    }\n",
       "\n",
       "    .dataframe tbody tr th {\n",
       "        vertical-align: top;\n",
       "    }\n",
       "\n",
       "    .dataframe thead th {\n",
       "        text-align: right;\n",
       "    }\n",
       "</style>\n",
       "<table border=\"1\" class=\"dataframe\">\n",
       "  <thead>\n",
       "    <tr style=\"text-align: right;\">\n",
       "      <th></th>\n",
       "      <th>Unnamed: 0</th>\n",
       "      <th>work_year</th>\n",
       "      <th>experience_level</th>\n",
       "      <th>employment_type</th>\n",
       "      <th>job_title</th>\n",
       "      <th>salary</th>\n",
       "      <th>salary_currency</th>\n",
       "      <th>salary_in_usd</th>\n",
       "      <th>employee_residence</th>\n",
       "      <th>remote_ratio</th>\n",
       "      <th>company_location</th>\n",
       "      <th>company_size</th>\n",
       "    </tr>\n",
       "  </thead>\n",
       "  <tbody>\n",
       "    <tr>\n",
       "      <th>602</th>\n",
       "      <td>602</td>\n",
       "      <td>2022</td>\n",
       "      <td>SE</td>\n",
       "      <td>FT</td>\n",
       "      <td>Data Engineer</td>\n",
       "      <td>154000</td>\n",
       "      <td>USD</td>\n",
       "      <td>154000</td>\n",
       "      <td>US</td>\n",
       "      <td>100</td>\n",
       "      <td>US</td>\n",
       "      <td>M</td>\n",
       "    </tr>\n",
       "    <tr>\n",
       "      <th>603</th>\n",
       "      <td>603</td>\n",
       "      <td>2022</td>\n",
       "      <td>SE</td>\n",
       "      <td>FT</td>\n",
       "      <td>Data Engineer</td>\n",
       "      <td>126000</td>\n",
       "      <td>USD</td>\n",
       "      <td>126000</td>\n",
       "      <td>US</td>\n",
       "      <td>100</td>\n",
       "      <td>US</td>\n",
       "      <td>M</td>\n",
       "    </tr>\n",
       "    <tr>\n",
       "      <th>604</th>\n",
       "      <td>604</td>\n",
       "      <td>2022</td>\n",
       "      <td>SE</td>\n",
       "      <td>FT</td>\n",
       "      <td>Data Analyst</td>\n",
       "      <td>129000</td>\n",
       "      <td>USD</td>\n",
       "      <td>129000</td>\n",
       "      <td>US</td>\n",
       "      <td>0</td>\n",
       "      <td>US</td>\n",
       "      <td>M</td>\n",
       "    </tr>\n",
       "    <tr>\n",
       "      <th>605</th>\n",
       "      <td>605</td>\n",
       "      <td>2022</td>\n",
       "      <td>SE</td>\n",
       "      <td>FT</td>\n",
       "      <td>Data Analyst</td>\n",
       "      <td>150000</td>\n",
       "      <td>USD</td>\n",
       "      <td>150000</td>\n",
       "      <td>US</td>\n",
       "      <td>100</td>\n",
       "      <td>US</td>\n",
       "      <td>M</td>\n",
       "    </tr>\n",
       "    <tr>\n",
       "      <th>606</th>\n",
       "      <td>606</td>\n",
       "      <td>2022</td>\n",
       "      <td>MI</td>\n",
       "      <td>FT</td>\n",
       "      <td>AI Scientist</td>\n",
       "      <td>200000</td>\n",
       "      <td>USD</td>\n",
       "      <td>200000</td>\n",
       "      <td>IN</td>\n",
       "      <td>100</td>\n",
       "      <td>US</td>\n",
       "      <td>L</td>\n",
       "    </tr>\n",
       "  </tbody>\n",
       "</table>\n",
       "</div>"
      ],
      "text/plain": [
       "     Unnamed: 0  work_year experience_level employment_type      job_title  \\\n",
       "602         602       2022               SE              FT  Data Engineer   \n",
       "603         603       2022               SE              FT  Data Engineer   \n",
       "604         604       2022               SE              FT   Data Analyst   \n",
       "605         605       2022               SE              FT   Data Analyst   \n",
       "606         606       2022               MI              FT   AI Scientist   \n",
       "\n",
       "     salary salary_currency  salary_in_usd employee_residence  remote_ratio  \\\n",
       "602  154000             USD         154000                 US           100   \n",
       "603  126000             USD         126000                 US           100   \n",
       "604  129000             USD         129000                 US             0   \n",
       "605  150000             USD         150000                 US           100   \n",
       "606  200000             USD         200000                 IN           100   \n",
       "\n",
       "    company_location company_size  \n",
       "602               US            M  \n",
       "603               US            M  \n",
       "604               US            M  \n",
       "605               US            M  \n",
       "606               US            L  "
      ]
     },
     "execution_count": 15,
     "metadata": {},
     "output_type": "execute_result"
    }
   ],
   "source": [
    "df.tail()"
   ]
  },
  {
   "cell_type": "code",
   "execution_count": 44,
   "metadata": {
    "cell_id": "3c074c9e7a184110b3e29059fa6189c4",
    "deepnote_app_coordinates": {
     "h": 5,
     "w": 12,
     "x": 0,
     "y": 169
    },
    "deepnote_cell_type": "code",
    "deepnote_to_be_reexecuted": false,
    "execution_millis": 57,
    "execution_start": 1666899367098,
    "source_hash": "cdee9e9d",
    "tags": []
   },
   "outputs": [
    {
     "data": {
      "application/vnd.deepnote.dataframe.v3+json": {
       "column_count": 12,
       "columns": [
        {
         "dtype": "int64",
         "name": "Unnamed: 0",
         "stats": {
          "histogram": [
           {
            "bin_end": 597.9,
            "bin_start": 597,
            "count": 1
           },
           {
            "bin_end": 598.8,
            "bin_start": 597.9,
            "count": 1
           },
           {
            "bin_end": 599.7,
            "bin_start": 598.8,
            "count": 1
           },
           {
            "bin_end": 600.6,
            "bin_start": 599.7,
            "count": 1
           },
           {
            "bin_end": 601.5,
            "bin_start": 600.6,
            "count": 1
           },
           {
            "bin_end": 602.4,
            "bin_start": 601.5,
            "count": 1
           },
           {
            "bin_end": 603.3,
            "bin_start": 602.4,
            "count": 1
           },
           {
            "bin_end": 604.2,
            "bin_start": 603.3,
            "count": 1
           },
           {
            "bin_end": 605.1,
            "bin_start": 604.2,
            "count": 1
           },
           {
            "bin_end": 606,
            "bin_start": 605.1,
            "count": 1
           }
          ],
          "max": "606",
          "min": "597",
          "nan_count": 0,
          "unique_count": 10
         }
        },
        {
         "dtype": "int64",
         "name": "work_year",
         "stats": {
          "histogram": [
           {
            "bin_end": 2021.6,
            "bin_start": 2021.5,
            "count": 0
           },
           {
            "bin_end": 2021.7,
            "bin_start": 2021.6,
            "count": 0
           },
           {
            "bin_end": 2021.8,
            "bin_start": 2021.7,
            "count": 0
           },
           {
            "bin_end": 2021.9,
            "bin_start": 2021.8,
            "count": 0
           },
           {
            "bin_end": 2022,
            "bin_start": 2021.9,
            "count": 0
           },
           {
            "bin_end": 2022.1,
            "bin_start": 2022,
            "count": 10
           },
           {
            "bin_end": 2022.2,
            "bin_start": 2022.1,
            "count": 0
           },
           {
            "bin_end": 2022.3,
            "bin_start": 2022.2,
            "count": 0
           },
           {
            "bin_end": 2022.4,
            "bin_start": 2022.3,
            "count": 0
           },
           {
            "bin_end": 2022.5,
            "bin_start": 2022.4,
            "count": 0
           }
          ],
          "max": "2022",
          "min": "2022",
          "nan_count": 0,
          "unique_count": 1
         }
        },
        {
         "dtype": "object",
         "name": "experience_level",
         "stats": {
          "categories": [
           {
            "count": 5,
            "name": "SE"
           },
           {
            "count": 3,
            "name": "MI"
           },
           {
            "count": 2,
            "name": "EN"
           }
          ],
          "nan_count": 0,
          "unique_count": 3
         }
        },
        {
         "dtype": "object",
         "name": "employment_type",
         "stats": {
          "categories": [
           {
            "count": 10,
            "name": "FT"
           }
          ],
          "nan_count": 0,
          "unique_count": 1
         }
        },
        {
         "dtype": "object",
         "name": "job_title",
         "stats": {
          "categories": [
           {
            "count": 5,
            "name": "Data Analyst"
           },
           {
            "count": 2,
            "name": "Data Scientist"
           },
           {
            "count": 3,
            "name": "2 others"
           }
          ],
          "nan_count": 0,
          "unique_count": 4
         }
        },
        {
         "dtype": "int64",
         "name": "salary",
         "stats": {
          "histogram": [
           {
            "bin_end": 66800,
            "bin_start": 52000,
            "count": 1
           },
           {
            "bin_end": 81600,
            "bin_start": 66800,
            "count": 1
           },
           {
            "bin_end": 96400,
            "bin_start": 81600,
            "count": 0
           },
           {
            "bin_end": 111200,
            "bin_start": 96400,
            "count": 0
           },
           {
            "bin_end": 126000,
            "bin_start": 111200,
            "count": 0
           },
           {
            "bin_end": 140800,
            "bin_start": 126000,
            "count": 3
           },
           {
            "bin_end": 155600,
            "bin_start": 140800,
            "count": 2
           },
           {
            "bin_end": 170400,
            "bin_start": 155600,
            "count": 2
           },
           {
            "bin_end": 185200,
            "bin_start": 170400,
            "count": 0
           },
           {
            "bin_end": 200000,
            "bin_start": 185200,
            "count": 1
           }
          ],
          "max": "200000",
          "min": "52000",
          "nan_count": 0,
          "unique_count": 10
         }
        },
        {
         "dtype": "object",
         "name": "salary_currency",
         "stats": {
          "categories": [
           {
            "count": 10,
            "name": "USD"
           }
          ],
          "nan_count": 0,
          "unique_count": 1
         }
        },
        {
         "dtype": "int64",
         "name": "salary_in_usd",
         "stats": {
          "histogram": [
           {
            "bin_end": 66800,
            "bin_start": 52000,
            "count": 1
           },
           {
            "bin_end": 81600,
            "bin_start": 66800,
            "count": 1
           },
           {
            "bin_end": 96400,
            "bin_start": 81600,
            "count": 0
           },
           {
            "bin_end": 111200,
            "bin_start": 96400,
            "count": 0
           },
           {
            "bin_end": 126000,
            "bin_start": 111200,
            "count": 0
           },
           {
            "bin_end": 140800,
            "bin_start": 126000,
            "count": 3
           },
           {
            "bin_end": 155600,
            "bin_start": 140800,
            "count": 2
           },
           {
            "bin_end": 170400,
            "bin_start": 155600,
            "count": 2
           },
           {
            "bin_end": 185200,
            "bin_start": 170400,
            "count": 0
           },
           {
            "bin_end": 200000,
            "bin_start": 185200,
            "count": 1
           }
          ],
          "max": "200000",
          "min": "52000",
          "nan_count": 0,
          "unique_count": 10
         }
        },
        {
         "dtype": "object",
         "name": "employee_residence",
         "stats": {
          "categories": [
           {
            "count": 7,
            "name": "US"
           },
           {
            "count": 2,
            "name": "CA"
           },
           {
            "count": 1,
            "name": "IN"
           }
          ],
          "nan_count": 0,
          "unique_count": 3
         }
        },
        {
         "dtype": "int64",
         "name": "remote_ratio",
         "stats": {
          "histogram": [
           {
            "bin_end": 10,
            "bin_start": 0,
            "count": 3
           },
           {
            "bin_end": 20,
            "bin_start": 10,
            "count": 0
           },
           {
            "bin_end": 30,
            "bin_start": 20,
            "count": 0
           },
           {
            "bin_end": 40,
            "bin_start": 30,
            "count": 0
           },
           {
            "bin_end": 50,
            "bin_start": 40,
            "count": 0
           },
           {
            "bin_end": 60,
            "bin_start": 50,
            "count": 0
           },
           {
            "bin_end": 70,
            "bin_start": 60,
            "count": 0
           },
           {
            "bin_end": 80,
            "bin_start": 70,
            "count": 0
           },
           {
            "bin_end": 90,
            "bin_start": 80,
            "count": 0
           },
           {
            "bin_end": 100,
            "bin_start": 90,
            "count": 7
           }
          ],
          "max": "100",
          "min": "0",
          "nan_count": 0,
          "unique_count": 2
         }
        },
        {
         "dtype": "object",
         "name": "company_location",
         "stats": {
          "categories": [
           {
            "count": 8,
            "name": "US"
           },
           {
            "count": 2,
            "name": "CA"
           }
          ],
          "nan_count": 0,
          "unique_count": 2
         }
        },
        {
         "dtype": "object",
         "name": "company_size",
         "stats": {
          "categories": [
           {
            "count": 9,
            "name": "M"
           },
           {
            "count": 1,
            "name": "L"
           }
          ],
          "nan_count": 0,
          "unique_count": 2
         }
        },
        {
         "dtype": "object",
         "name": "_deepnote_index_column"
        }
       ],
       "row_count": 10,
       "rows": [
        {
         "Unnamed: 0": "597",
         "_deepnote_index_column": "EID697",
         "company_location": "US",
         "company_size": "M",
         "employee_residence": "US",
         "employment_type": "FT",
         "experience_level": "SE",
         "job_title": "Data Analyst",
         "remote_ratio": "100",
         "salary": "170000",
         "salary_currency": "USD",
         "salary_in_usd": "170000",
         "work_year": "2022"
        },
        {
         "Unnamed: 0": "598",
         "_deepnote_index_column": "EID698",
         "company_location": "US",
         "company_size": "M",
         "employee_residence": "US",
         "employment_type": "FT",
         "experience_level": "MI",
         "job_title": "Data Scientist",
         "remote_ratio": "100",
         "salary": "160000",
         "salary_currency": "USD",
         "salary_in_usd": "160000",
         "work_year": "2022"
        },
        {
         "Unnamed: 0": "599",
         "_deepnote_index_column": "EID699",
         "company_location": "US",
         "company_size": "M",
         "employee_residence": "US",
         "employment_type": "FT",
         "experience_level": "MI",
         "job_title": "Data Scientist",
         "remote_ratio": "100",
         "salary": "130000",
         "salary_currency": "USD",
         "salary_in_usd": "130000",
         "work_year": "2022"
        },
        {
         "Unnamed: 0": "600",
         "_deepnote_index_column": "EID700",
         "company_location": "CA",
         "company_size": "M",
         "employee_residence": "CA",
         "employment_type": "FT",
         "experience_level": "EN",
         "job_title": "Data Analyst",
         "remote_ratio": "0",
         "salary": "67000",
         "salary_currency": "USD",
         "salary_in_usd": "67000",
         "work_year": "2022"
        },
        {
         "Unnamed: 0": "601",
         "_deepnote_index_column": "EID701",
         "company_location": "CA",
         "company_size": "M",
         "employee_residence": "CA",
         "employment_type": "FT",
         "experience_level": "EN",
         "job_title": "Data Analyst",
         "remote_ratio": "0",
         "salary": "52000",
         "salary_currency": "USD",
         "salary_in_usd": "52000",
         "work_year": "2022"
        },
        {
         "Unnamed: 0": "602",
         "_deepnote_index_column": "EID702",
         "company_location": "US",
         "company_size": "M",
         "employee_residence": "US",
         "employment_type": "FT",
         "experience_level": "SE",
         "job_title": "Data Engineer",
         "remote_ratio": "100",
         "salary": "154000",
         "salary_currency": "USD",
         "salary_in_usd": "154000",
         "work_year": "2022"
        },
        {
         "Unnamed: 0": "603",
         "_deepnote_index_column": "EID703",
         "company_location": "US",
         "company_size": "M",
         "employee_residence": "US",
         "employment_type": "FT",
         "experience_level": "SE",
         "job_title": "Data Engineer",
         "remote_ratio": "100",
         "salary": "126000",
         "salary_currency": "USD",
         "salary_in_usd": "126000",
         "work_year": "2022"
        },
        {
         "Unnamed: 0": "604",
         "_deepnote_index_column": "EID704",
         "company_location": "US",
         "company_size": "M",
         "employee_residence": "US",
         "employment_type": "FT",
         "experience_level": "SE",
         "job_title": "Data Analyst",
         "remote_ratio": "0",
         "salary": "129000",
         "salary_currency": "USD",
         "salary_in_usd": "129000",
         "work_year": "2022"
        },
        {
         "Unnamed: 0": "605",
         "_deepnote_index_column": "EID705",
         "company_location": "US",
         "company_size": "M",
         "employee_residence": "US",
         "employment_type": "FT",
         "experience_level": "SE",
         "job_title": "Data Analyst",
         "remote_ratio": "100",
         "salary": "150000",
         "salary_currency": "USD",
         "salary_in_usd": "150000",
         "work_year": "2022"
        },
        {
         "Unnamed: 0": "606",
         "_deepnote_index_column": "EID706",
         "company_location": "US",
         "company_size": "L",
         "employee_residence": "IN",
         "employment_type": "FT",
         "experience_level": "MI",
         "job_title": "AI Scientist",
         "remote_ratio": "100",
         "salary": "200000",
         "salary_currency": "USD",
         "salary_in_usd": "200000",
         "work_year": "2022"
        }
       ]
      },
      "text/html": [
       "<div>\n",
       "<style scoped>\n",
       "    .dataframe tbody tr th:only-of-type {\n",
       "        vertical-align: middle;\n",
       "    }\n",
       "\n",
       "    .dataframe tbody tr th {\n",
       "        vertical-align: top;\n",
       "    }\n",
       "\n",
       "    .dataframe thead th {\n",
       "        text-align: right;\n",
       "    }\n",
       "</style>\n",
       "<table border=\"1\" class=\"dataframe\">\n",
       "  <thead>\n",
       "    <tr style=\"text-align: right;\">\n",
       "      <th></th>\n",
       "      <th>Unnamed: 0</th>\n",
       "      <th>work_year</th>\n",
       "      <th>experience_level</th>\n",
       "      <th>employment_type</th>\n",
       "      <th>job_title</th>\n",
       "      <th>salary</th>\n",
       "      <th>salary_currency</th>\n",
       "      <th>salary_in_usd</th>\n",
       "      <th>employee_residence</th>\n",
       "      <th>remote_ratio</th>\n",
       "      <th>company_location</th>\n",
       "      <th>company_size</th>\n",
       "    </tr>\n",
       "  </thead>\n",
       "  <tbody>\n",
       "    <tr>\n",
       "      <th>EID697</th>\n",
       "      <td>597</td>\n",
       "      <td>2022</td>\n",
       "      <td>SE</td>\n",
       "      <td>FT</td>\n",
       "      <td>Data Analyst</td>\n",
       "      <td>170000</td>\n",
       "      <td>USD</td>\n",
       "      <td>170000</td>\n",
       "      <td>US</td>\n",
       "      <td>100</td>\n",
       "      <td>US</td>\n",
       "      <td>M</td>\n",
       "    </tr>\n",
       "    <tr>\n",
       "      <th>EID698</th>\n",
       "      <td>598</td>\n",
       "      <td>2022</td>\n",
       "      <td>MI</td>\n",
       "      <td>FT</td>\n",
       "      <td>Data Scientist</td>\n",
       "      <td>160000</td>\n",
       "      <td>USD</td>\n",
       "      <td>160000</td>\n",
       "      <td>US</td>\n",
       "      <td>100</td>\n",
       "      <td>US</td>\n",
       "      <td>M</td>\n",
       "    </tr>\n",
       "    <tr>\n",
       "      <th>EID699</th>\n",
       "      <td>599</td>\n",
       "      <td>2022</td>\n",
       "      <td>MI</td>\n",
       "      <td>FT</td>\n",
       "      <td>Data Scientist</td>\n",
       "      <td>130000</td>\n",
       "      <td>USD</td>\n",
       "      <td>130000</td>\n",
       "      <td>US</td>\n",
       "      <td>100</td>\n",
       "      <td>US</td>\n",
       "      <td>M</td>\n",
       "    </tr>\n",
       "    <tr>\n",
       "      <th>EID700</th>\n",
       "      <td>600</td>\n",
       "      <td>2022</td>\n",
       "      <td>EN</td>\n",
       "      <td>FT</td>\n",
       "      <td>Data Analyst</td>\n",
       "      <td>67000</td>\n",
       "      <td>USD</td>\n",
       "      <td>67000</td>\n",
       "      <td>CA</td>\n",
       "      <td>0</td>\n",
       "      <td>CA</td>\n",
       "      <td>M</td>\n",
       "    </tr>\n",
       "    <tr>\n",
       "      <th>EID701</th>\n",
       "      <td>601</td>\n",
       "      <td>2022</td>\n",
       "      <td>EN</td>\n",
       "      <td>FT</td>\n",
       "      <td>Data Analyst</td>\n",
       "      <td>52000</td>\n",
       "      <td>USD</td>\n",
       "      <td>52000</td>\n",
       "      <td>CA</td>\n",
       "      <td>0</td>\n",
       "      <td>CA</td>\n",
       "      <td>M</td>\n",
       "    </tr>\n",
       "    <tr>\n",
       "      <th>EID702</th>\n",
       "      <td>602</td>\n",
       "      <td>2022</td>\n",
       "      <td>SE</td>\n",
       "      <td>FT</td>\n",
       "      <td>Data Engineer</td>\n",
       "      <td>154000</td>\n",
       "      <td>USD</td>\n",
       "      <td>154000</td>\n",
       "      <td>US</td>\n",
       "      <td>100</td>\n",
       "      <td>US</td>\n",
       "      <td>M</td>\n",
       "    </tr>\n",
       "    <tr>\n",
       "      <th>EID703</th>\n",
       "      <td>603</td>\n",
       "      <td>2022</td>\n",
       "      <td>SE</td>\n",
       "      <td>FT</td>\n",
       "      <td>Data Engineer</td>\n",
       "      <td>126000</td>\n",
       "      <td>USD</td>\n",
       "      <td>126000</td>\n",
       "      <td>US</td>\n",
       "      <td>100</td>\n",
       "      <td>US</td>\n",
       "      <td>M</td>\n",
       "    </tr>\n",
       "    <tr>\n",
       "      <th>EID704</th>\n",
       "      <td>604</td>\n",
       "      <td>2022</td>\n",
       "      <td>SE</td>\n",
       "      <td>FT</td>\n",
       "      <td>Data Analyst</td>\n",
       "      <td>129000</td>\n",
       "      <td>USD</td>\n",
       "      <td>129000</td>\n",
       "      <td>US</td>\n",
       "      <td>0</td>\n",
       "      <td>US</td>\n",
       "      <td>M</td>\n",
       "    </tr>\n",
       "    <tr>\n",
       "      <th>EID705</th>\n",
       "      <td>605</td>\n",
       "      <td>2022</td>\n",
       "      <td>SE</td>\n",
       "      <td>FT</td>\n",
       "      <td>Data Analyst</td>\n",
       "      <td>150000</td>\n",
       "      <td>USD</td>\n",
       "      <td>150000</td>\n",
       "      <td>US</td>\n",
       "      <td>100</td>\n",
       "      <td>US</td>\n",
       "      <td>M</td>\n",
       "    </tr>\n",
       "    <tr>\n",
       "      <th>EID706</th>\n",
       "      <td>606</td>\n",
       "      <td>2022</td>\n",
       "      <td>MI</td>\n",
       "      <td>FT</td>\n",
       "      <td>AI Scientist</td>\n",
       "      <td>200000</td>\n",
       "      <td>USD</td>\n",
       "      <td>200000</td>\n",
       "      <td>IN</td>\n",
       "      <td>100</td>\n",
       "      <td>US</td>\n",
       "      <td>L</td>\n",
       "    </tr>\n",
       "  </tbody>\n",
       "</table>\n",
       "</div>"
      ],
      "text/plain": [
       "        Unnamed: 0  work_year experience_level employment_type  \\\n",
       "EID697         597       2022               SE              FT   \n",
       "EID698         598       2022               MI              FT   \n",
       "EID699         599       2022               MI              FT   \n",
       "EID700         600       2022               EN              FT   \n",
       "EID701         601       2022               EN              FT   \n",
       "EID702         602       2022               SE              FT   \n",
       "EID703         603       2022               SE              FT   \n",
       "EID704         604       2022               SE              FT   \n",
       "EID705         605       2022               SE              FT   \n",
       "EID706         606       2022               MI              FT   \n",
       "\n",
       "             job_title  salary salary_currency  salary_in_usd  \\\n",
       "EID697    Data Analyst  170000             USD         170000   \n",
       "EID698  Data Scientist  160000             USD         160000   \n",
       "EID699  Data Scientist  130000             USD         130000   \n",
       "EID700    Data Analyst   67000             USD          67000   \n",
       "EID701    Data Analyst   52000             USD          52000   \n",
       "EID702   Data Engineer  154000             USD         154000   \n",
       "EID703   Data Engineer  126000             USD         126000   \n",
       "EID704    Data Analyst  129000             USD         129000   \n",
       "EID705    Data Analyst  150000             USD         150000   \n",
       "EID706    AI Scientist  200000             USD         200000   \n",
       "\n",
       "       employee_residence  remote_ratio company_location company_size  \n",
       "EID697                 US           100               US            M  \n",
       "EID698                 US           100               US            M  \n",
       "EID699                 US           100               US            M  \n",
       "EID700                 CA             0               CA            M  \n",
       "EID701                 CA             0               CA            M  \n",
       "EID702                 US           100               US            M  \n",
       "EID703                 US           100               US            M  \n",
       "EID704                 US             0               US            M  \n",
       "EID705                 US           100               US            M  \n",
       "EID706                 IN           100               US            L  "
      ]
     },
     "execution_count": 44,
     "metadata": {},
     "output_type": "execute_result"
    }
   ],
   "source": [
    "df.tail(10)"
   ]
  },
  {
   "cell_type": "code",
   "execution_count": 16,
   "metadata": {
    "cell_id": "1bf59fd6538d4759ba0701765ef2f7b1",
    "deepnote_app_coordinates": {
     "h": 5,
     "w": 12,
     "x": 0,
     "y": 175
    },
    "deepnote_cell_type": "code",
    "deepnote_to_be_reexecuted": false,
    "execution_millis": 538,
    "execution_start": 1666898372116,
    "source_hash": "f88152d9"
   },
   "outputs": [
    {
     "data": {
      "application/vnd.deepnote.dataframe.v3+json": {
       "column_count": 5,
       "columns": [
        {
         "dtype": "float64",
         "name": "Unnamed: 0",
         "stats": {
          "histogram": [
           {
            "bin_end": 60.7,
            "bin_start": 0,
            "count": 1
           },
           {
            "bin_end": 121.4,
            "bin_start": 60.7,
            "count": 0
           },
           {
            "bin_end": 182.10000000000002,
            "bin_start": 121.4,
            "count": 2
           },
           {
            "bin_end": 242.8,
            "bin_start": 182.10000000000002,
            "count": 0
           },
           {
            "bin_end": 303.5,
            "bin_start": 242.8,
            "count": 2
           },
           {
            "bin_end": 364.20000000000005,
            "bin_start": 303.5,
            "count": 0
           },
           {
            "bin_end": 424.90000000000003,
            "bin_start": 364.20000000000005,
            "count": 0
           },
           {
            "bin_end": 485.6,
            "bin_start": 424.90000000000003,
            "count": 1
           },
           {
            "bin_end": 546.3000000000001,
            "bin_start": 485.6,
            "count": 0
           },
           {
            "bin_end": 607,
            "bin_start": 546.3000000000001,
            "count": 2
           }
          ],
          "max": "607.0",
          "min": "0.0",
          "nan_count": 0,
          "unique_count": 7
         }
        },
        {
         "dtype": "float64",
         "name": "work_year",
         "stats": {
          "histogram": [
           {
            "bin_end": 202.82291968690737,
            "bin_start": 0.692132985452652,
            "count": 1
           },
           {
            "bin_end": 404.9537063883621,
            "bin_start": 202.82291968690737,
            "count": 0
           },
           {
            "bin_end": 607.0844930898168,
            "bin_start": 404.9537063883621,
            "count": 1
           },
           {
            "bin_end": 809.2152797912715,
            "bin_start": 607.0844930898168,
            "count": 0
           },
           {
            "bin_end": 1011.3460664927263,
            "bin_start": 809.2152797912715,
            "count": 0
           },
           {
            "bin_end": 1213.4768531941809,
            "bin_start": 1011.3460664927263,
            "count": 0
           },
           {
            "bin_end": 1415.6076398956357,
            "bin_start": 1213.4768531941809,
            "count": 0
           },
           {
            "bin_end": 1617.7384265970904,
            "bin_start": 1415.6076398956357,
            "count": 0
           },
           {
            "bin_end": 1819.8692132985452,
            "bin_start": 1617.7384265970904,
            "count": 0
           },
           {
            "bin_end": 2022,
            "bin_start": 1819.8692132985452,
            "count": 6
           }
          ],
          "max": "2022.0",
          "min": "0.692132985452652",
          "nan_count": 0,
          "unique_count": 6
         }
        },
        {
         "dtype": "float64",
         "name": "salary",
         "stats": {
          "histogram": [
           {
            "bin_end": 3040546.3,
            "bin_start": 607,
            "count": 7
           },
           {
            "bin_end": 6080485.6,
            "bin_start": 3040546.3,
            "count": 0
           },
           {
            "bin_end": 9120424.899999999,
            "bin_start": 6080485.6,
            "count": 0
           },
           {
            "bin_end": 12160364.2,
            "bin_start": 9120424.899999999,
            "count": 0
           },
           {
            "bin_end": 15200303.5,
            "bin_start": 12160364.2,
            "count": 0
           },
           {
            "bin_end": 18240242.799999997,
            "bin_start": 15200303.5,
            "count": 0
           },
           {
            "bin_end": 21280182.099999998,
            "bin_start": 18240242.799999997,
            "count": 0
           },
           {
            "bin_end": 24320121.4,
            "bin_start": 21280182.099999998,
            "count": 0
           },
           {
            "bin_end": 27360060.7,
            "bin_start": 24320121.4,
            "count": 0
           },
           {
            "bin_end": 30400000,
            "bin_start": 27360060.7,
            "count": 1
           }
          ],
          "max": "30400000.0",
          "min": "607.0",
          "nan_count": 0,
          "unique_count": 8
         }
        },
        {
         "dtype": "float64",
         "name": "salary_in_usd",
         "stats": {
          "histogram": [
           {
            "bin_end": 60546.3,
            "bin_start": 607,
            "count": 2
           },
           {
            "bin_end": 120485.6,
            "bin_start": 60546.3,
            "count": 4
           },
           {
            "bin_end": 180424.90000000002,
            "bin_start": 120485.6,
            "count": 1
           },
           {
            "bin_end": 240364.2,
            "bin_start": 180424.90000000002,
            "count": 0
           },
           {
            "bin_end": 300303.5,
            "bin_start": 240364.2,
            "count": 0
           },
           {
            "bin_end": 360242.80000000005,
            "bin_start": 300303.5,
            "count": 0
           },
           {
            "bin_end": 420182.10000000003,
            "bin_start": 360242.80000000005,
            "count": 0
           },
           {
            "bin_end": 480121.4,
            "bin_start": 420182.10000000003,
            "count": 0
           },
           {
            "bin_end": 540060.7000000001,
            "bin_start": 480121.4,
            "count": 0
           },
           {
            "bin_end": 600000,
            "bin_start": 540060.7000000001,
            "count": 1
           }
          ],
          "max": "600000.0",
          "min": "607.0",
          "nan_count": 0,
          "unique_count": 8
         }
        },
        {
         "dtype": "float64",
         "name": "remote_ratio",
         "stats": {
          "histogram": [
           {
            "bin_end": 60.7,
            "bin_start": 0,
            "count": 3
           },
           {
            "bin_end": 121.4,
            "bin_start": 60.7,
            "count": 4
           },
           {
            "bin_end": 182.10000000000002,
            "bin_start": 121.4,
            "count": 0
           },
           {
            "bin_end": 242.8,
            "bin_start": 182.10000000000002,
            "count": 0
           },
           {
            "bin_end": 303.5,
            "bin_start": 242.8,
            "count": 0
           },
           {
            "bin_end": 364.20000000000005,
            "bin_start": 303.5,
            "count": 0
           },
           {
            "bin_end": 424.90000000000003,
            "bin_start": 364.20000000000005,
            "count": 0
           },
           {
            "bin_end": 485.6,
            "bin_start": 424.90000000000003,
            "count": 0
           },
           {
            "bin_end": 546.3000000000001,
            "bin_start": 485.6,
            "count": 0
           },
           {
            "bin_end": 607,
            "bin_start": 546.3000000000001,
            "count": 1
           }
          ],
          "max": "607.0",
          "min": "0.0",
          "nan_count": 0,
          "unique_count": 6
         }
        },
        {
         "dtype": "object",
         "name": "_deepnote_index_column"
        }
       ],
       "row_count": 8,
       "rows": [
        {
         "Unnamed: 0": "607.0",
         "_deepnote_index_column": "count",
         "remote_ratio": "607.0",
         "salary": "607.0",
         "salary_in_usd": "607.0",
         "work_year": "607.0"
        },
        {
         "Unnamed: 0": "303.0",
         "_deepnote_index_column": "mean",
         "remote_ratio": "70.92257001647447",
         "salary": "324000.0626029654",
         "salary_in_usd": "112297.86985172982",
         "work_year": "2021.4052718286655"
        },
        {
         "Unnamed: 0": "175.37008486816293",
         "_deepnote_index_column": "std",
         "remote_ratio": "40.70913004022121",
         "salary": "1544357.4866358503",
         "salary_in_usd": "70957.25941139569",
         "work_year": "0.692132985452652"
        },
        {
         "Unnamed: 0": "0.0",
         "_deepnote_index_column": "min",
         "remote_ratio": "0.0",
         "salary": "4000.0",
         "salary_in_usd": "2859.0",
         "work_year": "2020.0"
        },
        {
         "Unnamed: 0": "151.5",
         "_deepnote_index_column": "25%",
         "remote_ratio": "50.0",
         "salary": "70000.0",
         "salary_in_usd": "62726.0",
         "work_year": "2021.0"
        },
        {
         "Unnamed: 0": "303.0",
         "_deepnote_index_column": "50%",
         "remote_ratio": "100.0",
         "salary": "115000.0",
         "salary_in_usd": "101570.0",
         "work_year": "2022.0"
        },
        {
         "Unnamed: 0": "454.5",
         "_deepnote_index_column": "75%",
         "remote_ratio": "100.0",
         "salary": "165000.0",
         "salary_in_usd": "150000.0",
         "work_year": "2022.0"
        },
        {
         "Unnamed: 0": "606.0",
         "_deepnote_index_column": "max",
         "remote_ratio": "100.0",
         "salary": "30400000.0",
         "salary_in_usd": "600000.0",
         "work_year": "2022.0"
        }
       ]
      },
      "text/html": [
       "<div>\n",
       "<style scoped>\n",
       "    .dataframe tbody tr th:only-of-type {\n",
       "        vertical-align: middle;\n",
       "    }\n",
       "\n",
       "    .dataframe tbody tr th {\n",
       "        vertical-align: top;\n",
       "    }\n",
       "\n",
       "    .dataframe thead th {\n",
       "        text-align: right;\n",
       "    }\n",
       "</style>\n",
       "<table border=\"1\" class=\"dataframe\">\n",
       "  <thead>\n",
       "    <tr style=\"text-align: right;\">\n",
       "      <th></th>\n",
       "      <th>Unnamed: 0</th>\n",
       "      <th>work_year</th>\n",
       "      <th>salary</th>\n",
       "      <th>salary_in_usd</th>\n",
       "      <th>remote_ratio</th>\n",
       "    </tr>\n",
       "  </thead>\n",
       "  <tbody>\n",
       "    <tr>\n",
       "      <th>count</th>\n",
       "      <td>607.000000</td>\n",
       "      <td>607.000000</td>\n",
       "      <td>6.070000e+02</td>\n",
       "      <td>607.000000</td>\n",
       "      <td>607.00000</td>\n",
       "    </tr>\n",
       "    <tr>\n",
       "      <th>mean</th>\n",
       "      <td>303.000000</td>\n",
       "      <td>2021.405272</td>\n",
       "      <td>3.240001e+05</td>\n",
       "      <td>112297.869852</td>\n",
       "      <td>70.92257</td>\n",
       "    </tr>\n",
       "    <tr>\n",
       "      <th>std</th>\n",
       "      <td>175.370085</td>\n",
       "      <td>0.692133</td>\n",
       "      <td>1.544357e+06</td>\n",
       "      <td>70957.259411</td>\n",
       "      <td>40.70913</td>\n",
       "    </tr>\n",
       "    <tr>\n",
       "      <th>min</th>\n",
       "      <td>0.000000</td>\n",
       "      <td>2020.000000</td>\n",
       "      <td>4.000000e+03</td>\n",
       "      <td>2859.000000</td>\n",
       "      <td>0.00000</td>\n",
       "    </tr>\n",
       "    <tr>\n",
       "      <th>25%</th>\n",
       "      <td>151.500000</td>\n",
       "      <td>2021.000000</td>\n",
       "      <td>7.000000e+04</td>\n",
       "      <td>62726.000000</td>\n",
       "      <td>50.00000</td>\n",
       "    </tr>\n",
       "    <tr>\n",
       "      <th>50%</th>\n",
       "      <td>303.000000</td>\n",
       "      <td>2022.000000</td>\n",
       "      <td>1.150000e+05</td>\n",
       "      <td>101570.000000</td>\n",
       "      <td>100.00000</td>\n",
       "    </tr>\n",
       "    <tr>\n",
       "      <th>75%</th>\n",
       "      <td>454.500000</td>\n",
       "      <td>2022.000000</td>\n",
       "      <td>1.650000e+05</td>\n",
       "      <td>150000.000000</td>\n",
       "      <td>100.00000</td>\n",
       "    </tr>\n",
       "    <tr>\n",
       "      <th>max</th>\n",
       "      <td>606.000000</td>\n",
       "      <td>2022.000000</td>\n",
       "      <td>3.040000e+07</td>\n",
       "      <td>600000.000000</td>\n",
       "      <td>100.00000</td>\n",
       "    </tr>\n",
       "  </tbody>\n",
       "</table>\n",
       "</div>"
      ],
      "text/plain": [
       "       Unnamed: 0    work_year        salary  salary_in_usd  remote_ratio\n",
       "count  607.000000   607.000000  6.070000e+02     607.000000     607.00000\n",
       "mean   303.000000  2021.405272  3.240001e+05  112297.869852      70.92257\n",
       "std    175.370085     0.692133  1.544357e+06   70957.259411      40.70913\n",
       "min      0.000000  2020.000000  4.000000e+03    2859.000000       0.00000\n",
       "25%    151.500000  2021.000000  7.000000e+04   62726.000000      50.00000\n",
       "50%    303.000000  2022.000000  1.150000e+05  101570.000000     100.00000\n",
       "75%    454.500000  2022.000000  1.650000e+05  150000.000000     100.00000\n",
       "max    606.000000  2022.000000  3.040000e+07  600000.000000     100.00000"
      ]
     },
     "execution_count": 16,
     "metadata": {},
     "output_type": "execute_result"
    }
   ],
   "source": [
    "df.describe()"
   ]
  },
  {
   "cell_type": "code",
   "execution_count": 45,
   "metadata": {
    "cell_id": "4083a891a3324524a009e731bd242326",
    "deepnote_app_coordinates": {
     "h": 5,
     "w": 12,
     "x": 0,
     "y": 181
    },
    "deepnote_cell_type": "code",
    "deepnote_to_be_reexecuted": false,
    "execution_millis": 5,
    "execution_start": 1666899435006,
    "source_hash": "de1e323c",
    "tags": []
   },
   "outputs": [
    {
     "name": "stdout",
     "output_type": "stream",
     "text": [
      "<class 'pandas.core.frame.DataFrame'>\n",
      "Index: 607 entries, EID100 to EID706\n",
      "Data columns (total 12 columns):\n",
      " #   Column              Non-Null Count  Dtype \n",
      "---  ------              --------------  ----- \n",
      " 0   Unnamed: 0          607 non-null    int64 \n",
      " 1   work_year           607 non-null    int64 \n",
      " 2   experience_level    607 non-null    object\n",
      " 3   employment_type     607 non-null    object\n",
      " 4   job_title           607 non-null    object\n",
      " 5   salary              607 non-null    int64 \n",
      " 6   salary_currency     607 non-null    object\n",
      " 7   salary_in_usd       607 non-null    int64 \n",
      " 8   employee_residence  607 non-null    object\n",
      " 9   remote_ratio        607 non-null    int64 \n",
      " 10  company_location    607 non-null    object\n",
      " 11  company_size        607 non-null    object\n",
      "dtypes: int64(5), object(7)\n",
      "memory usage: 77.8+ KB\n"
     ]
    }
   ],
   "source": [
    "df.info()"
   ]
  },
  {
   "cell_type": "markdown",
   "metadata": {
    "cell_id": "1f27883718ec4ec0ad3ac613518785d7",
    "deepnote_app_coordinates": {
     "h": 5,
     "w": 12,
     "x": 0,
     "y": 187
    },
    "deepnote_cell_type": "markdown"
   },
   "source": [
    "### Accessing Columns"
   ]
  },
  {
   "cell_type": "code",
   "execution_count": 17,
   "metadata": {
    "cell_id": "728c3ae6fad2465fb7d2de537b9d3191",
    "deepnote_app_coordinates": {
     "h": 5,
     "w": 12,
     "x": 0,
     "y": 193
    },
    "deepnote_cell_type": "code",
    "deepnote_to_be_reexecuted": false,
    "execution_millis": 475,
    "execution_start": 1666898372180,
    "scrolled": true,
    "source_hash": "26a38fd5"
   },
   "outputs": [
    {
     "data": {
      "text/plain": [
       "0       70000\n",
       "1      260000\n",
       "2       85000\n",
       "3       20000\n",
       "4      150000\n",
       "        ...  \n",
       "602    154000\n",
       "603    126000\n",
       "604    129000\n",
       "605    150000\n",
       "606    200000\n",
       "Name: salary, Length: 607, dtype: int64"
      ]
     },
     "execution_count": 17,
     "metadata": {},
     "output_type": "execute_result"
    }
   ],
   "source": [
    "df['salary']"
   ]
  },
  {
   "cell_type": "code",
   "execution_count": 18,
   "metadata": {
    "cell_id": "8823955b7bd94e3f9060326e54b89bbb",
    "deepnote_app_coordinates": {
     "h": 5,
     "w": 12,
     "x": 0,
     "y": 199
    },
    "deepnote_cell_type": "code",
    "deepnote_to_be_reexecuted": false,
    "execution_millis": 452,
    "execution_start": 1666898372204,
    "source_hash": "3ec8021b",
    "tags": []
   },
   "outputs": [
    {
     "data": {
      "text/plain": [
       "pandas.core.series.Series"
      ]
     },
     "execution_count": 18,
     "metadata": {},
     "output_type": "execute_result"
    }
   ],
   "source": [
    "type(df['salary'])"
   ]
  },
  {
   "cell_type": "code",
   "execution_count": 19,
   "metadata": {
    "cell_id": "4490a07d849c4ef5b90f47aa630a1a3f",
    "deepnote_app_coordinates": {
     "h": 5,
     "w": 12,
     "x": 0,
     "y": 205
    },
    "deepnote_cell_type": "code",
    "deepnote_to_be_reexecuted": false,
    "execution_millis": 451,
    "execution_start": 1666898372205,
    "source_hash": "50687b07"
   },
   "outputs": [
    {
     "data": {
      "text/plain": [
       "0       70000\n",
       "1      260000\n",
       "2       85000\n",
       "3       20000\n",
       "4      150000\n",
       "        ...  \n",
       "602    154000\n",
       "603    126000\n",
       "604    129000\n",
       "605    150000\n",
       "606    200000\n",
       "Name: salary, Length: 607, dtype: int64"
      ]
     },
     "execution_count": 19,
     "metadata": {},
     "output_type": "execute_result"
    }
   ],
   "source": [
    "df.salary"
   ]
  },
  {
   "cell_type": "code",
   "execution_count": 20,
   "metadata": {
    "cell_id": "0beda576588c455d91735b3b8f09be44",
    "deepnote_app_coordinates": {
     "h": 5,
     "w": 12,
     "x": 0,
     "y": 211
    },
    "deepnote_cell_type": "code",
    "deepnote_to_be_reexecuted": false,
    "execution_millis": 450,
    "execution_start": 1666898372207,
    "source_hash": "f24b04b4",
    "tags": []
   },
   "outputs": [
    {
     "data": {
      "text/plain": [
       "pandas.core.series.Series"
      ]
     },
     "execution_count": 20,
     "metadata": {},
     "output_type": "execute_result"
    }
   ],
   "source": [
    "type(df.salary)"
   ]
  },
  {
   "cell_type": "code",
   "execution_count": 21,
   "metadata": {
    "cell_id": "0a88dec14e754695b640def0de7034c4",
    "deepnote_app_coordinates": {
     "h": 5,
     "w": 12,
     "x": 0,
     "y": 217
    },
    "deepnote_cell_type": "code",
    "deepnote_to_be_reexecuted": false,
    "execution_millis": 449,
    "execution_start": 1666898372209,
    "scrolled": true,
    "source_hash": "667a4618"
   },
   "outputs": [
    {
     "data": {
      "application/vnd.deepnote.dataframe.v3+json": {
       "column_count": 3,
       "columns": [
        {
         "dtype": "int64",
         "name": "salary",
         "stats": {
          "histogram": [
           {
            "bin_end": 3043600,
            "bin_start": 4000,
            "count": 597
           },
           {
            "bin_end": 6083200,
            "bin_start": 3043600,
            "count": 4
           },
           {
            "bin_end": 9122800,
            "bin_start": 6083200,
            "count": 3
           },
           {
            "bin_end": 12162400,
            "bin_start": 9122800,
            "count": 2
           },
           {
            "bin_end": 15202000,
            "bin_start": 12162400,
            "count": 0
           },
           {
            "bin_end": 18241600,
            "bin_start": 15202000,
            "count": 0
           },
           {
            "bin_end": 21281200,
            "bin_start": 18241600,
            "count": 0
           },
           {
            "bin_end": 24320800,
            "bin_start": 21281200,
            "count": 0
           },
           {
            "bin_end": 27360400,
            "bin_start": 24320800,
            "count": 0
           },
           {
            "bin_end": 30400000,
            "bin_start": 27360400,
            "count": 1
           }
          ],
          "max": "30400000",
          "min": "4000",
          "nan_count": 0,
          "unique_count": 272
         }
        },
        {
         "dtype": "int64",
         "name": "remote_ratio",
         "stats": {
          "histogram": [
           {
            "bin_end": 10,
            "bin_start": 0,
            "count": 127
           },
           {
            "bin_end": 20,
            "bin_start": 10,
            "count": 0
           },
           {
            "bin_end": 30,
            "bin_start": 20,
            "count": 0
           },
           {
            "bin_end": 40,
            "bin_start": 30,
            "count": 0
           },
           {
            "bin_end": 50,
            "bin_start": 40,
            "count": 0
           },
           {
            "bin_end": 60,
            "bin_start": 50,
            "count": 99
           },
           {
            "bin_end": 70,
            "bin_start": 60,
            "count": 0
           },
           {
            "bin_end": 80,
            "bin_start": 70,
            "count": 0
           },
           {
            "bin_end": 90,
            "bin_start": 80,
            "count": 0
           },
           {
            "bin_end": 100,
            "bin_start": 90,
            "count": 381
           }
          ],
          "max": "100",
          "min": "0",
          "nan_count": 0,
          "unique_count": 3
         }
        },
        {
         "dtype": "object",
         "name": "job_title",
         "stats": {
          "categories": [
           {
            "count": 143,
            "name": "Data Scientist"
           },
           {
            "count": 132,
            "name": "Data Engineer"
           },
           {
            "count": 332,
            "name": "48 others"
           }
          ],
          "nan_count": 0,
          "unique_count": 50
         }
        },
        {
         "dtype": "int64",
         "name": "_deepnote_index_column"
        }
       ],
       "row_count": 607,
       "rows": [
        {
         "_deepnote_index_column": "0",
         "job_title": "Data Scientist",
         "remote_ratio": "0",
         "salary": "70000"
        },
        {
         "_deepnote_index_column": "1",
         "job_title": "Machine Learning Scientist",
         "remote_ratio": "0",
         "salary": "260000"
        },
        {
         "_deepnote_index_column": "2",
         "job_title": "Big Data Engineer",
         "remote_ratio": "50",
         "salary": "85000"
        },
        {
         "_deepnote_index_column": "3",
         "job_title": "Product Data Analyst",
         "remote_ratio": "0",
         "salary": "20000"
        },
        {
         "_deepnote_index_column": "4",
         "job_title": "Machine Learning Engineer",
         "remote_ratio": "50",
         "salary": "150000"
        },
        {
         "_deepnote_index_column": "5",
         "job_title": "Data Analyst",
         "remote_ratio": "100",
         "salary": "72000"
        },
        {
         "_deepnote_index_column": "6",
         "job_title": "Lead Data Scientist",
         "remote_ratio": "100",
         "salary": "190000"
        },
        {
         "_deepnote_index_column": "7",
         "job_title": "Data Scientist",
         "remote_ratio": "50",
         "salary": "11000000"
        },
        {
         "_deepnote_index_column": "8",
         "job_title": "Business Data Analyst",
         "remote_ratio": "100",
         "salary": "135000"
        },
        {
         "_deepnote_index_column": "9",
         "job_title": "Lead Data Engineer",
         "remote_ratio": "50",
         "salary": "125000"
        }
       ]
      },
      "text/html": [
       "<div>\n",
       "<style scoped>\n",
       "    .dataframe tbody tr th:only-of-type {\n",
       "        vertical-align: middle;\n",
       "    }\n",
       "\n",
       "    .dataframe tbody tr th {\n",
       "        vertical-align: top;\n",
       "    }\n",
       "\n",
       "    .dataframe thead th {\n",
       "        text-align: right;\n",
       "    }\n",
       "</style>\n",
       "<table border=\"1\" class=\"dataframe\">\n",
       "  <thead>\n",
       "    <tr style=\"text-align: right;\">\n",
       "      <th></th>\n",
       "      <th>salary</th>\n",
       "      <th>remote_ratio</th>\n",
       "      <th>job_title</th>\n",
       "    </tr>\n",
       "  </thead>\n",
       "  <tbody>\n",
       "    <tr>\n",
       "      <th>0</th>\n",
       "      <td>70000</td>\n",
       "      <td>0</td>\n",
       "      <td>Data Scientist</td>\n",
       "    </tr>\n",
       "    <tr>\n",
       "      <th>1</th>\n",
       "      <td>260000</td>\n",
       "      <td>0</td>\n",
       "      <td>Machine Learning Scientist</td>\n",
       "    </tr>\n",
       "    <tr>\n",
       "      <th>2</th>\n",
       "      <td>85000</td>\n",
       "      <td>50</td>\n",
       "      <td>Big Data Engineer</td>\n",
       "    </tr>\n",
       "    <tr>\n",
       "      <th>3</th>\n",
       "      <td>20000</td>\n",
       "      <td>0</td>\n",
       "      <td>Product Data Analyst</td>\n",
       "    </tr>\n",
       "    <tr>\n",
       "      <th>4</th>\n",
       "      <td>150000</td>\n",
       "      <td>50</td>\n",
       "      <td>Machine Learning Engineer</td>\n",
       "    </tr>\n",
       "    <tr>\n",
       "      <th>...</th>\n",
       "      <td>...</td>\n",
       "      <td>...</td>\n",
       "      <td>...</td>\n",
       "    </tr>\n",
       "    <tr>\n",
       "      <th>602</th>\n",
       "      <td>154000</td>\n",
       "      <td>100</td>\n",
       "      <td>Data Engineer</td>\n",
       "    </tr>\n",
       "    <tr>\n",
       "      <th>603</th>\n",
       "      <td>126000</td>\n",
       "      <td>100</td>\n",
       "      <td>Data Engineer</td>\n",
       "    </tr>\n",
       "    <tr>\n",
       "      <th>604</th>\n",
       "      <td>129000</td>\n",
       "      <td>0</td>\n",
       "      <td>Data Analyst</td>\n",
       "    </tr>\n",
       "    <tr>\n",
       "      <th>605</th>\n",
       "      <td>150000</td>\n",
       "      <td>100</td>\n",
       "      <td>Data Analyst</td>\n",
       "    </tr>\n",
       "    <tr>\n",
       "      <th>606</th>\n",
       "      <td>200000</td>\n",
       "      <td>100</td>\n",
       "      <td>AI Scientist</td>\n",
       "    </tr>\n",
       "  </tbody>\n",
       "</table>\n",
       "<p>607 rows × 3 columns</p>\n",
       "</div>"
      ],
      "text/plain": [
       "     salary  remote_ratio                   job_title\n",
       "0     70000             0              Data Scientist\n",
       "1    260000             0  Machine Learning Scientist\n",
       "2     85000            50           Big Data Engineer\n",
       "3     20000             0        Product Data Analyst\n",
       "4    150000            50   Machine Learning Engineer\n",
       "..      ...           ...                         ...\n",
       "602  154000           100               Data Engineer\n",
       "603  126000           100               Data Engineer\n",
       "604  129000             0                Data Analyst\n",
       "605  150000           100                Data Analyst\n",
       "606  200000           100                AI Scientist\n",
       "\n",
       "[607 rows x 3 columns]"
      ]
     },
     "execution_count": 21,
     "metadata": {},
     "output_type": "execute_result"
    }
   ],
   "source": [
    "df[['salary','remote_ratio','job_title']]"
   ]
  },
  {
   "cell_type": "code",
   "execution_count": 22,
   "metadata": {
    "cell_id": "9ada5c02faf1491495107772ecaba487",
    "deepnote_app_coordinates": {
     "h": 5,
     "w": 12,
     "x": 0,
     "y": 223
    },
    "deepnote_cell_type": "code",
    "deepnote_to_be_reexecuted": false,
    "execution_millis": 395,
    "execution_start": 1666898372264,
    "source_hash": "43a403fe",
    "tags": []
   },
   "outputs": [
    {
     "data": {
      "text/plain": [
       "pandas.core.frame.DataFrame"
      ]
     },
     "execution_count": 22,
     "metadata": {},
     "output_type": "execute_result"
    }
   ],
   "source": [
    "type(df[['salary','remote_ratio','job_title']])"
   ]
  },
  {
   "cell_type": "markdown",
   "metadata": {
    "cell_id": "d148dc60b9f545158352e4c3224a49a6",
    "deepnote_app_coordinates": {
     "h": 5,
     "w": 12,
     "x": 0,
     "y": 229
    },
    "deepnote_cell_type": "markdown"
   },
   "source": [
    "### Accessing Rows"
   ]
  },
  {
   "cell_type": "code",
   "execution_count": 23,
   "metadata": {
    "cell_id": "fcaa601867844c62bb279728409bde8f",
    "deepnote_app_coordinates": {
     "h": 5,
     "w": 12,
     "x": 0,
     "y": 235
    },
    "deepnote_cell_type": "code",
    "deepnote_to_be_reexecuted": false,
    "execution_millis": 393,
    "execution_start": 1666898372266,
    "source_hash": "52644606"
   },
   "outputs": [
    {
     "data": {
      "text/plain": [
       "Unnamed: 0                         0\n",
       "work_year                       2020\n",
       "experience_level                  MI\n",
       "employment_type                   FT\n",
       "job_title             Data Scientist\n",
       "salary                         70000\n",
       "salary_currency                  EUR\n",
       "salary_in_usd                  79833\n",
       "employee_residence                DE\n",
       "remote_ratio                       0\n",
       "company_location                  DE\n",
       "company_size                       L\n",
       "Name: 0, dtype: object"
      ]
     },
     "execution_count": 23,
     "metadata": {},
     "output_type": "execute_result"
    }
   ],
   "source": [
    "df.loc[0]"
   ]
  },
  {
   "cell_type": "code",
   "execution_count": 24,
   "metadata": {
    "cell_id": "9b0f6202014042a88b2537a6126eabf6",
    "deepnote_app_coordinates": {
     "h": 5,
     "w": 12,
     "x": 0,
     "y": 241
    },
    "deepnote_cell_type": "code",
    "deepnote_to_be_reexecuted": false,
    "execution_millis": 393,
    "execution_start": 1666898372267,
    "source_hash": "232ee04b",
    "tags": []
   },
   "outputs": [
    {
     "data": {
      "text/plain": [
       "pandas.core.series.Series"
      ]
     },
     "execution_count": 24,
     "metadata": {},
     "output_type": "execute_result"
    }
   ],
   "source": [
    "type(df.loc[0])"
   ]
  },
  {
   "cell_type": "code",
   "execution_count": 25,
   "metadata": {
    "cell_id": "dda0cbb24f3342368c84cc3b35542db4",
    "deepnote_app_coordinates": {
     "h": 5,
     "w": 12,
     "x": 0,
     "y": 247
    },
    "deepnote_cell_type": "code",
    "deepnote_to_be_reexecuted": false,
    "execution_millis": 392,
    "execution_start": 1666898372269,
    "scrolled": true,
    "source_hash": "95a6efc6"
   },
   "outputs": [
    {
     "data": {
      "application/vnd.deepnote.dataframe.v3+json": {
       "column_count": 12,
       "columns": [
        {
         "dtype": "int64",
         "name": "Unnamed: 0",
         "stats": {
          "histogram": [
           {
            "bin_end": 2,
            "bin_start": 0,
            "count": 1
           },
           {
            "bin_end": 4,
            "bin_start": 2,
            "count": 0
           },
           {
            "bin_end": 6,
            "bin_start": 4,
            "count": 0
           },
           {
            "bin_end": 8,
            "bin_start": 6,
            "count": 0
           },
           {
            "bin_end": 10,
            "bin_start": 8,
            "count": 0
           },
           {
            "bin_end": 12,
            "bin_start": 10,
            "count": 1
           },
           {
            "bin_end": 14,
            "bin_start": 12,
            "count": 0
           },
           {
            "bin_end": 16,
            "bin_start": 14,
            "count": 0
           },
           {
            "bin_end": 18,
            "bin_start": 16,
            "count": 0
           },
           {
            "bin_end": 20,
            "bin_start": 18,
            "count": 1
           }
          ],
          "max": "20",
          "min": "0",
          "nan_count": 0,
          "unique_count": 3
         }
        },
        {
         "dtype": "int64",
         "name": "work_year",
         "stats": {
          "histogram": [
           {
            "bin_end": 2019.6,
            "bin_start": 2019.5,
            "count": 0
           },
           {
            "bin_end": 2019.7,
            "bin_start": 2019.6,
            "count": 0
           },
           {
            "bin_end": 2019.8,
            "bin_start": 2019.7,
            "count": 0
           },
           {
            "bin_end": 2019.9,
            "bin_start": 2019.8,
            "count": 0
           },
           {
            "bin_end": 2020,
            "bin_start": 2019.9,
            "count": 0
           },
           {
            "bin_end": 2020.1,
            "bin_start": 2020,
            "count": 3
           },
           {
            "bin_end": 2020.2,
            "bin_start": 2020.1,
            "count": 0
           },
           {
            "bin_end": 2020.3,
            "bin_start": 2020.2,
            "count": 0
           },
           {
            "bin_end": 2020.4,
            "bin_start": 2020.3,
            "count": 0
           },
           {
            "bin_end": 2020.5,
            "bin_start": 2020.4,
            "count": 0
           }
          ],
          "max": "2020",
          "min": "2020",
          "nan_count": 0,
          "unique_count": 1
         }
        },
        {
         "dtype": "object",
         "name": "experience_level",
         "stats": {
          "categories": [
           {
            "count": 2,
            "name": "MI"
           },
           {
            "count": 1,
            "name": "EN"
           }
          ],
          "nan_count": 0,
          "unique_count": 2
         }
        },
        {
         "dtype": "object",
         "name": "employment_type",
         "stats": {
          "categories": [
           {
            "count": 3,
            "name": "FT"
           }
          ],
          "nan_count": 0,
          "unique_count": 1
         }
        },
        {
         "dtype": "object",
         "name": "job_title",
         "stats": {
          "categories": [
           {
            "count": 2,
            "name": "Data Scientist"
           },
           {
            "count": 1,
            "name": "Machine Learning Engineer"
           }
          ],
          "nan_count": 0,
          "unique_count": 2
         }
        },
        {
         "dtype": "int64",
         "name": "salary",
         "stats": {
          "histogram": [
           {
            "bin_end": 70400,
            "bin_start": 45000,
            "count": 2
           },
           {
            "bin_end": 95800,
            "bin_start": 70400,
            "count": 0
           },
           {
            "bin_end": 121200,
            "bin_start": 95800,
            "count": 0
           },
           {
            "bin_end": 146600,
            "bin_start": 121200,
            "count": 0
           },
           {
            "bin_end": 172000,
            "bin_start": 146600,
            "count": 0
           },
           {
            "bin_end": 197400,
            "bin_start": 172000,
            "count": 0
           },
           {
            "bin_end": 222800,
            "bin_start": 197400,
            "count": 0
           },
           {
            "bin_end": 248200,
            "bin_start": 222800,
            "count": 0
           },
           {
            "bin_end": 273600,
            "bin_start": 248200,
            "count": 0
           },
           {
            "bin_end": 299000,
            "bin_start": 273600,
            "count": 1
           }
          ],
          "max": "299000",
          "min": "45000",
          "nan_count": 0,
          "unique_count": 3
         }
        },
        {
         "dtype": "object",
         "name": "salary_currency",
         "stats": {
          "categories": [
           {
            "count": 2,
            "name": "EUR"
           },
           {
            "count": 1,
            "name": "CNY"
           }
          ],
          "nan_count": 0,
          "unique_count": 2
         }
        },
        {
         "dtype": "int64",
         "name": "salary_in_usd",
         "stats": {
          "histogram": [
           {
            "bin_end": 46981.2,
            "bin_start": 43331,
            "count": 1
           },
           {
            "bin_end": 50631.4,
            "bin_start": 46981.2,
            "count": 0
           },
           {
            "bin_end": 54281.6,
            "bin_start": 50631.4,
            "count": 1
           },
           {
            "bin_end": 57931.8,
            "bin_start": 54281.6,
            "count": 0
           },
           {
            "bin_end": 61582,
            "bin_start": 57931.8,
            "count": 0
           },
           {
            "bin_end": 65232.2,
            "bin_start": 61582,
            "count": 0
           },
           {
            "bin_end": 68882.4,
            "bin_start": 65232.2,
            "count": 0
           },
           {
            "bin_end": 72532.6,
            "bin_start": 68882.4,
            "count": 0
           },
           {
            "bin_end": 76182.79999999999,
            "bin_start": 72532.6,
            "count": 0
           },
           {
            "bin_end": 79833,
            "bin_start": 76182.79999999999,
            "count": 1
           }
          ],
          "max": "79833",
          "min": "43331",
          "nan_count": 0,
          "unique_count": 3
         }
        },
        {
         "dtype": "object",
         "name": "employee_residence",
         "stats": {
          "categories": [
           {
            "count": 1,
            "name": "DE"
           },
           {
            "count": 1,
            "name": "FR"
           },
           {
            "count": 1,
            "name": "CN"
           }
          ],
          "nan_count": 0,
          "unique_count": 3
         }
        },
        {
         "dtype": "int64",
         "name": "remote_ratio",
         "stats": {
          "histogram": [
           {
            "bin_end": -0.4,
            "bin_start": -0.5,
            "count": 0
           },
           {
            "bin_end": -0.3,
            "bin_start": -0.4,
            "count": 0
           },
           {
            "bin_end": -0.19999999999999996,
            "bin_start": -0.3,
            "count": 0
           },
           {
            "bin_end": -0.09999999999999998,
            "bin_start": -0.19999999999999996,
            "count": 0
           },
           {
            "bin_end": 0,
            "bin_start": -0.09999999999999998,
            "count": 0
           },
           {
            "bin_end": 0.10000000000000009,
            "bin_start": 0,
            "count": 3
           },
           {
            "bin_end": 0.20000000000000007,
            "bin_start": 0.10000000000000009,
            "count": 0
           },
           {
            "bin_end": 0.30000000000000004,
            "bin_start": 0.20000000000000007,
            "count": 0
           },
           {
            "bin_end": 0.4,
            "bin_start": 0.30000000000000004,
            "count": 0
           },
           {
            "bin_end": 0.5,
            "bin_start": 0.4,
            "count": 0
           }
          ],
          "max": "0",
          "min": "0",
          "nan_count": 0,
          "unique_count": 1
         }
        },
        {
         "dtype": "object",
         "name": "company_location",
         "stats": {
          "categories": [
           {
            "count": 1,
            "name": "DE"
           },
           {
            "count": 1,
            "name": "FR"
           },
           {
            "count": 1,
            "name": "CN"
           }
          ],
          "nan_count": 0,
          "unique_count": 3
         }
        },
        {
         "dtype": "object",
         "name": "company_size",
         "stats": {
          "categories": [
           {
            "count": 1,
            "name": "L"
           },
           {
            "count": 1,
            "name": "S"
           },
           {
            "count": 1,
            "name": "M"
           }
          ],
          "nan_count": 0,
          "unique_count": 3
         }
        },
        {
         "dtype": "int64",
         "name": "_deepnote_index_column"
        }
       ],
       "row_count": 3,
       "rows": [
        {
         "Unnamed: 0": "0",
         "_deepnote_index_column": "0",
         "company_location": "DE",
         "company_size": "L",
         "employee_residence": "DE",
         "employment_type": "FT",
         "experience_level": "MI",
         "job_title": "Data Scientist",
         "remote_ratio": "0",
         "salary": "70000",
         "salary_currency": "EUR",
         "salary_in_usd": "79833",
         "work_year": "2020"
        },
        {
         "Unnamed: 0": "10",
         "_deepnote_index_column": "10",
         "company_location": "FR",
         "company_size": "S",
         "employee_residence": "FR",
         "employment_type": "FT",
         "experience_level": "EN",
         "job_title": "Data Scientist",
         "remote_ratio": "0",
         "salary": "45000",
         "salary_currency": "EUR",
         "salary_in_usd": "51321",
         "work_year": "2020"
        },
        {
         "Unnamed: 0": "20",
         "_deepnote_index_column": "20",
         "company_location": "CN",
         "company_size": "M",
         "employee_residence": "CN",
         "employment_type": "FT",
         "experience_level": "MI",
         "job_title": "Machine Learning Engineer",
         "remote_ratio": "0",
         "salary": "299000",
         "salary_currency": "CNY",
         "salary_in_usd": "43331",
         "work_year": "2020"
        }
       ]
      },
      "text/html": [
       "<div>\n",
       "<style scoped>\n",
       "    .dataframe tbody tr th:only-of-type {\n",
       "        vertical-align: middle;\n",
       "    }\n",
       "\n",
       "    .dataframe tbody tr th {\n",
       "        vertical-align: top;\n",
       "    }\n",
       "\n",
       "    .dataframe thead th {\n",
       "        text-align: right;\n",
       "    }\n",
       "</style>\n",
       "<table border=\"1\" class=\"dataframe\">\n",
       "  <thead>\n",
       "    <tr style=\"text-align: right;\">\n",
       "      <th></th>\n",
       "      <th>Unnamed: 0</th>\n",
       "      <th>work_year</th>\n",
       "      <th>experience_level</th>\n",
       "      <th>employment_type</th>\n",
       "      <th>job_title</th>\n",
       "      <th>salary</th>\n",
       "      <th>salary_currency</th>\n",
       "      <th>salary_in_usd</th>\n",
       "      <th>employee_residence</th>\n",
       "      <th>remote_ratio</th>\n",
       "      <th>company_location</th>\n",
       "      <th>company_size</th>\n",
       "    </tr>\n",
       "  </thead>\n",
       "  <tbody>\n",
       "    <tr>\n",
       "      <th>0</th>\n",
       "      <td>0</td>\n",
       "      <td>2020</td>\n",
       "      <td>MI</td>\n",
       "      <td>FT</td>\n",
       "      <td>Data Scientist</td>\n",
       "      <td>70000</td>\n",
       "      <td>EUR</td>\n",
       "      <td>79833</td>\n",
       "      <td>DE</td>\n",
       "      <td>0</td>\n",
       "      <td>DE</td>\n",
       "      <td>L</td>\n",
       "    </tr>\n",
       "    <tr>\n",
       "      <th>10</th>\n",
       "      <td>10</td>\n",
       "      <td>2020</td>\n",
       "      <td>EN</td>\n",
       "      <td>FT</td>\n",
       "      <td>Data Scientist</td>\n",
       "      <td>45000</td>\n",
       "      <td>EUR</td>\n",
       "      <td>51321</td>\n",
       "      <td>FR</td>\n",
       "      <td>0</td>\n",
       "      <td>FR</td>\n",
       "      <td>S</td>\n",
       "    </tr>\n",
       "    <tr>\n",
       "      <th>20</th>\n",
       "      <td>20</td>\n",
       "      <td>2020</td>\n",
       "      <td>MI</td>\n",
       "      <td>FT</td>\n",
       "      <td>Machine Learning Engineer</td>\n",
       "      <td>299000</td>\n",
       "      <td>CNY</td>\n",
       "      <td>43331</td>\n",
       "      <td>CN</td>\n",
       "      <td>0</td>\n",
       "      <td>CN</td>\n",
       "      <td>M</td>\n",
       "    </tr>\n",
       "  </tbody>\n",
       "</table>\n",
       "</div>"
      ],
      "text/plain": [
       "    Unnamed: 0  work_year experience_level employment_type  \\\n",
       "0            0       2020               MI              FT   \n",
       "10          10       2020               EN              FT   \n",
       "20          20       2020               MI              FT   \n",
       "\n",
       "                    job_title  salary salary_currency  salary_in_usd  \\\n",
       "0              Data Scientist   70000             EUR          79833   \n",
       "10             Data Scientist   45000             EUR          51321   \n",
       "20  Machine Learning Engineer  299000             CNY          43331   \n",
       "\n",
       "   employee_residence  remote_ratio company_location company_size  \n",
       "0                  DE             0               DE            L  \n",
       "10                 FR             0               FR            S  \n",
       "20                 CN             0               CN            M  "
      ]
     },
     "execution_count": 25,
     "metadata": {},
     "output_type": "execute_result"
    }
   ],
   "source": [
    "df.loc[[0,10,20]]"
   ]
  },
  {
   "cell_type": "code",
   "execution_count": 26,
   "metadata": {
    "cell_id": "18f5e286a45047b4b256bdc432eb0bb6",
    "deepnote_app_coordinates": {
     "h": 5,
     "w": 12,
     "x": 0,
     "y": 253
    },
    "deepnote_cell_type": "code",
    "deepnote_to_be_reexecuted": false,
    "execution_millis": 372,
    "execution_start": 1666898372290,
    "source_hash": "8e31dba0",
    "tags": []
   },
   "outputs": [
    {
     "data": {
      "text/plain": [
       "pandas.core.frame.DataFrame"
      ]
     },
     "execution_count": 26,
     "metadata": {},
     "output_type": "execute_result"
    }
   ],
   "source": [
    "type(df.loc[[0,10,20]])"
   ]
  },
  {
   "cell_type": "code",
   "execution_count": 27,
   "metadata": {
    "cell_id": "75e5de48dba54039b871ae66f49cce3c",
    "deepnote_app_coordinates": {
     "h": 5,
     "w": 12,
     "x": 0,
     "y": 259
    },
    "deepnote_cell_type": "code",
    "deepnote_to_be_reexecuted": false,
    "execution_millis": 324,
    "execution_start": 1666898372338,
    "scrolled": true,
    "source_hash": "d70c5d93"
   },
   "outputs": [
    {
     "data": {
      "application/vnd.deepnote.dataframe.v3+json": {
       "column_count": 12,
       "columns": [
        {
         "dtype": "int64",
         "name": "Unnamed: 0",
         "stats": {
          "histogram": [
           {
            "bin_end": 1,
            "bin_start": 0,
            "count": 1
           },
           {
            "bin_end": 2,
            "bin_start": 1,
            "count": 1
           },
           {
            "bin_end": 3,
            "bin_start": 2,
            "count": 1
           },
           {
            "bin_end": 4,
            "bin_start": 3,
            "count": 1
           },
           {
            "bin_end": 5,
            "bin_start": 4,
            "count": 1
           },
           {
            "bin_end": 6,
            "bin_start": 5,
            "count": 1
           },
           {
            "bin_end": 7,
            "bin_start": 6,
            "count": 1
           },
           {
            "bin_end": 8,
            "bin_start": 7,
            "count": 1
           },
           {
            "bin_end": 9,
            "bin_start": 8,
            "count": 1
           },
           {
            "bin_end": 10,
            "bin_start": 9,
            "count": 2
           }
          ],
          "max": "10",
          "min": "0",
          "nan_count": 0,
          "unique_count": 11
         }
        },
        {
         "dtype": "int64",
         "name": "work_year",
         "stats": {
          "histogram": [
           {
            "bin_end": 2019.6,
            "bin_start": 2019.5,
            "count": 0
           },
           {
            "bin_end": 2019.7,
            "bin_start": 2019.6,
            "count": 0
           },
           {
            "bin_end": 2019.8,
            "bin_start": 2019.7,
            "count": 0
           },
           {
            "bin_end": 2019.9,
            "bin_start": 2019.8,
            "count": 0
           },
           {
            "bin_end": 2020,
            "bin_start": 2019.9,
            "count": 0
           },
           {
            "bin_end": 2020.1,
            "bin_start": 2020,
            "count": 11
           },
           {
            "bin_end": 2020.2,
            "bin_start": 2020.1,
            "count": 0
           },
           {
            "bin_end": 2020.3,
            "bin_start": 2020.2,
            "count": 0
           },
           {
            "bin_end": 2020.4,
            "bin_start": 2020.3,
            "count": 0
           },
           {
            "bin_end": 2020.5,
            "bin_start": 2020.4,
            "count": 0
           }
          ],
          "max": "2020",
          "min": "2020",
          "nan_count": 0,
          "unique_count": 1
         }
        },
        {
         "dtype": "object",
         "name": "experience_level",
         "stats": {
          "categories": [
           {
            "count": 5,
            "name": "SE"
           },
           {
            "count": 4,
            "name": "MI"
           },
           {
            "count": 2,
            "name": "EN"
           }
          ],
          "nan_count": 0,
          "unique_count": 3
         }
        },
        {
         "dtype": "object",
         "name": "employment_type",
         "stats": {
          "categories": [
           {
            "count": 11,
            "name": "FT"
           }
          ],
          "nan_count": 0,
          "unique_count": 1
         }
        },
        {
         "dtype": "object",
         "name": "job_title",
         "stats": {
          "categories": [
           {
            "count": 3,
            "name": "Data Scientist"
           },
           {
            "count": 1,
            "name": "Machine Learning Scientist"
           },
           {
            "count": 7,
            "name": "7 others"
           }
          ],
          "nan_count": 0,
          "unique_count": 9
         }
        },
        {
         "dtype": "int64",
         "name": "salary",
         "stats": {
          "histogram": [
           {
            "bin_end": 1118000,
            "bin_start": 20000,
            "count": 10
           },
           {
            "bin_end": 2216000,
            "bin_start": 1118000,
            "count": 0
           },
           {
            "bin_end": 3314000,
            "bin_start": 2216000,
            "count": 0
           },
           {
            "bin_end": 4412000,
            "bin_start": 3314000,
            "count": 0
           },
           {
            "bin_end": 5510000,
            "bin_start": 4412000,
            "count": 0
           },
           {
            "bin_end": 6608000,
            "bin_start": 5510000,
            "count": 0
           },
           {
            "bin_end": 7706000,
            "bin_start": 6608000,
            "count": 0
           },
           {
            "bin_end": 8804000,
            "bin_start": 7706000,
            "count": 0
           },
           {
            "bin_end": 9902000,
            "bin_start": 8804000,
            "count": 0
           },
           {
            "bin_end": 11000000,
            "bin_start": 9902000,
            "count": 1
           }
          ],
          "max": "11000000",
          "min": "20000",
          "nan_count": 0,
          "unique_count": 11
         }
        },
        {
         "dtype": "object",
         "name": "salary_currency",
         "stats": {
          "categories": [
           {
            "count": 7,
            "name": "USD"
           },
           {
            "count": 2,
            "name": "EUR"
           },
           {
            "count": 2,
            "name": "2 others"
           }
          ],
          "nan_count": 0,
          "unique_count": 4
         }
        },
        {
         "dtype": "int64",
         "name": "salary_in_usd",
         "stats": {
          "histogram": [
           {
            "bin_end": 44000,
            "bin_start": 20000,
            "count": 2
           },
           {
            "bin_end": 68000,
            "bin_start": 44000,
            "count": 1
           },
           {
            "bin_end": 92000,
            "bin_start": 68000,
            "count": 2
           },
           {
            "bin_end": 116000,
            "bin_start": 92000,
            "count": 1
           },
           {
            "bin_end": 140000,
            "bin_start": 116000,
            "count": 2
           },
           {
            "bin_end": 164000,
            "bin_start": 140000,
            "count": 1
           },
           {
            "bin_end": 188000,
            "bin_start": 164000,
            "count": 0
           },
           {
            "bin_end": 212000,
            "bin_start": 188000,
            "count": 1
           },
           {
            "bin_end": 236000,
            "bin_start": 212000,
            "count": 0
           },
           {
            "bin_end": 260000,
            "bin_start": 236000,
            "count": 1
           }
          ],
          "max": "260000",
          "min": "20000",
          "nan_count": 0,
          "unique_count": 11
         }
        },
        {
         "dtype": "object",
         "name": "employee_residence",
         "stats": {
          "categories": [
           {
            "count": 4,
            "name": "US"
           },
           {
            "count": 1,
            "name": "DE"
           },
           {
            "count": 6,
            "name": "6 others"
           }
          ],
          "nan_count": 0,
          "unique_count": 8
         }
        },
        {
         "dtype": "int64",
         "name": "remote_ratio",
         "stats": {
          "histogram": [
           {
            "bin_end": 10,
            "bin_start": 0,
            "count": 4
           },
           {
            "bin_end": 20,
            "bin_start": 10,
            "count": 0
           },
           {
            "bin_end": 30,
            "bin_start": 20,
            "count": 0
           },
           {
            "bin_end": 40,
            "bin_start": 30,
            "count": 0
           },
           {
            "bin_end": 50,
            "bin_start": 40,
            "count": 0
           },
           {
            "bin_end": 60,
            "bin_start": 50,
            "count": 4
           },
           {
            "bin_end": 70,
            "bin_start": 60,
            "count": 0
           },
           {
            "bin_end": 80,
            "bin_start": 70,
            "count": 0
           },
           {
            "bin_end": 90,
            "bin_start": 80,
            "count": 0
           },
           {
            "bin_end": 100,
            "bin_start": 90,
            "count": 3
           }
          ],
          "max": "100",
          "min": "0",
          "nan_count": 0,
          "unique_count": 3
         }
        },
        {
         "dtype": "object",
         "name": "company_location",
         "stats": {
          "categories": [
           {
            "count": 4,
            "name": "US"
           },
           {
            "count": 1,
            "name": "DE"
           },
           {
            "count": 6,
            "name": "6 others"
           }
          ],
          "nan_count": 0,
          "unique_count": 8
         }
        },
        {
         "dtype": "object",
         "name": "company_size",
         "stats": {
          "categories": [
           {
            "count": 5,
            "name": "L"
           },
           {
            "count": 5,
            "name": "S"
           },
           {
            "count": 1,
            "name": "M"
           }
          ],
          "nan_count": 0,
          "unique_count": 3
         }
        },
        {
         "dtype": "int64",
         "name": "_deepnote_index_column"
        }
       ],
       "row_count": 11,
       "rows": [
        {
         "Unnamed: 0": "0",
         "_deepnote_index_column": "0",
         "company_location": "DE",
         "company_size": "L",
         "employee_residence": "DE",
         "employment_type": "FT",
         "experience_level": "MI",
         "job_title": "Data Scientist",
         "remote_ratio": "0",
         "salary": "70000",
         "salary_currency": "EUR",
         "salary_in_usd": "79833",
         "work_year": "2020"
        },
        {
         "Unnamed: 0": "1",
         "_deepnote_index_column": "1",
         "company_location": "JP",
         "company_size": "S",
         "employee_residence": "JP",
         "employment_type": "FT",
         "experience_level": "SE",
         "job_title": "Machine Learning Scientist",
         "remote_ratio": "0",
         "salary": "260000",
         "salary_currency": "USD",
         "salary_in_usd": "260000",
         "work_year": "2020"
        },
        {
         "Unnamed: 0": "2",
         "_deepnote_index_column": "2",
         "company_location": "GB",
         "company_size": "M",
         "employee_residence": "GB",
         "employment_type": "FT",
         "experience_level": "SE",
         "job_title": "Big Data Engineer",
         "remote_ratio": "50",
         "salary": "85000",
         "salary_currency": "GBP",
         "salary_in_usd": "109024",
         "work_year": "2020"
        },
        {
         "Unnamed: 0": "3",
         "_deepnote_index_column": "3",
         "company_location": "HN",
         "company_size": "S",
         "employee_residence": "HN",
         "employment_type": "FT",
         "experience_level": "MI",
         "job_title": "Product Data Analyst",
         "remote_ratio": "0",
         "salary": "20000",
         "salary_currency": "USD",
         "salary_in_usd": "20000",
         "work_year": "2020"
        },
        {
         "Unnamed: 0": "4",
         "_deepnote_index_column": "4",
         "company_location": "US",
         "company_size": "L",
         "employee_residence": "US",
         "employment_type": "FT",
         "experience_level": "SE",
         "job_title": "Machine Learning Engineer",
         "remote_ratio": "50",
         "salary": "150000",
         "salary_currency": "USD",
         "salary_in_usd": "150000",
         "work_year": "2020"
        },
        {
         "Unnamed: 0": "5",
         "_deepnote_index_column": "5",
         "company_location": "US",
         "company_size": "L",
         "employee_residence": "US",
         "employment_type": "FT",
         "experience_level": "EN",
         "job_title": "Data Analyst",
         "remote_ratio": "100",
         "salary": "72000",
         "salary_currency": "USD",
         "salary_in_usd": "72000",
         "work_year": "2020"
        },
        {
         "Unnamed: 0": "6",
         "_deepnote_index_column": "6",
         "company_location": "US",
         "company_size": "S",
         "employee_residence": "US",
         "employment_type": "FT",
         "experience_level": "SE",
         "job_title": "Lead Data Scientist",
         "remote_ratio": "100",
         "salary": "190000",
         "salary_currency": "USD",
         "salary_in_usd": "190000",
         "work_year": "2020"
        },
        {
         "Unnamed: 0": "7",
         "_deepnote_index_column": "7",
         "company_location": "HU",
         "company_size": "L",
         "employee_residence": "HU",
         "employment_type": "FT",
         "experience_level": "MI",
         "job_title": "Data Scientist",
         "remote_ratio": "50",
         "salary": "11000000",
         "salary_currency": "HUF",
         "salary_in_usd": "35735",
         "work_year": "2020"
        },
        {
         "Unnamed: 0": "8",
         "_deepnote_index_column": "8",
         "company_location": "US",
         "company_size": "L",
         "employee_residence": "US",
         "employment_type": "FT",
         "experience_level": "MI",
         "job_title": "Business Data Analyst",
         "remote_ratio": "100",
         "salary": "135000",
         "salary_currency": "USD",
         "salary_in_usd": "135000",
         "work_year": "2020"
        },
        {
         "Unnamed: 0": "9",
         "_deepnote_index_column": "9",
         "company_location": "NZ",
         "company_size": "S",
         "employee_residence": "NZ",
         "employment_type": "FT",
         "experience_level": "SE",
         "job_title": "Lead Data Engineer",
         "remote_ratio": "50",
         "salary": "125000",
         "salary_currency": "USD",
         "salary_in_usd": "125000",
         "work_year": "2020"
        }
       ]
      },
      "text/html": [
       "<div>\n",
       "<style scoped>\n",
       "    .dataframe tbody tr th:only-of-type {\n",
       "        vertical-align: middle;\n",
       "    }\n",
       "\n",
       "    .dataframe tbody tr th {\n",
       "        vertical-align: top;\n",
       "    }\n",
       "\n",
       "    .dataframe thead th {\n",
       "        text-align: right;\n",
       "    }\n",
       "</style>\n",
       "<table border=\"1\" class=\"dataframe\">\n",
       "  <thead>\n",
       "    <tr style=\"text-align: right;\">\n",
       "      <th></th>\n",
       "      <th>Unnamed: 0</th>\n",
       "      <th>work_year</th>\n",
       "      <th>experience_level</th>\n",
       "      <th>employment_type</th>\n",
       "      <th>job_title</th>\n",
       "      <th>salary</th>\n",
       "      <th>salary_currency</th>\n",
       "      <th>salary_in_usd</th>\n",
       "      <th>employee_residence</th>\n",
       "      <th>remote_ratio</th>\n",
       "      <th>company_location</th>\n",
       "      <th>company_size</th>\n",
       "    </tr>\n",
       "  </thead>\n",
       "  <tbody>\n",
       "    <tr>\n",
       "      <th>0</th>\n",
       "      <td>0</td>\n",
       "      <td>2020</td>\n",
       "      <td>MI</td>\n",
       "      <td>FT</td>\n",
       "      <td>Data Scientist</td>\n",
       "      <td>70000</td>\n",
       "      <td>EUR</td>\n",
       "      <td>79833</td>\n",
       "      <td>DE</td>\n",
       "      <td>0</td>\n",
       "      <td>DE</td>\n",
       "      <td>L</td>\n",
       "    </tr>\n",
       "    <tr>\n",
       "      <th>1</th>\n",
       "      <td>1</td>\n",
       "      <td>2020</td>\n",
       "      <td>SE</td>\n",
       "      <td>FT</td>\n",
       "      <td>Machine Learning Scientist</td>\n",
       "      <td>260000</td>\n",
       "      <td>USD</td>\n",
       "      <td>260000</td>\n",
       "      <td>JP</td>\n",
       "      <td>0</td>\n",
       "      <td>JP</td>\n",
       "      <td>S</td>\n",
       "    </tr>\n",
       "    <tr>\n",
       "      <th>2</th>\n",
       "      <td>2</td>\n",
       "      <td>2020</td>\n",
       "      <td>SE</td>\n",
       "      <td>FT</td>\n",
       "      <td>Big Data Engineer</td>\n",
       "      <td>85000</td>\n",
       "      <td>GBP</td>\n",
       "      <td>109024</td>\n",
       "      <td>GB</td>\n",
       "      <td>50</td>\n",
       "      <td>GB</td>\n",
       "      <td>M</td>\n",
       "    </tr>\n",
       "    <tr>\n",
       "      <th>3</th>\n",
       "      <td>3</td>\n",
       "      <td>2020</td>\n",
       "      <td>MI</td>\n",
       "      <td>FT</td>\n",
       "      <td>Product Data Analyst</td>\n",
       "      <td>20000</td>\n",
       "      <td>USD</td>\n",
       "      <td>20000</td>\n",
       "      <td>HN</td>\n",
       "      <td>0</td>\n",
       "      <td>HN</td>\n",
       "      <td>S</td>\n",
       "    </tr>\n",
       "    <tr>\n",
       "      <th>4</th>\n",
       "      <td>4</td>\n",
       "      <td>2020</td>\n",
       "      <td>SE</td>\n",
       "      <td>FT</td>\n",
       "      <td>Machine Learning Engineer</td>\n",
       "      <td>150000</td>\n",
       "      <td>USD</td>\n",
       "      <td>150000</td>\n",
       "      <td>US</td>\n",
       "      <td>50</td>\n",
       "      <td>US</td>\n",
       "      <td>L</td>\n",
       "    </tr>\n",
       "    <tr>\n",
       "      <th>5</th>\n",
       "      <td>5</td>\n",
       "      <td>2020</td>\n",
       "      <td>EN</td>\n",
       "      <td>FT</td>\n",
       "      <td>Data Analyst</td>\n",
       "      <td>72000</td>\n",
       "      <td>USD</td>\n",
       "      <td>72000</td>\n",
       "      <td>US</td>\n",
       "      <td>100</td>\n",
       "      <td>US</td>\n",
       "      <td>L</td>\n",
       "    </tr>\n",
       "    <tr>\n",
       "      <th>6</th>\n",
       "      <td>6</td>\n",
       "      <td>2020</td>\n",
       "      <td>SE</td>\n",
       "      <td>FT</td>\n",
       "      <td>Lead Data Scientist</td>\n",
       "      <td>190000</td>\n",
       "      <td>USD</td>\n",
       "      <td>190000</td>\n",
       "      <td>US</td>\n",
       "      <td>100</td>\n",
       "      <td>US</td>\n",
       "      <td>S</td>\n",
       "    </tr>\n",
       "    <tr>\n",
       "      <th>7</th>\n",
       "      <td>7</td>\n",
       "      <td>2020</td>\n",
       "      <td>MI</td>\n",
       "      <td>FT</td>\n",
       "      <td>Data Scientist</td>\n",
       "      <td>11000000</td>\n",
       "      <td>HUF</td>\n",
       "      <td>35735</td>\n",
       "      <td>HU</td>\n",
       "      <td>50</td>\n",
       "      <td>HU</td>\n",
       "      <td>L</td>\n",
       "    </tr>\n",
       "    <tr>\n",
       "      <th>8</th>\n",
       "      <td>8</td>\n",
       "      <td>2020</td>\n",
       "      <td>MI</td>\n",
       "      <td>FT</td>\n",
       "      <td>Business Data Analyst</td>\n",
       "      <td>135000</td>\n",
       "      <td>USD</td>\n",
       "      <td>135000</td>\n",
       "      <td>US</td>\n",
       "      <td>100</td>\n",
       "      <td>US</td>\n",
       "      <td>L</td>\n",
       "    </tr>\n",
       "    <tr>\n",
       "      <th>9</th>\n",
       "      <td>9</td>\n",
       "      <td>2020</td>\n",
       "      <td>SE</td>\n",
       "      <td>FT</td>\n",
       "      <td>Lead Data Engineer</td>\n",
       "      <td>125000</td>\n",
       "      <td>USD</td>\n",
       "      <td>125000</td>\n",
       "      <td>NZ</td>\n",
       "      <td>50</td>\n",
       "      <td>NZ</td>\n",
       "      <td>S</td>\n",
       "    </tr>\n",
       "    <tr>\n",
       "      <th>10</th>\n",
       "      <td>10</td>\n",
       "      <td>2020</td>\n",
       "      <td>EN</td>\n",
       "      <td>FT</td>\n",
       "      <td>Data Scientist</td>\n",
       "      <td>45000</td>\n",
       "      <td>EUR</td>\n",
       "      <td>51321</td>\n",
       "      <td>FR</td>\n",
       "      <td>0</td>\n",
       "      <td>FR</td>\n",
       "      <td>S</td>\n",
       "    </tr>\n",
       "  </tbody>\n",
       "</table>\n",
       "</div>"
      ],
      "text/plain": [
       "    Unnamed: 0  work_year experience_level employment_type  \\\n",
       "0            0       2020               MI              FT   \n",
       "1            1       2020               SE              FT   \n",
       "2            2       2020               SE              FT   \n",
       "3            3       2020               MI              FT   \n",
       "4            4       2020               SE              FT   \n",
       "5            5       2020               EN              FT   \n",
       "6            6       2020               SE              FT   \n",
       "7            7       2020               MI              FT   \n",
       "8            8       2020               MI              FT   \n",
       "9            9       2020               SE              FT   \n",
       "10          10       2020               EN              FT   \n",
       "\n",
       "                     job_title    salary salary_currency  salary_in_usd  \\\n",
       "0               Data Scientist     70000             EUR          79833   \n",
       "1   Machine Learning Scientist    260000             USD         260000   \n",
       "2            Big Data Engineer     85000             GBP         109024   \n",
       "3         Product Data Analyst     20000             USD          20000   \n",
       "4    Machine Learning Engineer    150000             USD         150000   \n",
       "5                 Data Analyst     72000             USD          72000   \n",
       "6          Lead Data Scientist    190000             USD         190000   \n",
       "7               Data Scientist  11000000             HUF          35735   \n",
       "8        Business Data Analyst    135000             USD         135000   \n",
       "9           Lead Data Engineer    125000             USD         125000   \n",
       "10              Data Scientist     45000             EUR          51321   \n",
       "\n",
       "   employee_residence  remote_ratio company_location company_size  \n",
       "0                  DE             0               DE            L  \n",
       "1                  JP             0               JP            S  \n",
       "2                  GB            50               GB            M  \n",
       "3                  HN             0               HN            S  \n",
       "4                  US            50               US            L  \n",
       "5                  US           100               US            L  \n",
       "6                  US           100               US            S  \n",
       "7                  HU            50               HU            L  \n",
       "8                  US           100               US            L  \n",
       "9                  NZ            50               NZ            S  \n",
       "10                 FR             0               FR            S  "
      ]
     },
     "execution_count": 27,
     "metadata": {},
     "output_type": "execute_result"
    }
   ],
   "source": [
    "df.loc[0:10]"
   ]
  },
  {
   "cell_type": "code",
   "execution_count": 28,
   "metadata": {
    "cell_id": "9b89844c927d48aeafbe7e9ef3602bfe",
    "deepnote_app_coordinates": {
     "h": 5,
     "w": 12,
     "x": 0,
     "y": 265
    },
    "deepnote_cell_type": "code",
    "deepnote_to_be_reexecuted": false,
    "execution_millis": 309,
    "execution_start": 1666898372354,
    "source_hash": "4911d67d"
   },
   "outputs": [
    {
     "data": {
      "text/plain": [
       "Unnamed: 0                         0\n",
       "work_year                       2020\n",
       "experience_level                  MI\n",
       "employment_type                   FT\n",
       "job_title             Data Scientist\n",
       "salary                         70000\n",
       "salary_currency                  EUR\n",
       "salary_in_usd                  79833\n",
       "employee_residence                DE\n",
       "remote_ratio                       0\n",
       "company_location                  DE\n",
       "company_size                       L\n",
       "Name: 0, dtype: object"
      ]
     },
     "execution_count": 28,
     "metadata": {},
     "output_type": "execute_result"
    }
   ],
   "source": [
    "df.iloc[0]"
   ]
  },
  {
   "cell_type": "code",
   "execution_count": 29,
   "metadata": {
    "cell_id": "741ca2ed6e2142bcaaf86d192c3f7288",
    "deepnote_app_coordinates": {
     "h": 5,
     "w": 12,
     "x": 0,
     "y": 271
    },
    "deepnote_cell_type": "code",
    "deepnote_to_be_reexecuted": false,
    "execution_millis": 287,
    "execution_start": 1666898372377,
    "scrolled": true,
    "source_hash": "9110a4a4"
   },
   "outputs": [
    {
     "data": {
      "application/vnd.deepnote.dataframe.v3+json": {
       "column_count": 12,
       "columns": [
        {
         "dtype": "int64",
         "name": "Unnamed: 0",
         "stats": {
          "histogram": [
           {
            "bin_end": 2,
            "bin_start": 0,
            "count": 1
           },
           {
            "bin_end": 4,
            "bin_start": 2,
            "count": 0
           },
           {
            "bin_end": 6,
            "bin_start": 4,
            "count": 0
           },
           {
            "bin_end": 8,
            "bin_start": 6,
            "count": 0
           },
           {
            "bin_end": 10,
            "bin_start": 8,
            "count": 0
           },
           {
            "bin_end": 12,
            "bin_start": 10,
            "count": 1
           },
           {
            "bin_end": 14,
            "bin_start": 12,
            "count": 0
           },
           {
            "bin_end": 16,
            "bin_start": 14,
            "count": 0
           },
           {
            "bin_end": 18,
            "bin_start": 16,
            "count": 0
           },
           {
            "bin_end": 20,
            "bin_start": 18,
            "count": 1
           }
          ],
          "max": "20",
          "min": "0",
          "nan_count": 0,
          "unique_count": 3
         }
        },
        {
         "dtype": "int64",
         "name": "work_year",
         "stats": {
          "histogram": [
           {
            "bin_end": 2019.6,
            "bin_start": 2019.5,
            "count": 0
           },
           {
            "bin_end": 2019.7,
            "bin_start": 2019.6,
            "count": 0
           },
           {
            "bin_end": 2019.8,
            "bin_start": 2019.7,
            "count": 0
           },
           {
            "bin_end": 2019.9,
            "bin_start": 2019.8,
            "count": 0
           },
           {
            "bin_end": 2020,
            "bin_start": 2019.9,
            "count": 0
           },
           {
            "bin_end": 2020.1,
            "bin_start": 2020,
            "count": 3
           },
           {
            "bin_end": 2020.2,
            "bin_start": 2020.1,
            "count": 0
           },
           {
            "bin_end": 2020.3,
            "bin_start": 2020.2,
            "count": 0
           },
           {
            "bin_end": 2020.4,
            "bin_start": 2020.3,
            "count": 0
           },
           {
            "bin_end": 2020.5,
            "bin_start": 2020.4,
            "count": 0
           }
          ],
          "max": "2020",
          "min": "2020",
          "nan_count": 0,
          "unique_count": 1
         }
        },
        {
         "dtype": "object",
         "name": "experience_level",
         "stats": {
          "categories": [
           {
            "count": 2,
            "name": "MI"
           },
           {
            "count": 1,
            "name": "EN"
           }
          ],
          "nan_count": 0,
          "unique_count": 2
         }
        },
        {
         "dtype": "object",
         "name": "employment_type",
         "stats": {
          "categories": [
           {
            "count": 3,
            "name": "FT"
           }
          ],
          "nan_count": 0,
          "unique_count": 1
         }
        },
        {
         "dtype": "object",
         "name": "job_title",
         "stats": {
          "categories": [
           {
            "count": 2,
            "name": "Data Scientist"
           },
           {
            "count": 1,
            "name": "Machine Learning Engineer"
           }
          ],
          "nan_count": 0,
          "unique_count": 2
         }
        },
        {
         "dtype": "int64",
         "name": "salary",
         "stats": {
          "histogram": [
           {
            "bin_end": 70400,
            "bin_start": 45000,
            "count": 2
           },
           {
            "bin_end": 95800,
            "bin_start": 70400,
            "count": 0
           },
           {
            "bin_end": 121200,
            "bin_start": 95800,
            "count": 0
           },
           {
            "bin_end": 146600,
            "bin_start": 121200,
            "count": 0
           },
           {
            "bin_end": 172000,
            "bin_start": 146600,
            "count": 0
           },
           {
            "bin_end": 197400,
            "bin_start": 172000,
            "count": 0
           },
           {
            "bin_end": 222800,
            "bin_start": 197400,
            "count": 0
           },
           {
            "bin_end": 248200,
            "bin_start": 222800,
            "count": 0
           },
           {
            "bin_end": 273600,
            "bin_start": 248200,
            "count": 0
           },
           {
            "bin_end": 299000,
            "bin_start": 273600,
            "count": 1
           }
          ],
          "max": "299000",
          "min": "45000",
          "nan_count": 0,
          "unique_count": 3
         }
        },
        {
         "dtype": "object",
         "name": "salary_currency",
         "stats": {
          "categories": [
           {
            "count": 2,
            "name": "EUR"
           },
           {
            "count": 1,
            "name": "CNY"
           }
          ],
          "nan_count": 0,
          "unique_count": 2
         }
        },
        {
         "dtype": "int64",
         "name": "salary_in_usd",
         "stats": {
          "histogram": [
           {
            "bin_end": 46981.2,
            "bin_start": 43331,
            "count": 1
           },
           {
            "bin_end": 50631.4,
            "bin_start": 46981.2,
            "count": 0
           },
           {
            "bin_end": 54281.6,
            "bin_start": 50631.4,
            "count": 1
           },
           {
            "bin_end": 57931.8,
            "bin_start": 54281.6,
            "count": 0
           },
           {
            "bin_end": 61582,
            "bin_start": 57931.8,
            "count": 0
           },
           {
            "bin_end": 65232.2,
            "bin_start": 61582,
            "count": 0
           },
           {
            "bin_end": 68882.4,
            "bin_start": 65232.2,
            "count": 0
           },
           {
            "bin_end": 72532.6,
            "bin_start": 68882.4,
            "count": 0
           },
           {
            "bin_end": 76182.79999999999,
            "bin_start": 72532.6,
            "count": 0
           },
           {
            "bin_end": 79833,
            "bin_start": 76182.79999999999,
            "count": 1
           }
          ],
          "max": "79833",
          "min": "43331",
          "nan_count": 0,
          "unique_count": 3
         }
        },
        {
         "dtype": "object",
         "name": "employee_residence",
         "stats": {
          "categories": [
           {
            "count": 1,
            "name": "DE"
           },
           {
            "count": 1,
            "name": "FR"
           },
           {
            "count": 1,
            "name": "CN"
           }
          ],
          "nan_count": 0,
          "unique_count": 3
         }
        },
        {
         "dtype": "int64",
         "name": "remote_ratio",
         "stats": {
          "histogram": [
           {
            "bin_end": -0.4,
            "bin_start": -0.5,
            "count": 0
           },
           {
            "bin_end": -0.3,
            "bin_start": -0.4,
            "count": 0
           },
           {
            "bin_end": -0.19999999999999996,
            "bin_start": -0.3,
            "count": 0
           },
           {
            "bin_end": -0.09999999999999998,
            "bin_start": -0.19999999999999996,
            "count": 0
           },
           {
            "bin_end": 0,
            "bin_start": -0.09999999999999998,
            "count": 0
           },
           {
            "bin_end": 0.10000000000000009,
            "bin_start": 0,
            "count": 3
           },
           {
            "bin_end": 0.20000000000000007,
            "bin_start": 0.10000000000000009,
            "count": 0
           },
           {
            "bin_end": 0.30000000000000004,
            "bin_start": 0.20000000000000007,
            "count": 0
           },
           {
            "bin_end": 0.4,
            "bin_start": 0.30000000000000004,
            "count": 0
           },
           {
            "bin_end": 0.5,
            "bin_start": 0.4,
            "count": 0
           }
          ],
          "max": "0",
          "min": "0",
          "nan_count": 0,
          "unique_count": 1
         }
        },
        {
         "dtype": "object",
         "name": "company_location",
         "stats": {
          "categories": [
           {
            "count": 1,
            "name": "DE"
           },
           {
            "count": 1,
            "name": "FR"
           },
           {
            "count": 1,
            "name": "CN"
           }
          ],
          "nan_count": 0,
          "unique_count": 3
         }
        },
        {
         "dtype": "object",
         "name": "company_size",
         "stats": {
          "categories": [
           {
            "count": 1,
            "name": "L"
           },
           {
            "count": 1,
            "name": "S"
           },
           {
            "count": 1,
            "name": "M"
           }
          ],
          "nan_count": 0,
          "unique_count": 3
         }
        },
        {
         "dtype": "int64",
         "name": "_deepnote_index_column"
        }
       ],
       "row_count": 3,
       "rows": [
        {
         "Unnamed: 0": "0",
         "_deepnote_index_column": "0",
         "company_location": "DE",
         "company_size": "L",
         "employee_residence": "DE",
         "employment_type": "FT",
         "experience_level": "MI",
         "job_title": "Data Scientist",
         "remote_ratio": "0",
         "salary": "70000",
         "salary_currency": "EUR",
         "salary_in_usd": "79833",
         "work_year": "2020"
        },
        {
         "Unnamed: 0": "10",
         "_deepnote_index_column": "10",
         "company_location": "FR",
         "company_size": "S",
         "employee_residence": "FR",
         "employment_type": "FT",
         "experience_level": "EN",
         "job_title": "Data Scientist",
         "remote_ratio": "0",
         "salary": "45000",
         "salary_currency": "EUR",
         "salary_in_usd": "51321",
         "work_year": "2020"
        },
        {
         "Unnamed: 0": "20",
         "_deepnote_index_column": "20",
         "company_location": "CN",
         "company_size": "M",
         "employee_residence": "CN",
         "employment_type": "FT",
         "experience_level": "MI",
         "job_title": "Machine Learning Engineer",
         "remote_ratio": "0",
         "salary": "299000",
         "salary_currency": "CNY",
         "salary_in_usd": "43331",
         "work_year": "2020"
        }
       ]
      },
      "text/html": [
       "<div>\n",
       "<style scoped>\n",
       "    .dataframe tbody tr th:only-of-type {\n",
       "        vertical-align: middle;\n",
       "    }\n",
       "\n",
       "    .dataframe tbody tr th {\n",
       "        vertical-align: top;\n",
       "    }\n",
       "\n",
       "    .dataframe thead th {\n",
       "        text-align: right;\n",
       "    }\n",
       "</style>\n",
       "<table border=\"1\" class=\"dataframe\">\n",
       "  <thead>\n",
       "    <tr style=\"text-align: right;\">\n",
       "      <th></th>\n",
       "      <th>Unnamed: 0</th>\n",
       "      <th>work_year</th>\n",
       "      <th>experience_level</th>\n",
       "      <th>employment_type</th>\n",
       "      <th>job_title</th>\n",
       "      <th>salary</th>\n",
       "      <th>salary_currency</th>\n",
       "      <th>salary_in_usd</th>\n",
       "      <th>employee_residence</th>\n",
       "      <th>remote_ratio</th>\n",
       "      <th>company_location</th>\n",
       "      <th>company_size</th>\n",
       "    </tr>\n",
       "  </thead>\n",
       "  <tbody>\n",
       "    <tr>\n",
       "      <th>0</th>\n",
       "      <td>0</td>\n",
       "      <td>2020</td>\n",
       "      <td>MI</td>\n",
       "      <td>FT</td>\n",
       "      <td>Data Scientist</td>\n",
       "      <td>70000</td>\n",
       "      <td>EUR</td>\n",
       "      <td>79833</td>\n",
       "      <td>DE</td>\n",
       "      <td>0</td>\n",
       "      <td>DE</td>\n",
       "      <td>L</td>\n",
       "    </tr>\n",
       "    <tr>\n",
       "      <th>10</th>\n",
       "      <td>10</td>\n",
       "      <td>2020</td>\n",
       "      <td>EN</td>\n",
       "      <td>FT</td>\n",
       "      <td>Data Scientist</td>\n",
       "      <td>45000</td>\n",
       "      <td>EUR</td>\n",
       "      <td>51321</td>\n",
       "      <td>FR</td>\n",
       "      <td>0</td>\n",
       "      <td>FR</td>\n",
       "      <td>S</td>\n",
       "    </tr>\n",
       "    <tr>\n",
       "      <th>20</th>\n",
       "      <td>20</td>\n",
       "      <td>2020</td>\n",
       "      <td>MI</td>\n",
       "      <td>FT</td>\n",
       "      <td>Machine Learning Engineer</td>\n",
       "      <td>299000</td>\n",
       "      <td>CNY</td>\n",
       "      <td>43331</td>\n",
       "      <td>CN</td>\n",
       "      <td>0</td>\n",
       "      <td>CN</td>\n",
       "      <td>M</td>\n",
       "    </tr>\n",
       "  </tbody>\n",
       "</table>\n",
       "</div>"
      ],
      "text/plain": [
       "    Unnamed: 0  work_year experience_level employment_type  \\\n",
       "0            0       2020               MI              FT   \n",
       "10          10       2020               EN              FT   \n",
       "20          20       2020               MI              FT   \n",
       "\n",
       "                    job_title  salary salary_currency  salary_in_usd  \\\n",
       "0              Data Scientist   70000             EUR          79833   \n",
       "10             Data Scientist   45000             EUR          51321   \n",
       "20  Machine Learning Engineer  299000             CNY          43331   \n",
       "\n",
       "   employee_residence  remote_ratio company_location company_size  \n",
       "0                  DE             0               DE            L  \n",
       "10                 FR             0               FR            S  \n",
       "20                 CN             0               CN            M  "
      ]
     },
     "execution_count": 29,
     "metadata": {},
     "output_type": "execute_result"
    }
   ],
   "source": [
    "df.iloc[[0,10,20]]"
   ]
  },
  {
   "cell_type": "code",
   "execution_count": 30,
   "metadata": {
    "cell_id": "6b09ebfae91d4e3eaa21a3c7938576dd",
    "deepnote_app_coordinates": {
     "h": 5,
     "w": 12,
     "x": 0,
     "y": 277
    },
    "deepnote_cell_type": "code",
    "deepnote_to_be_reexecuted": false,
    "execution_millis": 283,
    "execution_start": 1666898372382,
    "scrolled": true,
    "source_hash": "fb752372"
   },
   "outputs": [
    {
     "data": {
      "application/vnd.deepnote.dataframe.v3+json": {
       "column_count": 12,
       "columns": [
        {
         "dtype": "int64",
         "name": "Unnamed: 0",
         "stats": {
          "histogram": [
           {
            "bin_end": 0.9,
            "bin_start": 0,
            "count": 1
           },
           {
            "bin_end": 1.8,
            "bin_start": 0.9,
            "count": 1
           },
           {
            "bin_end": 2.7,
            "bin_start": 1.8,
            "count": 1
           },
           {
            "bin_end": 3.6,
            "bin_start": 2.7,
            "count": 1
           },
           {
            "bin_end": 4.5,
            "bin_start": 3.6,
            "count": 1
           },
           {
            "bin_end": 5.4,
            "bin_start": 4.5,
            "count": 1
           },
           {
            "bin_end": 6.3,
            "bin_start": 5.4,
            "count": 1
           },
           {
            "bin_end": 7.2,
            "bin_start": 6.3,
            "count": 1
           },
           {
            "bin_end": 8.1,
            "bin_start": 7.2,
            "count": 1
           },
           {
            "bin_end": 9,
            "bin_start": 8.1,
            "count": 1
           }
          ],
          "max": "9",
          "min": "0",
          "nan_count": 0,
          "unique_count": 10
         }
        },
        {
         "dtype": "int64",
         "name": "work_year",
         "stats": {
          "histogram": [
           {
            "bin_end": 2019.6,
            "bin_start": 2019.5,
            "count": 0
           },
           {
            "bin_end": 2019.7,
            "bin_start": 2019.6,
            "count": 0
           },
           {
            "bin_end": 2019.8,
            "bin_start": 2019.7,
            "count": 0
           },
           {
            "bin_end": 2019.9,
            "bin_start": 2019.8,
            "count": 0
           },
           {
            "bin_end": 2020,
            "bin_start": 2019.9,
            "count": 0
           },
           {
            "bin_end": 2020.1,
            "bin_start": 2020,
            "count": 10
           },
           {
            "bin_end": 2020.2,
            "bin_start": 2020.1,
            "count": 0
           },
           {
            "bin_end": 2020.3,
            "bin_start": 2020.2,
            "count": 0
           },
           {
            "bin_end": 2020.4,
            "bin_start": 2020.3,
            "count": 0
           },
           {
            "bin_end": 2020.5,
            "bin_start": 2020.4,
            "count": 0
           }
          ],
          "max": "2020",
          "min": "2020",
          "nan_count": 0,
          "unique_count": 1
         }
        },
        {
         "dtype": "object",
         "name": "experience_level",
         "stats": {
          "categories": [
           {
            "count": 5,
            "name": "SE"
           },
           {
            "count": 4,
            "name": "MI"
           },
           {
            "count": 1,
            "name": "EN"
           }
          ],
          "nan_count": 0,
          "unique_count": 3
         }
        },
        {
         "dtype": "object",
         "name": "employment_type",
         "stats": {
          "categories": [
           {
            "count": 10,
            "name": "FT"
           }
          ],
          "nan_count": 0,
          "unique_count": 1
         }
        },
        {
         "dtype": "object",
         "name": "job_title",
         "stats": {
          "categories": [
           {
            "count": 2,
            "name": "Data Scientist"
           },
           {
            "count": 1,
            "name": "Machine Learning Scientist"
           },
           {
            "count": 7,
            "name": "7 others"
           }
          ],
          "nan_count": 0,
          "unique_count": 9
         }
        },
        {
         "dtype": "int64",
         "name": "salary",
         "stats": {
          "histogram": [
           {
            "bin_end": 1118000,
            "bin_start": 20000,
            "count": 9
           },
           {
            "bin_end": 2216000,
            "bin_start": 1118000,
            "count": 0
           },
           {
            "bin_end": 3314000,
            "bin_start": 2216000,
            "count": 0
           },
           {
            "bin_end": 4412000,
            "bin_start": 3314000,
            "count": 0
           },
           {
            "bin_end": 5510000,
            "bin_start": 4412000,
            "count": 0
           },
           {
            "bin_end": 6608000,
            "bin_start": 5510000,
            "count": 0
           },
           {
            "bin_end": 7706000,
            "bin_start": 6608000,
            "count": 0
           },
           {
            "bin_end": 8804000,
            "bin_start": 7706000,
            "count": 0
           },
           {
            "bin_end": 9902000,
            "bin_start": 8804000,
            "count": 0
           },
           {
            "bin_end": 11000000,
            "bin_start": 9902000,
            "count": 1
           }
          ],
          "max": "11000000",
          "min": "20000",
          "nan_count": 0,
          "unique_count": 10
         }
        },
        {
         "dtype": "object",
         "name": "salary_currency",
         "stats": {
          "categories": [
           {
            "count": 7,
            "name": "USD"
           },
           {
            "count": 1,
            "name": "EUR"
           },
           {
            "count": 2,
            "name": "2 others"
           }
          ],
          "nan_count": 0,
          "unique_count": 4
         }
        },
        {
         "dtype": "int64",
         "name": "salary_in_usd",
         "stats": {
          "histogram": [
           {
            "bin_end": 44000,
            "bin_start": 20000,
            "count": 2
           },
           {
            "bin_end": 68000,
            "bin_start": 44000,
            "count": 0
           },
           {
            "bin_end": 92000,
            "bin_start": 68000,
            "count": 2
           },
           {
            "bin_end": 116000,
            "bin_start": 92000,
            "count": 1
           },
           {
            "bin_end": 140000,
            "bin_start": 116000,
            "count": 2
           },
           {
            "bin_end": 164000,
            "bin_start": 140000,
            "count": 1
           },
           {
            "bin_end": 188000,
            "bin_start": 164000,
            "count": 0
           },
           {
            "bin_end": 212000,
            "bin_start": 188000,
            "count": 1
           },
           {
            "bin_end": 236000,
            "bin_start": 212000,
            "count": 0
           },
           {
            "bin_end": 260000,
            "bin_start": 236000,
            "count": 1
           }
          ],
          "max": "260000",
          "min": "20000",
          "nan_count": 0,
          "unique_count": 10
         }
        },
        {
         "dtype": "object",
         "name": "employee_residence",
         "stats": {
          "categories": [
           {
            "count": 4,
            "name": "US"
           },
           {
            "count": 1,
            "name": "DE"
           },
           {
            "count": 5,
            "name": "5 others"
           }
          ],
          "nan_count": 0,
          "unique_count": 7
         }
        },
        {
         "dtype": "int64",
         "name": "remote_ratio",
         "stats": {
          "histogram": [
           {
            "bin_end": 10,
            "bin_start": 0,
            "count": 3
           },
           {
            "bin_end": 20,
            "bin_start": 10,
            "count": 0
           },
           {
            "bin_end": 30,
            "bin_start": 20,
            "count": 0
           },
           {
            "bin_end": 40,
            "bin_start": 30,
            "count": 0
           },
           {
            "bin_end": 50,
            "bin_start": 40,
            "count": 0
           },
           {
            "bin_end": 60,
            "bin_start": 50,
            "count": 4
           },
           {
            "bin_end": 70,
            "bin_start": 60,
            "count": 0
           },
           {
            "bin_end": 80,
            "bin_start": 70,
            "count": 0
           },
           {
            "bin_end": 90,
            "bin_start": 80,
            "count": 0
           },
           {
            "bin_end": 100,
            "bin_start": 90,
            "count": 3
           }
          ],
          "max": "100",
          "min": "0",
          "nan_count": 0,
          "unique_count": 3
         }
        },
        {
         "dtype": "object",
         "name": "company_location",
         "stats": {
          "categories": [
           {
            "count": 4,
            "name": "US"
           },
           {
            "count": 1,
            "name": "DE"
           },
           {
            "count": 5,
            "name": "5 others"
           }
          ],
          "nan_count": 0,
          "unique_count": 7
         }
        },
        {
         "dtype": "object",
         "name": "company_size",
         "stats": {
          "categories": [
           {
            "count": 5,
            "name": "L"
           },
           {
            "count": 4,
            "name": "S"
           },
           {
            "count": 1,
            "name": "M"
           }
          ],
          "nan_count": 0,
          "unique_count": 3
         }
        },
        {
         "dtype": "int64",
         "name": "_deepnote_index_column"
        }
       ],
       "row_count": 10,
       "rows": [
        {
         "Unnamed: 0": "0",
         "_deepnote_index_column": "0",
         "company_location": "DE",
         "company_size": "L",
         "employee_residence": "DE",
         "employment_type": "FT",
         "experience_level": "MI",
         "job_title": "Data Scientist",
         "remote_ratio": "0",
         "salary": "70000",
         "salary_currency": "EUR",
         "salary_in_usd": "79833",
         "work_year": "2020"
        },
        {
         "Unnamed: 0": "1",
         "_deepnote_index_column": "1",
         "company_location": "JP",
         "company_size": "S",
         "employee_residence": "JP",
         "employment_type": "FT",
         "experience_level": "SE",
         "job_title": "Machine Learning Scientist",
         "remote_ratio": "0",
         "salary": "260000",
         "salary_currency": "USD",
         "salary_in_usd": "260000",
         "work_year": "2020"
        },
        {
         "Unnamed: 0": "2",
         "_deepnote_index_column": "2",
         "company_location": "GB",
         "company_size": "M",
         "employee_residence": "GB",
         "employment_type": "FT",
         "experience_level": "SE",
         "job_title": "Big Data Engineer",
         "remote_ratio": "50",
         "salary": "85000",
         "salary_currency": "GBP",
         "salary_in_usd": "109024",
         "work_year": "2020"
        },
        {
         "Unnamed: 0": "3",
         "_deepnote_index_column": "3",
         "company_location": "HN",
         "company_size": "S",
         "employee_residence": "HN",
         "employment_type": "FT",
         "experience_level": "MI",
         "job_title": "Product Data Analyst",
         "remote_ratio": "0",
         "salary": "20000",
         "salary_currency": "USD",
         "salary_in_usd": "20000",
         "work_year": "2020"
        },
        {
         "Unnamed: 0": "4",
         "_deepnote_index_column": "4",
         "company_location": "US",
         "company_size": "L",
         "employee_residence": "US",
         "employment_type": "FT",
         "experience_level": "SE",
         "job_title": "Machine Learning Engineer",
         "remote_ratio": "50",
         "salary": "150000",
         "salary_currency": "USD",
         "salary_in_usd": "150000",
         "work_year": "2020"
        },
        {
         "Unnamed: 0": "5",
         "_deepnote_index_column": "5",
         "company_location": "US",
         "company_size": "L",
         "employee_residence": "US",
         "employment_type": "FT",
         "experience_level": "EN",
         "job_title": "Data Analyst",
         "remote_ratio": "100",
         "salary": "72000",
         "salary_currency": "USD",
         "salary_in_usd": "72000",
         "work_year": "2020"
        },
        {
         "Unnamed: 0": "6",
         "_deepnote_index_column": "6",
         "company_location": "US",
         "company_size": "S",
         "employee_residence": "US",
         "employment_type": "FT",
         "experience_level": "SE",
         "job_title": "Lead Data Scientist",
         "remote_ratio": "100",
         "salary": "190000",
         "salary_currency": "USD",
         "salary_in_usd": "190000",
         "work_year": "2020"
        },
        {
         "Unnamed: 0": "7",
         "_deepnote_index_column": "7",
         "company_location": "HU",
         "company_size": "L",
         "employee_residence": "HU",
         "employment_type": "FT",
         "experience_level": "MI",
         "job_title": "Data Scientist",
         "remote_ratio": "50",
         "salary": "11000000",
         "salary_currency": "HUF",
         "salary_in_usd": "35735",
         "work_year": "2020"
        },
        {
         "Unnamed: 0": "8",
         "_deepnote_index_column": "8",
         "company_location": "US",
         "company_size": "L",
         "employee_residence": "US",
         "employment_type": "FT",
         "experience_level": "MI",
         "job_title": "Business Data Analyst",
         "remote_ratio": "100",
         "salary": "135000",
         "salary_currency": "USD",
         "salary_in_usd": "135000",
         "work_year": "2020"
        },
        {
         "Unnamed: 0": "9",
         "_deepnote_index_column": "9",
         "company_location": "NZ",
         "company_size": "S",
         "employee_residence": "NZ",
         "employment_type": "FT",
         "experience_level": "SE",
         "job_title": "Lead Data Engineer",
         "remote_ratio": "50",
         "salary": "125000",
         "salary_currency": "USD",
         "salary_in_usd": "125000",
         "work_year": "2020"
        }
       ]
      },
      "text/html": [
       "<div>\n",
       "<style scoped>\n",
       "    .dataframe tbody tr th:only-of-type {\n",
       "        vertical-align: middle;\n",
       "    }\n",
       "\n",
       "    .dataframe tbody tr th {\n",
       "        vertical-align: top;\n",
       "    }\n",
       "\n",
       "    .dataframe thead th {\n",
       "        text-align: right;\n",
       "    }\n",
       "</style>\n",
       "<table border=\"1\" class=\"dataframe\">\n",
       "  <thead>\n",
       "    <tr style=\"text-align: right;\">\n",
       "      <th></th>\n",
       "      <th>Unnamed: 0</th>\n",
       "      <th>work_year</th>\n",
       "      <th>experience_level</th>\n",
       "      <th>employment_type</th>\n",
       "      <th>job_title</th>\n",
       "      <th>salary</th>\n",
       "      <th>salary_currency</th>\n",
       "      <th>salary_in_usd</th>\n",
       "      <th>employee_residence</th>\n",
       "      <th>remote_ratio</th>\n",
       "      <th>company_location</th>\n",
       "      <th>company_size</th>\n",
       "    </tr>\n",
       "  </thead>\n",
       "  <tbody>\n",
       "    <tr>\n",
       "      <th>0</th>\n",
       "      <td>0</td>\n",
       "      <td>2020</td>\n",
       "      <td>MI</td>\n",
       "      <td>FT</td>\n",
       "      <td>Data Scientist</td>\n",
       "      <td>70000</td>\n",
       "      <td>EUR</td>\n",
       "      <td>79833</td>\n",
       "      <td>DE</td>\n",
       "      <td>0</td>\n",
       "      <td>DE</td>\n",
       "      <td>L</td>\n",
       "    </tr>\n",
       "    <tr>\n",
       "      <th>1</th>\n",
       "      <td>1</td>\n",
       "      <td>2020</td>\n",
       "      <td>SE</td>\n",
       "      <td>FT</td>\n",
       "      <td>Machine Learning Scientist</td>\n",
       "      <td>260000</td>\n",
       "      <td>USD</td>\n",
       "      <td>260000</td>\n",
       "      <td>JP</td>\n",
       "      <td>0</td>\n",
       "      <td>JP</td>\n",
       "      <td>S</td>\n",
       "    </tr>\n",
       "    <tr>\n",
       "      <th>2</th>\n",
       "      <td>2</td>\n",
       "      <td>2020</td>\n",
       "      <td>SE</td>\n",
       "      <td>FT</td>\n",
       "      <td>Big Data Engineer</td>\n",
       "      <td>85000</td>\n",
       "      <td>GBP</td>\n",
       "      <td>109024</td>\n",
       "      <td>GB</td>\n",
       "      <td>50</td>\n",
       "      <td>GB</td>\n",
       "      <td>M</td>\n",
       "    </tr>\n",
       "    <tr>\n",
       "      <th>3</th>\n",
       "      <td>3</td>\n",
       "      <td>2020</td>\n",
       "      <td>MI</td>\n",
       "      <td>FT</td>\n",
       "      <td>Product Data Analyst</td>\n",
       "      <td>20000</td>\n",
       "      <td>USD</td>\n",
       "      <td>20000</td>\n",
       "      <td>HN</td>\n",
       "      <td>0</td>\n",
       "      <td>HN</td>\n",
       "      <td>S</td>\n",
       "    </tr>\n",
       "    <tr>\n",
       "      <th>4</th>\n",
       "      <td>4</td>\n",
       "      <td>2020</td>\n",
       "      <td>SE</td>\n",
       "      <td>FT</td>\n",
       "      <td>Machine Learning Engineer</td>\n",
       "      <td>150000</td>\n",
       "      <td>USD</td>\n",
       "      <td>150000</td>\n",
       "      <td>US</td>\n",
       "      <td>50</td>\n",
       "      <td>US</td>\n",
       "      <td>L</td>\n",
       "    </tr>\n",
       "    <tr>\n",
       "      <th>5</th>\n",
       "      <td>5</td>\n",
       "      <td>2020</td>\n",
       "      <td>EN</td>\n",
       "      <td>FT</td>\n",
       "      <td>Data Analyst</td>\n",
       "      <td>72000</td>\n",
       "      <td>USD</td>\n",
       "      <td>72000</td>\n",
       "      <td>US</td>\n",
       "      <td>100</td>\n",
       "      <td>US</td>\n",
       "      <td>L</td>\n",
       "    </tr>\n",
       "    <tr>\n",
       "      <th>6</th>\n",
       "      <td>6</td>\n",
       "      <td>2020</td>\n",
       "      <td>SE</td>\n",
       "      <td>FT</td>\n",
       "      <td>Lead Data Scientist</td>\n",
       "      <td>190000</td>\n",
       "      <td>USD</td>\n",
       "      <td>190000</td>\n",
       "      <td>US</td>\n",
       "      <td>100</td>\n",
       "      <td>US</td>\n",
       "      <td>S</td>\n",
       "    </tr>\n",
       "    <tr>\n",
       "      <th>7</th>\n",
       "      <td>7</td>\n",
       "      <td>2020</td>\n",
       "      <td>MI</td>\n",
       "      <td>FT</td>\n",
       "      <td>Data Scientist</td>\n",
       "      <td>11000000</td>\n",
       "      <td>HUF</td>\n",
       "      <td>35735</td>\n",
       "      <td>HU</td>\n",
       "      <td>50</td>\n",
       "      <td>HU</td>\n",
       "      <td>L</td>\n",
       "    </tr>\n",
       "    <tr>\n",
       "      <th>8</th>\n",
       "      <td>8</td>\n",
       "      <td>2020</td>\n",
       "      <td>MI</td>\n",
       "      <td>FT</td>\n",
       "      <td>Business Data Analyst</td>\n",
       "      <td>135000</td>\n",
       "      <td>USD</td>\n",
       "      <td>135000</td>\n",
       "      <td>US</td>\n",
       "      <td>100</td>\n",
       "      <td>US</td>\n",
       "      <td>L</td>\n",
       "    </tr>\n",
       "    <tr>\n",
       "      <th>9</th>\n",
       "      <td>9</td>\n",
       "      <td>2020</td>\n",
       "      <td>SE</td>\n",
       "      <td>FT</td>\n",
       "      <td>Lead Data Engineer</td>\n",
       "      <td>125000</td>\n",
       "      <td>USD</td>\n",
       "      <td>125000</td>\n",
       "      <td>NZ</td>\n",
       "      <td>50</td>\n",
       "      <td>NZ</td>\n",
       "      <td>S</td>\n",
       "    </tr>\n",
       "  </tbody>\n",
       "</table>\n",
       "</div>"
      ],
      "text/plain": [
       "   Unnamed: 0  work_year experience_level employment_type  \\\n",
       "0           0       2020               MI              FT   \n",
       "1           1       2020               SE              FT   \n",
       "2           2       2020               SE              FT   \n",
       "3           3       2020               MI              FT   \n",
       "4           4       2020               SE              FT   \n",
       "5           5       2020               EN              FT   \n",
       "6           6       2020               SE              FT   \n",
       "7           7       2020               MI              FT   \n",
       "8           8       2020               MI              FT   \n",
       "9           9       2020               SE              FT   \n",
       "\n",
       "                    job_title    salary salary_currency  salary_in_usd  \\\n",
       "0              Data Scientist     70000             EUR          79833   \n",
       "1  Machine Learning Scientist    260000             USD         260000   \n",
       "2           Big Data Engineer     85000             GBP         109024   \n",
       "3        Product Data Analyst     20000             USD          20000   \n",
       "4   Machine Learning Engineer    150000             USD         150000   \n",
       "5                Data Analyst     72000             USD          72000   \n",
       "6         Lead Data Scientist    190000             USD         190000   \n",
       "7              Data Scientist  11000000             HUF          35735   \n",
       "8       Business Data Analyst    135000             USD         135000   \n",
       "9          Lead Data Engineer    125000             USD         125000   \n",
       "\n",
       "  employee_residence  remote_ratio company_location company_size  \n",
       "0                 DE             0               DE            L  \n",
       "1                 JP             0               JP            S  \n",
       "2                 GB            50               GB            M  \n",
       "3                 HN             0               HN            S  \n",
       "4                 US            50               US            L  \n",
       "5                 US           100               US            L  \n",
       "6                 US           100               US            S  \n",
       "7                 HU            50               HU            L  \n",
       "8                 US           100               US            L  \n",
       "9                 NZ            50               NZ            S  "
      ]
     },
     "execution_count": 30,
     "metadata": {},
     "output_type": "execute_result"
    }
   ],
   "source": [
    "df.iloc[0:10]"
   ]
  },
  {
   "cell_type": "code",
   "execution_count": 31,
   "metadata": {
    "cell_id": "3d696469b575457f80cf669c14b44ff9",
    "deepnote_app_coordinates": {
     "h": 5,
     "w": 12,
     "x": 0,
     "y": 283
    },
    "deepnote_cell_type": "code",
    "deepnote_to_be_reexecuted": false,
    "execution_millis": 212,
    "execution_start": 1666898372454,
    "source_hash": "e971c9bc",
    "tags": []
   },
   "outputs": [
    {
     "data": {
      "application/vnd.deepnote.dataframe.v3+json": {
       "column_count": 12,
       "columns": [
        {
         "dtype": "int64",
         "name": "Unnamed: 0",
         "stats": {
          "histogram": [
           {
            "bin_end": 0.4,
            "bin_start": 0,
            "count": 1
           },
           {
            "bin_end": 0.8,
            "bin_start": 0.4,
            "count": 0
           },
           {
            "bin_end": 1.2000000000000002,
            "bin_start": 0.8,
            "count": 1
           },
           {
            "bin_end": 1.6,
            "bin_start": 1.2000000000000002,
            "count": 0
           },
           {
            "bin_end": 2,
            "bin_start": 1.6,
            "count": 0
           },
           {
            "bin_end": 2.4000000000000004,
            "bin_start": 2,
            "count": 1
           },
           {
            "bin_end": 2.8000000000000003,
            "bin_start": 2.4000000000000004,
            "count": 0
           },
           {
            "bin_end": 3.2,
            "bin_start": 2.8000000000000003,
            "count": 1
           },
           {
            "bin_end": 3.6,
            "bin_start": 3.2,
            "count": 0
           },
           {
            "bin_end": 4,
            "bin_start": 3.6,
            "count": 1
           }
          ],
          "max": "4",
          "min": "0",
          "nan_count": 0,
          "unique_count": 5
         }
        },
        {
         "dtype": "int64",
         "name": "work_year",
         "stats": {
          "histogram": [
           {
            "bin_end": 2019.6,
            "bin_start": 2019.5,
            "count": 0
           },
           {
            "bin_end": 2019.7,
            "bin_start": 2019.6,
            "count": 0
           },
           {
            "bin_end": 2019.8,
            "bin_start": 2019.7,
            "count": 0
           },
           {
            "bin_end": 2019.9,
            "bin_start": 2019.8,
            "count": 0
           },
           {
            "bin_end": 2020,
            "bin_start": 2019.9,
            "count": 0
           },
           {
            "bin_end": 2020.1,
            "bin_start": 2020,
            "count": 5
           },
           {
            "bin_end": 2020.2,
            "bin_start": 2020.1,
            "count": 0
           },
           {
            "bin_end": 2020.3,
            "bin_start": 2020.2,
            "count": 0
           },
           {
            "bin_end": 2020.4,
            "bin_start": 2020.3,
            "count": 0
           },
           {
            "bin_end": 2020.5,
            "bin_start": 2020.4,
            "count": 0
           }
          ],
          "max": "2020",
          "min": "2020",
          "nan_count": 0,
          "unique_count": 1
         }
        },
        {
         "dtype": "object",
         "name": "experience_level",
         "stats": {
          "categories": [
           {
            "count": 3,
            "name": "SE"
           },
           {
            "count": 2,
            "name": "MI"
           }
          ],
          "nan_count": 0,
          "unique_count": 2
         }
        },
        {
         "dtype": "object",
         "name": "employment_type",
         "stats": {
          "categories": [
           {
            "count": 5,
            "name": "FT"
           }
          ],
          "nan_count": 0,
          "unique_count": 1
         }
        },
        {
         "dtype": "object",
         "name": "job_title",
         "stats": {
          "categories": [
           {
            "count": 1,
            "name": "Data Scientist"
           },
           {
            "count": 1,
            "name": "Machine Learning Scientist"
           },
           {
            "count": 3,
            "name": "3 others"
           }
          ],
          "nan_count": 0,
          "unique_count": 5
         }
        },
        {
         "dtype": "int64",
         "name": "salary",
         "stats": {
          "histogram": [
           {
            "bin_end": 44000,
            "bin_start": 20000,
            "count": 1
           },
           {
            "bin_end": 68000,
            "bin_start": 44000,
            "count": 0
           },
           {
            "bin_end": 92000,
            "bin_start": 68000,
            "count": 2
           },
           {
            "bin_end": 116000,
            "bin_start": 92000,
            "count": 0
           },
           {
            "bin_end": 140000,
            "bin_start": 116000,
            "count": 0
           },
           {
            "bin_end": 164000,
            "bin_start": 140000,
            "count": 1
           },
           {
            "bin_end": 188000,
            "bin_start": 164000,
            "count": 0
           },
           {
            "bin_end": 212000,
            "bin_start": 188000,
            "count": 0
           },
           {
            "bin_end": 236000,
            "bin_start": 212000,
            "count": 0
           },
           {
            "bin_end": 260000,
            "bin_start": 236000,
            "count": 1
           }
          ],
          "max": "260000",
          "min": "20000",
          "nan_count": 0,
          "unique_count": 5
         }
        },
        {
         "dtype": "object",
         "name": "salary_currency",
         "stats": {
          "categories": [
           {
            "count": 3,
            "name": "USD"
           },
           {
            "count": 1,
            "name": "EUR"
           },
           {
            "count": 1,
            "name": "GBP"
           }
          ],
          "nan_count": 0,
          "unique_count": 3
         }
        },
        {
         "dtype": "int64",
         "name": "salary_in_usd",
         "stats": {
          "histogram": [
           {
            "bin_end": 44000,
            "bin_start": 20000,
            "count": 1
           },
           {
            "bin_end": 68000,
            "bin_start": 44000,
            "count": 0
           },
           {
            "bin_end": 92000,
            "bin_start": 68000,
            "count": 1
           },
           {
            "bin_end": 116000,
            "bin_start": 92000,
            "count": 1
           },
           {
            "bin_end": 140000,
            "bin_start": 116000,
            "count": 0
           },
           {
            "bin_end": 164000,
            "bin_start": 140000,
            "count": 1
           },
           {
            "bin_end": 188000,
            "bin_start": 164000,
            "count": 0
           },
           {
            "bin_end": 212000,
            "bin_start": 188000,
            "count": 0
           },
           {
            "bin_end": 236000,
            "bin_start": 212000,
            "count": 0
           },
           {
            "bin_end": 260000,
            "bin_start": 236000,
            "count": 1
           }
          ],
          "max": "260000",
          "min": "20000",
          "nan_count": 0,
          "unique_count": 5
         }
        },
        {
         "dtype": "object",
         "name": "employee_residence",
         "stats": {
          "categories": [
           {
            "count": 1,
            "name": "DE"
           },
           {
            "count": 1,
            "name": "JP"
           },
           {
            "count": 3,
            "name": "3 others"
           }
          ],
          "nan_count": 0,
          "unique_count": 5
         }
        },
        {
         "dtype": "int64",
         "name": "remote_ratio",
         "stats": {
          "histogram": [
           {
            "bin_end": 5,
            "bin_start": 0,
            "count": 3
           },
           {
            "bin_end": 10,
            "bin_start": 5,
            "count": 0
           },
           {
            "bin_end": 15,
            "bin_start": 10,
            "count": 0
           },
           {
            "bin_end": 20,
            "bin_start": 15,
            "count": 0
           },
           {
            "bin_end": 25,
            "bin_start": 20,
            "count": 0
           },
           {
            "bin_end": 30,
            "bin_start": 25,
            "count": 0
           },
           {
            "bin_end": 35,
            "bin_start": 30,
            "count": 0
           },
           {
            "bin_end": 40,
            "bin_start": 35,
            "count": 0
           },
           {
            "bin_end": 45,
            "bin_start": 40,
            "count": 0
           },
           {
            "bin_end": 50,
            "bin_start": 45,
            "count": 2
           }
          ],
          "max": "50",
          "min": "0",
          "nan_count": 0,
          "unique_count": 2
         }
        },
        {
         "dtype": "object",
         "name": "company_location",
         "stats": {
          "categories": [
           {
            "count": 1,
            "name": "DE"
           },
           {
            "count": 1,
            "name": "JP"
           },
           {
            "count": 3,
            "name": "3 others"
           }
          ],
          "nan_count": 0,
          "unique_count": 5
         }
        },
        {
         "dtype": "object",
         "name": "company_size",
         "stats": {
          "categories": [
           {
            "count": 2,
            "name": "L"
           },
           {
            "count": 2,
            "name": "S"
           },
           {
            "count": 1,
            "name": "M"
           }
          ],
          "nan_count": 0,
          "unique_count": 3
         }
        },
        {
         "dtype": "object",
         "name": "_deepnote_index_column"
        }
       ],
       "row_count": 5,
       "rows": [
        {
         "Unnamed: 0": "0",
         "_deepnote_index_column": "EID100",
         "company_location": "DE",
         "company_size": "L",
         "employee_residence": "DE",
         "employment_type": "FT",
         "experience_level": "MI",
         "job_title": "Data Scientist",
         "remote_ratio": "0",
         "salary": "70000",
         "salary_currency": "EUR",
         "salary_in_usd": "79833",
         "work_year": "2020"
        },
        {
         "Unnamed: 0": "1",
         "_deepnote_index_column": "EID101",
         "company_location": "JP",
         "company_size": "S",
         "employee_residence": "JP",
         "employment_type": "FT",
         "experience_level": "SE",
         "job_title": "Machine Learning Scientist",
         "remote_ratio": "0",
         "salary": "260000",
         "salary_currency": "USD",
         "salary_in_usd": "260000",
         "work_year": "2020"
        },
        {
         "Unnamed: 0": "2",
         "_deepnote_index_column": "EID102",
         "company_location": "GB",
         "company_size": "M",
         "employee_residence": "GB",
         "employment_type": "FT",
         "experience_level": "SE",
         "job_title": "Big Data Engineer",
         "remote_ratio": "50",
         "salary": "85000",
         "salary_currency": "GBP",
         "salary_in_usd": "109024",
         "work_year": "2020"
        },
        {
         "Unnamed: 0": "3",
         "_deepnote_index_column": "EID103",
         "company_location": "HN",
         "company_size": "S",
         "employee_residence": "HN",
         "employment_type": "FT",
         "experience_level": "MI",
         "job_title": "Product Data Analyst",
         "remote_ratio": "0",
         "salary": "20000",
         "salary_currency": "USD",
         "salary_in_usd": "20000",
         "work_year": "2020"
        },
        {
         "Unnamed: 0": "4",
         "_deepnote_index_column": "EID104",
         "company_location": "US",
         "company_size": "L",
         "employee_residence": "US",
         "employment_type": "FT",
         "experience_level": "SE",
         "job_title": "Machine Learning Engineer",
         "remote_ratio": "50",
         "salary": "150000",
         "salary_currency": "USD",
         "salary_in_usd": "150000",
         "work_year": "2020"
        }
       ]
      },
      "text/html": [
       "<div>\n",
       "<style scoped>\n",
       "    .dataframe tbody tr th:only-of-type {\n",
       "        vertical-align: middle;\n",
       "    }\n",
       "\n",
       "    .dataframe tbody tr th {\n",
       "        vertical-align: top;\n",
       "    }\n",
       "\n",
       "    .dataframe thead th {\n",
       "        text-align: right;\n",
       "    }\n",
       "</style>\n",
       "<table border=\"1\" class=\"dataframe\">\n",
       "  <thead>\n",
       "    <tr style=\"text-align: right;\">\n",
       "      <th></th>\n",
       "      <th>Unnamed: 0</th>\n",
       "      <th>work_year</th>\n",
       "      <th>experience_level</th>\n",
       "      <th>employment_type</th>\n",
       "      <th>job_title</th>\n",
       "      <th>salary</th>\n",
       "      <th>salary_currency</th>\n",
       "      <th>salary_in_usd</th>\n",
       "      <th>employee_residence</th>\n",
       "      <th>remote_ratio</th>\n",
       "      <th>company_location</th>\n",
       "      <th>company_size</th>\n",
       "    </tr>\n",
       "  </thead>\n",
       "  <tbody>\n",
       "    <tr>\n",
       "      <th>EID100</th>\n",
       "      <td>0</td>\n",
       "      <td>2020</td>\n",
       "      <td>MI</td>\n",
       "      <td>FT</td>\n",
       "      <td>Data Scientist</td>\n",
       "      <td>70000</td>\n",
       "      <td>EUR</td>\n",
       "      <td>79833</td>\n",
       "      <td>DE</td>\n",
       "      <td>0</td>\n",
       "      <td>DE</td>\n",
       "      <td>L</td>\n",
       "    </tr>\n",
       "    <tr>\n",
       "      <th>EID101</th>\n",
       "      <td>1</td>\n",
       "      <td>2020</td>\n",
       "      <td>SE</td>\n",
       "      <td>FT</td>\n",
       "      <td>Machine Learning Scientist</td>\n",
       "      <td>260000</td>\n",
       "      <td>USD</td>\n",
       "      <td>260000</td>\n",
       "      <td>JP</td>\n",
       "      <td>0</td>\n",
       "      <td>JP</td>\n",
       "      <td>S</td>\n",
       "    </tr>\n",
       "    <tr>\n",
       "      <th>EID102</th>\n",
       "      <td>2</td>\n",
       "      <td>2020</td>\n",
       "      <td>SE</td>\n",
       "      <td>FT</td>\n",
       "      <td>Big Data Engineer</td>\n",
       "      <td>85000</td>\n",
       "      <td>GBP</td>\n",
       "      <td>109024</td>\n",
       "      <td>GB</td>\n",
       "      <td>50</td>\n",
       "      <td>GB</td>\n",
       "      <td>M</td>\n",
       "    </tr>\n",
       "    <tr>\n",
       "      <th>EID103</th>\n",
       "      <td>3</td>\n",
       "      <td>2020</td>\n",
       "      <td>MI</td>\n",
       "      <td>FT</td>\n",
       "      <td>Product Data Analyst</td>\n",
       "      <td>20000</td>\n",
       "      <td>USD</td>\n",
       "      <td>20000</td>\n",
       "      <td>HN</td>\n",
       "      <td>0</td>\n",
       "      <td>HN</td>\n",
       "      <td>S</td>\n",
       "    </tr>\n",
       "    <tr>\n",
       "      <th>EID104</th>\n",
       "      <td>4</td>\n",
       "      <td>2020</td>\n",
       "      <td>SE</td>\n",
       "      <td>FT</td>\n",
       "      <td>Machine Learning Engineer</td>\n",
       "      <td>150000</td>\n",
       "      <td>USD</td>\n",
       "      <td>150000</td>\n",
       "      <td>US</td>\n",
       "      <td>50</td>\n",
       "      <td>US</td>\n",
       "      <td>L</td>\n",
       "    </tr>\n",
       "  </tbody>\n",
       "</table>\n",
       "</div>"
      ],
      "text/plain": [
       "        Unnamed: 0  work_year experience_level employment_type  \\\n",
       "EID100           0       2020               MI              FT   \n",
       "EID101           1       2020               SE              FT   \n",
       "EID102           2       2020               SE              FT   \n",
       "EID103           3       2020               MI              FT   \n",
       "EID104           4       2020               SE              FT   \n",
       "\n",
       "                         job_title  salary salary_currency  salary_in_usd  \\\n",
       "EID100              Data Scientist   70000             EUR          79833   \n",
       "EID101  Machine Learning Scientist  260000             USD         260000   \n",
       "EID102           Big Data Engineer   85000             GBP         109024   \n",
       "EID103        Product Data Analyst   20000             USD          20000   \n",
       "EID104   Machine Learning Engineer  150000             USD         150000   \n",
       "\n",
       "       employee_residence  remote_ratio company_location company_size  \n",
       "EID100                 DE             0               DE            L  \n",
       "EID101                 JP             0               JP            S  \n",
       "EID102                 GB            50               GB            M  \n",
       "EID103                 HN             0               HN            S  \n",
       "EID104                 US            50               US            L  "
      ]
     },
     "execution_count": 31,
     "metadata": {},
     "output_type": "execute_result"
    }
   ],
   "source": [
    "EID = ['EID' + str(i) for i in range(100, len(df) + 100)]\n",
    "df.index = EID\n",
    "df.head()"
   ]
  },
  {
   "cell_type": "code",
   "execution_count": 32,
   "metadata": {
    "cell_id": "f76622f01b0e47e0869e0ce1dea1738e",
    "deepnote_app_coordinates": {
     "h": 5,
     "w": 12,
     "x": 0,
     "y": 289
    },
    "deepnote_cell_type": "code",
    "deepnote_to_be_reexecuted": false,
    "execution_millis": 190,
    "execution_start": 1666898372477,
    "source_hash": "165a99bd",
    "tags": []
   },
   "outputs": [
    {
     "data": {
      "text/plain": [
       "Unnamed: 0                     455\n",
       "work_year                     2022\n",
       "experience_level                MI\n",
       "employment_type                 FT\n",
       "job_title             NLP Engineer\n",
       "salary                      240000\n",
       "salary_currency                CNY\n",
       "salary_in_usd                37236\n",
       "employee_residence              US\n",
       "remote_ratio                    50\n",
       "company_location                US\n",
       "company_size                     L\n",
       "Name: EID555, dtype: object"
      ]
     },
     "execution_count": 32,
     "metadata": {},
     "output_type": "execute_result"
    }
   ],
   "source": [
    "df.loc['EID555']"
   ]
  },
  {
   "cell_type": "markdown",
   "metadata": {
    "cell_id": "f3fc98fcb87c433283576a0a960ece80",
    "deepnote_app_coordinates": {
     "h": 5,
     "w": 12,
     "x": 0,
     "y": 295
    },
    "deepnote_cell_type": "markdown"
   },
   "source": [
    "### Combining Row and Column Selection"
   ]
  },
  {
   "cell_type": "code",
   "execution_count": 33,
   "metadata": {
    "cell_id": "42b905bcf1a543ea9adfdec7787f3cea",
    "deepnote_app_coordinates": {
     "h": 5,
     "w": 12,
     "x": 0,
     "y": 301
    },
    "deepnote_cell_type": "code",
    "deepnote_to_be_reexecuted": false,
    "execution_millis": 189,
    "execution_start": 1666898372479,
    "source_hash": "e09d272"
   },
   "outputs": [
    {
     "data": {
      "text/plain": [
       "pandas.core.frame.DataFrame"
      ]
     },
     "execution_count": 33,
     "metadata": {},
     "output_type": "execute_result"
    }
   ],
   "source": [
    "first5rows = df.iloc[:5]\n",
    "type(first5rows)"
   ]
  },
  {
   "cell_type": "markdown",
   "metadata": {
    "cell_id": "2c383850e8594f1a9357f763152b89aa",
    "deepnote_app_coordinates": {
     "h": 5,
     "w": 12,
     "x": 0,
     "y": 307
    },
    "deepnote_cell_type": "markdown"
   },
   "source": [
    "#### Two Steps - Rows First"
   ]
  },
  {
   "cell_type": "code",
   "execution_count": 34,
   "metadata": {
    "cell_id": "5a273d0f7ea24bc5a28a721518710af3",
    "deepnote_app_coordinates": {
     "h": 5,
     "w": 12,
     "x": 0,
     "y": 313
    },
    "deepnote_cell_type": "code",
    "deepnote_to_be_reexecuted": false,
    "execution_millis": 188,
    "execution_start": 1666898372480,
    "source_hash": "e06c3a82"
   },
   "outputs": [
    {
     "data": {
      "application/vnd.deepnote.dataframe.v3+json": {
       "column_count": 1,
       "columns": [
        {
         "dtype": "int64",
         "name": "salary",
         "stats": {
          "histogram": [
           {
            "bin_end": 44000,
            "bin_start": 20000,
            "count": 1
           },
           {
            "bin_end": 68000,
            "bin_start": 44000,
            "count": 0
           },
           {
            "bin_end": 92000,
            "bin_start": 68000,
            "count": 2
           },
           {
            "bin_end": 116000,
            "bin_start": 92000,
            "count": 0
           },
           {
            "bin_end": 140000,
            "bin_start": 116000,
            "count": 0
           },
           {
            "bin_end": 164000,
            "bin_start": 140000,
            "count": 1
           },
           {
            "bin_end": 188000,
            "bin_start": 164000,
            "count": 0
           },
           {
            "bin_end": 212000,
            "bin_start": 188000,
            "count": 0
           },
           {
            "bin_end": 236000,
            "bin_start": 212000,
            "count": 0
           },
           {
            "bin_end": 260000,
            "bin_start": 236000,
            "count": 1
           }
          ],
          "max": "260000",
          "min": "20000",
          "nan_count": 0,
          "unique_count": 5
         }
        },
        {
         "dtype": "object",
         "name": "_deepnote_index_column"
        }
       ],
       "row_count": 5,
       "rows": [
        {
         "_deepnote_index_column": "EID100",
         "salary": "70000"
        },
        {
         "_deepnote_index_column": "EID101",
         "salary": "260000"
        },
        {
         "_deepnote_index_column": "EID102",
         "salary": "85000"
        },
        {
         "_deepnote_index_column": "EID103",
         "salary": "20000"
        },
        {
         "_deepnote_index_column": "EID104",
         "salary": "150000"
        }
       ]
      },
      "text/html": [
       "<div>\n",
       "<style scoped>\n",
       "    .dataframe tbody tr th:only-of-type {\n",
       "        vertical-align: middle;\n",
       "    }\n",
       "\n",
       "    .dataframe tbody tr th {\n",
       "        vertical-align: top;\n",
       "    }\n",
       "\n",
       "    .dataframe thead th {\n",
       "        text-align: right;\n",
       "    }\n",
       "</style>\n",
       "<table border=\"1\" class=\"dataframe\">\n",
       "  <thead>\n",
       "    <tr style=\"text-align: right;\">\n",
       "      <th></th>\n",
       "      <th>salary</th>\n",
       "    </tr>\n",
       "  </thead>\n",
       "  <tbody>\n",
       "    <tr>\n",
       "      <th>EID100</th>\n",
       "      <td>70000</td>\n",
       "    </tr>\n",
       "    <tr>\n",
       "      <th>EID101</th>\n",
       "      <td>260000</td>\n",
       "    </tr>\n",
       "    <tr>\n",
       "      <th>EID102</th>\n",
       "      <td>85000</td>\n",
       "    </tr>\n",
       "    <tr>\n",
       "      <th>EID103</th>\n",
       "      <td>20000</td>\n",
       "    </tr>\n",
       "    <tr>\n",
       "      <th>EID104</th>\n",
       "      <td>150000</td>\n",
       "    </tr>\n",
       "  </tbody>\n",
       "</table>\n",
       "</div>"
      ],
      "text/plain": [
       "        salary\n",
       "EID100   70000\n",
       "EID101  260000\n",
       "EID102   85000\n",
       "EID103   20000\n",
       "EID104  150000"
      ]
     },
     "execution_count": 34,
     "metadata": {},
     "output_type": "execute_result"
    }
   ],
   "source": [
    "first5rows = df.iloc[:5]\n",
    "first5rows[['salary']]"
   ]
  },
  {
   "cell_type": "markdown",
   "metadata": {
    "cell_id": "06ea76d5f330483b83a0de322eeb7198",
    "deepnote_app_coordinates": {
     "h": 5,
     "w": 12,
     "x": 0,
     "y": 319
    },
    "deepnote_cell_type": "markdown"
   },
   "source": [
    "#### Two Steps - Columns First"
   ]
  },
  {
   "cell_type": "code",
   "execution_count": 35,
   "metadata": {
    "cell_id": "2b1d78fc3d38487bba59308c3d64ed62",
    "deepnote_app_coordinates": {
     "h": 5,
     "w": 12,
     "x": 0,
     "y": 325
    },
    "deepnote_cell_type": "code",
    "deepnote_to_be_reexecuted": false,
    "execution_millis": 161,
    "execution_start": 1666898372508,
    "source_hash": "44db7cb3"
   },
   "outputs": [
    {
     "data": {
      "application/vnd.deepnote.dataframe.v3+json": {
       "column_count": 1,
       "columns": [
        {
         "dtype": "int64",
         "name": "salary",
         "stats": {
          "histogram": [
           {
            "bin_end": 44000,
            "bin_start": 20000,
            "count": 1
           },
           {
            "bin_end": 68000,
            "bin_start": 44000,
            "count": 0
           },
           {
            "bin_end": 92000,
            "bin_start": 68000,
            "count": 2
           },
           {
            "bin_end": 116000,
            "bin_start": 92000,
            "count": 0
           },
           {
            "bin_end": 140000,
            "bin_start": 116000,
            "count": 0
           },
           {
            "bin_end": 164000,
            "bin_start": 140000,
            "count": 1
           },
           {
            "bin_end": 188000,
            "bin_start": 164000,
            "count": 0
           },
           {
            "bin_end": 212000,
            "bin_start": 188000,
            "count": 0
           },
           {
            "bin_end": 236000,
            "bin_start": 212000,
            "count": 0
           },
           {
            "bin_end": 260000,
            "bin_start": 236000,
            "count": 1
           }
          ],
          "max": "260000",
          "min": "20000",
          "nan_count": 0,
          "unique_count": 5
         }
        },
        {
         "dtype": "object",
         "name": "_deepnote_index_column"
        }
       ],
       "row_count": 5,
       "rows": [
        {
         "_deepnote_index_column": "EID100",
         "salary": "70000"
        },
        {
         "_deepnote_index_column": "EID101",
         "salary": "260000"
        },
        {
         "_deepnote_index_column": "EID102",
         "salary": "85000"
        },
        {
         "_deepnote_index_column": "EID103",
         "salary": "20000"
        },
        {
         "_deepnote_index_column": "EID104",
         "salary": "150000"
        }
       ]
      },
      "text/html": [
       "<div>\n",
       "<style scoped>\n",
       "    .dataframe tbody tr th:only-of-type {\n",
       "        vertical-align: middle;\n",
       "    }\n",
       "\n",
       "    .dataframe tbody tr th {\n",
       "        vertical-align: top;\n",
       "    }\n",
       "\n",
       "    .dataframe thead th {\n",
       "        text-align: right;\n",
       "    }\n",
       "</style>\n",
       "<table border=\"1\" class=\"dataframe\">\n",
       "  <thead>\n",
       "    <tr style=\"text-align: right;\">\n",
       "      <th></th>\n",
       "      <th>salary</th>\n",
       "    </tr>\n",
       "  </thead>\n",
       "  <tbody>\n",
       "    <tr>\n",
       "      <th>EID100</th>\n",
       "      <td>70000</td>\n",
       "    </tr>\n",
       "    <tr>\n",
       "      <th>EID101</th>\n",
       "      <td>260000</td>\n",
       "    </tr>\n",
       "    <tr>\n",
       "      <th>EID102</th>\n",
       "      <td>85000</td>\n",
       "    </tr>\n",
       "    <tr>\n",
       "      <th>EID103</th>\n",
       "      <td>20000</td>\n",
       "    </tr>\n",
       "    <tr>\n",
       "      <th>EID104</th>\n",
       "      <td>150000</td>\n",
       "    </tr>\n",
       "  </tbody>\n",
       "</table>\n",
       "</div>"
      ],
      "text/plain": [
       "        salary\n",
       "EID100   70000\n",
       "EID101  260000\n",
       "EID102   85000\n",
       "EID103   20000\n",
       "EID104  150000"
      ]
     },
     "execution_count": 35,
     "metadata": {},
     "output_type": "execute_result"
    }
   ],
   "source": [
    "salary = df[['salary']]\n",
    "salary.iloc[:5]"
   ]
  },
  {
   "cell_type": "code",
   "execution_count": 36,
   "metadata": {
    "cell_id": "eb4b96d9f3974e17b2e9040fe0d216b9",
    "deepnote_app_coordinates": {
     "h": 5,
     "w": 12,
     "x": 0,
     "y": 331
    },
    "deepnote_cell_type": "code",
    "deepnote_to_be_reexecuted": false,
    "execution_millis": 160,
    "execution_start": 1666898372510,
    "source_hash": "785e730a",
    "tags": []
   },
   "outputs": [
    {
     "data": {
      "text/plain": [
       "(pandas.core.series.Series, pandas.core.frame.DataFrame)"
      ]
     },
     "execution_count": 36,
     "metadata": {},
     "output_type": "execute_result"
    }
   ],
   "source": [
    "s1 = df['salary']\n",
    "s2 = df[['salary']]\n",
    "type(s1), type(s2)\n"
   ]
  },
  {
   "cell_type": "markdown",
   "metadata": {
    "cell_id": "52b6602a19f74b409d7cf21e54698a66",
    "deepnote_app_coordinates": {
     "h": 5,
     "w": 12,
     "x": 0,
     "y": 337
    },
    "deepnote_cell_type": "markdown"
   },
   "source": [
    "#### One Step - Rows First"
   ]
  },
  {
   "cell_type": "code",
   "execution_count": 37,
   "metadata": {
    "cell_id": "8533898d51af416992e68acb6fa1dc34",
    "deepnote_app_coordinates": {
     "h": 5,
     "w": 12,
     "x": 0,
     "y": 343
    },
    "deepnote_cell_type": "code",
    "deepnote_to_be_reexecuted": false,
    "execution_millis": 161,
    "execution_start": 1666898372512,
    "source_hash": "6642c6f2"
   },
   "outputs": [
    {
     "data": {
      "application/vnd.deepnote.dataframe.v3+json": {
       "column_count": 1,
       "columns": [
        {
         "dtype": "int64",
         "name": "salary",
         "stats": {
          "histogram": [
           {
            "bin_end": 44000,
            "bin_start": 20000,
            "count": 1
           },
           {
            "bin_end": 68000,
            "bin_start": 44000,
            "count": 0
           },
           {
            "bin_end": 92000,
            "bin_start": 68000,
            "count": 2
           },
           {
            "bin_end": 116000,
            "bin_start": 92000,
            "count": 0
           },
           {
            "bin_end": 140000,
            "bin_start": 116000,
            "count": 0
           },
           {
            "bin_end": 164000,
            "bin_start": 140000,
            "count": 1
           },
           {
            "bin_end": 188000,
            "bin_start": 164000,
            "count": 0
           },
           {
            "bin_end": 212000,
            "bin_start": 188000,
            "count": 0
           },
           {
            "bin_end": 236000,
            "bin_start": 212000,
            "count": 0
           },
           {
            "bin_end": 260000,
            "bin_start": 236000,
            "count": 1
           }
          ],
          "max": "260000",
          "min": "20000",
          "nan_count": 0,
          "unique_count": 5
         }
        },
        {
         "dtype": "object",
         "name": "_deepnote_index_column"
        }
       ],
       "row_count": 5,
       "rows": [
        {
         "_deepnote_index_column": "EID100",
         "salary": "70000"
        },
        {
         "_deepnote_index_column": "EID101",
         "salary": "260000"
        },
        {
         "_deepnote_index_column": "EID102",
         "salary": "85000"
        },
        {
         "_deepnote_index_column": "EID103",
         "salary": "20000"
        },
        {
         "_deepnote_index_column": "EID104",
         "salary": "150000"
        }
       ]
      },
      "text/html": [
       "<div>\n",
       "<style scoped>\n",
       "    .dataframe tbody tr th:only-of-type {\n",
       "        vertical-align: middle;\n",
       "    }\n",
       "\n",
       "    .dataframe tbody tr th {\n",
       "        vertical-align: top;\n",
       "    }\n",
       "\n",
       "    .dataframe thead th {\n",
       "        text-align: right;\n",
       "    }\n",
       "</style>\n",
       "<table border=\"1\" class=\"dataframe\">\n",
       "  <thead>\n",
       "    <tr style=\"text-align: right;\">\n",
       "      <th></th>\n",
       "      <th>salary</th>\n",
       "    </tr>\n",
       "  </thead>\n",
       "  <tbody>\n",
       "    <tr>\n",
       "      <th>EID100</th>\n",
       "      <td>70000</td>\n",
       "    </tr>\n",
       "    <tr>\n",
       "      <th>EID101</th>\n",
       "      <td>260000</td>\n",
       "    </tr>\n",
       "    <tr>\n",
       "      <th>EID102</th>\n",
       "      <td>85000</td>\n",
       "    </tr>\n",
       "    <tr>\n",
       "      <th>EID103</th>\n",
       "      <td>20000</td>\n",
       "    </tr>\n",
       "    <tr>\n",
       "      <th>EID104</th>\n",
       "      <td>150000</td>\n",
       "    </tr>\n",
       "  </tbody>\n",
       "</table>\n",
       "</div>"
      ],
      "text/plain": [
       "        salary\n",
       "EID100   70000\n",
       "EID101  260000\n",
       "EID102   85000\n",
       "EID103   20000\n",
       "EID104  150000"
      ]
     },
     "execution_count": 37,
     "metadata": {},
     "output_type": "execute_result"
    }
   ],
   "source": [
    "df.iloc[:5][['salary']]"
   ]
  },
  {
   "cell_type": "markdown",
   "metadata": {
    "cell_id": "77d99907007b4e2882002265fecf5282",
    "deepnote_app_coordinates": {
     "h": 5,
     "w": 12,
     "x": 0,
     "y": 349
    },
    "deepnote_cell_type": "markdown"
   },
   "source": [
    "#### One Step - Columns First"
   ]
  },
  {
   "cell_type": "code",
   "execution_count": 38,
   "metadata": {
    "cell_id": "3456edd84a27460abd44e35595f098a1",
    "deepnote_app_coordinates": {
     "h": 5,
     "w": 12,
     "x": 0,
     "y": 355
    },
    "deepnote_cell_type": "code",
    "deepnote_to_be_reexecuted": false,
    "execution_millis": 116,
    "execution_start": 1666898372558,
    "scrolled": true,
    "source_hash": "40a1267b"
   },
   "outputs": [
    {
     "data": {
      "application/vnd.deepnote.dataframe.v3+json": {
       "column_count": 1,
       "columns": [
        {
         "dtype": "int64",
         "name": "salary",
         "stats": {
          "histogram": [
           {
            "bin_end": 44000,
            "bin_start": 20000,
            "count": 1
           },
           {
            "bin_end": 68000,
            "bin_start": 44000,
            "count": 0
           },
           {
            "bin_end": 92000,
            "bin_start": 68000,
            "count": 2
           },
           {
            "bin_end": 116000,
            "bin_start": 92000,
            "count": 0
           },
           {
            "bin_end": 140000,
            "bin_start": 116000,
            "count": 0
           },
           {
            "bin_end": 164000,
            "bin_start": 140000,
            "count": 1
           },
           {
            "bin_end": 188000,
            "bin_start": 164000,
            "count": 0
           },
           {
            "bin_end": 212000,
            "bin_start": 188000,
            "count": 0
           },
           {
            "bin_end": 236000,
            "bin_start": 212000,
            "count": 0
           },
           {
            "bin_end": 260000,
            "bin_start": 236000,
            "count": 1
           }
          ],
          "max": "260000",
          "min": "20000",
          "nan_count": 0,
          "unique_count": 5
         }
        },
        {
         "dtype": "object",
         "name": "_deepnote_index_column"
        }
       ],
       "row_count": 5,
       "rows": [
        {
         "_deepnote_index_column": "EID100",
         "salary": "70000"
        },
        {
         "_deepnote_index_column": "EID101",
         "salary": "260000"
        },
        {
         "_deepnote_index_column": "EID102",
         "salary": "85000"
        },
        {
         "_deepnote_index_column": "EID103",
         "salary": "20000"
        },
        {
         "_deepnote_index_column": "EID104",
         "salary": "150000"
        }
       ]
      },
      "text/html": [
       "<div>\n",
       "<style scoped>\n",
       "    .dataframe tbody tr th:only-of-type {\n",
       "        vertical-align: middle;\n",
       "    }\n",
       "\n",
       "    .dataframe tbody tr th {\n",
       "        vertical-align: top;\n",
       "    }\n",
       "\n",
       "    .dataframe thead th {\n",
       "        text-align: right;\n",
       "    }\n",
       "</style>\n",
       "<table border=\"1\" class=\"dataframe\">\n",
       "  <thead>\n",
       "    <tr style=\"text-align: right;\">\n",
       "      <th></th>\n",
       "      <th>salary</th>\n",
       "    </tr>\n",
       "  </thead>\n",
       "  <tbody>\n",
       "    <tr>\n",
       "      <th>EID100</th>\n",
       "      <td>70000</td>\n",
       "    </tr>\n",
       "    <tr>\n",
       "      <th>EID101</th>\n",
       "      <td>260000</td>\n",
       "    </tr>\n",
       "    <tr>\n",
       "      <th>EID102</th>\n",
       "      <td>85000</td>\n",
       "    </tr>\n",
       "    <tr>\n",
       "      <th>EID103</th>\n",
       "      <td>20000</td>\n",
       "    </tr>\n",
       "    <tr>\n",
       "      <th>EID104</th>\n",
       "      <td>150000</td>\n",
       "    </tr>\n",
       "  </tbody>\n",
       "</table>\n",
       "</div>"
      ],
      "text/plain": [
       "        salary\n",
       "EID100   70000\n",
       "EID101  260000\n",
       "EID102   85000\n",
       "EID103   20000\n",
       "EID104  150000"
      ]
     },
     "execution_count": 38,
     "metadata": {},
     "output_type": "execute_result"
    }
   ],
   "source": [
    "df[['salary']].iloc[:5]"
   ]
  },
  {
   "cell_type": "markdown",
   "metadata": {
    "cell_id": "ddf1a4d77b4c42418fe363025b013349",
    "deepnote_app_coordinates": {
     "h": 5,
     "w": 12,
     "x": 0,
     "y": 361
    },
    "deepnote_cell_type": "markdown"
   },
   "source": [
    "#### Getting a Series"
   ]
  },
  {
   "cell_type": "code",
   "execution_count": 39,
   "metadata": {
    "cell_id": "3dde6f010b04480eae8b97eff636bf85",
    "deepnote_app_coordinates": {
     "h": 5,
     "w": 12,
     "x": 0,
     "y": 367
    },
    "deepnote_cell_type": "code",
    "deepnote_to_be_reexecuted": false,
    "execution_millis": 108,
    "execution_start": 1666898372567,
    "scrolled": true,
    "source_hash": "9ada8261"
   },
   "outputs": [
    {
     "data": {
      "text/plain": [
       "EID100     70000\n",
       "EID101    260000\n",
       "EID102     85000\n",
       "EID103     20000\n",
       "EID104    150000\n",
       "Name: salary, dtype: int64"
      ]
     },
     "execution_count": 39,
     "metadata": {},
     "output_type": "execute_result"
    }
   ],
   "source": [
    "df.iloc[:5]['salary']"
   ]
  },
  {
   "cell_type": "code",
   "execution_count": 40,
   "metadata": {
    "cell_id": "0b577ecbe1fb4f62b35e511993de3eb2",
    "deepnote_app_coordinates": {
     "h": 5,
     "w": 12,
     "x": 0,
     "y": 373
    },
    "deepnote_cell_type": "code",
    "deepnote_to_be_reexecuted": false,
    "execution_millis": 104,
    "execution_start": 1666898372572,
    "source_hash": "f3dbad22"
   },
   "outputs": [
    {
     "data": {
      "text/plain": [
       "EID100     70000\n",
       "EID101    260000\n",
       "EID102     85000\n",
       "EID103     20000\n",
       "EID104    150000\n",
       "Name: salary, dtype: int64"
      ]
     },
     "execution_count": 40,
     "metadata": {},
     "output_type": "execute_result"
    }
   ],
   "source": [
    "df.iloc[:5].salary"
   ]
  },
  {
   "cell_type": "code",
   "execution_count": 41,
   "metadata": {
    "cell_id": "a345845b56064a84aa4660b773be4aee",
    "deepnote_app_coordinates": {
     "h": 5,
     "w": 12,
     "x": 0,
     "y": 379
    },
    "deepnote_cell_type": "code",
    "deepnote_to_be_reexecuted": false,
    "execution_millis": 55,
    "execution_start": 1666898372622,
    "scrolled": true,
    "source_hash": "680e90a1"
   },
   "outputs": [
    {
     "data": {
      "text/plain": [
       "EID100     70000\n",
       "EID101    260000\n",
       "EID102     85000\n",
       "EID103     20000\n",
       "EID104    150000\n",
       "Name: salary, dtype: int64"
      ]
     },
     "execution_count": 41,
     "metadata": {},
     "output_type": "execute_result"
    }
   ],
   "source": [
    "df['salary'].iloc[:5]"
   ]
  },
  {
   "cell_type": "code",
   "execution_count": 42,
   "metadata": {
    "cell_id": "b11bb76e3a4441dfbeaff372a82f0ea8",
    "deepnote_app_coordinates": {
     "h": 5,
     "w": 12,
     "x": 0,
     "y": 385
    },
    "deepnote_cell_type": "code",
    "deepnote_to_be_reexecuted": false,
    "execution_millis": 54,
    "execution_start": 1666898372624,
    "scrolled": true,
    "source_hash": "bc504060"
   },
   "outputs": [
    {
     "data": {
      "text/plain": [
       "EID100     70000\n",
       "EID101    260000\n",
       "EID102     85000\n",
       "EID103     20000\n",
       "EID104    150000\n",
       "Name: salary, dtype: int64"
      ]
     },
     "execution_count": 42,
     "metadata": {},
     "output_type": "execute_result"
    }
   ],
   "source": [
    "df.salary.iloc[:5]"
   ]
  }
 ],
 "metadata": {
  "deepnote": {},
  "deepnote_app_layout": "article",
  "deepnote_execution_queue": [],
  "deepnote_notebook_id": "dca884e6e26b48b48484c7db7ebf7ba9",
  "deepnote_persisted_session": {
   "createdAt": "2022-10-27T21:15:26.010Z"
  },
  "kernelspec": {
   "display_name": "Python 3 (ipykernel)",
   "language": "python",
   "name": "python3"
  },
  "language_info": {
   "codemirror_mode": {
    "name": "ipython",
    "version": 3
   },
   "file_extension": ".py",
   "mimetype": "text/x-python",
   "name": "python",
   "nbconvert_exporter": "python",
   "pygments_lexer": "ipython3",
   "version": "3.8.16"
  }
 },
 "nbformat": 4,
 "nbformat_minor": 4
}
