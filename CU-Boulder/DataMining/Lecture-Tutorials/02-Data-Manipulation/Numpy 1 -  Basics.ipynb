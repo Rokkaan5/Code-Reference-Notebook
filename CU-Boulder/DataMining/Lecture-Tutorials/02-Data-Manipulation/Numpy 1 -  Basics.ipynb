{
 "cells": [
  {
   "cell_type": "raw",
   "metadata": {
    "cell_id": "36e7a9ad53014e8a8d558fde8e75e7f1",
    "deepnote_app_coordinates": {
     "h": 5,
     "w": 12,
     "x": 0,
     "y": 1
    },
    "deepnote_cell_type": "markdown"
   },
   "source": [
    "---\n",
    "title: NumPy Basics\n",
    "format:\n",
    "    html:\n",
    "        code-fold: false\n",
    "execute:\n",
    "    output: true\n",
    "toc: true\n",
    "---"
   ]
  },
  {
   "cell_type": "code",
   "execution_count": null,
   "metadata": {
    "cell_id": "ee4121fc795b46ba82a02f66dce61c04",
    "deepnote_app_coordinates": {
     "h": 5,
     "w": 12,
     "x": 0,
     "y": 7
    },
    "deepnote_cell_type": "code",
    "deepnote_to_be_reexecuted": false,
    "execution_start": 1666068362896,
    "source_hash": "c2602aa8"
   },
   "outputs": [],
   "source": [
    "import numpy as np"
   ]
  },
  {
   "cell_type": "markdown",
   "metadata": {
    "cell_id": "413bbf0d3e1f4ebcaae04a696f7c86e6",
    "deepnote_app_coordinates": {
     "h": 5,
     "w": 12,
     "x": 0,
     "y": 13
    },
    "deepnote_cell_type": "markdown"
   },
   "source": [
    "## Efficiency"
   ]
  },
  {
   "cell_type": "code",
   "execution_count": null,
   "metadata": {
    "cell_id": "09abb484ca3e44b4abee92b7128f48fd",
    "deepnote_app_coordinates": {
     "h": 5,
     "w": 12,
     "x": 0,
     "y": 19
    },
    "deepnote_cell_type": "code",
    "deepnote_to_be_reexecuted": false,
    "execution_millis": 5,
    "execution_start": 1666068362896,
    "scrolled": true,
    "source_hash": "53b8c8a9"
   },
   "outputs": [
    {
     "data": {
      "text/plain": [
       "[0, 1, 4, 9, 16, 25, 36, 49, 64, 81]"
      ]
     },
     "execution_count": 2,
     "metadata": {},
     "output_type": "execute_result"
    }
   ],
   "source": [
    "[x**2 for x in range(10)]"
   ]
  },
  {
   "cell_type": "code",
   "execution_count": null,
   "metadata": {
    "cell_id": "b81172696e594cd9ba59b2bd49c9bb46",
    "deepnote_app_coordinates": {
     "h": 5,
     "w": 12,
     "x": 0,
     "y": 25
    },
    "deepnote_cell_type": "code",
    "deepnote_to_be_reexecuted": false,
    "execution_millis": 5,
    "execution_start": 1666068362897,
    "source_hash": "a4583ff7"
   },
   "outputs": [
    {
     "data": {
      "text/plain": [
       "array([ 0,  1,  4,  9, 16, 25, 36, 49, 64, 81])"
      ]
     },
     "execution_count": 3,
     "metadata": {},
     "output_type": "execute_result"
    }
   ],
   "source": [
    "np.arange(10) ** 2"
   ]
  },
  {
   "cell_type": "code",
   "execution_count": null,
   "metadata": {
    "cell_id": "0e3ae1b16f59432395e3f32564b78442",
    "deepnote_app_coordinates": {
     "h": 5,
     "w": 12,
     "x": 0,
     "y": 31
    },
    "deepnote_cell_type": "code",
    "deepnote_to_be_reexecuted": false,
    "execution_millis": 1621,
    "execution_start": 1666068362898,
    "source_hash": "3636cc66"
   },
   "outputs": [
    {
     "name": "stdout",
     "output_type": "stream",
     "text": [
      "228 µs ± 17.5 µs per loop (mean ± std. dev. of 7 runs, 1,000 loops each)\n",
      "2.42 µs ± 815 ns per loop (mean ± std. dev. of 7 runs, 1,000 loops each)\n"
     ]
    }
   ],
   "source": [
    "%timeit -n 1000 [x**2 for x in range(1000)]\n",
    "%timeit -n 1000 np.arange(1000) ** 2"
   ]
  },
  {
   "cell_type": "markdown",
   "metadata": {
    "cell_id": "bfddf8307fb54762b4feb0c8d4e4bd3f",
    "deepnote_app_coordinates": {
     "h": 5,
     "w": 12,
     "x": 0,
     "y": 37
    },
    "deepnote_cell_type": "markdown"
   },
   "source": [
    "## Creating a Simple Array"
   ]
  },
  {
   "cell_type": "code",
   "execution_count": null,
   "metadata": {
    "cell_id": "061470fed17a437eb0fc54f6663faaf6",
    "deepnote_app_coordinates": {
     "h": 5,
     "w": 12,
     "x": 0,
     "y": 43
    },
    "deepnote_cell_type": "code",
    "deepnote_to_be_reexecuted": false,
    "execution_millis": 3,
    "execution_start": 1666068364550,
    "source_hash": "c947a46d"
   },
   "outputs": [
    {
     "data": {
      "text/plain": [
       "array([1, 2, 3, 4, 5])"
      ]
     },
     "execution_count": 5,
     "metadata": {},
     "output_type": "execute_result"
    }
   ],
   "source": [
    "ls = [1,2,3,4,5]\n",
    "np.array(ls)"
   ]
  },
  {
   "cell_type": "markdown",
   "metadata": {
    "cell_id": "2592e1db97554db7bf9b50759311eaee",
    "deepnote_app_coordinates": {
     "h": 5,
     "w": 12,
     "x": 0,
     "y": 49
    },
    "deepnote_cell_type": "markdown"
   },
   "source": [
    "### Getting Basic Information about an Array"
   ]
  },
  {
   "cell_type": "code",
   "execution_count": null,
   "metadata": {
    "cell_id": "ad4d3a30e1bd42c7a63419689acc0b60",
    "deepnote_app_coordinates": {
     "h": 5,
     "w": 12,
     "x": 0,
     "y": 55
    },
    "deepnote_cell_type": "code",
    "deepnote_to_be_reexecuted": false,
    "execution_millis": 3,
    "execution_start": 1666068364551,
    "source_hash": "573451f9"
   },
   "outputs": [
    {
     "name": "stdout",
     "output_type": "stream",
     "text": [
      "Object type: <class 'numpy.ndarray'>\n",
      "Array size: 5,\n",
      "Array dimensions: 1,\n",
      "Array data type: int64\n"
     ]
    }
   ],
   "source": [
    "ar = np.array([1,2,3,4,5])\n",
    "ar_type = type(ar)\n",
    "array_size = np.size(ar)\n",
    "array_dimensions = ar.ndim\n",
    "array_data_type = ar.dtype\n",
    "\n",
    "print('''Object type: {}\n",
    "Array size: {},\n",
    "Array dimensions: {},\n",
    "Array data type: {}'''.format(ar_type,\n",
    "                              array_size,\n",
    "                              array_dimensions,\n",
    "                              array_data_type))"
   ]
  },
  {
   "cell_type": "markdown",
   "metadata": {
    "cell_id": "9489d52a2f744178bac97d37f4205f40",
    "deepnote_app_coordinates": {
     "h": 5,
     "w": 12,
     "x": 0,
     "y": 61
    },
    "deepnote_cell_type": "markdown"
   },
   "source": [
    "### np.arange()"
   ]
  },
  {
   "cell_type": "code",
   "execution_count": null,
   "metadata": {
    "cell_id": "e0b85de40419493ca676e0b48f25fb7d",
    "deepnote_app_coordinates": {
     "h": 5,
     "w": 12,
     "x": 0,
     "y": 67
    },
    "deepnote_cell_type": "code",
    "deepnote_to_be_reexecuted": false,
    "execution_millis": 3,
    "execution_start": 1666068364552,
    "source_hash": "fab77601"
   },
   "outputs": [
    {
     "name": "stdout",
     "output_type": "stream",
     "text": [
      "ar1: [0 1 2 3 4 5 6 7 8 9]\n",
      "ar2: [ 5  6  7  8  9 10]\n",
      "ar3: [ 0  3  6  9 12]\n",
      "ar4: [ 4  3  2  1  0 -1 -2 -3]\n"
     ]
    }
   ],
   "source": [
    "ar1 = np.arange(10)\n",
    "print('ar1:', ar1)\n",
    "\n",
    "ar2 = np.arange(5,11)\n",
    "print('ar2:', ar2)\n",
    "\n",
    "ar3 = np.arange(0,13,3)\n",
    "print('ar3:', ar3)\n",
    "\n",
    "ar4 = np.arange(4,-4,-1)\n",
    "print('ar4:', ar4)"
   ]
  },
  {
   "cell_type": "code",
   "execution_count": null,
   "metadata": {
    "cell_id": "ad1d7fc0b0eb496986da6f385dc43805",
    "deepnote_app_coordinates": {
     "h": 5,
     "w": 12,
     "x": 0,
     "y": 73
    },
    "deepnote_cell_type": "code",
    "deepnote_to_be_reexecuted": false,
    "execution_millis": 3,
    "execution_start": 1666068364561,
    "scrolled": true,
    "source_hash": "fac9f330"
   },
   "outputs": [
    {
     "name": "stdout",
     "output_type": "stream",
     "text": [
      "[1 2 3 4] <class 'numpy.int64'>\n",
      "[1.  1.5 2.  2.5 3.  3.5 4.  4.5] <class 'numpy.float64'>\n",
      "[1. 2. 3. 4.] <class 'numpy.float64'>\n"
     ]
    }
   ],
   "source": [
    "ar5 = np.arange(1,5,1)\n",
    "print(ar5, type(ar5[0]))\n",
    "\n",
    "ar6 = np.arange(1,5,.5)\n",
    "print(ar6, type(ar6[0]))\n",
    "\n",
    "ar7 = np.arange(1,5, dtype=float)\n",
    "print(ar7, type(ar7[0]))"
   ]
  },
  {
   "cell_type": "code",
   "execution_count": null,
   "metadata": {
    "cell_id": "a0f5eb2138874220bd2ac415f7ba90a3",
    "deepnote_app_coordinates": {
     "h": 5,
     "w": 12,
     "x": 0,
     "y": 79
    },
    "deepnote_cell_type": "code",
    "deepnote_to_be_reexecuted": false,
    "execution_millis": 4,
    "execution_start": 1666068364563,
    "source_hash": "7457869"
   },
   "outputs": [
    {
     "name": "stdout",
     "output_type": "stream",
     "text": [
      "<class 'numpy.int64'>\n",
      "1\n"
     ]
    }
   ],
   "source": [
    "ar = np.arange(1,10)\n",
    "print( type(ar[0]))\n",
    "\n",
    "ar[5] = 1.5\n",
    "print( ar[5] )"
   ]
  },
  {
   "cell_type": "markdown",
   "metadata": {
    "cell_id": "2d036a5a58534f098efa63fdae276557",
    "deepnote_app_coordinates": {
     "h": 5,
     "w": 12,
     "x": 0,
     "y": 85
    },
    "deepnote_cell_type": "markdown"
   },
   "source": [
    "## Similar to Lists\n",
    "ndarrays are iterators"
   ]
  },
  {
   "cell_type": "code",
   "execution_count": null,
   "metadata": {
    "cell_id": "0f12420dd8b74447a892fad9abb42272",
    "deepnote_app_coordinates": {
     "h": 5,
     "w": 12,
     "x": 0,
     "y": 91
    },
    "deepnote_cell_type": "code",
    "deepnote_to_be_reexecuted": false,
    "execution_millis": 4,
    "execution_start": 1666068364567,
    "scrolled": true,
    "source_hash": "d2b97406"
   },
   "outputs": [
    {
     "name": "stdout",
     "output_type": "stream",
     "text": [
      "0 1 4 9 16 25 36 49 64 81 \n",
      " -------------------------\n",
      "0 1 4 9 16 25 36 49 64 81 "
     ]
    }
   ],
   "source": [
    "ls = [x**2 for x in range(10)]\n",
    "ar = np.arange(10) ** 2\n",
    "\n",
    "for i in ls:\n",
    "    print(i, end=' ')\n",
    "\n",
    "print('\\n', '-' * 25)\n",
    "\n",
    "for i in ar:\n",
    "    print(i, end=' ')"
   ]
  },
  {
   "cell_type": "markdown",
   "metadata": {
    "cell_id": "fc4d8355306946ff8dd214f77f1a5ad8",
    "deepnote_app_coordinates": {
     "h": 5,
     "w": 12,
     "x": 0,
     "y": 97
    },
    "deepnote_cell_type": "markdown"
   },
   "source": [
    "## Different from Lists"
   ]
  },
  {
   "cell_type": "markdown",
   "metadata": {
    "cell_id": "03c5d72b039445a586e5b30b3e312a2d",
    "deepnote_app_coordinates": {
     "h": 5,
     "w": 12,
     "x": 0,
     "y": 103
    },
    "deepnote_cell_type": "markdown"
   },
   "source": [
    "### Operators that behave differently"
   ]
  },
  {
   "cell_type": "code",
   "execution_count": null,
   "metadata": {
    "cell_id": "d0d36277b6d044bbb59c9ea90d32f6cd",
    "deepnote_app_coordinates": {
     "h": 5,
     "w": 12,
     "x": 0,
     "y": 109
    },
    "deepnote_cell_type": "code",
    "deepnote_to_be_reexecuted": false,
    "execution_millis": 4,
    "execution_start": 1666068364594,
    "source_hash": "d850577d"
   },
   "outputs": [
    {
     "name": "stdout",
     "output_type": "stream",
     "text": [
      "[1, 2, 3, 4, 5]\n",
      "[1, 2, 3, 4, 5, 1, 2, 3, 4, 5]\n",
      "[1, 2, 3, 4, 5, 1, 2, 3, 4, 5]\n"
     ]
    }
   ],
   "source": [
    "ls = [1,2,3,4,5]\n",
    "print(ls)\n",
    "print(ls + ls) #Appends list to itself\n",
    "print(ls * 2) #Repeats list twice"
   ]
  },
  {
   "cell_type": "code",
   "execution_count": null,
   "metadata": {
    "cell_id": "e718caf5f2f2436db6226fc5b8d9d692",
    "deepnote_app_coordinates": {
     "h": 5,
     "w": 12,
     "x": 0,
     "y": 115
    },
    "deepnote_cell_type": "code",
    "deepnote_to_be_reexecuted": false,
    "execution_millis": 3,
    "execution_start": 1666068364595,
    "scrolled": true,
    "source_hash": "c070be1a"
   },
   "outputs": [
    {
     "name": "stdout",
     "output_type": "stream",
     "text": [
      "[1 2 3 4 5]\n",
      "[ 2  4  6  8 10]\n",
      "[ 2  4  6  8 10]\n"
     ]
    }
   ],
   "source": [
    "ar = np.arange(1,6)\n",
    "print(ar)\n",
    "print(ar + ar) #Adds ar[0] to ar[0], ar[1] to ar[1], etc.\n",
    "print(ar * 2) #Multiplies each element of array by 2"
   ]
  },
  {
   "cell_type": "code",
   "execution_count": null,
   "metadata": {
    "cell_id": "ec90ad44c3774d0c87b11e9de7837085",
    "deepnote_app_coordinates": {
     "h": 5,
     "w": 12,
     "x": 0,
     "y": 121
    },
    "deepnote_cell_type": "code",
    "deepnote_to_be_reexecuted": false,
    "execution_millis": 11,
    "execution_start": 1666068364595,
    "source_hash": "574bd088"
   },
   "outputs": [
    {
     "name": "stdout",
     "output_type": "stream",
     "text": [
      "[ 2  4  6  8 10]\n",
      "[ 2  4  6  8 10]\n",
      "[ 2  4  6  8 10]\n"
     ]
    }
   ],
   "source": [
    "ar1 = np.arange(1,6)\n",
    "s = 2\n",
    "ls = [2,2,2,2,2]\n",
    "ar2 = np.array( [2,2,2,2,2] )\n",
    "\n",
    "print(ar1 * s)\n",
    "print(ar1 * ls)\n",
    "print(ar1 * ar2)"
   ]
  },
  {
   "cell_type": "code",
   "execution_count": null,
   "metadata": {
    "cell_id": "c56f33aca8b34fb5bc3692c367c1a427",
    "deepnote_app_coordinates": {
     "h": 5,
     "w": 12,
     "x": 0,
     "y": 127
    },
    "deepnote_cell_type": "code",
    "deepnote_to_be_reexecuted": false,
    "execution_millis": 8,
    "execution_start": 1666068364599,
    "source_hash": "753e7de9"
   },
   "outputs": [
    {
     "name": "stdout",
     "output_type": "stream",
     "text": [
      "[3 4 5 6 7]\n",
      "[-1  0  1  2  3]\n",
      "[0.5 1.  1.5 2.  2.5]\n",
      "[ 1  4  9 16 25]\n",
      "[1.         1.41421356 1.73205081 2.         2.23606798]\n",
      "[11 12 13 14 15]\n"
     ]
    }
   ],
   "source": [
    "ar = np.arange(1,6)\n",
    "print(ar + 2) #Add 2 to each element of array\n",
    "print(ar - 2) #Subtract 2 from each element of array\n",
    "print(ar / 2) #Divide each element of array by 2\n",
    "print(ar ** 2) #Square each element of array\n",
    "print(ar ** .5) #Get square root of each element of array\n",
    "ar += 10 #Add 10 to each element of array\n",
    "print(ar)"
   ]
  },
  {
   "cell_type": "markdown",
   "metadata": {
    "cell_id": "c54e268f56d647c199b9a2d1714135af",
    "deepnote_app_coordinates": {
     "h": 5,
     "w": 12,
     "x": 0,
     "y": 133
    },
    "deepnote_cell_type": "markdown"
   },
   "source": [
    "## Universal Functions"
   ]
  },
  {
   "cell_type": "markdown",
   "metadata": {
    "cell_id": "821f3d2938d94676a4215c12693fbfa3",
    "deepnote_app_coordinates": {
     "h": 5,
     "w": 12,
     "x": 0,
     "y": 139
    },
    "deepnote_cell_type": "markdown"
   },
   "source": [
    "### Zipping two iterables"
   ]
  },
  {
   "cell_type": "code",
   "execution_count": null,
   "metadata": {
    "cell_id": "a61ffcdacc634c4e97dd328bd38f2bb4",
    "deepnote_app_coordinates": {
     "h": 5,
     "w": 12,
     "x": 0,
     "y": 145
    },
    "deepnote_cell_type": "code",
    "deepnote_to_be_reexecuted": false,
    "execution_millis": 7,
    "execution_start": 1666068364605,
    "scrolled": true,
    "source_hash": "97b43aa"
   },
   "outputs": [
    {
     "data": {
      "text/plain": [
       "<zip at 0x7f22b4c830c0>"
      ]
     },
     "execution_count": 15,
     "metadata": {},
     "output_type": "execute_result"
    }
   ],
   "source": [
    "r1 = range(1,10)\n",
    "r2 = range(10,1,-1)\n",
    "z = zip(r1,r2)\n",
    "z"
   ]
  },
  {
   "cell_type": "markdown",
   "metadata": {
    "cell_id": "8fdd455aaaf949fb96c3d6a98a796f5f",
    "deepnote_app_coordinates": {
     "h": 5,
     "w": 12,
     "x": 0,
     "y": 151
    },
    "deepnote_cell_type": "markdown"
   },
   "source": [
    "### Displaying the zip as a list"
   ]
  },
  {
   "cell_type": "code",
   "execution_count": null,
   "metadata": {
    "cell_id": "1f6f5fbf3be6414e83bbf4f599e4a0f7",
    "deepnote_app_coordinates": {
     "h": 5,
     "w": 12,
     "x": 0,
     "y": 157
    },
    "deepnote_cell_type": "code",
    "deepnote_to_be_reexecuted": false,
    "execution_millis": 43,
    "execution_start": 1666068364611,
    "source_hash": "3a786724"
   },
   "outputs": [
    {
     "data": {
      "text/plain": [
       "[(1, 10), (2, 9), (3, 8), (4, 7), (5, 6), (6, 5), (7, 4), (8, 3), (9, 2)]"
      ]
     },
     "execution_count": 16,
     "metadata": {},
     "output_type": "execute_result"
    }
   ],
   "source": [
    "list(z)"
   ]
  },
  {
   "cell_type": "markdown",
   "metadata": {
    "cell_id": "eafa9710baf04d2699fdfda025bc27d3",
    "deepnote_app_coordinates": {
     "h": 5,
     "w": 12,
     "x": 0,
     "y": 163
    },
    "deepnote_cell_type": "markdown"
   },
   "source": [
    "### Looping through zip object to create list"
   ]
  },
  {
   "cell_type": "code",
   "execution_count": null,
   "metadata": {
    "cell_id": "1694b37e72c5460d8f60de92101883bf",
    "deepnote_app_coordinates": {
     "h": 5,
     "w": 12,
     "x": 0,
     "y": 169
    },
    "deepnote_cell_type": "code",
    "deepnote_to_be_reexecuted": false,
    "execution_millis": 3,
    "execution_start": 1666068364656,
    "source_hash": "bd2dbe2c"
   },
   "outputs": [
    {
     "data": {
      "text/plain": [
       "[10, 18, 24, 28, 30, 30, 28, 24, 18]"
      ]
     },
     "execution_count": 17,
     "metadata": {},
     "output_type": "execute_result"
    }
   ],
   "source": [
    "ls = []\n",
    "for i1, i2 in zip(r1,r2):\n",
    "    ls.append(i1 * i2)\n",
    "ls"
   ]
  },
  {
   "cell_type": "markdown",
   "metadata": {
    "cell_id": "53f7f039a6f44ff7b4a689031271805a",
    "deepnote_app_coordinates": {
     "h": 5,
     "w": 12,
     "x": 0,
     "y": 175
    },
    "deepnote_cell_type": "markdown"
   },
   "source": [
    "### Multiplying two ndarrays"
   ]
  },
  {
   "cell_type": "code",
   "execution_count": null,
   "metadata": {
    "cell_id": "0590891238864a3c800788592c765ea6",
    "deepnote_app_coordinates": {
     "h": 5,
     "w": 12,
     "x": 0,
     "y": 181
    },
    "deepnote_cell_type": "code",
    "deepnote_to_be_reexecuted": false,
    "execution_millis": 4,
    "execution_start": 1666068364678,
    "source_hash": "d2e4f158"
   },
   "outputs": [
    {
     "data": {
      "text/plain": [
       "array([10, 18, 24, 28, 30, 30, 28, 24, 18])"
      ]
     },
     "execution_count": 18,
     "metadata": {},
     "output_type": "execute_result"
    }
   ],
   "source": [
    "ar1 = np.arange(1,10)\n",
    "ar2 = np.arange(10,1,-1)\n",
    "np.multiply(ar1,ar2)"
   ]
  },
  {
   "cell_type": "markdown",
   "metadata": {
    "cell_id": "13840f4fc6be42f38d9f56e6bd45ace4",
    "deepnote_app_coordinates": {
     "h": 5,
     "w": 12,
     "x": 0,
     "y": 187
    },
    "deepnote_cell_type": "markdown"
   },
   "source": [
    "### Adding array-like objects"
   ]
  },
  {
   "cell_type": "code",
   "execution_count": null,
   "metadata": {
    "cell_id": "cc052f76e34d4129ac6c677395a2c5f2",
    "deepnote_app_coordinates": {
     "h": 5,
     "w": 12,
     "x": 0,
     "y": 193
    },
    "deepnote_cell_type": "code",
    "deepnote_to_be_reexecuted": false,
    "execution_millis": 3,
    "execution_start": 1666068364679,
    "source_hash": "21ef3503"
   },
   "outputs": [
    {
     "data": {
      "text/plain": [
       "([1, 3, 5, 7], range(0, 4), array([ 1,  4,  7, 10]))"
      ]
     },
     "execution_count": 19,
     "metadata": {},
     "output_type": "execute_result"
    }
   ],
   "source": [
    "ls = [1,3,5,7]\n",
    "r = range(0,4)\n",
    "ls, r, np.add(ls,r)"
   ]
  },
  {
   "cell_type": "markdown",
   "metadata": {
    "cell_id": "95f3cb6bf2e24bcf9d66da3540053a8c",
    "deepnote_app_coordinates": {
     "h": 5,
     "w": 12,
     "x": 0,
     "y": 199
    },
    "deepnote_cell_type": "markdown"
   },
   "source": [
    "### Some Examples of Universal Functions"
   ]
  },
  {
   "cell_type": "code",
   "execution_count": null,
   "metadata": {
    "cell_id": "b40e4fd631ad468d924a5c707cea92cc",
    "deepnote_app_coordinates": {
     "h": 5,
     "w": 12,
     "x": 0,
     "y": 205
    },
    "deepnote_cell_type": "code",
    "deepnote_to_be_reexecuted": false,
    "execution_millis": 0,
    "execution_start": 1666068364680,
    "source_hash": "702a9d00"
   },
   "outputs": [],
   "source": [
    "ar_ints = np.arange(1,6)\n",
    "ar_floats = np.arange(1,7.5,1.5)"
   ]
  },
  {
   "cell_type": "code",
   "execution_count": null,
   "metadata": {
    "cell_id": "8f1da112fe794b5681c25204662e5535",
    "deepnote_app_coordinates": {
     "h": 5,
     "w": 12,
     "x": 0,
     "y": 211
    },
    "deepnote_cell_type": "code",
    "deepnote_to_be_reexecuted": false,
    "execution_millis": 4,
    "execution_start": 1666068364683,
    "source_hash": "5f2d7a99"
   },
   "outputs": [
    {
     "data": {
      "text/plain": [
       "array([ 2. ,  4.5,  7. ,  9.5, 12. ])"
      ]
     },
     "execution_count": 21,
     "metadata": {},
     "output_type": "execute_result"
    }
   ],
   "source": [
    "np.add(ar_ints, ar_floats)"
   ]
  },
  {
   "cell_type": "code",
   "execution_count": null,
   "metadata": {
    "cell_id": "79ef998af5164b8994800cafa1e191a5",
    "deepnote_app_coordinates": {
     "h": 5,
     "w": 12,
     "x": 0,
     "y": 217
    },
    "deepnote_cell_type": "code",
    "deepnote_to_be_reexecuted": false,
    "execution_millis": 4,
    "execution_start": 1666068364689,
    "source_hash": "a9d1a896"
   },
   "outputs": [
    {
     "data": {
      "text/plain": [
       "array([-1, -2, -3, -4, -5])"
      ]
     },
     "execution_count": 22,
     "metadata": {},
     "output_type": "execute_result"
    }
   ],
   "source": [
    "np.negative(ar_ints)"
   ]
  },
  {
   "cell_type": "code",
   "execution_count": null,
   "metadata": {
    "cell_id": "cd113cc79d2146c784947bc12fc6e9ee",
    "deepnote_app_coordinates": {
     "h": 5,
     "w": 12,
     "x": 0,
     "y": 223
    },
    "deepnote_cell_type": "code",
    "deepnote_to_be_reexecuted": false,
    "execution_millis": 3,
    "execution_start": 1666068364693,
    "scrolled": true,
    "source_hash": "6bfeef96"
   },
   "outputs": [
    {
     "data": {
      "text/plain": [
       "array([ 1,  4,  9, 16, 25])"
      ]
     },
     "execution_count": 23,
     "metadata": {},
     "output_type": "execute_result"
    }
   ],
   "source": [
    "np.square(ar_ints)"
   ]
  },
  {
   "cell_type": "code",
   "execution_count": null,
   "metadata": {
    "cell_id": "14560f1c104942c1a8372185842f7010",
    "deepnote_app_coordinates": {
     "h": 5,
     "w": 12,
     "x": 0,
     "y": 229
    },
    "deepnote_cell_type": "code",
    "deepnote_to_be_reexecuted": false,
    "execution_millis": 1,
    "execution_start": 1666068364738,
    "source_hash": "6cb91c87"
   },
   "outputs": [
    {
     "data": {
      "text/plain": [
       "array([1.41421356, 2.82842712, 4.24264069, 5.65685425, 7.07106781])"
      ]
     },
     "execution_count": 24,
     "metadata": {},
     "output_type": "execute_result"
    }
   ],
   "source": [
    "np.hypot(ar_ints, ar_ints)"
   ]
  },
  {
   "cell_type": "code",
   "execution_count": null,
   "metadata": {
    "cell_id": "e4cfc59595744092b3c3181055d0c36f",
    "deepnote_app_coordinates": {
     "h": 5,
     "w": 12,
     "x": 0,
     "y": 235
    },
    "deepnote_cell_type": "code",
    "deepnote_to_be_reexecuted": false,
    "execution_millis": 2,
    "execution_start": 1666068364783,
    "scrolled": true,
    "source_hash": "61d1eb05"
   },
   "outputs": [
    {
     "data": {
      "text/plain": [
       "array([False, False, False, False, False])"
      ]
     },
     "execution_count": 25,
     "metadata": {},
     "output_type": "execute_result"
    }
   ],
   "source": [
    "np.greater(ar_ints, ar_floats)"
   ]
  },
  {
   "cell_type": "code",
   "execution_count": null,
   "metadata": {
    "cell_id": "0f976343796842e685bf53f7e304c4b4",
    "deepnote_app_coordinates": {
     "h": 5,
     "w": 12,
     "x": 0,
     "y": 241
    },
    "deepnote_cell_type": "code",
    "deepnote_to_be_reexecuted": false,
    "execution_millis": 2,
    "execution_start": 1666068364783,
    "source_hash": "eee6aec5"
   },
   "outputs": [
    {
     "data": {
      "text/plain": [
       "array([1., 3., 4., 6., 7.])"
      ]
     },
     "execution_count": 26,
     "metadata": {},
     "output_type": "execute_result"
    }
   ],
   "source": [
    "np.ceil(ar_floats)"
   ]
  },
  {
   "cell_type": "markdown",
   "metadata": {
    "created_in_deepnote_cell": true,
    "deepnote_cell_type": "markdown",
    "tags": []
   },
   "source": [
    "<a style='text-decoration:none;line-height:16px;display:flex;color:#5B5B62;padding:10px;justify-content:end;' href='https://deepnote.com?utm_source=created-in-deepnote-cell&projectId=dfff8ba7-aef1-4bba-91c9-7743c312b252' target=\"_blank\">\n",
    "<img alt='Created in deepnote.com' style='display:inline;max-height:16px;margin:0px;margin-right:7.5px;' src='data:image/svg+xml;base64,PD94bWwgdmVyc2lvbj0iMS4wIiBlbmNvZGluZz0iVVRGLTgiPz4KPHN2ZyB3aWR0aD0iODBweCIgaGVpZ2h0PSI4MHB4IiB2aWV3Qm94PSIwIDAgODAgODAiIHZlcnNpb249IjEuMSIgeG1sbnM9Imh0dHA6Ly93d3cudzMub3JnLzIwMDAvc3ZnIiB4bWxuczp4bGluaz0iaHR0cDovL3d3dy53My5vcmcvMTk5OS94bGluayI+CiAgICA8IS0tIEdlbmVyYXRvcjogU2tldGNoIDU0LjEgKDc2NDkwKSAtIGh0dHBzOi8vc2tldGNoYXBwLmNvbSAtLT4KICAgIDx0aXRsZT5Hcm91cCAzPC90aXRsZT4KICAgIDxkZXNjPkNyZWF0ZWQgd2l0aCBTa2V0Y2guPC9kZXNjPgogICAgPGcgaWQ9IkxhbmRpbmciIHN0cm9rZT0ibm9uZSIgc3Ryb2tlLXdpZHRoPSIxIiBmaWxsPSJub25lIiBmaWxsLXJ1bGU9ImV2ZW5vZGQiPgogICAgICAgIDxnIGlkPSJBcnRib2FyZCIgdHJhbnNmb3JtPSJ0cmFuc2xhdGUoLTEyMzUuMDAwMDAwLCAtNzkuMDAwMDAwKSI+CiAgICAgICAgICAgIDxnIGlkPSJHcm91cC0zIiB0cmFuc2Zvcm09InRyYW5zbGF0ZSgxMjM1LjAwMDAwMCwgNzkuMDAwMDAwKSI+CiAgICAgICAgICAgICAgICA8cG9seWdvbiBpZD0iUGF0aC0yMCIgZmlsbD0iIzAyNjVCNCIgcG9pbnRzPSIyLjM3NjIzNzYyIDgwIDM4LjA0NzY2NjcgODAgNTcuODIxNzgyMiA3My44MDU3NTkyIDU3LjgyMTc4MjIgMzIuNzU5MjczOSAzOS4xNDAyMjc4IDMxLjY4MzE2ODMiPjwvcG9seWdvbj4KICAgICAgICAgICAgICAgIDxwYXRoIGQ9Ik0zNS4wMDc3MTgsODAgQzQyLjkwNjIwMDcsNzYuNDU0OTM1OCA0Ny41NjQ5MTY3LDcxLjU0MjI2NzEgNDguOTgzODY2LDY1LjI2MTk5MzkgQzUxLjExMjI4OTksNTUuODQxNTg0MiA0MS42NzcxNzk1LDQ5LjIxMjIyODQgMjUuNjIzOTg0Niw0OS4yMTIyMjg0IEMyNS40ODQ5Mjg5LDQ5LjEyNjg0NDggMjkuODI2MTI5Niw0My4yODM4MjQ4IDM4LjY0NzU4NjksMzEuNjgzMTY4MyBMNzIuODcxMjg3MSwzMi41NTQ0MjUgTDY1LjI4MDk3Myw2Ny42NzYzNDIxIEw1MS4xMTIyODk5LDc3LjM3NjE0NCBMMzUuMDA3NzE4LDgwIFoiIGlkPSJQYXRoLTIyIiBmaWxsPSIjMDAyODY4Ij48L3BhdGg+CiAgICAgICAgICAgICAgICA8cGF0aCBkPSJNMCwzNy43MzA0NDA1IEwyNy4xMTQ1MzcsMC4yNTcxMTE0MzYgQzYyLjM3MTUxMjMsLTEuOTkwNzE3MDEgODAsMTAuNTAwMzkyNyA4MCwzNy43MzA0NDA1IEM4MCw2NC45NjA0ODgyIDY0Ljc3NjUwMzgsNzkuMDUwMzQxNCAzNC4zMjk1MTEzLDgwIEM0Ny4wNTUzNDg5LDc3LjU2NzA4MDggNTMuNDE4MjY3Nyw3MC4zMTM2MTAzIDUzLjQxODI2NzcsNTguMjM5NTg4NSBDNTMuNDE4MjY3Nyw0MC4xMjg1NTU3IDM2LjMwMzk1NDQsMzcuNzMwNDQwNSAyNS4yMjc0MTcsMzcuNzMwNDQwNSBDMTcuODQzMDU4NiwzNy43MzA0NDA1IDkuNDMzOTE5NjYsMzcuNzMwNDQwNSAwLDM3LjczMDQ0MDUgWiIgaWQ9IlBhdGgtMTkiIGZpbGw9IiMzNzkzRUYiPjwvcGF0aD4KICAgICAgICAgICAgPC9nPgogICAgICAgIDwvZz4KICAgIDwvZz4KPC9zdmc+' > </img>\n",
    "Created in <span style='font-weight:600;margin-left:4px;'>Deepnote</span></a>"
   ]
  }
 ],
 "metadata": {
  "deepnote": {},
  "deepnote_app_layout": "article",
  "deepnote_execution_queue": [],
  "deepnote_notebook_id": "e40c5f8264464be7895b007d09311b8a",
  "deepnote_persisted_session": {
   "createdAt": "2022-10-18T05:16:26.574Z"
  },
  "kernelspec": {
   "display_name": "Python 3 (ipykernel)",
   "language": "python",
   "name": "python3"
  },
  "language_info": {
   "codemirror_mode": {
    "name": "ipython",
    "version": 3
   },
   "file_extension": ".py",
   "mimetype": "text/x-python",
   "name": "python",
   "nbconvert_exporter": "python",
   "pygments_lexer": "ipython3",
   "version": "3.8.16"
  }
 },
 "nbformat": 4,
 "nbformat_minor": 4
}
