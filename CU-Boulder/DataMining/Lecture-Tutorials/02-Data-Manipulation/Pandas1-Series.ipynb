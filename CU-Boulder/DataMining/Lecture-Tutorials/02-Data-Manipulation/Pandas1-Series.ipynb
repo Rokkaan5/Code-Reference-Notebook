{
 "cells": [
  {
   "cell_type": "raw",
   "metadata": {},
   "source": [
    "---\n",
    "title: \"Pandas 1 - Series\"\n",
    "format:\n",
    "    html:\n",
    "        code-fold: false\n",
    "execute:\n",
    "    output: true\n",
    "    warning: false\n",
    "toc: true\n",
    "jupyter: python3\n",
    "---"
   ]
  },
  {
   "cell_type": "markdown",
   "metadata": {
    "cell_id": "bc610746d2fc43e1905edd9ae90c22ec",
    "deepnote_app_coordinates": {
     "h": 5,
     "w": 12,
     "x": 0,
     "y": 1
    },
    "deepnote_cell_type": "markdown"
   },
   "source": [
    "# pandas Series"
   ]
  },
  {
   "cell_type": "markdown",
   "metadata": {
    "cell_id": "26c894c9607f4111af6fca9105a5c4c4",
    "deepnote_app_coordinates": {
     "h": 5,
     "w": 12,
     "x": 0,
     "y": 7
    },
    "deepnote_cell_type": "markdown"
   },
   "source": [
    "## Setup"
   ]
  },
  {
   "cell_type": "code",
   "execution_count": 1,
   "metadata": {
    "cell_id": "b2db776341fe47c1baf4f8d04a368362",
    "deepnote_app_coordinates": {
     "h": 5,
     "w": 12,
     "x": 0,
     "y": 13
    },
    "deepnote_cell_type": "code",
    "deepnote_to_be_reexecuted": false,
    "execution_millis": 2,
    "execution_start": 1666995170415,
    "source_hash": "b7dcc9c8"
   },
   "outputs": [],
   "source": [
    "import numpy as np\n",
    "import pandas as pd"
   ]
  },
  {
   "cell_type": "markdown",
   "metadata": {
    "cell_id": "af84c2b1420448eebaa0898f38a56705",
    "deepnote_app_coordinates": {
     "h": 5,
     "w": 12,
     "x": 0,
     "y": 19
    },
    "deepnote_cell_type": "markdown",
    "tags": []
   },
   "source": [
    "## Creation"
   ]
  },
  {
   "cell_type": "markdown",
   "metadata": {
    "cell_id": "db48f786d42c45a8acaea534bb0e2b4c",
    "deepnote_app_coordinates": {
     "h": 5,
     "w": 12,
     "x": 0,
     "y": 25
    },
    "deepnote_cell_type": "markdown"
   },
   "source": [
    "### Create Series from ndarray"
   ]
  },
  {
   "cell_type": "code",
   "execution_count": 2,
   "metadata": {
    "cell_id": "ab61218723d14d21a283e9243583d35a",
    "deepnote_app_coordinates": {
     "h": 5,
     "w": 12,
     "x": 0,
     "y": 31
    },
    "deepnote_cell_type": "code",
    "deepnote_to_be_reexecuted": false,
    "execution_millis": 1,
    "execution_start": 1666895185734,
    "source_hash": "2f7d3157"
   },
   "outputs": [
    {
     "data": {
      "text/plain": [
       "0    0\n",
       "1    1\n",
       "2    2\n",
       "3    3\n",
       "4    4\n",
       "dtype: int64"
      ]
     },
     "execution_count": 2,
     "metadata": {},
     "output_type": "execute_result"
    }
   ],
   "source": [
    "s1 = pd.Series(np.arange(0,5))\n",
    "s1"
   ]
  },
  {
   "cell_type": "code",
   "execution_count": 37,
   "metadata": {
    "cell_id": "7600b9e8ec5047189eb474eaaf09209d",
    "deepnote_app_coordinates": {
     "h": 5,
     "w": 12,
     "x": 0,
     "y": 37
    },
    "deepnote_cell_type": "code",
    "deepnote_to_be_reexecuted": false,
    "execution_millis": 228,
    "execution_start": 1666896331095,
    "source_hash": "766a046d",
    "tags": []
   },
   "outputs": [
    {
     "data": {
      "text/plain": [
       "numpy.ndarray"
      ]
     },
     "execution_count": 37,
     "metadata": {},
     "output_type": "execute_result"
    }
   ],
   "source": [
    "type(np.arange(0, 5))"
   ]
  },
  {
   "cell_type": "markdown",
   "metadata": {
    "cell_id": "e4151f2db68241a186541642f2e650ba",
    "deepnote_app_coordinates": {
     "h": 5,
     "w": 12,
     "x": 0,
     "y": 43
    },
    "deepnote_cell_type": "markdown"
   },
   "source": [
    "### Create Series with index"
   ]
  },
  {
   "cell_type": "code",
   "execution_count": 36,
   "metadata": {
    "cell_id": "1e6f9fb1043440e58da8cd5ca74665be",
    "deepnote_app_coordinates": {
     "h": 5,
     "w": 12,
     "x": 0,
     "y": 49
    },
    "deepnote_cell_type": "code",
    "deepnote_to_be_reexecuted": false,
    "execution_millis": 3,
    "execution_start": 1666896228456,
    "scrolled": true,
    "source_hash": "840fc803"
   },
   "outputs": [
    {
     "data": {
      "text/plain": [
       "a    0\n",
       "b    1\n",
       "c    2\n",
       "d    3\n",
       "e    4\n",
       "dtype: int64"
      ]
     },
     "execution_count": 36,
     "metadata": {},
     "output_type": "execute_result"
    }
   ],
   "source": [
    "s2 = pd.Series(np.arange(0,5), index=['a','b','c','d','e'])\n",
    "s2"
   ]
  },
  {
   "cell_type": "markdown",
   "metadata": {
    "cell_id": "5508677c461d491ea01757cc0f666982",
    "deepnote_app_coordinates": {
     "h": 5,
     "w": 12,
     "x": 0,
     "y": 55
    },
    "deepnote_cell_type": "markdown"
   },
   "source": [
    "### Assign index to Existing Series"
   ]
  },
  {
   "cell_type": "code",
   "execution_count": 4,
   "metadata": {
    "cell_id": "3624f62ffbdf423f8c5ddd72451ecf46",
    "deepnote_app_coordinates": {
     "h": 5,
     "w": 12,
     "x": 0,
     "y": 61
    },
    "deepnote_cell_type": "code",
    "deepnote_to_be_reexecuted": false,
    "execution_millis": 3,
    "execution_start": 1666895185768,
    "scrolled": true,
    "source_hash": "b07cc846"
   },
   "outputs": [
    {
     "data": {
      "text/plain": [
       "A    0\n",
       "B    1\n",
       "C    2\n",
       "D    3\n",
       "E    4\n",
       "dtype: int64"
      ]
     },
     "execution_count": 4,
     "metadata": {},
     "output_type": "execute_result"
    }
   ],
   "source": [
    "s2.index = ['A','B','C','D','E']\n",
    "s2 "
   ]
  },
  {
   "cell_type": "code",
   "execution_count": 41,
   "metadata": {
    "cell_id": "47dbfaf25e8a4db1815d8018647539bf",
    "deepnote_app_coordinates": {
     "h": 5,
     "w": 12,
     "x": 0,
     "y": 67
    },
    "deepnote_cell_type": "code",
    "deepnote_to_be_reexecuted": false,
    "execution_millis": 5,
    "execution_start": 1666897132614,
    "source_hash": "202abf13",
    "tags": []
   },
   "outputs": [
    {
     "data": {
      "text/plain": [
       "Index(['a', 'b', 'c', 'd', 'e'], dtype='object')"
      ]
     },
     "execution_count": 41,
     "metadata": {},
     "output_type": "execute_result"
    }
   ],
   "source": [
    "s2.index"
   ]
  },
  {
   "cell_type": "markdown",
   "metadata": {
    "cell_id": "dc8e42d6f1574aeabc2d89d2f5cd4bc1",
    "deepnote_app_coordinates": {
     "h": 5,
     "w": 12,
     "x": 0,
     "y": 73
    },
    "deepnote_cell_type": "markdown"
   },
   "source": [
    "### Create One-Item Series from Scalar"
   ]
  },
  {
   "cell_type": "code",
   "execution_count": 5,
   "metadata": {
    "cell_id": "c5321cace8a341669a49b5366e43f5ae",
    "deepnote_app_coordinates": {
     "h": 5,
     "w": 12,
     "x": 0,
     "y": 79
    },
    "deepnote_cell_type": "code",
    "deepnote_to_be_reexecuted": false,
    "execution_millis": 21,
    "execution_start": 1666895185769,
    "source_hash": "c52a7a93"
   },
   "outputs": [
    {
     "data": {
      "text/plain": [
       "0    5\n",
       "dtype: int64"
      ]
     },
     "execution_count": 5,
     "metadata": {},
     "output_type": "execute_result"
    }
   ],
   "source": [
    "s3 = pd.Series(5)\n",
    "s3"
   ]
  },
  {
   "cell_type": "markdown",
   "metadata": {
    "cell_id": "cb2553715904473bab65b3efc0682426",
    "deepnote_app_coordinates": {
     "h": 5,
     "w": 12,
     "x": 0,
     "y": 85
    },
    "deepnote_cell_type": "markdown"
   },
   "source": [
    "### Create Series from list"
   ]
  },
  {
   "cell_type": "code",
   "execution_count": 6,
   "metadata": {
    "cell_id": "60339aee641542b7afb7322a11be0341",
    "deepnote_app_coordinates": {
     "h": 5,
     "w": 12,
     "x": 0,
     "y": 91
    },
    "deepnote_cell_type": "code",
    "deepnote_to_be_reexecuted": false,
    "execution_millis": 19,
    "execution_start": 1666895185771,
    "source_hash": "5b41439b"
   },
   "outputs": [
    {
     "data": {
      "text/plain": [
       "0    1\n",
       "1    2\n",
       "2    3\n",
       "3    4\n",
       "4    5\n",
       "dtype: int64"
      ]
     },
     "execution_count": 6,
     "metadata": {},
     "output_type": "execute_result"
    }
   ],
   "source": [
    "s4 = pd.Series([1,2,3,4,5])\n",
    "s4"
   ]
  },
  {
   "cell_type": "code",
   "execution_count": 40,
   "metadata": {
    "cell_id": "a778635339b04a71b2f65a7cd7e5591e",
    "deepnote_app_coordinates": {
     "h": 5,
     "w": 12,
     "x": 0,
     "y": 97
    },
    "deepnote_cell_type": "code",
    "deepnote_to_be_reexecuted": false,
    "execution_millis": 4,
    "execution_start": 1666897110886,
    "source_hash": "64a95cbc",
    "tags": []
   },
   "outputs": [
    {
     "data": {
      "text/plain": [
       "RangeIndex(start=0, stop=5, step=1)"
      ]
     },
     "execution_count": 40,
     "metadata": {},
     "output_type": "execute_result"
    }
   ],
   "source": [
    "s4.index"
   ]
  },
  {
   "cell_type": "markdown",
   "metadata": {
    "cell_id": "ed5aa0bdd343446097133103bd09aff5",
    "deepnote_app_coordinates": {
     "h": 5,
     "w": 12,
     "x": 0,
     "y": 103
    },
    "deepnote_cell_type": "markdown"
   },
   "source": [
    "### Create Series from dict"
   ]
  },
  {
   "cell_type": "code",
   "execution_count": 7,
   "metadata": {
    "cell_id": "8bdd963dffa94770ba70fb5d6b12e90d",
    "deepnote_app_coordinates": {
     "h": 5,
     "w": 12,
     "x": 0,
     "y": 109
    },
    "deepnote_cell_type": "code",
    "deepnote_to_be_reexecuted": false,
    "execution_millis": 2,
    "execution_start": 1666895185818,
    "scrolled": true,
    "source_hash": "47fcba6"
   },
   "outputs": [
    {
     "data": {
      "text/plain": [
       "Aaron        2001-10-10\n",
       "Brian        2002-06-06\n",
       "Christine    2003-02-02\n",
       "Di           2004-09-09\n",
       "dtype: object"
      ]
     },
     "execution_count": 7,
     "metadata": {},
     "output_type": "execute_result"
    }
   ],
   "source": [
    "from datetime import date\n",
    "bdays = {\n",
    "    'Aaron': date(2001, 10, 10),\n",
    "    'Brian': date(2002, 6, 6),\n",
    "    'Christine': date(2003, 2, 2),\n",
    "    'Di': date(2004, 9, 9),\n",
    "}\n",
    "s5 = pd.Series(bdays)\n",
    "s5"
   ]
  },
  {
   "cell_type": "code",
   "execution_count": 39,
   "metadata": {
    "cell_id": "47def7318914493295a29c1e390d3d93",
    "deepnote_app_coordinates": {
     "h": 5,
     "w": 12,
     "x": 0,
     "y": 115
    },
    "deepnote_cell_type": "code",
    "deepnote_to_be_reexecuted": false,
    "execution_millis": 74,
    "execution_start": 1666896817206,
    "source_hash": "a63c90f9"
   },
   "outputs": [
    {
     "data": {
      "text/plain": [
       "array([ 1.,  2.,  3., nan,  5.,  6.,  7., nan,  9., 10.])"
      ]
     },
     "execution_count": 39,
     "metadata": {},
     "output_type": "execute_result"
    }
   ],
   "source": [
    "ar = np.array([1,2,3,np.nan,5,6,7,np.nan,9,10])\n",
    "ar"
   ]
  },
  {
   "cell_type": "code",
   "execution_count": 9,
   "metadata": {
    "cell_id": "332c3dc21fea44af999802da63c3f42b",
    "deepnote_app_coordinates": {
     "h": 5,
     "w": 12,
     "x": 0,
     "y": 121
    },
    "deepnote_cell_type": "code",
    "deepnote_to_be_reexecuted": false,
    "execution_millis": 2,
    "execution_start": 1666895185863,
    "source_hash": "eeb44c9c"
   },
   "outputs": [
    {
     "data": {
      "text/plain": [
       "nan"
      ]
     },
     "execution_count": 9,
     "metadata": {},
     "output_type": "execute_result"
    }
   ],
   "source": [
    "ar.mean()"
   ]
  },
  {
   "cell_type": "code",
   "execution_count": 10,
   "metadata": {
    "cell_id": "78854ca4d91342bdac0896c4c1fe47a2",
    "deepnote_app_coordinates": {
     "h": 5,
     "w": 12,
     "x": 0,
     "y": 127
    },
    "deepnote_cell_type": "code",
    "deepnote_to_be_reexecuted": false,
    "execution_millis": 22,
    "execution_start": 1666895185864,
    "source_hash": "59af951b"
   },
   "outputs": [
    {
     "data": {
      "text/plain": [
       "0     1.0\n",
       "1     2.0\n",
       "2     3.0\n",
       "3     NaN\n",
       "4     5.0\n",
       "5     6.0\n",
       "6     7.0\n",
       "7     NaN\n",
       "8     9.0\n",
       "9    10.0\n",
       "dtype: float64"
      ]
     },
     "execution_count": 10,
     "metadata": {},
     "output_type": "execute_result"
    }
   ],
   "source": [
    "s6 = pd.Series(ar)\n",
    "s6"
   ]
  },
  {
   "cell_type": "code",
   "execution_count": 11,
   "metadata": {
    "cell_id": "9c8c3748a29149589ed33a35357e30ac",
    "deepnote_app_coordinates": {
     "h": 5,
     "w": 12,
     "x": 0,
     "y": 133
    },
    "deepnote_cell_type": "code",
    "deepnote_to_be_reexecuted": false,
    "execution_millis": 3,
    "execution_start": 1666895185884,
    "source_hash": "c8b042fc"
   },
   "outputs": [
    {
     "data": {
      "text/plain": [
       "(5.375, 5.375)"
      ]
     },
     "execution_count": 11,
     "metadata": {},
     "output_type": "execute_result"
    }
   ],
   "source": [
    "s6.mean(), sum([1,2,3,5,6,7,9,10])/8"
   ]
  },
  {
   "cell_type": "code",
   "execution_count": 12,
   "metadata": {
    "cell_id": "4554121582054467843d3b14886a0436",
    "deepnote_app_coordinates": {
     "h": 5,
     "w": 12,
     "x": 0,
     "y": 139
    },
    "deepnote_cell_type": "code",
    "deepnote_to_be_reexecuted": false,
    "execution_millis": 2,
    "execution_start": 1666895185885,
    "scrolled": true,
    "source_hash": "194bd5d"
   },
   "outputs": [
    {
     "data": {
      "text/plain": [
       "nan"
      ]
     },
     "execution_count": 12,
     "metadata": {},
     "output_type": "execute_result"
    }
   ],
   "source": [
    "s6.mean(skipna=False)"
   ]
  },
  {
   "cell_type": "markdown",
   "metadata": {
    "cell_id": "25d9b9c7e8b442498a06973f31f3095f",
    "deepnote_app_coordinates": {
     "h": 5,
     "w": 12,
     "x": 0,
     "y": 145
    },
    "deepnote_cell_type": "markdown"
   },
   "source": [
    "### The index and values Properties"
   ]
  },
  {
   "cell_type": "code",
   "execution_count": 13,
   "metadata": {
    "cell_id": "0861a8494ac944978625377e2b248f6d",
    "deepnote_app_coordinates": {
     "h": 5,
     "w": 12,
     "x": 0,
     "y": 151
    },
    "deepnote_cell_type": "code",
    "deepnote_to_be_reexecuted": false,
    "execution_millis": 64,
    "execution_start": 1666895185887,
    "scrolled": true,
    "source_hash": "af1d6a64"
   },
   "outputs": [
    {
     "data": {
      "text/plain": [
       "Index(['Aaron', 'Brian', 'Christine', 'Di'], dtype='object')"
      ]
     },
     "execution_count": 13,
     "metadata": {},
     "output_type": "execute_result"
    }
   ],
   "source": [
    "s5.index"
   ]
  },
  {
   "cell_type": "code",
   "execution_count": 14,
   "metadata": {
    "cell_id": "1906ea3b9509435c9af2c17c50ab3016",
    "deepnote_app_coordinates": {
     "h": 5,
     "w": 12,
     "x": 0,
     "y": 157
    },
    "deepnote_cell_type": "code",
    "deepnote_to_be_reexecuted": false,
    "execution_millis": 4,
    "execution_start": 1666895185953,
    "scrolled": true,
    "source_hash": "78e0d966"
   },
   "outputs": [
    {
     "data": {
      "text/plain": [
       "array([datetime.date(2001, 10, 10), datetime.date(2002, 6, 6),\n",
       "       datetime.date(2003, 2, 2), datetime.date(2004, 9, 9)], dtype=object)"
      ]
     },
     "execution_count": 14,
     "metadata": {},
     "output_type": "execute_result"
    }
   ],
   "source": [
    "s5.values"
   ]
  },
  {
   "cell_type": "code",
   "execution_count": 15,
   "metadata": {
    "cell_id": "d2a3f6c1d57e4bcc982589004134ae17",
    "deepnote_app_coordinates": {
     "h": 5,
     "w": 12,
     "x": 0,
     "y": 163
    },
    "deepnote_cell_type": "code",
    "deepnote_to_be_reexecuted": false,
    "execution_millis": 9,
    "execution_start": 1666895185965,
    "source_hash": "4bdf2078"
   },
   "outputs": [
    {
     "data": {
      "text/plain": [
       "numpy.ndarray"
      ]
     },
     "execution_count": 15,
     "metadata": {},
     "output_type": "execute_result"
    }
   ],
   "source": [
    "type(s5.values)"
   ]
  },
  {
   "cell_type": "markdown",
   "metadata": {
    "cell_id": "3d515b97578d44d0a316454f838e1b50",
    "deepnote_app_coordinates": {
     "h": 5,
     "w": 12,
     "x": 0,
     "y": 169
    },
    "deepnote_cell_type": "markdown",
    "tags": []
   },
   "source": [
    "## Access"
   ]
  },
  {
   "cell_type": "markdown",
   "metadata": {
    "cell_id": "f78bcab2a8cc457e90f0ff621518ca51",
    "deepnote_app_coordinates": {
     "h": 5,
     "w": 12,
     "x": 0,
     "y": 175
    },
    "deepnote_cell_type": "markdown"
   },
   "source": [
    "### loc[] and iloc[]"
   ]
  },
  {
   "cell_type": "code",
   "execution_count": 16,
   "metadata": {
    "cell_id": "b215e7e88cbf410dbceb7bab8a314d72",
    "deepnote_app_coordinates": {
     "h": 5,
     "w": 12,
     "x": 0,
     "y": 181
    },
    "deepnote_cell_type": "code",
    "deepnote_to_be_reexecuted": false,
    "execution_millis": 3,
    "execution_start": 1666895185975,
    "source_hash": "165cf498"
   },
   "outputs": [
    {
     "data": {
      "text/plain": [
       "a    0.343495\n",
       "b    0.422849\n",
       "c    0.226700\n",
       "d    0.602122\n",
       "e    0.843969\n",
       "dtype: float64"
      ]
     },
     "execution_count": 16,
     "metadata": {},
     "output_type": "execute_result"
    }
   ],
   "source": [
    "s7 = pd.Series(np.random.sample(5), index=['a','b','c','d','e'])\n",
    "s7"
   ]
  },
  {
   "cell_type": "code",
   "execution_count": 17,
   "metadata": {
    "cell_id": "567f7d5b66bc4fe6b09b945d3bcff297",
    "deepnote_app_coordinates": {
     "h": 5,
     "w": 12,
     "x": 0,
     "y": 187
    },
    "deepnote_cell_type": "code",
    "deepnote_to_be_reexecuted": false,
    "execution_millis": 3,
    "execution_start": 1666895185979,
    "source_hash": "53b3f45a"
   },
   "outputs": [
    {
     "data": {
      "text/plain": [
       "(0.3434950194778176, 0.3434950194778176)"
      ]
     },
     "execution_count": 17,
     "metadata": {},
     "output_type": "execute_result"
    }
   ],
   "source": [
    "s7.loc['a'], s7.iloc[0]"
   ]
  },
  {
   "cell_type": "code",
   "execution_count": 18,
   "metadata": {
    "cell_id": "a20de5b845fe4df18cd70198e49df78c",
    "deepnote_app_coordinates": {
     "h": 5,
     "w": 12,
     "x": 0,
     "y": 193
    },
    "deepnote_cell_type": "code",
    "deepnote_to_be_reexecuted": false,
    "execution_millis": 46,
    "execution_start": 1666895186026,
    "scrolled": true,
    "source_hash": "98cd219c"
   },
   "outputs": [
    {
     "data": {
      "text/plain": [
       "b    0.422849\n",
       "c    0.226700\n",
       "d    0.602122\n",
       "dtype: float64"
      ]
     },
     "execution_count": 18,
     "metadata": {},
     "output_type": "execute_result"
    }
   ],
   "source": [
    "s7.loc['b':'d']"
   ]
  },
  {
   "cell_type": "code",
   "execution_count": 19,
   "metadata": {
    "cell_id": "676b90d5a84b4d9d97c8725c91cf8b3e",
    "deepnote_app_coordinates": {
     "h": 5,
     "w": 12,
     "x": 0,
     "y": 199
    },
    "deepnote_cell_type": "code",
    "deepnote_to_be_reexecuted": false,
    "execution_millis": 3,
    "execution_start": 1666895186071,
    "source_hash": "3f52fcaf"
   },
   "outputs": [
    {
     "data": {
      "text/plain": [
       "b    0.422849\n",
       "c    0.226700\n",
       "d    0.602122\n",
       "dtype: float64"
      ]
     },
     "execution_count": 19,
     "metadata": {},
     "output_type": "execute_result"
    }
   ],
   "source": [
    "s7.iloc[1:4]"
   ]
  },
  {
   "cell_type": "code",
   "execution_count": 20,
   "metadata": {
    "cell_id": "8a343490684d4945b8ad28159ea06732",
    "deepnote_app_coordinates": {
     "h": 5,
     "w": 12,
     "x": 0,
     "y": 205
    },
    "deepnote_cell_type": "code",
    "deepnote_to_be_reexecuted": false,
    "execution_millis": 48,
    "execution_start": 1666895186071,
    "source_hash": "b32f69e9"
   },
   "outputs": [
    {
     "data": {
      "text/plain": [
       "a    0.343495\n",
       "c    0.226700\n",
       "d    0.602122\n",
       "dtype: float64"
      ]
     },
     "execution_count": 20,
     "metadata": {},
     "output_type": "execute_result"
    }
   ],
   "source": [
    "s7.loc[['a','c','d']]"
   ]
  },
  {
   "cell_type": "code",
   "execution_count": 21,
   "metadata": {
    "cell_id": "34cd922194a34d0ca416761700a76f16",
    "deepnote_app_coordinates": {
     "h": 5,
     "w": 12,
     "x": 0,
     "y": 211
    },
    "deepnote_cell_type": "code",
    "deepnote_to_be_reexecuted": false,
    "execution_millis": 50342727,
    "execution_start": 1666895186117,
    "source_hash": "c652ca16"
   },
   "outputs": [
    {
     "data": {
      "text/plain": [
       "a    0.343495\n",
       "c    0.226700\n",
       "e    0.843969\n",
       "dtype: float64"
      ]
     },
     "execution_count": 21,
     "metadata": {},
     "output_type": "execute_result"
    }
   ],
   "source": [
    "s7.iloc[[0,2,4]]"
   ]
  },
  {
   "cell_type": "markdown",
   "metadata": {
    "cell_id": "2b238879ee5043c5b97603bb24a4bc44",
    "deepnote_app_coordinates": {
     "h": 5,
     "w": 12,
     "x": 0,
     "y": 217
    },
    "deepnote_cell_type": "markdown",
    "tags": []
   },
   "source": [
    "## Manipulation"
   ]
  },
  {
   "cell_type": "markdown",
   "metadata": {
    "cell_id": "d6cb77d0fa9343ae86bce732aafee5d4",
    "deepnote_app_coordinates": {
     "h": 5,
     "w": 12,
     "x": 0,
     "y": 223
    },
    "deepnote_cell_type": "markdown"
   },
   "source": [
    "### Alignment"
   ]
  },
  {
   "cell_type": "code",
   "execution_count": 22,
   "metadata": {
    "cell_id": "532d5aa1b7c54c21add98e1cfdb0b8dd",
    "deepnote_app_coordinates": {
     "h": 5,
     "w": 12,
     "x": 0,
     "y": 229
    },
    "deepnote_cell_type": "code",
    "deepnote_to_be_reexecuted": false,
    "execution_millis": 3,
    "execution_start": 1666895186117,
    "source_hash": "f46b86dd"
   },
   "outputs": [],
   "source": [
    "grades1 = pd.Series([17, 44, 28, 8, 3], index=['A','B','C','D','F'])\n",
    "grades2 = pd.Series([76, 122, 151, 21, 0], index=['D','C','B','A','F'])"
   ]
  },
  {
   "cell_type": "code",
   "execution_count": 23,
   "metadata": {
    "cell_id": "8dda9ee31f104eba8a5f67e92961a636",
    "deepnote_app_coordinates": {
     "h": 5,
     "w": 12,
     "x": 0,
     "y": 235
    },
    "deepnote_cell_type": "code",
    "deepnote_to_be_reexecuted": false,
    "execution_millis": 3,
    "execution_start": 1666895186158,
    "scrolled": true,
    "source_hash": "b0e8a022"
   },
   "outputs": [
    {
     "data": {
      "text/plain": [
       "A    17\n",
       "B    44\n",
       "C    28\n",
       "D     8\n",
       "F     3\n",
       "dtype: int64"
      ]
     },
     "execution_count": 23,
     "metadata": {},
     "output_type": "execute_result"
    }
   ],
   "source": [
    "grades1"
   ]
  },
  {
   "cell_type": "code",
   "execution_count": 24,
   "metadata": {
    "cell_id": "351650af9d4a44db9c3cc1e840fec042",
    "deepnote_app_coordinates": {
     "h": 5,
     "w": 12,
     "x": 0,
     "y": 241
    },
    "deepnote_cell_type": "code",
    "deepnote_to_be_reexecuted": false,
    "execution_millis": 3,
    "execution_start": 1666895186159,
    "scrolled": true,
    "source_hash": "a35fed2d"
   },
   "outputs": [
    {
     "data": {
      "text/plain": [
       "D     76\n",
       "C    122\n",
       "B    151\n",
       "A     21\n",
       "F      0\n",
       "dtype: int64"
      ]
     },
     "execution_count": 24,
     "metadata": {},
     "output_type": "execute_result"
    }
   ],
   "source": [
    "grades2"
   ]
  },
  {
   "cell_type": "code",
   "execution_count": 25,
   "metadata": {
    "cell_id": "9887e44b47144e75a444262b94feceb4",
    "deepnote_app_coordinates": {
     "h": 5,
     "w": 12,
     "x": 0,
     "y": 247
    },
    "deepnote_cell_type": "code",
    "deepnote_to_be_reexecuted": false,
    "execution_millis": 1125,
    "execution_start": 1666895186181,
    "scrolled": true,
    "source_hash": "af8a0d86"
   },
   "outputs": [
    {
     "data": {
      "text/plain": [
       "A     38\n",
       "B    195\n",
       "C    150\n",
       "D     84\n",
       "F      3\n",
       "dtype: int64"
      ]
     },
     "execution_count": 25,
     "metadata": {},
     "output_type": "execute_result"
    }
   ],
   "source": [
    "grades_all = grades1 + grades2\n",
    "grades_all"
   ]
  },
  {
   "cell_type": "code",
   "execution_count": 45,
   "metadata": {
    "cell_id": "b256bd4f533e4c1b86343010b88b4869",
    "deepnote_app_coordinates": {
     "h": 5,
     "w": 12,
     "x": 0,
     "y": 253
    },
    "deepnote_cell_type": "code",
    "deepnote_to_be_reexecuted": false,
    "execution_millis": 3,
    "execution_start": 1666897933819,
    "source_hash": "e5e75e4a"
   },
   "outputs": [
    {
     "data": {
      "text/plain": [
       "(A    17\n",
       " B    44\n",
       " C    28\n",
       " D     8\n",
       " F     3\n",
       " dtype: int64,\n",
       " D     76\n",
       " C    122\n",
       " B    151\n",
       " A     21\n",
       " dtype: int64,\n",
       " A     38.0\n",
       " B    195.0\n",
       " C    150.0\n",
       " D     84.0\n",
       " F      NaN\n",
       " dtype: float64)"
      ]
     },
     "execution_count": 45,
     "metadata": {},
     "output_type": "execute_result"
    }
   ],
   "source": [
    "grades1 = pd.Series([17, 44, 28, 8, 3], index=['A','B','C','D','F'])\n",
    "grades2 = pd.Series([76, 122, 151, 21], index=['D','C','B','A'])\n",
    "grades_all = grades1 + grades2\n",
    "grades1, grades2, grades_all"
   ]
  },
  {
   "cell_type": "code",
   "execution_count": 42,
   "metadata": {
    "cell_id": "7d11b1e8771542f08d033c5741bf691f",
    "deepnote_app_coordinates": {
     "h": 5,
     "w": 12,
     "x": 0,
     "y": 259
    },
    "deepnote_cell_type": "code",
    "deepnote_to_be_reexecuted": false,
    "execution_millis": 270,
    "execution_start": 1666897775386,
    "source_hash": "7f36f215"
   },
   "outputs": [
    {
     "data": {
      "text/plain": [
       "A     38.0\n",
       "B    195.0\n",
       "C    150.0\n",
       "D     84.0\n",
       "F     13.0\n",
       "dtype: float64"
      ]
     },
     "execution_count": 42,
     "metadata": {},
     "output_type": "execute_result"
    }
   ],
   "source": [
    "grades_all = grades1.add(grades2, fill_value=10)\n",
    "grades_all"
   ]
  },
  {
   "cell_type": "markdown",
   "metadata": {
    "cell_id": "b0a81cea7aec4b1a86afd80d963a313e",
    "deepnote_app_coordinates": {
     "h": 5,
     "w": 12,
     "x": 0,
     "y": 265
    },
    "deepnote_cell_type": "markdown"
   },
   "source": [
    "### Comparing Series"
   ]
  },
  {
   "cell_type": "code",
   "execution_count": 28,
   "metadata": {
    "cell_id": "422dec983e6f42668f1bae8862122ad9",
    "deepnote_app_coordinates": {
     "h": 5,
     "w": 12,
     "x": 0,
     "y": 271
    },
    "deepnote_cell_type": "code",
    "deepnote_to_be_reexecuted": false,
    "execution_millis": 1144,
    "execution_start": 1666895186185,
    "source_hash": "8fcc15e5"
   },
   "outputs": [
    {
     "data": {
      "text/plain": [
       "0     False\n",
       "1     False\n",
       "2      True\n",
       "3     False\n",
       "4     False\n",
       "      ...  \n",
       "95    False\n",
       "96     True\n",
       "97    False\n",
       "98    False\n",
       "99    False\n",
       "Length: 100, dtype: bool"
      ]
     },
     "execution_count": 28,
     "metadata": {},
     "output_type": "execute_result"
    }
   ],
   "source": [
    "dies1 = pd.Series(np.random.randint(1, 7, (100,)))\n",
    "dies2 = pd.Series(np.random.randint(1, 7, (100,)))\n",
    "dies1 == dies2"
   ]
  },
  {
   "cell_type": "code",
   "execution_count": 46,
   "metadata": {
    "cell_id": "690d5647feb54f9c952244b0a065e26b",
    "deepnote_app_coordinates": {
     "h": 5,
     "w": 12,
     "x": 0,
     "y": 277
    },
    "deepnote_cell_type": "code",
    "deepnote_to_be_reexecuted": false,
    "execution_millis": 260,
    "execution_start": 1666898041178,
    "source_hash": "6e2562bc",
    "tags": []
   },
   "outputs": [
    {
     "data": {
      "text/plain": [
       "pandas.core.series.Series"
      ]
     },
     "execution_count": 46,
     "metadata": {},
     "output_type": "execute_result"
    }
   ],
   "source": [
    "type(dies1 == dies2)"
   ]
  },
  {
   "cell_type": "code",
   "execution_count": 29,
   "metadata": {
    "cell_id": "885cbc02a7af410498374eee9e799f0a",
    "deepnote_app_coordinates": {
     "h": 5,
     "w": 12,
     "x": 0,
     "y": 283
    },
    "deepnote_cell_type": "code",
    "deepnote_to_be_reexecuted": false,
    "execution_millis": 1078,
    "execution_start": 1666895186269,
    "source_hash": "60a0dfd6"
   },
   "outputs": [
    {
     "data": {
      "text/plain": [
       "2     2\n",
       "8     1\n",
       "11    1\n",
       "12    3\n",
       "21    1\n",
       "25    3\n",
       "29    6\n",
       "36    6\n",
       "37    1\n",
       "59    1\n",
       "88    2\n",
       "96    3\n",
       "dtype: int64"
      ]
     },
     "execution_count": 29,
     "metadata": {},
     "output_type": "execute_result"
    }
   ],
   "source": [
    "dies1[dies1 == dies2]"
   ]
  },
  {
   "cell_type": "markdown",
   "metadata": {
    "cell_id": "4b5ab5141f8848b28eee3b362693b44b",
    "deepnote_app_coordinates": {
     "h": 5,
     "w": 12,
     "x": 0,
     "y": 289
    },
    "deepnote_cell_type": "markdown"
   },
   "source": [
    "### Element-wise Operations"
   ]
  },
  {
   "cell_type": "code",
   "execution_count": 2,
   "metadata": {
    "cell_id": "d649bebacc0c41b1a2e487da7c388f83",
    "deepnote_app_coordinates": {
     "h": 5,
     "w": 12,
     "x": 0,
     "y": 295
    },
    "deepnote_cell_type": "code",
    "deepnote_to_be_reexecuted": false,
    "execution_millis": 852,
    "execution_start": 1666995192009,
    "source_hash": "26d8c200"
   },
   "outputs": [
    {
     "data": {
      "text/plain": [
       "0     97\n",
       "1     72\n",
       "2     68\n",
       "3     69\n",
       "4     71\n",
       "      ..\n",
       "95    87\n",
       "96    81\n",
       "97    71\n",
       "98    67\n",
       "99    73\n",
       "Length: 100, dtype: int64"
      ]
     },
     "execution_count": 2,
     "metadata": {},
     "output_type": "execute_result"
    }
   ],
   "source": [
    "np.random.seed(1)\n",
    "exam_grades = pd.Series(np.random.randint(60,101,100))\n",
    "exam_grades"
   ]
  },
  {
   "cell_type": "code",
   "execution_count": 3,
   "metadata": {
    "cell_id": "703cb84ea08f4384952ead7da96a98e8",
    "deepnote_app_coordinates": {
     "h": 5,
     "w": 12,
     "x": 0,
     "y": 301
    },
    "deepnote_cell_type": "code",
    "deepnote_to_be_reexecuted": false,
    "execution_millis": 895,
    "execution_start": 1666995198153,
    "source_hash": "5500e301"
   },
   "outputs": [
    {
     "data": {
      "text/plain": [
       "0     101.85\n",
       "1      75.60\n",
       "2      71.40\n",
       "3      72.45\n",
       "4      74.55\n",
       "       ...  \n",
       "95     91.35\n",
       "96     85.05\n",
       "97     74.55\n",
       "98     70.35\n",
       "99     76.65\n",
       "Length: 100, dtype: float64"
      ]
     },
     "execution_count": 3,
     "metadata": {},
     "output_type": "execute_result"
    }
   ],
   "source": [
    "curved_grades = exam_grades.multiply(1.05)\n",
    "curved_grades"
   ]
  },
  {
   "cell_type": "code",
   "execution_count": 4,
   "metadata": {
    "cell_id": "b1ae599f61f4499c92330f1b9c0d63fb",
    "deepnote_app_coordinates": {
     "h": 5,
     "w": 12,
     "x": 0,
     "y": 307
    },
    "deepnote_cell_type": "code",
    "deepnote_to_be_reexecuted": false,
    "execution_millis": 0,
    "execution_start": 1666995202763,
    "source_hash": "277652ad"
   },
   "outputs": [],
   "source": [
    "def convert_to_letter(grade):\n",
    "    if grade >= 90:\n",
    "        return 'A'\n",
    "    elif grade >= 80:\n",
    "        return 'B'\n",
    "    elif grade >= 70:\n",
    "        return 'C'\n",
    "    elif grade >= 65:\n",
    "        return 'D'\n",
    "    else:\n",
    "        return 'F'"
   ]
  },
  {
   "cell_type": "code",
   "execution_count": 6,
   "metadata": {
    "cell_id": "1e75d230c65d416a83f579ad6c3a167f",
    "deepnote_app_coordinates": {
     "h": 5,
     "w": 12,
     "x": 0,
     "y": 313
    },
    "deepnote_cell_type": "code",
    "deepnote_to_be_reexecuted": false,
    "execution_millis": 405,
    "execution_start": 1666995224497,
    "scrolled": true,
    "source_hash": "5992f13d"
   },
   "outputs": [
    {
     "ename": "NameError",
     "evalue": "name 'g' is not defined",
     "output_type": "error",
     "traceback": [
      "\u001b[0;31m---------------------------------------------------------------------------\u001b[0m",
      "\u001b[0;31mNameError\u001b[0m                                 Traceback (most recent call last)",
      "Cell \u001b[0;32mIn [6], line 1\u001b[0m\n\u001b[0;32m----> 1\u001b[0m letter_grades \u001b[38;5;241m=\u001b[39m [(i, convert_to_letter(g)) \u001b[38;5;28;01mfor\u001b[39;00m i \u001b[38;5;129;01min\u001b[39;00m \u001b[38;5;28mrange\u001b[39m(\u001b[38;5;241m0\u001b[39m, \u001b[38;5;28mlen\u001b[39m(curved_grades)) \u001b[38;5;129;01mand\u001b[39;00m \u001b[43mg\u001b[49m \u001b[38;5;129;01min\u001b[39;00m curved_grades]\n\u001b[1;32m      2\u001b[0m letter_grades\n",
      "\u001b[0;31mNameError\u001b[0m: name 'g' is not defined"
     ]
    }
   ],
   "source": [
    "letter_grades = [(i, convert_to_letter(g)) for i in range(0, len(curved_grades)) and g in curved_grades]\n",
    "letter_grades"
   ]
  },
  {
   "cell_type": "code",
   "execution_count": 34,
   "metadata": {
    "cell_id": "30251b0aaa114d0aac264112afb0c14f",
    "deepnote_app_coordinates": {
     "h": 5,
     "w": 12,
     "x": 0,
     "y": 319
    },
    "deepnote_cell_type": "code",
    "deepnote_to_be_reexecuted": false,
    "execution_millis": 988,
    "execution_start": 1666895186414,
    "source_hash": "38543182"
   },
   "outputs": [
    {
     "data": {
      "text/plain": [
       "0     A\n",
       "1     C\n",
       "2     C\n",
       "3     C\n",
       "4     C\n",
       "     ..\n",
       "95    A\n",
       "96    B\n",
       "97    C\n",
       "98    C\n",
       "99    C\n",
       "Length: 100, dtype: object"
      ]
     },
     "execution_count": 34,
     "metadata": {},
     "output_type": "execute_result"
    }
   ],
   "source": [
    "letter_grades = curved_grades.apply(convert_to_letter)\n",
    "letter_grades"
   ]
  },
  {
   "cell_type": "code",
   "execution_count": 47,
   "metadata": {
    "cell_id": "2832be11271a46ebab3df6f5ccba56f3",
    "deepnote_app_coordinates": {
     "h": 5,
     "w": 12,
     "x": 0,
     "y": 325
    },
    "deepnote_cell_type": "code",
    "deepnote_to_be_reexecuted": false,
    "execution_millis": 2,
    "execution_start": 1666898430966,
    "source_hash": "a0a157f2",
    "tags": []
   },
   "outputs": [
    {
     "data": {
      "text/plain": [
       "0     A\n",
       "1     C\n",
       "2     C\n",
       "3     C\n",
       "4     C\n",
       "5     D\n",
       "6     C\n",
       "7     F\n",
       "8     C\n",
       "9     F\n",
       "10    C\n",
       "11    C\n",
       "12    D\n",
       "13    B\n",
       "14    B\n",
       "15    A\n",
       "16    B\n",
       "17    B\n",
       "18    C\n",
       "19    A\n",
       "20    A\n",
       "21    C\n",
       "22    D\n",
       "23    B\n",
       "24    B\n",
       "25    A\n",
       "26    A\n",
       "27    B\n",
       "28    C\n",
       "29    C\n",
       "30    C\n",
       "31    B\n",
       "32    F\n",
       "33    F\n",
       "34    B\n",
       "35    C\n",
       "36    B\n",
       "37    C\n",
       "38    C\n",
       "39    A\n",
       "40    C\n",
       "41    D\n",
       "42    D\n",
       "43    B\n",
       "44    D\n",
       "45    D\n",
       "46    B\n",
       "47    C\n",
       "48    A\n",
       "49    C\n",
       "dtype: object"
      ]
     },
     "execution_count": 47,
     "metadata": {},
     "output_type": "execute_result"
    }
   ],
   "source": [
    "part_letter_grade = curved_grades.iloc[:50].apply(convert_to_letter)\n",
    "part_letter_grade"
   ]
  },
  {
   "cell_type": "code",
   "execution_count": null,
   "metadata": {
    "cell_id": "606b532ef91445f9b84385dfcb1ab34b",
    "deepnote_cell_type": "code",
    "tags": []
   },
   "outputs": [],
   "source": []
  }
 ],
 "metadata": {
  "deepnote": {},
  "deepnote_app_layout": "article",
  "deepnote_execution_queue": [],
  "deepnote_notebook_id": "d1a0b3897cab4018a1ab8f8f2a187d7d",
  "deepnote_persisted_session": {
   "createdAt": "2022-10-28T22:30:15.204Z"
  },
  "kernelspec": {
   "display_name": "Python 3 (ipykernel)",
   "language": "python",
   "name": "python3"
  },
  "language_info": {
   "codemirror_mode": {
    "name": "ipython",
    "version": 3
   },
   "file_extension": ".py",
   "mimetype": "text/x-python",
   "name": "python",
   "nbconvert_exporter": "python",
   "pygments_lexer": "ipython3",
   "version": "3.8.16"
  }
 },
 "nbformat": 4,
 "nbformat_minor": 4
}
