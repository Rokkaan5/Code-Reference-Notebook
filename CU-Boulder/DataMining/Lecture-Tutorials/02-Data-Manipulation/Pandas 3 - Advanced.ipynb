{
 "cells": [
  {
   "cell_type": "markdown",
   "metadata": {
    "cell_id": "4afefe6b7da74dc8984ff33e65af323e",
    "deepnote_app_coordinates": {
     "h": 5,
     "w": 12,
     "x": 0,
     "y": 1
    },
    "deepnote_cell_type": "markdown",
    "tags": []
   },
   "source": [
    "# Advanced Pandas\n",
    "We have learned basic operations with Series and DataFrame. Here are some advanced handy skills you must know as a data scientist."
   ]
  },
  {
   "cell_type": "markdown",
   "metadata": {
    "cell_id": "b6e31a5ff57449a5b1252ad568ddd153",
    "deepnote_app_coordinates": {
     "h": 5,
     "w": 12,
     "x": 0,
     "y": 7
    },
    "deepnote_cell_type": "markdown",
    "tags": []
   },
   "source": [
    "## Setup the environment"
   ]
  },
  {
   "cell_type": "code",
   "execution_count": 1,
   "metadata": {
    "cell_id": "e7845d82085c44a5bffe6a7389652c1a",
    "deepnote_app_coordinates": {
     "h": 5,
     "w": 12,
     "x": 0,
     "y": 13
    },
    "deepnote_cell_type": "code",
    "deepnote_to_be_reexecuted": false,
    "execution_millis": 1287,
    "execution_start": 1674709266062,
    "source_hash": "35374e32"
   },
   "outputs": [],
   "source": [
    "import numpy as np\n",
    "import pandas as pd\n",
    "import matplotlib.pyplot as plt"
   ]
  },
  {
   "cell_type": "markdown",
   "metadata": {
    "cell_id": "9225a4a8091d419dbc03e4d801e80d63",
    "deepnote_app_coordinates": {
     "h": 5,
     "w": 12,
     "x": 0,
     "y": 19
    },
    "deepnote_cell_type": "markdown",
    "tags": []
   },
   "source": [
    "## Load the data"
   ]
  },
  {
   "cell_type": "code",
   "execution_count": 2,
   "metadata": {
    "cell_id": "d6ad33ee82bd4b049389888526d05fee",
    "deepnote_app_coordinates": {
     "h": 5,
     "w": 12,
     "x": 0,
     "y": 25
    },
    "deepnote_cell_type": "code",
    "deepnote_to_be_reexecuted": false,
    "execution_millis": 74,
    "execution_start": 1674709267353,
    "source_hash": "97eb8337"
   },
   "outputs": [],
   "source": [
    "df = pd.read_csv(\"/work/superstore.csv\")"
   ]
  },
  {
   "cell_type": "code",
   "execution_count": 3,
   "metadata": {
    "cell_id": "9df401095a9144148c5416edb2f56cc0",
    "deepnote_app_coordinates": {
     "h": 5,
     "w": 12,
     "x": 0,
     "y": 31
    },
    "deepnote_cell_type": "code",
    "deepnote_to_be_reexecuted": false,
    "execution_millis": 58,
    "execution_start": 1674709267478,
    "source_hash": "f30f989a"
   },
   "outputs": [
    {
     "data": {
      "application/vnd.deepnote.dataframe.v3+json": {
       "column_count": 21,
       "columns": [
        {
         "dtype": "int64",
         "name": "Row ID",
         "stats": {
          "histogram": [
           {
            "bin_end": 1.9,
            "bin_start": 1,
            "count": 1
           },
           {
            "bin_end": 2.8,
            "bin_start": 1.9,
            "count": 1
           },
           {
            "bin_end": 3.7,
            "bin_start": 2.8,
            "count": 1
           },
           {
            "bin_end": 4.6,
            "bin_start": 3.7,
            "count": 1
           },
           {
            "bin_end": 5.5,
            "bin_start": 4.6,
            "count": 1
           },
           {
            "bin_end": 6.4,
            "bin_start": 5.5,
            "count": 1
           },
           {
            "bin_end": 7.3,
            "bin_start": 6.4,
            "count": 1
           },
           {
            "bin_end": 8.2,
            "bin_start": 7.3,
            "count": 1
           },
           {
            "bin_end": 9.1,
            "bin_start": 8.2,
            "count": 1
           },
           {
            "bin_end": 10,
            "bin_start": 9.1,
            "count": 1
           }
          ],
          "max": "10",
          "min": "1",
          "nan_count": 0,
          "unique_count": 10
         }
        },
        {
         "dtype": "object",
         "name": "Order ID",
         "stats": {
          "categories": [
           {
            "count": 5,
            "name": "CA-2014-115812"
           },
           {
            "count": 2,
            "name": "CA-2016-152156"
           },
           {
            "count": 3,
            "name": "2 others"
           }
          ],
          "nan_count": 0,
          "unique_count": 4
         }
        },
        {
         "dtype": "object",
         "name": "Order Date",
         "stats": {
          "categories": [
           {
            "count": 5,
            "name": "6/9/14"
           },
           {
            "count": 2,
            "name": "11/8/16"
           },
           {
            "count": 3,
            "name": "2 others"
           }
          ],
          "nan_count": 0,
          "unique_count": 4
         }
        },
        {
         "dtype": "object",
         "name": "Ship Date",
         "stats": {
          "categories": [
           {
            "count": 5,
            "name": "6/14/14"
           },
           {
            "count": 2,
            "name": "11/11/16"
           },
           {
            "count": 3,
            "name": "2 others"
           }
          ],
          "nan_count": 0,
          "unique_count": 4
         }
        },
        {
         "dtype": "object",
         "name": "Ship Mode",
         "stats": {
          "categories": [
           {
            "count": 7,
            "name": "Standard Class"
           },
           {
            "count": 3,
            "name": "Second Class"
           }
          ],
          "nan_count": 0,
          "unique_count": 2
         }
        },
        {
         "dtype": "object",
         "name": "Customer ID",
         "stats": {
          "categories": [
           {
            "count": 5,
            "name": "BH-11710"
           },
           {
            "count": 2,
            "name": "CG-12520"
           },
           {
            "count": 3,
            "name": "2 others"
           }
          ],
          "nan_count": 0,
          "unique_count": 4
         }
        },
        {
         "dtype": "object",
         "name": "Customer Name",
         "stats": {
          "categories": [
           {
            "count": 5,
            "name": "Brosina Hoffman"
           },
           {
            "count": 2,
            "name": "Claire Gute"
           },
           {
            "count": 3,
            "name": "2 others"
           }
          ],
          "nan_count": 0,
          "unique_count": 4
         }
        },
        {
         "dtype": "object",
         "name": "Segment",
         "stats": {
          "categories": [
           {
            "count": 9,
            "name": "Consumer"
           },
           {
            "count": 1,
            "name": "Corporate"
           }
          ],
          "nan_count": 0,
          "unique_count": 2
         }
        },
        {
         "dtype": "object",
         "name": "Country",
         "stats": {
          "categories": [
           {
            "count": 10,
            "name": "United States"
           }
          ],
          "nan_count": 0,
          "unique_count": 1
         }
        },
        {
         "dtype": "object",
         "name": "City",
         "stats": {
          "categories": [
           {
            "count": 6,
            "name": "Los Angeles"
           },
           {
            "count": 2,
            "name": "Henderson"
           },
           {
            "count": 2,
            "name": "Fort Lauderdale"
           }
          ],
          "nan_count": 0,
          "unique_count": 3
         }
        },
        {
         "dtype": "object",
         "name": "State",
         "stats": {
          "categories": [
           {
            "count": 6,
            "name": "California"
           },
           {
            "count": 2,
            "name": "Kentucky"
           },
           {
            "count": 2,
            "name": "Florida"
           }
          ],
          "nan_count": 0,
          "unique_count": 3
         }
        },
        {
         "dtype": "int64",
         "name": "Postal Code",
         "stats": {
          "histogram": [
           {
            "bin_end": 38983.5,
            "bin_start": 33311,
            "count": 2
           },
           {
            "bin_end": 44656,
            "bin_start": 38983.5,
            "count": 2
           },
           {
            "bin_end": 50328.5,
            "bin_start": 44656,
            "count": 0
           },
           {
            "bin_end": 56001,
            "bin_start": 50328.5,
            "count": 0
           },
           {
            "bin_end": 61673.5,
            "bin_start": 56001,
            "count": 0
           },
           {
            "bin_end": 67346,
            "bin_start": 61673.5,
            "count": 0
           },
           {
            "bin_end": 73018.5,
            "bin_start": 67346,
            "count": 0
           },
           {
            "bin_end": 78691,
            "bin_start": 73018.5,
            "count": 0
           },
           {
            "bin_end": 84363.5,
            "bin_start": 78691,
            "count": 0
           },
           {
            "bin_end": 90036,
            "bin_start": 84363.5,
            "count": 6
           }
          ],
          "max": "90036",
          "min": "33311",
          "nan_count": 0,
          "unique_count": 4
         }
        },
        {
         "dtype": "object",
         "name": "Region",
         "stats": {
          "categories": [
           {
            "count": 6,
            "name": "West"
           },
           {
            "count": 4,
            "name": "South"
           }
          ],
          "nan_count": 0,
          "unique_count": 2
         }
        },
        {
         "dtype": "object",
         "name": "Product ID",
         "stats": {
          "categories": [
           {
            "count": 1,
            "name": "FUR-BO-10001798"
           },
           {
            "count": 1,
            "name": "FUR-CH-10000454"
           },
           {
            "count": 8,
            "name": "8 others"
           }
          ],
          "nan_count": 0,
          "unique_count": 10
         }
        },
        {
         "dtype": "object",
         "name": "Category",
         "stats": {
          "categories": [
           {
            "count": 5,
            "name": "Office Supplies"
           },
           {
            "count": 4,
            "name": "Furniture"
           },
           {
            "count": 1,
            "name": "Technology"
           }
          ],
          "nan_count": 0,
          "unique_count": 3
         }
        },
        {
         "dtype": "object",
         "name": "Sub-Category",
         "stats": {
          "categories": [
           {
            "count": 1,
            "name": "Bookcases"
           },
           {
            "count": 1,
            "name": "Chairs"
           },
           {
            "count": 8,
            "name": "8 others"
           }
          ],
          "nan_count": 0,
          "unique_count": 10
         }
        },
        {
         "dtype": "object",
         "name": "Product Name",
         "stats": {
          "categories": [
           {
            "count": 1,
            "name": "Bush Somerset Collection Bookcase"
           },
           {
            "count": 1,
            "name": "Hon Deluxe Fabric Upholstered Stacking Chairs, Rounded Back"
           },
           {
            "count": 8,
            "name": "8 others"
           }
          ],
          "nan_count": 0,
          "unique_count": 10
         }
        },
        {
         "dtype": "float64",
         "name": "Sales",
         "stats": {
          "histogram": [
           {
            "bin_end": 102.30975000000001,
            "bin_start": 7.28,
            "count": 5
           },
           {
            "bin_end": 197.33950000000002,
            "bin_start": 102.30975000000001,
            "count": 1
           },
           {
            "bin_end": 292.36924999999997,
            "bin_start": 197.33950000000002,
            "count": 1
           },
           {
            "bin_end": 387.399,
            "bin_start": 292.36924999999997,
            "count": 0
           },
           {
            "bin_end": 482.42875000000004,
            "bin_start": 387.399,
            "count": 0
           },
           {
            "bin_end": 577.4585,
            "bin_start": 482.42875000000004,
            "count": 0
           },
           {
            "bin_end": 672.48825,
            "bin_start": 577.4585,
            "count": 0
           },
           {
            "bin_end": 767.518,
            "bin_start": 672.48825,
            "count": 1
           },
           {
            "bin_end": 862.5477500000001,
            "bin_start": 767.518,
            "count": 0
           },
           {
            "bin_end": 957.5775,
            "bin_start": 862.5477500000001,
            "count": 2
           }
          ],
          "max": "957.5775",
          "min": "7.28",
          "nan_count": 0,
          "unique_count": 10
         }
        },
        {
         "dtype": "int64",
         "name": "Quantity",
         "stats": {
          "histogram": [
           {
            "bin_end": 2.5,
            "bin_start": 2,
            "count": 3
           },
           {
            "bin_end": 3,
            "bin_start": 2.5,
            "count": 0
           },
           {
            "bin_end": 3.5,
            "bin_start": 3,
            "count": 2
           },
           {
            "bin_end": 4,
            "bin_start": 3.5,
            "count": 0
           },
           {
            "bin_end": 4.5,
            "bin_start": 4,
            "count": 1
           },
           {
            "bin_end": 5,
            "bin_start": 4.5,
            "count": 0
           },
           {
            "bin_end": 5.5,
            "bin_start": 5,
            "count": 2
           },
           {
            "bin_end": 6,
            "bin_start": 5.5,
            "count": 0
           },
           {
            "bin_end": 6.5,
            "bin_start": 6,
            "count": 1
           },
           {
            "bin_end": 7,
            "bin_start": 6.5,
            "count": 1
           }
          ],
          "max": "7",
          "min": "2",
          "nan_count": 0,
          "unique_count": 6
         }
        },
        {
         "dtype": "float64",
         "name": "Discount",
         "stats": {
          "histogram": [
           {
            "bin_end": 0.045,
            "bin_start": 0,
            "count": 6
           },
           {
            "bin_end": 0.09,
            "bin_start": 0.045,
            "count": 0
           },
           {
            "bin_end": 0.135,
            "bin_start": 0.09,
            "count": 0
           },
           {
            "bin_end": 0.18,
            "bin_start": 0.135,
            "count": 0
           },
           {
            "bin_end": 0.22499999999999998,
            "bin_start": 0.18,
            "count": 3
           },
           {
            "bin_end": 0.27,
            "bin_start": 0.22499999999999998,
            "count": 0
           },
           {
            "bin_end": 0.315,
            "bin_start": 0.27,
            "count": 0
           },
           {
            "bin_end": 0.36,
            "bin_start": 0.315,
            "count": 0
           },
           {
            "bin_end": 0.40499999999999997,
            "bin_start": 0.36,
            "count": 0
           },
           {
            "bin_end": 0.45,
            "bin_start": 0.40499999999999997,
            "count": 1
           }
          ],
          "max": "0.45",
          "min": "0.0",
          "nan_count": 0,
          "unique_count": 3
         }
        },
        {
         "dtype": "float64",
         "name": "Profit",
         "stats": {
          "histogram": [
           {
            "bin_end": -322.7697,
            "bin_start": -383.031,
            "count": 1
           },
           {
            "bin_end": -262.5084,
            "bin_start": -322.7697,
            "count": 0
           },
           {
            "bin_end": -202.2471,
            "bin_start": -262.5084,
            "count": 0
           },
           {
            "bin_end": -141.98579999999998,
            "bin_start": -202.2471,
            "count": 0
           },
           {
            "bin_end": -81.72449999999998,
            "bin_start": -141.98579999999998,
            "count": 0
           },
           {
            "bin_end": -21.463199999999972,
            "bin_start": -81.72449999999998,
            "count": 0
           },
           {
            "bin_end": 38.798100000000034,
            "bin_start": -21.463199999999972,
            "count": 6
           },
           {
            "bin_end": 99.05940000000004,
            "bin_start": 38.798100000000034,
            "count": 2
           },
           {
            "bin_end": 159.32070000000004,
            "bin_start": 99.05940000000004,
            "count": 0
           },
           {
            "bin_end": 219.582,
            "bin_start": 159.32070000000004,
            "count": 1
           }
          ],
          "max": "219.582",
          "min": "-383.031",
          "nan_count": 0,
          "unique_count": 10
         }
        },
        {
         "dtype": "int64",
         "name": "_deepnote_index_column"
        }
       ],
       "row_count": 10,
       "rows": [
        {
         "Category": "Furniture",
         "City": "Henderson",
         "Country": "United States",
         "Customer ID": "CG-12520",
         "Customer Name": "Claire Gute",
         "Discount": "0.0",
         "Order Date": "11/8/16",
         "Order ID": "CA-2016-152156",
         "Postal Code": "42420",
         "Product ID": "FUR-BO-10001798",
         "Product Name": "Bush Somerset Collection Bookcase",
         "Profit": "41.9136",
         "Quantity": "2",
         "Region": "South",
         "Row ID": "1",
         "Sales": "261.96",
         "Segment": "Consumer",
         "Ship Date": "11/11/16",
         "Ship Mode": "Second Class",
         "State": "Kentucky",
         "Sub-Category": "Bookcases",
         "_deepnote_index_column": "0"
        },
        {
         "Category": "Furniture",
         "City": "Henderson",
         "Country": "United States",
         "Customer ID": "CG-12520",
         "Customer Name": "Claire Gute",
         "Discount": "0.0",
         "Order Date": "11/8/16",
         "Order ID": "CA-2016-152156",
         "Postal Code": "42420",
         "Product ID": "FUR-CH-10000454",
         "Product Name": "Hon Deluxe Fabric Upholstered Stacking Chairs, Rounded Back",
         "Profit": "219.582",
         "Quantity": "3",
         "Region": "South",
         "Row ID": "2",
         "Sales": "731.94",
         "Segment": "Consumer",
         "Ship Date": "11/11/16",
         "Ship Mode": "Second Class",
         "State": "Kentucky",
         "Sub-Category": "Chairs",
         "_deepnote_index_column": "1"
        },
        {
         "Category": "Office Supplies",
         "City": "Los Angeles",
         "Country": "United States",
         "Customer ID": "DV-13045",
         "Customer Name": "Darrin Van Huff",
         "Discount": "0.0",
         "Order Date": "6/12/16",
         "Order ID": "CA-2016-138688",
         "Postal Code": "90036",
         "Product ID": "OFF-LA-10000240",
         "Product Name": "Self-Adhesive Address Labels for Typewriters by Universal",
         "Profit": "6.8714",
         "Quantity": "2",
         "Region": "West",
         "Row ID": "3",
         "Sales": "14.62",
         "Segment": "Corporate",
         "Ship Date": "6/16/16",
         "Ship Mode": "Second Class",
         "State": "California",
         "Sub-Category": "Labels",
         "_deepnote_index_column": "2"
        },
        {
         "Category": "Furniture",
         "City": "Fort Lauderdale",
         "Country": "United States",
         "Customer ID": "SO-20335",
         "Customer Name": "Sean O'Donnell",
         "Discount": "0.45",
         "Order Date": "10/11/15",
         "Order ID": "US-2015-108966",
         "Postal Code": "33311",
         "Product ID": "FUR-TA-10000577",
         "Product Name": "Bretford CR4500 Series Slim Rectangular Table",
         "Profit": "-383.031",
         "Quantity": "5",
         "Region": "South",
         "Row ID": "4",
         "Sales": "957.5775",
         "Segment": "Consumer",
         "Ship Date": "10/18/15",
         "Ship Mode": "Standard Class",
         "State": "Florida",
         "Sub-Category": "Tables",
         "_deepnote_index_column": "3"
        },
        {
         "Category": "Office Supplies",
         "City": "Fort Lauderdale",
         "Country": "United States",
         "Customer ID": "SO-20335",
         "Customer Name": "Sean O'Donnell",
         "Discount": "0.2",
         "Order Date": "10/11/15",
         "Order ID": "US-2015-108966",
         "Postal Code": "33311",
         "Product ID": "OFF-ST-10000760",
         "Product Name": "Eldon Fold 'N Roll Cart System",
         "Profit": "2.5164",
         "Quantity": "2",
         "Region": "South",
         "Row ID": "5",
         "Sales": "22.368",
         "Segment": "Consumer",
         "Ship Date": "10/18/15",
         "Ship Mode": "Standard Class",
         "State": "Florida",
         "Sub-Category": "Storage",
         "_deepnote_index_column": "4"
        },
        {
         "Category": "Furniture",
         "City": "Los Angeles",
         "Country": "United States",
         "Customer ID": "BH-11710",
         "Customer Name": "Brosina Hoffman",
         "Discount": "0.0",
         "Order Date": "6/9/14",
         "Order ID": "CA-2014-115812",
         "Postal Code": "90032",
         "Product ID": "FUR-FU-10001487",
         "Product Name": "Eldon Expressions Wood and Plastic Desk Accessories, Cherry Wood",
         "Profit": "14.1694",
         "Quantity": "7",
         "Region": "West",
         "Row ID": "6",
         "Sales": "48.86",
         "Segment": "Consumer",
         "Ship Date": "6/14/14",
         "Ship Mode": "Standard Class",
         "State": "California",
         "Sub-Category": "Furnishings",
         "_deepnote_index_column": "5"
        },
        {
         "Category": "Office Supplies",
         "City": "Los Angeles",
         "Country": "United States",
         "Customer ID": "BH-11710",
         "Customer Name": "Brosina Hoffman",
         "Discount": "0.0",
         "Order Date": "6/9/14",
         "Order ID": "CA-2014-115812",
         "Postal Code": "90032",
         "Product ID": "OFF-AR-10002833",
         "Product Name": "Newell 322",
         "Profit": "1.9656",
         "Quantity": "4",
         "Region": "West",
         "Row ID": "7",
         "Sales": "7.28",
         "Segment": "Consumer",
         "Ship Date": "6/14/14",
         "Ship Mode": "Standard Class",
         "State": "California",
         "Sub-Category": "Art",
         "_deepnote_index_column": "6"
        },
        {
         "Category": "Technology",
         "City": "Los Angeles",
         "Country": "United States",
         "Customer ID": "BH-11710",
         "Customer Name": "Brosina Hoffman",
         "Discount": "0.2",
         "Order Date": "6/9/14",
         "Order ID": "CA-2014-115812",
         "Postal Code": "90032",
         "Product ID": "TEC-PH-10002275",
         "Product Name": "Mitel 5320 IP Phone VoIP phone",
         "Profit": "90.7152",
         "Quantity": "6",
         "Region": "West",
         "Row ID": "8",
         "Sales": "907.152",
         "Segment": "Consumer",
         "Ship Date": "6/14/14",
         "Ship Mode": "Standard Class",
         "State": "California",
         "Sub-Category": "Phones",
         "_deepnote_index_column": "7"
        },
        {
         "Category": "Office Supplies",
         "City": "Los Angeles",
         "Country": "United States",
         "Customer ID": "BH-11710",
         "Customer Name": "Brosina Hoffman",
         "Discount": "0.2",
         "Order Date": "6/9/14",
         "Order ID": "CA-2014-115812",
         "Postal Code": "90032",
         "Product ID": "OFF-BI-10003910",
         "Product Name": "DXL Angle-View Binders with Locking Rings by Samsill",
         "Profit": "5.7825",
         "Quantity": "3",
         "Region": "West",
         "Row ID": "9",
         "Sales": "18.504",
         "Segment": "Consumer",
         "Ship Date": "6/14/14",
         "Ship Mode": "Standard Class",
         "State": "California",
         "Sub-Category": "Binders",
         "_deepnote_index_column": "8"
        },
        {
         "Category": "Office Supplies",
         "City": "Los Angeles",
         "Country": "United States",
         "Customer ID": "BH-11710",
         "Customer Name": "Brosina Hoffman",
         "Discount": "0.0",
         "Order Date": "6/9/14",
         "Order ID": "CA-2014-115812",
         "Postal Code": "90032",
         "Product ID": "OFF-AP-10002892",
         "Product Name": "Belkin F5C206VTEL 6 Outlet Surge",
         "Profit": "34.47",
         "Quantity": "5",
         "Region": "West",
         "Row ID": "10",
         "Sales": "114.9",
         "Segment": "Consumer",
         "Ship Date": "6/14/14",
         "Ship Mode": "Standard Class",
         "State": "California",
         "Sub-Category": "Appliances",
         "_deepnote_index_column": "9"
        }
       ]
      },
      "text/html": [
       "<div>\n",
       "<style scoped>\n",
       "    .dataframe tbody tr th:only-of-type {\n",
       "        vertical-align: middle;\n",
       "    }\n",
       "\n",
       "    .dataframe tbody tr th {\n",
       "        vertical-align: top;\n",
       "    }\n",
       "\n",
       "    .dataframe thead th {\n",
       "        text-align: right;\n",
       "    }\n",
       "</style>\n",
       "<table border=\"1\" class=\"dataframe\">\n",
       "  <thead>\n",
       "    <tr style=\"text-align: right;\">\n",
       "      <th></th>\n",
       "      <th>Row ID</th>\n",
       "      <th>Order ID</th>\n",
       "      <th>Order Date</th>\n",
       "      <th>Ship Date</th>\n",
       "      <th>Ship Mode</th>\n",
       "      <th>Customer ID</th>\n",
       "      <th>Customer Name</th>\n",
       "      <th>Segment</th>\n",
       "      <th>Country</th>\n",
       "      <th>City</th>\n",
       "      <th>...</th>\n",
       "      <th>Postal Code</th>\n",
       "      <th>Region</th>\n",
       "      <th>Product ID</th>\n",
       "      <th>Category</th>\n",
       "      <th>Sub-Category</th>\n",
       "      <th>Product Name</th>\n",
       "      <th>Sales</th>\n",
       "      <th>Quantity</th>\n",
       "      <th>Discount</th>\n",
       "      <th>Profit</th>\n",
       "    </tr>\n",
       "  </thead>\n",
       "  <tbody>\n",
       "    <tr>\n",
       "      <th>0</th>\n",
       "      <td>1</td>\n",
       "      <td>CA-2016-152156</td>\n",
       "      <td>11/8/16</td>\n",
       "      <td>11/11/16</td>\n",
       "      <td>Second Class</td>\n",
       "      <td>CG-12520</td>\n",
       "      <td>Claire Gute</td>\n",
       "      <td>Consumer</td>\n",
       "      <td>United States</td>\n",
       "      <td>Henderson</td>\n",
       "      <td>...</td>\n",
       "      <td>42420</td>\n",
       "      <td>South</td>\n",
       "      <td>FUR-BO-10001798</td>\n",
       "      <td>Furniture</td>\n",
       "      <td>Bookcases</td>\n",
       "      <td>Bush Somerset Collection Bookcase</td>\n",
       "      <td>261.9600</td>\n",
       "      <td>2</td>\n",
       "      <td>0.00</td>\n",
       "      <td>41.9136</td>\n",
       "    </tr>\n",
       "    <tr>\n",
       "      <th>1</th>\n",
       "      <td>2</td>\n",
       "      <td>CA-2016-152156</td>\n",
       "      <td>11/8/16</td>\n",
       "      <td>11/11/16</td>\n",
       "      <td>Second Class</td>\n",
       "      <td>CG-12520</td>\n",
       "      <td>Claire Gute</td>\n",
       "      <td>Consumer</td>\n",
       "      <td>United States</td>\n",
       "      <td>Henderson</td>\n",
       "      <td>...</td>\n",
       "      <td>42420</td>\n",
       "      <td>South</td>\n",
       "      <td>FUR-CH-10000454</td>\n",
       "      <td>Furniture</td>\n",
       "      <td>Chairs</td>\n",
       "      <td>Hon Deluxe Fabric Upholstered Stacking Chairs,...</td>\n",
       "      <td>731.9400</td>\n",
       "      <td>3</td>\n",
       "      <td>0.00</td>\n",
       "      <td>219.5820</td>\n",
       "    </tr>\n",
       "    <tr>\n",
       "      <th>2</th>\n",
       "      <td>3</td>\n",
       "      <td>CA-2016-138688</td>\n",
       "      <td>6/12/16</td>\n",
       "      <td>6/16/16</td>\n",
       "      <td>Second Class</td>\n",
       "      <td>DV-13045</td>\n",
       "      <td>Darrin Van Huff</td>\n",
       "      <td>Corporate</td>\n",
       "      <td>United States</td>\n",
       "      <td>Los Angeles</td>\n",
       "      <td>...</td>\n",
       "      <td>90036</td>\n",
       "      <td>West</td>\n",
       "      <td>OFF-LA-10000240</td>\n",
       "      <td>Office Supplies</td>\n",
       "      <td>Labels</td>\n",
       "      <td>Self-Adhesive Address Labels for Typewriters b...</td>\n",
       "      <td>14.6200</td>\n",
       "      <td>2</td>\n",
       "      <td>0.00</td>\n",
       "      <td>6.8714</td>\n",
       "    </tr>\n",
       "    <tr>\n",
       "      <th>3</th>\n",
       "      <td>4</td>\n",
       "      <td>US-2015-108966</td>\n",
       "      <td>10/11/15</td>\n",
       "      <td>10/18/15</td>\n",
       "      <td>Standard Class</td>\n",
       "      <td>SO-20335</td>\n",
       "      <td>Sean O'Donnell</td>\n",
       "      <td>Consumer</td>\n",
       "      <td>United States</td>\n",
       "      <td>Fort Lauderdale</td>\n",
       "      <td>...</td>\n",
       "      <td>33311</td>\n",
       "      <td>South</td>\n",
       "      <td>FUR-TA-10000577</td>\n",
       "      <td>Furniture</td>\n",
       "      <td>Tables</td>\n",
       "      <td>Bretford CR4500 Series Slim Rectangular Table</td>\n",
       "      <td>957.5775</td>\n",
       "      <td>5</td>\n",
       "      <td>0.45</td>\n",
       "      <td>-383.0310</td>\n",
       "    </tr>\n",
       "    <tr>\n",
       "      <th>4</th>\n",
       "      <td>5</td>\n",
       "      <td>US-2015-108966</td>\n",
       "      <td>10/11/15</td>\n",
       "      <td>10/18/15</td>\n",
       "      <td>Standard Class</td>\n",
       "      <td>SO-20335</td>\n",
       "      <td>Sean O'Donnell</td>\n",
       "      <td>Consumer</td>\n",
       "      <td>United States</td>\n",
       "      <td>Fort Lauderdale</td>\n",
       "      <td>...</td>\n",
       "      <td>33311</td>\n",
       "      <td>South</td>\n",
       "      <td>OFF-ST-10000760</td>\n",
       "      <td>Office Supplies</td>\n",
       "      <td>Storage</td>\n",
       "      <td>Eldon Fold 'N Roll Cart System</td>\n",
       "      <td>22.3680</td>\n",
       "      <td>2</td>\n",
       "      <td>0.20</td>\n",
       "      <td>2.5164</td>\n",
       "    </tr>\n",
       "    <tr>\n",
       "      <th>5</th>\n",
       "      <td>6</td>\n",
       "      <td>CA-2014-115812</td>\n",
       "      <td>6/9/14</td>\n",
       "      <td>6/14/14</td>\n",
       "      <td>Standard Class</td>\n",
       "      <td>BH-11710</td>\n",
       "      <td>Brosina Hoffman</td>\n",
       "      <td>Consumer</td>\n",
       "      <td>United States</td>\n",
       "      <td>Los Angeles</td>\n",
       "      <td>...</td>\n",
       "      <td>90032</td>\n",
       "      <td>West</td>\n",
       "      <td>FUR-FU-10001487</td>\n",
       "      <td>Furniture</td>\n",
       "      <td>Furnishings</td>\n",
       "      <td>Eldon Expressions Wood and Plastic Desk Access...</td>\n",
       "      <td>48.8600</td>\n",
       "      <td>7</td>\n",
       "      <td>0.00</td>\n",
       "      <td>14.1694</td>\n",
       "    </tr>\n",
       "    <tr>\n",
       "      <th>6</th>\n",
       "      <td>7</td>\n",
       "      <td>CA-2014-115812</td>\n",
       "      <td>6/9/14</td>\n",
       "      <td>6/14/14</td>\n",
       "      <td>Standard Class</td>\n",
       "      <td>BH-11710</td>\n",
       "      <td>Brosina Hoffman</td>\n",
       "      <td>Consumer</td>\n",
       "      <td>United States</td>\n",
       "      <td>Los Angeles</td>\n",
       "      <td>...</td>\n",
       "      <td>90032</td>\n",
       "      <td>West</td>\n",
       "      <td>OFF-AR-10002833</td>\n",
       "      <td>Office Supplies</td>\n",
       "      <td>Art</td>\n",
       "      <td>Newell 322</td>\n",
       "      <td>7.2800</td>\n",
       "      <td>4</td>\n",
       "      <td>0.00</td>\n",
       "      <td>1.9656</td>\n",
       "    </tr>\n",
       "    <tr>\n",
       "      <th>7</th>\n",
       "      <td>8</td>\n",
       "      <td>CA-2014-115812</td>\n",
       "      <td>6/9/14</td>\n",
       "      <td>6/14/14</td>\n",
       "      <td>Standard Class</td>\n",
       "      <td>BH-11710</td>\n",
       "      <td>Brosina Hoffman</td>\n",
       "      <td>Consumer</td>\n",
       "      <td>United States</td>\n",
       "      <td>Los Angeles</td>\n",
       "      <td>...</td>\n",
       "      <td>90032</td>\n",
       "      <td>West</td>\n",
       "      <td>TEC-PH-10002275</td>\n",
       "      <td>Technology</td>\n",
       "      <td>Phones</td>\n",
       "      <td>Mitel 5320 IP Phone VoIP phone</td>\n",
       "      <td>907.1520</td>\n",
       "      <td>6</td>\n",
       "      <td>0.20</td>\n",
       "      <td>90.7152</td>\n",
       "    </tr>\n",
       "    <tr>\n",
       "      <th>8</th>\n",
       "      <td>9</td>\n",
       "      <td>CA-2014-115812</td>\n",
       "      <td>6/9/14</td>\n",
       "      <td>6/14/14</td>\n",
       "      <td>Standard Class</td>\n",
       "      <td>BH-11710</td>\n",
       "      <td>Brosina Hoffman</td>\n",
       "      <td>Consumer</td>\n",
       "      <td>United States</td>\n",
       "      <td>Los Angeles</td>\n",
       "      <td>...</td>\n",
       "      <td>90032</td>\n",
       "      <td>West</td>\n",
       "      <td>OFF-BI-10003910</td>\n",
       "      <td>Office Supplies</td>\n",
       "      <td>Binders</td>\n",
       "      <td>DXL Angle-View Binders with Locking Rings by S...</td>\n",
       "      <td>18.5040</td>\n",
       "      <td>3</td>\n",
       "      <td>0.20</td>\n",
       "      <td>5.7825</td>\n",
       "    </tr>\n",
       "    <tr>\n",
       "      <th>9</th>\n",
       "      <td>10</td>\n",
       "      <td>CA-2014-115812</td>\n",
       "      <td>6/9/14</td>\n",
       "      <td>6/14/14</td>\n",
       "      <td>Standard Class</td>\n",
       "      <td>BH-11710</td>\n",
       "      <td>Brosina Hoffman</td>\n",
       "      <td>Consumer</td>\n",
       "      <td>United States</td>\n",
       "      <td>Los Angeles</td>\n",
       "      <td>...</td>\n",
       "      <td>90032</td>\n",
       "      <td>West</td>\n",
       "      <td>OFF-AP-10002892</td>\n",
       "      <td>Office Supplies</td>\n",
       "      <td>Appliances</td>\n",
       "      <td>Belkin F5C206VTEL 6 Outlet Surge</td>\n",
       "      <td>114.9000</td>\n",
       "      <td>5</td>\n",
       "      <td>0.00</td>\n",
       "      <td>34.4700</td>\n",
       "    </tr>\n",
       "  </tbody>\n",
       "</table>\n",
       "<p>10 rows × 21 columns</p>\n",
       "</div>"
      ],
      "text/plain": [
       "   Row ID        Order ID Order Date Ship Date       Ship Mode Customer ID  \\\n",
       "0       1  CA-2016-152156    11/8/16  11/11/16    Second Class    CG-12520   \n",
       "1       2  CA-2016-152156    11/8/16  11/11/16    Second Class    CG-12520   \n",
       "2       3  CA-2016-138688    6/12/16   6/16/16    Second Class    DV-13045   \n",
       "3       4  US-2015-108966   10/11/15  10/18/15  Standard Class    SO-20335   \n",
       "4       5  US-2015-108966   10/11/15  10/18/15  Standard Class    SO-20335   \n",
       "5       6  CA-2014-115812     6/9/14   6/14/14  Standard Class    BH-11710   \n",
       "6       7  CA-2014-115812     6/9/14   6/14/14  Standard Class    BH-11710   \n",
       "7       8  CA-2014-115812     6/9/14   6/14/14  Standard Class    BH-11710   \n",
       "8       9  CA-2014-115812     6/9/14   6/14/14  Standard Class    BH-11710   \n",
       "9      10  CA-2014-115812     6/9/14   6/14/14  Standard Class    BH-11710   \n",
       "\n",
       "     Customer Name    Segment        Country             City  ...  \\\n",
       "0      Claire Gute   Consumer  United States        Henderson  ...   \n",
       "1      Claire Gute   Consumer  United States        Henderson  ...   \n",
       "2  Darrin Van Huff  Corporate  United States      Los Angeles  ...   \n",
       "3   Sean O'Donnell   Consumer  United States  Fort Lauderdale  ...   \n",
       "4   Sean O'Donnell   Consumer  United States  Fort Lauderdale  ...   \n",
       "5  Brosina Hoffman   Consumer  United States      Los Angeles  ...   \n",
       "6  Brosina Hoffman   Consumer  United States      Los Angeles  ...   \n",
       "7  Brosina Hoffman   Consumer  United States      Los Angeles  ...   \n",
       "8  Brosina Hoffman   Consumer  United States      Los Angeles  ...   \n",
       "9  Brosina Hoffman   Consumer  United States      Los Angeles  ...   \n",
       "\n",
       "  Postal Code  Region       Product ID         Category Sub-Category  \\\n",
       "0       42420   South  FUR-BO-10001798        Furniture    Bookcases   \n",
       "1       42420   South  FUR-CH-10000454        Furniture       Chairs   \n",
       "2       90036    West  OFF-LA-10000240  Office Supplies       Labels   \n",
       "3       33311   South  FUR-TA-10000577        Furniture       Tables   \n",
       "4       33311   South  OFF-ST-10000760  Office Supplies      Storage   \n",
       "5       90032    West  FUR-FU-10001487        Furniture  Furnishings   \n",
       "6       90032    West  OFF-AR-10002833  Office Supplies          Art   \n",
       "7       90032    West  TEC-PH-10002275       Technology       Phones   \n",
       "8       90032    West  OFF-BI-10003910  Office Supplies      Binders   \n",
       "9       90032    West  OFF-AP-10002892  Office Supplies   Appliances   \n",
       "\n",
       "                                        Product Name     Sales  Quantity  \\\n",
       "0                  Bush Somerset Collection Bookcase  261.9600         2   \n",
       "1  Hon Deluxe Fabric Upholstered Stacking Chairs,...  731.9400         3   \n",
       "2  Self-Adhesive Address Labels for Typewriters b...   14.6200         2   \n",
       "3      Bretford CR4500 Series Slim Rectangular Table  957.5775         5   \n",
       "4                     Eldon Fold 'N Roll Cart System   22.3680         2   \n",
       "5  Eldon Expressions Wood and Plastic Desk Access...   48.8600         7   \n",
       "6                                         Newell 322    7.2800         4   \n",
       "7                     Mitel 5320 IP Phone VoIP phone  907.1520         6   \n",
       "8  DXL Angle-View Binders with Locking Rings by S...   18.5040         3   \n",
       "9                   Belkin F5C206VTEL 6 Outlet Surge  114.9000         5   \n",
       "\n",
       "   Discount    Profit  \n",
       "0      0.00   41.9136  \n",
       "1      0.00  219.5820  \n",
       "2      0.00    6.8714  \n",
       "3      0.45 -383.0310  \n",
       "4      0.20    2.5164  \n",
       "5      0.00   14.1694  \n",
       "6      0.00    1.9656  \n",
       "7      0.20   90.7152  \n",
       "8      0.20    5.7825  \n",
       "9      0.00   34.4700  \n",
       "\n",
       "[10 rows x 21 columns]"
      ]
     },
     "execution_count": 3,
     "metadata": {},
     "output_type": "execute_result"
    }
   ],
   "source": [
    "df.head(10)"
   ]
  },
  {
   "cell_type": "code",
   "execution_count": 4,
   "metadata": {
    "cell_id": "44b044482a434f338529825b20da5b78",
    "deepnote_app_coordinates": {
     "h": 5,
     "w": 12,
     "x": 0,
     "y": 37
    },
    "deepnote_cell_type": "code",
    "deepnote_to_be_reexecuted": false,
    "execution_millis": 0,
    "execution_start": 1674709267578,
    "source_hash": "534f2a87"
   },
   "outputs": [],
   "source": [
    "df.drop('Row ID',axis=1,inplace=True)"
   ]
  },
  {
   "cell_type": "code",
   "execution_count": 5,
   "metadata": {
    "cell_id": "065d6e29f7cc42e8a4e2e14eb0d5e609",
    "deepnote_app_coordinates": {
     "h": 5,
     "w": 12,
     "x": 0,
     "y": 43
    },
    "deepnote_cell_type": "code",
    "deepnote_to_be_reexecuted": false,
    "execution_millis": 8,
    "execution_start": 1674709267621,
    "source_hash": "c085b6ba",
    "tags": []
   },
   "outputs": [
    {
     "data": {
      "application/vnd.deepnote.dataframe.v3+json": {
       "column_count": 20,
       "columns": [
        {
         "dtype": "object",
         "name": "Order ID",
         "stats": {
          "categories": [
           {
            "count": 2,
            "name": "CA-2016-152156"
           },
           {
            "count": 2,
            "name": "US-2015-108966"
           },
           {
            "count": 1,
            "name": "CA-2016-138688"
           }
          ],
          "nan_count": 0,
          "unique_count": 3
         }
        },
        {
         "dtype": "object",
         "name": "Order Date",
         "stats": {
          "categories": [
           {
            "count": 2,
            "name": "11/8/16"
           },
           {
            "count": 2,
            "name": "10/11/15"
           },
           {
            "count": 1,
            "name": "6/12/16"
           }
          ],
          "nan_count": 0,
          "unique_count": 3
         }
        },
        {
         "dtype": "object",
         "name": "Ship Date",
         "stats": {
          "categories": [
           {
            "count": 2,
            "name": "11/11/16"
           },
           {
            "count": 2,
            "name": "10/18/15"
           },
           {
            "count": 1,
            "name": "6/16/16"
           }
          ],
          "nan_count": 0,
          "unique_count": 3
         }
        },
        {
         "dtype": "object",
         "name": "Ship Mode",
         "stats": {
          "categories": [
           {
            "count": 3,
            "name": "Second Class"
           },
           {
            "count": 2,
            "name": "Standard Class"
           }
          ],
          "nan_count": 0,
          "unique_count": 2
         }
        },
        {
         "dtype": "object",
         "name": "Customer ID",
         "stats": {
          "categories": [
           {
            "count": 2,
            "name": "CG-12520"
           },
           {
            "count": 2,
            "name": "SO-20335"
           },
           {
            "count": 1,
            "name": "DV-13045"
           }
          ],
          "nan_count": 0,
          "unique_count": 3
         }
        },
        {
         "dtype": "object",
         "name": "Customer Name",
         "stats": {
          "categories": [
           {
            "count": 2,
            "name": "Claire Gute"
           },
           {
            "count": 2,
            "name": "Sean O'Donnell"
           },
           {
            "count": 1,
            "name": "Darrin Van Huff"
           }
          ],
          "nan_count": 0,
          "unique_count": 3
         }
        },
        {
         "dtype": "object",
         "name": "Segment",
         "stats": {
          "categories": [
           {
            "count": 4,
            "name": "Consumer"
           },
           {
            "count": 1,
            "name": "Corporate"
           }
          ],
          "nan_count": 0,
          "unique_count": 2
         }
        },
        {
         "dtype": "object",
         "name": "Country",
         "stats": {
          "categories": [
           {
            "count": 5,
            "name": "United States"
           }
          ],
          "nan_count": 0,
          "unique_count": 1
         }
        },
        {
         "dtype": "object",
         "name": "City",
         "stats": {
          "categories": [
           {
            "count": 2,
            "name": "Henderson"
           },
           {
            "count": 2,
            "name": "Fort Lauderdale"
           },
           {
            "count": 1,
            "name": "Los Angeles"
           }
          ],
          "nan_count": 0,
          "unique_count": 3
         }
        },
        {
         "dtype": "object",
         "name": "State",
         "stats": {
          "categories": [
           {
            "count": 2,
            "name": "Kentucky"
           },
           {
            "count": 2,
            "name": "Florida"
           },
           {
            "count": 1,
            "name": "California"
           }
          ],
          "nan_count": 0,
          "unique_count": 3
         }
        },
        {
         "dtype": "int64",
         "name": "Postal Code",
         "stats": {
          "histogram": [
           {
            "bin_end": 38983.5,
            "bin_start": 33311,
            "count": 2
           },
           {
            "bin_end": 44656,
            "bin_start": 38983.5,
            "count": 2
           },
           {
            "bin_end": 50328.5,
            "bin_start": 44656,
            "count": 0
           },
           {
            "bin_end": 56001,
            "bin_start": 50328.5,
            "count": 0
           },
           {
            "bin_end": 61673.5,
            "bin_start": 56001,
            "count": 0
           },
           {
            "bin_end": 67346,
            "bin_start": 61673.5,
            "count": 0
           },
           {
            "bin_end": 73018.5,
            "bin_start": 67346,
            "count": 0
           },
           {
            "bin_end": 78691,
            "bin_start": 73018.5,
            "count": 0
           },
           {
            "bin_end": 84363.5,
            "bin_start": 78691,
            "count": 0
           },
           {
            "bin_end": 90036,
            "bin_start": 84363.5,
            "count": 1
           }
          ],
          "max": "90036",
          "min": "33311",
          "nan_count": 0,
          "unique_count": 3
         }
        },
        {
         "dtype": "object",
         "name": "Region",
         "stats": {
          "categories": [
           {
            "count": 4,
            "name": "South"
           },
           {
            "count": 1,
            "name": "West"
           }
          ],
          "nan_count": 0,
          "unique_count": 2
         }
        },
        {
         "dtype": "object",
         "name": "Product ID",
         "stats": {
          "categories": [
           {
            "count": 1,
            "name": "FUR-BO-10001798"
           },
           {
            "count": 1,
            "name": "FUR-CH-10000454"
           },
           {
            "count": 3,
            "name": "3 others"
           }
          ],
          "nan_count": 0,
          "unique_count": 5
         }
        },
        {
         "dtype": "object",
         "name": "Category",
         "stats": {
          "categories": [
           {
            "count": 3,
            "name": "Furniture"
           },
           {
            "count": 2,
            "name": "Office Supplies"
           }
          ],
          "nan_count": 0,
          "unique_count": 2
         }
        },
        {
         "dtype": "object",
         "name": "Sub-Category",
         "stats": {
          "categories": [
           {
            "count": 1,
            "name": "Bookcases"
           },
           {
            "count": 1,
            "name": "Chairs"
           },
           {
            "count": 3,
            "name": "3 others"
           }
          ],
          "nan_count": 0,
          "unique_count": 5
         }
        },
        {
         "dtype": "object",
         "name": "Product Name",
         "stats": {
          "categories": [
           {
            "count": 1,
            "name": "Bush Somerset Collection Bookcase"
           },
           {
            "count": 1,
            "name": "Hon Deluxe Fabric Upholstered Stacking Chairs, Rounded Back"
           },
           {
            "count": 3,
            "name": "3 others"
           }
          ],
          "nan_count": 0,
          "unique_count": 5
         }
        },
        {
         "dtype": "float64",
         "name": "Sales",
         "stats": {
          "histogram": [
           {
            "bin_end": 108.91575,
            "bin_start": 14.62,
            "count": 2
           },
           {
            "bin_end": 203.2115,
            "bin_start": 108.91575,
            "count": 0
           },
           {
            "bin_end": 297.50725,
            "bin_start": 203.2115,
            "count": 1
           },
           {
            "bin_end": 391.803,
            "bin_start": 297.50725,
            "count": 0
           },
           {
            "bin_end": 486.09875,
            "bin_start": 391.803,
            "count": 0
           },
           {
            "bin_end": 580.3945,
            "bin_start": 486.09875,
            "count": 0
           },
           {
            "bin_end": 674.69025,
            "bin_start": 580.3945,
            "count": 0
           },
           {
            "bin_end": 768.986,
            "bin_start": 674.69025,
            "count": 1
           },
           {
            "bin_end": 863.28175,
            "bin_start": 768.986,
            "count": 0
           },
           {
            "bin_end": 957.5775,
            "bin_start": 863.28175,
            "count": 1
           }
          ],
          "max": "957.5775",
          "min": "14.62",
          "nan_count": 0,
          "unique_count": 5
         }
        },
        {
         "dtype": "int64",
         "name": "Quantity",
         "stats": {
          "histogram": [
           {
            "bin_end": 2.3,
            "bin_start": 2,
            "count": 3
           },
           {
            "bin_end": 2.6,
            "bin_start": 2.3,
            "count": 0
           },
           {
            "bin_end": 2.9,
            "bin_start": 2.6,
            "count": 0
           },
           {
            "bin_end": 3.2,
            "bin_start": 2.9,
            "count": 1
           },
           {
            "bin_end": 3.5,
            "bin_start": 3.2,
            "count": 0
           },
           {
            "bin_end": 3.8,
            "bin_start": 3.5,
            "count": 0
           },
           {
            "bin_end": 4.1,
            "bin_start": 3.8,
            "count": 0
           },
           {
            "bin_end": 4.4,
            "bin_start": 4.1,
            "count": 0
           },
           {
            "bin_end": 4.699999999999999,
            "bin_start": 4.4,
            "count": 0
           },
           {
            "bin_end": 5,
            "bin_start": 4.699999999999999,
            "count": 1
           }
          ],
          "max": "5",
          "min": "2",
          "nan_count": 0,
          "unique_count": 3
         }
        },
        {
         "dtype": "float64",
         "name": "Discount",
         "stats": {
          "histogram": [
           {
            "bin_end": 0.045,
            "bin_start": 0,
            "count": 3
           },
           {
            "bin_end": 0.09,
            "bin_start": 0.045,
            "count": 0
           },
           {
            "bin_end": 0.135,
            "bin_start": 0.09,
            "count": 0
           },
           {
            "bin_end": 0.18,
            "bin_start": 0.135,
            "count": 0
           },
           {
            "bin_end": 0.22499999999999998,
            "bin_start": 0.18,
            "count": 1
           },
           {
            "bin_end": 0.27,
            "bin_start": 0.22499999999999998,
            "count": 0
           },
           {
            "bin_end": 0.315,
            "bin_start": 0.27,
            "count": 0
           },
           {
            "bin_end": 0.36,
            "bin_start": 0.315,
            "count": 0
           },
           {
            "bin_end": 0.40499999999999997,
            "bin_start": 0.36,
            "count": 0
           },
           {
            "bin_end": 0.45,
            "bin_start": 0.40499999999999997,
            "count": 1
           }
          ],
          "max": "0.45",
          "min": "0.0",
          "nan_count": 0,
          "unique_count": 3
         }
        },
        {
         "dtype": "float64",
         "name": "Profit",
         "stats": {
          "histogram": [
           {
            "bin_end": -322.7697,
            "bin_start": -383.031,
            "count": 1
           },
           {
            "bin_end": -262.5084,
            "bin_start": -322.7697,
            "count": 0
           },
           {
            "bin_end": -202.2471,
            "bin_start": -262.5084,
            "count": 0
           },
           {
            "bin_end": -141.98579999999998,
            "bin_start": -202.2471,
            "count": 0
           },
           {
            "bin_end": -81.72449999999998,
            "bin_start": -141.98579999999998,
            "count": 0
           },
           {
            "bin_end": -21.463199999999972,
            "bin_start": -81.72449999999998,
            "count": 0
           },
           {
            "bin_end": 38.798100000000034,
            "bin_start": -21.463199999999972,
            "count": 2
           },
           {
            "bin_end": 99.05940000000004,
            "bin_start": 38.798100000000034,
            "count": 1
           },
           {
            "bin_end": 159.32070000000004,
            "bin_start": 99.05940000000004,
            "count": 0
           },
           {
            "bin_end": 219.582,
            "bin_start": 159.32070000000004,
            "count": 1
           }
          ],
          "max": "219.582",
          "min": "-383.031",
          "nan_count": 0,
          "unique_count": 5
         }
        },
        {
         "dtype": "int64",
         "name": "_deepnote_index_column"
        }
       ],
       "row_count": 5,
       "rows": [
        {
         "Category": "Furniture",
         "City": "Henderson",
         "Country": "United States",
         "Customer ID": "CG-12520",
         "Customer Name": "Claire Gute",
         "Discount": "0.0",
         "Order Date": "11/8/16",
         "Order ID": "CA-2016-152156",
         "Postal Code": "42420",
         "Product ID": "FUR-BO-10001798",
         "Product Name": "Bush Somerset Collection Bookcase",
         "Profit": "41.9136",
         "Quantity": "2",
         "Region": "South",
         "Sales": "261.96",
         "Segment": "Consumer",
         "Ship Date": "11/11/16",
         "Ship Mode": "Second Class",
         "State": "Kentucky",
         "Sub-Category": "Bookcases",
         "_deepnote_index_column": "0"
        },
        {
         "Category": "Furniture",
         "City": "Henderson",
         "Country": "United States",
         "Customer ID": "CG-12520",
         "Customer Name": "Claire Gute",
         "Discount": "0.0",
         "Order Date": "11/8/16",
         "Order ID": "CA-2016-152156",
         "Postal Code": "42420",
         "Product ID": "FUR-CH-10000454",
         "Product Name": "Hon Deluxe Fabric Upholstered Stacking Chairs, Rounded Back",
         "Profit": "219.582",
         "Quantity": "3",
         "Region": "South",
         "Sales": "731.94",
         "Segment": "Consumer",
         "Ship Date": "11/11/16",
         "Ship Mode": "Second Class",
         "State": "Kentucky",
         "Sub-Category": "Chairs",
         "_deepnote_index_column": "1"
        },
        {
         "Category": "Office Supplies",
         "City": "Los Angeles",
         "Country": "United States",
         "Customer ID": "DV-13045",
         "Customer Name": "Darrin Van Huff",
         "Discount": "0.0",
         "Order Date": "6/12/16",
         "Order ID": "CA-2016-138688",
         "Postal Code": "90036",
         "Product ID": "OFF-LA-10000240",
         "Product Name": "Self-Adhesive Address Labels for Typewriters by Universal",
         "Profit": "6.8714",
         "Quantity": "2",
         "Region": "West",
         "Sales": "14.62",
         "Segment": "Corporate",
         "Ship Date": "6/16/16",
         "Ship Mode": "Second Class",
         "State": "California",
         "Sub-Category": "Labels",
         "_deepnote_index_column": "2"
        },
        {
         "Category": "Furniture",
         "City": "Fort Lauderdale",
         "Country": "United States",
         "Customer ID": "SO-20335",
         "Customer Name": "Sean O'Donnell",
         "Discount": "0.45",
         "Order Date": "10/11/15",
         "Order ID": "US-2015-108966",
         "Postal Code": "33311",
         "Product ID": "FUR-TA-10000577",
         "Product Name": "Bretford CR4500 Series Slim Rectangular Table",
         "Profit": "-383.031",
         "Quantity": "5",
         "Region": "South",
         "Sales": "957.5775",
         "Segment": "Consumer",
         "Ship Date": "10/18/15",
         "Ship Mode": "Standard Class",
         "State": "Florida",
         "Sub-Category": "Tables",
         "_deepnote_index_column": "3"
        },
        {
         "Category": "Office Supplies",
         "City": "Fort Lauderdale",
         "Country": "United States",
         "Customer ID": "SO-20335",
         "Customer Name": "Sean O'Donnell",
         "Discount": "0.2",
         "Order Date": "10/11/15",
         "Order ID": "US-2015-108966",
         "Postal Code": "33311",
         "Product ID": "OFF-ST-10000760",
         "Product Name": "Eldon Fold 'N Roll Cart System",
         "Profit": "2.5164",
         "Quantity": "2",
         "Region": "South",
         "Sales": "22.368",
         "Segment": "Consumer",
         "Ship Date": "10/18/15",
         "Ship Mode": "Standard Class",
         "State": "Florida",
         "Sub-Category": "Storage",
         "_deepnote_index_column": "4"
        }
       ]
      },
      "text/html": [
       "<div>\n",
       "<style scoped>\n",
       "    .dataframe tbody tr th:only-of-type {\n",
       "        vertical-align: middle;\n",
       "    }\n",
       "\n",
       "    .dataframe tbody tr th {\n",
       "        vertical-align: top;\n",
       "    }\n",
       "\n",
       "    .dataframe thead th {\n",
       "        text-align: right;\n",
       "    }\n",
       "</style>\n",
       "<table border=\"1\" class=\"dataframe\">\n",
       "  <thead>\n",
       "    <tr style=\"text-align: right;\">\n",
       "      <th></th>\n",
       "      <th>Order ID</th>\n",
       "      <th>Order Date</th>\n",
       "      <th>Ship Date</th>\n",
       "      <th>Ship Mode</th>\n",
       "      <th>Customer ID</th>\n",
       "      <th>Customer Name</th>\n",
       "      <th>Segment</th>\n",
       "      <th>Country</th>\n",
       "      <th>City</th>\n",
       "      <th>State</th>\n",
       "      <th>Postal Code</th>\n",
       "      <th>Region</th>\n",
       "      <th>Product ID</th>\n",
       "      <th>Category</th>\n",
       "      <th>Sub-Category</th>\n",
       "      <th>Product Name</th>\n",
       "      <th>Sales</th>\n",
       "      <th>Quantity</th>\n",
       "      <th>Discount</th>\n",
       "      <th>Profit</th>\n",
       "    </tr>\n",
       "  </thead>\n",
       "  <tbody>\n",
       "    <tr>\n",
       "      <th>0</th>\n",
       "      <td>CA-2016-152156</td>\n",
       "      <td>11/8/16</td>\n",
       "      <td>11/11/16</td>\n",
       "      <td>Second Class</td>\n",
       "      <td>CG-12520</td>\n",
       "      <td>Claire Gute</td>\n",
       "      <td>Consumer</td>\n",
       "      <td>United States</td>\n",
       "      <td>Henderson</td>\n",
       "      <td>Kentucky</td>\n",
       "      <td>42420</td>\n",
       "      <td>South</td>\n",
       "      <td>FUR-BO-10001798</td>\n",
       "      <td>Furniture</td>\n",
       "      <td>Bookcases</td>\n",
       "      <td>Bush Somerset Collection Bookcase</td>\n",
       "      <td>261.9600</td>\n",
       "      <td>2</td>\n",
       "      <td>0.00</td>\n",
       "      <td>41.9136</td>\n",
       "    </tr>\n",
       "    <tr>\n",
       "      <th>1</th>\n",
       "      <td>CA-2016-152156</td>\n",
       "      <td>11/8/16</td>\n",
       "      <td>11/11/16</td>\n",
       "      <td>Second Class</td>\n",
       "      <td>CG-12520</td>\n",
       "      <td>Claire Gute</td>\n",
       "      <td>Consumer</td>\n",
       "      <td>United States</td>\n",
       "      <td>Henderson</td>\n",
       "      <td>Kentucky</td>\n",
       "      <td>42420</td>\n",
       "      <td>South</td>\n",
       "      <td>FUR-CH-10000454</td>\n",
       "      <td>Furniture</td>\n",
       "      <td>Chairs</td>\n",
       "      <td>Hon Deluxe Fabric Upholstered Stacking Chairs,...</td>\n",
       "      <td>731.9400</td>\n",
       "      <td>3</td>\n",
       "      <td>0.00</td>\n",
       "      <td>219.5820</td>\n",
       "    </tr>\n",
       "    <tr>\n",
       "      <th>2</th>\n",
       "      <td>CA-2016-138688</td>\n",
       "      <td>6/12/16</td>\n",
       "      <td>6/16/16</td>\n",
       "      <td>Second Class</td>\n",
       "      <td>DV-13045</td>\n",
       "      <td>Darrin Van Huff</td>\n",
       "      <td>Corporate</td>\n",
       "      <td>United States</td>\n",
       "      <td>Los Angeles</td>\n",
       "      <td>California</td>\n",
       "      <td>90036</td>\n",
       "      <td>West</td>\n",
       "      <td>OFF-LA-10000240</td>\n",
       "      <td>Office Supplies</td>\n",
       "      <td>Labels</td>\n",
       "      <td>Self-Adhesive Address Labels for Typewriters b...</td>\n",
       "      <td>14.6200</td>\n",
       "      <td>2</td>\n",
       "      <td>0.00</td>\n",
       "      <td>6.8714</td>\n",
       "    </tr>\n",
       "    <tr>\n",
       "      <th>3</th>\n",
       "      <td>US-2015-108966</td>\n",
       "      <td>10/11/15</td>\n",
       "      <td>10/18/15</td>\n",
       "      <td>Standard Class</td>\n",
       "      <td>SO-20335</td>\n",
       "      <td>Sean O'Donnell</td>\n",
       "      <td>Consumer</td>\n",
       "      <td>United States</td>\n",
       "      <td>Fort Lauderdale</td>\n",
       "      <td>Florida</td>\n",
       "      <td>33311</td>\n",
       "      <td>South</td>\n",
       "      <td>FUR-TA-10000577</td>\n",
       "      <td>Furniture</td>\n",
       "      <td>Tables</td>\n",
       "      <td>Bretford CR4500 Series Slim Rectangular Table</td>\n",
       "      <td>957.5775</td>\n",
       "      <td>5</td>\n",
       "      <td>0.45</td>\n",
       "      <td>-383.0310</td>\n",
       "    </tr>\n",
       "    <tr>\n",
       "      <th>4</th>\n",
       "      <td>US-2015-108966</td>\n",
       "      <td>10/11/15</td>\n",
       "      <td>10/18/15</td>\n",
       "      <td>Standard Class</td>\n",
       "      <td>SO-20335</td>\n",
       "      <td>Sean O'Donnell</td>\n",
       "      <td>Consumer</td>\n",
       "      <td>United States</td>\n",
       "      <td>Fort Lauderdale</td>\n",
       "      <td>Florida</td>\n",
       "      <td>33311</td>\n",
       "      <td>South</td>\n",
       "      <td>OFF-ST-10000760</td>\n",
       "      <td>Office Supplies</td>\n",
       "      <td>Storage</td>\n",
       "      <td>Eldon Fold 'N Roll Cart System</td>\n",
       "      <td>22.3680</td>\n",
       "      <td>2</td>\n",
       "      <td>0.20</td>\n",
       "      <td>2.5164</td>\n",
       "    </tr>\n",
       "  </tbody>\n",
       "</table>\n",
       "</div>"
      ],
      "text/plain": [
       "         Order ID Order Date Ship Date       Ship Mode Customer ID  \\\n",
       "0  CA-2016-152156    11/8/16  11/11/16    Second Class    CG-12520   \n",
       "1  CA-2016-152156    11/8/16  11/11/16    Second Class    CG-12520   \n",
       "2  CA-2016-138688    6/12/16   6/16/16    Second Class    DV-13045   \n",
       "3  US-2015-108966   10/11/15  10/18/15  Standard Class    SO-20335   \n",
       "4  US-2015-108966   10/11/15  10/18/15  Standard Class    SO-20335   \n",
       "\n",
       "     Customer Name    Segment        Country             City       State  \\\n",
       "0      Claire Gute   Consumer  United States        Henderson    Kentucky   \n",
       "1      Claire Gute   Consumer  United States        Henderson    Kentucky   \n",
       "2  Darrin Van Huff  Corporate  United States      Los Angeles  California   \n",
       "3   Sean O'Donnell   Consumer  United States  Fort Lauderdale     Florida   \n",
       "4   Sean O'Donnell   Consumer  United States  Fort Lauderdale     Florida   \n",
       "\n",
       "   Postal Code Region       Product ID         Category Sub-Category  \\\n",
       "0        42420  South  FUR-BO-10001798        Furniture    Bookcases   \n",
       "1        42420  South  FUR-CH-10000454        Furniture       Chairs   \n",
       "2        90036   West  OFF-LA-10000240  Office Supplies       Labels   \n",
       "3        33311  South  FUR-TA-10000577        Furniture       Tables   \n",
       "4        33311  South  OFF-ST-10000760  Office Supplies      Storage   \n",
       "\n",
       "                                        Product Name     Sales  Quantity  \\\n",
       "0                  Bush Somerset Collection Bookcase  261.9600         2   \n",
       "1  Hon Deluxe Fabric Upholstered Stacking Chairs,...  731.9400         3   \n",
       "2  Self-Adhesive Address Labels for Typewriters b...   14.6200         2   \n",
       "3      Bretford CR4500 Series Slim Rectangular Table  957.5775         5   \n",
       "4                     Eldon Fold 'N Roll Cart System   22.3680         2   \n",
       "\n",
       "   Discount    Profit  \n",
       "0      0.00   41.9136  \n",
       "1      0.00  219.5820  \n",
       "2      0.00    6.8714  \n",
       "3      0.45 -383.0310  \n",
       "4      0.20    2.5164  "
      ]
     },
     "execution_count": 5,
     "metadata": {},
     "output_type": "execute_result"
    }
   ],
   "source": [
    "df.head()"
   ]
  },
  {
   "cell_type": "code",
   "execution_count": 6,
   "metadata": {
    "cell_id": "c6a220b368e6413eaac4b5bada0f1067",
    "deepnote_app_coordinates": {
     "h": 5,
     "w": 12,
     "x": 0,
     "y": 49
    },
    "deepnote_cell_type": "code",
    "deepnote_to_be_reexecuted": false,
    "execution_millis": 2,
    "execution_start": 1674709267633,
    "source_hash": "14f60b8f"
   },
   "outputs": [
    {
     "data": {
      "text/plain": [
       "(9994, 20)"
      ]
     },
     "execution_count": 6,
     "metadata": {},
     "output_type": "execute_result"
    }
   ],
   "source": [
    "df.shape"
   ]
  },
  {
   "cell_type": "markdown",
   "metadata": {
    "cell_id": "2070ae24d7524de3818f4e33337ce102",
    "deepnote_app_coordinates": {
     "h": 5,
     "w": 12,
     "x": 0,
     "y": 55
    },
    "deepnote_cell_type": "markdown"
   },
   "source": [
    "## Make a Sample"
   ]
  },
  {
   "cell_type": "code",
   "execution_count": 7,
   "metadata": {
    "cell_id": "02308c6a2bc149a9bfb22f604983305d",
    "deepnote_app_coordinates": {
     "h": 5,
     "w": 12,
     "x": 0,
     "y": 61
    },
    "deepnote_cell_type": "code",
    "deepnote_to_be_reexecuted": false,
    "execution_millis": 5,
    "execution_start": 1674709267656,
    "source_hash": "5fa38d5b"
   },
   "outputs": [
    {
     "data": {
      "application/vnd.deepnote.dataframe.v3+json": {
       "column_count": 5,
       "columns": [
        {
         "dtype": "object",
         "name": "Customer ID",
         "stats": {
          "categories": [
           {
            "count": 5,
            "name": "BH-11710"
           }
          ],
          "nan_count": 0,
          "unique_count": 1
         }
        },
        {
         "dtype": "object",
         "name": "Customer Name",
         "stats": {
          "categories": [
           {
            "count": 5,
            "name": "Brosina Hoffman"
           }
          ],
          "nan_count": 0,
          "unique_count": 1
         }
        },
        {
         "dtype": "object",
         "name": "City",
         "stats": {
          "categories": [
           {
            "count": 5,
            "name": "Los Angeles"
           }
          ],
          "nan_count": 0,
          "unique_count": 1
         }
        },
        {
         "dtype": "int64",
         "name": "Postal Code",
         "stats": {
          "histogram": [
           {
            "bin_end": 90031.6,
            "bin_start": 90031.5,
            "count": 0
           },
           {
            "bin_end": 90031.7,
            "bin_start": 90031.6,
            "count": 0
           },
           {
            "bin_end": 90031.8,
            "bin_start": 90031.7,
            "count": 0
           },
           {
            "bin_end": 90031.9,
            "bin_start": 90031.8,
            "count": 0
           },
           {
            "bin_end": 90032,
            "bin_start": 90031.9,
            "count": 0
           },
           {
            "bin_end": 90032.1,
            "bin_start": 90032,
            "count": 5
           },
           {
            "bin_end": 90032.2,
            "bin_start": 90032.1,
            "count": 0
           },
           {
            "bin_end": 90032.3,
            "bin_start": 90032.2,
            "count": 0
           },
           {
            "bin_end": 90032.4,
            "bin_start": 90032.3,
            "count": 0
           },
           {
            "bin_end": 90032.5,
            "bin_start": 90032.4,
            "count": 0
           }
          ],
          "max": "90032",
          "min": "90032",
          "nan_count": 0,
          "unique_count": 1
         }
        },
        {
         "dtype": "float64",
         "name": "Sales",
         "stats": {
          "histogram": [
           {
            "bin_end": 97.2672,
            "bin_start": 7.28,
            "count": 3
           },
           {
            "bin_end": 187.2544,
            "bin_start": 97.2672,
            "count": 1
           },
           {
            "bin_end": 277.24159999999995,
            "bin_start": 187.2544,
            "count": 0
           },
           {
            "bin_end": 367.2288,
            "bin_start": 277.24159999999995,
            "count": 0
           },
           {
            "bin_end": 457.216,
            "bin_start": 367.2288,
            "count": 0
           },
           {
            "bin_end": 547.2031999999999,
            "bin_start": 457.216,
            "count": 0
           },
           {
            "bin_end": 637.1904,
            "bin_start": 547.2031999999999,
            "count": 0
           },
           {
            "bin_end": 727.1776,
            "bin_start": 637.1904,
            "count": 0
           },
           {
            "bin_end": 817.1648,
            "bin_start": 727.1776,
            "count": 0
           },
           {
            "bin_end": 907.152,
            "bin_start": 817.1648,
            "count": 1
           }
          ],
          "max": "907.152",
          "min": "7.28",
          "nan_count": 0,
          "unique_count": 5
         }
        },
        {
         "dtype": "int64",
         "name": "_deepnote_index_column"
        }
       ],
       "row_count": 5,
       "rows": [
        {
         "City": "Los Angeles",
         "Customer ID": "BH-11710",
         "Customer Name": "Brosina Hoffman",
         "Postal Code": "90032",
         "Sales": "48.86",
         "_deepnote_index_column": "5"
        },
        {
         "City": "Los Angeles",
         "Customer ID": "BH-11710",
         "Customer Name": "Brosina Hoffman",
         "Postal Code": "90032",
         "Sales": "7.28",
         "_deepnote_index_column": "6"
        },
        {
         "City": "Los Angeles",
         "Customer ID": "BH-11710",
         "Customer Name": "Brosina Hoffman",
         "Postal Code": "90032",
         "Sales": "907.152",
         "_deepnote_index_column": "7"
        },
        {
         "City": "Los Angeles",
         "Customer ID": "BH-11710",
         "Customer Name": "Brosina Hoffman",
         "Postal Code": "90032",
         "Sales": "18.504",
         "_deepnote_index_column": "8"
        },
        {
         "City": "Los Angeles",
         "Customer ID": "BH-11710",
         "Customer Name": "Brosina Hoffman",
         "Postal Code": "90032",
         "Sales": "114.9",
         "_deepnote_index_column": "9"
        }
       ]
      },
      "text/html": [
       "<div>\n",
       "<style scoped>\n",
       "    .dataframe tbody tr th:only-of-type {\n",
       "        vertical-align: middle;\n",
       "    }\n",
       "\n",
       "    .dataframe tbody tr th {\n",
       "        vertical-align: top;\n",
       "    }\n",
       "\n",
       "    .dataframe thead th {\n",
       "        text-align: right;\n",
       "    }\n",
       "</style>\n",
       "<table border=\"1\" class=\"dataframe\">\n",
       "  <thead>\n",
       "    <tr style=\"text-align: right;\">\n",
       "      <th></th>\n",
       "      <th>Customer ID</th>\n",
       "      <th>Customer Name</th>\n",
       "      <th>City</th>\n",
       "      <th>Postal Code</th>\n",
       "      <th>Sales</th>\n",
       "    </tr>\n",
       "  </thead>\n",
       "  <tbody>\n",
       "    <tr>\n",
       "      <th>5</th>\n",
       "      <td>BH-11710</td>\n",
       "      <td>Brosina Hoffman</td>\n",
       "      <td>Los Angeles</td>\n",
       "      <td>90032</td>\n",
       "      <td>48.860</td>\n",
       "    </tr>\n",
       "    <tr>\n",
       "      <th>6</th>\n",
       "      <td>BH-11710</td>\n",
       "      <td>Brosina Hoffman</td>\n",
       "      <td>Los Angeles</td>\n",
       "      <td>90032</td>\n",
       "      <td>7.280</td>\n",
       "    </tr>\n",
       "    <tr>\n",
       "      <th>7</th>\n",
       "      <td>BH-11710</td>\n",
       "      <td>Brosina Hoffman</td>\n",
       "      <td>Los Angeles</td>\n",
       "      <td>90032</td>\n",
       "      <td>907.152</td>\n",
       "    </tr>\n",
       "    <tr>\n",
       "      <th>8</th>\n",
       "      <td>BH-11710</td>\n",
       "      <td>Brosina Hoffman</td>\n",
       "      <td>Los Angeles</td>\n",
       "      <td>90032</td>\n",
       "      <td>18.504</td>\n",
       "    </tr>\n",
       "    <tr>\n",
       "      <th>9</th>\n",
       "      <td>BH-11710</td>\n",
       "      <td>Brosina Hoffman</td>\n",
       "      <td>Los Angeles</td>\n",
       "      <td>90032</td>\n",
       "      <td>114.900</td>\n",
       "    </tr>\n",
       "  </tbody>\n",
       "</table>\n",
       "</div>"
      ],
      "text/plain": [
       "  Customer ID    Customer Name         City  Postal Code    Sales\n",
       "5    BH-11710  Brosina Hoffman  Los Angeles        90032   48.860\n",
       "6    BH-11710  Brosina Hoffman  Los Angeles        90032    7.280\n",
       "7    BH-11710  Brosina Hoffman  Los Angeles        90032  907.152\n",
       "8    BH-11710  Brosina Hoffman  Los Angeles        90032   18.504\n",
       "9    BH-11710  Brosina Hoffman  Los Angeles        90032  114.900"
      ]
     },
     "execution_count": 7,
     "metadata": {},
     "output_type": "execute_result"
    }
   ],
   "source": [
    "df_subset = df.loc[[i for i in range(5,10)],['Customer ID','Customer Name','City','Postal Code','Sales']]\n",
    "df_subset"
   ]
  },
  {
   "cell_type": "markdown",
   "metadata": {
    "cell_id": "24844ab0533947ad8e0a909c185b7d48",
    "deepnote_app_coordinates": {
     "h": 5,
     "w": 12,
     "x": 0,
     "y": 67
    },
    "deepnote_cell_type": "markdown"
   },
   "source": [
    "## Examine the Sample"
   ]
  },
  {
   "cell_type": "code",
   "execution_count": 8,
   "metadata": {
    "cell_id": "8f1f8a5dd6cf45e2bdf71cc499d8cdff",
    "deepnote_app_coordinates": {
     "h": 5,
     "w": 12,
     "x": 0,
     "y": 73
    },
    "deepnote_cell_type": "code",
    "deepnote_to_be_reexecuted": false,
    "execution_millis": 0,
    "execution_start": 1674709267706,
    "source_hash": "f78c83b7"
   },
   "outputs": [],
   "source": [
    "df_subset = df.loc[[i for i in range(100,200)],['Sales','Profit']]"
   ]
  },
  {
   "cell_type": "code",
   "execution_count": 9,
   "metadata": {
    "cell_id": "6c58df2c78f44e54bdd6db5b1200d7d9",
    "deepnote_app_coordinates": {
     "h": 5,
     "w": 12,
     "x": 0,
     "y": 79
    },
    "deepnote_cell_type": "code",
    "deepnote_to_be_reexecuted": false,
    "execution_millis": 45,
    "execution_start": 1674709267706,
    "source_hash": "bfedc4f0"
   },
   "outputs": [
    {
     "data": {
      "application/vnd.deepnote.dataframe.v3+json": {
       "column_count": 2,
       "columns": [
        {
         "dtype": "float64",
         "name": "Sales",
         "stats": {
          "histogram": [
           {
            "bin_end": 817.6044,
            "bin_start": 1.788,
            "count": 6
           },
           {
            "bin_end": 1633.4208,
            "bin_start": 817.6044,
            "count": 1
           },
           {
            "bin_end": 2449.2372,
            "bin_start": 1633.4208,
            "count": 0
           },
           {
            "bin_end": 3265.0536,
            "bin_start": 2449.2372,
            "count": 0
           },
           {
            "bin_end": 4080.8700000000003,
            "bin_start": 3265.0536,
            "count": 0
           },
           {
            "bin_end": 4896.6864,
            "bin_start": 4080.8700000000003,
            "count": 0
           },
           {
            "bin_end": 5712.5028,
            "bin_start": 4896.6864,
            "count": 0
           },
           {
            "bin_end": 6528.3192,
            "bin_start": 5712.5028,
            "count": 0
           },
           {
            "bin_end": 7344.1356,
            "bin_start": 6528.3192,
            "count": 0
           },
           {
            "bin_end": 8159.952,
            "bin_start": 7344.1356,
            "count": 1
           }
          ],
          "max": "8159.952",
          "min": "1.788",
          "nan_count": 0,
          "unique_count": 8
         }
        },
        {
         "dtype": "float64",
         "name": "Profit",
         "stats": {
          "histogram": [
           {
            "bin_end": -1165.4376,
            "bin_start": -1359.992,
            "count": 1
           },
           {
            "bin_end": -970.8832,
            "bin_start": -1165.4376,
            "count": 0
           },
           {
            "bin_end": -776.3288,
            "bin_start": -970.8832,
            "count": 0
           },
           {
            "bin_end": -581.7744,
            "bin_start": -776.3288,
            "count": 0
           },
           {
            "bin_end": -387.22,
            "bin_start": -581.7744,
            "count": 0
           },
           {
            "bin_end": -192.66560000000004,
            "bin_start": -387.22,
            "count": 0
           },
           {
            "bin_end": 1.8887999999999465,
            "bin_start": -192.66560000000004,
            "count": 2
           },
           {
            "bin_end": 196.44319999999993,
            "bin_start": 1.8887999999999465,
            "count": 4
           },
           {
            "bin_end": 390.9975999999999,
            "bin_start": 196.44319999999993,
            "count": 0
           },
           {
            "bin_end": 585.552,
            "bin_start": 390.9975999999999,
            "count": 1
           }
          ],
          "max": "585.552",
          "min": "-1359.992",
          "nan_count": 0,
          "unique_count": 8
         }
        },
        {
         "dtype": "object",
         "name": "_deepnote_index_column"
        }
       ],
       "row_count": 8,
       "rows": [
        {
         "Profit": "100.0",
         "Sales": "100.0",
         "_deepnote_index_column": "count"
        },
        {
         "Profit": "0.34757400000000194",
         "Sales": "262.95722",
         "_deepnote_index_column": "mean"
        },
        {
         "Profit": "170.74486922866367",
         "Sales": "858.9837617213266",
         "_deepnote_index_column": "std"
        },
        {
         "Profit": "-1359.992",
         "Sales": "1.788",
         "_deepnote_index_column": "min"
        },
        {
         "Profit": "1.6359",
         "Sales": "21.326999999999998",
         "_deepnote_index_column": "25%"
        },
        {
         "Profit": "9.6536",
         "Sales": "66.96000000000001",
         "_deepnote_index_column": "50%"
        },
        {
         "Profit": "23.4588",
         "Sales": "177.095",
         "_deepnote_index_column": "75%"
        },
        {
         "Profit": "585.552",
         "Sales": "8159.952",
         "_deepnote_index_column": "max"
        }
       ]
      },
      "text/html": [
       "<div>\n",
       "<style scoped>\n",
       "    .dataframe tbody tr th:only-of-type {\n",
       "        vertical-align: middle;\n",
       "    }\n",
       "\n",
       "    .dataframe tbody tr th {\n",
       "        vertical-align: top;\n",
       "    }\n",
       "\n",
       "    .dataframe thead th {\n",
       "        text-align: right;\n",
       "    }\n",
       "</style>\n",
       "<table border=\"1\" class=\"dataframe\">\n",
       "  <thead>\n",
       "    <tr style=\"text-align: right;\">\n",
       "      <th></th>\n",
       "      <th>Sales</th>\n",
       "      <th>Profit</th>\n",
       "    </tr>\n",
       "  </thead>\n",
       "  <tbody>\n",
       "    <tr>\n",
       "      <th>count</th>\n",
       "      <td>100.000000</td>\n",
       "      <td>100.000000</td>\n",
       "    </tr>\n",
       "    <tr>\n",
       "      <th>mean</th>\n",
       "      <td>262.957220</td>\n",
       "      <td>0.347574</td>\n",
       "    </tr>\n",
       "    <tr>\n",
       "      <th>std</th>\n",
       "      <td>858.983762</td>\n",
       "      <td>170.744869</td>\n",
       "    </tr>\n",
       "    <tr>\n",
       "      <th>min</th>\n",
       "      <td>1.788000</td>\n",
       "      <td>-1359.992000</td>\n",
       "    </tr>\n",
       "    <tr>\n",
       "      <th>25%</th>\n",
       "      <td>21.327000</td>\n",
       "      <td>1.635900</td>\n",
       "    </tr>\n",
       "    <tr>\n",
       "      <th>50%</th>\n",
       "      <td>66.960000</td>\n",
       "      <td>9.653600</td>\n",
       "    </tr>\n",
       "    <tr>\n",
       "      <th>75%</th>\n",
       "      <td>177.095000</td>\n",
       "      <td>23.458800</td>\n",
       "    </tr>\n",
       "    <tr>\n",
       "      <th>max</th>\n",
       "      <td>8159.952000</td>\n",
       "      <td>585.552000</td>\n",
       "    </tr>\n",
       "  </tbody>\n",
       "</table>\n",
       "</div>"
      ],
      "text/plain": [
       "             Sales       Profit\n",
       "count   100.000000   100.000000\n",
       "mean    262.957220     0.347574\n",
       "std     858.983762   170.744869\n",
       "min       1.788000 -1359.992000\n",
       "25%      21.327000     1.635900\n",
       "50%      66.960000     9.653600\n",
       "75%     177.095000    23.458800\n",
       "max    8159.952000   585.552000"
      ]
     },
     "execution_count": 9,
     "metadata": {},
     "output_type": "execute_result"
    }
   ],
   "source": [
    "df_subset.describe()"
   ]
  },
  {
   "cell_type": "code",
   "execution_count": 10,
   "metadata": {
    "cell_id": "c9504e98d2a0490f89e14fd544dd33e4",
    "deepnote_app_coordinates": {
     "h": 5,
     "w": 12,
     "x": 0,
     "y": 85
    },
    "deepnote_cell_type": "code",
    "deepnote_to_be_reexecuted": false,
    "execution_millis": 393,
    "execution_start": 1674709267750,
    "source_hash": "c7cbc450"
   },
   "outputs": [
    {
     "data": {
      "image/png": "[encoded data removed]",
      "text/plain": [
       "<Figure size 640x480 with 1 Axes>"
      ]
     },
     "metadata": {
      "image/png": {
       "height": 437,
       "width": 552
      }
     },
     "output_type": "display_data"
    }
   ],
   "source": [
    "df_subset.plot.box()\n",
    "plt.title(\"Boxplot of sales and profit\",fontsize=15)\n",
    "plt.ylim(0,500)\n",
    "plt.grid(True)\n",
    "plt.show()"
   ]
  },
  {
   "cell_type": "markdown",
   "metadata": {
    "cell_id": "2d4f4b77836c41d390df8b623ca68cc9",
    "deepnote_app_coordinates": {
     "h": 5,
     "w": 12,
     "x": 0,
     "y": 91
    },
    "deepnote_cell_type": "markdown"
   },
   "source": [
    "## Unique"
   ]
  },
  {
   "cell_type": "code",
   "execution_count": 11,
   "metadata": {
    "cell_id": "fba91ee948e641b198147777b13e3c7a",
    "deepnote_app_coordinates": {
     "h": 5,
     "w": 12,
     "x": 0,
     "y": 97
    },
    "deepnote_cell_type": "code",
    "deepnote_to_be_reexecuted": false,
    "execution_millis": 5,
    "execution_start": 1674709268144,
    "source_hash": "d110d2b4"
   },
   "outputs": [
    {
     "data": {
      "text/plain": [
       "array(['Kentucky', 'California', 'Florida', 'North Carolina',\n",
       "       'Washington', 'Texas', 'Wisconsin', 'Utah', 'Nebraska',\n",
       "       'Pennsylvania', 'Illinois', 'Minnesota', 'Michigan', 'Delaware',\n",
       "       'Indiana', 'New York', 'Arizona', 'Virginia', 'Tennessee',\n",
       "       'Alabama', 'South Carolina', 'Oregon', 'Colorado', 'Iowa', 'Ohio',\n",
       "       'Missouri', 'Oklahoma', 'New Mexico', 'Louisiana', 'Connecticut',\n",
       "       'New Jersey', 'Massachusetts', 'Georgia', 'Nevada', 'Rhode Island',\n",
       "       'Mississippi', 'Arkansas', 'Montana', 'New Hampshire', 'Maryland',\n",
       "       'District of Columbia', 'Kansas', 'Vermont', 'Maine',\n",
       "       'South Dakota', 'Idaho', 'North Dakota', 'Wyoming',\n",
       "       'West Virginia'], dtype=object)"
      ]
     },
     "execution_count": 11,
     "metadata": {},
     "output_type": "execute_result"
    }
   ],
   "source": [
    "df['State'].unique()"
   ]
  },
  {
   "cell_type": "code",
   "execution_count": 12,
   "metadata": {
    "cell_id": "c8e19ff143874ff5b28a2222a637644b",
    "deepnote_app_coordinates": {
     "h": 5,
     "w": 12,
     "x": 0,
     "y": 103
    },
    "deepnote_cell_type": "code",
    "deepnote_to_be_reexecuted": false,
    "execution_millis": 17,
    "execution_start": 1674709268155,
    "source_hash": "1bfd082"
   },
   "outputs": [
    {
     "data": {
      "text/plain": [
       "49"
      ]
     },
     "execution_count": 12,
     "metadata": {},
     "output_type": "execute_result"
    }
   ],
   "source": [
    "df['State'].nunique()"
   ]
  },
  {
   "cell_type": "code",
   "execution_count": 13,
   "metadata": {
    "cell_id": "433bbc9d5bb54d148a0a2491401742eb",
    "deepnote_app_coordinates": {
     "h": 5,
     "w": 12,
     "x": 0,
     "y": 109
    },
    "deepnote_cell_type": "code",
    "deepnote_to_be_reexecuted": false,
    "execution_millis": 7,
    "execution_start": 1674709268168,
    "source_hash": "91ceb546"
   },
   "outputs": [
    {
     "data": {
      "text/plain": [
       "array(['United States'], dtype=object)"
      ]
     },
     "execution_count": 13,
     "metadata": {},
     "output_type": "execute_result"
    }
   ],
   "source": [
    "df['Country'].unique()"
   ]
  },
  {
   "cell_type": "code",
   "execution_count": 14,
   "metadata": {
    "cell_id": "9ed94f551d2d416fab3a7aca26fde962",
    "deepnote_app_coordinates": {
     "h": 5,
     "w": 12,
     "x": 0,
     "y": 115
    },
    "deepnote_cell_type": "code",
    "deepnote_to_be_reexecuted": false,
    "execution_millis": 5,
    "execution_start": 1674709268174,
    "source_hash": "7fc8513"
   },
   "outputs": [],
   "source": [
    "df.drop('Country',axis=1,inplace=True)"
   ]
  },
  {
   "cell_type": "markdown",
   "metadata": {
    "cell_id": "5d04d2c030454479838b31e55da26eb9",
    "deepnote_app_coordinates": {
     "h": 5,
     "w": 12,
     "x": 0,
     "y": 121
    },
    "deepnote_cell_type": "markdown"
   },
   "source": [
    "## Filtering"
   ]
  },
  {
   "cell_type": "code",
   "execution_count": 15,
   "metadata": {
    "cell_id": "6d02b12b31074b29b2537fa0bc8ade89",
    "deepnote_app_coordinates": {
     "h": 5,
     "w": 12,
     "x": 0,
     "y": 127
    },
    "deepnote_cell_type": "code",
    "deepnote_to_be_reexecuted": false,
    "execution_millis": 34,
    "execution_start": 1674709268242,
    "source_hash": "4dd7b572"
   },
   "outputs": [
    {
     "data": {
      "application/vnd.deepnote.dataframe.v3+json": {
       "column_count": 3,
       "columns": [
        {
         "dtype": "object",
         "name": "Ship Mode",
         "stats": {
          "categories": [
           {
            "count": 7,
            "name": "Standard Class"
           },
           {
            "count": 3,
            "name": "Second Class"
           }
          ],
          "nan_count": 0,
          "unique_count": 2
         }
        },
        {
         "dtype": "object",
         "name": "State",
         "stats": {
          "categories": [
           {
            "count": 6,
            "name": "California"
           },
           {
            "count": 2,
            "name": "Kentucky"
           },
           {
            "count": 2,
            "name": "Florida"
           }
          ],
          "nan_count": 0,
          "unique_count": 3
         }
        },
        {
         "dtype": "float64",
         "name": "Sales",
         "stats": {
          "histogram": [
           {
            "bin_end": 102.30975000000001,
            "bin_start": 7.28,
            "count": 5
           },
           {
            "bin_end": 197.33950000000002,
            "bin_start": 102.30975000000001,
            "count": 1
           },
           {
            "bin_end": 292.36924999999997,
            "bin_start": 197.33950000000002,
            "count": 1
           },
           {
            "bin_end": 387.399,
            "bin_start": 292.36924999999997,
            "count": 0
           },
           {
            "bin_end": 482.42875000000004,
            "bin_start": 387.399,
            "count": 0
           },
           {
            "bin_end": 577.4585,
            "bin_start": 482.42875000000004,
            "count": 0
           },
           {
            "bin_end": 672.48825,
            "bin_start": 577.4585,
            "count": 0
           },
           {
            "bin_end": 767.518,
            "bin_start": 672.48825,
            "count": 1
           },
           {
            "bin_end": 862.5477500000001,
            "bin_start": 767.518,
            "count": 0
           },
           {
            "bin_end": 957.5775,
            "bin_start": 862.5477500000001,
            "count": 2
           }
          ],
          "max": "957.5775",
          "min": "7.28",
          "nan_count": 0,
          "unique_count": 10
         }
        },
        {
         "dtype": "int64",
         "name": "_deepnote_index_column"
        }
       ],
       "row_count": 10,
       "rows": [
        {
         "Sales": "261.96",
         "Ship Mode": "Second Class",
         "State": "Kentucky",
         "_deepnote_index_column": "0"
        },
        {
         "Sales": "731.94",
         "Ship Mode": "Second Class",
         "State": "Kentucky",
         "_deepnote_index_column": "1"
        },
        {
         "Sales": "14.62",
         "Ship Mode": "Second Class",
         "State": "California",
         "_deepnote_index_column": "2"
        },
        {
         "Sales": "957.5775",
         "Ship Mode": "Standard Class",
         "State": "Florida",
         "_deepnote_index_column": "3"
        },
        {
         "Sales": "22.368",
         "Ship Mode": "Standard Class",
         "State": "Florida",
         "_deepnote_index_column": "4"
        },
        {
         "Sales": "48.86",
         "Ship Mode": "Standard Class",
         "State": "California",
         "_deepnote_index_column": "5"
        },
        {
         "Sales": "7.28",
         "Ship Mode": "Standard Class",
         "State": "California",
         "_deepnote_index_column": "6"
        },
        {
         "Sales": "907.152",
         "Ship Mode": "Standard Class",
         "State": "California",
         "_deepnote_index_column": "7"
        },
        {
         "Sales": "18.504",
         "Ship Mode": "Standard Class",
         "State": "California",
         "_deepnote_index_column": "8"
        },
        {
         "Sales": "114.9",
         "Ship Mode": "Standard Class",
         "State": "California",
         "_deepnote_index_column": "9"
        }
       ]
      },
      "text/html": [
       "<div>\n",
       "<style scoped>\n",
       "    .dataframe tbody tr th:only-of-type {\n",
       "        vertical-align: middle;\n",
       "    }\n",
       "\n",
       "    .dataframe tbody tr th {\n",
       "        vertical-align: top;\n",
       "    }\n",
       "\n",
       "    .dataframe thead th {\n",
       "        text-align: right;\n",
       "    }\n",
       "</style>\n",
       "<table border=\"1\" class=\"dataframe\">\n",
       "  <thead>\n",
       "    <tr style=\"text-align: right;\">\n",
       "      <th></th>\n",
       "      <th>Ship Mode</th>\n",
       "      <th>State</th>\n",
       "      <th>Sales</th>\n",
       "    </tr>\n",
       "  </thead>\n",
       "  <tbody>\n",
       "    <tr>\n",
       "      <th>0</th>\n",
       "      <td>Second Class</td>\n",
       "      <td>Kentucky</td>\n",
       "      <td>261.9600</td>\n",
       "    </tr>\n",
       "    <tr>\n",
       "      <th>1</th>\n",
       "      <td>Second Class</td>\n",
       "      <td>Kentucky</td>\n",
       "      <td>731.9400</td>\n",
       "    </tr>\n",
       "    <tr>\n",
       "      <th>2</th>\n",
       "      <td>Second Class</td>\n",
       "      <td>California</td>\n",
       "      <td>14.6200</td>\n",
       "    </tr>\n",
       "    <tr>\n",
       "      <th>3</th>\n",
       "      <td>Standard Class</td>\n",
       "      <td>Florida</td>\n",
       "      <td>957.5775</td>\n",
       "    </tr>\n",
       "    <tr>\n",
       "      <th>4</th>\n",
       "      <td>Standard Class</td>\n",
       "      <td>Florida</td>\n",
       "      <td>22.3680</td>\n",
       "    </tr>\n",
       "    <tr>\n",
       "      <th>5</th>\n",
       "      <td>Standard Class</td>\n",
       "      <td>California</td>\n",
       "      <td>48.8600</td>\n",
       "    </tr>\n",
       "    <tr>\n",
       "      <th>6</th>\n",
       "      <td>Standard Class</td>\n",
       "      <td>California</td>\n",
       "      <td>7.2800</td>\n",
       "    </tr>\n",
       "    <tr>\n",
       "      <th>7</th>\n",
       "      <td>Standard Class</td>\n",
       "      <td>California</td>\n",
       "      <td>907.1520</td>\n",
       "    </tr>\n",
       "    <tr>\n",
       "      <th>8</th>\n",
       "      <td>Standard Class</td>\n",
       "      <td>California</td>\n",
       "      <td>18.5040</td>\n",
       "    </tr>\n",
       "    <tr>\n",
       "      <th>9</th>\n",
       "      <td>Standard Class</td>\n",
       "      <td>California</td>\n",
       "      <td>114.9000</td>\n",
       "    </tr>\n",
       "  </tbody>\n",
       "</table>\n",
       "</div>"
      ],
      "text/plain": [
       "        Ship Mode       State     Sales\n",
       "0    Second Class    Kentucky  261.9600\n",
       "1    Second Class    Kentucky  731.9400\n",
       "2    Second Class  California   14.6200\n",
       "3  Standard Class     Florida  957.5775\n",
       "4  Standard Class     Florida   22.3680\n",
       "5  Standard Class  California   48.8600\n",
       "6  Standard Class  California    7.2800\n",
       "7  Standard Class  California  907.1520\n",
       "8  Standard Class  California   18.5040\n",
       "9  Standard Class  California  114.9000"
      ]
     },
     "execution_count": 15,
     "metadata": {},
     "output_type": "execute_result"
    }
   ],
   "source": [
    "df_subset = df.loc[[i for i in range (10)],['Ship Mode','State','Sales']]\n",
    "df_subset"
   ]
  },
  {
   "cell_type": "code",
   "execution_count": 16,
   "metadata": {
    "cell_id": "70f3a1eed4584577a4220e42c631ec46",
    "deepnote_app_coordinates": {
     "h": 5,
     "w": 12,
     "x": 0,
     "y": 133
    },
    "deepnote_cell_type": "code",
    "deepnote_to_be_reexecuted": false,
    "execution_millis": 12,
    "execution_start": 1674709268272,
    "source_hash": "8a477550"
   },
   "outputs": [
    {
     "data": {
      "text/plain": [
       "0     True\n",
       "1     True\n",
       "2    False\n",
       "3     True\n",
       "4    False\n",
       "5    False\n",
       "6    False\n",
       "7     True\n",
       "8    False\n",
       "9     True\n",
       "Name: Sales, dtype: bool"
      ]
     },
     "execution_count": 16,
     "metadata": {},
     "output_type": "execute_result"
    }
   ],
   "source": [
    "df_subset['Sales']>100"
   ]
  },
  {
   "cell_type": "code",
   "execution_count": 17,
   "metadata": {
    "cell_id": "02bb78e891824ed48c27099ac931439e",
    "deepnote_app_coordinates": {
     "h": 5,
     "w": 12,
     "x": 0,
     "y": 139
    },
    "deepnote_cell_type": "code",
    "deepnote_to_be_reexecuted": false,
    "execution_millis": 0,
    "execution_start": 1674709268273,
    "source_hash": "9adf10d2"
   },
   "outputs": [],
   "source": [
    "df_subset_significantsale = df_subset[df_subset['Sales']>100]"
   ]
  },
  {
   "cell_type": "code",
   "execution_count": 18,
   "metadata": {
    "cell_id": "7174e1438ee946a694d1fd67137743e6",
    "deepnote_app_coordinates": {
     "h": 5,
     "w": 12,
     "x": 0,
     "y": 145
    },
    "deepnote_cell_type": "code",
    "deepnote_to_be_reexecuted": false,
    "execution_millis": 13,
    "execution_start": 1674709268322,
    "source_hash": "9c3aa5e8"
   },
   "outputs": [
    {
     "data": {
      "application/vnd.deepnote.dataframe.v3+json": {
       "column_count": 3,
       "columns": [
        {
         "dtype": "object",
         "name": "Ship Mode",
         "stats": {
          "categories": [
           {
            "count": 2,
            "name": "Second Class"
           },
           {
            "count": 1,
            "name": "Standard Class"
           }
          ],
          "nan_count": 0,
          "unique_count": 2
         }
        },
        {
         "dtype": "object",
         "name": "State",
         "stats": {
          "categories": [
           {
            "count": 2,
            "name": "Kentucky"
           },
           {
            "count": 1,
            "name": "Florida"
           }
          ],
          "nan_count": 0,
          "unique_count": 2
         }
        },
        {
         "dtype": "float64",
         "name": "Sales",
         "stats": {
          "histogram": [
           {
            "bin_end": 331.52175,
            "bin_start": 261.96,
            "count": 1
           },
           {
            "bin_end": 401.08349999999996,
            "bin_start": 331.52175,
            "count": 0
           },
           {
            "bin_end": 470.64525,
            "bin_start": 401.08349999999996,
            "count": 0
           },
           {
            "bin_end": 540.207,
            "bin_start": 470.64525,
            "count": 0
           },
           {
            "bin_end": 609.76875,
            "bin_start": 540.207,
            "count": 0
           },
           {
            "bin_end": 679.3305,
            "bin_start": 609.76875,
            "count": 0
           },
           {
            "bin_end": 748.89225,
            "bin_start": 679.3305,
            "count": 1
           },
           {
            "bin_end": 818.454,
            "bin_start": 748.89225,
            "count": 0
           },
           {
            "bin_end": 888.01575,
            "bin_start": 818.454,
            "count": 0
           },
           {
            "bin_end": 957.5775,
            "bin_start": 888.01575,
            "count": 1
           }
          ],
          "max": "957.5775",
          "min": "261.96",
          "nan_count": 0,
          "unique_count": 3
         }
        },
        {
         "dtype": "int64",
         "name": "_deepnote_index_column"
        }
       ],
       "row_count": 3,
       "rows": [
        {
         "Sales": "261.96",
         "Ship Mode": "Second Class",
         "State": "Kentucky",
         "_deepnote_index_column": "0"
        },
        {
         "Sales": "731.94",
         "Ship Mode": "Second Class",
         "State": "Kentucky",
         "_deepnote_index_column": "1"
        },
        {
         "Sales": "957.5775",
         "Ship Mode": "Standard Class",
         "State": "Florida",
         "_deepnote_index_column": "3"
        }
       ]
      },
      "text/html": [
       "<div>\n",
       "<style scoped>\n",
       "    .dataframe tbody tr th:only-of-type {\n",
       "        vertical-align: middle;\n",
       "    }\n",
       "\n",
       "    .dataframe tbody tr th {\n",
       "        vertical-align: top;\n",
       "    }\n",
       "\n",
       "    .dataframe thead th {\n",
       "        text-align: right;\n",
       "    }\n",
       "</style>\n",
       "<table border=\"1\" class=\"dataframe\">\n",
       "  <thead>\n",
       "    <tr style=\"text-align: right;\">\n",
       "      <th></th>\n",
       "      <th>Ship Mode</th>\n",
       "      <th>State</th>\n",
       "      <th>Sales</th>\n",
       "    </tr>\n",
       "  </thead>\n",
       "  <tbody>\n",
       "    <tr>\n",
       "      <th>0</th>\n",
       "      <td>Second Class</td>\n",
       "      <td>Kentucky</td>\n",
       "      <td>261.9600</td>\n",
       "    </tr>\n",
       "    <tr>\n",
       "      <th>1</th>\n",
       "      <td>Second Class</td>\n",
       "      <td>Kentucky</td>\n",
       "      <td>731.9400</td>\n",
       "    </tr>\n",
       "    <tr>\n",
       "      <th>3</th>\n",
       "      <td>Standard Class</td>\n",
       "      <td>Florida</td>\n",
       "      <td>957.5775</td>\n",
       "    </tr>\n",
       "  </tbody>\n",
       "</table>\n",
       "</div>"
      ],
      "text/plain": [
       "        Ship Mode     State     Sales\n",
       "0    Second Class  Kentucky  261.9600\n",
       "1    Second Class  Kentucky  731.9400\n",
       "3  Standard Class   Florida  957.5775"
      ]
     },
     "execution_count": 18,
     "metadata": {},
     "output_type": "execute_result"
    }
   ],
   "source": [
    "df_subset[(df_subset['State']!='California') & (df_subset['Sales']>100)]"
   ]
  },
  {
   "cell_type": "markdown",
   "metadata": {
    "cell_id": "30bd4e20c6a9492caaf87e7974675aa0",
    "deepnote_app_coordinates": {
     "h": 5,
     "w": 12,
     "x": 0,
     "y": 151
    },
    "deepnote_cell_type": "markdown"
   },
   "source": [
    "## Aggregation"
   ]
  },
  {
   "cell_type": "code",
   "execution_count": 19,
   "metadata": {
    "cell_id": "4f934a9084b74b9e91bb494b069ea1c2",
    "deepnote_app_coordinates": {
     "h": 5,
     "w": 12,
     "x": 0,
     "y": 157
    },
    "deepnote_cell_type": "code",
    "deepnote_to_be_reexecuted": false,
    "execution_millis": 19,
    "execution_start": 1674709268344,
    "source_hash": "4dd7b572"
   },
   "outputs": [
    {
     "data": {
      "application/vnd.deepnote.dataframe.v3+json": {
       "column_count": 3,
       "columns": [
        {
         "dtype": "object",
         "name": "Ship Mode",
         "stats": {
          "categories": [
           {
            "count": 7,
            "name": "Standard Class"
           },
           {
            "count": 3,
            "name": "Second Class"
           }
          ],
          "nan_count": 0,
          "unique_count": 2
         }
        },
        {
         "dtype": "object",
         "name": "State",
         "stats": {
          "categories": [
           {
            "count": 6,
            "name": "California"
           },
           {
            "count": 2,
            "name": "Kentucky"
           },
           {
            "count": 2,
            "name": "Florida"
           }
          ],
          "nan_count": 0,
          "unique_count": 3
         }
        },
        {
         "dtype": "float64",
         "name": "Sales",
         "stats": {
          "histogram": [
           {
            "bin_end": 102.30975000000001,
            "bin_start": 7.28,
            "count": 5
           },
           {
            "bin_end": 197.33950000000002,
            "bin_start": 102.30975000000001,
            "count": 1
           },
           {
            "bin_end": 292.36924999999997,
            "bin_start": 197.33950000000002,
            "count": 1
           },
           {
            "bin_end": 387.399,
            "bin_start": 292.36924999999997,
            "count": 0
           },
           {
            "bin_end": 482.42875000000004,
            "bin_start": 387.399,
            "count": 0
           },
           {
            "bin_end": 577.4585,
            "bin_start": 482.42875000000004,
            "count": 0
           },
           {
            "bin_end": 672.48825,
            "bin_start": 577.4585,
            "count": 0
           },
           {
            "bin_end": 767.518,
            "bin_start": 672.48825,
            "count": 1
           },
           {
            "bin_end": 862.5477500000001,
            "bin_start": 767.518,
            "count": 0
           },
           {
            "bin_end": 957.5775,
            "bin_start": 862.5477500000001,
            "count": 2
           }
          ],
          "max": "957.5775",
          "min": "7.28",
          "nan_count": 0,
          "unique_count": 10
         }
        },
        {
         "dtype": "int64",
         "name": "_deepnote_index_column"
        }
       ],
       "row_count": 10,
       "rows": [
        {
         "Sales": "261.96",
         "Ship Mode": "Second Class",
         "State": "Kentucky",
         "_deepnote_index_column": "0"
        },
        {
         "Sales": "731.94",
         "Ship Mode": "Second Class",
         "State": "Kentucky",
         "_deepnote_index_column": "1"
        },
        {
         "Sales": "14.62",
         "Ship Mode": "Second Class",
         "State": "California",
         "_deepnote_index_column": "2"
        },
        {
         "Sales": "957.5775",
         "Ship Mode": "Standard Class",
         "State": "Florida",
         "_deepnote_index_column": "3"
        },
        {
         "Sales": "22.368",
         "Ship Mode": "Standard Class",
         "State": "Florida",
         "_deepnote_index_column": "4"
        },
        {
         "Sales": "48.86",
         "Ship Mode": "Standard Class",
         "State": "California",
         "_deepnote_index_column": "5"
        },
        {
         "Sales": "7.28",
         "Ship Mode": "Standard Class",
         "State": "California",
         "_deepnote_index_column": "6"
        },
        {
         "Sales": "907.152",
         "Ship Mode": "Standard Class",
         "State": "California",
         "_deepnote_index_column": "7"
        },
        {
         "Sales": "18.504",
         "Ship Mode": "Standard Class",
         "State": "California",
         "_deepnote_index_column": "8"
        },
        {
         "Sales": "114.9",
         "Ship Mode": "Standard Class",
         "State": "California",
         "_deepnote_index_column": "9"
        }
       ]
      },
      "text/html": [
       "<div>\n",
       "<style scoped>\n",
       "    .dataframe tbody tr th:only-of-type {\n",
       "        vertical-align: middle;\n",
       "    }\n",
       "\n",
       "    .dataframe tbody tr th {\n",
       "        vertical-align: top;\n",
       "    }\n",
       "\n",
       "    .dataframe thead th {\n",
       "        text-align: right;\n",
       "    }\n",
       "</style>\n",
       "<table border=\"1\" class=\"dataframe\">\n",
       "  <thead>\n",
       "    <tr style=\"text-align: right;\">\n",
       "      <th></th>\n",
       "      <th>Ship Mode</th>\n",
       "      <th>State</th>\n",
       "      <th>Sales</th>\n",
       "    </tr>\n",
       "  </thead>\n",
       "  <tbody>\n",
       "    <tr>\n",
       "      <th>0</th>\n",
       "      <td>Second Class</td>\n",
       "      <td>Kentucky</td>\n",
       "      <td>261.9600</td>\n",
       "    </tr>\n",
       "    <tr>\n",
       "      <th>1</th>\n",
       "      <td>Second Class</td>\n",
       "      <td>Kentucky</td>\n",
       "      <td>731.9400</td>\n",
       "    </tr>\n",
       "    <tr>\n",
       "      <th>2</th>\n",
       "      <td>Second Class</td>\n",
       "      <td>California</td>\n",
       "      <td>14.6200</td>\n",
       "    </tr>\n",
       "    <tr>\n",
       "      <th>3</th>\n",
       "      <td>Standard Class</td>\n",
       "      <td>Florida</td>\n",
       "      <td>957.5775</td>\n",
       "    </tr>\n",
       "    <tr>\n",
       "      <th>4</th>\n",
       "      <td>Standard Class</td>\n",
       "      <td>Florida</td>\n",
       "      <td>22.3680</td>\n",
       "    </tr>\n",
       "    <tr>\n",
       "      <th>5</th>\n",
       "      <td>Standard Class</td>\n",
       "      <td>California</td>\n",
       "      <td>48.8600</td>\n",
       "    </tr>\n",
       "    <tr>\n",
       "      <th>6</th>\n",
       "      <td>Standard Class</td>\n",
       "      <td>California</td>\n",
       "      <td>7.2800</td>\n",
       "    </tr>\n",
       "    <tr>\n",
       "      <th>7</th>\n",
       "      <td>Standard Class</td>\n",
       "      <td>California</td>\n",
       "      <td>907.1520</td>\n",
       "    </tr>\n",
       "    <tr>\n",
       "      <th>8</th>\n",
       "      <td>Standard Class</td>\n",
       "      <td>California</td>\n",
       "      <td>18.5040</td>\n",
       "    </tr>\n",
       "    <tr>\n",
       "      <th>9</th>\n",
       "      <td>Standard Class</td>\n",
       "      <td>California</td>\n",
       "      <td>114.9000</td>\n",
       "    </tr>\n",
       "  </tbody>\n",
       "</table>\n",
       "</div>"
      ],
      "text/plain": [
       "        Ship Mode       State     Sales\n",
       "0    Second Class    Kentucky  261.9600\n",
       "1    Second Class    Kentucky  731.9400\n",
       "2    Second Class  California   14.6200\n",
       "3  Standard Class     Florida  957.5775\n",
       "4  Standard Class     Florida   22.3680\n",
       "5  Standard Class  California   48.8600\n",
       "6  Standard Class  California    7.2800\n",
       "7  Standard Class  California  907.1520\n",
       "8  Standard Class  California   18.5040\n",
       "9  Standard Class  California  114.9000"
      ]
     },
     "execution_count": 19,
     "metadata": {},
     "output_type": "execute_result"
    }
   ],
   "source": [
    "df_subset = df.loc[[i for i in range (10)],['Ship Mode','State','Sales']]\n",
    "df_subset"
   ]
  },
  {
   "cell_type": "code",
   "execution_count": 20,
   "metadata": {
    "cell_id": "a3f37b95a2564abaa9f028e5abb1706c",
    "deepnote_app_coordinates": {
     "h": 5,
     "w": 12,
     "x": 0,
     "y": 163
    },
    "deepnote_cell_type": "code",
    "deepnote_to_be_reexecuted": false,
    "execution_millis": 1,
    "execution_start": 1674709268410,
    "source_hash": "a6de4503"
   },
   "outputs": [],
   "source": [
    "byState = df_subset.groupby('State')"
   ]
  },
  {
   "cell_type": "code",
   "execution_count": 21,
   "metadata": {
    "cell_id": "5e16c64575a94975b9a98ef3f448f455",
    "deepnote_app_coordinates": {
     "h": 5,
     "w": 12,
     "x": 0,
     "y": 169
    },
    "deepnote_cell_type": "code",
    "deepnote_to_be_reexecuted": false,
    "execution_millis": 2,
    "execution_start": 1674709268411,
    "source_hash": "c7dda76e"
   },
   "outputs": [
    {
     "data": {
      "text/plain": [
       "<pandas.core.groupby.generic.DataFrameGroupBy object at 0x7f5fbef988e0>"
      ]
     },
     "execution_count": 21,
     "metadata": {},
     "output_type": "execute_result"
    }
   ],
   "source": [
    "byState"
   ]
  },
  {
   "cell_type": "code",
   "execution_count": 22,
   "metadata": {
    "cell_id": "e8fca1e69cf042a69ccb417dcc656e76",
    "deepnote_app_coordinates": {
     "h": 5,
     "w": 12,
     "x": 0,
     "y": 175
    },
    "deepnote_cell_type": "code",
    "deepnote_to_be_reexecuted": false,
    "execution_millis": 47,
    "execution_start": 1674709268411,
    "source_hash": "b054b8db"
   },
   "outputs": [
    {
     "name": "stdout",
     "output_type": "stream",
     "text": [
      "\n",
      "Grouping by 'State' column and listing mean sales\n",
      "--------------------------------------------------\n",
      "                 Sales\n",
      "State                 \n",
      "California  185.219333\n",
      "Florida     489.972750\n",
      "Kentucky    496.950000\n"
     ]
    }
   ],
   "source": [
    "print(\"\\nGrouping by 'State' column and listing mean sales\\n\",'-'*50, sep='')\n",
    "print(byState.mean())"
   ]
  },
  {
   "cell_type": "code",
   "execution_count": 23,
   "metadata": {
    "cell_id": "f14eee4691a74704b3d52dcdd171398b",
    "deepnote_app_coordinates": {
     "h": 5,
     "w": 12,
     "x": 0,
     "y": 181
    },
    "deepnote_cell_type": "code",
    "deepnote_to_be_reexecuted": false,
    "execution_millis": 3,
    "execution_start": 1674709268455,
    "source_hash": "83b8934b"
   },
   "outputs": [
    {
     "name": "stdout",
     "output_type": "stream",
     "text": [
      "\n",
      "Grouping by 'State' column and listing total sum of sales\n",
      "--------------------------------------------------\n",
      "                Sales\n",
      "State                \n",
      "California  1111.3160\n",
      "Florida      979.9455\n",
      "Kentucky     993.9000\n"
     ]
    }
   ],
   "source": [
    "print(\"\\nGrouping by 'State' column and listing total sum of sales\\n\",'-'*50, sep='')\n",
    "print(byState.sum())"
   ]
  },
  {
   "cell_type": "code",
   "execution_count": 24,
   "metadata": {
    "cell_id": "12de3deb6a294fff9d45198807f0b485",
    "deepnote_app_coordinates": {
     "h": 5,
     "w": 12,
     "x": 0,
     "y": 187
    },
    "deepnote_cell_type": "code",
    "deepnote_to_be_reexecuted": false,
    "execution_millis": 44,
    "execution_start": 1674709268455,
    "source_hash": "c74c9da2"
   },
   "outputs": [
    {
     "name": "stdout",
     "output_type": "stream",
     "text": [
      "           Sales                                                              \n",
      "           count        mean         std   min     25%     50%    75%      max\n",
      "California   6.0  185.219333  355.889307  7.28  15.591  33.682  98.39  907.152\n"
     ]
    }
   ],
   "source": [
    "print(pd.DataFrame(df_subset.groupby('State').describe().loc['California']).transpose())"
   ]
  },
  {
   "cell_type": "code",
   "execution_count": 25,
   "metadata": {
    "cell_id": "5b0617d83e0e48179fd6ab3311bfd187",
    "deepnote_app_coordinates": {
     "h": 5,
     "w": 12,
     "x": 0,
     "y": 193
    },
    "deepnote_cell_type": "code",
    "deepnote_to_be_reexecuted": false,
    "execution_millis": 82,
    "execution_start": 1674709268498,
    "source_hash": "2cc9c152"
   },
   "outputs": [
    {
     "data": {
      "application/vnd.deepnote.dataframe.v3+json": {
       "column_count": 8,
       "columns": [
        {
         "dtype": "float64",
         "name": "Sales count",
         "stats": {
          "histogram": [
           {
            "bin_end": 3.4,
            "bin_start": 3,
            "count": 1
           },
           {
            "bin_end": 3.8,
            "bin_start": 3.4,
            "count": 0
           },
           {
            "bin_end": 4.2,
            "bin_start": 3.8,
            "count": 0
           },
           {
            "bin_end": 4.6,
            "bin_start": 4.2,
            "count": 0
           },
           {
            "bin_end": 5,
            "bin_start": 4.6,
            "count": 0
           },
           {
            "bin_end": 5.4,
            "bin_start": 5,
            "count": 0
           },
           {
            "bin_end": 5.800000000000001,
            "bin_start": 5.4,
            "count": 0
           },
           {
            "bin_end": 6.2,
            "bin_start": 5.800000000000001,
            "count": 0
           },
           {
            "bin_end": 6.6,
            "bin_start": 6.2,
            "count": 0
           },
           {
            "bin_end": 7,
            "bin_start": 6.6,
            "count": 1
           }
          ],
          "max": "7.0",
          "min": "3.0",
          "nan_count": 0,
          "unique_count": 2
         }
        },
        {
         "dtype": "float64",
         "name": "Sales mean",
         "stats": {
          "histogram": [
           {
            "bin_end": 300.6140976190476,
            "bin_start": 296.6630714285714,
            "count": 1
           },
           {
            "bin_end": 304.5651238095238,
            "bin_start": 300.6140976190476,
            "count": 0
           },
           {
            "bin_end": 308.51615,
            "bin_start": 304.5651238095238,
            "count": 0
           },
           {
            "bin_end": 312.4671761904762,
            "bin_start": 308.51615,
            "count": 0
           },
           {
            "bin_end": 316.4182023809524,
            "bin_start": 312.4671761904762,
            "count": 0
           },
           {
            "bin_end": 320.36922857142855,
            "bin_start": 316.4182023809524,
            "count": 0
           },
           {
            "bin_end": 324.3202547619048,
            "bin_start": 320.36922857142855,
            "count": 0
           },
           {
            "bin_end": 328.27128095238095,
            "bin_start": 324.3202547619048,
            "count": 0
           },
           {
            "bin_end": 332.2223071428572,
            "bin_start": 328.27128095238095,
            "count": 0
           },
           {
            "bin_end": 336.17333333333335,
            "bin_start": 332.2223071428572,
            "count": 1
           }
          ],
          "max": "336.17333333333335",
          "min": "296.6630714285714",
          "nan_count": 0,
          "unique_count": 2
         }
        },
        {
         "dtype": "float64",
         "name": "Sales std",
         "stats": {
          "histogram": [
           {
            "bin_end": 371.53048803404147,
            "bin_start": 364.37303650700244,
            "count": 1
           },
           {
            "bin_end": 378.6879395610805,
            "bin_start": 371.53048803404147,
            "count": 0
           },
           {
            "bin_end": 385.84539108811947,
            "bin_start": 378.6879395610805,
            "count": 0
           },
           {
            "bin_end": 393.0028426151585,
            "bin_start": 385.84539108811947,
            "count": 0
           },
           {
            "bin_end": 400.16029414219753,
            "bin_start": 393.0028426151585,
            "count": 0
           },
           {
            "bin_end": 407.31774566923656,
            "bin_start": 400.16029414219753,
            "count": 0
           },
           {
            "bin_end": 414.4751971962756,
            "bin_start": 407.31774566923656,
            "count": 0
           },
           {
            "bin_end": 421.63264872331456,
            "bin_start": 414.4751971962756,
            "count": 0
           },
           {
            "bin_end": 428.7901002503536,
            "bin_start": 421.63264872331456,
            "count": 0
           },
           {
            "bin_end": 435.9475517773926,
            "bin_start": 428.7901002503536,
            "count": 1
           }
          ],
          "max": "435.9475517773926",
          "min": "364.37303650700244",
          "nan_count": 0,
          "unique_count": 2
         }
        },
        {
         "dtype": "float64",
         "name": "Sales min",
         "stats": {
          "histogram": [
           {
            "bin_end": 8.014,
            "bin_start": 7.28,
            "count": 1
           },
           {
            "bin_end": 8.748,
            "bin_start": 8.014,
            "count": 0
           },
           {
            "bin_end": 9.482,
            "bin_start": 8.748,
            "count": 0
           },
           {
            "bin_end": 10.216,
            "bin_start": 9.482,
            "count": 0
           },
           {
            "bin_end": 10.95,
            "bin_start": 10.216,
            "count": 0
           },
           {
            "bin_end": 11.684,
            "bin_start": 10.95,
            "count": 0
           },
           {
            "bin_end": 12.418,
            "bin_start": 11.684,
            "count": 0
           },
           {
            "bin_end": 13.152,
            "bin_start": 12.418,
            "count": 0
           },
           {
            "bin_end": 13.886,
            "bin_start": 13.152,
            "count": 0
           },
           {
            "bin_end": 14.62,
            "bin_start": 13.886,
            "count": 1
           }
          ],
          "max": "14.62",
          "min": "7.28",
          "nan_count": 0,
          "unique_count": 2
         }
        },
        {
         "dtype": "float64",
         "name": "Sales 25%",
         "stats": {
          "histogram": [
           {
            "bin_end": 32.2214,
            "bin_start": 20.436,
            "count": 1
           },
           {
            "bin_end": 44.0068,
            "bin_start": 32.2214,
            "count": 0
           },
           {
            "bin_end": 55.7922,
            "bin_start": 44.0068,
            "count": 0
           },
           {
            "bin_end": 67.57759999999999,
            "bin_start": 55.7922,
            "count": 0
           },
           {
            "bin_end": 79.363,
            "bin_start": 67.57759999999999,
            "count": 0
           },
           {
            "bin_end": 91.14840000000001,
            "bin_start": 79.363,
            "count": 0
           },
           {
            "bin_end": 102.93379999999999,
            "bin_start": 91.14840000000001,
            "count": 0
           },
           {
            "bin_end": 114.7192,
            "bin_start": 102.93379999999999,
            "count": 0
           },
           {
            "bin_end": 126.50459999999998,
            "bin_start": 114.7192,
            "count": 0
           },
           {
            "bin_end": 138.29,
            "bin_start": 126.50459999999998,
            "count": 1
           }
          ],
          "max": "138.29",
          "min": "20.436",
          "nan_count": 0,
          "unique_count": 2
         }
        },
        {
         "dtype": "float64",
         "name": "Sales 50%",
         "stats": {
          "histogram": [
           {
            "bin_end": 70.16999999999999,
            "bin_start": 48.86,
            "count": 1
           },
           {
            "bin_end": 91.47999999999999,
            "bin_start": 70.16999999999999,
            "count": 0
           },
           {
            "bin_end": 112.78999999999999,
            "bin_start": 91.47999999999999,
            "count": 0
           },
           {
            "bin_end": 134.09999999999997,
            "bin_start": 112.78999999999999,
            "count": 0
           },
           {
            "bin_end": 155.40999999999997,
            "bin_start": 134.09999999999997,
            "count": 0
           },
           {
            "bin_end": 176.71999999999997,
            "bin_start": 155.40999999999997,
            "count": 0
           },
           {
            "bin_end": 198.02999999999997,
            "bin_start": 176.71999999999997,
            "count": 0
           },
           {
            "bin_end": 219.33999999999997,
            "bin_start": 198.02999999999997,
            "count": 0
           },
           {
            "bin_end": 240.64999999999998,
            "bin_start": 219.33999999999997,
            "count": 0
           },
           {
            "bin_end": 261.96,
            "bin_start": 240.64999999999998,
            "count": 1
           }
          ],
          "max": "261.96",
          "min": "48.86",
          "nan_count": 0,
          "unique_count": 2
         }
        },
        {
         "dtype": "float64",
         "name": "Sales 75%",
         "stats": {
          "histogram": [
           {
            "bin_end": 498.35760000000005,
            "bin_start": 496.95000000000005,
            "count": 1
           },
           {
            "bin_end": 499.76520000000005,
            "bin_start": 498.35760000000005,
            "count": 0
           },
           {
            "bin_end": 501.17280000000005,
            "bin_start": 499.76520000000005,
            "count": 0
           },
           {
            "bin_end": 502.58040000000005,
            "bin_start": 501.17280000000005,
            "count": 0
           },
           {
            "bin_end": 503.98800000000006,
            "bin_start": 502.58040000000005,
            "count": 0
           },
           {
            "bin_end": 505.3956,
            "bin_start": 503.98800000000006,
            "count": 0
           },
           {
            "bin_end": 506.8032,
            "bin_start": 505.3956,
            "count": 0
           },
           {
            "bin_end": 508.2108,
            "bin_start": 506.8032,
            "count": 0
           },
           {
            "bin_end": 509.6184,
            "bin_start": 508.2108,
            "count": 0
           },
           {
            "bin_end": 511.026,
            "bin_start": 509.6184,
            "count": 1
           }
          ],
          "max": "511.026",
          "min": "496.95000000000005",
          "nan_count": 0,
          "unique_count": 2
         }
        },
        {
         "dtype": "float64",
         "name": "Sales max",
         "stats": {
          "histogram": [
           {
            "bin_end": 754.5037500000001,
            "bin_start": 731.94,
            "count": 1
           },
           {
            "bin_end": 777.0675,
            "bin_start": 754.5037500000001,
            "count": 0
           },
           {
            "bin_end": 799.63125,
            "bin_start": 777.0675,
            "count": 0
           },
           {
            "bin_end": 822.195,
            "bin_start": 799.63125,
            "count": 0
           },
           {
            "bin_end": 844.75875,
            "bin_start": 822.195,
            "count": 0
           },
           {
            "bin_end": 867.3225,
            "bin_start": 844.75875,
            "count": 0
           },
           {
            "bin_end": 889.88625,
            "bin_start": 867.3225,
            "count": 0
           },
           {
            "bin_end": 912.45,
            "bin_start": 889.88625,
            "count": 0
           },
           {
            "bin_end": 935.01375,
            "bin_start": 912.45,
            "count": 0
           },
           {
            "bin_end": 957.5775,
            "bin_start": 935.01375,
            "count": 1
           }
          ],
          "max": "957.5775",
          "min": "731.94",
          "nan_count": 0,
          "unique_count": 2
         }
        },
        {
         "dtype": "object",
         "name": "_deepnote_index_column"
        }
       ],
       "row_count": 2,
       "rows": [
        {
         "Sales 25%": "138.29",
         "Sales 50%": "261.96",
         "Sales 75%": "496.95000000000005",
         "Sales count": "3.0",
         "Sales max": "731.94",
         "Sales mean": "336.17333333333335",
         "Sales min": "14.62",
         "Sales std": "364.37303650700244",
         "_deepnote_index_column": "Second Class"
        },
        {
         "Sales 25%": "20.436",
         "Sales 50%": "48.86",
         "Sales 75%": "511.026",
         "Sales count": "7.0",
         "Sales max": "957.5775",
         "Sales mean": "296.6630714285714",
         "Sales min": "7.28",
         "Sales std": "435.9475517773926",
         "_deepnote_index_column": "Standard Class"
        }
       ]
      },
      "text/html": [
       "<div>\n",
       "<style scoped>\n",
       "    .dataframe tbody tr th:only-of-type {\n",
       "        vertical-align: middle;\n",
       "    }\n",
       "\n",
       "    .dataframe tbody tr th {\n",
       "        vertical-align: top;\n",
       "    }\n",
       "\n",
       "    .dataframe thead tr th {\n",
       "        text-align: left;\n",
       "    }\n",
       "\n",
       "    .dataframe thead tr:last-of-type th {\n",
       "        text-align: right;\n",
       "    }\n",
       "</style>\n",
       "<table border=\"1\" class=\"dataframe\">\n",
       "  <thead>\n",
       "    <tr>\n",
       "      <th></th>\n",
       "      <th colspan=\"8\" halign=\"left\">Sales</th>\n",
       "    </tr>\n",
       "    <tr>\n",
       "      <th></th>\n",
       "      <th>count</th>\n",
       "      <th>mean</th>\n",
       "      <th>std</th>\n",
       "      <th>min</th>\n",
       "      <th>25%</th>\n",
       "      <th>50%</th>\n",
       "      <th>75%</th>\n",
       "      <th>max</th>\n",
       "    </tr>\n",
       "    <tr>\n",
       "      <th>Ship Mode</th>\n",
       "      <th></th>\n",
       "      <th></th>\n",
       "      <th></th>\n",
       "      <th></th>\n",
       "      <th></th>\n",
       "      <th></th>\n",
       "      <th></th>\n",
       "      <th></th>\n",
       "    </tr>\n",
       "  </thead>\n",
       "  <tbody>\n",
       "    <tr>\n",
       "      <th>Second Class</th>\n",
       "      <td>3.0</td>\n",
       "      <td>336.173333</td>\n",
       "      <td>364.373037</td>\n",
       "      <td>14.62</td>\n",
       "      <td>138.290</td>\n",
       "      <td>261.96</td>\n",
       "      <td>496.950</td>\n",
       "      <td>731.9400</td>\n",
       "    </tr>\n",
       "    <tr>\n",
       "      <th>Standard Class</th>\n",
       "      <td>7.0</td>\n",
       "      <td>296.663071</td>\n",
       "      <td>435.947552</td>\n",
       "      <td>7.28</td>\n",
       "      <td>20.436</td>\n",
       "      <td>48.86</td>\n",
       "      <td>511.026</td>\n",
       "      <td>957.5775</td>\n",
       "    </tr>\n",
       "  </tbody>\n",
       "</table>\n",
       "</div>"
      ],
      "text/plain": [
       "               Sales                                                           \\\n",
       "               count        mean         std    min      25%     50%      75%   \n",
       "Ship Mode                                                                       \n",
       "Second Class     3.0  336.173333  364.373037  14.62  138.290  261.96  496.950   \n",
       "Standard Class   7.0  296.663071  435.947552   7.28   20.436   48.86  511.026   \n",
       "\n",
       "                          \n",
       "                     max  \n",
       "Ship Mode                 \n",
       "Second Class    731.9400  \n",
       "Standard Class  957.5775  "
      ]
     },
     "execution_count": 25,
     "metadata": {},
     "output_type": "execute_result"
    }
   ],
   "source": [
    "df_subset.groupby('Ship Mode').describe().loc[['Second Class','Standard Class']]"
   ]
  },
  {
   "cell_type": "code",
   "execution_count": 26,
   "metadata": {
    "cell_id": "07e2a1a654c149f091470ab5cf5b4b7c",
    "deepnote_app_coordinates": {
     "h": 5,
     "w": 12,
     "x": 0,
     "y": 199
    },
    "deepnote_cell_type": "code",
    "deepnote_to_be_reexecuted": false,
    "execution_millis": 26,
    "execution_start": 1674709268624,
    "source_hash": "d74cd0da"
   },
   "outputs": [
    {
     "data": {
      "application/vnd.deepnote.dataframe.v3+json": {
       "column_count": 1,
       "columns": [
        {
         "dtype": "float64",
         "name": "California",
         "stats": {
          "histogram": [
           {
            "bin_end": 96.1152,
            "bin_start": 6,
            "count": 4
           },
           {
            "bin_end": 186.2304,
            "bin_start": 96.1152,
            "count": 2
           },
           {
            "bin_end": 276.3456,
            "bin_start": 186.2304,
            "count": 0
           },
           {
            "bin_end": 366.4608,
            "bin_start": 276.3456,
            "count": 1
           },
           {
            "bin_end": 456.576,
            "bin_start": 366.4608,
            "count": 0
           },
           {
            "bin_end": 546.6912,
            "bin_start": 456.576,
            "count": 0
           },
           {
            "bin_end": 636.8064,
            "bin_start": 546.6912,
            "count": 0
           },
           {
            "bin_end": 726.9216,
            "bin_start": 636.8064,
            "count": 0
           },
           {
            "bin_end": 817.0368,
            "bin_start": 726.9216,
            "count": 0
           },
           {
            "bin_end": 907.152,
            "bin_start": 817.0368,
            "count": 1
           }
          ],
          "max": "907.152",
          "min": "6.0",
          "nan_count": 0,
          "unique_count": 8
         }
        },
        {
         "dtype": "object",
         "name": "_deepnote_index_column"
        }
       ],
       "row_count": 8,
       "rows": [
        {
         "California": "6.0",
         "_deepnote_index_column": "('Sales', 'count')"
        },
        {
         "California": "185.21933333333334",
         "_deepnote_index_column": "('Sales', 'mean')"
        },
        {
         "California": "355.8893066326476",
         "_deepnote_index_column": "('Sales', 'std')"
        },
        {
         "California": "7.28",
         "_deepnote_index_column": "('Sales', 'min')"
        },
        {
         "California": "15.591",
         "_deepnote_index_column": "('Sales', '25%')"
        },
        {
         "California": "33.682",
         "_deepnote_index_column": "('Sales', '50%')"
        },
        {
         "California": "98.39",
         "_deepnote_index_column": "('Sales', '75%')"
        },
        {
         "California": "907.152",
         "_deepnote_index_column": "('Sales', 'max')"
        }
       ]
      },
      "text/html": [
       "<div>\n",
       "<style scoped>\n",
       "    .dataframe tbody tr th:only-of-type {\n",
       "        vertical-align: middle;\n",
       "    }\n",
       "\n",
       "    .dataframe tbody tr th {\n",
       "        vertical-align: top;\n",
       "    }\n",
       "\n",
       "    .dataframe thead th {\n",
       "        text-align: right;\n",
       "    }\n",
       "</style>\n",
       "<table border=\"1\" class=\"dataframe\">\n",
       "  <thead>\n",
       "    <tr style=\"text-align: right;\">\n",
       "      <th></th>\n",
       "      <th></th>\n",
       "      <th>California</th>\n",
       "    </tr>\n",
       "  </thead>\n",
       "  <tbody>\n",
       "    <tr>\n",
       "      <th rowspan=\"8\" valign=\"top\">Sales</th>\n",
       "      <th>count</th>\n",
       "      <td>6.000000</td>\n",
       "    </tr>\n",
       "    <tr>\n",
       "      <th>mean</th>\n",
       "      <td>185.219333</td>\n",
       "    </tr>\n",
       "    <tr>\n",
       "      <th>std</th>\n",
       "      <td>355.889307</td>\n",
       "    </tr>\n",
       "    <tr>\n",
       "      <th>min</th>\n",
       "      <td>7.280000</td>\n",
       "    </tr>\n",
       "    <tr>\n",
       "      <th>25%</th>\n",
       "      <td>15.591000</td>\n",
       "    </tr>\n",
       "    <tr>\n",
       "      <th>50%</th>\n",
       "      <td>33.682000</td>\n",
       "    </tr>\n",
       "    <tr>\n",
       "      <th>75%</th>\n",
       "      <td>98.390000</td>\n",
       "    </tr>\n",
       "    <tr>\n",
       "      <th>max</th>\n",
       "      <td>907.152000</td>\n",
       "    </tr>\n",
       "  </tbody>\n",
       "</table>\n",
       "</div>"
      ],
      "text/plain": [
       "             California\n",
       "Sales count    6.000000\n",
       "      mean   185.219333\n",
       "      std    355.889307\n",
       "      min      7.280000\n",
       "      25%     15.591000\n",
       "      50%     33.682000\n",
       "      75%     98.390000\n",
       "      max    907.152000"
      ]
     },
     "execution_count": 26,
     "metadata": {},
     "output_type": "execute_result"
    }
   ],
   "source": [
    "pd.DataFrame(byState.describe().loc['California'])"
   ]
  },
  {
   "cell_type": "code",
   "execution_count": 27,
   "metadata": {
    "cell_id": "9845b0a5d49045e5bd9d3c11207644de",
    "deepnote_app_coordinates": {
     "h": 5,
     "w": 12,
     "x": 0,
     "y": 205
    },
    "deepnote_cell_type": "code",
    "deepnote_to_be_reexecuted": false,
    "execution_millis": 9,
    "execution_start": 1674709268653,
    "source_hash": "26757a00"
   },
   "outputs": [],
   "source": [
    "byStateCity=df.groupby(['State','City'])"
   ]
  },
  {
   "cell_type": "code",
   "execution_count": 28,
   "metadata": {
    "cell_id": "e0a16039066947ac8a4b05184fc4aa7b",
    "deepnote_app_coordinates": {
     "h": 5,
     "w": 12,
     "x": 0,
     "y": 211
    },
    "deepnote_cell_type": "code",
    "deepnote_to_be_reexecuted": false,
    "execution_millis": 8761,
    "execution_start": 1674709268664,
    "source_hash": "ff8eff3a"
   },
   "outputs": [
    {
     "data": {
      "application/vnd.deepnote.dataframe.v3+json": {
       "column_count": 8,
       "columns": [
        {
         "dtype": "float64",
         "name": "count",
         "stats": {
          "histogram": [
           {
            "bin_end": 92.4,
            "bin_start": 1,
            "count": 593
           },
           {
            "bin_end": 183.8,
            "bin_start": 92.4,
            "count": 4
           },
           {
            "bin_end": 275.20000000000005,
            "bin_start": 183.8,
            "count": 0
           },
           {
            "bin_end": 366.6,
            "bin_start": 275.20000000000005,
            "count": 1
           },
           {
            "bin_end": 458,
            "bin_start": 366.6,
            "count": 2
           },
           {
            "bin_end": 549.4000000000001,
            "bin_start": 458,
            "count": 2
           },
           {
            "bin_end": 640.8000000000001,
            "bin_start": 549.4000000000001,
            "count": 0
           },
           {
            "bin_end": 732.2,
            "bin_start": 640.8000000000001,
            "count": 0
           },
           {
            "bin_end": 823.6,
            "bin_start": 732.2,
            "count": 1
           },
           {
            "bin_end": 915,
            "bin_start": 823.6,
            "count": 1
           }
          ],
          "max": "915.0",
          "min": "1.0",
          "nan_count": 0,
          "unique_count": 62
         }
        },
        {
         "dtype": "float64",
         "name": "mean",
         "stats": {
          "histogram": [
           {
            "bin_end": 236.69230000000002,
            "bin_start": 1.392,
            "count": 430
           },
           {
            "bin_end": 471.99260000000004,
            "bin_start": 236.69230000000002,
            "count": 126
           },
           {
            "bin_end": 707.2929000000001,
            "bin_start": 471.99260000000004,
            "count": 30
           },
           {
            "bin_end": 942.5932000000001,
            "bin_start": 707.2929000000001,
            "count": 11
           },
           {
            "bin_end": 1177.8935000000001,
            "bin_start": 942.5932000000001,
            "count": 2
           },
           {
            "bin_end": 1413.1938000000002,
            "bin_start": 1177.8935000000001,
            "count": 2
           },
           {
            "bin_end": 1648.4941000000001,
            "bin_start": 1413.1938000000002,
            "count": 2
           },
           {
            "bin_end": 1883.7944000000002,
            "bin_start": 1648.4941000000001,
            "count": 0
           },
           {
            "bin_end": 2119.0947,
            "bin_start": 1883.7944000000002,
            "count": 0
           },
           {
            "bin_end": 2354.395,
            "bin_start": 2119.0947,
            "count": 1
           }
          ],
          "max": "2354.395",
          "min": "1.392",
          "nan_count": 0,
          "unique_count": 602
         }
        },
        {
         "dtype": "float64",
         "name": "std",
         "stats": {
          "histogram": [
           {
            "bin_end": 500.45231305901103,
            "bin_start": 0.3181980515339465,
            "count": 437
           },
           {
            "bin_end": 1000.5864280664881,
            "bin_start": 500.45231305901103,
            "count": 58
           },
           {
            "bin_end": 1500.7205430739652,
            "bin_start": 1000.5864280664881,
            "count": 24
           },
           {
            "bin_end": 2000.8546580814423,
            "bin_start": 1500.7205430739652,
            "count": 3
           },
           {
            "bin_end": 2500.988773088919,
            "bin_start": 2000.8546580814423,
            "count": 1
           },
           {
            "bin_end": 3001.1228880963963,
            "bin_start": 2500.988773088919,
            "count": 1
           },
           {
            "bin_end": 3501.257003103873,
            "bin_start": 3001.1228880963963,
            "count": 1
           },
           {
            "bin_end": 4001.3911181113504,
            "bin_start": 3501.257003103873,
            "count": 0
           },
           {
            "bin_end": 4501.525233118828,
            "bin_start": 4001.3911181113504,
            "count": 0
           },
           {
            "bin_end": 5001.659348126304,
            "bin_start": 4501.525233118828,
            "count": 1
           }
          ],
          "max": "5001.659348126304",
          "min": "0.3181980515339465",
          "nan_count": 78,
          "unique_count": 526
         }
        },
        {
         "dtype": "float64",
         "name": "min",
         "stats": {
          "histogram": [
           {
            "bin_end": 160.7132,
            "bin_start": 0.444,
            "count": 576
           },
           {
            "bin_end": 320.98240000000004,
            "bin_start": 160.7132,
            "count": 14
           },
           {
            "bin_end": 481.25160000000005,
            "bin_start": 320.98240000000004,
            "count": 7
           },
           {
            "bin_end": 641.5208,
            "bin_start": 481.25160000000005,
            "count": 3
           },
           {
            "bin_end": 801.79,
            "bin_start": 641.5208,
            "count": 2
           },
           {
            "bin_end": 962.0592,
            "bin_start": 801.79,
            "count": 1
           },
           {
            "bin_end": 1122.3284,
            "bin_start": 962.0592,
            "count": 0
           },
           {
            "bin_end": 1282.5976,
            "bin_start": 1122.3284,
            "count": 0
           },
           {
            "bin_end": 1442.8668,
            "bin_start": 1282.5976,
            "count": 0
           },
           {
            "bin_end": 1603.136,
            "bin_start": 1442.8668,
            "count": 1
           }
          ],
          "max": "1603.136",
          "min": "0.444",
          "nan_count": 0,
          "unique_count": 481
         }
        },
        {
         "dtype": "float64",
         "name": "25%",
         "stats": {
          "histogram": [
           {
            "bin_end": 161.5664,
            "bin_start": 1.392,
            "count": 558
           },
           {
            "bin_end": 321.7408,
            "bin_start": 161.5664,
            "count": 22
           },
           {
            "bin_end": 481.91519999999997,
            "bin_start": 321.7408,
            "count": 14
           },
           {
            "bin_end": 642.0896,
            "bin_start": 481.91519999999997,
            "count": 4
           },
           {
            "bin_end": 802.264,
            "bin_start": 642.0896,
            "count": 3
           },
           {
            "bin_end": 962.4384,
            "bin_start": 802.264,
            "count": 0
           },
           {
            "bin_end": 1122.6128,
            "bin_start": 962.4384,
            "count": 1
           },
           {
            "bin_end": 1282.7872,
            "bin_start": 1122.6128,
            "count": 1
           },
           {
            "bin_end": 1442.9615999999999,
            "bin_start": 1282.7872,
            "count": 0
           },
           {
            "bin_end": 1603.136,
            "bin_start": 1442.9615999999999,
            "count": 1
           }
          ],
          "max": "1603.136",
          "min": "1.392",
          "nan_count": 0,
          "unique_count": 592
         }
        },
        {
         "dtype": "float64",
         "name": "50%",
         "stats": {
          "histogram": [
           {
            "bin_end": 236.69230000000002,
            "bin_start": 1.392,
            "count": 547
           },
           {
            "bin_end": 471.99260000000004,
            "bin_start": 236.69230000000002,
            "count": 37
           },
           {
            "bin_end": 707.2929000000001,
            "bin_start": 471.99260000000004,
            "count": 11
           },
           {
            "bin_end": 942.5932000000001,
            "bin_start": 707.2929000000001,
            "count": 4
           },
           {
            "bin_end": 1177.8935000000001,
            "bin_start": 942.5932000000001,
            "count": 1
           },
           {
            "bin_end": 1413.1938000000002,
            "bin_start": 1177.8935000000001,
            "count": 2
           },
           {
            "bin_end": 1648.4941000000001,
            "bin_start": 1413.1938000000002,
            "count": 1
           },
           {
            "bin_end": 1883.7944000000002,
            "bin_start": 1648.4941000000001,
            "count": 0
           },
           {
            "bin_end": 2119.0947,
            "bin_start": 1883.7944000000002,
            "count": 0
           },
           {
            "bin_end": 2354.395,
            "bin_start": 2119.0947,
            "count": 1
           }
          ],
          "max": "2354.395",
          "min": "1.392",
          "nan_count": 0,
          "unique_count": 593
         }
        },
        {
         "dtype": "float64",
         "name": "75%",
         "stats": {
          "histogram": [
           {
            "bin_end": 346.41305,
            "bin_start": 1.392,
            "count": 491
           },
           {
            "bin_end": 691.4341000000001,
            "bin_start": 346.41305,
            "count": 84
           },
           {
            "bin_end": 1036.45515,
            "bin_start": 691.4341000000001,
            "count": 16
           },
           {
            "bin_end": 1381.4762,
            "bin_start": 1036.45515,
            "count": 8
           },
           {
            "bin_end": 1726.4972500000001,
            "bin_start": 1381.4762,
            "count": 3
           },
           {
            "bin_end": 2071.5182999999997,
            "bin_start": 1726.4972500000001,
            "count": 1
           },
           {
            "bin_end": 2416.53935,
            "bin_start": 2071.5182999999997,
            "count": 0
           },
           {
            "bin_end": 2761.5604,
            "bin_start": 2416.53935,
            "count": 0
           },
           {
            "bin_end": 3106.5814499999997,
            "bin_start": 2761.5604,
            "count": 0
           },
           {
            "bin_end": 3451.6025,
            "bin_start": 3106.5814499999997,
            "count": 1
           }
          ],
          "max": "3451.6025",
          "min": "1.392",
          "nan_count": 0,
          "unique_count": 601
         }
        },
        {
         "dtype": "float64",
         "name": "max",
         "stats": {
          "histogram": [
           {
            "bin_end": 2265.1007999999997,
            "bin_start": 1.392,
            "count": 545
           },
           {
            "bin_end": 4528.8096,
            "bin_start": 2265.1007999999997,
            "count": 38
           },
           {
            "bin_end": 6792.518399999999,
            "bin_start": 4528.8096,
            "count": 8
           },
           {
            "bin_end": 9056.2272,
            "bin_start": 6792.518399999999,
            "count": 5
           },
           {
            "bin_end": 11319.936,
            "bin_start": 9056.2272,
            "count": 5
           },
           {
            "bin_end": 13583.644799999998,
            "bin_start": 11319.936,
            "count": 0
           },
           {
            "bin_end": 15847.353599999999,
            "bin_start": 13583.644799999998,
            "count": 1
           },
           {
            "bin_end": 18111.0624,
            "bin_start": 15847.353599999999,
            "count": 1
           },
           {
            "bin_end": 20374.7712,
            "bin_start": 18111.0624,
            "count": 0
           },
           {
            "bin_end": 22638.48,
            "bin_start": 20374.7712,
            "count": 1
           }
          ],
          "max": "22638.48",
          "min": "1.392",
          "nan_count": 0,
          "unique_count": 586
         }
        },
        {
         "dtype": "object",
         "name": "_deepnote_index_column"
        }
       ],
       "row_count": 604,
       "rows": [
        {
         "25%": "8.805",
         "50%": "182.03",
         "75%": "456.4075",
         "_deepnote_index_column": "('Alabama', 'Auburn')",
         "count": "6.0",
         "max": "900.08",
         "mean": "294.4716666666667",
         "min": "3.76",
         "std": "361.91454319585813"
        },
        {
         "25%": "23.92",
         "50%": "44.95",
         "75%": "239.92",
         "_deepnote_index_column": "('Alabama', 'Decatur')",
         "count": "13.0",
         "max": "1215.92",
         "mean": "259.6015384615385",
         "min": "14.94",
         "std": "385.660902841822"
        },
        {
         "25%": "7.27",
         "50%": "12.48",
         "75%": "152.76",
         "_deepnote_index_column": "('Alabama', 'Florence')",
         "count": "5.0",
         "max": "1819.86",
         "mean": "399.46999999999997",
         "min": "4.98",
         "std": "796.4888631362022"
        },
        {
         "25%": "13.3925",
         "50%": "20.725",
         "75%": "138.795",
         "_deepnote_index_column": "('Alabama', 'Hoover')",
         "count": "4.0",
         "max": "477.24",
         "mean": "131.4625",
         "min": "7.16",
         "std": "230.64692271594114"
        },
        {
         "25%": "26.87",
         "50%": "81.92",
         "75%": "171.8075",
         "_deepnote_index_column": "('Alabama', 'Huntsville')",
         "count": "10.0",
         "max": "1319.96",
         "mean": "248.43700000000004",
         "min": "3.62",
         "std": "419.5766668666036"
        },
        {
         "25%": "46.86",
         "50%": "70.98",
         "75%": "505.96500000000003",
         "_deepnote_index_column": "('Alabama', 'Mobile')",
         "count": "11.0",
         "max": "3040.0",
         "mean": "496.63545454545454",
         "min": "8.96",
         "std": "914.0874245974903"
        },
        {
         "25%": "21.7075",
         "50%": "187.215",
         "75%": "499.055",
         "_deepnote_index_column": "('Alabama', 'Montgomery')",
         "count": "10.0",
         "max": "1394.95",
         "mean": "372.27299999999997",
         "min": "10.16",
         "std": "475.397645206387"
        },
        {
         "25%": "60.795",
         "50%": "87.85000000000001",
         "75%": "114.905",
         "_deepnote_index_column": "('Alabama', 'Tuscaloosa')",
         "count": "2.0",
         "max": "141.96",
         "mean": "87.85000000000001",
         "min": "33.74",
         "std": "76.52309586000817"
        },
        {
         "25%": "18.148",
         "50%": "35.596",
         "75%": "88.678",
         "_deepnote_index_column": "('Arizona', 'Avondale')",
         "count": "6.0",
         "max": "742.336",
         "mean": "157.80133333333333",
         "min": "14.576",
         "std": "288.24752724744525"
        },
        {
         "25%": "9.532",
         "50%": "11.144",
         "75%": "12.756",
         "_deepnote_index_column": "('Arizona', 'Bullhead City')",
         "count": "2.0",
         "max": "14.368",
         "mean": "11.144",
         "min": "7.92",
         "std": "4.559424525090859"
        }
       ]
      },
      "text/html": [
       "<div>\n",
       "<style scoped>\n",
       "    .dataframe tbody tr th:only-of-type {\n",
       "        vertical-align: middle;\n",
       "    }\n",
       "\n",
       "    .dataframe tbody tr th {\n",
       "        vertical-align: top;\n",
       "    }\n",
       "\n",
       "    .dataframe thead th {\n",
       "        text-align: right;\n",
       "    }\n",
       "</style>\n",
       "<table border=\"1\" class=\"dataframe\">\n",
       "  <thead>\n",
       "    <tr style=\"text-align: right;\">\n",
       "      <th></th>\n",
       "      <th></th>\n",
       "      <th>count</th>\n",
       "      <th>mean</th>\n",
       "      <th>std</th>\n",
       "      <th>min</th>\n",
       "      <th>25%</th>\n",
       "      <th>50%</th>\n",
       "      <th>75%</th>\n",
       "      <th>max</th>\n",
       "    </tr>\n",
       "    <tr>\n",
       "      <th>State</th>\n",
       "      <th>City</th>\n",
       "      <th></th>\n",
       "      <th></th>\n",
       "      <th></th>\n",
       "      <th></th>\n",
       "      <th></th>\n",
       "      <th></th>\n",
       "      <th></th>\n",
       "      <th></th>\n",
       "    </tr>\n",
       "  </thead>\n",
       "  <tbody>\n",
       "    <tr>\n",
       "      <th rowspan=\"5\" valign=\"top\">Alabama</th>\n",
       "      <th>Auburn</th>\n",
       "      <td>6.0</td>\n",
       "      <td>294.471667</td>\n",
       "      <td>361.914543</td>\n",
       "      <td>3.760</td>\n",
       "      <td>8.8050</td>\n",
       "      <td>182.030</td>\n",
       "      <td>456.4075</td>\n",
       "      <td>900.080</td>\n",
       "    </tr>\n",
       "    <tr>\n",
       "      <th>Decatur</th>\n",
       "      <td>13.0</td>\n",
       "      <td>259.601538</td>\n",
       "      <td>385.660903</td>\n",
       "      <td>14.940</td>\n",
       "      <td>23.9200</td>\n",
       "      <td>44.950</td>\n",
       "      <td>239.9200</td>\n",
       "      <td>1215.920</td>\n",
       "    </tr>\n",
       "    <tr>\n",
       "      <th>Florence</th>\n",
       "      <td>5.0</td>\n",
       "      <td>399.470000</td>\n",
       "      <td>796.488863</td>\n",
       "      <td>4.980</td>\n",
       "      <td>7.2700</td>\n",
       "      <td>12.480</td>\n",
       "      <td>152.7600</td>\n",
       "      <td>1819.860</td>\n",
       "    </tr>\n",
       "    <tr>\n",
       "      <th>Hoover</th>\n",
       "      <td>4.0</td>\n",
       "      <td>131.462500</td>\n",
       "      <td>230.646923</td>\n",
       "      <td>7.160</td>\n",
       "      <td>13.3925</td>\n",
       "      <td>20.725</td>\n",
       "      <td>138.7950</td>\n",
       "      <td>477.240</td>\n",
       "    </tr>\n",
       "    <tr>\n",
       "      <th>Huntsville</th>\n",
       "      <td>10.0</td>\n",
       "      <td>248.437000</td>\n",
       "      <td>419.576667</td>\n",
       "      <td>3.620</td>\n",
       "      <td>26.8700</td>\n",
       "      <td>81.920</td>\n",
       "      <td>171.8075</td>\n",
       "      <td>1319.960</td>\n",
       "    </tr>\n",
       "    <tr>\n",
       "      <th>...</th>\n",
       "      <th>...</th>\n",
       "      <td>...</td>\n",
       "      <td>...</td>\n",
       "      <td>...</td>\n",
       "      <td>...</td>\n",
       "      <td>...</td>\n",
       "      <td>...</td>\n",
       "      <td>...</td>\n",
       "      <td>...</td>\n",
       "    </tr>\n",
       "    <tr>\n",
       "      <th rowspan=\"4\" valign=\"top\">Wisconsin</th>\n",
       "      <th>Superior</th>\n",
       "      <td>9.0</td>\n",
       "      <td>144.414444</td>\n",
       "      <td>213.394065</td>\n",
       "      <td>5.560</td>\n",
       "      <td>17.1200</td>\n",
       "      <td>47.400</td>\n",
       "      <td>125.9900</td>\n",
       "      <td>629.100</td>\n",
       "    </tr>\n",
       "    <tr>\n",
       "      <th>Waukesha</th>\n",
       "      <td>1.0</td>\n",
       "      <td>54.500000</td>\n",
       "      <td>NaN</td>\n",
       "      <td>54.500</td>\n",
       "      <td>54.5000</td>\n",
       "      <td>54.500</td>\n",
       "      <td>54.5000</td>\n",
       "      <td>54.500</td>\n",
       "    </tr>\n",
       "    <tr>\n",
       "      <th>Wausau</th>\n",
       "      <td>4.0</td>\n",
       "      <td>79.370000</td>\n",
       "      <td>111.450605</td>\n",
       "      <td>12.390</td>\n",
       "      <td>20.0325</td>\n",
       "      <td>29.605</td>\n",
       "      <td>88.9425</td>\n",
       "      <td>245.880</td>\n",
       "    </tr>\n",
       "    <tr>\n",
       "      <th>West Allis</th>\n",
       "      <td>2.0</td>\n",
       "      <td>125.240000</td>\n",
       "      <td>165.067007</td>\n",
       "      <td>8.520</td>\n",
       "      <td>66.8800</td>\n",
       "      <td>125.240</td>\n",
       "      <td>183.6000</td>\n",
       "      <td>241.960</td>\n",
       "    </tr>\n",
       "    <tr>\n",
       "      <th>Wyoming</th>\n",
       "      <th>Cheyenne</th>\n",
       "      <td>1.0</td>\n",
       "      <td>1603.136000</td>\n",
       "      <td>NaN</td>\n",
       "      <td>1603.136</td>\n",
       "      <td>1603.1360</td>\n",
       "      <td>1603.136</td>\n",
       "      <td>1603.1360</td>\n",
       "      <td>1603.136</td>\n",
       "    </tr>\n",
       "  </tbody>\n",
       "</table>\n",
       "<p>604 rows × 8 columns</p>\n",
       "</div>"
      ],
      "text/plain": [
       "                      count         mean         std       min        25%  \\\n",
       "State     City                                                              \n",
       "Alabama   Auburn        6.0   294.471667  361.914543     3.760     8.8050   \n",
       "          Decatur      13.0   259.601538  385.660903    14.940    23.9200   \n",
       "          Florence      5.0   399.470000  796.488863     4.980     7.2700   \n",
       "          Hoover        4.0   131.462500  230.646923     7.160    13.3925   \n",
       "          Huntsville   10.0   248.437000  419.576667     3.620    26.8700   \n",
       "...                     ...          ...         ...       ...        ...   \n",
       "Wisconsin Superior      9.0   144.414444  213.394065     5.560    17.1200   \n",
       "          Waukesha      1.0    54.500000         NaN    54.500    54.5000   \n",
       "          Wausau        4.0    79.370000  111.450605    12.390    20.0325   \n",
       "          West Allis    2.0   125.240000  165.067007     8.520    66.8800   \n",
       "Wyoming   Cheyenne      1.0  1603.136000         NaN  1603.136  1603.1360   \n",
       "\n",
       "                           50%        75%       max  \n",
       "State     City                                       \n",
       "Alabama   Auburn       182.030   456.4075   900.080  \n",
       "          Decatur       44.950   239.9200  1215.920  \n",
       "          Florence      12.480   152.7600  1819.860  \n",
       "          Hoover        20.725   138.7950   477.240  \n",
       "          Huntsville    81.920   171.8075  1319.960  \n",
       "...                        ...        ...       ...  \n",
       "Wisconsin Superior      47.400   125.9900   629.100  \n",
       "          Waukesha      54.500    54.5000    54.500  \n",
       "          Wausau        29.605    88.9425   245.880  \n",
       "          West Allis   125.240   183.6000   241.960  \n",
       "Wyoming   Cheyenne    1603.136  1603.1360  1603.136  \n",
       "\n",
       "[604 rows x 8 columns]"
      ]
     },
     "execution_count": 28,
     "metadata": {},
     "output_type": "execute_result"
    }
   ],
   "source": [
    "byStateCity.describe()['Sales']"
   ]
  }
 ],
 "metadata": {
  "deepnote": {},
  "deepnote_app_layout": "article",
  "deepnote_execution_queue": [],
  "deepnote_notebook_id": "13cae0d05a4c456580585cdd72bcf309",
  "deepnote_persisted_session": {
   "createdAt": "2022-10-31T04:46:29.472Z"
  },
  "kernelspec": {
   "display_name": "Python 3 (ipykernel)",
   "language": "python",
   "name": "python3"
  },
  "language_info": {
   "codemirror_mode": {
    "name": "ipython",
    "version": 3
   },
   "file_extension": ".py",
   "mimetype": "text/x-python",
   "name": "python",
   "nbconvert_exporter": "python",
   "pygments_lexer": "ipython3",
   "version": "3.8.16"
  },
  "latex_envs": {
   "LaTeX_envs_menu_present": true,
   "autoclose": false,
   "autocomplete": true,
   "bibliofile": "biblio.bib",
   "cite_by": "apalike",
   "current_citInitial": 1,
   "eqLabelWithNumbers": true,
   "eqNumInitial": 1,
   "hotkeys": {
    "equation": "Ctrl-E",
    "itemize": "Ctrl-I"
   },
   "labels_anchors": false,
   "latex_user_defs": false,
   "report_style_numbering": false,
   "user_envs_cfg": false
  }
 },
 "nbformat": 4,
 "nbformat_minor": 4
}
