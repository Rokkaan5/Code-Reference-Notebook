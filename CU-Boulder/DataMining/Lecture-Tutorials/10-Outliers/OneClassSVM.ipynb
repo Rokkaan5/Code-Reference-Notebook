{
 "cells": [
  {
   "cell_type": "raw",
   "metadata": {},
   "source": [
    "---\n",
    "title: \"Outlier Detection - One Class SVM\"\n",
    "format:\n",
    "    html:\n",
    "        code-fold: false\n",
    "execute:\n",
    "    output: true\n",
    "    warning: false\n",
    "toc: true\n",
    "jupyter: python3\n",
    "---"
   ]
  },
  {
   "cell_type": "markdown",
   "metadata": {
    "cell_id": "2b19aba69ee941f7827944789abb9da4",
    "deepnote_app_coordinates": {
     "h": 5,
     "w": 12,
     "x": 0,
     "y": 1
    },
    "deepnote_cell_type": "markdown",
    "tags": []
   },
   "source": [
    "# Outlier Detection - OneClassSVM\n",
    "\n",
    "Unsupervised Outlier Detection.\n",
    "\n",
    "Estimate the support of a high-dimensional distribution.\n",
    "\n",
    "The implementation is based on libsvm.\n",
    "\n",
    "User Guide: https://scikit-learn.org/stable/modules/outlier_detection.html#outlier-detection"
   ]
  },
  {
   "cell_type": "markdown",
   "metadata": {
    "cell_id": "d1a20d0539f744f78a72b2c4f98db316",
    "deepnote_app_coordinates": {
     "h": 5,
     "w": 12,
     "x": 0,
     "y": 7
    },
    "deepnote_cell_type": "markdown",
    "tags": []
   },
   "source": [
    "## Dependencies"
   ]
  },
  {
   "cell_type": "code",
   "execution_count": 1,
   "metadata": {
    "cell_id": "c972448e7d3145c18055e707510b943b",
    "deepnote_app_coordinates": {
     "h": 5,
     "w": 12,
     "x": 0,
     "y": 13
    },
    "deepnote_cell_type": "code",
    "deepnote_to_be_reexecuted": false,
    "execution_millis": 2024,
    "execution_start": 1667698539545,
    "source_hash": "cceb3d48",
    "tags": []
   },
   "outputs": [],
   "source": [
    "import numpy as np\n",
    "import pandas as pd\n",
    "import matplotlib.pyplot as plt\n",
    "import seaborn as sns"
   ]
  },
  {
   "cell_type": "markdown",
   "metadata": {
    "cell_id": "d95ac16758a549f3a09c17820baa6355",
    "deepnote_app_coordinates": {
     "h": 5,
     "w": 12,
     "x": 0,
     "y": 19
    },
    "deepnote_cell_type": "markdown",
    "tags": []
   },
   "source": [
    "## Read data"
   ]
  },
  {
   "cell_type": "code",
   "execution_count": 2,
   "metadata": {
    "cell_id": "35f4c04186e1492e920931788ed902a4",
    "deepnote_app_coordinates": {
     "h": 5,
     "w": 12,
     "x": 0,
     "y": 25
    },
    "deepnote_cell_type": "code",
    "deepnote_to_be_reexecuted": false,
    "execution_millis": 31,
    "execution_start": 1667698591438,
    "source_hash": "bff6b785",
    "tags": []
   },
   "outputs": [
    {
     "data": {
      "application/vnd.deepnote.dataframe.v3+json": {
       "column_count": 2,
       "columns": [
        {
         "dtype": "int64",
         "name": "high",
         "stats": {
          "histogram": [
           {
            "bin_end": 23.4,
            "bin_start": 15,
            "count": 4
           },
           {
            "bin_end": 31.8,
            "bin_start": 23.4,
            "count": 4
           },
           {
            "bin_end": 40.2,
            "bin_start": 31.8,
            "count": 7
           },
           {
            "bin_end": 48.6,
            "bin_start": 40.2,
            "count": 15
           },
           {
            "bin_end": 57,
            "bin_start": 48.6,
            "count": 25
           },
           {
            "bin_end": 65.4,
            "bin_start": 57,
            "count": 30
           },
           {
            "bin_end": 73.80000000000001,
            "bin_start": 65.4,
            "count": 24
           },
           {
            "bin_end": 82.2,
            "bin_start": 73.80000000000001,
            "count": 6
           },
           {
            "bin_end": 90.60000000000001,
            "bin_start": 82.2,
            "count": 0
           },
           {
            "bin_end": 99,
            "bin_start": 90.60000000000001,
            "count": 3
           }
          ],
          "max": "99",
          "min": "15",
          "nan_count": 0,
          "unique_count": 46
         }
        },
        {
         "dtype": "int64",
         "name": "low",
         "stats": {
          "histogram": [
           {
            "bin_end": 8.1,
            "bin_start": -2,
            "count": 2
           },
           {
            "bin_end": 18.2,
            "bin_start": 8.1,
            "count": 12
           },
           {
            "bin_end": 28.299999999999997,
            "bin_start": 18.2,
            "count": 28
           },
           {
            "bin_end": 38.4,
            "bin_start": 28.299999999999997,
            "count": 47
           },
           {
            "bin_end": 48.5,
            "bin_start": 38.4,
            "count": 23
           },
           {
            "bin_end": 58.599999999999994,
            "bin_start": 48.5,
            "count": 3
           },
           {
            "bin_end": 68.7,
            "bin_start": 58.599999999999994,
            "count": 0
           },
           {
            "bin_end": 78.8,
            "bin_start": 68.7,
            "count": 0
           },
           {
            "bin_end": 88.89999999999999,
            "bin_start": 78.8,
            "count": 0
           },
           {
            "bin_end": 99,
            "bin_start": 88.89999999999999,
            "count": 3
           }
          ],
          "max": "99",
          "min": "-2",
          "nan_count": 0,
          "unique_count": 39
         }
        },
        {
         "dtype": "int64",
         "name": "_deepnote_index_column"
        }
       ],
       "row_count": 118,
       "rows": [
        {
         "_deepnote_index_column": "0",
         "high": "58",
         "low": "25"
        },
        {
         "_deepnote_index_column": "1",
         "high": "26",
         "low": "11"
        },
        {
         "_deepnote_index_column": "2",
         "high": "53",
         "low": "24"
        },
        {
         "_deepnote_index_column": "3",
         "high": "60",
         "low": "37"
        },
        {
         "_deepnote_index_column": "4",
         "high": "67",
         "low": "42"
        },
        {
         "_deepnote_index_column": "5",
         "high": "70",
         "low": "37"
        },
        {
         "_deepnote_index_column": "6",
         "high": "68",
         "low": "41"
        },
        {
         "_deepnote_index_column": "7",
         "high": "68",
         "low": "34"
        },
        {
         "_deepnote_index_column": "8",
         "high": "69",
         "low": "43"
        },
        {
         "_deepnote_index_column": "9",
         "high": "57",
         "low": "33"
        }
       ]
      },
      "text/html": [
       "<div>\n",
       "<style scoped>\n",
       "    .dataframe tbody tr th:only-of-type {\n",
       "        vertical-align: middle;\n",
       "    }\n",
       "\n",
       "    .dataframe tbody tr th {\n",
       "        vertical-align: top;\n",
       "    }\n",
       "\n",
       "    .dataframe thead th {\n",
       "        text-align: right;\n",
       "    }\n",
       "</style>\n",
       "<table border=\"1\" class=\"dataframe\">\n",
       "  <thead>\n",
       "    <tr style=\"text-align: right;\">\n",
       "      <th></th>\n",
       "      <th>high</th>\n",
       "      <th>low</th>\n",
       "    </tr>\n",
       "  </thead>\n",
       "  <tbody>\n",
       "    <tr>\n",
       "      <th>0</th>\n",
       "      <td>58</td>\n",
       "      <td>25</td>\n",
       "    </tr>\n",
       "    <tr>\n",
       "      <th>1</th>\n",
       "      <td>26</td>\n",
       "      <td>11</td>\n",
       "    </tr>\n",
       "    <tr>\n",
       "      <th>2</th>\n",
       "      <td>53</td>\n",
       "      <td>24</td>\n",
       "    </tr>\n",
       "    <tr>\n",
       "      <th>3</th>\n",
       "      <td>60</td>\n",
       "      <td>37</td>\n",
       "    </tr>\n",
       "    <tr>\n",
       "      <th>4</th>\n",
       "      <td>67</td>\n",
       "      <td>42</td>\n",
       "    </tr>\n",
       "    <tr>\n",
       "      <th>...</th>\n",
       "      <td>...</td>\n",
       "      <td>...</td>\n",
       "    </tr>\n",
       "    <tr>\n",
       "      <th>115</th>\n",
       "      <td>99</td>\n",
       "      <td>33</td>\n",
       "    </tr>\n",
       "    <tr>\n",
       "      <th>116</th>\n",
       "      <td>99</td>\n",
       "      <td>27</td>\n",
       "    </tr>\n",
       "    <tr>\n",
       "      <th>117</th>\n",
       "      <td>18</td>\n",
       "      <td>38</td>\n",
       "    </tr>\n",
       "    <tr>\n",
       "      <th>118</th>\n",
       "      <td>15</td>\n",
       "      <td>51</td>\n",
       "    </tr>\n",
       "    <tr>\n",
       "      <th>119</th>\n",
       "      <td>30</td>\n",
       "      <td>49</td>\n",
       "    </tr>\n",
       "  </tbody>\n",
       "</table>\n",
       "<p>118 rows × 2 columns</p>\n",
       "</div>"
      ],
      "text/plain": [
       "     high  low\n",
       "0      58   25\n",
       "1      26   11\n",
       "2      53   24\n",
       "3      60   37\n",
       "4      67   42\n",
       "..    ...  ...\n",
       "115    99   33\n",
       "116    99   27\n",
       "117    18   38\n",
       "118    15   51\n",
       "119    30   49\n",
       "\n",
       "[118 rows x 2 columns]"
      ]
     },
     "execution_count": 2,
     "metadata": {},
     "output_type": "execute_result"
    }
   ],
   "source": [
    "df = pd.read_csv('/work/Nov2Temp.csv')\n",
    "df.drop([72, 79], inplace = True)\n",
    "df"
   ]
  },
  {
   "cell_type": "code",
   "execution_count": 18,
   "metadata": {
    "cell_id": "a123fea9f22640309c5f6917aeddbd85",
    "deepnote_app_coordinates": {
     "h": 5,
     "w": 12,
     "x": 0,
     "y": 31
    },
    "deepnote_cell_type": "code",
    "deepnote_to_be_reexecuted": false,
    "execution_millis": 71,
    "execution_start": 1667699378074,
    "source_hash": "80de2b17",
    "tags": []
   },
   "outputs": [
    {
     "data": {
      "application/vnd.deepnote.dataframe.v3+json": {
       "column_count": 2,
       "columns": [
        {
         "dtype": "int64",
         "name": "high",
         "stats": {
          "histogram": [
           {
            "bin_end": 21.1,
            "bin_start": 15,
            "count": 1
           },
           {
            "bin_end": 27.2,
            "bin_start": 21.1,
            "count": 0
           },
           {
            "bin_end": 33.3,
            "bin_start": 27.2,
            "count": 1
           },
           {
            "bin_end": 39.4,
            "bin_start": 33.3,
            "count": 0
           },
           {
            "bin_end": 45.5,
            "bin_start": 39.4,
            "count": 1
           },
           {
            "bin_end": 51.599999999999994,
            "bin_start": 45.5,
            "count": 1
           },
           {
            "bin_end": 57.699999999999996,
            "bin_start": 51.599999999999994,
            "count": 0
           },
           {
            "bin_end": 63.8,
            "bin_start": 57.699999999999996,
            "count": 0
           },
           {
            "bin_end": 69.9,
            "bin_start": 63.8,
            "count": 1
           },
           {
            "bin_end": 76,
            "bin_start": 69.9,
            "count": 1
           }
          ],
          "max": "76",
          "min": "15",
          "nan_count": 0,
          "unique_count": 6
         }
        },
        {
         "dtype": "int64",
         "name": "low",
         "stats": {
          "histogram": [
           {
            "bin_end": 54,
            "bin_start": 49,
            "count": 2
           },
           {
            "bin_end": 59,
            "bin_start": 54,
            "count": 1
           },
           {
            "bin_end": 64,
            "bin_start": 59,
            "count": 0
           },
           {
            "bin_end": 69,
            "bin_start": 64,
            "count": 0
           },
           {
            "bin_end": 74,
            "bin_start": 69,
            "count": 0
           },
           {
            "bin_end": 79,
            "bin_start": 74,
            "count": 0
           },
           {
            "bin_end": 84,
            "bin_start": 79,
            "count": 0
           },
           {
            "bin_end": 89,
            "bin_start": 84,
            "count": 0
           },
           {
            "bin_end": 94,
            "bin_start": 89,
            "count": 0
           },
           {
            "bin_end": 99,
            "bin_start": 94,
            "count": 3
           }
          ],
          "max": "99",
          "min": "49",
          "nan_count": 0,
          "unique_count": 4
         }
        },
        {
         "dtype": "int64",
         "name": "_deepnote_index_column"
        }
       ],
       "row_count": 6,
       "rows": [
        {
         "_deepnote_index_column": "43",
         "high": "76",
         "low": "54"
        },
        {
         "_deepnote_index_column": "111",
         "high": "48",
         "low": "99"
        },
        {
         "_deepnote_index_column": "112",
         "high": "43",
         "low": "99"
        },
        {
         "_deepnote_index_column": "113",
         "high": "64",
         "low": "99"
        },
        {
         "_deepnote_index_column": "118",
         "high": "15",
         "low": "51"
        },
        {
         "_deepnote_index_column": "119",
         "high": "30",
         "low": "49"
        }
       ]
      },
      "text/html": [
       "<div>\n",
       "<style scoped>\n",
       "    .dataframe tbody tr th:only-of-type {\n",
       "        vertical-align: middle;\n",
       "    }\n",
       "\n",
       "    .dataframe tbody tr th {\n",
       "        vertical-align: top;\n",
       "    }\n",
       "\n",
       "    .dataframe thead th {\n",
       "        text-align: right;\n",
       "    }\n",
       "</style>\n",
       "<table border=\"1\" class=\"dataframe\">\n",
       "  <thead>\n",
       "    <tr style=\"text-align: right;\">\n",
       "      <th></th>\n",
       "      <th>high</th>\n",
       "      <th>low</th>\n",
       "    </tr>\n",
       "  </thead>\n",
       "  <tbody>\n",
       "    <tr>\n",
       "      <th>43</th>\n",
       "      <td>76</td>\n",
       "      <td>54</td>\n",
       "    </tr>\n",
       "    <tr>\n",
       "      <th>111</th>\n",
       "      <td>48</td>\n",
       "      <td>99</td>\n",
       "    </tr>\n",
       "    <tr>\n",
       "      <th>112</th>\n",
       "      <td>43</td>\n",
       "      <td>99</td>\n",
       "    </tr>\n",
       "    <tr>\n",
       "      <th>113</th>\n",
       "      <td>64</td>\n",
       "      <td>99</td>\n",
       "    </tr>\n",
       "    <tr>\n",
       "      <th>118</th>\n",
       "      <td>15</td>\n",
       "      <td>51</td>\n",
       "    </tr>\n",
       "    <tr>\n",
       "      <th>119</th>\n",
       "      <td>30</td>\n",
       "      <td>49</td>\n",
       "    </tr>\n",
       "  </tbody>\n",
       "</table>\n",
       "</div>"
      ],
      "text/plain": [
       "     high  low\n",
       "43     76   54\n",
       "111    48   99\n",
       "112    43   99\n",
       "113    64   99\n",
       "118    15   51\n",
       "119    30   49"
      ]
     },
     "execution_count": 18,
     "metadata": {},
     "output_type": "execute_result"
    }
   ],
   "source": [
    "from sklearn.svm import OneClassSVM\n",
    "from sklearn.preprocessing import StandardScaler\n",
    "\n",
    "X = StandardScaler().fit_transform(df)\n",
    "clf = OneClassSVM(kernel = 'linear').fit(X)\n",
    "pred = clf.predict(X)\n",
    "df[pred == -1]"
   ]
  }
 ],
 "metadata": {
  "deepnote": {},
  "deepnote_app_layout": "article",
  "deepnote_execution_queue": [],
  "deepnote_notebook_id": "2fbcd5740a714973af05c6bc92bf7a8c",
  "kernelspec": {
   "display_name": "Python 3 (ipykernel)",
   "language": "python",
   "name": "python3"
  },
  "language_info": {
   "codemirror_mode": {
    "name": "ipython",
    "version": 3
   },
   "file_extension": ".py",
   "mimetype": "text/x-python",
   "name": "python",
   "nbconvert_exporter": "python",
   "pygments_lexer": "ipython3",
   "version": "3.8.16"
  }
 },
 "nbformat": 4,
 "nbformat_minor": 4
}
