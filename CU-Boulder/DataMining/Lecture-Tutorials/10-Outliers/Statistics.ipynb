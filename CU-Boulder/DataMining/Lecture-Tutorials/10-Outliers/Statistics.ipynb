{
 "cells": [
  {
   "cell_type": "markdown",
   "metadata": {
    "cell_id": "81ab304eaf6e4a1aae931777e9a35b7b",
    "deepnote_app_coordinates": {
     "h": 5,
     "w": 12,
     "x": 0,
     "y": 1
    },
    "deepnote_cell_type": "markdown",
    "tags": []
   },
   "source": [
    "# Statistical Outlier Detection\n",
    "In statistics, if a data distribution is approximately normal, then we can use the mean and standard derivation to estimate the probability of a data point falls into a certain range:\n",
    "*   68% data falls in mean +/- one standard derivation\n",
    "*   95% data falls in mean +/- two standard derivations\n",
    "*   99.7% data falls in mean +/- three standard derivations\n",
    "Thus, we can use mean +/ three standard derivations as the boundary of normal data. Any data falls out of the boundary will be considered as outliers."
   ]
  },
  {
   "cell_type": "markdown",
   "metadata": {
    "cell_id": "a1272e70d18347828d1fb8a925eb1917",
    "deepnote_app_coordinates": {
     "h": 5,
     "w": 12,
     "x": 0,
     "y": 7
    },
    "deepnote_cell_type": "markdown",
    "tags": []
   },
   "source": [
    "## Dependencies"
   ]
  },
  {
   "cell_type": "code",
   "execution_count": 1,
   "metadata": {
    "cell_id": "2e39e40887784e49aac6420d8f434128",
    "deepnote_app_coordinates": {
     "h": 5,
     "w": 12,
     "x": 0,
     "y": 13
    },
    "deepnote_cell_type": "code",
    "deepnote_to_be_reexecuted": false,
    "execution_millis": 629,
    "execution_start": 1667702449714,
    "source_hash": "cceb3d48",
    "tags": []
   },
   "outputs": [],
   "source": [
    "import numpy as np\n",
    "import pandas as pd\n",
    "import matplotlib.pyplot as plt\n",
    "import seaborn as sns"
   ]
  },
  {
   "cell_type": "markdown",
   "metadata": {
    "cell_id": "aee620b01e5d4a268e48a1da388eafb4",
    "deepnote_app_coordinates": {
     "h": 5,
     "w": 12,
     "x": 0,
     "y": 19
    },
    "deepnote_cell_type": "markdown",
    "tags": []
   },
   "source": [
    "## Read data"
   ]
  },
  {
   "cell_type": "code",
   "execution_count": 2,
   "metadata": {
    "cell_id": "2e9b054a785745f5abe171d061645fa5",
    "deepnote_app_coordinates": {
     "h": 5,
     "w": 12,
     "x": 0,
     "y": 25
    },
    "deepnote_cell_type": "code",
    "deepnote_to_be_reexecuted": false,
    "execution_millis": 43,
    "execution_start": 1667702450346,
    "source_hash": "be1c79dd",
    "tags": []
   },
   "outputs": [
    {
     "data": {
      "application/vnd.deepnote.dataframe.v3+json": {
       "column_count": 2,
       "columns": [
        {
         "dtype": "int64",
         "name": "high",
         "stats": {
          "histogram": [
           {
            "bin_end": -888.3,
            "bin_start": -998,
            "count": 2
           },
           {
            "bin_end": -778.6,
            "bin_start": -888.3,
            "count": 0
           },
           {
            "bin_end": -668.9,
            "bin_start": -778.6,
            "count": 0
           },
           {
            "bin_end": -559.2,
            "bin_start": -668.9,
            "count": 0
           },
           {
            "bin_end": -449.5,
            "bin_start": -559.2,
            "count": 0
           },
           {
            "bin_end": -339.79999999999995,
            "bin_start": -449.5,
            "count": 0
           },
           {
            "bin_end": -230.10000000000002,
            "bin_start": -339.79999999999995,
            "count": 0
           },
           {
            "bin_end": -120.39999999999998,
            "bin_start": -230.10000000000002,
            "count": 0
           },
           {
            "bin_end": -10.699999999999932,
            "bin_start": -120.39999999999998,
            "count": 0
           },
           {
            "bin_end": 99,
            "bin_start": -10.699999999999932,
            "count": 118
           }
          ],
          "max": "99",
          "min": "-998",
          "nan_count": 0,
          "unique_count": 47
         }
        },
        {
         "dtype": "int64",
         "name": "low",
         "stats": {
          "histogram": [
           {
            "bin_end": -888.3,
            "bin_start": -998,
            "count": 2
           },
           {
            "bin_end": -778.6,
            "bin_start": -888.3,
            "count": 0
           },
           {
            "bin_end": -668.9,
            "bin_start": -778.6,
            "count": 0
           },
           {
            "bin_end": -559.2,
            "bin_start": -668.9,
            "count": 0
           },
           {
            "bin_end": -449.5,
            "bin_start": -559.2,
            "count": 0
           },
           {
            "bin_end": -339.79999999999995,
            "bin_start": -449.5,
            "count": 0
           },
           {
            "bin_end": -230.10000000000002,
            "bin_start": -339.79999999999995,
            "count": 0
           },
           {
            "bin_end": -120.39999999999998,
            "bin_start": -230.10000000000002,
            "count": 0
           },
           {
            "bin_end": -10.699999999999932,
            "bin_start": -120.39999999999998,
            "count": 0
           },
           {
            "bin_end": 99,
            "bin_start": -10.699999999999932,
            "count": 118
           }
          ],
          "max": "99",
          "min": "-998",
          "nan_count": 0,
          "unique_count": 40
         }
        },
        {
         "dtype": "int64",
         "name": "_deepnote_index_column"
        }
       ],
       "row_count": 120,
       "rows": [
        {
         "_deepnote_index_column": "0",
         "high": "58",
         "low": "25"
        },
        {
         "_deepnote_index_column": "1",
         "high": "26",
         "low": "11"
        },
        {
         "_deepnote_index_column": "2",
         "high": "53",
         "low": "24"
        },
        {
         "_deepnote_index_column": "3",
         "high": "60",
         "low": "37"
        },
        {
         "_deepnote_index_column": "4",
         "high": "67",
         "low": "42"
        },
        {
         "_deepnote_index_column": "5",
         "high": "70",
         "low": "37"
        },
        {
         "_deepnote_index_column": "6",
         "high": "68",
         "low": "41"
        },
        {
         "_deepnote_index_column": "7",
         "high": "68",
         "low": "34"
        },
        {
         "_deepnote_index_column": "8",
         "high": "69",
         "low": "43"
        },
        {
         "_deepnote_index_column": "9",
         "high": "57",
         "low": "33"
        }
       ]
      },
      "text/html": [
       "<div>\n",
       "<style scoped>\n",
       "    .dataframe tbody tr th:only-of-type {\n",
       "        vertical-align: middle;\n",
       "    }\n",
       "\n",
       "    .dataframe tbody tr th {\n",
       "        vertical-align: top;\n",
       "    }\n",
       "\n",
       "    .dataframe thead th {\n",
       "        text-align: right;\n",
       "    }\n",
       "</style>\n",
       "<table border=\"1\" class=\"dataframe\">\n",
       "  <thead>\n",
       "    <tr style=\"text-align: right;\">\n",
       "      <th></th>\n",
       "      <th>high</th>\n",
       "      <th>low</th>\n",
       "    </tr>\n",
       "  </thead>\n",
       "  <tbody>\n",
       "    <tr>\n",
       "      <th>0</th>\n",
       "      <td>58</td>\n",
       "      <td>25</td>\n",
       "    </tr>\n",
       "    <tr>\n",
       "      <th>1</th>\n",
       "      <td>26</td>\n",
       "      <td>11</td>\n",
       "    </tr>\n",
       "    <tr>\n",
       "      <th>2</th>\n",
       "      <td>53</td>\n",
       "      <td>24</td>\n",
       "    </tr>\n",
       "    <tr>\n",
       "      <th>3</th>\n",
       "      <td>60</td>\n",
       "      <td>37</td>\n",
       "    </tr>\n",
       "    <tr>\n",
       "      <th>4</th>\n",
       "      <td>67</td>\n",
       "      <td>42</td>\n",
       "    </tr>\n",
       "    <tr>\n",
       "      <th>...</th>\n",
       "      <td>...</td>\n",
       "      <td>...</td>\n",
       "    </tr>\n",
       "    <tr>\n",
       "      <th>115</th>\n",
       "      <td>99</td>\n",
       "      <td>33</td>\n",
       "    </tr>\n",
       "    <tr>\n",
       "      <th>116</th>\n",
       "      <td>99</td>\n",
       "      <td>27</td>\n",
       "    </tr>\n",
       "    <tr>\n",
       "      <th>117</th>\n",
       "      <td>18</td>\n",
       "      <td>38</td>\n",
       "    </tr>\n",
       "    <tr>\n",
       "      <th>118</th>\n",
       "      <td>15</td>\n",
       "      <td>51</td>\n",
       "    </tr>\n",
       "    <tr>\n",
       "      <th>119</th>\n",
       "      <td>30</td>\n",
       "      <td>49</td>\n",
       "    </tr>\n",
       "  </tbody>\n",
       "</table>\n",
       "<p>120 rows × 2 columns</p>\n",
       "</div>"
      ],
      "text/plain": [
       "     high  low\n",
       "0      58   25\n",
       "1      26   11\n",
       "2      53   24\n",
       "3      60   37\n",
       "4      67   42\n",
       "..    ...  ...\n",
       "115    99   33\n",
       "116    99   27\n",
       "117    18   38\n",
       "118    15   51\n",
       "119    30   49\n",
       "\n",
       "[120 rows x 2 columns]"
      ]
     },
     "execution_count": 2,
     "metadata": {},
     "output_type": "execute_result"
    }
   ],
   "source": [
    "df = pd.read_csv('/work/Nov2Temp.csv')\n",
    "df"
   ]
  },
  {
   "cell_type": "markdown",
   "metadata": {
    "cell_id": "7c6266ee17ed408bbcdf782177c41903",
    "deepnote_app_coordinates": {
     "h": 5,
     "w": 12,
     "x": 0,
     "y": 31
    },
    "deepnote_cell_type": "markdown",
    "tags": []
   },
   "source": [
    "## Drop the missing values"
   ]
  },
  {
   "cell_type": "code",
   "execution_count": 3,
   "metadata": {
    "cell_id": "9c6696d2b78d4e5a880cc181825c84cf",
    "deepnote_app_coordinates": {
     "h": 5,
     "w": 12,
     "x": 0,
     "y": 37
    },
    "deepnote_cell_type": "code",
    "deepnote_to_be_reexecuted": false,
    "execution_millis": 27,
    "execution_start": 1667702450367,
    "source_hash": "416106cf",
    "tags": []
   },
   "outputs": [
    {
     "data": {
      "application/vnd.deepnote.dataframe.v3+json": {
       "column_count": 2,
       "columns": [
        {
         "dtype": "int64",
         "name": "high",
         "stats": {
          "histogram": [
           {
            "bin_end": -998.4,
            "bin_start": -998.5,
            "count": 0
           },
           {
            "bin_end": -998.3,
            "bin_start": -998.4,
            "count": 0
           },
           {
            "bin_end": -998.2,
            "bin_start": -998.3,
            "count": 0
           },
           {
            "bin_end": -998.1,
            "bin_start": -998.2,
            "count": 0
           },
           {
            "bin_end": -998,
            "bin_start": -998.1,
            "count": 0
           },
           {
            "bin_end": -997.9,
            "bin_start": -998,
            "count": 2
           },
           {
            "bin_end": -997.8,
            "bin_start": -997.9,
            "count": 0
           },
           {
            "bin_end": -997.7,
            "bin_start": -997.8,
            "count": 0
           },
           {
            "bin_end": -997.6,
            "bin_start": -997.7,
            "count": 0
           },
           {
            "bin_end": -997.5,
            "bin_start": -997.6,
            "count": 0
           }
          ],
          "max": "-998",
          "min": "-998",
          "nan_count": 0,
          "unique_count": 1
         }
        },
        {
         "dtype": "int64",
         "name": "low",
         "stats": {
          "histogram": [
           {
            "bin_end": -998.4,
            "bin_start": -998.5,
            "count": 0
           },
           {
            "bin_end": -998.3,
            "bin_start": -998.4,
            "count": 0
           },
           {
            "bin_end": -998.2,
            "bin_start": -998.3,
            "count": 0
           },
           {
            "bin_end": -998.1,
            "bin_start": -998.2,
            "count": 0
           },
           {
            "bin_end": -998,
            "bin_start": -998.1,
            "count": 0
           },
           {
            "bin_end": -997.9,
            "bin_start": -998,
            "count": 2
           },
           {
            "bin_end": -997.8,
            "bin_start": -997.9,
            "count": 0
           },
           {
            "bin_end": -997.7,
            "bin_start": -997.8,
            "count": 0
           },
           {
            "bin_end": -997.6,
            "bin_start": -997.7,
            "count": 0
           },
           {
            "bin_end": -997.5,
            "bin_start": -997.6,
            "count": 0
           }
          ],
          "max": "-998",
          "min": "-998",
          "nan_count": 0,
          "unique_count": 1
         }
        },
        {
         "dtype": "int64",
         "name": "_deepnote_index_column"
        }
       ],
       "row_count": 2,
       "rows": [
        {
         "_deepnote_index_column": "72",
         "high": "-998",
         "low": "-998"
        },
        {
         "_deepnote_index_column": "79",
         "high": "-998",
         "low": "-998"
        }
       ]
      },
      "text/html": [
       "<div>\n",
       "<style scoped>\n",
       "    .dataframe tbody tr th:only-of-type {\n",
       "        vertical-align: middle;\n",
       "    }\n",
       "\n",
       "    .dataframe tbody tr th {\n",
       "        vertical-align: top;\n",
       "    }\n",
       "\n",
       "    .dataframe thead th {\n",
       "        text-align: right;\n",
       "    }\n",
       "</style>\n",
       "<table border=\"1\" class=\"dataframe\">\n",
       "  <thead>\n",
       "    <tr style=\"text-align: right;\">\n",
       "      <th></th>\n",
       "      <th>high</th>\n",
       "      <th>low</th>\n",
       "    </tr>\n",
       "  </thead>\n",
       "  <tbody>\n",
       "    <tr>\n",
       "      <th>72</th>\n",
       "      <td>-998</td>\n",
       "      <td>-998</td>\n",
       "    </tr>\n",
       "    <tr>\n",
       "      <th>79</th>\n",
       "      <td>-998</td>\n",
       "      <td>-998</td>\n",
       "    </tr>\n",
       "  </tbody>\n",
       "</table>\n",
       "</div>"
      ],
      "text/plain": [
       "    high  low\n",
       "72  -998 -998\n",
       "79  -998 -998"
      ]
     },
     "execution_count": 3,
     "metadata": {},
     "output_type": "execute_result"
    }
   ],
   "source": [
    "df[df['low']<-100]"
   ]
  },
  {
   "cell_type": "code",
   "execution_count": 4,
   "metadata": {
    "cell_id": "42ef5ef537eb425e8ce88660ad929b05",
    "deepnote_app_coordinates": {
     "h": 5,
     "w": 12,
     "x": 0,
     "y": 43
    },
    "deepnote_cell_type": "code",
    "deepnote_table_loading": false,
    "deepnote_table_state": {
     "filters": [],
     "pageIndex": 1,
     "pageSize": 50,
     "sortBy": []
    },
    "deepnote_to_be_reexecuted": false,
    "execution_millis": 2,
    "execution_start": 1667702450392,
    "source_hash": "1ecd6d9c",
    "tags": []
   },
   "outputs": [
    {
     "data": {
      "application/vnd.deepnote.dataframe.v3+json": {
       "column_count": 2,
       "columns": [
        {
         "dtype": "int64",
         "name": "high",
         "stats": {
          "histogram": [
           {
            "bin_end": 23.4,
            "bin_start": 15,
            "count": 4
           },
           {
            "bin_end": 31.8,
            "bin_start": 23.4,
            "count": 4
           },
           {
            "bin_end": 40.2,
            "bin_start": 31.8,
            "count": 7
           },
           {
            "bin_end": 48.6,
            "bin_start": 40.2,
            "count": 15
           },
           {
            "bin_end": 57,
            "bin_start": 48.6,
            "count": 25
           },
           {
            "bin_end": 65.4,
            "bin_start": 57,
            "count": 30
           },
           {
            "bin_end": 73.80000000000001,
            "bin_start": 65.4,
            "count": 24
           },
           {
            "bin_end": 82.2,
            "bin_start": 73.80000000000001,
            "count": 6
           },
           {
            "bin_end": 90.60000000000001,
            "bin_start": 82.2,
            "count": 0
           },
           {
            "bin_end": 99,
            "bin_start": 90.60000000000001,
            "count": 3
           }
          ],
          "max": "99",
          "min": "15",
          "nan_count": 0,
          "unique_count": 46
         }
        },
        {
         "dtype": "int64",
         "name": "low",
         "stats": {
          "histogram": [
           {
            "bin_end": 8.1,
            "bin_start": -2,
            "count": 2
           },
           {
            "bin_end": 18.2,
            "bin_start": 8.1,
            "count": 12
           },
           {
            "bin_end": 28.299999999999997,
            "bin_start": 18.2,
            "count": 28
           },
           {
            "bin_end": 38.4,
            "bin_start": 28.299999999999997,
            "count": 47
           },
           {
            "bin_end": 48.5,
            "bin_start": 38.4,
            "count": 23
           },
           {
            "bin_end": 58.599999999999994,
            "bin_start": 48.5,
            "count": 3
           },
           {
            "bin_end": 68.7,
            "bin_start": 58.599999999999994,
            "count": 0
           },
           {
            "bin_end": 78.8,
            "bin_start": 68.7,
            "count": 0
           },
           {
            "bin_end": 88.89999999999999,
            "bin_start": 78.8,
            "count": 0
           },
           {
            "bin_end": 99,
            "bin_start": 88.89999999999999,
            "count": 3
           }
          ],
          "max": "99",
          "min": "-2",
          "nan_count": 0,
          "unique_count": 39
         }
        },
        {
         "dtype": "int64",
         "name": "_deepnote_index_column"
        }
       ],
       "row_count": 118,
       "rows": [
        {
         "_deepnote_index_column": "50",
         "high": "60",
         "low": "31"
        },
        {
         "_deepnote_index_column": "51",
         "high": "52",
         "low": "24"
        },
        {
         "_deepnote_index_column": "52",
         "high": "64",
         "low": "39"
        },
        {
         "_deepnote_index_column": "53",
         "high": "66",
         "low": "27"
        },
        {
         "_deepnote_index_column": "54",
         "high": "66",
         "low": "40"
        },
        {
         "_deepnote_index_column": "55",
         "high": "73",
         "low": "42"
        },
        {
         "_deepnote_index_column": "56",
         "high": "66",
         "low": "21"
        },
        {
         "_deepnote_index_column": "57",
         "high": "55",
         "low": "22"
        },
        {
         "_deepnote_index_column": "58",
         "high": "58",
         "low": "34"
        },
        {
         "_deepnote_index_column": "59",
         "high": "34",
         "low": "27"
        },
        {
         "_deepnote_index_column": "60",
         "high": "41",
         "low": "22"
        },
        {
         "_deepnote_index_column": "61",
         "high": "48",
         "low": "39"
        },
        {
         "_deepnote_index_column": "62",
         "high": "57",
         "low": "27"
        },
        {
         "_deepnote_index_column": "63",
         "high": "48",
         "low": "23"
        },
        {
         "_deepnote_index_column": "64",
         "high": "47",
         "low": "36"
        },
        {
         "_deepnote_index_column": "65",
         "high": "65",
         "low": "35"
        },
        {
         "_deepnote_index_column": "66",
         "high": "55",
         "low": "36"
        },
        {
         "_deepnote_index_column": "67",
         "high": "61",
         "low": "29"
        },
        {
         "_deepnote_index_column": "68",
         "high": "71",
         "low": "40"
        },
        {
         "_deepnote_index_column": "69",
         "high": "53",
         "low": "22"
        },
        {
         "_deepnote_index_column": "70",
         "high": "74",
         "low": "46"
        },
        {
         "_deepnote_index_column": "71",
         "high": "61",
         "low": "40"
        },
        {
         "_deepnote_index_column": "73",
         "high": "69",
         "low": "42"
        },
        {
         "_deepnote_index_column": "74",
         "high": "58",
         "low": "26"
        },
        {
         "_deepnote_index_column": "75",
         "high": "61",
         "low": "33"
        },
        {
         "_deepnote_index_column": "76",
         "high": "45",
         "low": "24"
        },
        {
         "_deepnote_index_column": "77",
         "high": "67",
         "low": "45"
        },
        {
         "_deepnote_index_column": "78",
         "high": "67",
         "low": "46"
        },
        {
         "_deepnote_index_column": "80",
         "high": "57",
         "low": "29"
        },
        {
         "_deepnote_index_column": "81",
         "high": "18",
         "low": "-1"
        },
        {
         "_deepnote_index_column": "82",
         "high": "48",
         "low": "29"
        },
        {
         "_deepnote_index_column": "83",
         "high": "52",
         "low": "20"
        },
        {
         "_deepnote_index_column": "84",
         "high": "50",
         "low": "34"
        },
        {
         "_deepnote_index_column": "85",
         "high": "26",
         "low": "13"
        },
        {
         "_deepnote_index_column": "86",
         "high": "62",
         "low": "29"
        },
        {
         "_deepnote_index_column": "87",
         "high": "52",
         "low": "34"
        },
        {
         "_deepnote_index_column": "88",
         "high": "42",
         "low": "33"
        },
        {
         "_deepnote_index_column": "89",
         "high": "60",
         "low": "17"
        },
        {
         "_deepnote_index_column": "90",
         "high": "49",
         "low": "30"
        },
        {
         "_deepnote_index_column": "91",
         "high": "61",
         "low": "34"
        },
        {
         "_deepnote_index_column": "92",
         "high": "38",
         "low": "18"
        },
        {
         "_deepnote_index_column": "93",
         "high": "37",
         "low": "27"
        },
        {
         "_deepnote_index_column": "94",
         "high": "51",
         "low": "15"
        },
        {
         "_deepnote_index_column": "95",
         "high": "78",
         "low": "43"
        },
        {
         "_deepnote_index_column": "96",
         "high": "51",
         "low": "21"
        },
        {
         "_deepnote_index_column": "97",
         "high": "59",
         "low": "29"
        },
        {
         "_deepnote_index_column": "98",
         "high": "74",
         "low": "42"
        },
        {
         "_deepnote_index_column": "99",
         "high": "49",
         "low": "33"
        },
        {
         "_deepnote_index_column": "100",
         "high": "70",
         "low": "33"
        },
        {
         "_deepnote_index_column": "101",
         "high": "40",
         "low": "22"
        }
       ]
      },
      "text/html": [
       "<div>\n",
       "<style scoped>\n",
       "    .dataframe tbody tr th:only-of-type {\n",
       "        vertical-align: middle;\n",
       "    }\n",
       "\n",
       "    .dataframe tbody tr th {\n",
       "        vertical-align: top;\n",
       "    }\n",
       "\n",
       "    .dataframe thead th {\n",
       "        text-align: right;\n",
       "    }\n",
       "</style>\n",
       "<table border=\"1\" class=\"dataframe\">\n",
       "  <thead>\n",
       "    <tr style=\"text-align: right;\">\n",
       "      <th></th>\n",
       "      <th>high</th>\n",
       "      <th>low</th>\n",
       "    </tr>\n",
       "  </thead>\n",
       "  <tbody>\n",
       "    <tr>\n",
       "      <th>0</th>\n",
       "      <td>58</td>\n",
       "      <td>25</td>\n",
       "    </tr>\n",
       "    <tr>\n",
       "      <th>1</th>\n",
       "      <td>26</td>\n",
       "      <td>11</td>\n",
       "    </tr>\n",
       "    <tr>\n",
       "      <th>2</th>\n",
       "      <td>53</td>\n",
       "      <td>24</td>\n",
       "    </tr>\n",
       "    <tr>\n",
       "      <th>3</th>\n",
       "      <td>60</td>\n",
       "      <td>37</td>\n",
       "    </tr>\n",
       "    <tr>\n",
       "      <th>4</th>\n",
       "      <td>67</td>\n",
       "      <td>42</td>\n",
       "    </tr>\n",
       "    <tr>\n",
       "      <th>...</th>\n",
       "      <td>...</td>\n",
       "      <td>...</td>\n",
       "    </tr>\n",
       "    <tr>\n",
       "      <th>115</th>\n",
       "      <td>99</td>\n",
       "      <td>33</td>\n",
       "    </tr>\n",
       "    <tr>\n",
       "      <th>116</th>\n",
       "      <td>99</td>\n",
       "      <td>27</td>\n",
       "    </tr>\n",
       "    <tr>\n",
       "      <th>117</th>\n",
       "      <td>18</td>\n",
       "      <td>38</td>\n",
       "    </tr>\n",
       "    <tr>\n",
       "      <th>118</th>\n",
       "      <td>15</td>\n",
       "      <td>51</td>\n",
       "    </tr>\n",
       "    <tr>\n",
       "      <th>119</th>\n",
       "      <td>30</td>\n",
       "      <td>49</td>\n",
       "    </tr>\n",
       "  </tbody>\n",
       "</table>\n",
       "<p>118 rows × 2 columns</p>\n",
       "</div>"
      ],
      "text/plain": [
       "     high  low\n",
       "0      58   25\n",
       "1      26   11\n",
       "2      53   24\n",
       "3      60   37\n",
       "4      67   42\n",
       "..    ...  ...\n",
       "115    99   33\n",
       "116    99   27\n",
       "117    18   38\n",
       "118    15   51\n",
       "119    30   49\n",
       "\n",
       "[118 rows x 2 columns]"
      ]
     },
     "execution_count": 6,
     "metadata": {},
     "output_type": "execute_result"
    }
   ],
   "source": [
    "df.drop([72, 79], inplace = True)\n",
    "df"
   ]
  },
  {
   "cell_type": "markdown",
   "metadata": {
    "cell_id": "161fa91e40494028aa1c36402b3f7b37",
    "deepnote_app_coordinates": {
     "h": 5,
     "w": 12,
     "x": 0,
     "y": 49
    },
    "deepnote_cell_type": "markdown",
    "tags": []
   },
   "source": [
    "## Run the detection"
   ]
  },
  {
   "cell_type": "code",
   "execution_count": 5,
   "metadata": {
    "cell_id": "4c4c4b2d73cb4b85942b28076b0dc86a",
    "deepnote_app_coordinates": {
     "h": 5,
     "w": 12,
     "x": 0,
     "y": 55
    },
    "deepnote_cell_type": "code",
    "deepnote_to_be_reexecuted": false,
    "execution_millis": 3,
    "execution_start": 1667702450401,
    "source_hash": "1fc6229a",
    "tags": []
   },
   "outputs": [
    {
     "data": {
      "application/vnd.deepnote.dataframe.v3+json": {
       "column_count": 2,
       "columns": [
        {
         "dtype": "int64",
         "name": "high",
         "stats": {
          "histogram": [
           {
            "bin_end": 45.1,
            "bin_start": 43,
            "count": 1
           },
           {
            "bin_end": 47.2,
            "bin_start": 45.1,
            "count": 0
           },
           {
            "bin_end": 49.3,
            "bin_start": 47.2,
            "count": 1
           },
           {
            "bin_end": 51.4,
            "bin_start": 49.3,
            "count": 0
           },
           {
            "bin_end": 53.5,
            "bin_start": 51.4,
            "count": 0
           },
           {
            "bin_end": 55.6,
            "bin_start": 53.5,
            "count": 0
           },
           {
            "bin_end": 57.7,
            "bin_start": 55.6,
            "count": 0
           },
           {
            "bin_end": 59.8,
            "bin_start": 57.7,
            "count": 0
           },
           {
            "bin_end": 61.900000000000006,
            "bin_start": 59.8,
            "count": 0
           },
           {
            "bin_end": 64,
            "bin_start": 61.900000000000006,
            "count": 1
           }
          ],
          "max": "64",
          "min": "43",
          "nan_count": 0,
          "unique_count": 3
         }
        },
        {
         "dtype": "int64",
         "name": "low",
         "stats": {
          "histogram": [
           {
            "bin_end": 98.6,
            "bin_start": 98.5,
            "count": 0
           },
           {
            "bin_end": 98.7,
            "bin_start": 98.6,
            "count": 0
           },
           {
            "bin_end": 98.8,
            "bin_start": 98.7,
            "count": 0
           },
           {
            "bin_end": 98.9,
            "bin_start": 98.8,
            "count": 0
           },
           {
            "bin_end": 99,
            "bin_start": 98.9,
            "count": 0
           },
           {
            "bin_end": 99.1,
            "bin_start": 99,
            "count": 3
           },
           {
            "bin_end": 99.2,
            "bin_start": 99.1,
            "count": 0
           },
           {
            "bin_end": 99.3,
            "bin_start": 99.2,
            "count": 0
           },
           {
            "bin_end": 99.4,
            "bin_start": 99.3,
            "count": 0
           },
           {
            "bin_end": 99.5,
            "bin_start": 99.4,
            "count": 0
           }
          ],
          "max": "99",
          "min": "99",
          "nan_count": 0,
          "unique_count": 1
         }
        },
        {
         "dtype": "int64",
         "name": "_deepnote_index_column"
        }
       ],
       "row_count": 3,
       "rows": [
        {
         "_deepnote_index_column": "111",
         "high": "48",
         "low": "99"
        },
        {
         "_deepnote_index_column": "112",
         "high": "43",
         "low": "99"
        },
        {
         "_deepnote_index_column": "113",
         "high": "64",
         "low": "99"
        }
       ]
      },
      "text/html": [
       "<div>\n",
       "<style scoped>\n",
       "    .dataframe tbody tr th:only-of-type {\n",
       "        vertical-align: middle;\n",
       "    }\n",
       "\n",
       "    .dataframe tbody tr th {\n",
       "        vertical-align: top;\n",
       "    }\n",
       "\n",
       "    .dataframe thead th {\n",
       "        text-align: right;\n",
       "    }\n",
       "</style>\n",
       "<table border=\"1\" class=\"dataframe\">\n",
       "  <thead>\n",
       "    <tr style=\"text-align: right;\">\n",
       "      <th></th>\n",
       "      <th>high</th>\n",
       "      <th>low</th>\n",
       "    </tr>\n",
       "  </thead>\n",
       "  <tbody>\n",
       "    <tr>\n",
       "      <th>111</th>\n",
       "      <td>48</td>\n",
       "      <td>99</td>\n",
       "    </tr>\n",
       "    <tr>\n",
       "      <th>112</th>\n",
       "      <td>43</td>\n",
       "      <td>99</td>\n",
       "    </tr>\n",
       "    <tr>\n",
       "      <th>113</th>\n",
       "      <td>64</td>\n",
       "      <td>99</td>\n",
       "    </tr>\n",
       "  </tbody>\n",
       "</table>\n",
       "</div>"
      ],
      "text/plain": [
       "     high  low\n",
       "111    48   99\n",
       "112    43   99\n",
       "113    64   99"
      ]
     },
     "execution_count": 5,
     "metadata": {},
     "output_type": "execute_result"
    }
   ],
   "source": [
    "df[(df['high']< (df['high'].mean() - 3 * df['high'].std()))|\n",
    "(df['high']> (df['high'].mean() + 3 * df['high'].std()))|\n",
    "(df['low']< (df['low'].mean() - 3 * df['low'].std()))|\n",
    "(df['low']> (df['low'].mean() + 3 * df['low'].std()))]"
   ]
  }
 ],
 "metadata": {
  "deepnote": {},
  "deepnote_app_layout": "article",
  "deepnote_execution_queue": [],
  "deepnote_notebook_id": "2844724c9c994b74847d8a67fa56316e",
  "deepnote_persisted_session": {
   "createdAt": "2022-11-06T03:01:41.786Z"
  },
  "kernelspec": {
   "display_name": "Python 3 (ipykernel)",
   "language": "python",
   "name": "python3"
  },
  "language_info": {
   "codemirror_mode": {
    "name": "ipython",
    "version": 3
   },
   "file_extension": ".py",
   "mimetype": "text/x-python",
   "name": "python",
   "nbconvert_exporter": "python",
   "pygments_lexer": "ipython3",
   "version": "3.8.16"
  }
 },
 "nbformat": 4,
 "nbformat_minor": 4
}
