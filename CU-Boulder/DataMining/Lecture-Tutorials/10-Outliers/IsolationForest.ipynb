{
 "cells": [
  {
   "cell_type": "raw",
   "metadata": {},
   "source": [
    "---\n",
    "title: \"Outlier Detectiong - Isolation Forest\"\n",
    "format:\n",
    "    html:\n",
    "        code-fold: false\n",
    "execute:\n",
    "    output: true\n",
    "    warning: false\n",
    "toc: true\n",
    "jupyter: python3\n",
    "---"
   ]
  },
  {
   "cell_type": "markdown",
   "metadata": {
    "cell_id": "1263e6fd2d3849bcbd9b3a477bab2c3d",
    "deepnote_app_coordinates": {
     "h": 5,
     "w": 12,
     "x": 0,
     "y": 1
    },
    "deepnote_cell_type": "markdown",
    "tags": []
   },
   "source": [
    "# Outlier Detection - Isolation Forest\n",
    "\n",
    "Isolation Forest Algorithm.\n",
    "\n",
    "Return the anomaly score of each sample using the IsolationForest algorithm\n",
    "\n",
    "The IsolationForest ‘isolates’ observations by randomly selecting a feature and then randomly selecting a split value between the maximum and minimum values of the selected feature.\n",
    "\n",
    "Since recursive partitioning can be represented by a tree structure, the number of splittings required to isolate a sample is equivalent to the path length from the root node to the terminating node.\n",
    "\n",
    "This path length, averaged over a forest of such random trees, is a measure of normality and our decision function.\n",
    "\n",
    "Random partitioning produces noticeably shorter paths for anomalies. Hence, when a forest of random trees collectively produce shorter path lengths for particular samples, they are highly likely to be anomalies.\n",
    "\n",
    "User Guide: https://scikit-learn.org/stable/modules/outlier_detection.html#isolation-forest"
   ]
  },
  {
   "cell_type": "markdown",
   "metadata": {
    "cell_id": "5e0c738304b64ea4b8aab2d43a95a567",
    "deepnote_app_coordinates": {
     "h": 5,
     "w": 12,
     "x": 0,
     "y": 7
    },
    "deepnote_cell_type": "markdown",
    "tags": []
   },
   "source": [
    "## Dependencies"
   ]
  },
  {
   "cell_type": "code",
   "execution_count": 1,
   "metadata": {
    "cell_id": "fa28d54b206444d8b1110a4307e540e4",
    "deepnote_app_coordinates": {
     "h": 5,
     "w": 12,
     "x": 0,
     "y": 13
    },
    "deepnote_cell_type": "code",
    "deepnote_to_be_reexecuted": false,
    "execution_millis": 2436,
    "execution_start": 1667949869402,
    "source_hash": "cceb3d48",
    "tags": []
   },
   "outputs": [],
   "source": [
    "import numpy as np\n",
    "import pandas as pd\n",
    "import matplotlib.pyplot as plt\n",
    "import seaborn as sns"
   ]
  },
  {
   "cell_type": "markdown",
   "metadata": {
    "cell_id": "963d89eb00fd47ac854835446c0facff",
    "deepnote_app_coordinates": {
     "h": 5,
     "w": 12,
     "x": 0,
     "y": 19
    },
    "deepnote_cell_type": "markdown",
    "tags": []
   },
   "source": [
    "## Read data and remove missing value"
   ]
  },
  {
   "cell_type": "code",
   "execution_count": 2,
   "metadata": {
    "cell_id": "221684ede8744f0aa7b202bd1b9bfc67",
    "deepnote_app_coordinates": {
     "h": 5,
     "w": 12,
     "x": 0,
     "y": 25
    },
    "deepnote_cell_type": "code",
    "deepnote_to_be_reexecuted": false,
    "execution_millis": 2,
    "execution_start": 1667949871906,
    "source_hash": "be1c79dd",
    "tags": []
   },
   "outputs": [
    {
     "data": {
      "application/vnd.deepnote.dataframe.v3+json": {
       "column_count": 2,
       "columns": [
        {
         "dtype": "int64",
         "name": "high",
         "stats": {
          "histogram": [
           {
            "bin_end": -888.3,
            "bin_start": -998,
            "count": 2
           },
           {
            "bin_end": -778.6,
            "bin_start": -888.3,
            "count": 0
           },
           {
            "bin_end": -668.9,
            "bin_start": -778.6,
            "count": 0
           },
           {
            "bin_end": -559.2,
            "bin_start": -668.9,
            "count": 0
           },
           {
            "bin_end": -449.5,
            "bin_start": -559.2,
            "count": 0
           },
           {
            "bin_end": -339.79999999999995,
            "bin_start": -449.5,
            "count": 0
           },
           {
            "bin_end": -230.10000000000002,
            "bin_start": -339.79999999999995,
            "count": 0
           },
           {
            "bin_end": -120.39999999999998,
            "bin_start": -230.10000000000002,
            "count": 0
           },
           {
            "bin_end": -10.699999999999932,
            "bin_start": -120.39999999999998,
            "count": 0
           },
           {
            "bin_end": 99,
            "bin_start": -10.699999999999932,
            "count": 118
           }
          ],
          "max": "99",
          "min": "-998",
          "nan_count": 0,
          "unique_count": 47
         }
        },
        {
         "dtype": "int64",
         "name": "low",
         "stats": {
          "histogram": [
           {
            "bin_end": -888.3,
            "bin_start": -998,
            "count": 2
           },
           {
            "bin_end": -778.6,
            "bin_start": -888.3,
            "count": 0
           },
           {
            "bin_end": -668.9,
            "bin_start": -778.6,
            "count": 0
           },
           {
            "bin_end": -559.2,
            "bin_start": -668.9,
            "count": 0
           },
           {
            "bin_end": -449.5,
            "bin_start": -559.2,
            "count": 0
           },
           {
            "bin_end": -339.79999999999995,
            "bin_start": -449.5,
            "count": 0
           },
           {
            "bin_end": -230.10000000000002,
            "bin_start": -339.79999999999995,
            "count": 0
           },
           {
            "bin_end": -120.39999999999998,
            "bin_start": -230.10000000000002,
            "count": 0
           },
           {
            "bin_end": -10.699999999999932,
            "bin_start": -120.39999999999998,
            "count": 0
           },
           {
            "bin_end": 99,
            "bin_start": -10.699999999999932,
            "count": 118
           }
          ],
          "max": "99",
          "min": "-998",
          "nan_count": 0,
          "unique_count": 40
         }
        },
        {
         "dtype": "int64",
         "name": "_deepnote_index_column"
        }
       ],
       "row_count": 120,
       "rows": [
        {
         "_deepnote_index_column": "0",
         "high": "58",
         "low": "25"
        },
        {
         "_deepnote_index_column": "1",
         "high": "26",
         "low": "11"
        },
        {
         "_deepnote_index_column": "2",
         "high": "53",
         "low": "24"
        },
        {
         "_deepnote_index_column": "3",
         "high": "60",
         "low": "37"
        },
        {
         "_deepnote_index_column": "4",
         "high": "67",
         "low": "42"
        },
        {
         "_deepnote_index_column": "5",
         "high": "70",
         "low": "37"
        },
        {
         "_deepnote_index_column": "6",
         "high": "68",
         "low": "41"
        },
        {
         "_deepnote_index_column": "7",
         "high": "68",
         "low": "34"
        },
        {
         "_deepnote_index_column": "8",
         "high": "69",
         "low": "43"
        },
        {
         "_deepnote_index_column": "9",
         "high": "57",
         "low": "33"
        }
       ]
      },
      "text/html": [
       "<div>\n",
       "<style scoped>\n",
       "    .dataframe tbody tr th:only-of-type {\n",
       "        vertical-align: middle;\n",
       "    }\n",
       "\n",
       "    .dataframe tbody tr th {\n",
       "        vertical-align: top;\n",
       "    }\n",
       "\n",
       "    .dataframe thead th {\n",
       "        text-align: right;\n",
       "    }\n",
       "</style>\n",
       "<table border=\"1\" class=\"dataframe\">\n",
       "  <thead>\n",
       "    <tr style=\"text-align: right;\">\n",
       "      <th></th>\n",
       "      <th>high</th>\n",
       "      <th>low</th>\n",
       "    </tr>\n",
       "  </thead>\n",
       "  <tbody>\n",
       "    <tr>\n",
       "      <th>0</th>\n",
       "      <td>58</td>\n",
       "      <td>25</td>\n",
       "    </tr>\n",
       "    <tr>\n",
       "      <th>1</th>\n",
       "      <td>26</td>\n",
       "      <td>11</td>\n",
       "    </tr>\n",
       "    <tr>\n",
       "      <th>2</th>\n",
       "      <td>53</td>\n",
       "      <td>24</td>\n",
       "    </tr>\n",
       "    <tr>\n",
       "      <th>3</th>\n",
       "      <td>60</td>\n",
       "      <td>37</td>\n",
       "    </tr>\n",
       "    <tr>\n",
       "      <th>4</th>\n",
       "      <td>67</td>\n",
       "      <td>42</td>\n",
       "    </tr>\n",
       "    <tr>\n",
       "      <th>...</th>\n",
       "      <td>...</td>\n",
       "      <td>...</td>\n",
       "    </tr>\n",
       "    <tr>\n",
       "      <th>115</th>\n",
       "      <td>99</td>\n",
       "      <td>33</td>\n",
       "    </tr>\n",
       "    <tr>\n",
       "      <th>116</th>\n",
       "      <td>99</td>\n",
       "      <td>27</td>\n",
       "    </tr>\n",
       "    <tr>\n",
       "      <th>117</th>\n",
       "      <td>18</td>\n",
       "      <td>38</td>\n",
       "    </tr>\n",
       "    <tr>\n",
       "      <th>118</th>\n",
       "      <td>15</td>\n",
       "      <td>51</td>\n",
       "    </tr>\n",
       "    <tr>\n",
       "      <th>119</th>\n",
       "      <td>30</td>\n",
       "      <td>49</td>\n",
       "    </tr>\n",
       "  </tbody>\n",
       "</table>\n",
       "<p>120 rows × 2 columns</p>\n",
       "</div>"
      ],
      "text/plain": [
       "     high  low\n",
       "0      58   25\n",
       "1      26   11\n",
       "2      53   24\n",
       "3      60   37\n",
       "4      67   42\n",
       "..    ...  ...\n",
       "115    99   33\n",
       "116    99   27\n",
       "117    18   38\n",
       "118    15   51\n",
       "119    30   49\n",
       "\n",
       "[120 rows x 2 columns]"
      ]
     },
     "execution_count": 2,
     "metadata": {},
     "output_type": "execute_result"
    }
   ],
   "source": [
    "df = pd.read_csv('/work/Nov2Temp.csv')\n",
    "df"
   ]
  },
  {
   "cell_type": "code",
   "execution_count": 3,
   "metadata": {
    "cell_id": "7269a9de54bc46168002856639febc12",
    "deepnote_app_coordinates": {
     "h": 5,
     "w": 12,
     "x": 0,
     "y": 31
    },
    "deepnote_cell_type": "code",
    "deepnote_to_be_reexecuted": false,
    "execution_millis": 2,
    "execution_start": 1667949871908,
    "source_hash": "9f19f2f",
    "tags": []
   },
   "outputs": [],
   "source": [
    "df.drop([72, 79], inplace = True)"
   ]
  },
  {
   "cell_type": "markdown",
   "metadata": {
    "cell_id": "f3ae5c6d726b4d599b3f52a3a468b452",
    "deepnote_app_coordinates": {
     "h": 5,
     "w": 12,
     "x": 0,
     "y": 37
    },
    "deepnote_cell_type": "markdown",
    "tags": []
   },
   "source": [
    "## Detect outliers using IsolationForest"
   ]
  },
  {
   "cell_type": "code",
   "execution_count": 6,
   "metadata": {
    "cell_id": "0d912736b39644f180c028de1b21f2b4",
    "deepnote_app_coordinates": {
     "h": 5,
     "w": 12,
     "x": 0,
     "y": 43
    },
    "deepnote_cell_type": "code",
    "deepnote_to_be_reexecuted": false,
    "execution_millis": 531,
    "execution_start": 1667949911761,
    "source_hash": "c9be057e",
    "tags": []
   },
   "outputs": [
    {
     "name": "stderr",
     "output_type": "stream",
     "text": [
      "/shared-libs/python3.9/py/lib/python3.9/site-packages/sklearn/base.py:450: UserWarning: X does not have valid feature names, but IsolationForest was fitted with feature names\n",
      "  warnings.warn(\n",
      "/shared-libs/python3.9/py/lib/python3.9/site-packages/sklearn/base.py:450: UserWarning: X does not have valid feature names, but IsolationForest was fitted with feature names\n",
      "  warnings.warn(\n"
     ]
    },
    {
     "data": {
      "application/vnd.deepnote.dataframe.v3+json": {
       "column_count": 2,
       "columns": [
        {
         "dtype": "int64",
         "name": "high",
         "stats": {
          "histogram": [
           {
            "bin_end": 23.4,
            "bin_start": 15,
            "count": 2
           },
           {
            "bin_end": 31.8,
            "bin_start": 23.4,
            "count": 0
           },
           {
            "bin_end": 40.2,
            "bin_start": 31.8,
            "count": 0
           },
           {
            "bin_end": 48.6,
            "bin_start": 40.2,
            "count": 2
           },
           {
            "bin_end": 57,
            "bin_start": 48.6,
            "count": 0
           },
           {
            "bin_end": 65.4,
            "bin_start": 57,
            "count": 1
           },
           {
            "bin_end": 73.80000000000001,
            "bin_start": 65.4,
            "count": 0
           },
           {
            "bin_end": 82.2,
            "bin_start": 73.80000000000001,
            "count": 0
           },
           {
            "bin_end": 90.60000000000001,
            "bin_start": 82.2,
            "count": 0
           },
           {
            "bin_end": 99,
            "bin_start": 90.60000000000001,
            "count": 1
           }
          ],
          "max": "99",
          "min": "15",
          "nan_count": 0,
          "unique_count": 6
         }
        },
        {
         "dtype": "int64",
         "name": "low",
         "stats": {
          "histogram": [
           {
            "bin_end": 9,
            "bin_start": -1,
            "count": 1
           },
           {
            "bin_end": 19,
            "bin_start": 9,
            "count": 0
           },
           {
            "bin_end": 29,
            "bin_start": 19,
            "count": 1
           },
           {
            "bin_end": 39,
            "bin_start": 29,
            "count": 0
           },
           {
            "bin_end": 49,
            "bin_start": 39,
            "count": 0
           },
           {
            "bin_end": 59,
            "bin_start": 49,
            "count": 1
           },
           {
            "bin_end": 69,
            "bin_start": 59,
            "count": 0
           },
           {
            "bin_end": 79,
            "bin_start": 69,
            "count": 0
           },
           {
            "bin_end": 89,
            "bin_start": 79,
            "count": 0
           },
           {
            "bin_end": 99,
            "bin_start": 89,
            "count": 3
           }
          ],
          "max": "99",
          "min": "-1",
          "nan_count": 0,
          "unique_count": 4
         }
        },
        {
         "dtype": "int64",
         "name": "_deepnote_index_column"
        }
       ],
       "row_count": 6,
       "rows": [
        {
         "_deepnote_index_column": "81",
         "high": "18",
         "low": "-1"
        },
        {
         "_deepnote_index_column": "111",
         "high": "48",
         "low": "99"
        },
        {
         "_deepnote_index_column": "112",
         "high": "43",
         "low": "99"
        },
        {
         "_deepnote_index_column": "113",
         "high": "64",
         "low": "99"
        },
        {
         "_deepnote_index_column": "116",
         "high": "99",
         "low": "27"
        },
        {
         "_deepnote_index_column": "118",
         "high": "15",
         "low": "51"
        }
       ]
      },
      "text/html": [
       "<div>\n",
       "<style scoped>\n",
       "    .dataframe tbody tr th:only-of-type {\n",
       "        vertical-align: middle;\n",
       "    }\n",
       "\n",
       "    .dataframe tbody tr th {\n",
       "        vertical-align: top;\n",
       "    }\n",
       "\n",
       "    .dataframe thead th {\n",
       "        text-align: right;\n",
       "    }\n",
       "</style>\n",
       "<table border=\"1\" class=\"dataframe\">\n",
       "  <thead>\n",
       "    <tr style=\"text-align: right;\">\n",
       "      <th></th>\n",
       "      <th>high</th>\n",
       "      <th>low</th>\n",
       "    </tr>\n",
       "  </thead>\n",
       "  <tbody>\n",
       "    <tr>\n",
       "      <th>81</th>\n",
       "      <td>18</td>\n",
       "      <td>-1</td>\n",
       "    </tr>\n",
       "    <tr>\n",
       "      <th>111</th>\n",
       "      <td>48</td>\n",
       "      <td>99</td>\n",
       "    </tr>\n",
       "    <tr>\n",
       "      <th>112</th>\n",
       "      <td>43</td>\n",
       "      <td>99</td>\n",
       "    </tr>\n",
       "    <tr>\n",
       "      <th>113</th>\n",
       "      <td>64</td>\n",
       "      <td>99</td>\n",
       "    </tr>\n",
       "    <tr>\n",
       "      <th>116</th>\n",
       "      <td>99</td>\n",
       "      <td>27</td>\n",
       "    </tr>\n",
       "    <tr>\n",
       "      <th>118</th>\n",
       "      <td>15</td>\n",
       "      <td>51</td>\n",
       "    </tr>\n",
       "  </tbody>\n",
       "</table>\n",
       "</div>"
      ],
      "text/plain": [
       "     high  low\n",
       "81     18   -1\n",
       "111    48   99\n",
       "112    43   99\n",
       "113    64   99\n",
       "116    99   27\n",
       "118    15   51"
      ]
     },
     "execution_count": 6,
     "metadata": {},
     "output_type": "execute_result"
    }
   ],
   "source": [
    "from sklearn.ensemble import IsolationForest\n",
    "\n",
    "clf = IsolationForest(contamination = 0.05).fit(df)\n",
    "preds = clf.fit_predict(df)\n",
    "df[preds == -1]"
   ]
  }
 ],
 "metadata": {
  "deepnote": {},
  "deepnote_app_layout": "article",
  "deepnote_execution_queue": [],
  "deepnote_notebook_id": "6e958175a0f6436d94811b9eb30029ee",
  "deepnote_persisted_session": {
   "createdAt": "2022-11-08T23:46:52.831Z"
  },
  "kernelspec": {
   "display_name": "Python 3 (ipykernel)",
   "language": "python",
   "name": "python3"
  },
  "language_info": {
   "codemirror_mode": {
    "name": "ipython",
    "version": 3
   },
   "file_extension": ".py",
   "mimetype": "text/x-python",
   "name": "python",
   "nbconvert_exporter": "python",
   "pygments_lexer": "ipython3",
   "version": "3.8.16"
  }
 },
 "nbformat": 4,
 "nbformat_minor": 4
}
