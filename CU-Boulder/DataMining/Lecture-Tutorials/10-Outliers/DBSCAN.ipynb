{
 "cells": [
  {
   "cell_type": "raw",
   "metadata": {},
   "source": [
    "---\n",
    "title: \"Outlier Detection by DBSCAN\"\n",
    "format:\n",
    "    html:\n",
    "        code-fold: false\n",
    "execute:\n",
    "    output: true\n",
    "    warning: false\n",
    "toc: true\n",
    "jupyter: python3\n",
    "---"
   ]
  },
  {
   "cell_type": "markdown",
   "metadata": {
    "cell_id": "f0d1a81dc220404f84c8ca842d34c20d",
    "deepnote_app_coordinates": {
     "h": 5,
     "w": 12,
     "x": 0,
     "y": 1
    },
    "deepnote_cell_type": "markdown",
    "tags": []
   },
   "source": [
    "# Outlier Detection by DBSCAN\n",
    "\n",
    "We learned that DBSCAN is a density based clustering method based on the connectivities of data points. By setting the epsilon and min_point, we cand detect the data points that are isolated by majority of data points."
   ]
  },
  {
   "cell_type": "markdown",
   "metadata": {
    "cell_id": "d203f30a413d4c0f923018d329f33a8c",
    "deepnote_app_coordinates": {
     "h": 5,
     "w": 12,
     "x": 0,
     "y": 7
    },
    "deepnote_cell_type": "markdown",
    "tags": []
   },
   "source": [
    "## Dependencies"
   ]
  },
  {
   "cell_type": "code",
   "execution_count": 1,
   "metadata": {
    "cell_id": "79de5c6455ef4b1591220b9a2e59d935",
    "deepnote_app_coordinates": {
     "h": 5,
     "w": 12,
     "x": 0,
     "y": 13
    },
    "deepnote_cell_type": "code",
    "deepnote_to_be_reexecuted": false,
    "execution_millis": 1972,
    "execution_start": 1681234716513,
    "source_hash": "cceb3d48",
    "tags": []
   },
   "outputs": [],
   "source": [
    "import numpy as np\n",
    "import pandas as pd\n",
    "import matplotlib.pyplot as plt\n",
    "import seaborn as sns"
   ]
  },
  {
   "cell_type": "markdown",
   "metadata": {
    "cell_id": "edf9d1527bfd4e9096b0109d6c9aeb20",
    "deepnote_app_coordinates": {
     "h": 5,
     "w": 12,
     "x": 0,
     "y": 19
    },
    "deepnote_cell_type": "markdown",
    "tags": []
   },
   "source": [
    "## Read data in"
   ]
  },
  {
   "cell_type": "code",
   "execution_count": 2,
   "metadata": {
    "cell_id": "36b0104e90f742b8825359ac5b096f7e",
    "deepnote_app_coordinates": {
     "h": 5,
     "w": 12,
     "x": 0,
     "y": 25
    },
    "deepnote_cell_type": "code",
    "deepnote_to_be_reexecuted": false,
    "execution_millis": 558,
    "execution_start": 1681234717928,
    "source_hash": "be1c79dd",
    "tags": []
   },
   "outputs": [
    {
     "data": {
      "application/vnd.deepnote.dataframe.v3+json": {
       "column_count": 2,
       "columns": [
        {
         "dtype": "int64",
         "name": "high",
         "stats": {
          "histogram": [
           {
            "bin_end": -888.3,
            "bin_start": -998,
            "count": 2
           },
           {
            "bin_end": -778.6,
            "bin_start": -888.3,
            "count": 0
           },
           {
            "bin_end": -668.9,
            "bin_start": -778.6,
            "count": 0
           },
           {
            "bin_end": -559.2,
            "bin_start": -668.9,
            "count": 0
           },
           {
            "bin_end": -449.5,
            "bin_start": -559.2,
            "count": 0
           },
           {
            "bin_end": -339.79999999999995,
            "bin_start": -449.5,
            "count": 0
           },
           {
            "bin_end": -230.10000000000002,
            "bin_start": -339.79999999999995,
            "count": 0
           },
           {
            "bin_end": -120.39999999999998,
            "bin_start": -230.10000000000002,
            "count": 0
           },
           {
            "bin_end": -10.699999999999932,
            "bin_start": -120.39999999999998,
            "count": 0
           },
           {
            "bin_end": 99,
            "bin_start": -10.699999999999932,
            "count": 118
           }
          ],
          "max": "99",
          "min": "-998",
          "nan_count": 0,
          "unique_count": 47
         }
        },
        {
         "dtype": "int64",
         "name": "low",
         "stats": {
          "histogram": [
           {
            "bin_end": -888.3,
            "bin_start": -998,
            "count": 2
           },
           {
            "bin_end": -778.6,
            "bin_start": -888.3,
            "count": 0
           },
           {
            "bin_end": -668.9,
            "bin_start": -778.6,
            "count": 0
           },
           {
            "bin_end": -559.2,
            "bin_start": -668.9,
            "count": 0
           },
           {
            "bin_end": -449.5,
            "bin_start": -559.2,
            "count": 0
           },
           {
            "bin_end": -339.79999999999995,
            "bin_start": -449.5,
            "count": 0
           },
           {
            "bin_end": -230.10000000000002,
            "bin_start": -339.79999999999995,
            "count": 0
           },
           {
            "bin_end": -120.39999999999998,
            "bin_start": -230.10000000000002,
            "count": 0
           },
           {
            "bin_end": -10.699999999999932,
            "bin_start": -120.39999999999998,
            "count": 0
           },
           {
            "bin_end": 99,
            "bin_start": -10.699999999999932,
            "count": 118
           }
          ],
          "max": "99",
          "min": "-998",
          "nan_count": 0,
          "unique_count": 40
         }
        },
        {
         "dtype": "int64",
         "name": "_deepnote_index_column"
        }
       ],
       "row_count": 120,
       "rows": [
        {
         "_deepnote_index_column": "0",
         "high": "58",
         "low": "25"
        },
        {
         "_deepnote_index_column": "1",
         "high": "26",
         "low": "11"
        },
        {
         "_deepnote_index_column": "2",
         "high": "53",
         "low": "24"
        },
        {
         "_deepnote_index_column": "3",
         "high": "60",
         "low": "37"
        },
        {
         "_deepnote_index_column": "4",
         "high": "67",
         "low": "42"
        },
        {
         "_deepnote_index_column": "5",
         "high": "70",
         "low": "37"
        },
        {
         "_deepnote_index_column": "6",
         "high": "68",
         "low": "41"
        },
        {
         "_deepnote_index_column": "7",
         "high": "68",
         "low": "34"
        },
        {
         "_deepnote_index_column": "8",
         "high": "69",
         "low": "43"
        },
        {
         "_deepnote_index_column": "9",
         "high": "57",
         "low": "33"
        }
       ]
      },
      "text/html": [
       "<div>\n",
       "<style scoped>\n",
       "    .dataframe tbody tr th:only-of-type {\n",
       "        vertical-align: middle;\n",
       "    }\n",
       "\n",
       "    .dataframe tbody tr th {\n",
       "        vertical-align: top;\n",
       "    }\n",
       "\n",
       "    .dataframe thead th {\n",
       "        text-align: right;\n",
       "    }\n",
       "</style>\n",
       "<table border=\"1\" class=\"dataframe\">\n",
       "  <thead>\n",
       "    <tr style=\"text-align: right;\">\n",
       "      <th></th>\n",
       "      <th>high</th>\n",
       "      <th>low</th>\n",
       "    </tr>\n",
       "  </thead>\n",
       "  <tbody>\n",
       "    <tr>\n",
       "      <th>0</th>\n",
       "      <td>58</td>\n",
       "      <td>25</td>\n",
       "    </tr>\n",
       "    <tr>\n",
       "      <th>1</th>\n",
       "      <td>26</td>\n",
       "      <td>11</td>\n",
       "    </tr>\n",
       "    <tr>\n",
       "      <th>2</th>\n",
       "      <td>53</td>\n",
       "      <td>24</td>\n",
       "    </tr>\n",
       "    <tr>\n",
       "      <th>3</th>\n",
       "      <td>60</td>\n",
       "      <td>37</td>\n",
       "    </tr>\n",
       "    <tr>\n",
       "      <th>4</th>\n",
       "      <td>67</td>\n",
       "      <td>42</td>\n",
       "    </tr>\n",
       "    <tr>\n",
       "      <th>...</th>\n",
       "      <td>...</td>\n",
       "      <td>...</td>\n",
       "    </tr>\n",
       "    <tr>\n",
       "      <th>115</th>\n",
       "      <td>99</td>\n",
       "      <td>33</td>\n",
       "    </tr>\n",
       "    <tr>\n",
       "      <th>116</th>\n",
       "      <td>99</td>\n",
       "      <td>27</td>\n",
       "    </tr>\n",
       "    <tr>\n",
       "      <th>117</th>\n",
       "      <td>18</td>\n",
       "      <td>38</td>\n",
       "    </tr>\n",
       "    <tr>\n",
       "      <th>118</th>\n",
       "      <td>15</td>\n",
       "      <td>51</td>\n",
       "    </tr>\n",
       "    <tr>\n",
       "      <th>119</th>\n",
       "      <td>30</td>\n",
       "      <td>49</td>\n",
       "    </tr>\n",
       "  </tbody>\n",
       "</table>\n",
       "<p>120 rows × 2 columns</p>\n",
       "</div>"
      ],
      "text/plain": [
       "     high  low\n",
       "0      58   25\n",
       "1      26   11\n",
       "2      53   24\n",
       "3      60   37\n",
       "4      67   42\n",
       "..    ...  ...\n",
       "115    99   33\n",
       "116    99   27\n",
       "117    18   38\n",
       "118    15   51\n",
       "119    30   49\n",
       "\n",
       "[120 rows x 2 columns]"
      ]
     },
     "execution_count": 2,
     "metadata": {},
     "output_type": "execute_result"
    }
   ],
   "source": [
    "df = pd.read_csv('/work/Nov2Temp.csv')\n",
    "df"
   ]
  },
  {
   "cell_type": "markdown",
   "metadata": {
    "cell_id": "927903bd4c7c48149afeba953431ef89",
    "deepnote_app_coordinates": {
     "h": 5,
     "w": 12,
     "x": 0,
     "y": 31
    },
    "deepnote_cell_type": "markdown",
    "tags": []
   },
   "source": [
    "## Deal with missing values"
   ]
  },
  {
   "cell_type": "code",
   "execution_count": 3,
   "metadata": {
    "cell_id": "2c527327fe7748338e72c6e7d80585ed",
    "deepnote_app_coordinates": {
     "h": 5,
     "w": 12,
     "x": 0,
     "y": 37
    },
    "deepnote_cell_type": "code",
    "deepnote_to_be_reexecuted": false,
    "execution_millis": 551,
    "execution_start": 1681234717936,
    "source_hash": "ab652150",
    "tags": []
   },
   "outputs": [
    {
     "data": {
      "application/vnd.deepnote.dataframe.v3+json": {
       "column_count": 2,
       "columns": [
        {
         "dtype": "int64",
         "name": "high",
         "stats": {
          "histogram": [
           {
            "bin_end": -998.4,
            "bin_start": -998.5,
            "count": 0
           },
           {
            "bin_end": -998.3,
            "bin_start": -998.4,
            "count": 0
           },
           {
            "bin_end": -998.2,
            "bin_start": -998.3,
            "count": 0
           },
           {
            "bin_end": -998.1,
            "bin_start": -998.2,
            "count": 0
           },
           {
            "bin_end": -998,
            "bin_start": -998.1,
            "count": 0
           },
           {
            "bin_end": -997.9,
            "bin_start": -998,
            "count": 2
           },
           {
            "bin_end": -997.8,
            "bin_start": -997.9,
            "count": 0
           },
           {
            "bin_end": -997.7,
            "bin_start": -997.8,
            "count": 0
           },
           {
            "bin_end": -997.6,
            "bin_start": -997.7,
            "count": 0
           },
           {
            "bin_end": -997.5,
            "bin_start": -997.6,
            "count": 0
           }
          ],
          "max": "-998",
          "min": "-998",
          "nan_count": 0,
          "unique_count": 1
         }
        },
        {
         "dtype": "int64",
         "name": "low",
         "stats": {
          "histogram": [
           {
            "bin_end": -998.4,
            "bin_start": -998.5,
            "count": 0
           },
           {
            "bin_end": -998.3,
            "bin_start": -998.4,
            "count": 0
           },
           {
            "bin_end": -998.2,
            "bin_start": -998.3,
            "count": 0
           },
           {
            "bin_end": -998.1,
            "bin_start": -998.2,
            "count": 0
           },
           {
            "bin_end": -998,
            "bin_start": -998.1,
            "count": 0
           },
           {
            "bin_end": -997.9,
            "bin_start": -998,
            "count": 2
           },
           {
            "bin_end": -997.8,
            "bin_start": -997.9,
            "count": 0
           },
           {
            "bin_end": -997.7,
            "bin_start": -997.8,
            "count": 0
           },
           {
            "bin_end": -997.6,
            "bin_start": -997.7,
            "count": 0
           },
           {
            "bin_end": -997.5,
            "bin_start": -997.6,
            "count": 0
           }
          ],
          "max": "-998",
          "min": "-998",
          "nan_count": 0,
          "unique_count": 1
         }
        },
        {
         "dtype": "int64",
         "name": "_deepnote_index_column"
        }
       ],
       "row_count": 2,
       "rows": [
        {
         "_deepnote_index_column": "72",
         "high": "-998",
         "low": "-998"
        },
        {
         "_deepnote_index_column": "79",
         "high": "-998",
         "low": "-998"
        }
       ]
      },
      "text/html": [
       "<div>\n",
       "<style scoped>\n",
       "    .dataframe tbody tr th:only-of-type {\n",
       "        vertical-align: middle;\n",
       "    }\n",
       "\n",
       "    .dataframe tbody tr th {\n",
       "        vertical-align: top;\n",
       "    }\n",
       "\n",
       "    .dataframe thead th {\n",
       "        text-align: right;\n",
       "    }\n",
       "</style>\n",
       "<table border=\"1\" class=\"dataframe\">\n",
       "  <thead>\n",
       "    <tr style=\"text-align: right;\">\n",
       "      <th></th>\n",
       "      <th>high</th>\n",
       "      <th>low</th>\n",
       "    </tr>\n",
       "  </thead>\n",
       "  <tbody>\n",
       "    <tr>\n",
       "      <th>72</th>\n",
       "      <td>-998</td>\n",
       "      <td>-998</td>\n",
       "    </tr>\n",
       "    <tr>\n",
       "      <th>79</th>\n",
       "      <td>-998</td>\n",
       "      <td>-998</td>\n",
       "    </tr>\n",
       "  </tbody>\n",
       "</table>\n",
       "</div>"
      ],
      "text/plain": [
       "    high  low\n",
       "72  -998 -998\n",
       "79  -998 -998"
      ]
     },
     "execution_count": 3,
     "metadata": {},
     "output_type": "execute_result"
    }
   ],
   "source": [
    "df[df['high'] < -100]"
   ]
  },
  {
   "cell_type": "code",
   "execution_count": 4,
   "metadata": {
    "cell_id": "75f9d1e3bec04f27b085a06a36221ed6",
    "deepnote_app_coordinates": {
     "h": 5,
     "w": 12,
     "x": 0,
     "y": 43
    },
    "deepnote_cell_type": "code",
    "deepnote_to_be_reexecuted": false,
    "execution_millis": 550,
    "execution_start": 1681234717937,
    "source_hash": "1ecd6d9c",
    "tags": []
   },
   "outputs": [
    {
     "data": {
      "application/vnd.deepnote.dataframe.v3+json": {
       "column_count": 2,
       "columns": [
        {
         "dtype": "int64",
         "name": "high",
         "stats": {
          "histogram": [
           {
            "bin_end": 23.4,
            "bin_start": 15,
            "count": 4
           },
           {
            "bin_end": 31.8,
            "bin_start": 23.4,
            "count": 4
           },
           {
            "bin_end": 40.2,
            "bin_start": 31.8,
            "count": 7
           },
           {
            "bin_end": 48.6,
            "bin_start": 40.2,
            "count": 15
           },
           {
            "bin_end": 57,
            "bin_start": 48.6,
            "count": 25
           },
           {
            "bin_end": 65.4,
            "bin_start": 57,
            "count": 30
           },
           {
            "bin_end": 73.80000000000001,
            "bin_start": 65.4,
            "count": 24
           },
           {
            "bin_end": 82.2,
            "bin_start": 73.80000000000001,
            "count": 6
           },
           {
            "bin_end": 90.60000000000001,
            "bin_start": 82.2,
            "count": 0
           },
           {
            "bin_end": 99,
            "bin_start": 90.60000000000001,
            "count": 3
           }
          ],
          "max": "99",
          "min": "15",
          "nan_count": 0,
          "unique_count": 46
         }
        },
        {
         "dtype": "int64",
         "name": "low",
         "stats": {
          "histogram": [
           {
            "bin_end": 8.1,
            "bin_start": -2,
            "count": 2
           },
           {
            "bin_end": 18.2,
            "bin_start": 8.1,
            "count": 12
           },
           {
            "bin_end": 28.299999999999997,
            "bin_start": 18.2,
            "count": 28
           },
           {
            "bin_end": 38.4,
            "bin_start": 28.299999999999997,
            "count": 47
           },
           {
            "bin_end": 48.5,
            "bin_start": 38.4,
            "count": 23
           },
           {
            "bin_end": 58.599999999999994,
            "bin_start": 48.5,
            "count": 3
           },
           {
            "bin_end": 68.7,
            "bin_start": 58.599999999999994,
            "count": 0
           },
           {
            "bin_end": 78.8,
            "bin_start": 68.7,
            "count": 0
           },
           {
            "bin_end": 88.89999999999999,
            "bin_start": 78.8,
            "count": 0
           },
           {
            "bin_end": 99,
            "bin_start": 88.89999999999999,
            "count": 3
           }
          ],
          "max": "99",
          "min": "-2",
          "nan_count": 0,
          "unique_count": 39
         }
        },
        {
         "dtype": "int64",
         "name": "_deepnote_index_column"
        }
       ],
       "row_count": 118,
       "rows": [
        {
         "_deepnote_index_column": "0",
         "high": "58",
         "low": "25"
        },
        {
         "_deepnote_index_column": "1",
         "high": "26",
         "low": "11"
        },
        {
         "_deepnote_index_column": "2",
         "high": "53",
         "low": "24"
        },
        {
         "_deepnote_index_column": "3",
         "high": "60",
         "low": "37"
        },
        {
         "_deepnote_index_column": "4",
         "high": "67",
         "low": "42"
        },
        {
         "_deepnote_index_column": "5",
         "high": "70",
         "low": "37"
        },
        {
         "_deepnote_index_column": "6",
         "high": "68",
         "low": "41"
        },
        {
         "_deepnote_index_column": "7",
         "high": "68",
         "low": "34"
        },
        {
         "_deepnote_index_column": "8",
         "high": "69",
         "low": "43"
        },
        {
         "_deepnote_index_column": "9",
         "high": "57",
         "low": "33"
        }
       ]
      },
      "text/html": [
       "<div>\n",
       "<style scoped>\n",
       "    .dataframe tbody tr th:only-of-type {\n",
       "        vertical-align: middle;\n",
       "    }\n",
       "\n",
       "    .dataframe tbody tr th {\n",
       "        vertical-align: top;\n",
       "    }\n",
       "\n",
       "    .dataframe thead th {\n",
       "        text-align: right;\n",
       "    }\n",
       "</style>\n",
       "<table border=\"1\" class=\"dataframe\">\n",
       "  <thead>\n",
       "    <tr style=\"text-align: right;\">\n",
       "      <th></th>\n",
       "      <th>high</th>\n",
       "      <th>low</th>\n",
       "    </tr>\n",
       "  </thead>\n",
       "  <tbody>\n",
       "    <tr>\n",
       "      <th>0</th>\n",
       "      <td>58</td>\n",
       "      <td>25</td>\n",
       "    </tr>\n",
       "    <tr>\n",
       "      <th>1</th>\n",
       "      <td>26</td>\n",
       "      <td>11</td>\n",
       "    </tr>\n",
       "    <tr>\n",
       "      <th>2</th>\n",
       "      <td>53</td>\n",
       "      <td>24</td>\n",
       "    </tr>\n",
       "    <tr>\n",
       "      <th>3</th>\n",
       "      <td>60</td>\n",
       "      <td>37</td>\n",
       "    </tr>\n",
       "    <tr>\n",
       "      <th>4</th>\n",
       "      <td>67</td>\n",
       "      <td>42</td>\n",
       "    </tr>\n",
       "    <tr>\n",
       "      <th>...</th>\n",
       "      <td>...</td>\n",
       "      <td>...</td>\n",
       "    </tr>\n",
       "    <tr>\n",
       "      <th>115</th>\n",
       "      <td>99</td>\n",
       "      <td>33</td>\n",
       "    </tr>\n",
       "    <tr>\n",
       "      <th>116</th>\n",
       "      <td>99</td>\n",
       "      <td>27</td>\n",
       "    </tr>\n",
       "    <tr>\n",
       "      <th>117</th>\n",
       "      <td>18</td>\n",
       "      <td>38</td>\n",
       "    </tr>\n",
       "    <tr>\n",
       "      <th>118</th>\n",
       "      <td>15</td>\n",
       "      <td>51</td>\n",
       "    </tr>\n",
       "    <tr>\n",
       "      <th>119</th>\n",
       "      <td>30</td>\n",
       "      <td>49</td>\n",
       "    </tr>\n",
       "  </tbody>\n",
       "</table>\n",
       "<p>118 rows × 2 columns</p>\n",
       "</div>"
      ],
      "text/plain": [
       "     high  low\n",
       "0      58   25\n",
       "1      26   11\n",
       "2      53   24\n",
       "3      60   37\n",
       "4      67   42\n",
       "..    ...  ...\n",
       "115    99   33\n",
       "116    99   27\n",
       "117    18   38\n",
       "118    15   51\n",
       "119    30   49\n",
       "\n",
       "[118 rows x 2 columns]"
      ]
     },
     "execution_count": 4,
     "metadata": {},
     "output_type": "execute_result"
    }
   ],
   "source": [
    "df.drop([72, 79], inplace = True)\n",
    "df"
   ]
  },
  {
   "cell_type": "markdown",
   "metadata": {
    "cell_id": "4885168610274b7ab5d02af6dbf5b3fa",
    "deepnote_app_coordinates": {
     "h": 5,
     "w": 12,
     "x": 0,
     "y": 49
    },
    "deepnote_cell_type": "markdown",
    "tags": []
   },
   "source": [
    "## Conducting DBSCAN"
   ]
  },
  {
   "cell_type": "code",
   "execution_count": 5,
   "metadata": {
    "cell_id": "c535aa7a483941569856371ddbeaac3d",
    "deepnote_app_coordinates": {
     "h": 5,
     "w": 12,
     "x": 0,
     "y": 55
    },
    "deepnote_cell_type": "code",
    "deepnote_to_be_reexecuted": false,
    "execution_millis": 659,
    "execution_start": 1681234717937,
    "source_hash": "3a888d00",
    "tags": []
   },
   "outputs": [],
   "source": [
    "from sklearn.cluster import DBSCAN\n",
    "from sklearn import metrics\n",
    "from sklearn.preprocessing import StandardScaler"
   ]
  },
  {
   "cell_type": "code",
   "execution_count": 6,
   "metadata": {
    "cell_id": "6a3f71c1f8f24e80836ebeeb53193ada",
    "deepnote_app_coordinates": {
     "h": 5,
     "w": 12,
     "x": 0,
     "y": 61
    },
    "deepnote_cell_type": "code",
    "deepnote_to_be_reexecuted": false,
    "execution_millis": 264,
    "execution_start": 1681234718333,
    "source_hash": "b0074ef8",
    "tags": []
   },
   "outputs": [
    {
     "data": {
      "text/plain": [
       "array([[ 0.11564569, -0.50507808],\n",
       "       [-1.99391045, -1.46968963],\n",
       "       [-0.21397246, -0.57397891],\n",
       "       [ 0.24749295,  0.32173182],\n",
       "       [ 0.70895835,  0.66623594],\n",
       "       [ 0.90672924,  0.32173182],\n",
       "       [ 0.77488198,  0.59733512],\n",
       "       [ 0.77488198,  0.11502934],\n",
       "       [ 0.84080561,  0.73513677],\n",
       "       [ 0.04972206,  0.04612852],\n",
       "       [-0.41174334, -0.98738385],\n",
       "       [ 0.70895835, -0.29837561],\n",
       "       [-0.27989609, -0.29837561],\n",
       "       [-0.21397246, -0.22947478],\n",
       "       [ 1.10450013,  0.45953347],\n",
       "       [ 0.18156932, -0.02277231],\n",
       "       [-0.14804883, -0.29837561],\n",
       "       [ 0.11564569, -0.29837561],\n",
       "       [-1.53244504, -1.4007888 ],\n",
       "       [-0.21397246, -0.98738385],\n",
       "       [ 0.90672924,  0.11502934],\n",
       "       [ 1.5000419 ,  0.52843429],\n",
       "       [ 0.37934021, -0.22947478],\n",
       "       [-0.01620157, -0.22947478],\n",
       "       [ 0.24749295,  0.25283099],\n",
       "       [-2.38945222, -1.19408633],\n",
       "       [-0.93913238, -1.4007888 ],\n",
       "       [-0.41174334, -0.16057396],\n",
       "       [-1.00505601, -0.50507808],\n",
       "       [ 0.84080561, -0.91848303],\n",
       "       [ 0.90672924,  0.18393017],\n",
       "       [-0.93913238, -0.16057396],\n",
       "       [-1.2028269 , -0.22947478],\n",
       "       [ 0.18156932, -0.71178055],\n",
       "       [-0.01620157,  0.66623594],\n",
       "       [-0.21397246,  0.11502934],\n",
       "       [-1.86206319, -0.29837561],\n",
       "       [-0.14804883, -0.02277231],\n",
       "       [ 0.70895835,  0.18393017],\n",
       "       [ 0.77488198,  0.25283099],\n",
       "       [-0.21397246,  0.25283099],\n",
       "       [-1.00505601, -2.36540035],\n",
       "       [-0.27989609,  0.04612852],\n",
       "       [ 1.30227101,  1.49304584],\n",
       "       [ 0.04972206, -0.8495822 ],\n",
       "       [-0.60951423, -1.19408633],\n",
       "       [-1.46652141, -0.50507808],\n",
       "       [-0.34581972, -0.02277231],\n",
       "       [ 0.44526383,  0.52843429],\n",
       "       [ 0.70895835,  0.11502934],\n",
       "       [ 0.24749295, -0.09167313],\n",
       "       [-0.27989609, -0.57397891],\n",
       "       [ 0.51118746,  0.45953347],\n",
       "       [ 0.64303472, -0.36727643],\n",
       "       [ 0.64303472,  0.52843429],\n",
       "       [ 1.10450013,  0.66623594],\n",
       "       [ 0.64303472, -0.78068138],\n",
       "       [-0.0821252 , -0.71178055],\n",
       "       [ 0.11564569,  0.11502934],\n",
       "       [-1.46652141, -0.36727643],\n",
       "       [-1.00505601, -0.71178055],\n",
       "       [-0.5435906 ,  0.45953347],\n",
       "       [ 0.04972206, -0.36727643],\n",
       "       [-0.5435906 , -0.64287973],\n",
       "       [-0.60951423,  0.25283099],\n",
       "       [ 0.57711109,  0.18393017],\n",
       "       [-0.0821252 ,  0.25283099],\n",
       "       [ 0.31341658, -0.22947478],\n",
       "       [ 0.97265287,  0.52843429],\n",
       "       [-0.21397246, -0.71178055],\n",
       "       [ 1.17042376,  0.94183924],\n",
       "       [ 0.31341658,  0.52843429],\n",
       "       [ 0.84080561,  0.66623594],\n",
       "       [ 0.11564569, -0.43617726],\n",
       "       [ 0.31341658,  0.04612852],\n",
       "       [-0.74136149, -0.57397891],\n",
       "       [ 0.70895835,  0.87293842],\n",
       "       [ 0.70895835,  0.94183924],\n",
       "       [ 0.04972206, -0.22947478],\n",
       "       [-2.52129948, -2.29649953],\n",
       "       [-0.5435906 , -0.22947478],\n",
       "       [-0.27989609, -0.8495822 ],\n",
       "       [-0.41174334,  0.11502934],\n",
       "       [-1.99391045, -1.33188798],\n",
       "       [ 0.37934021, -0.22947478],\n",
       "       [-0.27989609,  0.11502934],\n",
       "       [-0.93913238,  0.04612852],\n",
       "       [ 0.24749295, -1.05628468],\n",
       "       [-0.47766697, -0.16057396],\n",
       "       [ 0.31341658,  0.11502934],\n",
       "       [-1.2028269 , -0.98738385],\n",
       "       [-1.26875052, -0.36727643],\n",
       "       [-0.34581972, -1.19408633],\n",
       "       [ 1.43411827,  0.73513677],\n",
       "       [-0.34581972, -0.78068138],\n",
       "       [ 0.18156932, -0.22947478],\n",
       "       [ 1.17042376,  0.66623594],\n",
       "       [-0.47766697,  0.04612852],\n",
       "       [ 0.90672924,  0.04612852],\n",
       "       [-1.07097964, -0.71178055],\n",
       "       [ 0.51118746,  0.87293842],\n",
       "       [ 0.51118746, -0.22947478],\n",
       "       [ 0.90672924,  0.59733512],\n",
       "       [ 0.97265287,  0.59733512],\n",
       "       [ 0.44526383,  0.66623594],\n",
       "       [ 0.44526383,  0.11502934],\n",
       "       [ 0.51118746, -0.09167313],\n",
       "       [-0.5435906 , -1.05628468],\n",
       "       [ 1.30227101,  0.18393017],\n",
       "       [-0.5435906 ,  4.59358296],\n",
       "       [-0.87320875,  4.59358296],\n",
       "       [ 0.51118746,  4.59358296],\n",
       "       [ 2.81851448,  0.32173182],\n",
       "       [ 2.81851448,  0.04612852],\n",
       "       [ 2.81851448, -0.36727643],\n",
       "       [-2.52129948,  0.39063264],\n",
       "       [-2.71907037,  1.28634337],\n",
       "       [-1.73021593,  1.14854172]])"
      ]
     },
     "execution_count": 6,
     "metadata": {},
     "output_type": "execute_result"
    }
   ],
   "source": [
    "X = StandardScaler().fit_transform(df)\n",
    "X"
   ]
  },
  {
   "cell_type": "code",
   "execution_count": 14,
   "metadata": {
    "cell_id": "5799e2dc35434ef08614bdf3f745e5f2",
    "deepnote_app_coordinates": {
     "h": 5,
     "w": 12,
     "x": 0,
     "y": 67
    },
    "deepnote_cell_type": "code",
    "deepnote_to_be_reexecuted": false,
    "execution_millis": 634,
    "execution_start": 1681234948408,
    "source_hash": "a78c29e0",
    "tags": []
   },
   "outputs": [
    {
     "name": "stdout",
     "output_type": "stream",
     "text": [
      "Estimated number of clusters: 1\n",
      "Estimated number of noise points: 9\n"
     ]
    },
    {
     "data": {
      "image/png": "[encoded data removed]",
      "text/plain": [
       "<Figure size 640x480 with 1 Axes>"
      ]
     },
     "metadata": {
      "image/png": {
       "height": 435,
       "width": 546
      }
     },
     "output_type": "display_data"
    }
   ],
   "source": [
    "db = DBSCAN(eps = 1, min_samples=10).fit(X)\n",
    "core_samples_mask = np.zeros_like(db.labels_, dtype=bool)\n",
    "core_samples_mask[db.core_sample_indices_] = True\n",
    "labels = db.labels_\n",
    "# Number of clusters in labels, ignoring noise if present.\n",
    "n_clusters_ = len(set(labels)) - (1 if -1 in labels else 0)\n",
    "n_noise_ = list(labels).count(-1)\n",
    "\n",
    "print(\"Estimated number of clusters: %d\" % n_clusters_)\n",
    "print(\"Estimated number of noise points: %d\" % n_noise_)\n",
    "\n",
    "# Plot result\n",
    "import matplotlib.pyplot as plt\n",
    "\n",
    "# Black removed and is used for noise instead.\n",
    "unique_labels = set(labels)\n",
    "colors = [plt.cm.Spectral(each) for each in np.linspace(0, 1, len(unique_labels))]\n",
    "for k, col in zip(unique_labels, colors):\n",
    "    if k == -1:\n",
    "        # Black used for noise.\n",
    "        col = [0, 0, 0, 1]\n",
    "\n",
    "    class_member_mask = labels == k\n",
    "\n",
    "    xy = X[class_member_mask & core_samples_mask]\n",
    "    plt.plot(\n",
    "        xy[:, 0],\n",
    "        xy[:, 1],\n",
    "        \"o\",\n",
    "        markerfacecolor=tuple(col),\n",
    "        markeredgecolor=\"k\",\n",
    "        markersize=14,\n",
    "    )\n",
    "\n",
    "    xy = X[class_member_mask & ~core_samples_mask]\n",
    "    plt.plot(\n",
    "        xy[:, 0],\n",
    "        xy[:, 1],\n",
    "        \"o\",\n",
    "        markerfacecolor=tuple(col),\n",
    "        markeredgecolor=\"k\",\n",
    "        markersize=6,\n",
    "    )\n",
    "\n",
    "plt.title(\"Estimated number of clusters: %d\" % n_clusters_)\n",
    "plt.show()"
   ]
  }
 ],
 "metadata": {
  "deepnote": {},
  "deepnote_app_layout": "article",
  "deepnote_execution_queue": [],
  "deepnote_notebook_id": "001301d96ecc492da59f8d4bf84ad18e",
  "deepnote_persisted_session": {
   "createdAt": "2023-04-11T17:43:45.337Z"
  },
  "kernelspec": {
   "display_name": "Python 3 (ipykernel)",
   "language": "python",
   "name": "python3"
  },
  "language_info": {
   "codemirror_mode": {
    "name": "ipython",
    "version": 3
   },
   "file_extension": ".py",
   "mimetype": "text/x-python",
   "name": "python",
   "nbconvert_exporter": "python",
   "pygments_lexer": "ipython3",
   "version": "3.8.16"
  }
 },
 "nbformat": 4,
 "nbformat_minor": 4
}
