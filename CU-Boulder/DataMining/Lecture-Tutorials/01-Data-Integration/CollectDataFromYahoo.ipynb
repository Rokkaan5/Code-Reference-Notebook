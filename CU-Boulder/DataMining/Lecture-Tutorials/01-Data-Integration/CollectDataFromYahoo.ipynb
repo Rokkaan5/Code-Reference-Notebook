{
 "cells": [
  {
   "cell_type": "raw",
   "metadata": {},
   "source": [
    "---\n",
    "title: \"Collecting data from Yahoo finance using yfinance\"\n",
    "format:\n",
    "    html:\n",
    "        code-fold: false\n",
    "execute:\n",
    "    output: true\n",
    "    warning: false\n",
    "toc: true\n",
    "jupyter: python3\n",
    "---"
   ]
  },
  {
   "cell_type": "markdown",
   "metadata": {
    "cell_id": "6298dec9754340068d1878db8b0f2ede",
    "deepnote_cell_type": "text-cell-h1",
    "formattedRanges": [],
    "is_collapsed": false,
    "tags": []
   },
   "source": [
    "# Collecting data from Yahoo finance using yfinance"
   ]
  },
  {
   "cell_type": "markdown",
   "metadata": {
    "cell_id": "201049867a484b169efabdb3a5bbbdcf",
    "deepnote_cell_type": "text-cell-p",
    "formattedRanges": [],
    "is_collapsed": false,
    "tags": []
   },
   "source": [
    "This tutorial will demonstrate how to use Python to retrieve financial data from Yahoo Finance. Using this, we may access historical market data as well as financial information about the company (for example, financial ratios)."
   ]
  },
  {
   "cell_type": "markdown",
   "metadata": {
    "cell_id": "9e7f76a1b4d54bd29ae330343ea3c3fd",
    "deepnote_cell_type": "text-cell-p",
    "formattedRanges": [],
    "is_collapsed": false,
    "tags": []
   },
   "source": [
    "Prerequisites - Python and Pip "
   ]
  },
  {
   "cell_type": "markdown",
   "metadata": {
    "cell_id": "8d165ec4f23c44d28747b79144431a4f",
    "deepnote_cell_type": "text-cell-h3",
    "formattedRanges": [],
    "is_collapsed": false,
    "tags": []
   },
   "source": [
    "### Installation"
   ]
  },
  {
   "cell_type": "code",
   "execution_count": null,
   "metadata": {
    "cell_id": "7ba2ff76a8a94d6d85f25c729b2581cb",
    "deepnote_cell_type": "code",
    "deepnote_to_be_reexecuted": false,
    "execution_millis": 10939,
    "execution_start": 1662148887639,
    "source_hash": "391e6f16",
    "tags": []
   },
   "outputs": [
    {
     "name": "stdout",
     "output_type": "stream",
     "text": [
      "Collecting yfinance\n",
      "  Downloading yfinance-0.1.74-py2.py3-none-any.whl (27 kB)\n",
      "Requirement already satisfied: numpy>=1.15 in /shared-libs/python3.9/py/lib/python3.9/site-packages (from yfinance) (1.23.1)\n",
      "Collecting multitasking>=0.0.7\n",
      "  Downloading multitasking-0.0.11-py3-none-any.whl (8.5 kB)\n",
      "Requirement already satisfied: lxml>=4.5.1 in /shared-libs/python3.9/py/lib/python3.9/site-packages (from yfinance) (4.9.1)\n",
      "Requirement already satisfied: requests>=2.26 in /shared-libs/python3.9/py/lib/python3.9/site-packages (from yfinance) (2.28.1)\n",
      "Requirement already satisfied: pandas>=0.24.0 in /shared-libs/python3.9/py/lib/python3.9/site-packages (from yfinance) (1.2.5)\n",
      "Requirement already satisfied: pytz>=2017.3 in /shared-libs/python3.9/py/lib/python3.9/site-packages (from pandas>=0.24.0->yfinance) (2022.1)\n",
      "Requirement already satisfied: python-dateutil>=2.7.3 in /shared-libs/python3.9/py-core/lib/python3.9/site-packages (from pandas>=0.24.0->yfinance) (2.8.2)\n",
      "Requirement already satisfied: idna<4,>=2.5 in /shared-libs/python3.9/py-core/lib/python3.9/site-packages (from requests>=2.26->yfinance) (3.3)\n",
      "Requirement already satisfied: charset-normalizer<3,>=2 in /shared-libs/python3.9/py-core/lib/python3.9/site-packages (from requests>=2.26->yfinance) (2.1.0)\n",
      "Requirement already satisfied: urllib3<1.27,>=1.21.1 in /shared-libs/python3.9/py/lib/python3.9/site-packages (from requests>=2.26->yfinance) (1.26.11)\n",
      "Requirement already satisfied: certifi>=2017.4.17 in /shared-libs/python3.9/py/lib/python3.9/site-packages (from requests>=2.26->yfinance) (2022.6.15)\n",
      "Requirement already satisfied: six>=1.5 in /shared-libs/python3.9/py-core/lib/python3.9/site-packages (from python-dateutil>=2.7.3->pandas>=0.24.0->yfinance) (1.16.0)\n",
      "Installing collected packages: multitasking, yfinance\n",
      "Successfully installed multitasking-0.0.11 yfinance-0.1.74\n",
      "\u001b[33mWARNING: You are using pip version 22.0.4; however, version 22.2.2 is available.\n",
      "You should consider upgrading via the '/root/venv/bin/python -m pip install --upgrade pip' command.\u001b[0m\u001b[33m\n",
      "\u001b[0mCollecting yahoofinancials\n",
      "  Downloading yahoofinancials-1.6.tar.gz (27 kB)\n",
      "  Preparing metadata (setup.py) ... \u001b[?25ldone\n",
      "\u001b[?25hRequirement already satisfied: beautifulsoup4 in /shared-libs/python3.9/py-core/lib/python3.9/site-packages (from yahoofinancials) (4.11.1)\n",
      "Requirement already satisfied: pytz in /shared-libs/python3.9/py/lib/python3.9/site-packages (from yahoofinancials) (2022.1)\n",
      "Requirement already satisfied: soupsieve>1.2 in /shared-libs/python3.9/py-core/lib/python3.9/site-packages (from beautifulsoup4->yahoofinancials) (2.3.2.post1)\n",
      "Building wheels for collected packages: yahoofinancials\n",
      "  Building wheel for yahoofinancials (setup.py) ... \u001b[?25ldone\n",
      "\u001b[?25h  Created wheel for yahoofinancials: filename=yahoofinancials-1.6-py3-none-any.whl size=15192 sha256=37d35cb5972bcde18e3413e03d7e10e0ff785f778b528bfba209db3378200c93\n",
      "  Stored in directory: /root/.cache/pip/wheels/7d/59/6e/ff5fc25443eef95656f84b7a3a421fa2a9d6eaaae7a1b7c08f\n",
      "Successfully built yahoofinancials\n",
      "Installing collected packages: yahoofinancials\n",
      "Successfully installed yahoofinancials-1.6\n",
      "\u001b[33mWARNING: You are using pip version 22.0.4; however, version 22.2.2 is available.\n",
      "You should consider upgrading via the '/root/venv/bin/python -m pip install --upgrade pip' command.\u001b[0m\u001b[33m\n",
      "\u001b[0m"
     ]
    }
   ],
   "source": [
    "# !pip install yfinance\n",
    "# !pip install yahoofinancials"
   ]
  },
  {
   "cell_type": "markdown",
   "metadata": {
    "cell_id": "c7d58f54744f4c74a94cf173a0cfb496",
    "deepnote_cell_type": "text-cell-h3",
    "formattedRanges": [],
    "is_collapsed": false,
    "tags": []
   },
   "source": [
    "### Analysis"
   ]
  },
  {
   "cell_type": "markdown",
   "metadata": {
    "cell_id": "55a9dc5156aa4aaf8bfc86eb8e9c2de9",
    "deepnote_cell_type": "text-cell-p",
    "formattedRanges": [],
    "is_collapsed": false,
    "tags": []
   },
   "source": [
    "The yfinance package can be imported into Python programs once it has been installed. We must use the company's ticker as an example in our argument."
   ]
  },
  {
   "cell_type": "markdown",
   "metadata": {
    "cell_id": "8710b647b3a74c40aefefdcb94b53687",
    "deepnote_cell_type": "text-cell-p",
    "formattedRanges": [],
    "is_collapsed": false,
    "tags": []
   },
   "source": [
    "A security is given a specific set of letters called a ticker or a stock symbol for trading purposes. For instance:"
   ]
  },
  {
   "cell_type": "markdown",
   "metadata": {
    "cell_id": "ea82cb4858d84cd3b30ba960e48288bd",
    "deepnote_cell_type": "text-cell-p",
    "formattedRanges": [],
    "is_collapsed": false,
    "tags": []
   },
   "source": [
    "For Amazon, it is “AMZN”\n",
    "For Facebook, it is “FB”\n",
    "For Google, it is “GOOGL”\n",
    "For Microsoft, it is \"MSFT\""
   ]
  },
  {
   "cell_type": "code",
   "execution_count": null,
   "metadata": {
    "cell_id": "bde87e0029624f2884982e51dc3d3cce",
    "deepnote_cell_type": "code",
    "deepnote_to_be_reexecuted": false,
    "execution_millis": 10,
    "execution_start": 1662148898582,
    "source_hash": "958c73f5",
    "tags": []
   },
   "outputs": [],
   "source": [
    "\n",
    "import yfinance as yahooFinance\n",
    " \n",
    "# Here We are getting Google's financial information\n",
    "GoogleInfo = yahooFinance.Ticker(\"GOOGL\")\n"
   ]
  },
  {
   "cell_type": "markdown",
   "metadata": {
    "cell_id": "4c6767c74cfe4dc9a27c096b9834c4fe",
    "deepnote_cell_type": "text-cell-p",
    "formattedRanges": [],
    "is_collapsed": false,
    "tags": []
   },
   "source": [
    "# whole python dictionary is printed here\n"
   ]
  },
  {
   "cell_type": "code",
   "execution_count": null,
   "metadata": {
    "cell_id": "93099a0cf0aa4ad6b85de110c1a9a8b0",
    "deepnote_cell_type": "code",
    "deepnote_to_be_reexecuted": false,
    "execution_millis": 3724,
    "execution_start": 1662148898597,
    "source_hash": "85443dfe",
    "tags": []
   },
   "outputs": [
    {
     "name": "stdout",
     "output_type": "stream",
     "text": [
      "{'zip': '94043', 'sector': 'Communication Services', 'fullTimeEmployees': 174014, 'longBusinessSummary': 'Alphabet Inc. provides various products and platforms in the United States, Europe, the Middle East, Africa, the Asia-Pacific, Canada, and Latin America. It operates through Google Services, Google Cloud, and Other Bets segments. The Google Services segment offers products and services, including ads, Android, Chrome, hardware, Gmail, Google Drive, Google Maps, Google Photos, Google Play, Search, and YouTube. It is also involved in the sale of apps and in-app purchases and digital content in the Google Play store; and Fitbit wearable devices, Google Nest home products, Pixel phones, and other devices, as well as in the provision of YouTube non-advertising services. The Google Cloud segment offers infrastructure, platform, and other services; Google Workspace that include cloud-based collaboration tools for enterprises, such as Gmail, Docs, Drive, Calendar, and Meet; and other services for enterprise customers. The Other Bets segment sells health technology and internet services. The company was founded in 1998 and is headquartered in Mountain View, California.', 'city': 'Mountain View', 'phone': '650 253 0000', 'state': 'CA', 'country': 'United States', 'companyOfficers': [], 'website': 'https://www.abc.xyz', 'maxAge': 1, 'address1': '1600 Amphitheatre Parkway', 'industry': 'Internet Content & Information', 'ebitdaMargins': 0.34834, 'profitMargins': 0.25892, 'grossMargins': 0.56744, 'operatingCashflow': 95001001984, 'revenueGrowth': 0.126, 'operatingMargins': 0.29648, 'ebitda': 96886996992, 'targetLowPrice': 113, 'recommendationKey': 'buy', 'grossProfits': 146698000000, 'freeCashflow': 51070373888, 'targetMedianPrice': 144, 'currentPrice': 107.85, 'earningsGrowth': -0.113, 'currentRatio': 2.809, 'returnOnAssets': 0.14927, 'numberOfAnalystOpinions': 46, 'targetMeanPrice': 144.96, 'debtToEquity': 11.28, 'returnOnEquity': 0.29216, 'targetHighPrice': 187.5, 'totalCash': 124997001216, 'totalDebt': 28810000384, 'totalRevenue': 278139011072, 'totalCashPerShare': 9.583, 'financialCurrency': 'USD', 'revenuePerShare': 21.03, 'quickRatio': 2.642, 'recommendationMean': 1.8, 'exchange': 'NMS', 'shortName': 'Alphabet Inc.', 'longName': 'Alphabet Inc.', 'exchangeTimezoneName': 'America/New_York', 'exchangeTimezoneShortName': 'EDT', 'isEsgPopulated': False, 'gmtOffSetMilliseconds': '-14400000', 'quoteType': 'EQUITY', 'symbol': 'GOOGL', 'messageBoardId': 'finmb_29096', 'market': 'us_market', 'annualHoldingsTurnover': None, 'enterpriseToRevenue': 4.801, 'beta3Year': None, 'enterpriseToEbitda': 13.782, '52WeekChange': -0.23653555, 'morningStarRiskRating': None, 'forwardEps': 5.9, 'revenueQuarterlyGrowth': None, 'sharesOutstanding': 5996000256, 'fundInceptionDate': None, 'annualReportExpenseRatio': None, 'totalAssets': None, 'bookValue': 19.53, 'sharesShort': 54019534, 'sharesPercentSharesOut': 0.0041, 'fundFamily': None, 'lastFiscalYearEnd': 1640908800, 'heldPercentInstitutions': 0.78612, 'netIncomeToCommon': 72016003072, 'trailingEps': 66.57, 'lastDividendValue': None, 'SandP52WeekChange': -0.12536407, 'priceToBook': 5.522273, 'heldPercentInsiders': 0.07727, 'nextFiscalYearEnd': 1703980800, 'yield': None, 'mostRecentQuarter': 1656547200, 'shortRatio': 1.69, 'sharesShortPreviousMonthDate': 1657843200, 'floatShares': 11360932680, 'beta': 1.078487, 'enterpriseValue': 1335261528064, 'priceHint': 2, 'threeYearAverageReturn': None, 'lastSplitDate': 1658102400, 'lastSplitFactor': '20:1', 'legalType': None, 'lastDividendDate': None, 'morningStarOverallRating': None, 'earningsQuarterlyGrowth': -0.136, 'priceToSalesTrailing12Months': 5.075529, 'dateShortInterest': 1660521600, 'pegRatio': 1.57, 'ytdReturn': None, 'forwardPE': 18.279661, 'lastCapGain': None, 'shortPercentOfFloat': 0.009, 'sharesShortPriorMonth': 46968160, 'impliedSharesOutstanding': 0, 'category': None, 'fiveYearAverageReturn': None, 'previousClose': 109.74, 'regularMarketOpen': 110.59, 'twoHundredDayAverage': 127.066666, 'trailingAnnualDividendYield': 0, 'payoutRatio': 0, 'volume24Hr': None, 'regularMarketDayHigh': 110.74, 'navPrice': None, 'averageDailyVolume10Day': 23668610, 'regularMarketPreviousClose': 109.74, 'fiftyDayAverage': 114.30854, 'trailingAnnualDividendRate': 0, 'open': 110.59, 'toCurrency': None, 'averageVolume10days': 23668610, 'expireDate': None, 'algorithm': None, 'dividendRate': None, 'exDividendDate': None, 'circulatingSupply': None, 'startDate': None, 'regularMarketDayLow': 107.2616, 'currency': 'USD', 'trailingPE': 1.6200992, 'regularMarketVolume': 23528231, 'lastMarket': None, 'maxSupply': None, 'openInterest': None, 'marketCap': 1411702587392, 'volumeAllCurrencies': None, 'strikePrice': None, 'averageVolume': 32218831, 'dayLow': 107.2616, 'ask': 107.4, 'askSize': 900, 'volume': 23528231, 'fiftyTwoWeekHigh': 151.5465, 'fromCurrency': None, 'fiveYearAvgDividendYield': None, 'fiftyTwoWeekLow': 101.8845, 'bid': 107.39, 'tradeable': False, 'dividendYield': None, 'bidSize': 800, 'dayHigh': 110.74, 'coinMarketCapLink': None, 'regularMarketPrice': 107.85, 'preMarketPrice': 110.52, 'logo_url': 'https://logo.clearbit.com/abc.xyz', 'trailingPegRatio': 1.3474}\n"
     ]
    }
   ],
   "source": [
    "print(GoogleInfo.info)"
   ]
  },
  {
   "cell_type": "markdown",
   "metadata": {
    "cell_id": "59d42aef63f045d3b39ea713c390b955",
    "deepnote_cell_type": "text-cell-p",
    "formattedRanges": [],
    "is_collapsed": false,
    "tags": []
   },
   "source": [
    "The print statement produces a Python dictionary, which we can analyze and use to get the specific financial data we're looking for from Yahoo Finance. Let's take a few financial critical metrics as an example."
   ]
  },
  {
   "cell_type": "markdown",
   "metadata": {
    "cell_id": "eb9398c7598e4bcead3179594e9df2a8",
    "deepnote_cell_type": "text-cell-p",
    "formattedRanges": [],
    "is_collapsed": false,
    "tags": []
   },
   "source": [
    "The info dictionary contains all firm information. As a result, we may extract the desired elements from the dictionary by parsing it:"
   ]
  },
  {
   "cell_type": "markdown",
   "metadata": {
    "cell_id": "baeffe440ac54f2bb15a6420981e81a7",
    "deepnote_cell_type": "text-cell-p",
    "formattedRanges": [],
    "is_collapsed": false,
    "tags": []
   },
   "source": [
    "We can retrieve financial key metrics like Company Sector, Price Earnings Ratio, and Company Beta from the above dictionary of items easily. Let us see the below code."
   ]
  },
  {
   "cell_type": "code",
   "execution_count": null,
   "metadata": {
    "cell_id": "c4ee3b457cd240f8ae27c536973567f4",
    "deepnote_cell_type": "code",
    "deepnote_to_be_reexecuted": false,
    "execution_millis": 539457,
    "execution_start": 1662148902326,
    "source_hash": "59d9c05c",
    "tags": []
   },
   "outputs": [
    {
     "name": "stdout",
     "output_type": "stream",
     "text": [
      "Company Sector :  Communication Services\n",
      "Price Earnings Ratio :  1.6200992\n",
      " Company Beta :  1.078487\n"
     ]
    }
   ],
   "source": [
    "\n",
    "# display Company Sector\n",
    "print(\"Company Sector : \", GoogleInfo.info['sector'])\n",
    " \n",
    "# display Price Earnings Ratio\n",
    "print(\"Price Earnings Ratio : \", GoogleInfo.info['trailingPE'])\n",
    " \n",
    "# display Company Beta\n",
    "print(\" Company Beta : \", GoogleInfo.info['beta'])"
   ]
  },
  {
   "cell_type": "markdown",
   "metadata": {
    "cell_id": "cca0641aa1bf495ab9f6eea244edfe45",
    "deepnote_cell_type": "text-cell-p",
    "formattedRanges": [],
    "is_collapsed": false,
    "tags": []
   },
   "source": [
    "There are a ton of more stuff in the information. By printing the informational keys, we can view all of them:"
   ]
  },
  {
   "cell_type": "code",
   "execution_count": null,
   "metadata": {
    "cell_id": "8b6e327dfe1945d3bd36727acd7fae90",
    "deepnote_cell_type": "code",
    "deepnote_to_be_reexecuted": false,
    "execution_millis": 4,
    "execution_start": 1662148902335,
    "source_hash": "18165d7",
    "tags": []
   },
   "outputs": [
    {
     "name": "stdout",
     "output_type": "stream",
     "text": [
      "zip : 94043\n",
      "sector : Communication Services\n",
      "fullTimeEmployees : 174014\n",
      "longBusinessSummary : Alphabet Inc. provides various products and platforms in the United States, Europe, the Middle East, Africa, the Asia-Pacific, Canada, and Latin America. It operates through Google Services, Google Cloud, and Other Bets segments. The Google Services segment offers products and services, including ads, Android, Chrome, hardware, Gmail, Google Drive, Google Maps, Google Photos, Google Play, Search, and YouTube. It is also involved in the sale of apps and in-app purchases and digital content in the Google Play store; and Fitbit wearable devices, Google Nest home products, Pixel phones, and other devices, as well as in the provision of YouTube non-advertising services. The Google Cloud segment offers infrastructure, platform, and other services; Google Workspace that include cloud-based collaboration tools for enterprises, such as Gmail, Docs, Drive, Calendar, and Meet; and other services for enterprise customers. The Other Bets segment sells health technology and internet services. The company was founded in 1998 and is headquartered in Mountain View, California.\n",
      "city : Mountain View\n",
      "phone : 650 253 0000\n",
      "state : CA\n",
      "country : United States\n",
      "companyOfficers : []\n",
      "website : https://www.abc.xyz\n",
      "maxAge : 1\n",
      "address1 : 1600 Amphitheatre Parkway\n",
      "industry : Internet Content & Information\n",
      "ebitdaMargins : 0.34834\n",
      "profitMargins : 0.25892\n",
      "grossMargins : 0.56744\n",
      "operatingCashflow : 95001001984\n",
      "revenueGrowth : 0.126\n",
      "operatingMargins : 0.29648\n",
      "ebitda : 96886996992\n",
      "targetLowPrice : 113\n",
      "recommendationKey : buy\n",
      "grossProfits : 146698000000\n",
      "freeCashflow : 51070373888\n",
      "targetMedianPrice : 144\n",
      "currentPrice : 107.85\n",
      "earningsGrowth : -0.113\n",
      "currentRatio : 2.809\n",
      "returnOnAssets : 0.14927\n",
      "numberOfAnalystOpinions : 46\n",
      "targetMeanPrice : 144.96\n",
      "debtToEquity : 11.28\n",
      "returnOnEquity : 0.29216\n",
      "targetHighPrice : 187.5\n",
      "totalCash : 124997001216\n",
      "totalDebt : 28810000384\n",
      "totalRevenue : 278139011072\n",
      "totalCashPerShare : 9.583\n",
      "financialCurrency : USD\n",
      "revenuePerShare : 21.03\n",
      "quickRatio : 2.642\n",
      "recommendationMean : 1.8\n",
      "exchange : NMS\n",
      "shortName : Alphabet Inc.\n",
      "longName : Alphabet Inc.\n",
      "exchangeTimezoneName : America/New_York\n",
      "exchangeTimezoneShortName : EDT\n",
      "isEsgPopulated : False\n",
      "gmtOffSetMilliseconds : -14400000\n",
      "quoteType : EQUITY\n",
      "symbol : GOOGL\n",
      "messageBoardId : finmb_29096\n",
      "market : us_market\n",
      "annualHoldingsTurnover : None\n",
      "enterpriseToRevenue : 4.801\n",
      "beta3Year : None\n",
      "enterpriseToEbitda : 13.782\n",
      "52WeekChange : -0.23653555\n",
      "morningStarRiskRating : None\n",
      "forwardEps : 5.9\n",
      "revenueQuarterlyGrowth : None\n",
      "sharesOutstanding : 5996000256\n",
      "fundInceptionDate : None\n",
      "annualReportExpenseRatio : None\n",
      "totalAssets : None\n",
      "bookValue : 19.53\n",
      "sharesShort : 54019534\n",
      "sharesPercentSharesOut : 0.0041\n",
      "fundFamily : None\n",
      "lastFiscalYearEnd : 1640908800\n",
      "heldPercentInstitutions : 0.78612\n",
      "netIncomeToCommon : 72016003072\n",
      "trailingEps : 66.57\n",
      "lastDividendValue : None\n",
      "SandP52WeekChange : -0.12536407\n",
      "priceToBook : 5.522273\n",
      "heldPercentInsiders : 0.07727\n",
      "nextFiscalYearEnd : 1703980800\n",
      "yield : None\n",
      "mostRecentQuarter : 1656547200\n",
      "shortRatio : 1.69\n",
      "sharesShortPreviousMonthDate : 1657843200\n",
      "floatShares : 11360932680\n",
      "beta : 1.078487\n",
      "enterpriseValue : 1335261528064\n",
      "priceHint : 2\n",
      "threeYearAverageReturn : None\n",
      "lastSplitDate : 1658102400\n",
      "lastSplitFactor : 20:1\n",
      "legalType : None\n",
      "lastDividendDate : None\n",
      "morningStarOverallRating : None\n",
      "earningsQuarterlyGrowth : -0.136\n",
      "priceToSalesTrailing12Months : 5.075529\n",
      "dateShortInterest : 1660521600\n",
      "pegRatio : 1.57\n",
      "ytdReturn : None\n",
      "forwardPE : 18.279661\n",
      "lastCapGain : None\n",
      "shortPercentOfFloat : 0.009\n",
      "sharesShortPriorMonth : 46968160\n",
      "impliedSharesOutstanding : 0\n",
      "category : None\n",
      "fiveYearAverageReturn : None\n",
      "previousClose : 109.74\n",
      "regularMarketOpen : 110.59\n",
      "twoHundredDayAverage : 127.066666\n",
      "trailingAnnualDividendYield : 0\n",
      "payoutRatio : 0\n",
      "volume24Hr : None\n",
      "regularMarketDayHigh : 110.74\n",
      "navPrice : None\n",
      "averageDailyVolume10Day : 23668610\n",
      "regularMarketPreviousClose : 109.74\n",
      "fiftyDayAverage : 114.30854\n",
      "trailingAnnualDividendRate : 0\n",
      "open : 110.59\n",
      "toCurrency : None\n",
      "averageVolume10days : 23668610\n",
      "expireDate : None\n",
      "algorithm : None\n",
      "dividendRate : None\n",
      "exDividendDate : None\n",
      "circulatingSupply : None\n",
      "startDate : None\n",
      "regularMarketDayLow : 107.2616\n",
      "currency : USD\n",
      "trailingPE : 1.6200992\n",
      "regularMarketVolume : 23528231\n",
      "lastMarket : None\n",
      "maxSupply : None\n",
      "openInterest : None\n",
      "marketCap : 1411702587392\n",
      "volumeAllCurrencies : None\n",
      "strikePrice : None\n",
      "averageVolume : 32218831\n",
      "dayLow : 107.2616\n",
      "ask : 107.4\n",
      "askSize : 900\n",
      "volume : 23528231\n",
      "fiftyTwoWeekHigh : 151.5465\n",
      "fromCurrency : None\n",
      "fiveYearAvgDividendYield : None\n",
      "fiftyTwoWeekLow : 101.8845\n",
      "bid : 107.39\n",
      "tradeable : False\n",
      "dividendYield : None\n",
      "bidSize : 800\n",
      "dayHigh : 110.74\n",
      "coinMarketCapLink : None\n",
      "regularMarketPrice : 107.85\n",
      "preMarketPrice : 110.52\n",
      "logo_url : https://logo.clearbit.com/abc.xyz\n",
      "trailingPegRatio : 1.3474\n"
     ]
    }
   ],
   "source": [
    "# get all key value pairs that are available\n",
    "for key, value in GoogleInfo.info.items():\n",
    "    print(key, \":\", value)"
   ]
  },
  {
   "cell_type": "markdown",
   "metadata": {
    "cell_id": "a38203a2d187465daf9309f93c5671c4",
    "deepnote_cell_type": "text-cell-p",
    "formattedRanges": [],
    "is_collapsed": false,
    "tags": []
   },
   "source": [
    "We can retrieve historical market prices too and display them. Additionally, we can utilize it to get earlier market data."
   ]
  },
  {
   "cell_type": "markdown",
   "metadata": {
    "cell_id": "e3a016ff87e54511aee6d45827fa0804",
    "deepnote_cell_type": "text-cell-p",
    "formattedRanges": [],
    "is_collapsed": false,
    "tags": []
   },
   "source": [
    "We will use historical Google stock values over the past few years as our example. It is a relatively easy assignment to complete, as demonstrated below:"
   ]
  },
  {
   "cell_type": "code",
   "execution_count": null,
   "metadata": {
    "cell_id": "1ddd7b8b873549ad9b01670f4343ea68",
    "deepnote_cell_type": "code",
    "deepnote_to_be_reexecuted": false,
    "execution_millis": 1042,
    "execution_start": 1662148902337,
    "source_hash": "74c8858c",
    "tags": []
   },
   "outputs": [
    {
     "name": "stdout",
     "output_type": "stream",
     "text": [
      "                  Open        High         Low       Close     Volume  \\\n",
      "Date                                                                    \n",
      "2004-08-19    2.502503    2.604104    2.401401    2.511011  893181924   \n",
      "2004-08-20    2.527778    2.729730    2.515015    2.710460  456686856   \n",
      "2004-08-23    2.771522    2.839840    2.728979    2.737738  365122512   \n",
      "2004-08-24    2.783784    2.792793    2.591842    2.624374  304946748   \n",
      "2004-08-25    2.626627    2.702703    2.599600    2.652653  183772044   \n",
      "...                ...         ...         ...         ...        ...   \n",
      "2022-08-29  109.989998  110.949997  108.800003  109.419998   21191200   \n",
      "2022-08-30  110.169998  110.500000  107.800003  108.940002   27513300   \n",
      "2022-08-31  110.650002  110.849998  108.129997  108.220001   28627000   \n",
      "2022-09-01  108.279999  110.449997  107.360001  109.739998   28360900   \n",
      "2022-09-02  110.589996  110.739998  107.261597  107.849998   23528231   \n",
      "\n",
      "            Dividends  Stock Splits  \n",
      "Date                                 \n",
      "2004-08-19          0           0.0  \n",
      "2004-08-20          0           0.0  \n",
      "2004-08-23          0           0.0  \n",
      "2004-08-24          0           0.0  \n",
      "2004-08-25          0           0.0  \n",
      "...               ...           ...  \n",
      "2022-08-29          0           0.0  \n",
      "2022-08-30          0           0.0  \n",
      "2022-08-31          0           0.0  \n",
      "2022-09-01          0           0.0  \n",
      "2022-09-02          0           0.0  \n",
      "\n",
      "[4543 rows x 7 columns]\n"
     ]
    }
   ],
   "source": [
    "# covering the past few years.\n",
    "# max->maximum number of daily prices available\n",
    "# for Google.\n",
    "# Valid options are 1d, 5d, 1mo, 3mo, 6mo, 1y, 2y,\n",
    "# 5y, 10y and ytd.\n",
    "print(GoogleInfo.history(period=\"max\"))"
   ]
  },
  {
   "cell_type": "markdown",
   "metadata": {
    "cell_id": "23bf659bde394b2a92ea59296d769366",
    "deepnote_cell_type": "text-cell-p",
    "formattedRanges": [],
    "is_collapsed": false,
    "tags": []
   },
   "source": [
    "We can pass our own start and end dates."
   ]
  },
  {
   "cell_type": "code",
   "execution_count": null,
   "metadata": {
    "cell_id": "a903d8326b364f47a67c8cd583d690ee",
    "deepnote_cell_type": "code",
    "deepnote_to_be_reexecuted": false,
    "execution_millis": 337,
    "execution_start": 1662148903060,
    "source_hash": "f74cd84b",
    "tags": []
   },
   "outputs": [
    {
     "name": "stdout",
     "output_type": "stream",
     "text": [
      "                 Open       High        Low      Close     Volume  Dividends  \\\n",
      "Date                                                                           \n",
      "2012-05-31  14.732733  14.764765  14.489489  14.536036  118613268          0   \n",
      "2012-06-01  14.309059  14.330581  14.222973  14.288789  122193684          0   \n",
      "2012-06-04  14.269770  14.526777  14.264515  14.479229   97210692          0   \n",
      "2012-06-05  14.400651  14.467718  14.175926  14.274525   93502404          0   \n",
      "2012-06-06  14.426426  14.563814  14.354605  14.528779   83748168          0   \n",
      "...               ...        ...        ...        ...        ...        ...   \n",
      "2013-01-23  18.418167  18.743744  18.413162  18.556055  236127636          0   \n",
      "2013-01-24  18.549549  18.939690  18.531281  18.874125  135172692          0   \n",
      "2013-01-25  18.788038  18.980982  18.775024  18.860611   88946964          0   \n",
      "2013-01-28  18.812813  18.908909  18.715965  18.787037   65018916          0   \n",
      "2013-01-29  18.687437  18.942694  18.682182  18.860861   69814116          0   \n",
      "\n",
      "            Stock Splits  \n",
      "Date                      \n",
      "2012-05-31             0  \n",
      "2012-06-01             0  \n",
      "2012-06-04             0  \n",
      "2012-06-05             0  \n",
      "2012-06-06             0  \n",
      "...                  ...  \n",
      "2013-01-23             0  \n",
      "2013-01-24             0  \n",
      "2013-01-25             0  \n",
      "2013-01-28             0  \n",
      "2013-01-29             0  \n",
      "\n",
      "[166 rows x 7 columns]\n"
     ]
    }
   ],
   "source": [
    "import datetime\n",
    "\n",
    "start = datetime.datetime(2012,5,31) \n",
    "end = datetime.datetime(2013,1,30) \n",
    "print(GoogleInfo.history(start=start, end=end))"
   ]
  },
  {
   "cell_type": "markdown",
   "metadata": {
    "cell_id": "dae69b62366a4950a7f9677822e96083",
    "deepnote_cell_type": "text-cell-p",
    "formattedRanges": [],
    "is_collapsed": false,
    "tags": []
   },
   "source": [
    "We can simultaneously download historical prices for many stocks: "
   ]
  },
  {
   "cell_type": "markdown",
   "metadata": {
    "cell_id": "f703267ad58b44468d2d6e249f636a5f",
    "deepnote_cell_type": "text-cell-p",
    "formattedRanges": [],
    "is_collapsed": false,
    "tags": []
   },
   "source": [
    "The code below Pandas DataFrame including the different price data for the requested stocks. We now select the individual stock by printing df.GOOGL to have the historical market data for Google:"
   ]
  },
  {
   "cell_type": "code",
   "execution_count": null,
   "metadata": {
    "cell_id": "9098010f17eb47eb9fe7f55791145581",
    "deepnote_cell_type": "code",
    "deepnote_to_be_reexecuted": false,
    "execution_millis": 317,
    "execution_start": 1662148903105,
    "source_hash": "ca070834",
    "tags": []
   },
   "outputs": [
    {
     "name": "stdout",
     "output_type": "stream",
     "text": [
      "[*********************100%***********************]  2 of 2 completed\n",
      "                 AMZN                                                         \\\n",
      "                 Open       High        Low      Close  Adj Close     Volume   \n",
      "Date                                                                           \n",
      "2019-01-02  73.260002  77.667999  73.046501  76.956497  76.956497  159662000   \n",
      "2019-01-03  76.000504  76.900002  74.855499  75.014000  75.014000  139512000   \n",
      "2019-01-04  76.500000  79.699997  75.915497  78.769501  78.769501  183652000   \n",
      "2019-01-07  80.115501  81.727997  79.459503  81.475502  81.475502  159864000   \n",
      "2019-01-08  83.234497  83.830498  80.830498  82.829002  82.829002  177628000   \n",
      "...               ...        ...        ...        ...        ...        ...   \n",
      "2019-12-24  89.690498  89.778503  89.378998  89.460503  89.460503   17626000   \n",
      "2019-12-26  90.050499  93.523003  89.974998  93.438499  93.438499  120108000   \n",
      "2019-12-27  94.146004  95.070000  93.300499  93.489998  93.489998  123732000   \n",
      "2019-12-30  93.699997  94.199997  92.030998  92.344498  92.344498   73494000   \n",
      "2019-12-31  92.099998  92.663002  91.611504  92.391998  92.391998   50130000   \n",
      "\n",
      "                GOOGL                                                        \n",
      "                 Open       High        Low      Close  Adj Close    Volume  \n",
      "Date                                                                         \n",
      "2019-01-02  51.360001  53.039501  51.264000  52.734001  52.734001  31868000  \n",
      "2019-01-03  52.533501  53.313000  51.118500  51.273499  51.273499  41960000  \n",
      "2019-01-04  52.127998  54.000000  51.842999  53.903500  53.903500  46022000  \n",
      "2019-01-07  54.048500  54.134998  53.132000  53.796001  53.796001  47446000  \n",
      "2019-01-08  54.299999  54.667500  53.417500  54.268501  54.268501  35414000  \n",
      "...               ...        ...        ...        ...        ...       ...  \n",
      "2019-12-24  67.510498  67.600502  67.208504  67.221497  67.221497  13468000  \n",
      "2019-12-26  67.327499  68.160004  67.275497  68.123497  68.123497  23662000  \n",
      "2019-12-27  68.199997  68.352501  67.650002  67.732002  67.732002  23212000  \n",
      "2019-12-30  67.840500  67.849998  66.891998  66.985497  66.985497  19994000  \n",
      "2019-12-31  66.789497  67.032997  66.606499  66.969498  66.969498  19514000  \n",
      "\n",
      "[252 rows x 12 columns]\n",
      "                 Open       High        Low      Close  Adj Close    Volume\n",
      "Date                                                                       \n",
      "2019-01-02  51.360001  53.039501  51.264000  52.734001  52.734001  31868000\n",
      "2019-01-03  52.533501  53.313000  51.118500  51.273499  51.273499  41960000\n",
      "2019-01-04  52.127998  54.000000  51.842999  53.903500  53.903500  46022000\n",
      "2019-01-07  54.048500  54.134998  53.132000  53.796001  53.796001  47446000\n",
      "2019-01-08  54.299999  54.667500  53.417500  54.268501  54.268501  35414000\n",
      "...               ...        ...        ...        ...        ...       ...\n",
      "2019-12-24  67.510498  67.600502  67.208504  67.221497  67.221497  13468000\n",
      "2019-12-26  67.327499  68.160004  67.275497  68.123497  68.123497  23662000\n",
      "2019-12-27  68.199997  68.352501  67.650002  67.732002  67.732002  23212000\n",
      "2019-12-30  67.840500  67.849998  66.891998  66.985497  66.985497  19994000\n",
      "2019-12-31  66.789497  67.032997  66.606499  66.969498  66.969498  19514000\n",
      "\n",
      "[252 rows x 6 columns]\n"
     ]
    }
   ],
   "source": [
    "df = yahooFinance.download(\"AMZN GOOGL\", start=\"2019-01-01\", end=\"2020-01-01\",group_by=\"ticker\") \n",
    "print(df) \n",
    "print(df.GOOGL)"
   ]
  },
  {
   "cell_type": "markdown",
   "metadata": {
    "cell_id": "b5d8c660c56a4b649b0e4754cf4f4541",
    "deepnote_cell_type": "text-cell-h3",
    "formattedRanges": [],
    "is_collapsed": false,
    "tags": []
   },
   "source": [
    "### Save the data to CSV"
   ]
  },
  {
   "cell_type": "code",
   "execution_count": null,
   "metadata": {
    "cell_id": "edd15737f04744daa6fa7c88f4d656f5",
    "deepnote_cell_type": "code",
    "deepnote_to_be_reexecuted": false,
    "execution_millis": 1,
    "execution_start": 1662149163576,
    "source_hash": "f1a64dac",
    "tags": []
   },
   "outputs": [],
   "source": [
    "df.to_csv('data/FinanceData.csv')"
   ]
  },
  {
   "cell_type": "markdown",
   "metadata": {
    "cell_id": "5016f629594e40d39a6940a203999efb",
    "deepnote_cell_type": "text-cell-h3",
    "formattedRanges": [],
    "is_collapsed": false,
    "tags": []
   },
   "source": [
    "### Congratulations!"
   ]
  },
  {
   "cell_type": "markdown",
   "metadata": {
    "cell_id": "82f43ee91c2f4a1593612e22e88873f2",
    "deepnote_cell_type": "text-cell-p",
    "formattedRanges": [],
    "is_collapsed": false,
    "tags": []
   },
   "source": [
    "Credit: This tutorial is prepared by Ajay Sadananda."
   ]
  }
 ],
 "metadata": {
  "deepnote": {},
  "deepnote_execution_queue": [],
  "deepnote_notebook_id": "adfc8450810e4a699117722b0ff3d62f",
  "deepnote_persisted_session": {
   "createdAt": "2022-09-02T20:31:29.495Z",
   "filename": "session_dump_60fe70ca29d94ddba20227662f93fd14.pkl"
  },
  "kernelspec": {
   "display_name": "Python 3 (ipykernel)",
   "language": "python",
   "name": "python3"
  },
  "language_info": {
   "codemirror_mode": {
    "name": "ipython",
    "version": 3
   },
   "file_extension": ".py",
   "mimetype": "text/x-python",
   "name": "python",
   "nbconvert_exporter": "python",
   "pygments_lexer": "ipython3",
   "version": "3.8.16"
  }
 },
 "nbformat": 4,
 "nbformat_minor": 4
}
