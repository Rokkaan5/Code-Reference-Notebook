{
 "cells": [
  {
   "cell_type": "markdown",
   "metadata": {
    "cell_id": "b97430af2c1c420badea88c2b35e514a",
    "deepnote_app_coordinates": {
     "h": 5,
     "w": 12,
     "x": 0,
     "y": 1
    },
    "deepnote_cell_type": "text-cell-h1",
    "formattedRanges": [],
    "is_collapsed": false,
    "tags": []
   },
   "source": [
    "# Collect Data From CSV Files"
   ]
  },
  {
   "cell_type": "markdown",
   "metadata": {
    "cell_id": "f0ef8c920f9f4094bcb96f3f1c7662f8",
    "deepnote_app_coordinates": {
     "h": 2,
     "w": 8,
     "x": 0,
     "y": 7
    },
    "deepnote_cell_type": "text-cell-p",
    "formattedRanges": [],
    "is_collapsed": false,
    "tags": []
   },
   "source": [
    "In this tutorial, we retrieve data from a .csv file."
   ]
  },
  {
   "cell_type": "markdown",
   "metadata": {
    "cell_id": "d550674605f244eaae3bc940ec7aa0d0",
    "deepnote_app_coordinates": {
     "h": 5,
     "w": 12,
     "x": 0,
     "y": 10
    },
    "deepnote_cell_type": "text-cell-h3",
    "formattedRanges": [],
    "is_collapsed": false,
    "tags": []
   },
   "source": [
    "### What is CSV?"
   ]
  },
  {
   "cell_type": "markdown",
   "metadata": {
    "cell_id": "57850aa9661a4a1a82c0c5ecee718491",
    "deepnote_app_coordinates": {
     "h": 5,
     "w": 12,
     "x": 0,
     "y": 16
    },
    "deepnote_cell_height": 119,
    "deepnote_cell_type": "markdown",
    "tags": []
   },
   "source": [
    "* A CSV (comma-separated values) file is a text file in which information is separated by commas.\n",
    "* CSV files are widely used as spreadsheets and databases.\n",
    "* CSV files are convenient and can be read/output by many programs.\n",
    "\n"
   ]
  },
  {
   "cell_type": "markdown",
   "metadata": {
    "cell_id": "7c5fa4aa8dfc4867ae80779ffb59835d",
    "deepnote_app_coordinates": {
     "h": 2,
     "w": 8,
     "x": 0,
     "y": 28
    },
    "deepnote_cell_type": "text-cell-p",
    "formattedRanges": [
     {
      "fromCodePoint": 142,
      "marks": {
       "bold": true
      },
      "toCodePoint": 151,
      "type": "marks"
     },
     {
      "fromCodePoint": 353,
      "marks": {
       "bold": true
      },
      "toCodePoint": 356,
      "type": "marks"
     }
    ],
    "is_collapsed": false,
    "tags": []
   },
   "source": [
    "We use a Python package, pandas, to deal with CSV files (and many more other types of files). The pandas package has a data structure, called DataFrame, which reads in CSV files as tables with rows and columns. The first line in the CSV file is converted to names of columns, and other lines are converted to rows. In convention, we rename the pandas as pd to make it simple."
   ]
  },
  {
   "cell_type": "code",
   "execution_count": null,
   "metadata": {
    "cell_id": "b59c8a3bd8b6477ca91f71509726c0f4",
    "deepnote_app_coordinates": {
     "h": 5,
     "w": 12,
     "x": 0,
     "y": 31
    },
    "deepnote_cell_type": "code",
    "deepnote_to_be_reexecuted": false,
    "execution_millis": 0,
    "execution_start": 1661570468791,
    "source_hash": "9b82ee11",
    "tags": []
   },
   "outputs": [],
   "source": [
    "import pandas as pd"
   ]
  },
  {
   "cell_type": "markdown",
   "metadata": {
    "cell_id": "9cfecdd276bc4312b1fc6279619e57f6",
    "deepnote_app_coordinates": {
     "h": 2,
     "w": 8,
     "x": 0,
     "y": 37
    },
    "deepnote_cell_type": "text-cell-p",
    "formattedRanges": [],
    "is_collapsed": false,
    "tags": []
   },
   "source": [
    "Once the pandas package is imported, we can start to use the functions included in this package. "
   ]
  },
  {
   "cell_type": "markdown",
   "metadata": {
    "cell_id": "e3229a6a6ce2455c825296f9dd968043",
    "deepnote_app_coordinates": {
     "h": 2,
     "w": 8,
     "x": 0,
     "y": 40
    },
    "deepnote_cell_type": "text-cell-p",
    "formattedRanges": [
     {
      "fromCodePoint": 36,
      "marks": {
       "code": true
      },
      "toCodePoint": 59,
      "type": "marks"
     },
     {
      "fromCodePoint": 100,
      "marks": {
       "bold": true
      },
      "toCodePoint": 109,
      "type": "marks"
     },
     {
      "fromCodePoint": 141,
      "marks": {
       "bold": true
      },
      "toCodePoint": 143,
      "type": "marks"
     },
     {
      "fromCodePoint": 238,
      "marks": {
       "code": true
      },
      "toCodePoint": 245,
      "type": "marks"
     }
    ],
    "is_collapsed": false,
    "tags": []
   },
   "source": [
    "The function to read a CSV file, is .read_CSV(path_to_file). The return value of this function is a DataFrame, and in convention, we name it df. To make sure the data is read in successfully, we normally print the first 5 rows out, using .head()."
   ]
  },
  {
   "cell_type": "markdown",
   "metadata": {
    "cell_id": "e1ffc7d21b214f289104f3ee753bfe01",
    "deepnote_app_coordinates": {
     "h": 2,
     "w": 8,
     "x": 0,
     "y": 43
    },
    "deepnote_cell_type": "text-cell-p",
    "formattedRanges": [
     {
      "fromCodePoint": 47,
      "marks": {
       "bold": true
      },
      "toCodePoint": 73,
      "type": "marks"
     },
     {
      "fromCodePoint": 78,
      "marks": {
       "bold": true
      },
      "toCodePoint": 90,
      "type": "marks"
     },
     {
      "fromCodePoint": 107,
      "marks": {
       "bold": true
      },
      "toCodePoint": 134,
      "type": "marks"
     }
    ],
    "is_collapsed": false,
    "tags": []
   },
   "source": [
    "We have two CSV files in the project, they are simpsons_paradox_covid.csv and HELPfull.csv. Let's play with simpsons_paradox_covid.csv at this time. "
   ]
  },
  {
   "cell_type": "code",
   "execution_count": null,
   "metadata": {
    "cell_id": "2bf5023fb35443dcb2a0269589f652af",
    "deepnote_app_coordinates": {
     "h": 5,
     "w": 12,
     "x": 0,
     "y": 46
    },
    "deepnote_cell_type": "code",
    "deepnote_to_be_reexecuted": false,
    "execution_millis": 112,
    "execution_start": 1661570468792,
    "source_hash": "20e45085",
    "tags": []
   },
   "outputs": [
    {
     "data": {
      "application/vnd.deepnote.dataframe.v3+json": {
       "column_count": 4,
       "columns": [
        {
         "dtype": "int64",
         "name": "Unnamed: 0",
         "stats": {
          "histogram": [
           {
            "bin_end": 1.4,
            "bin_start": 1,
            "count": 1
           },
           {
            "bin_end": 1.8,
            "bin_start": 1.4,
            "count": 0
           },
           {
            "bin_end": 2.2,
            "bin_start": 1.8,
            "count": 1
           },
           {
            "bin_end": 2.6,
            "bin_start": 2.2,
            "count": 0
           },
           {
            "bin_end": 3,
            "bin_start": 2.6,
            "count": 0
           },
           {
            "bin_end": 3.4000000000000004,
            "bin_start": 3,
            "count": 1
           },
           {
            "bin_end": 3.8000000000000003,
            "bin_start": 3.4000000000000004,
            "count": 0
           },
           {
            "bin_end": 4.2,
            "bin_start": 3.8000000000000003,
            "count": 1
           },
           {
            "bin_end": 4.6,
            "bin_start": 4.2,
            "count": 0
           },
           {
            "bin_end": 5,
            "bin_start": 4.6,
            "count": 1
           }
          ],
          "max": "5",
          "min": "1",
          "nan_count": 0,
          "unique_count": 5
         }
        },
        {
         "dtype": "object",
         "name": "age_group",
         "stats": {
          "categories": [
           {
            "count": 5,
            "name": "under 50"
           }
          ],
          "nan_count": 0,
          "unique_count": 1
         }
        },
        {
         "dtype": "object",
         "name": "vaccine_status",
         "stats": {
          "categories": [
           {
            "count": 5,
            "name": "vaccinated"
           }
          ],
          "nan_count": 0,
          "unique_count": 1
         }
        },
        {
         "dtype": "object",
         "name": "outcome",
         "stats": {
          "categories": [
           {
            "count": 5,
            "name": "death"
           }
          ],
          "nan_count": 0,
          "unique_count": 1
         }
        },
        {
         "dtype": "int64",
         "name": "_deepnote_index_column"
        }
       ],
       "row_count": 5,
       "rows": [
        {
         "Unnamed: 0": 1,
         "_deepnote_index_column": 0,
         "age_group": "under 50",
         "outcome": "death",
         "vaccine_status": "vaccinated"
        },
        {
         "Unnamed: 0": 2,
         "_deepnote_index_column": 1,
         "age_group": "under 50",
         "outcome": "death",
         "vaccine_status": "vaccinated"
        },
        {
         "Unnamed: 0": 3,
         "_deepnote_index_column": 2,
         "age_group": "under 50",
         "outcome": "death",
         "vaccine_status": "vaccinated"
        },
        {
         "Unnamed: 0": 4,
         "_deepnote_index_column": 3,
         "age_group": "under 50",
         "outcome": "death",
         "vaccine_status": "vaccinated"
        },
        {
         "Unnamed: 0": 5,
         "_deepnote_index_column": 4,
         "age_group": "under 50",
         "outcome": "death",
         "vaccine_status": "vaccinated"
        }
       ]
      },
      "text/html": [
       "<div>\n",
       "<style scoped>\n",
       "    .dataframe tbody tr th:only-of-type {\n",
       "        vertical-align: middle;\n",
       "    }\n",
       "\n",
       "    .dataframe tbody tr th {\n",
       "        vertical-align: top;\n",
       "    }\n",
       "\n",
       "    .dataframe thead th {\n",
       "        text-align: right;\n",
       "    }\n",
       "</style>\n",
       "<table border=\"1\" class=\"dataframe\">\n",
       "  <thead>\n",
       "    <tr style=\"text-align: right;\">\n",
       "      <th></th>\n",
       "      <th>Unnamed: 0</th>\n",
       "      <th>age_group</th>\n",
       "      <th>vaccine_status</th>\n",
       "      <th>outcome</th>\n",
       "    </tr>\n",
       "  </thead>\n",
       "  <tbody>\n",
       "    <tr>\n",
       "      <th>0</th>\n",
       "      <td>1</td>\n",
       "      <td>under 50</td>\n",
       "      <td>vaccinated</td>\n",
       "      <td>death</td>\n",
       "    </tr>\n",
       "    <tr>\n",
       "      <th>1</th>\n",
       "      <td>2</td>\n",
       "      <td>under 50</td>\n",
       "      <td>vaccinated</td>\n",
       "      <td>death</td>\n",
       "    </tr>\n",
       "    <tr>\n",
       "      <th>2</th>\n",
       "      <td>3</td>\n",
       "      <td>under 50</td>\n",
       "      <td>vaccinated</td>\n",
       "      <td>death</td>\n",
       "    </tr>\n",
       "    <tr>\n",
       "      <th>3</th>\n",
       "      <td>4</td>\n",
       "      <td>under 50</td>\n",
       "      <td>vaccinated</td>\n",
       "      <td>death</td>\n",
       "    </tr>\n",
       "    <tr>\n",
       "      <th>4</th>\n",
       "      <td>5</td>\n",
       "      <td>under 50</td>\n",
       "      <td>vaccinated</td>\n",
       "      <td>death</td>\n",
       "    </tr>\n",
       "  </tbody>\n",
       "</table>\n",
       "</div>"
      ],
      "text/plain": [
       "   Unnamed: 0 age_group vaccine_status outcome\n",
       "0           1  under 50     vaccinated   death\n",
       "1           2  under 50     vaccinated   death\n",
       "2           3  under 50     vaccinated   death\n",
       "3           4  under 50     vaccinated   death\n",
       "4           5  under 50     vaccinated   death"
      ]
     },
     "execution_count": 2,
     "metadata": {},
     "output_type": "execute_result"
    }
   ],
   "source": [
    "df = pd.read_csv('data/simpsons_paradox_covid.csv')\n",
    "df.head()"
   ]
  },
  {
   "cell_type": "markdown",
   "metadata": {
    "cell_id": "b6c89d5d126b4f45809a22faac465fc5",
    "deepnote_app_coordinates": {
     "h": 2,
     "w": 8,
     "x": 0,
     "y": 52
    },
    "deepnote_cell_type": "text-cell-p",
    "formattedRanges": [
     {
      "fromCodePoint": 52,
      "marks": {
       "code": true
      },
      "toCodePoint": 108,
      "type": "marks"
     },
     {
      "fromCodePoint": 114,
      "marks": {
       "code": true
      },
      "toCodePoint": 121,
      "type": "marks"
     },
     {
      "fromCodePoint": 254,
      "marks": {
       "code": true
      },
      "toCodePoint": 263,
      "type": "marks"
     }
    ],
    "is_collapsed": false,
    "tags": []
   },
   "source": [
    "We can find the database read in, with four columns ['Unnamed: 0', 'age_group', 'vaccine_status', 'outcome']. The .head() function by default will print the first 5 rows (including the column head). If you want to print more rows out, you can specify as .head(10) to print first 10 rows out."
   ]
  },
  {
   "cell_type": "code",
   "execution_count": null,
   "metadata": {
    "cell_id": "a10f435c52b84c25a8db035599f07b34",
    "deepnote_app_coordinates": {
     "h": 5,
     "w": 12,
     "x": 0,
     "y": 55
    },
    "deepnote_cell_type": "code",
    "deepnote_to_be_reexecuted": false,
    "execution_millis": 4,
    "execution_start": 1661570468948,
    "source_hash": "f30f989a",
    "tags": []
   },
   "outputs": [
    {
     "data": {
      "application/vnd.deepnote.dataframe.v3+json": {
       "column_count": 4,
       "columns": [
        {
         "dtype": "int64",
         "name": "Unnamed: 0",
         "stats": {
          "histogram": [
           {
            "bin_end": 1.9,
            "bin_start": 1,
            "count": 1
           },
           {
            "bin_end": 2.8,
            "bin_start": 1.9,
            "count": 1
           },
           {
            "bin_end": 3.7,
            "bin_start": 2.8,
            "count": 1
           },
           {
            "bin_end": 4.6,
            "bin_start": 3.7,
            "count": 1
           },
           {
            "bin_end": 5.5,
            "bin_start": 4.6,
            "count": 1
           },
           {
            "bin_end": 6.4,
            "bin_start": 5.5,
            "count": 1
           },
           {
            "bin_end": 7.3,
            "bin_start": 6.4,
            "count": 1
           },
           {
            "bin_end": 8.2,
            "bin_start": 7.3,
            "count": 1
           },
           {
            "bin_end": 9.1,
            "bin_start": 8.2,
            "count": 1
           },
           {
            "bin_end": 10,
            "bin_start": 9.1,
            "count": 1
           }
          ],
          "max": "10",
          "min": "1",
          "nan_count": 0,
          "unique_count": 10
         }
        },
        {
         "dtype": "object",
         "name": "age_group",
         "stats": {
          "categories": [
           {
            "count": 10,
            "name": "under 50"
           }
          ],
          "nan_count": 0,
          "unique_count": 1
         }
        },
        {
         "dtype": "object",
         "name": "vaccine_status",
         "stats": {
          "categories": [
           {
            "count": 10,
            "name": "vaccinated"
           }
          ],
          "nan_count": 0,
          "unique_count": 1
         }
        },
        {
         "dtype": "object",
         "name": "outcome",
         "stats": {
          "categories": [
           {
            "count": 10,
            "name": "death"
           }
          ],
          "nan_count": 0,
          "unique_count": 1
         }
        },
        {
         "dtype": "int64",
         "name": "_deepnote_index_column"
        }
       ],
       "row_count": 10,
       "rows": [
        {
         "Unnamed: 0": 1,
         "_deepnote_index_column": 0,
         "age_group": "under 50",
         "outcome": "death",
         "vaccine_status": "vaccinated"
        },
        {
         "Unnamed: 0": 2,
         "_deepnote_index_column": 1,
         "age_group": "under 50",
         "outcome": "death",
         "vaccine_status": "vaccinated"
        },
        {
         "Unnamed: 0": 3,
         "_deepnote_index_column": 2,
         "age_group": "under 50",
         "outcome": "death",
         "vaccine_status": "vaccinated"
        },
        {
         "Unnamed: 0": 4,
         "_deepnote_index_column": 3,
         "age_group": "under 50",
         "outcome": "death",
         "vaccine_status": "vaccinated"
        },
        {
         "Unnamed: 0": 5,
         "_deepnote_index_column": 4,
         "age_group": "under 50",
         "outcome": "death",
         "vaccine_status": "vaccinated"
        },
        {
         "Unnamed: 0": 6,
         "_deepnote_index_column": 5,
         "age_group": "under 50",
         "outcome": "death",
         "vaccine_status": "vaccinated"
        },
        {
         "Unnamed: 0": 7,
         "_deepnote_index_column": 6,
         "age_group": "under 50",
         "outcome": "death",
         "vaccine_status": "vaccinated"
        },
        {
         "Unnamed: 0": 8,
         "_deepnote_index_column": 7,
         "age_group": "under 50",
         "outcome": "death",
         "vaccine_status": "vaccinated"
        },
        {
         "Unnamed: 0": 9,
         "_deepnote_index_column": 8,
         "age_group": "under 50",
         "outcome": "death",
         "vaccine_status": "vaccinated"
        },
        {
         "Unnamed: 0": 10,
         "_deepnote_index_column": 9,
         "age_group": "under 50",
         "outcome": "death",
         "vaccine_status": "vaccinated"
        }
       ]
      },
      "text/html": [
       "<div>\n",
       "<style scoped>\n",
       "    .dataframe tbody tr th:only-of-type {\n",
       "        vertical-align: middle;\n",
       "    }\n",
       "\n",
       "    .dataframe tbody tr th {\n",
       "        vertical-align: top;\n",
       "    }\n",
       "\n",
       "    .dataframe thead th {\n",
       "        text-align: right;\n",
       "    }\n",
       "</style>\n",
       "<table border=\"1\" class=\"dataframe\">\n",
       "  <thead>\n",
       "    <tr style=\"text-align: right;\">\n",
       "      <th></th>\n",
       "      <th>Unnamed: 0</th>\n",
       "      <th>age_group</th>\n",
       "      <th>vaccine_status</th>\n",
       "      <th>outcome</th>\n",
       "    </tr>\n",
       "  </thead>\n",
       "  <tbody>\n",
       "    <tr>\n",
       "      <th>0</th>\n",
       "      <td>1</td>\n",
       "      <td>under 50</td>\n",
       "      <td>vaccinated</td>\n",
       "      <td>death</td>\n",
       "    </tr>\n",
       "    <tr>\n",
       "      <th>1</th>\n",
       "      <td>2</td>\n",
       "      <td>under 50</td>\n",
       "      <td>vaccinated</td>\n",
       "      <td>death</td>\n",
       "    </tr>\n",
       "    <tr>\n",
       "      <th>2</th>\n",
       "      <td>3</td>\n",
       "      <td>under 50</td>\n",
       "      <td>vaccinated</td>\n",
       "      <td>death</td>\n",
       "    </tr>\n",
       "    <tr>\n",
       "      <th>3</th>\n",
       "      <td>4</td>\n",
       "      <td>under 50</td>\n",
       "      <td>vaccinated</td>\n",
       "      <td>death</td>\n",
       "    </tr>\n",
       "    <tr>\n",
       "      <th>4</th>\n",
       "      <td>5</td>\n",
       "      <td>under 50</td>\n",
       "      <td>vaccinated</td>\n",
       "      <td>death</td>\n",
       "    </tr>\n",
       "    <tr>\n",
       "      <th>5</th>\n",
       "      <td>6</td>\n",
       "      <td>under 50</td>\n",
       "      <td>vaccinated</td>\n",
       "      <td>death</td>\n",
       "    </tr>\n",
       "    <tr>\n",
       "      <th>6</th>\n",
       "      <td>7</td>\n",
       "      <td>under 50</td>\n",
       "      <td>vaccinated</td>\n",
       "      <td>death</td>\n",
       "    </tr>\n",
       "    <tr>\n",
       "      <th>7</th>\n",
       "      <td>8</td>\n",
       "      <td>under 50</td>\n",
       "      <td>vaccinated</td>\n",
       "      <td>death</td>\n",
       "    </tr>\n",
       "    <tr>\n",
       "      <th>8</th>\n",
       "      <td>9</td>\n",
       "      <td>under 50</td>\n",
       "      <td>vaccinated</td>\n",
       "      <td>death</td>\n",
       "    </tr>\n",
       "    <tr>\n",
       "      <th>9</th>\n",
       "      <td>10</td>\n",
       "      <td>under 50</td>\n",
       "      <td>vaccinated</td>\n",
       "      <td>death</td>\n",
       "    </tr>\n",
       "  </tbody>\n",
       "</table>\n",
       "</div>"
      ],
      "text/plain": [
       "   Unnamed: 0 age_group vaccine_status outcome\n",
       "0           1  under 50     vaccinated   death\n",
       "1           2  under 50     vaccinated   death\n",
       "2           3  under 50     vaccinated   death\n",
       "3           4  under 50     vaccinated   death\n",
       "4           5  under 50     vaccinated   death\n",
       "5           6  under 50     vaccinated   death\n",
       "6           7  under 50     vaccinated   death\n",
       "7           8  under 50     vaccinated   death\n",
       "8           9  under 50     vaccinated   death\n",
       "9          10  under 50     vaccinated   death"
      ]
     },
     "execution_count": 3,
     "metadata": {},
     "output_type": "execute_result"
    }
   ],
   "source": [
    "df.head(10)"
   ]
  },
  {
   "cell_type": "markdown",
   "metadata": {
    "cell_id": "4332b3bde31342a2a933b58e3618b037",
    "deepnote_app_coordinates": {
     "h": 2,
     "w": 8,
     "x": 0,
     "y": 61
    },
    "deepnote_cell_type": "text-cell-p",
    "formattedRanges": [
     {
      "fromCodePoint": 11,
      "marks": {
       "code": true
      },
      "toCodePoint": 18,
      "type": "marks"
     }
    ],
    "is_collapsed": false,
    "tags": []
   },
   "source": [
    "We can use .info() to get a big picture of the data we read in."
   ]
  },
  {
   "cell_type": "code",
   "execution_count": null,
   "metadata": {
    "cell_id": "1cc3c1e45b924e75911434ce85fa34f2",
    "deepnote_app_coordinates": {
     "h": 5,
     "w": 12,
     "x": 0,
     "y": 64
    },
    "deepnote_cell_type": "code",
    "deepnote_to_be_reexecuted": false,
    "execution_millis": 2,
    "execution_start": 1661570468994,
    "source_hash": "de1e323c",
    "tags": []
   },
   "outputs": [
    {
     "name": "stdout",
     "output_type": "stream",
     "text": [
      "<class 'pandas.core.frame.DataFrame'>\n",
      "RangeIndex: 268166 entries, 0 to 268165\n",
      "Data columns (total 4 columns):\n",
      " #   Column          Non-Null Count   Dtype \n",
      "---  ------          --------------   ----- \n",
      " 0   Unnamed: 0      268166 non-null  int64 \n",
      " 1   age_group       268166 non-null  object\n",
      " 2   vaccine_status  268166 non-null  object\n",
      " 3   outcome         268166 non-null  object\n",
      "dtypes: int64(1), object(3)\n",
      "memory usage: 8.2+ MB\n"
     ]
    }
   ],
   "source": [
    "df.info()"
   ]
  },
  {
   "cell_type": "markdown",
   "metadata": {
    "cell_id": "941b6b3d01fa4568b4ad411d3f8f7268",
    "deepnote_app_coordinates": {
     "h": 2,
     "w": 8,
     "x": 0,
     "y": 70
    },
    "deepnote_cell_type": "text-cell-p",
    "formattedRanges": [],
    "is_collapsed": false,
    "tags": []
   },
   "source": [
    "Now we can find out this tabular data has 4 columns, and 268166 rows. "
   ]
  },
  {
   "cell_type": "markdown",
   "metadata": {
    "cell_id": "250d0bbccf8548f492eb368e4a9b9b78",
    "deepnote_app_coordinates": {
     "h": 2,
     "w": 8,
     "x": 0,
     "y": 73
    },
    "deepnote_cell_type": "text-cell-p",
    "formattedRanges": [
     {
      "fromCodePoint": 44,
      "marks": {
       "code": true
      },
      "toCodePoint": 65,
      "type": "marks"
     }
    ],
    "is_collapsed": false,
    "tags": []
   },
   "source": [
    "To output a DataFrame to a CSV file, we use .to_CSV(path_to_file) accordingly. Caution: If there is no such file, a new file will be created; if there is a file already, it will be replaced!"
   ]
  },
  {
   "cell_type": "code",
   "execution_count": null,
   "metadata": {
    "cell_id": "5d8a0ed82a404461bf178ea53fb1b726",
    "deepnote_app_coordinates": {
     "h": 5,
     "w": 12,
     "x": 0,
     "y": 76
    },
    "deepnote_cell_type": "code",
    "deepnote_to_be_reexecuted": false,
    "execution_millis": 624,
    "execution_start": 1661570468995,
    "source_hash": "c8e8a229",
    "tags": []
   },
   "outputs": [],
   "source": [
    "df.to_csv('data/simpsons_paradox_covid_new.csv')"
   ]
  },
  {
   "cell_type": "markdown",
   "metadata": {
    "cell_id": "0ec9d8df98bc4e58a83ec870d1d4011d",
    "deepnote_app_coordinates": {
     "h": 2,
     "w": 8,
     "x": 0,
     "y": 82
    },
    "deepnote_cell_type": "text-cell-p",
    "formattedRanges": [],
    "is_collapsed": false,
    "tags": []
   },
   "source": [
    "Now we finished the I/O of CSV files using pandas. We will cover more details in Data Understanding step."
   ]
  },
  {
   "cell_type": "markdown",
   "metadata": {
    "cell_id": "ab77e06ade3541329751caba11e09895",
    "deepnote_app_coordinates": {
     "h": 5,
     "w": 12,
     "x": 0,
     "y": 85
    },
    "deepnote_cell_type": "text-cell-h3",
    "formattedRanges": [],
    "is_collapsed": false,
    "tags": []
   },
   "source": [
    "### Exercise: Read the HELPfull.csv"
   ]
  },
  {
   "cell_type": "markdown",
   "metadata": {
    "cell_id": "35f075d6e881499a8cc7f8d019b9e115",
    "deepnote_app_coordinates": {
     "h": 5,
     "w": 12,
     "x": 0,
     "y": 91
    },
    "deepnote_cell_type": "markdown",
    "tags": []
   },
   "source": [
    "Now we learned how to read from and write tp a CSV file. Make a duplicate of the project, and play with the **'data/HELPful.csv'** file in this project. \n",
    "\n",
    "Tasks you can try:\n",
    "1.  Read the file in.\n",
    "2.  Print the first 5 rows.\n",
    "3.  Print the first 10 rows.\n",
    "4.  Print the information of the dataset.\n",
    "5.  Write the data to a file **'data/HELPful_new.csv'**"
   ]
  },
  {
   "cell_type": "markdown",
   "metadata": {
    "cell_id": "2bf5fa3bea6d48c38ffaca2bcc4d977d",
    "deepnote_app_coordinates": {
     "h": 5,
     "w": 12,
     "x": 0,
     "y": 97
    },
    "deepnote_cell_type": "text-cell-h2",
    "formattedRanges": [],
    "is_collapsed": false,
    "tags": []
   },
   "source": [
    "## Read Some Other Types of Files"
   ]
  },
  {
   "cell_type": "markdown",
   "metadata": {
    "cell_id": "4ae1c33e216148dd89265a6bc2db8bf2",
    "deepnote_app_coordinates": {
     "h": 2,
     "w": 8,
     "x": 0,
     "y": 103
    },
    "deepnote_cell_type": "text-cell-p",
    "formattedRanges": [
     {
      "fromCodePoint": 192,
      "ranges": [],
      "toCodePoint": 241,
      "type": "link",
      "url": "https://pandas.pydata.org/docs/user_guide/io.html"
     }
    ],
    "is_collapsed": false,
    "tags": []
   },
   "source": [
    "The pandas package can deal more than just CSV files. It provides functions to read many other common data types, such as JSON, MS Excel, HTML, LaTex, FWF, etc. You can check out details via: https://pandas.pydata.org/docs/user_guide/io.html"
   ]
  }
 ],
 "metadata": {
  "deepnote": {},
  "deepnote_app_layout": "article",
  "deepnote_execution_queue": [],
  "deepnote_notebook_id": "b163a17f55c94fcba6f2f74b66360689",
  "kernelspec": {
   "display_name": "Python 3 (ipykernel)",
   "language": "python",
   "name": "python3"
  },
  "language_info": {
   "codemirror_mode": {
    "name": "ipython",
    "version": 3
   },
   "file_extension": ".py",
   "mimetype": "text/x-python",
   "name": "python",
   "nbconvert_exporter": "python",
   "pygments_lexer": "ipython3",
   "version": "3.8.16"
  }
 },
 "nbformat": 4,
 "nbformat_minor": 4
}
