{
 "cells": [
  {
   "cell_type": "raw",
   "metadata": {},
   "source": [
    "---\n",
    "title: \"Data Integration\"\n",
    "format:\n",
    "    html:\n",
    "        code-fold: false\n",
    "execute:\n",
    "    output: true\n",
    "    warning: false\n",
    "toc: true\n",
    "jupyter: python3\n",
    "---"
   ]
  },
  {
   "cell_type": "markdown",
   "metadata": {
    "cell_id": "10d1dcf9c5774fd388c313a83045127f",
    "deepnote_app_coordinates": {
     "h": 5,
     "w": 12,
     "x": 0,
     "y": 106
    },
    "deepnote_cell_type": "text-cell-h1",
    "formattedRanges": [],
    "id": "N27N1TuTbJvZ",
    "is_collapsed": false,
    "tags": []
   },
   "source": [
    "# Collect Data From CSV Files"
   ]
  },
  {
   "cell_type": "markdown",
   "metadata": {
    "cell_id": "30610cf51468415eb8067d39ed65c7c1",
    "deepnote_app_coordinates": {
     "h": 2,
     "w": 8,
     "x": 0,
     "y": 112
    },
    "deepnote_cell_type": "text-cell-p",
    "formattedRanges": [],
    "id": "IUjPe0dYbJvb",
    "is_collapsed": false,
    "tags": []
   },
   "source": [
    "In this tutorial, we retrieve data from a .csv file."
   ]
  },
  {
   "cell_type": "markdown",
   "metadata": {
    "cell_id": "0bdcbf9d63b94ec1a0a1ce80b81cfd95",
    "deepnote_app_coordinates": {
     "h": 5,
     "w": 12,
     "x": 0,
     "y": 115
    },
    "deepnote_cell_type": "text-cell-h3",
    "formattedRanges": [],
    "id": "CW21b3EPbJvb",
    "is_collapsed": false,
    "tags": []
   },
   "source": [
    "### What is CSV?"
   ]
  },
  {
   "cell_type": "markdown",
   "metadata": {
    "cell_id": "da03415a5c8d4952b49457cc8309447f",
    "deepnote_app_coordinates": {
     "h": 5,
     "w": 12,
     "x": 0,
     "y": 121
    },
    "deepnote_cell_height": 119,
    "deepnote_cell_type": "markdown",
    "id": "wzKFWKd_bJvc",
    "tags": []
   },
   "source": [
    "* A CSV (comma-separated values) file is a text file in which information is separated by commas.\n",
    "* CSV files are widely used as spreadsheets and databases.\n",
    "* CSV files are convenient and can be read/output by many programs.\n",
    "\n"
   ]
  },
  {
   "cell_type": "markdown",
   "metadata": {
    "cell_id": "b7ca5a5a66e34d7db01de0f0b38502ba",
    "deepnote_app_coordinates": {
     "h": 2,
     "w": 8,
     "x": 0,
     "y": 127
    },
    "deepnote_cell_type": "text-cell-p",
    "formattedRanges": [
     {
      "fromCodePoint": 142,
      "marks": {
       "bold": true
      },
      "toCodePoint": 151,
      "type": "marks"
     },
     {
      "fromCodePoint": 353,
      "marks": {
       "bold": true
      },
      "toCodePoint": 356,
      "type": "marks"
     }
    ],
    "id": "Qa0EfQvTbJvc",
    "is_collapsed": false,
    "tags": []
   },
   "source": [
    "We use a Python package, pandas, to deal with CSV files (and many more other types of files). The pandas package has a data structure, called DataFrame, which reads in CSV files as tables with rows and columns. The first line in the CSV file is converted to names of columns, and other lines are converted to rows. In convention, we rename the pandas as pd to make it simple."
   ]
  },
  {
   "cell_type": "code",
   "execution_count": null,
   "metadata": {
    "cell_id": "df3e4627e41e46ee94fc7702270925fb",
    "deepnote_app_coordinates": {
     "h": 5,
     "w": 12,
     "x": 0,
     "y": 130
    },
    "deepnote_cell_type": "code",
    "deepnote_to_be_reexecuted": false,
    "execution_millis": 0,
    "execution_start": 1661570468791,
    "id": "ocd3ziSsbJvc",
    "source_hash": "9b82ee11",
    "tags": []
   },
   "outputs": [],
   "source": [
    "import pandas as pd"
   ]
  },
  {
   "cell_type": "markdown",
   "metadata": {
    "cell_id": "15123b08ce5344a387135dd06c04fa66",
    "deepnote_app_coordinates": {
     "h": 2,
     "w": 8,
     "x": 0,
     "y": 136
    },
    "deepnote_cell_type": "text-cell-p",
    "formattedRanges": [],
    "id": "KbbqcXDAbJvd",
    "is_collapsed": false,
    "tags": []
   },
   "source": [
    "Once the pandas package is imported, we can start to use the functions included in this package. "
   ]
  },
  {
   "cell_type": "markdown",
   "metadata": {
    "cell_id": "44c31aa56a88480983c46054115ecd9e",
    "deepnote_app_coordinates": {
     "h": 2,
     "w": 8,
     "x": 0,
     "y": 139
    },
    "deepnote_cell_type": "text-cell-p",
    "formattedRanges": [
     {
      "fromCodePoint": 36,
      "marks": {
       "code": true
      },
      "toCodePoint": 59,
      "type": "marks"
     },
     {
      "fromCodePoint": 100,
      "marks": {
       "bold": true
      },
      "toCodePoint": 109,
      "type": "marks"
     },
     {
      "fromCodePoint": 141,
      "marks": {
       "bold": true
      },
      "toCodePoint": 143,
      "type": "marks"
     },
     {
      "fromCodePoint": 238,
      "marks": {
       "code": true
      },
      "toCodePoint": 245,
      "type": "marks"
     }
    ],
    "id": "cNx1-AILbJvd",
    "is_collapsed": false,
    "tags": []
   },
   "source": [
    "The function to read a CSV file, is .read_CSV(path_to_file). The return value of this function is a DataFrame, and in convention, we name it df. To make sure the data is read in successfully, we normally print the first 5 rows out, using .head()."
   ]
  },
  {
   "cell_type": "markdown",
   "metadata": {
    "cell_id": "30a3d8b37a6a4b54a28c898077ba752b",
    "deepnote_app_coordinates": {
     "h": 2,
     "w": 8,
     "x": 0,
     "y": 142
    },
    "deepnote_cell_type": "text-cell-p",
    "formattedRanges": [
     {
      "fromCodePoint": 47,
      "marks": {
       "bold": true
      },
      "toCodePoint": 73,
      "type": "marks"
     },
     {
      "fromCodePoint": 78,
      "marks": {
       "bold": true
      },
      "toCodePoint": 90,
      "type": "marks"
     },
     {
      "fromCodePoint": 107,
      "marks": {
       "bold": true
      },
      "toCodePoint": 134,
      "type": "marks"
     }
    ],
    "id": "6v9zmhfKbJvd",
    "is_collapsed": false,
    "tags": []
   },
   "source": [
    "We have two CSV files in the project, they are simpsons_paradox_covid.csv and HELPfull.csv. Let's play with simpsons_paradox_covid.csv at this time. "
   ]
  },
  {
   "cell_type": "code",
   "execution_count": null,
   "metadata": {
    "cell_id": "5a1827f21c0b48a3a6bebf62032e3c0f",
    "deepnote_app_coordinates": {
     "h": 5,
     "w": 12,
     "x": 0,
     "y": 145
    },
    "deepnote_cell_type": "code",
    "deepnote_to_be_reexecuted": false,
    "execution_millis": 112,
    "execution_start": 1661570468792,
    "id": "iCJxhTsobJvd",
    "outputId": "3535fc82-b6b5-4146-af04-96056c575232",
    "source_hash": "20e45085",
    "tags": []
   },
   "outputs": [
    {
     "data": {
      "application/vnd.deepnote.dataframe.v3+json": {
       "column_count": 4,
       "columns": [
        {
         "dtype": "int64",
         "name": "Unnamed: 0",
         "stats": {
          "histogram": [
           {
            "bin_end": 1.4,
            "bin_start": 1,
            "count": 1
           },
           {
            "bin_end": 1.8,
            "bin_start": 1.4,
            "count": 0
           },
           {
            "bin_end": 2.2,
            "bin_start": 1.8,
            "count": 1
           },
           {
            "bin_end": 2.6,
            "bin_start": 2.2,
            "count": 0
           },
           {
            "bin_end": 3,
            "bin_start": 2.6,
            "count": 0
           },
           {
            "bin_end": 3.4000000000000004,
            "bin_start": 3,
            "count": 1
           },
           {
            "bin_end": 3.8000000000000003,
            "bin_start": 3.4000000000000004,
            "count": 0
           },
           {
            "bin_end": 4.2,
            "bin_start": 3.8000000000000003,
            "count": 1
           },
           {
            "bin_end": 4.6,
            "bin_start": 4.2,
            "count": 0
           },
           {
            "bin_end": 5,
            "bin_start": 4.6,
            "count": 1
           }
          ],
          "max": "5",
          "min": "1",
          "nan_count": 0,
          "unique_count": 5
         }
        },
        {
         "dtype": "object",
         "name": "age_group",
         "stats": {
          "categories": [
           {
            "count": 5,
            "name": "under 50"
           }
          ],
          "nan_count": 0,
          "unique_count": 1
         }
        },
        {
         "dtype": "object",
         "name": "vaccine_status",
         "stats": {
          "categories": [
           {
            "count": 5,
            "name": "vaccinated"
           }
          ],
          "nan_count": 0,
          "unique_count": 1
         }
        },
        {
         "dtype": "object",
         "name": "outcome",
         "stats": {
          "categories": [
           {
            "count": 5,
            "name": "death"
           }
          ],
          "nan_count": 0,
          "unique_count": 1
         }
        },
        {
         "dtype": "int64",
         "name": "_deepnote_index_column"
        }
       ],
       "row_count": 5,
       "rows": [
        {
         "Unnamed: 0": 1,
         "_deepnote_index_column": 0,
         "age_group": "under 50",
         "outcome": "death",
         "vaccine_status": "vaccinated"
        },
        {
         "Unnamed: 0": 2,
         "_deepnote_index_column": 1,
         "age_group": "under 50",
         "outcome": "death",
         "vaccine_status": "vaccinated"
        },
        {
         "Unnamed: 0": 3,
         "_deepnote_index_column": 2,
         "age_group": "under 50",
         "outcome": "death",
         "vaccine_status": "vaccinated"
        },
        {
         "Unnamed: 0": 4,
         "_deepnote_index_column": 3,
         "age_group": "under 50",
         "outcome": "death",
         "vaccine_status": "vaccinated"
        },
        {
         "Unnamed: 0": 5,
         "_deepnote_index_column": 4,
         "age_group": "under 50",
         "outcome": "death",
         "vaccine_status": "vaccinated"
        }
       ]
      },
      "text/html": [
       "<div>\n",
       "<style scoped>\n",
       "    .dataframe tbody tr th:only-of-type {\n",
       "        vertical-align: middle;\n",
       "    }\n",
       "\n",
       "    .dataframe tbody tr th {\n",
       "        vertical-align: top;\n",
       "    }\n",
       "\n",
       "    .dataframe thead th {\n",
       "        text-align: right;\n",
       "    }\n",
       "</style>\n",
       "<table border=\"1\" class=\"dataframe\">\n",
       "  <thead>\n",
       "    <tr style=\"text-align: right;\">\n",
       "      <th></th>\n",
       "      <th>Unnamed: 0</th>\n",
       "      <th>age_group</th>\n",
       "      <th>vaccine_status</th>\n",
       "      <th>outcome</th>\n",
       "    </tr>\n",
       "  </thead>\n",
       "  <tbody>\n",
       "    <tr>\n",
       "      <th>0</th>\n",
       "      <td>1</td>\n",
       "      <td>under 50</td>\n",
       "      <td>vaccinated</td>\n",
       "      <td>death</td>\n",
       "    </tr>\n",
       "    <tr>\n",
       "      <th>1</th>\n",
       "      <td>2</td>\n",
       "      <td>under 50</td>\n",
       "      <td>vaccinated</td>\n",
       "      <td>death</td>\n",
       "    </tr>\n",
       "    <tr>\n",
       "      <th>2</th>\n",
       "      <td>3</td>\n",
       "      <td>under 50</td>\n",
       "      <td>vaccinated</td>\n",
       "      <td>death</td>\n",
       "    </tr>\n",
       "    <tr>\n",
       "      <th>3</th>\n",
       "      <td>4</td>\n",
       "      <td>under 50</td>\n",
       "      <td>vaccinated</td>\n",
       "      <td>death</td>\n",
       "    </tr>\n",
       "    <tr>\n",
       "      <th>4</th>\n",
       "      <td>5</td>\n",
       "      <td>under 50</td>\n",
       "      <td>vaccinated</td>\n",
       "      <td>death</td>\n",
       "    </tr>\n",
       "  </tbody>\n",
       "</table>\n",
       "</div>"
      ],
      "text/plain": [
       "   Unnamed: 0 age_group vaccine_status outcome\n",
       "0           1  under 50     vaccinated   death\n",
       "1           2  under 50     vaccinated   death\n",
       "2           3  under 50     vaccinated   death\n",
       "3           4  under 50     vaccinated   death\n",
       "4           5  under 50     vaccinated   death"
      ]
     },
     "execution_count": 2,
     "metadata": {},
     "output_type": "execute_result"
    }
   ],
   "source": [
    "df = pd.read_csv('data/simpsons_paradox_covid.csv')\n",
    "df.head()"
   ]
  },
  {
   "cell_type": "markdown",
   "metadata": {
    "cell_id": "21a9553359ae487884a74fc89b9ea595",
    "deepnote_app_coordinates": {
     "h": 2,
     "w": 8,
     "x": 0,
     "y": 151
    },
    "deepnote_cell_type": "text-cell-p",
    "formattedRanges": [
     {
      "fromCodePoint": 52,
      "marks": {
       "code": true
      },
      "toCodePoint": 108,
      "type": "marks"
     },
     {
      "fromCodePoint": 114,
      "marks": {
       "code": true
      },
      "toCodePoint": 121,
      "type": "marks"
     },
     {
      "fromCodePoint": 254,
      "marks": {
       "code": true
      },
      "toCodePoint": 263,
      "type": "marks"
     }
    ],
    "id": "9k2VqjCtbJve",
    "is_collapsed": false,
    "tags": []
   },
   "source": [
    "We can find the database read in, with four columns ['Unnamed: 0', 'age_group', 'vaccine_status', 'outcome']. The .head() function by default will print the first 5 rows (including the column head). If you want to print more rows out, you can specify as .head(10) to print first 10 rows out."
   ]
  },
  {
   "cell_type": "code",
   "execution_count": null,
   "metadata": {
    "cell_id": "2934efdbfdd94724a61f407589fa2d50",
    "deepnote_app_coordinates": {
     "h": 5,
     "w": 12,
     "x": 0,
     "y": 154
    },
    "deepnote_cell_type": "code",
    "deepnote_to_be_reexecuted": false,
    "execution_millis": 4,
    "execution_start": 1661570468948,
    "id": "Gd4lROGnbJve",
    "outputId": "7b46ba3a-825a-43ec-f413-e513427a756a",
    "source_hash": "f30f989a",
    "tags": []
   },
   "outputs": [
    {
     "data": {
      "application/vnd.deepnote.dataframe.v3+json": {
       "column_count": 4,
       "columns": [
        {
         "dtype": "int64",
         "name": "Unnamed: 0",
         "stats": {
          "histogram": [
           {
            "bin_end": 1.9,
            "bin_start": 1,
            "count": 1
           },
           {
            "bin_end": 2.8,
            "bin_start": 1.9,
            "count": 1
           },
           {
            "bin_end": 3.7,
            "bin_start": 2.8,
            "count": 1
           },
           {
            "bin_end": 4.6,
            "bin_start": 3.7,
            "count": 1
           },
           {
            "bin_end": 5.5,
            "bin_start": 4.6,
            "count": 1
           },
           {
            "bin_end": 6.4,
            "bin_start": 5.5,
            "count": 1
           },
           {
            "bin_end": 7.3,
            "bin_start": 6.4,
            "count": 1
           },
           {
            "bin_end": 8.2,
            "bin_start": 7.3,
            "count": 1
           },
           {
            "bin_end": 9.1,
            "bin_start": 8.2,
            "count": 1
           },
           {
            "bin_end": 10,
            "bin_start": 9.1,
            "count": 1
           }
          ],
          "max": "10",
          "min": "1",
          "nan_count": 0,
          "unique_count": 10
         }
        },
        {
         "dtype": "object",
         "name": "age_group",
         "stats": {
          "categories": [
           {
            "count": 10,
            "name": "under 50"
           }
          ],
          "nan_count": 0,
          "unique_count": 1
         }
        },
        {
         "dtype": "object",
         "name": "vaccine_status",
         "stats": {
          "categories": [
           {
            "count": 10,
            "name": "vaccinated"
           }
          ],
          "nan_count": 0,
          "unique_count": 1
         }
        },
        {
         "dtype": "object",
         "name": "outcome",
         "stats": {
          "categories": [
           {
            "count": 10,
            "name": "death"
           }
          ],
          "nan_count": 0,
          "unique_count": 1
         }
        },
        {
         "dtype": "int64",
         "name": "_deepnote_index_column"
        }
       ],
       "row_count": 10,
       "rows": [
        {
         "Unnamed: 0": 1,
         "_deepnote_index_column": 0,
         "age_group": "under 50",
         "outcome": "death",
         "vaccine_status": "vaccinated"
        },
        {
         "Unnamed: 0": 2,
         "_deepnote_index_column": 1,
         "age_group": "under 50",
         "outcome": "death",
         "vaccine_status": "vaccinated"
        },
        {
         "Unnamed: 0": 3,
         "_deepnote_index_column": 2,
         "age_group": "under 50",
         "outcome": "death",
         "vaccine_status": "vaccinated"
        },
        {
         "Unnamed: 0": 4,
         "_deepnote_index_column": 3,
         "age_group": "under 50",
         "outcome": "death",
         "vaccine_status": "vaccinated"
        },
        {
         "Unnamed: 0": 5,
         "_deepnote_index_column": 4,
         "age_group": "under 50",
         "outcome": "death",
         "vaccine_status": "vaccinated"
        },
        {
         "Unnamed: 0": 6,
         "_deepnote_index_column": 5,
         "age_group": "under 50",
         "outcome": "death",
         "vaccine_status": "vaccinated"
        },
        {
         "Unnamed: 0": 7,
         "_deepnote_index_column": 6,
         "age_group": "under 50",
         "outcome": "death",
         "vaccine_status": "vaccinated"
        },
        {
         "Unnamed: 0": 8,
         "_deepnote_index_column": 7,
         "age_group": "under 50",
         "outcome": "death",
         "vaccine_status": "vaccinated"
        },
        {
         "Unnamed: 0": 9,
         "_deepnote_index_column": 8,
         "age_group": "under 50",
         "outcome": "death",
         "vaccine_status": "vaccinated"
        },
        {
         "Unnamed: 0": 10,
         "_deepnote_index_column": 9,
         "age_group": "under 50",
         "outcome": "death",
         "vaccine_status": "vaccinated"
        }
       ]
      },
      "text/html": [
       "<div>\n",
       "<style scoped>\n",
       "    .dataframe tbody tr th:only-of-type {\n",
       "        vertical-align: middle;\n",
       "    }\n",
       "\n",
       "    .dataframe tbody tr th {\n",
       "        vertical-align: top;\n",
       "    }\n",
       "\n",
       "    .dataframe thead th {\n",
       "        text-align: right;\n",
       "    }\n",
       "</style>\n",
       "<table border=\"1\" class=\"dataframe\">\n",
       "  <thead>\n",
       "    <tr style=\"text-align: right;\">\n",
       "      <th></th>\n",
       "      <th>Unnamed: 0</th>\n",
       "      <th>age_group</th>\n",
       "      <th>vaccine_status</th>\n",
       "      <th>outcome</th>\n",
       "    </tr>\n",
       "  </thead>\n",
       "  <tbody>\n",
       "    <tr>\n",
       "      <th>0</th>\n",
       "      <td>1</td>\n",
       "      <td>under 50</td>\n",
       "      <td>vaccinated</td>\n",
       "      <td>death</td>\n",
       "    </tr>\n",
       "    <tr>\n",
       "      <th>1</th>\n",
       "      <td>2</td>\n",
       "      <td>under 50</td>\n",
       "      <td>vaccinated</td>\n",
       "      <td>death</td>\n",
       "    </tr>\n",
       "    <tr>\n",
       "      <th>2</th>\n",
       "      <td>3</td>\n",
       "      <td>under 50</td>\n",
       "      <td>vaccinated</td>\n",
       "      <td>death</td>\n",
       "    </tr>\n",
       "    <tr>\n",
       "      <th>3</th>\n",
       "      <td>4</td>\n",
       "      <td>under 50</td>\n",
       "      <td>vaccinated</td>\n",
       "      <td>death</td>\n",
       "    </tr>\n",
       "    <tr>\n",
       "      <th>4</th>\n",
       "      <td>5</td>\n",
       "      <td>under 50</td>\n",
       "      <td>vaccinated</td>\n",
       "      <td>death</td>\n",
       "    </tr>\n",
       "    <tr>\n",
       "      <th>5</th>\n",
       "      <td>6</td>\n",
       "      <td>under 50</td>\n",
       "      <td>vaccinated</td>\n",
       "      <td>death</td>\n",
       "    </tr>\n",
       "    <tr>\n",
       "      <th>6</th>\n",
       "      <td>7</td>\n",
       "      <td>under 50</td>\n",
       "      <td>vaccinated</td>\n",
       "      <td>death</td>\n",
       "    </tr>\n",
       "    <tr>\n",
       "      <th>7</th>\n",
       "      <td>8</td>\n",
       "      <td>under 50</td>\n",
       "      <td>vaccinated</td>\n",
       "      <td>death</td>\n",
       "    </tr>\n",
       "    <tr>\n",
       "      <th>8</th>\n",
       "      <td>9</td>\n",
       "      <td>under 50</td>\n",
       "      <td>vaccinated</td>\n",
       "      <td>death</td>\n",
       "    </tr>\n",
       "    <tr>\n",
       "      <th>9</th>\n",
       "      <td>10</td>\n",
       "      <td>under 50</td>\n",
       "      <td>vaccinated</td>\n",
       "      <td>death</td>\n",
       "    </tr>\n",
       "  </tbody>\n",
       "</table>\n",
       "</div>"
      ],
      "text/plain": [
       "   Unnamed: 0 age_group vaccine_status outcome\n",
       "0           1  under 50     vaccinated   death\n",
       "1           2  under 50     vaccinated   death\n",
       "2           3  under 50     vaccinated   death\n",
       "3           4  under 50     vaccinated   death\n",
       "4           5  under 50     vaccinated   death\n",
       "5           6  under 50     vaccinated   death\n",
       "6           7  under 50     vaccinated   death\n",
       "7           8  under 50     vaccinated   death\n",
       "8           9  under 50     vaccinated   death\n",
       "9          10  under 50     vaccinated   death"
      ]
     },
     "execution_count": 3,
     "metadata": {},
     "output_type": "execute_result"
    }
   ],
   "source": [
    "df.head(10)"
   ]
  },
  {
   "cell_type": "markdown",
   "metadata": {
    "cell_id": "e867bcfb95c54b8f9a358fd73087c80f",
    "deepnote_app_coordinates": {
     "h": 2,
     "w": 8,
     "x": 0,
     "y": 160
    },
    "deepnote_cell_type": "text-cell-p",
    "formattedRanges": [
     {
      "fromCodePoint": 11,
      "marks": {
       "code": true
      },
      "toCodePoint": 18,
      "type": "marks"
     }
    ],
    "id": "0CET44tTbJve",
    "is_collapsed": false,
    "tags": []
   },
   "source": [
    "We can use .info() to get a big picture of the data we read in."
   ]
  },
  {
   "cell_type": "code",
   "execution_count": null,
   "metadata": {
    "cell_id": "4f1db29e8a0b435b8f5bc5c5ba707eb3",
    "deepnote_app_coordinates": {
     "h": 5,
     "w": 12,
     "x": 0,
     "y": 163
    },
    "deepnote_cell_type": "code",
    "deepnote_to_be_reexecuted": false,
    "execution_millis": 2,
    "execution_start": 1661570468994,
    "id": "_gsk_ZJlbJve",
    "outputId": "e752b813-d421-4d81-ffe4-fa0ffe0f37b3",
    "source_hash": "de1e323c",
    "tags": []
   },
   "outputs": [
    {
     "name": "stdout",
     "output_type": "stream",
     "text": [
      "<class 'pandas.core.frame.DataFrame'>\n",
      "RangeIndex: 268166 entries, 0 to 268165\n",
      "Data columns (total 4 columns):\n",
      " #   Column          Non-Null Count   Dtype \n",
      "---  ------          --------------   ----- \n",
      " 0   Unnamed: 0      268166 non-null  int64 \n",
      " 1   age_group       268166 non-null  object\n",
      " 2   vaccine_status  268166 non-null  object\n",
      " 3   outcome         268166 non-null  object\n",
      "dtypes: int64(1), object(3)\n",
      "memory usage: 8.2+ MB\n"
     ]
    }
   ],
   "source": [
    "df.info()"
   ]
  },
  {
   "cell_type": "markdown",
   "metadata": {
    "cell_id": "947a576529c44621a00bd46c34b4ef05",
    "deepnote_app_coordinates": {
     "h": 2,
     "w": 8,
     "x": 0,
     "y": 169
    },
    "deepnote_cell_type": "text-cell-p",
    "formattedRanges": [],
    "id": "zClHTofubJvf",
    "is_collapsed": false,
    "tags": []
   },
   "source": [
    "Now we can find out this tabular data has 4 columns, and 268166 rows. "
   ]
  },
  {
   "cell_type": "markdown",
   "metadata": {
    "cell_id": "065647c64e904cbdaeed74186f8978fb",
    "deepnote_app_coordinates": {
     "h": 2,
     "w": 8,
     "x": 0,
     "y": 172
    },
    "deepnote_cell_type": "text-cell-p",
    "formattedRanges": [
     {
      "fromCodePoint": 44,
      "marks": {
       "code": true
      },
      "toCodePoint": 65,
      "type": "marks"
     }
    ],
    "id": "m8m4MrJMbJvf",
    "is_collapsed": false,
    "tags": []
   },
   "source": [
    "To output a DataFrame to a CSV file, we use .to_CSV(path_to_file) accordingly. Caution: If there is no such file, a new file will be created; if there is a file already, it will be replaced!"
   ]
  },
  {
   "cell_type": "code",
   "execution_count": null,
   "metadata": {
    "cell_id": "77c39eff7212411593f26eb958b60d78",
    "deepnote_app_coordinates": {
     "h": 5,
     "w": 12,
     "x": 0,
     "y": 175
    },
    "deepnote_cell_type": "code",
    "deepnote_to_be_reexecuted": false,
    "execution_millis": 624,
    "execution_start": 1661570468995,
    "id": "TVjBhLC2bJvf",
    "source_hash": "c8e8a229",
    "tags": []
   },
   "outputs": [],
   "source": [
    "df.to_csv('data/simpsons_paradox_covid_new.csv')"
   ]
  },
  {
   "cell_type": "markdown",
   "metadata": {
    "cell_id": "936e320c6c5e4c0998843b7e5115ac26",
    "deepnote_app_coordinates": {
     "h": 2,
     "w": 8,
     "x": 0,
     "y": 181
    },
    "deepnote_cell_type": "text-cell-p",
    "formattedRanges": [],
    "id": "xaF8CqSPbJvf",
    "is_collapsed": false,
    "tags": []
   },
   "source": [
    "Now we finished the I/O of CSV files using pandas. We will cover more details in Data Understanding step."
   ]
  },
  {
   "cell_type": "markdown",
   "metadata": {
    "cell_id": "24526c3d42964942a032cffa962e98ed",
    "deepnote_app_coordinates": {
     "h": 5,
     "w": 12,
     "x": 0,
     "y": 184
    },
    "deepnote_cell_type": "text-cell-h3",
    "formattedRanges": [],
    "id": "zr8fsD8jbJvf",
    "is_collapsed": false,
    "tags": []
   },
   "source": [
    "### Exercise: Read the HELPfull.csv"
   ]
  },
  {
   "cell_type": "markdown",
   "metadata": {
    "cell_id": "c598b87bdaa541c296816223f30042f2",
    "deepnote_app_coordinates": {
     "h": 5,
     "w": 12,
     "x": 0,
     "y": 190
    },
    "deepnote_cell_height": 260,
    "deepnote_cell_type": "markdown",
    "id": "SOoXKaG0bJvg",
    "tags": []
   },
   "source": [
    "Now we learned how to read from and write tp a CSV file. Make a duplicate of the project, and play with the **'data/HELPful.csv'** file in this project. \n",
    "\n",
    "Tasks you can try:\n",
    "1.  Read the file in.\n",
    "2.  Print the first 5 rows.\n",
    "3.  Print the first 10 rows.\n",
    "4.  Print the information of the dataset.\n",
    "5.  Write the data to a file **'data/HELPful_new.csv'**"
   ]
  },
  {
   "cell_type": "markdown",
   "metadata": {
    "cell_id": "975d79d0e42e499683c9d7b2a32a47f6",
    "deepnote_app_coordinates": {
     "h": 5,
     "w": 12,
     "x": 0,
     "y": 196
    },
    "deepnote_cell_type": "text-cell-h2",
    "formattedRanges": [],
    "id": "xNO0pr8lbJvg",
    "is_collapsed": false,
    "tags": []
   },
   "source": [
    "## Read Some Other Types of Files"
   ]
  },
  {
   "cell_type": "markdown",
   "metadata": {
    "cell_id": "0d6c555c68814e3e835c652a85d0df62",
    "deepnote_app_coordinates": {
     "h": 2,
     "w": 8,
     "x": 0,
     "y": 202
    },
    "deepnote_cell_type": "text-cell-p",
    "formattedRanges": [
     {
      "fromCodePoint": 192,
      "ranges": [],
      "toCodePoint": 241,
      "type": "link",
      "url": "https://pandas.pydata.org/docs/user_guide/io.html"
     }
    ],
    "id": "7MzwsZY2bJvg",
    "is_collapsed": false,
    "tags": []
   },
   "source": [
    "The pandas package can deal more than just CSV files. It provides functions to read many other common data types, such as JSON, MS Excel, HTML, LaTex, FWF, etc. You can check out details via: https://pandas.pydata.org/docs/user_guide/io.html"
   ]
  },
  {
   "cell_type": "markdown",
   "metadata": {
    "cell_id": "fd763019017c4b458ca6796408a840f3",
    "deepnote_app_coordinates": {
     "h": 5,
     "w": 12,
     "x": 0,
     "y": 205
    },
    "deepnote_cell_type": "text-cell-h1",
    "formattedRanges": [],
    "id": "zTPZvflPbiF1",
    "is_collapsed": false,
    "tags": []
   },
   "source": [
    "# Collect Data From SQLite Databases"
   ]
  },
  {
   "cell_type": "markdown",
   "metadata": {
    "cell_id": "5a7ae92a08324d599eb86ef8f34b8e3a",
    "deepnote_app_coordinates": {
     "h": 5,
     "w": 12,
     "x": 0,
     "y": 211
    },
    "deepnote_cell_type": "text-cell-h2",
    "formattedRanges": [],
    "id": "hB0sD_NCbiF4",
    "is_collapsed": false,
    "tags": []
   },
   "source": [
    "## What is SQLite"
   ]
  },
  {
   "cell_type": "markdown",
   "metadata": {
    "cell_id": "a200ed885e6c4714aa0733ceb6167d88",
    "deepnote_app_coordinates": {
     "h": 2,
     "w": 8,
     "x": 0,
     "y": 217
    },
    "deepnote_cell_type": "text-cell-p",
    "formattedRanges": [
     {
      "fromCodePoint": 16,
      "marks": {
       "bold": true
      },
      "toCodePoint": 23,
      "type": "marks"
     }
    ],
    "id": "JnSpTf2fbiF4",
    "is_collapsed": false,
    "tags": []
   },
   "source": [
    "A file with the .sqlite extension is a lightweight SQL database file created with the SQLite software. It is a database in a file itself and implements a self-contained, full-featured, highly-reliable SQL database engine. "
   ]
  },
  {
   "cell_type": "markdown",
   "metadata": {
    "cell_id": "f7de075f57234aecab8682ba1a041685",
    "deepnote_app_coordinates": {
     "h": 5,
     "w": 12,
     "x": 0,
     "y": 220
    },
    "deepnote_cell_type": "text-cell-h2",
    "formattedRanges": [],
    "id": "Lg8UYk4ebiF5",
    "is_collapsed": false,
    "tags": []
   },
   "source": [
    "## Read an SQLite Database in Python"
   ]
  },
  {
   "cell_type": "markdown",
   "metadata": {
    "cell_id": "c2467d848af441928f89b33be4c68baa",
    "deepnote_app_coordinates": {
     "h": 5,
     "w": 12,
     "x": 0,
     "y": 226
    },
    "deepnote_cell_height": 242,
    "deepnote_cell_type": "markdown",
    "id": "-Hf4LJFNbiF5",
    "tags": []
   },
   "source": [
    "We use a Python package, sqlite3, to deal with SQLite databases. Once the sqlite3 package is imported, the general steps are:\n",
    "1.Create a connection object that connects the SQLite database.\n",
    "2.Create a cursor object\n",
    "3.Create a query statement\n",
    "4.execute the query statement\n",
    "5.fetch the query result to result\n",
    "6.If all work is done, close the connection.\n",
    "\n",
    "We use the built-in SQLite database Chinook as the example here. We connect with the database, and show all the tables it contains."
   ]
  },
  {
   "cell_type": "code",
   "execution_count": null,
   "metadata": {
    "cell_id": "d2842eb66a5a40a09185e8fa4e389424",
    "deepnote_app_coordinates": {
     "h": 5,
     "w": 12,
     "x": 0,
     "y": 232
    },
    "deepnote_cell_type": "code",
    "deepnote_to_be_reexecuted": false,
    "execution_millis": 414,
    "execution_start": 1661570500554,
    "id": "HXMAQZ3LbiF6",
    "outputId": "e2a2ed34-2c28-4fe5-8772-0a052ce05772",
    "source_hash": "10331769",
    "tags": []
   },
   "outputs": [
    {
     "data": {
      "text/plain": [
       "[('Album',),\n",
       " ('Artist',),\n",
       " ('Customer',),\n",
       " ('Employee',),\n",
       " ('Genre',),\n",
       " ('Invoice',),\n",
       " ('InvoiceLine',),\n",
       " ('MediaType',),\n",
       " ('Playlist',),\n",
       " ('PlaylistTrack',),\n",
       " ('Track',)]"
      ]
     },
     "execution_count": 1,
     "metadata": {},
     "output_type": "execute_result"
    }
   ],
   "source": [
    "import sqlite3\n",
    "\n",
    "connection = sqlite3.connect('data/Chinook.sqlite')\n",
    "cursor = connection.cursor()\n",
    "\n",
    "query = '''SELECT name FROM sqlite_master  \n",
    "WHERE type='table';'''\n",
    "\n",
    "cursor.execute(query)\n",
    "results = cursor.fetchall()\n",
    "results"
   ]
  },
  {
   "cell_type": "markdown",
   "metadata": {
    "cell_id": "53a5335c2e5442feb1201a04cda9de90",
    "deepnote_app_coordinates": {
     "h": 5,
     "w": 12,
     "x": 0,
     "y": 238
    },
    "deepnote_cell_type": "text-cell-h2",
    "formattedRanges": [],
    "id": "aAZAxHnsbiF7",
    "is_collapsed": false,
    "tags": []
   },
   "source": [
    "## Play with the SQLite Databases"
   ]
  },
  {
   "cell_type": "markdown",
   "metadata": {
    "cell_id": "e2a7ea4625cc4a39ae29c39c8d87902a",
    "deepnote_app_coordinates": {
     "h": 2,
     "w": 8,
     "x": 0,
     "y": 244
    },
    "deepnote_cell_type": "text-cell-p",
    "formattedRanges": [],
    "id": "ro3s2_vobiF8",
    "is_collapsed": false,
    "tags": []
   },
   "source": [
    "Using SQL statements, you can play with the SQLite Databases and get the data you need."
   ]
  },
  {
   "cell_type": "code",
   "execution_count": null,
   "metadata": {
    "cell_id": "8f6aff8001804ac99cf707769c4118a0",
    "deepnote_app_coordinates": {
     "h": 5,
     "w": 12,
     "x": 0,
     "y": 247
    },
    "deepnote_cell_type": "code",
    "deepnote_to_be_reexecuted": false,
    "execution_millis": 642,
    "execution_start": 1661570500555,
    "id": "Lsvmq1R1biF8",
    "outputId": "2dfa41d7-c5d6-4c7e-98a3-11ae119808d9",
    "source_hash": "cebc882b",
    "tags": []
   },
   "outputs": [
    {
     "data": {
      "text/plain": [
       "[(1, 'AC/DC'),\n",
       " (2, 'Accept'),\n",
       " (3, 'Aerosmith'),\n",
       " (4, 'Alanis Morissette'),\n",
       " (5, 'Alice In Chains'),\n",
       " (6, 'Antônio Carlos Jobim'),\n",
       " (7, 'Apocalyptica'),\n",
       " (8, 'Audioslave'),\n",
       " (9, 'BackBeat'),\n",
       " (10, 'Billy Cobham'),\n",
       " (11, 'Black Label Society'),\n",
       " (12, 'Black Sabbath'),\n",
       " (13, 'Body Count'),\n",
       " (14, 'Bruce Dickinson'),\n",
       " (15, 'Buddy Guy'),\n",
       " (16, 'Caetano Veloso'),\n",
       " (17, 'Chico Buarque'),\n",
       " (18, 'Chico Science & Nação Zumbi'),\n",
       " (19, 'Cidade Negra'),\n",
       " (20, 'Cláudio Zoli'),\n",
       " (21, 'Various Artists'),\n",
       " (22, 'Led Zeppelin'),\n",
       " (23, 'Frank Zappa & Captain Beefheart'),\n",
       " (24, 'Marcos Valle'),\n",
       " (25, 'Milton Nascimento & Bebeto'),\n",
       " (26, 'Azymuth'),\n",
       " (27, 'Gilberto Gil'),\n",
       " (28, 'João Gilberto'),\n",
       " (29, 'Bebel Gilberto'),\n",
       " (30, 'Jorge Vercilo'),\n",
       " (31, 'Baby Consuelo'),\n",
       " (32, 'Ney Matogrosso'),\n",
       " (33, 'Luiz Melodia'),\n",
       " (34, 'Nando Reis'),\n",
       " (35, 'Pedro Luís & A Parede'),\n",
       " (36, 'O Rappa'),\n",
       " (37, 'Ed Motta'),\n",
       " (38, 'Banda Black Rio'),\n",
       " (39, 'Fernanda Porto'),\n",
       " (40, 'Os Cariocas'),\n",
       " (41, 'Elis Regina'),\n",
       " (42, 'Milton Nascimento'),\n",
       " (43, 'A Cor Do Som'),\n",
       " (44, 'Kid Abelha'),\n",
       " (45, 'Sandra De Sá'),\n",
       " (46, 'Jorge Ben'),\n",
       " (47, 'Hermeto Pascoal'),\n",
       " (48, 'Barão Vermelho'),\n",
       " (49, 'Edson, DJ Marky & DJ Patife Featuring Fernanda Porto'),\n",
       " (50, 'Metallica'),\n",
       " (51, 'Queen'),\n",
       " (52, 'Kiss'),\n",
       " (53, 'Spyro Gyra'),\n",
       " (54, 'Green Day'),\n",
       " (55, 'David Coverdale'),\n",
       " (56, 'Gonzaguinha'),\n",
       " (57, 'Os Mutantes'),\n",
       " (58, 'Deep Purple'),\n",
       " (59, 'Santana'),\n",
       " (60, 'Santana Feat. Dave Matthews'),\n",
       " (61, 'Santana Feat. Everlast'),\n",
       " (62, 'Santana Feat. Rob Thomas'),\n",
       " (63, 'Santana Feat. Lauryn Hill & Cee-Lo'),\n",
       " (64, 'Santana Feat. The Project G&B'),\n",
       " (65, 'Santana Feat. Maná'),\n",
       " (66, 'Santana Feat. Eagle-Eye Cherry'),\n",
       " (67, 'Santana Feat. Eric Clapton'),\n",
       " (68, 'Miles Davis'),\n",
       " (69, 'Gene Krupa'),\n",
       " (70, 'Toquinho & Vinícius'),\n",
       " (71, 'Vinícius De Moraes & Baden Powell'),\n",
       " (72, 'Vinícius De Moraes'),\n",
       " (73, 'Vinícius E Qurteto Em Cy'),\n",
       " (74, 'Vinícius E Odette Lara'),\n",
       " (75, 'Vinicius, Toquinho & Quarteto Em Cy'),\n",
       " (76, 'Creedence Clearwater Revival'),\n",
       " (77, 'Cássia Eller'),\n",
       " (78, 'Def Leppard'),\n",
       " (79, 'Dennis Chambers'),\n",
       " (80, 'Djavan'),\n",
       " (81, 'Eric Clapton'),\n",
       " (82, 'Faith No More'),\n",
       " (83, 'Falamansa'),\n",
       " (84, 'Foo Fighters'),\n",
       " (85, 'Frank Sinatra'),\n",
       " (86, 'Funk Como Le Gusta'),\n",
       " (87, 'Godsmack'),\n",
       " (88, \"Guns N' Roses\"),\n",
       " (89, 'Incognito'),\n",
       " (90, 'Iron Maiden'),\n",
       " (91, 'James Brown'),\n",
       " (92, 'Jamiroquai'),\n",
       " (93, 'JET'),\n",
       " (94, 'Jimi Hendrix'),\n",
       " (95, 'Joe Satriani'),\n",
       " (96, 'Jota Quest'),\n",
       " (97, 'João Suplicy'),\n",
       " (98, 'Judas Priest'),\n",
       " (99, 'Legião Urbana'),\n",
       " (100, 'Lenny Kravitz'),\n",
       " (101, 'Lulu Santos'),\n",
       " (102, 'Marillion'),\n",
       " (103, 'Marisa Monte'),\n",
       " (104, 'Marvin Gaye'),\n",
       " (105, 'Men At Work'),\n",
       " (106, 'Motörhead'),\n",
       " (107, 'Motörhead & Girlschool'),\n",
       " (108, 'Mônica Marianno'),\n",
       " (109, 'Mötley Crüe'),\n",
       " (110, 'Nirvana'),\n",
       " (111, 'O Terço'),\n",
       " (112, 'Olodum'),\n",
       " (113, 'Os Paralamas Do Sucesso'),\n",
       " (114, 'Ozzy Osbourne'),\n",
       " (115, 'Page & Plant'),\n",
       " (116, 'Passengers'),\n",
       " (117, \"Paul D'Ianno\"),\n",
       " (118, 'Pearl Jam'),\n",
       " (119, 'Peter Tosh'),\n",
       " (120, 'Pink Floyd'),\n",
       " (121, 'Planet Hemp'),\n",
       " (122, 'R.E.M. Feat. Kate Pearson'),\n",
       " (123, 'R.E.M. Feat. KRS-One'),\n",
       " (124, 'R.E.M.'),\n",
       " (125, 'Raimundos'),\n",
       " (126, 'Raul Seixas'),\n",
       " (127, 'Red Hot Chili Peppers'),\n",
       " (128, 'Rush'),\n",
       " (129, 'Simply Red'),\n",
       " (130, 'Skank'),\n",
       " (131, 'Smashing Pumpkins'),\n",
       " (132, 'Soundgarden'),\n",
       " (133, 'Stevie Ray Vaughan & Double Trouble'),\n",
       " (134, 'Stone Temple Pilots'),\n",
       " (135, 'System Of A Down'),\n",
       " (136, 'Terry Bozzio, Tony Levin & Steve Stevens'),\n",
       " (137, 'The Black Crowes'),\n",
       " (138, 'The Clash'),\n",
       " (139, 'The Cult'),\n",
       " (140, 'The Doors'),\n",
       " (141, 'The Police'),\n",
       " (142, 'The Rolling Stones'),\n",
       " (143, 'The Tea Party'),\n",
       " (144, 'The Who'),\n",
       " (145, 'Tim Maia'),\n",
       " (146, 'Titãs'),\n",
       " (147, 'Battlestar Galactica'),\n",
       " (148, 'Heroes'),\n",
       " (149, 'Lost'),\n",
       " (150, 'U2'),\n",
       " (151, 'UB40'),\n",
       " (152, 'Van Halen'),\n",
       " (153, 'Velvet Revolver'),\n",
       " (154, 'Whitesnake'),\n",
       " (155, 'Zeca Pagodinho'),\n",
       " (156, 'The Office'),\n",
       " (157, 'Dread Zeppelin'),\n",
       " (158, 'Battlestar Galactica (Classic)'),\n",
       " (159, 'Aquaman'),\n",
       " (160, 'Christina Aguilera featuring BigElf'),\n",
       " (161, \"Aerosmith & Sierra Leone's Refugee Allstars\"),\n",
       " (162, 'Los Lonely Boys'),\n",
       " (163, 'Corinne Bailey Rae'),\n",
       " (164, 'Dhani Harrison & Jakob Dylan'),\n",
       " (165, 'Jackson Browne'),\n",
       " (166, 'Avril Lavigne'),\n",
       " (167, 'Big & Rich'),\n",
       " (168, \"Youssou N'Dour\"),\n",
       " (169, 'Black Eyed Peas'),\n",
       " (170, 'Jack Johnson'),\n",
       " (171, 'Ben Harper'),\n",
       " (172, 'Snow Patrol'),\n",
       " (173, 'Matisyahu'),\n",
       " (174, 'The Postal Service'),\n",
       " (175, 'Jaguares'),\n",
       " (176, 'The Flaming Lips'),\n",
       " (177, \"Jack's Mannequin & Mick Fleetwood\"),\n",
       " (178, 'Regina Spektor'),\n",
       " (179, 'Scorpions'),\n",
       " (180, 'House Of Pain'),\n",
       " (181, 'Xis'),\n",
       " (182, 'Nega Gizza'),\n",
       " (183, 'Gustavo & Andres Veiga & Salazar'),\n",
       " (184, 'Rodox'),\n",
       " (185, 'Charlie Brown Jr.'),\n",
       " (186, 'Pedro Luís E A Parede'),\n",
       " (187, 'Los Hermanos'),\n",
       " (188, 'Mundo Livre S/A'),\n",
       " (189, 'Otto'),\n",
       " (190, 'Instituto'),\n",
       " (191, 'Nação Zumbi'),\n",
       " (192, 'DJ Dolores & Orchestra Santa Massa'),\n",
       " (193, 'Seu Jorge'),\n",
       " (194, 'Sabotage E Instituto'),\n",
       " (195, 'Stereo Maracana'),\n",
       " (196, 'Cake'),\n",
       " (197, 'Aisha Duo'),\n",
       " (198, 'Habib Koité and Bamada'),\n",
       " (199, 'Karsh Kale'),\n",
       " (200, 'The Posies'),\n",
       " (201, 'Luciana Souza/Romero Lubambo'),\n",
       " (202, 'Aaron Goldberg'),\n",
       " (203, 'Nicolaus Esterhazy Sinfonia'),\n",
       " (204, 'Temple of the Dog'),\n",
       " (205, 'Chris Cornell'),\n",
       " (206, 'Alberto Turco & Nova Schola Gregoriana'),\n",
       " (207, 'Richard Marlow & The Choir of Trinity College, Cambridge'),\n",
       " (208, 'English Concert & Trevor Pinnock'),\n",
       " (209, 'Anne-Sophie Mutter, Herbert Von Karajan & Wiener Philharmoniker'),\n",
       " (210,\n",
       "  'Hilary Hahn, Jeffrey Kahane, Los Angeles Chamber Orchestra & Margaret Batjer'),\n",
       " (211, 'Wilhelm Kempff'),\n",
       " (212, 'Yo-Yo Ma'),\n",
       " (213, 'Scholars Baroque Ensemble'),\n",
       " (214, 'Academy of St. Martin in the Fields & Sir Neville Marriner'),\n",
       " (215,\n",
       "  'Academy of St. Martin in the Fields Chamber Ensemble & Sir Neville Marriner'),\n",
       " (216, 'Berliner Philharmoniker, Claudio Abbado & Sabine Meyer'),\n",
       " (217, 'Royal Philharmonic Orchestra & Sir Thomas Beecham'),\n",
       " (218, 'Orchestre Révolutionnaire et Romantique & John Eliot Gardiner'),\n",
       " (219, 'Britten Sinfonia, Ivor Bolton & Lesley Garrett'),\n",
       " (220,\n",
       "  'Chicago Symphony Chorus, Chicago Symphony Orchestra & Sir Georg Solti'),\n",
       " (221, 'Sir Georg Solti & Wiener Philharmoniker'),\n",
       " (222,\n",
       "  'Academy of St. Martin in the Fields, John Birch, Sir Neville Marriner & Sylvia McNair'),\n",
       " (223, 'London Symphony Orchestra & Sir Charles Mackerras'),\n",
       " (224, 'Barry Wordsworth & BBC Concert Orchestra'),\n",
       " (225, 'Herbert Von Karajan, Mirella Freni & Wiener Philharmoniker'),\n",
       " (226, 'Eugene Ormandy'),\n",
       " (227, 'Luciano Pavarotti'),\n",
       " (228, 'Leonard Bernstein & New York Philharmonic'),\n",
       " (229, 'Boston Symphony Orchestra & Seiji Ozawa'),\n",
       " (230, 'Aaron Copland & London Symphony Orchestra'),\n",
       " (231, 'Ton Koopman'),\n",
       " (232, 'Sergei Prokofiev & Yuri Temirkanov'),\n",
       " (233, 'Chicago Symphony Orchestra & Fritz Reiner'),\n",
       " (234, 'Orchestra of The Age of Enlightenment'),\n",
       " (235, 'Emanuel Ax, Eugene Ormandy & Philadelphia Orchestra'),\n",
       " (236, 'James Levine'),\n",
       " (237, 'Berliner Philharmoniker & Hans Rosbaud'),\n",
       " (238, 'Maurizio Pollini'),\n",
       " (239,\n",
       "  'Academy of St. Martin in the Fields, Sir Neville Marriner & William Bennett'),\n",
       " (240, 'Gustav Mahler'),\n",
       " (241, 'Felix Schmidt, London Symphony Orchestra & Rafael Frühbeck de Burgos'),\n",
       " (242, 'Edo de Waart & San Francisco Symphony'),\n",
       " (243, 'Antal Doráti & London Symphony Orchestra'),\n",
       " (244, 'Choir Of Westminster Abbey & Simon Preston'),\n",
       " (245, 'Michael Tilson Thomas & San Francisco Symphony'),\n",
       " (246,\n",
       "  'Chor der Wiener Staatsoper, Herbert Von Karajan & Wiener Philharmoniker'),\n",
       " (247, \"The King's Singers\"),\n",
       " (248, 'Berliner Philharmoniker & Herbert Von Karajan'),\n",
       " (249, 'Sir Georg Solti, Sumi Jo & Wiener Philharmoniker'),\n",
       " (250, \"Christopher O'Riley\"),\n",
       " (251, 'Fretwork'),\n",
       " (252, 'Amy Winehouse'),\n",
       " (253, 'Calexico'),\n",
       " (254, 'Otto Klemperer & Philharmonia Orchestra'),\n",
       " (255, 'Yehudi Menuhin'),\n",
       " (256, 'Philharmonia Orchestra & Sir Neville Marriner'),\n",
       " (257,\n",
       "  'Academy of St. Martin in the Fields, Sir Neville Marriner & Thurston Dart'),\n",
       " (258, 'Les Arts Florissants & William Christie'),\n",
       " (259, 'The 12 Cellists of The Berlin Philharmonic'),\n",
       " (260, 'Adrian Leaper & Doreen de Feis'),\n",
       " (261, 'Roger Norrington, London Classical Players'),\n",
       " (262, \"Charles Dutoit & L'Orchestre Symphonique de Montréal\"),\n",
       " (263,\n",
       "  'Equale Brass Ensemble, John Eliot Gardiner & Munich Monteverdi Orchestra and Choir'),\n",
       " (264, \"Kent Nagano and Orchestre de l'Opéra de Lyon\"),\n",
       " (265, 'Julian Bream'),\n",
       " (266, 'Martin Roscoe'),\n",
       " (267, 'Göteborgs Symfoniker & Neeme Järvi'),\n",
       " (268, 'Itzhak Perlman'),\n",
       " (269, 'Michele Campanella'),\n",
       " (270, 'Gerald Moore'),\n",
       " (271, 'Mela Tenenbaum, Pro Musica Prague & Richard Kapp'),\n",
       " (272, 'Emerson String Quartet'),\n",
       " (273,\n",
       "  'C. Monteverdi, Nigel Rogers - Chiaroscuro; London Baroque; London Cornett & Sackbu'),\n",
       " (274, 'Nash Ensemble'),\n",
       " (275, 'Philip Glass Ensemble')]"
      ]
     },
     "execution_count": 2,
     "metadata": {},
     "output_type": "execute_result"
    }
   ],
   "source": [
    "query = '''SELECT * \n",
    "FROM Artist'''\n",
    "\n",
    "cursor.execute(query)\n",
    "results = cursor.fetchall()\n",
    "results"
   ]
  },
  {
   "cell_type": "markdown",
   "metadata": {
    "cell_id": "1c16f48cc0e2456d879eb69a632a0984",
    "deepnote_app_coordinates": {
     "h": 5,
     "w": 12,
     "x": 0,
     "y": 253
    },
    "deepnote_cell_type": "text-cell-h2",
    "formattedRanges": [],
    "id": "M_t6bgCbbiF8",
    "is_collapsed": false,
    "tags": []
   },
   "source": [
    "## Save Data to CSV Files"
   ]
  },
  {
   "cell_type": "markdown",
   "metadata": {
    "cell_id": "0fc17d80f3214bfe9743c2f99e2e5b95",
    "deepnote_app_coordinates": {
     "h": 2,
     "w": 8,
     "x": 0,
     "y": 259
    },
    "deepnote_cell_type": "text-cell-p",
    "formattedRanges": [],
    "id": "z1xJJUQ5biF9",
    "is_collapsed": false,
    "tags": []
   },
   "source": [
    "Since CSV file is much more convenient to process, we still use pandas to convert and to write to CSV files."
   ]
  },
  {
   "cell_type": "code",
   "execution_count": null,
   "metadata": {
    "cell_id": "672f546d01a848dcacde72f9d6dbb19f",
    "deepnote_app_coordinates": {
     "h": 5,
     "w": 12,
     "x": 0,
     "y": 262
    },
    "deepnote_cell_type": "code",
    "deepnote_to_be_reexecuted": false,
    "execution_millis": 744,
    "execution_start": 1661570500569,
    "id": "GmeJVkopbiF9",
    "outputId": "c0b77b13-3139-4ac6-f1a4-0be5e2ef0bca",
    "source_hash": "6b9d7a0f",
    "tags": []
   },
   "outputs": [
    {
     "name": "stdout",
     "output_type": "stream",
     "text": [
      "<class 'pandas.core.frame.DataFrame'>\n",
      "RangeIndex: 275 entries, 0 to 274\n",
      "Data columns (total 2 columns):\n",
      " #   Column  Non-Null Count  Dtype \n",
      "---  ------  --------------  ----- \n",
      " 0   0       275 non-null    int64 \n",
      " 1   1       275 non-null    object\n",
      "dtypes: int64(1), object(1)\n",
      "memory usage: 4.4+ KB\n"
     ]
    }
   ],
   "source": [
    "import pandas as pd\n",
    "\n",
    "df = pd.DataFrame(results)\n",
    "df.info()\n",
    "df.to_csv('data/Chinook.csv')"
   ]
  },
  {
   "cell_type": "code",
   "execution_count": null,
   "metadata": {
    "cell_id": "ad25b56733a24a01a0e79113db863111",
    "deepnote_app_coordinates": {
     "h": 5,
     "w": 12,
     "x": 0,
     "y": 268
    },
    "deepnote_cell_type": "code",
    "deepnote_to_be_reexecuted": false,
    "execution_millis": 3,
    "execution_start": 1661570500585,
    "id": "p5CV1z8pbiF9",
    "source_hash": "ee2d6520",
    "tags": []
   },
   "outputs": [],
   "source": [
    "cursor.close()\n",
    "connection.close()"
   ]
  },
  {
   "cell_type": "markdown",
   "metadata": {
    "cell_id": "7e9677000ea4439bafd33124337a1f3f",
    "deepnote_app_coordinates": {
     "h": 5,
     "w": 12,
     "x": 0,
     "y": 274
    },
    "deepnote_cell_type": "text-cell-h2",
    "formattedRanges": [],
    "id": "0XO4yCIrbiF9",
    "is_collapsed": false,
    "tags": []
   },
   "source": [
    "## Exercise"
   ]
  },
  {
   "cell_type": "markdown",
   "metadata": {
    "cell_id": "f8f6c0a25e014dc2973c41403398cc2d",
    "deepnote_app_coordinates": {
     "h": 2,
     "w": 8,
     "x": 0,
     "y": 280
    },
    "deepnote_cell_type": "text-cell-p",
    "formattedRanges": [],
    "id": "yKmiRdBdbiF-",
    "is_collapsed": false,
    "tags": []
   },
   "source": [
    "Do a search, and learn how to use mysql.connector in Python to connect to a mysql server, and fetch data as needed."
   ]
  },
  {
   "cell_type": "markdown",
   "metadata": {
    "cell_id": "822e6e0d9c734f4780c1313883b1b145",
    "deepnote_app_coordinates": {
     "h": 5,
     "w": 12,
     "x": 0,
     "y": 283
    },
    "deepnote_cell_height": 82,
    "deepnote_cell_type": "markdown",
    "id": "hmXVwY1Mbumh"
   },
   "source": [
    "# Collect Data From Web"
   ]
  },
  {
   "cell_type": "markdown",
   "metadata": {
    "cell_id": "9636c008abc84a78bdf96d92f233e5da",
    "deepnote_app_coordinates": {
     "h": 5,
     "w": 12,
     "x": 0,
     "y": 289
    },
    "deepnote_cell_height": 268,
    "deepnote_cell_type": "markdown",
    "id": "kMwlp7yEaq4s"
   },
   "source": [
    "## Introduction to Request and Beautiful Soup\n",
    "Now that we understand the structure of a web page, it’s time to get into the fun part: scraping the content we want!\n",
    "The first thing we’ll need to do to scrape a web page is to download the page. We can download pages using the Python requests library.\n",
    "\n",
    "The requests library will make a GET request to a web server, which will download the HTML contents of a given web page for us. There are several different types of requests we can make using requests, of which GET is just one. If you want to learn more, check out our API tutorial.\n",
    "\n",
    "Let’s try downloading a simple sample website, https://dataquestio.github.io/web-scraping-pages/simple.html."
   ]
  },
  {
   "cell_type": "markdown",
   "metadata": {
    "cell_id": "b642cf2fe9b64fd586c82fc48d2613c7",
    "deepnote_app_coordinates": {
     "h": 5,
     "w": 12,
     "x": 0,
     "y": 295
    },
    "deepnote_cell_height": 100,
    "deepnote_cell_type": "markdown",
    "id": "wo4tghajbENe"
   },
   "source": [
    "### Download\n",
    "We’ll need to first import the requests library, and then download the page using the requests.get method:"
   ]
  },
  {
   "cell_type": "code",
   "execution_count": null,
   "metadata": {
    "cell_id": "94e8b6e890fb49b0a907c699e704b6e4",
    "colab": {
     "base_uri": "https://localhost:8080/"
    },
    "deepnote_app_coordinates": {
     "h": 5,
     "w": 12,
     "x": 0,
     "y": 301
    },
    "deepnote_cell_type": "code",
    "deepnote_to_be_reexecuted": false,
    "execution_millis": 43,
    "execution_start": 1661620567239,
    "id": "OyM9DDc9Zmtr",
    "outputId": "e90a1cd5-5c77-4442-cf21-613b762bbab0",
    "source_hash": "10884a5d"
   },
   "outputs": [
    {
     "data": {
      "text/plain": [
       "<Response [200]>"
      ]
     },
     "execution_count": 1,
     "metadata": {},
     "output_type": "execute_result"
    }
   ],
   "source": [
    "import requests\n",
    "\n",
    "page = requests.get(\"https://dataquestio.github.io/web-scraping-pages/simple.html\")\n",
    "page"
   ]
  },
  {
   "cell_type": "markdown",
   "metadata": {
    "cell_id": "e82591734d3b436e890ef1f00bd8ded3",
    "deepnote_app_coordinates": {
     "h": 5,
     "w": 12,
     "x": 0,
     "y": 307
    },
    "deepnote_cell_height": 74,
    "deepnote_cell_type": "markdown",
    "id": "s_PT6AVcayrq"
   },
   "source": [
    "After running our request, we get a Response object. This object has a status_code property, which indicates if the page was downloaded successfully:"
   ]
  },
  {
   "cell_type": "code",
   "execution_count": null,
   "metadata": {
    "cell_id": "16d35568dbea42eab1ac2a472343f3fb",
    "colab": {
     "base_uri": "https://localhost:8080/"
    },
    "deepnote_app_coordinates": {
     "h": 5,
     "w": 12,
     "x": 0,
     "y": 313
    },
    "deepnote_cell_height": 112,
    "deepnote_cell_type": "code",
    "deepnote_output_heights": [
     20
    ],
    "id": "17CLAa_Qazxc",
    "outputId": "8cf5d561-d4e9-4eaf-efb8-56064ca1ce1f"
   },
   "outputs": [
    {
     "data": {
      "text/plain": [
       "200"
      ]
     },
     "execution_count": 5,
     "metadata": {},
     "output_type": "execute_result"
    }
   ],
   "source": [
    "page.status_code"
   ]
  },
  {
   "cell_type": "markdown",
   "metadata": {
    "cell_id": "f70c4d24b7424f029b31800d981e765f",
    "deepnote_app_coordinates": {
     "h": 5,
     "w": 12,
     "x": 0,
     "y": 319
    },
    "deepnote_cell_height": 74,
    "deepnote_cell_type": "markdown",
    "id": "QyZHvlBHa4Jd"
   },
   "source": [
    "A status_code of 200 means that the page downloaded successfully. We won’t fully dive into status codes here, but a status code starting with a 2 generally indicates success, and a code starting with a 4 or a 5 indicates an error."
   ]
  },
  {
   "cell_type": "markdown",
   "metadata": {
    "cell_id": "02a939ca55174272a17a5012d7ab9453",
    "deepnote_app_coordinates": {
     "h": 5,
     "w": 12,
     "x": 0,
     "y": 325
    },
    "deepnote_cell_height": 52,
    "deepnote_cell_type": "markdown",
    "id": "oFtQYwDFa7TX"
   },
   "source": [
    "We can print out the HTML content of the page using the content property:"
   ]
  },
  {
   "cell_type": "code",
   "execution_count": null,
   "metadata": {
    "cell_id": "291b0c4c47df4f7b935e5e5e6ffd5a81",
    "colab": {
     "base_uri": "https://localhost:8080/"
    },
    "deepnote_app_coordinates": {
     "h": 5,
     "w": 12,
     "x": 0,
     "y": 331
    },
    "deepnote_cell_height": 112,
    "deepnote_cell_type": "code",
    "deepnote_output_heights": [
     20
    ],
    "id": "y5N3EoAEb7oF",
    "outputId": "068783d5-29e9-4e41-d1d4-8261b99c3de4"
   },
   "outputs": [
    {
     "data": {
      "text/plain": [
       "b'<!DOCTYPE html>\\n<html>\\n    <head>\\n        <title>A simple example page</title>\\n    </head>\\n    <body>\\n        <p>Here is some simple content for this page.</p>\\n    </body>\\n</html>'"
      ]
     },
     "execution_count": 6,
     "metadata": {},
     "output_type": "execute_result"
    }
   ],
   "source": [
    "page.content"
   ]
  },
  {
   "cell_type": "markdown",
   "metadata": {
    "cell_id": "afd63a28d2764f84a9ade0bb1aaa80d1",
    "deepnote_app_coordinates": {
     "h": 5,
     "w": 12,
     "x": 0,
     "y": 337
    },
    "deepnote_cell_height": 136,
    "deepnote_cell_type": "markdown",
    "id": "mVVisVXhb6n6"
   },
   "source": [
    "### Parsing a page\n",
    "As you can see above, we now have downloaded an HTML document.\n",
    "\n",
    "We can use the BeautifulSoup library to parse this document, and extract the text from the p tag."
   ]
  },
  {
   "cell_type": "markdown",
   "metadata": {
    "cell_id": "36f0b07da0f24369a953296f9def15df",
    "deepnote_app_coordinates": {
     "h": 5,
     "w": 12,
     "x": 0,
     "y": 343
    },
    "deepnote_cell_height": 52,
    "deepnote_cell_type": "markdown",
    "id": "beI9gsmtcKcy"
   },
   "source": [
    "We first have to import the library, and create an instance of the BeautifulSoup class to parse our document:"
   ]
  },
  {
   "cell_type": "code",
   "execution_count": null,
   "metadata": {
    "cell_id": "385600ace370446ab90b4fa4ff537086",
    "deepnote_app_coordinates": {
     "h": 5,
     "w": 12,
     "x": 0,
     "y": 349
    },
    "deepnote_cell_height": 79,
    "deepnote_cell_type": "code",
    "id": "8voZsugQcNFt"
   },
   "outputs": [],
   "source": [
    "from bs4 import BeautifulSoup\n",
    "soup = BeautifulSoup(page.content, 'html.parser')"
   ]
  },
  {
   "cell_type": "markdown",
   "metadata": {
    "cell_id": "06ff56de9a3d442a9adef34c4ed9ca36",
    "deepnote_app_coordinates": {
     "h": 5,
     "w": 12,
     "x": 0,
     "y": 355
    },
    "deepnote_cell_height": 52,
    "deepnote_cell_type": "markdown",
    "id": "meFDRoMJcReg"
   },
   "source": [
    "We can now print out the HTML content of the page, formatted nicely, using the prettify method on the BeautifulSoup object."
   ]
  },
  {
   "cell_type": "code",
   "execution_count": null,
   "metadata": {
    "cell_id": "81bdb27ed1b14412bbeab488894b8235",
    "colab": {
     "base_uri": "https://localhost:8080/"
    },
    "deepnote_app_coordinates": {
     "h": 5,
     "w": 12,
     "x": 0,
     "y": 361
    },
    "deepnote_cell_height": 347,
    "deepnote_cell_type": "code",
    "id": "b-ENVb6QcVQa",
    "outputId": "58a67522-104b-429d-d029-9799c7c78046"
   },
   "outputs": [
    {
     "name": "stdout",
     "output_type": "stream",
     "text": [
      "<!DOCTYPE html>\n",
      "<html>\n",
      " <head>\n",
      "  <title>\n",
      "   A simple example page\n",
      "  </title>\n",
      " </head>\n",
      " <body>\n",
      "  <p>\n",
      "   Here is some simple content for this page.\n",
      "  </p>\n",
      " </body>\n",
      "</html>\n"
     ]
    }
   ],
   "source": [
    "print(soup.prettify())"
   ]
  },
  {
   "cell_type": "markdown",
   "metadata": {
    "cell_id": "dedb4332854045a9a784fa7652b0f773",
    "deepnote_app_coordinates": {
     "h": 5,
     "w": 12,
     "x": 0,
     "y": 367
    },
    "deepnote_cell_height": 74,
    "deepnote_cell_type": "markdown",
    "id": "Y2Onq3XccgHR"
   },
   "source": [
    "This step isn’t strictly necessary, and we won’t always bother with it, but it can be helpful to look at prettified HTML to make the structure of the and where tags are nested easier to see."
   ]
  },
  {
   "cell_type": "markdown",
   "metadata": {
    "cell_id": "8356b27713994febba025ac88755b521",
    "deepnote_app_coordinates": {
     "h": 5,
     "w": 12,
     "x": 0,
     "y": 373
    },
    "deepnote_cell_height": 110,
    "deepnote_cell_type": "markdown",
    "id": "7XDpTtRrcg88"
   },
   "source": [
    "As all the tags are nested, we can move through the structure one level at a time. We can first select all the elements at the top level of the page using the children property of soup.\n",
    "\n",
    "Note that children returns a list generator, so we need to call the list function on it:"
   ]
  },
  {
   "cell_type": "code",
   "execution_count": null,
   "metadata": {
    "cell_id": "51d32ce680f542f28ef98b1ad2ef93f2",
    "colab": {
     "base_uri": "https://localhost:8080/"
    },
    "deepnote_app_coordinates": {
     "h": 5,
     "w": 12,
     "x": 0,
     "y": 379
    },
    "deepnote_cell_height": 245,
    "deepnote_cell_type": "code",
    "id": "189xy81YckHr",
    "outputId": "67a89cd8-f426-48ed-a599-0488b47a56b0"
   },
   "outputs": [
    {
     "data": {
      "text/plain": [
       "['html', '\\n', <html>\n",
       " <head>\n",
       " <title>A simple example page</title>\n",
       " </head>\n",
       " <body>\n",
       " <p>Here is some simple content for this page.</p>\n",
       " </body>\n",
       " </html>]"
      ]
     },
     "execution_count": 9,
     "metadata": {},
     "output_type": "execute_result"
    }
   ],
   "source": [
    "list(soup.children)"
   ]
  },
  {
   "cell_type": "markdown",
   "metadata": {
    "cell_id": "5a710afdef4f4faaad0398f8d52f98b7",
    "deepnote_app_coordinates": {
     "h": 5,
     "w": 12,
     "x": 0,
     "y": 385
    },
    "deepnote_cell_type": "markdown",
    "id": "hFMnKmdDc938"
   },
   "source": [
    "The above tells us that there are two tags at the top level of the page — the initial <!DOCTYPE html> tag, and the <html> tag. There is a newline character (n) in the list as well. Let’s see what the type of each element in the list is:"
   ]
  },
  {
   "cell_type": "code",
   "execution_count": null,
   "metadata": {
    "cell_id": "c00d34cda43a455ab7a64f69e111e018",
    "colab": {
     "base_uri": "https://localhost:8080/"
    },
    "deepnote_app_coordinates": {
     "h": 5,
     "w": 12,
     "x": 0,
     "y": 391
    },
    "deepnote_cell_type": "code",
    "id": "QRJ_sqD1dAkm",
    "outputId": "65c86ce4-c607-4543-b66a-594df7de3ebc"
   },
   "outputs": [
    {
     "data": {
      "text/plain": [
       "[bs4.element.Doctype, bs4.element.NavigableString, bs4.element.Tag]"
      ]
     },
     "execution_count": 7,
     "metadata": {},
     "output_type": "execute_result"
    }
   ],
   "source": [
    "[type(item) for item in list(soup.children)]"
   ]
  },
  {
   "cell_type": "markdown",
   "metadata": {
    "cell_id": "9e5be65d3a5a498cbdd16b25d72dc493",
    "deepnote_app_coordinates": {
     "h": 5,
     "w": 12,
     "x": 0,
     "y": 397
    },
    "deepnote_cell_type": "markdown",
    "id": "7GntNf8PdHY8"
   },
   "source": [
    "As we can see, all of the items are BeautifulSoup objects:\n",
    "\n",
    "*  The first is a Doctype object, which contains information about \n",
    "the type of the document.\n",
    "*  The second is a NavigableString, which represents text found in the HTML document.\n",
    "*  The final item is a Tag object, which contains other nested tags.\n",
    "\n",
    "The most important object type, and the one we’ll deal with most often, is the Tag object.\n",
    "\n",
    "The Tag object allows us to navigate through an HTML document, and extract other tags and text. You can learn more about the various BeautifulSoup objects here."
   ]
  },
  {
   "cell_type": "markdown",
   "metadata": {
    "cell_id": "33654d8235534ee7a2c1f741f1eb9f9c",
    "deepnote_app_coordinates": {
     "h": 5,
     "w": 12,
     "x": 0,
     "y": 403
    },
    "deepnote_cell_type": "markdown",
    "id": "kNjhRZ7JdXPe"
   },
   "source": [
    "We can now select the html tag and its children by taking the third item in the list:"
   ]
  },
  {
   "cell_type": "code",
   "execution_count": null,
   "metadata": {
    "cell_id": "c908f322cec445bf8b19b520402b0831",
    "deepnote_app_coordinates": {
     "h": 5,
     "w": 12,
     "x": 0,
     "y": 409
    },
    "deepnote_cell_type": "code",
    "id": "W0rOT_OAdZHE"
   },
   "outputs": [],
   "source": [
    "html = list(soup.children)[2]"
   ]
  },
  {
   "cell_type": "markdown",
   "metadata": {
    "cell_id": "346bba5596884a23a3263bceee989787",
    "deepnote_app_coordinates": {
     "h": 5,
     "w": 12,
     "x": 0,
     "y": 415
    },
    "deepnote_cell_type": "markdown",
    "id": "oVBSwoNNdcr_"
   },
   "source": [
    "Each item in the list returned by the children property is also a BeautifulSoup object, so we can also call the children method on html.\n",
    "\n",
    "Now, we can find the children inside the html tag:"
   ]
  },
  {
   "cell_type": "code",
   "execution_count": null,
   "metadata": {
    "cell_id": "644ab46dea0f4df89a02cd859471f815",
    "colab": {
     "base_uri": "https://localhost:8080/"
    },
    "deepnote_app_coordinates": {
     "h": 5,
     "w": 12,
     "x": 0,
     "y": 421
    },
    "deepnote_cell_type": "code",
    "id": "lukGFKyHdf9n",
    "outputId": "99f360a8-45f1-4f0f-b771-8451ae635fcd"
   },
   "outputs": [
    {
     "data": {
      "text/plain": [
       "['\\n', <head>\n",
       " <title>A simple example page</title>\n",
       " </head>, '\\n', <body>\n",
       " <p>Here is some simple content for this page.</p>\n",
       " </body>, '\\n']"
      ]
     },
     "execution_count": 11,
     "metadata": {},
     "output_type": "execute_result"
    }
   ],
   "source": [
    "list(html.children)"
   ]
  },
  {
   "cell_type": "markdown",
   "metadata": {
    "cell_id": "3951ab635264409ebc88c2ca8e005dd8",
    "deepnote_app_coordinates": {
     "h": 5,
     "w": 12,
     "x": 0,
     "y": 427
    },
    "deepnote_cell_type": "markdown",
    "id": "FxQbLZGJduHX"
   },
   "source": [
    "As we can see above, there are two tags here, head, and body. We want to extract the text inside the p tag, so we’ll dive into the body:"
   ]
  },
  {
   "cell_type": "code",
   "execution_count": null,
   "metadata": {
    "cell_id": "09c9b51350c14208aa24bc6ea29213e0",
    "deepnote_app_coordinates": {
     "h": 5,
     "w": 12,
     "x": 0,
     "y": 433
    },
    "deepnote_cell_type": "code",
    "id": "DrH7hCY5dtE-"
   },
   "outputs": [],
   "source": [
    "body = list(html.children)[3]"
   ]
  },
  {
   "cell_type": "markdown",
   "metadata": {
    "cell_id": "ae3025916acd4512b7d54cecefacab2b",
    "deepnote_app_coordinates": {
     "h": 5,
     "w": 12,
     "x": 0,
     "y": 439
    },
    "deepnote_cell_type": "markdown",
    "id": "uAbePF_DdycA"
   },
   "source": [
    "Now, we can get the p tag by finding the children of the body tag:"
   ]
  },
  {
   "cell_type": "code",
   "execution_count": null,
   "metadata": {
    "cell_id": "7f63e9bb7b5747aab92779c233ecc000",
    "colab": {
     "base_uri": "https://localhost:8080/"
    },
    "deepnote_app_coordinates": {
     "h": 5,
     "w": 12,
     "x": 0,
     "y": 445
    },
    "deepnote_cell_type": "code",
    "id": "89UpMmvmd0OM",
    "outputId": "6adb0cab-2c9c-4f8e-b020-952df04425e2"
   },
   "outputs": [
    {
     "data": {
      "text/plain": [
       "['\\n', <p>Here is some simple content for this page.</p>, '\\n']"
      ]
     },
     "execution_count": 15,
     "metadata": {},
     "output_type": "execute_result"
    }
   ],
   "source": [
    "list(body.children)"
   ]
  },
  {
   "cell_type": "markdown",
   "metadata": {
    "cell_id": "ed2e9f660d26485782db9d904b5166a4",
    "deepnote_app_coordinates": {
     "h": 5,
     "w": 12,
     "x": 0,
     "y": 451
    },
    "deepnote_cell_type": "markdown",
    "id": "fYg7irxkd509"
   },
   "source": [
    "We can now isolate the p tag:"
   ]
  },
  {
   "cell_type": "code",
   "execution_count": null,
   "metadata": {
    "cell_id": "57c71737d368421886d130aa8379a739",
    "deepnote_app_coordinates": {
     "h": 5,
     "w": 12,
     "x": 0,
     "y": 457
    },
    "deepnote_cell_type": "code",
    "id": "NC-NOXL2d7uu"
   },
   "outputs": [],
   "source": [
    "p = list(body.children)[1]"
   ]
  },
  {
   "cell_type": "code",
   "execution_count": null,
   "metadata": {
    "cell_id": "dff9358828264a35b452ff6c809be41d",
    "colab": {
     "base_uri": "https://localhost:8080/"
    },
    "deepnote_app_coordinates": {
     "h": 5,
     "w": 12,
     "x": 0,
     "y": 463
    },
    "deepnote_cell_type": "code",
    "id": "qRpg5s_MeStS",
    "outputId": "5c4227aa-6031-4c5c-a326-2feb9cdcaebe"
   },
   "outputs": [
    {
     "data": {
      "text/plain": [
       "['Here is some simple content for this page.']"
      ]
     },
     "execution_count": 17,
     "metadata": {},
     "output_type": "execute_result"
    }
   ],
   "source": [
    "list(p.children)"
   ]
  },
  {
   "cell_type": "markdown",
   "metadata": {
    "cell_id": "f78afc42bad74771ac811da2231928a4",
    "deepnote_app_coordinates": {
     "h": 5,
     "w": 12,
     "x": 0,
     "y": 469
    },
    "deepnote_cell_type": "markdown",
    "id": "0B7EUhdWeYr3"
   },
   "source": [
    "Once we’ve isolated the tag, we can use the get_text method to extract all of the text inside the tag:"
   ]
  },
  {
   "cell_type": "code",
   "execution_count": null,
   "metadata": {
    "cell_id": "9c5c4d2f6b3948f6bbad303fc7957b96",
    "colab": {
     "base_uri": "https://localhost:8080/",
     "height": 57
    },
    "deepnote_app_coordinates": {
     "h": 5,
     "w": 12,
     "x": 0,
     "y": 475
    },
    "deepnote_cell_type": "code",
    "id": "bBtP8SejebbE",
    "outputId": "af254447-9fcf-4aa2-8bcb-c0d52416c9f7"
   },
   "outputs": [
    {
     "data": {
      "application/vnd.google.colaboratory.intrinsic+json": {
       "type": "string"
      },
      "text/plain": [
       "'Here is some simple content for this page.'"
      ]
     },
     "execution_count": 20,
     "metadata": {},
     "output_type": "execute_result"
    }
   ],
   "source": [
    "p.get_text()"
   ]
  },
  {
   "cell_type": "markdown",
   "metadata": {
    "cell_id": "35ca12af7e954e748a339aef0d6d5297",
    "deepnote_app_coordinates": {
     "h": 5,
     "w": 12,
     "x": 0,
     "y": 481
    },
    "deepnote_cell_type": "markdown",
    "id": "1-ATm2QOejjS"
   },
   "source": [
    "### Finding Tags\n",
    "\n",
    "Finding all instances of a tag at once\n",
    "What we did above was useful for figuring out how to navigate a page, but it took a lot of commands to do something fairly simple."
   ]
  },
  {
   "cell_type": "markdown",
   "metadata": {
    "cell_id": "f098caceb8e94d2ea579805a58ae79ef",
    "deepnote_app_coordinates": {
     "h": 5,
     "w": 12,
     "x": 0,
     "y": 487
    },
    "deepnote_cell_type": "markdown",
    "id": "BqwXrRUaepEi"
   },
   "source": [
    "If we want to extract a single tag, we can instead use the find_all method, which will find all the instances of a tag on a page."
   ]
  },
  {
   "cell_type": "code",
   "execution_count": null,
   "metadata": {
    "cell_id": "3659794daa06492d9f19f5e895c70366",
    "colab": {
     "base_uri": "https://localhost:8080/"
    },
    "deepnote_app_coordinates": {
     "h": 5,
     "w": 12,
     "x": 0,
     "y": 493
    },
    "deepnote_cell_type": "code",
    "id": "vyyqGWhXeraD",
    "outputId": "e39a9ec9-6658-473b-87df-e5870f1cc91a"
   },
   "outputs": [
    {
     "data": {
      "text/plain": [
       "[<p>Here is some simple content for this page.</p>]"
      ]
     },
     "execution_count": 18,
     "metadata": {},
     "output_type": "execute_result"
    }
   ],
   "source": [
    "soup = BeautifulSoup(page.content, 'html.parser')\n",
    "soup.find_all('p')"
   ]
  },
  {
   "cell_type": "markdown",
   "metadata": {
    "cell_id": "4e60f0b865824df3b6aa67bc45b4c761",
    "deepnote_app_coordinates": {
     "h": 5,
     "w": 12,
     "x": 0,
     "y": 499
    },
    "deepnote_cell_type": "markdown",
    "id": "cTQTr43JexX1"
   },
   "source": [
    "Note that find_all returns a list, so we’ll have to loop through, or use list indexing, it to extract text:"
   ]
  },
  {
   "cell_type": "code",
   "execution_count": null,
   "metadata": {
    "cell_id": "ad1bf2ae7eba44e3b6f6808be6ee226e",
    "colab": {
     "base_uri": "https://localhost:8080/",
     "height": 57
    },
    "deepnote_app_coordinates": {
     "h": 5,
     "w": 12,
     "x": 0,
     "y": 505
    },
    "deepnote_cell_type": "code",
    "id": "Jg72G-xuezqZ",
    "outputId": "82974a57-6350-4795-8341-26f395beacc2"
   },
   "outputs": [
    {
     "data": {
      "application/vnd.google.colaboratory.intrinsic+json": {
       "type": "string"
      },
      "text/plain": [
       "'Here is some simple content for this page.'"
      ]
     },
     "execution_count": 19,
     "metadata": {},
     "output_type": "execute_result"
    }
   ],
   "source": [
    "soup.find_all('p')[0].get_text()"
   ]
  },
  {
   "cell_type": "markdown",
   "metadata": {
    "cell_id": "467a8a90c46047a4b75a8aaf4bc799b2",
    "deepnote_app_coordinates": {
     "h": 5,
     "w": 12,
     "x": 0,
     "y": 511
    },
    "deepnote_cell_type": "markdown",
    "id": "jScWzkaXe5MA"
   },
   "source": [
    "If you instead only want to find the first instance of a tag, you can use the find method, which will return a single BeautifulSoup object:"
   ]
  },
  {
   "cell_type": "code",
   "execution_count": null,
   "metadata": {
    "cell_id": "e4147a53492246ae9bd7d371542dfe7d",
    "colab": {
     "base_uri": "https://localhost:8080/"
    },
    "deepnote_app_coordinates": {
     "h": 5,
     "w": 12,
     "x": 0,
     "y": 517
    },
    "deepnote_cell_type": "code",
    "id": "T6CH0Udge67U",
    "outputId": "227387a2-d2ed-4c65-917f-5862e0b82647"
   },
   "outputs": [
    {
     "data": {
      "text/plain": [
       "<p>Here is some simple content for this page.</p>"
      ]
     },
     "execution_count": 20,
     "metadata": {},
     "output_type": "execute_result"
    }
   ],
   "source": [
    "soup.find('p')"
   ]
  },
  {
   "cell_type": "markdown",
   "metadata": {
    "cell_id": "6e1fca9acd684042a012451ee67f0d56",
    "deepnote_app_coordinates": {
     "h": 5,
     "w": 12,
     "x": 0,
     "y": 523
    },
    "deepnote_cell_type": "markdown",
    "id": "tMuuZZv8fE6U"
   },
   "source": [
    "Searching for tags by class and id:\n",
    "\n",
    "Classes and ids are used by CSS to determine which HTML elements to apply certain styles to. But when we’re scraping, we can also use them to specify the elements we want to scrape.\n",
    "\n",
    "Let's try another page."
   ]
  },
  {
   "cell_type": "code",
   "execution_count": null,
   "metadata": {
    "cell_id": "0f87fa1e023f4b07aac69c6bfad97079",
    "colab": {
     "base_uri": "https://localhost:8080/"
    },
    "deepnote_app_coordinates": {
     "h": 5,
     "w": 12,
     "x": 0,
     "y": 529
    },
    "deepnote_cell_type": "code",
    "id": "bhNx5h5RfEPu",
    "outputId": "94b1c7c9-efc2-4a3b-c3b3-0d64fb38e2da"
   },
   "outputs": [
    {
     "data": {
      "text/plain": [
       "<html>\n",
       "<head>\n",
       "<title>A simple example page</title>\n",
       "</head>\n",
       "<body>\n",
       "<div>\n",
       "<p class=\"inner-text first-item\" id=\"first\">\n",
       "                First paragraph.\n",
       "            </p>\n",
       "<p class=\"inner-text\">\n",
       "                Second paragraph.\n",
       "            </p>\n",
       "</div>\n",
       "<p class=\"outer-text first-item\" id=\"second\">\n",
       "<b>\n",
       "                First outer paragraph.\n",
       "            </b>\n",
       "</p>\n",
       "<p class=\"outer-text\">\n",
       "<b>\n",
       "                Second outer paragraph.\n",
       "            </b>\n",
       "</p>\n",
       "</body>\n",
       "</html>"
      ]
     },
     "execution_count": 21,
     "metadata": {},
     "output_type": "execute_result"
    }
   ],
   "source": [
    "page = requests.get(\"https://dataquestio.github.io/web-scraping-pages/ids_and_classes.html\")\n",
    "soup = BeautifulSoup(page.content, 'html.parser')\n",
    "soup"
   ]
  },
  {
   "cell_type": "markdown",
   "metadata": {
    "cell_id": "3959dc74508a4957992144e2aa707fdb",
    "deepnote_app_coordinates": {
     "h": 5,
     "w": 12,
     "x": 0,
     "y": 535
    },
    "deepnote_cell_type": "markdown",
    "id": "801extDyfxeZ"
   },
   "source": [
    "Now, we can use the find_all method to search for items by class or by id. In the below example, we’ll search for any p tag that has the class outer-text:"
   ]
  },
  {
   "cell_type": "code",
   "execution_count": null,
   "metadata": {
    "cell_id": "b29029fe2a334a6a823fc0d82a1e1699",
    "colab": {
     "base_uri": "https://localhost:8080/"
    },
    "deepnote_app_coordinates": {
     "h": 5,
     "w": 12,
     "x": 0,
     "y": 541
    },
    "deepnote_cell_type": "code",
    "id": "a4DJQkGZfygj",
    "outputId": "28f602aa-6346-4f83-e2e1-7089cd078322"
   },
   "outputs": [
    {
     "data": {
      "text/plain": [
       "[<p class=\"outer-text first-item\" id=\"second\">\n",
       " <b>\n",
       "                 First outer paragraph.\n",
       "             </b>\n",
       " </p>, <p class=\"outer-text\">\n",
       " <b>\n",
       "                 Second outer paragraph.\n",
       "             </b>\n",
       " </p>]"
      ]
     },
     "execution_count": 22,
     "metadata": {},
     "output_type": "execute_result"
    }
   ],
   "source": [
    "soup.find_all('p', class_='outer-text')"
   ]
  },
  {
   "cell_type": "markdown",
   "metadata": {
    "cell_id": "2f2e4d64262d4d0688f9fedadd998ade",
    "deepnote_app_coordinates": {
     "h": 5,
     "w": 12,
     "x": 0,
     "y": 547
    },
    "deepnote_cell_type": "markdown",
    "id": "W82j4Z4Tf3zH"
   },
   "source": [
    "In the below example, we’ll look for any tag that has the class outer-text:"
   ]
  },
  {
   "cell_type": "code",
   "execution_count": null,
   "metadata": {
    "cell_id": "024188973fae441c98a61188b618f196",
    "colab": {
     "base_uri": "https://localhost:8080/"
    },
    "deepnote_app_coordinates": {
     "h": 5,
     "w": 12,
     "x": 0,
     "y": 553
    },
    "deepnote_cell_type": "code",
    "id": "3XFxaP0Af4Za",
    "outputId": "6b84ebf7-c96f-4ea2-f840-d158daafe91c"
   },
   "outputs": [
    {
     "data": {
      "text/plain": [
       "[<p class=\"outer-text first-item\" id=\"second\">\n",
       " <b>\n",
       "                 First outer paragraph.\n",
       "             </b>\n",
       " </p>, <p class=\"outer-text\">\n",
       " <b>\n",
       "                 Second outer paragraph.\n",
       "             </b>\n",
       " </p>]"
      ]
     },
     "execution_count": 23,
     "metadata": {},
     "output_type": "execute_result"
    }
   ],
   "source": [
    "soup.find_all(class_=\"outer-text\")"
   ]
  },
  {
   "cell_type": "markdown",
   "metadata": {
    "cell_id": "7d3e38c8531545539b5642d98e0b8f9e",
    "deepnote_app_coordinates": {
     "h": 5,
     "w": 12,
     "x": 0,
     "y": 559
    },
    "deepnote_cell_type": "markdown",
    "id": "hVC42DTcf_fC"
   },
   "source": [
    "We can also search for elements by id:"
   ]
  },
  {
   "cell_type": "code",
   "execution_count": null,
   "metadata": {
    "cell_id": "55f21cffa53f45598bbfef40455e9ea6",
    "colab": {
     "base_uri": "https://localhost:8080/"
    },
    "deepnote_app_coordinates": {
     "h": 5,
     "w": 12,
     "x": 0,
     "y": 565
    },
    "deepnote_cell_type": "code",
    "id": "4fuFiYgxf_7c",
    "outputId": "0d7d74a2-858a-4588-f216-608f668dc84d"
   },
   "outputs": [
    {
     "data": {
      "text/plain": [
       "[<p class=\"inner-text first-item\" id=\"first\">\n",
       "                 First paragraph.\n",
       "             </p>]"
      ]
     },
     "execution_count": 24,
     "metadata": {},
     "output_type": "execute_result"
    }
   ],
   "source": [
    "soup.find_all(id=\"first\")"
   ]
  },
  {
   "cell_type": "markdown",
   "metadata": {
    "cell_id": "dc692a4ec061488480b6b21aa956008b",
    "deepnote_app_coordinates": {
     "h": 5,
     "w": 12,
     "x": 0,
     "y": 571
    },
    "deepnote_cell_type": "markdown",
    "id": "ZFbNO_ZmgGTg"
   },
   "source": [
    "Using CSS Selectors\n",
    "\n",
    "We can also search for items using CSS selectors. These selectors are how the CSS language allows developers to specify HTML tags to style. Here are some examples:\n",
    "\n",
    "*  p a — finds all a tags inside of a p tag.\n",
    "*  body p a — finds all a tags inside of a p tag inside of a body tag.\n",
    "*  html body — finds all body tags inside of an html tag.\n",
    "*  p.outer-text — finds all p tags with a class of outer-text.\n",
    "*  p#first — finds all p tags with an id of first.\n",
    "*  body p.outer-text — finds any p tags with a class of outer-text inside of a body tag."
   ]
  },
  {
   "cell_type": "markdown",
   "metadata": {
    "cell_id": "b179313564a14e04ab3259a4ca6ebec0",
    "deepnote_app_coordinates": {
     "h": 5,
     "w": 12,
     "x": 0,
     "y": 577
    },
    "deepnote_cell_type": "markdown",
    "id": "RJeoxfHigSOP"
   },
   "source": [
    "BeautifulSoup objects support searching a page via CSS selectors using the select method. We can use CSS selectors to find all the p tags in our page that are inside of a div like this:"
   ]
  },
  {
   "cell_type": "code",
   "execution_count": null,
   "metadata": {
    "cell_id": "c3a9c856762b40a28ac0c35af2419b90",
    "colab": {
     "base_uri": "https://localhost:8080/"
    },
    "deepnote_app_coordinates": {
     "h": 5,
     "w": 12,
     "x": 0,
     "y": 583
    },
    "deepnote_cell_type": "code",
    "id": "1TpcrZg1gS-K",
    "outputId": "17b04bf2-2225-42c6-c80d-4e5a18f40050"
   },
   "outputs": [
    {
     "data": {
      "text/plain": [
       "[<p class=\"inner-text first-item\" id=\"first\">\n",
       "                 First paragraph.\n",
       "             </p>, <p class=\"inner-text\">\n",
       "                 Second paragraph.\n",
       "             </p>]"
      ]
     },
     "execution_count": 25,
     "metadata": {},
     "output_type": "execute_result"
    }
   ],
   "source": [
    "soup.select(\"div p\")"
   ]
  },
  {
   "cell_type": "markdown",
   "metadata": {
    "cell_id": "12b17b4d605048c1835b08c2ec0b9eff",
    "deepnote_app_coordinates": {
     "h": 5,
     "w": 12,
     "x": 0,
     "y": 589
    },
    "deepnote_cell_type": "markdown",
    "id": "yLcZLd7ygXu5"
   },
   "source": [
    "Note that the select method above returns a list of BeautifulSoup objects, just like find and find_all."
   ]
  },
  {
   "cell_type": "markdown",
   "metadata": {
    "cell_id": "3dc8f9cdc2c140f9b9eb600fe48c1316",
    "deepnote_app_coordinates": {
     "h": 5,
     "w": 12,
     "x": 0,
     "y": 595
    },
    "deepnote_cell_type": "markdown",
    "id": "nSkNNdjljrRk"
   },
   "source": [
    "## Case study: Weather!"
   ]
  },
  {
   "cell_type": "markdown",
   "metadata": {
    "cell_id": "1d63b94dad3c437a86c99c334f3abf84",
    "deepnote_app_coordinates": {
     "h": 5,
     "w": 12,
     "x": 0,
     "y": 601
    },
    "deepnote_cell_type": "markdown",
    "id": "fPMMZ6bYgaK9"
   },
   "source": [
    "### Downloading weather data\n",
    "\n",
    "We now know enough to proceed with extracting information about the local weather from the National Weather Service website!\n",
    "\n",
    "The local weather of Boulder, CO is: https://forecast.weather.gov/MapClick.php?lat=40.0466&lon=-105.2523#.YwpRBy2B1f0\n",
    "\n",
    "Time to Start Scraping!"
   ]
  },
  {
   "cell_type": "markdown",
   "metadata": {
    "cell_id": "ae0c5dacf85f415fb7940707f56603b4",
    "deepnote_app_coordinates": {
     "h": 5,
     "w": 12,
     "x": 0,
     "y": 607
    },
    "deepnote_cell_type": "markdown",
    "id": "El_nne8hiOji"
   },
   "source": [
    "We now know enough to download the page and start parsing it. In the below code, we will:\n",
    "\n",
    "*  Download the web page containing the forecast.\n",
    "*  Create a BeautifulSoup class to parse the page.\n",
    "*  Find the div with id seven-day-forecast, and assign to seven_day\n",
    "*  Inside seven_day, find each individual forecast item.\n",
    "Extract and print the first forecast item.\n"
   ]
  },
  {
   "cell_type": "code",
   "execution_count": null,
   "metadata": {
    "cell_id": "75bab851172448e488b326867e1aaba8",
    "colab": {
     "base_uri": "https://localhost:8080/"
    },
    "deepnote_app_coordinates": {
     "h": 5,
     "w": 12,
     "x": 0,
     "y": 613
    },
    "deepnote_cell_type": "code",
    "deepnote_to_be_reexecuted": false,
    "execution_millis": 1121,
    "execution_start": 1661620601128,
    "id": "Ki5gXH1Ri9fV",
    "outputId": "be1f5cae-945b-4d8c-a3f9-dbf66e84e444",
    "source_hash": "4eba753d"
   },
   "outputs": [
    {
     "name": "stdout",
     "output_type": "stream",
     "text": [
      "[<div class=\"tombstone-container\">\n",
      "<p class=\"period-name\">Today<br/><br/></p>\n",
      "<p><img alt=\"Today: Sunny, with a high near 88. Northwest wind 9 to 13 mph, with gusts as high as 21 mph. \" class=\"forecast-icon\" src=\"newimages/medium/few.png\" title=\"Today: Sunny, with a high near 88. Northwest wind 9 to 13 mph, with gusts as high as 21 mph. \"/></p><p class=\"short-desc\">Sunny</p><p class=\"temp temp-high\">High: 88 °F</p></div>, <div class=\"tombstone-container\">\n",
      "<p class=\"period-name\">Tonight<br/><br/></p>\n",
      "<p><img alt=\"Tonight: Mostly clear, with a low around 59. Northeast wind 8 to 10 mph becoming southwest in the evening. Winds could gust as high as 16 mph. \" class=\"forecast-icon\" src=\"newimages/medium/nfew.png\" title=\"Tonight: Mostly clear, with a low around 59. Northeast wind 8 to 10 mph becoming southwest in the evening. Winds could gust as high as 16 mph. \"/></p><p class=\"short-desc\">Mostly Clear</p><p class=\"temp temp-low\">Low: 59 °F</p></div>, <div class=\"tombstone-container\">\n",
      "<p class=\"period-name\">Sunday<br/><br/></p>\n",
      "<p><img alt=\"Sunday: A 20 percent chance of showers and thunderstorms after 1pm.  Mostly sunny, with a high near 88. West southwest wind 6 to 13 mph, with gusts as high as 20 mph. \" class=\"forecast-icon\" src=\"DualImage.php?i=few&amp;j=hi_tsra&amp;jp=20\" title=\"Sunday: A 20 percent chance of showers and thunderstorms after 1pm.  Mostly sunny, with a high near 88. West southwest wind 6 to 13 mph, with gusts as high as 20 mph. \"/></p><p class=\"short-desc\">Sunny then<br/>Slight Chance<br/>T-storms</p><p class=\"temp temp-high\">High: 88 °F</p></div>, <div class=\"tombstone-container\">\n",
      "<p class=\"period-name\">Sunday<br/>Night</p>\n",
      "<p><img alt=\"Sunday Night: A 20 percent chance of showers and thunderstorms before 7pm.  Partly cloudy, with a low around 57. West wind 5 to 11 mph, with gusts as high as 17 mph. \" class=\"forecast-icon\" src=\"DualImage.php?i=nscttsra&amp;j=nfew&amp;ip=20\" title=\"Sunday Night: A 20 percent chance of showers and thunderstorms before 7pm.  Partly cloudy, with a low around 57. West wind 5 to 11 mph, with gusts as high as 17 mph. \"/></p><p class=\"short-desc\">Slight Chance<br/>T-storms then<br/>Mostly Clear</p><p class=\"temp temp-low\">Low: 57 °F</p></div>, <div class=\"tombstone-container\">\n",
      "<p class=\"period-name\">Monday<br/><br/></p>\n",
      "<p><img alt=\"Monday: Sunny, with a high near 87. Light and variable wind becoming east 5 to 7 mph in the afternoon. \" class=\"forecast-icon\" src=\"newimages/medium/few.png\" title=\"Monday: Sunny, with a high near 87. Light and variable wind becoming east 5 to 7 mph in the afternoon. \"/></p><p class=\"short-desc\">Sunny</p><p class=\"temp temp-high\">High: 87 °F</p></div>, <div class=\"tombstone-container\">\n",
      "<p class=\"period-name\">Monday<br/>Night</p>\n",
      "<p><img alt=\"Monday Night: Mostly clear, with a low around 58.\" class=\"forecast-icon\" src=\"newimages/medium/nfew.png\" title=\"Monday Night: Mostly clear, with a low around 58.\"/></p><p class=\"short-desc\">Mostly Clear</p><p class=\"temp temp-low\">Low: 58 °F</p></div>, <div class=\"tombstone-container\">\n",
      "<p class=\"period-name\">Tuesday<br/><br/></p>\n",
      "<p><img alt=\"Tuesday: A 10 percent chance of showers and thunderstorms after 1pm.  Sunny, with a high near 89.\" class=\"forecast-icon\" src=\"DualImage.php?i=few&amp;j=hi_tsra&amp;jp=10\" title=\"Tuesday: A 10 percent chance of showers and thunderstorms after 1pm.  Sunny, with a high near 89.\"/></p><p class=\"short-desc\">Sunny then<br/>Slight Chance<br/>T-storms</p><p class=\"temp temp-high\">High: 89 °F</p></div>, <div class=\"tombstone-container\">\n",
      "<p class=\"period-name\">Tuesday<br/>Night</p>\n",
      "<p><img alt=\"Tuesday Night: A slight chance of showers and thunderstorms before 1am.  Partly cloudy, with a low around 60.\" class=\"forecast-icon\" src=\"newimages/medium/hi_ntsra.png\" title=\"Tuesday Night: A slight chance of showers and thunderstorms before 1am.  Partly cloudy, with a low around 60.\"/></p><p class=\"short-desc\">Slight Chance<br/>T-storms</p><p class=\"temp temp-low\">Low: 60 °F</p></div>, <div class=\"tombstone-container\">\n",
      "<p class=\"period-name\">Wednesday<br/><br/></p>\n",
      "<p><img alt=\"Wednesday: A slight chance of showers and thunderstorms after 1pm.  Mostly sunny, with a high near 86.\" class=\"forecast-icon\" src=\"DualImage.php?i=few&amp;j=hi_tsra&amp;jp=0\" title=\"Wednesday: A slight chance of showers and thunderstorms after 1pm.  Mostly sunny, with a high near 86.\"/></p><p class=\"short-desc\">Sunny then<br/>Slight Chance<br/>T-storms</p><p class=\"temp temp-high\">High: 86 °F</p></div>]\n"
     ]
    }
   ],
   "source": [
    "import requests\n",
    "from bs4 import BeautifulSoup\n",
    "\n",
    "page = requests.get(\"https://forecast.weather.gov/MapClick.php?lat=40.0466&lon=-105.2523#.YwpRBy2B1f0\")\n",
    "soup = BeautifulSoup(page.content, 'html.parser')\n",
    "seven_day = soup.find(id=\"seven-day-forecast\")\n",
    "forecast_items = seven_day.find_all(class_=\"tombstone-container\")\n",
    "print(forecast_items)"
   ]
  },
  {
   "cell_type": "code",
   "execution_count": null,
   "metadata": {
    "cell_id": "7e85cc5682f64878b17fa462b94e41f1",
    "colab": {
     "base_uri": "https://localhost:8080/"
    },
    "deepnote_app_coordinates": {
     "h": 5,
     "w": 12,
     "x": 0,
     "y": 619
    },
    "deepnote_cell_type": "code",
    "deepnote_to_be_reexecuted": false,
    "execution_millis": 11,
    "execution_start": 1661620629617,
    "id": "Qo7-VB5BjWX6",
    "outputId": "1dcd8848-eb1a-4188-f9de-f0c92e0949c3",
    "source_hash": "dab7524f"
   },
   "outputs": [
    {
     "name": "stdout",
     "output_type": "stream",
     "text": [
      "<div class=\"tombstone-container\">\n",
      " <p class=\"period-name\">\n",
      "  Today\n",
      "  <br/>\n",
      "  <br/>\n",
      " </p>\n",
      " <p>\n",
      "  <img alt=\"Today: Sunny, with a high near 88. Northwest wind 9 to 13 mph, with gusts as high as 21 mph. \" class=\"forecast-icon\" src=\"newimages/medium/few.png\" title=\"Today: Sunny, with a high near 88. Northwest wind 9 to 13 mph, with gusts as high as 21 mph. \"/>\n",
      " </p>\n",
      " <p class=\"short-desc\">\n",
      "  Sunny\n",
      " </p>\n",
      " <p class=\"temp temp-high\">\n",
      "  High: 88 °F\n",
      " </p>\n",
      "</div>\n"
     ]
    }
   ],
   "source": [
    "tonight = forecast_items[0]\n",
    "print(tonight.prettify())"
   ]
  },
  {
   "cell_type": "markdown",
   "metadata": {
    "cell_id": "772a8431c20c4a47b813739848326f75",
    "deepnote_app_coordinates": {
     "h": 5,
     "w": 12,
     "x": 0,
     "y": 625
    },
    "deepnote_cell_type": "markdown",
    "id": "hLFpL7IMjwl7"
   },
   "source": [
    "### Extracting information of tonight\n",
    "\n",
    "As we can see, inside the forecast item tonight is all the information we want. There are four pieces of information we can extract:\n",
    "\n",
    "*  The name of the forecast item — in this case, Tonight.\n",
    "*  The description of the conditions — this is stored in the title property of img.\n",
    "*  A short description of the conditions — in this case, Sunny and hot.\n",
    "*  The temperature hight — in this case, 98 degrees.\n"
   ]
  },
  {
   "cell_type": "markdown",
   "metadata": {
    "cell_id": "078162c8e26846f1ae16aa32e0e3da18",
    "deepnote_app_coordinates": {
     "h": 5,
     "w": 12,
     "x": 0,
     "y": 631
    },
    "deepnote_cell_type": "markdown",
    "id": "fLR0a_e3kHjf"
   },
   "source": [
    "We’ll extract the name of the forecast item, the short description, and the temperature first, since they’re all similar:"
   ]
  },
  {
   "cell_type": "code",
   "execution_count": null,
   "metadata": {
    "cell_id": "5871e03b82c8410f81e39be0cb44af5a",
    "colab": {
     "base_uri": "https://localhost:8080/"
    },
    "deepnote_app_coordinates": {
     "h": 5,
     "w": 12,
     "x": 0,
     "y": 637
    },
    "deepnote_cell_type": "code",
    "deepnote_to_be_reexecuted": false,
    "execution_millis": 11,
    "execution_start": 1661620637623,
    "id": "6fEh4HWkjmMG",
    "outputId": "4d372884-f07c-4c80-838c-3e64377a41c6",
    "source_hash": "c867f180"
   },
   "outputs": [
    {
     "name": "stdout",
     "output_type": "stream",
     "text": [
      "Today\n",
      "Sunny\n",
      "High: 88 °F\n"
     ]
    }
   ],
   "source": [
    "period = tonight.find(class_=\"period-name\").get_text()\n",
    "short_desc = tonight.find(class_=\"short-desc\").get_text()\n",
    "temp = tonight.find(class_=\"temp\").get_text()\n",
    "print(period)\n",
    "print(short_desc)\n",
    "print(temp)"
   ]
  },
  {
   "cell_type": "markdown",
   "metadata": {
    "cell_id": "2830c05480b4427eabbcee5dbbc9708c",
    "deepnote_app_coordinates": {
     "h": 5,
     "w": 12,
     "x": 0,
     "y": 643
    },
    "deepnote_cell_type": "markdown",
    "id": "eDSVw88YkMqK"
   },
   "source": [
    "Now, we can extract the title attribute from the img tag. To do this, we just treat the BeautifulSoup object like a dictionary, and pass in the attribute we want as a key:"
   ]
  },
  {
   "cell_type": "code",
   "execution_count": null,
   "metadata": {
    "cell_id": "ae73e8d20c1f49c096c278eab7ac791c",
    "colab": {
     "base_uri": "https://localhost:8080/"
    },
    "deepnote_app_coordinates": {
     "h": 5,
     "w": 12,
     "x": 0,
     "y": 649
    },
    "deepnote_cell_type": "code",
    "deepnote_to_be_reexecuted": false,
    "execution_millis": 6,
    "execution_start": 1661620643946,
    "id": "sgyrJ_GfkOeM",
    "outputId": "2f32c414-a882-4666-a11a-66c1809f2d39",
    "source_hash": "8f44e713"
   },
   "outputs": [
    {
     "name": "stdout",
     "output_type": "stream",
     "text": [
      "Today: Sunny, with a high near 88. Northwest wind 9 to 13 mph, with gusts as high as 21 mph. \n"
     ]
    }
   ],
   "source": [
    "img = tonight.find(\"img\")\n",
    "desc = img['title']\n",
    "print(desc)"
   ]
  },
  {
   "cell_type": "markdown",
   "metadata": {
    "cell_id": "d1b7b43a20e24c61813a62a5a8a93490",
    "deepnote_app_coordinates": {
     "h": 5,
     "w": 12,
     "x": 0,
     "y": 655
    },
    "deepnote_cell_type": "markdown",
    "id": "bxCv09NukUSm"
   },
   "source": [
    "### Extract all nights!\n",
    "\n",
    "Now that we know how to extract each individual piece of information, we can combine our knowledge with CSS selectors and list comprehensions to extract everything at once.\n",
    "\n",
    "In the below code, we will:\n",
    "\n",
    "Select all items with the class period-name inside an item with the class tombstone-container in seven_day.\n",
    "Use a list comprehension to call the get_text method on each BeautifulSoup object."
   ]
  },
  {
   "cell_type": "code",
   "execution_count": null,
   "metadata": {
    "cell_id": "71cd3bf6131544f3ae64d1c7f76863a5",
    "colab": {
     "base_uri": "https://localhost:8080/"
    },
    "deepnote_app_coordinates": {
     "h": 5,
     "w": 12,
     "x": 0,
     "y": 661
    },
    "deepnote_cell_type": "code",
    "deepnote_to_be_reexecuted": false,
    "execution_millis": 3,
    "execution_start": 1661620650090,
    "id": "k1lPTK_3kbMB",
    "outputId": "d359281c-3859-43a6-f813-247d73b8cb04",
    "source_hash": "59401f6e"
   },
   "outputs": [
    {
     "data": {
      "text/plain": [
       "['Today',\n",
       " 'Tonight',\n",
       " 'Sunday',\n",
       " 'SundayNight',\n",
       " 'Monday',\n",
       " 'MondayNight',\n",
       " 'Tuesday',\n",
       " 'TuesdayNight',\n",
       " 'Wednesday']"
      ]
     },
     "execution_count": 6,
     "metadata": {},
     "output_type": "execute_result"
    }
   ],
   "source": [
    "period_tags = seven_day.select(\".tombstone-container .period-name\")\n",
    "periods = [pt.get_text() for pt in period_tags]\n",
    "periods"
   ]
  },
  {
   "cell_type": "markdown",
   "metadata": {
    "cell_id": "65e54bbdad4d4e9096cb0162462ae722",
    "deepnote_app_coordinates": {
     "h": 5,
     "w": 12,
     "x": 0,
     "y": 667
    },
    "deepnote_cell_type": "markdown",
    "id": "KEOoYqutkhmo"
   },
   "source": [
    "As we can see above, our technique gets us each of the period names, in order.\n",
    "\n",
    "We can apply the same technique to get the other three fields:"
   ]
  },
  {
   "cell_type": "code",
   "execution_count": null,
   "metadata": {
    "cell_id": "e3e42d86fbdb47a6a7b0af23d22331bf",
    "colab": {
     "base_uri": "https://localhost:8080/"
    },
    "deepnote_app_coordinates": {
     "h": 5,
     "w": 12,
     "x": 0,
     "y": 673
    },
    "deepnote_cell_type": "code",
    "deepnote_to_be_reexecuted": false,
    "execution_millis": 4,
    "execution_start": 1661620655333,
    "id": "sufPJ-lWkiRq",
    "outputId": "e25b92e8-bb7b-4e0f-9254-8be9626ddbda",
    "source_hash": "68c33df"
   },
   "outputs": [
    {
     "name": "stdout",
     "output_type": "stream",
     "text": [
      "['Sunny', 'Mostly Clear', 'Sunny thenSlight ChanceT-storms', 'Slight ChanceT-storms thenMostly Clear', 'Sunny', 'Mostly Clear', 'Sunny thenSlight ChanceT-storms', 'Slight ChanceT-storms', 'Sunny thenSlight ChanceT-storms']\n",
      "['High: 88 °F', 'Low: 59 °F', 'High: 88 °F', 'Low: 57 °F', 'High: 87 °F', 'Low: 58 °F', 'High: 89 °F', 'Low: 60 °F', 'High: 86 °F']\n",
      "['Today: Sunny, with a high near 88. Northwest wind 9 to 13 mph, with gusts as high as 21 mph. ', 'Tonight: Mostly clear, with a low around 59. Northeast wind 8 to 10 mph becoming southwest in the evening. Winds could gust as high as 16 mph. ', 'Sunday: A 20 percent chance of showers and thunderstorms after 1pm.  Mostly sunny, with a high near 88. West southwest wind 6 to 13 mph, with gusts as high as 20 mph. ', 'Sunday Night: A 20 percent chance of showers and thunderstorms before 7pm.  Partly cloudy, with a low around 57. West wind 5 to 11 mph, with gusts as high as 17 mph. ', 'Monday: Sunny, with a high near 87. Light and variable wind becoming east 5 to 7 mph in the afternoon. ', 'Monday Night: Mostly clear, with a low around 58.', 'Tuesday: A 10 percent chance of showers and thunderstorms after 1pm.  Sunny, with a high near 89.', 'Tuesday Night: A slight chance of showers and thunderstorms before 1am.  Partly cloudy, with a low around 60.', 'Wednesday: A slight chance of showers and thunderstorms after 1pm.  Mostly sunny, with a high near 86.']\n"
     ]
    }
   ],
   "source": [
    "short_descs = [sd.get_text() for sd in seven_day.select(\".tombstone-container .short-desc\")]\n",
    "temps = [t.get_text() for t in seven_day.select(\".tombstone-container .temp\")]\n",
    "descs = [d[\"title\"] for d in seven_day.select(\".tombstone-container img\")]\n",
    "\n",
    "print(short_descs)\n",
    "print(temps)\n",
    "print(descs)"
   ]
  },
  {
   "cell_type": "markdown",
   "metadata": {
    "cell_id": "e320491f0cd149f4963247e7ecaa9915",
    "deepnote_app_coordinates": {
     "h": 5,
     "w": 12,
     "x": 0,
     "y": 679
    },
    "deepnote_cell_type": "markdown",
    "id": "OC3St8YOk1kg"
   },
   "source": [
    "### Deal with data\n",
    "\n",
    "We can now combine the data into a Pandas DataFrame and analyze it. A DataFrame is an object that can store tabular data, making data analysis easy. If you want to learn more about Pandas, check out our free to start course here.\n",
    "\n",
    "In order to do this, we’ll call the DataFrame class, and pass in each list of items that we have. We pass them in as part of a dictionary.\n",
    "\n",
    "Each dictionary key will become a column in the DataFrame, and each list will become the values in the column:"
   ]
  },
  {
   "cell_type": "code",
   "execution_count": null,
   "metadata": {
    "cell_id": "3b7ec45fb65d424dad996810fae9d816",
    "colab": {
     "base_uri": "https://localhost:8080/",
     "height": 354
    },
    "deepnote_app_coordinates": {
     "h": 5,
     "w": 12,
     "x": 0,
     "y": 685
    },
    "deepnote_cell_type": "code",
    "deepnote_to_be_reexecuted": false,
    "execution_millis": 16,
    "execution_start": 1661620662982,
    "id": "vlwoYt3zlEm7",
    "outputId": "66dea857-5577-4f95-bf00-eb929471b85e",
    "source_hash": "222dcc28"
   },
   "outputs": [
    {
     "data": {
      "application/vnd.deepnote.dataframe.v3+json": {
       "column_count": 4,
       "columns": [
        {
         "dtype": "object",
         "name": "period",
         "stats": {
          "categories": [
           {
            "count": 1,
            "name": "Today"
           },
           {
            "count": 1,
            "name": "Tonight"
           },
           {
            "count": 7,
            "name": "7 others"
           }
          ],
          "nan_count": 0,
          "unique_count": 9
         }
        },
        {
         "dtype": "object",
         "name": "short_desc",
         "stats": {
          "categories": [
           {
            "count": 3,
            "name": "Sunny thenSlight ChanceT-storms"
           },
           {
            "count": 2,
            "name": "Sunny"
           },
           {
            "count": 4,
            "name": "3 others"
           }
          ],
          "nan_count": 0,
          "unique_count": 5
         }
        },
        {
         "dtype": "object",
         "name": "temp",
         "stats": {
          "categories": [
           {
            "count": 2,
            "name": "High: 88 °F"
           },
           {
            "count": 1,
            "name": "Low: 59 °F"
           },
           {
            "count": 6,
            "name": "6 others"
           }
          ],
          "nan_count": 0,
          "unique_count": 8
         }
        },
        {
         "dtype": "object",
         "name": "desc",
         "stats": {
          "categories": [
           {
            "count": 1,
            "name": "Today: Sunny, with a high near 88. Northwest wind 9 to 13 mph, with gusts as high as 21 mph. "
           },
           {
            "count": 1,
            "name": "Tonight: Mostly clear, with a low around 59. Northeast wind 8 to 10 mph becoming southwest in the evening. Winds could gust as high as 16 mph. "
           },
           {
            "count": 7,
            "name": "7 others"
           }
          ],
          "nan_count": 0,
          "unique_count": 9
         }
        },
        {
         "dtype": "int64",
         "name": "_deepnote_index_column"
        }
       ],
       "row_count": 9,
       "rows": [
        {
         "_deepnote_index_column": 0,
         "desc": "Today: Sunny, with a high near 88. Northwest wind 9 to 13 mph, with gusts as high as 21 mph. ",
         "period": "Today",
         "short_desc": "Sunny",
         "temp": "High: 88 °F"
        },
        {
         "_deepnote_index_column": 1,
         "desc": "Tonight: Mostly clear, with a low around 59. Northeast wind 8 to 10 mph becoming southwest in the evening. Winds could gust as high as 16 mph. ",
         "period": "Tonight",
         "short_desc": "Mostly Clear",
         "temp": "Low: 59 °F"
        },
        {
         "_deepnote_index_column": 2,
         "desc": "Sunday: A 20 percent chance of showers and thunderstorms after 1pm.  Mostly sunny, with a high near 88. West southwest wind 6 to 13 mph, with gusts as high as 20 mph. ",
         "period": "Sunday",
         "short_desc": "Sunny thenSlight ChanceT-storms",
         "temp": "High: 88 °F"
        },
        {
         "_deepnote_index_column": 3,
         "desc": "Sunday Night: A 20 percent chance of showers and thunderstorms before 7pm.  Partly cloudy, with a low around 57. West wind 5 to 11 mph, with gusts as high as 17 mph. ",
         "period": "SundayNight",
         "short_desc": "Slight ChanceT-storms thenMostly Clear",
         "temp": "Low: 57 °F"
        },
        {
         "_deepnote_index_column": 4,
         "desc": "Monday: Sunny, with a high near 87. Light and variable wind becoming east 5 to 7 mph in the afternoon. ",
         "period": "Monday",
         "short_desc": "Sunny",
         "temp": "High: 87 °F"
        },
        {
         "_deepnote_index_column": 5,
         "desc": "Monday Night: Mostly clear, with a low around 58.",
         "period": "MondayNight",
         "short_desc": "Mostly Clear",
         "temp": "Low: 58 °F"
        },
        {
         "_deepnote_index_column": 6,
         "desc": "Tuesday: A 10 percent chance of showers and thunderstorms after 1pm.  Sunny, with a high near 89.",
         "period": "Tuesday",
         "short_desc": "Sunny thenSlight ChanceT-storms",
         "temp": "High: 89 °F"
        },
        {
         "_deepnote_index_column": 7,
         "desc": "Tuesday Night: A slight chance of showers and thunderstorms before 1am.  Partly cloudy, with a low around 60.",
         "period": "TuesdayNight",
         "short_desc": "Slight ChanceT-storms",
         "temp": "Low: 60 °F"
        },
        {
         "_deepnote_index_column": 8,
         "desc": "Wednesday: A slight chance of showers and thunderstorms after 1pm.  Mostly sunny, with a high near 86.",
         "period": "Wednesday",
         "short_desc": "Sunny thenSlight ChanceT-storms",
         "temp": "High: 86 °F"
        }
       ]
      },
      "text/html": [
       "<div>\n",
       "<style scoped>\n",
       "    .dataframe tbody tr th:only-of-type {\n",
       "        vertical-align: middle;\n",
       "    }\n",
       "\n",
       "    .dataframe tbody tr th {\n",
       "        vertical-align: top;\n",
       "    }\n",
       "\n",
       "    .dataframe thead th {\n",
       "        text-align: right;\n",
       "    }\n",
       "</style>\n",
       "<table border=\"1\" class=\"dataframe\">\n",
       "  <thead>\n",
       "    <tr style=\"text-align: right;\">\n",
       "      <th></th>\n",
       "      <th>period</th>\n",
       "      <th>short_desc</th>\n",
       "      <th>temp</th>\n",
       "      <th>desc</th>\n",
       "    </tr>\n",
       "  </thead>\n",
       "  <tbody>\n",
       "    <tr>\n",
       "      <th>0</th>\n",
       "      <td>Today</td>\n",
       "      <td>Sunny</td>\n",
       "      <td>High: 88 °F</td>\n",
       "      <td>Today: Sunny, with a high near 88. Northwest w...</td>\n",
       "    </tr>\n",
       "    <tr>\n",
       "      <th>1</th>\n",
       "      <td>Tonight</td>\n",
       "      <td>Mostly Clear</td>\n",
       "      <td>Low: 59 °F</td>\n",
       "      <td>Tonight: Mostly clear, with a low around 59. N...</td>\n",
       "    </tr>\n",
       "    <tr>\n",
       "      <th>2</th>\n",
       "      <td>Sunday</td>\n",
       "      <td>Sunny thenSlight ChanceT-storms</td>\n",
       "      <td>High: 88 °F</td>\n",
       "      <td>Sunday: A 20 percent chance of showers and thu...</td>\n",
       "    </tr>\n",
       "    <tr>\n",
       "      <th>3</th>\n",
       "      <td>SundayNight</td>\n",
       "      <td>Slight ChanceT-storms thenMostly Clear</td>\n",
       "      <td>Low: 57 °F</td>\n",
       "      <td>Sunday Night: A 20 percent chance of showers a...</td>\n",
       "    </tr>\n",
       "    <tr>\n",
       "      <th>4</th>\n",
       "      <td>Monday</td>\n",
       "      <td>Sunny</td>\n",
       "      <td>High: 87 °F</td>\n",
       "      <td>Monday: Sunny, with a high near 87. Light and ...</td>\n",
       "    </tr>\n",
       "    <tr>\n",
       "      <th>5</th>\n",
       "      <td>MondayNight</td>\n",
       "      <td>Mostly Clear</td>\n",
       "      <td>Low: 58 °F</td>\n",
       "      <td>Monday Night: Mostly clear, with a low around 58.</td>\n",
       "    </tr>\n",
       "    <tr>\n",
       "      <th>6</th>\n",
       "      <td>Tuesday</td>\n",
       "      <td>Sunny thenSlight ChanceT-storms</td>\n",
       "      <td>High: 89 °F</td>\n",
       "      <td>Tuesday: A 10 percent chance of showers and th...</td>\n",
       "    </tr>\n",
       "    <tr>\n",
       "      <th>7</th>\n",
       "      <td>TuesdayNight</td>\n",
       "      <td>Slight ChanceT-storms</td>\n",
       "      <td>Low: 60 °F</td>\n",
       "      <td>Tuesday Night: A slight chance of showers and ...</td>\n",
       "    </tr>\n",
       "    <tr>\n",
       "      <th>8</th>\n",
       "      <td>Wednesday</td>\n",
       "      <td>Sunny thenSlight ChanceT-storms</td>\n",
       "      <td>High: 86 °F</td>\n",
       "      <td>Wednesday: A slight chance of showers and thun...</td>\n",
       "    </tr>\n",
       "  </tbody>\n",
       "</table>\n",
       "</div>"
      ],
      "text/plain": [
       "         period                              short_desc         temp  \\\n",
       "0         Today                                   Sunny  High: 88 °F   \n",
       "1       Tonight                            Mostly Clear   Low: 59 °F   \n",
       "2        Sunday         Sunny thenSlight ChanceT-storms  High: 88 °F   \n",
       "3   SundayNight  Slight ChanceT-storms thenMostly Clear   Low: 57 °F   \n",
       "4        Monday                                   Sunny  High: 87 °F   \n",
       "5   MondayNight                            Mostly Clear   Low: 58 °F   \n",
       "6       Tuesday         Sunny thenSlight ChanceT-storms  High: 89 °F   \n",
       "7  TuesdayNight                   Slight ChanceT-storms   Low: 60 °F   \n",
       "8     Wednesday         Sunny thenSlight ChanceT-storms  High: 86 °F   \n",
       "\n",
       "                                                desc  \n",
       "0  Today: Sunny, with a high near 88. Northwest w...  \n",
       "1  Tonight: Mostly clear, with a low around 59. N...  \n",
       "2  Sunday: A 20 percent chance of showers and thu...  \n",
       "3  Sunday Night: A 20 percent chance of showers a...  \n",
       "4  Monday: Sunny, with a high near 87. Light and ...  \n",
       "5  Monday Night: Mostly clear, with a low around 58.  \n",
       "6  Tuesday: A 10 percent chance of showers and th...  \n",
       "7  Tuesday Night: A slight chance of showers and ...  \n",
       "8  Wednesday: A slight chance of showers and thun...  "
      ]
     },
     "execution_count": 8,
     "metadata": {},
     "output_type": "execute_result"
    }
   ],
   "source": [
    "import pandas as pd\n",
    "weather = pd.DataFrame({\n",
    "    \"period\": periods,\n",
    "    \"short_desc\": short_descs,\n",
    "    \"temp\": temps,\n",
    "    \"desc\":descs\n",
    "})\n",
    "weather"
   ]
  },
  {
   "cell_type": "markdown",
   "metadata": {
    "cell_id": "2818b40ecc4c4e59abdcf2ce2c44a36c",
    "deepnote_app_coordinates": {
     "h": 2,
     "w": 8,
     "x": 0,
     "y": 691
    },
    "deepnote_cell_type": "text-cell-p",
    "formattedRanges": [],
    "id": "ED6QmmQlVDmi",
    "is_collapsed": false,
    "tags": []
   },
   "source": [
    "Now let's save it to CSV."
   ]
  },
  {
   "cell_type": "code",
   "execution_count": null,
   "metadata": {
    "cell_id": "b4c4cff8b62b42a089819ef14a7d2ba1",
    "deepnote_app_coordinates": {
     "h": 5,
     "w": 12,
     "x": 0,
     "y": 694
    },
    "deepnote_cell_type": "code",
    "deepnote_to_be_reexecuted": false,
    "execution_millis": 5,
    "execution_start": 1661620795386,
    "id": "GpmeffnuVDmi",
    "source_hash": "482a4e81",
    "tags": []
   },
   "outputs": [],
   "source": [
    "weather.to_csv('data/Boulder_Weather_7_Days.csv')"
   ]
  },
  {
   "cell_type": "markdown",
   "metadata": {
    "cell_id": "d52076801fc542f3a50a21899139212d",
    "deepnote_app_coordinates": {
     "h": 5,
     "w": 12,
     "x": 0,
     "y": 700
    },
    "deepnote_cell_type": "markdown",
    "id": "r_5ElbUXUomJ"
   },
   "source": [
    "## Case study: MSDS Faculty"
   ]
  },
  {
   "cell_type": "markdown",
   "metadata": {
    "cell_id": "422bcb358f2b43428cd7c3972c7fdec5",
    "deepnote_app_coordinates": {
     "h": 5,
     "w": 12,
     "x": 0,
     "y": 706
    },
    "deepnote_cell_type": "markdown",
    "id": "08YnfLcCUomM"
   },
   "source": [
    "### Downloading the faculty data"
   ]
  },
  {
   "cell_type": "code",
   "execution_count": null,
   "metadata": {
    "cell_id": "4a6a891f7c3f477d84a05d114b3c9217",
    "deepnote_app_coordinates": {
     "h": 5,
     "w": 12,
     "x": 0,
     "y": 712
    },
    "deepnote_cell_type": "code",
    "deepnote_to_be_reexecuted": false,
    "execution_millis": 396,
    "execution_start": 1661570369682,
    "id": "BLNvRWMNUomN",
    "outputId": "2a066cbb-7e25-45e8-ecfb-b9745e081572",
    "source_hash": "d443700b"
   },
   "outputs": [
    {
     "name": "stdout",
     "output_type": "stream",
     "text": [
      "<!DOCTYPE html>\n",
      "<!--[if IEMobile 7]><html class=\"iem7\"  lang=\"en\" dir=\"ltr\"><![endif]-->\n",
      "<!--[if lte IE 6]><html class=\"lt-ie9 lt-ie8 lt-ie7\"  lang=\"en\" dir=\"ltr\"><![endif]-->\n",
      "<!--[if (IE 7)&(!IEMobile)]><html class=\"lt-ie9 lt-ie8\"  lang=\"en\" dir=\"ltr\"><![endif]-->\n",
      "<!--[if IE 8]><html class=\"lt-ie9\"  lang=\"en\" dir=\"ltr\"><![endif]-->\n",
      "<!--[if (gte IE 9)|(gt IEMobile 7)]><!--><html  lang=\"en\" dir=\"ltr\"\n",
      "  xmlns:og=\"http://ogp.me/ns#\"><!--<![endif]-->\n",
      "\n",
      "<head>\n",
      "  <meta http-equiv=\"Content-Type\" content=\"text/html; charset=utf-8\" />\n",
      "<link rel=\"shortcut icon\" href=\"https://www.colorado.edu/program/data-science/profiles/express/themes/cumodern/favicon.ico\" type=\"image/vnd.microsoft.icon\" />\n",
      "<link href=\"https://www.colorado.edu/program/data-science/feed/rss.xml\" rel=\"alternate\" />\n",
      "<meta http-equiv=\"X-UA-Compatible\" content=\"IE=edge\" />\n",
      "<link rel=\"apple-touch-icon\" sizes=\"57x57\" href=\"https://www.colorado.edu/program/data-science/profiles/express/themes/ucb/apple-icon-57x57.png\" />\n",
      "<link rel=\"apple-touch-icon\" sizes=\"72x72\" href=\"https://www.colorado.edu/program/data-science/profiles/express/themes/ucb/apple-icon-72x72.png\" />\n",
      "<link rel=\"apple-touch-icon\" sizes=\"114x114\" href=\"https://www.colorado.edu/program/data-science/profiles/express/themes/ucb/apple-icon-114x114.png\" />\n",
      "<link rel=\"apple-touch-icon\" sizes=\"144x144\" href=\"https://www.colorado.edu/program/data-science/profiles/express/themes/ucb/apple-icon-144x144.png\" />\n",
      "<link href=\"//fonts.googleapis.com\" rel=\"preconnect\" />\n",
      "<meta name=\"description\" content=\"The MS-DS is a truly interdisciplinary program, with faculty in Computer Science, Applied Mathematics, Information Science, and more. Data science faculty members are housed in Applied Mathematics, Computer Science, Information Science, and other departments across campus.    \" />\n",
      "<link href=\"//fonts.gstatic.com\" rel=\"preconnect\" crossorigin=\"\" />\n",
      "<link href=\"//fonts.googleapis.com/css2?family=Roboto+Condensed:wght@700&amp;family=Roboto:wght@400;700&amp;display=swap\" rel=\"stylesheet\" type=\"text/css\" />\n",
      "<meta name=\"generator\" content=\"Drupal 7 (https://www.drupal.org)\" />\n",
      "<link rel=\"canonical\" href=\"https://www.colorado.edu/program/data-science/faculty\" />\n",
      "<link rel=\"shortlink\" href=\"https://www.colorado.edu/program/data-science/node/169\" />\n",
      "<meta property=\"og:site_name\" content=\"Master of Science in Data Science\" />\n",
      "<meta property=\"og:type\" content=\"article\" />\n",
      "<meta property=\"og:url\" content=\"https://www.colorado.edu/program/data-science/faculty\" />\n",
      "<meta property=\"og:title\" content=\"Our People\" />\n",
      "<meta property=\"og:description\" content=\"The MS-DS is a truly interdisciplinary program, with faculty in Computer Science, Applied Mathematics, Information Science, and more. Data science faculty members are housed in Applied Mathematics, Computer Science, Information Science, and other departments across campus.    \" />\n",
      "<meta property=\"og:updated_time\" content=\"2022-07-15T11:16:44-06:00\" />\n",
      "<meta name=\"twitter:card\" content=\"summary\" />\n",
      "<meta name=\"twitter:url\" content=\"https://www.colorado.edu/program/data-science/faculty\" />\n",
      "<meta name=\"twitter:title\" content=\"Our People\" />\n",
      "<meta name=\"twitter:description\" content=\"The MS-DS is a truly interdisciplinary program, with faculty in Computer Science, Applied Mathematics, Information Science, and more. Data science faculty members are housed in Applied Mathematics,\" />\n",
      "<meta property=\"article:published_time\" content=\"2021-03-11T10:22:39-07:00\" />\n",
      "<meta property=\"article:modified_time\" content=\"2022-07-15T11:16:44-06:00\" />\n",
      "  <title>Our People | Master of Science in Data Science | University of Colorado Boulder</title>\n",
      "\n",
      "      <meta name=\"MobileOptimized\" content=\"width\">\n",
      "    <meta name=\"HandheldFriendly\" content=\"true\">\n",
      "    <meta name=\"viewport\" content=\"width=device-width\">\n",
      "  <meta http-equiv=\"cleartype\" content=\"on\">\n",
      "\n",
      "  <style type=\"text/css\" media=\"screen\">\n",
      "@import url(\"https://www.colorado.edu/program/data-science/modules/system/system.base.css?rfpala\");\n",
      "@import url(\"https://www.colorado.edu/program/data-science/modules/system/system.menus.css?rfpala\");\n",
      "@import url(\"https://www.colorado.edu/program/data-science/modules/system/system.messages.css?rfpala\");\n",
      "@import url(\"https://www.colorado.edu/program/data-science/modules/system/system.theme.css?rfpala\");\n",
      "</style>\n",
      "<style type=\"text/css\" media=\"screen\">\n",
      "@import url(\"https://www.colorado.edu/program/data-science/profiles/express/modules/contrib/jquery_update/replace/ui/themes/base/minified/jquery.ui.core.min.css?rfpala\");\n",
      "@import url(\"https://www.colorado.edu/program/data-science/profiles/express/modules/contrib/jquery_update/replace/ui/themes/base/minified/jquery.ui.accordion.min.css?rfpala\");\n",
      "</style>\n",
      "<style type=\"text/css\" media=\"screen\">\n",
      "@import url(\"https://www.colorado.edu/program/data-science/profiles/express/modules/features/cu_article/modules/cu_article_slider/css/cu-article-slider.css?rfpala\");\n",
      "@import url(\"https://www.colorado.edu/program/data-science/profiles/express/modules/custom/cu_campus_news_bundle/cu_campus_news/css/cu-campus-news.css?rfpala\");\n",
      "@import url(\"https://www.colorado.edu/program/data-science/profiles/express/modules/custom/cu_dashboard_seo/css/cu-dashboard-seo.css?rfpala\");\n",
      "@import url(\"https://www.colorado.edu/program/data-science/profiles/express/modules/custom/cu_expandable/css/cu-expandable.css?rfpala\");\n",
      "@import url(\"https://www.colorado.edu/program/data-science/profiles/express/modules/custom/cu_inactive_users/css/cu-inactive-users.css?rfpala\");\n",
      "@import url(\"https://www.colorado.edu/program/data-science/profiles/express/modules/custom/cu_js_includes/css/cu-js-includes.css?rfpala\");\n",
      "@import url(\"https://www.colorado.edu/program/data-science/profiles/express/modules/custom/cu_profile_module_manager/css/cu-profile-module-manager.css?rfpala\");\n",
      "@import url(\"https://www.colorado.edu/program/data-science/profiles/express/modules/features/cu_article/cu_related_articles/css/cu-related-articles.css?rfpala\");\n",
      "@import url(\"https://www.colorado.edu/program/data-science/profiles/express/modules/custom/cu_rss/css/cu-rss.css?rfpala\");\n",
      "@import url(\"https://www.colorado.edu/program/data-science/profiles/express/modules/custom/cu_share/css/cu-share.css?rfpala\");\n",
      "@import url(\"https://www.colorado.edu/program/data-science/profiles/express/modules/features/cu_wysiwyg/cu-wysiwyg.css?rfpala\");\n",
      "@import url(\"https://www.colorado.edu/program/data-science/profiles/express/modules/contrib/date/date_api/date.css?rfpala\");\n",
      "@import url(\"https://www.colorado.edu/program/data-science/profiles/express/modules/contrib/date/date_popup/themes/datepicker.1.7.css?rfpala\");\n",
      "@import url(\"https://www.colorado.edu/program/data-science/profiles/express/modules/custom/express_add_content/css/express-add-content.css?rfpala\");\n",
      "@import url(\"https://www.colorado.edu/program/data-science/profiles/express/modules/custom/express_block_designer/css/express-block-designer.css?rfpala\");\n",
      "@import url(\"https://www.colorado.edu/program/data-science/profiles/express/modules/custom/express_block_designer/modules/express_block_designer_menu/css/exbd-menu.css?rfpala\");\n",
      "@import url(\"https://www.colorado.edu/program/data-science/profiles/express/modules/custom/express_collections_bundle/css/express-collections-bundle.css?rfpala\");\n",
      "@import url(\"https://www.colorado.edu/program/data-science/profiles/express/modules/custom/express_layout/css/express-layout-admin.css?rfpala\");\n",
      "@import url(\"https://www.colorado.edu/program/data-science/profiles/express/modules/custom/express_localist_bundle/css/express-localist-bundle.css?rfpala\");\n",
      "@import url(\"https://www.colorado.edu/program/data-science/profiles/express/modules/custom/express_localist_bundle/css/express-localist-bundle-theme.css?rfpala\");\n",
      "@import url(\"https://www.colorado.edu/program/data-science/profiles/express/modules/contrib/fences/field.css?rfpala\");\n",
      "@import url(\"https://www.colorado.edu/program/data-science/profiles/express/modules/contrib/fitvids/fitvids.css?rfpala\");\n",
      "@import url(\"https://www.colorado.edu/program/data-science/profiles/express/modules/contrib/google_cse/google_cse.css?rfpala\");\n",
      "@import url(\"https://www.colorado.edu/program/data-science/modules/node/node.css?rfpala\");\n",
      "@import url(\"https://www.colorado.edu/program/data-science/profiles/express/modules/contrib/rave_alerts/css/rave_alerts.css?rfpala\");\n",
      "@import url(\"https://www.colorado.edu/program/data-science/profiles/express/modules/custom/site_navigation_menus/css/site-navigation-menus.css?rfpala\");\n",
      "@import url(\"https://www.colorado.edu/program/data-science/modules/user/user.css?rfpala\");\n",
      "@import url(\"https://www.colorado.edu/program/data-science/profiles/express/modules/contrib/video_filter/video_filter.css?rfpala\");\n",
      "@import url(\"https://www.colorado.edu/program/data-science/profiles/express/modules/contrib/views/css/views.css?rfpala\");\n",
      "@import url(\"https://www.colorado.edu/program/data-science/profiles/express/modules/custom/cu_users/css/cu-users.css?rfpala\");\n",
      "</style>\n",
      "<style type=\"text/css\" media=\"screen\">\n",
      "@import url(\"https://www.colorado.edu/program/data-science/profiles/express/modules/contrib/colorbox/styles/stockholmsyndrome/colorbox_style.css?rfpala\");\n",
      "@import url(\"https://www.colorado.edu/program/data-science/profiles/express/modules/contrib/context_accordion/context_accordion.css?rfpala\");\n",
      "@import url(\"https://www.colorado.edu/program/data-science/profiles/express/modules/contrib/ctools/css/ctools.css?rfpala\");\n",
      "@import url(\"https://www.colorado.edu/program/data-science/profiles/express/libraries/flickity/css/flickity.css?rfpala\");\n",
      "@import url(\"https://www.colorado.edu/program/data-science/profiles/express/libraries/fontawesome/css/font-awesome.min.css?rfpala\");\n",
      "@import url(\"https://www.colorado.edu/program/data-science/profiles/express/modules/contrib/files_undo_remove/files_undo_remove.css?rfpala\");\n",
      "@import url(\"https://www.colorado.edu/program/data-science/profiles/express/modules/custom/backstretch/backstretch.css?rfpala\");\n",
      "@import url(\"https://www.colorado.edu/program/data-science/profiles/express/modules/custom/cu_block_row/css/cu-block-row.css?rfpala\");\n",
      "@import url(\"https://www.colorado.edu/program/data-science/profiles/express/modules/features/cu_block_section/css/cu-block-section.css?rfpala\");\n",
      "@import url(\"https://www.colorado.edu/program/data-science/profiles/express/modules/features/cu_facebook_activity/cu_facebook_activity.css?rfpala\");\n",
      "@import url(\"https://www.colorado.edu/program/data-science/profiles/express/modules/features/cu_feature_callout/css/cu_feature_callout.css?rfpala\");\n",
      "@import url(\"https://www.colorado.edu/program/data-science/profiles/express/modules/features/cu_feature_callout/css/feature-callout-block-designer.css?rfpala\");\n",
      "@import url(\"https://www.colorado.edu/program/data-science/profiles/express/modules/custom/cu_give_buttons/styles/give-button.css?rfpala\");\n",
      "@import url(\"https://www.colorado.edu/program/data-science/profiles/express/modules/features/cu_hero_unit/css/cu_hero_unit.css?rfpala\");\n",
      "@import url(\"https://www.colorado.edu/program/data-science/profiles/express/modules/custom/cu_menu_icon/cu_menu_icon.css?rfpala\");\n",
      "@import url(\"https://www.colorado.edu/program/data-science/profiles/express/modules/custom/cu_rss_block/css/cu-rss-block.css?rfpala\");\n",
      "@import url(\"https://www.colorado.edu/program/data-science/profiles/express/modules/features/cu_search/css/cu-search.css?rfpala\");\n",
      "@import url(\"https://www.colorado.edu/program/data-science/profiles/express/modules/custom/cu_shortcodes/css/cu_shortcodes.css?rfpala\");\n",
      "@import url(\"https://www.colorado.edu/program/data-science/profiles/express/modules/custom/cu_shortcodes/css/cu-shortcodes-columns.css?rfpala\");\n",
      "@import url(\"https://www.colorado.edu/program/data-science/profiles/express/modules/custom/cu_site_info/site_info.css?rfpala\");\n",
      "@import url(\"https://www.colorado.edu/program/data-science/profiles/express/modules/features/cu_social_links/css/social_links.css?rfpala\");\n",
      "@import url(\"https://www.colorado.edu/program/data-science/profiles/express/modules/features/cu_twitter_feed/cu_twitter_feed.css?rfpala\");\n",
      "@import url(\"https://www.colorado.edu/program/data-science/profiles/express/modules/custom/cu_video_hero_unit_bundle/css/cu_video_hero_unit.css?rfpala\");\n",
      "@import url(\"https://www.colorado.edu/program/data-science/profiles/express/modules/custom/cu_video_reveal/css/cu-video-reveal.css?rfpala\");\n",
      "@import url(\"https://www.colorado.edu/program/data-science/profiles/express/modules/custom/express_layout/css/express-layout.css?rfpala\");\n",
      "@import url(\"https://www.colorado.edu/program/data-science/profiles/express/modules/custom/express_settings/css/express-settings.css?rfpala\");\n",
      "@import url(\"https://www.colorado.edu/program/data-science/profiles/express/modules/features/files/css/files.css?rfpala\");\n",
      "@import url(\"https://www.colorado.edu/program/data-science/profiles/express/modules/custom/profile_module_manager/css/profile-module-manager.css?rfpala\");\n",
      "@import url(\"https://www.colorado.edu/program/data-science/profiles/express/modules/features/cu_article/css/cu-article.css?rfpala\");\n",
      "@import url(\"https://www.colorado.edu/program/data-science/profiles/express/modules/features/cu_article/css/cu-article-grid.css?rfpala\");\n",
      "@import url(\"https://www.colorado.edu/program/data-science/profiles/express/modules/features/cu_article/css/owl.carousel.css?rfpala\");\n",
      "</style>\n",
      "<style type=\"text/css\" media=\"screen\">\n",
      "@import url(\"https://www.colorado.edu/program/data-science/profiles/express/modules/features/cu_faq/css/cu_faq.css?rfpala\");\n",
      "@import url(\"https://www.colorado.edu/program/data-science/profiles/express/modules/features/cu_page/cu-page.css?rfpala\");\n",
      "@import url(\"https://www.colorado.edu/program/data-science/profiles/express/modules/custom/express_theme_picker/express_theme_picker.css?rfpala\");\n",
      "@import url(\"https://www.colorado.edu/program/data-science/profiles/express/modules/features/people_content_type/css/people_content_type.css?rfpala\");\n",
      "@import url(\"https://www.colorado.edu/program/data-science/profiles/express/modules/features/photo_gallery/css/photo-gallery.css?rfpala\");\n",
      "@import url(\"https://www.colorado.edu/program/data-science/profiles/express/modules/custom/cu_back_to_top/cu_back_to_top.css?rfpala\");\n",
      "@import url(\"https://www.colorado.edu/program/data-science/sites/default/files/honeypot/honeypot.css?rfpala\");\n",
      "</style>\n",
      "<style type=\"text/css\" media=\"screen\">\n",
      "@import url(\"https://www.colorado.edu/program/data-science/profiles/express/themes/ucb/css/ucb.css?rfpala\");\n",
      "@import url(\"https://www.colorado.edu/program/data-science/profiles/express/themes/cumodern/css/modern-styles.css?rfpala\");\n",
      "</style>\n",
      "<style type=\"text/css\" media=\"print\">\n",
      "@import url(\"https://www.colorado.edu/program/data-science/profiles/express/themes/ucb/css/ucb-print.css?rfpala\");\n",
      "</style>\n",
      "  <script type=\"text/javascript\" defer=\"defer\" src=\"https://www.colorado.edu/program/data-science/sites/default/files/google_tag/google_tag.script.js?rfpala\"></script>\n",
      "<script type=\"text/javascript\" src=\"https://www.colorado.edu/program/data-science/profiles/express/libraries/modernizr/modernizr.min.js?rfpala\"></script>\n",
      "<script type=\"text/javascript\" src=\"https://www.colorado.edu/program/data-science/profiles/express/modules/contrib/jquery_update/replace/jquery/1.9/jquery.min.js?v=1.9.1\"></script>\n",
      "<script type=\"text/javascript\">\n",
      "<!--//--><![CDATA[//><!--\n",
      "jQuery.migrateMute=true;jQuery.migrateTrace=false;\n",
      "//--><!]]>\n",
      "</script>\n",
      "<script type=\"text/javascript\" src=\"https://www.colorado.edu/program/data-science/profiles/express/modules/contrib/jquery_update/replace/jquery-migrate/1/jquery-migrate.min.js?v=1\"></script>\n",
      "<script type=\"text/javascript\" src=\"https://www.colorado.edu/program/data-science/misc/jquery-extend-3.4.0.js?v=1.9.1\"></script>\n",
      "<script type=\"text/javascript\" src=\"https://www.colorado.edu/program/data-science/misc/jquery-html-prefilter-3.5.0-backport.js?v=1.9.1\"></script>\n",
      "<script type=\"text/javascript\" src=\"https://www.colorado.edu/program/data-science/misc/jquery.once.js?v=1.2\"></script>\n",
      "<script type=\"text/javascript\" src=\"https://www.colorado.edu/program/data-science/misc/drupal.js?rfpala\"></script>\n",
      "<script type=\"text/javascript\" src=\"https://www.colorado.edu/program/data-science/profiles/express/libraries/fitvids/jquery.fitvids.js?rfpala\"></script>\n",
      "<script type=\"text/javascript\" src=\"https://www.colorado.edu/program/data-science/profiles/express/libraries/match-height/jquery.matchHeight-min.js?rfpala\"></script>\n",
      "<script type=\"text/javascript\" src=\"https://www.colorado.edu/program/data-science/profiles/express/libraries/waypoints/waypoint.js?rfpala\"></script>\n",
      "<script type=\"text/javascript\" src=\"https://www.colorado.edu/program/data-science/profiles/express/modules/contrib/jquery_update/replace/ui/ui/minified/jquery.ui.core.min.js?v=1.10.2\"></script>\n",
      "<script type=\"text/javascript\" src=\"https://www.colorado.edu/program/data-science/profiles/express/modules/contrib/jquery_update/replace/ui/ui/minified/jquery.ui.widget.min.js?v=1.10.2\"></script>\n",
      "<script type=\"text/javascript\" src=\"https://www.colorado.edu/program/data-science/profiles/express/modules/contrib/jquery_update/replace/ui/ui/minified/jquery.ui.accordion.min.js?v=1.10.2\"></script>\n",
      "<script type=\"text/javascript\" src=\"https://www.colorado.edu/program/data-science/profiles/express/modules/features/cu_colorbox/js/cu-colorbox.js?rfpala\"></script>\n",
      "<script type=\"text/javascript\" src=\"https://www.colorado.edu/program/data-science/profiles/express/modules/custom/cu_expandable/js/expandable.plugin.js?rfpala\"></script>\n",
      "<script type=\"text/javascript\" src=\"https://www.colorado.edu/program/data-science/profiles/express/modules/custom/cu_expandable/js/cu-expandable.js?rfpala\"></script>\n",
      "<script type=\"text/javascript\" src=\"https://www.colorado.edu/program/data-science/profiles/express/modules/custom/cu_share/js/cu_share.js?rfpala\"></script>\n",
      "<script type=\"text/javascript\" src=\"https://www.colorado.edu/program/data-science/profiles/express/modules/custom/cu_video_hero_unit_bundle/js/cu-video-hero.js?rfpala\"></script>\n",
      "<script type=\"text/javascript\" src=\"https://www.colorado.edu/program/data-science/profiles/express/modules/custom/express_collections_bundle/js/express-collections-bundle.js?rfpala\"></script>\n",
      "<script type=\"text/javascript\" src=\"https://www.colorado.edu/program/data-science/profiles/express/modules/custom/express_layout/js/express-layout.js?rfpala\"></script>\n",
      "<script type=\"text/javascript\" src=\"https://www.colorado.edu/program/data-science/profiles/express/modules/contrib/fitvids/fitvids.js?rfpala\"></script>\n",
      "<script type=\"text/javascript\" src=\"https://www.colorado.edu/program/data-science/profiles/express/modules/contrib/google_cse/google_cse.js?rfpala\"></script>\n",
      "<script type=\"text/javascript\" src=\"https://www.colorado.edu/program/data-science/profiles/express/modules/custom/site_navigation_menus/js/site-navigation-menus.js?rfpala\"></script>\n",
      "<script type=\"text/javascript\" src=\"https://www.colorado.edu/program/data-science/profiles/express/libraries/colorbox/jquery.colorbox-min.js?rfpala\"></script>\n",
      "<script type=\"text/javascript\" src=\"https://www.colorado.edu/program/data-science/profiles/express/modules/contrib/colorbox/js/colorbox.js?rfpala\"></script>\n",
      "<script type=\"text/javascript\" src=\"https://www.colorado.edu/program/data-science/profiles/express/modules/contrib/colorbox/styles/stockholmsyndrome/colorbox_style.js?rfpala\"></script>\n",
      "<script type=\"text/javascript\" src=\"https://www.colorado.edu/program/data-science/profiles/express/modules/contrib/context_accordion/context_accordion.js?rfpala\"></script>\n",
      "<script type=\"text/javascript\" src=\"https://www.colorado.edu/program/data-science/profiles/express/libraries/flickity/js/flickity.pkgd.min.js?rfpala\"></script>\n",
      "<script type=\"text/javascript\" src=\"https://www.colorado.edu/program/data-science/profiles/express/modules/features/cu_article/modules/cu_article_slider/js/cu-article-slider.js?rfpala\"></script>\n",
      "<script type=\"text/javascript\" src=\"https://www.colorado.edu/program/data-science/profiles/express/modules/contrib/files_undo_remove/files_undo_remove.js?rfpala\"></script>\n",
      "<script type=\"text/javascript\" src=\"https://www.colorado.edu/program/data-science/profiles/express/libraries/backstretch/jquery.backstretch.js?rfpala\"></script>\n",
      "<script type=\"text/javascript\" src=\"https://www.colorado.edu/program/data-science/profiles/express/modules/contrib/rave_alerts/js/rave_alerts.js?rfpala\"></script>\n",
      "<script type=\"text/javascript\" src=\"https://www.colorado.edu/program/data-science/profiles/express/modules/features/cu_block_section/js/cu-block-section.js?rfpala\"></script>\n",
      "<script type=\"text/javascript\" src=\"https://www.colorado.edu/program/data-science/profiles/express/modules/features/cu_block_section/js/parallaxie.js?rfpala\"></script>\n",
      "<script type=\"text/javascript\" src=\"https://www.colorado.edu/program/data-science/profiles/express/modules/custom/cu_shortcodes/js/cu_shortcodes.js?rfpala\"></script>\n",
      "<script type=\"text/javascript\" src=\"https://www.colorado.edu/program/data-science/profiles/express/modules/custom/cu_shortcodes/js/counter.js?rfpala\"></script>\n",
      "<script type=\"text/javascript\" src=\"//www.youtube.com/iframe_api\"></script>\n",
      "<script type=\"text/javascript\" src=\"https://www.colorado.edu/program/data-science/profiles/express/modules/contrib/google_analytics/googleanalytics.js?rfpala\"></script>\n",
      "<script type=\"text/javascript\">\n",
      "<!--//--><![CDATA[//><!--\n",
      "(function(i,s,o,g,r,a,m){i[\"GoogleAnalyticsObject\"]=r;i[r]=i[r]||function(){(i[r].q=i[r].q||[]).push(arguments)},i[r].l=1*new Date();a=s.createElement(o),m=s.getElementsByTagName(o)[0];a.async=1;a.src=g;m.parentNode.insertBefore(a,m)})(window,document,\"script\",\"https://www.google-analytics.com/analytics.js\",\"ga\");ga(\"create\", \"UA-105731679-1\", {\"cookieDomain\":\"auto\"});ga(\"create\", \"UA-142322394-2\", \"auto\", {\"name\":\"customTracker0\"});ga(\"set\", \"anonymizeIp\", true);ga(\"set\", \"dimension1\", \"169\");ga(\"set\", \"dimension2\", \"Our People\");ga(\"set\", \"dimension3\", \"People List Page\");ga(\"set\", \"dimension4\", \"Thu, 03\\/11\\/2021 - 10:22\");ga(\"customTracker0.set\", \"anonymizeIp\", true);ga(\"customTracker0.set\", \"dimension1\", \"169\");ga(\"customTracker0.set\", \"dimension2\", \"Our People\");ga(\"customTracker0.set\", \"dimension3\", \"People List Page\");ga(\"customTracker0.set\", \"dimension4\", \"Thu, 03\\/11\\/2021 - 10:22\");ga(\"send\", \"pageview\");ga(\"customTracker0.send\", \"pageview\");\n",
      "//--><!]]>\n",
      "</script>\n",
      "<script type=\"text/javascript\" src=\"https://www.colorado.edu/program/data-science/profiles/express/themes/ucb/js/ucb.js?rfpala\"></script>\n",
      "<script type=\"text/javascript\">\n",
      "<!--//--><![CDATA[//><!--\n",
      "jQuery.extend(Drupal.settings, {\"basePath\":\"\\/program\\/data-science\\/\",\"pathPrefix\":\"\",\"setHasJsCookie\":0,\"ajaxPageState\":{\"theme\":\"cumodern\",\"theme_token\":\"HLAMtQtzE_pgjpqISKZ68kucFyVv2F6_D6j9I4TyOTU\",\"js\":{\"profiles\\/express\\/modules\\/custom\\/backstretch\\/bs.js\":1,\"profiles\\/express\\/modules\\/features\\/cu_search\\/js\\/cu-search.js\":1,\"profiles\\/express\\/themes\\/ucb\\/js\\/track-focus.js\":1,\"0\":1,\"profiles\\/express\\/modules\\/custom\\/cu_back_to_top\\/cu_back_to_top.js\":1,\"public:\\/\\/google_tag\\/google_tag.script.js\":1,\"profiles\\/express\\/libraries\\/modernizr\\/modernizr.min.js\":1,\"profiles\\/express\\/modules\\/contrib\\/jquery_update\\/replace\\/jquery\\/1.9\\/jquery.min.js\":1,\"1\":1,\"profiles\\/express\\/modules\\/contrib\\/jquery_update\\/replace\\/jquery-migrate\\/1\\/jquery-migrate.min.js\":1,\"misc\\/jquery-extend-3.4.0.js\":1,\"misc\\/jquery-html-prefilter-3.5.0-backport.js\":1,\"misc\\/jquery.once.js\":1,\"misc\\/drupal.js\":1,\"profiles\\/express\\/libraries\\/fitvids\\/jquery.fitvids.js\":1,\"profiles\\/express\\/libraries\\/match-height\\/jquery.matchHeight-min.js\":1,\"profiles\\/express\\/libraries\\/waypoints\\/waypoint.js\":1,\"profiles\\/express\\/modules\\/contrib\\/jquery_update\\/replace\\/ui\\/ui\\/minified\\/jquery.ui.core.min.js\":1,\"profiles\\/express\\/modules\\/contrib\\/jquery_update\\/replace\\/ui\\/ui\\/minified\\/jquery.ui.widget.min.js\":1,\"profiles\\/express\\/modules\\/contrib\\/jquery_update\\/replace\\/ui\\/ui\\/minified\\/jquery.ui.accordion.min.js\":1,\"profiles\\/express\\/modules\\/features\\/cu_colorbox\\/js\\/cu-colorbox.js\":1,\"profiles\\/express\\/modules\\/custom\\/cu_expandable\\/js\\/expandable.plugin.js\":1,\"profiles\\/express\\/modules\\/custom\\/cu_expandable\\/js\\/cu-expandable.js\":1,\"profiles\\/express\\/modules\\/custom\\/cu_share\\/js\\/cu_share.js\":1,\"profiles\\/express\\/modules\\/custom\\/cu_video_hero_unit_bundle\\/js\\/cu-video-hero.js\":1,\"profiles\\/express\\/modules\\/custom\\/express_collections_bundle\\/js\\/express-collections-bundle.js\":1,\"profiles\\/express\\/modules\\/custom\\/express_layout\\/js\\/express-layout.js\":1,\"profiles\\/express\\/modules\\/contrib\\/fitvids\\/fitvids.js\":1,\"profiles\\/express\\/modules\\/contrib\\/google_cse\\/google_cse.js\":1,\"profiles\\/express\\/modules\\/custom\\/site_navigation_menus\\/js\\/site-navigation-menus.js\":1,\"profiles\\/express\\/libraries\\/colorbox\\/jquery.colorbox-min.js\":1,\"profiles\\/express\\/modules\\/contrib\\/colorbox\\/js\\/colorbox.js\":1,\"profiles\\/express\\/modules\\/contrib\\/colorbox\\/styles\\/stockholmsyndrome\\/colorbox_style.js\":1,\"profiles\\/express\\/modules\\/contrib\\/context_accordion\\/context_accordion.js\":1,\"profiles\\/express\\/libraries\\/flickity\\/js\\/flickity.pkgd.min.js\":1,\"profiles\\/express\\/modules\\/features\\/cu_article\\/modules\\/cu_article_slider\\/js\\/cu-article-slider.js\":1,\"profiles\\/express\\/modules\\/contrib\\/files_undo_remove\\/files_undo_remove.js\":1,\"profiles\\/express\\/libraries\\/backstretch\\/jquery.backstretch.js\":1,\"profiles\\/express\\/modules\\/contrib\\/rave_alerts\\/js\\/rave_alerts.js\":1,\"profiles\\/express\\/modules\\/features\\/cu_block_section\\/js\\/cu-block-section.js\":1,\"profiles\\/express\\/modules\\/features\\/cu_block_section\\/js\\/parallaxie.js\":1,\"profiles\\/express\\/modules\\/custom\\/cu_shortcodes\\/js\\/cu_shortcodes.js\":1,\"profiles\\/express\\/modules\\/custom\\/cu_shortcodes\\/js\\/counter.js\":1,\"\\/\\/www.youtube.com\\/iframe_api\":1,\"profiles\\/express\\/modules\\/contrib\\/google_analytics\\/googleanalytics.js\":1,\"2\":1,\"profiles\\/express\\/themes\\/ucb\\/js\\/ucb.js\":1},\"css\":{\"modules\\/system\\/system.base.css\":1,\"modules\\/system\\/system.menus.css\":1,\"modules\\/system\\/system.messages.css\":1,\"modules\\/system\\/system.theme.css\":1,\"misc\\/ui\\/jquery.ui.core.css\":1,\"misc\\/ui\\/jquery.ui.accordion.css\":1,\"profiles\\/express\\/modules\\/features\\/cu_article\\/modules\\/cu_article_slider\\/css\\/cu-article-slider.css\":1,\"profiles\\/express\\/modules\\/custom\\/cu_campus_news_bundle\\/cu_campus_news\\/css\\/cu-campus-news.css\":1,\"profiles\\/express\\/modules\\/custom\\/cu_dashboard_seo\\/css\\/cu-dashboard-seo.css\":1,\"profiles\\/express\\/modules\\/custom\\/cu_expandable\\/css\\/cu-expandable.css\":1,\"profiles\\/express\\/modules\\/custom\\/cu_inactive_users\\/css\\/cu-inactive-users.css\":1,\"profiles\\/express\\/modules\\/custom\\/cu_js_includes\\/css\\/cu-js-includes.css\":1,\"profiles\\/express\\/modules\\/custom\\/cu_profile_module_manager\\/css\\/cu-profile-module-manager.css\":1,\"profiles\\/express\\/modules\\/features\\/cu_article\\/cu_related_articles\\/css\\/cu-related-articles.css\":1,\"profiles\\/express\\/modules\\/custom\\/cu_rss\\/css\\/cu-rss.css\":1,\"profiles\\/express\\/modules\\/custom\\/cu_share\\/css\\/cu-share.css\":1,\"profiles\\/express\\/modules\\/features\\/cu_wysiwyg\\/cu-wysiwyg.css\":1,\"profiles\\/express\\/modules\\/contrib\\/date\\/date_api\\/date.css\":1,\"profiles\\/express\\/modules\\/contrib\\/date\\/date_popup\\/themes\\/datepicker.1.7.css\":1,\"profiles\\/express\\/modules\\/custom\\/express_add_content\\/css\\/express-add-content.css\":1,\"profiles\\/express\\/modules\\/custom\\/express_block_designer\\/css\\/express-block-designer.css\":1,\"profiles\\/express\\/modules\\/custom\\/express_block_designer\\/modules\\/express_block_designer_menu\\/css\\/exbd-menu.css\":1,\"profiles\\/express\\/modules\\/custom\\/express_collections_bundle\\/css\\/express-collections-bundle.css\":1,\"profiles\\/express\\/modules\\/custom\\/express_layout\\/css\\/express-layout-admin.css\":1,\"profiles\\/express\\/modules\\/custom\\/express_localist_bundle\\/css\\/express-localist-bundle.css\":1,\"profiles\\/express\\/modules\\/custom\\/express_localist_bundle\\/css\\/express-localist-bundle-theme.css\":1,\"modules\\/field\\/theme\\/field.css\":1,\"profiles\\/express\\/modules\\/contrib\\/fitvids\\/fitvids.css\":1,\"profiles\\/express\\/modules\\/contrib\\/google_cse\\/google_cse.css\":1,\"modules\\/node\\/node.css\":1,\"profiles\\/express\\/modules\\/contrib\\/rave_alerts\\/css\\/rave_alerts.css\":1,\"profiles\\/express\\/modules\\/custom\\/site_navigation_menus\\/css\\/site-navigation-menus.css\":1,\"modules\\/user\\/user.css\":1,\"profiles\\/express\\/modules\\/contrib\\/video_filter\\/video_filter.css\":1,\"profiles\\/express\\/modules\\/contrib\\/views\\/css\\/views.css\":1,\"profiles\\/express\\/modules\\/custom\\/cu_users\\/css\\/cu-users.css\":1,\"profiles\\/express\\/modules\\/contrib\\/colorbox\\/styles\\/stockholmsyndrome\\/colorbox_style.css\":1,\"profiles\\/express\\/modules\\/contrib\\/context_accordion\\/context_accordion.css\":1,\"profiles\\/express\\/modules\\/contrib\\/ctools\\/css\\/ctools.css\":1,\"profiles\\/express\\/libraries\\/flickity\\/css\\/flickity.css\":1,\"profiles\\/express\\/libraries\\/fontawesome\\/css\\/font-awesome.min.css\":1,\"profiles\\/express\\/modules\\/contrib\\/files_undo_remove\\/files_undo_remove.css\":1,\"profiles\\/express\\/modules\\/custom\\/backstretch\\/backstretch.css\":1,\"profiles\\/express\\/modules\\/custom\\/cu_block_row\\/css\\/cu-block-row.css\":1,\"profiles\\/express\\/modules\\/features\\/cu_block_section\\/css\\/cu-block-section.css\":1,\"profiles\\/express\\/modules\\/features\\/cu_facebook_activity\\/cu_facebook_activity.css\":1,\"profiles\\/express\\/modules\\/features\\/cu_feature_callout\\/css\\/cu_feature_callout.css\":1,\"profiles\\/express\\/modules\\/features\\/cu_feature_callout\\/css\\/feature-callout-block-designer.css\":1,\"profiles\\/express\\/modules\\/custom\\/cu_give_buttons\\/styles\\/give-button.css\":1,\"profiles\\/express\\/modules\\/features\\/cu_hero_unit\\/css\\/cu_hero_unit.css\":1,\"profiles\\/express\\/modules\\/custom\\/cu_menu_icon\\/cu_menu_icon.css\":1,\"profiles\\/express\\/modules\\/custom\\/cu_rss_block\\/css\\/cu-rss-block.css\":1,\"profiles\\/express\\/modules\\/features\\/cu_search\\/css\\/cu-search.css\":1,\"profiles\\/express\\/modules\\/custom\\/cu_shortcodes\\/css\\/cu_shortcodes.css\":1,\"profiles\\/express\\/modules\\/custom\\/cu_shortcodes\\/css\\/cu-shortcodes-columns.css\":1,\"profiles\\/express\\/modules\\/custom\\/cu_site_info\\/site_info.css\":1,\"profiles\\/express\\/modules\\/features\\/cu_social_links\\/css\\/social_links.css\":1,\"profiles\\/express\\/modules\\/features\\/cu_twitter_feed\\/cu_twitter_feed.css\":1,\"profiles\\/express\\/modules\\/custom\\/cu_video_hero_unit_bundle\\/css\\/cu_video_hero_unit.css\":1,\"profiles\\/express\\/modules\\/custom\\/cu_video_reveal\\/css\\/cu-video-reveal.css\":1,\"profiles\\/express\\/modules\\/custom\\/express_layout\\/css\\/express-layout.css\":1,\"profiles\\/express\\/modules\\/custom\\/express_settings\\/css\\/express-settings.css\":1,\"profiles\\/express\\/modules\\/features\\/files\\/css\\/files.css\":1,\"profiles\\/express\\/modules\\/custom\\/profile_module_manager\\/css\\/profile-module-manager.css\":1,\"profiles\\/express\\/modules\\/features\\/cu_article\\/css\\/cu-article.css\":1,\"profiles\\/express\\/modules\\/features\\/cu_article\\/css\\/cu-article-grid.css\":1,\"profiles\\/express\\/modules\\/features\\/cu_article\\/css\\/owl.carousel.css\":1,\"profiles\\/express\\/modules\\/features\\/cu_faq\\/css\\/cu_faq.css\":1,\"profiles\\/express\\/modules\\/features\\/cu_page\\/cu-page.css\":1,\"profiles\\/express\\/modules\\/custom\\/express_theme_picker\\/express_theme_picker.css\":1,\"profiles\\/express\\/modules\\/features\\/people_content_type\\/css\\/people_content_type.css\":1,\"profiles\\/express\\/modules\\/features\\/photo_gallery\\/css\\/photo-gallery.css\":1,\"profiles\\/express\\/modules\\/custom\\/cu_back_to_top\\/cu_back_to_top.css\":1,\"public:\\/\\/honeypot\\/honeypot.css\":1,\"profiles\\/express\\/themes\\/ucb\\/css\\/ucb.css\":1,\"profiles\\/express\\/themes\\/cumodern\\/css\\/modern-styles.css\":1,\"profiles\\/express\\/themes\\/ucb\\/css\\/ucb-print.css\":1}},\"colorbox\":{\"opacity\":\"0.85\",\"current\":\"{current} of {total}\",\"previous\":\"\\u00ab Prev\",\"next\":\"Next \\u00bb\",\"close\":\"Close\",\"maxWidth\":\"98%\",\"maxHeight\":\"98%\",\"fixed\":true,\"mobiledetect\":true,\"mobiledevicewidth\":\"320px\",\"specificPagesDefaultValue\":\"admin*\\nimagebrowser*\\nimg_assist*\\nimce*\\nnode\\/add\\/*\\nnode\\/*\\/edit\\nprint\\/*\\nprintpdf\\/*\\nsystem\\/ajax\\nsystem\\/ajax\\/*\"},\"localist_bypass_urls\":[\"cupresents.org\"],\"googleCSE\":{\"cx\":\"\",\"resultsWidth\":600,\"domain\":\"www.google.com\",\"showWaterMark\":true},\"fitvids\":{\"custom_domains\":[],\"selectors\":[\"body\"],\"simplifymarkup\":true,\"ignore\":\"\"},\"backstretchURL\":\"\",\"backstretchMinWidth\":0,\"googleanalytics\":{\"trackOutbound\":1,\"trackMailto\":1,\"trackDownload\":1,\"trackDownloadExtensions\":\"7z|aac|arc|arj|asf|asx|avi|bin|csv|doc|exe|flv|gif|gz|gzip|hqx|jar|jpe?g|js|mp(2|3|4|e?g)|mov(ie)?|msi|msp|pdf|phps|png|ppt|qtm?|ra(m|r)?|sea|sit|tar|tgz|torrent|txt|wav|wma|wmv|wpd|xls|xml|z|zip\",\"trackColorbox\":1},\"currentPath\":\"node\\/169\",\"currentPathIsAdmin\":false,\"urlIsAjaxTrusted\":{\"\\/program\\/data-science\\/faculty\":true}});\n",
      "//--><!]]>\n",
      "</script>\n",
      "      <!--[if lt IE 9]>\n",
      "    <script src=\"/program/data-science/profiles/express/themes/ucb/js/html5-respond.js\"></script>\n",
      "    <![endif]-->\n",
      "  </head>\n",
      "<body class=\"html not-front not-logged-in no-sidebars page-node page-node- page-node-169 node-type-people-list-page layout-default headings-bold page-title-image-background-transparent layout-responsive max-width-1200 primary-sidebar-second express-site-type- banner-black layout-wide\" >\n",
      "      <p id=\"skip-link\">\n",
      "      <a href=\"#main\" class=\"element-invisible element-focusable\">Skip to Content</a>\n",
      "    </p>\n",
      "    <noscript aria-hidden=\"true\"><iframe src=\"https://www.googletagmanager.com/ns.html?id=GTM-M3DX2QP\" height=\"0\" width=\"0\" style=\"display:none;visibility:hidden\"></iframe></noscript>  <div class=\"page-wrapper\">\n",
      "  <div class=\"page page node-published\">\n",
      "    <!-- ALERTS -->\n",
      "          <div id=\"alerts-wide-wrapper\" class=\"section\">\n",
      "        <div id=\"alerts\" class=\"clearfix\">\n",
      "            <div class=\"region region-alerts\">\n",
      "    <div id=\"block-rave-alerts-rave-alerts\" class=\"block block-rave-alerts  block-rave-alerts-rave-alerts\">\n",
      "  <div class=\"block-inner-wrapper block-inner clearfix\">\n",
      "                <div class=\"content\">\n",
      "      <div id=\"rave-alerts\" data-remote-url=\"\">\n",
      "  </div>\n",
      "    </div>\n",
      "  </div>\n",
      "</div>\n",
      "  </div>\n",
      "        </div>\n",
      "      </div>\n",
      "    \n",
      "    <!-- CAMPUS BRANDING -->\n",
      "    <div class=\"brand-bar brand-bar-color-black no-underline\">\n",
      "  <div class=\"container\">\n",
      "    <div class=\"brand-bar-container\">\n",
      "      <div class=\"brand-logo\">\n",
      "        <a href=\"http://www.colorado.edu\"><img src=\"https://www.colorado.edu/program/data-science/profiles/express/themes/ucb/images/cu-boulder-logo-text-black.svg\" alt=\"University of Colorado Boulder\" /></a>\n",
      "      </div>\n",
      "      <div class=\"brand-links\">\n",
      "      </div>\n",
      "      <div class=\"search-toggle-wrapper\">\n",
      "        <a href=\"https://www.colorado.edu/search\" id=\"search-toggle\" class=\"search-toggle\" aria-haspopup=\"true\" aria-expanded=\"false\" aria-controls=\"search\" aria-label=\"Search\"><i class=\"fa fa-search fa-fw\"></i><span class=\"element-invisible\">Search </span></a>\n",
      "      </div>\n",
      "    </div>\n",
      "  </div>\n",
      "</div>\n",
      "    <!-- /CAMPUS BRANDING -->\n",
      "\n",
      "    <!-- DESKTOP SEARCH -->\n",
      "    <div id=\"search\" tabindex=\"-1\" class=\"background-black\">\n",
      "      <div id=\"search-inner\">\n",
      "        <div class=\"container container-small\">\n",
      "          <div class=\"search-form\">\n",
      "\n",
      "              <div class=\"cu-search-box cu-search-box-small animated\" role=\"search\">\n",
      "    <h2>Search</h2>\n",
      "    <form class=\"cu-search-form\" action=\"https://www.colorado.edu/search\" method=\"get\">\n",
      "      <div class=\"search-form-wrapper\">\n",
      "        <div class=\"search-fields\">\n",
      "          <div class=\"cu-search\">\n",
      "            <div class=\"form-item form-type-textfield form-item-search-keys\">\n",
      "              <label class=\"element-invisible\" for=\"edit-search-keys\">Enter the terms you wish to search for. </label>\n",
      "              <input placeholder=\"Search Colorado.edu\" type=\"search\" id=\"edit-search-keys\" name=\"cse\" value=\"\" size=\"15\" maxlength=\"128\" class=\"form-text\">\n",
      "            </div>\n",
      "            <div class=\"form-actions form-wrapper\" id=\"edit-actions\"><input type=\"submit\" id=\"edit-submit\" name=\"op\" value=\"Search\" class=\"form-submit\"></div>\n",
      "          </div>\n",
      "        </div>\n",
      "\n",
      "                        <div class=\"campus-links\">\n",
      "          <h3 class=\"display-inline\">Other ways to search: </h3>\n",
      "          <ul class=\"inline inline-menu\">\n",
      "            <li><a href=\"https://calendar.colorado.edu\">Events Calendar</a></li>\n",
      "            <li><a href=\"https://www.colorado.edu/map\">Campus Map</a></li>\n",
      "          </ul>\n",
      "\n",
      "        </div>\n",
      "            </div>\n",
      "    </form>\n",
      "  </div>\n",
      "            <button id=\"close-search\"><i class=\"fa fa-times\" aria-hidden=\"true\"></i><span class=\"element-invisible\">Close</span></button>\n",
      "          </div>\n",
      "        </div>\n",
      "      </div>\n",
      "    </div>\n",
      "    <!-- /DESKTOP SEARCH -->\n",
      "\n",
      "    <!-- SITE HEADER -->\n",
      "    <div id=\"header-wrapper\" class=\"section header-wrapper no-underline cu-header\">\n",
      "      <div class=\"container\">\n",
      "      <header class=\"ucb header clearfix\" id=\"header\" role=\"banner\" tabindex=\"-1\">\n",
      "        <div class=\"site-name-wrapper\">\n",
      "\n",
      "            \n",
      "      <div class=\"site-name\">\n",
      "      <a href=\"/program/data-science/\" title=\"Home\" class=\"header__site-link\" rel=\"home\"><span>Master of Science in Data Science</span></a>\n",
      "    </div>\n",
      "  \n",
      "<div id=\"print-site-name\">Master of Science in Data Science</div>\n",
      "\n",
      "        </div>\n",
      "        <div class=\"mobile-menu-toggle menu-toggle\">\n",
      "          <button id=\"toggle\" aria-haspopup=\"true\" aria-expanded=\"false\" aria-controls=\"mobile-menu\" aria-label=\"Navigation\"><i class=\"fa fa-reorder fa-fw\" aria-hidden=\"true\"></i><span class=\"mobile-menu-text\">Menu </span></button>\n",
      "        </div>\n",
      "      </header>\n",
      "    </div>\n",
      "    </div>\n",
      "    <!-- /SITE HEADER -->\n",
      "\n",
      "    <!-- NAVIGATION -->\n",
      "    <div id=\"navigation-wrapper\" class=\"navigation-wrapper section no-underline\">\n",
      "\n",
      "      <!-- Main menu -->\n",
      "      <div id=\"main-menu-wrapper\" class=\"section\">\n",
      "        <div id=\"navigation\" class=\"container\">\n",
      "          <div class=\"nav-inner clearfix\">\n",
      "              <nav role=\"navigation\" tabindex=\"-1\" class=\"region region-menu\">\n",
      "\n",
      "    <div>\n",
      "      <h2 class=\"element-invisible\">Main menu</h2>  <ul class=\"links inline clearfix\" id=\"main-menu\"><li class=\"home-link first\"><a href=\"/program/data-science/\" id=\"home-link\" class=\"home-link first\"><i class=\"fa fa-home\"></i><span class=\"element-invisible\">Home</span></a></li><li class=\"\"><a href=\"/program/data-science/big-opportunities-in-big-data-Landing-Page\">Academics</a></li><li class=\"\"><a href=\"/program/data-science/campus-overview\">On Campus</a></li><li class=\"\"><a href=\"/program/data-science/coursera-overview\">Online</a></li><li class=\"active-trail\"><a href=\"/program/data-science/faculty\" class=\"active-trail active\">Our People</a></li><li class=\"\"><a href=\"/program/data-science/about\">About</a></li><li class=\"\"><a href=\"/program/data-science/student-jobs\">Student Jobs</a></li><li class=\"\"><a href=\"/program/data-science/employers\">For Employers</a></li><li class=\"last\"><a href=\"https://www.colorado.edu/covid-19\" title=\"\" class=\"last\">Covid-19 Updates</a></li>  </ul>    </div>\n",
      "\n",
      "    \n",
      "  </nav>\n",
      "          </div>\n",
      "        </div>\n",
      "      </div>\n",
      "      <!-- /Main menu -->\n",
      "\n",
      "      <!-- Secondary menu under main menu -->\n",
      "                </div>\n",
      "    <!-- /NAVIGATION -->\n",
      "\n",
      "    <!-- MOBILE NAVIGATION -->\n",
      "    <div id=\"mobile-navigation-wrapper\" class=\"section no-underline\">\n",
      "      <div id=\"mobile-navigation\">\n",
      "        <!-- Mobile search -->\n",
      "        <div id=\"mobile-search\">\n",
      "                  </div>\n",
      "        <!-- Mobile menu -->\n",
      "        <nav id=\"mobile-menu\" role=\"navigation\">\n",
      "                  <h2 class=\"element-invisible\">Mobile menu</h2><ul id=\"main-menu-mobile\" class=\"links clearfix\"><li class=\"menu-701 first\"><a href=\"/program/data-science/\">Home</a></li>\n",
      "<li class=\"menu-2607\"><a href=\"/program/data-science/big-opportunities-in-big-data-Landing-Page\">Academics</a></li>\n",
      "<li class=\"menu-1561\"><a href=\"/program/data-science/campus-overview\">On Campus</a></li>\n",
      "<li class=\"menu-1449\"><a href=\"/program/data-science/coursera-overview\">Online</a></li>\n",
      "<li class=\"menu-2365 active-trail active\"><a href=\"/program/data-science/faculty\" class=\"active-trail active\">Our People</a></li>\n",
      "<li class=\"menu-2301\"><a href=\"/program/data-science/about\">About</a></li>\n",
      "<li class=\"menu-2743\"><a href=\"/program/data-science/student-jobs\">Student Jobs</a></li>\n",
      "<li class=\"menu-2581\"><a href=\"/program/data-science/employers\">For Employers</a></li>\n",
      "<li class=\"menu-2571 last\"><a href=\"https://www.colorado.edu/covid-19\" title=\"\">Covid-19 Updates</a></li>\n",
      "</ul>                                                          </nav>\n",
      "      </div>\n",
      "    </div>\n",
      "    <!-- MOBILE NAVIGATION -->\n",
      "\n",
      "\n",
      "    <!-- MESSAGES/TABS/HELP/ACTION LINKS -->\n",
      "    <div class=\"express-messages section\">\n",
      "      <div class=\"container\">\n",
      "        \n",
      "        \n",
      "        \n",
      "              </div>\n",
      "    </div>\n",
      "    <!-- /MESSAGES/TABS/HELP/ACTION LINKS -->\n",
      "\n",
      "    <!-- PAGE CONTENT -->\n",
      "    <div class=\"page-content\">\n",
      "      <!-- INTRO -->\n",
      "            <!-- //INTRO -->\n",
      "\n",
      "      <!-- SLIDER -->\n",
      "            <!-- //SLIDER -->\n",
      "\n",
      "      <!-- PAGE TITLE IMAGE -->\n",
      "            <!-- //PAGE TITLE IMAGE -->\n",
      "\n",
      "      <!-- MAIN CONTENT -->\n",
      "      <div id=\"main-content-wrapper\" class=\"section main-content-wrapper\">\n",
      "        <div id=\"main\" class=\"clearfix\">\n",
      "                    <div class=\"container\">\n",
      "            <!-- TITLE -->\n",
      "            <div class=\"main-title-wrapper \">\n",
      "\n",
      "              <a id=\"main-content\"></a>\n",
      "                                            <h1 class=\"page-title title \" id=\"page-title\">\n",
      "                  Our People                </h1>\n",
      "                                        </div>\n",
      "          </div>\n",
      "\n",
      "          <!-- POST TITLE WIDE -->\n",
      "          \n",
      "          <!-- POST TITLE -->\n",
      "          \n",
      "          <!-- NODE CONTENT -->\n",
      "          <div class=\"content-wrapper section\">\n",
      "            <div class=\"container\">\n",
      "              <div class=\"row\">\n",
      "                <div id=\"content\" class=\"col-lg-12 col-md-12 col-sm-12 col-xs-12\" role=\"main\">\n",
      "                    <div class=\"region region-content\">\n",
      "    <div>\n",
      "      <div>\n",
      "    \n",
      "  <div class=\"field field-name-body field-type-text-with-summary field-label-hidden\">\n",
      "    <h2>The MS-DS is a truly interdisciplinary program, with faculty in Computer Science, Applied Mathematics, Information Science, and more.</h2>\n",
      "<p>Data science faculty members are housed in Applied Mathematics, Computer Science, Information Science, and other departments across campus.</p>\n",
      "<p> </p>\n",
      "<p> </p>\n",
      "  </div>\n",
      "<form action=\"/program/data-science/faculty\" method=\"post\" id=\"people-content-type-list-filter-form\" accept-charset=\"UTF-8\"><div><input type=\"hidden\" name=\"form_build_id\" value=\"form-ltOoEJHOyRGgIdHCadDEs2n-0z0DilEghuoY4tkvRL8\" />\n",
      "<input type=\"hidden\" name=\"form_id\" value=\"people_content_type_list_filter_form\" />\n",
      "<div class=\"url-textfield\"><div class=\"form-item form-type-textfield form-item-url\">\n",
      "  <label for=\"edit-url\">Leave this field blank </label>\n",
      " <input autocomplete=\"off\" type=\"text\" id=\"edit-url\" name=\"url\" value=\"\" size=\"20\" maxlength=\"128\" class=\"form-text\" />\n",
      "</div>\n",
      "</div></div></form><div class=\"people-list-wrapper-teaser\"><a name=\"jane+wall\" id=\"jane+wall\"></a>\n",
      "<div class=\"person-view-mode-teaser clearfix\">\n",
      "      \n",
      "  <a href=\"/program/data-science/jane-wall\"><img class=\"image-small_thumbnail\" src=\"https://www.colorado.edu/program/data-science/sites/default/files/styles/small_thumbnail/public/people/jane_wall.jpg?itok=rXn8aeh1\" width=\"100\" height=\"100\" alt=\"Jane Wall\" /></a>    <div class=\"person-view-mode-teaser-content node-view-mode-teaser-content\">\n",
      "    <h2 class=\"node-title\"><a href=\"/program/data-science/jane-wall\">Jane Wall</a></h2>\n",
      "    <div class=\"person-job-titles\">Faculty Director</div>\n",
      "    <div class=\"person-departments\">Data Science</div>\n",
      "          <div class=\"people-bio\">\n",
      "        \n",
      "  <div class=\"field field-name-body field-type-text-with-summary field-label-hidden\">\n",
      "    Dr. Wall worked for IBM and other software development companies as a software engineer, development manager, subcontract manager and account executive before getting her PhD. She developed 3 core data science courses at AU and co-founded the graduate certificate, BS and MS in Data Science.  </div>\n",
      "      </div>\n",
      "            \n",
      "  </div>\n",
      "</div>\n",
      "<a name=\"bobby+schnabel\" id=\"bobby+schnabel\"></a>\n",
      "<div class=\"person-view-mode-teaser clearfix\">\n",
      "      \n",
      "  <a href=\"/program/data-science/bobby-schnabel\"><img class=\"image-small_thumbnail\" src=\"https://www.colorado.edu/program/data-science/sites/default/files/styles/small_thumbnail/public/people/bobby_schnabel.png?itok=1a2pgM1i\" width=\"100\" height=\"100\" alt=\"Bobby Schnabel\" /></a>    <div class=\"person-view-mode-teaser-content node-view-mode-teaser-content\">\n",
      "    <h2 class=\"node-title\"><a href=\"/program/data-science/bobby-schnabel\">Bobby Schnabel</a></h2>\n",
      "    <div class=\"person-job-titles\">Department External Chair &bull; Professor</div>\n",
      "    <div class=\"person-departments\">Computer Science</div>\n",
      "          <div class=\"people-bio\">\n",
      "        \n",
      "  <div class=\"field field-name-body field-type-text-with-summary field-label-hidden\">\n",
      "    Dr. Schnabel is Professor and External Chair of Computer Science and CEAS Faculty Director for Entrepreneurship. He is a co-founder of the National Center for Women &amp; Information Technology, founding director of the ATLAS Institute at CU Boulder, and a former academic CIO and dean.  </div>\n",
      "      </div>\n",
      "            \n",
      "  </div>\n",
      "</div>\n",
      "<a name=\"brian+zaharatos\" id=\"brian+zaharatos\"></a>\n",
      "<div class=\"person-view-mode-teaser clearfix\">\n",
      "      \n",
      "  <a href=\"/program/data-science/brian-zaharatos\"><img class=\"image-small_thumbnail\" src=\"https://www.colorado.edu/program/data-science/sites/default/files/styles/small_thumbnail/public/people/brian_zaharatos_0_copy.jpg?itok=swrhf59F\" width=\"100\" height=\"100\" alt=\"Brian Zaharatos\" /></a>    <div class=\"person-view-mode-teaser-content node-view-mode-teaser-content\">\n",
      "    <h2 class=\"node-title\"><a href=\"/program/data-science/brian-zaharatos\">Brian Zaharatos</a></h2>\n",
      "    <div class=\"person-job-titles\">Director of the Professional Master’s Degree &bull; Senior Instructor</div>\n",
      "    <div class=\"person-departments\">Applied Mathematics</div>\n",
      "          <div class=\"people-bio\">\n",
      "        \n",
      "  <div class=\"field field-name-body field-type-text-with-summary field-label-hidden\">\n",
      "    Dr. Zaharatos’s primary interests are in applied statistics and the philosophy of statistics. Most of his work has been in statistical methods for photovoltaic performance modeling. He also works on applications in geography, residential building energy analysis, and consulting for statistical litigation support.  </div>\n",
      "      </div>\n",
      "            \n",
      "  </div>\n",
      "</div>\n",
      "<a name=\"jem+corcoran\" id=\"jem+corcoran\"></a>\n",
      "<div class=\"person-view-mode-teaser clearfix\">\n",
      "      \n",
      "  <a href=\"/program/data-science/jem-corcoran\"><img class=\"image-small_thumbnail\" src=\"https://www.colorado.edu/program/data-science/sites/default/files/styles/small_thumbnail/public/people/jem_corcoran.jpg?itok=fUO0MSBJ\" width=\"100\" height=\"96\" alt=\"Jem Corcoran\" /></a>    <div class=\"person-view-mode-teaser-content node-view-mode-teaser-content\">\n",
      "    <h2 class=\"node-title\"><a href=\"/program/data-science/jem-corcoran\">Jem Corcoran</a></h2>\n",
      "    <div class=\"person-job-titles\">Associate Professor</div>\n",
      "    <div class=\"person-departments\">Applied Mathematics</div>\n",
      "          <div class=\"people-bio\">\n",
      "        \n",
      "  <div class=\"field field-name-body field-type-text-with-summary field-label-hidden\">\n",
      "    Dr. Corcoran is an applied probabilist specializing in MCMC methods in the Probability and Statistics Group in the Department of Applied Mathematics at the University of Colorado Boulder.  </div>\n",
      "      </div>\n",
      "            \n",
      "  </div>\n",
      "</div>\n",
      "<a name=\"anne+dougherty\" id=\"anne+dougherty\"></a>\n",
      "<div class=\"person-view-mode-teaser clearfix\">\n",
      "      \n",
      "  <a href=\"/program/data-science/anne-dougherty\"><img class=\"image-small_thumbnail\" src=\"https://www.colorado.edu/program/data-science/sites/default/files/styles/small_thumbnail/public/people/anne_d_copy_copy.jpg?itok=mcI_Th4v\" width=\"100\" height=\"100\" alt=\"Anne Dougherty\" /></a>    <div class=\"person-view-mode-teaser-content node-view-mode-teaser-content\">\n",
      "    <h2 class=\"node-title\"><a href=\"/program/data-science/anne-dougherty\">Anne Dougherty</a></h2>\n",
      "    <div class=\"person-job-titles\">Senior Instructor & University of Colorado Teaching Professor &bull; Associate Department Chair   &bull; Undergraduate Studies Chair </div>\n",
      "    <div class=\"person-departments\">Applied Mathematics</div>\n",
      "          <div class=\"people-bio\">\n",
      "        \n",
      "  <div class=\"field field-name-body field-type-text-with-summary field-label-hidden\">\n",
      "    Dr. Dougherty has been the J.R. Woodhull/Logicon Teaching Professor of Applied Mathematics since July 2012. In addition to teaching, Dr. Dougherty serves as a faculty advisor for applied math majors/ minors and statistics minors, the CU campus representative for the Goldwater Scholarship, and a faculty advisor for the International Mathematics Contest in Modeling.  </div>\n",
      "      </div>\n",
      "                  <div class=\"person-view-mode-teaser-contact\"><span class=\"person-contact-info-item person-contact-info-email\"><i class=\"fa fa-envelope\"></i> \n",
      "  <a href=\"mailto:anne.dougherty@colorado.edu\">anne.dougherty@colorado.edu</a></span></div>\n",
      "    \n",
      "  </div>\n",
      "</div>\n",
      "<a name=\"ioana+fleming\" id=\"ioana+fleming\"></a>\n",
      "<div class=\"person-view-mode-teaser clearfix\">\n",
      "      \n",
      "  <a href=\"/program/data-science/ioana-fleming\"><img class=\"image-small_thumbnail\" src=\"https://www.colorado.edu/program/data-science/sites/default/files/styles/small_thumbnail/public/people/ioana_fleming_copy.jpg?itok=noKX_5UL\" width=\"100\" height=\"100\" alt=\"Ioana Fleming\" /></a>    <div class=\"person-view-mode-teaser-content node-view-mode-teaser-content\">\n",
      "    <h2 class=\"node-title\"><a href=\"/program/data-science/ioana-fleming\">Ioana Fleming</a></h2>\n",
      "    <div class=\"person-job-titles\">Senior Instructor &bull; Chair of Undergraduate Education</div>\n",
      "    <div class=\"person-departments\">Computer Science</div>\n",
      "          <div class=\"people-bio\">\n",
      "        \n",
      "  <div class=\"field field-name-body field-type-text-with-summary field-label-hidden\">\n",
      "    Dr. Fleming holds an MD from Romania, and MS and Ph.D. degrees from Johns Hopkins University. Her research combines computer vision &amp; medical imaging, with applications in ultrasound elastography &amp; image-guided surgery. At CU Boulder, she is a Senior Instructor in the Computer Science Department.  </div>\n",
      "      </div>\n",
      "                  <div class=\"person-view-mode-teaser-contact\"><span class=\"person-contact-info-item person-contact-info-email\"><i class=\"fa fa-envelope\"></i> \n",
      "  <a href=\"mailto:Ioana.Fleming@Colorado.EDU\">Ioana.Fleming@Colorado.EDU</a></span></div>\n",
      "    \n",
      "  </div>\n",
      "</div>\n",
      "<a name=\"ami+gates\" id=\"ami+gates\"></a>\n",
      "<div class=\"person-view-mode-teaser clearfix\">\n",
      "      \n",
      "  <a href=\"/program/data-science/ami-gates\"><img class=\"image-small_thumbnail\" src=\"https://www.colorado.edu/program/data-science/sites/default/files/styles/small_thumbnail/public/people/gates_ami_small.jpeg?itok=1KTSfAfC\" width=\"100\" height=\"100\" alt=\"Ami Gates Photo\" /></a>    <div class=\"person-view-mode-teaser-content node-view-mode-teaser-content\">\n",
      "    <h2 class=\"node-title\"><a href=\"/program/data-science/ami-gates\">Ami Gates</a></h2>\n",
      "    <div class=\"person-job-titles\">Teaching Professor</div>\n",
      "    <div class=\"person-departments\">Applied Mathematics</div>\n",
      "          <div class=\"people-bio\">\n",
      "        \n",
      "  <div class=\"field field-name-body field-type-text-with-summary field-label-hidden\">\n",
      "    Professor Ami Gates has a BA in Math, an MS in Education, an MS in Computer Science, and a Ph.D. in Computer Engineering (focus: Machine Learning, Data Analytics). Dr. Gates has been teaching for 25 years in computer science, data analytics and visualization, information technology, and statistics. Areas of interest include technologies in education, robust and personalized learning environments, machine learning applications in data analytics, and data visualization.  </div>\n",
      "      </div>\n",
      "                  <div class=\"person-view-mode-teaser-contact\"><span class=\"person-contact-info-item person-contact-info-email\"><i class=\"fa fa-envelope\"></i> \n",
      "  <a href=\"mailto:Ami.Gates@colorado.edu\">Ami.Gates@colorado.edu</a></span></div>\n",
      "    \n",
      "  </div>\n",
      "</div>\n",
      "<a name=\"abel+iyasele\" id=\"abel+iyasele\"></a>\n",
      "<div class=\"person-view-mode-teaser clearfix\">\n",
      "      \n",
      "  <a href=\"/program/data-science/abel-iyasele-0\"><img class=\"image-small_thumbnail\" src=\"https://www.colorado.edu/program/data-science/sites/default/files/styles/small_thumbnail/public/people/abel_pix_2_-_abel_iyasele_small.jpeg?itok=e8A37mUr\" width=\"100\" height=\"100\" alt=\"Abel Iyasele Photo\" /></a>    <div class=\"person-view-mode-teaser-content node-view-mode-teaser-content\">\n",
      "    <h2 class=\"node-title\"><a href=\"/program/data-science/abel-iyasele-0\">Abel Iyasele</a></h2>\n",
      "    <div class=\"person-job-titles\">Teaching Assistant Professor</div>\n",
      "    <div class=\"person-departments\">Information Science</div>\n",
      "          <div class=\"people-bio\">\n",
      "        \n",
      "  <div class=\"field field-name-body field-type-text-with-summary field-label-hidden\">\n",
      "    Scholarly Area: Nexus between binding macro issues and corporate performance in the US.  </div>\n",
      "      </div>\n",
      "                  <div class=\"person-view-mode-teaser-contact\"><span class=\"person-contact-info-item person-contact-info-email\"><i class=\"fa fa-envelope\"></i> \n",
      "  <a href=\"mailto:Abel.Iyasele@colorado.edu\">Abel.Iyasele@colorado.edu</a></span></div>\n",
      "    \n",
      "  </div>\n",
      "</div>\n",
      "<a name=\"geena+kim\" id=\"geena+kim\"></a>\n",
      "<div class=\"person-view-mode-teaser clearfix\">\n",
      "      \n",
      "  <a href=\"/program/data-science/geena-kim\"><img class=\"image-small_thumbnail\" src=\"https://www.colorado.edu/program/data-science/sites/default/files/styles/small_thumbnail/public/people/geena_kim.png?itok=jdm9De9f\" width=\"100\" height=\"100\" alt=\"Geena Kim\" /></a>    <div class=\"person-view-mode-teaser-content node-view-mode-teaser-content\">\n",
      "    <h2 class=\"node-title\"><a href=\"/program/data-science/geena-kim\">Geena Kim</a></h2>\n",
      "    <div class=\"person-job-titles\">Post-Baccalaureate Instructor</div>\n",
      "    <div class=\"person-departments\">Computer Science</div>\n",
      "          <div class=\"people-bio\">\n",
      "        \n",
      "  <div class=\"field field-name-body field-type-text-with-summary field-label-hidden\">\n",
      "    Dr. Kim received a PhD from UC Berkeley, worked as an entrepreneur and technical advisor at IoT startups in the Bay Area. She taught in the MS data science program at Regis before joining CU. Research includes deep learning, computer vision, and medical image analysis.  </div>\n",
      "      </div>\n",
      "            \n",
      "  </div>\n",
      "</div>\n",
      "<a name=\"william+kuskin\" id=\"william+kuskin\"></a>\n",
      "<div class=\"person-view-mode-teaser clearfix\">\n",
      "      \n",
      "  <a href=\"/program/data-science/william-kuskin\"><img class=\"image-small_thumbnail\" src=\"https://www.colorado.edu/program/data-science/sites/default/files/styles/small_thumbnail/public/people/william_kuskin_copy.jpg?itok=jEGI7Oq1\" width=\"100\" height=\"100\" alt=\"William Kuskin\" /></a>    <div class=\"person-view-mode-teaser-content node-view-mode-teaser-content\">\n",
      "    <h2 class=\"node-title\"><a href=\"/program/data-science/william-kuskin\">William Kuskin</a></h2>\n",
      "    <div class=\"person-job-titles\">Professor &bull; CEAS Associate Dean for Digital Education</div>\n",
      "    <div class=\"person-departments\">English & Engineering</div>\n",
      "          <div class=\"people-bio\">\n",
      "        \n",
      "  <div class=\"field field-name-body field-type-text-with-summary field-label-hidden\">\n",
      "    Dr. Kuskin is Professor of English and CEAS Associate Dean for Digital Education. He taught one of the first humanities MOOCs on the Coursera platform, “Comic Books and Graphic Novels,” co-created the MS-EE, and is former Vice Provost.  </div>\n",
      "      </div>\n",
      "            \n",
      "  </div>\n",
      "</div>\n",
      "<a name=\"qin+%28christine%29+lv\" id=\"qin+%28christine%29+lv\"></a>\n",
      "<div class=\"person-view-mode-teaser clearfix\">\n",
      "      \n",
      "  <a href=\"/program/data-science/qin-christine-lv\"><img class=\"image-small_thumbnail\" src=\"https://www.colorado.edu/program/data-science/sites/default/files/styles/small_thumbnail/public/people/qin_lv_copy.jpg?itok=3vwVm9Ys\" width=\"100\" height=\"100\" alt=\"Qin (Christine) Lv\" /></a>    <div class=\"person-view-mode-teaser-content node-view-mode-teaser-content\">\n",
      "    <h2 class=\"node-title\"><a href=\"/program/data-science/qin-christine-lv\">Qin (Christine) Lv</a></h2>\n",
      "    <div class=\"person-job-titles\">Professor</div>\n",
      "    <div class=\"person-departments\">Computer Science</div>\n",
      "          <div class=\"people-bio\">\n",
      "        \n",
      "  <div class=\"field field-name-body field-type-text-with-summary field-label-hidden\">\n",
      "    Dr. Lv is a professor in the Department of Computer Science. Lv's research integrates systems, algorithms, and applications for effective and efficient data analytics in ubiquitous computing and scientific discovery. She received an MA and a Ph.D. from Princeton University.  </div>\n",
      "      </div>\n",
      "            \n",
      "  </div>\n",
      "</div>\n",
      "<a name=\"quentin+mcandrew\" id=\"quentin+mcandrew\"></a>\n",
      "<div class=\"person-view-mode-teaser clearfix\">\n",
      "      \n",
      "  <a href=\"/program/data-science/quentin-mcandrew\"><img class=\"image-small_thumbnail\" src=\"https://www.colorado.edu/program/data-science/sites/default/files/styles/small_thumbnail/public/people/quentin_mcandrew_copy.jpg?itok=6y7p50kU\" width=\"100\" height=\"100\" alt=\"Quentin McAndrew\" /></a>    <div class=\"person-view-mode-teaser-content node-view-mode-teaser-content\">\n",
      "    <h2 class=\"node-title\"><a href=\"/program/data-science/quentin-mcandrew\">Quentin McAndrew</a></h2>\n",
      "    <div class=\"person-job-titles\">Instructor</div>\n",
      "    <div class=\"person-departments\">Academic & Learning Innovation</div>\n",
      "          <div class=\"people-bio\">\n",
      "        \n",
      "  <div class=\"field field-name-body field-type-text-with-summary field-label-hidden\">\n",
      "    Dr. Quentin McAndrew, PhD, is currently Coursera's Academic Strategist and was previously Assistant Vice Provost of Academic and Learning Innovation at the University of Colorado. She taught literature and business writing and holds a BA and MA from Stanford, and a PhD from the University of Colorado.  </div>\n",
      "      </div>\n",
      "            \n",
      "  </div>\n",
      "</div>\n",
      "<a name=\"osita+onyejekwe\" id=\"osita+onyejekwe\"></a>\n",
      "<div class=\"person-view-mode-teaser clearfix\">\n",
      "      \n",
      "  <a href=\"/program/data-science/osita-onyejekwe\"><img class=\"image-small_thumbnail\" src=\"https://www.colorado.edu/program/data-science/sites/default/files/styles/small_thumbnail/public/people/osita_small_0.jpeg?itok=uxiRJTyu\" width=\"100\" height=\"100\" alt=\"Osita Onyejekwe Photo\" /></a>    <div class=\"person-view-mode-teaser-content node-view-mode-teaser-content\">\n",
      "    <h2 class=\"node-title\"><a href=\"/program/data-science/osita-onyejekwe\">Osita Onyejekwe</a></h2>\n",
      "    <div class=\"person-job-titles\">Teaching Assistant Professor</div>\n",
      "    <div class=\"person-departments\">Computer Science</div>\n",
      "          <div class=\"people-bio\">\n",
      "        \n",
      "  <div class=\"field field-name-body field-type-text-with-summary field-label-hidden\">\n",
      "    My primary interests are in multivariate regression models in conjunction with machine learning models to estimate weather patterns, glacier recession behavior, as well as looking into financial models pertaining to profit gains, losses, and revenue. I am also interested in planetary systems, abiogenesis, philosophy, and theology.  </div>\n",
      "      </div>\n",
      "                  <div class=\"person-view-mode-teaser-contact\"><span class=\"person-contact-info-item person-contact-info-email\"><i class=\"fa fa-envelope\"></i> \n",
      "  <a href=\"mailto:Osita.Onyejekwe@Colorado.EDU\">Osita.Onyejekwe@Colorado.EDU</a></span></div>\n",
      "    \n",
      "  </div>\n",
      "</div>\n",
      "<a name=\"alan+paradise\" id=\"alan+paradise\"></a>\n",
      "<div class=\"person-view-mode-teaser clearfix\">\n",
      "      \n",
      "  <a href=\"/program/data-science/alan-paradise\"><img class=\"image-small_thumbnail\" src=\"https://www.colorado.edu/program/data-science/sites/default/files/styles/small_thumbnail/public/people/alan_paradise_copy.jpg?itok=hNclIKin\" width=\"100\" height=\"100\" alt=\"Alan Paradise\" /></a>    <div class=\"person-view-mode-teaser-content node-view-mode-teaser-content\">\n",
      "    <h2 class=\"node-title\"><a href=\"/program/data-science/alan-paradise\">Alan Paradise</a></h2>\n",
      "    <div class=\"person-job-titles\">Assistant Teaching Professor</div>\n",
      "    <div class=\"person-departments\">Computer Science</div>\n",
      "          <div class=\"people-bio\">\n",
      "        \n",
      "  <div class=\"field field-name-body field-type-text-with-summary field-label-hidden\">\n",
      "    Professor Paradise worked for almost 40 years as an IT Professional in industry with a focus on database technologies. Professor Paradise has been teaching full time at CU Boulder since 2017, including a popular undergraduate database course as well at the Senior Capstone Project course for graduating CS seniors.  </div>\n",
      "      </div>\n",
      "            \n",
      "  </div>\n",
      "</div>\n",
      "<a name=\"al+pisano\" id=\"al+pisano\"></a>\n",
      "<div class=\"person-view-mode-teaser clearfix\">\n",
      "      \n",
      "  <a href=\"/program/data-science/al-pisano\"><img class=\"image-small_thumbnail\" src=\"https://www.colorado.edu/program/data-science/sites/default/files/styles/small_thumbnail/public/people/al_pisano.jpg?itok=DtzZosLP\" width=\"100\" height=\"100\" alt=\"Al Pisano\" /></a>    <div class=\"person-view-mode-teaser-content node-view-mode-teaser-content\">\n",
      "    <h2 class=\"node-title\"><a href=\"/program/data-science/al-pisano\">Al Pisano</a></h2>\n",
      "    <div class=\"person-job-titles\">Instructor</div>\n",
      "    <div class=\"person-departments\">Computer Science</div>\n",
      "          <div class=\"people-bio\">\n",
      "        \n",
      "  <div class=\"field field-name-body field-type-text-with-summary field-label-hidden\">\n",
      "    Dr. Pisano has a wide breadth of dynamic experience and knowledge within the educational and corporate space with proven success as a presenter, thought leader, author, innovator, entrepreneur, K-12 administrator, higher education administrator, curriculum and program developer, educational consultant and instructor.  </div>\n",
      "      </div>\n",
      "            \n",
      "  </div>\n",
      "</div>\n",
      "<a name=\"sriram+sankaranarayanan\" id=\"sriram+sankaranarayanan\"></a>\n",
      "<div class=\"person-view-mode-teaser clearfix\">\n",
      "      \n",
      "  <a href=\"/program/data-science/sriram-sankaranarayanan\"><img class=\"image-small_thumbnail\" src=\"https://www.colorado.edu/program/data-science/sites/default/files/styles/small_thumbnail/public/people/sriram_sankaranarayanan_copy.jpg?itok=DyJI-dph\" width=\"100\" height=\"100\" alt=\"Sriram Sankaranarayanan\" /></a>    <div class=\"person-view-mode-teaser-content node-view-mode-teaser-content\">\n",
      "    <h2 class=\"node-title\"><a href=\"/program/data-science/sriram-sankaranarayanan\">Sriram Sankaranarayanan</a></h2>\n",
      "    <div class=\"person-job-titles\">Associate Professor</div>\n",
      "    <div class=\"person-departments\">Computer Science</div>\n",
      "          <div class=\"people-bio\">\n",
      "        \n",
      "  <div class=\"field field-name-body field-type-text-with-summary field-label-hidden\">\n",
      "    Dr. Sankaranarayanan is a professor in the CS department, and a member of the Programming Languages &amp; Verification and Computer &amp; Cyber-Physical Systems research groups. He was a member of research staff at NEC Laboratories America from 2005-2009, and graduated with a PhD in (theoretical) CS from Stanford University in 2005.  </div>\n",
      "      </div>\n",
      "            \n",
      "  </div>\n",
      "</div>\n",
      "<a name=\"chris+vargo\" id=\"chris+vargo\"></a>\n",
      "<div class=\"person-view-mode-teaser clearfix\">\n",
      "      \n",
      "  <a href=\"/program/data-science/chris-vargo\"><img class=\"image-small_thumbnail\" src=\"https://www.colorado.edu/program/data-science/sites/default/files/styles/small_thumbnail/public/people/chris_vargo.jpeg?itok=NOw2Xei7\" width=\"100\" height=\"100\" alt=\"Chris Vargo\" /></a>    <div class=\"person-view-mode-teaser-content node-view-mode-teaser-content\">\n",
      "    <h2 class=\"node-title\"><a href=\"/program/data-science/chris-vargo\">Chris Vargo</a></h2>\n",
      "    <div class=\"person-job-titles\">Associate Professor of Advertising and Analytics</div>\n",
      "    <div class=\"person-departments\">College of Media, Communication and Information</div>\n",
      "          <div class=\"people-bio\">\n",
      "        \n",
      "  <div class=\"field field-name-body field-type-text-with-summary field-label-hidden\">\n",
      "    Dr. Chris J. Vargo is an associate professor specializing in data analytics and digital advertising. Dr. Vargo employs the use of computer science methods to investigate social media data using theories from communication, psychology and political science.  </div>\n",
      "      </div>\n",
      "            \n",
      "  </div>\n",
      "</div>\n",
      "<a name=\"di+wu\" id=\"di+wu\"></a>\n",
      "<div class=\"person-view-mode-teaser clearfix\">\n",
      "      \n",
      "  <a href=\"/program/data-science/di-wu\"><img class=\"image-small_thumbnail\" src=\"https://www.colorado.edu/program/data-science/sites/default/files/styles/small_thumbnail/public/people/di_wu_0_0.jpeg?itok=t7cDyoVH\" width=\"100\" height=\"100\" alt=\"Di Wu\" /></a>    <div class=\"person-view-mode-teaser-content node-view-mode-teaser-content\">\n",
      "    <h2 class=\"node-title\"><a href=\"/program/data-science/di-wu\">Di Wu</a></h2>\n",
      "    <div class=\"person-job-titles\">Teaching Assistant Professor</div>\n",
      "    <div class=\"person-departments\">Computer Science</div>\n",
      "          <div class=\"people-bio\">\n",
      "        \n",
      "  <div class=\"field field-name-body field-type-text-with-summary field-label-hidden\">\n",
      "    Dr. Wu’s primary interests are in temporal databases, the semantic web, knowledge representation, and data science. Most of his research has been in extending the Resource Description Framework (RDF) for temporal dimensions. Before joining CU, he taught algorithms and data structures, programming languages, and database management courses. Dr. Wu’s career plan for the next five years is to develop and apply an inclusive, engaging, experiential, and inspiring pedagogy in data...  </div>\n",
      "      </div>\n",
      "                  <div class=\"person-view-mode-teaser-contact\"><span class=\"person-contact-info-item person-contact-info-email\"><i class=\"fa fa-envelope\"></i> \n",
      "  <a href=\"mailto:Di.Wu@colorado.edu\">Di.Wu@colorado.edu</a></span></div>\n",
      "    \n",
      "  </div>\n",
      "</div>\n",
      "<a name=\"dave+underwood\" id=\"dave+underwood\"></a>\n",
      "<div class=\"person-view-mode-teaser clearfix\">\n",
      "      \n",
      "  <a href=\"/program/data-science/dave-underwood\"><img class=\"image-small_thumbnail\" src=\"https://www.colorado.edu/program/data-science/sites/default/files/styles/small_thumbnail/public/people/dave_underwood_0.jpg?itok=0avf4JwZ\" width=\"100\" height=\"99\" alt=\"David Underwood\" /></a>    <div class=\"person-view-mode-teaser-content node-view-mode-teaser-content\">\n",
      "    <h2 class=\"node-title\"><a href=\"/program/data-science/dave-underwood\">Dave Underwood</a></h2>\n",
      "    <div class=\"person-job-titles\">Lecturer (Retired)</div>\n",
      "    <div class=\"person-departments\">Information Technology</div>\n",
      "          <div class=\"people-bio\">\n",
      "        \n",
      "  <div class=\"field field-name-body field-type-text-with-summary field-label-hidden\">\n",
      "    Professor Underwood has worked as a designer, lecturer, and consultant at the University of Colorado Boulder. He has helped design multimedia assignments and has coached students in the effective use of media tools. Most recently, he has assisted in departmental branding at the University.  </div>\n",
      "      </div>\n",
      "            \n",
      "  </div>\n",
      "</div>\n",
      "</div>  </div>\n",
      "</div>\n",
      "  </div>\n",
      "                </div>\n",
      "\n",
      "                                <!-- SIDEBARS -->\n",
      "                                <!-- /SIDEBARS -->\n",
      "\n",
      "              </div>\n",
      "            </div>\n",
      "          </div>\n",
      "\n",
      "        </div>\n",
      "\n",
      "      </div>\n",
      "      <!-- /MAIN CONTENT -->\n",
      "\n",
      "      <!-- FEATURE LAYOUT CONTENT -->\n",
      "            <!-- /FEATURE LAYOUT CONTENT -->\n",
      "    </div>\n",
      "    <!-- /PAGE CONTENT -->\n",
      "\n",
      "    <!-- POST WIDE -->\n",
      "        <!-- /POST WIDE -->\n",
      "\n",
      "    <!-- AFTER CONTENT -->\n",
      "        <!-- /AFTER CONTENT -->\n",
      "\n",
      "    <!-- AFTER CONTENT2 -->\n",
      "        <!-- /AFTER CONTENT2 -->\n",
      "\n",
      "    <!-- FOOTER SECTION -->\n",
      "    <div id=\"footer-section\" class=\"footer-section background-gray-dark\">\n",
      "      <!-- FOOTER -->\n",
      "            <!-- /FOOTER -->\n",
      "\n",
      "      <!-- FOOTER MENU -->\n",
      "            <!-- /FOOTER MENU -->\n",
      "\n",
      "      <!-- SITE INFO -->\n",
      "      <div id=\"site-info-wrapper\" class=\"section site-info-wrapper background-black\">\n",
      "        <div id=\"site-info\" class=\"site-info\">\n",
      "          <div class=\"container\">\n",
      "            \n",
      "  <footer id=\"site-footer\" class=\"row region region-site-info footer-2col\">\n",
      "          <div id=\"site-footer-content\" class=\"col-lg-8 col-md-8\">\n",
      "        <div id=\"block-cu-site-info-site-info\" class=\"block block-cu-site-info has-block-title block-cu-site-info-site-info\">\n",
      "  <div class=\"block-inner-wrapper block-inner clearfix\">\n",
      "              <h2 class=\"block-title\"><a href=\"/program/data-science/\">Master of Science in Data Science</a></h2>\n",
      "            <div class=\"content\">\n",
      "      <p>Offered through an interdisciplinary partnership, data science at CU Boulder is<br />\n",
      "\tdelivered by the Departments of Applied Mathematics, Computer Science,<br />\n",
      "\tand Information Science and awarded by the <a href=\"https://www.colorado.edu/graduateschool/\">Graduate School</a>.</p>\n",
      "<p><a href=\"mailto:datascience@colorado.edu\">datascience@colorado.edu</a></p>\n",
      "    </div>\n",
      "  </div>\n",
      "</div>\n",
      "      </div>\n",
      "            <div id=\"cu-footer\" class=\"col-lg-4 col-md-4\">\n",
      "        <p><a href=\"//www.colorado.edu\"><img src=\"https://www.colorado.edu/program/data-science/profiles/express/themes/ucb/images/beboulder/be-boulder-white.svg\" alt=\"University of Colorado Boulder\" class=\"beboulder\"/></a></p>\n",
      "                <p><strong><a href=\"http://www.colorado.edu\" class=\"cu-boulder-homepage-link\">University of Colorado Boulder</a></strong><br />&copy; Regents of the University of Colorado<br />\n",
      "        <span class=\"required-links\"><a href=\"http://www.colorado.edu/about/privacy-statement\">Privacy</a> &bull; <a href=\"http://www.colorado.edu/about/legal-trademarks\">Legal &amp; Trademarks</a> &bull; <a href=\"http://www.colorado.edu/map\">Campus Map</a></span></p>\n",
      "    </div>\n",
      "  </footer>\n",
      "          </div>\n",
      "        </div>\n",
      "      </div>\n",
      "      <!-- /SITE INFO -->\n",
      "    </div>\n",
      "\n",
      "  </div>\n",
      "</div>\n",
      "  <div id=\"cu_back_to_top\"><a href=\"#page\" title=\"Back to Top\">Return to the top of the page</a></div><script type=\"text/javascript\" src=\"https://www.colorado.edu/program/data-science/profiles/express/modules/custom/backstretch/bs.js?rfpala\"></script>\n",
      "<script type=\"text/javascript\" src=\"https://www.colorado.edu/program/data-science/profiles/express/modules/features/cu_search/js/cu-search.js?rfpala\"></script>\n",
      "<script type=\"text/javascript\" src=\"https://www.colorado.edu/program/data-science/profiles/express/themes/ucb/js/track-focus.js?rfpala\"></script>\n",
      "<script type=\"text/javascript\">\n",
      "<!--//--><![CDATA[//><!--\n",
      "jQuery(document).ready(function () { if (!Modernizr.svgasimg) {\n",
      "  jQuery(\"img#logo\").attr(\"src\", \"https://www.colorado.edu/program/data-science/profiles/express/themes/cumodern/logo.png\");} });\n",
      "//--><!]]>\n",
      "</script>\n",
      "<script type=\"text/javascript\" src=\"https://www.colorado.edu/program/data-science/profiles/express/modules/custom/cu_back_to_top/cu_back_to_top.js?rfpala\"></script>\n",
      "</body>\n",
      "</html>\n",
      "\n"
     ]
    }
   ],
   "source": [
    "import requests\n",
    "\n",
    "url = 'https://www.colorado.edu/program/data-science/faculty'\n",
    "headers = {'user-agent': 'my-app/0.0.1'}\n",
    "r = requests.get(url, headers=headers)\n",
    "content = r.text\n",
    "print(content)"
   ]
  },
  {
   "cell_type": "markdown",
   "metadata": {
    "cell_id": "feea243f917c4443a063546ca312570e",
    "deepnote_app_coordinates": {
     "h": 5,
     "w": 12,
     "x": 0,
     "y": 718
    },
    "deepnote_cell_type": "markdown",
    "id": "uN7fA6SXUomP"
   },
   "source": [
    "### Extract Data from the Page"
   ]
  },
  {
   "cell_type": "code",
   "execution_count": null,
   "metadata": {
    "cell_id": "5a1af67b06ce48c693a3bca4e7f748a8",
    "collapsed": true,
    "deepnote_app_coordinates": {
     "h": 5,
     "w": 12,
     "x": 0,
     "y": 724
    },
    "deepnote_cell_type": "code",
    "deepnote_to_be_reexecuted": false,
    "execution_millis": 153,
    "execution_start": 1661570370076,
    "id": "ZZz_OjEXUomP",
    "jupyter": {
     "outputs_hidden": true
    },
    "outputId": "e1e90dfe-b540-4d3c-da0c-fc2d69dbbc4d",
    "source_hash": "dab9b653"
   },
   "outputs": [
    {
     "data": {
      "text/plain": [
       "<!DOCTYPE html>\n",
       "\n",
       "<!--[if IEMobile 7]><html class=\"iem7\"  lang=\"en\" dir=\"ltr\"><![endif]-->\n",
       "<!--[if lte IE 6]><html class=\"lt-ie9 lt-ie8 lt-ie7\"  lang=\"en\" dir=\"ltr\"><![endif]-->\n",
       "<!--[if (IE 7)&(!IEMobile)]><html class=\"lt-ie9 lt-ie8\"  lang=\"en\" dir=\"ltr\"><![endif]-->\n",
       "<!--[if IE 8]><html class=\"lt-ie9\"  lang=\"en\" dir=\"ltr\"><![endif]-->\n",
       "<!--[if (gte IE 9)|(gt IEMobile 7)]><!--><html dir=\"ltr\" lang=\"en\" xmlns:og=\"http://ogp.me/ns#\"><!--<![endif]-->\n",
       "<head>\n",
       "<meta content=\"text/html; charset=utf-8\" http-equiv=\"Content-Type\"/>\n",
       "<link href=\"https://www.colorado.edu/program/data-science/profiles/express/themes/cumodern/favicon.ico\" rel=\"shortcut icon\" type=\"image/vnd.microsoft.icon\"/>\n",
       "<link href=\"https://www.colorado.edu/program/data-science/feed/rss.xml\" rel=\"alternate\"/>\n",
       "<meta content=\"IE=edge\" http-equiv=\"X-UA-Compatible\"/>\n",
       "<link href=\"https://www.colorado.edu/program/data-science/profiles/express/themes/ucb/apple-icon-57x57.png\" rel=\"apple-touch-icon\" sizes=\"57x57\"/>\n",
       "<link href=\"https://www.colorado.edu/program/data-science/profiles/express/themes/ucb/apple-icon-72x72.png\" rel=\"apple-touch-icon\" sizes=\"72x72\"/>\n",
       "<link href=\"https://www.colorado.edu/program/data-science/profiles/express/themes/ucb/apple-icon-114x114.png\" rel=\"apple-touch-icon\" sizes=\"114x114\"/>\n",
       "<link href=\"https://www.colorado.edu/program/data-science/profiles/express/themes/ucb/apple-icon-144x144.png\" rel=\"apple-touch-icon\" sizes=\"144x144\"/>\n",
       "<link href=\"//fonts.googleapis.com\" rel=\"preconnect\"/>\n",
       "<meta content=\"The MS-DS is a truly interdisciplinary program, with faculty in Computer Science, Applied Mathematics, Information Science, and more. Data science faculty members are housed in Applied Mathematics, Computer Science, Information Science, and other departments across campus.    \" name=\"description\"/>\n",
       "<link crossorigin=\"\" href=\"//fonts.gstatic.com\" rel=\"preconnect\"/>\n",
       "<link href=\"//fonts.googleapis.com/css2?family=Roboto+Condensed:wght@700&amp;family=Roboto:wght@400;700&amp;display=swap\" rel=\"stylesheet\" type=\"text/css\"/>\n",
       "<meta content=\"Drupal 7 (https://www.drupal.org)\" name=\"generator\"/>\n",
       "<link href=\"https://www.colorado.edu/program/data-science/faculty\" rel=\"canonical\"/>\n",
       "<link href=\"https://www.colorado.edu/program/data-science/node/169\" rel=\"shortlink\"/>\n",
       "<meta content=\"Master of Science in Data Science\" property=\"og:site_name\"/>\n",
       "<meta content=\"article\" property=\"og:type\"/>\n",
       "<meta content=\"https://www.colorado.edu/program/data-science/faculty\" property=\"og:url\"/>\n",
       "<meta content=\"Our People\" property=\"og:title\"/>\n",
       "<meta content=\"The MS-DS is a truly interdisciplinary program, with faculty in Computer Science, Applied Mathematics, Information Science, and more. Data science faculty members are housed in Applied Mathematics, Computer Science, Information Science, and other departments across campus.    \" property=\"og:description\"/>\n",
       "<meta content=\"2022-07-15T11:16:44-06:00\" property=\"og:updated_time\"/>\n",
       "<meta content=\"summary\" name=\"twitter:card\"/>\n",
       "<meta content=\"https://www.colorado.edu/program/data-science/faculty\" name=\"twitter:url\"/>\n",
       "<meta content=\"Our People\" name=\"twitter:title\"/>\n",
       "<meta content=\"The MS-DS is a truly interdisciplinary program, with faculty in Computer Science, Applied Mathematics, Information Science, and more. Data science faculty members are housed in Applied Mathematics,\" name=\"twitter:description\"/>\n",
       "<meta content=\"2021-03-11T10:22:39-07:00\" property=\"article:published_time\"/>\n",
       "<meta content=\"2022-07-15T11:16:44-06:00\" property=\"article:modified_time\"/>\n",
       "<title>Our People | Master of Science in Data Science | University of Colorado Boulder</title>\n",
       "<meta content=\"width\" name=\"MobileOptimized\"/>\n",
       "<meta content=\"true\" name=\"HandheldFriendly\"/>\n",
       "<meta content=\"width=device-width\" name=\"viewport\"/>\n",
       "<meta content=\"on\" http-equiv=\"cleartype\"/>\n",
       "<style media=\"screen\" type=\"text/css\">\n",
       "@import url(\"https://www.colorado.edu/program/data-science/modules/system/system.base.css?rfpala\");\n",
       "@import url(\"https://www.colorado.edu/program/data-science/modules/system/system.menus.css?rfpala\");\n",
       "@import url(\"https://www.colorado.edu/program/data-science/modules/system/system.messages.css?rfpala\");\n",
       "@import url(\"https://www.colorado.edu/program/data-science/modules/system/system.theme.css?rfpala\");\n",
       "</style>\n",
       "<style media=\"screen\" type=\"text/css\">\n",
       "@import url(\"https://www.colorado.edu/program/data-science/profiles/express/modules/contrib/jquery_update/replace/ui/themes/base/minified/jquery.ui.core.min.css?rfpala\");\n",
       "@import url(\"https://www.colorado.edu/program/data-science/profiles/express/modules/contrib/jquery_update/replace/ui/themes/base/minified/jquery.ui.accordion.min.css?rfpala\");\n",
       "</style>\n",
       "<style media=\"screen\" type=\"text/css\">\n",
       "@import url(\"https://www.colorado.edu/program/data-science/profiles/express/modules/features/cu_article/modules/cu_article_slider/css/cu-article-slider.css?rfpala\");\n",
       "@import url(\"https://www.colorado.edu/program/data-science/profiles/express/modules/custom/cu_campus_news_bundle/cu_campus_news/css/cu-campus-news.css?rfpala\");\n",
       "@import url(\"https://www.colorado.edu/program/data-science/profiles/express/modules/custom/cu_dashboard_seo/css/cu-dashboard-seo.css?rfpala\");\n",
       "@import url(\"https://www.colorado.edu/program/data-science/profiles/express/modules/custom/cu_expandable/css/cu-expandable.css?rfpala\");\n",
       "@import url(\"https://www.colorado.edu/program/data-science/profiles/express/modules/custom/cu_inactive_users/css/cu-inactive-users.css?rfpala\");\n",
       "@import url(\"https://www.colorado.edu/program/data-science/profiles/express/modules/custom/cu_js_includes/css/cu-js-includes.css?rfpala\");\n",
       "@import url(\"https://www.colorado.edu/program/data-science/profiles/express/modules/custom/cu_profile_module_manager/css/cu-profile-module-manager.css?rfpala\");\n",
       "@import url(\"https://www.colorado.edu/program/data-science/profiles/express/modules/features/cu_article/cu_related_articles/css/cu-related-articles.css?rfpala\");\n",
       "@import url(\"https://www.colorado.edu/program/data-science/profiles/express/modules/custom/cu_rss/css/cu-rss.css?rfpala\");\n",
       "@import url(\"https://www.colorado.edu/program/data-science/profiles/express/modules/custom/cu_share/css/cu-share.css?rfpala\");\n",
       "@import url(\"https://www.colorado.edu/program/data-science/profiles/express/modules/features/cu_wysiwyg/cu-wysiwyg.css?rfpala\");\n",
       "@import url(\"https://www.colorado.edu/program/data-science/profiles/express/modules/contrib/date/date_api/date.css?rfpala\");\n",
       "@import url(\"https://www.colorado.edu/program/data-science/profiles/express/modules/contrib/date/date_popup/themes/datepicker.1.7.css?rfpala\");\n",
       "@import url(\"https://www.colorado.edu/program/data-science/profiles/express/modules/custom/express_add_content/css/express-add-content.css?rfpala\");\n",
       "@import url(\"https://www.colorado.edu/program/data-science/profiles/express/modules/custom/express_block_designer/css/express-block-designer.css?rfpala\");\n",
       "@import url(\"https://www.colorado.edu/program/data-science/profiles/express/modules/custom/express_block_designer/modules/express_block_designer_menu/css/exbd-menu.css?rfpala\");\n",
       "@import url(\"https://www.colorado.edu/program/data-science/profiles/express/modules/custom/express_collections_bundle/css/express-collections-bundle.css?rfpala\");\n",
       "@import url(\"https://www.colorado.edu/program/data-science/profiles/express/modules/custom/express_layout/css/express-layout-admin.css?rfpala\");\n",
       "@import url(\"https://www.colorado.edu/program/data-science/profiles/express/modules/custom/express_localist_bundle/css/express-localist-bundle.css?rfpala\");\n",
       "@import url(\"https://www.colorado.edu/program/data-science/profiles/express/modules/custom/express_localist_bundle/css/express-localist-bundle-theme.css?rfpala\");\n",
       "@import url(\"https://www.colorado.edu/program/data-science/profiles/express/modules/contrib/fences/field.css?rfpala\");\n",
       "@import url(\"https://www.colorado.edu/program/data-science/profiles/express/modules/contrib/fitvids/fitvids.css?rfpala\");\n",
       "@import url(\"https://www.colorado.edu/program/data-science/profiles/express/modules/contrib/google_cse/google_cse.css?rfpala\");\n",
       "@import url(\"https://www.colorado.edu/program/data-science/modules/node/node.css?rfpala\");\n",
       "@import url(\"https://www.colorado.edu/program/data-science/profiles/express/modules/contrib/rave_alerts/css/rave_alerts.css?rfpala\");\n",
       "@import url(\"https://www.colorado.edu/program/data-science/profiles/express/modules/custom/site_navigation_menus/css/site-navigation-menus.css?rfpala\");\n",
       "@import url(\"https://www.colorado.edu/program/data-science/modules/user/user.css?rfpala\");\n",
       "@import url(\"https://www.colorado.edu/program/data-science/profiles/express/modules/contrib/video_filter/video_filter.css?rfpala\");\n",
       "@import url(\"https://www.colorado.edu/program/data-science/profiles/express/modules/contrib/views/css/views.css?rfpala\");\n",
       "@import url(\"https://www.colorado.edu/program/data-science/profiles/express/modules/custom/cu_users/css/cu-users.css?rfpala\");\n",
       "</style>\n",
       "<style media=\"screen\" type=\"text/css\">\n",
       "@import url(\"https://www.colorado.edu/program/data-science/profiles/express/modules/contrib/colorbox/styles/stockholmsyndrome/colorbox_style.css?rfpala\");\n",
       "@import url(\"https://www.colorado.edu/program/data-science/profiles/express/modules/contrib/context_accordion/context_accordion.css?rfpala\");\n",
       "@import url(\"https://www.colorado.edu/program/data-science/profiles/express/modules/contrib/ctools/css/ctools.css?rfpala\");\n",
       "@import url(\"https://www.colorado.edu/program/data-science/profiles/express/libraries/flickity/css/flickity.css?rfpala\");\n",
       "@import url(\"https://www.colorado.edu/program/data-science/profiles/express/libraries/fontawesome/css/font-awesome.min.css?rfpala\");\n",
       "@import url(\"https://www.colorado.edu/program/data-science/profiles/express/modules/contrib/files_undo_remove/files_undo_remove.css?rfpala\");\n",
       "@import url(\"https://www.colorado.edu/program/data-science/profiles/express/modules/custom/backstretch/backstretch.css?rfpala\");\n",
       "@import url(\"https://www.colorado.edu/program/data-science/profiles/express/modules/custom/cu_block_row/css/cu-block-row.css?rfpala\");\n",
       "@import url(\"https://www.colorado.edu/program/data-science/profiles/express/modules/features/cu_block_section/css/cu-block-section.css?rfpala\");\n",
       "@import url(\"https://www.colorado.edu/program/data-science/profiles/express/modules/features/cu_facebook_activity/cu_facebook_activity.css?rfpala\");\n",
       "@import url(\"https://www.colorado.edu/program/data-science/profiles/express/modules/features/cu_feature_callout/css/cu_feature_callout.css?rfpala\");\n",
       "@import url(\"https://www.colorado.edu/program/data-science/profiles/express/modules/features/cu_feature_callout/css/feature-callout-block-designer.css?rfpala\");\n",
       "@import url(\"https://www.colorado.edu/program/data-science/profiles/express/modules/custom/cu_give_buttons/styles/give-button.css?rfpala\");\n",
       "@import url(\"https://www.colorado.edu/program/data-science/profiles/express/modules/features/cu_hero_unit/css/cu_hero_unit.css?rfpala\");\n",
       "@import url(\"https://www.colorado.edu/program/data-science/profiles/express/modules/custom/cu_menu_icon/cu_menu_icon.css?rfpala\");\n",
       "@import url(\"https://www.colorado.edu/program/data-science/profiles/express/modules/custom/cu_rss_block/css/cu-rss-block.css?rfpala\");\n",
       "@import url(\"https://www.colorado.edu/program/data-science/profiles/express/modules/features/cu_search/css/cu-search.css?rfpala\");\n",
       "@import url(\"https://www.colorado.edu/program/data-science/profiles/express/modules/custom/cu_shortcodes/css/cu_shortcodes.css?rfpala\");\n",
       "@import url(\"https://www.colorado.edu/program/data-science/profiles/express/modules/custom/cu_shortcodes/css/cu-shortcodes-columns.css?rfpala\");\n",
       "@import url(\"https://www.colorado.edu/program/data-science/profiles/express/modules/custom/cu_site_info/site_info.css?rfpala\");\n",
       "@import url(\"https://www.colorado.edu/program/data-science/profiles/express/modules/features/cu_social_links/css/social_links.css?rfpala\");\n",
       "@import url(\"https://www.colorado.edu/program/data-science/profiles/express/modules/features/cu_twitter_feed/cu_twitter_feed.css?rfpala\");\n",
       "@import url(\"https://www.colorado.edu/program/data-science/profiles/express/modules/custom/cu_video_hero_unit_bundle/css/cu_video_hero_unit.css?rfpala\");\n",
       "@import url(\"https://www.colorado.edu/program/data-science/profiles/express/modules/custom/cu_video_reveal/css/cu-video-reveal.css?rfpala\");\n",
       "@import url(\"https://www.colorado.edu/program/data-science/profiles/express/modules/custom/express_layout/css/express-layout.css?rfpala\");\n",
       "@import url(\"https://www.colorado.edu/program/data-science/profiles/express/modules/custom/express_settings/css/express-settings.css?rfpala\");\n",
       "@import url(\"https://www.colorado.edu/program/data-science/profiles/express/modules/features/files/css/files.css?rfpala\");\n",
       "@import url(\"https://www.colorado.edu/program/data-science/profiles/express/modules/custom/profile_module_manager/css/profile-module-manager.css?rfpala\");\n",
       "@import url(\"https://www.colorado.edu/program/data-science/profiles/express/modules/features/cu_article/css/cu-article.css?rfpala\");\n",
       "@import url(\"https://www.colorado.edu/program/data-science/profiles/express/modules/features/cu_article/css/cu-article-grid.css?rfpala\");\n",
       "@import url(\"https://www.colorado.edu/program/data-science/profiles/express/modules/features/cu_article/css/owl.carousel.css?rfpala\");\n",
       "</style>\n",
       "<style media=\"screen\" type=\"text/css\">\n",
       "@import url(\"https://www.colorado.edu/program/data-science/profiles/express/modules/features/cu_faq/css/cu_faq.css?rfpala\");\n",
       "@import url(\"https://www.colorado.edu/program/data-science/profiles/express/modules/features/cu_page/cu-page.css?rfpala\");\n",
       "@import url(\"https://www.colorado.edu/program/data-science/profiles/express/modules/custom/express_theme_picker/express_theme_picker.css?rfpala\");\n",
       "@import url(\"https://www.colorado.edu/program/data-science/profiles/express/modules/features/people_content_type/css/people_content_type.css?rfpala\");\n",
       "@import url(\"https://www.colorado.edu/program/data-science/profiles/express/modules/features/photo_gallery/css/photo-gallery.css?rfpala\");\n",
       "@import url(\"https://www.colorado.edu/program/data-science/profiles/express/modules/custom/cu_back_to_top/cu_back_to_top.css?rfpala\");\n",
       "@import url(\"https://www.colorado.edu/program/data-science/sites/default/files/honeypot/honeypot.css?rfpala\");\n",
       "</style>\n",
       "<style media=\"screen\" type=\"text/css\">\n",
       "@import url(\"https://www.colorado.edu/program/data-science/profiles/express/themes/ucb/css/ucb.css?rfpala\");\n",
       "@import url(\"https://www.colorado.edu/program/data-science/profiles/express/themes/cumodern/css/modern-styles.css?rfpala\");\n",
       "</style>\n",
       "<style media=\"print\" type=\"text/css\">\n",
       "@import url(\"https://www.colorado.edu/program/data-science/profiles/express/themes/ucb/css/ucb-print.css?rfpala\");\n",
       "</style>\n",
       "<script defer=\"defer\" src=\"https://www.colorado.edu/program/data-science/sites/default/files/google_tag/google_tag.script.js?rfpala\" type=\"text/javascript\"></script>\n",
       "<script src=\"https://www.colorado.edu/program/data-science/profiles/express/libraries/modernizr/modernizr.min.js?rfpala\" type=\"text/javascript\"></script>\n",
       "<script src=\"https://www.colorado.edu/program/data-science/profiles/express/modules/contrib/jquery_update/replace/jquery/1.9/jquery.min.js?v=1.9.1\" type=\"text/javascript\"></script>\n",
       "<script type=\"text/javascript\">\n",
       "<!--//--><![CDATA[//><!--\n",
       "jQuery.migrateMute=true;jQuery.migrateTrace=false;\n",
       "//--><!]]>\n",
       "</script>\n",
       "<script src=\"https://www.colorado.edu/program/data-science/profiles/express/modules/contrib/jquery_update/replace/jquery-migrate/1/jquery-migrate.min.js?v=1\" type=\"text/javascript\"></script>\n",
       "<script src=\"https://www.colorado.edu/program/data-science/misc/jquery-extend-3.4.0.js?v=1.9.1\" type=\"text/javascript\"></script>\n",
       "<script src=\"https://www.colorado.edu/program/data-science/misc/jquery-html-prefilter-3.5.0-backport.js?v=1.9.1\" type=\"text/javascript\"></script>\n",
       "<script src=\"https://www.colorado.edu/program/data-science/misc/jquery.once.js?v=1.2\" type=\"text/javascript\"></script>\n",
       "<script src=\"https://www.colorado.edu/program/data-science/misc/drupal.js?rfpala\" type=\"text/javascript\"></script>\n",
       "<script src=\"https://www.colorado.edu/program/data-science/profiles/express/libraries/fitvids/jquery.fitvids.js?rfpala\" type=\"text/javascript\"></script>\n",
       "<script src=\"https://www.colorado.edu/program/data-science/profiles/express/libraries/match-height/jquery.matchHeight-min.js?rfpala\" type=\"text/javascript\"></script>\n",
       "<script src=\"https://www.colorado.edu/program/data-science/profiles/express/libraries/waypoints/waypoint.js?rfpala\" type=\"text/javascript\"></script>\n",
       "<script src=\"https://www.colorado.edu/program/data-science/profiles/express/modules/contrib/jquery_update/replace/ui/ui/minified/jquery.ui.core.min.js?v=1.10.2\" type=\"text/javascript\"></script>\n",
       "<script src=\"https://www.colorado.edu/program/data-science/profiles/express/modules/contrib/jquery_update/replace/ui/ui/minified/jquery.ui.widget.min.js?v=1.10.2\" type=\"text/javascript\"></script>\n",
       "<script src=\"https://www.colorado.edu/program/data-science/profiles/express/modules/contrib/jquery_update/replace/ui/ui/minified/jquery.ui.accordion.min.js?v=1.10.2\" type=\"text/javascript\"></script>\n",
       "<script src=\"https://www.colorado.edu/program/data-science/profiles/express/modules/features/cu_colorbox/js/cu-colorbox.js?rfpala\" type=\"text/javascript\"></script>\n",
       "<script src=\"https://www.colorado.edu/program/data-science/profiles/express/modules/custom/cu_expandable/js/expandable.plugin.js?rfpala\" type=\"text/javascript\"></script>\n",
       "<script src=\"https://www.colorado.edu/program/data-science/profiles/express/modules/custom/cu_expandable/js/cu-expandable.js?rfpala\" type=\"text/javascript\"></script>\n",
       "<script src=\"https://www.colorado.edu/program/data-science/profiles/express/modules/custom/cu_share/js/cu_share.js?rfpala\" type=\"text/javascript\"></script>\n",
       "<script src=\"https://www.colorado.edu/program/data-science/profiles/express/modules/custom/cu_video_hero_unit_bundle/js/cu-video-hero.js?rfpala\" type=\"text/javascript\"></script>\n",
       "<script src=\"https://www.colorado.edu/program/data-science/profiles/express/modules/custom/express_collections_bundle/js/express-collections-bundle.js?rfpala\" type=\"text/javascript\"></script>\n",
       "<script src=\"https://www.colorado.edu/program/data-science/profiles/express/modules/custom/express_layout/js/express-layout.js?rfpala\" type=\"text/javascript\"></script>\n",
       "<script src=\"https://www.colorado.edu/program/data-science/profiles/express/modules/contrib/fitvids/fitvids.js?rfpala\" type=\"text/javascript\"></script>\n",
       "<script src=\"https://www.colorado.edu/program/data-science/profiles/express/modules/contrib/google_cse/google_cse.js?rfpala\" type=\"text/javascript\"></script>\n",
       "<script src=\"https://www.colorado.edu/program/data-science/profiles/express/modules/custom/site_navigation_menus/js/site-navigation-menus.js?rfpala\" type=\"text/javascript\"></script>\n",
       "<script src=\"https://www.colorado.edu/program/data-science/profiles/express/libraries/colorbox/jquery.colorbox-min.js?rfpala\" type=\"text/javascript\"></script>\n",
       "<script src=\"https://www.colorado.edu/program/data-science/profiles/express/modules/contrib/colorbox/js/colorbox.js?rfpala\" type=\"text/javascript\"></script>\n",
       "<script src=\"https://www.colorado.edu/program/data-science/profiles/express/modules/contrib/colorbox/styles/stockholmsyndrome/colorbox_style.js?rfpala\" type=\"text/javascript\"></script>\n",
       "<script src=\"https://www.colorado.edu/program/data-science/profiles/express/modules/contrib/context_accordion/context_accordion.js?rfpala\" type=\"text/javascript\"></script>\n",
       "<script src=\"https://www.colorado.edu/program/data-science/profiles/express/libraries/flickity/js/flickity.pkgd.min.js?rfpala\" type=\"text/javascript\"></script>\n",
       "<script src=\"https://www.colorado.edu/program/data-science/profiles/express/modules/features/cu_article/modules/cu_article_slider/js/cu-article-slider.js?rfpala\" type=\"text/javascript\"></script>\n",
       "<script src=\"https://www.colorado.edu/program/data-science/profiles/express/modules/contrib/files_undo_remove/files_undo_remove.js?rfpala\" type=\"text/javascript\"></script>\n",
       "<script src=\"https://www.colorado.edu/program/data-science/profiles/express/libraries/backstretch/jquery.backstretch.js?rfpala\" type=\"text/javascript\"></script>\n",
       "<script src=\"https://www.colorado.edu/program/data-science/profiles/express/modules/contrib/rave_alerts/js/rave_alerts.js?rfpala\" type=\"text/javascript\"></script>\n",
       "<script src=\"https://www.colorado.edu/program/data-science/profiles/express/modules/features/cu_block_section/js/cu-block-section.js?rfpala\" type=\"text/javascript\"></script>\n",
       "<script src=\"https://www.colorado.edu/program/data-science/profiles/express/modules/features/cu_block_section/js/parallaxie.js?rfpala\" type=\"text/javascript\"></script>\n",
       "<script src=\"https://www.colorado.edu/program/data-science/profiles/express/modules/custom/cu_shortcodes/js/cu_shortcodes.js?rfpala\" type=\"text/javascript\"></script>\n",
       "<script src=\"https://www.colorado.edu/program/data-science/profiles/express/modules/custom/cu_shortcodes/js/counter.js?rfpala\" type=\"text/javascript\"></script>\n",
       "<script src=\"//www.youtube.com/iframe_api\" type=\"text/javascript\"></script>\n",
       "<script src=\"https://www.colorado.edu/program/data-science/profiles/express/modules/contrib/google_analytics/googleanalytics.js?rfpala\" type=\"text/javascript\"></script>\n",
       "<script type=\"text/javascript\">\n",
       "<!--//--><![CDATA[//><!--\n",
       "(function(i,s,o,g,r,a,m){i[\"GoogleAnalyticsObject\"]=r;i[r]=i[r]||function(){(i[r].q=i[r].q||[]).push(arguments)},i[r].l=1*new Date();a=s.createElement(o),m=s.getElementsByTagName(o)[0];a.async=1;a.src=g;m.parentNode.insertBefore(a,m)})(window,document,\"script\",\"https://www.google-analytics.com/analytics.js\",\"ga\");ga(\"create\", \"UA-105731679-1\", {\"cookieDomain\":\"auto\"});ga(\"create\", \"UA-142322394-2\", \"auto\", {\"name\":\"customTracker0\"});ga(\"set\", \"anonymizeIp\", true);ga(\"set\", \"dimension1\", \"169\");ga(\"set\", \"dimension2\", \"Our People\");ga(\"set\", \"dimension3\", \"People List Page\");ga(\"set\", \"dimension4\", \"Thu, 03\\/11\\/2021 - 10:22\");ga(\"customTracker0.set\", \"anonymizeIp\", true);ga(\"customTracker0.set\", \"dimension1\", \"169\");ga(\"customTracker0.set\", \"dimension2\", \"Our People\");ga(\"customTracker0.set\", \"dimension3\", \"People List Page\");ga(\"customTracker0.set\", \"dimension4\", \"Thu, 03\\/11\\/2021 - 10:22\");ga(\"send\", \"pageview\");ga(\"customTracker0.send\", \"pageview\");\n",
       "//--><!]]>\n",
       "</script>\n",
       "<script src=\"https://www.colorado.edu/program/data-science/profiles/express/themes/ucb/js/ucb.js?rfpala\" type=\"text/javascript\"></script>\n",
       "<script type=\"text/javascript\">\n",
       "<!--//--><![CDATA[//><!--\n",
       "jQuery.extend(Drupal.settings, {\"basePath\":\"\\/program\\/data-science\\/\",\"pathPrefix\":\"\",\"setHasJsCookie\":0,\"ajaxPageState\":{\"theme\":\"cumodern\",\"theme_token\":\"HLAMtQtzE_pgjpqISKZ68kucFyVv2F6_D6j9I4TyOTU\",\"js\":{\"profiles\\/express\\/modules\\/custom\\/backstretch\\/bs.js\":1,\"profiles\\/express\\/modules\\/features\\/cu_search\\/js\\/cu-search.js\":1,\"profiles\\/express\\/themes\\/ucb\\/js\\/track-focus.js\":1,\"0\":1,\"profiles\\/express\\/modules\\/custom\\/cu_back_to_top\\/cu_back_to_top.js\":1,\"public:\\/\\/google_tag\\/google_tag.script.js\":1,\"profiles\\/express\\/libraries\\/modernizr\\/modernizr.min.js\":1,\"profiles\\/express\\/modules\\/contrib\\/jquery_update\\/replace\\/jquery\\/1.9\\/jquery.min.js\":1,\"1\":1,\"profiles\\/express\\/modules\\/contrib\\/jquery_update\\/replace\\/jquery-migrate\\/1\\/jquery-migrate.min.js\":1,\"misc\\/jquery-extend-3.4.0.js\":1,\"misc\\/jquery-html-prefilter-3.5.0-backport.js\":1,\"misc\\/jquery.once.js\":1,\"misc\\/drupal.js\":1,\"profiles\\/express\\/libraries\\/fitvids\\/jquery.fitvids.js\":1,\"profiles\\/express\\/libraries\\/match-height\\/jquery.matchHeight-min.js\":1,\"profiles\\/express\\/libraries\\/waypoints\\/waypoint.js\":1,\"profiles\\/express\\/modules\\/contrib\\/jquery_update\\/replace\\/ui\\/ui\\/minified\\/jquery.ui.core.min.js\":1,\"profiles\\/express\\/modules\\/contrib\\/jquery_update\\/replace\\/ui\\/ui\\/minified\\/jquery.ui.widget.min.js\":1,\"profiles\\/express\\/modules\\/contrib\\/jquery_update\\/replace\\/ui\\/ui\\/minified\\/jquery.ui.accordion.min.js\":1,\"profiles\\/express\\/modules\\/features\\/cu_colorbox\\/js\\/cu-colorbox.js\":1,\"profiles\\/express\\/modules\\/custom\\/cu_expandable\\/js\\/expandable.plugin.js\":1,\"profiles\\/express\\/modules\\/custom\\/cu_expandable\\/js\\/cu-expandable.js\":1,\"profiles\\/express\\/modules\\/custom\\/cu_share\\/js\\/cu_share.js\":1,\"profiles\\/express\\/modules\\/custom\\/cu_video_hero_unit_bundle\\/js\\/cu-video-hero.js\":1,\"profiles\\/express\\/modules\\/custom\\/express_collections_bundle\\/js\\/express-collections-bundle.js\":1,\"profiles\\/express\\/modules\\/custom\\/express_layout\\/js\\/express-layout.js\":1,\"profiles\\/express\\/modules\\/contrib\\/fitvids\\/fitvids.js\":1,\"profiles\\/express\\/modules\\/contrib\\/google_cse\\/google_cse.js\":1,\"profiles\\/express\\/modules\\/custom\\/site_navigation_menus\\/js\\/site-navigation-menus.js\":1,\"profiles\\/express\\/libraries\\/colorbox\\/jquery.colorbox-min.js\":1,\"profiles\\/express\\/modules\\/contrib\\/colorbox\\/js\\/colorbox.js\":1,\"profiles\\/express\\/modules\\/contrib\\/colorbox\\/styles\\/stockholmsyndrome\\/colorbox_style.js\":1,\"profiles\\/express\\/modules\\/contrib\\/context_accordion\\/context_accordion.js\":1,\"profiles\\/express\\/libraries\\/flickity\\/js\\/flickity.pkgd.min.js\":1,\"profiles\\/express\\/modules\\/features\\/cu_article\\/modules\\/cu_article_slider\\/js\\/cu-article-slider.js\":1,\"profiles\\/express\\/modules\\/contrib\\/files_undo_remove\\/files_undo_remove.js\":1,\"profiles\\/express\\/libraries\\/backstretch\\/jquery.backstretch.js\":1,\"profiles\\/express\\/modules\\/contrib\\/rave_alerts\\/js\\/rave_alerts.js\":1,\"profiles\\/express\\/modules\\/features\\/cu_block_section\\/js\\/cu-block-section.js\":1,\"profiles\\/express\\/modules\\/features\\/cu_block_section\\/js\\/parallaxie.js\":1,\"profiles\\/express\\/modules\\/custom\\/cu_shortcodes\\/js\\/cu_shortcodes.js\":1,\"profiles\\/express\\/modules\\/custom\\/cu_shortcodes\\/js\\/counter.js\":1,\"\\/\\/www.youtube.com\\/iframe_api\":1,\"profiles\\/express\\/modules\\/contrib\\/google_analytics\\/googleanalytics.js\":1,\"2\":1,\"profiles\\/express\\/themes\\/ucb\\/js\\/ucb.js\":1},\"css\":{\"modules\\/system\\/system.base.css\":1,\"modules\\/system\\/system.menus.css\":1,\"modules\\/system\\/system.messages.css\":1,\"modules\\/system\\/system.theme.css\":1,\"misc\\/ui\\/jquery.ui.core.css\":1,\"misc\\/ui\\/jquery.ui.accordion.css\":1,\"profiles\\/express\\/modules\\/features\\/cu_article\\/modules\\/cu_article_slider\\/css\\/cu-article-slider.css\":1,\"profiles\\/express\\/modules\\/custom\\/cu_campus_news_bundle\\/cu_campus_news\\/css\\/cu-campus-news.css\":1,\"profiles\\/express\\/modules\\/custom\\/cu_dashboard_seo\\/css\\/cu-dashboard-seo.css\":1,\"profiles\\/express\\/modules\\/custom\\/cu_expandable\\/css\\/cu-expandable.css\":1,\"profiles\\/express\\/modules\\/custom\\/cu_inactive_users\\/css\\/cu-inactive-users.css\":1,\"profiles\\/express\\/modules\\/custom\\/cu_js_includes\\/css\\/cu-js-includes.css\":1,\"profiles\\/express\\/modules\\/custom\\/cu_profile_module_manager\\/css\\/cu-profile-module-manager.css\":1,\"profiles\\/express\\/modules\\/features\\/cu_article\\/cu_related_articles\\/css\\/cu-related-articles.css\":1,\"profiles\\/express\\/modules\\/custom\\/cu_rss\\/css\\/cu-rss.css\":1,\"profiles\\/express\\/modules\\/custom\\/cu_share\\/css\\/cu-share.css\":1,\"profiles\\/express\\/modules\\/features\\/cu_wysiwyg\\/cu-wysiwyg.css\":1,\"profiles\\/express\\/modules\\/contrib\\/date\\/date_api\\/date.css\":1,\"profiles\\/express\\/modules\\/contrib\\/date\\/date_popup\\/themes\\/datepicker.1.7.css\":1,\"profiles\\/express\\/modules\\/custom\\/express_add_content\\/css\\/express-add-content.css\":1,\"profiles\\/express\\/modules\\/custom\\/express_block_designer\\/css\\/express-block-designer.css\":1,\"profiles\\/express\\/modules\\/custom\\/express_block_designer\\/modules\\/express_block_designer_menu\\/css\\/exbd-menu.css\":1,\"profiles\\/express\\/modules\\/custom\\/express_collections_bundle\\/css\\/express-collections-bundle.css\":1,\"profiles\\/express\\/modules\\/custom\\/express_layout\\/css\\/express-layout-admin.css\":1,\"profiles\\/express\\/modules\\/custom\\/express_localist_bundle\\/css\\/express-localist-bundle.css\":1,\"profiles\\/express\\/modules\\/custom\\/express_localist_bundle\\/css\\/express-localist-bundle-theme.css\":1,\"modules\\/field\\/theme\\/field.css\":1,\"profiles\\/express\\/modules\\/contrib\\/fitvids\\/fitvids.css\":1,\"profiles\\/express\\/modules\\/contrib\\/google_cse\\/google_cse.css\":1,\"modules\\/node\\/node.css\":1,\"profiles\\/express\\/modules\\/contrib\\/rave_alerts\\/css\\/rave_alerts.css\":1,\"profiles\\/express\\/modules\\/custom\\/site_navigation_menus\\/css\\/site-navigation-menus.css\":1,\"modules\\/user\\/user.css\":1,\"profiles\\/express\\/modules\\/contrib\\/video_filter\\/video_filter.css\":1,\"profiles\\/express\\/modules\\/contrib\\/views\\/css\\/views.css\":1,\"profiles\\/express\\/modules\\/custom\\/cu_users\\/css\\/cu-users.css\":1,\"profiles\\/express\\/modules\\/contrib\\/colorbox\\/styles\\/stockholmsyndrome\\/colorbox_style.css\":1,\"profiles\\/express\\/modules\\/contrib\\/context_accordion\\/context_accordion.css\":1,\"profiles\\/express\\/modules\\/contrib\\/ctools\\/css\\/ctools.css\":1,\"profiles\\/express\\/libraries\\/flickity\\/css\\/flickity.css\":1,\"profiles\\/express\\/libraries\\/fontawesome\\/css\\/font-awesome.min.css\":1,\"profiles\\/express\\/modules\\/contrib\\/files_undo_remove\\/files_undo_remove.css\":1,\"profiles\\/express\\/modules\\/custom\\/backstretch\\/backstretch.css\":1,\"profiles\\/express\\/modules\\/custom\\/cu_block_row\\/css\\/cu-block-row.css\":1,\"profiles\\/express\\/modules\\/features\\/cu_block_section\\/css\\/cu-block-section.css\":1,\"profiles\\/express\\/modules\\/features\\/cu_facebook_activity\\/cu_facebook_activity.css\":1,\"profiles\\/express\\/modules\\/features\\/cu_feature_callout\\/css\\/cu_feature_callout.css\":1,\"profiles\\/express\\/modules\\/features\\/cu_feature_callout\\/css\\/feature-callout-block-designer.css\":1,\"profiles\\/express\\/modules\\/custom\\/cu_give_buttons\\/styles\\/give-button.css\":1,\"profiles\\/express\\/modules\\/features\\/cu_hero_unit\\/css\\/cu_hero_unit.css\":1,\"profiles\\/express\\/modules\\/custom\\/cu_menu_icon\\/cu_menu_icon.css\":1,\"profiles\\/express\\/modules\\/custom\\/cu_rss_block\\/css\\/cu-rss-block.css\":1,\"profiles\\/express\\/modules\\/features\\/cu_search\\/css\\/cu-search.css\":1,\"profiles\\/express\\/modules\\/custom\\/cu_shortcodes\\/css\\/cu_shortcodes.css\":1,\"profiles\\/express\\/modules\\/custom\\/cu_shortcodes\\/css\\/cu-shortcodes-columns.css\":1,\"profiles\\/express\\/modules\\/custom\\/cu_site_info\\/site_info.css\":1,\"profiles\\/express\\/modules\\/features\\/cu_social_links\\/css\\/social_links.css\":1,\"profiles\\/express\\/modules\\/features\\/cu_twitter_feed\\/cu_twitter_feed.css\":1,\"profiles\\/express\\/modules\\/custom\\/cu_video_hero_unit_bundle\\/css\\/cu_video_hero_unit.css\":1,\"profiles\\/express\\/modules\\/custom\\/cu_video_reveal\\/css\\/cu-video-reveal.css\":1,\"profiles\\/express\\/modules\\/custom\\/express_layout\\/css\\/express-layout.css\":1,\"profiles\\/express\\/modules\\/custom\\/express_settings\\/css\\/express-settings.css\":1,\"profiles\\/express\\/modules\\/features\\/files\\/css\\/files.css\":1,\"profiles\\/express\\/modules\\/custom\\/profile_module_manager\\/css\\/profile-module-manager.css\":1,\"profiles\\/express\\/modules\\/features\\/cu_article\\/css\\/cu-article.css\":1,\"profiles\\/express\\/modules\\/features\\/cu_article\\/css\\/cu-article-grid.css\":1,\"profiles\\/express\\/modules\\/features\\/cu_article\\/css\\/owl.carousel.css\":1,\"profiles\\/express\\/modules\\/features\\/cu_faq\\/css\\/cu_faq.css\":1,\"profiles\\/express\\/modules\\/features\\/cu_page\\/cu-page.css\":1,\"profiles\\/express\\/modules\\/custom\\/express_theme_picker\\/express_theme_picker.css\":1,\"profiles\\/express\\/modules\\/features\\/people_content_type\\/css\\/people_content_type.css\":1,\"profiles\\/express\\/modules\\/features\\/photo_gallery\\/css\\/photo-gallery.css\":1,\"profiles\\/express\\/modules\\/custom\\/cu_back_to_top\\/cu_back_to_top.css\":1,\"public:\\/\\/honeypot\\/honeypot.css\":1,\"profiles\\/express\\/themes\\/ucb\\/css\\/ucb.css\":1,\"profiles\\/express\\/themes\\/cumodern\\/css\\/modern-styles.css\":1,\"profiles\\/express\\/themes\\/ucb\\/css\\/ucb-print.css\":1}},\"colorbox\":{\"opacity\":\"0.85\",\"current\":\"{current} of {total}\",\"previous\":\"\\u00ab Prev\",\"next\":\"Next \\u00bb\",\"close\":\"Close\",\"maxWidth\":\"98%\",\"maxHeight\":\"98%\",\"fixed\":true,\"mobiledetect\":true,\"mobiledevicewidth\":\"320px\",\"specificPagesDefaultValue\":\"admin*\\nimagebrowser*\\nimg_assist*\\nimce*\\nnode\\/add\\/*\\nnode\\/*\\/edit\\nprint\\/*\\nprintpdf\\/*\\nsystem\\/ajax\\nsystem\\/ajax\\/*\"},\"localist_bypass_urls\":[\"cupresents.org\"],\"googleCSE\":{\"cx\":\"\",\"resultsWidth\":600,\"domain\":\"www.google.com\",\"showWaterMark\":true},\"fitvids\":{\"custom_domains\":[],\"selectors\":[\"body\"],\"simplifymarkup\":true,\"ignore\":\"\"},\"backstretchURL\":\"\",\"backstretchMinWidth\":0,\"googleanalytics\":{\"trackOutbound\":1,\"trackMailto\":1,\"trackDownload\":1,\"trackDownloadExtensions\":\"7z|aac|arc|arj|asf|asx|avi|bin|csv|doc|exe|flv|gif|gz|gzip|hqx|jar|jpe?g|js|mp(2|3|4|e?g)|mov(ie)?|msi|msp|pdf|phps|png|ppt|qtm?|ra(m|r)?|sea|sit|tar|tgz|torrent|txt|wav|wma|wmv|wpd|xls|xml|z|zip\",\"trackColorbox\":1},\"currentPath\":\"node\\/169\",\"currentPathIsAdmin\":false,\"urlIsAjaxTrusted\":{\"\\/program\\/data-science\\/faculty\":true}});\n",
       "//--><!]]>\n",
       "</script>\n",
       "<!--[if lt IE 9]>\n",
       "    <script src=\"/program/data-science/profiles/express/themes/ucb/js/html5-respond.js\"></script>\n",
       "    <![endif]-->\n",
       "</head>\n",
       "<body class=\"html not-front not-logged-in no-sidebars page-node page-node- page-node-169 node-type-people-list-page layout-default headings-bold page-title-image-background-transparent layout-responsive max-width-1200 primary-sidebar-second express-site-type- banner-black layout-wide\">\n",
       "<p id=\"skip-link\">\n",
       "<a class=\"element-invisible element-focusable\" href=\"#main\">Skip to Content</a>\n",
       "</p>\n",
       "<noscript aria-hidden=\"true\"><iframe height=\"0\" src=\"https://www.googletagmanager.com/ns.html?id=GTM-M3DX2QP\" style=\"display:none;visibility:hidden\" width=\"0\"></iframe></noscript> <div class=\"page-wrapper\">\n",
       "<div class=\"page page node-published\">\n",
       "<!-- ALERTS -->\n",
       "<div class=\"section\" id=\"alerts-wide-wrapper\">\n",
       "<div class=\"clearfix\" id=\"alerts\">\n",
       "<div class=\"region region-alerts\">\n",
       "<div class=\"block block-rave-alerts block-rave-alerts-rave-alerts\" id=\"block-rave-alerts-rave-alerts\">\n",
       "<div class=\"block-inner-wrapper block-inner clearfix\">\n",
       "<div class=\"content\">\n",
       "<div data-remote-url=\"\" id=\"rave-alerts\">\n",
       "</div>\n",
       "</div>\n",
       "</div>\n",
       "</div>\n",
       "</div>\n",
       "</div>\n",
       "</div>\n",
       "<!-- CAMPUS BRANDING -->\n",
       "<div class=\"brand-bar brand-bar-color-black no-underline\">\n",
       "<div class=\"container\">\n",
       "<div class=\"brand-bar-container\">\n",
       "<div class=\"brand-logo\">\n",
       "<a href=\"http://www.colorado.edu\"><img alt=\"University of Colorado Boulder\" src=\"https://www.colorado.edu/program/data-science/profiles/express/themes/ucb/images/cu-boulder-logo-text-black.svg\"/></a>\n",
       "</div>\n",
       "<div class=\"brand-links\">\n",
       "</div>\n",
       "<div class=\"search-toggle-wrapper\">\n",
       "<a aria-controls=\"search\" aria-expanded=\"false\" aria-haspopup=\"true\" aria-label=\"Search\" class=\"search-toggle\" href=\"https://www.colorado.edu/search\" id=\"search-toggle\"><i class=\"fa fa-search fa-fw\"></i><span class=\"element-invisible\">Search </span></a>\n",
       "</div>\n",
       "</div>\n",
       "</div>\n",
       "</div>\n",
       "<!-- /CAMPUS BRANDING -->\n",
       "<!-- DESKTOP SEARCH -->\n",
       "<div class=\"background-black\" id=\"search\" tabindex=\"-1\">\n",
       "<div id=\"search-inner\">\n",
       "<div class=\"container container-small\">\n",
       "<div class=\"search-form\">\n",
       "<div class=\"cu-search-box cu-search-box-small animated\" role=\"search\">\n",
       "<h2>Search</h2>\n",
       "<form action=\"https://www.colorado.edu/search\" class=\"cu-search-form\" method=\"get\">\n",
       "<div class=\"search-form-wrapper\">\n",
       "<div class=\"search-fields\">\n",
       "<div class=\"cu-search\">\n",
       "<div class=\"form-item form-type-textfield form-item-search-keys\">\n",
       "<label class=\"element-invisible\" for=\"edit-search-keys\">Enter the terms you wish to search for. </label>\n",
       "<input class=\"form-text\" id=\"edit-search-keys\" maxlength=\"128\" name=\"cse\" placeholder=\"Search Colorado.edu\" size=\"15\" type=\"search\" value=\"\"/>\n",
       "</div>\n",
       "<div class=\"form-actions form-wrapper\" id=\"edit-actions\"><input class=\"form-submit\" id=\"edit-submit\" name=\"op\" type=\"submit\" value=\"Search\"/></div>\n",
       "</div>\n",
       "</div>\n",
       "<div class=\"campus-links\">\n",
       "<h3 class=\"display-inline\">Other ways to search: </h3>\n",
       "<ul class=\"inline inline-menu\">\n",
       "<li><a href=\"https://calendar.colorado.edu\">Events Calendar</a></li>\n",
       "<li><a href=\"https://www.colorado.edu/map\">Campus Map</a></li>\n",
       "</ul>\n",
       "</div>\n",
       "</div>\n",
       "</form>\n",
       "</div>\n",
       "<button id=\"close-search\"><i aria-hidden=\"true\" class=\"fa fa-times\"></i><span class=\"element-invisible\">Close</span></button>\n",
       "</div>\n",
       "</div>\n",
       "</div>\n",
       "</div>\n",
       "<!-- /DESKTOP SEARCH -->\n",
       "<!-- SITE HEADER -->\n",
       "<div class=\"section header-wrapper no-underline cu-header\" id=\"header-wrapper\">\n",
       "<div class=\"container\">\n",
       "<header class=\"ucb header clearfix\" id=\"header\" role=\"banner\" tabindex=\"-1\">\n",
       "<div class=\"site-name-wrapper\">\n",
       "<div class=\"site-name\">\n",
       "<a class=\"header__site-link\" href=\"/program/data-science/\" rel=\"home\" title=\"Home\"><span>Master of Science in Data Science</span></a>\n",
       "</div>\n",
       "<div id=\"print-site-name\">Master of Science in Data Science</div>\n",
       "</div>\n",
       "<div class=\"mobile-menu-toggle menu-toggle\">\n",
       "<button aria-controls=\"mobile-menu\" aria-expanded=\"false\" aria-haspopup=\"true\" aria-label=\"Navigation\" id=\"toggle\"><i aria-hidden=\"true\" class=\"fa fa-reorder fa-fw\"></i><span class=\"mobile-menu-text\">Menu </span></button>\n",
       "</div>\n",
       "</header>\n",
       "</div>\n",
       "</div>\n",
       "<!-- /SITE HEADER -->\n",
       "<!-- NAVIGATION -->\n",
       "<div class=\"navigation-wrapper section no-underline\" id=\"navigation-wrapper\">\n",
       "<!-- Main menu -->\n",
       "<div class=\"section\" id=\"main-menu-wrapper\">\n",
       "<div class=\"container\" id=\"navigation\">\n",
       "<div class=\"nav-inner clearfix\">\n",
       "<nav class=\"region region-menu\" role=\"navigation\" tabindex=\"-1\">\n",
       "<div>\n",
       "<h2 class=\"element-invisible\">Main menu</h2> <ul class=\"links inline clearfix\" id=\"main-menu\"><li class=\"home-link first\"><a class=\"home-link first\" href=\"/program/data-science/\" id=\"home-link\"><i class=\"fa fa-home\"></i><span class=\"element-invisible\">Home</span></a></li><li class=\"\"><a href=\"/program/data-science/big-opportunities-in-big-data-Landing-Page\">Academics</a></li><li class=\"\"><a href=\"/program/data-science/campus-overview\">On Campus</a></li><li class=\"\"><a href=\"/program/data-science/coursera-overview\">Online</a></li><li class=\"active-trail\"><a class=\"active-trail active\" href=\"/program/data-science/faculty\">Our People</a></li><li class=\"\"><a href=\"/program/data-science/about\">About</a></li><li class=\"\"><a href=\"/program/data-science/student-jobs\">Student Jobs</a></li><li class=\"\"><a href=\"/program/data-science/employers\">For Employers</a></li><li class=\"last\"><a class=\"last\" href=\"https://www.colorado.edu/covid-19\" title=\"\">Covid-19 Updates</a></li> </ul> </div>\n",
       "</nav>\n",
       "</div>\n",
       "</div>\n",
       "</div>\n",
       "<!-- /Main menu -->\n",
       "<!-- Secondary menu under main menu -->\n",
       "</div>\n",
       "<!-- /NAVIGATION -->\n",
       "<!-- MOBILE NAVIGATION -->\n",
       "<div class=\"section no-underline\" id=\"mobile-navigation-wrapper\">\n",
       "<div id=\"mobile-navigation\">\n",
       "<!-- Mobile search -->\n",
       "<div id=\"mobile-search\">\n",
       "</div>\n",
       "<!-- Mobile menu -->\n",
       "<nav id=\"mobile-menu\" role=\"navigation\">\n",
       "<h2 class=\"element-invisible\">Mobile menu</h2><ul class=\"links clearfix\" id=\"main-menu-mobile\"><li class=\"menu-701 first\"><a href=\"/program/data-science/\">Home</a></li>\n",
       "<li class=\"menu-2607\"><a href=\"/program/data-science/big-opportunities-in-big-data-Landing-Page\">Academics</a></li>\n",
       "<li class=\"menu-1561\"><a href=\"/program/data-science/campus-overview\">On Campus</a></li>\n",
       "<li class=\"menu-1449\"><a href=\"/program/data-science/coursera-overview\">Online</a></li>\n",
       "<li class=\"menu-2365 active-trail active\"><a class=\"active-trail active\" href=\"/program/data-science/faculty\">Our People</a></li>\n",
       "<li class=\"menu-2301\"><a href=\"/program/data-science/about\">About</a></li>\n",
       "<li class=\"menu-2743\"><a href=\"/program/data-science/student-jobs\">Student Jobs</a></li>\n",
       "<li class=\"menu-2581\"><a href=\"/program/data-science/employers\">For Employers</a></li>\n",
       "<li class=\"menu-2571 last\"><a href=\"https://www.colorado.edu/covid-19\" title=\"\">Covid-19 Updates</a></li>\n",
       "</ul> </nav>\n",
       "</div>\n",
       "</div>\n",
       "<!-- MOBILE NAVIGATION -->\n",
       "<!-- MESSAGES/TABS/HELP/ACTION LINKS -->\n",
       "<div class=\"express-messages section\">\n",
       "<div class=\"container\">\n",
       "</div>\n",
       "</div>\n",
       "<!-- /MESSAGES/TABS/HELP/ACTION LINKS -->\n",
       "<!-- PAGE CONTENT -->\n",
       "<div class=\"page-content\">\n",
       "<!-- INTRO -->\n",
       "<!-- //INTRO -->\n",
       "<!-- SLIDER -->\n",
       "<!-- //SLIDER -->\n",
       "<!-- PAGE TITLE IMAGE -->\n",
       "<!-- //PAGE TITLE IMAGE -->\n",
       "<!-- MAIN CONTENT -->\n",
       "<div class=\"section main-content-wrapper\" id=\"main-content-wrapper\">\n",
       "<div class=\"clearfix\" id=\"main\">\n",
       "<div class=\"container\">\n",
       "<!-- TITLE -->\n",
       "<div class=\"main-title-wrapper\">\n",
       "<a id=\"main-content\"></a>\n",
       "<h1 class=\"page-title title\" id=\"page-title\">\n",
       "                  Our People                </h1>\n",
       "</div>\n",
       "</div>\n",
       "<!-- POST TITLE WIDE -->\n",
       "<!-- POST TITLE -->\n",
       "<!-- NODE CONTENT -->\n",
       "<div class=\"content-wrapper section\">\n",
       "<div class=\"container\">\n",
       "<div class=\"row\">\n",
       "<div class=\"col-lg-12 col-md-12 col-sm-12 col-xs-12\" id=\"content\" role=\"main\">\n",
       "<div class=\"region region-content\">\n",
       "<div>\n",
       "<div>\n",
       "<div class=\"field field-name-body field-type-text-with-summary field-label-hidden\">\n",
       "<h2>The MS-DS is a truly interdisciplinary program, with faculty in Computer Science, Applied Mathematics, Information Science, and more.</h2>\n",
       "<p>Data science faculty members are housed in Applied Mathematics, Computer Science, Information Science, and other departments across campus.</p>\n",
       "<p> </p>\n",
       "<p> </p>\n",
       "</div>\n",
       "<form accept-charset=\"UTF-8\" action=\"/program/data-science/faculty\" id=\"people-content-type-list-filter-form\" method=\"post\"><div><input name=\"form_build_id\" type=\"hidden\" value=\"form-ltOoEJHOyRGgIdHCadDEs2n-0z0DilEghuoY4tkvRL8\">\n",
       "<input name=\"form_id\" type=\"hidden\" value=\"people_content_type_list_filter_form\">\n",
       "<div class=\"url-textfield\"><div class=\"form-item form-type-textfield form-item-url\">\n",
       "<label for=\"edit-url\">Leave this field blank </label>\n",
       "<input autocomplete=\"off\" class=\"form-text\" id=\"edit-url\" maxlength=\"128\" name=\"url\" size=\"20\" type=\"text\" value=\"\"/>\n",
       "</div>\n",
       "</div></input></input></div></form><div class=\"people-list-wrapper-teaser\"><a id=\"jane+wall\" name=\"jane+wall\"></a>\n",
       "<div class=\"person-view-mode-teaser clearfix\">\n",
       "<a href=\"/program/data-science/jane-wall\"><img alt=\"Jane Wall\" class=\"image-small_thumbnail\" height=\"100\" src=\"https://www.colorado.edu/program/data-science/sites/default/files/styles/small_thumbnail/public/people/jane_wall.jpg?itok=rXn8aeh1\" width=\"100\"/></a> <div class=\"person-view-mode-teaser-content node-view-mode-teaser-content\">\n",
       "<h2 class=\"node-title\"><a href=\"/program/data-science/jane-wall\">Jane Wall</a></h2>\n",
       "<div class=\"person-job-titles\">Faculty Director</div>\n",
       "<div class=\"person-departments\">Data Science</div>\n",
       "<div class=\"people-bio\">\n",
       "<div class=\"field field-name-body field-type-text-with-summary field-label-hidden\">\n",
       "    Dr. Wall worked for IBM and other software development companies as a software engineer, development manager, subcontract manager and account executive before getting her PhD. She developed 3 core data science courses at AU and co-founded the graduate certificate, BS and MS in Data Science.  </div>\n",
       "</div>\n",
       "</div>\n",
       "</div>\n",
       "<a id=\"bobby+schnabel\" name=\"bobby+schnabel\"></a>\n",
       "<div class=\"person-view-mode-teaser clearfix\">\n",
       "<a href=\"/program/data-science/bobby-schnabel\"><img alt=\"Bobby Schnabel\" class=\"image-small_thumbnail\" height=\"100\" src=\"https://www.colorado.edu/program/data-science/sites/default/files/styles/small_thumbnail/public/people/bobby_schnabel.png?itok=1a2pgM1i\" width=\"100\"/></a> <div class=\"person-view-mode-teaser-content node-view-mode-teaser-content\">\n",
       "<h2 class=\"node-title\"><a href=\"/program/data-science/bobby-schnabel\">Bobby Schnabel</a></h2>\n",
       "<div class=\"person-job-titles\">Department External Chair • Professor</div>\n",
       "<div class=\"person-departments\">Computer Science</div>\n",
       "<div class=\"people-bio\">\n",
       "<div class=\"field field-name-body field-type-text-with-summary field-label-hidden\">\n",
       "    Dr. Schnabel is Professor and External Chair of Computer Science and CEAS Faculty Director for Entrepreneurship. He is a co-founder of the National Center for Women &amp; Information Technology, founding director of the ATLAS Institute at CU Boulder, and a former academic CIO and dean.  </div>\n",
       "</div>\n",
       "</div>\n",
       "</div>\n",
       "<a id=\"brian+zaharatos\" name=\"brian+zaharatos\"></a>\n",
       "<div class=\"person-view-mode-teaser clearfix\">\n",
       "<a href=\"/program/data-science/brian-zaharatos\"><img alt=\"Brian Zaharatos\" class=\"image-small_thumbnail\" height=\"100\" src=\"https://www.colorado.edu/program/data-science/sites/default/files/styles/small_thumbnail/public/people/brian_zaharatos_0_copy.jpg?itok=swrhf59F\" width=\"100\"/></a> <div class=\"person-view-mode-teaser-content node-view-mode-teaser-content\">\n",
       "<h2 class=\"node-title\"><a href=\"/program/data-science/brian-zaharatos\">Brian Zaharatos</a></h2>\n",
       "<div class=\"person-job-titles\">Director of the Professional Master’s Degree • Senior Instructor</div>\n",
       "<div class=\"person-departments\">Applied Mathematics</div>\n",
       "<div class=\"people-bio\">\n",
       "<div class=\"field field-name-body field-type-text-with-summary field-label-hidden\">\n",
       "    Dr. Zaharatos’s primary interests are in applied statistics and the philosophy of statistics. Most of his work has been in statistical methods for photovoltaic performance modeling. He also works on applications in geography, residential building energy analysis, and consulting for statistical litigation support.  </div>\n",
       "</div>\n",
       "</div>\n",
       "</div>\n",
       "<a id=\"jem+corcoran\" name=\"jem+corcoran\"></a>\n",
       "<div class=\"person-view-mode-teaser clearfix\">\n",
       "<a href=\"/program/data-science/jem-corcoran\"><img alt=\"Jem Corcoran\" class=\"image-small_thumbnail\" height=\"96\" src=\"https://www.colorado.edu/program/data-science/sites/default/files/styles/small_thumbnail/public/people/jem_corcoran.jpg?itok=fUO0MSBJ\" width=\"100\"/></a> <div class=\"person-view-mode-teaser-content node-view-mode-teaser-content\">\n",
       "<h2 class=\"node-title\"><a href=\"/program/data-science/jem-corcoran\">Jem Corcoran</a></h2>\n",
       "<div class=\"person-job-titles\">Associate Professor</div>\n",
       "<div class=\"person-departments\">Applied Mathematics</div>\n",
       "<div class=\"people-bio\">\n",
       "<div class=\"field field-name-body field-type-text-with-summary field-label-hidden\">\n",
       "    Dr. Corcoran is an applied probabilist specializing in MCMC methods in the Probability and Statistics Group in the Department of Applied Mathematics at the University of Colorado Boulder.  </div>\n",
       "</div>\n",
       "</div>\n",
       "</div>\n",
       "<a id=\"anne+dougherty\" name=\"anne+dougherty\"></a>\n",
       "<div class=\"person-view-mode-teaser clearfix\">\n",
       "<a href=\"/program/data-science/anne-dougherty\"><img alt=\"Anne Dougherty\" class=\"image-small_thumbnail\" height=\"100\" src=\"https://www.colorado.edu/program/data-science/sites/default/files/styles/small_thumbnail/public/people/anne_d_copy_copy.jpg?itok=mcI_Th4v\" width=\"100\"/></a> <div class=\"person-view-mode-teaser-content node-view-mode-teaser-content\">\n",
       "<h2 class=\"node-title\"><a href=\"/program/data-science/anne-dougherty\">Anne Dougherty</a></h2>\n",
       "<div class=\"person-job-titles\">Senior Instructor &amp; University of Colorado Teaching Professor • Associate Department Chair   • Undergraduate Studies Chair </div>\n",
       "<div class=\"person-departments\">Applied Mathematics</div>\n",
       "<div class=\"people-bio\">\n",
       "<div class=\"field field-name-body field-type-text-with-summary field-label-hidden\">\n",
       "    Dr. Dougherty has been the J.R. Woodhull/Logicon Teaching Professor of Applied Mathematics since July 2012. In addition to teaching, Dr. Dougherty serves as a faculty advisor for applied math majors/ minors and statistics minors, the CU campus representative for the Goldwater Scholarship, and a faculty advisor for the International Mathematics Contest in Modeling.  </div>\n",
       "</div>\n",
       "<div class=\"person-view-mode-teaser-contact\"><span class=\"person-contact-info-item person-contact-info-email\"><i class=\"fa fa-envelope\"></i>\n",
       "<a href=\"mailto:anne.dougherty@colorado.edu\">anne.dougherty@colorado.edu</a></span></div>\n",
       "</div>\n",
       "</div>\n",
       "<a id=\"ioana+fleming\" name=\"ioana+fleming\"></a>\n",
       "<div class=\"person-view-mode-teaser clearfix\">\n",
       "<a href=\"/program/data-science/ioana-fleming\"><img alt=\"Ioana Fleming\" class=\"image-small_thumbnail\" height=\"100\" src=\"https://www.colorado.edu/program/data-science/sites/default/files/styles/small_thumbnail/public/people/ioana_fleming_copy.jpg?itok=noKX_5UL\" width=\"100\"/></a> <div class=\"person-view-mode-teaser-content node-view-mode-teaser-content\">\n",
       "<h2 class=\"node-title\"><a href=\"/program/data-science/ioana-fleming\">Ioana Fleming</a></h2>\n",
       "<div class=\"person-job-titles\">Senior Instructor • Chair of Undergraduate Education</div>\n",
       "<div class=\"person-departments\">Computer Science</div>\n",
       "<div class=\"people-bio\">\n",
       "<div class=\"field field-name-body field-type-text-with-summary field-label-hidden\">\n",
       "    Dr. Fleming holds an MD from Romania, and MS and Ph.D. degrees from Johns Hopkins University. Her research combines computer vision &amp; medical imaging, with applications in ultrasound elastography &amp; image-guided surgery. At CU Boulder, she is a Senior Instructor in the Computer Science Department.  </div>\n",
       "</div>\n",
       "<div class=\"person-view-mode-teaser-contact\"><span class=\"person-contact-info-item person-contact-info-email\"><i class=\"fa fa-envelope\"></i>\n",
       "<a href=\"mailto:Ioana.Fleming@Colorado.EDU\">Ioana.Fleming@Colorado.EDU</a></span></div>\n",
       "</div>\n",
       "</div>\n",
       "<a id=\"ami+gates\" name=\"ami+gates\"></a>\n",
       "<div class=\"person-view-mode-teaser clearfix\">\n",
       "<a href=\"/program/data-science/ami-gates\"><img alt=\"Ami Gates Photo\" class=\"image-small_thumbnail\" height=\"100\" src=\"https://www.colorado.edu/program/data-science/sites/default/files/styles/small_thumbnail/public/people/gates_ami_small.jpeg?itok=1KTSfAfC\" width=\"100\"/></a> <div class=\"person-view-mode-teaser-content node-view-mode-teaser-content\">\n",
       "<h2 class=\"node-title\"><a href=\"/program/data-science/ami-gates\">Ami Gates</a></h2>\n",
       "<div class=\"person-job-titles\">Teaching Professor</div>\n",
       "<div class=\"person-departments\">Applied Mathematics</div>\n",
       "<div class=\"people-bio\">\n",
       "<div class=\"field field-name-body field-type-text-with-summary field-label-hidden\">\n",
       "    Professor Ami Gates has a BA in Math, an MS in Education, an MS in Computer Science, and a Ph.D. in Computer Engineering (focus: Machine Learning, Data Analytics). Dr. Gates has been teaching for 25 years in computer science, data analytics and visualization, information technology, and statistics. Areas of interest include technologies in education, robust and personalized learning environments, machine learning applications in data analytics, and data visualization.  </div>\n",
       "</div>\n",
       "<div class=\"person-view-mode-teaser-contact\"><span class=\"person-contact-info-item person-contact-info-email\"><i class=\"fa fa-envelope\"></i>\n",
       "<a href=\"mailto:Ami.Gates@colorado.edu\">Ami.Gates@colorado.edu</a></span></div>\n",
       "</div>\n",
       "</div>\n",
       "<a id=\"abel+iyasele\" name=\"abel+iyasele\"></a>\n",
       "<div class=\"person-view-mode-teaser clearfix\">\n",
       "<a href=\"/program/data-science/abel-iyasele-0\"><img alt=\"Abel Iyasele Photo\" class=\"image-small_thumbnail\" height=\"100\" src=\"https://www.colorado.edu/program/data-science/sites/default/files/styles/small_thumbnail/public/people/abel_pix_2_-_abel_iyasele_small.jpeg?itok=e8A37mUr\" width=\"100\"/></a> <div class=\"person-view-mode-teaser-content node-view-mode-teaser-content\">\n",
       "<h2 class=\"node-title\"><a href=\"/program/data-science/abel-iyasele-0\">Abel Iyasele</a></h2>\n",
       "<div class=\"person-job-titles\">Teaching Assistant Professor</div>\n",
       "<div class=\"person-departments\">Information Science</div>\n",
       "<div class=\"people-bio\">\n",
       "<div class=\"field field-name-body field-type-text-with-summary field-label-hidden\">\n",
       "    Scholarly Area: Nexus between binding macro issues and corporate performance in the US.  </div>\n",
       "</div>\n",
       "<div class=\"person-view-mode-teaser-contact\"><span class=\"person-contact-info-item person-contact-info-email\"><i class=\"fa fa-envelope\"></i>\n",
       "<a href=\"mailto:Abel.Iyasele@colorado.edu\">Abel.Iyasele@colorado.edu</a></span></div>\n",
       "</div>\n",
       "</div>\n",
       "<a id=\"geena+kim\" name=\"geena+kim\"></a>\n",
       "<div class=\"person-view-mode-teaser clearfix\">\n",
       "<a href=\"/program/data-science/geena-kim\"><img alt=\"Geena Kim\" class=\"image-small_thumbnail\" height=\"100\" src=\"https://www.colorado.edu/program/data-science/sites/default/files/styles/small_thumbnail/public/people/geena_kim.png?itok=jdm9De9f\" width=\"100\"/></a> <div class=\"person-view-mode-teaser-content node-view-mode-teaser-content\">\n",
       "<h2 class=\"node-title\"><a href=\"/program/data-science/geena-kim\">Geena Kim</a></h2>\n",
       "<div class=\"person-job-titles\">Post-Baccalaureate Instructor</div>\n",
       "<div class=\"person-departments\">Computer Science</div>\n",
       "<div class=\"people-bio\">\n",
       "<div class=\"field field-name-body field-type-text-with-summary field-label-hidden\">\n",
       "    Dr. Kim received a PhD from UC Berkeley, worked as an entrepreneur and technical advisor at IoT startups in the Bay Area. She taught in the MS data science program at Regis before joining CU. Research includes deep learning, computer vision, and medical image analysis.  </div>\n",
       "</div>\n",
       "</div>\n",
       "</div>\n",
       "<a id=\"william+kuskin\" name=\"william+kuskin\"></a>\n",
       "<div class=\"person-view-mode-teaser clearfix\">\n",
       "<a href=\"/program/data-science/william-kuskin\"><img alt=\"William Kuskin\" class=\"image-small_thumbnail\" height=\"100\" src=\"https://www.colorado.edu/program/data-science/sites/default/files/styles/small_thumbnail/public/people/william_kuskin_copy.jpg?itok=jEGI7Oq1\" width=\"100\"/></a> <div class=\"person-view-mode-teaser-content node-view-mode-teaser-content\">\n",
       "<h2 class=\"node-title\"><a href=\"/program/data-science/william-kuskin\">William Kuskin</a></h2>\n",
       "<div class=\"person-job-titles\">Professor • CEAS Associate Dean for Digital Education</div>\n",
       "<div class=\"person-departments\">English &amp; Engineering</div>\n",
       "<div class=\"people-bio\">\n",
       "<div class=\"field field-name-body field-type-text-with-summary field-label-hidden\">\n",
       "    Dr. Kuskin is Professor of English and CEAS Associate Dean for Digital Education. He taught one of the first humanities MOOCs on the Coursera platform, “Comic Books and Graphic Novels,” co-created the MS-EE, and is former Vice Provost.  </div>\n",
       "</div>\n",
       "</div>\n",
       "</div>\n",
       "<a id=\"qin+%28christine%29+lv\" name=\"qin+%28christine%29+lv\"></a>\n",
       "<div class=\"person-view-mode-teaser clearfix\">\n",
       "<a href=\"/program/data-science/qin-christine-lv\"><img alt=\"Qin (Christine) Lv\" class=\"image-small_thumbnail\" height=\"100\" src=\"https://www.colorado.edu/program/data-science/sites/default/files/styles/small_thumbnail/public/people/qin_lv_copy.jpg?itok=3vwVm9Ys\" width=\"100\"/></a> <div class=\"person-view-mode-teaser-content node-view-mode-teaser-content\">\n",
       "<h2 class=\"node-title\"><a href=\"/program/data-science/qin-christine-lv\">Qin (Christine) Lv</a></h2>\n",
       "<div class=\"person-job-titles\">Professor</div>\n",
       "<div class=\"person-departments\">Computer Science</div>\n",
       "<div class=\"people-bio\">\n",
       "<div class=\"field field-name-body field-type-text-with-summary field-label-hidden\">\n",
       "    Dr. Lv is a professor in the Department of Computer Science. Lv's research integrates systems, algorithms, and applications for effective and efficient data analytics in ubiquitous computing and scientific discovery. She received an MA and a Ph.D. from Princeton University.  </div>\n",
       "</div>\n",
       "</div>\n",
       "</div>\n",
       "<a id=\"quentin+mcandrew\" name=\"quentin+mcandrew\"></a>\n",
       "<div class=\"person-view-mode-teaser clearfix\">\n",
       "<a href=\"/program/data-science/quentin-mcandrew\"><img alt=\"Quentin McAndrew\" class=\"image-small_thumbnail\" height=\"100\" src=\"https://www.colorado.edu/program/data-science/sites/default/files/styles/small_thumbnail/public/people/quentin_mcandrew_copy.jpg?itok=6y7p50kU\" width=\"100\"/></a> <div class=\"person-view-mode-teaser-content node-view-mode-teaser-content\">\n",
       "<h2 class=\"node-title\"><a href=\"/program/data-science/quentin-mcandrew\">Quentin McAndrew</a></h2>\n",
       "<div class=\"person-job-titles\">Instructor</div>\n",
       "<div class=\"person-departments\">Academic &amp; Learning Innovation</div>\n",
       "<div class=\"people-bio\">\n",
       "<div class=\"field field-name-body field-type-text-with-summary field-label-hidden\">\n",
       "    Dr. Quentin McAndrew, PhD, is currently Coursera's Academic Strategist and was previously Assistant Vice Provost of Academic and Learning Innovation at the University of Colorado. She taught literature and business writing and holds a BA and MA from Stanford, and a PhD from the University of Colorado.  </div>\n",
       "</div>\n",
       "</div>\n",
       "</div>\n",
       "<a id=\"osita+onyejekwe\" name=\"osita+onyejekwe\"></a>\n",
       "<div class=\"person-view-mode-teaser clearfix\">\n",
       "<a href=\"/program/data-science/osita-onyejekwe\"><img alt=\"Osita Onyejekwe Photo\" class=\"image-small_thumbnail\" height=\"100\" src=\"https://www.colorado.edu/program/data-science/sites/default/files/styles/small_thumbnail/public/people/osita_small_0.jpeg?itok=uxiRJTyu\" width=\"100\"/></a> <div class=\"person-view-mode-teaser-content node-view-mode-teaser-content\">\n",
       "<h2 class=\"node-title\"><a href=\"/program/data-science/osita-onyejekwe\">Osita Onyejekwe</a></h2>\n",
       "<div class=\"person-job-titles\">Teaching Assistant Professor</div>\n",
       "<div class=\"person-departments\">Computer Science</div>\n",
       "<div class=\"people-bio\">\n",
       "<div class=\"field field-name-body field-type-text-with-summary field-label-hidden\">\n",
       "    My primary interests are in multivariate regression models in conjunction with machine learning models to estimate weather patterns, glacier recession behavior, as well as looking into financial models pertaining to profit gains, losses, and revenue. I am also interested in planetary systems, abiogenesis, philosophy, and theology.  </div>\n",
       "</div>\n",
       "<div class=\"person-view-mode-teaser-contact\"><span class=\"person-contact-info-item person-contact-info-email\"><i class=\"fa fa-envelope\"></i>\n",
       "<a href=\"mailto:Osita.Onyejekwe@Colorado.EDU\">Osita.Onyejekwe@Colorado.EDU</a></span></div>\n",
       "</div>\n",
       "</div>\n",
       "<a id=\"alan+paradise\" name=\"alan+paradise\"></a>\n",
       "<div class=\"person-view-mode-teaser clearfix\">\n",
       "<a href=\"/program/data-science/alan-paradise\"><img alt=\"Alan Paradise\" class=\"image-small_thumbnail\" height=\"100\" src=\"https://www.colorado.edu/program/data-science/sites/default/files/styles/small_thumbnail/public/people/alan_paradise_copy.jpg?itok=hNclIKin\" width=\"100\"/></a> <div class=\"person-view-mode-teaser-content node-view-mode-teaser-content\">\n",
       "<h2 class=\"node-title\"><a href=\"/program/data-science/alan-paradise\">Alan Paradise</a></h2>\n",
       "<div class=\"person-job-titles\">Assistant Teaching Professor</div>\n",
       "<div class=\"person-departments\">Computer Science</div>\n",
       "<div class=\"people-bio\">\n",
       "<div class=\"field field-name-body field-type-text-with-summary field-label-hidden\">\n",
       "    Professor Paradise worked for almost 40 years as an IT Professional in industry with a focus on database technologies. Professor Paradise has been teaching full time at CU Boulder since 2017, including a popular undergraduate database course as well at the Senior Capstone Project course for graduating CS seniors.  </div>\n",
       "</div>\n",
       "</div>\n",
       "</div>\n",
       "<a id=\"al+pisano\" name=\"al+pisano\"></a>\n",
       "<div class=\"person-view-mode-teaser clearfix\">\n",
       "<a href=\"/program/data-science/al-pisano\"><img alt=\"Al Pisano\" class=\"image-small_thumbnail\" height=\"100\" src=\"https://www.colorado.edu/program/data-science/sites/default/files/styles/small_thumbnail/public/people/al_pisano.jpg?itok=DtzZosLP\" width=\"100\"/></a> <div class=\"person-view-mode-teaser-content node-view-mode-teaser-content\">\n",
       "<h2 class=\"node-title\"><a href=\"/program/data-science/al-pisano\">Al Pisano</a></h2>\n",
       "<div class=\"person-job-titles\">Instructor</div>\n",
       "<div class=\"person-departments\">Computer Science</div>\n",
       "<div class=\"people-bio\">\n",
       "<div class=\"field field-name-body field-type-text-with-summary field-label-hidden\">\n",
       "    Dr. Pisano has a wide breadth of dynamic experience and knowledge within the educational and corporate space with proven success as a presenter, thought leader, author, innovator, entrepreneur, K-12 administrator, higher education administrator, curriculum and program developer, educational consultant and instructor.  </div>\n",
       "</div>\n",
       "</div>\n",
       "</div>\n",
       "<a id=\"sriram+sankaranarayanan\" name=\"sriram+sankaranarayanan\"></a>\n",
       "<div class=\"person-view-mode-teaser clearfix\">\n",
       "<a href=\"/program/data-science/sriram-sankaranarayanan\"><img alt=\"Sriram Sankaranarayanan\" class=\"image-small_thumbnail\" height=\"100\" src=\"https://www.colorado.edu/program/data-science/sites/default/files/styles/small_thumbnail/public/people/sriram_sankaranarayanan_copy.jpg?itok=DyJI-dph\" width=\"100\"/></a> <div class=\"person-view-mode-teaser-content node-view-mode-teaser-content\">\n",
       "<h2 class=\"node-title\"><a href=\"/program/data-science/sriram-sankaranarayanan\">Sriram Sankaranarayanan</a></h2>\n",
       "<div class=\"person-job-titles\">Associate Professor</div>\n",
       "<div class=\"person-departments\">Computer Science</div>\n",
       "<div class=\"people-bio\">\n",
       "<div class=\"field field-name-body field-type-text-with-summary field-label-hidden\">\n",
       "    Dr. Sankaranarayanan is a professor in the CS department, and a member of the Programming Languages &amp; Verification and Computer &amp; Cyber-Physical Systems research groups. He was a member of research staff at NEC Laboratories America from 2005-2009, and graduated with a PhD in (theoretical) CS from Stanford University in 2005.  </div>\n",
       "</div>\n",
       "</div>\n",
       "</div>\n",
       "<a id=\"chris+vargo\" name=\"chris+vargo\"></a>\n",
       "<div class=\"person-view-mode-teaser clearfix\">\n",
       "<a href=\"/program/data-science/chris-vargo\"><img alt=\"Chris Vargo\" class=\"image-small_thumbnail\" height=\"100\" src=\"https://www.colorado.edu/program/data-science/sites/default/files/styles/small_thumbnail/public/people/chris_vargo.jpeg?itok=NOw2Xei7\" width=\"100\"/></a> <div class=\"person-view-mode-teaser-content node-view-mode-teaser-content\">\n",
       "<h2 class=\"node-title\"><a href=\"/program/data-science/chris-vargo\">Chris Vargo</a></h2>\n",
       "<div class=\"person-job-titles\">Associate Professor of Advertising and Analytics</div>\n",
       "<div class=\"person-departments\">College of Media, Communication and Information</div>\n",
       "<div class=\"people-bio\">\n",
       "<div class=\"field field-name-body field-type-text-with-summary field-label-hidden\">\n",
       "    Dr. Chris J. Vargo is an associate professor specializing in data analytics and digital advertising. Dr. Vargo employs the use of computer science methods to investigate social media data using theories from communication, psychology and political science.  </div>\n",
       "</div>\n",
       "</div>\n",
       "</div>\n",
       "<a id=\"di+wu\" name=\"di+wu\"></a>\n",
       "<div class=\"person-view-mode-teaser clearfix\">\n",
       "<a href=\"/program/data-science/di-wu\"><img alt=\"Di Wu\" class=\"image-small_thumbnail\" height=\"100\" src=\"https://www.colorado.edu/program/data-science/sites/default/files/styles/small_thumbnail/public/people/di_wu_0_0.jpeg?itok=t7cDyoVH\" width=\"100\"/></a> <div class=\"person-view-mode-teaser-content node-view-mode-teaser-content\">\n",
       "<h2 class=\"node-title\"><a href=\"/program/data-science/di-wu\">Di Wu</a></h2>\n",
       "<div class=\"person-job-titles\">Teaching Assistant Professor</div>\n",
       "<div class=\"person-departments\">Computer Science</div>\n",
       "<div class=\"people-bio\">\n",
       "<div class=\"field field-name-body field-type-text-with-summary field-label-hidden\">\n",
       "    Dr. Wu’s primary interests are in temporal databases, the semantic web, knowledge representation, and data science. Most of his research has been in extending the Resource Description Framework (RDF) for temporal dimensions. Before joining CU, he taught algorithms and data structures, programming languages, and database management courses. Dr. Wu’s career plan for the next five years is to develop and apply an inclusive, engaging, experiential, and inspiring pedagogy in data...  </div>\n",
       "</div>\n",
       "<div class=\"person-view-mode-teaser-contact\"><span class=\"person-contact-info-item person-contact-info-email\"><i class=\"fa fa-envelope\"></i>\n",
       "<a href=\"mailto:Di.Wu@colorado.edu\">Di.Wu@colorado.edu</a></span></div>\n",
       "</div>\n",
       "</div>\n",
       "<a id=\"dave+underwood\" name=\"dave+underwood\"></a>\n",
       "<div class=\"person-view-mode-teaser clearfix\">\n",
       "<a href=\"/program/data-science/dave-underwood\"><img alt=\"David Underwood\" class=\"image-small_thumbnail\" height=\"99\" src=\"https://www.colorado.edu/program/data-science/sites/default/files/styles/small_thumbnail/public/people/dave_underwood_0.jpg?itok=0avf4JwZ\" width=\"100\"/></a> <div class=\"person-view-mode-teaser-content node-view-mode-teaser-content\">\n",
       "<h2 class=\"node-title\"><a href=\"/program/data-science/dave-underwood\">Dave Underwood</a></h2>\n",
       "<div class=\"person-job-titles\">Lecturer (Retired)</div>\n",
       "<div class=\"person-departments\">Information Technology</div>\n",
       "<div class=\"people-bio\">\n",
       "<div class=\"field field-name-body field-type-text-with-summary field-label-hidden\">\n",
       "    Professor Underwood has worked as a designer, lecturer, and consultant at the University of Colorado Boulder. He has helped design multimedia assignments and has coached students in the effective use of media tools. Most recently, he has assisted in departmental branding at the University.  </div>\n",
       "</div>\n",
       "</div>\n",
       "</div>\n",
       "</div> </div>\n",
       "</div>\n",
       "</div>\n",
       "</div>\n",
       "<!-- SIDEBARS -->\n",
       "<!-- /SIDEBARS -->\n",
       "</div>\n",
       "</div>\n",
       "</div>\n",
       "</div>\n",
       "</div>\n",
       "<!-- /MAIN CONTENT -->\n",
       "<!-- FEATURE LAYOUT CONTENT -->\n",
       "<!-- /FEATURE LAYOUT CONTENT -->\n",
       "</div>\n",
       "<!-- /PAGE CONTENT -->\n",
       "<!-- POST WIDE -->\n",
       "<!-- /POST WIDE -->\n",
       "<!-- AFTER CONTENT -->\n",
       "<!-- /AFTER CONTENT -->\n",
       "<!-- AFTER CONTENT2 -->\n",
       "<!-- /AFTER CONTENT2 -->\n",
       "<!-- FOOTER SECTION -->\n",
       "<div class=\"footer-section background-gray-dark\" id=\"footer-section\">\n",
       "<!-- FOOTER -->\n",
       "<!-- /FOOTER -->\n",
       "<!-- FOOTER MENU -->\n",
       "<!-- /FOOTER MENU -->\n",
       "<!-- SITE INFO -->\n",
       "<div class=\"section site-info-wrapper background-black\" id=\"site-info-wrapper\">\n",
       "<div class=\"site-info\" id=\"site-info\">\n",
       "<div class=\"container\">\n",
       "<footer class=\"row region region-site-info footer-2col\" id=\"site-footer\">\n",
       "<div class=\"col-lg-8 col-md-8\" id=\"site-footer-content\">\n",
       "<div class=\"block block-cu-site-info has-block-title block-cu-site-info-site-info\" id=\"block-cu-site-info-site-info\">\n",
       "<div class=\"block-inner-wrapper block-inner clearfix\">\n",
       "<h2 class=\"block-title\"><a href=\"/program/data-science/\">Master of Science in Data Science</a></h2>\n",
       "<div class=\"content\">\n",
       "<p>Offered through an interdisciplinary partnership, data science at CU Boulder is<br/>\n",
       "\tdelivered by the Departments of Applied Mathematics, Computer Science,<br/>\n",
       "\tand Information Science and awarded by the <a href=\"https://www.colorado.edu/graduateschool/\">Graduate School</a>.</p>\n",
       "<p><a href=\"mailto:datascience@colorado.edu\">datascience@colorado.edu</a></p>\n",
       "</div>\n",
       "</div>\n",
       "</div>\n",
       "</div>\n",
       "<div class=\"col-lg-4 col-md-4\" id=\"cu-footer\">\n",
       "<p><a href=\"//www.colorado.edu\"><img alt=\"University of Colorado Boulder\" class=\"beboulder\" src=\"https://www.colorado.edu/program/data-science/profiles/express/themes/ucb/images/beboulder/be-boulder-white.svg\"/></a></p>\n",
       "<p><strong><a class=\"cu-boulder-homepage-link\" href=\"http://www.colorado.edu\">University of Colorado Boulder</a></strong><br/>© Regents of the University of Colorado<br/>\n",
       "<span class=\"required-links\"><a href=\"http://www.colorado.edu/about/privacy-statement\">Privacy</a> • <a href=\"http://www.colorado.edu/about/legal-trademarks\">Legal &amp; Trademarks</a> • <a href=\"http://www.colorado.edu/map\">Campus Map</a></span></p>\n",
       "</div>\n",
       "</footer>\n",
       "</div>\n",
       "</div>\n",
       "</div>\n",
       "<!-- /SITE INFO -->\n",
       "</div>\n",
       "</div>\n",
       "</div>\n",
       "<div id=\"cu_back_to_top\"><a href=\"#page\" title=\"Back to Top\">Return to the top of the page</a></div><script src=\"https://www.colorado.edu/program/data-science/profiles/express/modules/custom/backstretch/bs.js?rfpala\" type=\"text/javascript\"></script>\n",
       "<script src=\"https://www.colorado.edu/program/data-science/profiles/express/modules/features/cu_search/js/cu-search.js?rfpala\" type=\"text/javascript\"></script>\n",
       "<script src=\"https://www.colorado.edu/program/data-science/profiles/express/themes/ucb/js/track-focus.js?rfpala\" type=\"text/javascript\"></script>\n",
       "<script type=\"text/javascript\">\n",
       "<!--//--><![CDATA[//><!--\n",
       "jQuery(document).ready(function () { if (!Modernizr.svgasimg) {\n",
       "  jQuery(\"img#logo\").attr(\"src\", \"https://www.colorado.edu/program/data-science/profiles/express/themes/cumodern/logo.png\");} });\n",
       "//--><!]]>\n",
       "</script>\n",
       "<script src=\"https://www.colorado.edu/program/data-science/profiles/express/modules/custom/cu_back_to_top/cu_back_to_top.js?rfpala\" type=\"text/javascript\"></script>\n",
       "</body>\n",
       "</html>"
      ]
     },
     "execution_count": 2,
     "metadata": {},
     "output_type": "execute_result"
    }
   ],
   "source": [
    "from bs4 import BeautifulSoup\n",
    "import re\n",
    "\n",
    "soup = BeautifulSoup(content, 'html.parser')\n",
    "soup"
   ]
  },
  {
   "cell_type": "markdown",
   "metadata": {
    "cell_id": "8057407967c24d78aa29cbdaab9c3a57",
    "deepnote_app_coordinates": {
     "h": 5,
     "w": 12,
     "x": 0,
     "y": 730
    },
    "deepnote_cell_type": "markdown",
    "id": "tNUnXU0JUomQ"
   },
   "source": [
    "### Find all \\<h2\\> tags"
   ]
  },
  {
   "cell_type": "code",
   "execution_count": null,
   "metadata": {
    "cell_id": "fa00fb35373a45dcb581dbc90b8855d5",
    "collapsed": true,
    "deepnote_app_coordinates": {
     "h": 5,
     "w": 12,
     "x": 0,
     "y": 736
    },
    "deepnote_cell_type": "code",
    "deepnote_to_be_reexecuted": false,
    "execution_millis": 3,
    "execution_start": 1661570370230,
    "id": "tIf3P6RtUomQ",
    "jupyter": {
     "outputs_hidden": true
    },
    "outputId": "58073b48-42c3-4204-8b73-2d3e038aa77c",
    "source_hash": "8075bdf1"
   },
   "outputs": [
    {
     "data": {
      "text/plain": [
       "[<h2>Search</h2>,\n",
       " <h2 class=\"element-invisible\">Main menu</h2>,\n",
       " <h2 class=\"element-invisible\">Mobile menu</h2>,\n",
       " <h2>The MS-DS is a truly interdisciplinary program, with faculty in Computer Science, Applied Mathematics, Information Science, and more.</h2>,\n",
       " <h2 class=\"node-title\"><a href=\"/program/data-science/jane-wall\">Jane Wall</a></h2>,\n",
       " <h2 class=\"node-title\"><a href=\"/program/data-science/bobby-schnabel\">Bobby Schnabel</a></h2>,\n",
       " <h2 class=\"node-title\"><a href=\"/program/data-science/brian-zaharatos\">Brian Zaharatos</a></h2>,\n",
       " <h2 class=\"node-title\"><a href=\"/program/data-science/jem-corcoran\">Jem Corcoran</a></h2>,\n",
       " <h2 class=\"node-title\"><a href=\"/program/data-science/anne-dougherty\">Anne Dougherty</a></h2>,\n",
       " <h2 class=\"node-title\"><a href=\"/program/data-science/ioana-fleming\">Ioana Fleming</a></h2>,\n",
       " <h2 class=\"node-title\"><a href=\"/program/data-science/ami-gates\">Ami Gates</a></h2>,\n",
       " <h2 class=\"node-title\"><a href=\"/program/data-science/abel-iyasele-0\">Abel Iyasele</a></h2>,\n",
       " <h2 class=\"node-title\"><a href=\"/program/data-science/geena-kim\">Geena Kim</a></h2>,\n",
       " <h2 class=\"node-title\"><a href=\"/program/data-science/william-kuskin\">William Kuskin</a></h2>,\n",
       " <h2 class=\"node-title\"><a href=\"/program/data-science/qin-christine-lv\">Qin (Christine) Lv</a></h2>,\n",
       " <h2 class=\"node-title\"><a href=\"/program/data-science/quentin-mcandrew\">Quentin McAndrew</a></h2>,\n",
       " <h2 class=\"node-title\"><a href=\"/program/data-science/osita-onyejekwe\">Osita Onyejekwe</a></h2>,\n",
       " <h2 class=\"node-title\"><a href=\"/program/data-science/alan-paradise\">Alan Paradise</a></h2>,\n",
       " <h2 class=\"node-title\"><a href=\"/program/data-science/al-pisano\">Al Pisano</a></h2>,\n",
       " <h2 class=\"node-title\"><a href=\"/program/data-science/sriram-sankaranarayanan\">Sriram Sankaranarayanan</a></h2>,\n",
       " <h2 class=\"node-title\"><a href=\"/program/data-science/chris-vargo\">Chris Vargo</a></h2>,\n",
       " <h2 class=\"node-title\"><a href=\"/program/data-science/di-wu\">Di Wu</a></h2>,\n",
       " <h2 class=\"node-title\"><a href=\"/program/data-science/dave-underwood\">Dave Underwood</a></h2>,\n",
       " <h2 class=\"block-title\"><a href=\"/program/data-science/\">Master of Science in Data Science</a></h2>]"
      ]
     },
     "execution_count": 3,
     "metadata": {},
     "output_type": "execute_result"
    }
   ],
   "source": [
    "links = soup.find_all('h2')\n",
    "links"
   ]
  },
  {
   "cell_type": "markdown",
   "metadata": {
    "cell_id": "e4c75179b64040f286ab9b9a12aac604",
    "deepnote_app_coordinates": {
     "h": 5,
     "w": 12,
     "x": 0,
     "y": 742
    },
    "deepnote_cell_type": "markdown",
    "id": "H0-leu3SUomR"
   },
   "source": [
    "### Find all \\<h2\\> tags and with class as 'node-title\""
   ]
  },
  {
   "cell_type": "code",
   "execution_count": null,
   "metadata": {
    "cell_id": "a7308c1eefda44edbe5bec641fbe22ba",
    "collapsed": true,
    "deepnote_app_coordinates": {
     "h": 5,
     "w": 12,
     "x": 0,
     "y": 748
    },
    "deepnote_cell_type": "code",
    "deepnote_to_be_reexecuted": false,
    "execution_millis": 10,
    "execution_start": 1661570370234,
    "id": "cqt0p-iqUomS",
    "jupyter": {
     "outputs_hidden": true
    },
    "outputId": "3ad043a4-f375-4597-a8b1-45b6209917e3",
    "source_hash": "6d24aaff"
   },
   "outputs": [
    {
     "data": {
      "text/plain": [
       "[<h2 class=\"node-title\"><a href=\"/program/data-science/jane-wall\">Jane Wall</a></h2>,\n",
       " <h2 class=\"node-title\"><a href=\"/program/data-science/bobby-schnabel\">Bobby Schnabel</a></h2>,\n",
       " <h2 class=\"node-title\"><a href=\"/program/data-science/brian-zaharatos\">Brian Zaharatos</a></h2>,\n",
       " <h2 class=\"node-title\"><a href=\"/program/data-science/jem-corcoran\">Jem Corcoran</a></h2>,\n",
       " <h2 class=\"node-title\"><a href=\"/program/data-science/anne-dougherty\">Anne Dougherty</a></h2>,\n",
       " <h2 class=\"node-title\"><a href=\"/program/data-science/ioana-fleming\">Ioana Fleming</a></h2>,\n",
       " <h2 class=\"node-title\"><a href=\"/program/data-science/ami-gates\">Ami Gates</a></h2>,\n",
       " <h2 class=\"node-title\"><a href=\"/program/data-science/abel-iyasele-0\">Abel Iyasele</a></h2>,\n",
       " <h2 class=\"node-title\"><a href=\"/program/data-science/geena-kim\">Geena Kim</a></h2>,\n",
       " <h2 class=\"node-title\"><a href=\"/program/data-science/william-kuskin\">William Kuskin</a></h2>,\n",
       " <h2 class=\"node-title\"><a href=\"/program/data-science/qin-christine-lv\">Qin (Christine) Lv</a></h2>,\n",
       " <h2 class=\"node-title\"><a href=\"/program/data-science/quentin-mcandrew\">Quentin McAndrew</a></h2>,\n",
       " <h2 class=\"node-title\"><a href=\"/program/data-science/osita-onyejekwe\">Osita Onyejekwe</a></h2>,\n",
       " <h2 class=\"node-title\"><a href=\"/program/data-science/alan-paradise\">Alan Paradise</a></h2>,\n",
       " <h2 class=\"node-title\"><a href=\"/program/data-science/al-pisano\">Al Pisano</a></h2>,\n",
       " <h2 class=\"node-title\"><a href=\"/program/data-science/sriram-sankaranarayanan\">Sriram Sankaranarayanan</a></h2>,\n",
       " <h2 class=\"node-title\"><a href=\"/program/data-science/chris-vargo\">Chris Vargo</a></h2>,\n",
       " <h2 class=\"node-title\"><a href=\"/program/data-science/di-wu\">Di Wu</a></h2>,\n",
       " <h2 class=\"node-title\"><a href=\"/program/data-science/dave-underwood\">Dave Underwood</a></h2>]"
      ]
     },
     "execution_count": 4,
     "metadata": {},
     "output_type": "execute_result"
    }
   ],
   "source": [
    "faculty = soup.find_all('h2', {'class':'node-title'})\n",
    "faculty"
   ]
  },
  {
   "cell_type": "markdown",
   "metadata": {
    "cell_id": "317b10e153bb4b14a983a063febbd37f",
    "deepnote_app_coordinates": {
     "h": 5,
     "w": 12,
     "x": 0,
     "y": 754
    },
    "deepnote_cell_type": "markdown",
    "id": "NOhDan0gUomS"
   },
   "source": [
    "### Put together: Output List of MSDS faculty"
   ]
  },
  {
   "cell_type": "code",
   "execution_count": null,
   "metadata": {
    "cell_id": "34eb7c0a6c9e4fac9d2de603dc6534f5",
    "colab": {
     "base_uri": "https://localhost:8080/"
    },
    "deepnote_app_coordinates": {
     "h": 5,
     "w": 12,
     "x": 0,
     "y": 760
    },
    "deepnote_cell_type": "code",
    "deepnote_to_be_reexecuted": false,
    "execution_millis": 286,
    "execution_start": 1661570370246,
    "id": "NzGSoEYbUomT",
    "outputId": "b336a748-7e24-46a1-aa27-d9c2456e328b",
    "source_hash": "537c65c2"
   },
   "outputs": [
    {
     "name": "stdout",
     "output_type": "stream",
     "text": [
      "1 Jane Wall\n",
      "2 Bobby Schnabel\n",
      "3 Brian Zaharatos\n",
      "4 Jem Corcoran\n",
      "5 Anne Dougherty\n",
      "6 Ioana Fleming\n",
      "7 Ami Gates\n",
      "8 Abel Iyasele\n",
      "9 Geena Kim\n",
      "10 William Kuskin\n",
      "11 Qin (Christine) Lv\n",
      "12 Quentin McAndrew\n",
      "13 Osita Onyejekwe\n",
      "14 Alan Paradise\n",
      "15 Al Pisano\n",
      "16 Sriram Sankaranarayanan\n",
      "17 Chris Vargo\n",
      "18 Di Wu\n",
      "19 Dave Underwood\n"
     ]
    },
    {
     "data": {
      "text/plain": [
       "['Jane Wall',\n",
       " 'Bobby Schnabel',\n",
       " 'Brian Zaharatos',\n",
       " 'Jem Corcoran',\n",
       " 'Anne Dougherty',\n",
       " 'Ioana Fleming',\n",
       " 'Ami Gates',\n",
       " 'Abel Iyasele',\n",
       " 'Geena Kim',\n",
       " 'William Kuskin',\n",
       " 'Qin (Christine) Lv',\n",
       " 'Quentin McAndrew',\n",
       " 'Osita Onyejekwe',\n",
       " 'Alan Paradise',\n",
       " 'Al Pisano',\n",
       " 'Sriram Sankaranarayanan',\n",
       " 'Chris Vargo',\n",
       " 'Di Wu',\n",
       " 'Dave Underwood']"
      ]
     },
     "execution_count": 5,
     "metadata": {},
     "output_type": "execute_result"
    }
   ],
   "source": [
    "import requests\n",
    "from bs4 import BeautifulSoup\n",
    "\n",
    "url = 'https://www.colorado.edu/program/data-science/faculty'\n",
    "r = requests.get(url)\n",
    "content = r.text\n",
    "\n",
    "soup = BeautifulSoup(content, 'html.parser')\n",
    "\n",
    "faculty = soup.find_all('h2', {'class': 'node-title'})\n",
    "\n",
    "names = [n.get_text() for n in faculty]\n",
    "\n",
    "names"
   ]
  },
  {
   "cell_type": "markdown",
   "metadata": {
    "cell_id": "798bcdecac534867a4ae08ee3f1f1a8a",
    "deepnote_app_coordinates": {
     "h": 5,
     "w": 12,
     "x": 0,
     "y": 766
    },
    "deepnote_cell_type": "markdown",
    "id": "Vm6s7dMcUomT",
    "tags": []
   },
   "source": [
    "### Save the data to CSV"
   ]
  },
  {
   "cell_type": "code",
   "execution_count": null,
   "metadata": {
    "cell_id": "4e1692abd86146f8915feed3215e14b1",
    "colab": {
     "base_uri": "https://localhost:8080/",
     "height": 638
    },
    "deepnote_app_coordinates": {
     "h": 5,
     "w": 12,
     "x": 0,
     "y": 772
    },
    "deepnote_cell_type": "code",
    "deepnote_to_be_reexecuted": false,
    "execution_millis": 10,
    "execution_start": 1661570370540,
    "id": "ppKMOt4WUomU",
    "outputId": "14520bd8-f853-4c82-f038-a99892380a94",
    "source_hash": "e799aedd",
    "tags": []
   },
   "outputs": [
    {
     "data": {
      "application/vnd.deepnote.dataframe.v3+json": {
       "column_count": 1,
       "columns": [
        {
         "dtype": "object",
         "name": "Names",
         "stats": {
          "categories": [
           {
            "count": 1,
            "name": "Jane Wall"
           },
           {
            "count": 1,
            "name": "Bobby Schnabel"
           },
           {
            "count": 17,
            "name": "17 others"
           }
          ],
          "nan_count": 0,
          "unique_count": 19
         }
        },
        {
         "dtype": "int64",
         "name": "_deepnote_index_column"
        }
       ],
       "row_count": 19,
       "rows": [
        {
         "Names": "Jane Wall",
         "_deepnote_index_column": 0
        },
        {
         "Names": "Bobby Schnabel",
         "_deepnote_index_column": 1
        },
        {
         "Names": "Brian Zaharatos",
         "_deepnote_index_column": 2
        },
        {
         "Names": "Jem Corcoran",
         "_deepnote_index_column": 3
        },
        {
         "Names": "Anne Dougherty",
         "_deepnote_index_column": 4
        },
        {
         "Names": "Ioana Fleming",
         "_deepnote_index_column": 5
        },
        {
         "Names": "Ami Gates",
         "_deepnote_index_column": 6
        },
        {
         "Names": "Abel Iyasele",
         "_deepnote_index_column": 7
        },
        {
         "Names": "Geena Kim",
         "_deepnote_index_column": 8
        },
        {
         "Names": "William Kuskin",
         "_deepnote_index_column": 9
        }
       ]
      },
      "text/html": [
       "<div>\n",
       "<style scoped>\n",
       "    .dataframe tbody tr th:only-of-type {\n",
       "        vertical-align: middle;\n",
       "    }\n",
       "\n",
       "    .dataframe tbody tr th {\n",
       "        vertical-align: top;\n",
       "    }\n",
       "\n",
       "    .dataframe thead th {\n",
       "        text-align: right;\n",
       "    }\n",
       "</style>\n",
       "<table border=\"1\" class=\"dataframe\">\n",
       "  <thead>\n",
       "    <tr style=\"text-align: right;\">\n",
       "      <th></th>\n",
       "      <th>Names</th>\n",
       "    </tr>\n",
       "  </thead>\n",
       "  <tbody>\n",
       "    <tr>\n",
       "      <th>0</th>\n",
       "      <td>Jane Wall</td>\n",
       "    </tr>\n",
       "    <tr>\n",
       "      <th>1</th>\n",
       "      <td>Bobby Schnabel</td>\n",
       "    </tr>\n",
       "    <tr>\n",
       "      <th>2</th>\n",
       "      <td>Brian Zaharatos</td>\n",
       "    </tr>\n",
       "    <tr>\n",
       "      <th>3</th>\n",
       "      <td>Jem Corcoran</td>\n",
       "    </tr>\n",
       "    <tr>\n",
       "      <th>4</th>\n",
       "      <td>Anne Dougherty</td>\n",
       "    </tr>\n",
       "    <tr>\n",
       "      <th>5</th>\n",
       "      <td>Ioana Fleming</td>\n",
       "    </tr>\n",
       "    <tr>\n",
       "      <th>6</th>\n",
       "      <td>Ami Gates</td>\n",
       "    </tr>\n",
       "    <tr>\n",
       "      <th>7</th>\n",
       "      <td>Abel Iyasele</td>\n",
       "    </tr>\n",
       "    <tr>\n",
       "      <th>8</th>\n",
       "      <td>Geena Kim</td>\n",
       "    </tr>\n",
       "    <tr>\n",
       "      <th>9</th>\n",
       "      <td>William Kuskin</td>\n",
       "    </tr>\n",
       "    <tr>\n",
       "      <th>10</th>\n",
       "      <td>Qin (Christine) Lv</td>\n",
       "    </tr>\n",
       "    <tr>\n",
       "      <th>11</th>\n",
       "      <td>Quentin McAndrew</td>\n",
       "    </tr>\n",
       "    <tr>\n",
       "      <th>12</th>\n",
       "      <td>Osita Onyejekwe</td>\n",
       "    </tr>\n",
       "    <tr>\n",
       "      <th>13</th>\n",
       "      <td>Alan Paradise</td>\n",
       "    </tr>\n",
       "    <tr>\n",
       "      <th>14</th>\n",
       "      <td>Al Pisano</td>\n",
       "    </tr>\n",
       "    <tr>\n",
       "      <th>15</th>\n",
       "      <td>Sriram Sankaranarayanan</td>\n",
       "    </tr>\n",
       "    <tr>\n",
       "      <th>16</th>\n",
       "      <td>Chris Vargo</td>\n",
       "    </tr>\n",
       "    <tr>\n",
       "      <th>17</th>\n",
       "      <td>Di Wu</td>\n",
       "    </tr>\n",
       "    <tr>\n",
       "      <th>18</th>\n",
       "      <td>Dave Underwood</td>\n",
       "    </tr>\n",
       "  </tbody>\n",
       "</table>\n",
       "</div>"
      ],
      "text/plain": [
       "                      Names\n",
       "0                 Jane Wall\n",
       "1            Bobby Schnabel\n",
       "2           Brian Zaharatos\n",
       "3              Jem Corcoran\n",
       "4            Anne Dougherty\n",
       "5             Ioana Fleming\n",
       "6                 Ami Gates\n",
       "7              Abel Iyasele\n",
       "8                 Geena Kim\n",
       "9            William Kuskin\n",
       "10       Qin (Christine) Lv\n",
       "11         Quentin McAndrew\n",
       "12          Osita Onyejekwe\n",
       "13            Alan Paradise\n",
       "14                Al Pisano\n",
       "15  Sriram Sankaranarayanan\n",
       "16              Chris Vargo\n",
       "17                    Di Wu\n",
       "18           Dave Underwood"
      ]
     },
     "execution_count": 6,
     "metadata": {},
     "output_type": "execute_result"
    }
   ],
   "source": [
    "import pandas as pd\n",
    "df = pd.DataFrame({'Names': names})\n",
    "df"
   ]
  },
  {
   "cell_type": "code",
   "execution_count": null,
   "metadata": {
    "cell_id": "51eba6a3212e4477af224c0c057e1f05",
    "deepnote_app_coordinates": {
     "h": 5,
     "w": 12,
     "x": 0,
     "y": 778
    },
    "deepnote_cell_type": "code",
    "deepnote_to_be_reexecuted": false,
    "execution_millis": 2,
    "execution_start": 1661570400294,
    "id": "rYMB0Bk8UomU",
    "source_hash": "1c0435fe",
    "tags": []
   },
   "outputs": [],
   "source": [
    "df.to_csv('data/MSDS_Faculty.csv')"
   ]
  },
  {
   "cell_type": "markdown",
   "metadata": {
    "cell_id": "d786ea013bbb4ee6888b43779178086f",
    "deepnote_app_coordinates": {
     "h": 5,
     "w": 12,
     "x": 0,
     "y": 784
    },
    "deepnote_cell_type": "markdown",
    "id": "IKrammAxlCyJ"
   },
   "source": [
    "# Congratulations!"
   ]
  }
 ],
 "metadata": {
  "colab": {
   "collapsed_sections": [],
   "name": "Data Integration.ipynb",
   "provenance": [],
   "toc_visible": true
  },
  "deepnote": {},
  "deepnote_app_layout": "article",
  "deepnote_execution_queue": [],
  "deepnote_notebook_id": "175ede20be1b455b90dbf62f8c8438dc",
  "kernelspec": {
   "display_name": "Python 3 (ipykernel)",
   "language": "python",
   "name": "python3"
  },
  "language_info": {
   "codemirror_mode": {
    "name": "ipython",
    "version": 3
   },
   "file_extension": ".py",
   "mimetype": "text/x-python",
   "name": "python",
   "nbconvert_exporter": "python",
   "pygments_lexer": "ipython3",
   "version": "3.8.16"
  }
 },
 "nbformat": 4,
 "nbformat_minor": 4
}
