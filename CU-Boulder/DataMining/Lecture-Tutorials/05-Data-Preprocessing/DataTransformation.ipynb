{
 "cells": [
  {
   "cell_type": "markdown",
   "metadata": {
    "cell_id": "b5e7440a75a84825add52c08872fe2a2",
    "deepnote_app_coordinates": {
     "h": 5,
     "w": 12,
     "x": 0,
     "y": 7
    },
    "deepnote_cell_type": "text-cell-h1",
    "formattedRanges": [],
    "is_collapsed": false,
    "tags": []
   },
   "source": [
    "# Data Transformation"
   ]
  },
  {
   "cell_type": "markdown",
   "metadata": {
    "cell_id": "418e7ee428754fd6a1399fe36b48bee5",
    "deepnote_app_coordinates": {
     "h": 2,
     "w": 8,
     "x": 0,
     "y": 13
    },
    "deepnote_cell_type": "text-cell-p",
    "formattedRanges": [],
    "is_collapsed": false,
    "tags": []
   },
   "source": [
    "Data transformation is the process of changing the data values, format or the structure. In context of Statistics, it also means to have a Mathematical expression applied to each value in the data.  In the context of Data Engineering, it means to change data from one form to another in the ETL process - Extract Transform Load."
   ]
  },
  {
   "cell_type": "markdown",
   "metadata": {
    "cell_id": "acd3801a234e4c0d9bf7d2019a71ac8d",
    "deepnote_app_coordinates": {
     "h": 2,
     "w": 8,
     "x": 0,
     "y": 16
    },
    "deepnote_cell_type": "text-cell-p",
    "formattedRanges": [],
    "is_collapsed": false,
    "tags": []
   },
   "source": [
    "Data Transformation involves multiple steps and methods described as below."
   ]
  },
  {
   "cell_type": "markdown",
   "metadata": {
    "cell_id": "2e27fef548b748f6b77e8434e75e2b97",
    "deepnote_app_coordinates": {
     "h": 5,
     "w": 12,
     "x": 0,
     "y": 22
    },
    "deepnote_cell_type": "text-cell-h3",
    "formattedRanges": [],
    "is_collapsed": false,
    "tags": []
   },
   "source": [
    "### Data Smoothing"
   ]
  },
  {
   "cell_type": "markdown",
   "metadata": {
    "cell_id": "1f513703c2a04b54abede86c24d7de39",
    "deepnote_app_coordinates": {
     "h": 2,
     "w": 8,
     "x": 0,
     "y": 28
    },
    "deepnote_cell_type": "text-cell-p",
    "formattedRanges": [],
    "is_collapsed": false,
    "tags": []
   },
   "source": [
    "Data smoothing is the process of  eliminating outliers from datasets to identify the patterns. The outliers are sometimes referred to as noise and those are eliminated using certain algorithms. The use of data smoothing can help identify better patterns such as forecasting in share market."
   ]
  },
  {
   "cell_type": "markdown",
   "metadata": {
    "cell_id": "4eacbc38cca54b638eff706dbc52e2ed",
    "deepnote_app_coordinates": {
     "h": 2,
     "w": 8,
     "x": 0,
     "y": 31
    },
    "deepnote_cell_type": "text-cell-p",
    "formattedRanges": [],
    "is_collapsed": false,
    "tags": []
   },
   "source": [
    "There are various methods like simple moving average, random method, random walk, simple exponential, and exponential moving average and binning. "
   ]
  },
  {
   "cell_type": "markdown",
   "metadata": {
    "cell_id": "513e926c81914b2da2709f453b701452",
    "deepnote_app_coordinates": {
     "h": 2,
     "w": 8,
     "x": 0,
     "y": 34
    },
    "deepnote_cell_type": "text-cell-p",
    "formattedRanges": [
     {
      "fromCodePoint": 6,
      "ranges": [],
      "toCodePoint": 76,
      "type": "link",
      "url": "https://www.geeksforgeeks.org/python-binning-method-for-data-smoothing/"
     }
    ],
    "is_collapsed": false,
    "tags": []
   },
   "source": [
    "Refer https://www.geeksforgeeks.org/python-binning-method-for-data-smoothing for various binning methods for data smoothing."
   ]
  },
  {
   "cell_type": "markdown",
   "metadata": {
    "cell_id": "5fb0a003032a4a48a3589cd69bf3dd7f",
    "deepnote_app_coordinates": {
     "h": 5,
     "w": 12,
     "x": 0,
     "y": 40
    },
    "deepnote_cell_type": "text-cell-h3",
    "formattedRanges": [],
    "is_collapsed": false,
    "tags": []
   },
   "source": [
    "### Discretization"
   ]
  },
  {
   "cell_type": "markdown",
   "metadata": {
    "cell_id": "735cf4317ff94585b31e429aa6bceaff",
    "deepnote_app_coordinates": {
     "h": 2,
     "w": 8,
     "x": 0,
     "y": 46
    },
    "deepnote_cell_type": "text-cell-p",
    "formattedRanges": [],
    "is_collapsed": false,
    "tags": []
   },
   "source": [
    "Discretization is the process of transforming continuous variables, functions and models  into a discrete form. This can be achieved b creating bins which is a set of contiguous Intervals."
   ]
  },
  {
   "cell_type": "markdown",
   "metadata": {
    "cell_id": "37ddfa28df704431a803e81a1d52aea9",
    "deepnote_app_coordinates": {
     "h": 2,
     "w": 8,
     "x": 0,
     "y": 49
    },
    "deepnote_cell_type": "text-cell-p",
    "formattedRanges": [],
    "is_collapsed": false,
    "tags": []
   },
   "source": [
    "Consider the problem statement of BMI Calculation. A particular group can be considered as healthy, Overweight, Underweight or Obese based on a range rather than just going by the number. Every BMI value is a continuous variable but when grouped, it is binned that makes much easier to understand."
   ]
  },
  {
   "cell_type": "markdown",
   "metadata": {
    "cell_id": "c47b7c2efda14ebc9f6075b9b8db0a0c",
    "deepnote_app_coordinates": {
     "h": 2,
     "w": 8,
     "x": 0,
     "y": 52
    },
    "deepnote_cell_type": "text-cell-p",
    "formattedRanges": [],
    "is_collapsed": false,
    "tags": []
   },
   "source": [
    "Discretization also helps when a continuous variable needs to be as part of the Input to algorithms such Decision Trees or Random Forest. It is mostly required during the feature Engineering i.e checking if a particular attribute is having an impact on the output variable."
   ]
  },
  {
   "cell_type": "markdown",
   "metadata": {
    "cell_id": "921ba01003f34a7dbaa02ff633b17200",
    "deepnote_app_coordinates": {
     "h": 2,
     "w": 8,
     "x": 0,
     "y": 55
    },
    "deepnote_cell_type": "text-cell-p",
    "formattedRanges": [],
    "is_collapsed": false,
    "tags": []
   },
   "source": [
    "Not to forget, Discretization is used in Data Smoothing as explained above thus removing statistical noise from the data."
   ]
  },
  {
   "cell_type": "markdown",
   "metadata": {
    "cell_id": "0f2d8f2e218e4068ab3c5840e416d641",
    "deepnote_app_coordinates": {
     "h": 2,
     "w": 8,
     "x": 0,
     "y": 58
    },
    "deepnote_cell_type": "text-cell-p",
    "formattedRanges": [
     {
      "fromCodePoint": 0,
      "marks": {
       "bold": true
      },
      "toCodePoint": 32,
      "type": "marks"
     }
    ],
    "is_collapsed": false,
    "tags": []
   },
   "source": [
    "Different Discretization Methods"
   ]
  },
  {
   "cell_type": "markdown",
   "metadata": {
    "cell_id": "6927e511602e43c6bfda7221f51bfdcc",
    "deepnote_app_coordinates": {
     "h": 2,
     "w": 8,
     "x": 0,
     "y": 61
    },
    "deepnote_cell_type": "text-cell-p",
    "formattedRanges": [],
    "is_collapsed": false,
    "tags": []
   },
   "source": [
    "- Equal-Width\n",
    "- Equal-Frequency\n",
    "- K-Means"
   ]
  },
  {
   "cell_type": "markdown",
   "metadata": {
    "cell_id": "44d874296b4e479698771f0546712695",
    "deepnote_app_coordinates": {
     "h": 2,
     "w": 8,
     "x": 0,
     "y": 64
    },
    "deepnote_cell_type": "text-cell-p",
    "formattedRanges": [
     {
      "fromCodePoint": 0,
      "marks": {
       "bold": true
      },
      "toCodePoint": 11,
      "type": "marks"
     }
    ],
    "is_collapsed": false,
    "tags": []
   },
   "source": [
    "Equal Width"
   ]
  },
  {
   "cell_type": "markdown",
   "metadata": {
    "cell_id": "c7217ee248424ec087fedf891b9c1d02",
    "deepnote_app_coordinates": {
     "h": 2,
     "w": 8,
     "x": 0,
     "y": 67
    },
    "deepnote_cell_type": "text-cell-p",
    "formattedRanges": [],
    "is_collapsed": false,
    "tags": []
   },
   "source": [
    "As the name suggests separating the values into ‘N’ number of bins, each having the same width is the Equal-Width Discretization. Formula"
   ]
  },
  {
   "cell_type": "markdown",
   "metadata": {
    "cell_id": "4313871ce9854c02a9187af050b4d196",
    "deepnote_app_coordinates": {
     "h": 2,
     "w": 8,
     "x": 0,
     "y": 70
    },
    "deepnote_cell_type": "text-cell-p",
    "formattedRanges": [],
    "is_collapsed": false,
    "tags": []
   },
   "source": [
    "Width = (maximum value - minimum value) / N\n",
    "* where N is the number of bins or intervals."
   ]
  },
  {
   "cell_type": "code",
   "execution_count": 1,
   "metadata": {
    "cell_id": "ed511f3807bf48a7856a862265dcebd5",
    "deepnote_app_coordinates": {
     "h": 5,
     "w": 12,
     "x": 0,
     "y": 73
    },
    "deepnote_cell_type": "code",
    "deepnote_to_be_reexecuted": false,
    "execution_millis": 1547,
    "execution_start": 1675018603445,
    "source_hash": "b4f2082",
    "tags": []
   },
   "outputs": [
    {
     "data": {
      "application/vnd.deepnote.dataframe.v3+json": {
       "column_count": 13,
       "columns": [
        {
         "dtype": "object",
         "name": "Posted On",
         "stats": {
          "categories": [
           {
            "count": 311,
            "name": "2022-07-06"
           },
           {
            "count": 149,
            "name": "2022-05-12"
           },
           {
            "count": 4286,
            "name": "79 others"
           }
          ],
          "nan_count": 0,
          "unique_count": 81
         }
        },
        {
         "dtype": "int64",
         "name": "BHK",
         "stats": {
          "histogram": [
           {
            "bin_end": 1.5,
            "bin_start": 1,
            "count": 1167
           },
           {
            "bin_end": 2,
            "bin_start": 1.5,
            "count": 0
           },
           {
            "bin_end": 2.5,
            "bin_start": 2,
            "count": 2265
           },
           {
            "bin_end": 3,
            "bin_start": 2.5,
            "count": 0
           },
           {
            "bin_end": 3.5,
            "bin_start": 3,
            "count": 1098
           },
           {
            "bin_end": 4,
            "bin_start": 3.5,
            "count": 0
           },
           {
            "bin_end": 4.5,
            "bin_start": 4,
            "count": 189
           },
           {
            "bin_end": 5,
            "bin_start": 4.5,
            "count": 0
           },
           {
            "bin_end": 5.5,
            "bin_start": 5,
            "count": 19
           },
           {
            "bin_end": 6,
            "bin_start": 5.5,
            "count": 8
           }
          ],
          "max": "6",
          "min": "1",
          "nan_count": 0,
          "unique_count": 6
         }
        },
        {
         "dtype": "int64",
         "name": "Rent",
         "stats": {
          "histogram": [
           {
            "bin_end": 351080,
            "bin_start": 1200,
            "count": 4721
           },
           {
            "bin_end": 700960,
            "bin_start": 351080,
            "count": 21
           },
           {
            "bin_end": 1050840,
            "bin_start": 700960,
            "count": 2
           },
           {
            "bin_end": 1400720,
            "bin_start": 1050840,
            "count": 1
           },
           {
            "bin_end": 1750600,
            "bin_start": 1400720,
            "count": 0
           },
           {
            "bin_end": 2100480,
            "bin_start": 1750600,
            "count": 0
           },
           {
            "bin_end": 2450360,
            "bin_start": 2100480,
            "count": 0
           },
           {
            "bin_end": 2800240,
            "bin_start": 2450360,
            "count": 0
           },
           {
            "bin_end": 3150120,
            "bin_start": 2800240,
            "count": 0
           },
           {
            "bin_end": 3500000,
            "bin_start": 3150120,
            "count": 1
           }
          ],
          "max": "3500000",
          "min": "1200",
          "nan_count": 0,
          "unique_count": 243
         }
        },
        {
         "dtype": "int64",
         "name": "Size",
         "stats": {
          "histogram": [
           {
            "bin_end": 809,
            "bin_start": 10,
            "count": 2313
           },
           {
            "bin_end": 1608,
            "bin_start": 809,
            "count": 1912
           },
           {
            "bin_end": 2407,
            "bin_start": 1608,
            "count": 371
           },
           {
            "bin_end": 3206,
            "bin_start": 2407,
            "count": 98
           },
           {
            "bin_end": 4005,
            "bin_start": 3206,
            "count": 34
           },
           {
            "bin_end": 4804,
            "bin_start": 4005,
            "count": 13
           },
           {
            "bin_end": 5603,
            "bin_start": 4804,
            "count": 1
           },
           {
            "bin_end": 6402,
            "bin_start": 5603,
            "count": 2
           },
           {
            "bin_end": 7201,
            "bin_start": 6402,
            "count": 1
           },
           {
            "bin_end": 8000,
            "bin_start": 7201,
            "count": 1
           }
          ],
          "max": "8000",
          "min": "10",
          "nan_count": 0,
          "unique_count": 615
         }
        },
        {
         "dtype": "object",
         "name": "Floor",
         "stats": {
          "categories": [
           {
            "count": 379,
            "name": "1 out of 2"
           },
           {
            "count": 350,
            "name": "Ground out of 2"
           },
           {
            "count": 4017,
            "name": "478 others"
           }
          ],
          "nan_count": 0,
          "unique_count": 480
         }
        },
        {
         "dtype": "object",
         "name": "Area Type",
         "stats": {
          "categories": [
           {
            "count": 2446,
            "name": "Super Area"
           },
           {
            "count": 2298,
            "name": "Carpet Area"
           },
           {
            "count": 2,
            "name": "Built Area"
           }
          ],
          "nan_count": 0,
          "unique_count": 3
         }
        },
        {
         "dtype": "object",
         "name": "Area Locality",
         "stats": {
          "categories": [
           {
            "count": 37,
            "name": "Bandra West"
           },
           {
            "count": 29,
            "name": "Gachibowli"
           },
           {
            "count": 4680,
            "name": "2233 others"
           }
          ],
          "nan_count": 0,
          "unique_count": 2235
         }
        },
        {
         "dtype": "object",
         "name": "City",
         "stats": {
          "categories": [
           {
            "count": 972,
            "name": "Mumbai"
           },
           {
            "count": 891,
            "name": "Chennai"
           },
           {
            "count": 2883,
            "name": "4 others"
           }
          ],
          "nan_count": 0,
          "unique_count": 6
         }
        },
        {
         "dtype": "object",
         "name": "Furnishing Status",
         "stats": {
          "categories": [
           {
            "count": 2251,
            "name": "Semi-Furnished"
           },
           {
            "count": 1815,
            "name": "Unfurnished"
           },
           {
            "count": 680,
            "name": "Furnished"
           }
          ],
          "nan_count": 0,
          "unique_count": 3
         }
        },
        {
         "dtype": "object",
         "name": "Tenant Preferred",
         "stats": {
          "categories": [
           {
            "count": 3444,
            "name": "Bachelors/Family"
           },
           {
            "count": 830,
            "name": "Bachelors"
           },
           {
            "count": 472,
            "name": "Family"
           }
          ],
          "nan_count": 0,
          "unique_count": 3
         }
        },
        {
         "dtype": "int64",
         "name": "Bathroom",
         "stats": {
          "histogram": [
           {
            "bin_end": 1.9,
            "bin_start": 1,
            "count": 1474
           },
           {
            "bin_end": 2.8,
            "bin_start": 1.9,
            "count": 2291
           },
           {
            "bin_end": 3.7,
            "bin_start": 2.8,
            "count": 749
           },
           {
            "bin_end": 4.6,
            "bin_start": 3.7,
            "count": 156
           },
           {
            "bin_end": 5.5,
            "bin_start": 4.6,
            "count": 60
           },
           {
            "bin_end": 6.4,
            "bin_start": 5.5,
            "count": 12
           },
           {
            "bin_end": 7.3,
            "bin_start": 6.4,
            "count": 3
           },
           {
            "bin_end": 8.2,
            "bin_start": 7.3,
            "count": 0
           },
           {
            "bin_end": 9.1,
            "bin_start": 8.2,
            "count": 0
           },
           {
            "bin_end": 10,
            "bin_start": 9.1,
            "count": 1
           }
          ],
          "max": "10",
          "min": "1",
          "nan_count": 0,
          "unique_count": 8
         }
        },
        {
         "dtype": "object",
         "name": "Point of Contact",
         "stats": {
          "categories": [
           {
            "count": 3216,
            "name": "Contact Owner"
           },
           {
            "count": 1529,
            "name": "Contact Agent"
           },
           {
            "count": 1,
            "name": "Contact Builder"
           }
          ],
          "nan_count": 0,
          "unique_count": 3
         }
        },
        {
         "dtype": "float64",
         "name": "Rent_Group",
         "stats": {
          "histogram": [
           {
            "bin_end": 0.9,
            "bin_start": 0,
            "count": 414
           },
           {
            "bin_end": 1.8,
            "bin_start": 0.9,
            "count": 477
           },
           {
            "bin_end": 2.7,
            "bin_start": 1.8,
            "count": 463
           },
           {
            "bin_end": 3.6,
            "bin_start": 2.7,
            "count": 531
           },
           {
            "bin_end": 4.5,
            "bin_start": 3.6,
            "count": 454
           },
           {
            "bin_end": 5.4,
            "bin_start": 4.5,
            "count": 393
           },
           {
            "bin_end": 6.3,
            "bin_start": 5.4,
            "count": 571
           },
           {
            "bin_end": 7.2,
            "bin_start": 6.3,
            "count": 442
           },
           {
            "bin_end": 8.1,
            "bin_start": 7.2,
            "count": 522
           },
           {
            "bin_end": 9,
            "bin_start": 8.1,
            "count": 479
           }
          ],
          "max": "9.0",
          "min": "0.0",
          "nan_count": 0,
          "unique_count": 10
         }
        },
        {
         "dtype": "int64",
         "name": "_deepnote_index_column"
        }
       ],
       "row_count": 4746,
       "rows": [
        {
         "Area Locality": "Bandel",
         "Area Type": "Super Area",
         "BHK": "2",
         "Bathroom": "2",
         "City": "Kolkata",
         "Floor": "Ground out of 2",
         "Furnishing Status": "Unfurnished",
         "Point of Contact": "Contact Owner",
         "Posted On": "2022-05-18",
         "Rent": "10000",
         "Rent_Group": "2.0",
         "Size": "1100",
         "Tenant Preferred": "Bachelors/Family",
         "_deepnote_index_column": "0"
        },
        {
         "Area Locality": "Phool Bagan, Kankurgachi",
         "Area Type": "Super Area",
         "BHK": "2",
         "Bathroom": "1",
         "City": "Kolkata",
         "Floor": "1 out of 3",
         "Furnishing Status": "Semi-Furnished",
         "Point of Contact": "Contact Owner",
         "Posted On": "2022-05-13",
         "Rent": "20000",
         "Rent_Group": "6.0",
         "Size": "800",
         "Tenant Preferred": "Bachelors/Family",
         "_deepnote_index_column": "1"
        },
        {
         "Area Locality": "Salt Lake City Sector 2",
         "Area Type": "Super Area",
         "BHK": "2",
         "Bathroom": "1",
         "City": "Kolkata",
         "Floor": "1 out of 3",
         "Furnishing Status": "Semi-Furnished",
         "Point of Contact": "Contact Owner",
         "Posted On": "2022-05-16",
         "Rent": "17000",
         "Rent_Group": "5.0",
         "Size": "1000",
         "Tenant Preferred": "Bachelors/Family",
         "_deepnote_index_column": "2"
        },
        {
         "Area Locality": "Dumdum Park",
         "Area Type": "Super Area",
         "BHK": "2",
         "Bathroom": "1",
         "City": "Kolkata",
         "Floor": "1 out of 2",
         "Furnishing Status": "Unfurnished",
         "Point of Contact": "Contact Owner",
         "Posted On": "2022-07-04",
         "Rent": "10000",
         "Rent_Group": "2.0",
         "Size": "800",
         "Tenant Preferred": "Bachelors/Family",
         "_deepnote_index_column": "3"
        },
        {
         "Area Locality": "South Dum Dum",
         "Area Type": "Carpet Area",
         "BHK": "2",
         "Bathroom": "1",
         "City": "Kolkata",
         "Floor": "1 out of 2",
         "Furnishing Status": "Unfurnished",
         "Point of Contact": "Contact Owner",
         "Posted On": "2022-05-09",
         "Rent": "7500",
         "Rent_Group": "1.0",
         "Size": "850",
         "Tenant Preferred": "Bachelors",
         "_deepnote_index_column": "4"
        },
        {
         "Area Locality": "Thakurpukur",
         "Area Type": "Super Area",
         "BHK": "2",
         "Bathroom": "2",
         "City": "Kolkata",
         "Floor": "Ground out of 1",
         "Furnishing Status": "Unfurnished",
         "Point of Contact": "Contact Owner",
         "Posted On": "2022-04-29",
         "Rent": "7000",
         "Rent_Group": "1.0",
         "Size": "600",
         "Tenant Preferred": "Bachelors/Family",
         "_deepnote_index_column": "5"
        },
        {
         "Area Locality": "Malancha",
         "Area Type": "Super Area",
         "BHK": "2",
         "Bathroom": "2",
         "City": "Kolkata",
         "Floor": "Ground out of 4",
         "Furnishing Status": "Unfurnished",
         "Point of Contact": "Contact Agent",
         "Posted On": "2022-06-21",
         "Rent": "10000",
         "Rent_Group": "2.0",
         "Size": "700",
         "Tenant Preferred": "Bachelors",
         "_deepnote_index_column": "6"
        },
        {
         "Area Locality": "Malancha",
         "Area Type": "Super Area",
         "BHK": "1",
         "Bathroom": "1",
         "City": "Kolkata",
         "Floor": "1 out of 2",
         "Furnishing Status": "Unfurnished",
         "Point of Contact": "Contact Agent",
         "Posted On": "2022-06-21",
         "Rent": "5000",
         "Rent_Group": "0.0",
         "Size": "250",
         "Tenant Preferred": "Bachelors",
         "_deepnote_index_column": "7"
        },
        {
         "Area Locality": "Palm Avenue Kolkata, Ballygunge",
         "Area Type": "Carpet Area",
         "BHK": "2",
         "Bathroom": "2",
         "City": "Kolkata",
         "Floor": "1 out of 2",
         "Furnishing Status": "Unfurnished",
         "Point of Contact": "Contact Agent",
         "Posted On": "2022-06-07",
         "Rent": "26000",
         "Rent_Group": "6.0",
         "Size": "800",
         "Tenant Preferred": "Bachelors",
         "_deepnote_index_column": "8"
        },
        {
         "Area Locality": "Natunhat",
         "Area Type": "Carpet Area",
         "BHK": "2",
         "Bathroom": "2",
         "City": "Kolkata",
         "Floor": "1 out of 3",
         "Furnishing Status": "Semi-Furnished",
         "Point of Contact": "Contact Owner",
         "Posted On": "2022-06-20",
         "Rent": "10000",
         "Rent_Group": "2.0",
         "Size": "1000",
         "Tenant Preferred": "Bachelors/Family",
         "_deepnote_index_column": "9"
        }
       ]
      },
      "text/html": [
       "<div>\n",
       "<style scoped>\n",
       "    .dataframe tbody tr th:only-of-type {\n",
       "        vertical-align: middle;\n",
       "    }\n",
       "\n",
       "    .dataframe tbody tr th {\n",
       "        vertical-align: top;\n",
       "    }\n",
       "\n",
       "    .dataframe thead th {\n",
       "        text-align: right;\n",
       "    }\n",
       "</style>\n",
       "<table border=\"1\" class=\"dataframe\">\n",
       "  <thead>\n",
       "    <tr style=\"text-align: right;\">\n",
       "      <th></th>\n",
       "      <th>Posted On</th>\n",
       "      <th>BHK</th>\n",
       "      <th>Rent</th>\n",
       "      <th>Size</th>\n",
       "      <th>Floor</th>\n",
       "      <th>Area Type</th>\n",
       "      <th>Area Locality</th>\n",
       "      <th>City</th>\n",
       "      <th>Furnishing Status</th>\n",
       "      <th>Tenant Preferred</th>\n",
       "      <th>Bathroom</th>\n",
       "      <th>Point of Contact</th>\n",
       "      <th>Rent_Group</th>\n",
       "    </tr>\n",
       "  </thead>\n",
       "  <tbody>\n",
       "    <tr>\n",
       "      <th>0</th>\n",
       "      <td>2022-05-18</td>\n",
       "      <td>2</td>\n",
       "      <td>10000</td>\n",
       "      <td>1100</td>\n",
       "      <td>Ground out of 2</td>\n",
       "      <td>Super Area</td>\n",
       "      <td>Bandel</td>\n",
       "      <td>Kolkata</td>\n",
       "      <td>Unfurnished</td>\n",
       "      <td>Bachelors/Family</td>\n",
       "      <td>2</td>\n",
       "      <td>Contact Owner</td>\n",
       "      <td>2.0</td>\n",
       "    </tr>\n",
       "    <tr>\n",
       "      <th>1</th>\n",
       "      <td>2022-05-13</td>\n",
       "      <td>2</td>\n",
       "      <td>20000</td>\n",
       "      <td>800</td>\n",
       "      <td>1 out of 3</td>\n",
       "      <td>Super Area</td>\n",
       "      <td>Phool Bagan, Kankurgachi</td>\n",
       "      <td>Kolkata</td>\n",
       "      <td>Semi-Furnished</td>\n",
       "      <td>Bachelors/Family</td>\n",
       "      <td>1</td>\n",
       "      <td>Contact Owner</td>\n",
       "      <td>6.0</td>\n",
       "    </tr>\n",
       "    <tr>\n",
       "      <th>2</th>\n",
       "      <td>2022-05-16</td>\n",
       "      <td>2</td>\n",
       "      <td>17000</td>\n",
       "      <td>1000</td>\n",
       "      <td>1 out of 3</td>\n",
       "      <td>Super Area</td>\n",
       "      <td>Salt Lake City Sector 2</td>\n",
       "      <td>Kolkata</td>\n",
       "      <td>Semi-Furnished</td>\n",
       "      <td>Bachelors/Family</td>\n",
       "      <td>1</td>\n",
       "      <td>Contact Owner</td>\n",
       "      <td>5.0</td>\n",
       "    </tr>\n",
       "    <tr>\n",
       "      <th>3</th>\n",
       "      <td>2022-07-04</td>\n",
       "      <td>2</td>\n",
       "      <td>10000</td>\n",
       "      <td>800</td>\n",
       "      <td>1 out of 2</td>\n",
       "      <td>Super Area</td>\n",
       "      <td>Dumdum Park</td>\n",
       "      <td>Kolkata</td>\n",
       "      <td>Unfurnished</td>\n",
       "      <td>Bachelors/Family</td>\n",
       "      <td>1</td>\n",
       "      <td>Contact Owner</td>\n",
       "      <td>2.0</td>\n",
       "    </tr>\n",
       "    <tr>\n",
       "      <th>4</th>\n",
       "      <td>2022-05-09</td>\n",
       "      <td>2</td>\n",
       "      <td>7500</td>\n",
       "      <td>850</td>\n",
       "      <td>1 out of 2</td>\n",
       "      <td>Carpet Area</td>\n",
       "      <td>South Dum Dum</td>\n",
       "      <td>Kolkata</td>\n",
       "      <td>Unfurnished</td>\n",
       "      <td>Bachelors</td>\n",
       "      <td>1</td>\n",
       "      <td>Contact Owner</td>\n",
       "      <td>1.0</td>\n",
       "    </tr>\n",
       "    <tr>\n",
       "      <th>...</th>\n",
       "      <td>...</td>\n",
       "      <td>...</td>\n",
       "      <td>...</td>\n",
       "      <td>...</td>\n",
       "      <td>...</td>\n",
       "      <td>...</td>\n",
       "      <td>...</td>\n",
       "      <td>...</td>\n",
       "      <td>...</td>\n",
       "      <td>...</td>\n",
       "      <td>...</td>\n",
       "      <td>...</td>\n",
       "      <td>...</td>\n",
       "    </tr>\n",
       "    <tr>\n",
       "      <th>4741</th>\n",
       "      <td>2022-05-18</td>\n",
       "      <td>2</td>\n",
       "      <td>15000</td>\n",
       "      <td>1000</td>\n",
       "      <td>3 out of 5</td>\n",
       "      <td>Carpet Area</td>\n",
       "      <td>Bandam Kommu</td>\n",
       "      <td>Hyderabad</td>\n",
       "      <td>Semi-Furnished</td>\n",
       "      <td>Bachelors/Family</td>\n",
       "      <td>2</td>\n",
       "      <td>Contact Owner</td>\n",
       "      <td>4.0</td>\n",
       "    </tr>\n",
       "    <tr>\n",
       "      <th>4742</th>\n",
       "      <td>2022-05-15</td>\n",
       "      <td>3</td>\n",
       "      <td>29000</td>\n",
       "      <td>2000</td>\n",
       "      <td>1 out of 4</td>\n",
       "      <td>Super Area</td>\n",
       "      <td>Manikonda, Hyderabad</td>\n",
       "      <td>Hyderabad</td>\n",
       "      <td>Semi-Furnished</td>\n",
       "      <td>Bachelors/Family</td>\n",
       "      <td>3</td>\n",
       "      <td>Contact Owner</td>\n",
       "      <td>7.0</td>\n",
       "    </tr>\n",
       "    <tr>\n",
       "      <th>4743</th>\n",
       "      <td>2022-07-10</td>\n",
       "      <td>3</td>\n",
       "      <td>35000</td>\n",
       "      <td>1750</td>\n",
       "      <td>3 out of 5</td>\n",
       "      <td>Carpet Area</td>\n",
       "      <td>Himayath Nagar, NH 7</td>\n",
       "      <td>Hyderabad</td>\n",
       "      <td>Semi-Furnished</td>\n",
       "      <td>Bachelors/Family</td>\n",
       "      <td>3</td>\n",
       "      <td>Contact Agent</td>\n",
       "      <td>7.0</td>\n",
       "    </tr>\n",
       "    <tr>\n",
       "      <th>4744</th>\n",
       "      <td>2022-07-06</td>\n",
       "      <td>3</td>\n",
       "      <td>45000</td>\n",
       "      <td>1500</td>\n",
       "      <td>23 out of 34</td>\n",
       "      <td>Carpet Area</td>\n",
       "      <td>Gachibowli</td>\n",
       "      <td>Hyderabad</td>\n",
       "      <td>Semi-Furnished</td>\n",
       "      <td>Family</td>\n",
       "      <td>2</td>\n",
       "      <td>Contact Agent</td>\n",
       "      <td>8.0</td>\n",
       "    </tr>\n",
       "    <tr>\n",
       "      <th>4745</th>\n",
       "      <td>2022-05-04</td>\n",
       "      <td>2</td>\n",
       "      <td>15000</td>\n",
       "      <td>1000</td>\n",
       "      <td>4 out of 5</td>\n",
       "      <td>Carpet Area</td>\n",
       "      <td>Suchitra Circle</td>\n",
       "      <td>Hyderabad</td>\n",
       "      <td>Unfurnished</td>\n",
       "      <td>Bachelors</td>\n",
       "      <td>2</td>\n",
       "      <td>Contact Owner</td>\n",
       "      <td>4.0</td>\n",
       "    </tr>\n",
       "  </tbody>\n",
       "</table>\n",
       "<p>4746 rows × 13 columns</p>\n",
       "</div>"
      ],
      "text/plain": [
       "       Posted On  BHK   Rent  Size            Floor    Area Type  \\\n",
       "0     2022-05-18    2  10000  1100  Ground out of 2   Super Area   \n",
       "1     2022-05-13    2  20000   800       1 out of 3   Super Area   \n",
       "2     2022-05-16    2  17000  1000       1 out of 3   Super Area   \n",
       "3     2022-07-04    2  10000   800       1 out of 2   Super Area   \n",
       "4     2022-05-09    2   7500   850       1 out of 2  Carpet Area   \n",
       "...          ...  ...    ...   ...              ...          ...   \n",
       "4741  2022-05-18    2  15000  1000       3 out of 5  Carpet Area   \n",
       "4742  2022-05-15    3  29000  2000       1 out of 4   Super Area   \n",
       "4743  2022-07-10    3  35000  1750       3 out of 5  Carpet Area   \n",
       "4744  2022-07-06    3  45000  1500     23 out of 34  Carpet Area   \n",
       "4745  2022-05-04    2  15000  1000       4 out of 5  Carpet Area   \n",
       "\n",
       "                 Area Locality       City Furnishing Status  Tenant Preferred  \\\n",
       "0                       Bandel    Kolkata       Unfurnished  Bachelors/Family   \n",
       "1     Phool Bagan, Kankurgachi    Kolkata    Semi-Furnished  Bachelors/Family   \n",
       "2      Salt Lake City Sector 2    Kolkata    Semi-Furnished  Bachelors/Family   \n",
       "3                  Dumdum Park    Kolkata       Unfurnished  Bachelors/Family   \n",
       "4                South Dum Dum    Kolkata       Unfurnished         Bachelors   \n",
       "...                        ...        ...               ...               ...   \n",
       "4741              Bandam Kommu  Hyderabad    Semi-Furnished  Bachelors/Family   \n",
       "4742      Manikonda, Hyderabad  Hyderabad    Semi-Furnished  Bachelors/Family   \n",
       "4743      Himayath Nagar, NH 7  Hyderabad    Semi-Furnished  Bachelors/Family   \n",
       "4744                Gachibowli  Hyderabad    Semi-Furnished            Family   \n",
       "4745           Suchitra Circle  Hyderabad       Unfurnished         Bachelors   \n",
       "\n",
       "      Bathroom Point of Contact  Rent_Group  \n",
       "0            2    Contact Owner         2.0  \n",
       "1            1    Contact Owner         6.0  \n",
       "2            1    Contact Owner         5.0  \n",
       "3            1    Contact Owner         2.0  \n",
       "4            1    Contact Owner         1.0  \n",
       "...        ...              ...         ...  \n",
       "4741         2    Contact Owner         4.0  \n",
       "4742         3    Contact Owner         7.0  \n",
       "4743         3    Contact Agent         7.0  \n",
       "4744         2    Contact Agent         8.0  \n",
       "4745         2    Contact Owner         4.0  \n",
       "\n",
       "[4746 rows x 13 columns]"
      ]
     },
     "execution_count": 1,
     "metadata": {},
     "output_type": "execute_result"
    }
   ],
   "source": [
    "from sklearn.preprocessing import KBinsDiscretizer\n",
    "import pandas as pd\n",
    "\n",
    "df = pd.read_csv('/work/data/House_Rent_Dataset.csv')\n",
    "discretizer = KBinsDiscretizer(n_bins=10, encode='ordinal', strategy='quantile')\n",
    "rent = df['Rent'].values.reshape(4746,1)\n",
    "discretizer.fit(rent)\n",
    "Xt = discretizer.transform(rent)\n",
    "df['Rent_Group'] = Xt\n",
    "df\n"
   ]
  },
  {
   "cell_type": "markdown",
   "metadata": {
    "cell_id": "e34ed31edae044749b3efa5798ccd760",
    "deepnote_app_coordinates": {
     "h": 2,
     "w": 8,
     "x": 0,
     "y": 79
    },
    "deepnote_cell_type": "text-cell-p",
    "formattedRanges": [],
    "is_collapsed": false,
    "tags": []
   },
   "source": [
    "Equal Width is able to handle outliers. However it doesn’t improve the value spread"
   ]
  },
  {
   "cell_type": "markdown",
   "metadata": {
    "cell_id": "b920172ea93c4073884f13a1b4ae9700",
    "deepnote_app_coordinates": {
     "h": 2,
     "w": 8,
     "x": 0,
     "y": 82
    },
    "deepnote_cell_type": "text-cell-p",
    "formattedRanges": [
     {
      "fromCodePoint": 0,
      "marks": {
       "bold": true
      },
      "toCodePoint": 30,
      "type": "marks"
     }
    ],
    "is_collapsed": false,
    "tags": []
   },
   "source": [
    "Equal-Frequency Discretization"
   ]
  },
  {
   "cell_type": "markdown",
   "metadata": {
    "cell_id": "c069be97252042278d1d3c8d9576db91",
    "deepnote_app_coordinates": {
     "h": 2,
     "w": 8,
     "x": 0,
     "y": 85
    },
    "deepnote_cell_type": "text-cell-p",
    "formattedRanges": [],
    "is_collapsed": false,
    "tags": []
   },
   "source": [
    "As the name suggests separating the values into ‘N’ number of bins, each having the same amount of observations is the Equal-Frequency Discretization. "
   ]
  },
  {
   "cell_type": "code",
   "execution_count": 2,
   "metadata": {
    "cell_id": "f06b9046233841ac9fcd732ba01410a2",
    "deepnote_app_coordinates": {
     "h": 5,
     "w": 12,
     "x": 0,
     "y": 88
    },
    "deepnote_cell_type": "code",
    "deepnote_to_be_reexecuted": false,
    "execution_millis": 121,
    "execution_start": 1675018604996,
    "source_hash": "79f50572",
    "tags": []
   },
   "outputs": [
    {
     "data": {
      "application/vnd.deepnote.dataframe.v3+json": {
       "column_count": 14,
       "columns": [
        {
         "dtype": "object",
         "name": "Posted On",
         "stats": {
          "categories": [
           {
            "count": 311,
            "name": "2022-07-06"
           },
           {
            "count": 149,
            "name": "2022-05-12"
           },
           {
            "count": 4286,
            "name": "79 others"
           }
          ],
          "nan_count": 0,
          "unique_count": 81
         }
        },
        {
         "dtype": "int64",
         "name": "BHK",
         "stats": {
          "histogram": [
           {
            "bin_end": 1.5,
            "bin_start": 1,
            "count": 1167
           },
           {
            "bin_end": 2,
            "bin_start": 1.5,
            "count": 0
           },
           {
            "bin_end": 2.5,
            "bin_start": 2,
            "count": 2265
           },
           {
            "bin_end": 3,
            "bin_start": 2.5,
            "count": 0
           },
           {
            "bin_end": 3.5,
            "bin_start": 3,
            "count": 1098
           },
           {
            "bin_end": 4,
            "bin_start": 3.5,
            "count": 0
           },
           {
            "bin_end": 4.5,
            "bin_start": 4,
            "count": 189
           },
           {
            "bin_end": 5,
            "bin_start": 4.5,
            "count": 0
           },
           {
            "bin_end": 5.5,
            "bin_start": 5,
            "count": 19
           },
           {
            "bin_end": 6,
            "bin_start": 5.5,
            "count": 8
           }
          ],
          "max": "6",
          "min": "1",
          "nan_count": 0,
          "unique_count": 6
         }
        },
        {
         "dtype": "int64",
         "name": "Rent",
         "stats": {
          "histogram": [
           {
            "bin_end": 351080,
            "bin_start": 1200,
            "count": 4721
           },
           {
            "bin_end": 700960,
            "bin_start": 351080,
            "count": 21
           },
           {
            "bin_end": 1050840,
            "bin_start": 700960,
            "count": 2
           },
           {
            "bin_end": 1400720,
            "bin_start": 1050840,
            "count": 1
           },
           {
            "bin_end": 1750600,
            "bin_start": 1400720,
            "count": 0
           },
           {
            "bin_end": 2100480,
            "bin_start": 1750600,
            "count": 0
           },
           {
            "bin_end": 2450360,
            "bin_start": 2100480,
            "count": 0
           },
           {
            "bin_end": 2800240,
            "bin_start": 2450360,
            "count": 0
           },
           {
            "bin_end": 3150120,
            "bin_start": 2800240,
            "count": 0
           },
           {
            "bin_end": 3500000,
            "bin_start": 3150120,
            "count": 1
           }
          ],
          "max": "3500000",
          "min": "1200",
          "nan_count": 0,
          "unique_count": 243
         }
        },
        {
         "dtype": "int64",
         "name": "Size",
         "stats": {
          "histogram": [
           {
            "bin_end": 809,
            "bin_start": 10,
            "count": 2313
           },
           {
            "bin_end": 1608,
            "bin_start": 809,
            "count": 1912
           },
           {
            "bin_end": 2407,
            "bin_start": 1608,
            "count": 371
           },
           {
            "bin_end": 3206,
            "bin_start": 2407,
            "count": 98
           },
           {
            "bin_end": 4005,
            "bin_start": 3206,
            "count": 34
           },
           {
            "bin_end": 4804,
            "bin_start": 4005,
            "count": 13
           },
           {
            "bin_end": 5603,
            "bin_start": 4804,
            "count": 1
           },
           {
            "bin_end": 6402,
            "bin_start": 5603,
            "count": 2
           },
           {
            "bin_end": 7201,
            "bin_start": 6402,
            "count": 1
           },
           {
            "bin_end": 8000,
            "bin_start": 7201,
            "count": 1
           }
          ],
          "max": "8000",
          "min": "10",
          "nan_count": 0,
          "unique_count": 615
         }
        },
        {
         "dtype": "object",
         "name": "Floor",
         "stats": {
          "categories": [
           {
            "count": 379,
            "name": "1 out of 2"
           },
           {
            "count": 350,
            "name": "Ground out of 2"
           },
           {
            "count": 4017,
            "name": "478 others"
           }
          ],
          "nan_count": 0,
          "unique_count": 480
         }
        },
        {
         "dtype": "object",
         "name": "Area Type",
         "stats": {
          "categories": [
           {
            "count": 2446,
            "name": "Super Area"
           },
           {
            "count": 2298,
            "name": "Carpet Area"
           },
           {
            "count": 2,
            "name": "Built Area"
           }
          ],
          "nan_count": 0,
          "unique_count": 3
         }
        },
        {
         "dtype": "object",
         "name": "Area Locality",
         "stats": {
          "categories": [
           {
            "count": 37,
            "name": "Bandra West"
           },
           {
            "count": 29,
            "name": "Gachibowli"
           },
           {
            "count": 4680,
            "name": "2233 others"
           }
          ],
          "nan_count": 0,
          "unique_count": 2235
         }
        },
        {
         "dtype": "object",
         "name": "City",
         "stats": {
          "categories": [
           {
            "count": 972,
            "name": "Mumbai"
           },
           {
            "count": 891,
            "name": "Chennai"
           },
           {
            "count": 2883,
            "name": "4 others"
           }
          ],
          "nan_count": 0,
          "unique_count": 6
         }
        },
        {
         "dtype": "object",
         "name": "Furnishing Status",
         "stats": {
          "categories": [
           {
            "count": 2251,
            "name": "Semi-Furnished"
           },
           {
            "count": 1815,
            "name": "Unfurnished"
           },
           {
            "count": 680,
            "name": "Furnished"
           }
          ],
          "nan_count": 0,
          "unique_count": 3
         }
        },
        {
         "dtype": "object",
         "name": "Tenant Preferred",
         "stats": {
          "categories": [
           {
            "count": 3444,
            "name": "Bachelors/Family"
           },
           {
            "count": 830,
            "name": "Bachelors"
           },
           {
            "count": 472,
            "name": "Family"
           }
          ],
          "nan_count": 0,
          "unique_count": 3
         }
        },
        {
         "dtype": "int64",
         "name": "Bathroom",
         "stats": {
          "histogram": [
           {
            "bin_end": 1.9,
            "bin_start": 1,
            "count": 1474
           },
           {
            "bin_end": 2.8,
            "bin_start": 1.9,
            "count": 2291
           },
           {
            "bin_end": 3.7,
            "bin_start": 2.8,
            "count": 749
           },
           {
            "bin_end": 4.6,
            "bin_start": 3.7,
            "count": 156
           },
           {
            "bin_end": 5.5,
            "bin_start": 4.6,
            "count": 60
           },
           {
            "bin_end": 6.4,
            "bin_start": 5.5,
            "count": 12
           },
           {
            "bin_end": 7.3,
            "bin_start": 6.4,
            "count": 3
           },
           {
            "bin_end": 8.2,
            "bin_start": 7.3,
            "count": 0
           },
           {
            "bin_end": 9.1,
            "bin_start": 8.2,
            "count": 0
           },
           {
            "bin_end": 10,
            "bin_start": 9.1,
            "count": 1
           }
          ],
          "max": "10",
          "min": "1",
          "nan_count": 0,
          "unique_count": 8
         }
        },
        {
         "dtype": "object",
         "name": "Point of Contact",
         "stats": {
          "categories": [
           {
            "count": 3216,
            "name": "Contact Owner"
           },
           {
            "count": 1529,
            "name": "Contact Agent"
           },
           {
            "count": 1,
            "name": "Contact Builder"
           }
          ],
          "nan_count": 0,
          "unique_count": 3
         }
        },
        {
         "dtype": "float64",
         "name": "Rent_Group",
         "stats": {
          "histogram": [
           {
            "bin_end": 0.9,
            "bin_start": 0,
            "count": 414
           },
           {
            "bin_end": 1.8,
            "bin_start": 0.9,
            "count": 477
           },
           {
            "bin_end": 2.7,
            "bin_start": 1.8,
            "count": 463
           },
           {
            "bin_end": 3.6,
            "bin_start": 2.7,
            "count": 531
           },
           {
            "bin_end": 4.5,
            "bin_start": 3.6,
            "count": 454
           },
           {
            "bin_end": 5.4,
            "bin_start": 4.5,
            "count": 393
           },
           {
            "bin_end": 6.3,
            "bin_start": 5.4,
            "count": 571
           },
           {
            "bin_end": 7.2,
            "bin_start": 6.3,
            "count": 442
           },
           {
            "bin_end": 8.1,
            "bin_start": 7.2,
            "count": 522
           },
           {
            "bin_end": 9,
            "bin_start": 8.1,
            "count": 479
           }
          ],
          "max": "9.0",
          "min": "0.0",
          "nan_count": 0,
          "unique_count": 10
         }
        },
        {
         "dtype": "float64",
         "name": "Rent_Group_Eq_Freq",
         "stats": {
          "histogram": [
           {
            "bin_end": 0.9,
            "bin_start": 0,
            "count": 414
           },
           {
            "bin_end": 1.8,
            "bin_start": 0.9,
            "count": 477
           },
           {
            "bin_end": 2.7,
            "bin_start": 1.8,
            "count": 463
           },
           {
            "bin_end": 3.6,
            "bin_start": 2.7,
            "count": 531
           },
           {
            "bin_end": 4.5,
            "bin_start": 3.6,
            "count": 454
           },
           {
            "bin_end": 5.4,
            "bin_start": 4.5,
            "count": 393
           },
           {
            "bin_end": 6.3,
            "bin_start": 5.4,
            "count": 571
           },
           {
            "bin_end": 7.2,
            "bin_start": 6.3,
            "count": 442
           },
           {
            "bin_end": 8.1,
            "bin_start": 7.2,
            "count": 522
           },
           {
            "bin_end": 9,
            "bin_start": 8.1,
            "count": 479
           }
          ],
          "max": "9.0",
          "min": "0.0",
          "nan_count": 0,
          "unique_count": 10
         }
        },
        {
         "dtype": "int64",
         "name": "_deepnote_index_column"
        }
       ],
       "row_count": 4746,
       "rows": [
        {
         "Area Locality": "Bandel",
         "Area Type": "Super Area",
         "BHK": "2",
         "Bathroom": "2",
         "City": "Kolkata",
         "Floor": "Ground out of 2",
         "Furnishing Status": "Unfurnished",
         "Point of Contact": "Contact Owner",
         "Posted On": "2022-05-18",
         "Rent": "10000",
         "Rent_Group": "2.0",
         "Rent_Group_Eq_Freq": "2.0",
         "Size": "1100",
         "Tenant Preferred": "Bachelors/Family",
         "_deepnote_index_column": "0"
        },
        {
         "Area Locality": "Phool Bagan, Kankurgachi",
         "Area Type": "Super Area",
         "BHK": "2",
         "Bathroom": "1",
         "City": "Kolkata",
         "Floor": "1 out of 3",
         "Furnishing Status": "Semi-Furnished",
         "Point of Contact": "Contact Owner",
         "Posted On": "2022-05-13",
         "Rent": "20000",
         "Rent_Group": "6.0",
         "Rent_Group_Eq_Freq": "6.0",
         "Size": "800",
         "Tenant Preferred": "Bachelors/Family",
         "_deepnote_index_column": "1"
        },
        {
         "Area Locality": "Salt Lake City Sector 2",
         "Area Type": "Super Area",
         "BHK": "2",
         "Bathroom": "1",
         "City": "Kolkata",
         "Floor": "1 out of 3",
         "Furnishing Status": "Semi-Furnished",
         "Point of Contact": "Contact Owner",
         "Posted On": "2022-05-16",
         "Rent": "17000",
         "Rent_Group": "5.0",
         "Rent_Group_Eq_Freq": "5.0",
         "Size": "1000",
         "Tenant Preferred": "Bachelors/Family",
         "_deepnote_index_column": "2"
        },
        {
         "Area Locality": "Dumdum Park",
         "Area Type": "Super Area",
         "BHK": "2",
         "Bathroom": "1",
         "City": "Kolkata",
         "Floor": "1 out of 2",
         "Furnishing Status": "Unfurnished",
         "Point of Contact": "Contact Owner",
         "Posted On": "2022-07-04",
         "Rent": "10000",
         "Rent_Group": "2.0",
         "Rent_Group_Eq_Freq": "2.0",
         "Size": "800",
         "Tenant Preferred": "Bachelors/Family",
         "_deepnote_index_column": "3"
        },
        {
         "Area Locality": "South Dum Dum",
         "Area Type": "Carpet Area",
         "BHK": "2",
         "Bathroom": "1",
         "City": "Kolkata",
         "Floor": "1 out of 2",
         "Furnishing Status": "Unfurnished",
         "Point of Contact": "Contact Owner",
         "Posted On": "2022-05-09",
         "Rent": "7500",
         "Rent_Group": "1.0",
         "Rent_Group_Eq_Freq": "1.0",
         "Size": "850",
         "Tenant Preferred": "Bachelors",
         "_deepnote_index_column": "4"
        },
        {
         "Area Locality": "Thakurpukur",
         "Area Type": "Super Area",
         "BHK": "2",
         "Bathroom": "2",
         "City": "Kolkata",
         "Floor": "Ground out of 1",
         "Furnishing Status": "Unfurnished",
         "Point of Contact": "Contact Owner",
         "Posted On": "2022-04-29",
         "Rent": "7000",
         "Rent_Group": "1.0",
         "Rent_Group_Eq_Freq": "1.0",
         "Size": "600",
         "Tenant Preferred": "Bachelors/Family",
         "_deepnote_index_column": "5"
        },
        {
         "Area Locality": "Malancha",
         "Area Type": "Super Area",
         "BHK": "2",
         "Bathroom": "2",
         "City": "Kolkata",
         "Floor": "Ground out of 4",
         "Furnishing Status": "Unfurnished",
         "Point of Contact": "Contact Agent",
         "Posted On": "2022-06-21",
         "Rent": "10000",
         "Rent_Group": "2.0",
         "Rent_Group_Eq_Freq": "2.0",
         "Size": "700",
         "Tenant Preferred": "Bachelors",
         "_deepnote_index_column": "6"
        },
        {
         "Area Locality": "Malancha",
         "Area Type": "Super Area",
         "BHK": "1",
         "Bathroom": "1",
         "City": "Kolkata",
         "Floor": "1 out of 2",
         "Furnishing Status": "Unfurnished",
         "Point of Contact": "Contact Agent",
         "Posted On": "2022-06-21",
         "Rent": "5000",
         "Rent_Group": "0.0",
         "Rent_Group_Eq_Freq": "0.0",
         "Size": "250",
         "Tenant Preferred": "Bachelors",
         "_deepnote_index_column": "7"
        },
        {
         "Area Locality": "Palm Avenue Kolkata, Ballygunge",
         "Area Type": "Carpet Area",
         "BHK": "2",
         "Bathroom": "2",
         "City": "Kolkata",
         "Floor": "1 out of 2",
         "Furnishing Status": "Unfurnished",
         "Point of Contact": "Contact Agent",
         "Posted On": "2022-06-07",
         "Rent": "26000",
         "Rent_Group": "6.0",
         "Rent_Group_Eq_Freq": "6.0",
         "Size": "800",
         "Tenant Preferred": "Bachelors",
         "_deepnote_index_column": "8"
        },
        {
         "Area Locality": "Natunhat",
         "Area Type": "Carpet Area",
         "BHK": "2",
         "Bathroom": "2",
         "City": "Kolkata",
         "Floor": "1 out of 3",
         "Furnishing Status": "Semi-Furnished",
         "Point of Contact": "Contact Owner",
         "Posted On": "2022-06-20",
         "Rent": "10000",
         "Rent_Group": "2.0",
         "Rent_Group_Eq_Freq": "2.0",
         "Size": "1000",
         "Tenant Preferred": "Bachelors/Family",
         "_deepnote_index_column": "9"
        }
       ]
      },
      "text/html": [
       "<div>\n",
       "<style scoped>\n",
       "    .dataframe tbody tr th:only-of-type {\n",
       "        vertical-align: middle;\n",
       "    }\n",
       "\n",
       "    .dataframe tbody tr th {\n",
       "        vertical-align: top;\n",
       "    }\n",
       "\n",
       "    .dataframe thead th {\n",
       "        text-align: right;\n",
       "    }\n",
       "</style>\n",
       "<table border=\"1\" class=\"dataframe\">\n",
       "  <thead>\n",
       "    <tr style=\"text-align: right;\">\n",
       "      <th></th>\n",
       "      <th>Posted On</th>\n",
       "      <th>BHK</th>\n",
       "      <th>Rent</th>\n",
       "      <th>Size</th>\n",
       "      <th>Floor</th>\n",
       "      <th>Area Type</th>\n",
       "      <th>Area Locality</th>\n",
       "      <th>City</th>\n",
       "      <th>Furnishing Status</th>\n",
       "      <th>Tenant Preferred</th>\n",
       "      <th>Bathroom</th>\n",
       "      <th>Point of Contact</th>\n",
       "      <th>Rent_Group</th>\n",
       "      <th>Rent_Group_Eq_Freq</th>\n",
       "    </tr>\n",
       "  </thead>\n",
       "  <tbody>\n",
       "    <tr>\n",
       "      <th>0</th>\n",
       "      <td>2022-05-18</td>\n",
       "      <td>2</td>\n",
       "      <td>10000</td>\n",
       "      <td>1100</td>\n",
       "      <td>Ground out of 2</td>\n",
       "      <td>Super Area</td>\n",
       "      <td>Bandel</td>\n",
       "      <td>Kolkata</td>\n",
       "      <td>Unfurnished</td>\n",
       "      <td>Bachelors/Family</td>\n",
       "      <td>2</td>\n",
       "      <td>Contact Owner</td>\n",
       "      <td>2.0</td>\n",
       "      <td>2.0</td>\n",
       "    </tr>\n",
       "    <tr>\n",
       "      <th>1</th>\n",
       "      <td>2022-05-13</td>\n",
       "      <td>2</td>\n",
       "      <td>20000</td>\n",
       "      <td>800</td>\n",
       "      <td>1 out of 3</td>\n",
       "      <td>Super Area</td>\n",
       "      <td>Phool Bagan, Kankurgachi</td>\n",
       "      <td>Kolkata</td>\n",
       "      <td>Semi-Furnished</td>\n",
       "      <td>Bachelors/Family</td>\n",
       "      <td>1</td>\n",
       "      <td>Contact Owner</td>\n",
       "      <td>6.0</td>\n",
       "      <td>6.0</td>\n",
       "    </tr>\n",
       "    <tr>\n",
       "      <th>2</th>\n",
       "      <td>2022-05-16</td>\n",
       "      <td>2</td>\n",
       "      <td>17000</td>\n",
       "      <td>1000</td>\n",
       "      <td>1 out of 3</td>\n",
       "      <td>Super Area</td>\n",
       "      <td>Salt Lake City Sector 2</td>\n",
       "      <td>Kolkata</td>\n",
       "      <td>Semi-Furnished</td>\n",
       "      <td>Bachelors/Family</td>\n",
       "      <td>1</td>\n",
       "      <td>Contact Owner</td>\n",
       "      <td>5.0</td>\n",
       "      <td>5.0</td>\n",
       "    </tr>\n",
       "    <tr>\n",
       "      <th>3</th>\n",
       "      <td>2022-07-04</td>\n",
       "      <td>2</td>\n",
       "      <td>10000</td>\n",
       "      <td>800</td>\n",
       "      <td>1 out of 2</td>\n",
       "      <td>Super Area</td>\n",
       "      <td>Dumdum Park</td>\n",
       "      <td>Kolkata</td>\n",
       "      <td>Unfurnished</td>\n",
       "      <td>Bachelors/Family</td>\n",
       "      <td>1</td>\n",
       "      <td>Contact Owner</td>\n",
       "      <td>2.0</td>\n",
       "      <td>2.0</td>\n",
       "    </tr>\n",
       "    <tr>\n",
       "      <th>4</th>\n",
       "      <td>2022-05-09</td>\n",
       "      <td>2</td>\n",
       "      <td>7500</td>\n",
       "      <td>850</td>\n",
       "      <td>1 out of 2</td>\n",
       "      <td>Carpet Area</td>\n",
       "      <td>South Dum Dum</td>\n",
       "      <td>Kolkata</td>\n",
       "      <td>Unfurnished</td>\n",
       "      <td>Bachelors</td>\n",
       "      <td>1</td>\n",
       "      <td>Contact Owner</td>\n",
       "      <td>1.0</td>\n",
       "      <td>1.0</td>\n",
       "    </tr>\n",
       "    <tr>\n",
       "      <th>...</th>\n",
       "      <td>...</td>\n",
       "      <td>...</td>\n",
       "      <td>...</td>\n",
       "      <td>...</td>\n",
       "      <td>...</td>\n",
       "      <td>...</td>\n",
       "      <td>...</td>\n",
       "      <td>...</td>\n",
       "      <td>...</td>\n",
       "      <td>...</td>\n",
       "      <td>...</td>\n",
       "      <td>...</td>\n",
       "      <td>...</td>\n",
       "      <td>...</td>\n",
       "    </tr>\n",
       "    <tr>\n",
       "      <th>4741</th>\n",
       "      <td>2022-05-18</td>\n",
       "      <td>2</td>\n",
       "      <td>15000</td>\n",
       "      <td>1000</td>\n",
       "      <td>3 out of 5</td>\n",
       "      <td>Carpet Area</td>\n",
       "      <td>Bandam Kommu</td>\n",
       "      <td>Hyderabad</td>\n",
       "      <td>Semi-Furnished</td>\n",
       "      <td>Bachelors/Family</td>\n",
       "      <td>2</td>\n",
       "      <td>Contact Owner</td>\n",
       "      <td>4.0</td>\n",
       "      <td>4.0</td>\n",
       "    </tr>\n",
       "    <tr>\n",
       "      <th>4742</th>\n",
       "      <td>2022-05-15</td>\n",
       "      <td>3</td>\n",
       "      <td>29000</td>\n",
       "      <td>2000</td>\n",
       "      <td>1 out of 4</td>\n",
       "      <td>Super Area</td>\n",
       "      <td>Manikonda, Hyderabad</td>\n",
       "      <td>Hyderabad</td>\n",
       "      <td>Semi-Furnished</td>\n",
       "      <td>Bachelors/Family</td>\n",
       "      <td>3</td>\n",
       "      <td>Contact Owner</td>\n",
       "      <td>7.0</td>\n",
       "      <td>7.0</td>\n",
       "    </tr>\n",
       "    <tr>\n",
       "      <th>4743</th>\n",
       "      <td>2022-07-10</td>\n",
       "      <td>3</td>\n",
       "      <td>35000</td>\n",
       "      <td>1750</td>\n",
       "      <td>3 out of 5</td>\n",
       "      <td>Carpet Area</td>\n",
       "      <td>Himayath Nagar, NH 7</td>\n",
       "      <td>Hyderabad</td>\n",
       "      <td>Semi-Furnished</td>\n",
       "      <td>Bachelors/Family</td>\n",
       "      <td>3</td>\n",
       "      <td>Contact Agent</td>\n",
       "      <td>7.0</td>\n",
       "      <td>7.0</td>\n",
       "    </tr>\n",
       "    <tr>\n",
       "      <th>4744</th>\n",
       "      <td>2022-07-06</td>\n",
       "      <td>3</td>\n",
       "      <td>45000</td>\n",
       "      <td>1500</td>\n",
       "      <td>23 out of 34</td>\n",
       "      <td>Carpet Area</td>\n",
       "      <td>Gachibowli</td>\n",
       "      <td>Hyderabad</td>\n",
       "      <td>Semi-Furnished</td>\n",
       "      <td>Family</td>\n",
       "      <td>2</td>\n",
       "      <td>Contact Agent</td>\n",
       "      <td>8.0</td>\n",
       "      <td>8.0</td>\n",
       "    </tr>\n",
       "    <tr>\n",
       "      <th>4745</th>\n",
       "      <td>2022-05-04</td>\n",
       "      <td>2</td>\n",
       "      <td>15000</td>\n",
       "      <td>1000</td>\n",
       "      <td>4 out of 5</td>\n",
       "      <td>Carpet Area</td>\n",
       "      <td>Suchitra Circle</td>\n",
       "      <td>Hyderabad</td>\n",
       "      <td>Unfurnished</td>\n",
       "      <td>Bachelors</td>\n",
       "      <td>2</td>\n",
       "      <td>Contact Owner</td>\n",
       "      <td>4.0</td>\n",
       "      <td>4.0</td>\n",
       "    </tr>\n",
       "  </tbody>\n",
       "</table>\n",
       "<p>4746 rows × 14 columns</p>\n",
       "</div>"
      ],
      "text/plain": [
       "       Posted On  BHK   Rent  Size            Floor    Area Type  \\\n",
       "0     2022-05-18    2  10000  1100  Ground out of 2   Super Area   \n",
       "1     2022-05-13    2  20000   800       1 out of 3   Super Area   \n",
       "2     2022-05-16    2  17000  1000       1 out of 3   Super Area   \n",
       "3     2022-07-04    2  10000   800       1 out of 2   Super Area   \n",
       "4     2022-05-09    2   7500   850       1 out of 2  Carpet Area   \n",
       "...          ...  ...    ...   ...              ...          ...   \n",
       "4741  2022-05-18    2  15000  1000       3 out of 5  Carpet Area   \n",
       "4742  2022-05-15    3  29000  2000       1 out of 4   Super Area   \n",
       "4743  2022-07-10    3  35000  1750       3 out of 5  Carpet Area   \n",
       "4744  2022-07-06    3  45000  1500     23 out of 34  Carpet Area   \n",
       "4745  2022-05-04    2  15000  1000       4 out of 5  Carpet Area   \n",
       "\n",
       "                 Area Locality       City Furnishing Status  Tenant Preferred  \\\n",
       "0                       Bandel    Kolkata       Unfurnished  Bachelors/Family   \n",
       "1     Phool Bagan, Kankurgachi    Kolkata    Semi-Furnished  Bachelors/Family   \n",
       "2      Salt Lake City Sector 2    Kolkata    Semi-Furnished  Bachelors/Family   \n",
       "3                  Dumdum Park    Kolkata       Unfurnished  Bachelors/Family   \n",
       "4                South Dum Dum    Kolkata       Unfurnished         Bachelors   \n",
       "...                        ...        ...               ...               ...   \n",
       "4741              Bandam Kommu  Hyderabad    Semi-Furnished  Bachelors/Family   \n",
       "4742      Manikonda, Hyderabad  Hyderabad    Semi-Furnished  Bachelors/Family   \n",
       "4743      Himayath Nagar, NH 7  Hyderabad    Semi-Furnished  Bachelors/Family   \n",
       "4744                Gachibowli  Hyderabad    Semi-Furnished            Family   \n",
       "4745           Suchitra Circle  Hyderabad       Unfurnished         Bachelors   \n",
       "\n",
       "      Bathroom Point of Contact  Rent_Group  Rent_Group_Eq_Freq  \n",
       "0            2    Contact Owner         2.0                 2.0  \n",
       "1            1    Contact Owner         6.0                 6.0  \n",
       "2            1    Contact Owner         5.0                 5.0  \n",
       "3            1    Contact Owner         2.0                 2.0  \n",
       "4            1    Contact Owner         1.0                 1.0  \n",
       "...        ...              ...         ...                 ...  \n",
       "4741         2    Contact Owner         4.0                 4.0  \n",
       "4742         3    Contact Owner         7.0                 7.0  \n",
       "4743         3    Contact Agent         7.0                 7.0  \n",
       "4744         2    Contact Agent         8.0                 8.0  \n",
       "4745         2    Contact Owner         4.0                 4.0  \n",
       "\n",
       "[4746 rows x 14 columns]"
      ]
     },
     "execution_count": 2,
     "metadata": {},
     "output_type": "execute_result"
    }
   ],
   "source": [
    "from sklearn.preprocessing import KBinsDiscretizer\n",
    "\n",
    "discretizer = KBinsDiscretizer(n_bins=10, encode='ordinal', strategy='quantile')\n",
    "rent = df['Rent'].values.reshape(4746,1)\n",
    "discretizer.fit(rent)\n",
    "Xt = discretizer.transform(rent)\n",
    "df['Rent_Group_Eq_Freq'] = Xt\n",
    "df"
   ]
  },
  {
   "cell_type": "markdown",
   "metadata": {
    "cell_id": "90c6ba3cd8d74845894355d28ad80268",
    "deepnote_app_coordinates": {
     "h": 2,
     "w": 8,
     "x": 0,
     "y": 94
    },
    "deepnote_cell_type": "text-cell-p",
    "formattedRanges": [],
    "is_collapsed": false,
    "tags": []
   },
   "source": [
    "Equal Frequency is able to handle outliers. However it doesn’t improve the value spread"
   ]
  },
  {
   "cell_type": "markdown",
   "metadata": {
    "cell_id": "80fcdc776f184093b0401242dc253441",
    "deepnote_app_coordinates": {
     "h": 2,
     "w": 8,
     "x": 0,
     "y": 97
    },
    "deepnote_cell_type": "text-cell-p",
    "formattedRanges": [
     {
      "fromCodePoint": 0,
      "marks": {
       "bold": true
      },
      "toCodePoint": 22,
      "type": "marks"
     }
    ],
    "is_collapsed": false,
    "tags": []
   },
   "source": [
    "K-Means Discretization"
   ]
  },
  {
   "cell_type": "markdown",
   "metadata": {
    "cell_id": "745c76d51cad41d5a49507772a28f399",
    "deepnote_app_coordinates": {
     "h": 2,
     "w": 8,
     "x": 0,
     "y": 100
    },
    "deepnote_cell_type": "text-cell-p",
    "formattedRanges": [],
    "is_collapsed": false,
    "tags": []
   },
   "source": [
    "\n",
    "Let's now apply K-Means clustering to the continuous variable to divide into groups or clusters."
   ]
  },
  {
   "cell_type": "code",
   "execution_count": 3,
   "metadata": {
    "cell_id": "d4aa3e60c2c44a68b53ed3d02d844419",
    "deepnote_app_coordinates": {
     "h": 5,
     "w": 12,
     "x": 0,
     "y": 103
    },
    "deepnote_cell_type": "code",
    "deepnote_to_be_reexecuted": false,
    "execution_millis": 499,
    "execution_start": 1675018605161,
    "source_hash": "2b086a5b",
    "tags": []
   },
   "outputs": [
    {
     "data": {
      "application/vnd.deepnote.dataframe.v3+json": {
       "column_count": 15,
       "columns": [
        {
         "dtype": "object",
         "name": "Posted On",
         "stats": {
          "categories": [
           {
            "count": 311,
            "name": "2022-07-06"
           },
           {
            "count": 149,
            "name": "2022-05-12"
           },
           {
            "count": 4286,
            "name": "79 others"
           }
          ],
          "nan_count": 0,
          "unique_count": 81
         }
        },
        {
         "dtype": "int64",
         "name": "BHK",
         "stats": {
          "histogram": [
           {
            "bin_end": 1.5,
            "bin_start": 1,
            "count": 1167
           },
           {
            "bin_end": 2,
            "bin_start": 1.5,
            "count": 0
           },
           {
            "bin_end": 2.5,
            "bin_start": 2,
            "count": 2265
           },
           {
            "bin_end": 3,
            "bin_start": 2.5,
            "count": 0
           },
           {
            "bin_end": 3.5,
            "bin_start": 3,
            "count": 1098
           },
           {
            "bin_end": 4,
            "bin_start": 3.5,
            "count": 0
           },
           {
            "bin_end": 4.5,
            "bin_start": 4,
            "count": 189
           },
           {
            "bin_end": 5,
            "bin_start": 4.5,
            "count": 0
           },
           {
            "bin_end": 5.5,
            "bin_start": 5,
            "count": 19
           },
           {
            "bin_end": 6,
            "bin_start": 5.5,
            "count": 8
           }
          ],
          "max": "6",
          "min": "1",
          "nan_count": 0,
          "unique_count": 6
         }
        },
        {
         "dtype": "int64",
         "name": "Rent",
         "stats": {
          "histogram": [
           {
            "bin_end": 351080,
            "bin_start": 1200,
            "count": 4721
           },
           {
            "bin_end": 700960,
            "bin_start": 351080,
            "count": 21
           },
           {
            "bin_end": 1050840,
            "bin_start": 700960,
            "count": 2
           },
           {
            "bin_end": 1400720,
            "bin_start": 1050840,
            "count": 1
           },
           {
            "bin_end": 1750600,
            "bin_start": 1400720,
            "count": 0
           },
           {
            "bin_end": 2100480,
            "bin_start": 1750600,
            "count": 0
           },
           {
            "bin_end": 2450360,
            "bin_start": 2100480,
            "count": 0
           },
           {
            "bin_end": 2800240,
            "bin_start": 2450360,
            "count": 0
           },
           {
            "bin_end": 3150120,
            "bin_start": 2800240,
            "count": 0
           },
           {
            "bin_end": 3500000,
            "bin_start": 3150120,
            "count": 1
           }
          ],
          "max": "3500000",
          "min": "1200",
          "nan_count": 0,
          "unique_count": 243
         }
        },
        {
         "dtype": "int64",
         "name": "Size",
         "stats": {
          "histogram": [
           {
            "bin_end": 809,
            "bin_start": 10,
            "count": 2313
           },
           {
            "bin_end": 1608,
            "bin_start": 809,
            "count": 1912
           },
           {
            "bin_end": 2407,
            "bin_start": 1608,
            "count": 371
           },
           {
            "bin_end": 3206,
            "bin_start": 2407,
            "count": 98
           },
           {
            "bin_end": 4005,
            "bin_start": 3206,
            "count": 34
           },
           {
            "bin_end": 4804,
            "bin_start": 4005,
            "count": 13
           },
           {
            "bin_end": 5603,
            "bin_start": 4804,
            "count": 1
           },
           {
            "bin_end": 6402,
            "bin_start": 5603,
            "count": 2
           },
           {
            "bin_end": 7201,
            "bin_start": 6402,
            "count": 1
           },
           {
            "bin_end": 8000,
            "bin_start": 7201,
            "count": 1
           }
          ],
          "max": "8000",
          "min": "10",
          "nan_count": 0,
          "unique_count": 615
         }
        },
        {
         "dtype": "object",
         "name": "Floor",
         "stats": {
          "categories": [
           {
            "count": 379,
            "name": "1 out of 2"
           },
           {
            "count": 350,
            "name": "Ground out of 2"
           },
           {
            "count": 4017,
            "name": "478 others"
           }
          ],
          "nan_count": 0,
          "unique_count": 480
         }
        },
        {
         "dtype": "object",
         "name": "Area Type",
         "stats": {
          "categories": [
           {
            "count": 2446,
            "name": "Super Area"
           },
           {
            "count": 2298,
            "name": "Carpet Area"
           },
           {
            "count": 2,
            "name": "Built Area"
           }
          ],
          "nan_count": 0,
          "unique_count": 3
         }
        },
        {
         "dtype": "object",
         "name": "Area Locality",
         "stats": {
          "categories": [
           {
            "count": 37,
            "name": "Bandra West"
           },
           {
            "count": 29,
            "name": "Gachibowli"
           },
           {
            "count": 4680,
            "name": "2233 others"
           }
          ],
          "nan_count": 0,
          "unique_count": 2235
         }
        },
        {
         "dtype": "object",
         "name": "City",
         "stats": {
          "categories": [
           {
            "count": 972,
            "name": "Mumbai"
           },
           {
            "count": 891,
            "name": "Chennai"
           },
           {
            "count": 2883,
            "name": "4 others"
           }
          ],
          "nan_count": 0,
          "unique_count": 6
         }
        },
        {
         "dtype": "object",
         "name": "Furnishing Status",
         "stats": {
          "categories": [
           {
            "count": 2251,
            "name": "Semi-Furnished"
           },
           {
            "count": 1815,
            "name": "Unfurnished"
           },
           {
            "count": 680,
            "name": "Furnished"
           }
          ],
          "nan_count": 0,
          "unique_count": 3
         }
        },
        {
         "dtype": "object",
         "name": "Tenant Preferred",
         "stats": {
          "categories": [
           {
            "count": 3444,
            "name": "Bachelors/Family"
           },
           {
            "count": 830,
            "name": "Bachelors"
           },
           {
            "count": 472,
            "name": "Family"
           }
          ],
          "nan_count": 0,
          "unique_count": 3
         }
        },
        {
         "dtype": "int64",
         "name": "Bathroom",
         "stats": {
          "histogram": [
           {
            "bin_end": 1.9,
            "bin_start": 1,
            "count": 1474
           },
           {
            "bin_end": 2.8,
            "bin_start": 1.9,
            "count": 2291
           },
           {
            "bin_end": 3.7,
            "bin_start": 2.8,
            "count": 749
           },
           {
            "bin_end": 4.6,
            "bin_start": 3.7,
            "count": 156
           },
           {
            "bin_end": 5.5,
            "bin_start": 4.6,
            "count": 60
           },
           {
            "bin_end": 6.4,
            "bin_start": 5.5,
            "count": 12
           },
           {
            "bin_end": 7.3,
            "bin_start": 6.4,
            "count": 3
           },
           {
            "bin_end": 8.2,
            "bin_start": 7.3,
            "count": 0
           },
           {
            "bin_end": 9.1,
            "bin_start": 8.2,
            "count": 0
           },
           {
            "bin_end": 10,
            "bin_start": 9.1,
            "count": 1
           }
          ],
          "max": "10",
          "min": "1",
          "nan_count": 0,
          "unique_count": 8
         }
        },
        {
         "dtype": "object",
         "name": "Point of Contact",
         "stats": {
          "categories": [
           {
            "count": 3216,
            "name": "Contact Owner"
           },
           {
            "count": 1529,
            "name": "Contact Agent"
           },
           {
            "count": 1,
            "name": "Contact Builder"
           }
          ],
          "nan_count": 0,
          "unique_count": 3
         }
        },
        {
         "dtype": "float64",
         "name": "Rent_Group",
         "stats": {
          "histogram": [
           {
            "bin_end": 0.9,
            "bin_start": 0,
            "count": 414
           },
           {
            "bin_end": 1.8,
            "bin_start": 0.9,
            "count": 477
           },
           {
            "bin_end": 2.7,
            "bin_start": 1.8,
            "count": 463
           },
           {
            "bin_end": 3.6,
            "bin_start": 2.7,
            "count": 531
           },
           {
            "bin_end": 4.5,
            "bin_start": 3.6,
            "count": 454
           },
           {
            "bin_end": 5.4,
            "bin_start": 4.5,
            "count": 393
           },
           {
            "bin_end": 6.3,
            "bin_start": 5.4,
            "count": 571
           },
           {
            "bin_end": 7.2,
            "bin_start": 6.3,
            "count": 442
           },
           {
            "bin_end": 8.1,
            "bin_start": 7.2,
            "count": 522
           },
           {
            "bin_end": 9,
            "bin_start": 8.1,
            "count": 479
           }
          ],
          "max": "9.0",
          "min": "0.0",
          "nan_count": 0,
          "unique_count": 10
         }
        },
        {
         "dtype": "float64",
         "name": "Rent_Group_Eq_Freq",
         "stats": {
          "histogram": [
           {
            "bin_end": 0.9,
            "bin_start": 0,
            "count": 414
           },
           {
            "bin_end": 1.8,
            "bin_start": 0.9,
            "count": 477
           },
           {
            "bin_end": 2.7,
            "bin_start": 1.8,
            "count": 463
           },
           {
            "bin_end": 3.6,
            "bin_start": 2.7,
            "count": 531
           },
           {
            "bin_end": 4.5,
            "bin_start": 3.6,
            "count": 454
           },
           {
            "bin_end": 5.4,
            "bin_start": 4.5,
            "count": 393
           },
           {
            "bin_end": 6.3,
            "bin_start": 5.4,
            "count": 571
           },
           {
            "bin_end": 7.2,
            "bin_start": 6.3,
            "count": 442
           },
           {
            "bin_end": 8.1,
            "bin_start": 7.2,
            "count": 522
           },
           {
            "bin_end": 9,
            "bin_start": 8.1,
            "count": 479
           }
          ],
          "max": "9.0",
          "min": "0.0",
          "nan_count": 0,
          "unique_count": 10
         }
        },
        {
         "dtype": "float64",
         "name": "Rent_Group_KMeans",
         "stats": {
          "histogram": [
           {
            "bin_end": 0.9,
            "bin_start": 0,
            "count": 1457
           },
           {
            "bin_end": 1.8,
            "bin_start": 0.9,
            "count": 1274
           },
           {
            "bin_end": 2.7,
            "bin_start": 1.8,
            "count": 953
           },
           {
            "bin_end": 3.6,
            "bin_start": 2.7,
            "count": 495
           },
           {
            "bin_end": 4.5,
            "bin_start": 3.6,
            "count": 302
           },
           {
            "bin_end": 5.4,
            "bin_start": 4.5,
            "count": 173
           },
           {
            "bin_end": 6.3,
            "bin_start": 5.4,
            "count": 79
           },
           {
            "bin_end": 7.2,
            "bin_start": 6.3,
            "count": 10
           },
           {
            "bin_end": 8.1,
            "bin_start": 7.2,
            "count": 2
           },
           {
            "bin_end": 9,
            "bin_start": 8.1,
            "count": 1
           }
          ],
          "max": "9.0",
          "min": "0.0",
          "nan_count": 0,
          "unique_count": 10
         }
        },
        {
         "dtype": "int64",
         "name": "_deepnote_index_column"
        }
       ],
       "row_count": 4746,
       "rows": [
        {
         "Area Locality": "Bandel",
         "Area Type": "Super Area",
         "BHK": "2",
         "Bathroom": "2",
         "City": "Kolkata",
         "Floor": "Ground out of 2",
         "Furnishing Status": "Unfurnished",
         "Point of Contact": "Contact Owner",
         "Posted On": "2022-05-18",
         "Rent": "10000",
         "Rent_Group": "2.0",
         "Rent_Group_Eq_Freq": "2.0",
         "Rent_Group_KMeans": "0.0",
         "Size": "1100",
         "Tenant Preferred": "Bachelors/Family",
         "_deepnote_index_column": "0"
        },
        {
         "Area Locality": "Phool Bagan, Kankurgachi",
         "Area Type": "Super Area",
         "BHK": "2",
         "Bathroom": "1",
         "City": "Kolkata",
         "Floor": "1 out of 3",
         "Furnishing Status": "Semi-Furnished",
         "Point of Contact": "Contact Owner",
         "Posted On": "2022-05-13",
         "Rent": "20000",
         "Rent_Group": "6.0",
         "Rent_Group_Eq_Freq": "6.0",
         "Rent_Group_KMeans": "2.0",
         "Size": "800",
         "Tenant Preferred": "Bachelors/Family",
         "_deepnote_index_column": "1"
        },
        {
         "Area Locality": "Salt Lake City Sector 2",
         "Area Type": "Super Area",
         "BHK": "2",
         "Bathroom": "1",
         "City": "Kolkata",
         "Floor": "1 out of 3",
         "Furnishing Status": "Semi-Furnished",
         "Point of Contact": "Contact Owner",
         "Posted On": "2022-05-16",
         "Rent": "17000",
         "Rent_Group": "5.0",
         "Rent_Group_Eq_Freq": "5.0",
         "Rent_Group_KMeans": "1.0",
         "Size": "1000",
         "Tenant Preferred": "Bachelors/Family",
         "_deepnote_index_column": "2"
        },
        {
         "Area Locality": "Dumdum Park",
         "Area Type": "Super Area",
         "BHK": "2",
         "Bathroom": "1",
         "City": "Kolkata",
         "Floor": "1 out of 2",
         "Furnishing Status": "Unfurnished",
         "Point of Contact": "Contact Owner",
         "Posted On": "2022-07-04",
         "Rent": "10000",
         "Rent_Group": "2.0",
         "Rent_Group_Eq_Freq": "2.0",
         "Rent_Group_KMeans": "0.0",
         "Size": "800",
         "Tenant Preferred": "Bachelors/Family",
         "_deepnote_index_column": "3"
        },
        {
         "Area Locality": "South Dum Dum",
         "Area Type": "Carpet Area",
         "BHK": "2",
         "Bathroom": "1",
         "City": "Kolkata",
         "Floor": "1 out of 2",
         "Furnishing Status": "Unfurnished",
         "Point of Contact": "Contact Owner",
         "Posted On": "2022-05-09",
         "Rent": "7500",
         "Rent_Group": "1.0",
         "Rent_Group_Eq_Freq": "1.0",
         "Rent_Group_KMeans": "0.0",
         "Size": "850",
         "Tenant Preferred": "Bachelors",
         "_deepnote_index_column": "4"
        },
        {
         "Area Locality": "Thakurpukur",
         "Area Type": "Super Area",
         "BHK": "2",
         "Bathroom": "2",
         "City": "Kolkata",
         "Floor": "Ground out of 1",
         "Furnishing Status": "Unfurnished",
         "Point of Contact": "Contact Owner",
         "Posted On": "2022-04-29",
         "Rent": "7000",
         "Rent_Group": "1.0",
         "Rent_Group_Eq_Freq": "1.0",
         "Rent_Group_KMeans": "0.0",
         "Size": "600",
         "Tenant Preferred": "Bachelors/Family",
         "_deepnote_index_column": "5"
        },
        {
         "Area Locality": "Malancha",
         "Area Type": "Super Area",
         "BHK": "2",
         "Bathroom": "2",
         "City": "Kolkata",
         "Floor": "Ground out of 4",
         "Furnishing Status": "Unfurnished",
         "Point of Contact": "Contact Agent",
         "Posted On": "2022-06-21",
         "Rent": "10000",
         "Rent_Group": "2.0",
         "Rent_Group_Eq_Freq": "2.0",
         "Rent_Group_KMeans": "0.0",
         "Size": "700",
         "Tenant Preferred": "Bachelors",
         "_deepnote_index_column": "6"
        },
        {
         "Area Locality": "Malancha",
         "Area Type": "Super Area",
         "BHK": "1",
         "Bathroom": "1",
         "City": "Kolkata",
         "Floor": "1 out of 2",
         "Furnishing Status": "Unfurnished",
         "Point of Contact": "Contact Agent",
         "Posted On": "2022-06-21",
         "Rent": "5000",
         "Rent_Group": "0.0",
         "Rent_Group_Eq_Freq": "0.0",
         "Rent_Group_KMeans": "0.0",
         "Size": "250",
         "Tenant Preferred": "Bachelors",
         "_deepnote_index_column": "7"
        },
        {
         "Area Locality": "Palm Avenue Kolkata, Ballygunge",
         "Area Type": "Carpet Area",
         "BHK": "2",
         "Bathroom": "2",
         "City": "Kolkata",
         "Floor": "1 out of 2",
         "Furnishing Status": "Unfurnished",
         "Point of Contact": "Contact Agent",
         "Posted On": "2022-06-07",
         "Rent": "26000",
         "Rent_Group": "6.0",
         "Rent_Group_Eq_Freq": "6.0",
         "Rent_Group_KMeans": "2.0",
         "Size": "800",
         "Tenant Preferred": "Bachelors",
         "_deepnote_index_column": "8"
        },
        {
         "Area Locality": "Natunhat",
         "Area Type": "Carpet Area",
         "BHK": "2",
         "Bathroom": "2",
         "City": "Kolkata",
         "Floor": "1 out of 3",
         "Furnishing Status": "Semi-Furnished",
         "Point of Contact": "Contact Owner",
         "Posted On": "2022-06-20",
         "Rent": "10000",
         "Rent_Group": "2.0",
         "Rent_Group_Eq_Freq": "2.0",
         "Rent_Group_KMeans": "0.0",
         "Size": "1000",
         "Tenant Preferred": "Bachelors/Family",
         "_deepnote_index_column": "9"
        }
       ]
      },
      "text/html": [
       "<div>\n",
       "<style scoped>\n",
       "    .dataframe tbody tr th:only-of-type {\n",
       "        vertical-align: middle;\n",
       "    }\n",
       "\n",
       "    .dataframe tbody tr th {\n",
       "        vertical-align: top;\n",
       "    }\n",
       "\n",
       "    .dataframe thead th {\n",
       "        text-align: right;\n",
       "    }\n",
       "</style>\n",
       "<table border=\"1\" class=\"dataframe\">\n",
       "  <thead>\n",
       "    <tr style=\"text-align: right;\">\n",
       "      <th></th>\n",
       "      <th>Posted On</th>\n",
       "      <th>BHK</th>\n",
       "      <th>Rent</th>\n",
       "      <th>Size</th>\n",
       "      <th>Floor</th>\n",
       "      <th>Area Type</th>\n",
       "      <th>Area Locality</th>\n",
       "      <th>City</th>\n",
       "      <th>Furnishing Status</th>\n",
       "      <th>Tenant Preferred</th>\n",
       "      <th>Bathroom</th>\n",
       "      <th>Point of Contact</th>\n",
       "      <th>Rent_Group</th>\n",
       "      <th>Rent_Group_Eq_Freq</th>\n",
       "      <th>Rent_Group_KMeans</th>\n",
       "    </tr>\n",
       "  </thead>\n",
       "  <tbody>\n",
       "    <tr>\n",
       "      <th>0</th>\n",
       "      <td>2022-05-18</td>\n",
       "      <td>2</td>\n",
       "      <td>10000</td>\n",
       "      <td>1100</td>\n",
       "      <td>Ground out of 2</td>\n",
       "      <td>Super Area</td>\n",
       "      <td>Bandel</td>\n",
       "      <td>Kolkata</td>\n",
       "      <td>Unfurnished</td>\n",
       "      <td>Bachelors/Family</td>\n",
       "      <td>2</td>\n",
       "      <td>Contact Owner</td>\n",
       "      <td>2.0</td>\n",
       "      <td>2.0</td>\n",
       "      <td>0.0</td>\n",
       "    </tr>\n",
       "    <tr>\n",
       "      <th>1</th>\n",
       "      <td>2022-05-13</td>\n",
       "      <td>2</td>\n",
       "      <td>20000</td>\n",
       "      <td>800</td>\n",
       "      <td>1 out of 3</td>\n",
       "      <td>Super Area</td>\n",
       "      <td>Phool Bagan, Kankurgachi</td>\n",
       "      <td>Kolkata</td>\n",
       "      <td>Semi-Furnished</td>\n",
       "      <td>Bachelors/Family</td>\n",
       "      <td>1</td>\n",
       "      <td>Contact Owner</td>\n",
       "      <td>6.0</td>\n",
       "      <td>6.0</td>\n",
       "      <td>2.0</td>\n",
       "    </tr>\n",
       "    <tr>\n",
       "      <th>2</th>\n",
       "      <td>2022-05-16</td>\n",
       "      <td>2</td>\n",
       "      <td>17000</td>\n",
       "      <td>1000</td>\n",
       "      <td>1 out of 3</td>\n",
       "      <td>Super Area</td>\n",
       "      <td>Salt Lake City Sector 2</td>\n",
       "      <td>Kolkata</td>\n",
       "      <td>Semi-Furnished</td>\n",
       "      <td>Bachelors/Family</td>\n",
       "      <td>1</td>\n",
       "      <td>Contact Owner</td>\n",
       "      <td>5.0</td>\n",
       "      <td>5.0</td>\n",
       "      <td>1.0</td>\n",
       "    </tr>\n",
       "    <tr>\n",
       "      <th>3</th>\n",
       "      <td>2022-07-04</td>\n",
       "      <td>2</td>\n",
       "      <td>10000</td>\n",
       "      <td>800</td>\n",
       "      <td>1 out of 2</td>\n",
       "      <td>Super Area</td>\n",
       "      <td>Dumdum Park</td>\n",
       "      <td>Kolkata</td>\n",
       "      <td>Unfurnished</td>\n",
       "      <td>Bachelors/Family</td>\n",
       "      <td>1</td>\n",
       "      <td>Contact Owner</td>\n",
       "      <td>2.0</td>\n",
       "      <td>2.0</td>\n",
       "      <td>0.0</td>\n",
       "    </tr>\n",
       "    <tr>\n",
       "      <th>4</th>\n",
       "      <td>2022-05-09</td>\n",
       "      <td>2</td>\n",
       "      <td>7500</td>\n",
       "      <td>850</td>\n",
       "      <td>1 out of 2</td>\n",
       "      <td>Carpet Area</td>\n",
       "      <td>South Dum Dum</td>\n",
       "      <td>Kolkata</td>\n",
       "      <td>Unfurnished</td>\n",
       "      <td>Bachelors</td>\n",
       "      <td>1</td>\n",
       "      <td>Contact Owner</td>\n",
       "      <td>1.0</td>\n",
       "      <td>1.0</td>\n",
       "      <td>0.0</td>\n",
       "    </tr>\n",
       "    <tr>\n",
       "      <th>...</th>\n",
       "      <td>...</td>\n",
       "      <td>...</td>\n",
       "      <td>...</td>\n",
       "      <td>...</td>\n",
       "      <td>...</td>\n",
       "      <td>...</td>\n",
       "      <td>...</td>\n",
       "      <td>...</td>\n",
       "      <td>...</td>\n",
       "      <td>...</td>\n",
       "      <td>...</td>\n",
       "      <td>...</td>\n",
       "      <td>...</td>\n",
       "      <td>...</td>\n",
       "      <td>...</td>\n",
       "    </tr>\n",
       "    <tr>\n",
       "      <th>4741</th>\n",
       "      <td>2022-05-18</td>\n",
       "      <td>2</td>\n",
       "      <td>15000</td>\n",
       "      <td>1000</td>\n",
       "      <td>3 out of 5</td>\n",
       "      <td>Carpet Area</td>\n",
       "      <td>Bandam Kommu</td>\n",
       "      <td>Hyderabad</td>\n",
       "      <td>Semi-Furnished</td>\n",
       "      <td>Bachelors/Family</td>\n",
       "      <td>2</td>\n",
       "      <td>Contact Owner</td>\n",
       "      <td>4.0</td>\n",
       "      <td>4.0</td>\n",
       "      <td>1.0</td>\n",
       "    </tr>\n",
       "    <tr>\n",
       "      <th>4742</th>\n",
       "      <td>2022-05-15</td>\n",
       "      <td>3</td>\n",
       "      <td>29000</td>\n",
       "      <td>2000</td>\n",
       "      <td>1 out of 4</td>\n",
       "      <td>Super Area</td>\n",
       "      <td>Manikonda, Hyderabad</td>\n",
       "      <td>Hyderabad</td>\n",
       "      <td>Semi-Furnished</td>\n",
       "      <td>Bachelors/Family</td>\n",
       "      <td>3</td>\n",
       "      <td>Contact Owner</td>\n",
       "      <td>7.0</td>\n",
       "      <td>7.0</td>\n",
       "      <td>2.0</td>\n",
       "    </tr>\n",
       "    <tr>\n",
       "      <th>4743</th>\n",
       "      <td>2022-07-10</td>\n",
       "      <td>3</td>\n",
       "      <td>35000</td>\n",
       "      <td>1750</td>\n",
       "      <td>3 out of 5</td>\n",
       "      <td>Carpet Area</td>\n",
       "      <td>Himayath Nagar, NH 7</td>\n",
       "      <td>Hyderabad</td>\n",
       "      <td>Semi-Furnished</td>\n",
       "      <td>Bachelors/Family</td>\n",
       "      <td>3</td>\n",
       "      <td>Contact Agent</td>\n",
       "      <td>7.0</td>\n",
       "      <td>7.0</td>\n",
       "      <td>2.0</td>\n",
       "    </tr>\n",
       "    <tr>\n",
       "      <th>4744</th>\n",
       "      <td>2022-07-06</td>\n",
       "      <td>3</td>\n",
       "      <td>45000</td>\n",
       "      <td>1500</td>\n",
       "      <td>23 out of 34</td>\n",
       "      <td>Carpet Area</td>\n",
       "      <td>Gachibowli</td>\n",
       "      <td>Hyderabad</td>\n",
       "      <td>Semi-Furnished</td>\n",
       "      <td>Family</td>\n",
       "      <td>2</td>\n",
       "      <td>Contact Agent</td>\n",
       "      <td>8.0</td>\n",
       "      <td>8.0</td>\n",
       "      <td>3.0</td>\n",
       "    </tr>\n",
       "    <tr>\n",
       "      <th>4745</th>\n",
       "      <td>2022-05-04</td>\n",
       "      <td>2</td>\n",
       "      <td>15000</td>\n",
       "      <td>1000</td>\n",
       "      <td>4 out of 5</td>\n",
       "      <td>Carpet Area</td>\n",
       "      <td>Suchitra Circle</td>\n",
       "      <td>Hyderabad</td>\n",
       "      <td>Unfurnished</td>\n",
       "      <td>Bachelors</td>\n",
       "      <td>2</td>\n",
       "      <td>Contact Owner</td>\n",
       "      <td>4.0</td>\n",
       "      <td>4.0</td>\n",
       "      <td>1.0</td>\n",
       "    </tr>\n",
       "  </tbody>\n",
       "</table>\n",
       "<p>4746 rows × 15 columns</p>\n",
       "</div>"
      ],
      "text/plain": [
       "       Posted On  BHK   Rent  Size            Floor    Area Type  \\\n",
       "0     2022-05-18    2  10000  1100  Ground out of 2   Super Area   \n",
       "1     2022-05-13    2  20000   800       1 out of 3   Super Area   \n",
       "2     2022-05-16    2  17000  1000       1 out of 3   Super Area   \n",
       "3     2022-07-04    2  10000   800       1 out of 2   Super Area   \n",
       "4     2022-05-09    2   7500   850       1 out of 2  Carpet Area   \n",
       "...          ...  ...    ...   ...              ...          ...   \n",
       "4741  2022-05-18    2  15000  1000       3 out of 5  Carpet Area   \n",
       "4742  2022-05-15    3  29000  2000       1 out of 4   Super Area   \n",
       "4743  2022-07-10    3  35000  1750       3 out of 5  Carpet Area   \n",
       "4744  2022-07-06    3  45000  1500     23 out of 34  Carpet Area   \n",
       "4745  2022-05-04    2  15000  1000       4 out of 5  Carpet Area   \n",
       "\n",
       "                 Area Locality       City Furnishing Status  Tenant Preferred  \\\n",
       "0                       Bandel    Kolkata       Unfurnished  Bachelors/Family   \n",
       "1     Phool Bagan, Kankurgachi    Kolkata    Semi-Furnished  Bachelors/Family   \n",
       "2      Salt Lake City Sector 2    Kolkata    Semi-Furnished  Bachelors/Family   \n",
       "3                  Dumdum Park    Kolkata       Unfurnished  Bachelors/Family   \n",
       "4                South Dum Dum    Kolkata       Unfurnished         Bachelors   \n",
       "...                        ...        ...               ...               ...   \n",
       "4741              Bandam Kommu  Hyderabad    Semi-Furnished  Bachelors/Family   \n",
       "4742      Manikonda, Hyderabad  Hyderabad    Semi-Furnished  Bachelors/Family   \n",
       "4743      Himayath Nagar, NH 7  Hyderabad    Semi-Furnished  Bachelors/Family   \n",
       "4744                Gachibowli  Hyderabad    Semi-Furnished            Family   \n",
       "4745           Suchitra Circle  Hyderabad       Unfurnished         Bachelors   \n",
       "\n",
       "      Bathroom Point of Contact  Rent_Group  Rent_Group_Eq_Freq  \\\n",
       "0            2    Contact Owner         2.0                 2.0   \n",
       "1            1    Contact Owner         6.0                 6.0   \n",
       "2            1    Contact Owner         5.0                 5.0   \n",
       "3            1    Contact Owner         2.0                 2.0   \n",
       "4            1    Contact Owner         1.0                 1.0   \n",
       "...        ...              ...         ...                 ...   \n",
       "4741         2    Contact Owner         4.0                 4.0   \n",
       "4742         3    Contact Owner         7.0                 7.0   \n",
       "4743         3    Contact Agent         7.0                 7.0   \n",
       "4744         2    Contact Agent         8.0                 8.0   \n",
       "4745         2    Contact Owner         4.0                 4.0   \n",
       "\n",
       "      Rent_Group_KMeans  \n",
       "0                   0.0  \n",
       "1                   2.0  \n",
       "2                   1.0  \n",
       "3                   0.0  \n",
       "4                   0.0  \n",
       "...                 ...  \n",
       "4741                1.0  \n",
       "4742                2.0  \n",
       "4743                2.0  \n",
       "4744                3.0  \n",
       "4745                1.0  \n",
       "\n",
       "[4746 rows x 15 columns]"
      ]
     },
     "execution_count": 3,
     "metadata": {},
     "output_type": "execute_result"
    }
   ],
   "source": [
    "from sklearn.preprocessing import KBinsDiscretizer\n",
    "\n",
    "discretizer = KBinsDiscretizer(n_bins=10, encode='ordinal', strategy='kmeans')\n",
    "rent = df['Rent'].values.reshape(4746,1)\n",
    "discretizer.fit(rent)\n",
    "Xt = discretizer.transform(rent)\n",
    "df['Rent_Group_KMeans'] = Xt\n",
    "df"
   ]
  },
  {
   "cell_type": "markdown",
   "metadata": {
    "cell_id": "ad589c5c4660426aa8744a94acf32da9",
    "deepnote_app_coordinates": {
     "h": 2,
     "w": 8,
     "x": 0,
     "y": 109
    },
    "deepnote_cell_type": "text-cell-p",
    "formattedRanges": [],
    "is_collapsed": false,
    "tags": []
   },
   "source": [
    "K-Means can handle outliers (centroid bias may exist) and doesn’t improve the value spread\n"
   ]
  },
  {
   "cell_type": "markdown",
   "metadata": {
    "cell_id": "4982abb4a9754c0a9dbbd6785c4007e7",
    "deepnote_app_coordinates": {
     "h": 2,
     "w": 8,
     "x": 0,
     "y": 112
    },
    "deepnote_cell_type": "text-cell-p",
    "formattedRanges": [],
    "is_collapsed": false,
    "tags": []
   },
   "source": []
  },
  {
   "cell_type": "markdown",
   "metadata": {
    "cell_id": "0e930b00a71346368eceed53d7387baf",
    "deepnote_app_coordinates": {
     "h": 5,
     "w": 12,
     "x": 0,
     "y": 115
    },
    "deepnote_cell_type": "text-cell-h3",
    "formattedRanges": [],
    "is_collapsed": false,
    "tags": []
   },
   "source": [
    "### Normalization"
   ]
  },
  {
   "cell_type": "markdown",
   "metadata": {
    "cell_id": "70af030d1d8e471e9f6fdee7d709c51f",
    "deepnote_app_coordinates": {
     "h": 2,
     "w": 8,
     "x": 0,
     "y": 121
    },
    "deepnote_cell_type": "text-cell-p",
    "formattedRanges": [],
    "is_collapsed": false,
    "tags": []
   },
   "source": [
    "Normalization is the process of the scaling an attribute say from -1.0 to 1.0 or 0.0 to 1.0.  It is applied on numerical attributes without distorting differences in the ranges of values. It is generally used for classification problems and a dataset doesn't have to undergo normalization necessarily. "
   ]
  },
  {
   "cell_type": "markdown",
   "metadata": {
    "cell_id": "a9d795c4f29843df80595e6082676e3e",
    "deepnote_app_coordinates": {
     "h": 2,
     "w": 8,
     "x": 0,
     "y": 124
    },
    "deepnote_cell_type": "text-cell-p",
    "formattedRanges": [],
    "is_collapsed": false,
    "tags": []
   },
   "source": [
    "For example, let us consider the house rent data set used for Discretization, size and rent. Where size ranges from 250-1100, while rent ranges from 7000 to 27000 and higher. rent is about 20 times larger than size. So, these two features are in very different ranges. When we do further analysis, like multivariate linear regression, we might have rent influence as a strong predictor when it necessarily need not be."
   ]
  },
  {
   "cell_type": "markdown",
   "metadata": {
    "cell_id": "89c0930b8fdb447d94b81ee196e7bbf2",
    "deepnote_app_coordinates": {
     "h": 2,
     "w": 8,
     "x": 0,
     "y": 127
    },
    "deepnote_cell_type": "text-cell-p",
    "formattedRanges": [
     {
      "fromCodePoint": 0,
      "marks": {
       "bold": true
      },
      "toCodePoint": 31,
      "type": "marks"
     }
    ],
    "is_collapsed": false,
    "tags": []
   },
   "source": [
    "Methods of Data Normalization –"
   ]
  },
  {
   "cell_type": "markdown",
   "metadata": {
    "cell_id": "91fec3405d80400b938fd24066af6435",
    "deepnote_app_coordinates": {
     "h": 2,
     "w": 8,
     "x": 0,
     "y": 130
    },
    "deepnote_cell_type": "text-cell-p",
    "formattedRanges": [],
    "is_collapsed": false,
    "tags": []
   },
   "source": [
    "Decimal Scaling\n",
    "Min-Max Normalization\n",
    "z-Score Normalization(zero-mean Normalization)"
   ]
  },
  {
   "cell_type": "markdown",
   "metadata": {
    "cell_id": "d30aead51ff64db3ae82bd9781f9454d",
    "deepnote_app_coordinates": {
     "h": 2,
     "w": 8,
     "x": 0,
     "y": 133
    },
    "deepnote_cell_type": "text-cell-p",
    "formattedRanges": [
     {
      "fromCodePoint": 0,
      "marks": {
       "bold": true
      },
      "toCodePoint": 15,
      "type": "marks"
     }
    ],
    "is_collapsed": false,
    "tags": []
   },
   "source": [
    "Decimal Scaling"
   ]
  },
  {
   "cell_type": "markdown",
   "metadata": {
    "cell_id": "ebca3a3579724695b15824442a0cd7c2",
    "deepnote_app_coordinates": {
     "h": 2,
     "w": 8,
     "x": 0,
     "y": 136
    },
    "deepnote_cell_type": "text-cell-p",
    "formattedRanges": [],
    "is_collapsed": false,
    "tags": []
   },
   "source": [
    "It normalizes by moving the decimal point of values of the data. To normalize the data by this technique, we divide each value of the data by the maximum absolute value of data."
   ]
  },
  {
   "cell_type": "markdown",
   "metadata": {
    "cell_id": "772515f914ec48e5aae52c47ff244580",
    "deepnote_app_coordinates": {
     "h": 3,
     "w": 12,
     "x": 0,
     "y": 207
    },
    "deepnote_cell_type": "markdown",
    "tags": []
   },
   "source": [
    "$v_i^{'} = \\frac{v_i}{10^{i}} $"
   ]
  },
  {
   "cell_type": "markdown",
   "metadata": {
    "cell_id": "1d0a484f71894a819516bf18273dc01b",
    "deepnote_app_coordinates": {
     "h": 2,
     "w": 8,
     "x": 0,
     "y": 145
    },
    "deepnote_cell_type": "text-cell-p",
    "formattedRanges": [],
    "is_collapsed": false,
    "tags": []
   },
   "source": [
    "Lets understand it by an example: Suppose we have data set in which the value ranges from -9900 to 9877.  In this case the maximum absolute value is 9900. So to perform decimal normalization, we divide each of values in data set by 10000 i.e j=4.(since it near to 9900)."
   ]
  },
  {
   "cell_type": "markdown",
   "metadata": {
    "cell_id": "4b362114171441f6b3240480fd694560",
    "deepnote_app_coordinates": {
     "h": 2,
     "w": 8,
     "x": 0,
     "y": 148
    },
    "deepnote_cell_type": "text-cell-p",
    "formattedRanges": [
     {
      "fromCodePoint": 0,
      "marks": {
       "bold": true
      },
      "toCodePoint": 26,
      "type": "marks"
     }
    ],
    "is_collapsed": false,
    "tags": []
   },
   "source": [
    "MinMaxScalar Normalization"
   ]
  },
  {
   "cell_type": "markdown",
   "metadata": {
    "cell_id": "24907458aff64cdd8432182c1d0a1dcd",
    "deepnote_app_coordinates": {
     "h": 2,
     "w": 8,
     "x": 0,
     "y": 151
    },
    "deepnote_cell_type": "text-cell-p",
    "formattedRanges": [],
    "is_collapsed": false,
    "tags": []
   },
   "source": [
    "It is the process of performing a linear transformation on original data. "
   ]
  },
  {
   "cell_type": "markdown",
   "metadata": {
    "cell_id": "69f61e75bc2247e8a68e30a4eea6e156",
    "deepnote_app_coordinates": {
     "h": 3,
     "w": 12,
     "x": 0,
     "y": 199
    },
    "deepnote_cell_type": "markdown",
    "tags": []
   },
   "source": [
    "$U_i = \\frac{V_i - X_1}{X_2 - X_1} (Y_2 - Y_1) + Y_1$"
   ]
  },
  {
   "cell_type": "markdown",
   "metadata": {
    "cell_id": "ee2cfb5ea23e4c5ea9354ff28d61b87e",
    "deepnote_app_coordinates": {
     "h": 2,
     "w": 8,
     "x": 0,
     "y": 160
    },
    "deepnote_cell_type": "text-cell-p",
    "formattedRanges": [],
    "is_collapsed": false,
    "tags": []
   },
   "source": [
    "where (X1,X2) is min and max boundary of an attribute and (Y1,Y2) is the new scale at which we are normalizing, then for Vi  value of attribute and  v is the old value of each entry in data."
   ]
  },
  {
   "cell_type": "code",
   "execution_count": 4,
   "metadata": {
    "cell_id": "890ddef4d50c48bebaa7578d6131f391",
    "deepnote_app_coordinates": {
     "h": 5,
     "w": 12,
     "x": 0,
     "y": 163
    },
    "deepnote_cell_type": "code",
    "deepnote_to_be_reexecuted": false,
    "execution_millis": 7,
    "execution_start": 1675018605686,
    "source_hash": "1a0e11af",
    "tags": []
   },
   "outputs": [
    {
     "data": {
      "text/plain": [
       "array([[0.27284105],\n",
       "       [0.19774718],\n",
       "       [0.24780976],\n",
       "       ...,\n",
       "       [0.43554443],\n",
       "       [0.37296621],\n",
       "       [0.24780976]])"
      ]
     },
     "execution_count": 4,
     "metadata": {},
     "output_type": "execute_result"
    }
   ],
   "source": [
    "from sklearn import preprocessing\n",
    "import numpy as np\n",
    "\n",
    "scaler = preprocessing.MinMaxScaler(feature_range=(0, 2))\n",
    "size = df['Size'].values.reshape(4746,1)\n",
    "norm = scaler.fit_transform(size)\n",
    "norm"
   ]
  },
  {
   "cell_type": "markdown",
   "metadata": {
    "cell_id": "f877b7cd669a44f2883b03f93abfadc8",
    "deepnote_app_coordinates": {
     "h": 2,
     "w": 8,
     "x": 0,
     "y": 169
    },
    "deepnote_cell_type": "text-cell-p",
    "formattedRanges": [
     {
      "fromCodePoint": 0,
      "marks": {
       "bold": true
      },
      "toCodePoint": 84,
      "type": "marks"
     }
    ],
    "is_collapsed": false,
    "tags": []
   },
   "source": [
    " Z-score Normalization/standardization( Zero mean normalization /standardization) : "
   ]
  },
  {
   "cell_type": "markdown",
   "metadata": {
    "cell_id": "88d8689e6dd7488788e3cae0e9c9a018",
    "deepnote_app_coordinates": {
     "h": 2,
     "w": 8,
     "x": 0,
     "y": 172
    },
    "deepnote_cell_type": "text-cell-p",
    "formattedRanges": [],
    "is_collapsed": false,
    "tags": []
   },
   "source": [
    "In this technique, the values are normalized based on the mean and standard deviation of attribute A. For Vi  value of attribute A, normalized value Ui is given as,"
   ]
  },
  {
   "cell_type": "markdown",
   "metadata": {
    "cell_id": "2144308073c84ca3bad34a7cb73b0e44",
    "deepnote_app_coordinates": {
     "h": 3,
     "w": 12,
     "x": 0,
     "y": 203
    },
    "deepnote_cell_type": "markdown",
    "tags": []
   },
   "source": [
    "$U_i = \\frac{V_i - Avg(A)}{Std(A)}$"
   ]
  },
  {
   "cell_type": "code",
   "execution_count": 5,
   "metadata": {
    "cell_id": "4de669fffdb34c769ef6f76c5edddfa3",
    "deepnote_app_coordinates": {
     "h": 5,
     "w": 12,
     "x": 0,
     "y": 181
    },
    "deepnote_cell_type": "code",
    "deepnote_to_be_reexecuted": false,
    "execution_millis": 9,
    "execution_start": 1675018605696,
    "source_hash": "14fcbe82",
    "tags": []
   },
   "outputs": [
    {
     "data": {
      "text/plain": [
       "array([[ 0.2089605 ],\n",
       "       [-0.26412451],\n",
       "       [ 0.0512655 ],\n",
       "       ...,\n",
       "       [ 1.233978  ],\n",
       "       [ 0.8397405 ],\n",
       "       [ 0.0512655 ]])"
      ]
     },
     "execution_count": 5,
     "metadata": {},
     "output_type": "execute_result"
    }
   ],
   "source": [
    "from sklearn import preprocessing\n",
    "import numpy as np\n",
    "\n",
    "\n",
    "scaler = preprocessing.StandardScaler()\n",
    "size = df['Size'].values.reshape(4746,1)\n",
    "norm = scaler.fit_transform(size)\n",
    "norm"
   ]
  },
  {
   "cell_type": "markdown",
   "metadata": {
    "cell_id": "e6e5f017acc4457ebb95f013a392d569",
    "deepnote_app_coordinates": {
     "h": 2,
     "w": 8,
     "x": 0,
     "y": 187
    },
    "deepnote_cell_type": "text-cell-p",
    "formattedRanges": [],
    "is_collapsed": false,
    "tags": []
   },
   "source": [
    "Can you see the negative values above? Do you think it is going to mater? Think about what positive/negative values mean for z-score.  With z-score positive values simply mean that the value is above the group mean while negative values can be interpreted as value is below the group mean. You should not be able to worry as long as you are able to revert to its original form"
   ]
  },
  {
   "cell_type": "markdown",
   "metadata": {
    "cell_id": "691fca792006423e878dfdf79666af15",
    "deepnote_app_coordinates": {
     "h": 5,
     "w": 12,
     "x": 0,
     "y": 190
    },
    "deepnote_cell_type": "text-cell-h3",
    "formattedRanges": [],
    "is_collapsed": false,
    "tags": []
   },
   "source": [
    "### Congratulations!"
   ]
  },
  {
   "cell_type": "markdown",
   "metadata": {
    "cell_id": "07b36366be214d1f89a84ec7dc74c1fb",
    "deepnote_app_coordinates": {
     "h": 2,
     "w": 8,
     "x": 0,
     "y": 196
    },
    "deepnote_cell_type": "text-cell-p",
    "formattedRanges": [],
    "is_collapsed": false,
    "tags": []
   },
   "source": [
    "Credit: This tutorial is prepared by Ajay Sadananda"
   ]
  }
 ],
 "metadata": {
  "deepnote": {},
  "deepnote_app_layout": "article",
  "deepnote_execution_queue": [],
  "deepnote_notebook_id": "3ae876c0e1554749b6827920e0aac789",
  "kernelspec": {
   "display_name": "Python 3 (ipykernel)",
   "language": "python",
   "name": "python3"
  },
  "language_info": {
   "codemirror_mode": {
    "name": "ipython",
    "version": 3
   },
   "file_extension": ".py",
   "mimetype": "text/x-python",
   "name": "python",
   "nbconvert_exporter": "python",
   "pygments_lexer": "ipython3",
   "version": "3.8.16"
  }
 },
 "nbformat": 4,
 "nbformat_minor": 4
}
