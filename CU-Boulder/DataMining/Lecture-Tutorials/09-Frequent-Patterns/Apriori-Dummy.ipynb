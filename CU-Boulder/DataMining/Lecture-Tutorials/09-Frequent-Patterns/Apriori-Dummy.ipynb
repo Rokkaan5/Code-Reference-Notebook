{
 "cells": [
  {
   "cell_type": "raw",
   "metadata": {},
   "source": [
    "---\n",
    "title: \"Apriori - Dummy\"\n",
    "format:\n",
    "    html:\n",
    "        code-fold: false\n",
    "execute:\n",
    "    output: true\n",
    "    warning: false\n",
    "toc: true\n",
    "jupyter: python3\n",
    "---"
   ]
  },
  {
   "cell_type": "markdown",
   "metadata": {
    "cell_id": "85b1d03d86fb42ca8b0620aac8cb395f",
    "deepnote_cell_type": "markdown"
   },
   "source": [
    "# Apriori"
   ]
  },
  {
   "cell_type": "markdown",
   "metadata": {
    "cell_id": "5a7c5cf10d024c0083b2e42c9b9905c5",
    "deepnote_cell_type": "markdown"
   },
   "source": [
    "## Set up environment"
   ]
  },
  {
   "cell_type": "code",
   "execution_count": 50,
   "metadata": {
    "cell_id": "959ee3e3d4004788b8b784f635dfd874",
    "deepnote_cell_type": "code",
    "deepnote_to_be_reexecuted": false,
    "execution_millis": 10,
    "execution_start": 1680461822727,
    "source_hash": "b7dcc9c8"
   },
   "outputs": [],
   "source": [
    "import numpy as np\n",
    "import pandas as pd"
   ]
  },
  {
   "cell_type": "code",
   "execution_count": 51,
   "metadata": {
    "cell_id": "db98880bd9794abf8a63c1d98fd47c62",
    "deepnote_cell_type": "code",
    "deepnote_to_be_reexecuted": false,
    "execution_millis": 6878,
    "execution_start": 1680461824502,
    "source_hash": "f3cb17ef"
   },
   "outputs": [
    {
     "name": "stdout",
     "output_type": "stream",
     "text": [
      "Requirement already satisfied: apyori in /root/venv/lib/python3.9/site-packages (1.1.2)\n",
      "\u001b[33mWARNING: You are using pip version 22.0.4; however, version 23.0.1 is available.\n",
      "You should consider upgrading via the '/root/venv/bin/python -m pip install --upgrade pip' command.\u001b[0m\u001b[33m\n",
      "\u001b[0m"
     ]
    }
   ],
   "source": [
    "# !pip install apyori\n",
    "from apyori import apriori"
   ]
  },
  {
   "cell_type": "markdown",
   "metadata": {
    "cell_id": "a6256679475440caa2cfbbf3e8a0ccbb",
    "deepnote_cell_type": "markdown"
   },
   "source": [
    "## Round 1: The Simple Example"
   ]
  },
  {
   "cell_type": "code",
   "execution_count": 52,
   "metadata": {
    "cell_id": "401c29b8c00343759ba5c3fa64155062",
    "deepnote_cell_type": "code",
    "deepnote_to_be_reexecuted": false,
    "execution_millis": 3,
    "execution_start": 1680461839961,
    "source_hash": "4891326"
   },
   "outputs": [],
   "source": [
    "ts = [\n",
    "    ['A','D','E'],\n",
    "    ['B','C','D'],\n",
    "    ['A','C','E'],\n",
    "    ['A','C','D','E'],\n",
    "    ['A','E'], \n",
    "    ['A','C','D'],\n",
    "    ['B','C'],\n",
    "    ['A','C','D','E'],\n",
    "    ['C','B','E'],\n",
    "    ['A','D','E']]"
   ]
  },
  {
   "cell_type": "code",
   "execution_count": 53,
   "metadata": {
    "cell_id": "ccc5684e7d3b418bb7396bc7daa99d60",
    "deepnote_cell_type": "code",
    "deepnote_to_be_reexecuted": false,
    "execution_millis": 4,
    "execution_start": 1680461849729,
    "source_hash": "699b6e6a"
   },
   "outputs": [
    {
     "data": {
      "text/plain": [
       "11"
      ]
     },
     "execution_count": 53,
     "metadata": {},
     "output_type": "execute_result"
    }
   ],
   "source": [
    "rule = apriori(transactions = ts, min_support = 0.4)\n",
    "result = list(rule)\n",
    "len(result)"
   ]
  },
  {
   "cell_type": "code",
   "execution_count": 54,
   "metadata": {
    "cell_id": "07f076869c1e436db411308e28fa1bb5",
    "deepnote_cell_type": "code",
    "deepnote_to_be_reexecuted": false,
    "execution_millis": 13,
    "execution_start": 1680461857307,
    "source_hash": "bae0e1b5"
   },
   "outputs": [
    {
     "data": {
      "text/plain": [
       "[RelationRecord(items=frozenset({'A'}), support=0.7, ordered_statistics=[OrderedStatistic(items_base=frozenset(), items_add=frozenset({'A'}), confidence=0.7, lift=1.0)]),\n",
       " RelationRecord(items=frozenset({'C'}), support=0.7, ordered_statistics=[OrderedStatistic(items_base=frozenset(), items_add=frozenset({'C'}), confidence=0.7, lift=1.0)]),\n",
       " RelationRecord(items=frozenset({'D'}), support=0.6, ordered_statistics=[OrderedStatistic(items_base=frozenset(), items_add=frozenset({'D'}), confidence=0.6, lift=1.0)]),\n",
       " RelationRecord(items=frozenset({'E'}), support=0.7, ordered_statistics=[OrderedStatistic(items_base=frozenset(), items_add=frozenset({'E'}), confidence=0.7, lift=1.0)]),\n",
       " RelationRecord(items=frozenset({'A', 'C'}), support=0.4, ordered_statistics=[OrderedStatistic(items_base=frozenset(), items_add=frozenset({'A', 'C'}), confidence=0.4, lift=1.0), OrderedStatistic(items_base=frozenset({'A'}), items_add=frozenset({'C'}), confidence=0.5714285714285715, lift=0.816326530612245), OrderedStatistic(items_base=frozenset({'C'}), items_add=frozenset({'A'}), confidence=0.5714285714285715, lift=0.816326530612245)]),\n",
       " RelationRecord(items=frozenset({'A', 'D'}), support=0.5, ordered_statistics=[OrderedStatistic(items_base=frozenset(), items_add=frozenset({'A', 'D'}), confidence=0.5, lift=1.0), OrderedStatistic(items_base=frozenset({'A'}), items_add=frozenset({'D'}), confidence=0.7142857142857143, lift=1.1904761904761905), OrderedStatistic(items_base=frozenset({'D'}), items_add=frozenset({'A'}), confidence=0.8333333333333334, lift=1.1904761904761907)]),\n",
       " RelationRecord(items=frozenset({'A', 'E'}), support=0.6, ordered_statistics=[OrderedStatistic(items_base=frozenset(), items_add=frozenset({'A', 'E'}), confidence=0.6, lift=1.0), OrderedStatistic(items_base=frozenset({'A'}), items_add=frozenset({'E'}), confidence=0.8571428571428572, lift=1.2244897959183676), OrderedStatistic(items_base=frozenset({'E'}), items_add=frozenset({'A'}), confidence=0.8571428571428572, lift=1.2244897959183676)]),\n",
       " RelationRecord(items=frozenset({'C', 'D'}), support=0.4, ordered_statistics=[OrderedStatistic(items_base=frozenset(), items_add=frozenset({'C', 'D'}), confidence=0.4, lift=1.0), OrderedStatistic(items_base=frozenset({'C'}), items_add=frozenset({'D'}), confidence=0.5714285714285715, lift=0.9523809523809526), OrderedStatistic(items_base=frozenset({'D'}), items_add=frozenset({'C'}), confidence=0.6666666666666667, lift=0.9523809523809526)]),\n",
       " RelationRecord(items=frozenset({'C', 'E'}), support=0.4, ordered_statistics=[OrderedStatistic(items_base=frozenset(), items_add=frozenset({'C', 'E'}), confidence=0.4, lift=1.0), OrderedStatistic(items_base=frozenset({'C'}), items_add=frozenset({'E'}), confidence=0.5714285714285715, lift=0.816326530612245), OrderedStatistic(items_base=frozenset({'E'}), items_add=frozenset({'C'}), confidence=0.5714285714285715, lift=0.816326530612245)]),\n",
       " RelationRecord(items=frozenset({'E', 'D'}), support=0.4, ordered_statistics=[OrderedStatistic(items_base=frozenset(), items_add=frozenset({'E', 'D'}), confidence=0.4, lift=1.0), OrderedStatistic(items_base=frozenset({'D'}), items_add=frozenset({'E'}), confidence=0.6666666666666667, lift=0.9523809523809526), OrderedStatistic(items_base=frozenset({'E'}), items_add=frozenset({'D'}), confidence=0.5714285714285715, lift=0.9523809523809526)]),\n",
       " RelationRecord(items=frozenset({'A', 'E', 'D'}), support=0.4, ordered_statistics=[OrderedStatistic(items_base=frozenset(), items_add=frozenset({'A', 'E', 'D'}), confidence=0.4, lift=1.0), OrderedStatistic(items_base=frozenset({'A'}), items_add=frozenset({'E', 'D'}), confidence=0.5714285714285715, lift=1.4285714285714286), OrderedStatistic(items_base=frozenset({'D'}), items_add=frozenset({'A', 'E'}), confidence=0.6666666666666667, lift=1.1111111111111114), OrderedStatistic(items_base=frozenset({'E'}), items_add=frozenset({'A', 'D'}), confidence=0.5714285714285715, lift=1.142857142857143), OrderedStatistic(items_base=frozenset({'A', 'D'}), items_add=frozenset({'E'}), confidence=0.8, lift=1.142857142857143), OrderedStatistic(items_base=frozenset({'A', 'E'}), items_add=frozenset({'D'}), confidence=0.6666666666666667, lift=1.1111111111111114), OrderedStatistic(items_base=frozenset({'E', 'D'}), items_add=frozenset({'A'}), confidence=1.0, lift=1.4285714285714286)])]"
      ]
     },
     "execution_count": 54,
     "metadata": {},
     "output_type": "execute_result"
    }
   ],
   "source": [
    "result"
   ]
  },
  {
   "cell_type": "markdown",
   "metadata": {
    "cell_id": "e7a0d9c8756143e2bfd9578354aca783",
    "deepnote_cell_type": "markdown"
   },
   "source": [
    "## Round 2: A little bit complex"
   ]
  },
  {
   "cell_type": "code",
   "execution_count": 55,
   "metadata": {
    "cell_id": "db384e1fe6e14832a0b375d5025c11ad",
    "deepnote_cell_type": "code",
    "deepnote_to_be_reexecuted": false,
    "execution_millis": 2,
    "execution_start": 1680461910691,
    "source_hash": "1e0ebc51"
   },
   "outputs": [
    {
     "data": {
      "text/plain": [
       "('ABCDEFGHIJKLMN', 14)"
      ]
     },
     "execution_count": 55,
     "metadata": {},
     "output_type": "execute_result"
    }
   ],
   "source": [
    "dic = 'ABCDEFGHIJKLMN'\n",
    "dic, len(dic)"
   ]
  },
  {
   "cell_type": "code",
   "execution_count": 59,
   "metadata": {
    "cell_id": "94ea648cf98247c7ba464260d63b6a67",
    "deepnote_cell_type": "code",
    "deepnote_to_be_reexecuted": false,
    "execution_millis": 12,
    "execution_start": 1680461937588,
    "source_hash": "af2ddee8"
   },
   "outputs": [
    {
     "data": {
      "text/plain": [
       "[['L', 'F', 'A', 'I', 'M', 'J'],\n",
       " ['C', 'H', 'A', 'G', 'M', 'B', 'J'],\n",
       " ['K', 'L', 'E', 'C', 'F', 'M'],\n",
       " ['E', 'C', 'H', 'A', 'B', 'J'],\n",
       " ['H', 'A', 'G', 'B', 'J'],\n",
       " ['K', 'I', 'D', 'M', 'B', 'J'],\n",
       " ['E', 'F', 'H', 'D', 'G', 'B', 'J'],\n",
       " ['K', 'L', 'E', 'A', 'D', 'I', 'M', 'B'],\n",
       " ['E', 'C', 'H', 'A', 'J'],\n",
       " ['K', 'H', 'I', 'D', 'G', 'J'],\n",
       " ['L', 'E', 'F', 'A', 'I', 'D', 'G', 'J'],\n",
       " ['K', 'C', 'H', 'D', 'M', 'J'],\n",
       " ['K', 'H', 'A', 'I', 'D', 'B'],\n",
       " ['E', 'C', 'F', 'A', 'I', 'G', 'M'],\n",
       " ['L', 'F', 'H', 'I', 'M'],\n",
       " ['E', 'H', 'A', 'M', 'J'],\n",
       " ['K', 'C', 'H', 'A', 'M', 'B', 'J'],\n",
       " ['K', 'E', 'A', 'I', 'M', 'B'],\n",
       " ['C', 'I', 'D', 'M', 'B', 'J'],\n",
       " ['K', 'C', 'H', 'A', 'G', 'J']]"
      ]
     },
     "execution_count": 59,
     "metadata": {},
     "output_type": "execute_result"
    }
   ],
   "source": [
    "np.random.seed(1)\n",
    "ts = []\n",
    "for i in range(20):\n",
    "    t = set()\n",
    "    for i in range(8):\n",
    "        t.add(dic[np.random.randint(0,13)])\n",
    "    ts.append(list(t))\n",
    "ts"
   ]
  },
  {
   "cell_type": "code",
   "execution_count": 60,
   "metadata": {
    "cell_id": "0a252b7d05484fceb977e18135df371d",
    "deepnote_cell_type": "code",
    "deepnote_to_be_reexecuted": false,
    "execution_millis": 15,
    "execution_start": 1680461951722,
    "source_hash": "699b6e6a"
   },
   "outputs": [
    {
     "data": {
      "text/plain": [
       "13"
      ]
     },
     "execution_count": 60,
     "metadata": {},
     "output_type": "execute_result"
    }
   ],
   "source": [
    "rule = apriori(transactions = ts, min_support = 0.4)\n",
    "result = list(rule)\n",
    "len(result)"
   ]
  },
  {
   "cell_type": "code",
   "execution_count": 61,
   "metadata": {
    "cell_id": "513b8ea50e8845b89e8da23fb2cad15e",
    "deepnote_cell_type": "code",
    "deepnote_to_be_reexecuted": false,
    "execution_millis": 4,
    "execution_start": 1680461957451,
    "source_hash": "bae0e1b5"
   },
   "outputs": [
    {
     "data": {
      "text/plain": [
       "[RelationRecord(items=frozenset({'A'}), support=0.65, ordered_statistics=[OrderedStatistic(items_base=frozenset(), items_add=frozenset({'A'}), confidence=0.65, lift=1.0)]),\n",
       " RelationRecord(items=frozenset({'B'}), support=0.5, ordered_statistics=[OrderedStatistic(items_base=frozenset(), items_add=frozenset({'B'}), confidence=0.5, lift=1.0)]),\n",
       " RelationRecord(items=frozenset({'C'}), support=0.45, ordered_statistics=[OrderedStatistic(items_base=frozenset(), items_add=frozenset({'C'}), confidence=0.45, lift=1.0)]),\n",
       " RelationRecord(items=frozenset({'D'}), support=0.4, ordered_statistics=[OrderedStatistic(items_base=frozenset(), items_add=frozenset({'D'}), confidence=0.4, lift=1.0)]),\n",
       " RelationRecord(items=frozenset({'E'}), support=0.45, ordered_statistics=[OrderedStatistic(items_base=frozenset(), items_add=frozenset({'E'}), confidence=0.45, lift=1.0)]),\n",
       " RelationRecord(items=frozenset({'H'}), support=0.6, ordered_statistics=[OrderedStatistic(items_base=frozenset(), items_add=frozenset({'H'}), confidence=0.6, lift=1.0)]),\n",
       " RelationRecord(items=frozenset({'I'}), support=0.5, ordered_statistics=[OrderedStatistic(items_base=frozenset(), items_add=frozenset({'I'}), confidence=0.5, lift=1.0)]),\n",
       " RelationRecord(items=frozenset({'J'}), support=0.7, ordered_statistics=[OrderedStatistic(items_base=frozenset(), items_add=frozenset({'J'}), confidence=0.7, lift=1.0)]),\n",
       " RelationRecord(items=frozenset({'K'}), support=0.45, ordered_statistics=[OrderedStatistic(items_base=frozenset(), items_add=frozenset({'K'}), confidence=0.45, lift=1.0)]),\n",
       " RelationRecord(items=frozenset({'M'}), support=0.6, ordered_statistics=[OrderedStatistic(items_base=frozenset(), items_add=frozenset({'M'}), confidence=0.6, lift=1.0)]),\n",
       " RelationRecord(items=frozenset({'H', 'A'}), support=0.4, ordered_statistics=[OrderedStatistic(items_base=frozenset(), items_add=frozenset({'H', 'A'}), confidence=0.4, lift=1.0), OrderedStatistic(items_base=frozenset({'A'}), items_add=frozenset({'H'}), confidence=0.6153846153846154, lift=1.0256410256410258), OrderedStatistic(items_base=frozenset({'H'}), items_add=frozenset({'A'}), confidence=0.6666666666666667, lift=1.0256410256410258)]),\n",
       " RelationRecord(items=frozenset({'A', 'J'}), support=0.45, ordered_statistics=[OrderedStatistic(items_base=frozenset(), items_add=frozenset({'A', 'J'}), confidence=0.45, lift=1.0), OrderedStatistic(items_base=frozenset({'A'}), items_add=frozenset({'J'}), confidence=0.6923076923076923, lift=0.989010989010989), OrderedStatistic(items_base=frozenset({'J'}), items_add=frozenset({'A'}), confidence=0.6428571428571429, lift=0.989010989010989)]),\n",
       " RelationRecord(items=frozenset({'H', 'J'}), support=0.5, ordered_statistics=[OrderedStatistic(items_base=frozenset(), items_add=frozenset({'H', 'J'}), confidence=0.5, lift=1.0), OrderedStatistic(items_base=frozenset({'H'}), items_add=frozenset({'J'}), confidence=0.8333333333333334, lift=1.1904761904761907), OrderedStatistic(items_base=frozenset({'J'}), items_add=frozenset({'H'}), confidence=0.7142857142857143, lift=1.1904761904761905)])]"
      ]
     },
     "execution_count": 61,
     "metadata": {},
     "output_type": "execute_result"
    }
   ],
   "source": [
    "result"
   ]
  },
  {
   "cell_type": "code",
   "execution_count": 62,
   "metadata": {
    "cell_id": "a3779c173d604fb598134a41aa6d3f51",
    "deepnote_cell_type": "code",
    "deepnote_to_be_reexecuted": false,
    "execution_millis": 3,
    "execution_start": 1680461982631,
    "source_hash": "19d3d546"
   },
   "outputs": [
    {
     "data": {
      "text/plain": [
       "91"
      ]
     },
     "execution_count": 62,
     "metadata": {},
     "output_type": "execute_result"
    }
   ],
   "source": [
    "rule = apriori(transactions = ts, min_support = 0.2)\n",
    "result = list(rule)\n",
    "len(result)"
   ]
  },
  {
   "cell_type": "code",
   "execution_count": 72,
   "metadata": {
    "cell_id": "dbed451e9b66478791e5c24d6b309e20",
    "deepnote_cell_type": "code",
    "deepnote_to_be_reexecuted": false,
    "execution_millis": 7,
    "execution_start": 1680462163792,
    "source_hash": "9cad3ef2"
   },
   "outputs": [
    {
     "data": {
      "text/plain": [
       "10"
      ]
     },
     "execution_count": 72,
     "metadata": {},
     "output_type": "execute_result"
    }
   ],
   "source": [
    "rule = apriori(transactions = ts, min_support = 0.2, min_confidance = 0.3, min_lift = 1.5, min_length = 2)\n",
    "result = list(rule)\n",
    "len(result)"
   ]
  },
  {
   "cell_type": "code",
   "execution_count": 73,
   "metadata": {
    "cell_id": "8525992c09444254b49001cbed2d3958",
    "deepnote_cell_type": "code",
    "deepnote_to_be_reexecuted": false,
    "execution_millis": 12,
    "execution_start": 1680462170306,
    "source_hash": "bae0e1b5"
   },
   "outputs": [
    {
     "data": {
      "text/plain": [
       "[RelationRecord(items=frozenset({'L', 'F'}), support=0.2, ordered_statistics=[OrderedStatistic(items_base=frozenset({'F'}), items_add=frozenset({'L'}), confidence=0.6666666666666667, lift=2.666666666666667), OrderedStatistic(items_base=frozenset({'L'}), items_add=frozenset({'F'}), confidence=0.8, lift=2.666666666666667)]),\n",
       " RelationRecord(items=frozenset({'L', 'I'}), support=0.2, ordered_statistics=[OrderedStatistic(items_base=frozenset({'I'}), items_add=frozenset({'L'}), confidence=0.4, lift=1.6), OrderedStatistic(items_base=frozenset({'L'}), items_add=frozenset({'I'}), confidence=0.8, lift=1.6)]),\n",
       " RelationRecord(items=frozenset({'K', 'A', 'B'}), support=0.2, ordered_statistics=[OrderedStatistic(items_base=frozenset({'B'}), items_add=frozenset({'K', 'A'}), confidence=0.4, lift=1.6), OrderedStatistic(items_base=frozenset({'K', 'A'}), items_add=frozenset({'B'}), confidence=0.8, lift=1.6)]),\n",
       " RelationRecord(items=frozenset({'A', 'I', 'E'}), support=0.2, ordered_statistics=[OrderedStatistic(items_base=frozenset({'A'}), items_add=frozenset({'I', 'E'}), confidence=0.3076923076923077, lift=1.5384615384615385), OrderedStatistic(items_base=frozenset({'I', 'E'}), items_add=frozenset({'A'}), confidence=1.0, lift=1.5384615384615383)]),\n",
       " RelationRecord(items=frozenset({'I', 'B', 'D'}), support=0.2, ordered_statistics=[OrderedStatistic(items_base=frozenset({'D'}), items_add=frozenset({'I', 'B'}), confidence=0.5, lift=2.0), OrderedStatistic(items_base=frozenset({'I'}), items_add=frozenset({'B', 'D'}), confidence=0.4, lift=1.6), OrderedStatistic(items_base=frozenset({'B', 'D'}), items_add=frozenset({'I'}), confidence=0.8, lift=1.6), OrderedStatistic(items_base=frozenset({'I', 'B'}), items_add=frozenset({'D'}), confidence=0.8, lift=2.0)]),\n",
       " RelationRecord(items=frozenset({'I', 'B', 'K'}), support=0.2, ordered_statistics=[OrderedStatistic(items_base=frozenset({'B'}), items_add=frozenset({'K', 'I'}), confidence=0.4, lift=1.6), OrderedStatistic(items_base=frozenset({'I'}), items_add=frozenset({'K', 'B'}), confidence=0.4, lift=1.6), OrderedStatistic(items_base=frozenset({'K'}), items_add=frozenset({'I', 'B'}), confidence=0.4444444444444445, lift=1.777777777777778), OrderedStatistic(items_base=frozenset({'I', 'B'}), items_add=frozenset({'K'}), confidence=0.8, lift=1.777777777777778), OrderedStatistic(items_base=frozenset({'K', 'B'}), items_add=frozenset({'I'}), confidence=0.8, lift=1.6), OrderedStatistic(items_base=frozenset({'K', 'I'}), items_add=frozenset({'B'}), confidence=0.8, lift=1.6)]),\n",
       " RelationRecord(items=frozenset({'I', 'J', 'D'}), support=0.2, ordered_statistics=[OrderedStatistic(items_base=frozenset({'D'}), items_add=frozenset({'I', 'J'}), confidence=0.5, lift=2.0), OrderedStatistic(items_base=frozenset({'I', 'J'}), items_add=frozenset({'D'}), confidence=0.8, lift=2.0)]),\n",
       " RelationRecord(items=frozenset({'K', 'I', 'D'}), support=0.2, ordered_statistics=[OrderedStatistic(items_base=frozenset({'D'}), items_add=frozenset({'K', 'I'}), confidence=0.5, lift=2.0), OrderedStatistic(items_base=frozenset({'I'}), items_add=frozenset({'K', 'D'}), confidence=0.4, lift=1.6), OrderedStatistic(items_base=frozenset({'K', 'D'}), items_add=frozenset({'I'}), confidence=0.8, lift=1.6), OrderedStatistic(items_base=frozenset({'K', 'I'}), items_add=frozenset({'D'}), confidence=0.8, lift=2.0)]),\n",
       " RelationRecord(items=frozenset({'H', 'A', 'B', 'J'}), support=0.2, ordered_statistics=[OrderedStatistic(items_base=frozenset({'H'}), items_add=frozenset({'A', 'B', 'J'}), confidence=0.33333333333333337, lift=1.6666666666666667), OrderedStatistic(items_base=frozenset({'A', 'B', 'J'}), items_add=frozenset({'H'}), confidence=1.0, lift=1.6666666666666667)]),\n",
       " RelationRecord(items=frozenset({'H', 'A', 'C', 'J'}), support=0.25, ordered_statistics=[OrderedStatistic(items_base=frozenset({'C'}), items_add=frozenset({'H', 'A', 'J'}), confidence=0.5555555555555556, lift=1.5873015873015874), OrderedStatistic(items_base=frozenset({'H'}), items_add=frozenset({'A', 'C', 'J'}), confidence=0.4166666666666667, lift=1.6666666666666667), OrderedStatistic(items_base=frozenset({'A', 'C'}), items_add=frozenset({'H', 'J'}), confidence=0.8333333333333334, lift=1.6666666666666667), OrderedStatistic(items_base=frozenset({'H', 'A'}), items_add=frozenset({'C', 'J'}), confidence=0.625, lift=1.7857142857142858), OrderedStatistic(items_base=frozenset({'A', 'J'}), items_add=frozenset({'H', 'C'}), confidence=0.5555555555555556, lift=1.851851851851852), OrderedStatistic(items_base=frozenset({'H', 'C'}), items_add=frozenset({'A', 'J'}), confidence=0.8333333333333334, lift=1.8518518518518519), OrderedStatistic(items_base=frozenset({'C', 'J'}), items_add=frozenset({'H', 'A'}), confidence=0.7142857142857143, lift=1.7857142857142856), OrderedStatistic(items_base=frozenset({'H', 'J'}), items_add=frozenset({'A', 'C'}), confidence=0.5, lift=1.6666666666666667), OrderedStatistic(items_base=frozenset({'A', 'C', 'J'}), items_add=frozenset({'H'}), confidence=1.0, lift=1.6666666666666667), OrderedStatistic(items_base=frozenset({'H', 'A', 'J'}), items_add=frozenset({'C'}), confidence=0.7142857142857143, lift=1.5873015873015872)])]"
      ]
     },
     "execution_count": 73,
     "metadata": {},
     "output_type": "execute_result"
    }
   ],
   "source": [
    "result"
   ]
  },
  {
   "cell_type": "code",
   "execution_count": 74,
   "metadata": {
    "cell_id": "b229bbd9ccc643ab86a6ad566c85aec2",
    "deepnote_cell_type": "code",
    "deepnote_to_be_reexecuted": false,
    "execution_millis": 6,
    "execution_start": 1680462191669,
    "source_hash": "eb855aea"
   },
   "outputs": [
    {
     "data": {
      "text/plain": [
       "2"
      ]
     },
     "execution_count": 74,
     "metadata": {},
     "output_type": "execute_result"
    }
   ],
   "source": [
    "rule = apriori(transactions = ts, min_support = 0.2, min_confidance = 0.3, min_lift = 1.5, min_length = 2, max_length = 2)\n",
    "result = list(rule)\n",
    "len(result)"
   ]
  },
  {
   "cell_type": "code",
   "execution_count": 76,
   "metadata": {
    "cell_id": "4fec5005d0a744c4a76f240a547f707f",
    "deepnote_cell_type": "code",
    "deepnote_to_be_reexecuted": false,
    "execution_millis": 88,
    "execution_start": 1680462204574,
    "source_hash": "2edc2451"
   },
   "outputs": [
    {
     "data": {
      "application/vnd.deepnote.dataframe.v3+json": {
       "column_count": 5,
       "columns": [
        {
         "dtype": "object",
         "name": "Left_Hand_Side",
         "stats": {
          "categories": [
           {
            "count": 1,
            "name": "F"
           },
           {
            "count": 1,
            "name": "I"
           }
          ],
          "nan_count": 0,
          "unique_count": 2
         }
        },
        {
         "dtype": "object",
         "name": "Right_Hand_Side",
         "stats": {
          "categories": [
           {
            "count": 2,
            "name": "L"
           }
          ],
          "nan_count": 0,
          "unique_count": 1
         }
        },
        {
         "dtype": "float64",
         "name": "Support",
         "stats": {
          "histogram": [
           {
            "bin_end": -0.19999999999999998,
            "bin_start": -0.3,
            "count": 0
           },
           {
            "bin_end": -0.09999999999999998,
            "bin_start": -0.19999999999999998,
            "count": 0
           },
           {
            "bin_end": 5.551115123125783e-17,
            "bin_start": -0.09999999999999998,
            "count": 0
           },
           {
            "bin_end": 0.10000000000000003,
            "bin_start": 5.551115123125783e-17,
            "count": 0
           },
           {
            "bin_end": 0.2,
            "bin_start": 0.10000000000000003,
            "count": 0
           },
           {
            "bin_end": 0.3000000000000001,
            "bin_start": 0.2,
            "count": 2
           },
           {
            "bin_end": 0.4000000000000001,
            "bin_start": 0.3000000000000001,
            "count": 0
           },
           {
            "bin_end": 0.5,
            "bin_start": 0.4000000000000001,
            "count": 0
           },
           {
            "bin_end": 0.6000000000000001,
            "bin_start": 0.5,
            "count": 0
           },
           {
            "bin_end": 0.7,
            "bin_start": 0.6000000000000001,
            "count": 0
           }
          ],
          "max": "0.2",
          "min": "0.2",
          "nan_count": 0,
          "unique_count": 1
         }
        },
        {
         "dtype": "float64",
         "name": "Confidence",
         "stats": {
          "histogram": [
           {
            "bin_end": 0.4266666666666667,
            "bin_start": 0.4,
            "count": 1
           },
           {
            "bin_end": 0.45333333333333337,
            "bin_start": 0.4266666666666667,
            "count": 0
           },
           {
            "bin_end": 0.48000000000000004,
            "bin_start": 0.45333333333333337,
            "count": 0
           },
           {
            "bin_end": 0.5066666666666667,
            "bin_start": 0.48000000000000004,
            "count": 0
           },
           {
            "bin_end": 0.5333333333333334,
            "bin_start": 0.5066666666666667,
            "count": 0
           },
           {
            "bin_end": 0.56,
            "bin_start": 0.5333333333333334,
            "count": 0
           },
           {
            "bin_end": 0.5866666666666667,
            "bin_start": 0.56,
            "count": 0
           },
           {
            "bin_end": 0.6133333333333334,
            "bin_start": 0.5866666666666667,
            "count": 0
           },
           {
            "bin_end": 0.6400000000000001,
            "bin_start": 0.6133333333333334,
            "count": 0
           },
           {
            "bin_end": 0.6666666666666667,
            "bin_start": 0.6400000000000001,
            "count": 1
           }
          ],
          "max": "0.6666666666666667",
          "min": "0.4",
          "nan_count": 0,
          "unique_count": 2
         }
        },
        {
         "dtype": "float64",
         "name": "Lift",
         "stats": {
          "histogram": [
           {
            "bin_end": 1.7066666666666668,
            "bin_start": 1.6,
            "count": 1
           },
           {
            "bin_end": 1.8133333333333335,
            "bin_start": 1.7066666666666668,
            "count": 0
           },
           {
            "bin_end": 1.9200000000000002,
            "bin_start": 1.8133333333333335,
            "count": 0
           },
           {
            "bin_end": 2.026666666666667,
            "bin_start": 1.9200000000000002,
            "count": 0
           },
           {
            "bin_end": 2.1333333333333337,
            "bin_start": 2.026666666666667,
            "count": 0
           },
           {
            "bin_end": 2.24,
            "bin_start": 2.1333333333333337,
            "count": 0
           },
           {
            "bin_end": 2.3466666666666667,
            "bin_start": 2.24,
            "count": 0
           },
           {
            "bin_end": 2.4533333333333336,
            "bin_start": 2.3466666666666667,
            "count": 0
           },
           {
            "bin_end": 2.5600000000000005,
            "bin_start": 2.4533333333333336,
            "count": 0
           },
           {
            "bin_end": 2.666666666666667,
            "bin_start": 2.5600000000000005,
            "count": 1
           }
          ],
          "max": "2.666666666666667",
          "min": "1.6",
          "nan_count": 0,
          "unique_count": 2
         }
        },
        {
         "dtype": "int64",
         "name": "_deepnote_index_column"
        }
       ],
       "row_count": 2,
       "rows": [
        {
         "Confidence": "0.6666666666666667",
         "Left_Hand_Side": "F",
         "Lift": "2.666666666666667",
         "Right_Hand_Side": "L",
         "Support": "0.2",
         "_deepnote_index_column": "0"
        },
        {
         "Confidence": "0.4",
         "Left_Hand_Side": "I",
         "Lift": "1.6",
         "Right_Hand_Side": "L",
         "Support": "0.2",
         "_deepnote_index_column": "1"
        }
       ]
      },
      "text/html": [
       "<div>\n",
       "<style scoped>\n",
       "    .dataframe tbody tr th:only-of-type {\n",
       "        vertical-align: middle;\n",
       "    }\n",
       "\n",
       "    .dataframe tbody tr th {\n",
       "        vertical-align: top;\n",
       "    }\n",
       "\n",
       "    .dataframe thead th {\n",
       "        text-align: right;\n",
       "    }\n",
       "</style>\n",
       "<table border=\"1\" class=\"dataframe\">\n",
       "  <thead>\n",
       "    <tr style=\"text-align: right;\">\n",
       "      <th></th>\n",
       "      <th>Left_Hand_Side</th>\n",
       "      <th>Right_Hand_Side</th>\n",
       "      <th>Support</th>\n",
       "      <th>Confidence</th>\n",
       "      <th>Lift</th>\n",
       "    </tr>\n",
       "  </thead>\n",
       "  <tbody>\n",
       "    <tr>\n",
       "      <th>0</th>\n",
       "      <td>F</td>\n",
       "      <td>L</td>\n",
       "      <td>0.2</td>\n",
       "      <td>0.666667</td>\n",
       "      <td>2.666667</td>\n",
       "    </tr>\n",
       "    <tr>\n",
       "      <th>1</th>\n",
       "      <td>I</td>\n",
       "      <td>L</td>\n",
       "      <td>0.2</td>\n",
       "      <td>0.400000</td>\n",
       "      <td>1.600000</td>\n",
       "    </tr>\n",
       "  </tbody>\n",
       "</table>\n",
       "</div>"
      ],
      "text/plain": [
       "  Left_Hand_Side Right_Hand_Side  Support  Confidence      Lift\n",
       "0              F               L      0.2    0.666667  2.666667\n",
       "1              I               L      0.2    0.400000  1.600000"
      ]
     },
     "execution_count": 76,
     "metadata": {},
     "output_type": "execute_result"
    }
   ],
   "source": [
    "# putting output into a pandas dataframe\n",
    "def inspect(output):\n",
    "    lhs         = [tuple(result[2][0][0])[0] for result in output]\n",
    "    rhs         = [tuple(result[2][0][1])[0] for result in output]\n",
    "    support    = [result[1] for result in output]\n",
    "    confidence = [result[2][0][2] for result in output]\n",
    "    lift       = [result[2][0][3] for result in output]\n",
    "    return list(zip(lhs, rhs, support, confidence, lift))\n",
    "output_DataFrame = pd.DataFrame(inspect(result), columns = ['Left_Hand_Side', 'Right_Hand_Side', 'Support', 'Confidence', 'Lift'])\n",
    "output_DataFrame"
   ]
  },
  {
   "cell_type": "code",
   "execution_count": 78,
   "metadata": {
    "cell_id": "62a8a53ebea24ff9a878bfabfa248354",
    "deepnote_cell_type": "code",
    "deepnote_to_be_reexecuted": false,
    "execution_millis": 9,
    "execution_start": 1680462254965,
    "source_hash": "9cad3ef2"
   },
   "outputs": [
    {
     "data": {
      "text/plain": [
       "10"
      ]
     },
     "execution_count": 78,
     "metadata": {},
     "output_type": "execute_result"
    }
   ],
   "source": [
    "rule = apriori(transactions = ts, min_support = 0.2, min_confidance = 0.3, min_lift = 1.5, min_length = 2)\n",
    "result = list(rule)\n",
    "len(result)"
   ]
  },
  {
   "cell_type": "code",
   "execution_count": 79,
   "metadata": {
    "cell_id": "cb8fd8699d314278b9078c261978ae59",
    "deepnote_cell_type": "code",
    "deepnote_to_be_reexecuted": false,
    "execution_millis": 5,
    "execution_start": 1680462258295,
    "source_hash": "15a372d3"
   },
   "outputs": [
    {
     "name": "stdout",
     "output_type": "stream",
     "text": [
      "=====================================\n",
      "Frequent itemset:['L', 'F'] with support 0.2\n",
      "--Association Rules\n",
      "----Rule: ['F'] -> ['L']\n",
      "------Confidence: 0.6666666666666667\n",
      "------Lift: 2.666666666666667\n",
      "----Rule: ['L'] -> ['F']\n",
      "------Confidence: 0.8\n",
      "------Lift: 2.666666666666667\n",
      "=====================================\n",
      "Frequent itemset:['L', 'I'] with support 0.2\n",
      "--Association Rules\n",
      "----Rule: ['I'] -> ['L']\n",
      "------Confidence: 0.4\n",
      "------Lift: 1.6\n",
      "----Rule: ['L'] -> ['I']\n",
      "------Confidence: 0.8\n",
      "------Lift: 1.6\n",
      "=====================================\n",
      "Frequent itemset:['K', 'A', 'B'] with support 0.2\n",
      "--Association Rules\n",
      "----Rule: ['B'] -> ['K', 'A']\n",
      "------Confidence: 0.4\n",
      "------Lift: 1.6\n",
      "----Rule: ['K', 'A'] -> ['B']\n",
      "------Confidence: 0.8\n",
      "------Lift: 1.6\n",
      "=====================================\n",
      "Frequent itemset:['A', 'I', 'E'] with support 0.2\n",
      "--Association Rules\n",
      "----Rule: ['A'] -> ['I', 'E']\n",
      "------Confidence: 0.3076923076923077\n",
      "------Lift: 1.5384615384615385\n",
      "----Rule: ['I', 'E'] -> ['A']\n",
      "------Confidence: 1.0\n",
      "------Lift: 1.5384615384615383\n",
      "=====================================\n",
      "Frequent itemset:['I', 'B', 'D'] with support 0.2\n",
      "--Association Rules\n",
      "----Rule: ['D'] -> ['I', 'B']\n",
      "------Confidence: 0.5\n",
      "------Lift: 2.0\n",
      "----Rule: ['I'] -> ['B', 'D']\n",
      "------Confidence: 0.4\n",
      "------Lift: 1.6\n",
      "----Rule: ['B', 'D'] -> ['I']\n",
      "------Confidence: 0.8\n",
      "------Lift: 1.6\n",
      "----Rule: ['I', 'B'] -> ['D']\n",
      "------Confidence: 0.8\n",
      "------Lift: 2.0\n",
      "=====================================\n",
      "Frequent itemset:['I', 'B', 'K'] with support 0.2\n",
      "--Association Rules\n",
      "----Rule: ['B'] -> ['K', 'I']\n",
      "------Confidence: 0.4\n",
      "------Lift: 1.6\n",
      "----Rule: ['I'] -> ['K', 'B']\n",
      "------Confidence: 0.4\n",
      "------Lift: 1.6\n",
      "----Rule: ['K'] -> ['I', 'B']\n",
      "------Confidence: 0.4444444444444445\n",
      "------Lift: 1.777777777777778\n",
      "----Rule: ['I', 'B'] -> ['K']\n",
      "------Confidence: 0.8\n",
      "------Lift: 1.777777777777778\n",
      "----Rule: ['K', 'B'] -> ['I']\n",
      "------Confidence: 0.8\n",
      "------Lift: 1.6\n",
      "----Rule: ['K', 'I'] -> ['B']\n",
      "------Confidence: 0.8\n",
      "------Lift: 1.6\n",
      "=====================================\n",
      "Frequent itemset:['I', 'J', 'D'] with support 0.2\n",
      "--Association Rules\n",
      "----Rule: ['D'] -> ['I', 'J']\n",
      "------Confidence: 0.5\n",
      "------Lift: 2.0\n",
      "----Rule: ['I', 'J'] -> ['D']\n",
      "------Confidence: 0.8\n",
      "------Lift: 2.0\n",
      "=====================================\n",
      "Frequent itemset:['K', 'I', 'D'] with support 0.2\n",
      "--Association Rules\n",
      "----Rule: ['D'] -> ['K', 'I']\n",
      "------Confidence: 0.5\n",
      "------Lift: 2.0\n",
      "----Rule: ['I'] -> ['K', 'D']\n",
      "------Confidence: 0.4\n",
      "------Lift: 1.6\n",
      "----Rule: ['K', 'D'] -> ['I']\n",
      "------Confidence: 0.8\n",
      "------Lift: 1.6\n",
      "----Rule: ['K', 'I'] -> ['D']\n",
      "------Confidence: 0.8\n",
      "------Lift: 2.0\n",
      "=====================================\n",
      "Frequent itemset:['H', 'A', 'B', 'J'] with support 0.2\n",
      "--Association Rules\n",
      "----Rule: ['H'] -> ['A', 'B', 'J']\n",
      "------Confidence: 0.33333333333333337\n",
      "------Lift: 1.6666666666666667\n",
      "----Rule: ['A', 'B', 'J'] -> ['H']\n",
      "------Confidence: 1.0\n",
      "------Lift: 1.6666666666666667\n",
      "=====================================\n",
      "Frequent itemset:['H', 'A', 'C', 'J'] with support 0.25\n",
      "--Association Rules\n",
      "----Rule: ['C'] -> ['H', 'A', 'J']\n",
      "------Confidence: 0.5555555555555556\n",
      "------Lift: 1.5873015873015874\n",
      "----Rule: ['H'] -> ['A', 'C', 'J']\n",
      "------Confidence: 0.4166666666666667\n",
      "------Lift: 1.6666666666666667\n",
      "----Rule: ['A', 'C'] -> ['H', 'J']\n",
      "------Confidence: 0.8333333333333334\n",
      "------Lift: 1.6666666666666667\n",
      "----Rule: ['H', 'A'] -> ['C', 'J']\n",
      "------Confidence: 0.625\n",
      "------Lift: 1.7857142857142858\n",
      "----Rule: ['A', 'J'] -> ['H', 'C']\n",
      "------Confidence: 0.5555555555555556\n",
      "------Lift: 1.851851851851852\n",
      "----Rule: ['H', 'C'] -> ['A', 'J']\n",
      "------Confidence: 0.8333333333333334\n",
      "------Lift: 1.8518518518518519\n",
      "----Rule: ['C', 'J'] -> ['H', 'A']\n",
      "------Confidence: 0.7142857142857143\n",
      "------Lift: 1.7857142857142856\n",
      "----Rule: ['H', 'J'] -> ['A', 'C']\n",
      "------Confidence: 0.5\n",
      "------Lift: 1.6666666666666667\n",
      "----Rule: ['A', 'C', 'J'] -> ['H']\n",
      "------Confidence: 1.0\n",
      "------Lift: 1.6666666666666667\n",
      "----Rule: ['H', 'A', 'J'] -> ['C']\n",
      "------Confidence: 0.7142857142857143\n",
      "------Lift: 1.5873015873015872\n"
     ]
    }
   ],
   "source": [
    "for r in result:\n",
    "    print(\"=====================================\")\n",
    "    print('Frequent itemset:{} with support'.format(list(r[0])), r[1])\n",
    "    print('--Association Rules')\n",
    "    for a in r[2]:\n",
    "        print('----Rule: {} -> {}'.format(list(a[0]), list(a[1])))\n",
    "        print('------Confidence: {}'.format(a[2]))\n",
    "        print('------Lift: {}'.format(a[3]))"
   ]
  }
 ],
 "metadata": {
  "deepnote": {},
  "deepnote_execution_queue": [],
  "deepnote_notebook_id": "135847145ca64e279c55e46f6a459b91",
  "kernelspec": {
   "display_name": "Python 3 (ipykernel)",
   "language": "python",
   "name": "python3"
  },
  "language_info": {
   "codemirror_mode": {
    "name": "ipython",
    "version": 3
   },
   "file_extension": ".py",
   "mimetype": "text/x-python",
   "name": "python",
   "nbconvert_exporter": "python",
   "pygments_lexer": "ipython3",
   "version": "3.8.16"
  }
 },
 "nbformat": 4,
 "nbformat_minor": 4
}
