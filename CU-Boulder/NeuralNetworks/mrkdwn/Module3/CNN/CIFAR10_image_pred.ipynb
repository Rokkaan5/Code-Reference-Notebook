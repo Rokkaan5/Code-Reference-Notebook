{
  "cells": [
    {
      "cell_type": "raw",
      "id": "077bb2d0",
      "metadata": {},
      "source": [
        "---\n",
        "title: CNN Conv2D CIFAR-10 data Image Prediction\n",
        "author: Professor Ami Gates\n",
        "format:\n",
        "  html:\n",
        "    code-fold: false\n",
        "execute:\n",
        "  output: true\n",
        "toc: true\n",
        "---"
      ]
    },
    {
      "cell_type": "markdown",
      "id": "8ed52124",
      "metadata": {},
      "source": [
        "Gates' full, raw (unedited) code\n",
        "Reference: Professor Ami Gates, Dept. Applied Math, Data Science, University of Colorado\n",
        "\n",
        "[Dr. Gates' Website](https://gatesboltonanalytics.com/?page_id=898)"
      ]
    },
    {
      "cell_type": "markdown",
      "id": "7c2cc94e",
      "metadata": {},
      "source": [
        "---\n",
        "\n",
        "**Image Processing Python**\n",
        "\n",
        "<https://note.nkmk.me/en/python-numpy-image-processing/>\n"
      ]
    },
    {
      "cell_type": "code",
      "execution_count": null,
      "id": "0a8f515d",
      "metadata": {},
      "outputs": [],
      "source": [
        "# libraries\n",
        "import tensorflow as tf\n",
        "from tensorflow import keras\n",
        "from tensorflow.keras import layers\n",
        "from sklearn.model_selection import train_test_split\n",
        "import tensorflow.keras\n",
        "#from tensorflow.keras.datasets import mnist\n",
        "from tensorflow.keras import datasets\n",
        "from tensorflow.keras.models import Sequential\n",
        "from tensorflow.keras.layers import LSTM, Dense, Dropout, LSTM\n",
        "from tensorflow.keras.optimizers import Adam\n",
        "import matplotlib.pyplot as plt\n",
        "from tensorflow.keras import layers\n",
        "import numpy as np\n",
        "import pandas as pd"
      ]
    },
    {
      "cell_type": "markdown",
      "id": "85906c1a",
      "metadata": {},
      "source": [
        "# The dataset for this code\n",
        "\n",
        "*CIFAR-10* dataset consists of 60000, $32 \\times 32$, color images in 10 classes, with 6000 images per class.\n",
        "\n",
        "- <https://www.cs.toronto.edu/~kriz/cifar.html>\n",
        "- <https://keras.io/api/datasets/cifar10/>\n",
        "\n",
        "How to read it in...\n",
        "```\n",
        "(train_images, train_labels), (test_images, test_labels) = datasets.cifar10.load_data()\n",
        "```\n"
      ]
    },
    {
      "cell_type": "code",
      "execution_count": null,
      "id": "9b7c4e80",
      "metadata": {},
      "outputs": [],
      "source": [
        "plt.rcParams[\"figure.figsize\"] = (5,5)\n",
        "(train_images, train_labels), (test_images, test_labels) = datasets.cifar10.load_data()"
      ]
    },
    {
      "cell_type": "code",
      "execution_count": null,
      "id": "8948ed7e",
      "metadata": {},
      "outputs": [],
      "source": [
        "print(type(train_images))\n",
        "print(train_images.shape)   ## 50000 rows, 32 by 32, depth 3 (because RGB) "
      ]
    },
    {
      "cell_type": "markdown",
      "id": "c3dd6057",
      "metadata": {},
      "source": [
        "50000 rows, 32 by 32, depth 3 (because RGB)"
      ]
    },
    {
      "cell_type": "code",
      "execution_count": null,
      "id": "40c24914",
      "metadata": {},
      "outputs": [],
      "source": [
        "# (50000, 32, 32, 3)\n",
        "plt.imshow(train_images[3])"
      ]
    },
    {
      "cell_type": "code",
      "execution_count": null,
      "id": "d6bda493",
      "metadata": {},
      "outputs": [],
      "source": [
        "## Set the input shape\n",
        "input_shape=train_images.shape\n",
        "print(\"The input shape for the training images is\\n\", input_shape) ## (50000, 32, 32, 3)"
      ]
    },
    {
      "cell_type": "code",
      "execution_count": null,
      "id": "6ac5b946",
      "metadata": {},
      "outputs": [],
      "source": [
        "print(\"The input shape per image is\\n\", input_shape[1:]) ## (32, 32, 3)  "
      ]
    },
    {
      "cell_type": "markdown",
      "id": "a962cb13",
      "metadata": {},
      "source": [
        "- The \"3\" is because this has 3 channels (RGB)\n",
        "- color channels refers to (R,G,B)\n"
      ]
    },
    {
      "cell_type": "code",
      "execution_count": null,
      "id": "c0704001",
      "metadata": {},
      "outputs": [],
      "source": [
        "print(\"A single image, R of RGB, has a matrix like this:\\n\", train_images[0,:,:,0])\n",
        "print(\"A single image has shape\\n\", train_images[0,:,:,0].shape)\n",
        "print(train_images[0,:,:,2].shape)"
      ]
    },
    {
      "cell_type": "markdown",
      "id": "a333769c",
      "metadata": {},
      "source": [
        "## Normalize pixel values to be between 0 and 1"
      ]
    },
    {
      "cell_type": "code",
      "execution_count": null,
      "id": "e3e86993",
      "metadata": {},
      "outputs": [],
      "source": [
        "train_images, test_images = train_images / 255.0, test_images / 255.0\n",
        "class_names = ['airplane', 'automobile', 'bird', 'cat', 'deer',\n",
        "               'dog', 'frog', 'horse', 'ship', 'truck']"
      ]
    },
    {
      "cell_type": "markdown",
      "id": "aad879ee",
      "metadata": {},
      "source": [
        "## Print out  a visual of all the image categories"
      ]
    },
    {
      "cell_type": "code",
      "execution_count": null,
      "id": "803132f5",
      "metadata": {},
      "outputs": [],
      "source": [
        "for i in range(49):\n",
        "    plt.subplot(7,7,i+1)\n",
        "    plt.xticks([])\n",
        "    plt.yticks([])\n",
        "    plt.grid(False)\n",
        "    plt.imshow(train_images[i])\n",
        "    # The CIFAR labels happen to be arrays, \n",
        "    # which is why you need the extra index\n",
        "    plt.xlabel(class_names[train_labels[i][0]])\n",
        "plt.show()"
      ]
    },
    {
      "cell_type": "markdown",
      "id": "ea0634a9",
      "metadata": {},
      "source": [
        "# Build the CNN Model "
      ]
    },
    {
      "cell_type": "code",
      "execution_count": null,
      "id": "f8cdbc54",
      "metadata": {},
      "outputs": [],
      "source": [
        "CNN_Model = tf.keras.models.Sequential([\n",
        "    #https://keras.io/api/layers/convolution_layers/convolution2d/\n",
        "  tf.keras.layers.Conv2D(input_shape=input_shape[1:], kernel_size=(3,3), filters=32, activation=\"relu\"), \n",
        "  ## A CNN takes tensors of shape (image_height, image_width, color_channels)\n",
        "        ## input_shape[1:] means all but the first value. Here, our input is: ()\n",
        "        ## https://www.tensorflow.org/api_docs/python/tf/keras/activations\n",
        "  tf.keras.layers.MaxPooling2D(pool_size=(2, 2)),\n",
        "  #https://keras.io/api/layers/pooling_layers/max_pooling2d/\n",
        "  tf.keras.layers.Conv2D(filters=64, kernel_size=(3, 3), activation='relu'),\n",
        "  tf.keras.layers.MaxPooling2D(pool_size=(2, 2)),\n",
        "  #tf.keras.layers.Conv2D(filters=64, kernel_size=(3, 3), activation='relu'),\n",
        "  \n",
        "  tf.keras.layers.Flatten(),\n",
        "  \n",
        "  tf.keras.layers.Dense(64, activation='relu'), \n",
        "  ## https://keras.io/api/layers/core_layers/dense/\n",
        "  ## https://www.tutorialspoint.com/keras/keras_dense_layer.htm\n",
        "  \n",
        "  tf.keras.layers.Dense(10) \n",
        "])"
      ]
    },
    {
      "cell_type": "markdown",
      "id": "ca6e08be",
      "metadata": {},
      "source": [
        "**Links referenced in the above code (all specifically for *Keras*):**\n",
        "\n",
        "- Convolution layers: <https://keras.io/api/layers/convolution_layers/convolution2d/>\n",
        "- Activation functions: <https://www.tensorflow.org/api_docs/python/tf/keras/activations>\n",
        "- `MaxPooling2D`: <https://keras.io/api/layers/pooling_layers/max_pooling2d/>\n",
        "- Dense layers\n",
        "    - <https://keras.io/api/layers/core_layers/dense/>\n",
        "    - <https://www.tutorialspoint.com/keras/keras_dense_layer.htm>\n"
      ]
    },
    {
      "cell_type": "code",
      "execution_count": null,
      "id": "0f405701",
      "metadata": {},
      "outputs": [],
      "source": [
        "CNN_Model.summary()"
      ]
    },
    {
      "cell_type": "markdown",
      "id": "cb376b13",
      "metadata": {},
      "source": [
        "## Compile the model"
      ]
    },
    {
      "cell_type": "code",
      "execution_count": null,
      "id": "e36919b7",
      "metadata": {},
      "outputs": [],
      "source": [
        "CNN_Model.compile(optimizer='adam',\n",
        "              loss=tf.keras.losses.SparseCategoricalCrossentropy(from_logits=True),\n",
        "              ## Using True above means you do not use one-hot-encoding\n",
        "              metrics=['accuracy'])"
      ]
    },
    {
      "cell_type": "markdown",
      "id": "3be5d90a",
      "metadata": {},
      "source": [
        "## Fit the model\n",
        "(Can increase epochs to improve accuracy/training)"
      ]
    },
    {
      "cell_type": "code",
      "execution_count": null,
      "id": "c08c25c8",
      "metadata": {},
      "outputs": [],
      "source": [
        "history = CNN_Model.fit(train_images, train_labels, epochs=15, \n",
        "                    validation_data=(test_images, test_labels))"
      ]
    },
    {
      "cell_type": "markdown",
      "id": "bf080721",
      "metadata": {},
      "source": [
        "## Evaluate the model performance"
      ]
    },
    {
      "cell_type": "code",
      "execution_count": null,
      "id": "d2e1d942",
      "metadata": {},
      "outputs": [],
      "source": [
        "plt.plot(history.history['accuracy'], label='accuracy')\n",
        "plt.plot(history.history['val_accuracy'], label = 'val_accuracy')\n",
        "plt.xlabel('Epoch')\n",
        "plt.ylabel('Accuracy')\n",
        "plt.ylim([0.5, 1])\n",
        "plt.legend(loc='lower right')"
      ]
    },
    {
      "cell_type": "code",
      "execution_count": null,
      "id": "28252059",
      "metadata": {},
      "outputs": [],
      "source": [
        "test_loss, test_acc = CNN_Model.evaluate(test_images,  test_labels, verbose=2)\n",
        "\n",
        "print(test_acc)"
      ]
    },
    {
      "cell_type": "markdown",
      "id": "a3b589bf",
      "metadata": {},
      "source": [
        "## Predictions"
      ]
    },
    {
      "cell_type": "code",
      "execution_count": null,
      "id": "3d4df321",
      "metadata": {},
      "outputs": [],
      "source": [
        "CNNpredictions=CNN_Model.predict([test_images])\n",
        "print(CNNpredictions.head())\n",
        "print(CNNpredictions.shape)"
      ]
    },
    {
      "cell_type": "markdown",
      "id": "07c952c6",
      "metadata": {},
      "source": [
        "### Confusion Matrix"
      ]
    },
    {
      "cell_type": "code",
      "execution_count": null,
      "id": "011a6c7a",
      "metadata": {},
      "outputs": [],
      "source": [
        "from sklearn.metrics import confusion_matrix\n",
        "Pred_Max_Values = np.squeeze(np.array(CNNpredictions.argmax(axis=1)))\n",
        "print(Pred_Max_Values)\n",
        "CNN_CM=confusion_matrix(Pred_Max_Values, test_labels)\n",
        "print(CNN_CM)"
      ]
    },
    {
      "cell_type": "markdown",
      "id": "ccf88ae6",
      "metadata": {},
      "source": [
        "### Pretty Confusion Matrix"
      ]
    },
    {
      "cell_type": "code",
      "execution_count": null,
      "id": "783f2b6f",
      "metadata": {},
      "outputs": [],
      "source": [
        "import seaborn as sns\n",
        "import matplotlib.pyplot as plt     \n",
        "\n",
        "fig, ax = plt.subplots(figsize=(15,15)) \n",
        "sns.heatmap(CNN_CM, annot=True, fmt='g', ax=ax, annot_kws={'size': 18})\n",
        "#annot=True to annotate cells, ftm='g' to disable scientific notation\n",
        "# annot_kws is size  of font in heatmap\n",
        "# labels, title and ticks\n",
        "ax.set_xlabel('Predicted labels') \n",
        "ax.set_ylabel('True labels')\n",
        "ax.set_title('Confusion Matrix: NN') \n",
        "ax.xaxis.set_ticklabels(class_names,rotation=90, fontsize = 18)\n",
        "ax.yaxis.set_ticklabels(class_names,rotation=0, fontsize = 18)"
      ]
    }
  ],
  "metadata": {
    "kernelspec": {
      "display_name": "Python 3 (ipykernel)",
      "language": "python",
      "name": "python3"
    },
    "language_info": {
      "name": "python",
      "version": "3.8.18"
    }
  },
  "nbformat": 4,
  "nbformat_minor": 5
}
