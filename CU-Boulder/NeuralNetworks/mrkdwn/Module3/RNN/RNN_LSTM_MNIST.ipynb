{
  "cells": [
    {
      "cell_type": "raw",
      "id": "2dc39245",
      "metadata": {},
      "source": [
        "---\n",
        "title: \"RNN LSTM with Keras and MNIST - Raw code\"\n",
        "author: Professor Ami Gates\n",
        "format:\n",
        "  html:\n",
        "    code-fold: false\n",
        "execute:\n",
        "  output: true\n",
        "toc: true\n",
        "---"
      ]
    },
    {
      "cell_type": "markdown",
      "id": "53761788",
      "metadata": {},
      "source": [
        "Gates' full, raw (unedited) code\n",
        "Reference: Professor Ami Gates, Dept. Applied Math, Data Science, University of Colorado\n",
        "\n",
        "[Dr. Gates' Website](https://gatesboltonanalytics.com/?page_id=715)\n"
      ]
    },
    {
      "cell_type": "code",
      "execution_count": 1,
      "id": "ab8067d6",
      "metadata": {},
      "outputs": [],
      "source": [
        "import tensorflow as tf\n",
        "import tensorflow.keras\n",
        "from tensorflow.keras.datasets import mnist\n",
        "from tensorflow.keras.models import Sequential\n",
        "from tensorflow.keras.layers import LSTM, Dense, Dropout, LSTM\n",
        "from tensorflow.keras.optimizers import Adam\n",
        "import matplotlib.pyplot as plt\n",
        "from tensorflow.keras import layers"
      ]
    },
    {
      "cell_type": "markdown",
      "id": "c3a7fa39",
      "metadata": {},
      "source": [
        "# Data\n",
        "\n",
        "## Importing the data"
      ]
    },
    {
      "cell_type": "code",
      "execution_count": 2,
      "id": "b55fa3f9",
      "metadata": {},
      "outputs": [
        {
          "name": "stdout",
          "output_type": "stream",
          "text": [
            "Downloading data from https://storage.googleapis.com/tensorflow/tf-keras-datasets/mnist.npz\n",
            "11490434/11490434 [==============================] - 0s 0us/step\n"
          ]
        }
      ],
      "source": [
        "(X_train, y_train),(X_test, y_test) = mnist.load_data()  # unpacks images to x_train/x_test and labels to y_train/y_test"
      ]
    },
    {
      "cell_type": "markdown",
      "id": "2a38a204",
      "metadata": {},
      "source": [
        "## Normalizing the data"
      ]
    },
    {
      "cell_type": "code",
      "execution_count": 3,
      "id": "82214f17",
      "metadata": {},
      "outputs": [],
      "source": [
        "X_train = X_train.astype('float32') / 255.0\n",
        "X_test = X_test.astype('float32') / 255.0"
      ]
    },
    {
      "cell_type": "markdown",
      "id": "6c8944fa",
      "metadata": {},
      "source": [
        "## Check data and shapes"
      ]
    },
    {
      "cell_type": "code",
      "execution_count": 4,
      "id": "e27d3f30",
      "metadata": {},
      "outputs": [
        {
          "name": "stdout",
          "output_type": "stream",
          "text": [
            "[[0.         0.         0.         0.         0.         0.\n",
            "  0.         0.         0.         0.         0.         0.\n",
            "  0.         0.         0.         0.         0.         0.\n",
            "  0.         0.         0.         0.         0.         0.\n",
            "  0.         0.         0.         0.        ]\n",
            " [0.         0.         0.         0.         0.         0.\n",
            "  0.         0.         0.         0.         0.         0.\n",
            "  0.         0.         0.         0.         0.         0.\n",
            "  0.         0.         0.         0.         0.         0.\n",
            "  0.         0.         0.         0.        ]\n",
            " [0.         0.         0.         0.         0.         0.\n",
            "  0.         0.         0.         0.         0.         0.\n",
            "  0.         0.         0.         0.         0.         0.\n",
            "  0.         0.         0.         0.         0.         0.\n",
            "  0.         0.         0.         0.        ]\n",
            " [0.         0.         0.         0.         0.         0.\n",
            "  0.         0.         0.         0.         0.         0.\n",
            "  0.         0.         0.         0.         0.         0.\n",
            "  0.         0.         0.         0.         0.         0.\n",
            "  0.         0.         0.         0.        ]\n",
            " [0.         0.         0.         0.         0.         0.\n",
            "  0.         0.         0.         0.         0.         0.\n",
            "  0.         0.         0.         0.         0.         0.\n",
            "  0.         0.         0.         0.         0.         0.\n",
            "  0.         0.         0.         0.        ]\n",
            " [0.         0.         0.         0.         0.         0.\n",
            "  0.         0.         0.         0.         0.         0.\n",
            "  0.         0.         0.         0.         0.         0.\n",
            "  0.         0.         0.         0.         0.         0.\n",
            "  0.         0.         0.         0.        ]\n",
            " [0.         0.         0.         0.         0.         0.\n",
            "  0.         0.         0.         0.         0.         0.\n",
            "  0.         0.         0.         0.         0.         0.\n",
            "  0.         0.         0.         0.         0.         0.\n",
            "  0.         0.         0.         0.        ]\n",
            " [0.         0.         0.         0.         0.         0.\n",
            "  0.         0.         0.         0.         0.         0.\n",
            "  0.21568628 0.5803922  0.8235294  0.99215686 0.99215686 0.44313726\n",
            "  0.34117648 0.5803922  0.21568628 0.         0.         0.\n",
            "  0.         0.         0.         0.        ]\n",
            " [0.         0.         0.         0.         0.         0.\n",
            "  0.         0.         0.         0.         0.         0.34117648\n",
            "  0.9098039  0.9882353  0.99215686 0.7411765  0.8235294  0.9882353\n",
            "  0.9882353  0.99215686 0.65882355 0.         0.         0.\n",
            "  0.         0.         0.         0.        ]\n",
            " [0.         0.         0.         0.         0.         0.\n",
            "  0.         0.         0.         0.01568628 0.22352941 0.9490196\n",
            "  0.9882353  0.74509805 0.25490198 0.01960784 0.04705882 0.7137255\n",
            "  0.9882353  0.99215686 0.45490196 0.         0.         0.\n",
            "  0.         0.         0.         0.        ]\n",
            " [0.         0.         0.         0.         0.         0.\n",
            "  0.         0.         0.         0.3764706  0.9882353  0.9882353\n",
            "  0.7176471  0.05490196 0.         0.         0.36078432 0.9882353\n",
            "  0.9882353  0.88235295 0.08235294 0.         0.         0.\n",
            "  0.         0.         0.         0.        ]\n",
            " [0.         0.         0.         0.         0.         0.\n",
            "  0.         0.         0.5176471  0.99215686 0.9882353  0.57254905\n",
            "  0.05490196 0.         0.         0.         0.84313726 0.9882353\n",
            "  0.9882353  0.30980393 0.         0.         0.         0.\n",
            "  0.         0.         0.         0.        ]\n",
            " [0.         0.         0.         0.         0.         0.\n",
            "  0.         0.49411765 0.99215686 0.96862745 0.6901961  0.03529412\n",
            "  0.         0.         0.03137255 0.30588236 0.9607843  0.99215686\n",
            "  0.5058824  0.         0.         0.         0.         0.\n",
            "  0.         0.         0.         0.        ]\n",
            " [0.         0.         0.         0.         0.         0.\n",
            "  0.0627451  0.9098039  0.9882353  0.6901961  0.         0.\n",
            "  0.         0.14117648 0.7882353  0.9882353  0.9882353  0.6627451\n",
            "  0.04313726 0.         0.         0.         0.         0.\n",
            "  0.         0.         0.         0.        ]\n",
            " [0.         0.         0.         0.         0.         0.\n",
            "  0.08627451 0.9882353  0.9882353  0.11764706 0.08627451 0.46666667\n",
            "  0.77254903 0.94509804 0.99215686 0.9882353  0.9843137  0.3019608\n",
            "  0.         0.         0.         0.         0.         0.\n",
            "  0.         0.         0.         0.        ]\n",
            " [0.         0.         0.         0.         0.         0.\n",
            "  0.0627451  0.90588236 0.9882353  0.99215686 0.9882353  0.9882353\n",
            "  0.9882353  0.8862745  0.8901961  0.9882353  0.90588236 0.\n",
            "  0.         0.         0.         0.         0.         0.\n",
            "  0.         0.         0.         0.        ]\n",
            " [0.         0.         0.         0.         0.         0.\n",
            "  0.         0.21568628 0.92156863 0.99215686 0.8509804  0.5411765\n",
            "  0.16470589 0.09411765 0.7529412  0.9882353  0.56078434 0.\n",
            "  0.         0.         0.         0.         0.         0.\n",
            "  0.         0.         0.         0.        ]\n",
            " [0.         0.         0.         0.         0.         0.\n",
            "  0.         0.         0.         0.         0.         0.\n",
            "  0.         0.24313726 1.         0.99215686 0.42745098 0.\n",
            "  0.         0.         0.         0.         0.         0.\n",
            "  0.         0.         0.         0.        ]\n",
            " [0.         0.         0.         0.         0.         0.\n",
            "  0.         0.         0.         0.         0.         0.\n",
            "  0.         0.2784314  0.99215686 0.9882353  0.08235294 0.\n",
            "  0.         0.         0.         0.         0.         0.\n",
            "  0.         0.         0.         0.        ]\n",
            " [0.         0.         0.         0.         0.         0.\n",
            "  0.         0.         0.         0.         0.         0.\n",
            "  0.         0.         0.99215686 0.9882353  0.08235294 0.\n",
            "  0.         0.         0.         0.         0.         0.\n",
            "  0.         0.         0.         0.        ]\n",
            " [0.         0.         0.         0.         0.         0.\n",
            "  0.         0.         0.         0.         0.         0.\n",
            "  0.         0.2784314  0.99215686 0.9882353  0.08235294 0.\n",
            "  0.         0.         0.         0.         0.         0.\n",
            "  0.         0.         0.         0.        ]\n",
            " [0.         0.         0.         0.         0.         0.\n",
            "  0.         0.         0.         0.         0.         0.\n",
            "  0.         0.41568628 0.99215686 0.9882353  0.08235294 0.\n",
            "  0.         0.         0.         0.         0.         0.\n",
            "  0.         0.         0.         0.        ]\n",
            " [0.         0.         0.         0.         0.         0.\n",
            "  0.         0.         0.         0.         0.         0.\n",
            "  0.         0.1764706  1.         0.99215686 0.08235294 0.\n",
            "  0.         0.         0.         0.         0.         0.\n",
            "  0.         0.         0.         0.        ]\n",
            " [0.         0.         0.         0.         0.         0.\n",
            "  0.         0.         0.         0.         0.         0.\n",
            "  0.         0.         0.85490197 0.9882353  0.21960784 0.\n",
            "  0.         0.         0.         0.         0.         0.\n",
            "  0.         0.         0.         0.        ]\n",
            " [0.         0.         0.         0.         0.         0.\n",
            "  0.         0.         0.         0.         0.         0.\n",
            "  0.         0.         0.3764706  0.9882353  0.7411765  0.16470589\n",
            "  0.         0.         0.         0.         0.         0.\n",
            "  0.         0.         0.         0.        ]\n",
            " [0.         0.         0.         0.         0.         0.\n",
            "  0.         0.         0.         0.         0.         0.\n",
            "  0.         0.         0.05490196 0.72156864 0.9882353  0.6666667\n",
            "  0.04313726 0.         0.         0.         0.         0.\n",
            "  0.         0.         0.         0.        ]\n",
            " [0.         0.         0.         0.         0.         0.\n",
            "  0.         0.         0.         0.         0.         0.\n",
            "  0.         0.         0.         0.05490196 0.5764706  0.9882353\n",
            "  0.16470589 0.         0.         0.         0.         0.\n",
            "  0.         0.         0.         0.        ]\n",
            " [0.         0.         0.         0.         0.         0.\n",
            "  0.         0.         0.         0.         0.         0.\n",
            "  0.         0.         0.         0.         0.         0.\n",
            "  0.         0.         0.         0.         0.         0.\n",
            "  0.         0.         0.         0.        ]]\n"
          ]
        }
      ],
      "source": [
        "print(X_train[4])"
      ]
    },
    {
      "cell_type": "code",
      "execution_count": 5,
      "id": "a1639c87",
      "metadata": {},
      "outputs": [
        {
          "name": "stdout",
          "output_type": "stream",
          "text": [
            "9\n"
          ]
        }
      ],
      "source": [
        "print(y_train[4])"
      ]
    },
    {
      "cell_type": "code",
      "execution_count": 6,
      "id": "092facd2",
      "metadata": {},
      "outputs": [
        {
          "data": {
            "text/plain": [
              "<matplotlib.image.AxesImage at 0x1a5c5838f70>"
            ]
          },
          "execution_count": 6,
          "metadata": {},
          "output_type": "execute_result"
        },
        {
          "data": {
            "image/png": "[encoded data removed]",
            "text/plain": [
              "<Figure size 640x480 with 1 Axes>"
            ]
          },
          "metadata": {},
          "output_type": "display_data"
        }
      ],
      "source": [
        "plt.imshow(X_train[3]) "
      ]
    },
    {
      "cell_type": "code",
      "execution_count": 7,
      "id": "c9ef6a1f",
      "metadata": {},
      "outputs": [
        {
          "name": "stdout",
          "output_type": "stream",
          "text": [
            "(60000, 28, 28)\n",
            "(28, 28)\n"
          ]
        }
      ],
      "source": [
        "print(X_train.shape)\n",
        "print(X_train.shape[1:])"
      ]
    },
    {
      "cell_type": "code",
      "execution_count": 8,
      "id": "8732370e",
      "metadata": {},
      "outputs": [
        {
          "name": "stdout",
          "output_type": "stream",
          "text": [
            "(60000,)\n"
          ]
        }
      ],
      "source": [
        "print(y_train.shape)"
      ]
    },
    {
      "cell_type": "code",
      "execution_count": 9,
      "id": "e71ea122",
      "metadata": {},
      "outputs": [
        {
          "name": "stdout",
          "output_type": "stream",
          "text": [
            "(10000, 28, 28)\n",
            "(10000,)\n"
          ]
        }
      ],
      "source": [
        "print(X_test.shape)\n",
        "print(y_test.shape)"
      ]
    },
    {
      "cell_type": "markdown",
      "id": "8dcfeb7a",
      "metadata": {},
      "source": [
        "# Build the model"
      ]
    },
    {
      "cell_type": "code",
      "execution_count": 10,
      "id": "32bccdcc",
      "metadata": {},
      "outputs": [
        {
          "ename": "",
          "evalue": "",
          "output_type": "error",
          "traceback": [
            "\u001b[1;31mThe Kernel crashed while executing code in the the current cell or a previous cell. Please review the code in the cell(s) to identify a possible cause of the failure. Click <a href='https://aka.ms/vscodeJupyterKernelCrash'>here</a> for more info. View Jupyter <a href='command:jupyter.viewOutput'>log</a> for further details."
          ]
        }
      ],
      "source": [
        "model = tensorflow.keras.models.Sequential()"
      ]
    },
    {
      "cell_type": "markdown",
      "id": "5d4baeee",
      "metadata": {},
      "source": [
        "## Adding the model layers\n",
        "\n",
        "The number of units is the number of neurons connected to the layer holding the concatenated vector of hidden state and input"
      ]
    },
    {
      "cell_type": "code",
      "execution_count": null,
      "id": "4219c98a",
      "metadata": {},
      "outputs": [],
      "source": [
        "model.add(tensorflow.keras.layers.LSTM(128, input_shape=(X_train.shape[1:]), return_sequences=True))\n",
        "model.add(tensorflow.keras.layers.Dropout(0.2))\n",
        "model.add(tensorflow.keras.layers.LSTM(128))\n",
        "model.add(tensorflow.keras.layers.Dense(64, activation='relu'))\n",
        "model.add(tensorflow.keras.layers.Dropout(0.2))\n",
        "model.add(tensorflow.keras.layers.Dense(10, activation='softmax'))"
      ]
    },
    {
      "cell_type": "markdown",
      "id": "9eb27ca2",
      "metadata": {},
      "source": [
        "## Compiling the model"
      ]
    },
    {
      "cell_type": "code",
      "execution_count": null,
      "id": "908d48ed",
      "metadata": {},
      "outputs": [],
      "source": [
        "model.compile( loss='sparse_categorical_crossentropy', \n",
        "              optimizer = tensorflow.keras.optimizers.Adam(lr=0.001, decay=1e-6), metrics=['accuracy'] )"
      ]
    },
    {
      "cell_type": "markdown",
      "id": "7c1a3712",
      "metadata": {},
      "source": [
        "## Fitting data to the model"
      ]
    },
    {
      "cell_type": "code",
      "execution_count": null,
      "id": "3d6c3872",
      "metadata": {},
      "outputs": [],
      "source": [
        "history = model.fit(X_train, y_train, epochs=3, validation_data=(X_test, y_test))"
      ]
    },
    {
      "cell_type": "markdown",
      "id": "74f2f9b8",
      "metadata": {},
      "source": [
        "# Evaluating the test loss and accuracy"
      ]
    },
    {
      "cell_type": "code",
      "execution_count": null,
      "id": "dd7fb6a0",
      "metadata": {},
      "outputs": [],
      "source": [
        "test_loss, test_acc = model.evaluate(X_test, y_test)\n",
        "print('Test Loss: {}'.format(test_loss))\n",
        "print('Test Accuracy: {}'.format(test_acc))\n",
        "\n",
        "train_loss = history.history['loss']\n",
        "val_loss = history.history['val_loss']\n",
        "train_acc = history.history['accuracy']\n",
        "val_acc = history.history['val_accuracy']"
      ]
    },
    {
      "cell_type": "markdown",
      "id": "6fc2c83f",
      "metadata": {},
      "source": [
        "## visualizing the change in the validation loss"
      ]
    },
    {
      "cell_type": "code",
      "execution_count": null,
      "id": "d9d52a93",
      "metadata": {},
      "outputs": [],
      "source": [
        "plt.plot(val_loss) \n",
        "plt.title(\"Test Loss\",size=18)\n",
        "plt.xlabel(\"Number of iterations\") \n",
        "plt.ylabel(\"Test Loss\") \n",
        "plt.show() "
      ]
    },
    {
      "cell_type": "markdown",
      "id": "6d1a22fa",
      "metadata": {},
      "source": [
        "## visualizing the change in the accuracy"
      ]
    },
    {
      "cell_type": "code",
      "execution_count": null,
      "id": "03396999",
      "metadata": {},
      "outputs": [],
      "source": [
        "plt.plot(val_acc) \n",
        "plt.title(\"Test Accuracy\",size=18)\n",
        "plt.xlabel(\"Number of iterations\") \n",
        "plt.ylabel(\"Test Accuracy\") \n",
        "plt.show() "
      ]
    }
  ],
  "metadata": {
    "kernelspec": {
      "display_name": "Python 3 (ipykernel)",
      "language": "python",
      "name": "python3"
    },
    "language_info": {
      "codemirror_mode": {
        "name": "ipython",
        "version": 3
      },
      "file_extension": ".py",
      "mimetype": "text/x-python",
      "name": "python",
      "nbconvert_exporter": "python",
      "pygments_lexer": "ipython3",
      "version": "3.8.18"
    }
  },
  "nbformat": 4,
  "nbformat_minor": 5
}
