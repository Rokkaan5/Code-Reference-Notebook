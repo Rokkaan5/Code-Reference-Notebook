{
  "cells": [
    {
      "cell_type": "raw",
      "id": "316388b1",
      "metadata": {},
      "source": [
        "---\n",
        "title: SciKitLearn NN\n",
        "author: Prof Ami Gates\n",
        "format:\n",
        "    html:\n",
        "        code-fold: false\n",
        "execute:\n",
        "    output: true\n",
        "toc: true\n",
        "---"
      ]
    },
    {
      "cell_type": "markdown",
      "id": "bc302669",
      "metadata": {},
      "source": [
        "Reference: Professor Ami Gates, Dept. Applied Math, Data Science, University of Colorado\n",
        "\n",
        "This code is actually NOT on her webpage (as of Sept 2023), but just posted as a Python Script file on our Canvas page. \n",
        "\n",
        "NN in Python\n",
        "---\n"
      ]
    },
    {
      "cell_type": "code",
      "execution_count": 1,
      "id": "28908446",
      "metadata": {},
      "outputs": [],
      "source": [
        "import numpy as np\n",
        "import pandas as pd\n",
        "from sklearn.neural_network import MLPClassifier\n",
        "import matplotlib.pyplot as plt"
      ]
    },
    {
      "cell_type": "markdown",
      "id": "086882f3",
      "metadata": {},
      "source": [
        "# Data\n",
        "DATA IS HERE: [https://drive.google.com/file/d/19K2pF77RcxlLNvX9E5hLJP7kBuzYiF1-/view?usp=sharing]"
      ]
    },
    {
      "cell_type": "code",
      "execution_count": 2,
      "id": "e61825b9",
      "metadata": {},
      "outputs": [],
      "source": [
        "## Create and Train a TINY NN on easy data\n",
        "filename=\"HeartRisk_JustNums_Labeled.csv\""
      ]
    },
    {
      "cell_type": "markdown",
      "id": "40e8d008",
      "metadata": {},
      "source": [
        "## Side Note\n",
        "If your data is on the web - you can GET it using `keras`\n",
        "\n",
        "```\n",
        "csv_file = tf.keras.utils.get_file('filename.csv', 'https://path_to_file_on web.csv')\n",
        "```\n"
      ]
    },
    {
      "cell_type": "code",
      "execution_count": 3,
      "id": "c3a9aa8c",
      "metadata": {},
      "outputs": [
        {
          "name": "stdout",
          "output_type": "stream",
          "text": [
            "<class 'pandas.core.frame.DataFrame'>\n",
            "     Label  Cholesterol  Weight  Height\n",
            "0     Risk          251     267      70\n",
            "1   NoRisk          105     103      62\n",
            "2   Medium          156     193      72\n",
            "3   NoRisk          109     100      63\n",
            "4     Risk          198     210      70\n",
            "5     Risk          189     189      64\n",
            "6   NoRisk          121     105      65\n",
            "7   Medium          134     125      60\n",
            "8     Risk          250     156      69\n",
            "9   NoRisk          118     190      71\n",
            "10    Risk          290     300      62\n",
            "11  NoRisk          156     119      69\n",
            "12  NoRisk          145     112      68\n",
            "13    Risk          178     177      68\n",
            "14  Medium          175     145      63\n"
          ]
        }
      ],
      "source": [
        "## Notice that I did not hard-code the filename\n",
        "HeartHealthDF = pd.read_csv(filename)\n",
        "## Check to see if this worked\n",
        "print(type(HeartHealthDF))\n",
        "print(HeartHealthDF.head(15))"
      ]
    },
    {
      "cell_type": "markdown",
      "id": "d6168c0b",
      "metadata": {},
      "source": [
        "## Encoding labels\n",
        "We have labels - but they are words. \n",
        "\n",
        "We will need to encode them as numbers."
      ]
    },
    {
      "cell_type": "code",
      "execution_count": 4,
      "id": "932b3aaa",
      "metadata": {},
      "outputs": [
        {
          "name": "stdout",
          "output_type": "stream",
          "text": [
            "    Label  Cholesterol  Weight  Height\n",
            "0       2          251     267      70\n",
            "1       1          105     103      62\n",
            "2       0          156     193      72\n",
            "3       1          109     100      63\n",
            "4       2          198     210      70\n",
            "5       2          189     189      64\n",
            "6       1          121     105      65\n",
            "7       0          134     125      60\n",
            "8       2          250     156      69\n",
            "9       1          118     190      71\n",
            "10      2          290     300      62\n",
            "11      1          156     119      69\n",
            "12      1          145     112      68\n",
            "13      2          178     177      68\n",
            "14      0          175     145      63\n",
            "15      2          221     185      70\n",
            "16      0          200     185      73\n",
            "17      2          280     279      70\n",
            "18      0          156     125      70\n",
            "19      1          123     120      60\n",
            "20      0          189     154      69\n",
            "21      2          268     189      68\n",
            "22      0          178     140      61\n",
            "23      2          278     300      68\n",
            "24      0          166     166      60\n",
            "25      2          290     209      70\n",
            "26      2          291     213      61\n",
            "27      1          121     100      67\n",
            "28      0          156     135      65\n",
            "29      1          130     110      65\n",
            "30      1          135     105      64\n",
            "31      1          129     160      72\n"
          ]
        }
      ],
      "source": [
        "from sklearn.preprocessing import LabelEncoder\n",
        "Label_Encoder = LabelEncoder() ##instantiate your encoder\n",
        "HeartHealthDF[\"Label\"] = Label_Encoder.fit_transform(HeartHealthDF[\"Label\"])\n",
        "print(HeartHealthDF)\n",
        "\n",
        "## Now we have this:\n",
        "#         Label  Cholesterol  Weight  Height\n",
        "# 0       2          251     267      70\n",
        "# 1       1          105     103      62\n",
        "# 2       0          156     193      72\n",
        "# 3       1          109     100      63"
      ]
    },
    {
      "cell_type": "markdown",
      "id": "486e8a0c",
      "metadata": {},
      "source": [
        "**NOTE:** Here, my label is called `Label`. However\n",
        "that is rarely the case. The label may have been called\n",
        "\"color\" (if you are predicting a color) or \"salary level\", etc. \n",
        "In other words, it is important to understand the data\n",
        "and label that you have.\n",
        "\n",
        "## Scaling the data\n",
        "From here - one option is to \"scale\" our data. \n",
        "\n",
        "Let's do that to see how it works. \n",
        "\n",
        "**DO NOT SCALE THE LABEL!!** \n",
        "\n",
        "Remember - the label is NOT your data. It is the category each data row belongs to ;)"
      ]
    },
    {
      "cell_type": "code",
      "execution_count": 5,
      "id": "dfa1f6f1",
      "metadata": {},
      "outputs": [
        {
          "name": "stdout",
          "output_type": "stream",
          "text": [
            "    Label  Cholesterol    Weight    Height\n",
            "0       2     1.125543  1.740293  0.881091\n",
            "1       1    -1.324847 -1.133545 -1.150975\n",
            "2       0    -0.468889  0.443561  1.389108\n",
            "3       1    -1.257713 -1.186115 -0.896967\n",
            "4       2     0.236018  0.741459  0.881091\n",
            "5       2     0.084966  0.373468 -0.642958\n",
            "6       1    -1.056311 -1.098498 -0.388950\n",
            "7       0    -0.838125 -0.748030 -1.658991\n",
            "8       2     1.108759 -0.204805  0.627083\n",
            "9       1    -1.106661  0.390991  1.135099\n",
            "10      2     1.780099  2.318565 -1.150975\n",
            "11      1    -0.468889 -0.853171  0.627083\n",
            "12      1    -0.653507 -0.975835  0.373075\n",
            "13      2    -0.099652  0.163187  0.373075\n",
            "14      0    -0.150002 -0.397562 -0.896967\n",
            "15      2     0.622038  0.303374  0.881091\n",
            "16      0     0.269585  0.303374  1.643116\n",
            "17      2     1.612264  1.950574  0.881091\n",
            "18      0    -0.468889 -0.748030  0.881091\n",
            "19      1    -1.022744 -0.835647 -1.658991\n",
            "20      0     0.084966 -0.239852  0.627083\n",
            "21      2     1.410862  0.373468  0.373075\n",
            "22      0    -0.099652 -0.485179 -1.404983\n",
            "23      2     1.578697  2.318565  0.373075\n",
            "24      0    -0.301054 -0.029571 -1.658991\n",
            "25      2     1.780099  0.723936  0.881091\n",
            "26      2     1.796882  0.794029 -1.404983\n",
            "27      1    -1.056311 -1.186115  0.119066\n",
            "28      0    -0.468889 -0.572796 -0.388950\n",
            "29      1    -0.905259 -1.010881 -0.388950\n",
            "30      1    -0.821342 -1.098498 -0.642958\n",
            "31      1    -0.922043 -0.134711  1.389108\n"
          ]
        }
      ],
      "source": [
        "from sklearn.preprocessing import StandardScaler\n",
        "MyScaler = StandardScaler()  #instantiate the scaler\n",
        "HeartHealthDF[[\"Cholesterol\",  \"Weight\",  \"Height\"]] = MyScaler.fit_transform(HeartHealthDF[[\"Cholesterol\",  \"Weight\",  \"Height\"]])\n",
        "print(HeartHealthDF)"
      ]
    },
    {
      "cell_type": "markdown",
      "id": "43477a55",
      "metadata": {},
      "source": [
        "## Training and Testing dataset\n",
        "\n",
        "We are using NN here to TRAIN a model. We will then use that model to see if we can predict the right label.\n",
        "\n",
        "- To TRAIN the model, we need a training dataset.\n",
        "- To TEST the model's accuracy (etc) we need a DISJOINT Testing dataset.\n",
        "\n",
        "(Why disjoint?)"
      ]
    },
    {
      "cell_type": "code",
      "execution_count": 6,
      "id": "7eaf928e",
      "metadata": {},
      "outputs": [
        {
          "name": "stdout",
          "output_type": "stream",
          "text": [
            "    Label  Cholesterol    Weight    Height\n",
            "29      1    -0.905259 -1.010881 -0.388950\n",
            "4       2     0.236018  0.741459  0.881091\n",
            "12      1    -0.653507 -0.975835  0.373075\n",
            "14      0    -0.150002 -0.397562 -0.896967\n",
            "18      0    -0.468889 -0.748030  0.881091\n",
            "3       1    -1.257713 -1.186115 -0.896967\n",
            "19      1    -1.022744 -0.835647 -1.658991\n",
            "2       0    -0.468889  0.443561  1.389108\n",
            "30      1    -0.821342 -1.098498 -0.642958\n",
            "28      0    -0.468889 -0.572796 -0.388950\n",
            "11      1    -0.468889 -0.853171  0.627083\n",
            "21      2     1.410862  0.373468  0.373075\n",
            "9       1    -1.106661  0.390991  1.135099\n",
            "8       2     1.108759 -0.204805  0.627083\n",
            "0       2     1.125543  1.740293  0.881091\n",
            "22      0    -0.099652 -0.485179 -1.404983\n",
            "25      2     1.780099  0.723936  0.881091\n",
            "20      0     0.084966 -0.239852  0.627083\n",
            "16      0     0.269585  0.303374  1.643116\n",
            "13      2    -0.099652  0.163187  0.373075\n",
            "1       1    -1.324847 -1.133545 -1.150975\n",
            "26      2     1.796882  0.794029 -1.404983\n",
            "5       2     0.084966  0.373468 -0.642958\n",
            "31      1    -0.922043 -0.134711  1.389108\n",
            "\n",
            "     Label  Cholesterol    Weight    Height\n",
            "23      2     1.578697  2.318565  0.373075\n",
            "17      2     1.612264  1.950574  0.881091\n",
            "15      2     0.622038  0.303374  0.881091\n",
            "6       1    -1.056311 -1.098498 -0.388950\n",
            "10      2     1.780099  2.318565 -1.150975\n",
            "27      1    -1.056311 -1.186115  0.119066\n",
            "7       0    -0.838125 -0.748030 -1.658991\n",
            "24      0    -0.301054 -0.029571 -1.658991\n"
          ]
        }
      ],
      "source": [
        "from sklearn.model_selection import train_test_split\n",
        "TRAIN_data, TEST_data = train_test_split(HeartHealthDF, test_size = 0.25)\n",
        "print(TRAIN_data)\n",
        "print(\"\\n\",TEST_data)"
      ]
    },
    {
      "cell_type": "markdown",
      "id": "ddb713fc",
      "metadata": {},
      "source": [
        "Make sure your training and testing data are balanced.\n",
        "\n",
        "In other words, that there is a fair representation of all labels. \n",
        "\n",
        "***IMPORTANT***\n",
        "\n",
        "Right now, our testing and training datasets still have the labels ON THEM.\n",
        "\n",
        "We need to remove the label and save it. "
      ]
    },
    {
      "cell_type": "code",
      "execution_count": 7,
      "id": "b1a9fc18",
      "metadata": {},
      "outputs": [
        {
          "name": "stdout",
          "output_type": "stream",
          "text": [
            "29    1\n",
            "4     2\n",
            "12    1\n",
            "14    0\n",
            "18    0\n",
            "3     1\n",
            "19    1\n",
            "2     0\n",
            "30    1\n",
            "28    0\n",
            "11    1\n",
            "21    2\n",
            "9     1\n",
            "8     2\n",
            "0     2\n",
            "22    0\n",
            "25    2\n",
            "20    0\n",
            "16    0\n",
            "13    2\n",
            "1     1\n",
            "26    2\n",
            "5     2\n",
            "31    1\n",
            "Name: Label, dtype: int32\n"
          ]
        }
      ],
      "source": [
        "## Get the label from the training data\n",
        "Train_Label = TRAIN_data[\"Label\"]  ## Save the label\n",
        "print(Train_Label)"
      ]
    },
    {
      "cell_type": "code",
      "execution_count": 8,
      "id": "79cd2909",
      "metadata": {},
      "outputs": [
        {
          "name": "stdout",
          "output_type": "stream",
          "text": [
            "    Cholesterol    Weight    Height\n",
            "29    -0.905259 -1.010881 -0.388950\n",
            "4      0.236018  0.741459  0.881091\n",
            "12    -0.653507 -0.975835  0.373075\n",
            "14    -0.150002 -0.397562 -0.896967\n",
            "18    -0.468889 -0.748030  0.881091\n",
            "3     -1.257713 -1.186115 -0.896967\n",
            "19    -1.022744 -0.835647 -1.658991\n",
            "2     -0.468889  0.443561  1.389108\n",
            "30    -0.821342 -1.098498 -0.642958\n",
            "28    -0.468889 -0.572796 -0.388950\n",
            "11    -0.468889 -0.853171  0.627083\n",
            "21     1.410862  0.373468  0.373075\n",
            "9     -1.106661  0.390991  1.135099\n",
            "8      1.108759 -0.204805  0.627083\n",
            "0      1.125543  1.740293  0.881091\n",
            "22    -0.099652 -0.485179 -1.404983\n",
            "25     1.780099  0.723936  0.881091\n",
            "20     0.084966 -0.239852  0.627083\n",
            "16     0.269585  0.303374  1.643116\n",
            "13    -0.099652  0.163187  0.373075\n",
            "1     -1.324847 -1.133545 -1.150975\n",
            "26     1.796882  0.794029 -1.404983\n",
            "5      0.084966  0.373468 -0.642958\n",
            "31    -0.922043 -0.134711  1.389108\n"
          ]
        }
      ],
      "source": [
        "## Drop the label from the training set now that you saved it\n",
        "TRAIN_data = TRAIN_data.drop(\"Label\",  axis=1)\n",
        "## axis = 1 means drop the column. axis = 0 drops a row\n",
        "print(TRAIN_data)"
      ]
    },
    {
      "cell_type": "markdown",
      "id": "7f5e784c",
      "metadata": {},
      "source": [
        "OK! Let's do this for the testing data now"
      ]
    },
    {
      "cell_type": "code",
      "execution_count": 9,
      "id": "b3d13092",
      "metadata": {},
      "outputs": [
        {
          "name": "stdout",
          "output_type": "stream",
          "text": [
            "23    2\n",
            "17    2\n",
            "15    2\n",
            "6     1\n",
            "10    2\n",
            "27    1\n",
            "7     0\n",
            "24    0\n",
            "Name: Label, dtype: int32\n"
          ]
        }
      ],
      "source": [
        "## Save the label\n",
        "Test_Label = TEST_data[\"Label\"]  \n",
        "print(Test_Label)"
      ]
    },
    {
      "cell_type": "code",
      "execution_count": 10,
      "id": "cc1b63e0",
      "metadata": {},
      "outputs": [
        {
          "name": "stdout",
          "output_type": "stream",
          "text": [
            "    Cholesterol    Weight    Height\n",
            "23     1.578697  2.318565  0.373075\n",
            "17     1.612264  1.950574  0.881091\n",
            "15     0.622038  0.303374  0.881091\n",
            "6     -1.056311 -1.098498 -0.388950\n",
            "10     1.780099  2.318565 -1.150975\n",
            "27    -1.056311 -1.186115  0.119066\n",
            "7     -0.838125 -0.748030 -1.658991\n",
            "24    -0.301054 -0.029571 -1.658991\n"
          ]
        }
      ],
      "source": [
        "## Drop the label from the training set now that you saved it\n",
        "TEST_data = TEST_data.drop(\"Label\",  axis=1)\n",
        "## axis = 1 means drop the column. axis = 0 drops a row\n",
        "print(TEST_data)"
      ]
    },
    {
      "cell_type": "markdown",
      "id": "7cb770c5",
      "metadata": {},
      "source": [
        "Now - what do we have?\n",
        "\n",
        "- We have numeric data. \n",
        "- We have three dimensional data (3 variables)\n",
        "- We split our data into a training set and a testing set\n",
        "- We have the labels for each SEPERATELY!\n",
        "\n",
        "# Run the NN"
      ]
    },
    {
      "cell_type": "code",
      "execution_count": 11,
      "id": "d6b9d997",
      "metadata": {},
      "outputs": [],
      "source": [
        "from sklearn.neural_network import MLPClassifier"
      ]
    },
    {
      "cell_type": "markdown",
      "id": "ce284524",
      "metadata": {},
      "source": [
        "## Instantiate your NN with the parameter values you want"
      ]
    },
    {
      "cell_type": "code",
      "execution_count": 12,
      "id": "784de010",
      "metadata": {},
      "outputs": [],
      "source": [
        "MyNN = MLPClassifier(hidden_layer_sizes=(50,80,50), \n",
        "                     max_iter=100,activation = 'relu',solver='adam',random_state=1)"
      ]
    },
    {
      "cell_type": "markdown",
      "id": "e57a4d95",
      "metadata": {},
      "source": [
        "`hidden_layer_sizes` specifies the number of layers (3 there because we have three values in our tuple. )\n",
        "\n",
        "We are also specifying the number of nodes in the hidden layer. \n",
        "\n",
        "## Train the NN Model"
      ]
    },
    {
      "cell_type": "code",
      "execution_count": 13,
      "id": "e3e1e00c",
      "metadata": {},
      "outputs": [
        {
          "name": "stderr",
          "output_type": "stream",
          "text": [
            "c:\\Users\\rokka\\anaconda3\\lib\\site-packages\\sklearn\\neural_network\\_multilayer_perceptron.py:691: ConvergenceWarning: Stochastic Optimizer: Maximum iterations (100) reached and the optimization hasn't converged yet.\n",
            "  warnings.warn(\n"
          ]
        },
        {
          "data": {
            "text/html": [
              "<style>#sk-container-id-1 {color: black;}#sk-container-id-1 pre{padding: 0;}#sk-container-id-1 div.sk-toggleable {background-color: white;}#sk-container-id-1 label.sk-toggleable__label {cursor: pointer;display: block;width: 100%;margin-bottom: 0;padding: 0.3em;box-sizing: border-box;text-align: center;}#sk-container-id-1 label.sk-toggleable__label-arrow:before {content: \"▸\";float: left;margin-right: 0.25em;color: #696969;}#sk-container-id-1 label.sk-toggleable__label-arrow:hover:before {color: black;}#sk-container-id-1 div.sk-estimator:hover label.sk-toggleable__label-arrow:before {color: black;}#sk-container-id-1 div.sk-toggleable__content {max-height: 0;max-width: 0;overflow: hidden;text-align: left;background-color: #f0f8ff;}#sk-container-id-1 div.sk-toggleable__content pre {margin: 0.2em;color: black;border-radius: 0.25em;background-color: #f0f8ff;}#sk-container-id-1 input.sk-toggleable__control:checked~div.sk-toggleable__content {max-height: 200px;max-width: 100%;overflow: auto;}#sk-container-id-1 input.sk-toggleable__control:checked~label.sk-toggleable__label-arrow:before {content: \"▾\";}#sk-container-id-1 div.sk-estimator input.sk-toggleable__control:checked~label.sk-toggleable__label {background-color: #d4ebff;}#sk-container-id-1 div.sk-label input.sk-toggleable__control:checked~label.sk-toggleable__label {background-color: #d4ebff;}#sk-container-id-1 input.sk-hidden--visually {border: 0;clip: rect(1px 1px 1px 1px);clip: rect(1px, 1px, 1px, 1px);height: 1px;margin: -1px;overflow: hidden;padding: 0;position: absolute;width: 1px;}#sk-container-id-1 div.sk-estimator {font-family: monospace;background-color: #f0f8ff;border: 1px dotted black;border-radius: 0.25em;box-sizing: border-box;margin-bottom: 0.5em;}#sk-container-id-1 div.sk-estimator:hover {background-color: #d4ebff;}#sk-container-id-1 div.sk-parallel-item::after {content: \"\";width: 100%;border-bottom: 1px solid gray;flex-grow: 1;}#sk-container-id-1 div.sk-label:hover label.sk-toggleable__label {background-color: #d4ebff;}#sk-container-id-1 div.sk-serial::before {content: \"\";position: absolute;border-left: 1px solid gray;box-sizing: border-box;top: 0;bottom: 0;left: 50%;z-index: 0;}#sk-container-id-1 div.sk-serial {display: flex;flex-direction: column;align-items: center;background-color: white;padding-right: 0.2em;padding-left: 0.2em;position: relative;}#sk-container-id-1 div.sk-item {position: relative;z-index: 1;}#sk-container-id-1 div.sk-parallel {display: flex;align-items: stretch;justify-content: center;background-color: white;position: relative;}#sk-container-id-1 div.sk-item::before, #sk-container-id-1 div.sk-parallel-item::before {content: \"\";position: absolute;border-left: 1px solid gray;box-sizing: border-box;top: 0;bottom: 0;left: 50%;z-index: -1;}#sk-container-id-1 div.sk-parallel-item {display: flex;flex-direction: column;z-index: 1;position: relative;background-color: white;}#sk-container-id-1 div.sk-parallel-item:first-child::after {align-self: flex-end;width: 50%;}#sk-container-id-1 div.sk-parallel-item:last-child::after {align-self: flex-start;width: 50%;}#sk-container-id-1 div.sk-parallel-item:only-child::after {width: 0;}#sk-container-id-1 div.sk-dashed-wrapped {border: 1px dashed gray;margin: 0 0.4em 0.5em 0.4em;box-sizing: border-box;padding-bottom: 0.4em;background-color: white;}#sk-container-id-1 div.sk-label label {font-family: monospace;font-weight: bold;display: inline-block;line-height: 1.2em;}#sk-container-id-1 div.sk-label-container {text-align: center;}#sk-container-id-1 div.sk-container {/* jupyter's `normalize.less` sets `[hidden] { display: none; }` but bootstrap.min.css set `[hidden] { display: none !important; }` so we also need the `!important` here to be able to override the default hidden behavior on the sphinx rendered scikit-learn.org. See: https://github.com/scikit-learn/scikit-learn/issues/21755 */display: inline-block !important;position: relative;}#sk-container-id-1 div.sk-text-repr-fallback {display: none;}</style><div id=\"sk-container-id-1\" class=\"sk-top-container\"><div class=\"sk-text-repr-fallback\"><pre>MLPClassifier(hidden_layer_sizes=(50, 80, 50), max_iter=100, random_state=1)</pre><b>In a Jupyter environment, please rerun this cell to show the HTML representation or trust the notebook. <br />On GitHub, the HTML representation is unable to render, please try loading this page with nbviewer.org.</b></div><div class=\"sk-container\" hidden><div class=\"sk-item\"><div class=\"sk-estimator sk-toggleable\"><input class=\"sk-toggleable__control sk-hidden--visually\" id=\"sk-estimator-id-1\" type=\"checkbox\" checked><label for=\"sk-estimator-id-1\" class=\"sk-toggleable__label sk-toggleable__label-arrow\">MLPClassifier</label><div class=\"sk-toggleable__content\"><pre>MLPClassifier(hidden_layer_sizes=(50, 80, 50), max_iter=100, random_state=1)</pre></div></div></div></div></div>"
            ],
            "text/plain": [
              "MLPClassifier(hidden_layer_sizes=(50, 80, 50), max_iter=100, random_state=1)"
            ]
          },
          "execution_count": 13,
          "metadata": {},
          "output_type": "execute_result"
        }
      ],
      "source": [
        "MyNN.fit(TRAIN_data, Train_Label)"
      ]
    },
    {
      "cell_type": "markdown",
      "id": "5f453e4a",
      "metadata": {},
      "source": [
        "Notice that we give the model the data and the label for the data seperately!\n",
        "\n",
        "## Test the NN Model\n",
        "Now we can use our test data (WITHOUT the label) to see if our model predicts the label. \n",
        "\n",
        "So - the model will predict what it thinks the label should be. \n",
        "\n",
        "We have the labels, so we can check to see which labels the model predicted right and wrong. \n",
        "\n",
        "We will use a confusion matrix for this"
      ]
    },
    {
      "cell_type": "code",
      "execution_count": 14,
      "id": "4f7db8f3",
      "metadata": {},
      "outputs": [],
      "source": [
        "Test_Prediction = MyNN.predict(TEST_data)"
      ]
    },
    {
      "cell_type": "code",
      "execution_count": 15,
      "id": "9c54c61f",
      "metadata": {},
      "outputs": [
        {
          "name": "stdout",
          "output_type": "stream",
          "text": [
            "[2 2 2 1 2 1 1 0]\n"
          ]
        }
      ],
      "source": [
        "print(Test_Prediction)"
      ]
    },
    {
      "cell_type": "code",
      "execution_count": 16,
      "id": "311e47ee",
      "metadata": {},
      "outputs": [
        {
          "name": "stdout",
          "output_type": "stream",
          "text": [
            "23    2\n",
            "17    2\n",
            "15    2\n",
            "6     1\n",
            "10    2\n",
            "27    1\n",
            "7     0\n",
            "24    0\n",
            "Name: Label, dtype: int32\n"
          ]
        }
      ],
      "source": [
        "print(Test_Label)"
      ]
    },
    {
      "cell_type": "markdown",
      "id": "26bbdfad",
      "metadata": {},
      "source": [
        "### Confusion Matrix"
      ]
    },
    {
      "cell_type": "code",
      "execution_count": 17,
      "id": "0da2ca4d",
      "metadata": {},
      "outputs": [
        {
          "name": "stdout",
          "output_type": "stream",
          "text": [
            "[[1 0 0]\n",
            " [1 2 0]\n",
            " [0 0 4]]\n",
            "\n",
            "\n",
            " The accuracy of the sklearn MLPClassifier is:\n",
            "0.875\n"
          ]
        }
      ],
      "source": [
        "from sklearn.metrics import confusion_matrix\n",
        "from sklearn.metrics import accuracy_score, precision_score, recall_score, f1_score\n",
        "\n",
        "#Comparing the predictions against the actual observations \n",
        "MyConfusionMatrix = confusion_matrix(Test_Prediction, Test_Label)\n",
        "print(MyConfusionMatrix)\n",
        "\n",
        "#Printing the accuracy\n",
        "print(\"\\n\\n The accuracy of the sklearn MLPClassifier is:\")\n",
        "print(accuracy_score(Test_Prediction, Test_Label))"
      ]
    }
  ],
  "metadata": {
    "kernelspec": {
      "display_name": "Python 3 (ipykernel)",
      "language": "python",
      "name": "python3"
    },
    "language_info": {
      "codemirror_mode": {
        "name": "ipython",
        "version": 3
      },
      "file_extension": ".py",
      "mimetype": "text/x-python",
      "name": "python",
      "nbconvert_exporter": "python",
      "pygments_lexer": "ipython3",
      "version": "3.8.18"
    }
  },
  "nbformat": 4,
  "nbformat_minor": 5
}
