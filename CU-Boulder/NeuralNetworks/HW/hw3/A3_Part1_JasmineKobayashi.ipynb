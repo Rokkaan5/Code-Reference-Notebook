{
 "cells": [
  {
   "cell_type": "markdown",
   "metadata": {},
   "source": [
    "Module 3 Assignment - Part 1: ANNs in Keras\n",
    "---\n",
    "\n",
    "Use TF/Keras to create a NN that will classify data from this dataset.\n",
    "\n",
    "# Requirements:\n",
    "\n",
    "- Use the Digits MNIST dataset, and TF/Keras (Sequential Model) to build an ANN (not a CNN) that has **exactly three** dense layers with the appropriate activation functions. \n",
    "- Have at least one dropout layer. \n",
    "- You will also need a Flatten layer as well. \n",
    "- You may have other layers if you wish.\n",
    "\n",
    "## Data:\n",
    "<https://keras.io/api/datasets/mnist/>\n",
    "\n",
    "**Hint: Data Access**\n",
    "```\n",
    "Data = tf.keras.datasets.mnist\n",
    "```\n",
    "\n",
    "**Hint2: Code**\n",
    "\n",
    "<https://gatesboltonanalytics.com/?page_id=888>"
   ]
  },
  {
   "cell_type": "markdown",
   "metadata": {},
   "source": [
    "Be sure to choose the appropriate optimizer, loss function, and metrics.\n",
    "\n",
    "To illustrate your work, use your code to create output and visualizations. Then, create a Word Document that takes the reader through the illustrations. These will include a small image of what the raw data looked like. After preparing the data for analysis, include another image of the prepared data (this will include Training data, Training Labels, Testing Data, Testing Labels, Validation Data, and Validation Labels). You can also include an image of what one of the training data matrices looks like - both as a matrix of numbers and as an image, as well as the Label for that data point.\n",
    "\n",
    "(See the code example to clarify this for yourself)\n",
    "\n",
    "Next, you will include your first two and last two epochs as well as visualizations for the Loss and Accuracy over all epochs.\n",
    "\n",
    "Lastly, you will create and will include a Confusion Matrix (pretty) that shows the prediction accuracy of the Test set.\n",
    "\n",
    "There are many examples in the class (Canvas) that will help you with the above. \n",
    "\n",
    "**Warning:** Do not Google this and try to \"find it\". If you do, it will be clear that you used web code. I would prefer that you review the examples and code that I included and then learned to use Keras to do the above. It is OK to look at web examples but in the end, it is a better learning experience if you understand the code you are writing. (This is especially true when preparing for exams and jobs :))\n",
    "\n",
    "**Notes:** There are many ways to accomplish the above. The goal is to read the requirements above and then create a solution that meets and exceeds the base expectations. Think about and look at the data. You are using an ANN here so think about why you need to flatten. When in doubt, illustrate more. When you create your document, imagine that you are giving it to a manager. \n",
    "\n",
    "When you submit, you will submit your code and you Word Doc. Please only use .py or Jupyter for code and ONLY .docx for the Word Doc. "
   ]
  },
  {
   "cell_type": "code",
   "execution_count": null,
   "metadata": {
    "vscode": {
     "languageId": "plaintext"
    }
   },
   "outputs": [],
   "source": []
  }
 ],
 "metadata": {
  "language_info": {
   "name": "python"
  }
 },
 "nbformat": 4,
 "nbformat_minor": 2
}
