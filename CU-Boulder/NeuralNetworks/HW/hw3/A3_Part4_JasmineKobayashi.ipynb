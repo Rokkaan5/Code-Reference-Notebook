{
 "cells": [
  {
   "cell_type": "raw",
   "metadata": {},
   "source": [
    "---\n",
    "title: \"Module 3 Assignment - Part 3: Use TF/Keras to Create RNN and LSTM and Compare Results\"\n",
    "author: Jasmine Kobayashi\n",
    "format:\n",
    "  html:\n",
    "    code-fold: false\n",
    "execute:\n",
    "  output: true\n",
    "toc: true\n",
    "---"
   ]
  },
  {
   "cell_type": "markdown",
   "metadata": {},
   "source": [
    "Module 3 Assignment - Part 4: Use TF/Keras to Create both an RNN and an LSTM and Compare Results\n",
    "---\n",
    "\n",
    "For this part, you can choose any dataset you like. I recommend choosing text data (such as movie reviews: <https://keras.io/api/datasets/imdb/>) and predicting sentiment. However, I will allow you to select any sequential dataset you like as long as it is appropriate for RNNs.\n",
    "\n",
    "Use TF/Keras to create two models. The first will be a simple RNN. The second will be a LSTM model.\n",
    "\n",
    "There are great examples online that you can review and learn from (but not copy :)). You can also have a look at one of my examples that compares ANN, CNN, RNN, and LSTM: <https://gatesboltonanalytics.com/?page_id=903>\n",
    "\n",
    "Just as in Parts 1 and 2 (I will not repeat the requirements again here - but please assume them) you will illustrate your process and results. You will also discuss and illustrate a comparison between the RNN and the LSTM models.\n",
    "\n",
    "---\n"
   ]
  },
  {
   "cell_type": "code",
   "execution_count": 1,
   "metadata": {},
   "outputs": [
    {
     "name": "stderr",
     "output_type": "stream",
     "text": [
      "2023-12-01 05:14:22.594923: I tensorflow/core/util/port.cc:110] oneDNN custom operations are on. You may see slightly different numerical results due to floating-point round-off errors from different computation orders. To turn them off, set the environment variable `TF_ENABLE_ONEDNN_OPTS=0`.\n",
      "2023-12-01 05:14:22.653144: I tensorflow/core/platform/cpu_feature_guard.cc:182] This TensorFlow binary is optimized to use available CPU instructions in performance-critical operations.\n",
      "To enable the following instructions: SSE4.1 SSE4.2 AVX AVX2 AVX512F AVX512_VNNI FMA, in other operations, rebuild TensorFlow with the appropriate compiler flags.\n"
     ]
    }
   ],
   "source": [
    "#libraries\n",
    "import tensorflow as tf\n",
    "from tensorflow import keras\n",
    "from tensorflow.keras import layers\n",
    "from sklearn.model_selection import train_test_split\n",
    "from sklearn.metrics import confusion_matrix\n",
    "from sklearn.preprocessing import StandardScaler,MinMaxScaler\n",
    "import tensorflow.keras\n",
    "from tensorflow.keras.datasets import mnist\n",
    "from tensorflow.keras.models import Sequential\n",
    "from tensorflow.keras.layers import LSTM, Dense, Dropout, LSTM\n",
    "from tensorflow.keras.optimizers import Adam\n",
    "import matplotlib.pyplot as plt\n",
    "from tensorflow.keras import layers\n",
    "import numpy as np\n",
    "import pandas as pd\n",
    "import seaborn as sns"
   ]
  },
  {
   "cell_type": "markdown",
   "metadata": {},
   "source": [
    "# Data\n",
    "\n",
    "I started messing around with the movie data, but ended struggling for a while since I'm less familar about working with text data, etc. So instead, I'm going to be using data from my undergrad research work, which is a time series data: NASA's [OMNI dataset](https://omniweb.gsfc.nasa.gov/).\n",
    "\n",
    "However, one thing to note. The problem I tackle with this data is a **regression problem not a classification problem**. So I won't be outputting a confusion matrix, but I will be sure to use another form of performance evaluation visualization. "
   ]
  },
  {
   "cell_type": "markdown",
   "metadata": {},
   "source": [
    "## Data loading\n",
    "\n",
    "If I submitted as I intended, the csv data should've been included in my submission (titled \"`omni_df.csv`\")"
   ]
  },
  {
   "cell_type": "code",
   "execution_count": 2,
   "metadata": {},
   "outputs": [],
   "source": [
    "omni_df = pd.read_csv('omni_df.csv')"
   ]
  },
  {
   "cell_type": "code",
   "execution_count": 3,
   "metadata": {},
   "outputs": [
    {
     "data": {
      "text/html": [
       "<div>\n",
       "<style scoped>\n",
       "    .dataframe tbody tr th:only-of-type {\n",
       "        vertical-align: middle;\n",
       "    }\n",
       "\n",
       "    .dataframe tbody tr th {\n",
       "        vertical-align: top;\n",
       "    }\n",
       "\n",
       "    .dataframe thead th {\n",
       "        text-align: right;\n",
       "    }\n",
       "</style>\n",
       "<table border=\"1\" class=\"dataframe\">\n",
       "  <thead>\n",
       "    <tr style=\"text-align: right;\">\n",
       "      <th></th>\n",
       "      <th>Epoch</th>\n",
       "      <th>BX_GSE</th>\n",
       "      <th>BY_GSE</th>\n",
       "      <th>BZ_GSE</th>\n",
       "      <th>Vx</th>\n",
       "      <th>Vy</th>\n",
       "      <th>Vz</th>\n",
       "      <th>proton_density</th>\n",
       "      <th>T</th>\n",
       "      <th>AE_INDEX</th>\n",
       "      <th>AL_INDEX</th>\n",
       "      <th>AU_INDEX</th>\n",
       "      <th>SYM_H</th>\n",
       "      <th>ASY_H</th>\n",
       "    </tr>\n",
       "  </thead>\n",
       "  <tbody>\n",
       "    <tr>\n",
       "      <th>0</th>\n",
       "      <td>2000-01-01 00:00:00</td>\n",
       "      <td>-5.94</td>\n",
       "      <td>0.24</td>\n",
       "      <td>-0.15</td>\n",
       "      <td>NaN</td>\n",
       "      <td>NaN</td>\n",
       "      <td>NaN</td>\n",
       "      <td>NaN</td>\n",
       "      <td>NaN</td>\n",
       "      <td>668.0</td>\n",
       "      <td>-486.0</td>\n",
       "      <td>182.0</td>\n",
       "      <td>-44.0</td>\n",
       "      <td>48.0</td>\n",
       "    </tr>\n",
       "    <tr>\n",
       "      <th>1</th>\n",
       "      <td>2000-01-01 00:01:00</td>\n",
       "      <td>-5.88</td>\n",
       "      <td>2.17</td>\n",
       "      <td>0.53</td>\n",
       "      <td>-662.6</td>\n",
       "      <td>7.3</td>\n",
       "      <td>-46.5</td>\n",
       "      <td>3.12</td>\n",
       "      <td>343841.0</td>\n",
       "      <td>638.0</td>\n",
       "      <td>-487.0</td>\n",
       "      <td>151.0</td>\n",
       "      <td>-45.0</td>\n",
       "      <td>48.0</td>\n",
       "    </tr>\n",
       "    <tr>\n",
       "      <th>2</th>\n",
       "      <td>2000-01-01 00:02:00</td>\n",
       "      <td>-5.71</td>\n",
       "      <td>3.23</td>\n",
       "      <td>1.44</td>\n",
       "      <td>-661.4</td>\n",
       "      <td>2.4</td>\n",
       "      <td>-46.3</td>\n",
       "      <td>3.24</td>\n",
       "      <td>326583.0</td>\n",
       "      <td>666.0</td>\n",
       "      <td>-527.0</td>\n",
       "      <td>139.0</td>\n",
       "      <td>-45.0</td>\n",
       "      <td>48.0</td>\n",
       "    </tr>\n",
       "    <tr>\n",
       "      <th>3</th>\n",
       "      <td>2000-01-01 00:03:00</td>\n",
       "      <td>-5.33</td>\n",
       "      <td>3.80</td>\n",
       "      <td>1.84</td>\n",
       "      <td>-659.8</td>\n",
       "      <td>-8.4</td>\n",
       "      <td>-56.2</td>\n",
       "      <td>3.11</td>\n",
       "      <td>306470.0</td>\n",
       "      <td>615.0</td>\n",
       "      <td>-474.0</td>\n",
       "      <td>141.0</td>\n",
       "      <td>-45.0</td>\n",
       "      <td>48.0</td>\n",
       "    </tr>\n",
       "    <tr>\n",
       "      <th>4</th>\n",
       "      <td>2000-01-01 00:04:00</td>\n",
       "      <td>NaN</td>\n",
       "      <td>NaN</td>\n",
       "      <td>NaN</td>\n",
       "      <td>NaN</td>\n",
       "      <td>NaN</td>\n",
       "      <td>NaN</td>\n",
       "      <td>NaN</td>\n",
       "      <td>NaN</td>\n",
       "      <td>554.0</td>\n",
       "      <td>-418.0</td>\n",
       "      <td>136.0</td>\n",
       "      <td>-45.0</td>\n",
       "      <td>47.0</td>\n",
       "    </tr>\n",
       "  </tbody>\n",
       "</table>\n",
       "</div>"
      ],
      "text/plain": [
       "                 Epoch  BX_GSE  BY_GSE  BZ_GSE     Vx   Vy    Vz  \\\n",
       "0  2000-01-01 00:00:00   -5.94    0.24   -0.15    NaN  NaN   NaN   \n",
       "1  2000-01-01 00:01:00   -5.88    2.17    0.53 -662.6  7.3 -46.5   \n",
       "2  2000-01-01 00:02:00   -5.71    3.23    1.44 -661.4  2.4 -46.3   \n",
       "3  2000-01-01 00:03:00   -5.33    3.80    1.84 -659.8 -8.4 -56.2   \n",
       "4  2000-01-01 00:04:00     NaN     NaN     NaN    NaN  NaN   NaN   \n",
       "\n",
       "   proton_density         T  AE_INDEX  AL_INDEX  AU_INDEX  SYM_H  ASY_H  \n",
       "0             NaN       NaN     668.0    -486.0     182.0  -44.0   48.0  \n",
       "1            3.12  343841.0     638.0    -487.0     151.0  -45.0   48.0  \n",
       "2            3.24  326583.0     666.0    -527.0     139.0  -45.0   48.0  \n",
       "3            3.11  306470.0     615.0    -474.0     141.0  -45.0   48.0  \n",
       "4             NaN       NaN     554.0    -418.0     136.0  -45.0   47.0  "
      ]
     },
     "execution_count": 3,
     "metadata": {},
     "output_type": "execute_result"
    }
   ],
   "source": [
    "omni_df.head()"
   ]
  },
  {
   "cell_type": "markdown",
   "metadata": {},
   "source": [
    "## EDA\n",
    "\n",
    "### Data columns and their meanings:\n",
    "\n",
    "**JK Note to TAs:** It's not crucial to this work for you to understand these for the purposes of this assignment, but just in case it might be helpful. \n",
    "\n",
    "Can also refer to their [about OMNI data page](https://omniweb.gsfc.nasa.gov/html/ow_data.html)\n",
    "\n",
    "Essentially this is all solar wind data\n",
    "\n",
    "- `Epoch`: Date and Time (datetime index)\n",
    "- Interplanetary Magnetic Field (units = nano-Teslas (nT))\n",
    "    - `BX_GSE`: x-component of Magnetic Field in [GSE coordinate system](https://www.spenvis.oma.be/help/background/coortran/coortran.html#GSE) \n",
    "    - `BY_GSE`: y-component of Magnetic Field in GSE coordinate system\n",
    "    - `BX_GSE`: z-component of Magnetic Field in GSE coordinate system\n",
    "- Solar Wind velocity (km/sec)\n",
    "    - `Vx`: Solar wind velocity in x\n",
    "    - `Vy`: Solar wind velocity in y\n",
    "    - `Vz`: Solar wind velocity in z\n",
    "- `proton_density`: Proton density in the solar wind (n/cc)\n",
    "- `T`: Temperature (K)\n",
    "- Geomagnetic Indices \n",
    "    - all units = nano Teslas (nT)\n",
    "    - [Auroral Electrojet](https://www.ncei.noaa.gov/access/metadata/landing-page/bin/iso?id=gov.noaa.ngdc.stp.indices:G00584#:~:text=The%20AU%20and%20AL%20indices%20are%20intended%20to%20express%20the,Show%20more...)\n",
    "        - `AE_INDEX`: Auroral Electrojet Index (AE = AU-AL)\n",
    "        - `AU_INDEX`: Auroral Electrojet upper\n",
    "        - `AL_INDEX`: Auroral Electrojet lower\n",
    "    - [SYM/ASY H](https://wdc.kugi.kyoto-u.ac.jp/aeasy/asy.pdf)\n",
    "        - `SYM_H`: Longitudinally symmetric disturbance of geomagnetic H-component\n",
    "            - Sym-H is the same is the [Dst Index](https://www.ngdc.noaa.gov/stp/geomag/dst.html), but at higher resolution\n",
    "        - `ASY_H`: Longitudinally asymmetric disturbance of geomagnetic H-component\n",
    "\n"
   ]
  },
  {
   "cell_type": "markdown",
   "metadata": {},
   "source": [
    "For my purposes the features (predictor variables, model input, etc. however you want to call it) are:\n",
    "`BX_GSE`, `BY_GSE`, `BZ_GSE`, `AE_INDEX`, `AL_INDEX`, `AU_INDEX`, `SYM_H`, `ASY_H`\n",
    "\n",
    "And the targets (\"label\", the model output, etc.) are: `Vx`, `Vy`, `Vz`, `proton_density`, `T`"
   ]
  },
  {
   "cell_type": "code",
   "execution_count": 4,
   "metadata": {},
   "outputs": [
    {
     "data": {
      "text/html": [
       "<div>\n",
       "<style scoped>\n",
       "    .dataframe tbody tr th:only-of-type {\n",
       "        vertical-align: middle;\n",
       "    }\n",
       "\n",
       "    .dataframe tbody tr th {\n",
       "        vertical-align: top;\n",
       "    }\n",
       "\n",
       "    .dataframe thead th {\n",
       "        text-align: right;\n",
       "    }\n",
       "</style>\n",
       "<table border=\"1\" class=\"dataframe\">\n",
       "  <thead>\n",
       "    <tr style=\"text-align: right;\">\n",
       "      <th></th>\n",
       "      <th>BX_GSE</th>\n",
       "      <th>BY_GSE</th>\n",
       "      <th>BZ_GSE</th>\n",
       "      <th>Vx</th>\n",
       "      <th>Vy</th>\n",
       "      <th>Vz</th>\n",
       "      <th>proton_density</th>\n",
       "      <th>T</th>\n",
       "      <th>AE_INDEX</th>\n",
       "      <th>AL_INDEX</th>\n",
       "      <th>AU_INDEX</th>\n",
       "      <th>SYM_H</th>\n",
       "      <th>ASY_H</th>\n",
       "    </tr>\n",
       "  </thead>\n",
       "  <tbody>\n",
       "    <tr>\n",
       "      <th>count</th>\n",
       "      <td>8.888632e+06</td>\n",
       "      <td>8.888632e+06</td>\n",
       "      <td>8.888632e+06</td>\n",
       "      <td>7.679877e+06</td>\n",
       "      <td>7.679877e+06</td>\n",
       "      <td>7.679877e+06</td>\n",
       "      <td>7.679877e+06</td>\n",
       "      <td>7.673164e+06</td>\n",
       "      <td>9.552960e+06</td>\n",
       "      <td>9.552960e+06</td>\n",
       "      <td>9.552960e+06</td>\n",
       "      <td>9.552960e+06</td>\n",
       "      <td>9.552960e+06</td>\n",
       "    </tr>\n",
       "    <tr>\n",
       "      <th>mean</th>\n",
       "      <td>2.586364e-03</td>\n",
       "      <td>5.997560e-02</td>\n",
       "      <td>2.418269e-03</td>\n",
       "      <td>-4.353644e+02</td>\n",
       "      <td>-1.359368e+00</td>\n",
       "      <td>-2.238432e+00</td>\n",
       "      <td>5.999525e+00</td>\n",
       "      <td>9.880642e+04</td>\n",
       "      <td>1.792767e+02</td>\n",
       "      <td>-1.114364e+02</td>\n",
       "      <td>6.784032e+01</td>\n",
       "      <td>-1.203162e+01</td>\n",
       "      <td>2.011680e+01</td>\n",
       "    </tr>\n",
       "    <tr>\n",
       "      <th>std</th>\n",
       "      <td>3.660013e+00</td>\n",
       "      <td>4.227383e+00</td>\n",
       "      <td>3.395529e+00</td>\n",
       "      <td>1.053745e+02</td>\n",
       "      <td>2.552232e+01</td>\n",
       "      <td>2.266174e+01</td>\n",
       "      <td>4.988173e+00</td>\n",
       "      <td>9.744486e+04</td>\n",
       "      <td>2.102548e+02</td>\n",
       "      <td>1.550540e+02</td>\n",
       "      <td>7.383967e+01</td>\n",
       "      <td>1.971669e+01</td>\n",
       "      <td>1.593993e+01</td>\n",
       "    </tr>\n",
       "    <tr>\n",
       "      <th>min</th>\n",
       "      <td>-4.951000e+01</td>\n",
       "      <td>-5.109000e+01</td>\n",
       "      <td>-6.064000e+01</td>\n",
       "      <td>-1.136500e+03</td>\n",
       "      <td>-8.649000e+02</td>\n",
       "      <td>-3.104000e+02</td>\n",
       "      <td>3.000000e-02</td>\n",
       "      <td>5.430000e+02</td>\n",
       "      <td>1.000000e+00</td>\n",
       "      <td>-4.141000e+03</td>\n",
       "      <td>-9.750000e+02</td>\n",
       "      <td>-4.900000e+02</td>\n",
       "      <td>0.000000e+00</td>\n",
       "    </tr>\n",
       "    <tr>\n",
       "      <th>25%</th>\n",
       "      <td>-2.650000e+00</td>\n",
       "      <td>-2.670000e+00</td>\n",
       "      <td>-1.730000e+00</td>\n",
       "      <td>-4.948000e+02</td>\n",
       "      <td>-1.630000e+01</td>\n",
       "      <td>-1.490000e+01</td>\n",
       "      <td>3.000000e+00</td>\n",
       "      <td>3.551900e+04</td>\n",
       "      <td>4.200000e+01</td>\n",
       "      <td>-1.470000e+02</td>\n",
       "      <td>1.900000e+01</td>\n",
       "      <td>-1.900000e+01</td>\n",
       "      <td>1.100000e+01</td>\n",
       "    </tr>\n",
       "    <tr>\n",
       "      <th>50%</th>\n",
       "      <td>0.000000e+00</td>\n",
       "      <td>2.000000e-02</td>\n",
       "      <td>0.000000e+00</td>\n",
       "      <td>-4.126000e+02</td>\n",
       "      <td>-3.500000e+00</td>\n",
       "      <td>-2.100000e+00</td>\n",
       "      <td>4.600000e+00</td>\n",
       "      <td>7.002000e+04</td>\n",
       "      <td>9.300000e+01</td>\n",
       "      <td>-4.500000e+01</td>\n",
       "      <td>4.100000e+01</td>\n",
       "      <td>-9.000000e+00</td>\n",
       "      <td>1.600000e+01</td>\n",
       "    </tr>\n",
       "    <tr>\n",
       "      <th>75%</th>\n",
       "      <td>2.630000e+00</td>\n",
       "      <td>2.760000e+00</td>\n",
       "      <td>1.730000e+00</td>\n",
       "      <td>-3.556000e+02</td>\n",
       "      <td>1.140000e+01</td>\n",
       "      <td>1.020000e+01</td>\n",
       "      <td>7.240000e+00</td>\n",
       "      <td>1.308720e+05</td>\n",
       "      <td>2.400000e+02</td>\n",
       "      <td>-1.800000e+01</td>\n",
       "      <td>9.000000e+01</td>\n",
       "      <td>-1.000000e+00</td>\n",
       "      <td>2.400000e+01</td>\n",
       "    </tr>\n",
       "    <tr>\n",
       "      <th>max</th>\n",
       "      <td>3.995000e+01</td>\n",
       "      <td>5.509000e+01</td>\n",
       "      <td>6.438000e+01</td>\n",
       "      <td>-9.340000e+01</td>\n",
       "      <td>3.291000e+02</td>\n",
       "      <td>4.516000e+02</td>\n",
       "      <td>8.095000e+01</td>\n",
       "      <td>7.617765e+06</td>\n",
       "      <td>4.192000e+03</td>\n",
       "      <td>7.900000e+01</td>\n",
       "      <td>2.063000e+03</td>\n",
       "      <td>1.510000e+02</td>\n",
       "      <td>9.840000e+02</td>\n",
       "    </tr>\n",
       "  </tbody>\n",
       "</table>\n",
       "</div>"
      ],
      "text/plain": [
       "             BX_GSE        BY_GSE        BZ_GSE            Vx            Vy  \\\n",
       "count  8.888632e+06  8.888632e+06  8.888632e+06  7.679877e+06  7.679877e+06   \n",
       "mean   2.586364e-03  5.997560e-02  2.418269e-03 -4.353644e+02 -1.359368e+00   \n",
       "std    3.660013e+00  4.227383e+00  3.395529e+00  1.053745e+02  2.552232e+01   \n",
       "min   -4.951000e+01 -5.109000e+01 -6.064000e+01 -1.136500e+03 -8.649000e+02   \n",
       "25%   -2.650000e+00 -2.670000e+00 -1.730000e+00 -4.948000e+02 -1.630000e+01   \n",
       "50%    0.000000e+00  2.000000e-02  0.000000e+00 -4.126000e+02 -3.500000e+00   \n",
       "75%    2.630000e+00  2.760000e+00  1.730000e+00 -3.556000e+02  1.140000e+01   \n",
       "max    3.995000e+01  5.509000e+01  6.438000e+01 -9.340000e+01  3.291000e+02   \n",
       "\n",
       "                 Vz  proton_density             T      AE_INDEX      AL_INDEX  \\\n",
       "count  7.679877e+06    7.679877e+06  7.673164e+06  9.552960e+06  9.552960e+06   \n",
       "mean  -2.238432e+00    5.999525e+00  9.880642e+04  1.792767e+02 -1.114364e+02   \n",
       "std    2.266174e+01    4.988173e+00  9.744486e+04  2.102548e+02  1.550540e+02   \n",
       "min   -3.104000e+02    3.000000e-02  5.430000e+02  1.000000e+00 -4.141000e+03   \n",
       "25%   -1.490000e+01    3.000000e+00  3.551900e+04  4.200000e+01 -1.470000e+02   \n",
       "50%   -2.100000e+00    4.600000e+00  7.002000e+04  9.300000e+01 -4.500000e+01   \n",
       "75%    1.020000e+01    7.240000e+00  1.308720e+05  2.400000e+02 -1.800000e+01   \n",
       "max    4.516000e+02    8.095000e+01  7.617765e+06  4.192000e+03  7.900000e+01   \n",
       "\n",
       "           AU_INDEX         SYM_H         ASY_H  \n",
       "count  9.552960e+06  9.552960e+06  9.552960e+06  \n",
       "mean   6.784032e+01 -1.203162e+01  2.011680e+01  \n",
       "std    7.383967e+01  1.971669e+01  1.593993e+01  \n",
       "min   -9.750000e+02 -4.900000e+02  0.000000e+00  \n",
       "25%    1.900000e+01 -1.900000e+01  1.100000e+01  \n",
       "50%    4.100000e+01 -9.000000e+00  1.600000e+01  \n",
       "75%    9.000000e+01 -1.000000e+00  2.400000e+01  \n",
       "max    2.063000e+03  1.510000e+02  9.840000e+02  "
      ]
     },
     "execution_count": 4,
     "metadata": {},
     "output_type": "execute_result"
    }
   ],
   "source": [
    "omni_df.describe()"
   ]
  },
  {
   "cell_type": "markdown",
   "metadata": {},
   "source": [
    "## Data Cleaning"
   ]
  },
  {
   "cell_type": "code",
   "execution_count": 5,
   "metadata": {},
   "outputs": [
    {
     "data": {
      "text/plain": [
       "Epoch                   0\n",
       "BX_GSE             664328\n",
       "BY_GSE             664328\n",
       "BZ_GSE             664328\n",
       "Vx                1873083\n",
       "Vy                1873083\n",
       "Vz                1873083\n",
       "proton_density    1873083\n",
       "T                 1879796\n",
       "AE_INDEX                0\n",
       "AL_INDEX                0\n",
       "AU_INDEX                0\n",
       "SYM_H                   0\n",
       "ASY_H                   0\n",
       "dtype: int64"
      ]
     },
     "execution_count": 5,
     "metadata": {},
     "output_type": "execute_result"
    }
   ],
   "source": [
    "# number of missing values in each column\n",
    "omni_df.isnull().sum()"
   ]
  },
  {
   "cell_type": "markdown",
   "metadata": {},
   "source": [
    "The data clearly has some missing values, so we'll use the I'll combat by interpolating the input parameters, and dropping the other rows with missing target values. Can do so with the `interpolate_input()` function I defined below.\n",
    "\n",
    "(The following is the same code I used to clean my data for work.)"
   ]
  },
  {
   "cell_type": "code",
   "execution_count": 6,
   "metadata": {},
   "outputs": [],
   "source": [
    "def interpolate_input(df,features,targets,interpolation_method = 'linear',has_time_col=True,\n",
    "                      drop_target_nan=True,includes_TH=False,th_len=15,include_target_th = False):\n",
    "    \n",
    "    #Creating X and y df from Time History data th_df (if applicable)-----------------------------------------------\n",
    "    if includes_TH:\n",
    "        X_col = []\n",
    "        y_col =[]\n",
    "        \n",
    "        for f in features:\n",
    "            for i in range(0,th_len+1):\n",
    "                X_col.append(f+'_m{}'.format(i))\n",
    "        if include_target_th:\n",
    "            for tt in targets:\n",
    "                for j in range(1,th_len+1):\n",
    "                    X_col.append(tt+'_m{}'.format(j))\n",
    "        for tt in targets:\n",
    "            y_col.append(tt+'_m0')\n",
    "            \n",
    "        features = X_col\n",
    "        targets =y_col\n",
    "    #---------------------------------------------------------------------------------------------------------------    \n",
    "    \n",
    "    \n",
    "    #separate df into features only & targets only dataframes========================================================\n",
    "    \n",
    "    feat_df = df[features].astype('float32')\n",
    "    targ_df = df[targets].astype('float32')\n",
    "    if has_time_col:\n",
    "        if includes_TH:\n",
    "            time = df['time']\n",
    "        else:\n",
    "            time = df['Epoch']      #may want to change this so it doesn't only for dfs with column = 'Epoch'\n",
    "    \n",
    "    #interpolate features-only dataframe==============================================================================\n",
    "    interpolated_feat_df = feat_df.interpolate(interpolation_method)    #if method not specified when function \n",
    "                                                                        # is passed, defaults to linear interpolation\n",
    "    #combine df's together again=====================================================================================\n",
    "    if has_time_col:\n",
    "        concat_df = pd.concat([time,interpolated_feat_df,targ_df],axis=1)\n",
    "    else:\n",
    "        concat_df = pd.concat([interpolated_feat_df,targ_df],axis=1)\n",
    "        \n",
    "    print(\"New df with interpolated input created\")\n",
    "    # TO drop or NOT to drop... the nan of target parameters---------------------------------------------------------\n",
    "    if drop_target_nan:\n",
    "        new_df = concat_df.dropna()\n",
    "        print(\"Target Nan's were dropped (no missing values in df;can be used for model training & testing)\")\n",
    "    else:\n",
    "        new_df = concat_df\n",
    "        print(\"Target NaN's were NOT dropped (dataframe still contains missing values)\")\n",
    "    \n",
    "        \n",
    "    return new_df"
   ]
  },
  {
   "cell_type": "code",
   "execution_count": 7,
   "metadata": {},
   "outputs": [],
   "source": [
    "features = ['BX_GSE','BY_GSE','BZ_GSE','AE_INDEX','AL_INDEX','AU_INDEX','SYM_H','ASY_H']\n",
    "targets = ['Vx']"
   ]
  },
  {
   "cell_type": "code",
   "execution_count": 8,
   "metadata": {},
   "outputs": [
    {
     "name": "stdout",
     "output_type": "stream",
     "text": [
      "New df with interpolated input created\n",
      "Target Nan's were dropped (no missing values in df;can be used for model training & testing)\n"
     ]
    }
   ],
   "source": [
    "df = interpolate_input(omni_df,features=features,\n",
    "                  targets=targets, \n",
    "                  has_time_col=True,\n",
    "                  drop_target_nan=True,\n",
    "                  includes_TH=False)"
   ]
  },
  {
   "cell_type": "code",
   "execution_count": 9,
   "metadata": {},
   "outputs": [
    {
     "data": {
      "text/plain": [
       "Epoch       0\n",
       "BX_GSE      0\n",
       "BY_GSE      0\n",
       "BZ_GSE      0\n",
       "AE_INDEX    0\n",
       "AL_INDEX    0\n",
       "AU_INDEX    0\n",
       "SYM_H       0\n",
       "ASY_H       0\n",
       "Vx          0\n",
       "dtype: int64"
      ]
     },
     "execution_count": 9,
     "metadata": {},
     "output_type": "execute_result"
    }
   ],
   "source": [
    "df.isnull().sum()"
   ]
  },
  {
   "cell_type": "markdown",
   "metadata": {},
   "source": [
    "Viola! No more missing data"
   ]
  },
  {
   "cell_type": "markdown",
   "metadata": {},
   "source": [
    "### Training and Testing sets\n",
    "\n",
    "The following is also code directly from my work code (so there might be some uneccessary things)."
   ]
  },
  {
   "cell_type": "code",
   "execution_count": 10,
   "metadata": {},
   "outputs": [],
   "source": [
    "def train_test_dataframes(df,features,targets,split_type='random',test_size=0.2,scale=None,\n",
    "                          includes_TH=False,th_len=15,include_target_th = False):\n",
    "    \n",
    "    #Creating X and y df from Time History data th_df (if applicable)-----------------------------------------------\n",
    "    if includes_TH:\n",
    "        X_col = []\n",
    "        y_col =[]\n",
    "        \n",
    "        for f in features:\n",
    "            for i in range(0,th_len+1):\n",
    "                X_col.append(f+'_m{}'.format(i))\n",
    "        if include_target_th:\n",
    "            for tt in targets:\n",
    "                for j in range(1,th_len+1):\n",
    "                    X_col.append(tt+'_m{}'.format(j))\n",
    "        for tt in targets:\n",
    "            y_col.append(tt+'_m0')\n",
    "    else:\n",
    "        X_col = features\n",
    "        y_col = targets\n",
    "    #--------------------------------------------------------------------------------------------------------------- \n",
    "    \n",
    "    X = df[X_col].astype('float32')\n",
    "    y = df[y_col].astype('float32')\n",
    "    \n",
    "    # Training-Test Split=====================================================\n",
    "    #(Random) Train-Test Split-----------------------------------------------\n",
    "    X_train,X_test,y_train,y_test = train_test_split(X,y,test_size= test_size,random_state=123)\n",
    "    split = 'Random split'\n",
    "        \n",
    "    # (Sequential) Train-Test Split------------------------------------------\n",
    "    if split_type == 'sequential':\n",
    "    \n",
    "        train_size = 1-test_size\n",
    "        \n",
    "        X_train = X[:int(train_size*len(X))]   #values up to % indicated by train_size\n",
    "        X_test = X[int(train_size*len(X)):]    #remaining sequential values from X\n",
    "        y_train = y[:int(train_size*len(y))]\n",
    "        y_test = y[int(train_size*len(y)):]\n",
    "        \n",
    "        split = 'Sequential split'\n",
    "    # Print split type--------------------------------------------------------\n",
    "    print('Train-Test split was:', split)\n",
    "    \n",
    "    #Scaling==================================================================\n",
    "    if scale is not None:\n",
    "        scaler = scale\n",
    "        X_train = scaler.fit_transform(X_train)\n",
    "        X_test = scaler.transform(X_test)\n",
    "        print('X_train & X_test have been scaled using {}'.format(str(scale)))\n",
    "    else:\n",
    "        print('X_train & X_test are not scaled')\n",
    "        \n",
    "    print('Dataframes are complete')  \n",
    "\n",
    "    y_train = y_train.to_numpy()\n",
    "    y_test = y_test.to_numpy()\n",
    "    \n",
    "    return X_train,X_test,y_train,y_test\n",
    "\n"
   ]
  },
  {
   "cell_type": "code",
   "execution_count": 11,
   "metadata": {},
   "outputs": [
    {
     "name": "stdout",
     "output_type": "stream",
     "text": [
      "Train-Test split was: Sequential split\n",
      "X_train & X_test have been scaled using MinMaxScaler()\n",
      "Dataframes are complete\n"
     ]
    }
   ],
   "source": [
    "X_train,X_test,y_train,y_test = train_test_dataframes(df,\n",
    "                      features=features,\n",
    "                      targets=targets,\n",
    "                      split_type='sequential',\n",
    "                      test_size=0.2,\n",
    "                      scale=MinMaxScaler(),\n",
    "                      includes_TH=False)"
   ]
  },
  {
   "cell_type": "markdown",
   "metadata": {},
   "source": [
    "### Data Shapes"
   ]
  },
  {
   "cell_type": "code",
   "execution_count": 12,
   "metadata": {},
   "outputs": [
    {
     "name": "stdout",
     "output_type": "stream",
     "text": [
      "X_train shape: (6143901, 8)\n",
      "y_train shape: (6143901, 1)\n",
      "X_test shape: (1535976, 8)\n",
      "y_test shape: (1535976, 1)\n"
     ]
    }
   ],
   "source": [
    "print(\"X_train shape:\",X_train.shape)\n",
    "print(\"y_train shape:\",y_train.shape)\n",
    "print(\"X_test shape:\",X_test.shape)\n",
    "print(\"y_test shape:\",y_test.shape)"
   ]
  },
  {
   "cell_type": "markdown",
   "metadata": {},
   "source": [
    "# RNN Model"
   ]
  },
  {
   "cell_type": "code",
   "execution_count": 14,
   "metadata": {},
   "outputs": [
    {
     "name": "stderr",
     "output_type": "stream",
     "text": [
      "2023-12-01 05:14:57.650430: E tensorflow/compiler/xla/stream_executor/cuda/cuda_driver.cc:266] failed call to cuInit: UNKNOWN ERROR (100)\n"
     ]
    },
    {
     "name": "stdout",
     "output_type": "stream",
     "text": [
      "Model: \"sequential\"\n",
      "_________________________________________________________________\n",
      " Layer (type)                Output Shape              Param #   \n",
      "=================================================================\n",
      " embedding (Embedding)       (None, 8, 128)            1920      \n",
      "                                                                 \n",
      " simple_rnn (SimpleRNN)      (None, 50)                8950      \n",
      "                                                                 \n",
      " dense (Dense)               (None, 32)                1632      \n",
      "                                                                 \n",
      " dense_1 (Dense)             (None, 25)                825       \n",
      "                                                                 \n",
      " dense_2 (Dense)             (None, 1)                 26        \n",
      "                                                                 \n",
      "=================================================================\n",
      "Total params: 13,353\n",
      "Trainable params: 13,353\n",
      "Non-trainable params: 0\n",
      "_________________________________________________________________\n"
     ]
    }
   ],
   "source": [
    "RNN_Model = tf.keras.models.Sequential([\n",
    "  tf.keras.layers.Embedding(input_dim=15, output_dim=128, input_length=8),\n",
    "  tf.keras.layers.SimpleRNN(units =50),\n",
    "  ## If not using Embedding, you would use SimpleRNN(units, input_shape=(x,y))\n",
    "  tf.keras.layers.Dense(32,activation='linear'),\n",
    "  tf.keras.layers.Dense(25,activation='linear'),\n",
    "  tf.keras.layers.Dense(1, activation='linear')\n",
    "])\n",
    "RNN_Model.summary()"
   ]
  },
  {
   "cell_type": "code",
   "execution_count": 15,
   "metadata": {},
   "outputs": [],
   "source": [
    "loss_function = tf.keras.losses.MeanSquaredError()\n",
    "adam = tf.keras.optimizers.legacy.Adam(learning_rate=0.01)\n",
    "accuracy = keras.metrics.Accuracy()\n",
    "RNN_Model.compile(\n",
    "                 loss=loss_function,\n",
    "                 metrics=[accuracy],\n",
    "                 optimizer=adam\n",
    "                 )"
   ]
  },
  {
   "cell_type": "code",
   "execution_count": 16,
   "metadata": {},
   "outputs": [
    {
     "name": "stdout",
     "output_type": "stream",
     "text": [
      "Epoch 1/5\n",
      "1229/1229 [==============================] - 137s 108ms/step - loss: 13077.6484 - accuracy: 0.0000e+00 - val_loss: 9769.1123 - val_accuracy: 0.0000e+00\n",
      "Epoch 2/5\n",
      "1229/1229 [==============================] - 129s 105ms/step - loss: 11455.3564 - accuracy: 1.6276e-07 - val_loss: 9731.5137 - val_accuracy: 0.0000e+00\n",
      "Epoch 3/5\n",
      "1229/1229 [==============================] - 136s 111ms/step - loss: 11461.5820 - accuracy: 0.0000e+00 - val_loss: 9723.2129 - val_accuracy: 0.0000e+00\n",
      "Epoch 4/5\n",
      "1229/1229 [==============================] - 136s 111ms/step - loss: 11464.7051 - accuracy: 0.0000e+00 - val_loss: 9854.2178 - val_accuracy: 0.0000e+00\n",
      "Epoch 5/5\n",
      "1229/1229 [==============================] - 138s 112ms/step - loss: 11466.3037 - accuracy: 1.1393e-06 - val_loss: 9725.4590 - val_accuracy: 0.0000e+00\n",
      "CPU times: user 29min 33s, sys: 5min 16s, total: 34min 49s\n",
      "Wall time: 11min 17s\n"
     ]
    }
   ],
   "source": [
    "%%time\n",
    "Hist=RNN_Model.fit(X_train,y_train, epochs=5, validation_data=(X_test, y_test),batch_size=5000)"
   ]
  },
  {
   "cell_type": "markdown",
   "metadata": {},
   "source": [
    "## Evaluate Model\n",
    "\n",
    "### Loss & Accuracy vs. Epoch plots"
   ]
  },
  {
   "cell_type": "code",
   "execution_count": 19,
   "metadata": {},
   "outputs": [
    {
     "data": {
      "text/plain": [
       "<matplotlib.legend.Legend at 0x7f074b889ed0>"
      ]
     },
     "execution_count": 19,
     "metadata": {},
     "output_type": "execute_result"
    },
    {
     "data": {
      "image/png": "[encoded data removed]",
      "text/plain": [
       "<Figure size 640x480 with 1 Axes>"
      ]
     },
     "metadata": {},
     "output_type": "display_data"
    }
   ],
   "source": [
    "# Accuracy plot\n",
    "plt.plot(Hist.history['accuracy'], label='accuracy')\n",
    "plt.plot(Hist.history['val_accuracy'], label = 'val_accuracy')\n",
    "plt.xlabel('Epoch')\n",
    "plt.ylabel('Accuracy')\n",
    "plt.title(\"NN HW3-Part2 Accuracy over all Epochs\")\n",
    "\n",
    "#plt.ylim([0.5, 1])\n",
    "plt.legend(loc='lower right')"
   ]
  },
  {
   "cell_type": "code",
   "execution_count": 20,
   "metadata": {},
   "outputs": [
    {
     "data": {
      "text/plain": [
       "<matplotlib.legend.Legend at 0x7f0734452010>"
      ]
     },
     "execution_count": 20,
     "metadata": {},
     "output_type": "execute_result"
    },
    {
     "data": {
      "image/png": "[encoded data removed]",
      "text/plain": [
       "<Figure size 640x480 with 1 Axes>"
      ]
     },
     "metadata": {},
     "output_type": "display_data"
    }
   ],
   "source": [
    "# Loss plot\n",
    "plt.plot(Hist.history['loss'], label='loss')\n",
    "plt.plot(Hist.history['val_loss'], label = 'val_loss')\n",
    "plt.xlabel('Epoch')\n",
    "plt.ylabel('Loss')\n",
    "plt.title(\"NN HW3-Part2 Loss over all Epochs\")\n",
    "#plt.ylim([0.5, 1])\n",
    "plt.legend(loc='lower right')"
   ]
  },
  {
   "cell_type": "code",
   "execution_count": 23,
   "metadata": {},
   "outputs": [
    {
     "name": "stdout",
     "output_type": "stream",
     "text": [
      "308/308 [==============================] - 12s 40ms/step - loss: 9725.4590 - accuracy: 0.0000e+00\n"
     ]
    }
   ],
   "source": [
    "Eval_Loss, Eval_Accuracy = RNN_Model.evaluate(X_test, y_test,batch_size=5000)"
   ]
  },
  {
   "cell_type": "markdown",
   "metadata": {},
   "source": [
    "### Test Model with Predictions"
   ]
  },
  {
   "cell_type": "code",
   "execution_count": 24,
   "metadata": {},
   "outputs": [
    {
     "name": "stdout",
     "output_type": "stream",
     "text": [
      "  3/308 [..............................] - ETA: 13s"
     ]
    },
    {
     "name": "stdout",
     "output_type": "stream",
     "text": [
      "308/308 [==============================] - 13s 41ms/step\n"
     ]
    }
   ],
   "source": [
    "pred = RNN_Model.predict(X_test,batch_size=5000)"
   ]
  },
  {
   "cell_type": "code",
   "execution_count": 25,
   "metadata": {},
   "outputs": [
    {
     "name": "stdout",
     "output_type": "stream",
     "text": [
      "Prediction for X_test[5]: [-434.3235]\n",
      "\n",
      " Label for X_test[5] (y_test[5]): [-430.3]\n"
     ]
    }
   ],
   "source": [
    "# Preview results\n",
    "i = 5   # index to check\n",
    "print(\"Prediction for X_test[{}]:\".format(i),pred[i])\n",
    "print(\"\\n Label for X_test[{}] (y_test[{}]):\".format(i,i), y_test[i])"
   ]
  },
  {
   "cell_type": "markdown",
   "metadata": {},
   "source": [
    "Again, as this is not a classification problem, I'm afraid I can't provide a confusion matrix as visualization of performance. However, I will use the same \"pretty\" plot I used to evaluate my models for my research work. \n",
    "\n",
    "It's a density scatter plot of the prediction values plotted against the true values. So, it kinda follows to same concept of the confusion matrix in the sense that the \"best\" performance has the most points along the diagonal."
   ]
  },
  {
   "cell_type": "markdown",
   "metadata": {},
   "source": [
    "But first it requires some preliminary code:"
   ]
  },
  {
   "cell_type": "code",
   "execution_count": 45,
   "metadata": {},
   "outputs": [],
   "source": [
    "#pip install mpl-scatter-density\n",
    "import mpl_scatter_density\n",
    "from matplotlib import cm\n",
    "from matplotlib.colors import Normalize\n",
    "from scipy.interpolate import interpn\n",
    "import matplotlib.pyplot as plt\n",
    "from scipy.stats import pearsonr\n",
    "import numpy as np\n",
    "from sklearn.metrics import r2_score\n",
    "from sklearn.metrics import mean_squared_error as mse\n",
    "\n",
    "def density_scatter( x , y, line_z, ax = None, sort = True, bins = 20, nlevels=10, plot_cbar=True, **kwargs )   :\n",
    "    \"\"\"\n",
    "    Scatter plot colored by 2d histogram\n",
    "    \"\"\"\n",
    "    if ax is None :\n",
    "        fig , ax = plt.subplots()\n",
    "    data , x_e, y_e = np.histogram2d( x, y, bins = bins, density = False )\n",
    "    z = interpn( ( 0.5*(x_e[1:] + x_e[:-1]) , 0.5*(y_e[1:]+y_e[:-1]) ) , data , np.vstack([x,y]).T , method = \"splinef2d\", bounds_error = False)\n",
    "\n",
    "    #To be sure to plot all data\n",
    "    z[np.where(np.isnan(z))] = 0.0\n",
    "    \n",
    "    z[np.where(z<=0.0)] = 0.0\n",
    "\n",
    "    # Sort the points by density, so that the densest points are plotted last\n",
    "    if sort :\n",
    "        idx = z.argsort()\n",
    "        x, y, z = x[idx], y[idx], z[idx]\n",
    "    \n",
    "    #x & y values for plotting line of best fit for the model\n",
    "    a, b = np.polyfit(x, y, 1)\n",
    "    fit_line_x = [-1*line_z,line_z]\n",
    "    fit_line_y = a*np.array(fit_line_x)+b\n",
    "    \n",
    "    cs = ax.scatter( x, y, c=z, marker='.', cmap='plasma', alpha=0.8, **kwargs )     # 'marker' was added by JK\n",
    "    ax.plot([-1*line_z,line_z], [-1*line_z,line_z], 'forestgreen', linewidth=3., label='R = 1.0')\n",
    "    ax.plot(fit_line_x, fit_line_y, linestyle='--',color='red', \n",
    "            linewidth=2., label='R = {0:.2f} (model)'.format(pearsonr(x,y)[0]))\n",
    "    #norm = Normalize(vmin = np.min(z), vmax = np.max(z))\n",
    "    cticks = list(np.linspace(0,np.ceil(len(x)/10.)*10,nlevels))\n",
    "    \n",
    "    # print(z.max())\n",
    "    cbar = plt.colorbar(cs,ax=ax,ticks=cticks)\n",
    "    cbar.ax.set_yticklabels([\"{:.1f}\".format(i) for i in cbar.get_ticks()])\n",
    "    cbar.set_label('# per bin', fontsize=12, labelpad=0.75)\n",
    "    if not plot_cbar:\n",
    "        cbar.remove()\n",
    "    return ax\n",
    "\n",
    "def ml_model_performance(target,prediction,target_name,ml_model_name,bins=[10,10],n_levels=10):\n",
    "    print('Model {} Target Prediction Score:'.format(target_name),r2_score(target[target_name],prediction[target_name]))\n",
    "    \n",
    "    #Mean-Squared and Root-Mean-Squared Errors\n",
    "    mse1 = mse(target[target_name],prediction[target_name],squared=True)\n",
    "    rmse1 = mse(target[target_name],prediction[target_name],squared=False)\n",
    "    \n",
    "    print('Mean-squared error =',mse1)\n",
    "    print('Root-mean-squared error =', rmse1)\n",
    "    \n",
    "    #Graph\n",
    "    fig , ax = plt.subplots(1,figsize=(8,5))\n",
    "    \n",
    "    density_scatter(prediction[target_name],target[target_name],line_z=1.4e12,ax=ax,sort=False,bins=bins,\n",
    "                    nlevels=n_levels,plot_cbar=True)\n",
    "    # density = ax.scatter_density(target[target_name], prediction[target_name])\n",
    "    # fig.colorbar(density, label='Number of points per pixel')\n",
    "    \n",
    "    min_diff = target[target_name].min()-min(prediction[target_name])\n",
    "    max_diff = target[target_name].max()-max(prediction[target_name])\n",
    "    \n",
    "    ax.set_xlim([int(target[target_name].min()-min_diff),int(target[target_name].max()+abs(max_diff))])\n",
    "    ax.set_ylim([int(target[target_name].min()-min_diff),int(target[target_name].max()+abs(max_diff))])\n",
    "    ax.set_xlabel('Prediction')\n",
    "    ax.set_ylabel('Actual')\n",
    "    ax.set_title(ml_model_name + '; Target = {}'.format(target_name),fontsize=15)\n",
    "    plt.legend()\n",
    "    plt.show()"
   ]
  },
  {
   "cell_type": "code",
   "execution_count": 46,
   "metadata": {},
   "outputs": [
    {
     "ename": "ValueError",
     "evalue": "too many values to unpack (expected 2)",
     "output_type": "error",
     "traceback": [
      "\u001b[0;31m---------------------------------------------------------------------------\u001b[0m",
      "\u001b[0;31mAttributeError\u001b[0m                            Traceback (most recent call last)",
      "File \u001b[0;32m~/anaconda3/envs/code-ref-notebook/lib/python3.11/site-packages/numpy/lib/histograms.py:969\u001b[0m, in \u001b[0;36mhistogramdd\u001b[0;34m(sample, bins, range, density, weights)\u001b[0m\n\u001b[1;32m    967\u001b[0m \u001b[39mtry\u001b[39;00m:\n\u001b[1;32m    968\u001b[0m     \u001b[39m# Sample is an ND-array.\u001b[39;00m\n\u001b[0;32m--> 969\u001b[0m     N, D \u001b[39m=\u001b[39m sample\u001b[39m.\u001b[39;49mshape\n\u001b[1;32m    970\u001b[0m \u001b[39mexcept\u001b[39;00m (\u001b[39mAttributeError\u001b[39;00m, \u001b[39mValueError\u001b[39;00m):\n\u001b[1;32m    971\u001b[0m     \u001b[39m# Sample is a sequence of 1D arrays.\u001b[39;00m\n",
      "\u001b[0;31mAttributeError\u001b[0m: 'list' object has no attribute 'shape'",
      "\nDuring handling of the above exception, another exception occurred:\n",
      "\u001b[0;31mValueError\u001b[0m                                Traceback (most recent call last)",
      "\u001b[1;32m/home/jasminekobayashi/gh_repos/Code-Reference-Notebook/CU-Boulder/NeuralNetworks/HW/hw3/A3_Part4_JasmineKobayashi.ipynb Cell 41\u001b[0m line \u001b[0;36m1\n\u001b[0;32m----> <a href='vscode-notebook-cell://wsl%2Bubuntu/home/jasminekobayashi/gh_repos/Code-Reference-Notebook/CU-Boulder/NeuralNetworks/HW/hw3/A3_Part4_JasmineKobayashi.ipynb#Y101sdnNjb2RlLXJlbW90ZQ%3D%3D?line=0'>1</a>\u001b[0m density_scatter(x\u001b[39m=\u001b[39;49mpd\u001b[39m.\u001b[39;49mDataFrame(y_test,columns\u001b[39m=\u001b[39;49m[targets]),\n\u001b[1;32m      <a href='vscode-notebook-cell://wsl%2Bubuntu/home/jasminekobayashi/gh_repos/Code-Reference-Notebook/CU-Boulder/NeuralNetworks/HW/hw3/A3_Part4_JasmineKobayashi.ipynb#Y101sdnNjb2RlLXJlbW90ZQ%3D%3D?line=1'>2</a>\u001b[0m                 y\u001b[39m=\u001b[39;49mpd\u001b[39m.\u001b[39;49mDataFrame(pred,columns\u001b[39m=\u001b[39;49m[targets]),line_z\u001b[39m=\u001b[39;49m\u001b[39m1.4e12\u001b[39;49m)\n",
      "\u001b[1;32m/home/jasminekobayashi/gh_repos/Code-Reference-Notebook/CU-Boulder/NeuralNetworks/HW/hw3/A3_Part4_JasmineKobayashi.ipynb Cell 41\u001b[0m line \u001b[0;36m1\n\u001b[1;32m     <a href='vscode-notebook-cell://wsl%2Bubuntu/home/jasminekobayashi/gh_repos/Code-Reference-Notebook/CU-Boulder/NeuralNetworks/HW/hw3/A3_Part4_JasmineKobayashi.ipynb#Y101sdnNjb2RlLXJlbW90ZQ%3D%3D?line=15'>16</a>\u001b[0m \u001b[39mif\u001b[39;00m ax \u001b[39mis\u001b[39;00m \u001b[39mNone\u001b[39;00m :\n\u001b[1;32m     <a href='vscode-notebook-cell://wsl%2Bubuntu/home/jasminekobayashi/gh_repos/Code-Reference-Notebook/CU-Boulder/NeuralNetworks/HW/hw3/A3_Part4_JasmineKobayashi.ipynb#Y101sdnNjb2RlLXJlbW90ZQ%3D%3D?line=16'>17</a>\u001b[0m     fig , ax \u001b[39m=\u001b[39m plt\u001b[39m.\u001b[39msubplots()\n\u001b[0;32m---> <a href='vscode-notebook-cell://wsl%2Bubuntu/home/jasminekobayashi/gh_repos/Code-Reference-Notebook/CU-Boulder/NeuralNetworks/HW/hw3/A3_Part4_JasmineKobayashi.ipynb#Y101sdnNjb2RlLXJlbW90ZQ%3D%3D?line=17'>18</a>\u001b[0m data , x_e, y_e \u001b[39m=\u001b[39m np\u001b[39m.\u001b[39;49mhistogram2d( x, y, bins \u001b[39m=\u001b[39;49m bins, density \u001b[39m=\u001b[39;49m \u001b[39mFalse\u001b[39;49;00m )\n\u001b[1;32m     <a href='vscode-notebook-cell://wsl%2Bubuntu/home/jasminekobayashi/gh_repos/Code-Reference-Notebook/CU-Boulder/NeuralNetworks/HW/hw3/A3_Part4_JasmineKobayashi.ipynb#Y101sdnNjb2RlLXJlbW90ZQ%3D%3D?line=18'>19</a>\u001b[0m z \u001b[39m=\u001b[39m interpn( ( \u001b[39m0.5\u001b[39m\u001b[39m*\u001b[39m(x_e[\u001b[39m1\u001b[39m:] \u001b[39m+\u001b[39m x_e[:\u001b[39m-\u001b[39m\u001b[39m1\u001b[39m]) , \u001b[39m0.5\u001b[39m\u001b[39m*\u001b[39m(y_e[\u001b[39m1\u001b[39m:]\u001b[39m+\u001b[39my_e[:\u001b[39m-\u001b[39m\u001b[39m1\u001b[39m]) ) , data , np\u001b[39m.\u001b[39mvstack([x,y])\u001b[39m.\u001b[39mT , method \u001b[39m=\u001b[39m \u001b[39m\"\u001b[39m\u001b[39msplinef2d\u001b[39m\u001b[39m\"\u001b[39m, bounds_error \u001b[39m=\u001b[39m \u001b[39mFalse\u001b[39;00m)\n\u001b[1;32m     <a href='vscode-notebook-cell://wsl%2Bubuntu/home/jasminekobayashi/gh_repos/Code-Reference-Notebook/CU-Boulder/NeuralNetworks/HW/hw3/A3_Part4_JasmineKobayashi.ipynb#Y101sdnNjb2RlLXJlbW90ZQ%3D%3D?line=20'>21</a>\u001b[0m \u001b[39m#To be sure to plot all data\u001b[39;00m\n",
      "File \u001b[0;32m~/anaconda3/envs/code-ref-notebook/lib/python3.11/site-packages/numpy/lib/twodim_base.py:808\u001b[0m, in \u001b[0;36mhistogram2d\u001b[0;34m(x, y, bins, range, density, weights)\u001b[0m\n\u001b[1;32m    806\u001b[0m     xedges \u001b[39m=\u001b[39m yedges \u001b[39m=\u001b[39m asarray(bins)\n\u001b[1;32m    807\u001b[0m     bins \u001b[39m=\u001b[39m [xedges, yedges]\n\u001b[0;32m--> 808\u001b[0m hist, edges \u001b[39m=\u001b[39m histogramdd([x, y], bins, \u001b[39mrange\u001b[39;49m, density, weights)\n\u001b[1;32m    809\u001b[0m \u001b[39mreturn\u001b[39;00m hist, edges[\u001b[39m0\u001b[39m], edges[\u001b[39m1\u001b[39m]\n",
      "File \u001b[0;32m~/anaconda3/envs/code-ref-notebook/lib/python3.11/site-packages/numpy/lib/histograms.py:973\u001b[0m, in \u001b[0;36mhistogramdd\u001b[0;34m(sample, bins, range, density, weights)\u001b[0m\n\u001b[1;32m    970\u001b[0m \u001b[39mexcept\u001b[39;00m (\u001b[39mAttributeError\u001b[39;00m, \u001b[39mValueError\u001b[39;00m):\n\u001b[1;32m    971\u001b[0m     \u001b[39m# Sample is a sequence of 1D arrays.\u001b[39;00m\n\u001b[1;32m    972\u001b[0m     sample \u001b[39m=\u001b[39m np\u001b[39m.\u001b[39matleast_2d(sample)\u001b[39m.\u001b[39mT\n\u001b[0;32m--> 973\u001b[0m     N, D \u001b[39m=\u001b[39m sample\u001b[39m.\u001b[39mshape\n\u001b[1;32m    975\u001b[0m nbin \u001b[39m=\u001b[39m np\u001b[39m.\u001b[39mempty(D, np\u001b[39m.\u001b[39mintp)\n\u001b[1;32m    976\u001b[0m edges \u001b[39m=\u001b[39m D\u001b[39m*\u001b[39m[\u001b[39mNone\u001b[39;00m]\n",
      "\u001b[0;31mValueError\u001b[0m: too many values to unpack (expected 2)"
     ]
    },
    {
     "data": {
      "image/png": "[encoded data removed]",
      "text/plain": [
       "<Figure size 640x480 with 1 Axes>"
      ]
     },
     "metadata": {},
     "output_type": "display_data"
    }
   ],
   "source": [
    "density_scatter(x=pd.DataFrame(y_test,columns=[targets]),\n",
    "                y=pd.DataFrame(pred,columns=[targets]),line_z=1.4e12)"
   ]
  },
  {
   "cell_type": "code",
   "execution_count": 44,
   "metadata": {},
   "outputs": [
    {
     "name": "stdout",
     "output_type": "stream",
     "text": [
      "Model ['Vx'] Target Prediction Score: -0.00039880724344310003\n",
      "Mean-squared error = 9725.453\n",
      "Root-mean-squared error = 98.617714\n"
     ]
    },
    {
     "ename": "AttributeError",
     "evalue": "'Axes' object has no attribute 'scatter_density'",
     "output_type": "error",
     "traceback": [
      "\u001b[0;31m---------------------------------------------------------------------------\u001b[0m",
      "\u001b[0;31mAttributeError\u001b[0m                            Traceback (most recent call last)",
      "\u001b[1;32m/home/jasminekobayashi/gh_repos/Code-Reference-Notebook/CU-Boulder/NeuralNetworks/HW/hw3/A3_Part4_JasmineKobayashi.ipynb Cell 42\u001b[0m line \u001b[0;36m1\n\u001b[0;32m----> <a href='vscode-notebook-cell://wsl%2Bubuntu/home/jasminekobayashi/gh_repos/Code-Reference-Notebook/CU-Boulder/NeuralNetworks/HW/hw3/A3_Part4_JasmineKobayashi.ipynb#X64sdnNjb2RlLXJlbW90ZQ%3D%3D?line=0'>1</a>\u001b[0m ml_model_performance(target\u001b[39m=\u001b[39;49mpd\u001b[39m.\u001b[39;49mDataFrame(y_test,columns\u001b[39m=\u001b[39;49m[targets]),\n\u001b[1;32m      <a href='vscode-notebook-cell://wsl%2Bubuntu/home/jasminekobayashi/gh_repos/Code-Reference-Notebook/CU-Boulder/NeuralNetworks/HW/hw3/A3_Part4_JasmineKobayashi.ipynb#X64sdnNjb2RlLXJlbW90ZQ%3D%3D?line=1'>2</a>\u001b[0m                      prediction\u001b[39m=\u001b[39;49mpd\u001b[39m.\u001b[39;49mDataFrame(pred,columns\u001b[39m=\u001b[39;49m[targets]),\n\u001b[1;32m      <a href='vscode-notebook-cell://wsl%2Bubuntu/home/jasminekobayashi/gh_repos/Code-Reference-Notebook/CU-Boulder/NeuralNetworks/HW/hw3/A3_Part4_JasmineKobayashi.ipynb#X64sdnNjb2RlLXJlbW90ZQ%3D%3D?line=2'>3</a>\u001b[0m                      target_name\u001b[39m=\u001b[39;49mtargets,\n\u001b[1;32m      <a href='vscode-notebook-cell://wsl%2Bubuntu/home/jasminekobayashi/gh_repos/Code-Reference-Notebook/CU-Boulder/NeuralNetworks/HW/hw3/A3_Part4_JasmineKobayashi.ipynb#X64sdnNjb2RlLXJlbW90ZQ%3D%3D?line=3'>4</a>\u001b[0m                      ml_model_name\u001b[39m=\u001b[39;49m\u001b[39m'\u001b[39;49m\u001b[39mSimple RNN model\u001b[39;49m\u001b[39m'\u001b[39;49m,bins\u001b[39m=\u001b[39;49m[\u001b[39m5\u001b[39;49m,\u001b[39m5\u001b[39;49m])\n",
      "\u001b[1;32m/home/jasminekobayashi/gh_repos/Code-Reference-Notebook/CU-Boulder/NeuralNetworks/HW/hw3/A3_Part4_JasmineKobayashi.ipynb Cell 42\u001b[0m line \u001b[0;36m6\n\u001b[1;32m     <a href='vscode-notebook-cell://wsl%2Bubuntu/home/jasminekobayashi/gh_repos/Code-Reference-Notebook/CU-Boulder/NeuralNetworks/HW/hw3/A3_Part4_JasmineKobayashi.ipynb#X64sdnNjb2RlLXJlbW90ZQ%3D%3D?line=61'>62</a>\u001b[0m fig , ax \u001b[39m=\u001b[39m plt\u001b[39m.\u001b[39msubplots(\u001b[39m1\u001b[39m,figsize\u001b[39m=\u001b[39m(\u001b[39m8\u001b[39m,\u001b[39m5\u001b[39m))\n\u001b[1;32m     <a href='vscode-notebook-cell://wsl%2Bubuntu/home/jasminekobayashi/gh_repos/Code-Reference-Notebook/CU-Boulder/NeuralNetworks/HW/hw3/A3_Part4_JasmineKobayashi.ipynb#X64sdnNjb2RlLXJlbW90ZQ%3D%3D?line=63'>64</a>\u001b[0m \u001b[39m# density_scatter(prediction[target_name],target[target_name],line_z=1.4e12,ax=ax,sort=False,bins=bins,\u001b[39;00m\n\u001b[1;32m     <a href='vscode-notebook-cell://wsl%2Bubuntu/home/jasminekobayashi/gh_repos/Code-Reference-Notebook/CU-Boulder/NeuralNetworks/HW/hw3/A3_Part4_JasmineKobayashi.ipynb#X64sdnNjb2RlLXJlbW90ZQ%3D%3D?line=64'>65</a>\u001b[0m \u001b[39m#                 nlevels=n_levels,plot_cbar=True)\u001b[39;00m\n\u001b[0;32m---> <a href='vscode-notebook-cell://wsl%2Bubuntu/home/jasminekobayashi/gh_repos/Code-Reference-Notebook/CU-Boulder/NeuralNetworks/HW/hw3/A3_Part4_JasmineKobayashi.ipynb#X64sdnNjb2RlLXJlbW90ZQ%3D%3D?line=65'>66</a>\u001b[0m density \u001b[39m=\u001b[39m ax\u001b[39m.\u001b[39;49mscatter_density(target[target_name], prediction[target_name])\n\u001b[1;32m     <a href='vscode-notebook-cell://wsl%2Bubuntu/home/jasminekobayashi/gh_repos/Code-Reference-Notebook/CU-Boulder/NeuralNetworks/HW/hw3/A3_Part4_JasmineKobayashi.ipynb#X64sdnNjb2RlLXJlbW90ZQ%3D%3D?line=66'>67</a>\u001b[0m fig\u001b[39m.\u001b[39mcolorbar(density, label\u001b[39m=\u001b[39m\u001b[39m'\u001b[39m\u001b[39mNumber of points per pixel\u001b[39m\u001b[39m'\u001b[39m)\n\u001b[1;32m     <a href='vscode-notebook-cell://wsl%2Bubuntu/home/jasminekobayashi/gh_repos/Code-Reference-Notebook/CU-Boulder/NeuralNetworks/HW/hw3/A3_Part4_JasmineKobayashi.ipynb#X64sdnNjb2RlLXJlbW90ZQ%3D%3D?line=68'>69</a>\u001b[0m min_diff \u001b[39m=\u001b[39m target[target_name]\u001b[39m.\u001b[39mmin()\u001b[39m-\u001b[39m\u001b[39mmin\u001b[39m(prediction[target_name])\n",
      "\u001b[0;31mAttributeError\u001b[0m: 'Axes' object has no attribute 'scatter_density'"
     ]
    },
    {
     "data": {
      "image/png": "[encoded data removed]",
      "text/plain": [
       "<Figure size 800x500 with 1 Axes>"
      ]
     },
     "metadata": {},
     "output_type": "display_data"
    }
   ],
   "source": [
    "ml_model_performance(target=pd.DataFrame(y_test,columns=[targets]),\n",
    "                     prediction=pd.DataFrame(pred,columns=[targets]),\n",
    "                     target_name=targets,\n",
    "                     ml_model_name='Simple RNN model',bins=[5,5])"
   ]
  },
  {
   "cell_type": "code",
   "execution_count": null,
   "metadata": {},
   "outputs": [],
   "source": []
  }
 ],
 "metadata": {
  "kernelspec": {
   "display_name": "code-ref-notebook",
   "language": "python",
   "name": "python3"
  },
  "language_info": {
   "codemirror_mode": {
    "name": "ipython",
    "version": 3
   },
   "file_extension": ".py",
   "mimetype": "text/x-python",
   "name": "python",
   "nbconvert_exporter": "python",
   "pygments_lexer": "ipython3",
   "version": "3.11.6"
  }
 },
 "nbformat": 4,
 "nbformat_minor": 2
}
