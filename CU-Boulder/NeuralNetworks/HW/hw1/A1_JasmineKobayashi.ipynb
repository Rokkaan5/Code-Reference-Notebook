{
 "cells": [
  {
   "cell_type": "raw",
   "metadata": {},
   "source": [
    "---\n",
    "title: \"Module 1 Assignment\"\n",
    "author: \"Jasmine Kobayashi\"\n",
    "format:\n",
    "    html:\n",
    "        code-fold: false\n",
    "execute:\n",
    "    output: true\n",
    "    warning: false\n",
    "toc: true\n",
    "jupyter: python3\n",
    "---"
   ]
  },
  {
   "cell_type": "markdown",
   "metadata": {},
   "source": [
    "# Overview\n",
    "This assignment will enable you to practice with logistic regression, coding in Python, Loss functions (binary cross entropy in this case), learning rates, gradient descent and derivatives, activation function (sigmoid in this case), and drawing an architecture.\n",
    "\n",
    "All concepts here will extend into perceptrons and ANNs with layers. For this reason, it is critical to gain a solid foundation, to practice, to code these concepts by hand (using an easy and small dataset), and to work through the math. \n",
    "\n",
    "All requirements, concepts, and math here will be on Exam 1.\n",
    "\n",
    "This is an individual assignment. This means that you should do your own work and your submission should be yours alone. While it is OK to discuss concepts, it is not OK to duplicate work. If you ever have any questions about cheating, plagiarism, sharing, etc. please ask."
   ]
  },
  {
   "cell_type": "markdown",
   "metadata": {},
   "source": [
    "# (1) - Create Small 3D Dataset\n",
    "Create your own small, 3D, labeled dataset. Your labels should be binary. Save your dataset as `A1_Data_YourName.csv`. You will be submitting this raw dataset with your Assignment. \n",
    "\n",
    "A 3D dataset has three columns (variables/features). The label will be in the 4th column. Recall that labels are not part of the dataset but rather are the categories (also called classes or groups) that each data row (example, observation) is a member of.  Your dataset should have 5 - 7 rows. Please invent the dataset BUT be sure that it makes sense. In other words, the labels should have a correlation with the data. You do not need to mathematically test the correlation :) just do it intuitively. \n",
    "\n",
    "All of your data must be numeric. The label (which is not part of the dataset) can be any binary label such as POS and NEG, YES and NO, BBPlayer and NotBBPlayer. There are an infinite number of options."
   ]
  },
  {
   "cell_type": "markdown",
   "metadata": {},
   "source": [
    "**JK:** \n",
    "\n",
    "See submitted *csv* file (named: `A1_Data_JasmineKobayashi.csv`)"
   ]
  },
  {
   "cell_type": "markdown",
   "metadata": {},
   "source": [
    "# (2) - Linear Equation"
   ]
  },
  {
   "cell_type": "markdown",
   "metadata": {},
   "source": [
    "## (a)\n",
    "**Write out a general linear equation (call it $z$) to represent a linear function that multiplies individual weights by each $x$ value.** \n",
    "\n",
    "**Example: For a 4D dataset, a general linear equation is:**\n",
    "**$z = w_1x_1 + w_2x_2 + w_3x_3 + w_4x_4 + b $**"
   ]
  },
  {
   "cell_type": "markdown",
   "metadata": {},
   "source": [
    "**JK:**\n",
    "\n",
    "$$z = w_1x_1 + w_2x_2 + ... + w_nx_n + b$$\n",
    "$$ = \\sum_{i=1}^n (w_ix_i) + b$$\n",
    "\n",
    "for $n$-dimensional data (in other words, $n$ is number of data columns)"
   ]
  },
  {
   "cell_type": "markdown",
   "metadata": {},
   "source": [
    "## (b)\n",
    "Write your linear equation using vector format\n",
    "\n",
    "Example:\n",
    "$ z = \\mathbf{w}^\\intercal\\mathbf{x} + b $"
   ]
  },
  {
   "cell_type": "markdown",
   "metadata": {},
   "source": [
    "**JK:**\n",
    "\n",
    "$$z = \\mathbf{w}^\\top \\mathbf{x} + b$$\n",
    "\n",
    "\\begin{equation}\n",
    "= \n",
    "\n",
    "\\begin{bmatrix}\n",
    "w_1 \\\\\n",
    "w_2 \\\\\n",
    "\\vdots \\\\\n",
    "w_n \n",
    "\\end{bmatrix}\n",
    "^\\top\n",
    "\n",
    "\\begin{bmatrix}\n",
    "x_1 \\\\\n",
    "x_2 \\\\\n",
    "\\vdots \\\\\n",
    "x_n\n",
    "\\end{bmatrix}\n",
    "\n",
    "+\n",
    "\n",
    "\\begin{bmatrix}\n",
    "b \\\\\n",
    "b \\\\\n",
    "\\vdots \\\\\n",
    "b\n",
    "\\end{bmatrix}\n",
    "\\end{equation}\n",
    "\n",
    "\\begin{equation}\n",
    "=\n",
    "\\begin{bmatrix}\n",
    "w_1 & w_2 & \\cdots & w_n\n",
    "\\end{bmatrix}\n",
    "\n",
    "\\begin{bmatrix}\n",
    "x_1 \\\\\n",
    "x_2 \\\\\n",
    "\\vdots \\\\\n",
    "x_n\n",
    "\\end{bmatrix}\n",
    "\n",
    "+\n",
    "\n",
    "\\begin{bmatrix}\n",
    "b \\\\\n",
    "b \\\\\n",
    "\\vdots \\\\\n",
    "b\n",
    "\\end{bmatrix}\n",
    "\\end{equation}\n"
   ]
  },
  {
   "cell_type": "markdown",
   "metadata": {},
   "source": [
    "## (c)\n",
    "What do the $w$ values represent?"
   ]
  },
  {
   "cell_type": "markdown",
   "metadata": {},
   "source": [
    "**JK:** The $w$ values are parameters applied to the dimensions of the data, usually called \"weights\"."
   ]
  },
  {
   "cell_type": "markdown",
   "metadata": {},
   "source": [
    "## (d)\n",
    "What does the \"$b$\" represent?"
   ]
  },
  {
   "cell_type": "markdown",
   "metadata": {},
   "source": [
    "**JK:** Often referred to as the \"bias\", $b$ is associated with an \"intercept\" of a linear equation. In other words, it is the value of the dependent variable when the independent variable(s) is/are all zero."
   ]
  },
  {
   "cell_type": "markdown",
   "metadata": {},
   "source": [
    "# (3) - Read and Visualize 3D Dataset\n",
    "Use Python to read in your dataset and to plot the data (not the label) in 3D.\n",
    "\n",
    "**Hint:** (This is an option, not the only option)\n",
    "```\n",
    "import matplotlib.pyplot as plt\n",
    "\n",
    "fig = plt.figure()\n",
    "ax = plt.axes(projection='3d')\n",
    "x1 = ....\n",
    "x2 = ....\n",
    "x3 = ....\n",
    "# plotting\n",
    "ax.scatter(x1, x2, x3, s=50)\n",
    "ax.set_title('Dataset')\n",
    "plt.show()\n",
    "```"
   ]
  },
  {
   "cell_type": "code",
   "execution_count": 1,
   "metadata": {},
   "outputs": [],
   "source": [
    "import matplotlib.pyplot as plt\n",
    "import numpy as np\n",
    "import pandas as pd"
   ]
  },
  {
   "cell_type": "code",
   "execution_count": 2,
   "metadata": {},
   "outputs": [
    {
     "name": "stdout",
     "output_type": "stream",
     "text": [
      "   feat1  feat2  feat3 LABEL\n",
      "0     22     10     24    No\n",
      "1      5     12     52   Yes\n",
      "2      3     15     59   Yes\n",
      "3     25     11     23    No\n",
      "4     23     14     21    No\n",
      "5      8     19     54   Yes\n",
      "6      4     13     57   Yes\n"
     ]
    }
   ],
   "source": [
    "# read data\n",
    "data_file = 'A1_Data_JasmineKobayashi.csv'\n",
    "df = pd.read_csv(data_file)\n",
    "print(df)"
   ]
  },
  {
   "cell_type": "code",
   "execution_count": 3,
   "metadata": {},
   "outputs": [
    {
     "data": {
      "image/png": "[encoded data removed]",
      "text/plain": [
       "<Figure size 640x480 with 1 Axes>"
      ]
     },
     "metadata": {},
     "output_type": "display_data"
    }
   ],
   "source": [
    "#%matplotlib widget\n",
    "# above line is to make the plot interactive in VScode (need to pip install ipympl package if not in local machine already)\n",
    "# If running this file in Anaconda's Jupyter, replace \"widget\" with \"notebook\"\n",
    "# (or just comment out the line to view the standard static plot)\n",
    "\n",
    "#plot data (not label)\n",
    "fig = plt.figure()\n",
    "ax = plt.axes(projection='3d')\n",
    "# the following code is assuming first three columns are data ()\n",
    "cols = df.columns\n",
    "x1 = df[cols[0]]\n",
    "x2 = df[cols[1]]\n",
    "x3 = df[cols[2]]\n",
    "\n",
    "# plotting\n",
    "ax.scatter(x1, x2, x3, s=50)\n",
    "ax.set_xlabel(cols[0])\n",
    "ax.set_ylabel(cols[1])\n",
    "ax.set_zlabel(cols[2])\n",
    "ax.set_title('3D Plot')\n",
    "plt.show()"
   ]
  },
  {
   "cell_type": "markdown",
   "metadata": {},
   "source": [
    "# (4) - Data = obviously clustered?\n",
    "Does your dataset appear to have clusters of groups? Does it appear to be separable - especially with respect to your labeling?\n",
    "\n",
    "(Side note: If your data appears chaotic and/or does not appear separable with respect to your labeling, make adjustments to your dataset and do the above again. The goal here is to have an easy and simple dataset that will do what is expected.)"
   ]
  },
  {
   "cell_type": "markdown",
   "metadata": {},
   "source": [
    "**JK:**\n",
    "Yes, there appear to be apparent clusters."
   ]
  },
  {
   "cell_type": "markdown",
   "metadata": {},
   "source": [
    "# (5)- Sigmoid Function"
   ]
  },
  {
   "cell_type": "markdown",
   "metadata": {},
   "source": [
    "## (a)\n",
    "Write out the Sigmoid function - include both ways to write it."
   ]
  },
  {
   "cell_type": "markdown",
   "metadata": {},
   "source": [
    "**JK:** \n",
    "\n",
    "$$S(z) = \\frac{e^z}{1+e^z} \\\\[6pt] = \\frac{1}{1+e^{-z}} $$\n"
   ]
  },
  {
   "cell_type": "markdown",
   "metadata": {},
   "source": [
    "## (b)\n",
    "Prove that $\\frac{1}{(1+e^{-x})}$ is the same as $\\frac{e^x}{(1+e^x)}$ are the same. **Show all steps carefully.**"
   ]
  },
  {
   "cell_type": "markdown",
   "metadata": {},
   "source": [
    "**JK:** *See submitted pdf of written answers to see step-by-step hand-written calculation.*"
   ]
  },
  {
   "cell_type": "markdown",
   "metadata": {},
   "source": [
    "## (c)\n",
    "Use Python to create a plot (from -100 to 100 with steps of 1) of the Sigmoid function. Inclue the plot here."
   ]
  },
  {
   "cell_type": "code",
   "execution_count": 4,
   "metadata": {},
   "outputs": [
    {
     "data": {
      "image/png": "[encoded data removed]",
      "text/plain": [
       "<Figure size 640x480 with 1 Axes>"
      ]
     },
     "metadata": {},
     "output_type": "display_data"
    }
   ],
   "source": [
    "import math\n",
    "x = np.arange(-100,101,1)   # np.arange doesn't include endpoint\n",
    "\n",
    "def sig(z):\n",
    "    return 1/(1+(math.e**(-z)))\n",
    "\n",
    "# plot\n",
    "fig2 = plt.figure() \n",
    "plt.plot(x,sig(x),'.')\n",
    "plt.title('Sigmoid')\n",
    "plt.xlabel('z')\n",
    "plt.ylabel('S(z)')\n",
    "plt.grid()\n",
    "plt.show()"
   ]
  },
  {
   "cell_type": "markdown",
   "metadata": {},
   "source": [
    "## (d)\n",
    "Let $S(z) = \\frac{1}{(1+e^{-z})}$ be the Sigmoid function. Prove that the first derivative of $S(z)$ is $S(z)*(1-S(z))$. **Show every step carefully.**"
   ]
  },
  {
   "cell_type": "markdown",
   "metadata": {},
   "source": [
    "**JK:** *See submitted pdf of written answers.*"
   ]
  },
  {
   "cell_type": "markdown",
   "metadata": {},
   "source": [
    "# (6) - Use small dataset for calculations by hand\n",
    "Using your dataset and initial weight vector of all ones, an initial $b$ value of 0, do the following.\n",
    "\n",
    "(Before you start, be sure to convert your labels to 0 and 1. For example, if my labels are POS and NEG, then I can change all POS to 1 and all NEG to 0.)\n",
    "\n",
    "**Required: for the following, do this in vector/matrix form.** (Example on Canvas assignment page)"
   ]
  },
  {
   "cell_type": "code",
   "execution_count": 5,
   "metadata": {},
   "outputs": [
    {
     "name": "stdout",
     "output_type": "stream",
     "text": [
      "dimension of data = 3\n",
      "weight vector (w):\n",
      " [[1]\n",
      " [1]\n",
      " [1]]\n",
      "bias(b) = 0\n"
     ]
    }
   ],
   "source": [
    "# data dimensions (to make weight vector creation flexible to data with different dimensions)\n",
    "data_dimension = df.shape[1] - 1   #\"data\" doesn't include label, so dimension is # of cols minus 1\n",
    "print('dimension of data =',data_dimension)\n",
    "\n",
    "# weight vector (of all ones)\n",
    "w = np.array([[1]]*data_dimension)     # weight vector (of ones) of length = dimension of data\n",
    "print('weight vector (w):\\n',w)\n",
    "\n",
    "# bias (b)\n",
    "b = 0\n",
    "print('bias(b) =',b)"
   ]
  },
  {
   "cell_type": "markdown",
   "metadata": {},
   "source": [
    "## (a)\n",
    "What is your weight vector? Show it here. (You can draw it if you wish)"
   ]
  },
  {
   "cell_type": "markdown",
   "metadata": {},
   "source": [
    "**JK:** I did \"draw\" the weight vector also. See submitted pdf of written answers."
   ]
  },
  {
   "cell_type": "code",
   "execution_count": 6,
   "metadata": {},
   "outputs": [
    {
     "name": "stdout",
     "output_type": "stream",
     "text": [
      "weight vector (w):\n",
      " [[1]\n",
      " [1]\n",
      " [1]]\n",
      "shape of weight vector: (3, 1)\n",
      "transpose of w: [[1 1 1]]\n",
      "shape of transpose: (1, 3)\n"
     ]
    }
   ],
   "source": [
    "print('weight vector (w):\\n',w)\n",
    "print('shape of weight vector:',w.shape)\n",
    "\n",
    "# (not asked for this question, just nice info) \n",
    "# transpose of weight vector\n",
    "print('transpose of w:',w.T)\n",
    "print('shape of transpose:',w.T.shape)"
   ]
  },
  {
   "cell_type": "markdown",
   "metadata": {},
   "source": [
    "## (b)\n",
    "Use your weight vectors of all ones and your $b$ of 0 and your dataset to calculate z for all of your data. **Show every step and do this by hand.**"
   ]
  },
  {
   "cell_type": "markdown",
   "metadata": {},
   "source": [
    "**JK:** \n",
    "\n",
    "I'm scaling the data (for $\\mathbf{X}$) here because I'm not patient enough to scale data by hand (and it's not asked to be done by the question).\n",
    "\n",
    "But just to show I know how to scale (and just because it's generally useful information), I'll display the \"formula\" for the scaling used here (min-max) which would've hypothetically been applied to every value in each column of the data.\n",
    "\n",
    "Min-max scaling:\n",
    "$$x' = \\frac{x - min}{max - min}$$\n",
    "\n",
    "Where $x'$ is the scaled value, $x$ is the value to scale. ($min$ & $max$ are the minimum value and maximum value of the list of values to scale to.)"
   ]
  },
  {
   "cell_type": "code",
   "execution_count": 7,
   "metadata": {},
   "outputs": [
    {
     "name": "stdout",
     "output_type": "stream",
     "text": [
      "Min-max scaled data:\n",
      "       feat1     feat2     feat3\n",
      "0  0.863636  0.000000  0.078947\n",
      "1  0.090909  0.222222  0.815789\n",
      "2  0.000000  0.555556  1.000000\n",
      "3  1.000000  0.111111  0.052632\n",
      "4  0.909091  0.444444  0.000000\n",
      "5  0.227273  1.000000  0.868421\n",
      "6  0.045455  0.333333  0.947368\n"
     ]
    }
   ],
   "source": [
    "from sklearn.preprocessing import MinMaxScaler\n",
    "mm_scaler = MinMaxScaler()\n",
    "scale_data = mm_scaler.fit_transform(df[cols[0:-1]])\n",
    "\n",
    "print(\"Min-max scaled data:\\n\", pd.DataFrame(scale_data,columns=cols[0:-1]))"
   ]
  },
  {
   "cell_type": "markdown",
   "metadata": {},
   "source": [
    "*See submitted pdf of written answers to see step-by-step hand-written calculation.* "
   ]
  },
  {
   "cell_type": "markdown",
   "metadata": {},
   "source": [
    "## (c)\n",
    "Once you have your $z$ values, apply the Sigmoid function to each and show your $\\hat{y}=S(x)$ vector. **Do this by hand and show every step.**"
   ]
  },
  {
   "cell_type": "markdown",
   "metadata": {},
   "source": [
    "**JK:** *See submitted pdf of written answers to see step-by-step hand-written calculation.*"
   ]
  },
  {
   "cell_type": "markdown",
   "metadata": {},
   "source": [
    "## (d)\n",
    "Are your current parameters ($\\mathbf{w}$ and $b$) doing a good job predicting the correct labels? Show the correct label ($y$) and the predicted label ($\\hat{y}$). How many are incorrect? \n",
    "\n",
    "(Note that $\\hat{y}$ is pronounced y hat and is the value predicted by applying the Sigmoid to the linear equation).\n",
    "\n",
    "**Show all your work.**"
   ]
  },
  {
   "cell_type": "markdown",
   "metadata": {},
   "source": [
    "**JK:** *See submitted pdf of written answers to see step-by-step hand-written calculation.*"
   ]
  },
  {
   "cell_type": "markdown",
   "metadata": {},
   "source": [
    "## (e)\n",
    "What can you do to improve your predictions? In other words, what can you do to reduce the differences between the $y$ (the known label) and the $\\hat{y}$ (predicted value)?"
   ]
  },
  {
   "cell_type": "markdown",
   "metadata": {},
   "source": [
    "**JK:**\n",
    "\n",
    "To improve predictions, we want to find a way to \"measure\" how well the model performs and optimize it. One way to do this is to measure the \"error\" (difference) between predicted and true values and *optimize* it by minimizing that difference. (This is method is known as minimizing the loss function in the topic of neural networks.)"
   ]
  },
  {
   "cell_type": "markdown",
   "metadata": {},
   "source": [
    "# (7) - (Binary) Cross Entropy Loss Function"
   ]
  },
  {
   "cell_type": "markdown",
   "metadata": {},
   "source": [
    "## (a)\n",
    "Write out the cross-entropy function for binary labels here.\n",
    "\n",
    "$L_{CE} (y,\\hat{y}) = $ ..."
   ]
  },
  {
   "cell_type": "markdown",
   "metadata": {},
   "source": [
    "$$-\\frac{1}{m} \\sum_i^m ylog(\\hat{y}) + (1-y)log(1-\\hat{y})$$\n",
    "\n",
    "(Also handwritten on pdf of written answers.)"
   ]
  },
  {
   "cell_type": "markdown",
   "metadata": {},
   "source": [
    "## (b)\n",
    "For all of your data rows, calculate the $L_{CE}$. **Show all of your work and do this by hand. Include ALL steps.** Continue to use the weight vector of all ones and a $b$ of 0."
   ]
  },
  {
   "cell_type": "markdown",
   "metadata": {},
   "source": [
    "**JK:** *See submitted pdf of written answers to see step-by-step hand-written calculation.*"
   ]
  },
  {
   "cell_type": "markdown",
   "metadata": {},
   "source": [
    "## (c)\n",
    "Using your result from **(b)**, what would you say your current \"Loss\" or \"error\" is? How might you improve/reduce this? What does it mean if the $L_{CE}$ is 0?"
   ]
  },
  {
   "cell_type": "markdown",
   "metadata": {},
   "source": [
    "**JK:** *See submitted pdf of written answers.* "
   ]
  },
  {
   "cell_type": "markdown",
   "metadata": {},
   "source": [
    "# (8) - Play with parameters\n",
    "To reduce the error (or loss), we need to adjust (change) the parameters. Recall that in this case, our parameters are $\\mathbf{w}$ and $b$. If we change the values of $\\mathbf{w}$ and/or $b$, this will result in a change in the $L_{CE}$ and the overall difference between $\\hat{y}$ and $y$.\n",
    "\n",
    "Do this by hand.\n",
    "\n",
    "Change your $\\mathbf{w}$ to values other than 1. Leave $b$ as 0. Recalculate $L_{CE}$.\n",
    "\n",
    "**Show every step and all of your work. Do this by hand. Your $\\mathbf{w}$ values are invented by you.**"
   ]
  },
  {
   "cell_type": "markdown",
   "metadata": {},
   "source": [
    "**JK:** *See submitted pdf of written answers to see step-by-step hand-written calculation.*"
   ]
  },
  {
   "cell_type": "markdown",
   "metadata": {},
   "source": [
    "# (9) - Gradients (aka Jacobian): Partial Derivatives\n",
    "To make changes to parameters, such as $\\mathbf{w}$ and $b$ so that we get closer and closer to the minimum (in other words to optimize the values of $\\mathbf{w}$ and $b$) we need to take the partial derivatives of $L_{CE}$ with respect to both $\\mathbf{w}$ and $b$. The **Jacobian** is a vector or matrix that contains all partial derivatives of a function with respect to all possible parameters. Here, our Jacobian has two values, one for $\\frac{\\partial L_{CE}}{\\partial b}$, where \"$\\partial$\" here is partial derivative."
   ]
  },
  {
   "cell_type": "markdown",
   "metadata": {},
   "source": [
    "## (a)\n",
    "Find the partial derivative of the $L_{CE}$ with respect to $\\mathbf{w}$. **Show all steps and work and use the chain rule. HINT (chain rule): $\\frac{\\partial L_{CE}}{\\partial \\mathbf{w}} = \\frac{\\partial L_{CE}}{\\partial \\hat{y}} * \\frac{\\partial \\hat{y}}{\\partial z} * \\frac{\\partial z}{\\partial \\mathbf{w}}$**\n",
    "\n",
    "HINT2: The two derivatives are:\n",
    "\n",
    "$\\frac{\\partial L_{CE}}{\\partial \\mathbf{w}} = \\frac{1}{n} (\\hat{y}-y)^{\\intercal} \\mathbf{x}$\n",
    "\n",
    "$\\frac{\\partial L_{CE}}{\\partial b} = \\frac{1}{n} (\\hat{y} - y)$\n",
    "\n",
    "You will be graded on the work as you already have the final answer :)"
   ]
  },
  {
   "cell_type": "markdown",
   "metadata": {},
   "source": [
    "**JK:** *See submitted pdf of written answers to see step-by-step hand-written calculation.*"
   ]
  },
  {
   "cell_type": "markdown",
   "metadata": {},
   "source": [
    "## (b)\n",
    "In words, how would you describe the derivatives here? What do that \"mean\"? (3-4 sentences is enough)"
   ]
  },
  {
   "cell_type": "markdown",
   "metadata": {},
   "source": [
    "**JK:** "
   ]
  },
  {
   "cell_type": "markdown",
   "metadata": {},
   "source": [
    "# (10) - Update parameters using Gradient"
   ]
  },
  {
   "cell_type": "markdown",
   "metadata": {},
   "source": [
    "## (a)\n",
    "Using $\\frac{\\partial L_{CE}}{d \\mathbf{w}} = \\frac{1}{n} (\\hat{y}-y)^\\intercal \\mathbf{x}$ and using the original $\\mathbf{w}$ of all ones, calculate and update $\\mathbf{w}$.\n",
    "\n",
    "**Show all of the work and do this by hand vector style** (For now we will assume that the learning rate, `LR`, is 1.)\n",
    "\n",
    "(Example on Canvas assignment page)"
   ]
  },
  {
   "cell_type": "markdown",
   "metadata": {},
   "source": [
    "**JK:** *See submitted pdf of written answers to see step-by-step hand-written calculation.*"
   ]
  },
  {
   "cell_type": "markdown",
   "metadata": {},
   "source": [
    "## (b)\n",
    "Once you update $\\mathbf{w}$ and keeping $b$ as 0, recalculate $L_{CE}$ and compare your new $L_{CE}$ to the original $L_{CE}$. Did it reduce? **Show all work and steps and do this by hand.**"
   ]
  },
  {
   "cell_type": "markdown",
   "metadata": {},
   "source": [
    "**JK:** *See submitted pdf of written answers to see step-by-step hand-written calculation.*"
   ]
  },
  {
   "cell_type": "markdown",
   "metadata": {},
   "source": [
    "# (11) - Code Everything from Scratch\n",
    "Code logistic regression using Python. DO NOT use a \"package\" but rather, code it by hand. Yes you can use simple packages like `NumPy`, etc. You cannot use a Logistic regression package.\n",
    "\n",
    "You must write code that will:\n",
    "\n",
    "(a) Read in any `.csv` labeled dataset where the Label is called \"LABEL\".\n",
    "\n",
    "(b) Your code should create \"$y$\" (the label) as a numpy array of 0 and 1. So, if the labels are originally something POS and NEG, your code will need to determine this, and then update all POS to 1 and all NEG to 0. Your code should be able to do this for any two label options.\n",
    "\n",
    "(c) Your code will also create $X$ which is the entire dataset (without the labels) as a numpy array.\n",
    "\n",
    "(d) Your code will initialize $\\mathbf{w}$ and $b$ and a learning rate. \n",
    "\n",
    "(e) Your code will need to contain a function for Sigmoid and for z, etc.\n",
    "\n",
    "(f) Your code will then need to perform gradient descent to optimize (reduce) $L_{CE}$.\n",
    "\n",
    "(g) Be sure that your code can run interatively for as many epochs as you wish.\n",
    "\n",
    "(h) Show a final confusion matrix (see example below) AND show a graph of how the $L_{CE}$ reduces as epochs iterate (see example on Canvas assignment page).\n",
    "\n",
    "**Recommended:** Use your code to see if your by-hand results from above are right. The goal here is to really understand all the steps, which steps are repeated (epochs), the loss function ($L_{CE}$ here), the activation function (Sigmoid here), updating the parameters, etc.\n",
    "\n",
    "Here is [example code I wrote](https://gatesboltonanalytics.com/?page_id=873). I strongly suggest NOT using this code first - but rather - try to understand the above and write your own code from scratch. If you get stuck, you can use my code as a reference.\n",
    "\n",
    "(All \"I\" and \"my\" are referring to Dr. Gates who wrote the problem.)"
   ]
  },
  {
   "cell_type": "markdown",
   "metadata": {},
   "source": [
    "**Hint:**\n",
    "\n",
    "```\n",
    "cm = confusion_matrix(labels, Prediction)\n",
    "print(cm)\n",
    "ax= plt.subplot()\n",
    "sns.heatmap(cm, annot=True, fmt='g', ax=ax, cmap='Blues')  \n",
    "#annot=True to annotate cells, ftm='g' to disable scientific notation\n",
    "\n",
    "# labels, title and ticks\n",
    "ax.set_xlabel(\"Predicted labels\")\n",
    "ax.set_ylabel(\"True labels\")\n",
    "ax.set_title(\"Confusion Matrix\")\n",
    "ax.xaxis.set_ticklabels([\"Not BB Player\", \"BB Player\"])\n",
    "ax.yaxis.set_ticklabels([\"Not BB Player\", \"BB Player\"])\n",
    "```"
   ]
  },
  {
   "cell_type": "markdown",
   "metadata": {},
   "source": [
    "## Code (nitty-gritty step-by-step, cell-by-cell)"
   ]
  },
  {
   "cell_type": "code",
   "execution_count": 8,
   "metadata": {},
   "outputs": [],
   "source": [
    "# libraries\n",
    "import matplotlib.pyplot as plt\n",
    "import numpy as np\n",
    "import pandas as pd\n",
    "import math\n",
    "from sklearn.preprocessing import LabelEncoder,MinMaxScaler\n",
    "from sklearn.metrics import confusion_matrix  \n",
    "import seaborn as sns"
   ]
  },
  {
   "cell_type": "markdown",
   "metadata": {},
   "source": [
    "### Read data & create X/y"
   ]
  },
  {
   "cell_type": "code",
   "execution_count": 9,
   "metadata": {},
   "outputs": [
    {
     "name": "stdout",
     "output_type": "stream",
     "text": [
      "X:\n",
      " [[22 10 24]\n",
      " [ 5 12 52]\n",
      " [ 3 15 59]\n",
      " [25 11 23]\n",
      " [23 14 21]\n",
      " [ 8 19 54]\n",
      " [ 4 13 57]]\n",
      "Shape of X: (7, 3)\n",
      "\n",
      "y: \n",
      " [[0 1 1 0 0 1 1]]\n",
      "Shape of y: (1, 7)\n"
     ]
    }
   ],
   "source": [
    "df = pd.read_csv('A1_Data_JasmineKobayashi.csv')    # requirement (a)\n",
    "\n",
    "# X matrix\n",
    "X = np.array(df.drop(columns=['LABEL'],axis=1))     # requirement (c)\n",
    "print(\"X:\\n\", X)\n",
    "print(\"Shape of X:\", X.shape)\n",
    "\n",
    "# y\n",
    "encode = LabelEncoder()\n",
    "y = np.array([encode.fit_transform(df['LABEL'])])   # requirement (b)\n",
    "print()\n",
    "print(\"y: \\n\", y)\n",
    "print(\"Shape of y:\", y.shape)\n"
   ]
  },
  {
   "cell_type": "markdown",
   "metadata": {},
   "source": [
    "### Initialize Parameters (weight vector, bias, and Learning Rate)"
   ]
  },
  {
   "cell_type": "code",
   "execution_count": 10,
   "metadata": {},
   "outputs": [
    {
     "name": "stdout",
     "output_type": "stream",
     "text": [
      "weight vector, w: \n",
      " [[1]\n",
      " [1]\n",
      " [1]]\n",
      "Shape of w: (3, 1)\n"
     ]
    }
   ],
   "source": [
    "# initialize  parameters and other variables (requirement (d))\n",
    "\n",
    "## initialize weight vector, w, of all ones\n",
    "w = np.array([[1]]*(df.shape[1] - 1))   # assuming all columns other than LABEL are data columns\n",
    "print(\"weight vector, w: \\n\",w)\n",
    "print(\"Shape of w:\",w.shape)\n",
    "\n",
    "## initialize b = 0\n",
    "b = 0\n",
    "\n",
    "## initialize Learning Rate\n",
    "LR = 1\n"
   ]
  },
  {
   "cell_type": "markdown",
   "metadata": {},
   "source": [
    "### Normalizing (not required)\n",
    "not required for the assignment but helps later on"
   ]
  },
  {
   "cell_type": "code",
   "execution_count": 11,
   "metadata": {},
   "outputs": [
    {
     "name": "stdout",
     "output_type": "stream",
     "text": [
      "Min-max scaled data:\n",
      " [[0.86363636 0.         0.07894737]\n",
      " [0.09090909 0.22222222 0.81578947]\n",
      " [0.         0.55555556 1.        ]\n",
      " [1.         0.11111111 0.05263158]\n",
      " [0.90909091 0.44444444 0.        ]\n",
      " [0.22727273 1.         0.86842105]\n",
      " [0.04545455 0.33333333 0.94736842]]\n",
      "Shape of scaled X: (7, 3)\n"
     ]
    }
   ],
   "source": [
    "# not required, but min-max noramlizing X \n",
    "# (especially to make it comparable with written work)\n",
    "scale_data = True\n",
    "if scale_data:\n",
    "    mm_scaler = MinMaxScaler()\n",
    "    X = mm_scaler.fit_transform(df.drop(columns=\"LABEL\",axis=1))\n",
    "    print(\"Min-max scaled data:\\n\", X)\n",
    "    print(\"Shape of scaled X:\",X.shape)\n"
   ]
  },
  {
   "cell_type": "markdown",
   "metadata": {},
   "source": [
    "### Functions (Linear eq & Sigmoid)"
   ]
  },
  {
   "cell_type": "code",
   "execution_count": 12,
   "metadata": {},
   "outputs": [
    {
     "name": "stdout",
     "output_type": "stream",
     "text": [
      "z: \n",
      " [[0.94258373]\n",
      " [1.12892079]\n",
      " [1.55555556]\n",
      " [1.16374269]\n",
      " [1.35353535]\n",
      " [2.09569378]\n",
      " [1.3261563 ]]\n",
      "Shape of z: (7, 1)\n",
      "\n",
      "S(z) = y^: \n",
      " [[0.71962126]\n",
      " [0.75563968]\n",
      " [0.82571468]\n",
      " [0.76201212]\n",
      " [0.79470701]\n",
      " [0.89048393]\n",
      " [0.79020413]]\n",
      "Shape of y^: (7, 1)\n"
     ]
    }
   ],
   "source": [
    "# Functions (requirement (e))\n",
    "\n",
    "## Linear equation z\n",
    "def lin_eq(X,w,b):       # requires shapes of inputted parameters to be correct\n",
    "    return X @ w + b\n",
    "\n",
    "z = lin_eq(X,w,b)\n",
    "print(\"z: \\n\",z)\n",
    "print(\"Shape of z:\",z.shape)\n",
    "\n",
    "## Sigmoid function\n",
    "def Sigmoid(z):\n",
    "    return 1/(1+math.e**(-z))\n",
    "\n",
    "y_hat = Sigmoid(z)\n",
    "print()\n",
    "print(\"S(z) = y^: \\n\",y_hat)\n",
    "print(\"Shape of y^:\", y_hat.shape)\n"
   ]
  },
  {
   "cell_type": "markdown",
   "metadata": {},
   "source": [
    "### Gradient Descent"
   ]
  },
  {
   "cell_type": "code",
   "execution_count": 13,
   "metadata": {},
   "outputs": [
    {
     "name": "stdout",
     "output_type": "stream",
     "text": [
      "(7, 1)\n",
      "(1, 7)\n",
      "(7, 1) \n",
      "\n",
      "y^-y =\n",
      " [[ 0.71962126]\n",
      " [-0.24436032]\n",
      " [-0.17428532]\n",
      " [ 0.76201212]\n",
      " [ 0.79470701]\n",
      " [-0.10951607]\n",
      " [-0.20979587]]\n",
      "dL/dw = [[ 0.29276048  0.01532795 -0.08151055]] \n",
      "\n",
      "dL/db = [[ 0.10280304]\n",
      " [-0.03490862]\n",
      " [-0.0248979 ]\n",
      " [ 0.10885887]\n",
      " [ 0.11352957]\n",
      " [-0.01564515]\n",
      " [-0.02997084]]\n"
     ]
    }
   ],
   "source": [
    "# Gradient Descent (requirement (f))\n",
    "## Partial derivatives\n",
    "print(y_hat.shape)\n",
    "#print(y_hat)\n",
    "print(y.shape)\n",
    "#print(y.T)\n",
    "print(y.T.shape,\"\\n\")\n",
    "\n",
    "error = y_hat-y.T\n",
    "print(\"y^-y =\\n\",error)\n",
    "\n",
    "### dL/dw = (1/n)(y^-y)*X\n",
    "dL_dw = (1/(df.shape[0]))*(error.T@X)\n",
    "print(\"dL/dw =\",dL_dw,\"\\n\")\n",
    "\n",
    "### dL/db = (1/n)(y^-y)\n",
    "dL_db = (1/(df.shape[0]))*error\n",
    "print(\"dL/db =\",dL_db)\n",
    "### if want a single value for b to use, \n",
    "### there are a number of ways to select which value to use\n",
    "### Dr. Gates used the average in her code (but that's not the only option)\n"
   ]
  },
  {
   "cell_type": "code",
   "execution_count": 14,
   "metadata": {},
   "outputs": [],
   "source": [
    "# functions for ease of gradient descent\n",
    "\n",
    "def grad_desc(y_hat,y,X):\n",
    "    error = y_hat-y.T\n",
    "    m = X.shape[0]\n",
    "    \n",
    "    dL_dw = (1/m)*(error.T@X)\n",
    "    dL_db = (1/m)*error\n",
    "    dL_db = np.mean(dL_db)\n",
    "    return dL_dw.T, dL_db\n",
    "\n"
   ]
  },
  {
   "cell_type": "markdown",
   "metadata": {},
   "source": [
    "### Loss Function (LCE)"
   ]
  },
  {
   "cell_type": "code",
   "execution_count": 15,
   "metadata": {},
   "outputs": [
    {
     "name": "stdout",
     "output_type": "stream",
     "text": [
      "loss = 0.730516772865319\n"
     ]
    }
   ],
   "source": [
    "def LCE(y_hat,y):\n",
    "    m = y_hat.shape[0]\n",
    "    summation = np.sum(y.T*np.log(y_hat)+((1-y.T)*np.log(1-y_hat)))\n",
    "    return (-1/m)*summation\n",
    "\n",
    "print(\"loss =\",LCE(y_hat,y))"
   ]
  },
  {
   "cell_type": "markdown",
   "metadata": {},
   "source": [
    "### Repeat for multiple (# of epochs) iterations"
   ]
  },
  {
   "cell_type": "code",
   "execution_count": 16,
   "metadata": {},
   "outputs": [],
   "source": [
    "epochs = 20\n",
    "\n",
    "Lce_list = []\n",
    "\n",
    "for i in range(epochs):\n",
    "    dL_dw,dL_db = grad_desc(y_hat,y,X)\n",
    "\n",
    "    w = w - LR*dL_dw\n",
    "    b = b - LR*dL_db\n",
    "\n",
    "    z = lin_eq(X,w,b)\n",
    "\n",
    "    y_hat = Sigmoid(z)\n",
    "\n",
    "    Lce_list.append(LCE(y_hat,y))"
   ]
  },
  {
   "cell_type": "markdown",
   "metadata": {},
   "source": [
    "### Visualization (Confusion Matrix and Lce Plot)"
   ]
  },
  {
   "cell_type": "code",
   "execution_count": 17,
   "metadata": {},
   "outputs": [
    {
     "name": "stdout",
     "output_type": "stream",
     "text": [
      "[[0.]\n",
      " [1.]\n",
      " [1.]\n",
      " [0.]\n",
      " [0.]\n",
      " [1.]\n",
      " [1.]]\n"
     ]
    }
   ],
   "source": [
    "prediction = y_hat\n",
    "prediction[y_hat >= .5] = 1\n",
    "prediction[y_hat < .5] = 0\n",
    "print(prediction)"
   ]
  },
  {
   "cell_type": "code",
   "execution_count": 18,
   "metadata": {},
   "outputs": [
    {
     "name": "stdout",
     "output_type": "stream",
     "text": [
      "[[0]\n",
      " [1]\n",
      " [1]\n",
      " [0]\n",
      " [0]\n",
      " [1]\n",
      " [1]]\n"
     ]
    }
   ],
   "source": [
    "labels = y.T\n",
    "print(labels)"
   ]
  },
  {
   "cell_type": "code",
   "execution_count": 19,
   "metadata": {},
   "outputs": [
    {
     "name": "stdout",
     "output_type": "stream",
     "text": [
      "[[3 0]\n",
      " [0 4]]\n"
     ]
    },
    {
     "data": {
      "image/png": "[encoded data removed]",
      "text/plain": [
       "<Figure size 640x480 with 2 Axes>"
      ]
     },
     "metadata": {},
     "output_type": "display_data"
    }
   ],
   "source": [
    "# Confusion matrix (requirement (h))\n",
    "cm = confusion_matrix(labels, prediction)\n",
    "print(cm)\n",
    "plt.figure()\n",
    "ax= plt.subplot()\n",
    "sns.heatmap(cm, annot=True, fmt='g', ax=ax, cmap='Blues')  \n",
    "#annot=True to annotate cells, ftm='g' to disable scientific notation\n",
    "\n",
    "# labels, title and ticks\n",
    "ax.set_xlabel(\"Predicted labels\")\n",
    "ax.set_ylabel(\"True labels\")\n",
    "ax.set_title(\"Confusion Matrix\")\n",
    "ax.xaxis.set_ticklabels([\"0\", \"1\"])\n",
    "ax.yaxis.set_ticklabels([\"0\", \"1\"])\n",
    "plt.show()"
   ]
  },
  {
   "cell_type": "code",
   "execution_count": 20,
   "metadata": {},
   "outputs": [
    {
     "data": {
      "image/png": "[encoded data removed]",
      "text/plain": [
       "<Figure size 640x480 with 1 Axes>"
      ]
     },
     "metadata": {},
     "output_type": "display_data"
    }
   ],
   "source": [
    "# plot of Lce (requirement (h) cont.)\n",
    "plt.figure()\n",
    "plt.plot(np.arange(0,epochs,1),Lce_list,'-')\n",
    "plt.xlabel(\"epochs\")\n",
    "plt.ylabel('Loss')\n",
    "plt.show()"
   ]
  },
  {
   "cell_type": "markdown",
   "metadata": {},
   "source": [
    "## Code via object-oriented python script"
   ]
  },
  {
   "cell_type": "markdown",
   "metadata": {},
   "source": [
    "**JK:** I also created a python script file creating a simple object-oriented code\n",
    "\n",
    "Note: The figures might not show up properly due to the `%matplotlib widget` code I have several code cells above, but if you run the python script in a separate notebook or terminal and run the following code it should work (with some other adjustable parameters). "
   ]
  },
  {
   "cell_type": "code",
   "execution_count": 22,
   "metadata": {},
   "outputs": [
    {
     "name": "stdout",
     "output_type": "stream",
     "text": [
      "finished running all epochs\n",
      "[[3 0]\n",
      " [0 4]]\n"
     ]
    },
    {
     "data": {
      "image/png": "[encoded data removed]",
      "text/plain": [
       "<Figure size 640x480 with 2 Axes>"
      ]
     },
     "metadata": {},
     "output_type": "display_data"
    },
    {
     "data": {
      "image/png": "[encoded data removed]",
      "text/plain": [
       "<Figure size 640x480 with 1 Axes>"
      ]
     },
     "metadata": {},
     "output_type": "display_data"
    }
   ],
   "source": [
    "import HW1_log_reg as lr\n",
    "HW1 = lr.log_reg('A1_Data_JasmineKobayashi.csv',epochs=60,LR=0.5)\n",
    "HW1.run_model(print_all_params=False)"
   ]
  }
 ],
 "metadata": {
  "kernelspec": {
   "display_name": "Python 3 (ipykernel)",
   "language": "python",
   "name": "python3"
  },
  "language_info": {
   "codemirror_mode": {
    "name": "ipython",
    "version": 3
   },
   "file_extension": ".py",
   "mimetype": "text/x-python",
   "name": "python",
   "nbconvert_exporter": "python",
   "pygments_lexer": "ipython3",
   "version": "3.8.18"
  }
 },
 "nbformat": 4,
 "nbformat_minor": 2
}
