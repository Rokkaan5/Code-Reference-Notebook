{
 "cells": [
  {
   "cell_type": "markdown",
   "metadata": {},
   "source": [
    "# What is machine learning?"
   ]
  },
  {
   "cell_type": "markdown",
   "metadata": {},
   "source": [
    "Machine learning is field of study which allows machines(computers) to learn from data or experience and make prediction based on that experience.<br><br>\n",
    "It enables the computers or the machines to make data-driven decisions rather than being explicitly programmed for carrying out a certain task. These programs or algorithms are designed in a way that they learn and improve over time when are exposed to new data."
   ]
  },
  {
   "cell_type": "markdown",
   "metadata": {},
   "source": [
    "# Types of machine learning"
   ]
  },
  {
   "cell_type": "markdown",
   "metadata": {},
   "source": [
    "### Machine learning can be broadly divided into 3 sub categories\n",
    "### 1. Supervised learning - \n",
    "In supervised learning we have a labelled data containing input X and a label Y. In supervised learning our task is to find mapping between the input variable(X) called independent variable and output variable(Y) called dependent variable.#### Supervised learning can further be divided into two type of tasks :-\n",
    "1. Regression - Regression problem is when output variable is continuos and real value. For example price, weight etc\n",
    "2. Classification - Classification is problem when output variable is category, such as “red” or “blue” or “disease” and “no disease”.\n",
    "\n",
    "### 2. Unsupervised learning - \n",
    "Unsupervised learning is where you only have input data (X) and no corresponding output variables.\n",
    "The goal for unsupervised learning is to model the underlying structure or distribution in the data in order to learn more about the data.\n",
    "\n",
    "#### Unsupervised learning can further be divided into two type of tasks :-\n",
    "1. Clustering: A clustering problem is where you want to discover the inherent groupings in the data, such as grouping customers by purchasing behavior.\n",
    "2. Association:  An association rule learning problem is where you want to discover rules that describe large portions of your data, such as people that buy X also tend to buy Y.\n",
    "\n",
    "### 3. Reinforcement learning - \n",
    "Reinforcement learning, in the context of artificial intelligence, is a type of dynamic programming that trains algorithms using a system of reward and punishment.\n",
    "A reinforcement learning algorithm, or agent, learns by interacting with its environment. The agent receives rewards by performing correctly and penalties for performing incorrectly. The agent learns without intervention from a human by maximizing its reward and minimizing its penalty.\n",
    "<br>\n",
    "<br>\n",
    "\n",
    "<img src=\"./images/ml_categories.png\">"
   ]
  },
  {
   "cell_type": "markdown",
   "metadata": {},
   "source": [
    "### We will focus on supervised learning here because majority of application of machine learning are supervised learning."
   ]
  },
  {
   "cell_type": "markdown",
   "metadata": {},
   "source": [
    "I will cover deep learning and discussing only what machine learning is, to learn about various machine learning algorithms refer <a href=\"https://www.analyticsvidhya.com/blog/2017/09/common-machine-learning-algorithms/\">here</a>"
   ]
  },
  {
   "cell_type": "markdown",
   "metadata": {},
   "source": [
    "## What is Deep Learning?\n",
    "Deep Learning is a subfield of machine learning concerned with algorithms inspired by the structure and function of the brain called artificial neural networks.\n",
    "<img src=\"./images/4.jpeg\" style=\"width:600px;height:400px;\">\n",
    "\n",
    "## Why there is hype for deep learning?\n",
    "Neural networks which are the basic building block of deep learning are not new, and even older than most machine learning algorithms. But they were not mainstream in earlier years of its development because of lack of computation power and lack of data. In the year 2012 when a team of researcher won imagenet yearly computer vision competition using convolution neural network for the first time in imagenet competition lead made deep learning mainstream ai. They created alexnet cnn(convolution neural network) architecture, the network achieved a top-5 error of 15.3%, more than 10.8 percentage points lower than that of the runner up. Idea of cnn was not new and it was proposed in year 1998 by Yan Le Cun one of the pioneer of modern ai. In 2012, neural networks due to available computation power and enough data they showed their true potential.\n",
    "\n",
    "<img src=\"./images/3.png\" style=\"width:600px;height:400px;\">\n",
    "\n",
    "## Applications of deep learning: - \n",
    "Applications of deep learning are vast and many of great technologies now use deep learning to improve the task. \n",
    "Some of examples are:- \n",
    "1. Self driving cars\n",
    "2. Voice search and virtual assistants\n",
    "3. Machine translation\n",
    "4. Image caption generation\n",
    "5. Colorization of Black and White Images\n",
    "6. Game playing ai(Open Ai dota bot, google brain alpha go).\n",
    "7. Real time object recognition in image (Google lens).\n",
    "\n",
    "<img src=\"./images/2.jpg\">\n",
    "\n",
    "This list can become huge rather endless. See these links to learn about more applications of deep learning.\n",
    "\n",
    "https://machinelearningmastery.com/inspirational-applications-deep-learning/<br>\n",
    "https://medium.com/@vratulmittal/top-15-deep-learning-applications-that-will-rule-the-world-in-2018-and-beyond-7c6130c43b01<br>\n",
    "http://www.yaronhadad.com/deep-learning-most-amazing-applications/"
   ]
  }
 ],
 "metadata": {
  "kernelspec": {
   "display_name": "Python 3",
   "language": "python",
   "name": "python3"
  },
  "language_info": {
   "codemirror_mode": {
    "name": "ipython",
    "version": 3
   },
   "file_extension": ".py",
   "mimetype": "text/x-python",
   "name": "python",
   "nbconvert_exporter": "python",
   "pygments_lexer": "ipython3",
   "version": "3.6.5"
  }
 },
 "nbformat": 4,
 "nbformat_minor": 2
}
